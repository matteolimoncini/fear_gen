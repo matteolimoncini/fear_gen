{
 "cells": [
  {
   "cell_type": "markdown",
   "source": [
    "# new model solo hr e label"
   ],
   "metadata": {
    "collapsed": false
   }
  },
  {
   "cell_type": "code",
   "execution_count": null,
   "outputs": [],
   "source": [
    "import pymc as pm\n",
    "import aesara.tensor as at\n",
    "import numpy as np\n",
    "import pandas as pd\n",
    "from numpy.random import default_rng\n",
    "from scipy import stats\n",
    "from sklearn.metrics import accuracy_score\n",
    "\n",
    "import extract_correct_csv\n",
    "\n",
    "\n",
    "print(f'PyMC version {pm.__version__}')"
   ],
   "metadata": {
    "collapsed": false
   }
  },
  {
   "cell_type": "code",
   "execution_count": null,
   "outputs": [],
   "source": [
    "RANDOM_SEED = 31415\n",
    "rng = default_rng(RANDOM_SEED)\n",
    "\n",
    "# keep only generalization trials\n",
    "num_trials_to_remove = 48\n",
    "\n",
    "# functions that creates triangular matrices\n",
    "def expand_packed_block_triangular(d, k, packed, diag=None, mtype=\"aesara\"):\n",
    "    # like expand_packed_triangular, but with d > k.\n",
    "    assert mtype in {\"aesara\", \"numpy\"}\n",
    "    assert d >= k\n",
    "\n",
    "    def set_(M, i_, v_):\n",
    "        if mtype == \"aesara\":\n",
    "            return at.set_subtensor(M[i_], v_)\n",
    "        M[i_] = v_\n",
    "        return M\n",
    "\n",
    "    out = at.zeros((d, k), dtype=float) if mtype == \"aesara\" else np.zeros((d, k), dtype=float)\n",
    "    if diag is None:\n",
    "        idxs = np.tril_indices(d, m=k)\n",
    "        out = set_(out, idxs, packed)\n",
    "    else:\n",
    "        idxs = np.tril_indices(d, k=-1, m=k)\n",
    "        out = set_(out, idxs, packed)\n",
    "        idxs = (np.arange(k), np.arange(k))\n",
    "        out = set_(out, idxs, diag)\n",
    "    return out\n",
    "\n",
    "\n",
    "def makeW(d, k, dim_names, name):\n",
    "    # make a W matrix adapted to the data shape\n",
    "    n_od = int(k * d - k * (k - 1) / 2 - k)\n",
    "    # trick: the cumulative sum of z will be positive increasing\n",
    "    z = pm.HalfNormal(\"W_z_\" + name, 1.0, dims=\"latent_columns\")\n",
    "    b = pm.HalfNormal(\"W_b_\" + name, 1.0, shape=(n_od,), dims=\"packed_dim\")\n",
    "    L = expand_packed_block_triangular(d, k, b, at.ones(k))\n",
    "    W = pm.Deterministic(name, at.dot(L, at.diag(at.extra_ops.cumsum(z))), dims=dim_names)\n",
    "    return W\n",
    "\n"
   ],
   "metadata": {
    "collapsed": false
   }
  },
  {
   "cell_type": "code",
   "execution_count": null,
   "outputs": [],
   "source": [
    "sub = 2\n",
    "k = 2\n",
    "\n",
    "# hr data\n",
    "hr = pd.read_csv('data/features_4_2/hr/' + str(sub) + '.csv')\n",
    "hr = hr[num_trials_to_remove:]\n",
    "\n",
    "# pain expectation data\n",
    "string_sub = extract_correct_csv.read_correct_subject_csv(sub)\n",
    "df_ = pd.read_csv('data/LookAtMe_0' + string_sub + '.csv', sep='\\t')\n",
    "df_ = df_[num_trials_to_remove:]\n",
    "label = np.array(list([int(d > 2) for d in df_['rating']]))\n",
    "E = label[:, np.newaxis]\n",
    "E = pd.DataFrame(E)\n",
    "\n",
    "# num trials\n",
    "N = hr.shape[0]\n",
    "\n",
    "TRAIN_PERC = 0.70\n",
    "VAL_PERC = 0.1\n",
    "TEST_PERC = 0.2  # 1-TRAIN_PERC+VAL_PERC\n",
    "N_train = int(N * TRAIN_PERC)\n",
    "N_val = int(N * VAL_PERC)\n",
    "\n",
    "# RANDOM SPLIT\n",
    "\n",
    "hr = hr.sample(frac=1, random_state=0)\n",
    "hr = hr.reset_index(drop=True).to_numpy()\n",
    "\n",
    "e_labels = E.sample(frac=1, random_state=0)\n",
    "e_labels = e_labels.reset_index(drop=True).to_numpy()\n",
    "\n",
    "hr_train = hr[:N_train]\n",
    "e_labels_train = e_labels[:N_train]\n",
    "\n",
    "hr_val = hr[N_train:N_train + N_val]\n",
    "e_labels_val = e_labels[N_train:N_train + N_val]\n",
    "\n",
    "hr_test = hr[N_train + N_val:]\n",
    "e_labels_test = e_labels[N_train + N_val:]\n",
    "\n",
    "# dimensions of each signal\n",
    "d_hr = hr_train.shape[1]\n",
    "d_e = e_labels_train.shape[1]"
   ],
   "metadata": {
    "collapsed": false
   }
  },
  {
   "cell_type": "code",
   "execution_count": null,
   "outputs": [],
   "source": [
    "# model definition\n",
    "with pm.Model() as PPCA_identified:\n",
    "    # model coordinates\n",
    "    PPCA_identified.add_coord(\"latent_columns\", np.arange(k), mutable=True)\n",
    "    PPCA_identified.add_coord(\"rows\", np.arange(N_train), mutable=True)\n",
    "    PPCA_identified.add_coord(\"observed_hr\", np.arange(d_hr), mutable=False)\n",
    "    PPCA_identified.add_coord(\"observed_label\", np.arange(d_e), mutable=False)\n",
    "\n",
    "    hr_data = pm.MutableData(\"hr_data\", hr_train.T, dims=[\"observed_hr\", \"rows\"])\n",
    "\n",
    "    W_hr = makeW(d_hr, k, (\"observed_hr\", \"latent_columns\"), 'W_hr')\n",
    "\n",
    "    W_e = pm.Normal(\"W_e\", dims=[\"observed_label\", \"latent_columns\"])\n",
    "    C = pm.Normal(\"C\", dims=[\"latent_columns\", \"rows\"])\n",
    "\n",
    "    psi_hr = pm.HalfNormal(\"psi_hr\", 1.0)\n",
    "    X_hr = pm.Normal(\"X_hr\", mu=at.dot(W_hr, C), sigma=psi_hr, observed=hr_data, dims=[\"observed_hr\", \"rows\"])\n",
    "\n",
    "    X_e = pm.Bernoulli(\"X_e\", p=pm.math.sigmoid(at.dot(W_e, C)), dims=[\"observed_label\", \"rows\"],\n",
    "                       observed=e_labels_train.T)"
   ],
   "metadata": {
    "collapsed": false
   }
  },
  {
   "cell_type": "code",
   "execution_count": null,
   "outputs": [],
   "source": [
    "gv = pm.model_to_graphviz(PPCA_identified)\n",
    "gv.view('PPCA definitive')"
   ],
   "metadata": {
    "collapsed": false
   }
  },
  {
   "cell_type": "code",
   "execution_count": null,
   "outputs": [],
   "source": [
    "with PPCA_identified:\n",
    "    approx = pm.fit(100000, callbacks=[pm.callbacks.CheckParametersConvergence(tolerance=1e-4)])\n",
    "    trace = approx.sample(1000)"
   ],
   "metadata": {
    "collapsed": false
   }
  },
  {
   "cell_type": "code",
   "execution_count": null,
   "outputs": [],
   "source": [
    "with PPCA_identified:\n",
    "    posterior_predictive = pm.sample_posterior_predictive(\n",
    "        trace, var_names=[\"X_e\"], random_seed=123)\n",
    "\n",
    "e_pred_train = posterior_predictive.posterior_predictive['X_e']\n",
    "e_pred_mode_train = np.squeeze(stats.mode(e_pred_train[0], keepdims=False)[0])[:, np.newaxis]"
   ],
   "metadata": {
    "collapsed": false
   }
  },
  {
   "cell_type": "code",
   "execution_count": null,
   "outputs": [],
   "source": [
    "train_accuracy = accuracy_score(e_pred_mode_train, e_labels_train)\n",
    "train_accuracy"
   ],
   "metadata": {
    "collapsed": false
   }
  },
  {
   "cell_type": "code",
   "execution_count": null,
   "outputs": [],
   "source": [
    "C = trace.posterior['C'][0].to_numpy()\n",
    "C.mean(axis=0).shape"
   ],
   "metadata": {
    "collapsed": false
   }
  },
  {
   "cell_type": "code",
   "execution_count": null,
   "outputs": [],
   "source": [
    "def my_post_predict(trace,hr_val):\n",
    "    whr_ = trace.posterior['W_hr'][0].to_numpy().mean(axis=0)\n",
    "    we_ = trace.posterior['W_e'][0].to_numpy().mean(axis=0)\n",
    "    C_val = np.matmul(np.linalg.pinv(whr_),hr_val.T)\n",
    "    print(C_val.shape)\n",
    "    val_label_gen = np.dot(we_,C_val)\n",
    "    res = np.where(val_label_gen<0,0,1)\n",
    "    return res.T"
   ],
   "metadata": {
    "collapsed": false
   }
  },
  {
   "cell_type": "code",
   "execution_count": null,
   "outputs": [],
   "source": [
    "validation_accuracy_exp = accuracy_score(e_labels_val, my_post_predict(trace,hr_val))\n",
    "validation_accuracy_exp"
   ],
   "metadata": {
    "collapsed": false
   }
  },
  {
   "cell_type": "code",
   "execution_count": null,
   "outputs": [],
   "source": [
    "test_accuracy_exp = accuracy_score(e_labels_test, my_post_predict(trace, hr_test))\n",
    "test_accuracy_exp"
   ],
   "metadata": {
    "collapsed": false
   }
  }
 ],
 "metadata": {
  "kernelspec": {
   "display_name": "Python 3",
   "language": "python",
   "name": "python3"
  },
  "language_info": {
   "codemirror_mode": {
    "name": "ipython",
    "version": 2
   },
   "file_extension": ".py",
   "mimetype": "text/x-python",
   "name": "python",
   "nbconvert_exporter": "python",
   "pygments_lexer": "ipython2",
   "version": "2.7.6"
  }
 },
 "nbformat": 4,
 "nbformat_minor": 0
}
