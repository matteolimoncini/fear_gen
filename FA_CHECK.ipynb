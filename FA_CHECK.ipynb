{
 "cells": [
  {
   "cell_type": "markdown",
   "metadata": {},
   "source": [
    "# new model solo hr e label"
   ]
  },
  {
   "cell_type": "code",
   "execution_count": 1,
   "metadata": {},
   "outputs": [
    {
     "name": "stdout",
     "output_type": "stream",
     "text": [
      "PyMC version 4.2.2\n"
     ]
    }
   ],
   "source": [
    "import pymc as pm\n",
    "import aesara.tensor as at\n",
    "import numpy as np\n",
    "import pandas as pd\n",
    "from numpy.random import default_rng\n",
    "from scipy import stats\n",
    "from sklearn.metrics import accuracy_score\n",
    "\n",
    "import extract_correct_csv\n",
    "\n",
    "\n",
    "print(f'PyMC version {pm.__version__}')"
   ]
  },
  {
   "cell_type": "code",
   "execution_count": 2,
   "metadata": {},
   "outputs": [],
   "source": [
    "RANDOM_SEED = 31415\n",
    "rng = default_rng(RANDOM_SEED)\n",
    "\n",
    "# keep only generalization trials\n",
    "num_trials_to_remove = 48\n",
    "\n",
    "# functions that creates triangular matrices\n",
    "def expand_packed_block_triangular(d, k, packed, diag=None, mtype=\"aesara\"):\n",
    "    # like expand_packed_triangular, but with d > k.\n",
    "    assert mtype in {\"aesara\", \"numpy\"}\n",
    "    assert d >= k\n",
    "\n",
    "    def set_(M, i_, v_):\n",
    "        if mtype == \"aesara\":\n",
    "            return at.set_subtensor(M[i_], v_)\n",
    "        M[i_] = v_\n",
    "        return M\n",
    "\n",
    "    out = at.zeros((d, k), dtype=float) if mtype == \"aesara\" else np.zeros((d, k), dtype=float)\n",
    "    if diag is None:\n",
    "        idxs = np.tril_indices(d, m=k)\n",
    "        out = set_(out, idxs, packed)\n",
    "    else:\n",
    "        idxs = np.tril_indices(d, k=-1, m=k)\n",
    "        out = set_(out, idxs, packed)\n",
    "        idxs = (np.arange(k), np.arange(k))\n",
    "        out = set_(out, idxs, diag)\n",
    "    return out\n",
    "\n",
    "\n",
    "def makeW(d, k, dim_names, name):\n",
    "    # make a W matrix adapted to the data shape\n",
    "    n_od = int(k * d - k * (k - 1) / 2 - k)\n",
    "    # trick: the cumulative sum of z will be positive increasing\n",
    "    z = pm.HalfNormal(\"W_z_\" + name, 1.0, dims=\"latent_columns\")\n",
    "    b = pm.HalfNormal(\"W_b_\" + name, 1.0, shape=(n_od,), dims=\"packed_dim\")\n",
    "    L = expand_packed_block_triangular(d, k, b, at.ones(k))\n",
    "    W = pm.Deterministic(name, at.dot(L, at.diag(at.extra_ops.cumsum(z))), dims=dim_names)\n",
    "    return W\n",
    "\n"
   ]
  },
  {
   "cell_type": "code",
   "execution_count": 3,
   "metadata": {},
   "outputs": [],
   "source": [
    "sub = 2\n",
    "k = 2\n",
    "\n",
    "# hr data\n",
    "hr = pd.read_csv('data_fake/features_4_2/hr/' + str(sub) + '.csv')\n",
    "hr = hr[num_trials_to_remove:]\n",
    "\n",
    "# pain expectation data\n",
    "string_sub = extract_correct_csv.read_correct_subject_csv(sub)\n",
    "df_ = pd.read_csv('data/LookAtMe_0' + string_sub + '.csv', sep='\\t')\n",
    "df_ = df_[num_trials_to_remove:]\n",
    "label = np.array(list([int(d > 2) for d in df_['rating']]))\n",
    "E = label[:, np.newaxis]\n",
    "E = pd.DataFrame(E)\n",
    "\n",
    "# num trials\n",
    "N = hr.shape[0]\n",
    "\n",
    "TRAIN_PERC = 0.70\n",
    "VAL_PERC = 0.1\n",
    "TEST_PERC = 0.2  # 1-TRAIN_PERC+VAL_PERC\n",
    "N_train = int(N * TRAIN_PERC)\n",
    "N_val = int(N * VAL_PERC)\n",
    "\n",
    "# RANDOM SPLIT\n",
    "\n",
    "hr = hr.sample(frac=1, random_state=0)\n",
    "hr = hr.reset_index(drop=True).to_numpy()\n",
    "\n",
    "e_labels = E.sample(frac=1, random_state=0)\n",
    "e_labels = e_labels.reset_index(drop=True).to_numpy()\n",
    "\n",
    "hr_train = hr[:N_train]\n",
    "e_labels_train = e_labels[:N_train]\n",
    "\n",
    "hr_val = hr[N_train:N_train + N_val]\n",
    "e_labels_val = e_labels[N_train:N_train + N_val]\n",
    "\n",
    "hr_test = hr[N_train + N_val:]\n",
    "e_labels_test = e_labels[N_train + N_val:]\n",
    "\n",
    "# dimensions of each signal\n",
    "d_hr = hr_train.shape[1]\n",
    "d_e = e_labels_train.shape[1]"
   ]
  },
  {
   "cell_type": "code",
   "execution_count": 4,
   "metadata": {},
   "outputs": [],
   "source": [
    "# model definition\n",
    "with pm.Model() as PPCA_identified:\n",
    "    # model coordinates\n",
    "    PPCA_identified.add_coord(\"latent_columns\", np.arange(k), mutable=True)\n",
    "    PPCA_identified.add_coord(\"rows\", np.arange(N_train), mutable=True)\n",
    "    PPCA_identified.add_coord(\"observed_hr\", np.arange(d_hr), mutable=False)\n",
    "    PPCA_identified.add_coord(\"observed_label\", np.arange(d_e), mutable=False)\n",
    "\n",
    "    hr_data = pm.MutableData(\"hr_data\", hr_train.T, dims=[\"observed_hr\", \"rows\"])\n",
    "\n",
    "    W_hr = makeW(d_hr, k, (\"observed_hr\", \"latent_columns\"), 'W_hr')\n",
    "\n",
    "    W_e = pm.Normal(\"W_e\", dims=[\"observed_label\", \"latent_columns\"])\n",
    "    C = pm.Normal(\"C\", dims=[\"latent_columns\", \"rows\"])\n",
    "\n",
    "    psi_hr = pm.HalfNormal(\"psi_hr\", 1.0)\n",
    "    X_hr = pm.Normal(\"X_hr\", mu=at.dot(W_hr, C), sigma=psi_hr, observed=hr_data, dims=[\"observed_hr\", \"rows\"])\n",
    "\n",
    "    X_e = pm.Bernoulli(\"X_e\", p=pm.math.sigmoid(at.dot(W_e, C)), dims=[\"observed_label\", \"rows\"],\n",
    "                       observed=e_labels_train.T)"
   ]
  },
  {
   "cell_type": "code",
   "execution_count": 5,
   "metadata": {},
   "outputs": [
    {
     "data": {
      "text/plain": "'PPCA definitive.pdf'"
     },
     "execution_count": 5,
     "metadata": {},
     "output_type": "execute_result"
    }
   ],
   "source": [
    "gv = pm.model_to_graphviz(PPCA_identified)\n",
    "gv.view('PPCA definitive')"
   ]
  },
  {
   "cell_type": "code",
   "execution_count": 6,
   "metadata": {},
   "outputs": [
    {
     "data": {
      "text/plain": "<IPython.core.display.HTML object>",
      "text/html": "\n<style>\n    /* Turns off some styling */\n    progress {\n        /* gets rid of default border in Firefox and Opera. */\n        border: none;\n        /* Needs to be in here for Safari polyfill so background images work as expected. */\n        background-size: auto;\n    }\n    progress:not([value]), progress:not([value])::-webkit-progress-bar {\n        background: repeating-linear-gradient(45deg, #7e7e7e, #7e7e7e 10px, #5c5c5c 10px, #5c5c5c 20px);\n    }\n    .progress-bar-interrupted, .progress-bar-interrupted::-webkit-progress-bar {\n        background: #F44336;\n    }\n</style>\n"
     },
     "metadata": {},
     "output_type": "display_data"
    },
    {
     "data": {
      "text/plain": "<IPython.core.display.HTML object>",
      "text/html": "\n    <div>\n      <progress value='0' class='' max='100000' style='width:300px; height:20px; vertical-align: middle;'></progress>\n      \n    </div>\n    "
     },
     "metadata": {},
     "output_type": "display_data"
    },
    {
     "name": "stderr",
     "output_type": "stream",
     "text": [
      "Finished [100%]: Average Loss = 20,147\n"
     ]
    }
   ],
   "source": [
    "with PPCA_identified:\n",
    "    approx = pm.fit(100000, callbacks=[pm.callbacks.CheckParametersConvergence(tolerance=1e-4)])\n",
    "    trace = approx.sample(1000)"
   ]
  },
  {
   "cell_type": "code",
   "execution_count": 7,
   "metadata": {},
   "outputs": [
    {
     "name": "stderr",
     "output_type": "stream",
     "text": [
      "Sampling: [X_e]\n"
     ]
    },
    {
     "data": {
      "text/plain": "<IPython.core.display.HTML object>",
      "text/html": "\n<style>\n    /* Turns off some styling */\n    progress {\n        /* gets rid of default border in Firefox and Opera. */\n        border: none;\n        /* Needs to be in here for Safari polyfill so background images work as expected. */\n        background-size: auto;\n    }\n    progress:not([value]), progress:not([value])::-webkit-progress-bar {\n        background: repeating-linear-gradient(45deg, #7e7e7e, #7e7e7e 10px, #5c5c5c 10px, #5c5c5c 20px);\n    }\n    .progress-bar-interrupted, .progress-bar-interrupted::-webkit-progress-bar {\n        background: #F44336;\n    }\n</style>\n"
     },
     "metadata": {},
     "output_type": "display_data"
    },
    {
     "data": {
      "text/plain": "<IPython.core.display.HTML object>",
      "text/html": "\n    <div>\n      <progress value='0' class='' max='1000' style='width:300px; height:20px; vertical-align: middle;'></progress>\n      \n    </div>\n    "
     },
     "metadata": {},
     "output_type": "display_data"
    }
   ],
   "source": [
    "with PPCA_identified:\n",
    "    posterior_predictive = pm.sample_posterior_predictive(\n",
    "        trace, var_names=[\"X_e\"], random_seed=123)\n",
    "\n",
    "e_pred_train = posterior_predictive.posterior_predictive['X_e']\n",
    "e_pred_mode_train = np.squeeze(stats.mode(e_pred_train[0], keepdims=False)[0])[:, np.newaxis]"
   ]
  },
  {
   "cell_type": "code",
   "execution_count": 8,
   "metadata": {},
   "outputs": [
    {
     "data": {
      "text/plain": "0.9615384615384616"
     },
     "execution_count": 8,
     "metadata": {},
     "output_type": "execute_result"
    }
   ],
   "source": [
    "train_accuracy = accuracy_score(e_pred_mode_train, e_labels_train)\n",
    "train_accuracy"
   ]
  },
  {
   "cell_type": "code",
   "execution_count": 9,
   "metadata": {},
   "outputs": [
    {
     "data": {
      "text/plain": "(2, 78)"
     },
     "execution_count": 9,
     "metadata": {},
     "output_type": "execute_result"
    }
   ],
   "source": [
    "C = trace.posterior['C'][0].to_numpy()\n",
    "C.mean(axis=0).shape"
   ]
  },
  {
   "cell_type": "code",
   "execution_count": 10,
   "metadata": {},
   "outputs": [],
   "source": [
    "def my_post_predict(trace,hr_val):\n",
    "    whr_ = trace.posterior['W_hr'][0].to_numpy().mean(axis=0)\n",
    "    we_ = trace.posterior['W_e'][0].to_numpy().mean(axis=0)\n",
    "    C_val = np.matmul(np.linalg.pinv(whr_),hr_val.T)\n",
    "    val_label_gen = np.dot(we_,C_val)\n",
    "    res = np.where(val_label_gen<0,0,1)\n",
    "    return res.T"
   ]
  },
  {
   "cell_type": "code",
   "execution_count": 11,
   "metadata": {},
   "outputs": [
    {
     "data": {
      "text/plain": "1.0"
     },
     "execution_count": 11,
     "metadata": {},
     "output_type": "execute_result"
    }
   ],
   "source": [
    "validation_accuracy_exp = accuracy_score(e_labels_val, my_post_predict(trace,hr_val))\n",
    "validation_accuracy_exp"
   ]
  },
  {
   "cell_type": "code",
   "execution_count": 12,
   "metadata": {},
   "outputs": [
    {
     "data": {
      "text/plain": "1.0"
     },
     "execution_count": 12,
     "metadata": {},
     "output_type": "execute_result"
    }
   ],
   "source": [
    "test_accuracy_exp = accuracy_score(e_labels_test, my_post_predict(trace, hr_test))\n",
    "test_accuracy_exp"
   ]
  },
  {
   "cell_type": "code",
   "execution_count": 13,
   "metadata": {},
   "outputs": [],
   "source": [
    "whr_ = trace.posterior['W_hr'][0]\n",
    "C_val = at.dot(np.linalg.pinv(whr_), hr_val.T)"
   ]
  },
  {
   "cell_type": "code",
   "execution_count": 14,
   "metadata": {},
   "outputs": [],
   "source": [
    "we_ = trace.posterior['W_e'][0]\n",
    "val_label_gen = at.matmul(np.array(we_),C_val.eval())\n",
    "label_val = np.where(val_label_gen.eval()<0, 0, 1)\n",
    "label_val = stats.mode(label_val[0], keepdims=False)[0]"
   ]
  },
  {
   "cell_type": "code",
   "execution_count": 15,
   "metadata": {},
   "outputs": [
    {
     "data": {
      "text/plain": "1.0"
     },
     "execution_count": 15,
     "metadata": {},
     "output_type": "execute_result"
    }
   ],
   "source": [
    "accuracy_score(label_val, e_labels_val)"
   ]
  }
 ],
 "metadata": {
  "kernelspec": {
   "display_name": "Python 3 (ipykernel)",
   "language": "python",
   "name": "python3"
  },
  "language_info": {
   "codemirror_mode": {
    "name": "ipython",
    "version": 3
   },
   "file_extension": ".py",
   "mimetype": "text/x-python",
   "name": "python",
   "nbconvert_exporter": "python",
   "pygments_lexer": "ipython3",
   "version": "3.10.6"
  }
 },
 "nbformat": 4,
 "nbformat_minor": 1
}
