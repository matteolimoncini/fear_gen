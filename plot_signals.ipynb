{
 "cells": [
  {
   "cell_type": "code",
   "execution_count": 17,
   "metadata": {
    "collapsed": true
   },
   "outputs": [],
   "source": [
    "import os\n",
    "import matplotlib.pyplot as plt\n",
    "import numpy as np\n",
    "import pandas as pd\n",
    "import extract_correct_csv\n",
    "import neurokit2 as nk\n",
    "import warnings\n",
    "import biosppy\n",
    "from scipy import interpolate\n",
    "\n",
    "\n",
    "warnings.simplefilter(action=\"ignore\", category=FutureWarning)\n",
    "warnings.simplefilter(action=\"ignore\", category=RuntimeWarning)"
   ]
  },
  {
   "cell_type": "code",
   "execution_count": null,
   "outputs": [],
   "source": [
    "columns = list(pd.read_csv('../osfstorage-archive/eye/pupil/Look002_pupil.csv', sep=';', decimal=',').columns)\n",
    "col_ = ['expectancy', 'shock']\n",
    "columns = columns + col_\n",
    "generic_df = pd.DataFrame(columns=columns)\n",
    "cur_sub = extract_correct_csv.read_correct_subject_csv(55)\n",
    "subject = pd.read_csv('data/LookAtMe_0' + cur_sub + '.csv', sep='\\t')\n",
    "pupil_subj = pd.read_csv('../osfstorage-archive/eye/pupil/Look0' + cur_sub + '_pupil.csv', sep=';', decimal=',')\n",
    "expectancy = np.array(list([int(d > 2) for d in subject['rating']]))\n",
    "df_ = pupil_subj.copy(deep=False)\n",
    "df_['expectancy'] = expectancy\n",
    "df_['shock'] = subject['shock']\n",
    "generic_df = pd.concat([generic_df, df_], axis=0)\n",
    "\n",
    "generic_df = generic_df.reset_index().drop(columns=['index'])\n",
    "# removing first 48 trial, keeping only generalization phase\n",
    "generic_df = generic_df[48:]\n",
    "baseline = generic_df.pd1.to_numpy()\n",
    "mean_baseline = np.mean(baseline)\n",
    "X = np.arange(-1, 6, 0.01)\n",
    "# calculating mean and std of pupil diameter for\n",
    "# - low exp and shock\n",
    "df_LE_shock = generic_df[(generic_df.shock == True) & (generic_df.expectancy == 0)]\n",
    "df_LE_shock = df_LE_shock.drop(columns=['trial', 'expectancy', 'shock'])\n",
    "all_mean_1 = df_LE_shock.mean(axis=0)\n",
    "all_conf_1 = df_LE_shock.var(axis=0)\n",
    "\n",
    "# - low exp and no shock\n",
    "df_LE_no_shock = generic_df[(generic_df.shock == False) & (generic_df.expectancy == 0)]\n",
    "df_LE_no_shock = df_LE_no_shock.drop(columns=['trial', 'expectancy', 'shock'])\n",
    "all_mean_2 = df_LE_no_shock.mean(axis=0)\n",
    "all_conf_2 = df_LE_no_shock.std(axis=0)\n",
    "\n",
    "# - high exp and shock\n",
    "df_HE_shock = generic_df[(generic_df.shock == True) & (generic_df.expectancy == 1)]\n",
    "df_HE_shock = df_HE_shock.drop(columns=['trial', 'expectancy', 'shock'])\n",
    "all_mean_3 = df_HE_shock.mean(axis=0)\n",
    "all_conf_3 = df_HE_shock.std(axis=0)\n",
    "\n",
    "# - high exp and no shock\n",
    "df_HE_no_shock = generic_df[(generic_df.shock == False) & (generic_df.expectancy == 1)]\n",
    "df_HE_no_shock = df_HE_no_shock.drop(columns=['trial', 'expectancy', 'shock'])\n",
    "all_mean_4 = df_HE_no_shock.mean(axis=0)\n",
    "all_conf_4 = df_HE_no_shock.std(axis=0)\n",
    "\n",
    "from matplotlib.pyplot import figure\n",
    "\n",
    "figure(figsize=(8, 6))\n",
    "LE_shock_line = plt.plot(X, all_mean_1, 'r-', label='Low exp - shock')\n",
    "LE_shock_fill = plt.fill_between(X, all_mean_1 - all_conf_1, all_mean_1 + all_conf_1, color='r', alpha=0.06)\n",
    "\n",
    "LE_no_line = plt.plot(X, all_mean_2, 'tomato', label='Low exp - no shock')\n",
    "LE_no_fill = plt.fill_between(X, all_mean_2 - all_conf_2, all_mean_2 + all_conf_2, color='tomato', alpha=0.06)\n",
    "\n",
    "HE_shock_line = plt.plot(X, all_mean_3, 'b-', label='High exp - shock')\n",
    "HE_shock_fill = plt.fill_between(X, all_mean_3 - all_conf_3, all_mean_3 + all_conf_3, color='b', alpha=0.06)\n",
    "\n",
    "HE_no_line = plt.plot(X, all_mean_4, 'deepskyblue', label='High exp - no shock')\n",
    "HE_no_fill = plt.fill_between(X, all_mean_4 - all_conf_4, all_mean_4 + all_conf_4, color='deepskyblue', alpha=0.06)\n",
    "plt.axvline(x=5.85, linestyle='--', color='r', lw=1.2)\n",
    "plt.axvline(x=0, linestyle='--', color='darkred', lw=1.2)\n",
    "plt.legend(loc='best')\n",
    "plt.grid(alpha=0.3)\n",
    "plt.xlabel('Trial time')\n",
    "plt.ylabel('Pupil size change')\n",
    "plt.show()"
   ],
   "metadata": {
    "collapsed": false
   }
  },
  {
   "cell_type": "markdown",
   "source": [
    "## All valid subject"
   ],
   "metadata": {
    "collapsed": false
   }
  },
  {
   "cell_type": "code",
   "execution_count": null,
   "outputs": [],
   "source": [
    "valid_subject = extract_correct_csv.extract_only_valid_subject()\n",
    "valid_subject"
   ],
   "metadata": {
    "collapsed": false
   }
  },
  {
   "cell_type": "code",
   "execution_count": null,
   "outputs": [],
   "source": [
    "columns = list(pd.read_csv('../osfstorage-archive/eye/pupil/Look002_pupil.csv', sep=';', decimal=',').columns)\n",
    "col_ = ['expectancy', 'shock']\n",
    "columns = columns + col_"
   ],
   "metadata": {
    "collapsed": false
   }
  },
  {
   "cell_type": "code",
   "execution_count": null,
   "outputs": [],
   "source": [
    "generic_df = pd.DataFrame(columns=columns)\n",
    "for x in valid_subject:\n",
    "    cur_sub = extract_correct_csv.read_correct_subject_csv(x)\n",
    "    subject = pd.read_csv('data/LookAtMe_0'+cur_sub+'.csv', sep='\\t')\n",
    "    pupil_subj = pd.read_csv('../osfstorage-archive/eye/pupil/Look0'+cur_sub+'_pupil.csv', sep=';', decimal=',')\n",
    "    expectancy = np.array(list([int(d > 2) for d in subject['rating']]))\n",
    "    df_ = pupil_subj.copy(deep=False)\n",
    "    df_['expectancy'] = expectancy\n",
    "    df_['shock'] = subject['shock']\n",
    "    generic_df = pd.concat([generic_df, df_], axis=0)\n",
    "\n",
    "generic_df = generic_df.reset_index().drop(columns=['index'])"
   ],
   "metadata": {
    "collapsed": false
   }
  },
  {
   "cell_type": "code",
   "execution_count": null,
   "outputs": [],
   "source": [
    "# removing first 48 trial, keeping only generalization phase\n",
    "generic_df = generic_df[48:]"
   ],
   "metadata": {
    "collapsed": false
   }
  },
  {
   "cell_type": "code",
   "execution_count": null,
   "outputs": [],
   "source": [
    "baseline = generic_df.pd1.to_numpy()\n",
    "mean_baseline = np.mean(baseline)\n",
    "mean_baseline"
   ],
   "metadata": {
    "collapsed": false
   }
  },
  {
   "cell_type": "code",
   "execution_count": null,
   "outputs": [],
   "source": [
    "X = np.arange(-1, 6, 0.01)\n",
    "# calculating mean and std of pupil diameter for\n",
    "# - low exp and shock\n",
    "df_LE_shock = generic_df[(generic_df.shock == True) & (generic_df.expectancy == 0)]\n",
    "df_LE_shock = df_LE_shock.drop(columns=['trial', 'expectancy', 'shock'])\n",
    "all_mean_1 = df_LE_shock.mean(axis=0)\n",
    "all_conf_1 = df_LE_shock.var(axis=0)\n",
    "\n",
    "# - low exp and no shock\n",
    "df_LE_no_shock = generic_df[(generic_df.shock == False) & (generic_df.expectancy == 0)]\n",
    "df_LE_no_shock = df_LE_no_shock.drop(columns=['trial', 'expectancy', 'shock'])\n",
    "all_mean_2 = df_LE_no_shock.mean(axis=0)\n",
    "all_conf_2 = df_LE_no_shock.std(axis=0)\n",
    "\n",
    "# - high exp and shock\n",
    "df_HE_shock = generic_df[(generic_df.shock == True) & (generic_df.expectancy == 1)]\n",
    "df_HE_shock = df_HE_shock.drop(columns=['trial', 'expectancy', 'shock'])\n",
    "all_mean_3 = df_HE_shock.mean(axis=0)\n",
    "all_conf_3 = df_HE_shock.std(axis=0)\n",
    "\n",
    "# - high exp and no shock\n",
    "df_HE_no_shock = generic_df[(generic_df.shock == False) & (generic_df.expectancy == 1)]\n",
    "df_HE_no_shock = df_HE_no_shock.drop(columns=['trial', 'expectancy', 'shock'])\n",
    "all_mean_4 = df_HE_no_shock.mean(axis=0)\n",
    "all_conf_4 = df_HE_no_shock.std(axis=0)\n"
   ],
   "metadata": {
    "collapsed": false
   }
  },
  {
   "cell_type": "code",
   "execution_count": null,
   "outputs": [],
   "source": [
    "from matplotlib.pyplot import figure\n",
    "figure(figsize=(8,6))\n",
    "LE_shock_line = plt.plot(X, all_mean_1, 'r-', label='Low exp - shock')\n",
    "LE_shock_fill = plt.fill_between(X, all_mean_1 - all_conf_1, all_mean_1 + all_conf_1, color = 'r', alpha=0.06)\n",
    "\n",
    "LE_no_line = plt.plot(X, all_mean_2, 'tomato', label='Low exp - no shock')\n",
    "LE_no_fill = plt.fill_between(X, all_mean_2 - all_conf_2, all_mean_2 + all_conf_2, color = 'tomato', alpha=0.06)\n",
    "\n",
    "HE_shock_line = plt.plot(X, all_mean_3, 'b-', label='High exp - shock')\n",
    "HE_shock_fill = plt.fill_between(X, all_mean_3 - all_conf_3, all_mean_3 + all_conf_3, color = 'b', alpha=0.06)\n",
    "\n",
    "HE_no_line = plt.plot(X, all_mean_4, 'deepskyblue', label='High exp - no shock')\n",
    "HE_no_fill = plt.fill_between(X, all_mean_4 - all_conf_4, all_mean_4 + all_conf_4, color = 'deepskyblue', alpha=0.06)\n",
    "plt.axvline(x=5.85, linestyle='--', color='r', lw=1.2)\n",
    "plt.axvline(x=0, linestyle='--', color='darkred', lw=1.2)\n",
    "plt.legend(loc='best')\n",
    "plt.grid(alpha=0.3)\n",
    "plt.xlabel('Trial time')\n",
    "plt.ylabel('Pupil size change')\n",
    "plt.show()"
   ],
   "metadata": {
    "collapsed": false
   }
  },
  {
   "cell_type": "markdown",
   "source": [
    "## Single signal eda"
   ],
   "metadata": {
    "collapsed": false
   }
  },
  {
   "cell_type": "code",
   "execution_count": null,
   "outputs": [],
   "source": [
    "valid_subject = extract_correct_csv.extract_only_valid_subject()\n",
    "\n",
    "not_valid = {4, 43, 45, 50, 55}\n",
    "\n",
    "valid_subject = [ele for ele in valid_subject if ele not in not_valid]"
   ],
   "metadata": {
    "collapsed": false
   }
  },
  {
   "cell_type": "code",
   "execution_count": null,
   "outputs": [],
   "source": [
    "subject = pd.read_csv('data/sync_signals_raw/eda_csv/55_eda.csv')\n",
    "shock_csv = pd.read_csv('output/csv_shock.csv')\n",
    "shock_csv = shock_csv.drop(columns=shock_csv.columns[0])\n",
    "\n",
    "eda_processed = []\n",
    "\n",
    "for x in range(len(subject)):\n",
    "    row = subject.loc[x]\n",
    "    signals, info = nk.eda_process(row, sampling_rate=500)\n",
    "    eda_processed.append(signals['EDA_Phasic'].to_numpy())\n",
    "eda_processed = pd.DataFrame(eda_processed)"
   ],
   "metadata": {
    "collapsed": false
   }
  },
  {
   "cell_type": "code",
   "execution_count": null,
   "outputs": [],
   "source": [
    "df_eda = eda_processed.copy(deep=False)\n",
    "shock_sub = shock_csv[shock_csv.subject==55]\n",
    "expectancy = np.array(list([int(d > 2) for d in shock_sub['rating']]))\n",
    "df_eda['expectancy'] = expectancy\n",
    "df_eda['shock'] = shock_sub['shock'].to_numpy()"
   ],
   "metadata": {
    "collapsed": false
   }
  },
  {
   "cell_type": "code",
   "execution_count": null,
   "outputs": [],
   "source": [
    "X = np.arange(0, 6, 0.002)\n",
    "# calculating mean and std of EDA for\n",
    "# - low exp and shock\n",
    "df_EDA_LE_shock = df_eda[(df_eda.shock == True) & (df_eda.expectancy == 0)].drop(columns=['expectancy', 'shock'])\n",
    "mean_sing_LE_shock = df_EDA_LE_shock.mean(axis=0)\n",
    "conf_sing_LE_shock = df_EDA_LE_shock.std(axis=0)\n",
    "\n",
    "# - low exp and no shock\n",
    "df_EDA_LE_no = df_eda[(df_eda.shock == False) & (df_eda.expectancy == 0)].drop(columns=['expectancy', 'shock'])\n",
    "mean_sing_LE_no= df_EDA_LE_no.mean(axis=0)\n",
    "conf_sing_LE_no = df_EDA_LE_no.std(axis=0)\n",
    "\n",
    "# - high exp and shock\n",
    "df_EDA_HE_shock = df_eda[(df_eda.shock == True) & (df_eda.expectancy == 1)].drop(columns=['expectancy', 'shock'])\n",
    "mean_sing_HE_shock = df_EDA_HE_shock.mean(axis=0)\n",
    "conf_sing_HE_shock = df_EDA_HE_shock.std(axis=0)\n",
    "\n",
    "# - high exp and no shock\n",
    "df_EDA_HE_no = df_eda[(df_eda.shock == False) & (df_eda.expectancy == 1)].drop(columns=['expectancy', 'shock'])\n",
    "mean_sing_HE_no = df_EDA_HE_no.mean(axis=0)\n",
    "conf_sing_HE_no = df_EDA_HE_no.std(axis=0)"
   ],
   "metadata": {
    "collapsed": false
   }
  },
  {
   "cell_type": "code",
   "execution_count": null,
   "outputs": [],
   "source": [
    "plt.plot(X, mean_sing_LE_shock, 'r-', label='Low exp - shock')\n",
    "plt.fill_between(X, mean_sing_LE_shock - conf_sing_LE_shock, mean_sing_LE_shock + conf_sing_LE_shock, color = 'r', alpha=0.06)\n",
    "\n",
    "plt.plot(X, mean_sing_LE_no, 'tomato', label='Low exp - no shock')\n",
    "plt.fill_between(X, mean_sing_LE_no - conf_sing_LE_no, mean_sing_LE_no + conf_sing_LE_no, color = 'tomato', alpha=0.06)\n",
    "\n",
    "plt.plot(X, mean_sing_HE_shock, 'b-', label='High exp - shock')\n",
    "plt.fill_between(X, mean_sing_HE_shock - conf_sing_HE_shock, mean_sing_HE_shock + conf_sing_HE_shock, color = 'b', alpha=0.06)\n",
    "\n",
    "plt.plot(X, mean_sing_HE_no, 'deepskyblue', label='High exp - no shock')\n",
    "plt.fill_between(X, mean_sing_HE_no - conf_sing_HE_no, mean_sing_HE_no + conf_sing_HE_no, color = 'deepskyblue', alpha=0.06)\n",
    "\n",
    "plt.axvline(x=5.85, linestyle='--', color='r', lw=1.2)\n",
    "plt.axvline(x=0, linestyle='--', color='darkred', lw=1.2)\n",
    "plt.legend(loc='best')\n",
    "plt.grid(alpha=0.3)\n",
    "plt.xlabel('Trial time')\n",
    "plt.ylabel('EDA')\n",
    "plt.title(f'Subject number {str(55)}')\n",
    "plt.show()"
   ],
   "metadata": {
    "collapsed": false
   }
  },
  {
   "cell_type": "markdown",
   "source": [
    "## All subjects EDA"
   ],
   "metadata": {
    "collapsed": false
   }
  },
  {
   "cell_type": "code",
   "execution_count": null,
   "outputs": [],
   "source": [
    "columns_eda = list(eda_processed.columns)\n",
    "col_ = ['expectancy', 'shock']\n",
    "columns_eda = columns_eda + col_"
   ],
   "metadata": {
    "collapsed": false
   }
  },
  {
   "cell_type": "code",
   "execution_count": null,
   "outputs": [],
   "source": [
    "shock_csv"
   ],
   "metadata": {
    "collapsed": false
   }
  },
  {
   "cell_type": "code",
   "execution_count": null,
   "outputs": [],
   "source": [
    "global_eda = pd.DataFrame(columns=columns_eda)\n",
    "for i in valid_subject:\n",
    "    subject = pd.read_csv('data/sync_signals_raw/eda_csv/'+str(i)+'_eda.csv')\n",
    "    shock_csv = pd.read_csv('output/csv_shock.csv')\n",
    "    shock = shock_csv.drop(columns=shock_csv.columns[0])\n",
    "    eda_processed = []\n",
    "    for x in range(len(subject)):\n",
    "        row = subject.loc[x]\n",
    "        signals, info = nk.eda_process(row, sampling_rate=500)\n",
    "        eda_processed.append(signals['EDA_Phasic'].to_numpy())\n",
    "    eda_processed = pd.DataFrame(eda_processed)\n",
    "    df_eda_all = eda_processed.copy(deep=False)\n",
    "    shock_sub = shock_csv[shock.subject==i]\n",
    "    expectancy = np.array(list([int(d > 2) for d in shock_sub['rating']]))\n",
    "    df_eda_all['expectancy'] = expectancy\n",
    "    df_eda_all['shock'] = shock_sub['shock'].to_numpy()\n",
    "    global_eda = pd.concat([global_eda, df_eda_all], axis=0)\n"
   ],
   "metadata": {
    "collapsed": false
   }
  },
  {
   "cell_type": "code",
   "execution_count": null,
   "outputs": [],
   "source": [
    "# calculating mean and std of EDA for\n",
    "# - low exp and shock\n",
    "df_EDA_LE_shock = global_eda[(global_eda.shock == True) & (global_eda.expectancy == 0)].drop(columns=['expectancy', 'shock'])\n",
    "mean_all_LE_shock = df_EDA_LE_shock.mean(axis=0)\n",
    "conf_all_LE_shock = df_EDA_LE_shock.std(axis=0)\n",
    "\n",
    "# - low exp and no shock\n",
    "df_EDA_LE_no = global_eda[(global_eda.shock == False) & (global_eda.expectancy == 0)].drop(columns=['expectancy', 'shock'])\n",
    "mean_all_LE_no= df_EDA_LE_no.mean(axis=0)\n",
    "conf_all_LE_no = df_EDA_LE_no.std(axis=0)\n",
    "\n",
    "# - high exp and shock\n",
    "df_EDA_HE_shock = global_eda[(global_eda.shock == True) & (global_eda.expectancy == 1)].drop(columns=['expectancy', 'shock'])\n",
    "mean_all_HE_shock = df_EDA_HE_shock.mean(axis=0)\n",
    "conf_all_HE_shock = df_EDA_HE_shock.std(axis=0)\n",
    "\n",
    "# - high exp and no shock\n",
    "df_EDA_HE_no = global_eda[(global_eda.shock == False) & (global_eda.expectancy == 1)].drop(columns=['expectancy', 'shock'])\n",
    "mean_all_HE_no = df_EDA_HE_no.mean(axis=0)\n",
    "conf_all_HE_no = df_EDA_HE_no.std(axis=0)"
   ],
   "metadata": {
    "collapsed": false
   }
  },
  {
   "cell_type": "code",
   "execution_count": null,
   "outputs": [],
   "source": [
    "global_eda[(global_eda.shock == False) & (global_eda.expectancy == 1)]"
   ],
   "metadata": {
    "collapsed": false
   }
  },
  {
   "cell_type": "code",
   "execution_count": null,
   "outputs": [],
   "source": [
    "plt.plot(X, mean_all_LE_shock, 'r-', label='Low exp - shock')\n",
    "plt.fill_between(X, mean_all_LE_shock - conf_all_LE_shock, mean_all_LE_shock + conf_all_LE_shock, color = 'r', alpha=0.06)\n",
    "\n",
    "plt.plot(X, mean_all_LE_no, 'tomato', label='Low exp - no shock')\n",
    "plt.fill_between(X, mean_all_LE_no - conf_all_LE_no, mean_all_LE_no + conf_all_LE_no, color = 'tomato', alpha=0.06)\n",
    "\n",
    "plt.plot(X, mean_all_HE_shock, 'b-', label='High exp - shock')\n",
    "plt.fill_between(X, mean_all_HE_shock - conf_all_HE_shock, mean_all_HE_shock + conf_all_HE_shock, color = 'b', alpha=0.06)\n",
    "\n",
    "plt.plot(X, mean_all_HE_no, 'deepskyblue', label='High exp - no shock')\n",
    "plt.fill_between(X, mean_all_HE_no - conf_all_HE_no, mean_all_HE_no + conf_all_HE_no, color = 'deepskyblue', alpha=0.06)\n",
    "\n",
    "plt.axvline(x=5.85, linestyle='--', color='r', lw=1.2)\n",
    "plt.axvline(x=0, linestyle='--', color='darkred', lw=1.2)\n",
    "plt.legend(loc='best')\n",
    "plt.grid(alpha=0.3)\n",
    "plt.xlabel('Trial time')\n",
    "plt.ylabel('EDA')\n",
    "plt.show()"
   ],
   "metadata": {
    "collapsed": false
   }
  },
  {
   "cell_type": "markdown",
   "source": [
    "## Plot signal single subject EDA fake"
   ],
   "metadata": {
    "collapsed": false
   }
  },
  {
   "cell_type": "code",
   "execution_count": null,
   "outputs": [],
   "source": [
    "fake_single = pd.read_csv('data_fake/eda_csv/2_eda.csv')\n",
    "\n",
    "eda_processed = []\n",
    "for x in range(len(fake_single)):\n",
    "    row = fake_single.loc[x]\n",
    "    signals, info = nk.eda_process(row, sampling_rate=500)\n",
    "    eda_processed.append(signals['EDA_Phasic'].to_numpy())\n",
    "eda_processed = pd.DataFrame(eda_processed)"
   ],
   "metadata": {
    "collapsed": false
   }
  },
  {
   "cell_type": "code",
   "execution_count": null,
   "outputs": [],
   "source": [
    "df_eda_fake = eda_processed.copy(deep=False)\n",
    "shock_sub = shock_csv[shock_csv.subject==2]\n",
    "expectancy = np.array(list([int(d > 2) for d in shock_sub['rating']]))\n",
    "df_eda_fake['expectancy'] = expectancy"
   ],
   "metadata": {
    "collapsed": false
   }
  },
  {
   "cell_type": "code",
   "execution_count": null,
   "outputs": [],
   "source": [
    "# low exp\n",
    "low_exp = df_eda_fake[df_eda_fake.expectancy == 0].drop(columns=['expectancy'])\n",
    "mean_low_exp = low_exp.mean(axis=0)\n",
    "var_low_exp = low_exp.std(axis=0)\n",
    "\n",
    "# high exp\n",
    "high_exp = df_eda_fake[df_eda_fake.expectancy == 1].drop(columns=['expectancy'])\n",
    "mean_high_exp = high_exp.mean(axis=0)\n",
    "var_high_exp = high_exp.std(axis=0)"
   ],
   "metadata": {
    "collapsed": false
   }
  },
  {
   "cell_type": "code",
   "execution_count": null,
   "outputs": [],
   "source": [
    "X = np.arange(0, 6, 0.002)\n",
    "\n",
    "plt.plot(X, mean_low_exp, 'b-', label='low exp')\n",
    "plt.fill_between(X, mean_low_exp-var_low_exp, mean_low_exp+var_low_exp, color='b', alpha=0.07)\n",
    "\n",
    "plt.plot(X, mean_high_exp, 'r-', label='high exp')\n",
    "plt.fill_between(X, mean_high_exp-var_high_exp, mean_high_exp+var_high_exp, color='r', alpha=0.07)\n",
    "plt.legend()\n",
    "plt.show()"
   ],
   "metadata": {
    "collapsed": false
   }
  },
  {
   "cell_type": "markdown",
   "source": [
    "## Factor analysis plot\n",
    "\n",
    "### Real data"
   ],
   "metadata": {
    "collapsed": false
   }
  },
  {
   "cell_type": "code",
   "execution_count": null,
   "outputs": [],
   "source": [
    "def subplot_(dataframe):\n",
    "    results = pd.read_csv(dataframe)\n",
    "    subject_unique = results.subject.unique()\n",
    "\n",
    "    nrows = 4\n",
    "    ncols = 4\n",
    "    fig, ax = plt.subplots(nrows, ncols, figsize = (20, 20))\n",
    "\n",
    "    index = 0\n",
    "    for i in range(nrows):\n",
    "        for j in range(ncols):\n",
    "            Y_index = results[results.subject==subject_unique[index]]\n",
    "            train = Y_index.train\n",
    "            val = Y_index.val\n",
    "            test = Y_index.test\n",
    "            ax[i][j].plot(Y_index.k, train, label='train')\n",
    "            ax[i][j].plot(Y_index.k, val, label='validation')\n",
    "            ax[i][j].plot(Y_index.k, test, label='test')\n",
    "            ax[i][j].set_title(f\"Subject {subject_unique[index]}\")\n",
    "            ax[i][j].legend()\n",
    "            index = index+1"
   ],
   "metadata": {
    "collapsed": false
   }
  },
  {
   "cell_type": "code",
   "execution_count": null,
   "outputs": [],
   "source": [
    "def plot_allsubjects(dataframe):\n",
    "    results = pd.read_csv(dataframe)\n",
    "    X = results.k.unique()\n",
    "\n",
    "    Y_all_mean = results.groupby(results.k).mean()\n",
    "    Y_all_std = results.groupby(results.k).std()\n",
    "    if 'complete' not in dataframe:\n",
    "        Y_all_mean = Y_all_mean.drop(columns=['subject'])\n",
    "        Y_all_std = Y_all_std.drop(columns=['subject'])\n",
    "\n",
    "    train_mean = Y_all_mean['train']\n",
    "    val_mean = Y_all_mean['val']\n",
    "    test_mean = Y_all_mean['test']\n",
    "\n",
    "    train_std = Y_all_std['train']\n",
    "    val_std = Y_all_std['val']\n",
    "    test_std = Y_all_std['test']\n",
    "    plt.plot(X, train_mean, 'b-', label='train')\n",
    "    plt.fill_between(X, train_mean-train_std, train_mean+train_std, color='b', alpha=0.07)\n",
    "\n",
    "    plt.plot(X, val_mean, 'r-', label='validation')\n",
    "    plt.fill_between(X, val_mean-val_std, val_mean+val_std, color='r', alpha=0.07)\n",
    "\n",
    "    plt.plot(X, test_mean, 'orange', label='test')\n",
    "    plt.fill_between(X, test_mean-test_std, test_mean+test_std, color='orange', alpha=0.07)\n",
    "    plt.title(dataframe)\n",
    "\n",
    "    plt.legend()\n",
    "    plt.show()"
   ],
   "metadata": {
    "collapsed": false
   }
  },
  {
   "cell_type": "code",
   "execution_count": null,
   "outputs": [],
   "source": [
    "subplot_('output/FA/FA.csv')"
   ],
   "metadata": {
    "collapsed": false
   }
  },
  {
   "cell_type": "code",
   "execution_count": null,
   "outputs": [],
   "source": [
    "plot_allsubjects('output/FA/FA.csv')"
   ],
   "metadata": {
    "collapsed": false
   }
  },
  {
   "cell_type": "markdown",
   "source": [
    "### Fake data"
   ],
   "metadata": {
    "collapsed": false
   }
  },
  {
   "cell_type": "code",
   "execution_count": null,
   "outputs": [],
   "source": [
    "subplot_('output/FA/FAFake.csv')"
   ],
   "metadata": {
    "collapsed": false
   }
  },
  {
   "cell_type": "code",
   "execution_count": null,
   "outputs": [],
   "source": [
    "plot_allsubjects('output/FA/FAFake.csv')"
   ],
   "metadata": {
    "collapsed": false
   }
  },
  {
   "cell_type": "markdown",
   "source": [
    "## Complete pooling plot\n",
    "### Real"
   ],
   "metadata": {
    "collapsed": false
   }
  },
  {
   "cell_type": "code",
   "execution_count": null,
   "outputs": [],
   "source": [
    "plot_allsubjects('output/FA/FA_complete.csv')"
   ],
   "metadata": {
    "collapsed": false
   }
  },
  {
   "cell_type": "markdown",
   "source": [
    "### Fake data"
   ],
   "metadata": {
    "collapsed": false
   }
  },
  {
   "cell_type": "code",
   "execution_count": null,
   "outputs": [],
   "source": [
    "plot_allsubjects('output/FA/FAFake_complete.csv')"
   ],
   "metadata": {
    "collapsed": false
   }
  },
  {
   "cell_type": "markdown",
   "source": [
    "### Plot features (HR)"
   ],
   "metadata": {
    "collapsed": false
   }
  },
  {
   "cell_type": "code",
   "execution_count": null,
   "outputs": [],
   "source": [
    "shock_csv = pd.read_csv('output/csv_shock.csv')\n",
    "valid_subject = extract_correct_csv.extract_only_valid_subject()"
   ],
   "metadata": {
    "collapsed": false
   }
  },
  {
   "cell_type": "code",
   "execution_count": null,
   "outputs": [],
   "source": [
    "general_features = pd.DataFrame()\n",
    "for x in valid_subject:\n",
    "    feature_x = pd.read_csv('data/features_4_2/hr/'+str(x)+'.csv')\n",
    "    shock_sub = shock_csv[shock_csv['subject']==x]\n",
    "    expectancy = np.array(list([int(d > 2) for d in shock_sub['rating']]))\n",
    "    df_copy = feature_x.copy(deep=False)\n",
    "    df_copy['expectancy'] = expectancy\n",
    "    df_copy['subject'] = shock_sub.subject.to_numpy()\n",
    "    df_copy['shock'] = shock_sub['shock'].to_numpy()\n",
    "    if general_features.empty:\n",
    "        general_features = df_copy\n",
    "    else:\n",
    "        general_features = pd.concat([general_features, df_copy], axis=0)"
   ],
   "metadata": {
    "collapsed": false
   }
  },
  {
   "cell_type": "code",
   "execution_count": null,
   "outputs": [],
   "source": [
    "X = np.arange(0, 24)\n",
    "\n",
    "# low exp and shock\n",
    "\n",
    "LE_mean = general_features[general_features.expectancy == 0 & (general_features.shock == True)].drop(columns=['expectancy', 'subject','shock']).mean()\n",
    "LE_std = general_features[general_features.expectancy == 0 & (general_features.shock == True)].drop(columns=['expectancy', 'subject','shock']).std()\n",
    "\n",
    "# low exp and no shock\n",
    "\n",
    "LE_mean_no = general_features[general_features.expectancy == 0 & (general_features.shock == False)].drop(columns=['expectancy', 'subject','shock']).mean()\n",
    "LE_std_no = general_features[general_features.expectancy == 0 & (general_features.shock == False)].drop(columns=['expectancy', 'subject','shock']).std()\n",
    "\n",
    "# high exp and shock\n",
    "HE_mean = general_features[general_features.expectancy == 1 & (general_features.shock == True)].drop(columns=['expectancy', 'subject','shock']).mean()\n",
    "HE_std = general_features[general_features.expectancy == 1 & (general_features.shock == True)].drop(columns=['expectancy', 'subject','shock']).std()\n",
    "\n",
    "# high exp and no shock\n",
    "HE_mean_no = general_features[general_features.expectancy == 1 & (general_features.shock == False)].drop(columns=['expectancy', 'subject','shock']).mean()\n",
    "HE_std_no = general_features[general_features.expectancy == 1 & (general_features.shock == False)].drop(columns=['expectancy', 'subject','shock']).std()"
   ],
   "metadata": {
    "collapsed": false
   }
  },
  {
   "cell_type": "code",
   "execution_count": null,
   "outputs": [],
   "source": [
    "plt.plot(X, LE_mean, 'b-', label='low exp shock')\n",
    "#plt.fill_between(X, LE_mean+LE_std, LE_mean-LE_std, color='b', alpha=0.07)\n",
    "\n",
    "plt.plot(X, LE_mean_no, 'deepskyblue', label='low exp - no shock')\n",
    "#plt.fill_between(X, LE_mean_no+LE_std_no, LE_mean_no-LE_std_no, color='deepskyblue', alpha=0.07)\n",
    "\n",
    "\n",
    "plt.plot(X, HE_mean, 'r-', label='High exp and shock')\n",
    "#plt.fill_between(X, HE_mean-HE_std, HE_mean+HE_std, color='r', alpha=0.07)\n",
    "\n",
    "plt.plot(X, HE_mean_no, 'tomato', label='High exp and no shock')\n",
    "#plt.fill_between(X, HE_mean_no-HE_std_no, HE_mean_no+HE_std_no, color='tomato', alpha=0.07)\n",
    "plt.legend()\n",
    "plt.title('Real data')\n",
    "\n",
    "plt.show()"
   ],
   "metadata": {
    "collapsed": false
   }
  },
  {
   "cell_type": "code",
   "execution_count": null,
   "outputs": [],
   "source": [
    "# fake dati\n",
    "general_features = pd.DataFrame()\n",
    "valid_subject=extract_correct_csv.extract_only_valid_subject()\n",
    "valid_subject.remove(49)\n",
    "for x in valid_subject:\n",
    "    feature_x = pd.read_csv('data_fake/features_4_2/hr/'+str(x)+'.csv')\n",
    "    shock_sub = shock_csv[shock_csv['subject']==x]\n",
    "    expectancy = np.array(list([int(d > 2) for d in shock_sub['rating']]))\n",
    "    df_copy = feature_x.copy(deep=False)\n",
    "    df_copy['expectancy'] = expectancy\n",
    "    df_copy['subject'] = shock_sub.subject.to_numpy()\n",
    "    if general_features.empty:\n",
    "        general_features = df_copy\n",
    "    else:\n",
    "        general_features = pd.concat([general_features, df_copy], axis=0)\n"
   ],
   "metadata": {
    "collapsed": false
   }
  },
  {
   "cell_type": "code",
   "execution_count": null,
   "outputs": [],
   "source": [
    "LE_mean = general_features[general_features.expectancy == 0].drop(columns=['expectancy', 'subject']).mean()\n",
    "LE_std = general_features[general_features.expectancy == 0].drop(columns=['expectancy', 'subject']).std()\n",
    "\n",
    "HE_mean = general_features[general_features.expectancy == 1].drop(columns=['expectancy', 'subject']).mean()\n",
    "HE_std = general_features[general_features.expectancy == 1].drop(columns=['expectancy', 'subject']).std()\n",
    "plt.plot(X, LE_mean, 'b-', label='low exp')\n",
    "plt.fill_between(X, LE_mean + LE_std, LE_mean - LE_std, color='b', alpha=0.07)\n",
    "\n",
    "plt.plot(X, HE_mean, 'r-', label='high exp')\n",
    "plt.fill_between(X, HE_mean - HE_std, HE_mean + HE_std, color='r', alpha=0.07)\n",
    "\n",
    "plt.legend()\n",
    "plt.title('Fake data')\n",
    "plt.show()"
   ],
   "metadata": {
    "collapsed": false
   }
  },
  {
   "cell_type": "markdown",
   "source": [
    "Plot new FA with correct posterior predictive"
   ],
   "metadata": {
    "collapsed": false
   }
  },
  {
   "cell_type": "code",
   "execution_count": null,
   "outputs": [],
   "source": [
    "new_post_pred = pd.read_csv('output/FA/FA_new_postpred.csv')\n",
    "X = np.array(new_post_pred.k.unique())\n",
    "y_ = new_post_pred.drop(columns=['subject']).groupby(by='k').mean()\n",
    "y_1 = y_['train'].values\n",
    "y_2 = y_['val'].values\n",
    "y_3 = y_['test'].values\n"
   ],
   "metadata": {
    "collapsed": false
   }
  },
  {
   "cell_type": "code",
   "execution_count": null,
   "outputs": [],
   "source": [
    "plt.plot(X, y_1, label='train')\n",
    "plt.plot(X, y_2, label='val')\n",
    "plt.plot(X, y_3, label='test')\n",
    "plt.legend()\n",
    "plt.show()"
   ],
   "metadata": {
    "collapsed": false
   }
  },
  {
   "cell_type": "code",
   "execution_count": null,
   "outputs": [],
   "source": [
    "results_mono_features = pd.read_csv('output/FA/ResultsMonoFeatures.csv')"
   ],
   "metadata": {
    "collapsed": false
   }
  },
  {
   "cell_type": "code",
   "execution_count": null,
   "outputs": [],
   "source": [
    "results_mono_features[results_mono_features['Subject']==43]"
   ],
   "metadata": {
    "collapsed": false
   }
  },
  {
   "cell_type": "code",
   "execution_count": null,
   "outputs": [],
   "source": [
    "unpooled_results = pd.read_csv('output/FA/FA_new_postpred.csv')\n",
    "unpooled_results"
   ],
   "metadata": {
    "collapsed": false
   }
  },
  {
   "cell_type": "markdown",
   "source": [
    "## Cross validation results"
   ],
   "metadata": {
    "collapsed": false
   }
  },
  {
   "cell_type": "code",
   "execution_count": null,
   "outputs": [],
   "source": [
    "normalize_all = pd.read_csv('output/FA/FA_new_postpred_cv_norm.csv')\n",
    "normalize_mono = pd.read_csv('output/FA/FA_new_postpred_cv_norm_monophysio.csv')\n",
    "normalize_all"
   ],
   "metadata": {
    "collapsed": false
   }
  },
  {
   "cell_type": "code",
   "execution_count": null,
   "outputs": [],
   "source": [
    "columns = ['subject', 'fold']\n",
    "normalize_mono[normalize_mono[\"subject\"]==43].drop(columns=columns).groupby(by=['feature', 'k'], as_index=False).mean()"
   ],
   "metadata": {
    "collapsed": false
   }
  },
  {
   "cell_type": "code",
   "execution_count": null,
   "outputs": [],
   "source": [
    "train_mean = normalize_all.drop(columns=columns).groupby(by='k').mean()['train']\n",
    "test_mean = normalize_all.drop(columns=columns).groupby(by='k').mean()['test']\n",
    "train_var = normalize_all.drop(columns=columns).groupby(by='k').std()['train']\n",
    "test_var = normalize_all.drop(columns=columns).groupby(by='k').std()['test']"
   ],
   "metadata": {
    "collapsed": false
   }
  },
  {
   "cell_type": "code",
   "execution_count": null,
   "outputs": [],
   "source": [
    "X = normalize_all.k.unique()\n",
    "\n",
    "mean_1 = plt.plot(X, train_mean, 'b-', label='training mean')\n",
    "var_1 = plt.fill_between(X, train_mean+train_var, train_mean-train_var, color='b', alpha=0.06)\n",
    "\n",
    "mean_2 = plt.plot(X, test_mean, 'r-', label='test mean')\n",
    "var_2 = plt.fill_between(X, test_mean+test_var, test_mean-test_var, color='r', alpha=0.06)\n",
    "plt.xlabel('K')\n",
    "plt.ylabel('Accuracy')\n",
    "plt.title('Accuracy plot with all signals normalized with 3fold cross val')\n",
    "plt.xticks(X)\n",
    "plt.legend()\n",
    "plt.show()"
   ],
   "metadata": {
    "collapsed": false
   }
  },
  {
   "cell_type": "code",
   "execution_count": null,
   "outputs": [],
   "source": [
    "grouped_df = normalize_mono.drop(columns=columns).groupby(by=['feature', 'k'], as_index=False).mean()\n",
    "grouped_df_std = normalize_mono.drop(columns=columns).groupby(by=['feature', 'k'], as_index=False).std()\n",
    "\n",
    "hr_ = np.array(grouped_df[grouped_df['feature'] == 'hr'].train)\n",
    "eda_ = np.array(grouped_df[grouped_df['feature'] == 'eda'].train)\n",
    "pupil_ = np.array(grouped_df[grouped_df['feature'] == 'pupil'].train)\n",
    "\n",
    "hr_std = np.array(grouped_df_std[grouped_df['feature'] == 'hr'].train)\n",
    "eda_std = np.array(grouped_df_std[grouped_df['feature'] == 'eda'].train)\n",
    "pupil_std = np.array(grouped_df_std[grouped_df['feature'] == 'pupil'].train)\n",
    "\n",
    "hr_test = np.array(grouped_df[grouped_df['feature'] == 'hr'].test)\n",
    "eda_test = np.array(grouped_df[grouped_df['feature'] == 'eda'].test)\n",
    "pupil_test = np.array(grouped_df[grouped_df['feature'] == 'pupil'].test)\n",
    "\n",
    "hr_std_test = np.array(grouped_df_std[grouped_df['feature'] == 'hr'].test)\n",
    "eda_std_test = np.array(grouped_df_std[grouped_df['feature'] == 'eda'].test)\n",
    "pupil_std_test = np.array(grouped_df_std[grouped_df['feature'] == 'pupil'].test)"
   ],
   "metadata": {
    "collapsed": false
   }
  },
  {
   "cell_type": "code",
   "execution_count": null,
   "outputs": [],
   "source": [
    "print('train mean of hr increasing k\\n',hr_)\n",
    "print('test mean of hr increasing k\\n',hr_test)"
   ],
   "metadata": {
    "collapsed": false
   }
  },
  {
   "cell_type": "code",
   "execution_count": null,
   "outputs": [],
   "source": [
    "print('train mean of eda increasing k\\n',eda_)\n",
    "print('test mean of eda increasing k\\n',eda_test)"
   ],
   "metadata": {
    "collapsed": false
   }
  },
  {
   "cell_type": "code",
   "execution_count": null,
   "outputs": [],
   "source": [
    "print('train mean of pupil increasing k\\n',pupil_)\n",
    "print('test mean of pupil increasing k\\n',pupil_test)"
   ],
   "metadata": {
    "collapsed": false
   }
  },
  {
   "cell_type": "code",
   "execution_count": null,
   "outputs": [],
   "source": [
    "fig = plt.figure(figsize=(10,8))\n",
    "\n",
    "ax = fig.add_subplot(111)\n",
    "ax1 = fig.add_subplot(311)\n",
    "ax2 = fig.add_subplot(312)\n",
    "ax3 = fig.add_subplot(313)\n",
    "\n",
    "ax1.plot(X, hr_, 'b-', label='hr train')\n",
    "ax1.fill_between(X, hr_-hr_std, hr_+hr_std, color='b', alpha=0.06)\n",
    "ax1.plot(X, hr_test, 'r-', label='hr test')\n",
    "ax1.fill_between(X, hr_test-hr_std_test, hr_test+hr_std_test, color='r', alpha=0.06)\n",
    "ax1.set_xticks(X)\n",
    "ax1.legend(loc='upper left')\n",
    "\n",
    "ax2.plot(X, eda_, 'b-', label='eda train')\n",
    "ax2.fill_between(X, eda_-eda_std, eda_+eda_std, color='b', alpha=0.06)\n",
    "ax2.plot(X, eda_test, 'r-', label='eda test')\n",
    "ax2.fill_between(X, eda_test-eda_std_test, eda_test+eda_std_test, color='r', alpha=0.06)\n",
    "ax2.set_xticks(X)\n",
    "ax2.legend(loc='upper left')\n",
    "\n",
    "ax3.plot(X, pupil_, 'b-', label='pupil train')\n",
    "ax3.fill_between(X, pupil_-pupil_std, pupil_+pupil_std, color='b', alpha=0.06)\n",
    "ax3.plot(X, pupil_test, 'r-', label='pupil test')\n",
    "ax3.fill_between(X, pupil_test-pupil_std_test, pupil_test+pupil_std_test, color='r', alpha=0.06)\n",
    "ax3.set_xticks(X)\n",
    "ax3.legend(loc='upper left')\n",
    "\n",
    "ax.tick_params(labelcolor='w', top=False, bottom=False, left=False, right=False)\n",
    "ax.set_xlabel('k')\n",
    "ax.set_ylabel('Accuracy')\n",
    "ax.set_title('Accuracy plot single signal normalized with 3fold cross val')\n",
    "plt.show()\n",
    "\n"
   ],
   "metadata": {
    "collapsed": false
   }
  },
  {
   "cell_type": "markdown",
   "source": [
    "## Logistic regression"
   ],
   "metadata": {
    "collapsed": false
   }
  },
  {
   "cell_type": "code",
   "execution_count": null,
   "outputs": [],
   "source": [
    "reg_mono = pd.read_csv('output/Regression.csv')\n",
    "reg_all = pd.read_csv('output/Regression_All_Physio.csv')"
   ],
   "metadata": {
    "collapsed": false
   }
  },
  {
   "cell_type": "code",
   "execution_count": null,
   "outputs": [],
   "source": [
    "mean_regr=reg_mono.drop(columns=columns).groupby(by='type', as_index=False).mean()\n",
    "var_regr=reg_mono.drop(columns=columns).groupby(by='type', as_index=False).var()\n",
    "mean_regr"
   ],
   "metadata": {
    "collapsed": false
   }
  },
  {
   "cell_type": "code",
   "execution_count": null,
   "outputs": [],
   "source": [
    "var_regr"
   ],
   "metadata": {
    "collapsed": false
   }
  },
  {
   "cell_type": "code",
   "execution_count": null,
   "outputs": [],
   "source": [
    "reg_all.drop(columns=columns).mean()"
   ],
   "metadata": {
    "collapsed": false
   }
  },
  {
   "cell_type": "code",
   "execution_count": null,
   "outputs": [],
   "source": [
    "reg_all.drop(columns=columns).var()"
   ],
   "metadata": {
    "collapsed": false
   }
  },
  {
   "cell_type": "markdown",
   "source": [
    "## Plot results with custom posterior over train set"
   ],
   "metadata": {
    "collapsed": false
   }
  },
  {
   "cell_type": "code",
   "execution_count": null,
   "outputs": [],
   "source": [
    "custom_train_df = pd.read_csv('output/FA/FA_new_postpred_cv_norm_monophysio_new.csv')"
   ],
   "metadata": {
    "collapsed": false
   }
  },
  {
   "cell_type": "code",
   "execution_count": null,
   "outputs": [],
   "source": [
    "custom_train_df.subject.unique()"
   ],
   "metadata": {
    "collapsed": false
   }
  },
  {
   "cell_type": "code",
   "execution_count": null,
   "outputs": [],
   "source": [],
   "metadata": {
    "collapsed": false
   }
  },
  {
   "cell_type": "code",
   "execution_count": null,
   "outputs": [],
   "source": [
    "custom_train = custom_train_df.drop(columns=columns).groupby(by=['feature', 'k'], as_index=False).mean()\n",
    "custom_train_std = custom_train_df.drop(columns=columns).groupby(by=['feature', 'k'], as_index=False).std()\n",
    "\n",
    "hr_ = np.array(custom_train[custom_train['feature'] == 'hr'].train)\n",
    "eda_ = np.array(custom_train[custom_train['feature'] == 'eda'].train)\n",
    "pupil_ = np.array(custom_train[custom_train['feature'] == 'pupil'].train)\n",
    "\n",
    "hr_std = np.array(custom_train_std[custom_train['feature'] == 'hr'].train)\n",
    "eda_std = np.array(custom_train_std[custom_train['feature'] == 'eda'].train)\n",
    "pupil_std = np.array(custom_train_std[custom_train['feature'] == 'pupil'].train)\n",
    "\n",
    "hr_test = np.array(custom_train[custom_train['feature'] == 'hr'].test)\n",
    "eda_test = np.array(custom_train[custom_train['feature'] == 'eda'].test)\n",
    "pupil_test = np.array(custom_train[custom_train['feature'] == 'pupil'].test)\n",
    "\n",
    "hr_std_test = np.array(custom_train_std[custom_train['feature'] == 'hr'].test)\n",
    "eda_std_test = np.array(custom_train_std[custom_train['feature'] == 'eda'].test)\n",
    "pupil_std_test = np.array(custom_train_std[custom_train['feature'] == 'pupil'].test)"
   ],
   "metadata": {
    "collapsed": false
   }
  },
  {
   "cell_type": "code",
   "execution_count": null,
   "outputs": [],
   "source": [
    "X = custom_train_df.k.unique()\n",
    "\n",
    "fig = plt.figure(figsize=(10,8))\n",
    "\n",
    "ax = fig.add_subplot(111)\n",
    "ax1 = fig.add_subplot(311)\n",
    "ax2 = fig.add_subplot(312)\n",
    "ax3 = fig.add_subplot(313)\n",
    "\n",
    "ax1.plot(X, hr_, 'b-', label='hr train')\n",
    "ax1.fill_between(X, hr_-hr_std, hr_+hr_std, color='b', alpha=0.06)\n",
    "ax1.plot(X, hr_test, 'r-', label='hr test')\n",
    "ax1.fill_between(X, hr_test-hr_std_test, hr_test+hr_std_test, color='r', alpha=0.06)\n",
    "ax1.set_xticks(X)\n",
    "ax1.legend(loc='upper left')\n",
    "\n",
    "ax2.plot(X, eda_, 'b-', label='eda train')\n",
    "ax2.fill_between(X, eda_-eda_std, eda_+eda_std, color='b', alpha=0.06)\n",
    "ax2.plot(X, eda_test, 'r-', label='eda test')\n",
    "ax2.fill_between(X, eda_test-eda_std_test, eda_test+eda_std_test, color='r', alpha=0.06)\n",
    "ax2.set_xticks(X)\n",
    "ax2.legend(loc='upper left')\n",
    "\n",
    "ax3.plot(X, pupil_, 'b-', label='pupil train')\n",
    "ax3.fill_between(X, pupil_-pupil_std, pupil_+pupil_std, color='b', alpha=0.06)\n",
    "ax3.plot(X, pupil_test, 'r-', label='pupil test')\n",
    "ax3.fill_between(X, pupil_test-pupil_std_test, pupil_test+pupil_std_test, color='r', alpha=0.06)\n",
    "ax3.set_xticks(X)\n",
    "ax3.legend(loc='upper left')\n",
    "\n",
    "ax.tick_params(labelcolor='w', top=False, bottom=False, left=False, right=False)\n",
    "ax.set_xlabel('k')\n",
    "ax.set_ylabel('Accuracy')\n",
    "ax.set_title('Accuracy plot single signal normalized with 3fold cross val')\n",
    "plt.show()\n"
   ],
   "metadata": {
    "collapsed": false
   }
  },
  {
   "cell_type": "markdown",
   "source": [
    "## Heart rate plot analysis"
   ],
   "metadata": {
    "collapsed": false
   }
  },
  {
   "cell_type": "code",
   "execution_count": null,
   "outputs": [],
   "source": [
    "shock_csv = pd.read_csv('output/csv_shock.csv')\n",
    "valid_subject = extract_correct_csv.extract_only_valid_subject()"
   ],
   "metadata": {
    "collapsed": false
   }
  },
  {
   "cell_type": "code",
   "execution_count": null,
   "outputs": [],
   "source": [
    "plot_index = 0\n",
    "X = np.arange(0, 24)\n",
    "fig, ax = plt.subplots(len(valid_subject), figsize = (20, 50))\n",
    "for x in valid_subject:\n",
    "    feature_x = pd.read_csv('data/features_4_2/hr/' + str(x) + '.csv')\n",
    "    shock_sub = shock_csv[shock_csv['subject'] == x]\n",
    "    expectancy = np.array(list([int(d > 2) for d in shock_sub['rating']]))\n",
    "    df_copy = feature_x.copy(deep=False)\n",
    "    df_copy['expectancy'] = expectancy\n",
    "    df_copy['subject'] = shock_sub.subject.to_numpy()\n",
    "    df_copy['shock'] = shock_sub['shock'].to_numpy()\n",
    "\n",
    "    LE_mean = df_copy[df_copy.expectancy == 0 & (df_copy.shock == True)].drop(\n",
    "        columns=['expectancy', 'subject', 'shock']).mean()\n",
    "    LE_std = df_copy[df_copy.expectancy == 0 & (df_copy.shock == True)].drop(\n",
    "        columns=['expectancy', 'subject', 'shock']).std()\n",
    "\n",
    "    # low exp and no shock\n",
    "\n",
    "    LE_mean_no = df_copy[df_copy.expectancy == 0 & (df_copy.shock == False)].drop(\n",
    "        columns=['expectancy', 'subject', 'shock']).mean()\n",
    "    LE_std_no = df_copy[df_copy.expectancy == 0 & (df_copy.shock == False)].drop(\n",
    "        columns=['expectancy', 'subject', 'shock']).std()\n",
    "\n",
    "    # high exp and shock\n",
    "    HE_mean = df_copy[df_copy.expectancy == 1 & (df_copy.shock == True)].drop(\n",
    "        columns=['expectancy', 'subject', 'shock']).mean()\n",
    "    HE_std = df_copy[df_copy.expectancy == 1 & (df_copy.shock == True)].drop(\n",
    "        columns=['expectancy', 'subject', 'shock']).std()\n",
    "\n",
    "    # high exp and no shock\n",
    "    HE_mean_no = df_copy[df_copy.expectancy == 1 & (df_copy.shock == False)].drop(\n",
    "        columns=['expectancy', 'subject', 'shock']).mean()\n",
    "    HE_std_no = df_copy[df_copy.expectancy == 1 & (df_copy.shock == False)].drop(\n",
    "        columns=['expectancy', 'subject', 'shock']).std()\n",
    "    ax[plot_index].plot(X, LE_mean, 'b-', label='low exp shock')\n",
    "    #plt.fill_between(X, LE_mean+LE_std, LE_mean-LE_std, color='b', alpha=0.07)\n",
    "\n",
    "    ax[plot_index].plot(X, LE_mean_no, 'deepskyblue', label='low exp - no shock')\n",
    "    #plt.fill_between(X, LE_mean_no+LE_std_no, LE_mean_no-LE_std_no, color='deepskyblue', alpha=0.07)\n",
    "\n",
    "\n",
    "    ax[plot_index].plot(X, HE_mean, 'r-', label='High exp and shock')\n",
    "    #plt.fill_between(X, HE_mean-HE_std, HE_mean+HE_std, color='r', alpha=0.07)\n",
    "\n",
    "    ax[plot_index].plot(X, HE_mean_no, 'tomato', label='High exp and no shock')\n",
    "    #plt.fill_between(X, HE_mean_no-HE_std_no, HE_mean_no+HE_std_no, color='tomato', alpha=0.07)\n",
    "\n",
    "    ax[plot_index].legend()\n",
    "    ax[plot_index].set_title(f'Subject {x}')\n",
    "    plot_index = plot_index+1\n",
    "\n",
    "\n",
    "plt.show()\n"
   ],
   "metadata": {
    "collapsed": false
   }
  },
  {
   "cell_type": "code",
   "execution_count": null,
   "outputs": [],
   "source": [
    "plot_index = 0\n",
    "X = np.arange(0, 24)\n",
    "fig, ax = plt.subplots(len(valid_subject), figsize = (20, 50))\n",
    "for x in valid_subject:\n",
    "    feature_x = pd.read_csv('data/features_4_2/hr/' + str(x) + '.csv')\n",
    "    shock_sub = shock_csv[shock_csv['subject'] == x]\n",
    "    expectancy = np.array(list([int(d > 2) for d in shock_sub['rating']]))\n",
    "    df_copy = feature_x.copy(deep=False)\n",
    "    df_copy['expectancy'] = expectancy\n",
    "    df_copy['subject'] = shock_sub.subject.to_numpy()\n",
    "    df_copy['shock'] = shock_sub['shock'].to_numpy()\n",
    "\n",
    "    # low exp\n",
    "    LE_mean = df_copy[df_copy.expectancy == 0].drop(\n",
    "        columns=['expectancy', 'subject', 'shock']).mean()\n",
    "    LE_std = df_copy[df_copy.expectancy == 0].drop(\n",
    "        columns=['expectancy', 'subject', 'shock']).std()\n",
    "\n",
    "    # high exp\n",
    "    HE_mean = df_copy[df_copy.expectancy == 1].drop(\n",
    "        columns=['expectancy', 'subject', 'shock']).mean()\n",
    "    HE_std = df_copy[df_copy.expectancy == 1].drop(\n",
    "        columns=['expectancy', 'subject', 'shock']).std()\n",
    "\n",
    "    ax[plot_index].plot(X, LE_mean, 'b-', label='low exp')\n",
    "    #plt.fill_between(X, LE_mean+LE_std, LE_mean-LE_std, color='b', alpha=0.07)\n",
    "\n",
    "    ax[plot_index].plot(X, HE_mean, 'r-', label='High exp')\n",
    "    #plt.fill_between(X, HE_mean-HE_std, HE_mean+HE_std, color='r', alpha=0.07)\n",
    "    ax[plot_index].legend()\n",
    "    ax[plot_index].set_title(f'Subject {x}')\n",
    "    plot_index = plot_index+1\n",
    "\n",
    "\n",
    "plt.show()\n"
   ],
   "metadata": {
    "collapsed": false
   }
  },
  {
   "cell_type": "markdown",
   "source": [
    "# plot syncronized signals"
   ],
   "metadata": {
    "collapsed": false
   }
  },
  {
   "cell_type": "code",
   "execution_count": 39,
   "outputs": [],
   "source": [
    "# data\n",
    "sub = 2\n",
    "trial = 127\n",
    "\n",
    "X_pupil = np.arange(0, 5, 0.01)\n",
    "# pupil\n",
    "df_pupil = pd.read_csv('data/sync_signals_raw/pupil_csv/'+str(sub)+'_pupil.csv')\n",
    "pupil = df_pupil.iloc[trial].to_numpy()\n",
    "pupil_baseline = pupil[0]\n",
    "pupil = pupil-pupil_baseline\n",
    "\n",
    "X_physio = np.arange(0, 6, 0.002)\n",
    "# eda\n",
    "df_eda = pd.read_csv('data/sync_signals_raw/eda_csv/'+str(sub)+'_eda.csv')\n",
    "eda = df_eda.iloc[trial].to_numpy()\n",
    "signals, info = nk.eda_process(eda, sampling_rate=500)\n",
    "eda_phasic = signals['EDA_Phasic']\n"
   ],
   "metadata": {
    "collapsed": false
   }
  },
  {
   "cell_type": "code",
   "execution_count": 40,
   "outputs": [
    {
     "data": {
      "text/plain": "array([0.        , 0.00916498, 0.01832995, ..., 7.12354554, 7.12503255,\n       7.12651956])"
     },
     "execution_count": 40,
     "metadata": {},
     "output_type": "execute_result"
    }
   ],
   "source": [
    "# hr\n",
    "df_hr = pd.read_csv('data/sync_signals_raw/hr_csv/'+str(sub)+'_hr.csv')\n",
    "hr = df_hr.iloc[trial].to_numpy()\n",
    "results = biosppy.signals.ecg.ecg(hr, 500, show=False)\n",
    "t_raw = results[0]\n",
    "t_hr = results[5]\n",
    "hr = results[6]\n",
    "# Interpolate HR values to bring signal back to original size\n",
    "f = interpolate.interp1d(t_hr, hr, bounds_error=False, fill_value=\"extrapolate\")\n",
    "tmp_HR = f(t_raw)\n",
    "tmp_HR_baseline = tmp_HR[0]\n",
    "tmp_HR = tmp_HR-tmp_HR_baseline\n",
    "tmp_HR"
   ],
   "metadata": {
    "collapsed": false
   }
  },
  {
   "cell_type": "code",
   "execution_count": 54,
   "outputs": [
    {
     "data": {
      "text/plain": "<Figure size 1000x800 with 4 Axes>",
      "image/png": "[encoded data removed]"
     },
     "metadata": {},
     "output_type": "display_data"
    }
   ],
   "source": [
    "fig = plt.figure(figsize=(10,8))\n",
    "ax = fig.add_subplot(111)\n",
    "ax1 = fig.add_subplot(311)\n",
    "ax2 = fig.add_subplot(312)\n",
    "ax3 = fig.add_subplot(313)\n",
    "\n",
    "fig.set_facecolor('#AACAEF')\n",
    "X = np.arange(0, 7)\n",
    "\n",
    "ax1.plot(X_pupil, pupil, color = 'r')\n",
    "ax1.set_ylabel('Pupil size change (mm)')\n",
    "ax1.set_facecolor('#AACAEF')\n",
    "ax1.set_xticks(X)\n",
    "ax1.grid()\n",
    "\n",
    "ax2.plot(X_physio, eda, color = 'b')\n",
    "ax2.set_ylabel('Eda phasic (conductance)')\n",
    "ax2.set_facecolor('#AACAEF')\n",
    "ax2.grid()\n",
    "ax3.plot(X_physio, tmp_HR)\n",
    "ax3.set_ylabel('Heart rate change (BPM)')\n",
    "ax3.set_facecolor('#AACAEF')\n",
    "ax3.set_xlabel('Trial time')\n",
    "ax3.grid()\n",
    "\n",
    "ax.set_facecolor('#AACAEF')\n",
    "\n",
    "ax.tick_params(labelcolor='#AACAEF', top=False, bottom=False, left=False, right=False)"
   ],
   "metadata": {
    "collapsed": false
   }
  },
  {
   "cell_type": "code",
   "execution_count": null,
   "outputs": [],
   "source": [],
   "metadata": {
    "collapsed": false
   }
  }
 ],
 "metadata": {
  "kernelspec": {
   "display_name": "Python 3",
   "language": "python",
   "name": "python3"
  },
  "language_info": {
   "codemirror_mode": {
    "name": "ipython",
    "version": 2
   },
   "file_extension": ".py",
   "mimetype": "text/x-python",
   "name": "python",
   "nbconvert_exporter": "python",
   "pygments_lexer": "ipython2",
   "version": "2.7.6"
  }
 },
 "nbformat": 4,
 "nbformat_minor": 0
}
