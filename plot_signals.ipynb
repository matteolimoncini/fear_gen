{
 "cells": [
  {
   "cell_type": "code",
   "execution_count": null,
   "metadata": {
    "collapsed": true
   },
   "outputs": [],
   "source": [
    "import os\n",
    "import matplotlib.pyplot as plt\n",
    "import numpy as np\n",
    "import pandas as pd\n",
    "import extract_correct_csv\n",
    "import neurokit2 as nk\n",
    "import warnings\n",
    "\n",
    "\n",
    "warnings.simplefilter(action=\"ignore\", category=FutureWarning)\n",
    "warnings.simplefilter(action=\"ignore\", category=RuntimeWarning)"
   ]
  },
  {
   "cell_type": "code",
   "execution_count": null,
   "outputs": [],
   "source": [
    "columns = list(pd.read_csv('../osfstorage-archive/eye/pupil/Look002_pupil.csv', sep=';', decimal=',').columns)\n",
    "col_ = ['expectancy', 'shock']\n",
    "columns = columns + col_\n",
    "generic_df = pd.DataFrame(columns=columns)\n",
    "cur_sub = extract_correct_csv.read_correct_subject_csv(55)\n",
    "subject = pd.read_csv('data/LookAtMe_0' + cur_sub + '.csv', sep='\\t')\n",
    "pupil_subj = pd.read_csv('../osfstorage-archive/eye/pupil/Look0' + cur_sub + '_pupil.csv', sep=';', decimal=',')\n",
    "expectancy = np.array(list([int(d > 2) for d in subject['rating']]))\n",
    "df_ = pupil_subj.copy(deep=False)\n",
    "df_['expectancy'] = expectancy\n",
    "df_['shock'] = subject['shock']\n",
    "generic_df = pd.concat([generic_df, df_], axis=0)\n",
    "\n",
    "generic_df = generic_df.reset_index().drop(columns=['index'])\n",
    "# removing first 48 trial, keeping only generalization phase\n",
    "generic_df = generic_df[48:]\n",
    "baseline = generic_df.pd1.to_numpy()\n",
    "mean_baseline = np.mean(baseline)\n",
    "X = np.arange(-1, 6, 0.01)\n",
    "# calculating mean and std of pupil diameter for\n",
    "# - low exp and shock\n",
    "df_LE_shock = generic_df[(generic_df.shock == True) & (generic_df.expectancy == 0)]\n",
    "df_LE_shock = df_LE_shock.drop(columns=['trial', 'expectancy', 'shock'])\n",
    "all_mean_1 = df_LE_shock.mean(axis=0)\n",
    "all_conf_1 = df_LE_shock.var(axis=0)\n",
    "\n",
    "# - low exp and no shock\n",
    "df_LE_no_shock = generic_df[(generic_df.shock == False) & (generic_df.expectancy == 0)]\n",
    "df_LE_no_shock = df_LE_no_shock.drop(columns=['trial', 'expectancy', 'shock'])\n",
    "all_mean_2 = df_LE_no_shock.mean(axis=0)\n",
    "all_conf_2 = df_LE_no_shock.std(axis=0)\n",
    "\n",
    "# - high exp and shock\n",
    "df_HE_shock = generic_df[(generic_df.shock == True) & (generic_df.expectancy == 1)]\n",
    "df_HE_shock = df_HE_shock.drop(columns=['trial', 'expectancy', 'shock'])\n",
    "all_mean_3 = df_HE_shock.mean(axis=0)\n",
    "all_conf_3 = df_HE_shock.std(axis=0)\n",
    "\n",
    "# - high exp and no shock\n",
    "df_HE_no_shock = generic_df[(generic_df.shock == False) & (generic_df.expectancy == 1)]\n",
    "df_HE_no_shock = df_HE_no_shock.drop(columns=['trial', 'expectancy', 'shock'])\n",
    "all_mean_4 = df_HE_no_shock.mean(axis=0)\n",
    "all_conf_4 = df_HE_no_shock.std(axis=0)\n",
    "\n",
    "from matplotlib.pyplot import figure\n",
    "\n",
    "figure(figsize=(8, 6))\n",
    "LE_shock_line = plt.plot(X, all_mean_1, 'r-', label='Low exp - shock')\n",
    "LE_shock_fill = plt.fill_between(X, all_mean_1 - all_conf_1, all_mean_1 + all_conf_1, color='r', alpha=0.06)\n",
    "\n",
    "LE_no_line = plt.plot(X, all_mean_2, 'tomato', label='Low exp - no shock')\n",
    "LE_no_fill = plt.fill_between(X, all_mean_2 - all_conf_2, all_mean_2 + all_conf_2, color='tomato', alpha=0.06)\n",
    "\n",
    "HE_shock_line = plt.plot(X, all_mean_3, 'b-', label='High exp - shock')\n",
    "HE_shock_fill = plt.fill_between(X, all_mean_3 - all_conf_3, all_mean_3 + all_conf_3, color='b', alpha=0.06)\n",
    "\n",
    "HE_no_line = plt.plot(X, all_mean_4, 'deepskyblue', label='High exp - no shock')\n",
    "HE_no_fill = plt.fill_between(X, all_mean_4 - all_conf_4, all_mean_4 + all_conf_4, color='deepskyblue', alpha=0.06)\n",
    "plt.axvline(x=5.85, linestyle='--', color='r', lw=1.2)\n",
    "plt.axvline(x=0, linestyle='--', color='darkred', lw=1.2)\n",
    "plt.legend(loc='best')\n",
    "plt.grid(alpha=0.3)\n",
    "plt.xlabel('Trial time')\n",
    "plt.ylabel('Pupil size change')\n",
    "plt.show()"
   ],
   "metadata": {
    "collapsed": false
   }
  },
  {
   "cell_type": "markdown",
   "source": [
    "## All valid subject"
   ],
   "metadata": {
    "collapsed": false
   }
  },
  {
   "cell_type": "code",
   "execution_count": null,
   "outputs": [],
   "source": [
    "valid_subject = extract_correct_csv.extract_only_valid_subject()\n",
    "valid_subject"
   ],
   "metadata": {
    "collapsed": false
   }
  },
  {
   "cell_type": "code",
   "execution_count": null,
   "outputs": [],
   "source": [
    "columns = list(pd.read_csv('../osfstorage-archive/eye/pupil/Look002_pupil.csv', sep=';', decimal=',').columns)\n",
    "col_ = ['expectancy', 'shock']\n",
    "columns = columns + col_"
   ],
   "metadata": {
    "collapsed": false
   }
  },
  {
   "cell_type": "code",
   "execution_count": null,
   "outputs": [],
   "source": [
    "generic_df = pd.DataFrame(columns=columns)\n",
    "for x in valid_subject:\n",
    "    cur_sub = extract_correct_csv.read_correct_subject_csv(x)\n",
    "    subject = pd.read_csv('data/LookAtMe_0'+cur_sub+'.csv', sep='\\t')\n",
    "    pupil_subj = pd.read_csv('../osfstorage-archive/eye/pupil/Look0'+cur_sub+'_pupil.csv', sep=';', decimal=',')\n",
    "    expectancy = np.array(list([int(d > 2) for d in subject['rating']]))\n",
    "    df_ = pupil_subj.copy(deep=False)\n",
    "    df_['expectancy'] = expectancy\n",
    "    df_['shock'] = subject['shock']\n",
    "    generic_df = pd.concat([generic_df, df_], axis=0)\n",
    "\n",
    "generic_df = generic_df.reset_index().drop(columns=['index'])"
   ],
   "metadata": {
    "collapsed": false
   }
  },
  {
   "cell_type": "code",
   "execution_count": null,
   "outputs": [],
   "source": [
    "# removing first 48 trial, keeping only generalization phase\n",
    "generic_df = generic_df[48:]"
   ],
   "metadata": {
    "collapsed": false
   }
  },
  {
   "cell_type": "code",
   "execution_count": null,
   "outputs": [],
   "source": [
    "baseline = generic_df.pd1.to_numpy()\n",
    "mean_baseline = np.mean(baseline)\n",
    "mean_baseline"
   ],
   "metadata": {
    "collapsed": false
   }
  },
  {
   "cell_type": "code",
   "execution_count": null,
   "outputs": [],
   "source": [
    "X = np.arange(-1, 6, 0.01)\n",
    "# calculating mean and std of pupil diameter for\n",
    "# - low exp and shock\n",
    "df_LE_shock = generic_df[(generic_df.shock == True) & (generic_df.expectancy == 0)]\n",
    "df_LE_shock = df_LE_shock.drop(columns=['trial', 'expectancy', 'shock'])\n",
    "all_mean_1 = df_LE_shock.mean(axis=0)\n",
    "all_conf_1 = df_LE_shock.var(axis=0)\n",
    "\n",
    "# - low exp and no shock\n",
    "df_LE_no_shock = generic_df[(generic_df.shock == False) & (generic_df.expectancy == 0)]\n",
    "df_LE_no_shock = df_LE_no_shock.drop(columns=['trial', 'expectancy', 'shock'])\n",
    "all_mean_2 = df_LE_no_shock.mean(axis=0)\n",
    "all_conf_2 = df_LE_no_shock.std(axis=0)\n",
    "\n",
    "# - high exp and shock\n",
    "df_HE_shock = generic_df[(generic_df.shock == True) & (generic_df.expectancy == 1)]\n",
    "df_HE_shock = df_HE_shock.drop(columns=['trial', 'expectancy', 'shock'])\n",
    "all_mean_3 = df_HE_shock.mean(axis=0)\n",
    "all_conf_3 = df_HE_shock.std(axis=0)\n",
    "\n",
    "# - high exp and no shock\n",
    "df_HE_no_shock = generic_df[(generic_df.shock == False) & (generic_df.expectancy == 1)]\n",
    "df_HE_no_shock = df_HE_no_shock.drop(columns=['trial', 'expectancy', 'shock'])\n",
    "all_mean_4 = df_HE_no_shock.mean(axis=0)\n",
    "all_conf_4 = df_HE_no_shock.std(axis=0)\n"
   ],
   "metadata": {
    "collapsed": false
   }
  },
  {
   "cell_type": "code",
   "execution_count": null,
   "outputs": [],
   "source": [
    "from matplotlib.pyplot import figure\n",
    "figure(figsize=(8,6))\n",
    "LE_shock_line = plt.plot(X, all_mean_1, 'r-', label='Low exp - shock')\n",
    "LE_shock_fill = plt.fill_between(X, all_mean_1 - all_conf_1, all_mean_1 + all_conf_1, color = 'r', alpha=0.06)\n",
    "\n",
    "LE_no_line = plt.plot(X, all_mean_2, 'tomato', label='Low exp - no shock')\n",
    "LE_no_fill = plt.fill_between(X, all_mean_2 - all_conf_2, all_mean_2 + all_conf_2, color = 'tomato', alpha=0.06)\n",
    "\n",
    "HE_shock_line = plt.plot(X, all_mean_3, 'b-', label='High exp - shock')\n",
    "HE_shock_fill = plt.fill_between(X, all_mean_3 - all_conf_3, all_mean_3 + all_conf_3, color = 'b', alpha=0.06)\n",
    "\n",
    "HE_no_line = plt.plot(X, all_mean_4, 'deepskyblue', label='High exp - no shock')\n",
    "HE_no_fill = plt.fill_between(X, all_mean_4 - all_conf_4, all_mean_4 + all_conf_4, color = 'deepskyblue', alpha=0.06)\n",
    "plt.axvline(x=5.85, linestyle='--', color='r', lw=1.2)\n",
    "plt.axvline(x=0, linestyle='--', color='darkred', lw=1.2)\n",
    "plt.legend(loc='best')\n",
    "plt.grid(alpha=0.3)\n",
    "plt.xlabel('Trial time')\n",
    "plt.ylabel('Pupil size change')\n",
    "plt.show()"
   ],
   "metadata": {
    "collapsed": false
   }
  },
  {
   "cell_type": "markdown",
   "source": [
    "## Single signal eda"
   ],
   "metadata": {
    "collapsed": false
   }
  },
  {
   "cell_type": "code",
   "execution_count": null,
   "outputs": [],
   "source": [
    "valid_subject = extract_correct_csv.extract_only_valid_subject()\n",
    "\n",
    "not_valid = {4, 43, 45, 50, 55}\n",
    "\n",
    "valid_subject = [ele for ele in valid_subject if ele not in not_valid]"
   ],
   "metadata": {
    "collapsed": false
   }
  },
  {
   "cell_type": "code",
   "execution_count": null,
   "outputs": [],
   "source": [
    "subject = pd.read_csv('data/sync_signals_raw/eda_csv/55_eda.csv')\n",
    "shock_csv = pd.read_csv('csv_shock.csv')\n",
    "shock_csv = shock_csv.drop(columns=shock_csv.columns[0])\n",
    "\n",
    "eda_processed = []\n",
    "\n",
    "for x in range(len(subject)):\n",
    "    row = subject.loc[x]\n",
    "    signals, info = nk.eda_process(row, sampling_rate=500)\n",
    "    eda_processed.append(signals['EDA_Phasic'].to_numpy())\n",
    "eda_processed = pd.DataFrame(eda_processed)"
   ],
   "metadata": {
    "collapsed": false
   }
  },
  {
   "cell_type": "code",
   "execution_count": null,
   "outputs": [],
   "source": [
    "df_eda = eda_processed.copy(deep=False)\n",
    "shock_sub = shock_csv[shock_csv.subject==55]\n",
    "expectancy = np.array(list([int(d > 2) for d in shock_sub['rating']]))\n",
    "df_eda['expectancy'] = expectancy\n",
    "df_eda['shock'] = shock_sub['shock'].to_numpy()"
   ],
   "metadata": {
    "collapsed": false
   }
  },
  {
   "cell_type": "code",
   "execution_count": null,
   "outputs": [],
   "source": [
    "X = np.arange(0, 6, 0.002)\n",
    "# calculating mean and std of EDA for\n",
    "# - low exp and shock\n",
    "df_EDA_LE_shock = df_eda[(df_eda.shock == True) & (df_eda.expectancy == 0)].drop(columns=['expectancy', 'shock'])\n",
    "mean_sing_LE_shock = df_EDA_LE_shock.mean(axis=0)\n",
    "conf_sing_LE_shock = df_EDA_LE_shock.std(axis=0)\n",
    "\n",
    "# - low exp and no shock\n",
    "df_EDA_LE_no = df_eda[(df_eda.shock == False) & (df_eda.expectancy == 0)].drop(columns=['expectancy', 'shock'])\n",
    "mean_sing_LE_no= df_EDA_LE_no.mean(axis=0)\n",
    "conf_sing_LE_no = df_EDA_LE_no.std(axis=0)\n",
    "\n",
    "# - high exp and shock\n",
    "df_EDA_HE_shock = df_eda[(df_eda.shock == True) & (df_eda.expectancy == 1)].drop(columns=['expectancy', 'shock'])\n",
    "mean_sing_HE_shock = df_EDA_HE_shock.mean(axis=0)\n",
    "conf_sing_HE_shock = df_EDA_HE_shock.std(axis=0)\n",
    "\n",
    "# - high exp and no shock\n",
    "df_EDA_HE_no = df_eda[(df_eda.shock == False) & (df_eda.expectancy == 1)].drop(columns=['expectancy', 'shock'])\n",
    "mean_sing_HE_no = df_EDA_HE_no.mean(axis=0)\n",
    "conf_sing_HE_no = df_EDA_HE_no.std(axis=0)"
   ],
   "metadata": {
    "collapsed": false
   }
  },
  {
   "cell_type": "code",
   "execution_count": null,
   "outputs": [],
   "source": [
    "plt.plot(X, mean_sing_LE_shock, 'r-', label='Low exp - shock')\n",
    "plt.fill_between(X, mean_sing_LE_shock - conf_sing_LE_shock, mean_sing_LE_shock + conf_sing_LE_shock, color = 'r', alpha=0.06)\n",
    "\n",
    "plt.plot(X, mean_sing_LE_no, 'tomato', label='Low exp - no shock')\n",
    "plt.fill_between(X, mean_sing_LE_no - conf_sing_LE_no, mean_sing_LE_no + conf_sing_LE_no, color = 'tomato', alpha=0.06)\n",
    "\n",
    "plt.plot(X, mean_sing_HE_shock, 'b-', label='High exp - shock')\n",
    "plt.fill_between(X, mean_sing_HE_shock - conf_sing_HE_shock, mean_sing_HE_shock + conf_sing_HE_shock, color = 'b', alpha=0.06)\n",
    "\n",
    "plt.plot(X, mean_sing_HE_no, 'deepskyblue', label='High exp - no shock')\n",
    "plt.fill_between(X, mean_sing_HE_no - conf_sing_HE_no, mean_sing_HE_no + conf_sing_HE_no, color = 'deepskyblue', alpha=0.06)\n",
    "\n",
    "plt.axvline(x=5.85, linestyle='--', color='r', lw=1.2)\n",
    "plt.axvline(x=0, linestyle='--', color='darkred', lw=1.2)\n",
    "plt.legend(loc='best')\n",
    "plt.grid(alpha=0.3)\n",
    "plt.xlabel('Trial time')\n",
    "plt.ylabel('EDA')\n",
    "plt.title(f'Subject number {str(55)}')\n",
    "plt.show()"
   ],
   "metadata": {
    "collapsed": false
   }
  },
  {
   "cell_type": "markdown",
   "source": [
    "## All subjects EDA"
   ],
   "metadata": {
    "collapsed": false
   }
  },
  {
   "cell_type": "code",
   "execution_count": null,
   "outputs": [],
   "source": [
    "columns_eda = list(eda_processed.columns)\n",
    "col_ = ['expectancy', 'shock']\n",
    "columns_eda = columns_eda + col_"
   ],
   "metadata": {
    "collapsed": false
   }
  },
  {
   "cell_type": "code",
   "execution_count": null,
   "outputs": [],
   "source": [
    "shock_csv"
   ],
   "metadata": {
    "collapsed": false
   }
  },
  {
   "cell_type": "code",
   "execution_count": null,
   "outputs": [],
   "source": [
    "global_eda = pd.DataFrame(columns=columns_eda)\n",
    "for i in valid_subject:\n",
    "    subject = pd.read_csv('data/sync_signals_raw/eda_csv/'+str(i)+'_eda.csv')\n",
    "    shock_csv = pd.read_csv('csv_shock.csv')\n",
    "    shock = shock_csv.drop(columns=shock_csv.columns[0])\n",
    "    eda_processed = []\n",
    "    for x in range(len(subject)):\n",
    "        row = subject.loc[x]\n",
    "        signals, info = nk.eda_process(row, sampling_rate=500)\n",
    "        eda_processed.append(signals['EDA_Phasic'].to_numpy())\n",
    "    eda_processed = pd.DataFrame(eda_processed)\n",
    "    df_eda_all = eda_processed.copy(deep=False)\n",
    "    shock_sub = shock_csv[shock.subject==i]\n",
    "    expectancy = np.array(list([int(d > 2) for d in shock_sub['rating']]))\n",
    "    df_eda_all['expectancy'] = expectancy\n",
    "    df_eda_all['shock'] = shock_sub['shock'].to_numpy()\n",
    "    global_eda = pd.concat([global_eda, df_eda_all], axis=0)\n"
   ],
   "metadata": {
    "collapsed": false
   }
  },
  {
   "cell_type": "code",
   "execution_count": null,
   "outputs": [],
   "source": [
    "# calculating mean and std of EDA for\n",
    "# - low exp and shock\n",
    "df_EDA_LE_shock = global_eda[(global_eda.shock == True) & (global_eda.expectancy == 0)].drop(columns=['expectancy', 'shock'])\n",
    "mean_all_LE_shock = df_EDA_LE_shock.mean(axis=0)\n",
    "conf_all_LE_shock = df_EDA_LE_shock.std(axis=0)\n",
    "\n",
    "# - low exp and no shock\n",
    "df_EDA_LE_no = global_eda[(global_eda.shock == False) & (global_eda.expectancy == 0)].drop(columns=['expectancy', 'shock'])\n",
    "mean_all_LE_no= df_EDA_LE_no.mean(axis=0)\n",
    "conf_all_LE_no = df_EDA_LE_no.std(axis=0)\n",
    "\n",
    "# - high exp and shock\n",
    "df_EDA_HE_shock = global_eda[(global_eda.shock == True) & (global_eda.expectancy == 1)].drop(columns=['expectancy', 'shock'])\n",
    "mean_all_HE_shock = df_EDA_HE_shock.mean(axis=0)\n",
    "conf_all_HE_shock = df_EDA_HE_shock.std(axis=0)\n",
    "\n",
    "# - high exp and no shock\n",
    "df_EDA_HE_no = global_eda[(global_eda.shock == False) & (global_eda.expectancy == 1)].drop(columns=['expectancy', 'shock'])\n",
    "mean_all_HE_no = df_EDA_HE_no.mean(axis=0)\n",
    "conf_all_HE_no = df_EDA_HE_no.std(axis=0)"
   ],
   "metadata": {
    "collapsed": false
   }
  },
  {
   "cell_type": "code",
   "execution_count": null,
   "outputs": [],
   "source": [
    "global_eda[(global_eda.shock == False) & (global_eda.expectancy == 1)]"
   ],
   "metadata": {
    "collapsed": false
   }
  },
  {
   "cell_type": "code",
   "execution_count": null,
   "outputs": [],
   "source": [
    "plt.plot(X, mean_all_LE_shock, 'r-', label='Low exp - shock')\n",
    "plt.fill_between(X, mean_all_LE_shock - conf_all_LE_shock, mean_all_LE_shock + conf_all_LE_shock, color = 'r', alpha=0.06)\n",
    "\n",
    "plt.plot(X, mean_all_LE_no, 'tomato', label='Low exp - no shock')\n",
    "plt.fill_between(X, mean_all_LE_no - conf_all_LE_no, mean_all_LE_no + conf_all_LE_no, color = 'tomato', alpha=0.06)\n",
    "\n",
    "plt.plot(X, mean_all_HE_shock, 'b-', label='High exp - shock')\n",
    "plt.fill_between(X, mean_all_HE_shock - conf_all_HE_shock, mean_all_HE_shock + conf_all_HE_shock, color = 'b', alpha=0.06)\n",
    "\n",
    "plt.plot(X, mean_all_HE_no, 'deepskyblue', label='High exp - no shock')\n",
    "plt.fill_between(X, mean_all_HE_no - conf_all_HE_no, mean_all_HE_no + conf_all_HE_no, color = 'deepskyblue', alpha=0.06)\n",
    "\n",
    "plt.axvline(x=5.85, linestyle='--', color='r', lw=1.2)\n",
    "plt.axvline(x=0, linestyle='--', color='darkred', lw=1.2)\n",
    "plt.legend(loc='best')\n",
    "plt.grid(alpha=0.3)\n",
    "plt.xlabel('Trial time')\n",
    "plt.ylabel('EDA')\n",
    "plt.show()"
   ],
   "metadata": {
    "collapsed": false
   }
  },
  {
   "cell_type": "markdown",
   "source": [
    "## Plot signal single subject EDA fake"
   ],
   "metadata": {
    "collapsed": false
   }
  },
  {
   "cell_type": "code",
   "execution_count": null,
   "outputs": [],
   "source": [
    "fake_single = pd.read_csv('data_fake/eda_csv/2_eda.csv')\n",
    "\n",
    "eda_processed = []\n",
    "for x in range(len(fake_single)):\n",
    "    row = fake_single.loc[x]\n",
    "    signals, info = nk.eda_process(row, sampling_rate=500)\n",
    "    eda_processed.append(signals['EDA_Phasic'].to_numpy())\n",
    "eda_processed = pd.DataFrame(eda_processed)"
   ],
   "metadata": {
    "collapsed": false
   }
  },
  {
   "cell_type": "code",
   "execution_count": null,
   "outputs": [],
   "source": [
    "df_eda_fake = eda_processed.copy(deep=False)\n",
    "shock_sub = shock_csv[shock_csv.subject==2]\n",
    "expectancy = np.array(list([int(d > 2) for d in shock_sub['rating']]))\n",
    "df_eda_fake['expectancy'] = expectancy"
   ],
   "metadata": {
    "collapsed": false
   }
  },
  {
   "cell_type": "code",
   "execution_count": null,
   "outputs": [],
   "source": [
    "# low exp\n",
    "low_exp = df_eda_fake[df_eda_fake.expectancy == 0].drop(columns=['expectancy'])\n",
    "mean_low_exp = low_exp.mean(axis=0)\n",
    "var_low_exp = low_exp.std(axis=0)\n",
    "\n",
    "# high exp\n",
    "high_exp = df_eda_fake[df_eda_fake.expectancy == 1].drop(columns=['expectancy'])\n",
    "mean_high_exp = high_exp.mean(axis=0)\n",
    "var_high_exp = high_exp.std(axis=0)"
   ],
   "metadata": {
    "collapsed": false
   }
  },
  {
   "cell_type": "code",
   "execution_count": null,
   "outputs": [],
   "source": [
    "X = np.arange(0, 6, 0.002)\n",
    "\n",
    "plt.plot(X, mean_low_exp, 'b-', label='low exp')\n",
    "plt.fill_between(X, mean_low_exp-var_low_exp, mean_low_exp+var_low_exp, color='b', alpha=0.07)\n",
    "\n",
    "plt.plot(X, mean_high_exp, 'r-', label='high exp')\n",
    "plt.fill_between(X, mean_high_exp-var_high_exp, mean_high_exp+var_high_exp, color='r', alpha=0.07)\n",
    "plt.legend()\n",
    "plt.show()"
   ],
   "metadata": {
    "collapsed": false
   }
  },
  {
   "cell_type": "markdown",
   "source": [
    "## Factor analysis plot\n",
    "\n",
    "### Real data"
   ],
   "metadata": {
    "collapsed": false
   }
  },
  {
   "cell_type": "code",
   "execution_count": null,
   "outputs": [],
   "source": [
    "def subplot_(dataframe):\n",
    "    results = pd.read_csv(dataframe)\n",
    "    subject_unique = results.subject.unique()\n",
    "\n",
    "    nrows = 4\n",
    "    ncols = 4\n",
    "    fig, ax = plt.subplots(nrows, ncols, figsize = (20, 20))\n",
    "\n",
    "    index = 0\n",
    "    for i in range(nrows):\n",
    "        for j in range(ncols):\n",
    "            Y_index = results[results.subject==subject_unique[index]]\n",
    "            train = Y_index.train\n",
    "            val = Y_index.val\n",
    "            test = Y_index.test\n",
    "            ax[i][j].plot(Y_index.k, train, label='train')\n",
    "            ax[i][j].plot(Y_index.k, val, label='validation')\n",
    "            ax[i][j].plot(Y_index.k, test, label='test')\n",
    "            ax[i][j].set_title(f\"Subject {subject_unique[index]}\")\n",
    "            ax[i][j].legend()\n",
    "            index = index+1"
   ],
   "metadata": {
    "collapsed": false
   }
  },
  {
   "cell_type": "code",
   "execution_count": null,
   "outputs": [],
   "source": [
    "def plot_allsubjects(dataframe):\n",
    "    results = pd.read_csv(dataframe)\n",
    "    X = results.k.unique()\n",
    "\n",
    "    Y_all_mean = results.groupby(results.k).mean()\n",
    "    Y_all_std = results.groupby(results.k).std()\n",
    "    if 'complete' not in dataframe:\n",
    "        Y_all_mean = Y_all_mean.drop(columns=['subject'])\n",
    "        Y_all_std = Y_all_std.drop(columns=['subject'])\n",
    "\n",
    "    train_mean = Y_all_mean['train']\n",
    "    val_mean = Y_all_mean['val']\n",
    "    test_mean = Y_all_mean['test']\n",
    "\n",
    "    train_std = Y_all_std['train']\n",
    "    val_std = Y_all_std['val']\n",
    "    test_std = Y_all_std['test']\n",
    "    plt.plot(X, train_mean, 'b-', label='train')\n",
    "    plt.fill_between(X, train_mean-train_std, train_mean+train_std, color='b', alpha=0.07)\n",
    "\n",
    "    plt.plot(X, val_mean, 'r-', label='validation')\n",
    "    plt.fill_between(X, val_mean-val_std, val_mean+val_std, color='r', alpha=0.07)\n",
    "\n",
    "    plt.plot(X, test_mean, 'orange', label='test')\n",
    "    plt.fill_between(X, test_mean-test_std, test_mean+test_std, color='orange', alpha=0.07)\n",
    "    plt.title(dataframe)\n",
    "\n",
    "    plt.legend()\n",
    "    plt.show()"
   ],
   "metadata": {
    "collapsed": false
   }
  },
  {
   "cell_type": "code",
   "execution_count": null,
   "outputs": [],
   "source": [
    "subplot_('FA.csv')"
   ],
   "metadata": {
    "collapsed": false
   }
  },
  {
   "cell_type": "code",
   "execution_count": null,
   "outputs": [],
   "source": [
    "plot_allsubjects('FA.csv')"
   ],
   "metadata": {
    "collapsed": false
   }
  },
  {
   "cell_type": "markdown",
   "source": [
    "### Fake data"
   ],
   "metadata": {
    "collapsed": false
   }
  },
  {
   "cell_type": "code",
   "execution_count": null,
   "outputs": [],
   "source": [
    "subplot_('FAFake.csv')"
   ],
   "metadata": {
    "collapsed": false
   }
  },
  {
   "cell_type": "code",
   "execution_count": null,
   "outputs": [],
   "source": [
    "plot_allsubjects('FAFake.csv')"
   ],
   "metadata": {
    "collapsed": false
   }
  },
  {
   "cell_type": "markdown",
   "source": [
    "## Complete pooling plot\n",
    "### Real"
   ],
   "metadata": {
    "collapsed": false
   }
  },
  {
   "cell_type": "code",
   "execution_count": null,
   "outputs": [],
   "source": [
    "plot_allsubjects('FA_complete.csv')"
   ],
   "metadata": {
    "collapsed": false
   }
  },
  {
   "cell_type": "markdown",
   "source": [
    "### Fake data"
   ],
   "metadata": {
    "collapsed": false
   }
  },
  {
   "cell_type": "code",
   "execution_count": null,
   "outputs": [],
   "source": [
    "plot_allsubjects('FAFake_complete.csv')"
   ],
   "metadata": {
    "collapsed": false
   }
  },
  {
   "cell_type": "markdown",
   "source": [
    "### Plot features (HR)"
   ],
   "metadata": {
    "collapsed": false
   }
  },
  {
   "cell_type": "code",
   "execution_count": null,
   "outputs": [],
   "source": [
    "shock_csv = pd.read_csv('csv_shock.csv')\n",
    "valid_subject = extract_correct_csv.extract_only_valid_subject()"
   ],
   "metadata": {
    "collapsed": false
   }
  },
  {
   "cell_type": "code",
   "execution_count": null,
   "outputs": [],
   "source": [
    "general_features = pd.DataFrame()\n",
    "for x in valid_subject:\n",
    "    feature_x = pd.read_csv('data/features_4_2/hr/'+str(x)+'.csv')\n",
    "    shock_sub = shock_csv[shock_csv['subject']==x]\n",
    "    expectancy = np.array(list([int(d > 2) for d in shock_sub['rating']]))\n",
    "    df_copy = feature_x.copy(deep=False)\n",
    "    df_copy['expectancy'] = expectancy\n",
    "    df_copy['subject'] = shock_sub.subject.to_numpy()\n",
    "    df_copy['shock'] = shock_sub['shock'].to_numpy()\n",
    "    if general_features.empty:\n",
    "        general_features = df_copy\n",
    "    else:\n",
    "        general_features = pd.concat([general_features, df_copy], axis=0)"
   ],
   "metadata": {
    "collapsed": false
   }
  },
  {
   "cell_type": "code",
   "execution_count": null,
   "outputs": [],
   "source": [
    "X = np.arange(0, 24)\n",
    "\n",
    "# low exp and shock\n",
    "\n",
    "LE_mean = general_features[general_features.expectancy == 0 & (general_features.shock == True)].drop(columns=['expectancy', 'subject','shock']).mean()\n",
    "LE_std = general_features[general_features.expectancy == 0 & (general_features.shock == True)].drop(columns=['expectancy', 'subject','shock']).std()\n",
    "\n",
    "# low exp and no shock\n",
    "\n",
    "LE_mean_no = general_features[general_features.expectancy == 0 & (general_features.shock == False)].drop(columns=['expectancy', 'subject','shock']).mean()\n",
    "LE_std_no = general_features[general_features.expectancy == 0 & (general_features.shock == False)].drop(columns=['expectancy', 'subject','shock']).std()\n",
    "\n",
    "# high exp and shock\n",
    "HE_mean = general_features[general_features.expectancy == 1 & (general_features.shock == True)].drop(columns=['expectancy', 'subject','shock']).mean()\n",
    "HE_std = general_features[general_features.expectancy == 1 & (general_features.shock == True)].drop(columns=['expectancy', 'subject','shock']).std()\n",
    "\n",
    "# high exp and no shock\n",
    "HE_mean_no = general_features[general_features.expectancy == 1 & (general_features.shock == False)].drop(columns=['expectancy', 'subject','shock']).mean()\n",
    "HE_std_no = general_features[general_features.expectancy == 1 & (general_features.shock == False)].drop(columns=['expectancy', 'subject','shock']).std()"
   ],
   "metadata": {
    "collapsed": false
   }
  },
  {
   "cell_type": "code",
   "execution_count": null,
   "outputs": [],
   "source": [
    "plt.plot(X, LE_mean, 'b-', label='low exp shock')\n",
    "#plt.fill_between(X, LE_mean+LE_std, LE_mean-LE_std, color='b', alpha=0.07)\n",
    "\n",
    "plt.plot(X, LE_mean_no, 'deepskyblue', label='low exp - no shock')\n",
    "#plt.fill_between(X, LE_mean_no+LE_std_no, LE_mean_no-LE_std_no, color='deepskyblue', alpha=0.07)\n",
    "\n",
    "\n",
    "plt.plot(X, HE_mean, 'r-', label='High exp and shock')\n",
    "#plt.fill_between(X, HE_mean-HE_std, HE_mean+HE_std, color='r', alpha=0.07)\n",
    "\n",
    "plt.plot(X, HE_mean_no, 'tomato', label='High exp and no shock')\n",
    "#plt.fill_between(X, HE_mean_no-HE_std_no, HE_mean_no+HE_std_no, color='tomato', alpha=0.07)\n",
    "plt.legend()\n",
    "plt.title('Real data')\n",
    "\n",
    "plt.show()"
   ],
   "metadata": {
    "collapsed": false
   }
  },
  {
   "cell_type": "code",
   "execution_count": null,
   "outputs": [],
   "source": [
    "# fake dati\n",
    "general_features = pd.DataFrame()\n",
    "valid_subject=extract_correct_csv.extract_only_valid_subject()\n",
    "valid_subject.remove(49)\n",
    "for x in valid_subject:\n",
    "    feature_x = pd.read_csv('data_fake/features_4_2/hr/'+str(x)+'.csv')\n",
    "    shock_sub = shock_csv[shock_csv['subject']==x]\n",
    "    expectancy = np.array(list([int(d > 2) for d in shock_sub['rating']]))\n",
    "    df_copy = feature_x.copy(deep=False)\n",
    "    df_copy['expectancy'] = expectancy\n",
    "    df_copy['subject'] = shock_sub.subject.to_numpy()\n",
    "    if general_features.empty:\n",
    "        general_features = df_copy\n",
    "    else:\n",
    "        general_features = pd.concat([general_features, df_copy], axis=0)\n"
   ],
   "metadata": {
    "collapsed": false
   }
  },
  {
   "cell_type": "code",
   "execution_count": null,
   "outputs": [],
   "source": [
    "LE_mean = general_features[general_features.expectancy == 0].drop(columns=['expectancy', 'subject']).mean()\n",
    "LE_std = general_features[general_features.expectancy == 0].drop(columns=['expectancy', 'subject']).std()\n",
    "\n",
    "HE_mean = general_features[general_features.expectancy == 1].drop(columns=['expectancy', 'subject']).mean()\n",
    "HE_std = general_features[general_features.expectancy == 1].drop(columns=['expectancy', 'subject']).std()\n",
    "plt.plot(X, LE_mean, 'b-', label='low exp')\n",
    "plt.fill_between(X, LE_mean + LE_std, LE_mean - LE_std, color='b', alpha=0.07)\n",
    "\n",
    "plt.plot(X, HE_mean, 'r-', label='high exp')\n",
    "plt.fill_between(X, HE_mean - HE_std, HE_mean + HE_std, color='r', alpha=0.07)\n",
    "\n",
    "plt.legend()\n",
    "plt.title('Fake data')\n",
    "plt.show()"
   ],
   "metadata": {
    "collapsed": false
   }
  }
 ],
 "metadata": {
  "kernelspec": {
   "display_name": "Python 3",
   "language": "python",
   "name": "python3"
  },
  "language_info": {
   "codemirror_mode": {
    "name": "ipython",
    "version": 2
   },
   "file_extension": ".py",
   "mimetype": "text/x-python",
   "name": "python",
   "nbconvert_exporter": "python",
   "pygments_lexer": "ipython2",
   "version": "2.7.6"
  }
 },
 "nbformat": 4,
 "nbformat_minor": 0
}
