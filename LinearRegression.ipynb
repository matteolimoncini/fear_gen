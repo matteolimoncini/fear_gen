{
 "cells": [
  {
   "cell_type": "code",
   "execution_count": 1,
   "metadata": {
    "collapsed": true
   },
   "outputs": [
    {
     "name": "stdout",
     "output_type": "stream",
     "text": [
      "PyMC version: 4.2.2\n"
     ]
    }
   ],
   "source": [
    "import pymc as pm\n",
    "import numpy as np\n",
    "import pandas as pd\n",
    "from sklearn.linear_model import RidgeClassifier\n",
    "from sklearn.model_selection import train_test_split\n",
    "from sklearn.preprocessing import StandardScaler\n",
    "\n",
    "import extract_correct_csv\n",
    "\n",
    "print(f\"PyMC version: {pm.__version__}\")\n"
   ]
  },
  {
   "cell_type": "markdown",
   "source": [
    "## Ridge classifier with sklearn"
   ],
   "metadata": {
    "collapsed": false
   }
  },
  {
   "cell_type": "code",
   "execution_count": 2,
   "outputs": [
    {
     "data": {
      "text/plain": "[2, 4, 10, 41, 43, 44, 45, 46, 47, 48, 50, 51, 52, 53, 54, 55]"
     },
     "execution_count": 2,
     "metadata": {},
     "output_type": "execute_result"
    }
   ],
   "source": [
    "valid_subject = extract_correct_csv.extract_only_valid_subject()\n",
    "valid_subject.remove(49)\n",
    "valid_subject"
   ],
   "metadata": {
    "collapsed": false
   }
  },
  {
   "cell_type": "code",
   "execution_count": 3,
   "outputs": [],
   "source": [
    "columns = ['subject', 'type', 'train accuracy', 'test accuracy']\n",
    "results = pd.DataFrame(columns = columns)\n",
    "index = 1\n",
    "for x in valid_subject:\n",
    "    string_sub = extract_correct_csv.read_correct_subject_csv(x)\n",
    "    df_ = pd.read_csv('data/LookAtMe_0'+string_sub+'.csv', sep='\\t')\n",
    "    y = np.array(list([int (d > 2) for d in df_['rating']]))\n",
    "    y = y[48:]\n",
    "    types_ = ['hr', 'eda', 'pupil']\n",
    "    for type_ in types_:\n",
    "        X = pd.read_csv('data/features_4_2/'+type_+'/45.csv')\n",
    "        X = X[48:]\n",
    "        # creating train and test\n",
    "        X_train, X_test,\\\n",
    "        y_train, y_test = train_test_split(X, y, test_size=0.20, random_state=123, stratify=y)\n",
    "        clf = RidgeClassifier()\n",
    "        clf.fit(X_train, y_train)\n",
    "        train_ = clf.score(X_train, y_train)\n",
    "        test_ = clf.score(X_test, y_test)\n",
    "        dict_ = {'subject': x, 'type': type_, 'train accuracy': train_, 'test accuracy': test_}\n",
    "        results = pd.concat([results, pd.DataFrame(data=dict_, index=np.arange(1))], ignore_index=True)\n",
    "        index = index + 1"
   ],
   "metadata": {
    "collapsed": false
   }
  },
  {
   "cell_type": "code",
   "execution_count": 4,
   "outputs": [
    {
     "data": {
      "text/plain": "   subject   type  train accuracy  test accuracy\n0        2     hr        0.674157       0.695652\n1        2    eda        0.707865       0.652174\n2        2  pupil        0.685393       0.565217\n3        4     hr        0.651685       0.478261\n4        4    eda        0.651685       0.565217\n5        4  pupil        0.685393       0.608696\n6       10     hr        0.674157       0.521739\n7       10    eda        0.741573       0.608696\n8       10  pupil        0.730337       0.608696\n9       41     hr        0.741573       0.695652\n10      41    eda        0.820225       0.782609\n11      41  pupil        0.764045       0.565217\n12      43     hr        0.573034       0.391304\n13      43    eda        0.820225       0.869565\n14      43  pupil        0.685393       0.608696\n15      44     hr        0.674157       0.565217\n16      44    eda        0.662921       0.434783\n17      44  pupil        0.696629       0.652174\n18      45     hr        0.775281       0.434783\n19      45    eda        0.853933       0.782609\n20      45  pupil        0.752809       0.608696\n21      46     hr        0.595506       0.521739\n22      46    eda        0.752809       0.521739\n23      46  pupil        0.775281       0.434783\n24      47     hr        0.662921       0.434783\n25      47    eda        0.775281       0.608696\n26      47  pupil        0.764045       0.608696\n27      48     hr        0.674157       0.347826\n28      48    eda        0.752809       0.565217\n29      48  pupil        0.629213       0.478261\n30      50     hr        0.606742       0.695652\n31      50    eda        0.685393       0.695652\n32      50  pupil        0.685393       0.478261\n33      51     hr        0.685393       0.652174\n34      51    eda        0.786517       0.608696\n35      51  pupil        0.719101       0.521739\n36      52     hr        0.685393       0.434783\n37      52    eda        0.719101       0.695652\n38      52  pupil        0.685393       0.565217\n39      53     hr        0.651685       0.695652\n40      53    eda        0.775281       0.608696\n41      53  pupil        0.786517       0.565217\n42      54     hr        0.730337       0.521739\n43      54    eda        0.752809       0.608696\n44      54  pupil        0.752809       0.521739\n45      55     hr        0.696629       0.521739\n46      55    eda        0.707865       0.608696\n47      55  pupil        0.752809       0.739130",
      "text/html": "<div>\n<style scoped>\n    .dataframe tbody tr th:only-of-type {\n        vertical-align: middle;\n    }\n\n    .dataframe tbody tr th {\n        vertical-align: top;\n    }\n\n    .dataframe thead th {\n        text-align: right;\n    }\n</style>\n<table border=\"1\" class=\"dataframe\">\n  <thead>\n    <tr style=\"text-align: right;\">\n      <th></th>\n      <th>subject</th>\n      <th>type</th>\n      <th>train accuracy</th>\n      <th>test accuracy</th>\n    </tr>\n  </thead>\n  <tbody>\n    <tr>\n      <th>0</th>\n      <td>2</td>\n      <td>hr</td>\n      <td>0.674157</td>\n      <td>0.695652</td>\n    </tr>\n    <tr>\n      <th>1</th>\n      <td>2</td>\n      <td>eda</td>\n      <td>0.707865</td>\n      <td>0.652174</td>\n    </tr>\n    <tr>\n      <th>2</th>\n      <td>2</td>\n      <td>pupil</td>\n      <td>0.685393</td>\n      <td>0.565217</td>\n    </tr>\n    <tr>\n      <th>3</th>\n      <td>4</td>\n      <td>hr</td>\n      <td>0.651685</td>\n      <td>0.478261</td>\n    </tr>\n    <tr>\n      <th>4</th>\n      <td>4</td>\n      <td>eda</td>\n      <td>0.651685</td>\n      <td>0.565217</td>\n    </tr>\n    <tr>\n      <th>5</th>\n      <td>4</td>\n      <td>pupil</td>\n      <td>0.685393</td>\n      <td>0.608696</td>\n    </tr>\n    <tr>\n      <th>6</th>\n      <td>10</td>\n      <td>hr</td>\n      <td>0.674157</td>\n      <td>0.521739</td>\n    </tr>\n    <tr>\n      <th>7</th>\n      <td>10</td>\n      <td>eda</td>\n      <td>0.741573</td>\n      <td>0.608696</td>\n    </tr>\n    <tr>\n      <th>8</th>\n      <td>10</td>\n      <td>pupil</td>\n      <td>0.730337</td>\n      <td>0.608696</td>\n    </tr>\n    <tr>\n      <th>9</th>\n      <td>41</td>\n      <td>hr</td>\n      <td>0.741573</td>\n      <td>0.695652</td>\n    </tr>\n    <tr>\n      <th>10</th>\n      <td>41</td>\n      <td>eda</td>\n      <td>0.820225</td>\n      <td>0.782609</td>\n    </tr>\n    <tr>\n      <th>11</th>\n      <td>41</td>\n      <td>pupil</td>\n      <td>0.764045</td>\n      <td>0.565217</td>\n    </tr>\n    <tr>\n      <th>12</th>\n      <td>43</td>\n      <td>hr</td>\n      <td>0.573034</td>\n      <td>0.391304</td>\n    </tr>\n    <tr>\n      <th>13</th>\n      <td>43</td>\n      <td>eda</td>\n      <td>0.820225</td>\n      <td>0.869565</td>\n    </tr>\n    <tr>\n      <th>14</th>\n      <td>43</td>\n      <td>pupil</td>\n      <td>0.685393</td>\n      <td>0.608696</td>\n    </tr>\n    <tr>\n      <th>15</th>\n      <td>44</td>\n      <td>hr</td>\n      <td>0.674157</td>\n      <td>0.565217</td>\n    </tr>\n    <tr>\n      <th>16</th>\n      <td>44</td>\n      <td>eda</td>\n      <td>0.662921</td>\n      <td>0.434783</td>\n    </tr>\n    <tr>\n      <th>17</th>\n      <td>44</td>\n      <td>pupil</td>\n      <td>0.696629</td>\n      <td>0.652174</td>\n    </tr>\n    <tr>\n      <th>18</th>\n      <td>45</td>\n      <td>hr</td>\n      <td>0.775281</td>\n      <td>0.434783</td>\n    </tr>\n    <tr>\n      <th>19</th>\n      <td>45</td>\n      <td>eda</td>\n      <td>0.853933</td>\n      <td>0.782609</td>\n    </tr>\n    <tr>\n      <th>20</th>\n      <td>45</td>\n      <td>pupil</td>\n      <td>0.752809</td>\n      <td>0.608696</td>\n    </tr>\n    <tr>\n      <th>21</th>\n      <td>46</td>\n      <td>hr</td>\n      <td>0.595506</td>\n      <td>0.521739</td>\n    </tr>\n    <tr>\n      <th>22</th>\n      <td>46</td>\n      <td>eda</td>\n      <td>0.752809</td>\n      <td>0.521739</td>\n    </tr>\n    <tr>\n      <th>23</th>\n      <td>46</td>\n      <td>pupil</td>\n      <td>0.775281</td>\n      <td>0.434783</td>\n    </tr>\n    <tr>\n      <th>24</th>\n      <td>47</td>\n      <td>hr</td>\n      <td>0.662921</td>\n      <td>0.434783</td>\n    </tr>\n    <tr>\n      <th>25</th>\n      <td>47</td>\n      <td>eda</td>\n      <td>0.775281</td>\n      <td>0.608696</td>\n    </tr>\n    <tr>\n      <th>26</th>\n      <td>47</td>\n      <td>pupil</td>\n      <td>0.764045</td>\n      <td>0.608696</td>\n    </tr>\n    <tr>\n      <th>27</th>\n      <td>48</td>\n      <td>hr</td>\n      <td>0.674157</td>\n      <td>0.347826</td>\n    </tr>\n    <tr>\n      <th>28</th>\n      <td>48</td>\n      <td>eda</td>\n      <td>0.752809</td>\n      <td>0.565217</td>\n    </tr>\n    <tr>\n      <th>29</th>\n      <td>48</td>\n      <td>pupil</td>\n      <td>0.629213</td>\n      <td>0.478261</td>\n    </tr>\n    <tr>\n      <th>30</th>\n      <td>50</td>\n      <td>hr</td>\n      <td>0.606742</td>\n      <td>0.695652</td>\n    </tr>\n    <tr>\n      <th>31</th>\n      <td>50</td>\n      <td>eda</td>\n      <td>0.685393</td>\n      <td>0.695652</td>\n    </tr>\n    <tr>\n      <th>32</th>\n      <td>50</td>\n      <td>pupil</td>\n      <td>0.685393</td>\n      <td>0.478261</td>\n    </tr>\n    <tr>\n      <th>33</th>\n      <td>51</td>\n      <td>hr</td>\n      <td>0.685393</td>\n      <td>0.652174</td>\n    </tr>\n    <tr>\n      <th>34</th>\n      <td>51</td>\n      <td>eda</td>\n      <td>0.786517</td>\n      <td>0.608696</td>\n    </tr>\n    <tr>\n      <th>35</th>\n      <td>51</td>\n      <td>pupil</td>\n      <td>0.719101</td>\n      <td>0.521739</td>\n    </tr>\n    <tr>\n      <th>36</th>\n      <td>52</td>\n      <td>hr</td>\n      <td>0.685393</td>\n      <td>0.434783</td>\n    </tr>\n    <tr>\n      <th>37</th>\n      <td>52</td>\n      <td>eda</td>\n      <td>0.719101</td>\n      <td>0.695652</td>\n    </tr>\n    <tr>\n      <th>38</th>\n      <td>52</td>\n      <td>pupil</td>\n      <td>0.685393</td>\n      <td>0.565217</td>\n    </tr>\n    <tr>\n      <th>39</th>\n      <td>53</td>\n      <td>hr</td>\n      <td>0.651685</td>\n      <td>0.695652</td>\n    </tr>\n    <tr>\n      <th>40</th>\n      <td>53</td>\n      <td>eda</td>\n      <td>0.775281</td>\n      <td>0.608696</td>\n    </tr>\n    <tr>\n      <th>41</th>\n      <td>53</td>\n      <td>pupil</td>\n      <td>0.786517</td>\n      <td>0.565217</td>\n    </tr>\n    <tr>\n      <th>42</th>\n      <td>54</td>\n      <td>hr</td>\n      <td>0.730337</td>\n      <td>0.521739</td>\n    </tr>\n    <tr>\n      <th>43</th>\n      <td>54</td>\n      <td>eda</td>\n      <td>0.752809</td>\n      <td>0.608696</td>\n    </tr>\n    <tr>\n      <th>44</th>\n      <td>54</td>\n      <td>pupil</td>\n      <td>0.752809</td>\n      <td>0.521739</td>\n    </tr>\n    <tr>\n      <th>45</th>\n      <td>55</td>\n      <td>hr</td>\n      <td>0.696629</td>\n      <td>0.521739</td>\n    </tr>\n    <tr>\n      <th>46</th>\n      <td>55</td>\n      <td>eda</td>\n      <td>0.707865</td>\n      <td>0.608696</td>\n    </tr>\n    <tr>\n      <th>47</th>\n      <td>55</td>\n      <td>pupil</td>\n      <td>0.752809</td>\n      <td>0.739130</td>\n    </tr>\n  </tbody>\n</table>\n</div>"
     },
     "execution_count": 4,
     "metadata": {},
     "output_type": "execute_result"
    }
   ],
   "source": [
    "results"
   ],
   "metadata": {
    "collapsed": false
   }
  },
  {
   "cell_type": "code",
   "execution_count": 15,
   "outputs": [
    {
     "data": {
      "text/plain": "   subject   type  train accuracy  test accuracy\n1        2    eda        0.707865       0.652174\n5        4  pupil        0.685393       0.608696\n7       10    eda        0.741573       0.608696\n10      41    eda        0.820225       0.782609\n13      43    eda        0.820225       0.869565\n17      44  pupil        0.696629       0.652174\n19      45    eda        0.853933       0.782609\n23      46  pupil        0.775281       0.434783\n25      47    eda        0.775281       0.608696\n28      48    eda        0.752809       0.565217\n31      49    eda        0.775281       0.869565\n34      52    eda        0.719101       0.695652\n38      53  pupil        0.786517       0.565217\n40      54    eda        0.752809       0.608696\n44      55  pupil        0.752809       0.739130",
      "text/html": "<div>\n<style scoped>\n    .dataframe tbody tr th:only-of-type {\n        vertical-align: middle;\n    }\n\n    .dataframe tbody tr th {\n        vertical-align: top;\n    }\n\n    .dataframe thead th {\n        text-align: right;\n    }\n</style>\n<table border=\"1\" class=\"dataframe\">\n  <thead>\n    <tr style=\"text-align: right;\">\n      <th></th>\n      <th>subject</th>\n      <th>type</th>\n      <th>train accuracy</th>\n      <th>test accuracy</th>\n    </tr>\n  </thead>\n  <tbody>\n    <tr>\n      <th>1</th>\n      <td>2</td>\n      <td>eda</td>\n      <td>0.707865</td>\n      <td>0.652174</td>\n    </tr>\n    <tr>\n      <th>5</th>\n      <td>4</td>\n      <td>pupil</td>\n      <td>0.685393</td>\n      <td>0.608696</td>\n    </tr>\n    <tr>\n      <th>7</th>\n      <td>10</td>\n      <td>eda</td>\n      <td>0.741573</td>\n      <td>0.608696</td>\n    </tr>\n    <tr>\n      <th>10</th>\n      <td>41</td>\n      <td>eda</td>\n      <td>0.820225</td>\n      <td>0.782609</td>\n    </tr>\n    <tr>\n      <th>13</th>\n      <td>43</td>\n      <td>eda</td>\n      <td>0.820225</td>\n      <td>0.869565</td>\n    </tr>\n    <tr>\n      <th>17</th>\n      <td>44</td>\n      <td>pupil</td>\n      <td>0.696629</td>\n      <td>0.652174</td>\n    </tr>\n    <tr>\n      <th>19</th>\n      <td>45</td>\n      <td>eda</td>\n      <td>0.853933</td>\n      <td>0.782609</td>\n    </tr>\n    <tr>\n      <th>23</th>\n      <td>46</td>\n      <td>pupil</td>\n      <td>0.775281</td>\n      <td>0.434783</td>\n    </tr>\n    <tr>\n      <th>25</th>\n      <td>47</td>\n      <td>eda</td>\n      <td>0.775281</td>\n      <td>0.608696</td>\n    </tr>\n    <tr>\n      <th>28</th>\n      <td>48</td>\n      <td>eda</td>\n      <td>0.752809</td>\n      <td>0.565217</td>\n    </tr>\n    <tr>\n      <th>31</th>\n      <td>49</td>\n      <td>eda</td>\n      <td>0.775281</td>\n      <td>0.869565</td>\n    </tr>\n    <tr>\n      <th>34</th>\n      <td>52</td>\n      <td>eda</td>\n      <td>0.719101</td>\n      <td>0.695652</td>\n    </tr>\n    <tr>\n      <th>38</th>\n      <td>53</td>\n      <td>pupil</td>\n      <td>0.786517</td>\n      <td>0.565217</td>\n    </tr>\n    <tr>\n      <th>40</th>\n      <td>54</td>\n      <td>eda</td>\n      <td>0.752809</td>\n      <td>0.608696</td>\n    </tr>\n    <tr>\n      <th>44</th>\n      <td>55</td>\n      <td>pupil</td>\n      <td>0.752809</td>\n      <td>0.739130</td>\n    </tr>\n  </tbody>\n</table>\n</div>"
     },
     "execution_count": 15,
     "metadata": {},
     "output_type": "execute_result"
    }
   ],
   "source": [
    "results.loc[results.groupby(by=['subject'])['train accuracy'].idxmax()]"
   ],
   "metadata": {
    "collapsed": false
   }
  },
  {
   "cell_type": "code",
   "execution_count": 16,
   "outputs": [
    {
     "data": {
      "text/plain": "type\neda      0.652174\nhr       0.518841\npupil    0.571014\nName: test accuracy, dtype: float64"
     },
     "execution_count": 16,
     "metadata": {},
     "output_type": "execute_result"
    }
   ],
   "source": [
    "results.groupby(by='type')['test accuracy'].mean()"
   ],
   "metadata": {
    "collapsed": false
   }
  },
  {
   "cell_type": "markdown",
   "source": [
    "# Multi physio classifier"
   ],
   "metadata": {
    "collapsed": false
   }
  },
  {
   "cell_type": "code",
   "execution_count": 17,
   "outputs": [],
   "source": [
    "subjects = extract_correct_csv.extract_only_valid_subject()\n",
    "\n",
    "df_ = pd.read_csv('data/LookAtMe_002.csv', sep='\\t')\n",
    "y = np.array(list([int (d > 2) for d in df_['rating']]))\n",
    "y = y[48:]\n",
    "\n",
    "mean_train = []\n",
    "mean_test = []\n",
    "scaler = StandardScaler()\n",
    "\n",
    "for sub in subjects:\n",
    "    X1 = pd.read_csv('data/features_4_2/hr/'+str(sub)+'.csv')\n",
    "    X1 = pd.DataFrame(scaler.fit_transform(X1))\n",
    "    X2 = pd.read_csv('data/features_4_2/eda/'+str(sub)+'.csv')\n",
    "    X2 = pd.DataFrame(scaler.fit_transform(X2))\n",
    "    X3 = pd.read_csv('data/features_4_2/pupil/'+str(sub)+'.csv')\n",
    "    X3 = pd.DataFrame(scaler.fit_transform(X3))\n",
    "    X = pd.concat([X1, X2, X3], axis=1)\n",
    "    X = X[48:]\n",
    "    X_train, X_test,y_train, y_test = train_test_split(X, y, test_size=0.2, random_state=123, stratify=y)\n",
    "\n",
    "    classifier = RidgeClassifier()\n",
    "    classifier.fit(X_train, y_train)\n",
    "    mean_train.append(classifier.score(X_train, y_train))\n",
    "    mean_test.append(classifier.score(X_test,y_test))"
   ],
   "metadata": {
    "collapsed": false
   }
  },
  {
   "cell_type": "code",
   "execution_count": 18,
   "outputs": [
    {
     "data": {
      "text/plain": "0.8096497025776602"
     },
     "execution_count": 18,
     "metadata": {},
     "output_type": "execute_result"
    }
   ],
   "source": [
    "np.mean(np.array(mean_train))"
   ],
   "metadata": {
    "collapsed": false
   }
  },
  {
   "cell_type": "code",
   "execution_count": 19,
   "outputs": [
    {
     "data": {
      "text/plain": "0.6138107416879796"
     },
     "execution_count": 19,
     "metadata": {},
     "output_type": "execute_result"
    }
   ],
   "source": [
    "np.mean(np.array(mean_test))"
   ],
   "metadata": {
    "collapsed": false
   }
  },
  {
   "cell_type": "markdown",
   "source": [
    "# MLP"
   ],
   "metadata": {
    "collapsed": false
   }
  },
  {
   "cell_type": "code",
   "execution_count": 20,
   "outputs": [],
   "source": [
    "from sklearn.neural_network import MLPClassifier\n",
    "valid_subject = extract_correct_csv.extract_only_valid_subject()\n",
    "valid_subject.remove(50)\n",
    "valid_subject.remove(51)\n",
    "\n",
    "mean_MLP_train = []\n",
    "mean_MLP_test = []\n",
    "for sub in valid_subject:\n",
    "    string_sub = extract_correct_csv.read_correct_subject_csv(sub)\n",
    "    df_ = pd.read_csv('data/LookAtMe_0'+string_sub+'.csv', sep='\\t')\n",
    "    y = np.array(list([int (d > 2) for d in df_['rating']]))\n",
    "    y = y[48:]\n",
    "\n",
    "\n",
    "    X1 = pd.read_csv('data/features_4_2/hr/'+str(sub)+'.csv')\n",
    "    X1 = pd.DataFrame(scaler.fit_transform(X1))\n",
    "    X2 = pd.read_csv('data/features_4_2/eda/'+str(sub)+'.csv')\n",
    "    X2 = pd.DataFrame(scaler.fit_transform(X2))\n",
    "    X3 = pd.read_csv('data/features_4_2/pupil/'+str(sub)+'.csv')\n",
    "    X3 = pd.DataFrame(scaler.fit_transform(X3))\n",
    "\n",
    "    X = pd.concat([X1, X2, X3], axis=1)\n",
    "    X = X[48:]\n",
    "    X_train, X_test,y_train, y_test = train_test_split(X, y, test_size=0.15, random_state=123, stratify=y)\n",
    "    clf = MLPClassifier(hidden_layer_sizes=100, max_iter=700, learning_rate='adaptive', random_state=123).fit(X_train, y_train)\n",
    "    mean_MLP_train.append(clf.score(X_train, y_train))\n",
    "    mean_MLP_test.append(clf.score(X_test, y_test))"
   ],
   "metadata": {
    "collapsed": false
   }
  },
  {
   "cell_type": "code",
   "execution_count": 21,
   "outputs": [
    {
     "data": {
      "text/plain": "1.0"
     },
     "execution_count": 21,
     "metadata": {},
     "output_type": "execute_result"
    }
   ],
   "source": [
    "np.mean(np.array(mean_MLP_train))"
   ],
   "metadata": {
    "collapsed": false
   }
  },
  {
   "cell_type": "code",
   "execution_count": 22,
   "outputs": [
    {
     "data": {
      "text/plain": "0.6627450980392156"
     },
     "execution_count": 22,
     "metadata": {},
     "output_type": "execute_result"
    }
   ],
   "source": [
    "np.mean(np.array(mean_MLP_test))"
   ],
   "metadata": {
    "collapsed": false
   }
  },
  {
   "cell_type": "code",
   "execution_count": 23,
   "outputs": [
    {
     "data": {
      "text/plain": "0.07583952786593612"
     },
     "execution_count": 23,
     "metadata": {},
     "output_type": "execute_result"
    }
   ],
   "source": [
    "np.std(np.array(mean_MLP_test))"
   ],
   "metadata": {
    "collapsed": false
   }
  }
 ],
 "metadata": {
  "kernelspec": {
   "display_name": "Python 3",
   "language": "python",
   "name": "python3"
  },
  "language_info": {
   "codemirror_mode": {
    "name": "ipython",
    "version": 2
   },
   "file_extension": ".py",
   "mimetype": "text/x-python",
   "name": "python",
   "nbconvert_exporter": "python",
   "pygments_lexer": "ipython2",
   "version": "2.7.6"
  }
 },
 "nbformat": 4,
 "nbformat_minor": 0
}
