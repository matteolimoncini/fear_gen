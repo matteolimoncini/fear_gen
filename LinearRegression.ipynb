{
 "cells": [
  {
   "cell_type": "code",
   "execution_count": 1,
   "metadata": {
    "collapsed": true
   },
   "outputs": [
    {
     "name": "stdout",
     "output_type": "stream",
     "text": [
      "PyMC version: 4.2.2\n"
     ]
    }
   ],
   "source": [
    "import pymc as pm\n",
    "import numpy as np\n",
    "import pandas as pd\n",
    "from sklearn.linear_model import RidgeClassifier\n",
    "from sklearn.model_selection import train_test_split\n",
    "import extract_correct_csv\n",
    "\n",
    "print(f\"PyMC version: {pm.__version__}\")\n"
   ]
  },
  {
   "cell_type": "markdown",
   "source": [
    "## Ridge classifier with sklearn"
   ],
   "metadata": {
    "collapsed": false
   }
  },
  {
   "cell_type": "code",
   "execution_count": 4,
   "outputs": [
    {
     "data": {
      "text/plain": "[2, 4, 10, 41, 43, 44, 45, 46, 47, 48, 50, 51, 52, 53, 54, 55]"
     },
     "execution_count": 4,
     "metadata": {},
     "output_type": "execute_result"
    }
   ],
   "source": [
    "valid_subject = extract_correct_csv.extract_only_valid_subject()\n",
    "valid_subject.remove(49)\n",
    "valid_subject"
   ],
   "metadata": {
    "collapsed": false
   }
  },
  {
   "cell_type": "code",
   "execution_count": 58,
   "outputs": [],
   "source": [
    "columns = ['subject', 'type', 'train accuracy', 'test accuracy']\n",
    "results = pd.DataFrame(columns = columns)\n",
    "index = 1\n",
    "for x in valid_subject:\n",
    "    string_sub = extract_correct_csv.read_correct_subject_csv(x)\n",
    "    df_ = pd.read_csv('data/LookAtMe_0'+string_sub+'.csv', sep='\\t')\n",
    "    y = np.array(list([int (d > 2) for d in df_['rating']]))\n",
    "    types_ = ['hr', 'eda', 'pupil']\n",
    "    for type_ in types_:\n",
    "        X = pd.read_csv('data/features_4_2/'+type_+'/45.csv')\n",
    "        # creating train and test\n",
    "        X_train, X_test,\\\n",
    "        y_train, y_test = train_test_split(X, y, test_size=0.20, random_state=123)\n",
    "        clf = RidgeClassifier()\n",
    "        clf.fit(X_train, y_train)\n",
    "        train_ = clf.score(X_train, y_train)\n",
    "        test_ = clf.score(X_test, y_test)\n",
    "        dict_ = {'subject': x, 'type': type_, 'train accuracy': train_, 'test accuracy': test_}\n",
    "        results = pd.concat([results, pd.DataFrame(data=dict_, index=np.arange(1))], ignore_index=True)\n",
    "        index = index + 1"
   ],
   "metadata": {
    "collapsed": false
   }
  },
  {
   "cell_type": "code",
   "execution_count": 59,
   "outputs": [
    {
     "data": {
      "text/plain": "   subject   type  train accuracy  test accuracy\n1        2    eda        0.742188        0.62500\n4        4    eda        0.710938        0.43750\n7       10    eda        0.765625        0.78125\n10      41    eda        0.726562        0.53125\n13      43    eda        0.859375        0.71875\n17      44  pupil        0.656250        0.53125\n19      45    eda        0.804688        0.65625\n23      46  pupil        0.679688        0.68750\n25      47    eda        0.742188        0.65625\n28      48    eda        0.710938        0.56250\n32      50  pupil        0.632812        0.46875\n35      51  pupil        0.734375        0.65625\n36      52     hr        0.710938        0.62500\n41      53  pupil        0.765625        0.50000\n43      54    eda        0.750000        0.75000\n47      55  pupil        0.718750        0.53125",
      "text/html": "<div>\n<style scoped>\n    .dataframe tbody tr th:only-of-type {\n        vertical-align: middle;\n    }\n\n    .dataframe tbody tr th {\n        vertical-align: top;\n    }\n\n    .dataframe thead th {\n        text-align: right;\n    }\n</style>\n<table border=\"1\" class=\"dataframe\">\n  <thead>\n    <tr style=\"text-align: right;\">\n      <th></th>\n      <th>subject</th>\n      <th>type</th>\n      <th>train accuracy</th>\n      <th>test accuracy</th>\n    </tr>\n  </thead>\n  <tbody>\n    <tr>\n      <th>1</th>\n      <td>2</td>\n      <td>eda</td>\n      <td>0.742188</td>\n      <td>0.62500</td>\n    </tr>\n    <tr>\n      <th>4</th>\n      <td>4</td>\n      <td>eda</td>\n      <td>0.710938</td>\n      <td>0.43750</td>\n    </tr>\n    <tr>\n      <th>7</th>\n      <td>10</td>\n      <td>eda</td>\n      <td>0.765625</td>\n      <td>0.78125</td>\n    </tr>\n    <tr>\n      <th>10</th>\n      <td>41</td>\n      <td>eda</td>\n      <td>0.726562</td>\n      <td>0.53125</td>\n    </tr>\n    <tr>\n      <th>13</th>\n      <td>43</td>\n      <td>eda</td>\n      <td>0.859375</td>\n      <td>0.71875</td>\n    </tr>\n    <tr>\n      <th>17</th>\n      <td>44</td>\n      <td>pupil</td>\n      <td>0.656250</td>\n      <td>0.53125</td>\n    </tr>\n    <tr>\n      <th>19</th>\n      <td>45</td>\n      <td>eda</td>\n      <td>0.804688</td>\n      <td>0.65625</td>\n    </tr>\n    <tr>\n      <th>23</th>\n      <td>46</td>\n      <td>pupil</td>\n      <td>0.679688</td>\n      <td>0.68750</td>\n    </tr>\n    <tr>\n      <th>25</th>\n      <td>47</td>\n      <td>eda</td>\n      <td>0.742188</td>\n      <td>0.65625</td>\n    </tr>\n    <tr>\n      <th>28</th>\n      <td>48</td>\n      <td>eda</td>\n      <td>0.710938</td>\n      <td>0.56250</td>\n    </tr>\n    <tr>\n      <th>32</th>\n      <td>50</td>\n      <td>pupil</td>\n      <td>0.632812</td>\n      <td>0.46875</td>\n    </tr>\n    <tr>\n      <th>35</th>\n      <td>51</td>\n      <td>pupil</td>\n      <td>0.734375</td>\n      <td>0.65625</td>\n    </tr>\n    <tr>\n      <th>36</th>\n      <td>52</td>\n      <td>hr</td>\n      <td>0.710938</td>\n      <td>0.62500</td>\n    </tr>\n    <tr>\n      <th>41</th>\n      <td>53</td>\n      <td>pupil</td>\n      <td>0.765625</td>\n      <td>0.50000</td>\n    </tr>\n    <tr>\n      <th>43</th>\n      <td>54</td>\n      <td>eda</td>\n      <td>0.750000</td>\n      <td>0.75000</td>\n    </tr>\n    <tr>\n      <th>47</th>\n      <td>55</td>\n      <td>pupil</td>\n      <td>0.718750</td>\n      <td>0.53125</td>\n    </tr>\n  </tbody>\n</table>\n</div>"
     },
     "execution_count": 59,
     "metadata": {},
     "output_type": "execute_result"
    }
   ],
   "source": [
    "results.loc[results.groupby(by=['subject'])['train accuracy'].idxmax()]"
   ],
   "metadata": {
    "collapsed": false
   }
  },
  {
   "cell_type": "code",
   "execution_count": 68,
   "outputs": [
    {
     "data": {
      "text/plain": "type\neda      0.646484\nhr       0.546875\npupil    0.535156\nName: test accuracy, dtype: float64"
     },
     "execution_count": 68,
     "metadata": {},
     "output_type": "execute_result"
    }
   ],
   "source": [
    "results.groupby(by='type')['test accuracy'].mean()"
   ],
   "metadata": {
    "collapsed": false
   }
  }
 ],
 "metadata": {
  "kernelspec": {
   "display_name": "Python 3",
   "language": "python",
   "name": "python3"
  },
  "language_info": {
   "codemirror_mode": {
    "name": "ipython",
    "version": 2
   },
   "file_extension": ".py",
   "mimetype": "text/x-python",
   "name": "python",
   "nbconvert_exporter": "python",
   "pygments_lexer": "ipython2",
   "version": "2.7.6"
  }
 },
 "nbformat": 4,
 "nbformat_minor": 0
}
