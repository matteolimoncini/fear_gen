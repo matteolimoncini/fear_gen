{
 "cells": [
  {
   "cell_type": "code",
   "execution_count": null,
   "metadata": {
    "collapsed": true
   },
   "outputs": [],
   "source": [
    "import deepemogp.feature_extractor as feature_extractor\n",
    "import deepemogp.signal.physio as physio\n",
    "import deepemogp.signal.face as face\n",
    "import deepemogp.signal.annotation as annotation\n",
    "import deepemogp.datasets as datasets\n",
    "import deepemogp.signal.behavior as behavior\n",
    "\n",
    "# from: https://github.com/SheffieldML/GPy\n",
    "#import GPy\n",
    "# from: https://github.com/SheffieldML/PyDeepGP\n",
    "#import deepgp\n",
    "\n",
    "import pandas as pd\n",
    "import numpy as np\n"
   ]
  },
  {
   "cell_type": "code",
   "execution_count": null,
   "outputs": [],
   "source": [
    "show = False"
   ],
   "metadata": {
    "collapsed": false
   }
  },
  {
   "cell_type": "code",
   "execution_count": null,
   "outputs": [],
   "source": [
    "\n",
    "#if loadData:\n",
    "\n",
    "# definition of the feature extractors to be used later\n",
    "f1 = feature_extractor.FE('wavelet')\n",
    "f2 = feature_extractor.FE('wavelet', window=(2,1))\n",
    "f3 = feature_extractor.FE('mean', window=(2,1))"
   ],
   "metadata": {
    "collapsed": false
   }
  },
  {
   "cell_type": "code",
   "execution_count": null,
   "outputs": [],
   "source": [
    "\n",
    "# definition of the physiological signals to be extracted\n",
    "eda = physio.EDA(f3)\n",
    "hr  = physio.HR(f3)\n",
    "\n",
    "pupil = behavior.PUPIL(f3)\n",
    "\n",
    "\n",
    "# definition of the emotional annotation to be extracted\n",
    "#va = annotation.VA('valence', f3)\n",
    "#ar = annotation.VA('arousal', f3)"
   ],
   "metadata": {
    "collapsed": false
   }
  },
  {
   "cell_type": "code",
   "execution_count": null,
   "outputs": [],
   "source": [
    "# extraction of the desired data from the dataset\n",
    "d = datasets.FEAR(signals={hr, pupil}, subjects={'2_1', '2_149'})\n",
    "print(d)"
   ],
   "metadata": {
    "collapsed": false
   }
  },
  {
   "cell_type": "code",
   "execution_count": null,
   "outputs": [],
   "source": [
    "for s in d.signals:\n",
    "\tprint(s)\n",
    "\tbreak"
   ],
   "metadata": {
    "collapsed": false
   }
  },
  {
   "cell_type": "code",
   "execution_count": null,
   "outputs": [],
   "source": [
    "for s in d.signals:\n",
    "\t# preprocess ...\n",
    "\t#s.preprocess(show=show)\n",
    "\n",
    "\t# ... and extract features from each signal type\n",
    "\ts.feature_ext.extract_feat_without_preprocess(s, show=show)\n",
    "\n",
    "\tprint(s.features)"
   ],
   "metadata": {
    "collapsed": false
   }
  }
 ],
 "metadata": {
  "kernelspec": {
   "display_name": "Python 3",
   "language": "python",
   "name": "python3"
  },
  "language_info": {
   "codemirror_mode": {
    "name": "ipython",
    "version": 2
   },
   "file_extension": ".py",
   "mimetype": "text/x-python",
   "name": "python",
   "nbconvert_exporter": "python",
   "pygments_lexer": "ipython2",
   "version": "2.7.6"
  }
 },
 "nbformat": 4,
 "nbformat_minor": 0
}
