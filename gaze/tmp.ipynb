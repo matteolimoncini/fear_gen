{
 "cells": [
  {
   "cell_type": "code",
   "execution_count": 1,
   "metadata": {
    "collapsed": true
   },
   "outputs": [],
   "source": [
    "import numpy as np\n",
    "import pandas as pd"
   ]
  },
  {
   "cell_type": "code",
   "execution_count": 2,
   "outputs": [],
   "source": [
    "features = pd.read_csv('../data/gaze/fixations_features.csv')\n",
    "fixations = pd.read_csv('../data/gaze/fixations_with_ROI.csv')\n",
    "features['Trial'] = features['Trial'] + 1\n",
    "features['Fixation #'] = features['Fixation #'] + 1\n",
    "fixations = fixations.drop([31023]).reset_index().drop(columns=['index'])\n",
    "features['Subject'] = features['Subject'].astype(np.int64)\n",
    "fixations['Subject'] = fixations['Subject'].astype(np.int64)\n",
    "features['Trial'] = features['Trial'].astype(np.int64)\n",
    "fixations['Trial'] = fixations['Trial'].astype(np.int64)\n",
    "features['Fixation #'] = features['Fixation #'].astype(np.int64)\n",
    "fixations['Fixation #'] = fixations['Fixation #'].astype(np.int64)\n",
    "assert len(features) == len(fixations)\n",
    "assert type(fixations['Subject'][0]) == type(features['Subject'][0])\n",
    "assert type(fixations['Trial'][0]) == type(features['Trial'][0])\n",
    "assert type(fixations['Fixation #'][0]) == type(features['Fixation #'][0])"
   ],
   "metadata": {
    "collapsed": false
   }
  },
  {
   "cell_type": "code",
   "execution_count": 3,
   "outputs": [
    {
     "data": {
      "text/plain": "        Subject  Trial  Fixation #  \\\n0            23      1           1   \n1            23      1           2   \n2            23      1           3   \n3            23      1           4   \n4            23      1           5   \n...         ...    ...         ...   \n222858        8    160          43   \n222859        8    160          44   \n222860        8    160          45   \n222861        8    160          46   \n222862        8    160          47   \n\n                                         Fixation feature  X_Coord  Y_Coord  \\\n0       [ 3.06051144e-01 -1.30341645e-01  1.62933654e-...  1047.20   514.04   \n1       [ 3.50855811e-02 -5.18709748e-02  1.61105833e-...  1016.25   509.67   \n2       [ 4.49087073e-02 -6.31503363e-02  1.21064471e-...  1007.49   500.50   \n3       [ 3.64830356e-02 -5.86554676e-02  1.63966291e-...  1001.82   492.26   \n4       [ 1.52249978e-01 -4.07425090e-02  2.37095826e-...  1007.33   494.06   \n...                                                   ...      ...      ...   \n222858  [ 2.26870711e-01 -4.44568494e-02  1.97219841e-...   920.54   503.75   \n222859  [ 4.35224840e-02 -2.47601436e-02  7.67271852e-...   996.49   634.44   \n222860  [ 4.49201503e-01 -7.77821673e-02  2.85494145e-...   996.55   632.51   \n222861  [ 7.44541030e-02 -2.51476509e-02  2.43443266e-...   800.13   856.97   \n222862  [ 2.44617367e-01 -5.00950385e-02  2.85227830e-...   798.84   861.16   \n\n               ROI  \n0              eye  \n1              eye  \n2              eye  \n3              eye  \n4              eye  \n...            ...  \n222858         eye  \n222859  mouth_nose  \n222860  mouth_nose  \n222861         NaN  \n222862         NaN  \n\n[222863 rows x 7 columns]",
      "text/html": "<div>\n<style scoped>\n    .dataframe tbody tr th:only-of-type {\n        vertical-align: middle;\n    }\n\n    .dataframe tbody tr th {\n        vertical-align: top;\n    }\n\n    .dataframe thead th {\n        text-align: right;\n    }\n</style>\n<table border=\"1\" class=\"dataframe\">\n  <thead>\n    <tr style=\"text-align: right;\">\n      <th></th>\n      <th>Subject</th>\n      <th>Trial</th>\n      <th>Fixation #</th>\n      <th>Fixation feature</th>\n      <th>X_Coord</th>\n      <th>Y_Coord</th>\n      <th>ROI</th>\n    </tr>\n  </thead>\n  <tbody>\n    <tr>\n      <th>0</th>\n      <td>23</td>\n      <td>1</td>\n      <td>1</td>\n      <td>[ 3.06051144e-01 -1.30341645e-01  1.62933654e-...</td>\n      <td>1047.20</td>\n      <td>514.04</td>\n      <td>eye</td>\n    </tr>\n    <tr>\n      <th>1</th>\n      <td>23</td>\n      <td>1</td>\n      <td>2</td>\n      <td>[ 3.50855811e-02 -5.18709748e-02  1.61105833e-...</td>\n      <td>1016.25</td>\n      <td>509.67</td>\n      <td>eye</td>\n    </tr>\n    <tr>\n      <th>2</th>\n      <td>23</td>\n      <td>1</td>\n      <td>3</td>\n      <td>[ 4.49087073e-02 -6.31503363e-02  1.21064471e-...</td>\n      <td>1007.49</td>\n      <td>500.50</td>\n      <td>eye</td>\n    </tr>\n    <tr>\n      <th>3</th>\n      <td>23</td>\n      <td>1</td>\n      <td>4</td>\n      <td>[ 3.64830356e-02 -5.86554676e-02  1.63966291e-...</td>\n      <td>1001.82</td>\n      <td>492.26</td>\n      <td>eye</td>\n    </tr>\n    <tr>\n      <th>4</th>\n      <td>23</td>\n      <td>1</td>\n      <td>5</td>\n      <td>[ 1.52249978e-01 -4.07425090e-02  2.37095826e-...</td>\n      <td>1007.33</td>\n      <td>494.06</td>\n      <td>eye</td>\n    </tr>\n    <tr>\n      <th>...</th>\n      <td>...</td>\n      <td>...</td>\n      <td>...</td>\n      <td>...</td>\n      <td>...</td>\n      <td>...</td>\n      <td>...</td>\n    </tr>\n    <tr>\n      <th>222858</th>\n      <td>8</td>\n      <td>160</td>\n      <td>43</td>\n      <td>[ 2.26870711e-01 -4.44568494e-02  1.97219841e-...</td>\n      <td>920.54</td>\n      <td>503.75</td>\n      <td>eye</td>\n    </tr>\n    <tr>\n      <th>222859</th>\n      <td>8</td>\n      <td>160</td>\n      <td>44</td>\n      <td>[ 4.35224840e-02 -2.47601436e-02  7.67271852e-...</td>\n      <td>996.49</td>\n      <td>634.44</td>\n      <td>mouth_nose</td>\n    </tr>\n    <tr>\n      <th>222860</th>\n      <td>8</td>\n      <td>160</td>\n      <td>45</td>\n      <td>[ 4.49201503e-01 -7.77821673e-02  2.85494145e-...</td>\n      <td>996.55</td>\n      <td>632.51</td>\n      <td>mouth_nose</td>\n    </tr>\n    <tr>\n      <th>222861</th>\n      <td>8</td>\n      <td>160</td>\n      <td>46</td>\n      <td>[ 7.44541030e-02 -2.51476509e-02  2.43443266e-...</td>\n      <td>800.13</td>\n      <td>856.97</td>\n      <td>NaN</td>\n    </tr>\n    <tr>\n      <th>222862</th>\n      <td>8</td>\n      <td>160</td>\n      <td>47</td>\n      <td>[ 2.44617367e-01 -5.00950385e-02  2.85227830e-...</td>\n      <td>798.84</td>\n      <td>861.16</td>\n      <td>NaN</td>\n    </tr>\n  </tbody>\n</table>\n<p>222863 rows × 7 columns</p>\n</div>"
     },
     "execution_count": 3,
     "metadata": {},
     "output_type": "execute_result"
    }
   ],
   "source": [
    "index_ = ['Subject', 'Trial', 'Fixation #']\n",
    "joined_df = pd.concat([features.set_index(index_), fixations.set_index(index_)],  axis=1, sort=False).reset_index()\n",
    "joined_df"
   ],
   "metadata": {
    "collapsed": false
   }
  },
  {
   "cell_type": "code",
   "execution_count": 4,
   "outputs": [],
   "source": [
    "joined_df.to_csv('../data/gaze/joined_fixation.csv')"
   ],
   "metadata": {
    "collapsed": false
   }
  }
 ],
 "metadata": {
  "kernelspec": {
   "display_name": "Python 3",
   "language": "python",
   "name": "python3"
  },
  "language_info": {
   "codemirror_mode": {
    "name": "ipython",
    "version": 2
   },
   "file_extension": ".py",
   "mimetype": "text/x-python",
   "name": "python",
   "nbconvert_exporter": "python",
   "pygments_lexer": "ipython2",
   "version": "2.7.6"
  }
 },
 "nbformat": 4,
 "nbformat_minor": 0
}
