{
 "cells": [
  {
   "cell_type": "code",
   "execution_count": 94,
   "metadata": {
    "collapsed": true
   },
   "outputs": [],
   "source": [
    "import numpy as np\n",
    "import pandas as pd\n",
    "import re\n",
    "import cv2"
   ]
  },
  {
   "cell_type": "code",
   "execution_count": null,
   "outputs": [],
   "source": [
    "!pwd"
   ],
   "metadata": {
    "collapsed": false
   }
  },
  {
   "cell_type": "code",
   "execution_count": null,
   "outputs": [],
   "source": [
    "import os\n",
    "\n",
    "folder_path = \"./data/gaze/ROI\" # sostituire \"percorso_della_cartella\" con il percorso della cartella che si vuole leggere\n",
    "\n",
    "all_roi = []\n",
    "for filename in os.listdir(folder_path):\n",
    "    path_complete = os.path.join(folder_path, filename)\n",
    "    if os.path.isfile(path_complete):\n",
    "        all_roi.append(path_complete)\n",
    "\n",
    "all_roi\n",
    "\n",
    "\n"
   ],
   "metadata": {
    "collapsed": false
   }
  },
  {
   "cell_type": "code",
   "execution_count": null,
   "outputs": [],
   "source": [
    "path1 = \"../data/gaze/ROI/roiLook052.asc.npy\"\n",
    "path2 = \"../data/gaze/ROI/roiLook002.asc.npy\"\n",
    "\n",
    "pattern = r\"roiLook(\\d+)\\.asc\\.npy\"\n",
    "\n",
    "match1 = re.search(pattern, path1)\n",
    "if match1:\n",
    "    print(int(match1.group(1)))  # Output: 052\n",
    "\n",
    "match2 = re.search(pattern, path2)\n",
    "if match2:\n",
    "    print(int(match2.group(1)))  # Output: 002\n",
    "\n",
    "\n"
   ],
   "metadata": {
    "collapsed": false
   }
  },
  {
   "cell_type": "code",
   "execution_count": null,
   "outputs": [],
   "source": [
    "def extract_sub(path):\n",
    "    pattern = r\"roiLook(\\d+)\\.asc\\.npy\"\n",
    "    return int(re.search(pattern, path).group(1))"
   ],
   "metadata": {
    "collapsed": false
   }
  },
  {
   "cell_type": "code",
   "execution_count": null,
   "outputs": [],
   "source": [
    "list_subject = [1]"
   ],
   "metadata": {
    "collapsed": false
   }
  },
  {
   "cell_type": "code",
   "execution_count": null,
   "outputs": [],
   "source": [
    "df_ = pd.DataFrame(columns=['Subject', 'Trial', 'Fixation #', 'X_Coord', 'Y_Coord'])\n",
    "\n",
    "for path in all_roi:\n",
    "    data = np.load(path, allow_pickle=True)\n",
    "    for i in range(len(data)):\n",
    "        subject = extract_sub(path)\n",
    "        trial = i+1\n",
    "        fix_ = data[i]['fixations']\n",
    "        for num, xy in enumerate(fix_):\n",
    "            coords = tuple(np.round(xy['mean'], 2))\n",
    "            row = [int(subject), int(trial), int(num+1), coords[0], coords[1]]\n",
    "            df_.loc[len(df_)] = row"
   ],
   "metadata": {
    "collapsed": false
   }
  },
  {
   "cell_type": "code",
   "execution_count": null,
   "outputs": [],
   "source": [
    "len(df_)"
   ],
   "metadata": {
    "collapsed": false
   }
  },
  {
   "cell_type": "code",
   "execution_count": null,
   "outputs": [],
   "source": [
    "df_.to_csv('../data/gaze/tmp/tmp_fixations.csv', index=False)"
   ],
   "metadata": {
    "collapsed": false
   }
  },
  {
   "cell_type": "code",
   "execution_count": null,
   "outputs": [],
   "source": [
    "baseline = pd.read_csv('./data/gaze/baselines/18.csv')\n",
    "baseline"
   ],
   "metadata": {
    "collapsed": false
   }
  },
  {
   "cell_type": "code",
   "execution_count": null,
   "outputs": [],
   "source": [
    "df_updated = df_.copy(deep=True)\n",
    "x_cross = 1920/2\n",
    "y_cross = 1080/2"
   ],
   "metadata": {
    "collapsed": false
   }
  },
  {
   "cell_type": "code",
   "execution_count": null,
   "outputs": [],
   "source": [
    "all_roi"
   ],
   "metadata": {
    "collapsed": false
   }
  },
  {
   "cell_type": "code",
   "execution_count": null,
   "outputs": [],
   "source": [
    "fixations = pd.read_csv('./data/gaze/tmp/tmp_fixations.csv')\n",
    "\n",
    "\n",
    "# for all subjects\n",
    "for path in all_roi:\n",
    "    subj = extract_sub(path)\n",
    "    print(\"subject: \"+str(subj))\n",
    "    baseline = pd.read_csv('./data/gaze/baselines/'+str(subj)+'.csv')\n",
    "    print(baseline)\n",
    "    sub_fixations = fixations[fixations['Subject'] == subj]\n",
    "    print(sub_fixations)\n",
    "    break"
   ],
   "metadata": {
    "collapsed": false
   }
  },
  {
   "cell_type": "code",
   "execution_count": null,
   "outputs": [],
   "source": [
    "baseline"
   ],
   "metadata": {
    "collapsed": false
   }
  },
  {
   "cell_type": "code",
   "execution_count": null,
   "outputs": [],
   "source": [
    "fixations_updated = fixations.copy(deep=True)\n",
    "fixations_updated"
   ],
   "metadata": {
    "collapsed": false
   }
  },
  {
   "cell_type": "code",
   "execution_count": null,
   "outputs": [],
   "source": [
    "df_"
   ],
   "metadata": {
    "collapsed": false
   }
  },
  {
   "cell_type": "markdown",
   "source": [
    "# baseline correction, insert missing trials"
   ],
   "metadata": {
    "collapsed": false
   }
  },
  {
   "cell_type": "code",
   "execution_count": 70,
   "outputs": [
    {
     "name": "stderr",
     "output_type": "stream",
     "text": [
      "/tmp/ipykernel_118518/4175139398.py:8: FutureWarning: The frame.append method is deprecated and will be removed from pandas in a future version. Use pandas.concat instead.\n",
      "  baseline = baseline.append({'RECORDING_SESSION_LABEL':subject,'TRIAL_LABEL':i,'CURRENT_FIX_X':-1,'CURRENT_FIX_Y':-1,'IS_VALID':False},ignore_index=True)\n",
      "/tmp/ipykernel_118518/4175139398.py:8: FutureWarning: The frame.append method is deprecated and will be removed from pandas in a future version. Use pandas.concat instead.\n",
      "  baseline = baseline.append({'RECORDING_SESSION_LABEL':subject,'TRIAL_LABEL':i,'CURRENT_FIX_X':-1,'CURRENT_FIX_Y':-1,'IS_VALID':False},ignore_index=True)\n",
      "/tmp/ipykernel_118518/4175139398.py:8: FutureWarning: The frame.append method is deprecated and will be removed from pandas in a future version. Use pandas.concat instead.\n",
      "  baseline = baseline.append({'RECORDING_SESSION_LABEL':subject,'TRIAL_LABEL':i,'CURRENT_FIX_X':-1,'CURRENT_FIX_Y':-1,'IS_VALID':False},ignore_index=True)\n",
      "/tmp/ipykernel_118518/4175139398.py:8: FutureWarning: The frame.append method is deprecated and will be removed from pandas in a future version. Use pandas.concat instead.\n",
      "  baseline = baseline.append({'RECORDING_SESSION_LABEL':subject,'TRIAL_LABEL':i,'CURRENT_FIX_X':-1,'CURRENT_FIX_Y':-1,'IS_VALID':False},ignore_index=True)\n",
      "/tmp/ipykernel_118518/4175139398.py:8: FutureWarning: The frame.append method is deprecated and will be removed from pandas in a future version. Use pandas.concat instead.\n",
      "  baseline = baseline.append({'RECORDING_SESSION_LABEL':subject,'TRIAL_LABEL':i,'CURRENT_FIX_X':-1,'CURRENT_FIX_Y':-1,'IS_VALID':False},ignore_index=True)\n",
      "/tmp/ipykernel_118518/4175139398.py:8: FutureWarning: The frame.append method is deprecated and will be removed from pandas in a future version. Use pandas.concat instead.\n",
      "  baseline = baseline.append({'RECORDING_SESSION_LABEL':subject,'TRIAL_LABEL':i,'CURRENT_FIX_X':-1,'CURRENT_FIX_Y':-1,'IS_VALID':False},ignore_index=True)\n",
      "/tmp/ipykernel_118518/4175139398.py:8: FutureWarning: The frame.append method is deprecated and will be removed from pandas in a future version. Use pandas.concat instead.\n",
      "  baseline = baseline.append({'RECORDING_SESSION_LABEL':subject,'TRIAL_LABEL':i,'CURRENT_FIX_X':-1,'CURRENT_FIX_Y':-1,'IS_VALID':False},ignore_index=True)\n",
      "/tmp/ipykernel_118518/4175139398.py:8: FutureWarning: The frame.append method is deprecated and will be removed from pandas in a future version. Use pandas.concat instead.\n",
      "  baseline = baseline.append({'RECORDING_SESSION_LABEL':subject,'TRIAL_LABEL':i,'CURRENT_FIX_X':-1,'CURRENT_FIX_Y':-1,'IS_VALID':False},ignore_index=True)\n",
      "/tmp/ipykernel_118518/4175139398.py:8: FutureWarning: The frame.append method is deprecated and will be removed from pandas in a future version. Use pandas.concat instead.\n",
      "  baseline = baseline.append({'RECORDING_SESSION_LABEL':subject,'TRIAL_LABEL':i,'CURRENT_FIX_X':-1,'CURRENT_FIX_Y':-1,'IS_VALID':False},ignore_index=True)\n",
      "/tmp/ipykernel_118518/4175139398.py:8: FutureWarning: The frame.append method is deprecated and will be removed from pandas in a future version. Use pandas.concat instead.\n",
      "  baseline = baseline.append({'RECORDING_SESSION_LABEL':subject,'TRIAL_LABEL':i,'CURRENT_FIX_X':-1,'CURRENT_FIX_Y':-1,'IS_VALID':False},ignore_index=True)\n",
      "/tmp/ipykernel_118518/4175139398.py:8: FutureWarning: The frame.append method is deprecated and will be removed from pandas in a future version. Use pandas.concat instead.\n",
      "  baseline = baseline.append({'RECORDING_SESSION_LABEL':subject,'TRIAL_LABEL':i,'CURRENT_FIX_X':-1,'CURRENT_FIX_Y':-1,'IS_VALID':False},ignore_index=True)\n",
      "/tmp/ipykernel_118518/4175139398.py:8: FutureWarning: The frame.append method is deprecated and will be removed from pandas in a future version. Use pandas.concat instead.\n",
      "  baseline = baseline.append({'RECORDING_SESSION_LABEL':subject,'TRIAL_LABEL':i,'CURRENT_FIX_X':-1,'CURRENT_FIX_Y':-1,'IS_VALID':False},ignore_index=True)\n",
      "/tmp/ipykernel_118518/4175139398.py:8: FutureWarning: The frame.append method is deprecated and will be removed from pandas in a future version. Use pandas.concat instead.\n",
      "  baseline = baseline.append({'RECORDING_SESSION_LABEL':subject,'TRIAL_LABEL':i,'CURRENT_FIX_X':-1,'CURRENT_FIX_Y':-1,'IS_VALID':False},ignore_index=True)\n",
      "/tmp/ipykernel_118518/4175139398.py:8: FutureWarning: The frame.append method is deprecated and will be removed from pandas in a future version. Use pandas.concat instead.\n",
      "  baseline = baseline.append({'RECORDING_SESSION_LABEL':subject,'TRIAL_LABEL':i,'CURRENT_FIX_X':-1,'CURRENT_FIX_Y':-1,'IS_VALID':False},ignore_index=True)\n",
      "/tmp/ipykernel_118518/4175139398.py:8: FutureWarning: The frame.append method is deprecated and will be removed from pandas in a future version. Use pandas.concat instead.\n",
      "  baseline = baseline.append({'RECORDING_SESSION_LABEL':subject,'TRIAL_LABEL':i,'CURRENT_FIX_X':-1,'CURRENT_FIX_Y':-1,'IS_VALID':False},ignore_index=True)\n",
      "/tmp/ipykernel_118518/4175139398.py:8: FutureWarning: The frame.append method is deprecated and will be removed from pandas in a future version. Use pandas.concat instead.\n",
      "  baseline = baseline.append({'RECORDING_SESSION_LABEL':subject,'TRIAL_LABEL':i,'CURRENT_FIX_X':-1,'CURRENT_FIX_Y':-1,'IS_VALID':False},ignore_index=True)\n",
      "/tmp/ipykernel_118518/4175139398.py:8: FutureWarning: The frame.append method is deprecated and will be removed from pandas in a future version. Use pandas.concat instead.\n",
      "  baseline = baseline.append({'RECORDING_SESSION_LABEL':subject,'TRIAL_LABEL':i,'CURRENT_FIX_X':-1,'CURRENT_FIX_Y':-1,'IS_VALID':False},ignore_index=True)\n",
      "/tmp/ipykernel_118518/4175139398.py:8: FutureWarning: The frame.append method is deprecated and will be removed from pandas in a future version. Use pandas.concat instead.\n",
      "  baseline = baseline.append({'RECORDING_SESSION_LABEL':subject,'TRIAL_LABEL':i,'CURRENT_FIX_X':-1,'CURRENT_FIX_Y':-1,'IS_VALID':False},ignore_index=True)\n",
      "/tmp/ipykernel_118518/4175139398.py:8: FutureWarning: The frame.append method is deprecated and will be removed from pandas in a future version. Use pandas.concat instead.\n",
      "  baseline = baseline.append({'RECORDING_SESSION_LABEL':subject,'TRIAL_LABEL':i,'CURRENT_FIX_X':-1,'CURRENT_FIX_Y':-1,'IS_VALID':False},ignore_index=True)\n",
      "/tmp/ipykernel_118518/4175139398.py:8: FutureWarning: The frame.append method is deprecated and will be removed from pandas in a future version. Use pandas.concat instead.\n",
      "  baseline = baseline.append({'RECORDING_SESSION_LABEL':subject,'TRIAL_LABEL':i,'CURRENT_FIX_X':-1,'CURRENT_FIX_Y':-1,'IS_VALID':False},ignore_index=True)\n",
      "/tmp/ipykernel_118518/4175139398.py:8: FutureWarning: The frame.append method is deprecated and will be removed from pandas in a future version. Use pandas.concat instead.\n",
      "  baseline = baseline.append({'RECORDING_SESSION_LABEL':subject,'TRIAL_LABEL':i,'CURRENT_FIX_X':-1,'CURRENT_FIX_Y':-1,'IS_VALID':False},ignore_index=True)\n",
      "/tmp/ipykernel_118518/4175139398.py:8: FutureWarning: The frame.append method is deprecated and will be removed from pandas in a future version. Use pandas.concat instead.\n",
      "  baseline = baseline.append({'RECORDING_SESSION_LABEL':subject,'TRIAL_LABEL':i,'CURRENT_FIX_X':-1,'CURRENT_FIX_Y':-1,'IS_VALID':False},ignore_index=True)\n",
      "/tmp/ipykernel_118518/4175139398.py:8: FutureWarning: The frame.append method is deprecated and will be removed from pandas in a future version. Use pandas.concat instead.\n",
      "  baseline = baseline.append({'RECORDING_SESSION_LABEL':subject,'TRIAL_LABEL':i,'CURRENT_FIX_X':-1,'CURRENT_FIX_Y':-1,'IS_VALID':False},ignore_index=True)\n",
      "/tmp/ipykernel_118518/4175139398.py:8: FutureWarning: The frame.append method is deprecated and will be removed from pandas in a future version. Use pandas.concat instead.\n",
      "  baseline = baseline.append({'RECORDING_SESSION_LABEL':subject,'TRIAL_LABEL':i,'CURRENT_FIX_X':-1,'CURRENT_FIX_Y':-1,'IS_VALID':False},ignore_index=True)\n",
      "/tmp/ipykernel_118518/4175139398.py:8: FutureWarning: The frame.append method is deprecated and will be removed from pandas in a future version. Use pandas.concat instead.\n",
      "  baseline = baseline.append({'RECORDING_SESSION_LABEL':subject,'TRIAL_LABEL':i,'CURRENT_FIX_X':-1,'CURRENT_FIX_Y':-1,'IS_VALID':False},ignore_index=True)\n",
      "/tmp/ipykernel_118518/4175139398.py:8: FutureWarning: The frame.append method is deprecated and will be removed from pandas in a future version. Use pandas.concat instead.\n",
      "  baseline = baseline.append({'RECORDING_SESSION_LABEL':subject,'TRIAL_LABEL':i,'CURRENT_FIX_X':-1,'CURRENT_FIX_Y':-1,'IS_VALID':False},ignore_index=True)\n",
      "/tmp/ipykernel_118518/4175139398.py:8: FutureWarning: The frame.append method is deprecated and will be removed from pandas in a future version. Use pandas.concat instead.\n",
      "  baseline = baseline.append({'RECORDING_SESSION_LABEL':subject,'TRIAL_LABEL':i,'CURRENT_FIX_X':-1,'CURRENT_FIX_Y':-1,'IS_VALID':False},ignore_index=True)\n",
      "/tmp/ipykernel_118518/4175139398.py:8: FutureWarning: The frame.append method is deprecated and will be removed from pandas in a future version. Use pandas.concat instead.\n",
      "  baseline = baseline.append({'RECORDING_SESSION_LABEL':subject,'TRIAL_LABEL':i,'CURRENT_FIX_X':-1,'CURRENT_FIX_Y':-1,'IS_VALID':False},ignore_index=True)\n",
      "/tmp/ipykernel_118518/4175139398.py:8: FutureWarning: The frame.append method is deprecated and will be removed from pandas in a future version. Use pandas.concat instead.\n",
      "  baseline = baseline.append({'RECORDING_SESSION_LABEL':subject,'TRIAL_LABEL':i,'CURRENT_FIX_X':-1,'CURRENT_FIX_Y':-1,'IS_VALID':False},ignore_index=True)\n",
      "/tmp/ipykernel_118518/4175139398.py:8: FutureWarning: The frame.append method is deprecated and will be removed from pandas in a future version. Use pandas.concat instead.\n",
      "  baseline = baseline.append({'RECORDING_SESSION_LABEL':subject,'TRIAL_LABEL':i,'CURRENT_FIX_X':-1,'CURRENT_FIX_Y':-1,'IS_VALID':False},ignore_index=True)\n",
      "/tmp/ipykernel_118518/4175139398.py:8: FutureWarning: The frame.append method is deprecated and will be removed from pandas in a future version. Use pandas.concat instead.\n",
      "  baseline = baseline.append({'RECORDING_SESSION_LABEL':subject,'TRIAL_LABEL':i,'CURRENT_FIX_X':-1,'CURRENT_FIX_Y':-1,'IS_VALID':False},ignore_index=True)\n",
      "/tmp/ipykernel_118518/4175139398.py:8: FutureWarning: The frame.append method is deprecated and will be removed from pandas in a future version. Use pandas.concat instead.\n",
      "  baseline = baseline.append({'RECORDING_SESSION_LABEL':subject,'TRIAL_LABEL':i,'CURRENT_FIX_X':-1,'CURRENT_FIX_Y':-1,'IS_VALID':False},ignore_index=True)\n",
      "/tmp/ipykernel_118518/4175139398.py:8: FutureWarning: The frame.append method is deprecated and will be removed from pandas in a future version. Use pandas.concat instead.\n",
      "  baseline = baseline.append({'RECORDING_SESSION_LABEL':subject,'TRIAL_LABEL':i,'CURRENT_FIX_X':-1,'CURRENT_FIX_Y':-1,'IS_VALID':False},ignore_index=True)\n",
      "/tmp/ipykernel_118518/4175139398.py:8: FutureWarning: The frame.append method is deprecated and will be removed from pandas in a future version. Use pandas.concat instead.\n",
      "  baseline = baseline.append({'RECORDING_SESSION_LABEL':subject,'TRIAL_LABEL':i,'CURRENT_FIX_X':-1,'CURRENT_FIX_Y':-1,'IS_VALID':False},ignore_index=True)\n",
      "/tmp/ipykernel_118518/4175139398.py:8: FutureWarning: The frame.append method is deprecated and will be removed from pandas in a future version. Use pandas.concat instead.\n",
      "  baseline = baseline.append({'RECORDING_SESSION_LABEL':subject,'TRIAL_LABEL':i,'CURRENT_FIX_X':-1,'CURRENT_FIX_Y':-1,'IS_VALID':False},ignore_index=True)\n",
      "/tmp/ipykernel_118518/4175139398.py:8: FutureWarning: The frame.append method is deprecated and will be removed from pandas in a future version. Use pandas.concat instead.\n",
      "  baseline = baseline.append({'RECORDING_SESSION_LABEL':subject,'TRIAL_LABEL':i,'CURRENT_FIX_X':-1,'CURRENT_FIX_Y':-1,'IS_VALID':False},ignore_index=True)\n",
      "/tmp/ipykernel_118518/4175139398.py:8: FutureWarning: The frame.append method is deprecated and will be removed from pandas in a future version. Use pandas.concat instead.\n",
      "  baseline = baseline.append({'RECORDING_SESSION_LABEL':subject,'TRIAL_LABEL':i,'CURRENT_FIX_X':-1,'CURRENT_FIX_Y':-1,'IS_VALID':False},ignore_index=True)\n",
      "/tmp/ipykernel_118518/4175139398.py:8: FutureWarning: The frame.append method is deprecated and will be removed from pandas in a future version. Use pandas.concat instead.\n",
      "  baseline = baseline.append({'RECORDING_SESSION_LABEL':subject,'TRIAL_LABEL':i,'CURRENT_FIX_X':-1,'CURRENT_FIX_Y':-1,'IS_VALID':False},ignore_index=True)\n",
      "/tmp/ipykernel_118518/4175139398.py:8: FutureWarning: The frame.append method is deprecated and will be removed from pandas in a future version. Use pandas.concat instead.\n",
      "  baseline = baseline.append({'RECORDING_SESSION_LABEL':subject,'TRIAL_LABEL':i,'CURRENT_FIX_X':-1,'CURRENT_FIX_Y':-1,'IS_VALID':False},ignore_index=True)\n",
      "/tmp/ipykernel_118518/4175139398.py:8: FutureWarning: The frame.append method is deprecated and will be removed from pandas in a future version. Use pandas.concat instead.\n",
      "  baseline = baseline.append({'RECORDING_SESSION_LABEL':subject,'TRIAL_LABEL':i,'CURRENT_FIX_X':-1,'CURRENT_FIX_Y':-1,'IS_VALID':False},ignore_index=True)\n",
      "/tmp/ipykernel_118518/4175139398.py:8: FutureWarning: The frame.append method is deprecated and will be removed from pandas in a future version. Use pandas.concat instead.\n",
      "  baseline = baseline.append({'RECORDING_SESSION_LABEL':subject,'TRIAL_LABEL':i,'CURRENT_FIX_X':-1,'CURRENT_FIX_Y':-1,'IS_VALID':False},ignore_index=True)\n",
      "/tmp/ipykernel_118518/4175139398.py:8: FutureWarning: The frame.append method is deprecated and will be removed from pandas in a future version. Use pandas.concat instead.\n",
      "  baseline = baseline.append({'RECORDING_SESSION_LABEL':subject,'TRIAL_LABEL':i,'CURRENT_FIX_X':-1,'CURRENT_FIX_Y':-1,'IS_VALID':False},ignore_index=True)\n",
      "/tmp/ipykernel_118518/4175139398.py:8: FutureWarning: The frame.append method is deprecated and will be removed from pandas in a future version. Use pandas.concat instead.\n",
      "  baseline = baseline.append({'RECORDING_SESSION_LABEL':subject,'TRIAL_LABEL':i,'CURRENT_FIX_X':-1,'CURRENT_FIX_Y':-1,'IS_VALID':False},ignore_index=True)\n",
      "/tmp/ipykernel_118518/4175139398.py:8: FutureWarning: The frame.append method is deprecated and will be removed from pandas in a future version. Use pandas.concat instead.\n",
      "  baseline = baseline.append({'RECORDING_SESSION_LABEL':subject,'TRIAL_LABEL':i,'CURRENT_FIX_X':-1,'CURRENT_FIX_Y':-1,'IS_VALID':False},ignore_index=True)\n",
      "/tmp/ipykernel_118518/4175139398.py:8: FutureWarning: The frame.append method is deprecated and will be removed from pandas in a future version. Use pandas.concat instead.\n",
      "  baseline = baseline.append({'RECORDING_SESSION_LABEL':subject,'TRIAL_LABEL':i,'CURRENT_FIX_X':-1,'CURRENT_FIX_Y':-1,'IS_VALID':False},ignore_index=True)\n",
      "/tmp/ipykernel_118518/4175139398.py:8: FutureWarning: The frame.append method is deprecated and will be removed from pandas in a future version. Use pandas.concat instead.\n",
      "  baseline = baseline.append({'RECORDING_SESSION_LABEL':subject,'TRIAL_LABEL':i,'CURRENT_FIX_X':-1,'CURRENT_FIX_Y':-1,'IS_VALID':False},ignore_index=True)\n",
      "/tmp/ipykernel_118518/4175139398.py:8: FutureWarning: The frame.append method is deprecated and will be removed from pandas in a future version. Use pandas.concat instead.\n",
      "  baseline = baseline.append({'RECORDING_SESSION_LABEL':subject,'TRIAL_LABEL':i,'CURRENT_FIX_X':-1,'CURRENT_FIX_Y':-1,'IS_VALID':False},ignore_index=True)\n",
      "/tmp/ipykernel_118518/4175139398.py:8: FutureWarning: The frame.append method is deprecated and will be removed from pandas in a future version. Use pandas.concat instead.\n",
      "  baseline = baseline.append({'RECORDING_SESSION_LABEL':subject,'TRIAL_LABEL':i,'CURRENT_FIX_X':-1,'CURRENT_FIX_Y':-1,'IS_VALID':False},ignore_index=True)\n",
      "/tmp/ipykernel_118518/4175139398.py:8: FutureWarning: The frame.append method is deprecated and will be removed from pandas in a future version. Use pandas.concat instead.\n",
      "  baseline = baseline.append({'RECORDING_SESSION_LABEL':subject,'TRIAL_LABEL':i,'CURRENT_FIX_X':-1,'CURRENT_FIX_Y':-1,'IS_VALID':False},ignore_index=True)\n",
      "/tmp/ipykernel_118518/4175139398.py:8: FutureWarning: The frame.append method is deprecated and will be removed from pandas in a future version. Use pandas.concat instead.\n",
      "  baseline = baseline.append({'RECORDING_SESSION_LABEL':subject,'TRIAL_LABEL':i,'CURRENT_FIX_X':-1,'CURRENT_FIX_Y':-1,'IS_VALID':False},ignore_index=True)\n",
      "/tmp/ipykernel_118518/4175139398.py:8: FutureWarning: The frame.append method is deprecated and will be removed from pandas in a future version. Use pandas.concat instead.\n",
      "  baseline = baseline.append({'RECORDING_SESSION_LABEL':subject,'TRIAL_LABEL':i,'CURRENT_FIX_X':-1,'CURRENT_FIX_Y':-1,'IS_VALID':False},ignore_index=True)\n",
      "/tmp/ipykernel_118518/4175139398.py:8: FutureWarning: The frame.append method is deprecated and will be removed from pandas in a future version. Use pandas.concat instead.\n",
      "  baseline = baseline.append({'RECORDING_SESSION_LABEL':subject,'TRIAL_LABEL':i,'CURRENT_FIX_X':-1,'CURRENT_FIX_Y':-1,'IS_VALID':False},ignore_index=True)\n",
      "/tmp/ipykernel_118518/4175139398.py:8: FutureWarning: The frame.append method is deprecated and will be removed from pandas in a future version. Use pandas.concat instead.\n",
      "  baseline = baseline.append({'RECORDING_SESSION_LABEL':subject,'TRIAL_LABEL':i,'CURRENT_FIX_X':-1,'CURRENT_FIX_Y':-1,'IS_VALID':False},ignore_index=True)\n",
      "/tmp/ipykernel_118518/4175139398.py:8: FutureWarning: The frame.append method is deprecated and will be removed from pandas in a future version. Use pandas.concat instead.\n",
      "  baseline = baseline.append({'RECORDING_SESSION_LABEL':subject,'TRIAL_LABEL':i,'CURRENT_FIX_X':-1,'CURRENT_FIX_Y':-1,'IS_VALID':False},ignore_index=True)\n",
      "/tmp/ipykernel_118518/4175139398.py:8: FutureWarning: The frame.append method is deprecated and will be removed from pandas in a future version. Use pandas.concat instead.\n",
      "  baseline = baseline.append({'RECORDING_SESSION_LABEL':subject,'TRIAL_LABEL':i,'CURRENT_FIX_X':-1,'CURRENT_FIX_Y':-1,'IS_VALID':False},ignore_index=True)\n",
      "/tmp/ipykernel_118518/4175139398.py:8: FutureWarning: The frame.append method is deprecated and will be removed from pandas in a future version. Use pandas.concat instead.\n",
      "  baseline = baseline.append({'RECORDING_SESSION_LABEL':subject,'TRIAL_LABEL':i,'CURRENT_FIX_X':-1,'CURRENT_FIX_Y':-1,'IS_VALID':False},ignore_index=True)\n",
      "/tmp/ipykernel_118518/4175139398.py:8: FutureWarning: The frame.append method is deprecated and will be removed from pandas in a future version. Use pandas.concat instead.\n",
      "  baseline = baseline.append({'RECORDING_SESSION_LABEL':subject,'TRIAL_LABEL':i,'CURRENT_FIX_X':-1,'CURRENT_FIX_Y':-1,'IS_VALID':False},ignore_index=True)\n",
      "/tmp/ipykernel_118518/4175139398.py:8: FutureWarning: The frame.append method is deprecated and will be removed from pandas in a future version. Use pandas.concat instead.\n",
      "  baseline = baseline.append({'RECORDING_SESSION_LABEL':subject,'TRIAL_LABEL':i,'CURRENT_FIX_X':-1,'CURRENT_FIX_Y':-1,'IS_VALID':False},ignore_index=True)\n",
      "/tmp/ipykernel_118518/4175139398.py:8: FutureWarning: The frame.append method is deprecated and will be removed from pandas in a future version. Use pandas.concat instead.\n",
      "  baseline = baseline.append({'RECORDING_SESSION_LABEL':subject,'TRIAL_LABEL':i,'CURRENT_FIX_X':-1,'CURRENT_FIX_Y':-1,'IS_VALID':False},ignore_index=True)\n",
      "/tmp/ipykernel_118518/4175139398.py:8: FutureWarning: The frame.append method is deprecated and will be removed from pandas in a future version. Use pandas.concat instead.\n",
      "  baseline = baseline.append({'RECORDING_SESSION_LABEL':subject,'TRIAL_LABEL':i,'CURRENT_FIX_X':-1,'CURRENT_FIX_Y':-1,'IS_VALID':False},ignore_index=True)\n",
      "/tmp/ipykernel_118518/4175139398.py:8: FutureWarning: The frame.append method is deprecated and will be removed from pandas in a future version. Use pandas.concat instead.\n",
      "  baseline = baseline.append({'RECORDING_SESSION_LABEL':subject,'TRIAL_LABEL':i,'CURRENT_FIX_X':-1,'CURRENT_FIX_Y':-1,'IS_VALID':False},ignore_index=True)\n",
      "/tmp/ipykernel_118518/4175139398.py:8: FutureWarning: The frame.append method is deprecated and will be removed from pandas in a future version. Use pandas.concat instead.\n",
      "  baseline = baseline.append({'RECORDING_SESSION_LABEL':subject,'TRIAL_LABEL':i,'CURRENT_FIX_X':-1,'CURRENT_FIX_Y':-1,'IS_VALID':False},ignore_index=True)\n",
      "/tmp/ipykernel_118518/4175139398.py:8: FutureWarning: The frame.append method is deprecated and will be removed from pandas in a future version. Use pandas.concat instead.\n",
      "  baseline = baseline.append({'RECORDING_SESSION_LABEL':subject,'TRIAL_LABEL':i,'CURRENT_FIX_X':-1,'CURRENT_FIX_Y':-1,'IS_VALID':False},ignore_index=True)\n",
      "/tmp/ipykernel_118518/4175139398.py:8: FutureWarning: The frame.append method is deprecated and will be removed from pandas in a future version. Use pandas.concat instead.\n",
      "  baseline = baseline.append({'RECORDING_SESSION_LABEL':subject,'TRIAL_LABEL':i,'CURRENT_FIX_X':-1,'CURRENT_FIX_Y':-1,'IS_VALID':False},ignore_index=True)\n",
      "/tmp/ipykernel_118518/4175139398.py:8: FutureWarning: The frame.append method is deprecated and will be removed from pandas in a future version. Use pandas.concat instead.\n",
      "  baseline = baseline.append({'RECORDING_SESSION_LABEL':subject,'TRIAL_LABEL':i,'CURRENT_FIX_X':-1,'CURRENT_FIX_Y':-1,'IS_VALID':False},ignore_index=True)\n",
      "/tmp/ipykernel_118518/4175139398.py:8: FutureWarning: The frame.append method is deprecated and will be removed from pandas in a future version. Use pandas.concat instead.\n",
      "  baseline = baseline.append({'RECORDING_SESSION_LABEL':subject,'TRIAL_LABEL':i,'CURRENT_FIX_X':-1,'CURRENT_FIX_Y':-1,'IS_VALID':False},ignore_index=True)\n",
      "/tmp/ipykernel_118518/4175139398.py:8: FutureWarning: The frame.append method is deprecated and will be removed from pandas in a future version. Use pandas.concat instead.\n",
      "  baseline = baseline.append({'RECORDING_SESSION_LABEL':subject,'TRIAL_LABEL':i,'CURRENT_FIX_X':-1,'CURRENT_FIX_Y':-1,'IS_VALID':False},ignore_index=True)\n",
      "/tmp/ipykernel_118518/4175139398.py:8: FutureWarning: The frame.append method is deprecated and will be removed from pandas in a future version. Use pandas.concat instead.\n",
      "  baseline = baseline.append({'RECORDING_SESSION_LABEL':subject,'TRIAL_LABEL':i,'CURRENT_FIX_X':-1,'CURRENT_FIX_Y':-1,'IS_VALID':False},ignore_index=True)\n",
      "/tmp/ipykernel_118518/4175139398.py:8: FutureWarning: The frame.append method is deprecated and will be removed from pandas in a future version. Use pandas.concat instead.\n",
      "  baseline = baseline.append({'RECORDING_SESSION_LABEL':subject,'TRIAL_LABEL':i,'CURRENT_FIX_X':-1,'CURRENT_FIX_Y':-1,'IS_VALID':False},ignore_index=True)\n",
      "/tmp/ipykernel_118518/4175139398.py:8: FutureWarning: The frame.append method is deprecated and will be removed from pandas in a future version. Use pandas.concat instead.\n",
      "  baseline = baseline.append({'RECORDING_SESSION_LABEL':subject,'TRIAL_LABEL':i,'CURRENT_FIX_X':-1,'CURRENT_FIX_Y':-1,'IS_VALID':False},ignore_index=True)\n",
      "/tmp/ipykernel_118518/4175139398.py:8: FutureWarning: The frame.append method is deprecated and will be removed from pandas in a future version. Use pandas.concat instead.\n",
      "  baseline = baseline.append({'RECORDING_SESSION_LABEL':subject,'TRIAL_LABEL':i,'CURRENT_FIX_X':-1,'CURRENT_FIX_Y':-1,'IS_VALID':False},ignore_index=True)\n",
      "/tmp/ipykernel_118518/4175139398.py:8: FutureWarning: The frame.append method is deprecated and will be removed from pandas in a future version. Use pandas.concat instead.\n",
      "  baseline = baseline.append({'RECORDING_SESSION_LABEL':subject,'TRIAL_LABEL':i,'CURRENT_FIX_X':-1,'CURRENT_FIX_Y':-1,'IS_VALID':False},ignore_index=True)\n",
      "/tmp/ipykernel_118518/4175139398.py:8: FutureWarning: The frame.append method is deprecated and will be removed from pandas in a future version. Use pandas.concat instead.\n",
      "  baseline = baseline.append({'RECORDING_SESSION_LABEL':subject,'TRIAL_LABEL':i,'CURRENT_FIX_X':-1,'CURRENT_FIX_Y':-1,'IS_VALID':False},ignore_index=True)\n",
      "/tmp/ipykernel_118518/4175139398.py:8: FutureWarning: The frame.append method is deprecated and will be removed from pandas in a future version. Use pandas.concat instead.\n",
      "  baseline = baseline.append({'RECORDING_SESSION_LABEL':subject,'TRIAL_LABEL':i,'CURRENT_FIX_X':-1,'CURRENT_FIX_Y':-1,'IS_VALID':False},ignore_index=True)\n",
      "/tmp/ipykernel_118518/4175139398.py:8: FutureWarning: The frame.append method is deprecated and will be removed from pandas in a future version. Use pandas.concat instead.\n",
      "  baseline = baseline.append({'RECORDING_SESSION_LABEL':subject,'TRIAL_LABEL':i,'CURRENT_FIX_X':-1,'CURRENT_FIX_Y':-1,'IS_VALID':False},ignore_index=True)\n",
      "/tmp/ipykernel_118518/4175139398.py:8: FutureWarning: The frame.append method is deprecated and will be removed from pandas in a future version. Use pandas.concat instead.\n",
      "  baseline = baseline.append({'RECORDING_SESSION_LABEL':subject,'TRIAL_LABEL':i,'CURRENT_FIX_X':-1,'CURRENT_FIX_Y':-1,'IS_VALID':False},ignore_index=True)\n",
      "/tmp/ipykernel_118518/4175139398.py:8: FutureWarning: The frame.append method is deprecated and will be removed from pandas in a future version. Use pandas.concat instead.\n",
      "  baseline = baseline.append({'RECORDING_SESSION_LABEL':subject,'TRIAL_LABEL':i,'CURRENT_FIX_X':-1,'CURRENT_FIX_Y':-1,'IS_VALID':False},ignore_index=True)\n",
      "/tmp/ipykernel_118518/4175139398.py:8: FutureWarning: The frame.append method is deprecated and will be removed from pandas in a future version. Use pandas.concat instead.\n",
      "  baseline = baseline.append({'RECORDING_SESSION_LABEL':subject,'TRIAL_LABEL':i,'CURRENT_FIX_X':-1,'CURRENT_FIX_Y':-1,'IS_VALID':False},ignore_index=True)\n",
      "/tmp/ipykernel_118518/4175139398.py:8: FutureWarning: The frame.append method is deprecated and will be removed from pandas in a future version. Use pandas.concat instead.\n",
      "  baseline = baseline.append({'RECORDING_SESSION_LABEL':subject,'TRIAL_LABEL':i,'CURRENT_FIX_X':-1,'CURRENT_FIX_Y':-1,'IS_VALID':False},ignore_index=True)\n",
      "/tmp/ipykernel_118518/4175139398.py:8: FutureWarning: The frame.append method is deprecated and will be removed from pandas in a future version. Use pandas.concat instead.\n",
      "  baseline = baseline.append({'RECORDING_SESSION_LABEL':subject,'TRIAL_LABEL':i,'CURRENT_FIX_X':-1,'CURRENT_FIX_Y':-1,'IS_VALID':False},ignore_index=True)\n",
      "/tmp/ipykernel_118518/4175139398.py:8: FutureWarning: The frame.append method is deprecated and will be removed from pandas in a future version. Use pandas.concat instead.\n",
      "  baseline = baseline.append({'RECORDING_SESSION_LABEL':subject,'TRIAL_LABEL':i,'CURRENT_FIX_X':-1,'CURRENT_FIX_Y':-1,'IS_VALID':False},ignore_index=True)\n",
      "/tmp/ipykernel_118518/4175139398.py:8: FutureWarning: The frame.append method is deprecated and will be removed from pandas in a future version. Use pandas.concat instead.\n",
      "  baseline = baseline.append({'RECORDING_SESSION_LABEL':subject,'TRIAL_LABEL':i,'CURRENT_FIX_X':-1,'CURRENT_FIX_Y':-1,'IS_VALID':False},ignore_index=True)\n",
      "/tmp/ipykernel_118518/4175139398.py:8: FutureWarning: The frame.append method is deprecated and will be removed from pandas in a future version. Use pandas.concat instead.\n",
      "  baseline = baseline.append({'RECORDING_SESSION_LABEL':subject,'TRIAL_LABEL':i,'CURRENT_FIX_X':-1,'CURRENT_FIX_Y':-1,'IS_VALID':False},ignore_index=True)\n",
      "/tmp/ipykernel_118518/4175139398.py:8: FutureWarning: The frame.append method is deprecated and will be removed from pandas in a future version. Use pandas.concat instead.\n",
      "  baseline = baseline.append({'RECORDING_SESSION_LABEL':subject,'TRIAL_LABEL':i,'CURRENT_FIX_X':-1,'CURRENT_FIX_Y':-1,'IS_VALID':False},ignore_index=True)\n",
      "/tmp/ipykernel_118518/4175139398.py:8: FutureWarning: The frame.append method is deprecated and will be removed from pandas in a future version. Use pandas.concat instead.\n",
      "  baseline = baseline.append({'RECORDING_SESSION_LABEL':subject,'TRIAL_LABEL':i,'CURRENT_FIX_X':-1,'CURRENT_FIX_Y':-1,'IS_VALID':False},ignore_index=True)\n",
      "/tmp/ipykernel_118518/4175139398.py:8: FutureWarning: The frame.append method is deprecated and will be removed from pandas in a future version. Use pandas.concat instead.\n",
      "  baseline = baseline.append({'RECORDING_SESSION_LABEL':subject,'TRIAL_LABEL':i,'CURRENT_FIX_X':-1,'CURRENT_FIX_Y':-1,'IS_VALID':False},ignore_index=True)\n",
      "/tmp/ipykernel_118518/4175139398.py:8: FutureWarning: The frame.append method is deprecated and will be removed from pandas in a future version. Use pandas.concat instead.\n",
      "  baseline = baseline.append({'RECORDING_SESSION_LABEL':subject,'TRIAL_LABEL':i,'CURRENT_FIX_X':-1,'CURRENT_FIX_Y':-1,'IS_VALID':False},ignore_index=True)\n",
      "/tmp/ipykernel_118518/4175139398.py:8: FutureWarning: The frame.append method is deprecated and will be removed from pandas in a future version. Use pandas.concat instead.\n",
      "  baseline = baseline.append({'RECORDING_SESSION_LABEL':subject,'TRIAL_LABEL':i,'CURRENT_FIX_X':-1,'CURRENT_FIX_Y':-1,'IS_VALID':False},ignore_index=True)\n",
      "/tmp/ipykernel_118518/4175139398.py:8: FutureWarning: The frame.append method is deprecated and will be removed from pandas in a future version. Use pandas.concat instead.\n",
      "  baseline = baseline.append({'RECORDING_SESSION_LABEL':subject,'TRIAL_LABEL':i,'CURRENT_FIX_X':-1,'CURRENT_FIX_Y':-1,'IS_VALID':False},ignore_index=True)\n",
      "/tmp/ipykernel_118518/4175139398.py:8: FutureWarning: The frame.append method is deprecated and will be removed from pandas in a future version. Use pandas.concat instead.\n",
      "  baseline = baseline.append({'RECORDING_SESSION_LABEL':subject,'TRIAL_LABEL':i,'CURRENT_FIX_X':-1,'CURRENT_FIX_Y':-1,'IS_VALID':False},ignore_index=True)\n",
      "/tmp/ipykernel_118518/4175139398.py:8: FutureWarning: The frame.append method is deprecated and will be removed from pandas in a future version. Use pandas.concat instead.\n",
      "  baseline = baseline.append({'RECORDING_SESSION_LABEL':subject,'TRIAL_LABEL':i,'CURRENT_FIX_X':-1,'CURRENT_FIX_Y':-1,'IS_VALID':False},ignore_index=True)\n",
      "/tmp/ipykernel_118518/4175139398.py:8: FutureWarning: The frame.append method is deprecated and will be removed from pandas in a future version. Use pandas.concat instead.\n",
      "  baseline = baseline.append({'RECORDING_SESSION_LABEL':subject,'TRIAL_LABEL':i,'CURRENT_FIX_X':-1,'CURRENT_FIX_Y':-1,'IS_VALID':False},ignore_index=True)\n",
      "/tmp/ipykernel_118518/4175139398.py:8: FutureWarning: The frame.append method is deprecated and will be removed from pandas in a future version. Use pandas.concat instead.\n",
      "  baseline = baseline.append({'RECORDING_SESSION_LABEL':subject,'TRIAL_LABEL':i,'CURRENT_FIX_X':-1,'CURRENT_FIX_Y':-1,'IS_VALID':False},ignore_index=True)\n",
      "/tmp/ipykernel_118518/4175139398.py:8: FutureWarning: The frame.append method is deprecated and will be removed from pandas in a future version. Use pandas.concat instead.\n",
      "  baseline = baseline.append({'RECORDING_SESSION_LABEL':subject,'TRIAL_LABEL':i,'CURRENT_FIX_X':-1,'CURRENT_FIX_Y':-1,'IS_VALID':False},ignore_index=True)\n",
      "/tmp/ipykernel_118518/4175139398.py:8: FutureWarning: The frame.append method is deprecated and will be removed from pandas in a future version. Use pandas.concat instead.\n",
      "  baseline = baseline.append({'RECORDING_SESSION_LABEL':subject,'TRIAL_LABEL':i,'CURRENT_FIX_X':-1,'CURRENT_FIX_Y':-1,'IS_VALID':False},ignore_index=True)\n",
      "/tmp/ipykernel_118518/4175139398.py:8: FutureWarning: The frame.append method is deprecated and will be removed from pandas in a future version. Use pandas.concat instead.\n",
      "  baseline = baseline.append({'RECORDING_SESSION_LABEL':subject,'TRIAL_LABEL':i,'CURRENT_FIX_X':-1,'CURRENT_FIX_Y':-1,'IS_VALID':False},ignore_index=True)\n"
     ]
    }
   ],
   "source": [
    "# for all subjects\n",
    "for path in all_roi:\n",
    "    subject = extract_sub(path)\n",
    "    baseline = pd.read_csv('./data/gaze/baselines/'+str(subject)+'.csv')\n",
    "    for i in range (1,161):\n",
    "        current_trial_exist = (len(baseline[baseline['TRIAL_LABEL']==i])!=0)\n",
    "        if not current_trial_exist:\n",
    "            baseline = baseline.append({'RECORDING_SESSION_LABEL':subject,'TRIAL_LABEL':i,'CURRENT_FIX_X':-1,'CURRENT_FIX_Y':-1,'IS_VALID':False},ignore_index=True)\n",
    "    baseline.to_csv('./data/gaze/corrected_baselines/'+str(subject)+'.csv',index=False)"
   ],
   "metadata": {
    "collapsed": false
   }
  },
  {
   "cell_type": "markdown",
   "source": [
    "# recalculate fixation using baseline"
   ],
   "metadata": {
    "collapsed": false
   }
  },
  {
   "cell_type": "code",
   "execution_count": 71,
   "outputs": [],
   "source": [
    "subject=18"
   ],
   "metadata": {
    "collapsed": false
   }
  },
  {
   "cell_type": "code",
   "execution_count": 72,
   "outputs": [],
   "source": [
    "baseline = pd.read_csv('./data/gaze/corrected_baselines/'+str(subject)+'.csv')"
   ],
   "metadata": {
    "collapsed": false
   }
  },
  {
   "cell_type": "code",
   "execution_count": 73,
   "outputs": [
    {
     "data": {
      "text/plain": "     RECORDING_SESSION_LABEL  TRIAL_LABEL  CURRENT_FIX_X  CURRENT_FIX_Y  \\\n0                         18            1     977.232099     448.003704   \n1                         18            2     938.900000     454.100000   \n2                         18            3     875.600000     542.300000   \n3                         18            4     938.512274     447.137184   \n4                         18            5     930.966917     447.110902   \n..                       ...          ...            ...            ...   \n155                       18           63      -1.000000      -1.000000   \n156                       18           65      -1.000000      -1.000000   \n157                       18           73      -1.000000      -1.000000   \n158                       18          113      -1.000000      -1.000000   \n159                       18          134      -1.000000      -1.000000   \n\n     IS_VALID  \n0        True  \n1        True  \n2        True  \n3        True  \n4        True  \n..        ...  \n155     False  \n156     False  \n157     False  \n158     False  \n159     False  \n\n[160 rows x 5 columns]",
      "text/html": "<div>\n<style scoped>\n    .dataframe tbody tr th:only-of-type {\n        vertical-align: middle;\n    }\n\n    .dataframe tbody tr th {\n        vertical-align: top;\n    }\n\n    .dataframe thead th {\n        text-align: right;\n    }\n</style>\n<table border=\"1\" class=\"dataframe\">\n  <thead>\n    <tr style=\"text-align: right;\">\n      <th></th>\n      <th>RECORDING_SESSION_LABEL</th>\n      <th>TRIAL_LABEL</th>\n      <th>CURRENT_FIX_X</th>\n      <th>CURRENT_FIX_Y</th>\n      <th>IS_VALID</th>\n    </tr>\n  </thead>\n  <tbody>\n    <tr>\n      <th>0</th>\n      <td>18</td>\n      <td>1</td>\n      <td>977.232099</td>\n      <td>448.003704</td>\n      <td>True</td>\n    </tr>\n    <tr>\n      <th>1</th>\n      <td>18</td>\n      <td>2</td>\n      <td>938.900000</td>\n      <td>454.100000</td>\n      <td>True</td>\n    </tr>\n    <tr>\n      <th>2</th>\n      <td>18</td>\n      <td>3</td>\n      <td>875.600000</td>\n      <td>542.300000</td>\n      <td>True</td>\n    </tr>\n    <tr>\n      <th>3</th>\n      <td>18</td>\n      <td>4</td>\n      <td>938.512274</td>\n      <td>447.137184</td>\n      <td>True</td>\n    </tr>\n    <tr>\n      <th>4</th>\n      <td>18</td>\n      <td>5</td>\n      <td>930.966917</td>\n      <td>447.110902</td>\n      <td>True</td>\n    </tr>\n    <tr>\n      <th>...</th>\n      <td>...</td>\n      <td>...</td>\n      <td>...</td>\n      <td>...</td>\n      <td>...</td>\n    </tr>\n    <tr>\n      <th>155</th>\n      <td>18</td>\n      <td>63</td>\n      <td>-1.000000</td>\n      <td>-1.000000</td>\n      <td>False</td>\n    </tr>\n    <tr>\n      <th>156</th>\n      <td>18</td>\n      <td>65</td>\n      <td>-1.000000</td>\n      <td>-1.000000</td>\n      <td>False</td>\n    </tr>\n    <tr>\n      <th>157</th>\n      <td>18</td>\n      <td>73</td>\n      <td>-1.000000</td>\n      <td>-1.000000</td>\n      <td>False</td>\n    </tr>\n    <tr>\n      <th>158</th>\n      <td>18</td>\n      <td>113</td>\n      <td>-1.000000</td>\n      <td>-1.000000</td>\n      <td>False</td>\n    </tr>\n    <tr>\n      <th>159</th>\n      <td>18</td>\n      <td>134</td>\n      <td>-1.000000</td>\n      <td>-1.000000</td>\n      <td>False</td>\n    </tr>\n  </tbody>\n</table>\n<p>160 rows × 5 columns</p>\n</div>"
     },
     "execution_count": 73,
     "metadata": {},
     "output_type": "execute_result"
    }
   ],
   "source": [
    "baseline"
   ],
   "metadata": {
    "collapsed": false
   }
  },
  {
   "cell_type": "code",
   "execution_count": 84,
   "outputs": [
    {
     "data": {
      "text/plain": "        Subject  Trial  Fixation #  X_Coord  Y_Coord\n0          52.0    1.0         1.0   942.04   528.50\n1          52.0    1.0         2.0   946.56   520.01\n2          52.0    1.0         3.0  1005.51   482.76\n3          52.0    1.0         4.0  1061.42   473.28\n4          52.0    1.0         5.0  1057.73   474.32\n...         ...    ...         ...      ...      ...\n222859     25.0  138.0        28.0   913.57   554.72\n222860     25.0  138.0        29.0   919.40   553.31\n222861     25.0  138.0        30.0  1082.11   557.33\n222862     25.0  138.0        31.0  1075.46   536.27\n222863     25.0  138.0        32.0  1074.75   528.59\n\n[222864 rows x 5 columns]",
      "text/html": "<div>\n<style scoped>\n    .dataframe tbody tr th:only-of-type {\n        vertical-align: middle;\n    }\n\n    .dataframe tbody tr th {\n        vertical-align: top;\n    }\n\n    .dataframe thead th {\n        text-align: right;\n    }\n</style>\n<table border=\"1\" class=\"dataframe\">\n  <thead>\n    <tr style=\"text-align: right;\">\n      <th></th>\n      <th>Subject</th>\n      <th>Trial</th>\n      <th>Fixation #</th>\n      <th>X_Coord</th>\n      <th>Y_Coord</th>\n    </tr>\n  </thead>\n  <tbody>\n    <tr>\n      <th>0</th>\n      <td>52.0</td>\n      <td>1.0</td>\n      <td>1.0</td>\n      <td>942.04</td>\n      <td>528.50</td>\n    </tr>\n    <tr>\n      <th>1</th>\n      <td>52.0</td>\n      <td>1.0</td>\n      <td>2.0</td>\n      <td>946.56</td>\n      <td>520.01</td>\n    </tr>\n    <tr>\n      <th>2</th>\n      <td>52.0</td>\n      <td>1.0</td>\n      <td>3.0</td>\n      <td>1005.51</td>\n      <td>482.76</td>\n    </tr>\n    <tr>\n      <th>3</th>\n      <td>52.0</td>\n      <td>1.0</td>\n      <td>4.0</td>\n      <td>1061.42</td>\n      <td>473.28</td>\n    </tr>\n    <tr>\n      <th>4</th>\n      <td>52.0</td>\n      <td>1.0</td>\n      <td>5.0</td>\n      <td>1057.73</td>\n      <td>474.32</td>\n    </tr>\n    <tr>\n      <th>...</th>\n      <td>...</td>\n      <td>...</td>\n      <td>...</td>\n      <td>...</td>\n      <td>...</td>\n    </tr>\n    <tr>\n      <th>222859</th>\n      <td>25.0</td>\n      <td>138.0</td>\n      <td>28.0</td>\n      <td>913.57</td>\n      <td>554.72</td>\n    </tr>\n    <tr>\n      <th>222860</th>\n      <td>25.0</td>\n      <td>138.0</td>\n      <td>29.0</td>\n      <td>919.40</td>\n      <td>553.31</td>\n    </tr>\n    <tr>\n      <th>222861</th>\n      <td>25.0</td>\n      <td>138.0</td>\n      <td>30.0</td>\n      <td>1082.11</td>\n      <td>557.33</td>\n    </tr>\n    <tr>\n      <th>222862</th>\n      <td>25.0</td>\n      <td>138.0</td>\n      <td>31.0</td>\n      <td>1075.46</td>\n      <td>536.27</td>\n    </tr>\n    <tr>\n      <th>222863</th>\n      <td>25.0</td>\n      <td>138.0</td>\n      <td>32.0</td>\n      <td>1074.75</td>\n      <td>528.59</td>\n    </tr>\n  </tbody>\n</table>\n<p>222864 rows × 5 columns</p>\n</div>"
     },
     "execution_count": 84,
     "metadata": {},
     "output_type": "execute_result"
    }
   ],
   "source": [
    "fixations = pd.read_csv('./data/gaze/tmp/tmp_fixations.csv')\n",
    "fixations"
   ],
   "metadata": {
    "collapsed": false
   }
  },
  {
   "cell_type": "code",
   "execution_count": 85,
   "outputs": [],
   "source": [
    "fixations_updated = fixations.copy(deep=True)"
   ],
   "metadata": {
    "collapsed": false
   }
  },
  {
   "cell_type": "code",
   "execution_count": 86,
   "outputs": [],
   "source": [
    "# for all subjects\n",
    "for path in all_roi:\n",
    "    subject = extract_sub(path)\n",
    "    baseline = pd.read_csv('./data/gaze/baselines/'+str(subject)+'.csv')\n",
    "\n",
    "    for i in range(len(baseline)):\n",
    "        trial = baseline.TRIAL_LABEL[i]\n",
    "        valid = baseline.IS_VALID[i]\n",
    "\n",
    "        if valid:\n",
    "            x_base = baseline.CURRENT_FIX_X[i]\n",
    "            y_base = baseline.CURRENT_FIX_Y[i]\n",
    "\n",
    "        else:\n",
    "            x_base = baseline[baseline['IS_VALID']==True]['CURRENT_FIX_X'].mean()\n",
    "            y_base = baseline[baseline['IS_VALID']==True]['CURRENT_FIX_Y'].mean()\n",
    "\n",
    "        delta_x, delta_y = (x_cross-x_base), (y_cross-y_base)\n",
    "\n",
    "        for row in fixations[fixations['Trial'] == trial].iterrows():\n",
    "            fixations_updated.loc[row[0], 'X_Coord'] = np.round(row[1]['X_Coord'] + delta_x,2)\n",
    "            fixations_updated.loc[row[0], 'Y_Coord'] = np.round(row[1]['Y_Coord'] + delta_y, 2)\n"
   ],
   "metadata": {
    "collapsed": false
   }
  },
  {
   "cell_type": "code",
   "execution_count": 89,
   "outputs": [
    {
     "data": {
      "text/plain": "        Subject  Trial  Fixation #  X_Coord  Y_Coord\n0          52.0    1.0         1.0   991.74   512.40\n1          52.0    1.0         2.0   996.26   503.91\n2          52.0    1.0         3.0  1055.21   466.66\n3          52.0    1.0         4.0  1111.12   457.18\n4          52.0    1.0         5.0  1107.43   458.22\n...         ...    ...         ...      ...      ...\n222859     25.0  138.0        28.0   968.47   524.52\n222860     25.0  138.0        29.0   974.30   523.11\n222861     25.0  138.0        30.0  1137.01   527.13\n222862     25.0  138.0        31.0  1130.36   506.07\n222863     25.0  138.0        32.0  1129.65   498.39\n\n[222864 rows x 5 columns]",
      "text/html": "<div>\n<style scoped>\n    .dataframe tbody tr th:only-of-type {\n        vertical-align: middle;\n    }\n\n    .dataframe tbody tr th {\n        vertical-align: top;\n    }\n\n    .dataframe thead th {\n        text-align: right;\n    }\n</style>\n<table border=\"1\" class=\"dataframe\">\n  <thead>\n    <tr style=\"text-align: right;\">\n      <th></th>\n      <th>Subject</th>\n      <th>Trial</th>\n      <th>Fixation #</th>\n      <th>X_Coord</th>\n      <th>Y_Coord</th>\n    </tr>\n  </thead>\n  <tbody>\n    <tr>\n      <th>0</th>\n      <td>52.0</td>\n      <td>1.0</td>\n      <td>1.0</td>\n      <td>991.74</td>\n      <td>512.40</td>\n    </tr>\n    <tr>\n      <th>1</th>\n      <td>52.0</td>\n      <td>1.0</td>\n      <td>2.0</td>\n      <td>996.26</td>\n      <td>503.91</td>\n    </tr>\n    <tr>\n      <th>2</th>\n      <td>52.0</td>\n      <td>1.0</td>\n      <td>3.0</td>\n      <td>1055.21</td>\n      <td>466.66</td>\n    </tr>\n    <tr>\n      <th>3</th>\n      <td>52.0</td>\n      <td>1.0</td>\n      <td>4.0</td>\n      <td>1111.12</td>\n      <td>457.18</td>\n    </tr>\n    <tr>\n      <th>4</th>\n      <td>52.0</td>\n      <td>1.0</td>\n      <td>5.0</td>\n      <td>1107.43</td>\n      <td>458.22</td>\n    </tr>\n    <tr>\n      <th>...</th>\n      <td>...</td>\n      <td>...</td>\n      <td>...</td>\n      <td>...</td>\n      <td>...</td>\n    </tr>\n    <tr>\n      <th>222859</th>\n      <td>25.0</td>\n      <td>138.0</td>\n      <td>28.0</td>\n      <td>968.47</td>\n      <td>524.52</td>\n    </tr>\n    <tr>\n      <th>222860</th>\n      <td>25.0</td>\n      <td>138.0</td>\n      <td>29.0</td>\n      <td>974.30</td>\n      <td>523.11</td>\n    </tr>\n    <tr>\n      <th>222861</th>\n      <td>25.0</td>\n      <td>138.0</td>\n      <td>30.0</td>\n      <td>1137.01</td>\n      <td>527.13</td>\n    </tr>\n    <tr>\n      <th>222862</th>\n      <td>25.0</td>\n      <td>138.0</td>\n      <td>31.0</td>\n      <td>1130.36</td>\n      <td>506.07</td>\n    </tr>\n    <tr>\n      <th>222863</th>\n      <td>25.0</td>\n      <td>138.0</td>\n      <td>32.0</td>\n      <td>1129.65</td>\n      <td>498.39</td>\n    </tr>\n  </tbody>\n</table>\n<p>222864 rows × 5 columns</p>\n</div>"
     },
     "execution_count": 89,
     "metadata": {},
     "output_type": "execute_result"
    }
   ],
   "source": [
    "fixations_updated"
   ],
   "metadata": {
    "collapsed": false
   }
  },
  {
   "cell_type": "code",
   "execution_count": 90,
   "outputs": [],
   "source": [
    "fixations_updated.to_csv('data/gaze/fixations.csv',index=False)"
   ],
   "metadata": {
    "collapsed": false
   }
  },
  {
   "cell_type": "code",
   "execution_count": 78,
   "outputs": [
    {
     "data": {
      "text/plain": "        Subject  Trial  Fixation #  X_Coord  Y_Coord\n0          52.0    1.0         1.0   924.81   620.50\n1          52.0    1.0         2.0   929.33   612.01\n2          52.0    1.0         3.0   988.28   574.76\n3          52.0    1.0         4.0  1044.19   565.28\n4          52.0    1.0         5.0  1040.50   566.32\n...         ...    ...         ...      ...      ...\n222859     25.0  138.0        28.0   933.97   577.42\n222860     25.0  138.0        29.0   939.80   576.01\n222861     25.0  138.0        30.0  1102.51   580.03\n222862     25.0  138.0        31.0  1095.86   558.97\n222863     25.0  138.0        32.0  1095.15   551.29\n\n[222864 rows x 5 columns]",
      "text/html": "<div>\n<style scoped>\n    .dataframe tbody tr th:only-of-type {\n        vertical-align: middle;\n    }\n\n    .dataframe tbody tr th {\n        vertical-align: top;\n    }\n\n    .dataframe thead th {\n        text-align: right;\n    }\n</style>\n<table border=\"1\" class=\"dataframe\">\n  <thead>\n    <tr style=\"text-align: right;\">\n      <th></th>\n      <th>Subject</th>\n      <th>Trial</th>\n      <th>Fixation #</th>\n      <th>X_Coord</th>\n      <th>Y_Coord</th>\n    </tr>\n  </thead>\n  <tbody>\n    <tr>\n      <th>0</th>\n      <td>52.0</td>\n      <td>1.0</td>\n      <td>1.0</td>\n      <td>924.81</td>\n      <td>620.50</td>\n    </tr>\n    <tr>\n      <th>1</th>\n      <td>52.0</td>\n      <td>1.0</td>\n      <td>2.0</td>\n      <td>929.33</td>\n      <td>612.01</td>\n    </tr>\n    <tr>\n      <th>2</th>\n      <td>52.0</td>\n      <td>1.0</td>\n      <td>3.0</td>\n      <td>988.28</td>\n      <td>574.76</td>\n    </tr>\n    <tr>\n      <th>3</th>\n      <td>52.0</td>\n      <td>1.0</td>\n      <td>4.0</td>\n      <td>1044.19</td>\n      <td>565.28</td>\n    </tr>\n    <tr>\n      <th>4</th>\n      <td>52.0</td>\n      <td>1.0</td>\n      <td>5.0</td>\n      <td>1040.50</td>\n      <td>566.32</td>\n    </tr>\n    <tr>\n      <th>...</th>\n      <td>...</td>\n      <td>...</td>\n      <td>...</td>\n      <td>...</td>\n      <td>...</td>\n    </tr>\n    <tr>\n      <th>222859</th>\n      <td>25.0</td>\n      <td>138.0</td>\n      <td>28.0</td>\n      <td>933.97</td>\n      <td>577.42</td>\n    </tr>\n    <tr>\n      <th>222860</th>\n      <td>25.0</td>\n      <td>138.0</td>\n      <td>29.0</td>\n      <td>939.80</td>\n      <td>576.01</td>\n    </tr>\n    <tr>\n      <th>222861</th>\n      <td>25.0</td>\n      <td>138.0</td>\n      <td>30.0</td>\n      <td>1102.51</td>\n      <td>580.03</td>\n    </tr>\n    <tr>\n      <th>222862</th>\n      <td>25.0</td>\n      <td>138.0</td>\n      <td>31.0</td>\n      <td>1095.86</td>\n      <td>558.97</td>\n    </tr>\n    <tr>\n      <th>222863</th>\n      <td>25.0</td>\n      <td>138.0</td>\n      <td>32.0</td>\n      <td>1095.15</td>\n      <td>551.29</td>\n    </tr>\n  </tbody>\n</table>\n<p>222864 rows × 5 columns</p>\n</div>"
     },
     "execution_count": 78,
     "metadata": {},
     "output_type": "execute_result"
    }
   ],
   "source": [
    "fixations_updated"
   ],
   "metadata": {
    "collapsed": false
   }
  },
  {
   "cell_type": "code",
   "execution_count": 92,
   "outputs": [],
   "source": [
    "fixations_updated['ROI'] = np.nan"
   ],
   "metadata": {
    "collapsed": false
   }
  },
  {
   "cell_type": "code",
   "execution_count": 93,
   "outputs": [
    {
     "data": {
      "text/plain": "        Subject  Trial  Fixation #  X_Coord  Y_Coord  ROI\n0          52.0    1.0         1.0   991.74   512.40  NaN\n1          52.0    1.0         2.0   996.26   503.91  NaN\n2          52.0    1.0         3.0  1055.21   466.66  NaN\n3          52.0    1.0         4.0  1111.12   457.18  NaN\n4          52.0    1.0         5.0  1107.43   458.22  NaN\n...         ...    ...         ...      ...      ...  ...\n222859     25.0  138.0        28.0   968.47   524.52  NaN\n222860     25.0  138.0        29.0   974.30   523.11  NaN\n222861     25.0  138.0        30.0  1137.01   527.13  NaN\n222862     25.0  138.0        31.0  1130.36   506.07  NaN\n222863     25.0  138.0        32.0  1129.65   498.39  NaN\n\n[222864 rows x 6 columns]",
      "text/html": "<div>\n<style scoped>\n    .dataframe tbody tr th:only-of-type {\n        vertical-align: middle;\n    }\n\n    .dataframe tbody tr th {\n        vertical-align: top;\n    }\n\n    .dataframe thead th {\n        text-align: right;\n    }\n</style>\n<table border=\"1\" class=\"dataframe\">\n  <thead>\n    <tr style=\"text-align: right;\">\n      <th></th>\n      <th>Subject</th>\n      <th>Trial</th>\n      <th>Fixation #</th>\n      <th>X_Coord</th>\n      <th>Y_Coord</th>\n      <th>ROI</th>\n    </tr>\n  </thead>\n  <tbody>\n    <tr>\n      <th>0</th>\n      <td>52.0</td>\n      <td>1.0</td>\n      <td>1.0</td>\n      <td>991.74</td>\n      <td>512.40</td>\n      <td>NaN</td>\n    </tr>\n    <tr>\n      <th>1</th>\n      <td>52.0</td>\n      <td>1.0</td>\n      <td>2.0</td>\n      <td>996.26</td>\n      <td>503.91</td>\n      <td>NaN</td>\n    </tr>\n    <tr>\n      <th>2</th>\n      <td>52.0</td>\n      <td>1.0</td>\n      <td>3.0</td>\n      <td>1055.21</td>\n      <td>466.66</td>\n      <td>NaN</td>\n    </tr>\n    <tr>\n      <th>3</th>\n      <td>52.0</td>\n      <td>1.0</td>\n      <td>4.0</td>\n      <td>1111.12</td>\n      <td>457.18</td>\n      <td>NaN</td>\n    </tr>\n    <tr>\n      <th>4</th>\n      <td>52.0</td>\n      <td>1.0</td>\n      <td>5.0</td>\n      <td>1107.43</td>\n      <td>458.22</td>\n      <td>NaN</td>\n    </tr>\n    <tr>\n      <th>...</th>\n      <td>...</td>\n      <td>...</td>\n      <td>...</td>\n      <td>...</td>\n      <td>...</td>\n      <td>...</td>\n    </tr>\n    <tr>\n      <th>222859</th>\n      <td>25.0</td>\n      <td>138.0</td>\n      <td>28.0</td>\n      <td>968.47</td>\n      <td>524.52</td>\n      <td>NaN</td>\n    </tr>\n    <tr>\n      <th>222860</th>\n      <td>25.0</td>\n      <td>138.0</td>\n      <td>29.0</td>\n      <td>974.30</td>\n      <td>523.11</td>\n      <td>NaN</td>\n    </tr>\n    <tr>\n      <th>222861</th>\n      <td>25.0</td>\n      <td>138.0</td>\n      <td>30.0</td>\n      <td>1137.01</td>\n      <td>527.13</td>\n      <td>NaN</td>\n    </tr>\n    <tr>\n      <th>222862</th>\n      <td>25.0</td>\n      <td>138.0</td>\n      <td>31.0</td>\n      <td>1130.36</td>\n      <td>506.07</td>\n      <td>NaN</td>\n    </tr>\n    <tr>\n      <th>222863</th>\n      <td>25.0</td>\n      <td>138.0</td>\n      <td>32.0</td>\n      <td>1129.65</td>\n      <td>498.39</td>\n      <td>NaN</td>\n    </tr>\n  </tbody>\n</table>\n<p>222864 rows × 6 columns</p>\n</div>"
     },
     "execution_count": 93,
     "metadata": {},
     "output_type": "execute_result"
    }
   ],
   "source": [
    "fixations_updated"
   ],
   "metadata": {
    "collapsed": false
   }
  },
  {
   "cell_type": "code",
   "execution_count": 96,
   "outputs": [
    {
     "name": "stderr",
     "output_type": "stream",
     "text": [
      "libpng warning: iCCP: CRC error\n",
      "libpng warning: iCCP: known incorrect sRGB profile\n",
      "libpng warning: iCCP: CRC error\n",
      "libpng warning: iCCP: known incorrect sRGB profile\n",
      "libpng warning: iCCP: CRC error\n",
      "libpng warning: iCCP: known incorrect sRGB profile\n",
      "libpng warning: iCCP: CRC error\n",
      "libpng warning: iCCP: known incorrect sRGB profile\n"
     ]
    }
   ],
   "source": [
    "mask_12 = cv2.imread(\"data/gaze/mask/1&2 mask M010.png\")\n",
    "mask_34 = cv2.imread(\"data/gaze/mask/3&4 mask M057C.png\")\n",
    "mask_56 = cv2.imread(\"data/gaze/mask/5&6 mask F048C.png\")\n",
    "mask_78 = cv2.imread(\"data/gaze/mask/7&8 mask F101C.png\")"
   ],
   "metadata": {
    "collapsed": false
   }
  },
  {
   "cell_type": "code",
   "execution_count": 98,
   "outputs": [],
   "source": [
    "roi_12 = set()\n",
    "roi_34 = set()\n",
    "roi_56 = set()\n",
    "roi_78 = set()\n",
    "\n",
    "for y,col in enumerate(mask_12):\n",
    "\n",
    "    for x,pixel in enumerate(col):\n",
    "\n",
    "        if 255 not in pixel:\n",
    "\n",
    "            roi_12.add((x+639,y+202))\n",
    "\n",
    "for y,col in enumerate(mask_34):\n",
    "\n",
    "    for x,pixel in enumerate(col):\n",
    "\n",
    "        if 255 not in pixel:\n",
    "\n",
    "            roi_34.add((x+639,y+202))\n",
    "\n",
    "for y,col in enumerate(mask_56):\n",
    "\n",
    "    for x,pixel in enumerate(col):\n",
    "\n",
    "        if 255 not in pixel:\n",
    "\n",
    "            roi_56.add((x+639,y+202))\n",
    "\n",
    "for y,col in enumerate(mask_78):\n",
    "\n",
    "    for x,pixel in enumerate(col):\n",
    "\n",
    "        if 255 not in pixel:\n",
    "\n",
    "            roi_78.add((x+639,y+202))"
   ],
   "metadata": {
    "collapsed": false
   }
  },
  {
   "cell_type": "markdown",
   "source": [
    "# set of coordinates of eye region and mouth nose region"
   ],
   "metadata": {
    "collapsed": false
   }
  },
  {
   "cell_type": "code",
   "execution_count": 99,
   "outputs": [],
   "source": [
    "eye_roi = roi_12.union(roi_56)\n",
    "mouth_nose_roi = roi_34.union(roi_78)"
   ],
   "metadata": {
    "collapsed": false
   }
  },
  {
   "cell_type": "code",
   "execution_count": 100,
   "outputs": [
    {
     "data": {
      "text/plain": "{(968, 540),\n (1042, 489),\n (1044, 535),\n (856, 484),\n (1021, 551),\n (1095, 500),\n (1056, 545),\n (868, 494),\n (835, 546),\n (899, 561),\n (1072, 489),\n (1049, 505),\n (1051, 551),\n (863, 500),\n (898, 494),\n (939, 495),\n (865, 546),\n (840, 489),\n (1015, 490),\n (1079, 505),\n (877, 556),\n (951, 505),\n (893, 500),\n (870, 516),\n (969, 495),\n (886, 460),\n (872, 562),\n (946, 511),\n (847, 505),\n (981, 505),\n (1022, 506),\n (923, 500),\n (1057, 500),\n (900, 516),\n (976, 511),\n (1036, 562),\n (953, 527),\n (1052, 506),\n (854, 521),\n (895, 522),\n (928, 470),\n (1029, 522),\n (930, 516),\n (1004, 465),\n (1045, 466),\n (907, 532),\n (1006, 511),\n (983, 527),\n (1082, 506),\n (999, 471),\n (1059, 522),\n (1034, 465),\n (1061, 568),\n (937, 532),\n (978, 533),\n (1013, 527),\n (1087, 476),\n (901, 471),\n (1066, 538),\n (1008, 533),\n (880, 533),\n (855, 476),\n (915, 527),\n (1020, 543),\n (832, 492),\n (834, 538),\n (908, 487),\n (873, 466),\n (1007, 466),\n (850, 482),\n (910, 533),\n (984, 482),\n (887, 549),\n (885, 476),\n (926, 477),\n (986, 528),\n (1060, 477),\n (1091, 544),\n (862, 492),\n (903, 493),\n (864, 538),\n (938, 487),\n (979, 488),\n (998, 538),\n (841, 554),\n (940, 533),\n (1014, 482),\n (857, 498),\n (917, 549),\n (991, 498),\n (1090, 477),\n (892, 492),\n (933, 493),\n (859, 544),\n (993, 544),\n (1067, 493),\n (968, 487),\n (1009, 488),\n (1069, 539),\n (871, 554),\n (945, 503),\n (912, 555),\n (1044, 482),\n (1021, 498),\n (1062, 499),\n (1081, 549),\n (963, 493),\n (1023, 544),\n (1097, 493),\n (835, 493),\n (899, 508),\n (866, 560),\n (1074, 509),\n (1039, 488),\n (975, 503),\n (1016, 504),\n (1076, 555),\n (1051, 498),\n (1092, 499),\n (1028, 514),\n (1053, 544),\n (865, 493),\n (1030, 560),\n (842, 509),\n (1046, 504),\n (844, 555),\n (819, 498),\n (1058, 514),\n (1099, 515),\n (837, 515),\n (870, 463),\n (872, 509),\n (849, 525),\n (948, 504),\n (925, 520),\n (826, 514),\n (867, 515),\n (900, 463),\n (902, 509),\n (1017, 459),\n (879, 525),\n (920, 526),\n (895, 469),\n (955, 520),\n (1029, 469),\n (932, 536),\n (897, 515),\n (1031, 515),\n (833, 530),\n (874, 531),\n (973, 510),\n (909, 525),\n (950, 526),\n (1024, 475),\n (983, 474),\n (886, 541),\n (985, 520),\n (1026, 521),\n (1059, 469),\n (828, 536),\n (962, 536),\n (1003, 537),\n (1001, 464),\n (1061, 515),\n (904, 531),\n (978, 480),\n (1038, 531),\n (1013, 474),\n (1054, 475),\n (980, 526),\n (916, 541),\n (1056, 521),\n (868, 470),\n (992, 536),\n (1066, 485),\n (1033, 537),\n (1008, 480),\n (1068, 531),\n (880, 480),\n (1045, 547),\n (1084, 475),\n (987, 542),\n (898, 470),\n (1063, 537),\n (834, 485),\n (875, 486),\n (999, 552),\n (910, 480),\n (951, 481),\n (1075, 547),\n (887, 496),\n (852, 475),\n (986, 475),\n (1091, 491),\n (829, 491),\n (889, 542),\n (864, 485),\n (905, 486),\n (831, 537),\n (965, 537),\n (1070, 553),\n (882, 502),\n (940, 480),\n (981, 481),\n (843, 547),\n (917, 496),\n (884, 548),\n (958, 497),\n (861, 564),\n (859, 491),\n (919, 542),\n (993, 491),\n (836, 507),\n (896, 558),\n (970, 507),\n (935, 486),\n (1069, 486),\n (838, 553),\n (912, 502),\n (1011, 481),\n (873, 547),\n (947, 496),\n (988, 497),\n (914, 548),\n (1048, 548),\n (1023, 491),\n (1064, 492),\n (866, 507),\n (1000, 507),\n (1041, 508),\n (942, 502),\n (1002, 553),\n (1076, 502),\n (1018, 497),\n (1078, 548),\n (995, 513),\n (1055, 564),\n (1053, 491),\n (1094, 492),\n (1030, 507),\n (1071, 508),\n (1032, 553),\n (1073, 554),\n (844, 502),\n (949, 518),\n (1083, 518),\n (1025, 513),\n (1027, 559),\n (839, 508),\n (915, 503),\n (851, 518),\n (867, 462),\n (927, 513),\n (869, 508),\n (846, 524),\n (920, 473),\n (881, 518),\n (922, 519),\n (996, 468),\n (897, 462),\n (998, 514),\n (1031, 462),\n (874, 478),\n (934, 529),\n (876, 524),\n (1010, 524),\n (853, 540),\n (911, 518),\n (952, 519),\n (1026, 468),\n (1086, 519),\n (828, 483),\n (929, 535),\n (1003, 484),\n (904, 478),\n (964, 529),\n (1005, 530),\n (980, 473),\n (1040, 524),\n (1081, 525),\n (883, 540),\n (957, 489),\n (1017, 540),\n (982, 519),\n (1056, 468),\n (899, 484),\n (959, 535),\n (1033, 484),\n (994, 529),\n (1035, 530),\n (1012, 546),\n (987, 489),\n (1028, 490),\n (1047, 540),\n (1088, 541),\n (989, 535),\n (1063, 484),\n (1065, 530),\n (877, 479),\n (1042, 546),\n (1058, 490),\n (1077, 540),\n (856, 541),\n (831, 484),\n (965, 484),\n (1070, 500),\n (868, 551),\n (1072, 546),\n (884, 495),\n (1049, 562),\n (861, 511),\n (960, 490),\n (863, 557),\n (1036, 485),\n (838, 500),\n (898, 551),\n (840, 546),\n (914, 495),\n (1048, 495),\n (1015, 547),\n (891, 511),\n (990, 490),\n (833, 506),\n (893, 557),\n (967, 506),\n (1041, 455),\n (1043, 501),\n (845, 516),\n (886, 517),\n (944, 495),\n (1078, 495),\n (921, 511),\n (1022, 563),\n (997, 506),\n (1057, 557),\n (974, 522),\n (1073, 501),\n (916, 517),\n (1050, 517),\n (1025, 460),\n (823, 511),\n (928, 527),\n (1027, 506),\n (1004, 522),\n (1020, 466),\n (1080, 517),\n (894, 512),\n (999, 528),\n (1034, 522),\n (1075, 523),\n (846, 471),\n (887, 472),\n (906, 522),\n (848, 517),\n (1087, 533),\n (864, 461),\n (841, 477),\n (901, 528),\n (876, 471),\n (917, 472),\n (977, 523),\n (853, 487),\n (855, 533),\n (929, 482),\n (970, 483),\n (832, 549),\n (871, 477),\n (931, 528),\n (1005, 477),\n (908, 544),\n (1007, 523),\n (1081, 472),\n (883, 487),\n (924, 488),\n (850, 539),\n (984, 539),\n (885, 533),\n (959, 482),\n (1000, 483),\n (1060, 534),\n (862, 549),\n (903, 550),\n (961, 528),\n (1035, 477),\n (878, 493),\n (1012, 493),\n (954, 488),\n (1014, 539),\n (1088, 488),\n (857, 555),\n (989, 482),\n (1030, 483),\n (1090, 534),\n (892, 549),\n (966, 498),\n (933, 550),\n (1067, 550),\n (1065, 477),\n (1042, 493),\n (1083, 494),\n (1044, 539),\n (856, 488),\n (1021, 555),\n (1095, 504),\n (1037, 499),\n (835, 550),\n (1072, 493),\n (851, 494),\n (1049, 509),\n (1051, 555),\n (863, 504),\n (865, 550),\n (939, 499),\n (840, 493),\n (881, 494),\n (1015, 494),\n (1079, 509),\n (1046, 561),\n (858, 510),\n (893, 504),\n (934, 505),\n (870, 520),\n (969, 499),\n (886, 464),\n (946, 515),\n (911, 494),\n (847, 509),\n (888, 510),\n (1022, 510),\n (923, 504),\n (964, 505),\n (900, 520),\n (941, 521),\n (916, 464),\n (976, 515),\n (1017, 516),\n (1050, 464),\n (953, 531),\n (918, 510),\n (1052, 510),\n (895, 526),\n (1029, 526),\n (994, 505),\n (930, 520),\n (971, 521),\n (1045, 470),\n (1006, 515),\n (1047, 516),\n (983, 531),\n (1024, 532),\n (1082, 510),\n (999, 475),\n (1059, 526),\n (1001, 521),\n (1075, 470),\n (978, 537),\n (1077, 516),\n (889, 465),\n (1013, 531),\n (1054, 532),\n (825, 480),\n (901, 475),\n (868, 527),\n (1066, 542),\n (843, 470),\n (1008, 537),\n (880, 537),\n (919, 465),\n (1084, 532),\n (855, 480),\n (896, 481),\n (898, 527),\n (931, 475),\n (972, 476),\n (834, 542),\n (908, 491),\n (875, 543),\n (873, 470),\n (1007, 470),\n (1048, 471),\n (850, 486),\n (910, 537),\n (984, 486),\n (951, 538),\n (887, 553),\n (852, 532),\n (926, 481),\n (986, 532),\n (1060, 481),\n (829, 548),\n (903, 497),\n (1002, 476),\n (864, 542),\n (905, 543),\n (979, 492),\n (1078, 471),\n (841, 558),\n (882, 559),\n (940, 537),\n (1014, 486),\n (1055, 487),\n (981, 538),\n (857, 502),\n (917, 553),\n (956, 481),\n (1090, 481),\n (859, 548),\n (933, 497),\n (993, 548),\n (1067, 497),\n (1032, 476),\n (935, 543),\n (1009, 492),\n (1069, 543),\n (912, 559),\n (1044, 486),\n (1085, 487),\n (1011, 538),\n (823, 487),\n (988, 554),\n (1062, 503),\n (963, 497),\n (1023, 548),\n (1097, 497),\n (1064, 549),\n (835, 497),\n (1041, 565),\n (1039, 492),\n (1016, 508),\n (1018, 554),\n (1092, 503),\n (830, 503),\n (1053, 548),\n (865, 497),\n (906, 498),\n (842, 513),\n (1046, 508),\n (819, 502),\n (860, 503),\n (837, 519),\n (936, 498),\n (853, 463),\n (872, 513),\n (913, 514),\n (948, 508),\n (925, 524),\n (890, 503),\n (867, 519),\n (883, 463),\n (902, 513),\n (943, 514),\n (1017, 463),\n (920, 530),\n (1019, 509),\n (895, 473),\n (955, 524),\n (996, 525),\n (897, 519),\n (1031, 519),\n (874, 535),\n (973, 514),\n (1047, 463),\n (950, 530),\n (1024, 479),\n (1026, 525),\n (1003, 541),\n (1001, 468),\n (1061, 519),\n (904, 535),\n (978, 484),\n (980, 530),\n (1054, 479),\n (1056, 525),\n (868, 474),\n (899, 541),\n (1033, 541),\n (1008, 484),\n (1049, 485),\n (1084, 479),\n (987, 546),\n (898, 474),\n (1063, 541),\n (875, 490),\n (1079, 485),\n (877, 536),\n (951, 485),\n (852, 479),\n (986, 479),\n (1091, 495),\n (829, 495),\n (889, 546),\n (831, 541),\n (905, 490),\n (965, 541),\n (1070, 557),\n (882, 506),\n (847, 485),\n (981, 485),\n (824, 501),\n (884, 552),\n (958, 501),\n (1057, 480),\n (859, 495),\n (900, 496),\n (919, 546),\n (836, 511),\n (935, 490),\n (1069, 490),\n (1036, 542),\n (912, 506),\n (953, 507),\n (1011, 485),\n (854, 501),\n (914, 552),\n (988, 501),\n (1048, 552),\n (930, 496),\n (990, 547),\n (1064, 496),\n (866, 511),\n (907, 512),\n (1041, 512),\n (942, 506),\n (983, 507),\n (1002, 557),\n (1043, 558),\n (1018, 501),\n (1078, 552),\n (995, 517),\n (1094, 496),\n (937, 512),\n (1071, 512),\n (1013, 507),\n (1073, 558),\n (949, 522),\n (1025, 517),\n (1066, 518),\n (1027, 563),\n (839, 512),\n (913, 461),\n (915, 507),\n (1020, 523),\n (1096, 518),\n (867, 466),\n (908, 467),\n (869, 512),\n (846, 528),\n (920, 477),\n (862, 472),\n (922, 523),\n (996, 472),\n (897, 466),\n (998, 518),\n (874, 482),\n (841, 534),\n (1014, 462),\n (876, 528),\n (950, 477),\n (991, 478),\n (853, 544),\n (892, 472),\n (952, 523),\n (1026, 472),\n (1067, 473),\n (1086, 523),\n (929, 539),\n (1003, 488),\n (970, 540),\n (904, 482),\n (871, 534),\n (945, 483),\n (1005, 534),\n (1044, 462),\n (947, 529),\n (1021, 478),\n (980, 477),\n (1081, 529),\n (883, 544),\n (924, 545),\n (957, 493),\n (982, 523),\n (1056, 472),\n (899, 488),\n (959, 539),\n (1033, 488),\n (1074, 489),\n (1000, 540),\n (975, 483),\n (1035, 534),\n (878, 550),\n (1012, 550),\n (1051, 478),\n (987, 493),\n (1028, 494),\n (1088, 545),\n (989, 539),\n (1063, 488),\n (1030, 540),\n (842, 489),\n (1065, 534),\n (877, 483),\n (1042, 550),\n (1083, 551),\n (1058, 494),\n (856, 545),\n (831, 488),\n (872, 489),\n (1037, 556),\n (849, 505),\n (1072, 550),\n (884, 499),\n (925, 500),\n (861, 515),\n (826, 494),\n (960, 494),\n (863, 561),\n (902, 489),\n (1036, 489),\n (838, 504),\n (879, 505),\n (840, 550),\n (914, 499),\n (955, 500),\n (1015, 551),\n (891, 515),\n (932, 516),\n (990, 494),\n (833, 510),\n (893, 561),\n (967, 510),\n (1041, 459),\n (909, 505),\n (1043, 505),\n (886, 521),\n (944, 499),\n (985, 500),\n (921, 515),\n (962, 516),\n (1061, 495),\n (923, 561),\n (997, 510),\n (1038, 511),\n (974, 526),\n (1073, 505),\n (916, 521),\n (1050, 521),\n (992, 516),\n (1027, 510),\n (1068, 511),\n (880, 460),\n (1004, 526),\n (1045, 527),\n (1020, 470),\n (1080, 521),\n (894, 516),\n (999, 532),\n (1098, 511),\n (869, 459),\n (1075, 527),\n (887, 476),\n (848, 521),\n (889, 522),\n (922, 470),\n (825, 537),\n (864, 465),\n (998, 465),\n (841, 481),\n (901, 532),\n (843, 527),\n (917, 476),\n (977, 527),\n (919, 522),\n (993, 471),\n (855, 537),\n (896, 538),\n (970, 487),\n (871, 481),\n (931, 532),\n (1005, 481),\n (972, 533),\n (908, 548),\n (873, 527),\n (1007, 527),\n (1081, 476),\n (850, 543),\n (924, 492),\n (984, 543),\n (982, 470),\n (1023, 471),\n (885, 537),\n (926, 538),\n (1000, 487),\n (1060, 538),\n (903, 554),\n (961, 532),\n (1035, 481),\n (1076, 482),\n (1002, 533),\n (878, 497),\n (954, 492),\n (1014, 543),\n (1088, 492),\n (1055, 544),\n (1053, 471),\n (857, 559),\n (956, 538),\n (1030, 487),\n (1090, 538),\n (1067, 554),\n (1065, 481),\n (1032, 533),\n (844, 482),\n (949, 498),\n (1009, 549),\n (1083, 498),\n (1044, 543),\n (1085, 544),\n (856, 492),\n (1021, 559),\n (1062, 560),\n (1037, 503),\n (835, 554),\n (1039, 549),\n (851, 498),\n (927, 493),\n (1051, 559),\n (865, 554),\n (939, 503),\n (906, 555),\n (881, 498),\n (1015, 498),\n (1046, 565),\n (858, 514),\n (874, 458),\n (860, 560),\n (934, 509),\n (969, 503),\n (1010, 504),\n (886, 468),\n (911, 498),\n (1086, 499),\n (888, 514),\n (1022, 514),\n (890, 560),\n (964, 509),\n (1038, 458),\n (941, 525),\n (1040, 504),\n (916, 468),\n (1017, 520),\n (918, 514),\n (1052, 514),\n (1093, 515),\n (895, 530),\n (994, 509),\n (971, 525),\n (1045, 474),\n (987, 469),\n (1047, 520),\n (1024, 536),\n (1082, 514),\n (894, 463),\n (999, 479),\n (1001, 525),\n (1075, 474),\n (978, 541),\n (1077, 520),\n (889, 469),\n (1054, 536),\n (1070, 480),\n (868, 531),\n (843, 474),\n (1008, 541),\n (1049, 542),\n (861, 491),\n (919, 469),\n (1084, 536),\n (896, 485),\n (838, 480),\n (898, 531),\n (972, 480),\n (875, 547),\n (873, 474),\n (1048, 475),\n (1079, 542),\n (850, 490),\n (891, 491),\n (852, 536),\n (926, 485),\n (986, 536),\n (903, 501),\n (1002, 480),\n (845, 496),\n (905, 547),\n (979, 496),\n (1078, 475),\n (882, 563),\n (921, 491),\n (981, 542),\n (1055, 491),\n (857, 506),\n (956, 485),\n (1057, 537),\n (859, 552),\n (933, 501),\n (974, 502),\n (1032, 480),\n (1009, 496),\n (1069, 547),\n (1011, 542),\n (1085, 491),\n (823, 491),\n (854, 558),\n (928, 507),\n (1062, 507),\n (963, 501),\n (1004, 502),\n (1064, 553),\n (1039, 496),\n (1016, 512),\n (1018, 558),\n (1092, 507),\n (830, 507),\n (1034, 502),\n (906, 502),\n (1046, 512),\n (1087, 513),\n (858, 461),\n (825, 513),\n (860, 507),\n (837, 523),\n (936, 502),\n (853, 467),\n (913, 518),\n (855, 513),\n (888, 461),\n (832, 529),\n (890, 507),\n (867, 523),\n (908, 524),\n (941, 472),\n (883, 467),\n (943, 518),\n (1017, 467),\n (920, 534),\n (885, 513),\n (918, 461),\n (1019, 513),\n (862, 529),\n (996, 529),\n (1035, 457),\n (897, 523),\n (938, 524),\n (1012, 473),\n (874, 539),\n (973, 518),\n (1047, 467),\n (950, 534),\n (1024, 483),\n (991, 535),\n (892, 529),\n (1026, 529),\n (1003, 545),\n (968, 524),\n (1042, 473),\n (1001, 472),\n (904, 539),\n (856, 468),\n (980, 534),\n (1054, 483),\n (1021, 535),\n (1095, 484),\n (1056, 529),\n (868, 478),\n (899, 545),\n (1033, 545),\n (1074, 546),\n (1072, 473),\n (975, 540),\n (1049, 489),\n (1084, 483),\n (1051, 535),\n (863, 484),\n (987, 550),\n (1028, 551),\n (898, 478),\n (939, 479),\n (1063, 545),\n (875, 494),\n (842, 546),\n (840, 473),\n (1079, 489),\n (817, 489),\n (877, 540),\n (951, 489),\n (852, 483),\n (893, 484),\n (1058, 551),\n (829, 499),\n (870, 500),\n ...}"
     },
     "execution_count": 100,
     "metadata": {},
     "output_type": "execute_result"
    }
   ],
   "source": [
    "eye_roi"
   ],
   "metadata": {
    "collapsed": false
   }
  },
  {
   "cell_type": "code",
   "execution_count": 101,
   "outputs": [
    {
     "data": {
      "text/plain": "        Subject  Trial  Fixation #  X_Coord  Y_Coord  ROI\n0          52.0    1.0         1.0   991.74   512.40  NaN\n1          52.0    1.0         2.0   996.26   503.91  NaN\n2          52.0    1.0         3.0  1055.21   466.66  NaN\n3          52.0    1.0         4.0  1111.12   457.18  NaN\n4          52.0    1.0         5.0  1107.43   458.22  NaN\n...         ...    ...         ...      ...      ...  ...\n222859     25.0  138.0        28.0   968.47   524.52  NaN\n222860     25.0  138.0        29.0   974.30   523.11  NaN\n222861     25.0  138.0        30.0  1137.01   527.13  NaN\n222862     25.0  138.0        31.0  1130.36   506.07  NaN\n222863     25.0  138.0        32.0  1129.65   498.39  NaN\n\n[222864 rows x 6 columns]",
      "text/html": "<div>\n<style scoped>\n    .dataframe tbody tr th:only-of-type {\n        vertical-align: middle;\n    }\n\n    .dataframe tbody tr th {\n        vertical-align: top;\n    }\n\n    .dataframe thead th {\n        text-align: right;\n    }\n</style>\n<table border=\"1\" class=\"dataframe\">\n  <thead>\n    <tr style=\"text-align: right;\">\n      <th></th>\n      <th>Subject</th>\n      <th>Trial</th>\n      <th>Fixation #</th>\n      <th>X_Coord</th>\n      <th>Y_Coord</th>\n      <th>ROI</th>\n    </tr>\n  </thead>\n  <tbody>\n    <tr>\n      <th>0</th>\n      <td>52.0</td>\n      <td>1.0</td>\n      <td>1.0</td>\n      <td>991.74</td>\n      <td>512.40</td>\n      <td>NaN</td>\n    </tr>\n    <tr>\n      <th>1</th>\n      <td>52.0</td>\n      <td>1.0</td>\n      <td>2.0</td>\n      <td>996.26</td>\n      <td>503.91</td>\n      <td>NaN</td>\n    </tr>\n    <tr>\n      <th>2</th>\n      <td>52.0</td>\n      <td>1.0</td>\n      <td>3.0</td>\n      <td>1055.21</td>\n      <td>466.66</td>\n      <td>NaN</td>\n    </tr>\n    <tr>\n      <th>3</th>\n      <td>52.0</td>\n      <td>1.0</td>\n      <td>4.0</td>\n      <td>1111.12</td>\n      <td>457.18</td>\n      <td>NaN</td>\n    </tr>\n    <tr>\n      <th>4</th>\n      <td>52.0</td>\n      <td>1.0</td>\n      <td>5.0</td>\n      <td>1107.43</td>\n      <td>458.22</td>\n      <td>NaN</td>\n    </tr>\n    <tr>\n      <th>...</th>\n      <td>...</td>\n      <td>...</td>\n      <td>...</td>\n      <td>...</td>\n      <td>...</td>\n      <td>...</td>\n    </tr>\n    <tr>\n      <th>222859</th>\n      <td>25.0</td>\n      <td>138.0</td>\n      <td>28.0</td>\n      <td>968.47</td>\n      <td>524.52</td>\n      <td>NaN</td>\n    </tr>\n    <tr>\n      <th>222860</th>\n      <td>25.0</td>\n      <td>138.0</td>\n      <td>29.0</td>\n      <td>974.30</td>\n      <td>523.11</td>\n      <td>NaN</td>\n    </tr>\n    <tr>\n      <th>222861</th>\n      <td>25.0</td>\n      <td>138.0</td>\n      <td>30.0</td>\n      <td>1137.01</td>\n      <td>527.13</td>\n      <td>NaN</td>\n    </tr>\n    <tr>\n      <th>222862</th>\n      <td>25.0</td>\n      <td>138.0</td>\n      <td>31.0</td>\n      <td>1130.36</td>\n      <td>506.07</td>\n      <td>NaN</td>\n    </tr>\n    <tr>\n      <th>222863</th>\n      <td>25.0</td>\n      <td>138.0</td>\n      <td>32.0</td>\n      <td>1129.65</td>\n      <td>498.39</td>\n      <td>NaN</td>\n    </tr>\n  </tbody>\n</table>\n<p>222864 rows × 6 columns</p>\n</div>"
     },
     "execution_count": 101,
     "metadata": {},
     "output_type": "execute_result"
    }
   ],
   "source": [
    "fixations_updated"
   ],
   "metadata": {
    "collapsed": false
   }
  },
  {
   "cell_type": "code",
   "execution_count": 119,
   "outputs": [],
   "source": [
    "for i,row in fixations_updated.iterrows():\n",
    "    x = int(row['X_Coord'])\n",
    "    y = int(row['Y_Coord'])\n",
    "    if (x,y) in eye_roi:\n",
    "        fixations_updated.loc[i, \"ROI\"] = \"eye\"\n",
    "    if (x,y) in mouth_nose_roi:\n",
    "        fixations_updated.loc[i, \"ROI\"] = \"mouth_nose\""
   ],
   "metadata": {
    "collapsed": false
   }
  },
  {
   "cell_type": "code",
   "execution_count": 121,
   "outputs": [],
   "source": [
    "fixations_updated.to_csv('./data/gaze/fixations_with_ROI.csv',index=False)"
   ],
   "metadata": {
    "collapsed": false
   }
  },
  {
   "cell_type": "code",
   "execution_count": null,
   "outputs": [],
   "source": [
    "tmp_fixations = pd.read_csv('./data/gaze/tmp/tmp_fixations.csv')\n",
    "tmp_fixations['Subject']"
   ],
   "metadata": {
    "collapsed": false
   }
  },
  {
   "cell_type": "code",
   "execution_count": null,
   "outputs": [],
   "source": [],
   "metadata": {
    "collapsed": false
   }
  }
 ],
 "metadata": {
  "kernelspec": {
   "display_name": "Python 3",
   "language": "python",
   "name": "python3"
  },
  "language_info": {
   "codemirror_mode": {
    "name": "ipython",
    "version": 2
   },
   "file_extension": ".py",
   "mimetype": "text/x-python",
   "name": "python",
   "nbconvert_exporter": "python",
   "pygments_lexer": "ipython2",
   "version": "2.7.6"
  }
 },
 "nbformat": 4,
 "nbformat_minor": 0
}
