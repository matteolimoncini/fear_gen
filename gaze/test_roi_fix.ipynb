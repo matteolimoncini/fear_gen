{
 "cells": [
  {
   "cell_type": "code",
   "execution_count": 1,
   "metadata": {
    "collapsed": true
   },
   "outputs": [],
   "source": [
    "import numpy as np\n",
    "import pandas as pd"
   ]
  },
  {
   "cell_type": "code",
   "execution_count": 3,
   "outputs": [],
   "source": [
    "data = np.load('ROI/trialsLook001.asc.npy',allow_pickle=True)"
   ],
   "metadata": {
    "collapsed": false
   }
  },
  {
   "cell_type": "code",
   "execution_count": 4,
   "outputs": [],
   "source": [
    "list_subject = [1]"
   ],
   "metadata": {
    "collapsed": false
   }
  },
  {
   "cell_type": "code",
   "execution_count": 5,
   "outputs": [
    {
     "data": {
      "text/plain": "(946.9246376811597, 466.97342995169123)"
     },
     "execution_count": 5,
     "metadata": {},
     "output_type": "execute_result"
    }
   ],
   "source": [
    "fix_ = data[0]['fixations']\n",
    "tuple(fix_[1]['mean'])"
   ],
   "metadata": {
    "collapsed": false
   }
  },
  {
   "cell_type": "code",
   "execution_count": 6,
   "outputs": [],
   "source": [
    "df_ = pd.DataFrame(columns=['Subject', 'Trial', 'Fixation #', 'X_Coord', 'Y_Coord'])\n",
    "\n",
    "for sub in list_subject:\n",
    "    for i in range(len(data)):\n",
    "        subject = sub\n",
    "        trial = i+1\n",
    "        fix_ = data[i]['fixations']\n",
    "        for num, xy in enumerate(fix_):\n",
    "            coords = tuple(np.round(xy['mean'], 2))\n",
    "            row = [int(subject), int(trial), int(num+1), coords[0], coords[1]]\n",
    "            df_.loc[len(df_)] = row"
   ],
   "metadata": {
    "collapsed": false
   }
  },
  {
   "cell_type": "code",
   "execution_count": 8,
   "outputs": [
    {
     "data": {
      "text/plain": "      Subject  Trial  Fixation #  X_Coord  Y_Coord\n0         1.0    1.0         1.0   940.17   450.03\n1         1.0    1.0         2.0   946.92   466.97\n2         1.0    1.0         3.0   944.43   478.19\n3         1.0    1.0         4.0   877.94   492.23\n4         1.0    1.0         5.0   956.57   422.91\n...       ...    ...         ...      ...      ...\n4204      1.0  160.0        27.0   811.87   472.43\n4205      1.0  160.0        28.0   998.72   460.75\n4206      1.0  160.0        29.0  1023.37   477.28\n4207      1.0  160.0        30.0   932.82   481.23\n4208      1.0  160.0        31.0   967.07   559.13\n\n[4209 rows x 5 columns]",
      "text/html": "<div>\n<style scoped>\n    .dataframe tbody tr th:only-of-type {\n        vertical-align: middle;\n    }\n\n    .dataframe tbody tr th {\n        vertical-align: top;\n    }\n\n    .dataframe thead th {\n        text-align: right;\n    }\n</style>\n<table border=\"1\" class=\"dataframe\">\n  <thead>\n    <tr style=\"text-align: right;\">\n      <th></th>\n      <th>Subject</th>\n      <th>Trial</th>\n      <th>Fixation #</th>\n      <th>X_Coord</th>\n      <th>Y_Coord</th>\n    </tr>\n  </thead>\n  <tbody>\n    <tr>\n      <th>0</th>\n      <td>1.0</td>\n      <td>1.0</td>\n      <td>1.0</td>\n      <td>940.17</td>\n      <td>450.03</td>\n    </tr>\n    <tr>\n      <th>1</th>\n      <td>1.0</td>\n      <td>1.0</td>\n      <td>2.0</td>\n      <td>946.92</td>\n      <td>466.97</td>\n    </tr>\n    <tr>\n      <th>2</th>\n      <td>1.0</td>\n      <td>1.0</td>\n      <td>3.0</td>\n      <td>944.43</td>\n      <td>478.19</td>\n    </tr>\n    <tr>\n      <th>3</th>\n      <td>1.0</td>\n      <td>1.0</td>\n      <td>4.0</td>\n      <td>877.94</td>\n      <td>492.23</td>\n    </tr>\n    <tr>\n      <th>4</th>\n      <td>1.0</td>\n      <td>1.0</td>\n      <td>5.0</td>\n      <td>956.57</td>\n      <td>422.91</td>\n    </tr>\n    <tr>\n      <th>...</th>\n      <td>...</td>\n      <td>...</td>\n      <td>...</td>\n      <td>...</td>\n      <td>...</td>\n    </tr>\n    <tr>\n      <th>4204</th>\n      <td>1.0</td>\n      <td>160.0</td>\n      <td>27.0</td>\n      <td>811.87</td>\n      <td>472.43</td>\n    </tr>\n    <tr>\n      <th>4205</th>\n      <td>1.0</td>\n      <td>160.0</td>\n      <td>28.0</td>\n      <td>998.72</td>\n      <td>460.75</td>\n    </tr>\n    <tr>\n      <th>4206</th>\n      <td>1.0</td>\n      <td>160.0</td>\n      <td>29.0</td>\n      <td>1023.37</td>\n      <td>477.28</td>\n    </tr>\n    <tr>\n      <th>4207</th>\n      <td>1.0</td>\n      <td>160.0</td>\n      <td>30.0</td>\n      <td>932.82</td>\n      <td>481.23</td>\n    </tr>\n    <tr>\n      <th>4208</th>\n      <td>1.0</td>\n      <td>160.0</td>\n      <td>31.0</td>\n      <td>967.07</td>\n      <td>559.13</td>\n    </tr>\n  </tbody>\n</table>\n<p>4209 rows × 5 columns</p>\n</div>"
     },
     "execution_count": 8,
     "metadata": {},
     "output_type": "execute_result"
    }
   ],
   "source": [
    "df_"
   ],
   "metadata": {
    "collapsed": false
   }
  },
  {
   "cell_type": "code",
   "execution_count": 10,
   "outputs": [
    {
     "data": {
      "text/plain": "     RECORDING_SESSION_LABEL  TRIAL_LABEL  CURRENT_FIX_X  CURRENT_FIX_Y  \\\n0                          1            1     929.468403     512.687500   \n1                          1            2     917.600000     510.300000   \n2                          1            3     931.302500     510.924375   \n3                          1            4     923.700000     518.700000   \n4                          1            5     923.300000     516.100000   \n..                       ...          ...            ...            ...   \n155                        1          156     889.762963     506.137037   \n156                        1          157     895.300000     507.300000   \n157                        1          158     895.300000     515.000000   \n158                        1          159     903.028834     511.711043   \n159                        1          160     895.100000     512.000000   \n\n     IS_VALID  \n0        True  \n1        True  \n2        True  \n3        True  \n4        True  \n..        ...  \n155      True  \n156      True  \n157      True  \n158      True  \n159      True  \n\n[160 rows x 5 columns]",
      "text/html": "<div>\n<style scoped>\n    .dataframe tbody tr th:only-of-type {\n        vertical-align: middle;\n    }\n\n    .dataframe tbody tr th {\n        vertical-align: top;\n    }\n\n    .dataframe thead th {\n        text-align: right;\n    }\n</style>\n<table border=\"1\" class=\"dataframe\">\n  <thead>\n    <tr style=\"text-align: right;\">\n      <th></th>\n      <th>RECORDING_SESSION_LABEL</th>\n      <th>TRIAL_LABEL</th>\n      <th>CURRENT_FIX_X</th>\n      <th>CURRENT_FIX_Y</th>\n      <th>IS_VALID</th>\n    </tr>\n  </thead>\n  <tbody>\n    <tr>\n      <th>0</th>\n      <td>1</td>\n      <td>1</td>\n      <td>929.468403</td>\n      <td>512.687500</td>\n      <td>True</td>\n    </tr>\n    <tr>\n      <th>1</th>\n      <td>1</td>\n      <td>2</td>\n      <td>917.600000</td>\n      <td>510.300000</td>\n      <td>True</td>\n    </tr>\n    <tr>\n      <th>2</th>\n      <td>1</td>\n      <td>3</td>\n      <td>931.302500</td>\n      <td>510.924375</td>\n      <td>True</td>\n    </tr>\n    <tr>\n      <th>3</th>\n      <td>1</td>\n      <td>4</td>\n      <td>923.700000</td>\n      <td>518.700000</td>\n      <td>True</td>\n    </tr>\n    <tr>\n      <th>4</th>\n      <td>1</td>\n      <td>5</td>\n      <td>923.300000</td>\n      <td>516.100000</td>\n      <td>True</td>\n    </tr>\n    <tr>\n      <th>...</th>\n      <td>...</td>\n      <td>...</td>\n      <td>...</td>\n      <td>...</td>\n      <td>...</td>\n    </tr>\n    <tr>\n      <th>155</th>\n      <td>1</td>\n      <td>156</td>\n      <td>889.762963</td>\n      <td>506.137037</td>\n      <td>True</td>\n    </tr>\n    <tr>\n      <th>156</th>\n      <td>1</td>\n      <td>157</td>\n      <td>895.300000</td>\n      <td>507.300000</td>\n      <td>True</td>\n    </tr>\n    <tr>\n      <th>157</th>\n      <td>1</td>\n      <td>158</td>\n      <td>895.300000</td>\n      <td>515.000000</td>\n      <td>True</td>\n    </tr>\n    <tr>\n      <th>158</th>\n      <td>1</td>\n      <td>159</td>\n      <td>903.028834</td>\n      <td>511.711043</td>\n      <td>True</td>\n    </tr>\n    <tr>\n      <th>159</th>\n      <td>1</td>\n      <td>160</td>\n      <td>895.100000</td>\n      <td>512.000000</td>\n      <td>True</td>\n    </tr>\n  </tbody>\n</table>\n<p>160 rows × 5 columns</p>\n</div>"
     },
     "execution_count": 10,
     "metadata": {},
     "output_type": "execute_result"
    }
   ],
   "source": [
    "baseline = pd.read_csv('baselines/1.csv')\n",
    "baseline"
   ],
   "metadata": {
    "collapsed": false
   }
  },
  {
   "cell_type": "code",
   "execution_count": 11,
   "outputs": [],
   "source": [
    "\n",
    "x_cross = 1920/2\n",
    "y_cross = 1080/2\n",
    "\n",
    "for i in range(len(baseline)):\n",
    "    trial = baseline.TRIAL_LABEL[i]\n",
    "    valid = baseline.IS_VALID[i]\n",
    "\n",
    "    if valid:\n",
    "        x_base = baseline.CURRENT_FIX_X[i]\n",
    "        y_base = baseline.CURRENT_FIX_Y[i]\n",
    "\n",
    "    else:\n",
    "        x_base = baseline[baseline['IS_VALID']==True]['CURRENT_FIX_X'].mean()\n",
    "        y_base = baseline[baseline['IS_VALID']==True]['CURRENT_FIX_Y'].mean()\n",
    "\n",
    "    delta_x, delta_y = (x_cross-x_base), (y_cross-y_base)\n",
    "\n",
    "    for row in df_[df_['Trial'] == trial].iterrows():\n",
    "        df_.loc[row[0], 'X_Coord'] = row[1]['X_Coord'] + delta_x\n",
    "        df_.loc[row[0], 'Y_Coord'] = row[1]['Y_Coord'] + delta_y\n",
    "\n"
   ],
   "metadata": {
    "collapsed": false
   }
  },
  {
   "cell_type": "code",
   "execution_count": 14,
   "outputs": [
    {
     "data": {
      "text/plain": "      Subject  Trial  Fixation #      X_Coord   Y_Coord\n0         1.0    1.0         1.0   970.701597  477.3425\n1         1.0    1.0         2.0   977.451597  494.2825\n2         1.0    1.0         3.0   974.961597  505.5025\n3         1.0    1.0         4.0   908.471597  519.5425\n4         1.0    1.0         5.0   987.101597  450.2225\n...       ...    ...         ...          ...       ...\n4204      1.0  160.0        27.0   876.770000  500.4300\n4205      1.0  160.0        28.0  1063.620000  488.7500\n4206      1.0  160.0        29.0  1088.270000  505.2800\n4207      1.0  160.0        30.0   997.720000  509.2300\n4208      1.0  160.0        31.0  1031.970000  587.1300\n\n[4209 rows x 5 columns]",
      "text/html": "<div>\n<style scoped>\n    .dataframe tbody tr th:only-of-type {\n        vertical-align: middle;\n    }\n\n    .dataframe tbody tr th {\n        vertical-align: top;\n    }\n\n    .dataframe thead th {\n        text-align: right;\n    }\n</style>\n<table border=\"1\" class=\"dataframe\">\n  <thead>\n    <tr style=\"text-align: right;\">\n      <th></th>\n      <th>Subject</th>\n      <th>Trial</th>\n      <th>Fixation #</th>\n      <th>X_Coord</th>\n      <th>Y_Coord</th>\n    </tr>\n  </thead>\n  <tbody>\n    <tr>\n      <th>0</th>\n      <td>1.0</td>\n      <td>1.0</td>\n      <td>1.0</td>\n      <td>970.701597</td>\n      <td>477.3425</td>\n    </tr>\n    <tr>\n      <th>1</th>\n      <td>1.0</td>\n      <td>1.0</td>\n      <td>2.0</td>\n      <td>977.451597</td>\n      <td>494.2825</td>\n    </tr>\n    <tr>\n      <th>2</th>\n      <td>1.0</td>\n      <td>1.0</td>\n      <td>3.0</td>\n      <td>974.961597</td>\n      <td>505.5025</td>\n    </tr>\n    <tr>\n      <th>3</th>\n      <td>1.0</td>\n      <td>1.0</td>\n      <td>4.0</td>\n      <td>908.471597</td>\n      <td>519.5425</td>\n    </tr>\n    <tr>\n      <th>4</th>\n      <td>1.0</td>\n      <td>1.0</td>\n      <td>5.0</td>\n      <td>987.101597</td>\n      <td>450.2225</td>\n    </tr>\n    <tr>\n      <th>...</th>\n      <td>...</td>\n      <td>...</td>\n      <td>...</td>\n      <td>...</td>\n      <td>...</td>\n    </tr>\n    <tr>\n      <th>4204</th>\n      <td>1.0</td>\n      <td>160.0</td>\n      <td>27.0</td>\n      <td>876.770000</td>\n      <td>500.4300</td>\n    </tr>\n    <tr>\n      <th>4205</th>\n      <td>1.0</td>\n      <td>160.0</td>\n      <td>28.0</td>\n      <td>1063.620000</td>\n      <td>488.7500</td>\n    </tr>\n    <tr>\n      <th>4206</th>\n      <td>1.0</td>\n      <td>160.0</td>\n      <td>29.0</td>\n      <td>1088.270000</td>\n      <td>505.2800</td>\n    </tr>\n    <tr>\n      <th>4207</th>\n      <td>1.0</td>\n      <td>160.0</td>\n      <td>30.0</td>\n      <td>997.720000</td>\n      <td>509.2300</td>\n    </tr>\n    <tr>\n      <th>4208</th>\n      <td>1.0</td>\n      <td>160.0</td>\n      <td>31.0</td>\n      <td>1031.970000</td>\n      <td>587.1300</td>\n    </tr>\n  </tbody>\n</table>\n<p>4209 rows × 5 columns</p>\n</div>"
     },
     "execution_count": 14,
     "metadata": {},
     "output_type": "execute_result"
    }
   ],
   "source": [
    "df_updated=df_\n",
    "df_updated"
   ],
   "metadata": {
    "collapsed": false
   }
  },
  {
   "cell_type": "code",
   "execution_count": null,
   "outputs": [],
   "source": [],
   "metadata": {
    "collapsed": false
   }
  }
 ],
 "metadata": {
  "kernelspec": {
   "display_name": "Python 3",
   "language": "python",
   "name": "python3"
  },
  "language_info": {
   "codemirror_mode": {
    "name": "ipython",
    "version": 2
   },
   "file_extension": ".py",
   "mimetype": "text/x-python",
   "name": "python",
   "nbconvert_exporter": "python",
   "pygments_lexer": "ipython2",
   "version": "2.7.6"
  }
 },
 "nbformat": 4,
 "nbformat_minor": 0
}
