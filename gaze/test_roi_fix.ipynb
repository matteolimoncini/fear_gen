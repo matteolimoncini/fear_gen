{
 "cells": [
  {
   "cell_type": "code",
   "execution_count": 41,
   "metadata": {
    "collapsed": true
   },
   "outputs": [],
   "source": [
    "import numpy as np\n",
    "import pandas as pd\n",
    "import re"
   ]
  },
  {
   "cell_type": "code",
   "execution_count": 40,
   "outputs": [
    {
     "data": {
      "text/plain": "['../data/gaze/ROI/roiLook052.asc.npy',\n '../data/gaze/ROI/roiLook042.asc.npy',\n '../data/gaze/ROI/roiLook030.asc.npy',\n '../data/gaze/ROI/roiLook020.asc.npy',\n '../data/gaze/ROI/roiLook029.asc.npy',\n '../data/gaze/ROI/roiLook016.asc.npy',\n '../data/gaze/ROI/roiLook006.asc.npy',\n '../data/gaze/ROI/roiLook028.asc.npy',\n '../data/gaze/ROI/roiLook007.asc.npy',\n '../data/gaze/ROI/roiLook017.asc.npy',\n '../data/gaze/ROI/roiLook043.asc.npy',\n '../data/gaze/ROI/roiLook053.asc.npy',\n '../data/gaze/ROI/roiLook021.asc.npy',\n '../data/gaze/ROI/roiLook031.asc.npy',\n '../data/gaze/ROI/roiLook048.asc.npy',\n '../data/gaze/ROI/roiLook015.asc.npy',\n '../data/gaze/ROI/roiLook005.asc.npy',\n '../data/gaze/ROI/roiLook033.asc.npy',\n '../data/gaze/ROI/roiLook023.asc.npy',\n '../data/gaze/ROI/roiLook051.asc.npy',\n '../data/gaze/ROI/roiLook041.asc.npy',\n '../data/gaze/ROI/roiLook022.asc.npy',\n '../data/gaze/ROI/roiLook032.asc.npy',\n '../data/gaze/ROI/roiLook050.asc.npy',\n '../data/gaze/ROI/roiLook049.asc.npy',\n '../data/gaze/ROI/roiLook004.asc.npy',\n '../data/gaze/ROI/roiLook014.asc.npy',\n '../data/gaze/ROI/roiLook011.asc.npy',\n '../data/gaze/ROI/roiLook001.asc.npy',\n '../data/gaze/ROI/roiLook008.asc.npy',\n '../data/gaze/ROI/roiLook018.asc.npy',\n '../data/gaze/ROI/roiLook027.asc.npy',\n '../data/gaze/ROI/roiLook055.asc.npy',\n '../data/gaze/ROI/roiLook045.asc.npy',\n '../data/gaze/ROI/roiLook019.asc.npy',\n '../data/gaze/ROI/roiLook026.asc.npy',\n '../data/gaze/ROI/roiLook044.asc.npy',\n '../data/gaze/ROI/roiLook054.asc.npy',\n '../data/gaze/ROI/roiLook010.asc.npy',\n '../data/gaze/ROI/roiLook046.asc.npy',\n '../data/gaze/ROI/roiLook024.asc.npy',\n '../data/gaze/ROI/roiLook012.asc.npy',\n '../data/gaze/ROI/roiLook002.asc.npy',\n '../data/gaze/ROI/roiLook003.asc.npy',\n '../data/gaze/ROI/roiLook013.asc.npy',\n '../data/gaze/ROI/roiLook047.asc.npy',\n '../data/gaze/ROI/roiLook025.asc.npy']"
     },
     "execution_count": 40,
     "metadata": {},
     "output_type": "execute_result"
    }
   ],
   "source": [
    "import os\n",
    "\n",
    "folder_path = \"../data/gaze/ROI\" # sostituire \"percorso_della_cartella\" con il percorso della cartella che si vuole leggere\n",
    "\n",
    "all_roi = []\n",
    "for filename in os.listdir(folder_path):\n",
    "    path_complete = os.path.join(folder_path, filename)\n",
    "    if os.path.isfile(path_complete):\n",
    "        all_roi.append(path_complete)\n",
    "\n",
    "all_roi\n",
    "\n",
    "\n"
   ],
   "metadata": {
    "collapsed": false
   }
  },
  {
   "cell_type": "code",
   "execution_count": 43,
   "outputs": [
    {
     "name": "stdout",
     "output_type": "stream",
     "text": [
      "52\n",
      "2\n"
     ]
    }
   ],
   "source": [
    "path1 = \"../data/gaze/ROI/roiLook052.asc.npy\"\n",
    "path2 = \"../data/gaze/ROI/roiLook002.asc.npy\"\n",
    "\n",
    "pattern = r\"roiLook(\\d+)\\.asc\\.npy\"\n",
    "\n",
    "match1 = re.search(pattern, path1)\n",
    "if match1:\n",
    "    print(int(match1.group(1)))  # Output: 052\n",
    "\n",
    "match2 = re.search(pattern, path2)\n",
    "if match2:\n",
    "    print(int(match2.group(1)))  # Output: 002\n",
    "\n",
    "\n"
   ],
   "metadata": {
    "collapsed": false
   }
  },
  {
   "cell_type": "code",
   "execution_count": 53,
   "outputs": [],
   "source": [
    "def extract_sub(path):\n",
    "    pattern = r\"roiLook(\\d+)\\.asc\\.npy\"\n",
    "    return int(re.search(pattern, path).group(1))"
   ],
   "metadata": {
    "collapsed": false
   }
  },
  {
   "cell_type": "code",
   "execution_count": 21,
   "outputs": [],
   "source": [
    "list_subject = [1]"
   ],
   "metadata": {
    "collapsed": false
   }
  },
  {
   "cell_type": "code",
   "execution_count": 47,
   "outputs": [],
   "source": [
    "df_ = pd.DataFrame(columns=['Subject', 'Trial', 'Fixation #', 'X_Coord', 'Y_Coord'])\n",
    "\n",
    "for path in all_roi:\n",
    "    data = np.load(path, allow_pickle=True)\n",
    "    for i in range(len(data)):\n",
    "        subject = extract_sub(path)\n",
    "        trial = i+1\n",
    "        fix_ = data[i]['fixations']\n",
    "        for num, xy in enumerate(fix_):\n",
    "            coords = tuple(np.round(xy['mean'], 2))\n",
    "            row = [int(subject), int(trial), int(num+1), coords[0], coords[1]]\n",
    "            df_.loc[len(df_)] = row"
   ],
   "metadata": {
    "collapsed": false
   }
  },
  {
   "cell_type": "code",
   "execution_count": 48,
   "outputs": [
    {
     "data": {
      "text/plain": "222864"
     },
     "execution_count": 48,
     "metadata": {},
     "output_type": "execute_result"
    }
   ],
   "source": [
    "len(df_)"
   ],
   "metadata": {
    "collapsed": false
   }
  },
  {
   "cell_type": "code",
   "execution_count": 50,
   "outputs": [],
   "source": [
    "df_.to_csv('../data/gaze/tmp/tmp_fixations.csv', index=False)"
   ],
   "metadata": {
    "collapsed": false
   }
  },
  {
   "cell_type": "code",
   "execution_count": 61,
   "outputs": [
    {
     "data": {
      "text/plain": "     RECORDING_SESSION_LABEL  TRIAL_LABEL  CURRENT_FIX_X  CURRENT_FIX_Y  \\\n0                         10            1     946.200000     505.500000   \n1                         10            2     941.400000     502.700000   \n2                         10            3     954.900000     500.500000   \n3                         10            4     946.700000     503.700000   \n4                         10            5     934.500000     498.700000   \n..                       ...          ...            ...            ...   \n154                       10          156     937.100000     496.800000   \n155                       10          157     937.600000     502.100000   \n156                       10          158     931.400000     503.700000   \n157                       10          159     961.412121     571.755556   \n158                       10          160     931.000000     501.600000   \n\n     IS_VALID  \n0        True  \n1        True  \n2        True  \n3        True  \n4        True  \n..        ...  \n154      True  \n155      True  \n156      True  \n157      True  \n158      True  \n\n[159 rows x 5 columns]",
      "text/html": "<div>\n<style scoped>\n    .dataframe tbody tr th:only-of-type {\n        vertical-align: middle;\n    }\n\n    .dataframe tbody tr th {\n        vertical-align: top;\n    }\n\n    .dataframe thead th {\n        text-align: right;\n    }\n</style>\n<table border=\"1\" class=\"dataframe\">\n  <thead>\n    <tr style=\"text-align: right;\">\n      <th></th>\n      <th>RECORDING_SESSION_LABEL</th>\n      <th>TRIAL_LABEL</th>\n      <th>CURRENT_FIX_X</th>\n      <th>CURRENT_FIX_Y</th>\n      <th>IS_VALID</th>\n    </tr>\n  </thead>\n  <tbody>\n    <tr>\n      <th>0</th>\n      <td>10</td>\n      <td>1</td>\n      <td>946.200000</td>\n      <td>505.500000</td>\n      <td>True</td>\n    </tr>\n    <tr>\n      <th>1</th>\n      <td>10</td>\n      <td>2</td>\n      <td>941.400000</td>\n      <td>502.700000</td>\n      <td>True</td>\n    </tr>\n    <tr>\n      <th>2</th>\n      <td>10</td>\n      <td>3</td>\n      <td>954.900000</td>\n      <td>500.500000</td>\n      <td>True</td>\n    </tr>\n    <tr>\n      <th>3</th>\n      <td>10</td>\n      <td>4</td>\n      <td>946.700000</td>\n      <td>503.700000</td>\n      <td>True</td>\n    </tr>\n    <tr>\n      <th>4</th>\n      <td>10</td>\n      <td>5</td>\n      <td>934.500000</td>\n      <td>498.700000</td>\n      <td>True</td>\n    </tr>\n    <tr>\n      <th>...</th>\n      <td>...</td>\n      <td>...</td>\n      <td>...</td>\n      <td>...</td>\n      <td>...</td>\n    </tr>\n    <tr>\n      <th>154</th>\n      <td>10</td>\n      <td>156</td>\n      <td>937.100000</td>\n      <td>496.800000</td>\n      <td>True</td>\n    </tr>\n    <tr>\n      <th>155</th>\n      <td>10</td>\n      <td>157</td>\n      <td>937.600000</td>\n      <td>502.100000</td>\n      <td>True</td>\n    </tr>\n    <tr>\n      <th>156</th>\n      <td>10</td>\n      <td>158</td>\n      <td>931.400000</td>\n      <td>503.700000</td>\n      <td>True</td>\n    </tr>\n    <tr>\n      <th>157</th>\n      <td>10</td>\n      <td>159</td>\n      <td>961.412121</td>\n      <td>571.755556</td>\n      <td>True</td>\n    </tr>\n    <tr>\n      <th>158</th>\n      <td>10</td>\n      <td>160</td>\n      <td>931.000000</td>\n      <td>501.600000</td>\n      <td>True</td>\n    </tr>\n  </tbody>\n</table>\n<p>159 rows × 5 columns</p>\n</div>"
     },
     "execution_count": 61,
     "metadata": {},
     "output_type": "execute_result"
    }
   ],
   "source": [
    "baseline = pd.read_csv('../data/gaze/baselines/10.csv')\n",
    "baseline"
   ],
   "metadata": {
    "collapsed": false
   }
  },
  {
   "cell_type": "code",
   "execution_count": 51,
   "outputs": [],
   "source": [
    "df_updated = df_.copy(deep=True)\n",
    "x_cross = 1920/2\n",
    "y_cross = 1080/2\n",
    "\n"
   ],
   "metadata": {
    "collapsed": false
   }
  },
  {
   "cell_type": "code",
   "execution_count": 55,
   "outputs": [
    {
     "name": "stdout",
     "output_type": "stream",
     "text": [
      "     RECORDING_SESSION_LABEL  TRIAL_LABEL  CURRENT_FIX_X  CURRENT_FIX_Y  \\\n",
      "0                         52            1     942.000000     528.500000   \n",
      "1                         52            2     948.800000     526.700000   \n",
      "2                         52            3     938.426165     530.982079   \n",
      "3                         52            4     940.200000     525.400000   \n",
      "4                         52            5     937.300000     524.700000   \n",
      "..                       ...          ...            ...            ...   \n",
      "154                       52          156     966.400000     521.800000   \n",
      "155                       52          157    1002.202899     499.201449   \n",
      "156                       52          158     941.300000     501.200000   \n",
      "157                       52          159     961.700000     501.300000   \n",
      "158                       52          160     951.081250     510.293750   \n",
      "\n",
      "     IS_VALID  \n",
      "0        True  \n",
      "1        True  \n",
      "2        True  \n",
      "3        True  \n",
      "4        True  \n",
      "..        ...  \n",
      "154      True  \n",
      "155      True  \n",
      "156      True  \n",
      "157      True  \n",
      "158      True  \n",
      "\n",
      "[159 rows x 5 columns]\n"
     ]
    }
   ],
   "source": [
    "for path in all_roi:\n",
    "    subj = extract_sub(path)\n",
    "    print(pd.read_csv('../data/gaze/baselines/'+str(subj)+'.csv'))\n",
    "    break"
   ],
   "metadata": {
    "collapsed": false
   }
  },
  {
   "cell_type": "code",
   "execution_count": 38,
   "outputs": [],
   "source": [
    "\n",
    "for i in range(len(baseline)):\n",
    "    trial = baseline.TRIAL_LABEL[i]\n",
    "    valid = baseline.IS_VALID[i]\n",
    "\n",
    "    if valid:\n",
    "        x_base = baseline.CURRENT_FIX_X[i]\n",
    "        y_base = baseline.CURRENT_FIX_Y[i]\n",
    "\n",
    "    else:\n",
    "        x_base = baseline[baseline['IS_VALID']==True]['CURRENT_FIX_X'].mean()\n",
    "        y_base = baseline[baseline['IS_VALID']==True]['CURRENT_FIX_Y'].mean()\n",
    "\n",
    "    delta_x, delta_y = (x_cross-x_base), (y_cross-y_base)\n",
    "\n",
    "    for row in df_[df_['Trial'] == trial].iterrows():\n",
    "        df_updated.loc[row[0], 'X_Coord'] = np.round(row[1]['X_Coord'] + delta_x,2)\n",
    "        df_updated.loc[row[0], 'Y_Coord'] = np.round(row[1]['Y_Coord'] + delta_y, 2)\n",
    "\n"
   ],
   "metadata": {
    "collapsed": false
   }
  },
  {
   "cell_type": "code",
   "execution_count": 39,
   "outputs": [
    {
     "data": {
      "text/plain": "      Subject  Trial  Fixation #  X_Coord  Y_Coord\n0         1.0    1.0         1.0   953.20   542.09\n1         1.0    1.0         2.0   951.44   538.50\n2         1.0    1.0         3.0  1222.36   851.90\n3         1.0    1.0         4.0   968.43   535.66\n4         1.0    1.0         5.0   953.13   544.87\n...       ...    ...         ...      ...      ...\n5366      1.0  160.0        31.0   959.89   631.15\n5367      1.0  160.0        32.0   963.91   640.30\n5368      1.0  160.0        33.0   966.12   640.28\n5369      1.0  160.0        34.0   903.96   519.44\n5370      1.0  160.0        35.0   892.15   516.39\n\n[5371 rows x 5 columns]",
      "text/html": "<div>\n<style scoped>\n    .dataframe tbody tr th:only-of-type {\n        vertical-align: middle;\n    }\n\n    .dataframe tbody tr th {\n        vertical-align: top;\n    }\n\n    .dataframe thead th {\n        text-align: right;\n    }\n</style>\n<table border=\"1\" class=\"dataframe\">\n  <thead>\n    <tr style=\"text-align: right;\">\n      <th></th>\n      <th>Subject</th>\n      <th>Trial</th>\n      <th>Fixation #</th>\n      <th>X_Coord</th>\n      <th>Y_Coord</th>\n    </tr>\n  </thead>\n  <tbody>\n    <tr>\n      <th>0</th>\n      <td>1.0</td>\n      <td>1.0</td>\n      <td>1.0</td>\n      <td>953.20</td>\n      <td>542.09</td>\n    </tr>\n    <tr>\n      <th>1</th>\n      <td>1.0</td>\n      <td>1.0</td>\n      <td>2.0</td>\n      <td>951.44</td>\n      <td>538.50</td>\n    </tr>\n    <tr>\n      <th>2</th>\n      <td>1.0</td>\n      <td>1.0</td>\n      <td>3.0</td>\n      <td>1222.36</td>\n      <td>851.90</td>\n    </tr>\n    <tr>\n      <th>3</th>\n      <td>1.0</td>\n      <td>1.0</td>\n      <td>4.0</td>\n      <td>968.43</td>\n      <td>535.66</td>\n    </tr>\n    <tr>\n      <th>4</th>\n      <td>1.0</td>\n      <td>1.0</td>\n      <td>5.0</td>\n      <td>953.13</td>\n      <td>544.87</td>\n    </tr>\n    <tr>\n      <th>...</th>\n      <td>...</td>\n      <td>...</td>\n      <td>...</td>\n      <td>...</td>\n      <td>...</td>\n    </tr>\n    <tr>\n      <th>5366</th>\n      <td>1.0</td>\n      <td>160.0</td>\n      <td>31.0</td>\n      <td>959.89</td>\n      <td>631.15</td>\n    </tr>\n    <tr>\n      <th>5367</th>\n      <td>1.0</td>\n      <td>160.0</td>\n      <td>32.0</td>\n      <td>963.91</td>\n      <td>640.30</td>\n    </tr>\n    <tr>\n      <th>5368</th>\n      <td>1.0</td>\n      <td>160.0</td>\n      <td>33.0</td>\n      <td>966.12</td>\n      <td>640.28</td>\n    </tr>\n    <tr>\n      <th>5369</th>\n      <td>1.0</td>\n      <td>160.0</td>\n      <td>34.0</td>\n      <td>903.96</td>\n      <td>519.44</td>\n    </tr>\n    <tr>\n      <th>5370</th>\n      <td>1.0</td>\n      <td>160.0</td>\n      <td>35.0</td>\n      <td>892.15</td>\n      <td>516.39</td>\n    </tr>\n  </tbody>\n</table>\n<p>5371 rows × 5 columns</p>\n</div>"
     },
     "execution_count": 39,
     "metadata": {},
     "output_type": "execute_result"
    }
   ],
   "source": [
    "df_updated"
   ],
   "metadata": {
    "collapsed": false
   }
  },
  {
   "cell_type": "code",
   "execution_count": null,
   "outputs": [],
   "source": [],
   "metadata": {
    "collapsed": false
   }
  }
 ],
 "metadata": {
  "kernelspec": {
   "display_name": "Python 3",
   "language": "python",
   "name": "python3"
  },
  "language_info": {
   "codemirror_mode": {
    "name": "ipython",
    "version": 2
   },
   "file_extension": ".py",
   "mimetype": "text/x-python",
   "name": "python",
   "nbconvert_exporter": "python",
   "pygments_lexer": "ipython2",
   "version": "2.7.6"
  }
 },
 "nbformat": 4,
 "nbformat_minor": 0
}
