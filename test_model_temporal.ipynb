{
 "cells": [
  {
   "cell_type": "markdown",
   "source": [
    "PPCA lavora con più variabili osservabili anzichè una sola"
   ],
   "metadata": {
    "collapsed": false
   }
  },
  {
   "cell_type": "code",
   "execution_count": 1,
   "outputs": [
    {
     "name": "stderr",
     "output_type": "stream",
     "text": [
      "WARNING (aesara.tensor.blas): Using NumPy C-API based implementation for BLAS functions.\n"
     ]
    }
   ],
   "source": [
    "import numpy as np\n",
    "import pymc as pm\n",
    "import matplotlib.pyplot as plt\n",
    "import aesara.tensor as at\n",
    "import arviz as az\n",
    "from sklearn.metrics import accuracy_score\n",
    "from sklearn.preprocessing import StandardScaler\n",
    "import sklearn.metrics as metrics\n",
    "from scipy import stats\n",
    "import scipy\n",
    "import pandas as pd\n",
    "import warnings"
   ],
   "metadata": {
    "collapsed": false
   }
  },
  {
   "cell_type": "code",
   "execution_count": null,
   "outputs": [],
   "source": [
    "warnings.simplefilter(action=\"ignore\", category=FutureWarning)"
   ],
   "metadata": {
    "collapsed": false
   }
  },
  {
   "cell_type": "code",
   "execution_count": 2,
   "outputs": [],
   "source": [
    "scaler = StandardScaler()"
   ],
   "metadata": {
    "collapsed": false
   }
  },
  {
   "cell_type": "markdown",
   "source": [
    "# extract data social anxiety"
   ],
   "metadata": {
    "collapsed": false
   }
  },
  {
   "cell_type": "code",
   "execution_count": 3,
   "outputs": [],
   "source": [
    "csv_ = '/Users/marcoghezzi/PycharmProjects/pythonProject/osfstorage-archive/behavior/LookAtMe_045.csv'\n",
    "csv_ = '/home/paolo/matteo/matteo/unimi/tesi_master/code/osfstorage-archive/behavior/LookAtMe_045.csv'\n",
    "global_data = pd.read_csv(csv_, sep='\\t')\n",
    "y = np.array(list([int(d>2) for d in global_data['rating']]))\n",
    "e_labels = y[:,np.newaxis]  # rating > 2"
   ],
   "metadata": {
    "collapsed": false
   }
  },
  {
   "cell_type": "code",
   "execution_count": 5,
   "outputs": [
    {
     "name": "stdout",
     "output_type": "stream",
     "text": [
      "160 1\n"
     ]
    }
   ],
   "source": [
    "N_e = e_labels.shape[0]\n",
    "D_e = e_labels.shape[1]\n",
    "print(N_e,D_e)"
   ],
   "metadata": {
    "collapsed": false
   }
  },
  {
   "cell_type": "markdown",
   "source": [
    "## test with new data"
   ],
   "metadata": {
    "collapsed": false
   }
  },
  {
   "cell_type": "code",
   "execution_count": 6,
   "outputs": [
    {
     "name": "stdout",
     "output_type": "stream",
     "text": [
      ">> Loading EDA for subject 45 and all sessions from dataset FEAR\n",
      ">> Loading HR for subject 45 and all sessions from dataset FEAR\n",
      ">> Loading PUPIL for subject 45 and all sessions from dataset FEAR\n",
      ">> Processing EDA ...\n",
      ">> Extracting wavelet features from EDA signal, adopting (2, 1) window ...\n",
      ">> Processing HR ... using neurokit\n"
     ]
    },
    {
     "name": "stderr",
     "output_type": "stream",
     "text": [
      "/home/paolo/matteo/matteo/unimi/tesi_master/code/my_env/lib/python3.8/site-packages/neurokit2/epochs/epochs_create.py:205: FutureWarning: iteritems is deprecated and will be removed in a future version. Use .items instead.\n",
      "  for colname, column in epochs[i].select_dtypes(include=[\"object\"]).iteritems():\n",
      "/home/paolo/matteo/matteo/unimi/tesi_master/code/my_env/lib/python3.8/site-packages/neurokit2/epochs/epochs_create.py:205: FutureWarning: iteritems is deprecated and will be removed in a future version. Use .items instead.\n",
      "  for colname, column in epochs[i].select_dtypes(include=[\"object\"]).iteritems():\n",
      "/home/paolo/matteo/matteo/unimi/tesi_master/code/my_env/lib/python3.8/site-packages/neurokit2/epochs/epochs_create.py:205: FutureWarning: iteritems is deprecated and will be removed in a future version. Use .items instead.\n",
      "  for colname, column in epochs[i].select_dtypes(include=[\"object\"]).iteritems():\n",
      "/home/paolo/matteo/matteo/unimi/tesi_master/code/my_env/lib/python3.8/site-packages/neurokit2/epochs/epochs_create.py:205: FutureWarning: iteritems is deprecated and will be removed in a future version. Use .items instead.\n",
      "  for colname, column in epochs[i].select_dtypes(include=[\"object\"]).iteritems():\n",
      "/home/paolo/matteo/matteo/unimi/tesi_master/code/my_env/lib/python3.8/site-packages/neurokit2/epochs/epochs_create.py:205: FutureWarning: iteritems is deprecated and will be removed in a future version. Use .items instead.\n",
      "  for colname, column in epochs[i].select_dtypes(include=[\"object\"]).iteritems():\n",
      "/home/paolo/matteo/matteo/unimi/tesi_master/code/my_env/lib/python3.8/site-packages/neurokit2/epochs/epochs_create.py:205: FutureWarning: iteritems is deprecated and will be removed in a future version. Use .items instead.\n",
      "  for colname, column in epochs[i].select_dtypes(include=[\"object\"]).iteritems():\n",
      "/home/paolo/matteo/matteo/unimi/tesi_master/code/my_env/lib/python3.8/site-packages/neurokit2/epochs/epochs_create.py:205: FutureWarning: iteritems is deprecated and will be removed in a future version. Use .items instead.\n",
      "  for colname, column in epochs[i].select_dtypes(include=[\"object\"]).iteritems():\n",
      "/home/paolo/matteo/matteo/unimi/tesi_master/code/my_env/lib/python3.8/site-packages/neurokit2/epochs/epochs_create.py:205: FutureWarning: iteritems is deprecated and will be removed in a future version. Use .items instead.\n",
      "  for colname, column in epochs[i].select_dtypes(include=[\"object\"]).iteritems():\n",
      "/home/paolo/matteo/matteo/unimi/tesi_master/code/my_env/lib/python3.8/site-packages/neurokit2/epochs/epochs_create.py:205: FutureWarning: iteritems is deprecated and will be removed in a future version. Use .items instead.\n",
      "  for colname, column in epochs[i].select_dtypes(include=[\"object\"]).iteritems():\n",
      "/home/paolo/matteo/matteo/unimi/tesi_master/code/my_env/lib/python3.8/site-packages/neurokit2/epochs/epochs_create.py:205: FutureWarning: iteritems is deprecated and will be removed in a future version. Use .items instead.\n",
      "  for colname, column in epochs[i].select_dtypes(include=[\"object\"]).iteritems():\n",
      "/home/paolo/matteo/matteo/unimi/tesi_master/code/my_env/lib/python3.8/site-packages/neurokit2/epochs/epochs_create.py:205: FutureWarning: iteritems is deprecated and will be removed in a future version. Use .items instead.\n",
      "  for colname, column in epochs[i].select_dtypes(include=[\"object\"]).iteritems():\n",
      "/home/paolo/matteo/matteo/unimi/tesi_master/code/my_env/lib/python3.8/site-packages/neurokit2/epochs/epochs_create.py:205: FutureWarning: iteritems is deprecated and will be removed in a future version. Use .items instead.\n",
      "  for colname, column in epochs[i].select_dtypes(include=[\"object\"]).iteritems():\n",
      "/home/paolo/matteo/matteo/unimi/tesi_master/code/my_env/lib/python3.8/site-packages/neurokit2/epochs/epochs_create.py:205: FutureWarning: iteritems is deprecated and will be removed in a future version. Use .items instead.\n",
      "  for colname, column in epochs[i].select_dtypes(include=[\"object\"]).iteritems():\n",
      "/home/paolo/matteo/matteo/unimi/tesi_master/code/my_env/lib/python3.8/site-packages/neurokit2/epochs/epochs_create.py:205: FutureWarning: iteritems is deprecated and will be removed in a future version. Use .items instead.\n",
      "  for colname, column in epochs[i].select_dtypes(include=[\"object\"]).iteritems():\n",
      "/home/paolo/matteo/matteo/unimi/tesi_master/code/my_env/lib/python3.8/site-packages/neurokit2/epochs/epochs_create.py:205: FutureWarning: iteritems is deprecated and will be removed in a future version. Use .items instead.\n",
      "  for colname, column in epochs[i].select_dtypes(include=[\"object\"]).iteritems():\n",
      "/home/paolo/matteo/matteo/unimi/tesi_master/code/my_env/lib/python3.8/site-packages/neurokit2/epochs/epochs_create.py:205: FutureWarning: iteritems is deprecated and will be removed in a future version. Use .items instead.\n",
      "  for colname, column in epochs[i].select_dtypes(include=[\"object\"]).iteritems():\n",
      "/home/paolo/matteo/matteo/unimi/tesi_master/code/my_env/lib/python3.8/site-packages/neurokit2/epochs/epochs_create.py:205: FutureWarning: iteritems is deprecated and will be removed in a future version. Use .items instead.\n",
      "  for colname, column in epochs[i].select_dtypes(include=[\"object\"]).iteritems():\n",
      "/home/paolo/matteo/matteo/unimi/tesi_master/code/my_env/lib/python3.8/site-packages/neurokit2/epochs/epochs_create.py:205: FutureWarning: iteritems is deprecated and will be removed in a future version. Use .items instead.\n",
      "  for colname, column in epochs[i].select_dtypes(include=[\"object\"]).iteritems():\n",
      "/home/paolo/matteo/matteo/unimi/tesi_master/code/my_env/lib/python3.8/site-packages/numpy/core/fromnumeric.py:3474: RuntimeWarning: Mean of empty slice.\n",
      "  return _methods._mean(a, axis=axis, dtype=dtype,\n",
      "/home/paolo/matteo/matteo/unimi/tesi_master/code/my_env/lib/python3.8/site-packages/numpy/core/_methods.py:189: RuntimeWarning: invalid value encountered in double_scalars\n",
      "  ret = ret.dtype.type(ret / rcount)\n",
      "/home/paolo/matteo/matteo/unimi/tesi_master/code/my_env/lib/python3.8/site-packages/neurokit2/epochs/epochs_create.py:205: FutureWarning: iteritems is deprecated and will be removed in a future version. Use .items instead.\n",
      "  for colname, column in epochs[i].select_dtypes(include=[\"object\"]).iteritems():\n",
      "/home/paolo/matteo/matteo/unimi/tesi_master/code/my_env/lib/python3.8/site-packages/neurokit2/epochs/epochs_create.py:205: FutureWarning: iteritems is deprecated and will be removed in a future version. Use .items instead.\n",
      "  for colname, column in epochs[i].select_dtypes(include=[\"object\"]).iteritems():\n",
      "/home/paolo/matteo/matteo/unimi/tesi_master/code/my_env/lib/python3.8/site-packages/neurokit2/epochs/epochs_create.py:205: FutureWarning: iteritems is deprecated and will be removed in a future version. Use .items instead.\n",
      "  for colname, column in epochs[i].select_dtypes(include=[\"object\"]).iteritems():\n",
      "/home/paolo/matteo/matteo/unimi/tesi_master/code/my_env/lib/python3.8/site-packages/neurokit2/epochs/epochs_create.py:205: FutureWarning: iteritems is deprecated and will be removed in a future version. Use .items instead.\n",
      "  for colname, column in epochs[i].select_dtypes(include=[\"object\"]).iteritems():\n",
      "/home/paolo/matteo/matteo/unimi/tesi_master/code/my_env/lib/python3.8/site-packages/neurokit2/epochs/epochs_create.py:205: FutureWarning: iteritems is deprecated and will be removed in a future version. Use .items instead.\n",
      "  for colname, column in epochs[i].select_dtypes(include=[\"object\"]).iteritems():\n",
      "/home/paolo/matteo/matteo/unimi/tesi_master/code/my_env/lib/python3.8/site-packages/neurokit2/epochs/epochs_create.py:205: FutureWarning: iteritems is deprecated and will be removed in a future version. Use .items instead.\n",
      "  for colname, column in epochs[i].select_dtypes(include=[\"object\"]).iteritems():\n",
      "/home/paolo/matteo/matteo/unimi/tesi_master/code/my_env/lib/python3.8/site-packages/neurokit2/epochs/epochs_create.py:205: FutureWarning: iteritems is deprecated and will be removed in a future version. Use .items instead.\n",
      "  for colname, column in epochs[i].select_dtypes(include=[\"object\"]).iteritems():\n",
      "/home/paolo/matteo/matteo/unimi/tesi_master/code/my_env/lib/python3.8/site-packages/neurokit2/epochs/epochs_create.py:205: FutureWarning: iteritems is deprecated and will be removed in a future version. Use .items instead.\n",
      "  for colname, column in epochs[i].select_dtypes(include=[\"object\"]).iteritems():\n",
      "/home/paolo/matteo/matteo/unimi/tesi_master/code/my_env/lib/python3.8/site-packages/neurokit2/epochs/epochs_create.py:205: FutureWarning: iteritems is deprecated and will be removed in a future version. Use .items instead.\n",
      "  for colname, column in epochs[i].select_dtypes(include=[\"object\"]).iteritems():\n",
      "/home/paolo/matteo/matteo/unimi/tesi_master/code/my_env/lib/python3.8/site-packages/neurokit2/epochs/epochs_create.py:205: FutureWarning: iteritems is deprecated and will be removed in a future version. Use .items instead.\n",
      "  for colname, column in epochs[i].select_dtypes(include=[\"object\"]).iteritems():\n",
      "/home/paolo/matteo/matteo/unimi/tesi_master/code/my_env/lib/python3.8/site-packages/neurokit2/epochs/epochs_create.py:205: FutureWarning: iteritems is deprecated and will be removed in a future version. Use .items instead.\n",
      "  for colname, column in epochs[i].select_dtypes(include=[\"object\"]).iteritems():\n",
      "/home/paolo/matteo/matteo/unimi/tesi_master/code/my_env/lib/python3.8/site-packages/neurokit2/epochs/epochs_create.py:205: FutureWarning: iteritems is deprecated and will be removed in a future version. Use .items instead.\n",
      "  for colname, column in epochs[i].select_dtypes(include=[\"object\"]).iteritems():\n",
      "/home/paolo/matteo/matteo/unimi/tesi_master/code/my_env/lib/python3.8/site-packages/neurokit2/epochs/epochs_create.py:205: FutureWarning: iteritems is deprecated and will be removed in a future version. Use .items instead.\n",
      "  for colname, column in epochs[i].select_dtypes(include=[\"object\"]).iteritems():\n",
      "/home/paolo/matteo/matteo/unimi/tesi_master/code/my_env/lib/python3.8/site-packages/neurokit2/epochs/epochs_create.py:205: FutureWarning: iteritems is deprecated and will be removed in a future version. Use .items instead.\n",
      "  for colname, column in epochs[i].select_dtypes(include=[\"object\"]).iteritems():\n",
      "/home/paolo/matteo/matteo/unimi/tesi_master/code/my_env/lib/python3.8/site-packages/neurokit2/epochs/epochs_create.py:205: FutureWarning: iteritems is deprecated and will be removed in a future version. Use .items instead.\n",
      "  for colname, column in epochs[i].select_dtypes(include=[\"object\"]).iteritems():\n",
      "/home/paolo/matteo/matteo/unimi/tesi_master/code/my_env/lib/python3.8/site-packages/neurokit2/epochs/epochs_create.py:205: FutureWarning: iteritems is deprecated and will be removed in a future version. Use .items instead.\n",
      "  for colname, column in epochs[i].select_dtypes(include=[\"object\"]).iteritems():\n",
      "/home/paolo/matteo/matteo/unimi/tesi_master/code/my_env/lib/python3.8/site-packages/neurokit2/epochs/epochs_create.py:205: FutureWarning: iteritems is deprecated and will be removed in a future version. Use .items instead.\n",
      "  for colname, column in epochs[i].select_dtypes(include=[\"object\"]).iteritems():\n",
      "/home/paolo/matteo/matteo/unimi/tesi_master/code/my_env/lib/python3.8/site-packages/neurokit2/epochs/epochs_create.py:205: FutureWarning: iteritems is deprecated and will be removed in a future version. Use .items instead.\n",
      "  for colname, column in epochs[i].select_dtypes(include=[\"object\"]).iteritems():\n",
      "/home/paolo/matteo/matteo/unimi/tesi_master/code/my_env/lib/python3.8/site-packages/neurokit2/epochs/epochs_create.py:205: FutureWarning: iteritems is deprecated and will be removed in a future version. Use .items instead.\n",
      "  for colname, column in epochs[i].select_dtypes(include=[\"object\"]).iteritems():\n",
      "/home/paolo/matteo/matteo/unimi/tesi_master/code/my_env/lib/python3.8/site-packages/neurokit2/epochs/epochs_create.py:205: FutureWarning: iteritems is deprecated and will be removed in a future version. Use .items instead.\n",
      "  for colname, column in epochs[i].select_dtypes(include=[\"object\"]).iteritems():\n",
      "/home/paolo/matteo/matteo/unimi/tesi_master/code/my_env/lib/python3.8/site-packages/neurokit2/epochs/epochs_create.py:205: FutureWarning: iteritems is deprecated and will be removed in a future version. Use .items instead.\n",
      "  for colname, column in epochs[i].select_dtypes(include=[\"object\"]).iteritems():\n",
      "/home/paolo/matteo/matteo/unimi/tesi_master/code/my_env/lib/python3.8/site-packages/neurokit2/epochs/epochs_create.py:205: FutureWarning: iteritems is deprecated and will be removed in a future version. Use .items instead.\n",
      "  for colname, column in epochs[i].select_dtypes(include=[\"object\"]).iteritems():\n",
      "/home/paolo/matteo/matteo/unimi/tesi_master/code/my_env/lib/python3.8/site-packages/neurokit2/epochs/epochs_create.py:205: FutureWarning: iteritems is deprecated and will be removed in a future version. Use .items instead.\n",
      "  for colname, column in epochs[i].select_dtypes(include=[\"object\"]).iteritems():\n",
      "/home/paolo/matteo/matteo/unimi/tesi_master/code/my_env/lib/python3.8/site-packages/neurokit2/epochs/epochs_create.py:205: FutureWarning: iteritems is deprecated and will be removed in a future version. Use .items instead.\n",
      "  for colname, column in epochs[i].select_dtypes(include=[\"object\"]).iteritems():\n",
      "/home/paolo/matteo/matteo/unimi/tesi_master/code/my_env/lib/python3.8/site-packages/neurokit2/epochs/epochs_create.py:205: FutureWarning: iteritems is deprecated and will be removed in a future version. Use .items instead.\n",
      "  for colname, column in epochs[i].select_dtypes(include=[\"object\"]).iteritems():\n",
      "/home/paolo/matteo/matteo/unimi/tesi_master/code/my_env/lib/python3.8/site-packages/neurokit2/epochs/epochs_create.py:205: FutureWarning: iteritems is deprecated and will be removed in a future version. Use .items instead.\n",
      "  for colname, column in epochs[i].select_dtypes(include=[\"object\"]).iteritems():\n",
      "/home/paolo/matteo/matteo/unimi/tesi_master/code/my_env/lib/python3.8/site-packages/neurokit2/epochs/epochs_create.py:205: FutureWarning: iteritems is deprecated and will be removed in a future version. Use .items instead.\n",
      "  for colname, column in epochs[i].select_dtypes(include=[\"object\"]).iteritems():\n",
      "/home/paolo/matteo/matteo/unimi/tesi_master/code/my_env/lib/python3.8/site-packages/neurokit2/epochs/epochs_create.py:205: FutureWarning: iteritems is deprecated and will be removed in a future version. Use .items instead.\n",
      "  for colname, column in epochs[i].select_dtypes(include=[\"object\"]).iteritems():\n",
      "/home/paolo/matteo/matteo/unimi/tesi_master/code/my_env/lib/python3.8/site-packages/neurokit2/epochs/epochs_create.py:205: FutureWarning: iteritems is deprecated and will be removed in a future version. Use .items instead.\n",
      "  for colname, column in epochs[i].select_dtypes(include=[\"object\"]).iteritems():\n",
      "/home/paolo/matteo/matteo/unimi/tesi_master/code/my_env/lib/python3.8/site-packages/neurokit2/epochs/epochs_create.py:205: FutureWarning: iteritems is deprecated and will be removed in a future version. Use .items instead.\n",
      "  for colname, column in epochs[i].select_dtypes(include=[\"object\"]).iteritems():\n",
      "/home/paolo/matteo/matteo/unimi/tesi_master/code/my_env/lib/python3.8/site-packages/neurokit2/epochs/epochs_create.py:205: FutureWarning: iteritems is deprecated and will be removed in a future version. Use .items instead.\n",
      "  for colname, column in epochs[i].select_dtypes(include=[\"object\"]).iteritems():\n",
      "/home/paolo/matteo/matteo/unimi/tesi_master/code/my_env/lib/python3.8/site-packages/neurokit2/epochs/epochs_create.py:205: FutureWarning: iteritems is deprecated and will be removed in a future version. Use .items instead.\n",
      "  for colname, column in epochs[i].select_dtypes(include=[\"object\"]).iteritems():\n",
      "/home/paolo/matteo/matteo/unimi/tesi_master/code/my_env/lib/python3.8/site-packages/numpy/core/fromnumeric.py:3474: RuntimeWarning: Mean of empty slice.\n",
      "  return _methods._mean(a, axis=axis, dtype=dtype,\n",
      "/home/paolo/matteo/matteo/unimi/tesi_master/code/my_env/lib/python3.8/site-packages/numpy/core/_methods.py:189: RuntimeWarning: invalid value encountered in double_scalars\n",
      "  ret = ret.dtype.type(ret / rcount)\n",
      "/home/paolo/matteo/matteo/unimi/tesi_master/code/my_env/lib/python3.8/site-packages/neurokit2/epochs/epochs_create.py:205: FutureWarning: iteritems is deprecated and will be removed in a future version. Use .items instead.\n",
      "  for colname, column in epochs[i].select_dtypes(include=[\"object\"]).iteritems():\n",
      "/home/paolo/matteo/matteo/unimi/tesi_master/code/my_env/lib/python3.8/site-packages/neurokit2/epochs/epochs_create.py:205: FutureWarning: iteritems is deprecated and will be removed in a future version. Use .items instead.\n",
      "  for colname, column in epochs[i].select_dtypes(include=[\"object\"]).iteritems():\n",
      "/home/paolo/matteo/matteo/unimi/tesi_master/code/my_env/lib/python3.8/site-packages/neurokit2/epochs/epochs_create.py:205: FutureWarning: iteritems is deprecated and will be removed in a future version. Use .items instead.\n",
      "  for colname, column in epochs[i].select_dtypes(include=[\"object\"]).iteritems():\n",
      "/home/paolo/matteo/matteo/unimi/tesi_master/code/my_env/lib/python3.8/site-packages/neurokit2/epochs/epochs_create.py:205: FutureWarning: iteritems is deprecated and will be removed in a future version. Use .items instead.\n",
      "  for colname, column in epochs[i].select_dtypes(include=[\"object\"]).iteritems():\n",
      "/home/paolo/matteo/matteo/unimi/tesi_master/code/my_env/lib/python3.8/site-packages/neurokit2/epochs/epochs_create.py:205: FutureWarning: iteritems is deprecated and will be removed in a future version. Use .items instead.\n",
      "  for colname, column in epochs[i].select_dtypes(include=[\"object\"]).iteritems():\n",
      "/home/paolo/matteo/matteo/unimi/tesi_master/code/my_env/lib/python3.8/site-packages/neurokit2/epochs/epochs_create.py:205: FutureWarning: iteritems is deprecated and will be removed in a future version. Use .items instead.\n",
      "  for colname, column in epochs[i].select_dtypes(include=[\"object\"]).iteritems():\n",
      "/home/paolo/matteo/matteo/unimi/tesi_master/code/my_env/lib/python3.8/site-packages/neurokit2/epochs/epochs_create.py:205: FutureWarning: iteritems is deprecated and will be removed in a future version. Use .items instead.\n",
      "  for colname, column in epochs[i].select_dtypes(include=[\"object\"]).iteritems():\n",
      "/home/paolo/matteo/matteo/unimi/tesi_master/code/my_env/lib/python3.8/site-packages/neurokit2/epochs/epochs_create.py:205: FutureWarning: iteritems is deprecated and will be removed in a future version. Use .items instead.\n",
      "  for colname, column in epochs[i].select_dtypes(include=[\"object\"]).iteritems():\n",
      "/home/paolo/matteo/matteo/unimi/tesi_master/code/my_env/lib/python3.8/site-packages/neurokit2/epochs/epochs_create.py:205: FutureWarning: iteritems is deprecated and will be removed in a future version. Use .items instead.\n",
      "  for colname, column in epochs[i].select_dtypes(include=[\"object\"]).iteritems():\n",
      "/home/paolo/matteo/matteo/unimi/tesi_master/code/my_env/lib/python3.8/site-packages/neurokit2/epochs/epochs_create.py:205: FutureWarning: iteritems is deprecated and will be removed in a future version. Use .items instead.\n",
      "  for colname, column in epochs[i].select_dtypes(include=[\"object\"]).iteritems():\n",
      "/home/paolo/matteo/matteo/unimi/tesi_master/code/my_env/lib/python3.8/site-packages/neurokit2/epochs/epochs_create.py:205: FutureWarning: iteritems is deprecated and will be removed in a future version. Use .items instead.\n",
      "  for colname, column in epochs[i].select_dtypes(include=[\"object\"]).iteritems():\n",
      "/home/paolo/matteo/matteo/unimi/tesi_master/code/my_env/lib/python3.8/site-packages/neurokit2/epochs/epochs_create.py:205: FutureWarning: iteritems is deprecated and will be removed in a future version. Use .items instead.\n",
      "  for colname, column in epochs[i].select_dtypes(include=[\"object\"]).iteritems():\n",
      "/home/paolo/matteo/matteo/unimi/tesi_master/code/my_env/lib/python3.8/site-packages/neurokit2/epochs/epochs_create.py:205: FutureWarning: iteritems is deprecated and will be removed in a future version. Use .items instead.\n",
      "  for colname, column in epochs[i].select_dtypes(include=[\"object\"]).iteritems():\n",
      "/home/paolo/matteo/matteo/unimi/tesi_master/code/my_env/lib/python3.8/site-packages/neurokit2/epochs/epochs_create.py:205: FutureWarning: iteritems is deprecated and will be removed in a future version. Use .items instead.\n",
      "  for colname, column in epochs[i].select_dtypes(include=[\"object\"]).iteritems():\n",
      "/home/paolo/matteo/matteo/unimi/tesi_master/code/my_env/lib/python3.8/site-packages/neurokit2/epochs/epochs_create.py:205: FutureWarning: iteritems is deprecated and will be removed in a future version. Use .items instead.\n",
      "  for colname, column in epochs[i].select_dtypes(include=[\"object\"]).iteritems():\n",
      "/home/paolo/matteo/matteo/unimi/tesi_master/code/my_env/lib/python3.8/site-packages/neurokit2/epochs/epochs_create.py:205: FutureWarning: iteritems is deprecated and will be removed in a future version. Use .items instead.\n",
      "  for colname, column in epochs[i].select_dtypes(include=[\"object\"]).iteritems():\n",
      "/home/paolo/matteo/matteo/unimi/tesi_master/code/my_env/lib/python3.8/site-packages/neurokit2/epochs/epochs_create.py:205: FutureWarning: iteritems is deprecated and will be removed in a future version. Use .items instead.\n",
      "  for colname, column in epochs[i].select_dtypes(include=[\"object\"]).iteritems():\n",
      "/home/paolo/matteo/matteo/unimi/tesi_master/code/my_env/lib/python3.8/site-packages/neurokit2/epochs/epochs_create.py:205: FutureWarning: iteritems is deprecated and will be removed in a future version. Use .items instead.\n",
      "  for colname, column in epochs[i].select_dtypes(include=[\"object\"]).iteritems():\n",
      "/home/paolo/matteo/matteo/unimi/tesi_master/code/my_env/lib/python3.8/site-packages/neurokit2/epochs/epochs_create.py:205: FutureWarning: iteritems is deprecated and will be removed in a future version. Use .items instead.\n",
      "  for colname, column in epochs[i].select_dtypes(include=[\"object\"]).iteritems():\n",
      "/home/paolo/matteo/matteo/unimi/tesi_master/code/my_env/lib/python3.8/site-packages/neurokit2/epochs/epochs_create.py:205: FutureWarning: iteritems is deprecated and will be removed in a future version. Use .items instead.\n",
      "  for colname, column in epochs[i].select_dtypes(include=[\"object\"]).iteritems():\n",
      "/home/paolo/matteo/matteo/unimi/tesi_master/code/my_env/lib/python3.8/site-packages/neurokit2/epochs/epochs_create.py:205: FutureWarning: iteritems is deprecated and will be removed in a future version. Use .items instead.\n",
      "  for colname, column in epochs[i].select_dtypes(include=[\"object\"]).iteritems():\n",
      "/home/paolo/matteo/matteo/unimi/tesi_master/code/my_env/lib/python3.8/site-packages/neurokit2/epochs/epochs_create.py:205: FutureWarning: iteritems is deprecated and will be removed in a future version. Use .items instead.\n",
      "  for colname, column in epochs[i].select_dtypes(include=[\"object\"]).iteritems():\n",
      "/home/paolo/matteo/matteo/unimi/tesi_master/code/my_env/lib/python3.8/site-packages/neurokit2/epochs/epochs_create.py:205: FutureWarning: iteritems is deprecated and will be removed in a future version. Use .items instead.\n",
      "  for colname, column in epochs[i].select_dtypes(include=[\"object\"]).iteritems():\n",
      "/home/paolo/matteo/matteo/unimi/tesi_master/code/my_env/lib/python3.8/site-packages/neurokit2/epochs/epochs_create.py:205: FutureWarning: iteritems is deprecated and will be removed in a future version. Use .items instead.\n",
      "  for colname, column in epochs[i].select_dtypes(include=[\"object\"]).iteritems():\n",
      "/home/paolo/matteo/matteo/unimi/tesi_master/code/my_env/lib/python3.8/site-packages/neurokit2/epochs/epochs_create.py:205: FutureWarning: iteritems is deprecated and will be removed in a future version. Use .items instead.\n",
      "  for colname, column in epochs[i].select_dtypes(include=[\"object\"]).iteritems():\n",
      "/home/paolo/matteo/matteo/unimi/tesi_master/code/my_env/lib/python3.8/site-packages/neurokit2/epochs/epochs_create.py:205: FutureWarning: iteritems is deprecated and will be removed in a future version. Use .items instead.\n",
      "  for colname, column in epochs[i].select_dtypes(include=[\"object\"]).iteritems():\n",
      "/home/paolo/matteo/matteo/unimi/tesi_master/code/my_env/lib/python3.8/site-packages/numpy/core/fromnumeric.py:3474: RuntimeWarning: Mean of empty slice.\n",
      "  return _methods._mean(a, axis=axis, dtype=dtype,\n",
      "/home/paolo/matteo/matteo/unimi/tesi_master/code/my_env/lib/python3.8/site-packages/numpy/core/_methods.py:189: RuntimeWarning: invalid value encountered in double_scalars\n",
      "  ret = ret.dtype.type(ret / rcount)\n",
      "/home/paolo/matteo/matteo/unimi/tesi_master/code/my_env/lib/python3.8/site-packages/neurokit2/epochs/epochs_create.py:205: FutureWarning: iteritems is deprecated and will be removed in a future version. Use .items instead.\n",
      "  for colname, column in epochs[i].select_dtypes(include=[\"object\"]).iteritems():\n",
      "/home/paolo/matteo/matteo/unimi/tesi_master/code/my_env/lib/python3.8/site-packages/neurokit2/epochs/epochs_create.py:205: FutureWarning: iteritems is deprecated and will be removed in a future version. Use .items instead.\n",
      "  for colname, column in epochs[i].select_dtypes(include=[\"object\"]).iteritems():\n",
      "/home/paolo/matteo/matteo/unimi/tesi_master/code/my_env/lib/python3.8/site-packages/neurokit2/epochs/epochs_create.py:205: FutureWarning: iteritems is deprecated and will be removed in a future version. Use .items instead.\n",
      "  for colname, column in epochs[i].select_dtypes(include=[\"object\"]).iteritems():\n",
      "/home/paolo/matteo/matteo/unimi/tesi_master/code/my_env/lib/python3.8/site-packages/neurokit2/epochs/epochs_create.py:205: FutureWarning: iteritems is deprecated and will be removed in a future version. Use .items instead.\n",
      "  for colname, column in epochs[i].select_dtypes(include=[\"object\"]).iteritems():\n",
      "/home/paolo/matteo/matteo/unimi/tesi_master/code/my_env/lib/python3.8/site-packages/neurokit2/epochs/epochs_create.py:205: FutureWarning: iteritems is deprecated and will be removed in a future version. Use .items instead.\n",
      "  for colname, column in epochs[i].select_dtypes(include=[\"object\"]).iteritems():\n",
      "/home/paolo/matteo/matteo/unimi/tesi_master/code/my_env/lib/python3.8/site-packages/neurokit2/epochs/epochs_create.py:205: FutureWarning: iteritems is deprecated and will be removed in a future version. Use .items instead.\n",
      "  for colname, column in epochs[i].select_dtypes(include=[\"object\"]).iteritems():\n",
      "/home/paolo/matteo/matteo/unimi/tesi_master/code/my_env/lib/python3.8/site-packages/neurokit2/epochs/epochs_create.py:205: FutureWarning: iteritems is deprecated and will be removed in a future version. Use .items instead.\n",
      "  for colname, column in epochs[i].select_dtypes(include=[\"object\"]).iteritems():\n",
      "/home/paolo/matteo/matteo/unimi/tesi_master/code/my_env/lib/python3.8/site-packages/neurokit2/epochs/epochs_create.py:205: FutureWarning: iteritems is deprecated and will be removed in a future version. Use .items instead.\n",
      "  for colname, column in epochs[i].select_dtypes(include=[\"object\"]).iteritems():\n",
      "/home/paolo/matteo/matteo/unimi/tesi_master/code/my_env/lib/python3.8/site-packages/neurokit2/epochs/epochs_create.py:205: FutureWarning: iteritems is deprecated and will be removed in a future version. Use .items instead.\n",
      "  for colname, column in epochs[i].select_dtypes(include=[\"object\"]).iteritems():\n",
      "/home/paolo/matteo/matteo/unimi/tesi_master/code/my_env/lib/python3.8/site-packages/neurokit2/epochs/epochs_create.py:205: FutureWarning: iteritems is deprecated and will be removed in a future version. Use .items instead.\n",
      "  for colname, column in epochs[i].select_dtypes(include=[\"object\"]).iteritems():\n",
      "/home/paolo/matteo/matteo/unimi/tesi_master/code/my_env/lib/python3.8/site-packages/neurokit2/epochs/epochs_create.py:205: FutureWarning: iteritems is deprecated and will be removed in a future version. Use .items instead.\n",
      "  for colname, column in epochs[i].select_dtypes(include=[\"object\"]).iteritems():\n",
      "/home/paolo/matteo/matteo/unimi/tesi_master/code/my_env/lib/python3.8/site-packages/neurokit2/epochs/epochs_create.py:205: FutureWarning: iteritems is deprecated and will be removed in a future version. Use .items instead.\n",
      "  for colname, column in epochs[i].select_dtypes(include=[\"object\"]).iteritems():\n",
      "/home/paolo/matteo/matteo/unimi/tesi_master/code/my_env/lib/python3.8/site-packages/neurokit2/epochs/epochs_create.py:205: FutureWarning: iteritems is deprecated and will be removed in a future version. Use .items instead.\n",
      "  for colname, column in epochs[i].select_dtypes(include=[\"object\"]).iteritems():\n",
      "/home/paolo/matteo/matteo/unimi/tesi_master/code/my_env/lib/python3.8/site-packages/neurokit2/epochs/epochs_create.py:205: FutureWarning: iteritems is deprecated and will be removed in a future version. Use .items instead.\n",
      "  for colname, column in epochs[i].select_dtypes(include=[\"object\"]).iteritems():\n",
      "/home/paolo/matteo/matteo/unimi/tesi_master/code/my_env/lib/python3.8/site-packages/neurokit2/epochs/epochs_create.py:205: FutureWarning: iteritems is deprecated and will be removed in a future version. Use .items instead.\n",
      "  for colname, column in epochs[i].select_dtypes(include=[\"object\"]).iteritems():\n",
      "/home/paolo/matteo/matteo/unimi/tesi_master/code/my_env/lib/python3.8/site-packages/neurokit2/epochs/epochs_create.py:205: FutureWarning: iteritems is deprecated and will be removed in a future version. Use .items instead.\n",
      "  for colname, column in epochs[i].select_dtypes(include=[\"object\"]).iteritems():\n",
      "/home/paolo/matteo/matteo/unimi/tesi_master/code/my_env/lib/python3.8/site-packages/neurokit2/epochs/epochs_create.py:205: FutureWarning: iteritems is deprecated and will be removed in a future version. Use .items instead.\n",
      "  for colname, column in epochs[i].select_dtypes(include=[\"object\"]).iteritems():\n",
      "/home/paolo/matteo/matteo/unimi/tesi_master/code/my_env/lib/python3.8/site-packages/neurokit2/epochs/epochs_create.py:205: FutureWarning: iteritems is deprecated and will be removed in a future version. Use .items instead.\n",
      "  for colname, column in epochs[i].select_dtypes(include=[\"object\"]).iteritems():\n",
      "/home/paolo/matteo/matteo/unimi/tesi_master/code/my_env/lib/python3.8/site-packages/neurokit2/epochs/epochs_create.py:205: FutureWarning: iteritems is deprecated and will be removed in a future version. Use .items instead.\n",
      "  for colname, column in epochs[i].select_dtypes(include=[\"object\"]).iteritems():\n",
      "/home/paolo/matteo/matteo/unimi/tesi_master/code/my_env/lib/python3.8/site-packages/neurokit2/epochs/epochs_create.py:205: FutureWarning: iteritems is deprecated and will be removed in a future version. Use .items instead.\n",
      "  for colname, column in epochs[i].select_dtypes(include=[\"object\"]).iteritems():\n",
      "/home/paolo/matteo/matteo/unimi/tesi_master/code/my_env/lib/python3.8/site-packages/neurokit2/epochs/epochs_create.py:205: FutureWarning: iteritems is deprecated and will be removed in a future version. Use .items instead.\n",
      "  for colname, column in epochs[i].select_dtypes(include=[\"object\"]).iteritems():\n",
      "/home/paolo/matteo/matteo/unimi/tesi_master/code/my_env/lib/python3.8/site-packages/neurokit2/epochs/epochs_create.py:205: FutureWarning: iteritems is deprecated and will be removed in a future version. Use .items instead.\n",
      "  for colname, column in epochs[i].select_dtypes(include=[\"object\"]).iteritems():\n",
      "/home/paolo/matteo/matteo/unimi/tesi_master/code/my_env/lib/python3.8/site-packages/neurokit2/epochs/epochs_create.py:205: FutureWarning: iteritems is deprecated and will be removed in a future version. Use .items instead.\n",
      "  for colname, column in epochs[i].select_dtypes(include=[\"object\"]).iteritems():\n",
      "/home/paolo/matteo/matteo/unimi/tesi_master/code/my_env/lib/python3.8/site-packages/neurokit2/epochs/epochs_create.py:205: FutureWarning: iteritems is deprecated and will be removed in a future version. Use .items instead.\n",
      "  for colname, column in epochs[i].select_dtypes(include=[\"object\"]).iteritems():\n",
      "/home/paolo/matteo/matteo/unimi/tesi_master/code/my_env/lib/python3.8/site-packages/neurokit2/epochs/epochs_create.py:205: FutureWarning: iteritems is deprecated and will be removed in a future version. Use .items instead.\n",
      "  for colname, column in epochs[i].select_dtypes(include=[\"object\"]).iteritems():\n",
      "/home/paolo/matteo/matteo/unimi/tesi_master/code/my_env/lib/python3.8/site-packages/neurokit2/epochs/epochs_create.py:205: FutureWarning: iteritems is deprecated and will be removed in a future version. Use .items instead.\n",
      "  for colname, column in epochs[i].select_dtypes(include=[\"object\"]).iteritems():\n",
      "/home/paolo/matteo/matteo/unimi/tesi_master/code/my_env/lib/python3.8/site-packages/neurokit2/epochs/epochs_create.py:205: FutureWarning: iteritems is deprecated and will be removed in a future version. Use .items instead.\n",
      "  for colname, column in epochs[i].select_dtypes(include=[\"object\"]).iteritems():\n",
      "/home/paolo/matteo/matteo/unimi/tesi_master/code/my_env/lib/python3.8/site-packages/neurokit2/epochs/epochs_create.py:205: FutureWarning: iteritems is deprecated and will be removed in a future version. Use .items instead.\n",
      "  for colname, column in epochs[i].select_dtypes(include=[\"object\"]).iteritems():\n",
      "/home/paolo/matteo/matteo/unimi/tesi_master/code/my_env/lib/python3.8/site-packages/neurokit2/epochs/epochs_create.py:205: FutureWarning: iteritems is deprecated and will be removed in a future version. Use .items instead.\n",
      "  for colname, column in epochs[i].select_dtypes(include=[\"object\"]).iteritems():\n",
      "/home/paolo/matteo/matteo/unimi/tesi_master/code/my_env/lib/python3.8/site-packages/neurokit2/epochs/epochs_create.py:205: FutureWarning: iteritems is deprecated and will be removed in a future version. Use .items instead.\n",
      "  for colname, column in epochs[i].select_dtypes(include=[\"object\"]).iteritems():\n",
      "/home/paolo/matteo/matteo/unimi/tesi_master/code/my_env/lib/python3.8/site-packages/numpy/core/fromnumeric.py:3474: RuntimeWarning: Mean of empty slice.\n",
      "  return _methods._mean(a, axis=axis, dtype=dtype,\n",
      "/home/paolo/matteo/matteo/unimi/tesi_master/code/my_env/lib/python3.8/site-packages/numpy/core/_methods.py:189: RuntimeWarning: invalid value encountered in double_scalars\n",
      "  ret = ret.dtype.type(ret / rcount)\n",
      "/home/paolo/matteo/matteo/unimi/tesi_master/code/my_env/lib/python3.8/site-packages/neurokit2/epochs/epochs_create.py:205: FutureWarning: iteritems is deprecated and will be removed in a future version. Use .items instead.\n",
      "  for colname, column in epochs[i].select_dtypes(include=[\"object\"]).iteritems():\n",
      "/home/paolo/matteo/matteo/unimi/tesi_master/code/my_env/lib/python3.8/site-packages/neurokit2/epochs/epochs_create.py:205: FutureWarning: iteritems is deprecated and will be removed in a future version. Use .items instead.\n",
      "  for colname, column in epochs[i].select_dtypes(include=[\"object\"]).iteritems():\n",
      "/home/paolo/matteo/matteo/unimi/tesi_master/code/my_env/lib/python3.8/site-packages/neurokit2/epochs/epochs_create.py:205: FutureWarning: iteritems is deprecated and will be removed in a future version. Use .items instead.\n",
      "  for colname, column in epochs[i].select_dtypes(include=[\"object\"]).iteritems():\n",
      "/home/paolo/matteo/matteo/unimi/tesi_master/code/my_env/lib/python3.8/site-packages/neurokit2/epochs/epochs_create.py:205: FutureWarning: iteritems is deprecated and will be removed in a future version. Use .items instead.\n",
      "  for colname, column in epochs[i].select_dtypes(include=[\"object\"]).iteritems():\n",
      "/home/paolo/matteo/matteo/unimi/tesi_master/code/my_env/lib/python3.8/site-packages/neurokit2/epochs/epochs_create.py:205: FutureWarning: iteritems is deprecated and will be removed in a future version. Use .items instead.\n",
      "  for colname, column in epochs[i].select_dtypes(include=[\"object\"]).iteritems():\n",
      "/home/paolo/matteo/matteo/unimi/tesi_master/code/my_env/lib/python3.8/site-packages/neurokit2/epochs/epochs_create.py:205: FutureWarning: iteritems is deprecated and will be removed in a future version. Use .items instead.\n",
      "  for colname, column in epochs[i].select_dtypes(include=[\"object\"]).iteritems():\n",
      "/home/paolo/matteo/matteo/unimi/tesi_master/code/my_env/lib/python3.8/site-packages/neurokit2/epochs/epochs_create.py:205: FutureWarning: iteritems is deprecated and will be removed in a future version. Use .items instead.\n",
      "  for colname, column in epochs[i].select_dtypes(include=[\"object\"]).iteritems():\n",
      "/home/paolo/matteo/matteo/unimi/tesi_master/code/my_env/lib/python3.8/site-packages/neurokit2/epochs/epochs_create.py:205: FutureWarning: iteritems is deprecated and will be removed in a future version. Use .items instead.\n",
      "  for colname, column in epochs[i].select_dtypes(include=[\"object\"]).iteritems():\n",
      "/home/paolo/matteo/matteo/unimi/tesi_master/code/my_env/lib/python3.8/site-packages/neurokit2/epochs/epochs_create.py:205: FutureWarning: iteritems is deprecated and will be removed in a future version. Use .items instead.\n",
      "  for colname, column in epochs[i].select_dtypes(include=[\"object\"]).iteritems():\n",
      "/home/paolo/matteo/matteo/unimi/tesi_master/code/my_env/lib/python3.8/site-packages/neurokit2/epochs/epochs_create.py:205: FutureWarning: iteritems is deprecated and will be removed in a future version. Use .items instead.\n",
      "  for colname, column in epochs[i].select_dtypes(include=[\"object\"]).iteritems():\n",
      "/home/paolo/matteo/matteo/unimi/tesi_master/code/my_env/lib/python3.8/site-packages/neurokit2/epochs/epochs_create.py:205: FutureWarning: iteritems is deprecated and will be removed in a future version. Use .items instead.\n",
      "  for colname, column in epochs[i].select_dtypes(include=[\"object\"]).iteritems():\n",
      "/home/paolo/matteo/matteo/unimi/tesi_master/code/my_env/lib/python3.8/site-packages/neurokit2/epochs/epochs_create.py:205: FutureWarning: iteritems is deprecated and will be removed in a future version. Use .items instead.\n",
      "  for colname, column in epochs[i].select_dtypes(include=[\"object\"]).iteritems():\n",
      "/home/paolo/matteo/matteo/unimi/tesi_master/code/my_env/lib/python3.8/site-packages/neurokit2/epochs/epochs_create.py:205: FutureWarning: iteritems is deprecated and will be removed in a future version. Use .items instead.\n",
      "  for colname, column in epochs[i].select_dtypes(include=[\"object\"]).iteritems():\n",
      "/home/paolo/matteo/matteo/unimi/tesi_master/code/my_env/lib/python3.8/site-packages/neurokit2/epochs/epochs_create.py:205: FutureWarning: iteritems is deprecated and will be removed in a future version. Use .items instead.\n",
      "  for colname, column in epochs[i].select_dtypes(include=[\"object\"]).iteritems():\n",
      "/home/paolo/matteo/matteo/unimi/tesi_master/code/my_env/lib/python3.8/site-packages/neurokit2/epochs/epochs_create.py:205: FutureWarning: iteritems is deprecated and will be removed in a future version. Use .items instead.\n",
      "  for colname, column in epochs[i].select_dtypes(include=[\"object\"]).iteritems():\n",
      "/home/paolo/matteo/matteo/unimi/tesi_master/code/my_env/lib/python3.8/site-packages/neurokit2/epochs/epochs_create.py:205: FutureWarning: iteritems is deprecated and will be removed in a future version. Use .items instead.\n",
      "  for colname, column in epochs[i].select_dtypes(include=[\"object\"]).iteritems():\n",
      "/home/paolo/matteo/matteo/unimi/tesi_master/code/my_env/lib/python3.8/site-packages/neurokit2/epochs/epochs_create.py:205: FutureWarning: iteritems is deprecated and will be removed in a future version. Use .items instead.\n",
      "  for colname, column in epochs[i].select_dtypes(include=[\"object\"]).iteritems():\n",
      "/home/paolo/matteo/matteo/unimi/tesi_master/code/my_env/lib/python3.8/site-packages/neurokit2/epochs/epochs_create.py:205: FutureWarning: iteritems is deprecated and will be removed in a future version. Use .items instead.\n",
      "  for colname, column in epochs[i].select_dtypes(include=[\"object\"]).iteritems():\n",
      "/home/paolo/matteo/matteo/unimi/tesi_master/code/my_env/lib/python3.8/site-packages/neurokit2/epochs/epochs_create.py:205: FutureWarning: iteritems is deprecated and will be removed in a future version. Use .items instead.\n",
      "  for colname, column in epochs[i].select_dtypes(include=[\"object\"]).iteritems():\n",
      "/home/paolo/matteo/matteo/unimi/tesi_master/code/my_env/lib/python3.8/site-packages/neurokit2/epochs/epochs_create.py:205: FutureWarning: iteritems is deprecated and will be removed in a future version. Use .items instead.\n",
      "  for colname, column in epochs[i].select_dtypes(include=[\"object\"]).iteritems():\n",
      "/home/paolo/matteo/matteo/unimi/tesi_master/code/my_env/lib/python3.8/site-packages/neurokit2/epochs/epochs_create.py:205: FutureWarning: iteritems is deprecated and will be removed in a future version. Use .items instead.\n",
      "  for colname, column in epochs[i].select_dtypes(include=[\"object\"]).iteritems():\n",
      "/home/paolo/matteo/matteo/unimi/tesi_master/code/my_env/lib/python3.8/site-packages/neurokit2/epochs/epochs_create.py:205: FutureWarning: iteritems is deprecated and will be removed in a future version. Use .items instead.\n",
      "  for colname, column in epochs[i].select_dtypes(include=[\"object\"]).iteritems():\n",
      "/home/paolo/matteo/matteo/unimi/tesi_master/code/my_env/lib/python3.8/site-packages/neurokit2/epochs/epochs_create.py:205: FutureWarning: iteritems is deprecated and will be removed in a future version. Use .items instead.\n",
      "  for colname, column in epochs[i].select_dtypes(include=[\"object\"]).iteritems():\n",
      "/home/paolo/matteo/matteo/unimi/tesi_master/code/my_env/lib/python3.8/site-packages/neurokit2/epochs/epochs_create.py:205: FutureWarning: iteritems is deprecated and will be removed in a future version. Use .items instead.\n",
      "  for colname, column in epochs[i].select_dtypes(include=[\"object\"]).iteritems():\n",
      "/home/paolo/matteo/matteo/unimi/tesi_master/code/my_env/lib/python3.8/site-packages/neurokit2/epochs/epochs_create.py:205: FutureWarning: iteritems is deprecated and will be removed in a future version. Use .items instead.\n",
      "  for colname, column in epochs[i].select_dtypes(include=[\"object\"]).iteritems():\n",
      "/home/paolo/matteo/matteo/unimi/tesi_master/code/my_env/lib/python3.8/site-packages/neurokit2/epochs/epochs_create.py:205: FutureWarning: iteritems is deprecated and will be removed in a future version. Use .items instead.\n",
      "  for colname, column in epochs[i].select_dtypes(include=[\"object\"]).iteritems():\n",
      "/home/paolo/matteo/matteo/unimi/tesi_master/code/my_env/lib/python3.8/site-packages/neurokit2/epochs/epochs_create.py:205: FutureWarning: iteritems is deprecated and will be removed in a future version. Use .items instead.\n",
      "  for colname, column in epochs[i].select_dtypes(include=[\"object\"]).iteritems():\n",
      "/home/paolo/matteo/matteo/unimi/tesi_master/code/my_env/lib/python3.8/site-packages/neurokit2/epochs/epochs_create.py:205: FutureWarning: iteritems is deprecated and will be removed in a future version. Use .items instead.\n",
      "  for colname, column in epochs[i].select_dtypes(include=[\"object\"]).iteritems():\n",
      "/home/paolo/matteo/matteo/unimi/tesi_master/code/my_env/lib/python3.8/site-packages/neurokit2/epochs/epochs_create.py:205: FutureWarning: iteritems is deprecated and will be removed in a future version. Use .items instead.\n",
      "  for colname, column in epochs[i].select_dtypes(include=[\"object\"]).iteritems():\n",
      "/home/paolo/matteo/matteo/unimi/tesi_master/code/my_env/lib/python3.8/site-packages/neurokit2/epochs/epochs_create.py:205: FutureWarning: iteritems is deprecated and will be removed in a future version. Use .items instead.\n",
      "  for colname, column in epochs[i].select_dtypes(include=[\"object\"]).iteritems():\n",
      "/home/paolo/matteo/matteo/unimi/tesi_master/code/my_env/lib/python3.8/site-packages/neurokit2/epochs/epochs_create.py:205: FutureWarning: iteritems is deprecated and will be removed in a future version. Use .items instead.\n",
      "  for colname, column in epochs[i].select_dtypes(include=[\"object\"]).iteritems():\n",
      "/home/paolo/matteo/matteo/unimi/tesi_master/code/my_env/lib/python3.8/site-packages/neurokit2/epochs/epochs_create.py:205: FutureWarning: iteritems is deprecated and will be removed in a future version. Use .items instead.\n",
      "  for colname, column in epochs[i].select_dtypes(include=[\"object\"]).iteritems():\n",
      "/home/paolo/matteo/matteo/unimi/tesi_master/code/my_env/lib/python3.8/site-packages/neurokit2/epochs/epochs_create.py:205: FutureWarning: iteritems is deprecated and will be removed in a future version. Use .items instead.\n",
      "  for colname, column in epochs[i].select_dtypes(include=[\"object\"]).iteritems():\n",
      "/home/paolo/matteo/matteo/unimi/tesi_master/code/my_env/lib/python3.8/site-packages/neurokit2/epochs/epochs_create.py:205: FutureWarning: iteritems is deprecated and will be removed in a future version. Use .items instead.\n",
      "  for colname, column in epochs[i].select_dtypes(include=[\"object\"]).iteritems():\n",
      "/home/paolo/matteo/matteo/unimi/tesi_master/code/my_env/lib/python3.8/site-packages/neurokit2/epochs/epochs_create.py:205: FutureWarning: iteritems is deprecated and will be removed in a future version. Use .items instead.\n",
      "  for colname, column in epochs[i].select_dtypes(include=[\"object\"]).iteritems():\n",
      "/home/paolo/matteo/matteo/unimi/tesi_master/code/my_env/lib/python3.8/site-packages/neurokit2/epochs/epochs_create.py:205: FutureWarning: iteritems is deprecated and will be removed in a future version. Use .items instead.\n",
      "  for colname, column in epochs[i].select_dtypes(include=[\"object\"]).iteritems():\n",
      "/home/paolo/matteo/matteo/unimi/tesi_master/code/my_env/lib/python3.8/site-packages/neurokit2/epochs/epochs_create.py:205: FutureWarning: iteritems is deprecated and will be removed in a future version. Use .items instead.\n",
      "  for colname, column in epochs[i].select_dtypes(include=[\"object\"]).iteritems():\n",
      "/home/paolo/matteo/matteo/unimi/tesi_master/code/my_env/lib/python3.8/site-packages/neurokit2/epochs/epochs_create.py:205: FutureWarning: iteritems is deprecated and will be removed in a future version. Use .items instead.\n",
      "  for colname, column in epochs[i].select_dtypes(include=[\"object\"]).iteritems():\n",
      "/home/paolo/matteo/matteo/unimi/tesi_master/code/my_env/lib/python3.8/site-packages/neurokit2/epochs/epochs_create.py:205: FutureWarning: iteritems is deprecated and will be removed in a future version. Use .items instead.\n",
      "  for colname, column in epochs[i].select_dtypes(include=[\"object\"]).iteritems():\n",
      "/home/paolo/matteo/matteo/unimi/tesi_master/code/my_env/lib/python3.8/site-packages/neurokit2/epochs/epochs_create.py:205: FutureWarning: iteritems is deprecated and will be removed in a future version. Use .items instead.\n",
      "  for colname, column in epochs[i].select_dtypes(include=[\"object\"]).iteritems():\n",
      "/home/paolo/matteo/matteo/unimi/tesi_master/code/my_env/lib/python3.8/site-packages/neurokit2/epochs/epochs_create.py:205: FutureWarning: iteritems is deprecated and will be removed in a future version. Use .items instead.\n",
      "  for colname, column in epochs[i].select_dtypes(include=[\"object\"]).iteritems():\n",
      "/home/paolo/matteo/matteo/unimi/tesi_master/code/my_env/lib/python3.8/site-packages/neurokit2/epochs/epochs_create.py:205: FutureWarning: iteritems is deprecated and will be removed in a future version. Use .items instead.\n",
      "  for colname, column in epochs[i].select_dtypes(include=[\"object\"]).iteritems():\n",
      "/home/paolo/matteo/matteo/unimi/tesi_master/code/my_env/lib/python3.8/site-packages/neurokit2/epochs/epochs_create.py:205: FutureWarning: iteritems is deprecated and will be removed in a future version. Use .items instead.\n",
      "  for colname, column in epochs[i].select_dtypes(include=[\"object\"]).iteritems():\n",
      "/home/paolo/matteo/matteo/unimi/tesi_master/code/my_env/lib/python3.8/site-packages/neurokit2/epochs/epochs_create.py:205: FutureWarning: iteritems is deprecated and will be removed in a future version. Use .items instead.\n",
      "  for colname, column in epochs[i].select_dtypes(include=[\"object\"]).iteritems():\n",
      "/home/paolo/matteo/matteo/unimi/tesi_master/code/my_env/lib/python3.8/site-packages/neurokit2/epochs/epochs_create.py:205: FutureWarning: iteritems is deprecated and will be removed in a future version. Use .items instead.\n",
      "  for colname, column in epochs[i].select_dtypes(include=[\"object\"]).iteritems():\n",
      "/home/paolo/matteo/matteo/unimi/tesi_master/code/my_env/lib/python3.8/site-packages/neurokit2/epochs/epochs_create.py:205: FutureWarning: iteritems is deprecated and will be removed in a future version. Use .items instead.\n",
      "  for colname, column in epochs[i].select_dtypes(include=[\"object\"]).iteritems():\n",
      "/home/paolo/matteo/matteo/unimi/tesi_master/code/my_env/lib/python3.8/site-packages/neurokit2/epochs/epochs_create.py:205: FutureWarning: iteritems is deprecated and will be removed in a future version. Use .items instead.\n",
      "  for colname, column in epochs[i].select_dtypes(include=[\"object\"]).iteritems():\n",
      "/home/paolo/matteo/matteo/unimi/tesi_master/code/my_env/lib/python3.8/site-packages/neurokit2/epochs/epochs_create.py:205: FutureWarning: iteritems is deprecated and will be removed in a future version. Use .items instead.\n",
      "  for colname, column in epochs[i].select_dtypes(include=[\"object\"]).iteritems():\n",
      "/home/paolo/matteo/matteo/unimi/tesi_master/code/my_env/lib/python3.8/site-packages/neurokit2/epochs/epochs_create.py:205: FutureWarning: iteritems is deprecated and will be removed in a future version. Use .items instead.\n",
      "  for colname, column in epochs[i].select_dtypes(include=[\"object\"]).iteritems():\n",
      "/home/paolo/matteo/matteo/unimi/tesi_master/code/my_env/lib/python3.8/site-packages/neurokit2/epochs/epochs_create.py:205: FutureWarning: iteritems is deprecated and will be removed in a future version. Use .items instead.\n",
      "  for colname, column in epochs[i].select_dtypes(include=[\"object\"]).iteritems():\n",
      "/home/paolo/matteo/matteo/unimi/tesi_master/code/my_env/lib/python3.8/site-packages/neurokit2/epochs/epochs_create.py:205: FutureWarning: iteritems is deprecated and will be removed in a future version. Use .items instead.\n",
      "  for colname, column in epochs[i].select_dtypes(include=[\"object\"]).iteritems():\n",
      "/home/paolo/matteo/matteo/unimi/tesi_master/code/my_env/lib/python3.8/site-packages/neurokit2/epochs/epochs_create.py:205: FutureWarning: iteritems is deprecated and will be removed in a future version. Use .items instead.\n",
      "  for colname, column in epochs[i].select_dtypes(include=[\"object\"]).iteritems():\n",
      "/home/paolo/matteo/matteo/unimi/tesi_master/code/my_env/lib/python3.8/site-packages/neurokit2/epochs/epochs_create.py:205: FutureWarning: iteritems is deprecated and will be removed in a future version. Use .items instead.\n",
      "  for colname, column in epochs[i].select_dtypes(include=[\"object\"]).iteritems():\n",
      "/home/paolo/matteo/matteo/unimi/tesi_master/code/my_env/lib/python3.8/site-packages/neurokit2/epochs/epochs_create.py:205: FutureWarning: iteritems is deprecated and will be removed in a future version. Use .items instead.\n",
      "  for colname, column in epochs[i].select_dtypes(include=[\"object\"]).iteritems():\n",
      "/home/paolo/matteo/matteo/unimi/tesi_master/code/my_env/lib/python3.8/site-packages/neurokit2/epochs/epochs_create.py:205: FutureWarning: iteritems is deprecated and will be removed in a future version. Use .items instead.\n",
      "  for colname, column in epochs[i].select_dtypes(include=[\"object\"]).iteritems():\n",
      "/home/paolo/matteo/matteo/unimi/tesi_master/code/my_env/lib/python3.8/site-packages/neurokit2/epochs/epochs_create.py:205: FutureWarning: iteritems is deprecated and will be removed in a future version. Use .items instead.\n",
      "  for colname, column in epochs[i].select_dtypes(include=[\"object\"]).iteritems():\n",
      "/home/paolo/matteo/matteo/unimi/tesi_master/code/my_env/lib/python3.8/site-packages/neurokit2/epochs/epochs_create.py:205: FutureWarning: iteritems is deprecated and will be removed in a future version. Use .items instead.\n",
      "  for colname, column in epochs[i].select_dtypes(include=[\"object\"]).iteritems():\n",
      "/home/paolo/matteo/matteo/unimi/tesi_master/code/my_env/lib/python3.8/site-packages/neurokit2/epochs/epochs_create.py:205: FutureWarning: iteritems is deprecated and will be removed in a future version. Use .items instead.\n",
      "  for colname, column in epochs[i].select_dtypes(include=[\"object\"]).iteritems():\n",
      "/home/paolo/matteo/matteo/unimi/tesi_master/code/my_env/lib/python3.8/site-packages/neurokit2/epochs/epochs_create.py:205: FutureWarning: iteritems is deprecated and will be removed in a future version. Use .items instead.\n",
      "  for colname, column in epochs[i].select_dtypes(include=[\"object\"]).iteritems():\n",
      "/home/paolo/matteo/matteo/unimi/tesi_master/code/my_env/lib/python3.8/site-packages/neurokit2/epochs/epochs_create.py:205: FutureWarning: iteritems is deprecated and will be removed in a future version. Use .items instead.\n",
      "  for colname, column in epochs[i].select_dtypes(include=[\"object\"]).iteritems():\n",
      "/home/paolo/matteo/matteo/unimi/tesi_master/code/my_env/lib/python3.8/site-packages/neurokit2/epochs/epochs_create.py:205: FutureWarning: iteritems is deprecated and will be removed in a future version. Use .items instead.\n",
      "  for colname, column in epochs[i].select_dtypes(include=[\"object\"]).iteritems():\n",
      "/home/paolo/matteo/matteo/unimi/tesi_master/code/my_env/lib/python3.8/site-packages/neurokit2/epochs/epochs_create.py:205: FutureWarning: iteritems is deprecated and will be removed in a future version. Use .items instead.\n",
      "  for colname, column in epochs[i].select_dtypes(include=[\"object\"]).iteritems():\n",
      "/home/paolo/matteo/matteo/unimi/tesi_master/code/my_env/lib/python3.8/site-packages/neurokit2/epochs/epochs_create.py:205: FutureWarning: iteritems is deprecated and will be removed in a future version. Use .items instead.\n",
      "  for colname, column in epochs[i].select_dtypes(include=[\"object\"]).iteritems():\n",
      "/home/paolo/matteo/matteo/unimi/tesi_master/code/my_env/lib/python3.8/site-packages/neurokit2/epochs/epochs_create.py:205: FutureWarning: iteritems is deprecated and will be removed in a future version. Use .items instead.\n",
      "  for colname, column in epochs[i].select_dtypes(include=[\"object\"]).iteritems():\n",
      "/home/paolo/matteo/matteo/unimi/tesi_master/code/my_env/lib/python3.8/site-packages/neurokit2/epochs/epochs_create.py:205: FutureWarning: iteritems is deprecated and will be removed in a future version. Use .items instead.\n",
      "  for colname, column in epochs[i].select_dtypes(include=[\"object\"]).iteritems():\n",
      "/home/paolo/matteo/matteo/unimi/tesi_master/code/my_env/lib/python3.8/site-packages/neurokit2/epochs/epochs_create.py:205: FutureWarning: iteritems is deprecated and will be removed in a future version. Use .items instead.\n",
      "  for colname, column in epochs[i].select_dtypes(include=[\"object\"]).iteritems():\n",
      "/home/paolo/matteo/matteo/unimi/tesi_master/code/my_env/lib/python3.8/site-packages/neurokit2/epochs/epochs_create.py:205: FutureWarning: iteritems is deprecated and will be removed in a future version. Use .items instead.\n",
      "  for colname, column in epochs[i].select_dtypes(include=[\"object\"]).iteritems():\n",
      "/home/paolo/matteo/matteo/unimi/tesi_master/code/my_env/lib/python3.8/site-packages/neurokit2/epochs/epochs_create.py:205: FutureWarning: iteritems is deprecated and will be removed in a future version. Use .items instead.\n",
      "  for colname, column in epochs[i].select_dtypes(include=[\"object\"]).iteritems():\n",
      "/home/paolo/matteo/matteo/unimi/tesi_master/code/my_env/lib/python3.8/site-packages/neurokit2/epochs/epochs_create.py:205: FutureWarning: iteritems is deprecated and will be removed in a future version. Use .items instead.\n",
      "  for colname, column in epochs[i].select_dtypes(include=[\"object\"]).iteritems():\n",
      "/home/paolo/matteo/matteo/unimi/tesi_master/code/my_env/lib/python3.8/site-packages/neurokit2/epochs/epochs_create.py:205: FutureWarning: iteritems is deprecated and will be removed in a future version. Use .items instead.\n",
      "  for colname, column in epochs[i].select_dtypes(include=[\"object\"]).iteritems():\n",
      "/home/paolo/matteo/matteo/unimi/tesi_master/code/my_env/lib/python3.8/site-packages/neurokit2/epochs/epochs_create.py:205: FutureWarning: iteritems is deprecated and will be removed in a future version. Use .items instead.\n",
      "  for colname, column in epochs[i].select_dtypes(include=[\"object\"]).iteritems():\n",
      "/home/paolo/matteo/matteo/unimi/tesi_master/code/my_env/lib/python3.8/site-packages/neurokit2/epochs/epochs_create.py:205: FutureWarning: iteritems is deprecated and will be removed in a future version. Use .items instead.\n",
      "  for colname, column in epochs[i].select_dtypes(include=[\"object\"]).iteritems():\n",
      "/home/paolo/matteo/matteo/unimi/tesi_master/code/my_env/lib/python3.8/site-packages/numpy/core/fromnumeric.py:3474: RuntimeWarning: Mean of empty slice.\n",
      "  return _methods._mean(a, axis=axis, dtype=dtype,\n",
      "/home/paolo/matteo/matteo/unimi/tesi_master/code/my_env/lib/python3.8/site-packages/numpy/core/_methods.py:189: RuntimeWarning: invalid value encountered in double_scalars\n",
      "  ret = ret.dtype.type(ret / rcount)\n",
      "/home/paolo/matteo/matteo/unimi/tesi_master/code/my_env/lib/python3.8/site-packages/neurokit2/epochs/epochs_create.py:205: FutureWarning: iteritems is deprecated and will be removed in a future version. Use .items instead.\n",
      "  for colname, column in epochs[i].select_dtypes(include=[\"object\"]).iteritems():\n",
      "/home/paolo/matteo/matteo/unimi/tesi_master/code/my_env/lib/python3.8/site-packages/neurokit2/epochs/epochs_create.py:205: FutureWarning: iteritems is deprecated and will be removed in a future version. Use .items instead.\n",
      "  for colname, column in epochs[i].select_dtypes(include=[\"object\"]).iteritems():\n",
      "/home/paolo/matteo/matteo/unimi/tesi_master/code/my_env/lib/python3.8/site-packages/neurokit2/epochs/epochs_create.py:205: FutureWarning: iteritems is deprecated and will be removed in a future version. Use .items instead.\n",
      "  for colname, column in epochs[i].select_dtypes(include=[\"object\"]).iteritems():\n",
      "/home/paolo/matteo/matteo/unimi/tesi_master/code/my_env/lib/python3.8/site-packages/neurokit2/epochs/epochs_create.py:205: FutureWarning: iteritems is deprecated and will be removed in a future version. Use .items instead.\n",
      "  for colname, column in epochs[i].select_dtypes(include=[\"object\"]).iteritems():\n",
      "/home/paolo/matteo/matteo/unimi/tesi_master/code/my_env/lib/python3.8/site-packages/neurokit2/epochs/epochs_create.py:205: FutureWarning: iteritems is deprecated and will be removed in a future version. Use .items instead.\n",
      "  for colname, column in epochs[i].select_dtypes(include=[\"object\"]).iteritems():\n",
      "/home/paolo/matteo/matteo/unimi/tesi_master/code/my_env/lib/python3.8/site-packages/neurokit2/epochs/epochs_create.py:205: FutureWarning: iteritems is deprecated and will be removed in a future version. Use .items instead.\n",
      "  for colname, column in epochs[i].select_dtypes(include=[\"object\"]).iteritems():\n",
      "/home/paolo/matteo/matteo/unimi/tesi_master/code/my_env/lib/python3.8/site-packages/neurokit2/epochs/epochs_create.py:205: FutureWarning: iteritems is deprecated and will be removed in a future version. Use .items instead.\n",
      "  for colname, column in epochs[i].select_dtypes(include=[\"object\"]).iteritems():\n",
      "/home/paolo/matteo/matteo/unimi/tesi_master/code/my_env/lib/python3.8/site-packages/neurokit2/epochs/epochs_create.py:205: FutureWarning: iteritems is deprecated and will be removed in a future version. Use .items instead.\n",
      "  for colname, column in epochs[i].select_dtypes(include=[\"object\"]).iteritems():\n",
      "/home/paolo/matteo/matteo/unimi/tesi_master/code/my_env/lib/python3.8/site-packages/neurokit2/epochs/epochs_create.py:205: FutureWarning: iteritems is deprecated and will be removed in a future version. Use .items instead.\n",
      "  for colname, column in epochs[i].select_dtypes(include=[\"object\"]).iteritems():\n",
      "/home/paolo/matteo/matteo/unimi/tesi_master/code/my_env/lib/python3.8/site-packages/neurokit2/epochs/epochs_create.py:205: FutureWarning: iteritems is deprecated and will be removed in a future version. Use .items instead.\n",
      "  for colname, column in epochs[i].select_dtypes(include=[\"object\"]).iteritems():\n",
      "/home/paolo/matteo/matteo/unimi/tesi_master/code/my_env/lib/python3.8/site-packages/neurokit2/epochs/epochs_create.py:205: FutureWarning: iteritems is deprecated and will be removed in a future version. Use .items instead.\n",
      "  for colname, column in epochs[i].select_dtypes(include=[\"object\"]).iteritems():\n",
      "/home/paolo/matteo/matteo/unimi/tesi_master/code/my_env/lib/python3.8/site-packages/neurokit2/epochs/epochs_create.py:205: FutureWarning: iteritems is deprecated and will be removed in a future version. Use .items instead.\n",
      "  for colname, column in epochs[i].select_dtypes(include=[\"object\"]).iteritems():\n",
      "/home/paolo/matteo/matteo/unimi/tesi_master/code/my_env/lib/python3.8/site-packages/neurokit2/epochs/epochs_create.py:205: FutureWarning: iteritems is deprecated and will be removed in a future version. Use .items instead.\n",
      "  for colname, column in epochs[i].select_dtypes(include=[\"object\"]).iteritems():\n",
      "/home/paolo/matteo/matteo/unimi/tesi_master/code/my_env/lib/python3.8/site-packages/neurokit2/epochs/epochs_create.py:205: FutureWarning: iteritems is deprecated and will be removed in a future version. Use .items instead.\n",
      "  for colname, column in epochs[i].select_dtypes(include=[\"object\"]).iteritems():\n",
      "/home/paolo/matteo/matteo/unimi/tesi_master/code/my_env/lib/python3.8/site-packages/neurokit2/epochs/epochs_create.py:205: FutureWarning: iteritems is deprecated and will be removed in a future version. Use .items instead.\n",
      "  for colname, column in epochs[i].select_dtypes(include=[\"object\"]).iteritems():\n",
      "/home/paolo/matteo/matteo/unimi/tesi_master/code/my_env/lib/python3.8/site-packages/neurokit2/epochs/epochs_create.py:205: FutureWarning: iteritems is deprecated and will be removed in a future version. Use .items instead.\n",
      "  for colname, column in epochs[i].select_dtypes(include=[\"object\"]).iteritems():\n",
      "/home/paolo/matteo/matteo/unimi/tesi_master/code/my_env/lib/python3.8/site-packages/neurokit2/epochs/epochs_create.py:205: FutureWarning: iteritems is deprecated and will be removed in a future version. Use .items instead.\n",
      "  for colname, column in epochs[i].select_dtypes(include=[\"object\"]).iteritems():\n",
      "/home/paolo/matteo/matteo/unimi/tesi_master/code/my_env/lib/python3.8/site-packages/neurokit2/epochs/epochs_create.py:205: FutureWarning: iteritems is deprecated and will be removed in a future version. Use .items instead.\n",
      "  for colname, column in epochs[i].select_dtypes(include=[\"object\"]).iteritems():\n",
      "/home/paolo/matteo/matteo/unimi/tesi_master/code/my_env/lib/python3.8/site-packages/neurokit2/epochs/epochs_create.py:205: FutureWarning: iteritems is deprecated and will be removed in a future version. Use .items instead.\n",
      "  for colname, column in epochs[i].select_dtypes(include=[\"object\"]).iteritems():\n",
      "/home/paolo/matteo/matteo/unimi/tesi_master/code/my_env/lib/python3.8/site-packages/neurokit2/epochs/epochs_create.py:205: FutureWarning: iteritems is deprecated and will be removed in a future version. Use .items instead.\n",
      "  for colname, column in epochs[i].select_dtypes(include=[\"object\"]).iteritems():\n",
      "/home/paolo/matteo/matteo/unimi/tesi_master/code/my_env/lib/python3.8/site-packages/neurokit2/epochs/epochs_create.py:205: FutureWarning: iteritems is deprecated and will be removed in a future version. Use .items instead.\n",
      "  for colname, column in epochs[i].select_dtypes(include=[\"object\"]).iteritems():\n",
      "/home/paolo/matteo/matteo/unimi/tesi_master/code/my_env/lib/python3.8/site-packages/neurokit2/epochs/epochs_create.py:205: FutureWarning: iteritems is deprecated and will be removed in a future version. Use .items instead.\n",
      "  for colname, column in epochs[i].select_dtypes(include=[\"object\"]).iteritems():\n",
      "/home/paolo/matteo/matteo/unimi/tesi_master/code/my_env/lib/python3.8/site-packages/neurokit2/epochs/epochs_create.py:205: FutureWarning: iteritems is deprecated and will be removed in a future version. Use .items instead.\n",
      "  for colname, column in epochs[i].select_dtypes(include=[\"object\"]).iteritems():\n",
      "/home/paolo/matteo/matteo/unimi/tesi_master/code/my_env/lib/python3.8/site-packages/neurokit2/epochs/epochs_create.py:205: FutureWarning: iteritems is deprecated and will be removed in a future version. Use .items instead.\n",
      "  for colname, column in epochs[i].select_dtypes(include=[\"object\"]).iteritems():\n",
      "/home/paolo/matteo/matteo/unimi/tesi_master/code/my_env/lib/python3.8/site-packages/neurokit2/epochs/epochs_create.py:205: FutureWarning: iteritems is deprecated and will be removed in a future version. Use .items instead.\n",
      "  for colname, column in epochs[i].select_dtypes(include=[\"object\"]).iteritems():\n",
      "/home/paolo/matteo/matteo/unimi/tesi_master/code/my_env/lib/python3.8/site-packages/neurokit2/epochs/epochs_create.py:205: FutureWarning: iteritems is deprecated and will be removed in a future version. Use .items instead.\n",
      "  for colname, column in epochs[i].select_dtypes(include=[\"object\"]).iteritems():\n",
      "/home/paolo/matteo/matteo/unimi/tesi_master/code/my_env/lib/python3.8/site-packages/neurokit2/epochs/epochs_create.py:205: FutureWarning: iteritems is deprecated and will be removed in a future version. Use .items instead.\n",
      "  for colname, column in epochs[i].select_dtypes(include=[\"object\"]).iteritems():\n",
      "/home/paolo/matteo/matteo/unimi/tesi_master/code/my_env/lib/python3.8/site-packages/neurokit2/epochs/epochs_create.py:205: FutureWarning: iteritems is deprecated and will be removed in a future version. Use .items instead.\n",
      "  for colname, column in epochs[i].select_dtypes(include=[\"object\"]).iteritems():\n",
      "/home/paolo/matteo/matteo/unimi/tesi_master/code/my_env/lib/python3.8/site-packages/neurokit2/epochs/epochs_create.py:205: FutureWarning: iteritems is deprecated and will be removed in a future version. Use .items instead.\n",
      "  for colname, column in epochs[i].select_dtypes(include=[\"object\"]).iteritems():\n",
      "/home/paolo/matteo/matteo/unimi/tesi_master/code/my_env/lib/python3.8/site-packages/neurokit2/epochs/epochs_create.py:205: FutureWarning: iteritems is deprecated and will be removed in a future version. Use .items instead.\n",
      "  for colname, column in epochs[i].select_dtypes(include=[\"object\"]).iteritems():\n",
      "/home/paolo/matteo/matteo/unimi/tesi_master/code/my_env/lib/python3.8/site-packages/neurokit2/epochs/epochs_create.py:205: FutureWarning: iteritems is deprecated and will be removed in a future version. Use .items instead.\n",
      "  for colname, column in epochs[i].select_dtypes(include=[\"object\"]).iteritems():\n",
      "/home/paolo/matteo/matteo/unimi/tesi_master/code/my_env/lib/python3.8/site-packages/neurokit2/epochs/epochs_create.py:205: FutureWarning: iteritems is deprecated and will be removed in a future version. Use .items instead.\n",
      "  for colname, column in epochs[i].select_dtypes(include=[\"object\"]).iteritems():\n",
      "/home/paolo/matteo/matteo/unimi/tesi_master/code/my_env/lib/python3.8/site-packages/neurokit2/epochs/epochs_create.py:205: FutureWarning: iteritems is deprecated and will be removed in a future version. Use .items instead.\n",
      "  for colname, column in epochs[i].select_dtypes(include=[\"object\"]).iteritems():\n",
      "/home/paolo/matteo/matteo/unimi/tesi_master/code/my_env/lib/python3.8/site-packages/neurokit2/epochs/epochs_create.py:205: FutureWarning: iteritems is deprecated and will be removed in a future version. Use .items instead.\n",
      "  for colname, column in epochs[i].select_dtypes(include=[\"object\"]).iteritems():\n",
      "/home/paolo/matteo/matteo/unimi/tesi_master/code/my_env/lib/python3.8/site-packages/neurokit2/epochs/epochs_create.py:205: FutureWarning: iteritems is deprecated and will be removed in a future version. Use .items instead.\n",
      "  for colname, column in epochs[i].select_dtypes(include=[\"object\"]).iteritems():\n",
      "/home/paolo/matteo/matteo/unimi/tesi_master/code/my_env/lib/python3.8/site-packages/neurokit2/epochs/epochs_create.py:205: FutureWarning: iteritems is deprecated and will be removed in a future version. Use .items instead.\n",
      "  for colname, column in epochs[i].select_dtypes(include=[\"object\"]).iteritems():\n",
      "/home/paolo/matteo/matteo/unimi/tesi_master/code/my_env/lib/python3.8/site-packages/neurokit2/epochs/epochs_create.py:205: FutureWarning: iteritems is deprecated and will be removed in a future version. Use .items instead.\n",
      "  for colname, column in epochs[i].select_dtypes(include=[\"object\"]).iteritems():\n",
      "/home/paolo/matteo/matteo/unimi/tesi_master/code/my_env/lib/python3.8/site-packages/neurokit2/epochs/epochs_create.py:205: FutureWarning: iteritems is deprecated and will be removed in a future version. Use .items instead.\n",
      "  for colname, column in epochs[i].select_dtypes(include=[\"object\"]).iteritems():\n",
      "/home/paolo/matteo/matteo/unimi/tesi_master/code/my_env/lib/python3.8/site-packages/neurokit2/epochs/epochs_create.py:205: FutureWarning: iteritems is deprecated and will be removed in a future version. Use .items instead.\n",
      "  for colname, column in epochs[i].select_dtypes(include=[\"object\"]).iteritems():\n",
      "/home/paolo/matteo/matteo/unimi/tesi_master/code/my_env/lib/python3.8/site-packages/neurokit2/epochs/epochs_create.py:205: FutureWarning: iteritems is deprecated and will be removed in a future version. Use .items instead.\n",
      "  for colname, column in epochs[i].select_dtypes(include=[\"object\"]).iteritems():\n",
      "/home/paolo/matteo/matteo/unimi/tesi_master/code/my_env/lib/python3.8/site-packages/neurokit2/epochs/epochs_create.py:205: FutureWarning: iteritems is deprecated and will be removed in a future version. Use .items instead.\n",
      "  for colname, column in epochs[i].select_dtypes(include=[\"object\"]).iteritems():\n",
      "/home/paolo/matteo/matteo/unimi/tesi_master/code/my_env/lib/python3.8/site-packages/neurokit2/epochs/epochs_create.py:205: FutureWarning: iteritems is deprecated and will be removed in a future version. Use .items instead.\n",
      "  for colname, column in epochs[i].select_dtypes(include=[\"object\"]).iteritems():\n",
      "/home/paolo/matteo/matteo/unimi/tesi_master/code/my_env/lib/python3.8/site-packages/neurokit2/epochs/epochs_create.py:205: FutureWarning: iteritems is deprecated and will be removed in a future version. Use .items instead.\n",
      "  for colname, column in epochs[i].select_dtypes(include=[\"object\"]).iteritems():\n",
      "/home/paolo/matteo/matteo/unimi/tesi_master/code/my_env/lib/python3.8/site-packages/neurokit2/epochs/epochs_create.py:205: FutureWarning: iteritems is deprecated and will be removed in a future version. Use .items instead.\n",
      "  for colname, column in epochs[i].select_dtypes(include=[\"object\"]).iteritems():\n",
      "/home/paolo/matteo/matteo/unimi/tesi_master/code/my_env/lib/python3.8/site-packages/neurokit2/epochs/epochs_create.py:205: FutureWarning: iteritems is deprecated and will be removed in a future version. Use .items instead.\n",
      "  for colname, column in epochs[i].select_dtypes(include=[\"object\"]).iteritems():\n",
      "/home/paolo/matteo/matteo/unimi/tesi_master/code/my_env/lib/python3.8/site-packages/neurokit2/epochs/epochs_create.py:205: FutureWarning: iteritems is deprecated and will be removed in a future version. Use .items instead.\n",
      "  for colname, column in epochs[i].select_dtypes(include=[\"object\"]).iteritems():\n",
      "/home/paolo/matteo/matteo/unimi/tesi_master/code/my_env/lib/python3.8/site-packages/numpy/core/fromnumeric.py:3474: RuntimeWarning: Mean of empty slice.\n",
      "  return _methods._mean(a, axis=axis, dtype=dtype,\n",
      "/home/paolo/matteo/matteo/unimi/tesi_master/code/my_env/lib/python3.8/site-packages/numpy/core/_methods.py:189: RuntimeWarning: invalid value encountered in double_scalars\n",
      "  ret = ret.dtype.type(ret / rcount)\n",
      "/home/paolo/matteo/matteo/unimi/tesi_master/code/my_env/lib/python3.8/site-packages/neurokit2/epochs/epochs_create.py:205: FutureWarning: iteritems is deprecated and will be removed in a future version. Use .items instead.\n",
      "  for colname, column in epochs[i].select_dtypes(include=[\"object\"]).iteritems():\n",
      "/home/paolo/matteo/matteo/unimi/tesi_master/code/my_env/lib/python3.8/site-packages/neurokit2/epochs/epochs_create.py:205: FutureWarning: iteritems is deprecated and will be removed in a future version. Use .items instead.\n",
      "  for colname, column in epochs[i].select_dtypes(include=[\"object\"]).iteritems():\n",
      "/home/paolo/matteo/matteo/unimi/tesi_master/code/my_env/lib/python3.8/site-packages/neurokit2/epochs/epochs_create.py:205: FutureWarning: iteritems is deprecated and will be removed in a future version. Use .items instead.\n",
      "  for colname, column in epochs[i].select_dtypes(include=[\"object\"]).iteritems():\n",
      "/home/paolo/matteo/matteo/unimi/tesi_master/code/my_env/lib/python3.8/site-packages/neurokit2/epochs/epochs_create.py:205: FutureWarning: iteritems is deprecated and will be removed in a future version. Use .items instead.\n",
      "  for colname, column in epochs[i].select_dtypes(include=[\"object\"]).iteritems():\n",
      "/home/paolo/matteo/matteo/unimi/tesi_master/code/my_env/lib/python3.8/site-packages/neurokit2/epochs/epochs_create.py:205: FutureWarning: iteritems is deprecated and will be removed in a future version. Use .items instead.\n",
      "  for colname, column in epochs[i].select_dtypes(include=[\"object\"]).iteritems():\n",
      "/home/paolo/matteo/matteo/unimi/tesi_master/code/my_env/lib/python3.8/site-packages/neurokit2/epochs/epochs_create.py:205: FutureWarning: iteritems is deprecated and will be removed in a future version. Use .items instead.\n",
      "  for colname, column in epochs[i].select_dtypes(include=[\"object\"]).iteritems():\n",
      "/home/paolo/matteo/matteo/unimi/tesi_master/code/my_env/lib/python3.8/site-packages/neurokit2/epochs/epochs_create.py:205: FutureWarning: iteritems is deprecated and will be removed in a future version. Use .items instead.\n",
      "  for colname, column in epochs[i].select_dtypes(include=[\"object\"]).iteritems():\n",
      "/home/paolo/matteo/matteo/unimi/tesi_master/code/my_env/lib/python3.8/site-packages/neurokit2/epochs/epochs_create.py:205: FutureWarning: iteritems is deprecated and will be removed in a future version. Use .items instead.\n",
      "  for colname, column in epochs[i].select_dtypes(include=[\"object\"]).iteritems():\n",
      "/home/paolo/matteo/matteo/unimi/tesi_master/code/my_env/lib/python3.8/site-packages/neurokit2/epochs/epochs_create.py:205: FutureWarning: iteritems is deprecated and will be removed in a future version. Use .items instead.\n",
      "  for colname, column in epochs[i].select_dtypes(include=[\"object\"]).iteritems():\n",
      "/home/paolo/matteo/matteo/unimi/tesi_master/code/my_env/lib/python3.8/site-packages/neurokit2/epochs/epochs_create.py:205: FutureWarning: iteritems is deprecated and will be removed in a future version. Use .items instead.\n",
      "  for colname, column in epochs[i].select_dtypes(include=[\"object\"]).iteritems():\n",
      "/home/paolo/matteo/matteo/unimi/tesi_master/code/my_env/lib/python3.8/site-packages/neurokit2/epochs/epochs_create.py:205: FutureWarning: iteritems is deprecated and will be removed in a future version. Use .items instead.\n",
      "  for colname, column in epochs[i].select_dtypes(include=[\"object\"]).iteritems():\n",
      "/home/paolo/matteo/matteo/unimi/tesi_master/code/my_env/lib/python3.8/site-packages/neurokit2/epochs/epochs_create.py:205: FutureWarning: iteritems is deprecated and will be removed in a future version. Use .items instead.\n",
      "  for colname, column in epochs[i].select_dtypes(include=[\"object\"]).iteritems():\n",
      "/home/paolo/matteo/matteo/unimi/tesi_master/code/my_env/lib/python3.8/site-packages/numpy/core/fromnumeric.py:3474: RuntimeWarning: Mean of empty slice.\n",
      "  return _methods._mean(a, axis=axis, dtype=dtype,\n",
      "/home/paolo/matteo/matteo/unimi/tesi_master/code/my_env/lib/python3.8/site-packages/numpy/core/_methods.py:189: RuntimeWarning: invalid value encountered in double_scalars\n",
      "  ret = ret.dtype.type(ret / rcount)\n",
      "/home/paolo/matteo/matteo/unimi/tesi_master/code/my_env/lib/python3.8/site-packages/neurokit2/epochs/epochs_create.py:205: FutureWarning: iteritems is deprecated and will be removed in a future version. Use .items instead.\n",
      "  for colname, column in epochs[i].select_dtypes(include=[\"object\"]).iteritems():\n",
      "/home/paolo/matteo/matteo/unimi/tesi_master/code/my_env/lib/python3.8/site-packages/neurokit2/epochs/epochs_create.py:205: FutureWarning: iteritems is deprecated and will be removed in a future version. Use .items instead.\n",
      "  for colname, column in epochs[i].select_dtypes(include=[\"object\"]).iteritems():\n",
      "/home/paolo/matteo/matteo/unimi/tesi_master/code/my_env/lib/python3.8/site-packages/neurokit2/epochs/epochs_create.py:205: FutureWarning: iteritems is deprecated and will be removed in a future version. Use .items instead.\n",
      "  for colname, column in epochs[i].select_dtypes(include=[\"object\"]).iteritems():\n",
      "/home/paolo/matteo/matteo/unimi/tesi_master/code/my_env/lib/python3.8/site-packages/neurokit2/epochs/epochs_create.py:205: FutureWarning: iteritems is deprecated and will be removed in a future version. Use .items instead.\n",
      "  for colname, column in epochs[i].select_dtypes(include=[\"object\"]).iteritems():\n",
      "/home/paolo/matteo/matteo/unimi/tesi_master/code/my_env/lib/python3.8/site-packages/neurokit2/epochs/epochs_create.py:205: FutureWarning: iteritems is deprecated and will be removed in a future version. Use .items instead.\n",
      "  for colname, column in epochs[i].select_dtypes(include=[\"object\"]).iteritems():\n",
      "/home/paolo/matteo/matteo/unimi/tesi_master/code/my_env/lib/python3.8/site-packages/neurokit2/epochs/epochs_create.py:205: FutureWarning: iteritems is deprecated and will be removed in a future version. Use .items instead.\n",
      "  for colname, column in epochs[i].select_dtypes(include=[\"object\"]).iteritems():\n",
      "/home/paolo/matteo/matteo/unimi/tesi_master/code/my_env/lib/python3.8/site-packages/neurokit2/epochs/epochs_create.py:205: FutureWarning: iteritems is deprecated and will be removed in a future version. Use .items instead.\n",
      "  for colname, column in epochs[i].select_dtypes(include=[\"object\"]).iteritems():\n",
      "/home/paolo/matteo/matteo/unimi/tesi_master/code/my_env/lib/python3.8/site-packages/neurokit2/epochs/epochs_create.py:205: FutureWarning: iteritems is deprecated and will be removed in a future version. Use .items instead.\n",
      "  for colname, column in epochs[i].select_dtypes(include=[\"object\"]).iteritems():\n",
      "/home/paolo/matteo/matteo/unimi/tesi_master/code/my_env/lib/python3.8/site-packages/numpy/core/fromnumeric.py:3474: RuntimeWarning: Mean of empty slice.\n",
      "  return _methods._mean(a, axis=axis, dtype=dtype,\n",
      "/home/paolo/matteo/matteo/unimi/tesi_master/code/my_env/lib/python3.8/site-packages/numpy/core/_methods.py:189: RuntimeWarning: invalid value encountered in double_scalars\n",
      "  ret = ret.dtype.type(ret / rcount)\n",
      "/home/paolo/matteo/matteo/unimi/tesi_master/code/my_env/lib/python3.8/site-packages/neurokit2/epochs/epochs_create.py:205: FutureWarning: iteritems is deprecated and will be removed in a future version. Use .items instead.\n",
      "  for colname, column in epochs[i].select_dtypes(include=[\"object\"]).iteritems():\n",
      "/home/paolo/matteo/matteo/unimi/tesi_master/code/my_env/lib/python3.8/site-packages/neurokit2/epochs/epochs_create.py:205: FutureWarning: iteritems is deprecated and will be removed in a future version. Use .items instead.\n",
      "  for colname, column in epochs[i].select_dtypes(include=[\"object\"]).iteritems():\n",
      "/home/paolo/matteo/matteo/unimi/tesi_master/code/my_env/lib/python3.8/site-packages/numpy/core/fromnumeric.py:3474: RuntimeWarning: Mean of empty slice.\n",
      "  return _methods._mean(a, axis=axis, dtype=dtype,\n",
      "/home/paolo/matteo/matteo/unimi/tesi_master/code/my_env/lib/python3.8/site-packages/numpy/core/_methods.py:189: RuntimeWarning: invalid value encountered in double_scalars\n",
      "  ret = ret.dtype.type(ret / rcount)\n",
      "/home/paolo/matteo/matteo/unimi/tesi_master/code/my_env/lib/python3.8/site-packages/neurokit2/epochs/epochs_create.py:205: FutureWarning: iteritems is deprecated and will be removed in a future version. Use .items instead.\n",
      "  for colname, column in epochs[i].select_dtypes(include=[\"object\"]).iteritems():\n",
      "/home/paolo/matteo/matteo/unimi/tesi_master/code/my_env/lib/python3.8/site-packages/neurokit2/epochs/epochs_create.py:205: FutureWarning: iteritems is deprecated and will be removed in a future version. Use .items instead.\n",
      "  for colname, column in epochs[i].select_dtypes(include=[\"object\"]).iteritems():\n",
      "/home/paolo/matteo/matteo/unimi/tesi_master/code/my_env/lib/python3.8/site-packages/neurokit2/epochs/epochs_create.py:205: FutureWarning: iteritems is deprecated and will be removed in a future version. Use .items instead.\n",
      "  for colname, column in epochs[i].select_dtypes(include=[\"object\"]).iteritems():\n",
      "/home/paolo/matteo/matteo/unimi/tesi_master/code/my_env/lib/python3.8/site-packages/neurokit2/epochs/epochs_create.py:205: FutureWarning: iteritems is deprecated and will be removed in a future version. Use .items instead.\n",
      "  for colname, column in epochs[i].select_dtypes(include=[\"object\"]).iteritems():\n",
      "/home/paolo/matteo/matteo/unimi/tesi_master/code/my_env/lib/python3.8/site-packages/numpy/core/fromnumeric.py:3474: RuntimeWarning: Mean of empty slice.\n",
      "  return _methods._mean(a, axis=axis, dtype=dtype,\n",
      "/home/paolo/matteo/matteo/unimi/tesi_master/code/my_env/lib/python3.8/site-packages/numpy/core/_methods.py:189: RuntimeWarning: invalid value encountered in double_scalars\n",
      "  ret = ret.dtype.type(ret / rcount)\n",
      "/home/paolo/matteo/matteo/unimi/tesi_master/code/my_env/lib/python3.8/site-packages/neurokit2/epochs/epochs_create.py:205: FutureWarning: iteritems is deprecated and will be removed in a future version. Use .items instead.\n",
      "  for colname, column in epochs[i].select_dtypes(include=[\"object\"]).iteritems():\n",
      "/home/paolo/matteo/matteo/unimi/tesi_master/code/my_env/lib/python3.8/site-packages/neurokit2/epochs/epochs_create.py:205: FutureWarning: iteritems is deprecated and will be removed in a future version. Use .items instead.\n",
      "  for colname, column in epochs[i].select_dtypes(include=[\"object\"]).iteritems():\n",
      "/home/paolo/matteo/matteo/unimi/tesi_master/code/my_env/lib/python3.8/site-packages/neurokit2/epochs/epochs_create.py:205: FutureWarning: iteritems is deprecated and will be removed in a future version. Use .items instead.\n",
      "  for colname, column in epochs[i].select_dtypes(include=[\"object\"]).iteritems():\n",
      "/home/paolo/matteo/matteo/unimi/tesi_master/code/my_env/lib/python3.8/site-packages/neurokit2/epochs/epochs_create.py:205: FutureWarning: iteritems is deprecated and will be removed in a future version. Use .items instead.\n",
      "  for colname, column in epochs[i].select_dtypes(include=[\"object\"]).iteritems():\n",
      "/home/paolo/matteo/matteo/unimi/tesi_master/code/my_env/lib/python3.8/site-packages/neurokit2/epochs/epochs_create.py:205: FutureWarning: iteritems is deprecated and will be removed in a future version. Use .items instead.\n",
      "  for colname, column in epochs[i].select_dtypes(include=[\"object\"]).iteritems():\n",
      "/home/paolo/matteo/matteo/unimi/tesi_master/code/my_env/lib/python3.8/site-packages/neurokit2/epochs/epochs_create.py:205: FutureWarning: iteritems is deprecated and will be removed in a future version. Use .items instead.\n",
      "  for colname, column in epochs[i].select_dtypes(include=[\"object\"]).iteritems():\n",
      "/home/paolo/matteo/matteo/unimi/tesi_master/code/my_env/lib/python3.8/site-packages/neurokit2/epochs/epochs_create.py:205: FutureWarning: iteritems is deprecated and will be removed in a future version. Use .items instead.\n",
      "  for colname, column in epochs[i].select_dtypes(include=[\"object\"]).iteritems():\n",
      "/home/paolo/matteo/matteo/unimi/tesi_master/code/my_env/lib/python3.8/site-packages/neurokit2/epochs/epochs_create.py:205: FutureWarning: iteritems is deprecated and will be removed in a future version. Use .items instead.\n",
      "  for colname, column in epochs[i].select_dtypes(include=[\"object\"]).iteritems():\n",
      "/home/paolo/matteo/matteo/unimi/tesi_master/code/my_env/lib/python3.8/site-packages/neurokit2/epochs/epochs_create.py:205: FutureWarning: iteritems is deprecated and will be removed in a future version. Use .items instead.\n",
      "  for colname, column in epochs[i].select_dtypes(include=[\"object\"]).iteritems():\n",
      "/home/paolo/matteo/matteo/unimi/tesi_master/code/my_env/lib/python3.8/site-packages/neurokit2/epochs/epochs_create.py:205: FutureWarning: iteritems is deprecated and will be removed in a future version. Use .items instead.\n",
      "  for colname, column in epochs[i].select_dtypes(include=[\"object\"]).iteritems():\n",
      "/home/paolo/matteo/matteo/unimi/tesi_master/code/my_env/lib/python3.8/site-packages/neurokit2/epochs/epochs_create.py:205: FutureWarning: iteritems is deprecated and will be removed in a future version. Use .items instead.\n",
      "  for colname, column in epochs[i].select_dtypes(include=[\"object\"]).iteritems():\n",
      "/home/paolo/matteo/matteo/unimi/tesi_master/code/my_env/lib/python3.8/site-packages/neurokit2/epochs/epochs_create.py:205: FutureWarning: iteritems is deprecated and will be removed in a future version. Use .items instead.\n",
      "  for colname, column in epochs[i].select_dtypes(include=[\"object\"]).iteritems():\n",
      "/home/paolo/matteo/matteo/unimi/tesi_master/code/my_env/lib/python3.8/site-packages/numpy/core/fromnumeric.py:3474: RuntimeWarning: Mean of empty slice.\n",
      "  return _methods._mean(a, axis=axis, dtype=dtype,\n",
      "/home/paolo/matteo/matteo/unimi/tesi_master/code/my_env/lib/python3.8/site-packages/numpy/core/_methods.py:189: RuntimeWarning: invalid value encountered in double_scalars\n",
      "  ret = ret.dtype.type(ret / rcount)\n",
      "/home/paolo/matteo/matteo/unimi/tesi_master/code/my_env/lib/python3.8/site-packages/neurokit2/epochs/epochs_create.py:205: FutureWarning: iteritems is deprecated and will be removed in a future version. Use .items instead.\n",
      "  for colname, column in epochs[i].select_dtypes(include=[\"object\"]).iteritems():\n",
      "/home/paolo/matteo/matteo/unimi/tesi_master/code/my_env/lib/python3.8/site-packages/neurokit2/epochs/epochs_create.py:205: FutureWarning: iteritems is deprecated and will be removed in a future version. Use .items instead.\n",
      "  for colname, column in epochs[i].select_dtypes(include=[\"object\"]).iteritems():\n",
      "/home/paolo/matteo/matteo/unimi/tesi_master/code/my_env/lib/python3.8/site-packages/neurokit2/epochs/epochs_create.py:205: FutureWarning: iteritems is deprecated and will be removed in a future version. Use .items instead.\n",
      "  for colname, column in epochs[i].select_dtypes(include=[\"object\"]).iteritems():\n",
      "/home/paolo/matteo/matteo/unimi/tesi_master/code/my_env/lib/python3.8/site-packages/neurokit2/epochs/epochs_create.py:205: FutureWarning: iteritems is deprecated and will be removed in a future version. Use .items instead.\n",
      "  for colname, column in epochs[i].select_dtypes(include=[\"object\"]).iteritems():\n",
      "/home/paolo/matteo/matteo/unimi/tesi_master/code/my_env/lib/python3.8/site-packages/neurokit2/epochs/epochs_create.py:205: FutureWarning: iteritems is deprecated and will be removed in a future version. Use .items instead.\n",
      "  for colname, column in epochs[i].select_dtypes(include=[\"object\"]).iteritems():\n",
      "/home/paolo/matteo/matteo/unimi/tesi_master/code/my_env/lib/python3.8/site-packages/neurokit2/epochs/epochs_create.py:205: FutureWarning: iteritems is deprecated and will be removed in a future version. Use .items instead.\n",
      "  for colname, column in epochs[i].select_dtypes(include=[\"object\"]).iteritems():\n",
      "/home/paolo/matteo/matteo/unimi/tesi_master/code/my_env/lib/python3.8/site-packages/neurokit2/epochs/epochs_create.py:205: FutureWarning: iteritems is deprecated and will be removed in a future version. Use .items instead.\n",
      "  for colname, column in epochs[i].select_dtypes(include=[\"object\"]).iteritems():\n",
      "/home/paolo/matteo/matteo/unimi/tesi_master/code/my_env/lib/python3.8/site-packages/neurokit2/epochs/epochs_create.py:205: FutureWarning: iteritems is deprecated and will be removed in a future version. Use .items instead.\n",
      "  for colname, column in epochs[i].select_dtypes(include=[\"object\"]).iteritems():\n",
      "/home/paolo/matteo/matteo/unimi/tesi_master/code/my_env/lib/python3.8/site-packages/neurokit2/epochs/epochs_create.py:205: FutureWarning: iteritems is deprecated and will be removed in a future version. Use .items instead.\n",
      "  for colname, column in epochs[i].select_dtypes(include=[\"object\"]).iteritems():\n",
      "/home/paolo/matteo/matteo/unimi/tesi_master/code/my_env/lib/python3.8/site-packages/neurokit2/epochs/epochs_create.py:205: FutureWarning: iteritems is deprecated and will be removed in a future version. Use .items instead.\n",
      "  for colname, column in epochs[i].select_dtypes(include=[\"object\"]).iteritems():\n",
      "/home/paolo/matteo/matteo/unimi/tesi_master/code/my_env/lib/python3.8/site-packages/neurokit2/epochs/epochs_create.py:205: FutureWarning: iteritems is deprecated and will be removed in a future version. Use .items instead.\n",
      "  for colname, column in epochs[i].select_dtypes(include=[\"object\"]).iteritems():\n",
      "/home/paolo/matteo/matteo/unimi/tesi_master/code/my_env/lib/python3.8/site-packages/neurokit2/epochs/epochs_create.py:205: FutureWarning: iteritems is deprecated and will be removed in a future version. Use .items instead.\n",
      "  for colname, column in epochs[i].select_dtypes(include=[\"object\"]).iteritems():\n",
      "/home/paolo/matteo/matteo/unimi/tesi_master/code/my_env/lib/python3.8/site-packages/neurokit2/epochs/epochs_create.py:205: FutureWarning: iteritems is deprecated and will be removed in a future version. Use .items instead.\n",
      "  for colname, column in epochs[i].select_dtypes(include=[\"object\"]).iteritems():\n",
      "/home/paolo/matteo/matteo/unimi/tesi_master/code/my_env/lib/python3.8/site-packages/neurokit2/epochs/epochs_create.py:205: FutureWarning: iteritems is deprecated and will be removed in a future version. Use .items instead.\n",
      "  for colname, column in epochs[i].select_dtypes(include=[\"object\"]).iteritems():\n",
      "/home/paolo/matteo/matteo/unimi/tesi_master/code/my_env/lib/python3.8/site-packages/neurokit2/epochs/epochs_create.py:205: FutureWarning: iteritems is deprecated and will be removed in a future version. Use .items instead.\n",
      "  for colname, column in epochs[i].select_dtypes(include=[\"object\"]).iteritems():\n",
      "/home/paolo/matteo/matteo/unimi/tesi_master/code/my_env/lib/python3.8/site-packages/neurokit2/epochs/epochs_create.py:205: FutureWarning: iteritems is deprecated and will be removed in a future version. Use .items instead.\n",
      "  for colname, column in epochs[i].select_dtypes(include=[\"object\"]).iteritems():\n",
      "/home/paolo/matteo/matteo/unimi/tesi_master/code/my_env/lib/python3.8/site-packages/neurokit2/epochs/epochs_create.py:205: FutureWarning: iteritems is deprecated and will be removed in a future version. Use .items instead.\n",
      "  for colname, column in epochs[i].select_dtypes(include=[\"object\"]).iteritems():\n",
      "/home/paolo/matteo/matteo/unimi/tesi_master/code/my_env/lib/python3.8/site-packages/neurokit2/epochs/epochs_create.py:205: FutureWarning: iteritems is deprecated and will be removed in a future version. Use .items instead.\n",
      "  for colname, column in epochs[i].select_dtypes(include=[\"object\"]).iteritems():\n",
      "/home/paolo/matteo/matteo/unimi/tesi_master/code/my_env/lib/python3.8/site-packages/neurokit2/epochs/epochs_create.py:205: FutureWarning: iteritems is deprecated and will be removed in a future version. Use .items instead.\n",
      "  for colname, column in epochs[i].select_dtypes(include=[\"object\"]).iteritems():\n",
      "/home/paolo/matteo/matteo/unimi/tesi_master/code/my_env/lib/python3.8/site-packages/neurokit2/epochs/epochs_create.py:205: FutureWarning: iteritems is deprecated and will be removed in a future version. Use .items instead.\n",
      "  for colname, column in epochs[i].select_dtypes(include=[\"object\"]).iteritems():\n",
      "/home/paolo/matteo/matteo/unimi/tesi_master/code/my_env/lib/python3.8/site-packages/neurokit2/epochs/epochs_create.py:205: FutureWarning: iteritems is deprecated and will be removed in a future version. Use .items instead.\n",
      "  for colname, column in epochs[i].select_dtypes(include=[\"object\"]).iteritems():\n",
      "/home/paolo/matteo/matteo/unimi/tesi_master/code/my_env/lib/python3.8/site-packages/neurokit2/epochs/epochs_create.py:205: FutureWarning: iteritems is deprecated and will be removed in a future version. Use .items instead.\n",
      "  for colname, column in epochs[i].select_dtypes(include=[\"object\"]).iteritems():\n",
      "/home/paolo/matteo/matteo/unimi/tesi_master/code/my_env/lib/python3.8/site-packages/neurokit2/epochs/epochs_create.py:205: FutureWarning: iteritems is deprecated and will be removed in a future version. Use .items instead.\n",
      "  for colname, column in epochs[i].select_dtypes(include=[\"object\"]).iteritems():\n",
      "/home/paolo/matteo/matteo/unimi/tesi_master/code/my_env/lib/python3.8/site-packages/neurokit2/epochs/epochs_create.py:205: FutureWarning: iteritems is deprecated and will be removed in a future version. Use .items instead.\n",
      "  for colname, column in epochs[i].select_dtypes(include=[\"object\"]).iteritems():\n",
      "/home/paolo/matteo/matteo/unimi/tesi_master/code/my_env/lib/python3.8/site-packages/neurokit2/epochs/epochs_create.py:205: FutureWarning: iteritems is deprecated and will be removed in a future version. Use .items instead.\n",
      "  for colname, column in epochs[i].select_dtypes(include=[\"object\"]).iteritems():\n",
      "/home/paolo/matteo/matteo/unimi/tesi_master/code/my_env/lib/python3.8/site-packages/neurokit2/epochs/epochs_create.py:205: FutureWarning: iteritems is deprecated and will be removed in a future version. Use .items instead.\n",
      "  for colname, column in epochs[i].select_dtypes(include=[\"object\"]).iteritems():\n",
      "/home/paolo/matteo/matteo/unimi/tesi_master/code/my_env/lib/python3.8/site-packages/neurokit2/epochs/epochs_create.py:205: FutureWarning: iteritems is deprecated and will be removed in a future version. Use .items instead.\n",
      "  for colname, column in epochs[i].select_dtypes(include=[\"object\"]).iteritems():\n",
      "/home/paolo/matteo/matteo/unimi/tesi_master/code/my_env/lib/python3.8/site-packages/neurokit2/epochs/epochs_create.py:205: FutureWarning: iteritems is deprecated and will be removed in a future version. Use .items instead.\n",
      "  for colname, column in epochs[i].select_dtypes(include=[\"object\"]).iteritems():\n",
      "/home/paolo/matteo/matteo/unimi/tesi_master/code/my_env/lib/python3.8/site-packages/neurokit2/epochs/epochs_create.py:205: FutureWarning: iteritems is deprecated and will be removed in a future version. Use .items instead.\n",
      "  for colname, column in epochs[i].select_dtypes(include=[\"object\"]).iteritems():\n",
      "/home/paolo/matteo/matteo/unimi/tesi_master/code/my_env/lib/python3.8/site-packages/neurokit2/epochs/epochs_create.py:205: FutureWarning: iteritems is deprecated and will be removed in a future version. Use .items instead.\n",
      "  for colname, column in epochs[i].select_dtypes(include=[\"object\"]).iteritems():\n",
      "/home/paolo/matteo/matteo/unimi/tesi_master/code/my_env/lib/python3.8/site-packages/numpy/core/fromnumeric.py:3474: RuntimeWarning: Mean of empty slice.\n",
      "  return _methods._mean(a, axis=axis, dtype=dtype,\n",
      "/home/paolo/matteo/matteo/unimi/tesi_master/code/my_env/lib/python3.8/site-packages/numpy/core/_methods.py:189: RuntimeWarning: invalid value encountered in double_scalars\n",
      "  ret = ret.dtype.type(ret / rcount)\n",
      "/home/paolo/matteo/matteo/unimi/tesi_master/code/my_env/lib/python3.8/site-packages/neurokit2/epochs/epochs_create.py:205: FutureWarning: iteritems is deprecated and will be removed in a future version. Use .items instead.\n",
      "  for colname, column in epochs[i].select_dtypes(include=[\"object\"]).iteritems():\n",
      "/home/paolo/matteo/matteo/unimi/tesi_master/code/my_env/lib/python3.8/site-packages/neurokit2/epochs/epochs_create.py:205: FutureWarning: iteritems is deprecated and will be removed in a future version. Use .items instead.\n",
      "  for colname, column in epochs[i].select_dtypes(include=[\"object\"]).iteritems():\n",
      "/home/paolo/matteo/matteo/unimi/tesi_master/code/my_env/lib/python3.8/site-packages/neurokit2/epochs/epochs_create.py:205: FutureWarning: iteritems is deprecated and will be removed in a future version. Use .items instead.\n",
      "  for colname, column in epochs[i].select_dtypes(include=[\"object\"]).iteritems():\n",
      "/home/paolo/matteo/matteo/unimi/tesi_master/code/my_env/lib/python3.8/site-packages/neurokit2/epochs/epochs_create.py:205: FutureWarning: iteritems is deprecated and will be removed in a future version. Use .items instead.\n",
      "  for colname, column in epochs[i].select_dtypes(include=[\"object\"]).iteritems():\n",
      "/home/paolo/matteo/matteo/unimi/tesi_master/code/my_env/lib/python3.8/site-packages/neurokit2/epochs/epochs_create.py:205: FutureWarning: iteritems is deprecated and will be removed in a future version. Use .items instead.\n",
      "  for colname, column in epochs[i].select_dtypes(include=[\"object\"]).iteritems():\n",
      "/home/paolo/matteo/matteo/unimi/tesi_master/code/my_env/lib/python3.8/site-packages/neurokit2/epochs/epochs_create.py:205: FutureWarning: iteritems is deprecated and will be removed in a future version. Use .items instead.\n",
      "  for colname, column in epochs[i].select_dtypes(include=[\"object\"]).iteritems():\n",
      "/home/paolo/matteo/matteo/unimi/tesi_master/code/my_env/lib/python3.8/site-packages/neurokit2/epochs/epochs_create.py:205: FutureWarning: iteritems is deprecated and will be removed in a future version. Use .items instead.\n",
      "  for colname, column in epochs[i].select_dtypes(include=[\"object\"]).iteritems():\n",
      "/home/paolo/matteo/matteo/unimi/tesi_master/code/my_env/lib/python3.8/site-packages/neurokit2/epochs/epochs_create.py:205: FutureWarning: iteritems is deprecated and will be removed in a future version. Use .items instead.\n",
      "  for colname, column in epochs[i].select_dtypes(include=[\"object\"]).iteritems():\n",
      "/home/paolo/matteo/matteo/unimi/tesi_master/code/my_env/lib/python3.8/site-packages/neurokit2/epochs/epochs_create.py:205: FutureWarning: iteritems is deprecated and will be removed in a future version. Use .items instead.\n",
      "  for colname, column in epochs[i].select_dtypes(include=[\"object\"]).iteritems():\n",
      "/home/paolo/matteo/matteo/unimi/tesi_master/code/my_env/lib/python3.8/site-packages/neurokit2/epochs/epochs_create.py:205: FutureWarning: iteritems is deprecated and will be removed in a future version. Use .items instead.\n",
      "  for colname, column in epochs[i].select_dtypes(include=[\"object\"]).iteritems():\n",
      "/home/paolo/matteo/matteo/unimi/tesi_master/code/my_env/lib/python3.8/site-packages/neurokit2/epochs/epochs_create.py:205: FutureWarning: iteritems is deprecated and will be removed in a future version. Use .items instead.\n",
      "  for colname, column in epochs[i].select_dtypes(include=[\"object\"]).iteritems():\n",
      "/home/paolo/matteo/matteo/unimi/tesi_master/code/my_env/lib/python3.8/site-packages/neurokit2/epochs/epochs_create.py:205: FutureWarning: iteritems is deprecated and will be removed in a future version. Use .items instead.\n",
      "  for colname, column in epochs[i].select_dtypes(include=[\"object\"]).iteritems():\n",
      "/home/paolo/matteo/matteo/unimi/tesi_master/code/my_env/lib/python3.8/site-packages/neurokit2/epochs/epochs_create.py:205: FutureWarning: iteritems is deprecated and will be removed in a future version. Use .items instead.\n",
      "  for colname, column in epochs[i].select_dtypes(include=[\"object\"]).iteritems():\n",
      "/home/paolo/matteo/matteo/unimi/tesi_master/code/my_env/lib/python3.8/site-packages/neurokit2/epochs/epochs_create.py:205: FutureWarning: iteritems is deprecated and will be removed in a future version. Use .items instead.\n",
      "  for colname, column in epochs[i].select_dtypes(include=[\"object\"]).iteritems():\n",
      "/home/paolo/matteo/matteo/unimi/tesi_master/code/my_env/lib/python3.8/site-packages/neurokit2/epochs/epochs_create.py:205: FutureWarning: iteritems is deprecated and will be removed in a future version. Use .items instead.\n",
      "  for colname, column in epochs[i].select_dtypes(include=[\"object\"]).iteritems():\n",
      "/home/paolo/matteo/matteo/unimi/tesi_master/code/my_env/lib/python3.8/site-packages/neurokit2/epochs/epochs_create.py:205: FutureWarning: iteritems is deprecated and will be removed in a future version. Use .items instead.\n",
      "  for colname, column in epochs[i].select_dtypes(include=[\"object\"]).iteritems():\n",
      "/home/paolo/matteo/matteo/unimi/tesi_master/code/my_env/lib/python3.8/site-packages/numpy/core/fromnumeric.py:3474: RuntimeWarning: Mean of empty slice.\n",
      "  return _methods._mean(a, axis=axis, dtype=dtype,\n",
      "/home/paolo/matteo/matteo/unimi/tesi_master/code/my_env/lib/python3.8/site-packages/numpy/core/_methods.py:189: RuntimeWarning: invalid value encountered in double_scalars\n",
      "  ret = ret.dtype.type(ret / rcount)\n",
      "/home/paolo/matteo/matteo/unimi/tesi_master/code/my_env/lib/python3.8/site-packages/neurokit2/epochs/epochs_create.py:205: FutureWarning: iteritems is deprecated and will be removed in a future version. Use .items instead.\n",
      "  for colname, column in epochs[i].select_dtypes(include=[\"object\"]).iteritems():\n",
      "/home/paolo/matteo/matteo/unimi/tesi_master/code/my_env/lib/python3.8/site-packages/neurokit2/epochs/epochs_create.py:205: FutureWarning: iteritems is deprecated and will be removed in a future version. Use .items instead.\n",
      "  for colname, column in epochs[i].select_dtypes(include=[\"object\"]).iteritems():\n",
      "/home/paolo/matteo/matteo/unimi/tesi_master/code/my_env/lib/python3.8/site-packages/neurokit2/epochs/epochs_create.py:205: FutureWarning: iteritems is deprecated and will be removed in a future version. Use .items instead.\n",
      "  for colname, column in epochs[i].select_dtypes(include=[\"object\"]).iteritems():\n",
      "/home/paolo/matteo/matteo/unimi/tesi_master/code/my_env/lib/python3.8/site-packages/neurokit2/epochs/epochs_create.py:205: FutureWarning: iteritems is deprecated and will be removed in a future version. Use .items instead.\n",
      "  for colname, column in epochs[i].select_dtypes(include=[\"object\"]).iteritems():\n",
      "/home/paolo/matteo/matteo/unimi/tesi_master/code/my_env/lib/python3.8/site-packages/neurokit2/epochs/epochs_create.py:205: FutureWarning: iteritems is deprecated and will be removed in a future version. Use .items instead.\n",
      "  for colname, column in epochs[i].select_dtypes(include=[\"object\"]).iteritems():\n",
      "/home/paolo/matteo/matteo/unimi/tesi_master/code/my_env/lib/python3.8/site-packages/neurokit2/epochs/epochs_create.py:205: FutureWarning: iteritems is deprecated and will be removed in a future version. Use .items instead.\n",
      "  for colname, column in epochs[i].select_dtypes(include=[\"object\"]).iteritems():\n",
      "/home/paolo/matteo/matteo/unimi/tesi_master/code/my_env/lib/python3.8/site-packages/neurokit2/epochs/epochs_create.py:205: FutureWarning: iteritems is deprecated and will be removed in a future version. Use .items instead.\n",
      "  for colname, column in epochs[i].select_dtypes(include=[\"object\"]).iteritems():\n",
      "/home/paolo/matteo/matteo/unimi/tesi_master/code/my_env/lib/python3.8/site-packages/neurokit2/epochs/epochs_create.py:205: FutureWarning: iteritems is deprecated and will be removed in a future version. Use .items instead.\n",
      "  for colname, column in epochs[i].select_dtypes(include=[\"object\"]).iteritems():\n",
      "/home/paolo/matteo/matteo/unimi/tesi_master/code/my_env/lib/python3.8/site-packages/neurokit2/epochs/epochs_create.py:205: FutureWarning: iteritems is deprecated and will be removed in a future version. Use .items instead.\n",
      "  for colname, column in epochs[i].select_dtypes(include=[\"object\"]).iteritems():\n",
      "/home/paolo/matteo/matteo/unimi/tesi_master/code/my_env/lib/python3.8/site-packages/neurokit2/epochs/epochs_create.py:205: FutureWarning: iteritems is deprecated and will be removed in a future version. Use .items instead.\n",
      "  for colname, column in epochs[i].select_dtypes(include=[\"object\"]).iteritems():\n",
      "/home/paolo/matteo/matteo/unimi/tesi_master/code/my_env/lib/python3.8/site-packages/neurokit2/epochs/epochs_create.py:205: FutureWarning: iteritems is deprecated and will be removed in a future version. Use .items instead.\n",
      "  for colname, column in epochs[i].select_dtypes(include=[\"object\"]).iteritems():\n",
      "/home/paolo/matteo/matteo/unimi/tesi_master/code/my_env/lib/python3.8/site-packages/neurokit2/epochs/epochs_create.py:205: FutureWarning: iteritems is deprecated and will be removed in a future version. Use .items instead.\n",
      "  for colname, column in epochs[i].select_dtypes(include=[\"object\"]).iteritems():\n"
     ]
    },
    {
     "name": "stdout",
     "output_type": "stream",
     "text": [
      ">> Extracting wavelet features from HR signal, adopting (2, 1) window ...\n",
      ">> Extracting mean features from PUPIL signal, adopting (1, 0) window ...\n"
     ]
    }
   ],
   "source": [
    "from deepemogp import feature_extractor\n",
    "from deepemogp.signal import physio as physio\n",
    "from deepemogp import datasets as datasets\n",
    "from deepemogp.signal import behavior as behavior\n",
    "from deepemogp.signal.physio import ecg\n",
    "# from: https://github.com/SheffieldML/GPy\n",
    "#import GPy\n",
    "# from: https://github.com/SheffieldML/PyDeepGP\n",
    "#import deepgp\n",
    "\n",
    "import pandas as pd\n",
    "import numpy as np\n",
    "\n",
    "show = False\n",
    "# definition of the feature extractors to be used later\n",
    "f2 = feature_extractor.FE('wavelet', window=(2, 1))\n",
    "f3 = feature_extractor.FE('mean', window=(1,0))\n",
    "\n",
    "# definition of the physiological signals to be extracted\n",
    "eda_ = physio.EDA(f2)\n",
    "hr_ = physio.HR(f2)\n",
    "pupil_ = behavior.PUPIL(f3)\n",
    "\n",
    "# definition of the emotional annotation to be extracted\n",
    "#va = annotation.VA('valence', f3)\n",
    "#ar = annotation.VA('arousal', f3)\n",
    "# extraction of the desired data from the dataset\n",
    "d = datasets.FEAR(signals={hr_,pupil_,eda_}, subjects={'45'})\n",
    "\n",
    "for s in d.signals:\n",
    "    # preprocess ...\n",
    "    if s.name =='EDA':\n",
    "        s.preprocess(show=show,new_fps=500)\n",
    "        s.feature_ext.extract_feat(s,show=show)\n",
    "    else:\n",
    "        if s.name == 'HR':\n",
    "            list_hr_test = s.raw[0]['data']\n",
    "            s.preprocess(show=show, useneurokit=True)\n",
    "            s.feature_ext.extract_feat(s,show=show)\n",
    "\n",
    "        else:\n",
    "            s.feature_ext.extract_feat_without_preprocess(s, show=show)\n",
    "\n",
    "    #add feature extraction for eda before preprocessing\n",
    "\n",
    "    # ... and extract features from each signal type\n",
    "\n",
    "\n",
    "for sig in d.signals:\n",
    "    if sig.name=='EDA':\n",
    "        eda_data = sig.features\n",
    "    if sig.name=='HR':\n",
    "        hr_data = sig.features\n",
    "    if sig.name=='PUPIL':\n",
    "        pupil_data = sig.features"
   ],
   "metadata": {
    "collapsed": false
   }
  },
  {
   "cell_type": "code",
   "execution_count": 12,
   "outputs": [],
   "source": [
    "TRIAL = 160"
   ],
   "metadata": {
    "collapsed": false
   }
  },
  {
   "cell_type": "code",
   "execution_count": 13,
   "outputs": [
    {
     "data": {
      "text/plain": "array([[1507.82432239, 1507.82432239, 1507.82432239, ..., 1566.0845009 ,\n        1520.02818112, 1518.7678512 ],\n       [1561.94779093, 1561.94779093, 1561.94779093, ..., 1513.92693106,\n        1511.8541424 , 1511.8541424 ],\n       [1552.65898888, 1552.65898888, 1552.65898888, ..., 1478.91710429,\n        1478.91614366, 1478.91614366],\n       ...,\n       [1513.53959853, 1513.53959853, 1513.53959853, ..., 1475.70110856,\n        1475.70110856, 1475.70110856],\n       [1562.66691975, 1562.66691975, 1562.66691975, ..., 1694.83054188,\n        1731.68433009, 1731.6894679 ],\n       [1539.28006789, 1539.28006789, 1539.28006789, ..., 1445.25223889,\n        1441.56087692, 1441.25889603]])"
     },
     "execution_count": 13,
     "metadata": {},
     "output_type": "execute_result"
    }
   ],
   "source": [
    "hr =np.array(hr_data)\n",
    "hr = hr.reshape((TRIAL, int(hr.shape[0]/TRIAL*hr.shape[1])))"
   ],
   "metadata": {
    "collapsed": false
   }
  },
  {
   "cell_type": "code",
   "execution_count": 14,
   "outputs": [
    {
     "data": {
      "text/plain": "array([[2.45239393, 2.66638125, 2.59187033, 2.4506036 , 2.80837978],\n       [2.59338696, 2.55991296, 2.53492629, 2.48206472, 2.62299583],\n       [2.51776189, 2.52536855, 2.71710262, 2.85383682, 2.64254111],\n       [2.59916026, 2.78052864, 2.66078013, 2.80587036, 2.90862783],\n       [2.66953859, 2.56049477, 2.37752592, 2.4753718 , 2.82322928],\n       [2.69363716, 2.60489613, 2.52116537, 2.56927633, 2.71404879],\n       [2.53859531, 2.63078144, 3.00423614, 2.67140556, 2.65304165],\n       [2.45419989, 2.29169615, 2.40401754, 2.40156297, 2.46497346],\n       [2.7961956 , 2.60416088, 2.46037891, 2.54203925, 2.48787623],\n       [2.46366409, 2.67486512, 2.65886801, 2.5452179 , 2.69123385],\n       [2.35282239, 2.51053252, 2.47818746, 2.61634768, 2.34638445],\n       [2.69495718, 2.91349163, 3.06015049, 2.77073565, 2.72773236],\n       [2.53074146, 2.42715984, 2.60548436, 2.70087583, 2.3135078 ],\n       [2.55345281, 2.62065232, 2.58789636, 2.644122  , 2.72449498],\n       [2.45065309, 2.5222609 , 2.28585199, 2.30667505, 2.36538023],\n       [2.38924578, 2.48134731, 2.51932468, 2.60919605, 2.41505494],\n       [2.28957916, 2.24162691, 2.25743542, 2.22630423, 2.38095332],\n       [2.36868258, 2.39102987, 2.48046672, 2.48633441, 2.82339354],\n       [2.67064127, 2.6494933 , 2.83338295, 2.89680195, 2.72045228],\n       [2.49301839, 2.57434004, 2.66193764, 2.81392379, 2.87763088],\n       [2.61941199, 2.4619111 , 2.36253936, 2.4516599 , 2.6092937 ],\n       [2.75129438, 2.49158451, 2.42205538, 2.7312255 , 2.98115979],\n       [2.45358019, 2.65098693, 2.53686958, 2.57464519, 2.71543636],\n       [2.45708751, 2.45795594, 2.67679892, 2.75354411, 2.99927171],\n       [2.56581758, 2.56581015, 2.77308503, 2.76511497, 2.93824643],\n       [2.38373017, 2.57278398, 2.5560109 , 2.6140381 , 3.01098913],\n       [2.6431281 , 2.73040808, 2.82973441, 2.84983551, 2.94314998],\n       [2.50911406, 2.64766184, 2.45722277, 2.4697938 , 2.72666808],\n       [2.36618928, 2.42914254, 2.45748706, 2.60572032, 2.97211539],\n       [2.54876006, 2.53992921, 2.53885993, 2.59555207, 2.6361397 ],\n       [2.64543622, 2.64668624, 2.73619168, 2.86503435, 3.08612369],\n       [2.41056565, 2.50286441, 2.32619385, 2.36278056, 2.63420798],\n       [2.52436065, 2.652828  , 2.68140328, 2.75866452, 3.00501714],\n       [2.36146002, 2.36420908, 2.52159242, 2.38245588, 2.32577402],\n       [2.19974175, 2.35661354, 2.58433796, 2.60656929, 2.68688538],\n       [2.40497204, 2.4189318 , 2.26602502, 2.22574007, 2.41119918],\n       [2.21980483, 2.46472723, 2.58708135, 2.65550098, 2.22154282],\n       [2.34643328, 2.30205253, 2.40117756, 2.43928651, 2.26370617],\n       [2.38208955, 2.42884618, 2.51112282, 2.47449576, 2.42033231],\n       [2.37606   , 2.45252417, 2.54403736, 2.48352134, 2.25829283],\n       [2.64270836, 2.77204722, 2.73754287, 2.68113135, 2.73488909],\n       [2.62510897, 2.44591737, 2.41248764, 2.52658208, 2.63798641],\n       [2.4731018 , 2.43158621, 2.50412234, 2.43340883, 2.56651774],\n       [2.39840737, 2.43575599, 2.56209973, 2.48592332, 2.62140974],\n       [2.6510982 , 2.5441573 , 2.55712632, 2.55857849, 2.66244756],\n       [2.36600211, 2.42787248, 2.42082431, 2.47575074, 2.69846615],\n       [2.33947943, 2.2851102 , 2.25825891, 2.3512792 , 2.61504646],\n       [2.18679991, 2.21100889, 2.32718604, 2.49658328, 2.69552249],\n       [2.40250466, 2.37169159, 2.36570188, 2.35041599, 2.47305837],\n       [2.41146966, 2.41482795, 2.38192518, 2.53472461, 2.48704415],\n       [2.32583225, 2.39622478, 2.33995162, 2.40282316, 2.39286294],\n       [2.28481883, 2.34711499, 2.32480409, 2.2599998 , 2.27802137],\n       [2.31378721, 2.43029428, 2.39475066, 2.39910228, 2.80852755],\n       [2.27842355, 2.24664539, 2.28061958, 2.20779683, 2.19704274],\n       [2.20882489, 2.23173331, 2.23084701, 2.22071175, 2.21912347],\n       [2.33323625, 2.35953026, 2.21614763, 2.46110468, 2.89351463],\n       [2.35553171, 2.13488027, 2.13519995, 2.14101585, 2.45607232],\n       [2.31797205, 2.20270688, 2.24111266, 2.27653133, 2.3885289 ],\n       [2.35800178, 2.43101031, 2.45240605, 2.58826663, 2.58348431],\n       [2.16301929, 2.15922532, 2.22251023, 2.25979535, 2.52425255],\n       [2.36957485, 2.32486966, 2.46138279, 2.66699531, 2.74685871],\n       [2.32068631, 2.27091087, 2.25386405, 2.44734183, 2.46356286],\n       [2.30306222, 2.29965163, 2.41690634, 2.56433647, 2.74866466],\n       [2.44731938, 2.43682228, 2.42898159, 2.52276176, 2.60144111],\n       [2.26877025, 2.22285152, 2.3973085 , 2.34916374, 2.39361649],\n       [2.25723396, 2.23380833, 2.26325272, 2.4993482 , 2.76768182],\n       [2.14386252, 2.12776109, 2.24913565, 2.36321131, 2.73205473],\n       [2.43832534, 2.66689732, 2.89185445, 2.80121718, 2.98790169],\n       [2.12746705, 2.17737339, 2.32467176, 2.5288267 , 2.55102834],\n       [2.24329134, 2.32522733, 2.29817353, 2.24248895, 2.47424144],\n       [2.09683554, 2.24863656, 2.35832833, 2.57182164, 2.71151839],\n       [2.0860849 , 2.11711904, 2.3468864 , 2.42740236, 2.58657098],\n       [2.18320819, 2.1941867 , 2.21129983, 2.23855228, 2.36170952],\n       [2.27460003, 2.37203691, 2.43506363, 2.4539918 , 2.4962185 ],\n       [2.24834504, 2.2460445 , 2.29346755, 2.39489927, 2.68648537],\n       [2.24398331, 2.30498664, 2.39055568, 2.38050613, 2.42098921],\n       [2.16855382, 2.24899715, 2.33352457, 2.47087699, 2.42329872],\n       [2.35295961, 2.29847916, 2.55609958, 2.7083639 , 2.50296945],\n       [2.2129698 , 2.21612988, 2.39313083, 2.38034356, 2.3905499 ],\n       [2.3361652 , 2.28981937, 2.40088259, 2.58234294, 2.72440321],\n       [2.45760116, 2.61818774, 2.55985793, 2.55866438, 3.02641173],\n       [2.3242606 , 2.30399701, 2.24190886, 2.3588834 , 2.36315684],\n       [2.08828006, 2.3419689 , 2.34715099, 2.33551535, 2.56631829],\n       [2.39793788, 2.45855584, 2.38913677, 2.31499299, 2.60298561],\n       [2.20529926, 2.16998597, 2.18113485, 2.25902181, 2.3100354 ],\n       [2.19654857, 2.27776946, 2.22647842, 2.32588276, 2.4464437 ],\n       [2.31949698, 2.26602332, 2.26978493, 2.37131623, 2.66269668],\n       [2.39561294, 2.35918129, 2.61131259, 2.60000351, 2.90875651],\n       [2.16793368, 2.19307681, 2.28683267, 2.2567916 , 2.61832513],\n       [2.37924522, 2.25113293, 2.48332446, 2.46832681, 2.41976166],\n       [2.20495484, 2.24470367, 2.2534999 , 2.24492811, 2.34495184],\n       [2.22390699, 2.28513303, 2.56861381, 2.40552345, 2.42034906],\n       [2.32259557, 2.37399449, 2.32776442, 2.52058722, 2.74611598],\n       [2.29412274, 2.35455569, 2.33079157, 2.3810447 , 2.48045282],\n       [2.19674869, 2.27895143, 2.25188443, 2.45272004, 2.50070493],\n       [2.28945204, 2.36954126, 2.3582026 , 2.40570362, 2.58116256],\n       [2.46520952, 2.56374372, 2.50312397, 2.45996778, 2.48430128],\n       [2.43817001, 2.41348853, 2.33810385, 2.42531757, 2.81118855],\n       [2.50985633, 2.51828406, 2.35535571, 2.40842056, 2.51090965],\n       [2.17360843, 2.22296738, 2.45880769, 2.47786192, 2.31013244],\n       [2.37557393, 2.39757625, 2.32201482, 2.43526839, 2.55562225],\n       [2.44956694, 2.21674054, 2.35337828, 2.46605529, 2.74977789],\n       [2.11717045, 2.30317345, 2.37533266, 2.27078361, 2.39776835],\n       [2.28830865, 2.34194445, 2.41364224, 2.59406504, 2.52962282],\n       [2.15938782, 2.22113356, 2.41507365, 2.5459029 , 2.53696917],\n       [2.15336614, 2.26762019, 2.23809602, 2.26376897, 2.39036589],\n       [2.19649429, 2.21505408, 2.27557244, 2.31180982, 2.67016928],\n       [2.34066555, 2.41018806, 2.43368219, 2.3678939 , 2.74299914],\n       [2.10005032, 2.08681946, 2.31001045, 2.35870923, 2.46414437],\n       [2.22112205, 2.28409294, 2.31467806, 2.57846674, 2.62801406],\n       [2.33022947, 2.2413002 , 2.28271368, 2.32416167, 2.35951275],\n       [2.48299235, 2.53393795, 2.30910921, 2.3093656 , 2.44389193],\n       [2.28353726, 2.55461714, 2.62047467, 2.44087737, 2.3847423 ],\n       [2.69698588, 2.27263653, 2.11518264, 2.20186748, 2.39972029],\n       [2.35607487, 2.46290374, 2.38843864, 2.49319818, 2.54971004],\n       [2.29773467, 2.3177639 , 2.26329426, 2.24345128, 2.26345784],\n       [2.43613487, 2.3822231 , 2.3421327 , 2.37327778, 2.60818795],\n       [2.26292196, 2.32316701, 2.31571505, 2.37748321, 2.64297799],\n       [2.31295995, 2.31826676, 2.43853653, 2.55356805, 2.597367  ],\n       [2.2618889 , 2.40402573, 2.48898902, 2.50768221, 2.61123426],\n       [2.37186012, 2.14561938, 2.129981  , 2.2407844 , 2.30014242],\n       [2.16864779, 2.32525471, 2.36101003, 2.29904735, 2.346809  ],\n       [2.2579226 , 2.41790396, 2.56926627, 2.5704098 , 2.68725337],\n       [2.49386413, 2.42441058, 2.39953173, 2.61122883, 2.97492243],\n       [2.35636321, 2.34268246, 2.55036274, 2.59903693, 2.56453544],\n       [2.37163125, 2.3580572 , 2.56474613, 2.82381634, 2.77063929],\n       [2.31869152, 2.35351433, 2.29575701, 2.37723949, 2.51416677],\n       [2.3626418 , 2.37564297, 2.38294329, 2.36101828, 2.33425528],\n       [2.42124449, 2.3491564 , 2.35664269, 2.33374062, 2.32743602],\n       [2.3709651 , 2.34617106, 2.30286797, 2.35356858, 2.79276149],\n       [2.27446944, 2.34356524, 2.25518585, 2.29167878, 2.49724088],\n       [2.40726374, 2.43898179, 2.59509945, 2.79425431, 2.84226725],\n       [2.22905558, 2.27553623, 2.51682644, 2.44719239, 2.32047804],\n       [2.2875765 , 2.35122332, 2.35826032, 2.32908524, 2.53522445],\n       [2.37812244, 2.63205183, 2.68961394, 2.62817878, 2.7973167 ],\n       [2.27633682, 2.68761307, 2.73096726, 2.29572919, 2.21800733],\n       [2.23253655, 2.27562918, 2.41263785, 2.26429226, 2.50803846],\n       [2.14994679, 2.26552496, 2.36584267, 2.40681856, 2.6793426 ],\n       [2.31819277, 2.33393354, 2.39187985, 2.56974536, 2.75459089],\n       [2.28509701, 2.20667475, 2.40918838, 2.60558467, 2.70262003],\n       [2.33098219, 2.38426915, 2.34141772, 2.38007744, 2.37334483],\n       [2.29243457, 2.41156793, 2.52441153, 2.64343031, 2.52270377],\n       [2.35736679, 2.42917221, 2.46700976, 2.55854775, 2.59950013],\n       [2.44849   , 2.45418371, 2.34111607, 2.63519135, 2.60328634],\n       [2.39029896, 2.33307716, 2.57401745, 2.49957174, 2.32072002],\n       [2.27368477, 2.2504947 , 2.31243097, 2.42781355, 2.61246106],\n       [2.15612731, 2.16530212, 2.31115014, 2.34980403, 2.4827801 ],\n       [2.19561169, 2.2703252 , 2.42214155, 2.45816861, 2.44287152],\n       [2.05681106, 2.0986865 , 2.09973607, 2.13669673, 2.2466406 ],\n       [2.33854714, 2.44925391, 2.58261339, 2.51864326, 2.32154364],\n       [2.4079321 , 2.37652427, 2.3712783 , 2.55719348, 2.82913353],\n       [2.49456316, 2.50119999, 2.45106989, 2.50538217, 2.4499491 ],\n       [2.13436087, 2.16086352, 2.12853436, 2.21511855, 2.23504985],\n       [2.19036086, 2.23651369, 2.30692979, 2.43887273, 2.53590006],\n       [2.25115216, 2.37554983, 2.42910369, 2.53328077, 2.49316905],\n       [2.12078536, 2.32740061, 2.25032523, 2.2764121 , 2.47776237],\n       [2.10913486, 2.12712422, 2.20180106, 2.24533554, 2.30412204],\n       [2.06648365, 2.02496466, 2.09324168, 2.24181976, 2.25410005],\n       [2.26441178, 2.10028666, 2.11161352, 2.1523653 , 2.31848824],\n       [2.13647221, 2.15985006, 2.25773627, 2.48447505, 2.57430165]])"
     },
     "execution_count": 14,
     "metadata": {},
     "output_type": "execute_result"
    }
   ],
   "source": [
    "pupil = np.array(pupil_data)\n",
    "pupil = pupil.reshape((TRIAL, int(pupil.shape[0]/TRIAL*pupil.shape[1])))"
   ],
   "metadata": {
    "collapsed": false
   }
  },
  {
   "cell_type": "code",
   "execution_count": 15,
   "outputs": [
    {
     "data": {
      "text/plain": "array([[ 2.10891983e-01,  2.12998437e-01,  1.82950635e-01, ...,\n         1.31000424e+01,  1.19876484e+01,  1.09912966e+01],\n       [ 4.79881800e-01,  4.84782808e-01,  4.19306285e-01, ...,\n         1.70782579e+01,  1.52385652e+01,  1.37090198e+01],\n       [-8.62379325e-01, -8.71626109e-01, -7.66350705e-01, ...,\n         1.88873483e+01,  1.80621614e+01,  1.71648583e+01],\n       ...,\n       [-8.87428418e-01, -8.97424247e-01, -8.04640781e-01, ...,\n         1.75345145e+01,  2.41071828e+01,  2.83073815e+01],\n       [ 1.27413860e+00,  1.28461551e+00,  1.04262039e+00, ...,\n         3.05011220e+01,  3.90704780e+01,  4.29526697e+01],\n       [-1.25129379e-02, -1.24530688e-02, -5.70494938e-03, ...,\n         2.95990803e+01,  4.42385068e+01,  5.23625619e+01]])"
     },
     "execution_count": 15,
     "metadata": {},
     "output_type": "execute_result"
    }
   ],
   "source": [
    "eda = np.array(eda_data)\n",
    "eda = eda.reshape((TRIAL,int(eda.shape[0]/TRIAL*eda.shape[1])))"
   ],
   "metadata": {
    "collapsed": false
   }
  },
  {
   "cell_type": "markdown",
   "source": [
    "## end test"
   ],
   "metadata": {
    "collapsed": false
   }
  },
  {
   "cell_type": "markdown",
   "source": [
    "prendo un'implementazione di sppca e la applico al nostro caso"
   ],
   "metadata": {
    "collapsed": false
   }
  },
  {
   "cell_type": "markdown",
   "source": [
    "different types of observable data\n",
    "\n",
    "1) gaze\n",
    "2) fisio\n",
    "    2.1) heart rate variability\n",
    "    2.2) eda phasic value\n",
    "3) social anxiety\n",
    "4) aspettativa del dolore"
   ],
   "metadata": {
    "collapsed": false
   }
  },
  {
   "cell_type": "code",
   "execution_count": 16,
   "outputs": [
    {
     "data": {
      "text/plain": "\"social_anx = data['social anxiety'][:,np.newaxis]\\npain_exp = data['pain expectation'][:,np.newaxis]\""
     },
     "execution_count": 16,
     "metadata": {},
     "output_type": "execute_result"
    }
   ],
   "source": [
    "\n",
    "'''social_anx = data['social anxiety'][:,np.newaxis]\n",
    "pain_exp = data['pain expectation'][:,np.newaxis]'''\n"
   ],
   "metadata": {
    "collapsed": false
   }
  },
  {
   "cell_type": "code",
   "execution_count": 18,
   "outputs": [
    {
     "name": "stdout",
     "output_type": "stream",
     "text": [
      "160 5\n",
      "160 60\n",
      "160 60\n",
      "160 1\n"
     ]
    }
   ],
   "source": [
    "N_pupil = pupil.shape[0]\n",
    "D_pupil = pupil.shape[1]\n",
    "\n",
    "N_hr = hr.shape[0]\n",
    "D_hr = hr.shape[1]\n",
    "\n",
    "N_eda = eda.shape[0]\n",
    "D_eda = eda.shape[1]\n",
    "K = 3\n",
    "\n",
    "print(N_pupil,D_pupil)\n",
    "print(N_hr,D_hr)\n",
    "print(N_eda,D_eda)\n",
    "print(N_e, D_e)"
   ],
   "metadata": {
    "collapsed": false
   }
  },
  {
   "cell_type": "code",
   "execution_count": 19,
   "metadata": {
    "collapsed": true
   },
   "outputs": [
    {
     "ename": "NotImplementedError",
     "evalue": "The use of a `.dist(dims=...)` API is not supported.",
     "output_type": "error",
     "traceback": [
      "\u001B[0;31m---------------------------------------------------------------------------\u001B[0m",
      "\u001B[0;31mNotImplementedError\u001B[0m                       Traceback (most recent call last)",
      "Cell \u001B[0;32mIn [19], line 24\u001B[0m\n\u001B[1;32m     22\u001B[0m \u001B[38;5;66;03m# dati dell'hrv interpretati come una gaussiana\u001B[39;00m\n\u001B[1;32m     23\u001B[0m sigma_alpha_hr \u001B[38;5;241m=\u001B[39m pm\u001B[38;5;241m.\u001B[39mExponential(\u001B[38;5;124m\"\u001B[39m\u001B[38;5;124msigma_alpha\u001B[39m\u001B[38;5;124m\"\u001B[39m, \u001B[38;5;241m50.0\u001B[39m)\n\u001B[0;32m---> 24\u001B[0m x_hr \u001B[38;5;241m=\u001B[39m pm\u001B[38;5;241m.\u001B[39mGaussianRandomWalk(\u001B[38;5;124m'\u001B[39m\u001B[38;5;124mx_hr\u001B[39m\u001B[38;5;124m'\u001B[39m, sigma\u001B[38;5;241m=\u001B[39msigma_alpha_hr, init_dist\u001B[38;5;241m=\u001B[39mpm\u001B[38;5;241m.\u001B[39mNormal\u001B[38;5;241m.\u001B[39mdist(mu\u001B[38;5;241m=\u001B[39m\u001B[38;5;241m0\u001B[39m,sigma\u001B[38;5;241m=\u001B[39m\u001B[38;5;241m1\u001B[39m,dims \u001B[38;5;241m=\u001B[39m \u001B[38;5;124m'\u001B[39m\u001B[38;5;124mtime\u001B[39m\u001B[38;5;124m'\u001B[39m))\n\u001B[1;32m     26\u001B[0m \u001B[38;5;124;03m'''\u001B[39;00m\n\u001B[1;32m     27\u001B[0m \u001B[38;5;124;03mx_hr = pm.Normal('x_hr', mu=Whr.dot(c.T), sigma=at.ones([D_hr,N_hr]) ,shape=[D_hr, N_hr], observed=hr_data)\u001B[39;00m\n\u001B[1;32m     28\u001B[0m \u001B[38;5;124;03m'''\u001B[39;00m\n\u001B[1;32m     30\u001B[0m \u001B[38;5;66;03m# dati della dilatazione pupille interpretati come una gaussiana\u001B[39;00m\n",
      "File \u001B[0;32m~/matteo/matteo/unimi/tesi_master/code/my_env/lib/python3.8/site-packages/pymc/distributions/continuous.py:558\u001B[0m, in \u001B[0;36mNormal.dist\u001B[0;34m(cls, mu, sigma, tau, **kwargs)\u001B[0m\n\u001B[1;32m    552\u001B[0m sigma \u001B[38;5;241m=\u001B[39m at\u001B[38;5;241m.\u001B[39mas_tensor_variable(sigma)\n\u001B[1;32m    554\u001B[0m \u001B[38;5;66;03m# tau = at.as_tensor_variable(tau)\u001B[39;00m\n\u001B[1;32m    555\u001B[0m \u001B[38;5;66;03m# mean = median = mode = mu = at.as_tensor_variable(floatX(mu))\u001B[39;00m\n\u001B[1;32m    556\u001B[0m \u001B[38;5;66;03m# variance = 1.0 / self.tau\u001B[39;00m\n\u001B[0;32m--> 558\u001B[0m \u001B[38;5;28;01mreturn\u001B[39;00m \u001B[38;5;28;43msuper\u001B[39;49m\u001B[43m(\u001B[49m\u001B[43m)\u001B[49m\u001B[38;5;241;43m.\u001B[39;49m\u001B[43mdist\u001B[49m\u001B[43m(\u001B[49m\u001B[43m[\u001B[49m\u001B[43mmu\u001B[49m\u001B[43m,\u001B[49m\u001B[43m \u001B[49m\u001B[43msigma\u001B[49m\u001B[43m]\u001B[49m\u001B[43m,\u001B[49m\u001B[43m \u001B[49m\u001B[38;5;241;43m*\u001B[39;49m\u001B[38;5;241;43m*\u001B[39;49m\u001B[43mkwargs\u001B[49m\u001B[43m)\u001B[49m\n",
      "File \u001B[0;32m~/matteo/matteo/unimi/tesi_master/code/my_env/lib/python3.8/site-packages/pymc/distributions/distribution.py:354\u001B[0m, in \u001B[0;36mDistribution.dist\u001B[0;34m(cls, dist_params, shape, **kwargs)\u001B[0m\n\u001B[1;32m    348\u001B[0m     \u001B[38;5;28;01mraise\u001B[39;00m \u001B[38;5;167;01mTypeError\u001B[39;00m(\n\u001B[1;32m    349\u001B[0m         \u001B[38;5;124m\"\u001B[39m\u001B[38;5;124mUnexpected keyword argument `initval`. \u001B[39m\u001B[38;5;124m\"\u001B[39m\n\u001B[1;32m    350\u001B[0m         \u001B[38;5;124m\"\u001B[39m\u001B[38;5;124mThis argument is not available for the `.dist()` API.\u001B[39m\u001B[38;5;124m\"\u001B[39m\n\u001B[1;32m    351\u001B[0m     )\n\u001B[1;32m    353\u001B[0m \u001B[38;5;28;01mif\u001B[39;00m \u001B[38;5;124m\"\u001B[39m\u001B[38;5;124mdims\u001B[39m\u001B[38;5;124m\"\u001B[39m \u001B[38;5;129;01min\u001B[39;00m kwargs:\n\u001B[0;32m--> 354\u001B[0m     \u001B[38;5;28;01mraise\u001B[39;00m \u001B[38;5;167;01mNotImplementedError\u001B[39;00m(\u001B[38;5;124m\"\u001B[39m\u001B[38;5;124mThe use of a `.dist(dims=...)` API is not supported.\u001B[39m\u001B[38;5;124m\"\u001B[39m)\n\u001B[1;32m    355\u001B[0m size \u001B[38;5;241m=\u001B[39m kwargs\u001B[38;5;241m.\u001B[39mpop(\u001B[38;5;124m\"\u001B[39m\u001B[38;5;124msize\u001B[39m\u001B[38;5;124m\"\u001B[39m, \u001B[38;5;28;01mNone\u001B[39;00m)\n\u001B[1;32m    356\u001B[0m \u001B[38;5;28;01mif\u001B[39;00m shape \u001B[38;5;129;01mis\u001B[39;00m \u001B[38;5;129;01mnot\u001B[39;00m \u001B[38;5;28;01mNone\u001B[39;00m \u001B[38;5;129;01mand\u001B[39;00m size \u001B[38;5;129;01mis\u001B[39;00m \u001B[38;5;129;01mnot\u001B[39;00m \u001B[38;5;28;01mNone\u001B[39;00m:\n",
      "\u001B[0;31mNotImplementedError\u001B[0m: The use of a `.dist(dims=...)` API is not supported."
     ]
    }
   ],
   "source": [
    "with pm.Model(coords={\"time\": hr}) as sPPCA:\n",
    "    #dati osservabili\n",
    "    hr_data = pm.MutableData(\"hr_data\", hr.T)\n",
    "    pupil_data = pm.MutableData(\"pupil_data\", pupil.T)\n",
    "    eda_data = pm.MutableData(\"eda_data\", eda.T)\n",
    "\n",
    "    e_data = pm.ConstantData(\"e_data\", e_labels.T)\n",
    "\n",
    "    #matrici pesi\n",
    "    Whr = pm.Normal('Whr', mu=at.zeros([D_hr, K]), sigma=2.0 * at.ones([D_hr, K]), shape=[D_hr, K])\n",
    "    Wpupil = pm.Normal('Wpupil', mu=at.zeros([D_pupil, K]), sigma=2.0 * at.ones([D_pupil, K]), shape=[D_pupil, K])\n",
    "\n",
    "    Weda = pm.Normal('Weda', mu=at.zeros([D_eda, K]), sigma=2.0 * at.ones([D_eda, K]), shape=[D_eda, K])\n",
    "\n",
    "    #weight matrix for pain expectation.\n",
    "    #check mu,sigma,shape\n",
    "    We = pm.Normal('W_e', mu=at.zeros([D_e, K]), sigma=2.0 * at.ones([D_e,K]), shape=[D_e, K])\n",
    "\n",
    "    #latent space\n",
    "    c = pm.Normal('c', mu=at.zeros([N_hr,K]), sigma=at.ones([N_hr,K]), shape=[N_hr,K])\n",
    "\n",
    "    # dati dell'hrv interpretati come una gaussiana\n",
    "    sigma_alpha_hr = pm.Exponential(\"sigma_alpha\", 50.0)\n",
    "    x_hr = pm.GaussianRandomWalk('x_hr', sigma=sigma_alpha_hr, init_dist=pm.Normal.dist(mu=0,sigma=1,dims = 'time'))\n",
    "\n",
    "    '''\n",
    "    x_hr = pm.Normal('x_hr', mu=Whr.dot(c.T), sigma=at.ones([D_hr,N_hr]) ,shape=[D_hr, N_hr], observed=hr_data)\n",
    "    '''\n",
    "\n",
    "    # dati della dilatazione pupille interpretati come una gaussiana\n",
    "    x_pupil = pm.Normal('x_pupil', mu=Wpupil.dot(c.T), sigma=at.ones([D_pupil, N_pupil]), shape=[D_pupil, N_pupil], observed=pupil_data)\n",
    "    #eda\n",
    "    x_eda = pm.Normal('x_eda',mu=Weda.dot(c.T),sigma= at.ones([D_eda,N_pupil]), shape=[D_eda,N_eda], observed=eda_data)\n",
    "\n",
    "    # pain expectation. ciò che dovremmo inferire dato c\n",
    "    # due strade: binary o multiclass (1-4)\n",
    "    # p = probability of success?\n",
    "    x_e = pm.Bernoulli('x_e' , p=pm.math.sigmoid(We.dot(c.T)) , shape =[D_e, N_e], observed=e_data)\n",
    "\n",
    "    #x_hr = pm.Bernoulli('x_hr', p=pm.math.sigmoid(Whr.dot(c.T)), shape=[D_hr, N_hr], observed=hr_data)\n",
    "    #x_eda = pm.Bernoulli('x_eda', p=pm.math.sigmoid(Weda.dot(c.T)), shape=[D_eda, N_eda], observed=eda_data)"
   ]
  },
  {
   "cell_type": "code",
   "execution_count": null,
   "outputs": [],
   "source": [
    "with pm.Model(coords={\"time\": hr}) as sPPCA:\n",
    "    #dati osservabili\n",
    "    hr_data = pm.MutableData(\"hr_data\", hr.T)\n",
    "    e_data = pm.ConstantData(\"e_data\", e_labels.T)\n",
    "\n",
    "    #matrici pesi\n",
    "    Whr = pm.Normal('Whr', mu=at.zeros([D_hr, K]), sigma=2.0 * at.ones([D_hr, K]), shape=[D_hr, K])\n",
    "\n",
    "    We = pm.Normal('W_e', mu=at.zeros([D_e, K]), sigma=2.0 * at.ones([D_e,K]), shape=[D_e, K])\n",
    "\n",
    "    #latent space\n",
    "    c = pm.Normal('c', mu=at.zeros([N_hr,K]), sigma=at.ones([N_hr,K]), shape=[N_hr,K])\n",
    "\n",
    "    # dati dell'hrv interpretati come una gaussiana\n",
    "    sigma_alpha_hr = pm.Exponential(\"sigma_alpha\", 50.0)\n",
    "    x_hr = pm.GaussianRandomWalk('x_hr', sigma=sigma_alpha_hr, init_dist=pm.Normal.dist(mu=Whr.dot(c.T),sigma=sigma=at.ones([D_hr,N_hr])),dims = 'time')\n",
    "\n",
    "    x_e = pm.Bernoulli('x_e' , p=pm.math.sigmoid(We.dot(c.T)) , shape =[D_e, N_e], observed=e_data)"
   ],
   "metadata": {
    "collapsed": false
   }
  },
  {
   "cell_type": "code",
   "execution_count": null,
   "outputs": [],
   "source": [
    "gv = pm.model_to_graphviz(sPPCA)\n",
    "gv.view()"
   ],
   "metadata": {
    "collapsed": false
   }
  },
  {
   "cell_type": "markdown",
   "source": [],
   "metadata": {
    "collapsed": false
   }
  },
  {
   "cell_type": "code",
   "execution_count": null,
   "outputs": [],
   "source": [
    "sPPCA.free_RVs"
   ],
   "metadata": {
    "collapsed": false
   }
  },
  {
   "cell_type": "code",
   "execution_count": null,
   "outputs": [],
   "source": [
    "with sPPCA:\n",
    "    approx = pm.fit(100000, callbacks=[pm.callbacks.CheckParametersConvergence(tolerance=1e-4)])\n",
    "    trace = approx.sample(500)\n",
    "\n",
    "'''with sPPCA:\n",
    "    trace = pm.sample(1000,init='advi+adapt_diag',chains=1,target_accept=0.95)'''"
   ],
   "metadata": {
    "collapsed": false
   }
  },
  {
   "cell_type": "code",
   "execution_count": null,
   "outputs": [],
   "source": [
    "#az.plot_posterior(mean_field.sample(1000), color=\"LightSeaGreen\")\n",
    "az.plot_trace(trace)\n",
    "plt.show()"
   ],
   "metadata": {
    "collapsed": false
   }
  },
  {
   "cell_type": "code",
   "execution_count": null,
   "outputs": [],
   "source": [
    "with sPPCA:\n",
    "    # update values of predictors:\n",
    "    pm.set_data({\"pupil_data\": pupil,\"hr_data\":hr,\"eda_data\":eda})\n",
    "    # use the updated values and predict outcomes and probabilities:\n",
    "    posterior_predictive = pm.sample_posterior_predictive(\n",
    "        trace, random_seed=123)"
   ],
   "metadata": {
    "collapsed": false
   }
  },
  {
   "cell_type": "code",
   "execution_count": null,
   "outputs": [],
   "source": [
    "e_pred = posterior_predictive.posterior_predictive[\"x_e\"]"
   ],
   "metadata": {
    "collapsed": false
   }
  },
  {
   "cell_type": "code",
   "execution_count": null,
   "outputs": [],
   "source": [
    "e_pred_mode = np.squeeze(stats.mode(e_pred[0], keepdims=False)[0])[:,np.newaxis]"
   ],
   "metadata": {
    "collapsed": false
   }
  },
  {
   "cell_type": "code",
   "execution_count": null,
   "outputs": [],
   "source": [
    "e_pred_mode"
   ],
   "metadata": {
    "collapsed": false
   }
  },
  {
   "cell_type": "code",
   "execution_count": null,
   "outputs": [],
   "source": [
    "e_labels"
   ],
   "metadata": {
    "collapsed": false
   }
  },
  {
   "cell_type": "code",
   "execution_count": null,
   "outputs": [],
   "source": [
    "train_accuracy_exp = accuracy_score(e_labels, e_pred_mode)\n",
    "print('\\n\\tTrain Accuracy Pain Expectation: ' + str(train_accuracy_exp))\n",
    "print(' ')"
   ],
   "metadata": {
    "collapsed": false
   }
  },
  {
   "cell_type": "markdown",
   "source": [
    "--------------------------------------------------------------------------------------------"
   ],
   "metadata": {
    "collapsed": false
   }
  },
  {
   "cell_type": "code",
   "execution_count": null,
   "outputs": [],
   "source": [
    "hr_pred_mean = (stats.median_abs_deviation(hr_pred[0]))[0]\n",
    "hr_pred_mean"
   ],
   "metadata": {
    "collapsed": false
   }
  },
  {
   "cell_type": "code",
   "execution_count": null,
   "outputs": [],
   "source": [
    "hr[0]"
   ],
   "metadata": {
    "collapsed": false
   }
  },
  {
   "cell_type": "code",
   "execution_count": null,
   "outputs": [],
   "source": [
    "#hr_pred_mode= pd.Series([0.006,0.01,0.02,0.003])"
   ],
   "metadata": {
    "collapsed": false
   }
  },
  {
   "cell_type": "markdown",
   "source": [
    "hr and hr_pred_mode devono avere same shape"
   ],
   "metadata": {
    "collapsed": false
   }
  },
  {
   "cell_type": "code",
   "execution_count": null,
   "outputs": [],
   "source": [
    "train_accuracy_hr = (np.subtract(hr[0], hr_pred_mean))\n",
    "print('\\n\\t avg distance hr: \\n' + str(train_accuracy_hr))\n",
    "#print(' ')"
   ],
   "metadata": {
    "collapsed": false
   }
  },
  {
   "cell_type": "code",
   "execution_count": null,
   "outputs": [],
   "source": [
    "with sPPCA:\n",
    "    # update values of predictors:\n",
    "    pm.set_data({\"hr_data\": hr})\n",
    "    # use the updated values and predict outcomes and probabilities:\n",
    "    posterior_predictive = pm.sample_posterior_predictive(\n",
    "        trace, random_seed=123)\n",
    "    gaze_pred = posterior_predictive.posterior_predictive[\"x_gaze\"]"
   ],
   "metadata": {
    "collapsed": false
   }
  },
  {
   "cell_type": "code",
   "execution_count": null,
   "outputs": [],
   "source": [
    "gaze_pred"
   ],
   "metadata": {
    "collapsed": false
   }
  },
  {
   "cell_type": "code",
   "execution_count": null,
   "outputs": [],
   "source": [
    "gaze_pred_mean = np.mean(gaze_pred, axis=0).T.reshape(-1)\n",
    "gaze_true = pupil.reshape(-1)\n",
    "reconstructed_r2 = metrics.r2_score(gaze_true, gaze_pred_mean)\n",
    "\n",
    "print('\\n\\tReconstructed X R2 score: ' + str(reconstructed_r2))"
   ],
   "metadata": {
    "collapsed": false
   }
  },
  {
   "cell_type": "code",
   "execution_count": null,
   "outputs": [],
   "source": [
    "import deepemogp.feature_extractor as feature_extractor"
   ],
   "metadata": {
    "collapsed": false
   }
  },
  {
   "cell_type": "code",
   "execution_count": null,
   "outputs": [],
   "source": [
    "f = feature_extractor.FE('wavelet', window=(8,6), params={'w_mother':'db3','w_maxlev':1})"
   ],
   "metadata": {
    "collapsed": false
   }
  },
  {
   "cell_type": "code",
   "execution_count": null,
   "outputs": [],
   "source": [
    "x = [3, 7, 1, 1, -2, 5, 4, 6]"
   ],
   "metadata": {
    "collapsed": false
   }
  },
  {
   "cell_type": "code",
   "execution_count": null,
   "outputs": [],
   "source": [
    "f.apply(x)"
   ],
   "metadata": {
    "collapsed": false
   }
  },
  {
   "cell_type": "code",
   "execution_count": null,
   "outputs": [],
   "source": [],
   "metadata": {
    "collapsed": false
   }
  }
 ],
 "metadata": {
  "kernelspec": {
   "display_name": "Python 3",
   "language": "python",
   "name": "python3"
  },
  "language_info": {
   "codemirror_mode": {
    "name": "ipython",
    "version": 2
   },
   "file_extension": ".py",
   "mimetype": "text/x-python",
   "name": "python",
   "nbconvert_exporter": "python",
   "pygments_lexer": "ipython2",
   "version": "2.7.6"
  }
 },
 "nbformat": 4,
 "nbformat_minor": 0
}
