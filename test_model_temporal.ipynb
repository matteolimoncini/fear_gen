{
 "cells": [
  {
   "cell_type": "code",
   "execution_count": 23,
   "outputs": [],
   "source": [
    "import numpy as np\n",
    "import pandas as pd\n",
    "import pymc as pm\n",
    "import matplotlib.pyplot as plt\n",
    "import aesara.tensor as at\n",
    "import arviz as az\n",
    "from sklearn.metrics import accuracy_score\n",
    "from sklearn.preprocessing import StandardScaler\n",
    "import sklearn.metrics as metrics\n",
    "from scipy import stats\n",
    "import warnings\n",
    "\n",
    "from deepemogp import feature_extractor\n",
    "from deepemogp.signal import physio as physio\n",
    "from deepemogp import datasets as datasets\n",
    "from deepemogp.signal import behavior as behavior"
   ],
   "metadata": {
    "collapsed": false
   }
  },
  {
   "cell_type": "code",
   "execution_count": 24,
   "outputs": [],
   "source": [
    "warnings.simplefilter(action=\"ignore\", category=FutureWarning)\n",
    "scaler = StandardScaler()"
   ],
   "metadata": {
    "collapsed": false
   }
  },
  {
   "cell_type": "code",
   "execution_count": 25,
   "outputs": [
    {
     "name": "stdout",
     "output_type": "stream",
     "text": [
      ">> Loading HR for subject 45 and all sessions from dataset FEAR\n",
      ">> Loading EDA for subject 45 and all sessions from dataset FEAR\n",
      ">> Loading PUPIL for subject 45 and all sessions from dataset FEAR\n",
      ">> Processing HR ... using neurokit\n"
     ]
    },
    {
     "name": "stderr",
     "output_type": "stream",
     "text": [
      "/home/paolo/matteo/matteo/unimi/tesi_master/code/my_env/lib/python3.8/site-packages/numpy/core/fromnumeric.py:3474: RuntimeWarning: Mean of empty slice.\n",
      "  return _methods._mean(a, axis=axis, dtype=dtype,\n",
      "/home/paolo/matteo/matteo/unimi/tesi_master/code/my_env/lib/python3.8/site-packages/numpy/core/_methods.py:189: RuntimeWarning: invalid value encountered in double_scalars\n",
      "  ret = ret.dtype.type(ret / rcount)\n",
      "/home/paolo/matteo/matteo/unimi/tesi_master/code/my_env/lib/python3.8/site-packages/numpy/core/fromnumeric.py:3474: RuntimeWarning: Mean of empty slice.\n",
      "  return _methods._mean(a, axis=axis, dtype=dtype,\n",
      "/home/paolo/matteo/matteo/unimi/tesi_master/code/my_env/lib/python3.8/site-packages/numpy/core/_methods.py:189: RuntimeWarning: invalid value encountered in double_scalars\n",
      "  ret = ret.dtype.type(ret / rcount)\n",
      "/home/paolo/matteo/matteo/unimi/tesi_master/code/my_env/lib/python3.8/site-packages/numpy/core/fromnumeric.py:3474: RuntimeWarning: Mean of empty slice.\n",
      "  return _methods._mean(a, axis=axis, dtype=dtype,\n",
      "/home/paolo/matteo/matteo/unimi/tesi_master/code/my_env/lib/python3.8/site-packages/numpy/core/_methods.py:189: RuntimeWarning: invalid value encountered in double_scalars\n",
      "  ret = ret.dtype.type(ret / rcount)\n",
      "/home/paolo/matteo/matteo/unimi/tesi_master/code/my_env/lib/python3.8/site-packages/numpy/core/fromnumeric.py:3474: RuntimeWarning: Mean of empty slice.\n",
      "  return _methods._mean(a, axis=axis, dtype=dtype,\n",
      "/home/paolo/matteo/matteo/unimi/tesi_master/code/my_env/lib/python3.8/site-packages/numpy/core/_methods.py:189: RuntimeWarning: invalid value encountered in double_scalars\n",
      "  ret = ret.dtype.type(ret / rcount)\n",
      "/home/paolo/matteo/matteo/unimi/tesi_master/code/my_env/lib/python3.8/site-packages/numpy/core/fromnumeric.py:3474: RuntimeWarning: Mean of empty slice.\n",
      "  return _methods._mean(a, axis=axis, dtype=dtype,\n",
      "/home/paolo/matteo/matteo/unimi/tesi_master/code/my_env/lib/python3.8/site-packages/numpy/core/_methods.py:189: RuntimeWarning: invalid value encountered in double_scalars\n",
      "  ret = ret.dtype.type(ret / rcount)\n",
      "/home/paolo/matteo/matteo/unimi/tesi_master/code/my_env/lib/python3.8/site-packages/numpy/core/fromnumeric.py:3474: RuntimeWarning: Mean of empty slice.\n",
      "  return _methods._mean(a, axis=axis, dtype=dtype,\n",
      "/home/paolo/matteo/matteo/unimi/tesi_master/code/my_env/lib/python3.8/site-packages/numpy/core/_methods.py:189: RuntimeWarning: invalid value encountered in double_scalars\n",
      "  ret = ret.dtype.type(ret / rcount)\n",
      "/home/paolo/matteo/matteo/unimi/tesi_master/code/my_env/lib/python3.8/site-packages/numpy/core/fromnumeric.py:3474: RuntimeWarning: Mean of empty slice.\n",
      "  return _methods._mean(a, axis=axis, dtype=dtype,\n",
      "/home/paolo/matteo/matteo/unimi/tesi_master/code/my_env/lib/python3.8/site-packages/numpy/core/_methods.py:189: RuntimeWarning: invalid value encountered in double_scalars\n",
      "  ret = ret.dtype.type(ret / rcount)\n",
      "/home/paolo/matteo/matteo/unimi/tesi_master/code/my_env/lib/python3.8/site-packages/numpy/core/fromnumeric.py:3474: RuntimeWarning: Mean of empty slice.\n",
      "  return _methods._mean(a, axis=axis, dtype=dtype,\n",
      "/home/paolo/matteo/matteo/unimi/tesi_master/code/my_env/lib/python3.8/site-packages/numpy/core/_methods.py:189: RuntimeWarning: invalid value encountered in double_scalars\n",
      "  ret = ret.dtype.type(ret / rcount)\n",
      "/home/paolo/matteo/matteo/unimi/tesi_master/code/my_env/lib/python3.8/site-packages/numpy/core/fromnumeric.py:3474: RuntimeWarning: Mean of empty slice.\n",
      "  return _methods._mean(a, axis=axis, dtype=dtype,\n",
      "/home/paolo/matteo/matteo/unimi/tesi_master/code/my_env/lib/python3.8/site-packages/numpy/core/_methods.py:189: RuntimeWarning: invalid value encountered in double_scalars\n",
      "  ret = ret.dtype.type(ret / rcount)\n",
      "/home/paolo/matteo/matteo/unimi/tesi_master/code/my_env/lib/python3.8/site-packages/numpy/core/fromnumeric.py:3474: RuntimeWarning: Mean of empty slice.\n",
      "  return _methods._mean(a, axis=axis, dtype=dtype,\n",
      "/home/paolo/matteo/matteo/unimi/tesi_master/code/my_env/lib/python3.8/site-packages/numpy/core/_methods.py:189: RuntimeWarning: invalid value encountered in double_scalars\n",
      "  ret = ret.dtype.type(ret / rcount)\n",
      "/home/paolo/matteo/matteo/unimi/tesi_master/code/my_env/lib/python3.8/site-packages/numpy/core/fromnumeric.py:3474: RuntimeWarning: Mean of empty slice.\n",
      "  return _methods._mean(a, axis=axis, dtype=dtype,\n",
      "/home/paolo/matteo/matteo/unimi/tesi_master/code/my_env/lib/python3.8/site-packages/numpy/core/_methods.py:189: RuntimeWarning: invalid value encountered in double_scalars\n",
      "  ret = ret.dtype.type(ret / rcount)\n",
      "/home/paolo/matteo/matteo/unimi/tesi_master/code/my_env/lib/python3.8/site-packages/numpy/core/fromnumeric.py:3474: RuntimeWarning: Mean of empty slice.\n",
      "  return _methods._mean(a, axis=axis, dtype=dtype,\n",
      "/home/paolo/matteo/matteo/unimi/tesi_master/code/my_env/lib/python3.8/site-packages/numpy/core/_methods.py:189: RuntimeWarning: invalid value encountered in double_scalars\n",
      "  ret = ret.dtype.type(ret / rcount)\n",
      "/home/paolo/matteo/matteo/unimi/tesi_master/code/my_env/lib/python3.8/site-packages/numpy/core/fromnumeric.py:3474: RuntimeWarning: Mean of empty slice.\n",
      "  return _methods._mean(a, axis=axis, dtype=dtype,\n",
      "/home/paolo/matteo/matteo/unimi/tesi_master/code/my_env/lib/python3.8/site-packages/numpy/core/_methods.py:189: RuntimeWarning: invalid value encountered in double_scalars\n",
      "  ret = ret.dtype.type(ret / rcount)\n"
     ]
    },
    {
     "name": "stdout",
     "output_type": "stream",
     "text": [
      ">> Extracting mean features from HR signal, adopting (1, 0) window ...\n",
      ">> Processing EDA ...\n",
      ">> Extracting mean features from EDA signal, adopting (1, 0) window ...\n",
      ">> Extracting mean features from PUPIL signal, adopting (1, 0) window ...\n"
     ]
    }
   ],
   "source": [
    "show = False\n",
    "# definition of the feature extractors to be used later\n",
    "f2 = feature_extractor.FE('wavelet', window=(2, 1))\n",
    "f3 = feature_extractor.FE('mean', window=(1,0))\n",
    "\n",
    "# definition of the physiological signals to be extracted\n",
    "eda_ = physio.EDA(f3)\n",
    "hr_ = physio.HR(f3)\n",
    "pupil_ = behavior.PUPIL(f3)\n",
    "\n",
    "\n",
    "# extraction of the desired data from the dataset\n",
    "d = datasets.FEAR(signals={hr_,pupil_,eda_}, subjects={'45'})\n",
    "\n",
    "for s in d.signals:\n",
    "    # preprocess ...\n",
    "    if s.name =='EDA':\n",
    "        s.preprocess(show=show,new_fps=500)\n",
    "        s.feature_ext.extract_feat(s,show=show)\n",
    "    else:\n",
    "        if s.name == 'HR':\n",
    "            list_hr_test = s.raw[0]['data']\n",
    "            s.preprocess(show=show, useneurokit=True)\n",
    "            s.feature_ext.extract_feat(s,show=show)\n",
    "\n",
    "        else:\n",
    "            s.feature_ext.extract_feat_without_preprocess(s, show=show)\n",
    "\n",
    "for sig in d.signals:\n",
    "    if sig.name=='EDA':\n",
    "        eda_data = sig.features\n",
    "    if sig.name=='HR':\n",
    "        hr_data = sig.features\n",
    "    if sig.name=='PUPIL':\n",
    "        pupil_data = sig.features"
   ],
   "metadata": {
    "collapsed": false
   }
  },
  {
   "cell_type": "code",
   "execution_count": 26,
   "outputs": [],
   "source": [
    "TRIAL = 160\n",
    "hr = np.array(hr_data)\n",
    "hr = hr.reshape((TRIAL, int(hr.shape[0] / TRIAL * hr.shape[1])))\n",
    "pupil = np.array(pupil_data)\n",
    "pupil = pupil.reshape((TRIAL, int(pupil.shape[0] / TRIAL * pupil.shape[1])))\n",
    "eda = np.array(eda_data)\n",
    "eda = eda.reshape((TRIAL, int(eda.shape[0] / TRIAL * eda.shape[1])))"
   ],
   "metadata": {
    "collapsed": false
   }
  },
  {
   "cell_type": "code",
   "execution_count": 27,
   "outputs": [
    {
     "data": {
      "text/plain": "{'time': array([0, 1, 2, 3, 4, 5]),\n 'hr_': array([141.8857144 , 158.83336858, 138.11937399, 117.17355808,\n        128.07816207, 149.82723018]),\n 'eda_': array([0.0937623 , 0.09504591, 0.25697509, 0.29961651, 0.2227497 ,\n        0.35046481])}"
     },
     "execution_count": 27,
     "metadata": {},
     "output_type": "execute_result"
    }
   ],
   "source": [
    "trial_i = 113\n",
    "index = np.arange(6)\n",
    "hr_trial = hr[trial_i]\n",
    "eda_trial = eda[trial_i]\n",
    "\n",
    "coords_ = {'time':index, 'hr_': hr_trial, 'eda_':eda_trial}\n",
    "coords_"
   ],
   "metadata": {
    "collapsed": false
   }
  },
  {
   "cell_type": "code",
   "execution_count": 28,
   "outputs": [],
   "source": [
    "with pm.Model(coords=coords_) as rolling:\n",
    "    sigma_alpha = pm.Exponential(\"sigma_alpha\", 50.0)\n",
    "    sigma_beta = pm.Exponential(\"sigma_beta\", 50.0)\n",
    "\n",
    "    alpha = pm.GaussianRandomWalk(\n",
    "        \"alpha\", sigma=sigma_alpha, init_dist=pm.Normal.dist(0, 10), dims=\"time\"\n",
    "    )\n",
    "    beta = pm.GaussianRandomWalk(\n",
    "        \"beta\", sigma=sigma_beta, init_dist=pm.Normal.dist(0, 10), dims=\"time\"\n",
    "    )\n",
    "    regression = alpha + beta * hr\n",
    "\n",
    "    # Assume eda data are Normally distributed, the mean comes from the regression.\n",
    "    sd = pm.HalfNormal(\"sd\", sigma=0.1)\n",
    "    likelihood = pm.Normal(\"y\", mu=regression, sigma=sd, observed=eda)"
   ],
   "metadata": {
    "collapsed": false
   }
  },
  {
   "cell_type": "code",
   "execution_count": 29,
   "outputs": [
    {
     "data": {
      "text/plain": "'rolling_regr.pdf'"
     },
     "execution_count": 29,
     "metadata": {},
     "output_type": "execute_result"
    }
   ],
   "source": [
    "graph_rolling = pm.model_to_graphviz(rolling)\n",
    "graph_rolling.view('rolling_regr')"
   ],
   "metadata": {
    "collapsed": false
   }
  },
  {
   "cell_type": "code",
   "execution_count": 30,
   "outputs": [
    {
     "name": "stderr",
     "output_type": "stream",
     "text": [
      "/home/paolo/matteo/matteo/unimi/tesi_master/code/my_env/lib/python3.8/site-packages/aeppl/joint_logprob.py:130: UserWarning: Found a random variable that was neither among the observations nor the conditioned variables: [normal_rv{0, (0, 0), floatX, False}.0, normal_rv{0, (0, 0), floatX, False}.out]\n",
      "  warnings.warn(\n",
      "qt5ct: using qt5ct plugin\n",
      "/home/paolo/matteo/matteo/unimi/tesi_master/code/my_env/lib/python3.8/site-packages/aeppl/joint_logprob.py:130: UserWarning: Found a random variable that was neither among the observations nor the conditioned variables: [normal_rv{0, (0, 0), floatX, False}.0, normal_rv{0, (0, 0), floatX, False}.out]\n",
      "  warnings.warn(\n",
      "Invalid Context= \"Apps\" line for icon theme:  \"/usr/share/icons/Mint-Y/apps/16/\"\n",
      "Invalid Context= \"Apps\" line for icon theme:  \"/usr/share/icons/Mint-Y/apps/16@2x/\"\n",
      "Invalid Context= \"Mimetypes\" line for icon theme:  \"/usr/share/icons/Mint-Y/mimetypes/16/\"\n",
      "Invalid Context= \"Mimetypes\" line for icon theme:  \"/usr/share/icons/Mint-Y/mimetypes/16@2x/\"\n",
      "Invalid Context= \"Apps\" line for icon theme:  \"/usr/share/icons/Mint-Y/apps/22/\"\n",
      "Invalid Context= \"Apps\" line for icon theme:  \"/usr/share/icons/Mint-Y/apps/22@2x/\"\n",
      "Invalid Context= \"Apps\" line for icon theme:  \"/usr/share/icons/Mint-Y/apps/24/\"\n",
      "Invalid Context= \"Apps\" line for icon theme:  \"/usr/share/icons/Mint-Y/apps/24@2x/\"\n",
      "Invalid Context= \"Mimetypes\" line for icon theme:  \"/usr/share/icons/Mint-Y/mimetypes/24/\"\n",
      "Invalid Context= \"Mimetypes\" line for icon theme:  \"/usr/share/icons/Mint-Y/mimetypes/24@2x/\"\n",
      "Invalid Context= \"Apps\" line for icon theme:  \"/usr/share/icons/Mint-Y/apps/32/\"\n",
      "Invalid Context= \"Apps\" line for icon theme:  \"/usr/share/icons/Mint-Y/apps/32@2x/\"\n",
      "Invalid Context= \"Mimetypes\" line for icon theme:  \"/usr/share/icons/Mint-Y/mimetypes/32/\"\n",
      "Invalid Context= \"Mimetypes\" line for icon theme:  \"/usr/share/icons/Mint-Y/mimetypes/32@2x/\"\n",
      "Invalid Context= \"Apps\" line for icon theme:  \"/usr/share/icons/Mint-Y/apps/48/\"\n",
      "Invalid Context= \"Apps\" line for icon theme:  \"/usr/share/icons/Mint-Y/apps/48@2x/\"\n",
      "Invalid Context= \"Mimetypes\" line for icon theme:  \"/usr/share/icons/Mint-Y/mimetypes/48/\"\n",
      "Invalid Context= \"Mimetypes\" line for icon theme:  \"/usr/share/icons/Mint-Y/mimetypes/48@2x/\"\n",
      "Invalid Context= \"Apps\" line for icon theme:  \"/usr/share/icons/Mint-Y/apps/64/\"\n",
      "Invalid Context= \"Apps\" line for icon theme:  \"/usr/share/icons/Mint-Y/apps/64@2x/\"\n",
      "Invalid Context= \"Mimetypes\" line for icon theme:  \"/usr/share/icons/Mint-Y/mimetypes/64/\"\n",
      "Invalid Context= \"Mimetypes\" line for icon theme:  \"/usr/share/icons/Mint-Y/mimetypes/64@2x/\"\n",
      "Invalid Context= \"Apps\" line for icon theme:  \"/usr/share/icons/Mint-Y/apps/96/\"\n",
      "Invalid Context= \"Apps\" line for icon theme:  \"/usr/share/icons/Mint-Y/apps/96@2x/\"\n",
      "Invalid Context= \"Mimetypes\" line for icon theme:  \"/usr/share/icons/Mint-Y/mimetypes/128/\"\n",
      "Invalid Context= \"Mimetypes\" line for icon theme:  \"/usr/share/icons/Mint-Y/mimetypes/128@2x/\"\n",
      "Invalid Context= \"Apps\" line for icon theme:  \"/usr/share/icons/Mint-Y/apps/256/\"\n",
      "Invalid Context= \"Apps\" line for icon theme:  \"/usr/share/icons/Mint-Y/apps/256@2x/\"\n",
      "Invalid Context= \"Apps\" line for icon theme:  \"/usr/share/icons/Mint-Y/apps/symbolic/\"\n",
      "Invalid Context= \"Mimetypes\" line for icon theme:  \"/usr/share/icons/Mint-Y/mimetypes/symbolic/\"\n",
      "Invalid Context= \"Legacy\" line for icon theme:  \"/usr/share/icons/Adwaita/8x8/legacy/\"\n",
      "Invalid Context= \"Legacy\" line for icon theme:  \"/usr/share/icons/Adwaita/16x16/legacy/\"\n",
      "Invalid Context= \"UI\" line for icon theme:  \"/usr/share/icons/Adwaita/16x16/ui/\"\n",
      "Invalid Context= \"Legacy\" line for icon theme:  \"/usr/share/icons/Adwaita/22x22/legacy/\"\n",
      "Invalid Context= \"Legacy\" line for icon theme:  \"/usr/share/icons/Adwaita/24x24/legacy/\"\n",
      "Invalid Context= \"UI\" line for icon theme:  \"/usr/share/icons/Adwaita/24x24/ui/\"\n",
      "Invalid Context= \"Legacy\" line for icon theme:  \"/usr/share/icons/Adwaita/32x32/legacy/\"\n",
      "Invalid Context= \"UI\" line for icon theme:  \"/usr/share/icons/Adwaita/32x32/ui/\"\n",
      "Invalid Context= \"Legacy\" line for icon theme:  \"/usr/share/icons/Adwaita/48x48/legacy/\"\n",
      "Invalid Context= \"UI\" line for icon theme:  \"/usr/share/icons/Adwaita/48x48/ui/\"\n",
      "Invalid Context= \"Legacy\" line for icon theme:  \"/usr/share/icons/Adwaita/64x64/legacy/\"\n",
      "Invalid Context= \"UI\" line for icon theme:  \"/usr/share/icons/Adwaita/64x64/ui/\"\n",
      "Invalid Context= \"Legacy\" line for icon theme:  \"/usr/share/icons/Adwaita/96x96/legacy/\"\n",
      "Invalid Context= \"UI\" line for icon theme:  \"/usr/share/icons/Adwaita/96x96/ui/\"\n",
      "Invalid Context= \"Legacy\" line for icon theme:  \"/usr/share/icons/Adwaita/256x256/legacy/\"\n",
      "Invalid Context= \"Legacy\" line for icon theme:  \"/usr/share/icons/Adwaita/512x512/legacy/\"\n",
      "Invalid Context= \"Legacy\" line for icon theme:  \"/usr/share/icons/Adwaita/scalable/legacy/\"\n",
      "Invalid Context= \"UI\" line for icon theme:  \"/usr/share/icons/Adwaita/scalable/ui/\"\n",
      "qt5ct: D-Bus global menu: no\n",
      "Invalid Context= \"Apps\" line for icon theme:  \"/usr/share/icons/Mint-Y/apps/16/\"\n",
      "Invalid Context= \"Apps\" line for icon theme:  \"/usr/share/icons/Mint-Y/apps/16@2x/\"\n",
      "Invalid Context= \"Mimetypes\" line for icon theme:  \"/usr/share/icons/Mint-Y/mimetypes/16/\"\n",
      "Invalid Context= \"Mimetypes\" line for icon theme:  \"/usr/share/icons/Mint-Y/mimetypes/16@2x/\"\n",
      "Invalid Context= \"Apps\" line for icon theme:  \"/usr/share/icons/Mint-Y/apps/22/\"\n",
      "Invalid Context= \"Apps\" line for icon theme:  \"/usr/share/icons/Mint-Y/apps/22@2x/\"\n",
      "Invalid Context= \"Apps\" line for icon theme:  \"/usr/share/icons/Mint-Y/apps/24/\"\n",
      "Invalid Context= \"Apps\" line for icon theme:  \"/usr/share/icons/Mint-Y/apps/24@2x/\"\n",
      "Invalid Context= \"Mimetypes\" line for icon theme:  \"/usr/share/icons/Mint-Y/mimetypes/24/\"\n",
      "Invalid Context= \"Mimetypes\" line for icon theme:  \"/usr/share/icons/Mint-Y/mimetypes/24@2x/\"\n",
      "Invalid Context= \"Apps\" line for icon theme:  \"/usr/share/icons/Mint-Y/apps/32/\"\n",
      "Invalid Context= \"Apps\" line for icon theme:  \"/usr/share/icons/Mint-Y/apps/32@2x/\"\n",
      "Invalid Context= \"Mimetypes\" line for icon theme:  \"/usr/share/icons/Mint-Y/mimetypes/32/\"\n",
      "Invalid Context= \"Mimetypes\" line for icon theme:  \"/usr/share/icons/Mint-Y/mimetypes/32@2x/\"\n",
      "Invalid Context= \"Apps\" line for icon theme:  \"/usr/share/icons/Mint-Y/apps/48/\"\n",
      "Invalid Context= \"Apps\" line for icon theme:  \"/usr/share/icons/Mint-Y/apps/48@2x/\"\n",
      "Invalid Context= \"Mimetypes\" line for icon theme:  \"/usr/share/icons/Mint-Y/mimetypes/48/\"\n",
      "Invalid Context= \"Mimetypes\" line for icon theme:  \"/usr/share/icons/Mint-Y/mimetypes/48@2x/\"\n",
      "Invalid Context= \"Apps\" line for icon theme:  \"/usr/share/icons/Mint-Y/apps/64/\"\n",
      "Invalid Context= \"Apps\" line for icon theme:  \"/usr/share/icons/Mint-Y/apps/64@2x/\"\n",
      "Invalid Context= \"Mimetypes\" line for icon theme:  \"/usr/share/icons/Mint-Y/mimetypes/64/\"\n",
      "Invalid Context= \"Mimetypes\" line for icon theme:  \"/usr/share/icons/Mint-Y/mimetypes/64@2x/\"\n",
      "Invalid Context= \"Apps\" line for icon theme:  \"/usr/share/icons/Mint-Y/apps/96/\"\n",
      "Invalid Context= \"Apps\" line for icon theme:  \"/usr/share/icons/Mint-Y/apps/96@2x/\"\n",
      "Invalid Context= \"Mimetypes\" line for icon theme:  \"/usr/share/icons/Mint-Y/mimetypes/128/\"\n",
      "Invalid Context= \"Mimetypes\" line for icon theme:  \"/usr/share/icons/Mint-Y/mimetypes/128@2x/\"\n",
      "Invalid Context= \"Apps\" line for icon theme:  \"/usr/share/icons/Mint-Y/apps/256/\"\n",
      "Invalid Context= \"Apps\" line for icon theme:  \"/usr/share/icons/Mint-Y/apps/256@2x/\"\n",
      "Invalid Context= \"Apps\" line for icon theme:  \"/usr/share/icons/Mint-Y/apps/symbolic/\"\n",
      "Invalid Context= \"Mimetypes\" line for icon theme:  \"/usr/share/icons/Mint-Y/mimetypes/symbolic/\"\n",
      "Invalid Context= \"Legacy\" line for icon theme:  \"/usr/share/icons/Adwaita/8x8/legacy/\"\n",
      "Invalid Context= \"Legacy\" line for icon theme:  \"/usr/share/icons/Adwaita/16x16/legacy/\"\n",
      "Invalid Context= \"UI\" line for icon theme:  \"/usr/share/icons/Adwaita/16x16/ui/\"\n",
      "Invalid Context= \"Legacy\" line for icon theme:  \"/usr/share/icons/Adwaita/22x22/legacy/\"\n",
      "Invalid Context= \"Legacy\" line for icon theme:  \"/usr/share/icons/Adwaita/24x24/legacy/\"\n",
      "Invalid Context= \"UI\" line for icon theme:  \"/usr/share/icons/Adwaita/24x24/ui/\"\n",
      "Invalid Context= \"Legacy\" line for icon theme:  \"/usr/share/icons/Adwaita/32x32/legacy/\"\n",
      "Invalid Context= \"UI\" line for icon theme:  \"/usr/share/icons/Adwaita/32x32/ui/\"\n",
      "Invalid Context= \"Legacy\" line for icon theme:  \"/usr/share/icons/Adwaita/48x48/legacy/\"\n",
      "Invalid Context= \"UI\" line for icon theme:  \"/usr/share/icons/Adwaita/48x48/ui/\"\n",
      "Invalid Context= \"Legacy\" line for icon theme:  \"/usr/share/icons/Adwaita/64x64/legacy/\"\n",
      "Invalid Context= \"UI\" line for icon theme:  \"/usr/share/icons/Adwaita/64x64/ui/\"\n",
      "Invalid Context= \"Legacy\" line for icon theme:  \"/usr/share/icons/Adwaita/96x96/legacy/\"\n",
      "Invalid Context= \"UI\" line for icon theme:  \"/usr/share/icons/Adwaita/96x96/ui/\"\n",
      "Invalid Context= \"Legacy\" line for icon theme:  \"/usr/share/icons/Adwaita/256x256/legacy/\"\n",
      "Invalid Context= \"Legacy\" line for icon theme:  \"/usr/share/icons/Adwaita/512x512/legacy/\"\n",
      "Invalid Context= \"Legacy\" line for icon theme:  \"/usr/share/icons/Adwaita/scalable/legacy/\"\n",
      "Invalid Context= \"UI\" line for icon theme:  \"/usr/share/icons/Adwaita/scalable/ui/\"\n",
      "/home/paolo/matteo/matteo/unimi/tesi_master/code/my_env/lib/python3.8/site-packages/aeppl/joint_logprob.py:130: UserWarning: Found a random variable that was neither among the observations nor the conditioned variables: [normal_rv{0, (0, 0), floatX, False}.0, normal_rv{0, (0, 0), floatX, False}.out]\n",
      "  warnings.warn(\n",
      "/home/paolo/matteo/matteo/unimi/tesi_master/code/my_env/lib/python3.8/site-packages/aeppl/joint_logprob.py:130: UserWarning: Found a random variable that was neither among the observations nor the conditioned variables: [normal_rv{0, (0, 0), floatX, False}.0, normal_rv{0, (0, 0), floatX, False}.out]\n",
      "  warnings.warn(\n",
      "Auto-assigning NUTS sampler...\n",
      "Initializing NUTS using jitter+adapt_diag...\n",
      "/home/paolo/matteo/matteo/unimi/tesi_master/code/my_env/lib/python3.8/site-packages/aeppl/joint_logprob.py:130: UserWarning: Found a random variable that was neither among the observations nor the conditioned variables: [normal_rv{0, (0, 0), floatX, False}.0, normal_rv{0, (0, 0), floatX, False}.out]\n",
      "  warnings.warn(\n",
      "/home/paolo/matteo/matteo/unimi/tesi_master/code/my_env/lib/python3.8/site-packages/aeppl/joint_logprob.py:130: UserWarning: Found a random variable that was neither among the observations nor the conditioned variables: [normal_rv{0, (0, 0), floatX, False}.0, normal_rv{0, (0, 0), floatX, False}.out]\n",
      "  warnings.warn(\n",
      "/home/paolo/matteo/matteo/unimi/tesi_master/code/my_env/lib/python3.8/site-packages/aeppl/joint_logprob.py:130: UserWarning: Found a random variable that was neither among the observations nor the conditioned variables: [normal_rv{0, (0, 0), floatX, False}.0, normal_rv{0, (0, 0), floatX, False}.out]\n",
      "  warnings.warn(\n",
      "/home/paolo/matteo/matteo/unimi/tesi_master/code/my_env/lib/python3.8/site-packages/aeppl/joint_logprob.py:130: UserWarning: Found a random variable that was neither among the observations nor the conditioned variables: [normal_rv{0, (0, 0), floatX, False}.0, normal_rv{0, (0, 0), floatX, False}.out]\n",
      "  warnings.warn(\n",
      "/home/paolo/matteo/matteo/unimi/tesi_master/code/my_env/lib/python3.8/site-packages/aeppl/joint_logprob.py:130: UserWarning: Found a random variable that was neither among the observations nor the conditioned variables: [normal_rv{0, (0, 0), floatX, False}.0, normal_rv{0, (0, 0), floatX, False}.out]\n",
      "  warnings.warn(\n",
      "/home/paolo/matteo/matteo/unimi/tesi_master/code/my_env/lib/python3.8/site-packages/aeppl/joint_logprob.py:130: UserWarning: Found a random variable that was neither among the observations nor the conditioned variables: [normal_rv{0, (0, 0), floatX, False}.0, normal_rv{0, (0, 0), floatX, False}.out]\n",
      "  warnings.warn(\n",
      "/home/paolo/matteo/matteo/unimi/tesi_master/code/my_env/lib/python3.8/site-packages/aeppl/joint_logprob.py:130: UserWarning: Found a random variable that was neither among the observations nor the conditioned variables: [normal_rv{0, (0, 0), floatX, False}.0, normal_rv{0, (0, 0), floatX, False}.out]\n",
      "  warnings.warn(\n",
      "/home/paolo/matteo/matteo/unimi/tesi_master/code/my_env/lib/python3.8/site-packages/aeppl/joint_logprob.py:130: UserWarning: Found a random variable that was neither among the observations nor the conditioned variables: [normal_rv{0, (0, 0), floatX, False}.0, normal_rv{0, (0, 0), floatX, False}.out]\n",
      "  warnings.warn(\n",
      "/home/paolo/matteo/matteo/unimi/tesi_master/code/my_env/lib/python3.8/site-packages/aeppl/joint_logprob.py:130: UserWarning: Found a random variable that was neither among the observations nor the conditioned variables: [normal_rv{0, (0, 0), floatX, False}.0, normal_rv{0, (0, 0), floatX, False}.out]\n",
      "  warnings.warn(\n",
      "/home/paolo/matteo/matteo/unimi/tesi_master/code/my_env/lib/python3.8/site-packages/aeppl/joint_logprob.py:130: UserWarning: Found a random variable that was neither among the observations nor the conditioned variables: [normal_rv{0, (0, 0), floatX, False}.0, normal_rv{0, (0, 0), floatX, False}.out]\n",
      "  warnings.warn(\n",
      "Multiprocess sampling (2 chains in 2 jobs)\n",
      "NUTS: [sigma_alpha, sigma_beta, alpha, beta, sd]\n"
     ]
    },
    {
     "data": {
      "text/plain": "<IPython.core.display.HTML object>",
      "text/html": "\n<style>\n    /* Turns off some styling */\n    progress {\n        /* gets rid of default border in Firefox and Opera. */\n        border: none;\n        /* Needs to be in here for Safari polyfill so background images work as expected. */\n        background-size: auto;\n    }\n    progress:not([value]), progress:not([value])::-webkit-progress-bar {\n        background: repeating-linear-gradient(45deg, #7e7e7e, #7e7e7e 10px, #5c5c5c 10px, #5c5c5c 20px);\n    }\n    .progress-bar-interrupted, .progress-bar-interrupted::-webkit-progress-bar {\n        background: #F44336;\n    }\n</style>\n"
     },
     "metadata": {},
     "output_type": "display_data"
    },
    {
     "data": {
      "text/plain": "<IPython.core.display.HTML object>",
      "text/html": "\n    <div>\n      <progress value='0' class='' max='6000' style='width:300px; height:20px; vertical-align: middle;'></progress>\n      \n    </div>\n    "
     },
     "metadata": {},
     "output_type": "display_data"
    },
    {
     "name": "stderr",
     "output_type": "stream",
     "text": [
      "Sampling 2 chains for 2_000 tune and 1_000 draw iterations (4_000 + 2_000 draws total) took 254 seconds.\n",
      "There were 28 divergences after tuning. Increase `target_accept` or reparameterize.\n",
      "There were 29 divergences after tuning. Increase `target_accept` or reparameterize.\n",
      "/home/paolo/matteo/matteo/unimi/tesi_master/code/my_env/lib/python3.8/site-packages/aeppl/joint_logprob.py:130: UserWarning: Found a random variable that was neither among the observations nor the conditioned variables: [normal_rv{0, (0, 0), floatX, False}.0, normal_rv{0, (0, 0), floatX, False}.out]\n",
      "  warnings.warn(\n",
      "/home/paolo/matteo/matteo/unimi/tesi_master/code/my_env/lib/python3.8/site-packages/aeppl/joint_logprob.py:130: UserWarning: Found a random variable that was neither among the observations nor the conditioned variables: [normal_rv{0, (0, 0), floatX, False}.0, normal_rv{0, (0, 0), floatX, False}.out]\n",
      "  warnings.warn(\n"
     ]
    }
   ],
   "source": [
    "with rolling:\n",
    "    trace = pm.sample(tune=2000, target_accept=0.9)"
   ],
   "metadata": {
    "collapsed": false
   }
  },
  {
   "cell_type": "code",
   "execution_count": 31,
   "outputs": [
    {
     "name": "stderr",
     "output_type": "stream",
     "text": [
      "Sampling: [y]\n"
     ]
    },
    {
     "data": {
      "text/plain": "<IPython.core.display.HTML object>",
      "text/html": "\n<style>\n    /* Turns off some styling */\n    progress {\n        /* gets rid of default border in Firefox and Opera. */\n        border: none;\n        /* Needs to be in here for Safari polyfill so background images work as expected. */\n        background-size: auto;\n    }\n    progress:not([value]), progress:not([value])::-webkit-progress-bar {\n        background: repeating-linear-gradient(45deg, #7e7e7e, #7e7e7e 10px, #5c5c5c 10px, #5c5c5c 20px);\n    }\n    .progress-bar-interrupted, .progress-bar-interrupted::-webkit-progress-bar {\n        background: #F44336;\n    }\n</style>\n"
     },
     "metadata": {},
     "output_type": "display_data"
    },
    {
     "data": {
      "text/plain": "<IPython.core.display.HTML object>",
      "text/html": "\n    <div>\n      <progress value='0' class='' max='2000' style='width:300px; height:20px; vertical-align: middle;'></progress>\n      \n    </div>\n    "
     },
     "metadata": {},
     "output_type": "display_data"
    }
   ],
   "source": [
    "with rolling:\n",
    "    posterior_predictive = pm.sample_posterior_predictive(\n",
    "        trace, random_seed=123)"
   ],
   "metadata": {
    "collapsed": false
   }
  },
  {
   "cell_type": "code",
   "execution_count": 32,
   "outputs": [
    {
     "data": {
      "text/plain": "<xarray.DataArray 'y' (chain: 2, draw: 1000, y_dim_0: 160, y_dim_1: 6)>\narray([[[[-0.3523712 ,  0.47746538,  1.23568773,  2.03599992,\n           2.51387611,  2.05667809],\n         [-0.46743234,  1.13271595, -0.46391583,  1.99708601,\n           2.05527136,  1.65775381],\n         [-1.17944721,  0.48728551,  0.93096924, -2.11544319,\n           0.86796419, -0.18280123],\n         ...,\n         [ 2.00216262,  0.64900662,  2.11052003, -0.44869722,\n           1.04038769,  2.04170837],\n         [ 1.22658017,  0.75595633,  0.19065474,  1.51260067,\n          -1.88262766,  2.16305158],\n         [ 0.14945786,  1.39998079,  0.32780269,  3.69918425,\n           1.32112935,  2.55945068]],\n\n        [[-0.46511777,  0.91485803,  0.84449246,  0.75172286,\n           1.82357489,  2.72587594],\n         [ 0.38520192,  1.73778315,  1.58735791,  1.64476247,\n           0.76729433,  0.99216856],\n         [ 1.87414025, -0.40775869,  1.30823696,  1.40880819,\n           2.05188994,  2.66273394],\n...\n         [-0.17782878,  0.33850759,  2.93965993,  1.05567792,\n           2.65533317,  1.33554203],\n         [ 0.18536914,  1.49793319,  1.21839729, -0.15306171,\n           0.44187664,  3.32664754],\n         [-0.63191348,  2.35897942,  0.58412045,  2.42480503,\n           1.88259679,  2.83499026]],\n\n        [[-0.80140793,  0.08345321,  0.42853305,  2.45220148,\n           0.93357691,  1.87839433],\n         [-0.94517719,  1.03788754,  2.75882428,  2.1838196 ,\n          -0.10522192,  1.38014069],\n         [-1.61036314, -0.09240871,  1.46191826,  3.37041744,\n           2.67610243,  2.00605517],\n         ...,\n         [ 0.86618966,  0.44731651,  2.45745823,  0.58318893,\n           3.38196108,  2.16422937],\n         [ 0.58446255,  1.27783501,  1.53760043,  2.42894755,\n           0.38235678, -2.17306951],\n         [ 0.32032522, -0.26341086,  1.97016933,  4.48156294,\n           0.49420446,  2.28057985]]]])\nCoordinates:\n  * chain    (chain) int64 0 1\n  * draw     (draw) int64 0 1 2 3 4 5 6 7 8 ... 992 993 994 995 996 997 998 999\n  * y_dim_0  (y_dim_0) int64 0 1 2 3 4 5 6 7 ... 152 153 154 155 156 157 158 159\n  * y_dim_1  (y_dim_1) int64 0 1 2 3 4 5",
      "text/html": "<div><svg style=\"position: absolute; width: 0; height: 0; overflow: hidden\">\n<defs>\n<symbol id=\"icon-database\" viewBox=\"0 0 32 32\">\n<path d=\"M16 0c-8.837 0-16 2.239-16 5v4c0 2.761 7.163 5 16 5s16-2.239 16-5v-4c0-2.761-7.163-5-16-5z\"></path>\n<path d=\"M16 17c-8.837 0-16-2.239-16-5v6c0 2.761 7.163 5 16 5s16-2.239 16-5v-6c0 2.761-7.163 5-16 5z\"></path>\n<path d=\"M16 26c-8.837 0-16-2.239-16-5v6c0 2.761 7.163 5 16 5s16-2.239 16-5v-6c0 2.761-7.163 5-16 5z\"></path>\n</symbol>\n<symbol id=\"icon-file-text2\" viewBox=\"0 0 32 32\">\n<path d=\"M28.681 7.159c-0.694-0.947-1.662-2.053-2.724-3.116s-2.169-2.030-3.116-2.724c-1.612-1.182-2.393-1.319-2.841-1.319h-15.5c-1.378 0-2.5 1.121-2.5 2.5v27c0 1.378 1.122 2.5 2.5 2.5h23c1.378 0 2.5-1.122 2.5-2.5v-19.5c0-0.448-0.137-1.23-1.319-2.841zM24.543 5.457c0.959 0.959 1.712 1.825 2.268 2.543h-4.811v-4.811c0.718 0.556 1.584 1.309 2.543 2.268zM28 29.5c0 0.271-0.229 0.5-0.5 0.5h-23c-0.271 0-0.5-0.229-0.5-0.5v-27c0-0.271 0.229-0.5 0.5-0.5 0 0 15.499-0 15.5 0v7c0 0.552 0.448 1 1 1h7v19.5z\"></path>\n<path d=\"M23 26h-14c-0.552 0-1-0.448-1-1s0.448-1 1-1h14c0.552 0 1 0.448 1 1s-0.448 1-1 1z\"></path>\n<path d=\"M23 22h-14c-0.552 0-1-0.448-1-1s0.448-1 1-1h14c0.552 0 1 0.448 1 1s-0.448 1-1 1z\"></path>\n<path d=\"M23 18h-14c-0.552 0-1-0.448-1-1s0.448-1 1-1h14c0.552 0 1 0.448 1 1s-0.448 1-1 1z\"></path>\n</symbol>\n</defs>\n</svg>\n<style>/* CSS stylesheet for displaying xarray objects in jupyterlab.\n *\n */\n\n:root {\n  --xr-font-color0: var(--jp-content-font-color0, rgba(0, 0, 0, 1));\n  --xr-font-color2: var(--jp-content-font-color2, rgba(0, 0, 0, 0.54));\n  --xr-font-color3: var(--jp-content-font-color3, rgba(0, 0, 0, 0.38));\n  --xr-border-color: var(--jp-border-color2, #e0e0e0);\n  --xr-disabled-color: var(--jp-layout-color3, #bdbdbd);\n  --xr-background-color: var(--jp-layout-color0, white);\n  --xr-background-color-row-even: var(--jp-layout-color1, white);\n  --xr-background-color-row-odd: var(--jp-layout-color2, #eeeeee);\n}\n\nhtml[theme=dark],\nbody[data-theme=dark],\nbody.vscode-dark {\n  --xr-font-color0: rgba(255, 255, 255, 1);\n  --xr-font-color2: rgba(255, 255, 255, 0.54);\n  --xr-font-color3: rgba(255, 255, 255, 0.38);\n  --xr-border-color: #1F1F1F;\n  --xr-disabled-color: #515151;\n  --xr-background-color: #111111;\n  --xr-background-color-row-even: #111111;\n  --xr-background-color-row-odd: #313131;\n}\n\n.xr-wrap {\n  display: block !important;\n  min-width: 300px;\n  max-width: 700px;\n}\n\n.xr-text-repr-fallback {\n  /* fallback to plain text repr when CSS is not injected (untrusted notebook) */\n  display: none;\n}\n\n.xr-header {\n  padding-top: 6px;\n  padding-bottom: 6px;\n  margin-bottom: 4px;\n  border-bottom: solid 1px var(--xr-border-color);\n}\n\n.xr-header > div,\n.xr-header > ul {\n  display: inline;\n  margin-top: 0;\n  margin-bottom: 0;\n}\n\n.xr-obj-type,\n.xr-array-name {\n  margin-left: 2px;\n  margin-right: 10px;\n}\n\n.xr-obj-type {\n  color: var(--xr-font-color2);\n}\n\n.xr-sections {\n  padding-left: 0 !important;\n  display: grid;\n  grid-template-columns: 150px auto auto 1fr 20px 20px;\n}\n\n.xr-section-item {\n  display: contents;\n}\n\n.xr-section-item input {\n  display: none;\n}\n\n.xr-section-item input + label {\n  color: var(--xr-disabled-color);\n}\n\n.xr-section-item input:enabled + label {\n  cursor: pointer;\n  color: var(--xr-font-color2);\n}\n\n.xr-section-item input:enabled + label:hover {\n  color: var(--xr-font-color0);\n}\n\n.xr-section-summary {\n  grid-column: 1;\n  color: var(--xr-font-color2);\n  font-weight: 500;\n}\n\n.xr-section-summary > span {\n  display: inline-block;\n  padding-left: 0.5em;\n}\n\n.xr-section-summary-in:disabled + label {\n  color: var(--xr-font-color2);\n}\n\n.xr-section-summary-in + label:before {\n  display: inline-block;\n  content: '►';\n  font-size: 11px;\n  width: 15px;\n  text-align: center;\n}\n\n.xr-section-summary-in:disabled + label:before {\n  color: var(--xr-disabled-color);\n}\n\n.xr-section-summary-in:checked + label:before {\n  content: '▼';\n}\n\n.xr-section-summary-in:checked + label > span {\n  display: none;\n}\n\n.xr-section-summary,\n.xr-section-inline-details {\n  padding-top: 4px;\n  padding-bottom: 4px;\n}\n\n.xr-section-inline-details {\n  grid-column: 2 / -1;\n}\n\n.xr-section-details {\n  display: none;\n  grid-column: 1 / -1;\n  margin-bottom: 5px;\n}\n\n.xr-section-summary-in:checked ~ .xr-section-details {\n  display: contents;\n}\n\n.xr-array-wrap {\n  grid-column: 1 / -1;\n  display: grid;\n  grid-template-columns: 20px auto;\n}\n\n.xr-array-wrap > label {\n  grid-column: 1;\n  vertical-align: top;\n}\n\n.xr-preview {\n  color: var(--xr-font-color3);\n}\n\n.xr-array-preview,\n.xr-array-data {\n  padding: 0 5px !important;\n  grid-column: 2;\n}\n\n.xr-array-data,\n.xr-array-in:checked ~ .xr-array-preview {\n  display: none;\n}\n\n.xr-array-in:checked ~ .xr-array-data,\n.xr-array-preview {\n  display: inline-block;\n}\n\n.xr-dim-list {\n  display: inline-block !important;\n  list-style: none;\n  padding: 0 !important;\n  margin: 0;\n}\n\n.xr-dim-list li {\n  display: inline-block;\n  padding: 0;\n  margin: 0;\n}\n\n.xr-dim-list:before {\n  content: '(';\n}\n\n.xr-dim-list:after {\n  content: ')';\n}\n\n.xr-dim-list li:not(:last-child):after {\n  content: ',';\n  padding-right: 5px;\n}\n\n.xr-has-index {\n  font-weight: bold;\n}\n\n.xr-var-list,\n.xr-var-item {\n  display: contents;\n}\n\n.xr-var-item > div,\n.xr-var-item label,\n.xr-var-item > .xr-var-name span {\n  background-color: var(--xr-background-color-row-even);\n  margin-bottom: 0;\n}\n\n.xr-var-item > .xr-var-name:hover span {\n  padding-right: 5px;\n}\n\n.xr-var-list > li:nth-child(odd) > div,\n.xr-var-list > li:nth-child(odd) > label,\n.xr-var-list > li:nth-child(odd) > .xr-var-name span {\n  background-color: var(--xr-background-color-row-odd);\n}\n\n.xr-var-name {\n  grid-column: 1;\n}\n\n.xr-var-dims {\n  grid-column: 2;\n}\n\n.xr-var-dtype {\n  grid-column: 3;\n  text-align: right;\n  color: var(--xr-font-color2);\n}\n\n.xr-var-preview {\n  grid-column: 4;\n}\n\n.xr-index-preview {\n  grid-column: 2 / 5;\n  color: var(--xr-font-color2);\n}\n\n.xr-var-name,\n.xr-var-dims,\n.xr-var-dtype,\n.xr-preview,\n.xr-attrs dt {\n  white-space: nowrap;\n  overflow: hidden;\n  text-overflow: ellipsis;\n  padding-right: 10px;\n}\n\n.xr-var-name:hover,\n.xr-var-dims:hover,\n.xr-var-dtype:hover,\n.xr-attrs dt:hover {\n  overflow: visible;\n  width: auto;\n  z-index: 1;\n}\n\n.xr-var-attrs,\n.xr-var-data,\n.xr-index-data {\n  display: none;\n  background-color: var(--xr-background-color) !important;\n  padding-bottom: 5px !important;\n}\n\n.xr-var-attrs-in:checked ~ .xr-var-attrs,\n.xr-var-data-in:checked ~ .xr-var-data,\n.xr-index-data-in:checked ~ .xr-index-data {\n  display: block;\n}\n\n.xr-var-data > table {\n  float: right;\n}\n\n.xr-var-name span,\n.xr-var-data,\n.xr-index-name div,\n.xr-index-data,\n.xr-attrs {\n  padding-left: 25px !important;\n}\n\n.xr-attrs,\n.xr-var-attrs,\n.xr-var-data,\n.xr-index-data {\n  grid-column: 1 / -1;\n}\n\ndl.xr-attrs {\n  padding: 0;\n  margin: 0;\n  display: grid;\n  grid-template-columns: 125px auto;\n}\n\n.xr-attrs dt,\n.xr-attrs dd {\n  padding: 0;\n  margin: 0;\n  float: left;\n  padding-right: 10px;\n  width: auto;\n}\n\n.xr-attrs dt {\n  font-weight: normal;\n  grid-column: 1;\n}\n\n.xr-attrs dt:hover span {\n  display: inline-block;\n  background: var(--xr-background-color);\n  padding-right: 10px;\n}\n\n.xr-attrs dd {\n  grid-column: 2;\n  white-space: pre-wrap;\n  word-break: break-all;\n}\n\n.xr-icon-database,\n.xr-icon-file-text2,\n.xr-no-icon {\n  display: inline-block;\n  vertical-align: middle;\n  width: 1em;\n  height: 1.5em !important;\n  stroke-width: 0;\n  stroke: currentColor;\n  fill: currentColor;\n}\n</style><pre class='xr-text-repr-fallback'>&lt;xarray.DataArray &#x27;y&#x27; (chain: 2, draw: 1000, y_dim_0: 160, y_dim_1: 6)&gt;\narray([[[[-0.3523712 ,  0.47746538,  1.23568773,  2.03599992,\n           2.51387611,  2.05667809],\n         [-0.46743234,  1.13271595, -0.46391583,  1.99708601,\n           2.05527136,  1.65775381],\n         [-1.17944721,  0.48728551,  0.93096924, -2.11544319,\n           0.86796419, -0.18280123],\n         ...,\n         [ 2.00216262,  0.64900662,  2.11052003, -0.44869722,\n           1.04038769,  2.04170837],\n         [ 1.22658017,  0.75595633,  0.19065474,  1.51260067,\n          -1.88262766,  2.16305158],\n         [ 0.14945786,  1.39998079,  0.32780269,  3.69918425,\n           1.32112935,  2.55945068]],\n\n        [[-0.46511777,  0.91485803,  0.84449246,  0.75172286,\n           1.82357489,  2.72587594],\n         [ 0.38520192,  1.73778315,  1.58735791,  1.64476247,\n           0.76729433,  0.99216856],\n         [ 1.87414025, -0.40775869,  1.30823696,  1.40880819,\n           2.05188994,  2.66273394],\n...\n         [-0.17782878,  0.33850759,  2.93965993,  1.05567792,\n           2.65533317,  1.33554203],\n         [ 0.18536914,  1.49793319,  1.21839729, -0.15306171,\n           0.44187664,  3.32664754],\n         [-0.63191348,  2.35897942,  0.58412045,  2.42480503,\n           1.88259679,  2.83499026]],\n\n        [[-0.80140793,  0.08345321,  0.42853305,  2.45220148,\n           0.93357691,  1.87839433],\n         [-0.94517719,  1.03788754,  2.75882428,  2.1838196 ,\n          -0.10522192,  1.38014069],\n         [-1.61036314, -0.09240871,  1.46191826,  3.37041744,\n           2.67610243,  2.00605517],\n         ...,\n         [ 0.86618966,  0.44731651,  2.45745823,  0.58318893,\n           3.38196108,  2.16422937],\n         [ 0.58446255,  1.27783501,  1.53760043,  2.42894755,\n           0.38235678, -2.17306951],\n         [ 0.32032522, -0.26341086,  1.97016933,  4.48156294,\n           0.49420446,  2.28057985]]]])\nCoordinates:\n  * chain    (chain) int64 0 1\n  * draw     (draw) int64 0 1 2 3 4 5 6 7 8 ... 992 993 994 995 996 997 998 999\n  * y_dim_0  (y_dim_0) int64 0 1 2 3 4 5 6 7 ... 152 153 154 155 156 157 158 159\n  * y_dim_1  (y_dim_1) int64 0 1 2 3 4 5</pre><div class='xr-wrap' style='display:none'><div class='xr-header'><div class='xr-obj-type'>xarray.DataArray</div><div class='xr-array-name'>'y'</div><ul class='xr-dim-list'><li><span class='xr-has-index'>chain</span>: 2</li><li><span class='xr-has-index'>draw</span>: 1000</li><li><span class='xr-has-index'>y_dim_0</span>: 160</li><li><span class='xr-has-index'>y_dim_1</span>: 6</li></ul></div><ul class='xr-sections'><li class='xr-section-item'><div class='xr-array-wrap'><input id='section-a83d9b97-cd31-49ed-af81-0404ffd19548' class='xr-array-in' type='checkbox' checked><label for='section-a83d9b97-cd31-49ed-af81-0404ffd19548' title='Show/hide data repr'><svg class='icon xr-icon-database'><use xlink:href='#icon-database'></use></svg></label><div class='xr-array-preview xr-preview'><span>-0.3524 0.4775 1.236 2.036 2.514 ... -0.2634 1.97 4.482 0.4942 2.281</span></div><div class='xr-array-data'><pre>array([[[[-0.3523712 ,  0.47746538,  1.23568773,  2.03599992,\n           2.51387611,  2.05667809],\n         [-0.46743234,  1.13271595, -0.46391583,  1.99708601,\n           2.05527136,  1.65775381],\n         [-1.17944721,  0.48728551,  0.93096924, -2.11544319,\n           0.86796419, -0.18280123],\n         ...,\n         [ 2.00216262,  0.64900662,  2.11052003, -0.44869722,\n           1.04038769,  2.04170837],\n         [ 1.22658017,  0.75595633,  0.19065474,  1.51260067,\n          -1.88262766,  2.16305158],\n         [ 0.14945786,  1.39998079,  0.32780269,  3.69918425,\n           1.32112935,  2.55945068]],\n\n        [[-0.46511777,  0.91485803,  0.84449246,  0.75172286,\n           1.82357489,  2.72587594],\n         [ 0.38520192,  1.73778315,  1.58735791,  1.64476247,\n           0.76729433,  0.99216856],\n         [ 1.87414025, -0.40775869,  1.30823696,  1.40880819,\n           2.05188994,  2.66273394],\n...\n         [-0.17782878,  0.33850759,  2.93965993,  1.05567792,\n           2.65533317,  1.33554203],\n         [ 0.18536914,  1.49793319,  1.21839729, -0.15306171,\n           0.44187664,  3.32664754],\n         [-0.63191348,  2.35897942,  0.58412045,  2.42480503,\n           1.88259679,  2.83499026]],\n\n        [[-0.80140793,  0.08345321,  0.42853305,  2.45220148,\n           0.93357691,  1.87839433],\n         [-0.94517719,  1.03788754,  2.75882428,  2.1838196 ,\n          -0.10522192,  1.38014069],\n         [-1.61036314, -0.09240871,  1.46191826,  3.37041744,\n           2.67610243,  2.00605517],\n         ...,\n         [ 0.86618966,  0.44731651,  2.45745823,  0.58318893,\n           3.38196108,  2.16422937],\n         [ 0.58446255,  1.27783501,  1.53760043,  2.42894755,\n           0.38235678, -2.17306951],\n         [ 0.32032522, -0.26341086,  1.97016933,  4.48156294,\n           0.49420446,  2.28057985]]]])</pre></div></div></li><li class='xr-section-item'><input id='section-cefeacda-8417-4f5b-aa3d-a558e680cec5' class='xr-section-summary-in' type='checkbox'  checked><label for='section-cefeacda-8417-4f5b-aa3d-a558e680cec5' class='xr-section-summary' >Coordinates: <span>(4)</span></label><div class='xr-section-inline-details'></div><div class='xr-section-details'><ul class='xr-var-list'><li class='xr-var-item'><div class='xr-var-name'><span class='xr-has-index'>chain</span></div><div class='xr-var-dims'>(chain)</div><div class='xr-var-dtype'>int64</div><div class='xr-var-preview xr-preview'>0 1</div><input id='attrs-415a0e17-55e2-4d67-bcb9-d03dbc7fd0f5' class='xr-var-attrs-in' type='checkbox' disabled><label for='attrs-415a0e17-55e2-4d67-bcb9-d03dbc7fd0f5' title='Show/Hide attributes'><svg class='icon xr-icon-file-text2'><use xlink:href='#icon-file-text2'></use></svg></label><input id='data-471e9524-1bd2-4adf-9851-caeb2c05ca2d' class='xr-var-data-in' type='checkbox'><label for='data-471e9524-1bd2-4adf-9851-caeb2c05ca2d' title='Show/Hide data repr'><svg class='icon xr-icon-database'><use xlink:href='#icon-database'></use></svg></label><div class='xr-var-attrs'><dl class='xr-attrs'></dl></div><div class='xr-var-data'><pre>array([0, 1])</pre></div></li><li class='xr-var-item'><div class='xr-var-name'><span class='xr-has-index'>draw</span></div><div class='xr-var-dims'>(draw)</div><div class='xr-var-dtype'>int64</div><div class='xr-var-preview xr-preview'>0 1 2 3 4 5 ... 995 996 997 998 999</div><input id='attrs-14d93f53-a3d9-4382-8035-5185f45c0482' class='xr-var-attrs-in' type='checkbox' disabled><label for='attrs-14d93f53-a3d9-4382-8035-5185f45c0482' title='Show/Hide attributes'><svg class='icon xr-icon-file-text2'><use xlink:href='#icon-file-text2'></use></svg></label><input id='data-2d7365ae-1ae0-41d0-ab93-02ba4f01b0aa' class='xr-var-data-in' type='checkbox'><label for='data-2d7365ae-1ae0-41d0-ab93-02ba4f01b0aa' title='Show/Hide data repr'><svg class='icon xr-icon-database'><use xlink:href='#icon-database'></use></svg></label><div class='xr-var-attrs'><dl class='xr-attrs'></dl></div><div class='xr-var-data'><pre>array([  0,   1,   2, ..., 997, 998, 999])</pre></div></li><li class='xr-var-item'><div class='xr-var-name'><span class='xr-has-index'>y_dim_0</span></div><div class='xr-var-dims'>(y_dim_0)</div><div class='xr-var-dtype'>int64</div><div class='xr-var-preview xr-preview'>0 1 2 3 4 5 ... 155 156 157 158 159</div><input id='attrs-a6804f16-6114-4b46-81ec-a8e358dd9579' class='xr-var-attrs-in' type='checkbox' disabled><label for='attrs-a6804f16-6114-4b46-81ec-a8e358dd9579' title='Show/Hide attributes'><svg class='icon xr-icon-file-text2'><use xlink:href='#icon-file-text2'></use></svg></label><input id='data-e30ec5d5-1bfa-46a0-9e23-b4265449aa39' class='xr-var-data-in' type='checkbox'><label for='data-e30ec5d5-1bfa-46a0-9e23-b4265449aa39' title='Show/Hide data repr'><svg class='icon xr-icon-database'><use xlink:href='#icon-database'></use></svg></label><div class='xr-var-attrs'><dl class='xr-attrs'></dl></div><div class='xr-var-data'><pre>array([  0,   1,   2,   3,   4,   5,   6,   7,   8,   9,  10,  11,  12,  13,\n        14,  15,  16,  17,  18,  19,  20,  21,  22,  23,  24,  25,  26,  27,\n        28,  29,  30,  31,  32,  33,  34,  35,  36,  37,  38,  39,  40,  41,\n        42,  43,  44,  45,  46,  47,  48,  49,  50,  51,  52,  53,  54,  55,\n        56,  57,  58,  59,  60,  61,  62,  63,  64,  65,  66,  67,  68,  69,\n        70,  71,  72,  73,  74,  75,  76,  77,  78,  79,  80,  81,  82,  83,\n        84,  85,  86,  87,  88,  89,  90,  91,  92,  93,  94,  95,  96,  97,\n        98,  99, 100, 101, 102, 103, 104, 105, 106, 107, 108, 109, 110, 111,\n       112, 113, 114, 115, 116, 117, 118, 119, 120, 121, 122, 123, 124, 125,\n       126, 127, 128, 129, 130, 131, 132, 133, 134, 135, 136, 137, 138, 139,\n       140, 141, 142, 143, 144, 145, 146, 147, 148, 149, 150, 151, 152, 153,\n       154, 155, 156, 157, 158, 159])</pre></div></li><li class='xr-var-item'><div class='xr-var-name'><span class='xr-has-index'>y_dim_1</span></div><div class='xr-var-dims'>(y_dim_1)</div><div class='xr-var-dtype'>int64</div><div class='xr-var-preview xr-preview'>0 1 2 3 4 5</div><input id='attrs-57c5719f-708b-4b80-a179-1984b664e3f3' class='xr-var-attrs-in' type='checkbox' disabled><label for='attrs-57c5719f-708b-4b80-a179-1984b664e3f3' title='Show/Hide attributes'><svg class='icon xr-icon-file-text2'><use xlink:href='#icon-file-text2'></use></svg></label><input id='data-2955834f-710d-4e91-b9bf-5d593d1be135' class='xr-var-data-in' type='checkbox'><label for='data-2955834f-710d-4e91-b9bf-5d593d1be135' title='Show/Hide data repr'><svg class='icon xr-icon-database'><use xlink:href='#icon-database'></use></svg></label><div class='xr-var-attrs'><dl class='xr-attrs'></dl></div><div class='xr-var-data'><pre>array([0, 1, 2, 3, 4, 5])</pre></div></li></ul></div></li><li class='xr-section-item'><input id='section-0880e232-51c5-40fc-807d-abdb885ebfd7' class='xr-section-summary-in' type='checkbox'  ><label for='section-0880e232-51c5-40fc-807d-abdb885ebfd7' class='xr-section-summary' >Indexes: <span>(4)</span></label><div class='xr-section-inline-details'></div><div class='xr-section-details'><ul class='xr-var-list'><li class='xr-var-item'><div class='xr-index-name'><div>chain</div></div><div class='xr-index-preview'>PandasIndex</div><div></div><input id='index-abef099a-2251-4635-85ff-5add0272390d' class='xr-index-data-in' type='checkbox'/><label for='index-abef099a-2251-4635-85ff-5add0272390d' title='Show/Hide index repr'><svg class='icon xr-icon-database'><use xlink:href='#icon-database'></use></svg></label><div class='xr-index-data'><pre>PandasIndex(Int64Index([0, 1], dtype=&#x27;int64&#x27;, name=&#x27;chain&#x27;))</pre></div></li><li class='xr-var-item'><div class='xr-index-name'><div>draw</div></div><div class='xr-index-preview'>PandasIndex</div><div></div><input id='index-856f5ec2-f469-47f7-ac7b-a08a8fa1bad4' class='xr-index-data-in' type='checkbox'/><label for='index-856f5ec2-f469-47f7-ac7b-a08a8fa1bad4' title='Show/Hide index repr'><svg class='icon xr-icon-database'><use xlink:href='#icon-database'></use></svg></label><div class='xr-index-data'><pre>PandasIndex(Int64Index([  0,   1,   2,   3,   4,   5,   6,   7,   8,   9,\n            ...\n            990, 991, 992, 993, 994, 995, 996, 997, 998, 999],\n           dtype=&#x27;int64&#x27;, name=&#x27;draw&#x27;, length=1000))</pre></div></li><li class='xr-var-item'><div class='xr-index-name'><div>y_dim_0</div></div><div class='xr-index-preview'>PandasIndex</div><div></div><input id='index-16a081ec-e6a5-4c97-9876-7db7a31a4dd7' class='xr-index-data-in' type='checkbox'/><label for='index-16a081ec-e6a5-4c97-9876-7db7a31a4dd7' title='Show/Hide index repr'><svg class='icon xr-icon-database'><use xlink:href='#icon-database'></use></svg></label><div class='xr-index-data'><pre>PandasIndex(Int64Index([  0,   1,   2,   3,   4,   5,   6,   7,   8,   9,\n            ...\n            150, 151, 152, 153, 154, 155, 156, 157, 158, 159],\n           dtype=&#x27;int64&#x27;, name=&#x27;y_dim_0&#x27;, length=160))</pre></div></li><li class='xr-var-item'><div class='xr-index-name'><div>y_dim_1</div></div><div class='xr-index-preview'>PandasIndex</div><div></div><input id='index-a1e6ada3-3d04-4b52-b8e5-a92a7ddb4e54' class='xr-index-data-in' type='checkbox'/><label for='index-a1e6ada3-3d04-4b52-b8e5-a92a7ddb4e54' title='Show/Hide index repr'><svg class='icon xr-icon-database'><use xlink:href='#icon-database'></use></svg></label><div class='xr-index-data'><pre>PandasIndex(Int64Index([0, 1, 2, 3, 4, 5], dtype=&#x27;int64&#x27;, name=&#x27;y_dim_1&#x27;))</pre></div></li></ul></div></li><li class='xr-section-item'><input id='section-644d6207-402b-4e9c-922d-7df1eda9a6ed' class='xr-section-summary-in' type='checkbox' disabled ><label for='section-644d6207-402b-4e9c-922d-7df1eda9a6ed' class='xr-section-summary'  title='Expand/collapse section'>Attributes: <span>(0)</span></label><div class='xr-section-inline-details'></div><div class='xr-section-details'><dl class='xr-attrs'></dl></div></li></ul></div></div>"
     },
     "execution_count": 32,
     "metadata": {},
     "output_type": "execute_result"
    }
   ],
   "source": [
    "eda_pred = posterior_predictive.posterior_predictive['y']\n",
    "eda_pred"
   ],
   "metadata": {
    "collapsed": false
   }
  },
  {
   "cell_type": "code",
   "execution_count": 33,
   "outputs": [
    {
     "data": {
      "text/plain": "<AxesSubplot: xlabel='y / y'>"
     },
     "execution_count": 33,
     "metadata": {},
     "output_type": "execute_result"
    },
    {
     "data": {
      "text/plain": "<Figure size 640x480 with 1 Axes>",
      "image/png": "[encoded data removed]"
     },
     "metadata": {},
     "output_type": "display_data"
    }
   ],
   "source": [
    "az.plot_ppc(posterior_predictive,)"
   ],
   "metadata": {
    "collapsed": false
   }
  },
  {
   "cell_type": "code",
   "execution_count": 34,
   "outputs": [],
   "source": [
    "eda_pred_mean = np.squeeze(stats.mode(eda_pred[0], keepdims=False)[0])[:,np.newaxis]"
   ],
   "metadata": {
    "collapsed": false
   }
  },
  {
   "cell_type": "code",
   "execution_count": 36,
   "outputs": [
    {
     "ename": "ValueError",
     "evalue": "Found array with dim 3. None expected <= 2.",
     "output_type": "error",
     "traceback": [
      "\u001B[0;31m---------------------------------------------------------------------------\u001B[0m",
      "\u001B[0;31mValueError\u001B[0m                                Traceback (most recent call last)",
      "Cell \u001B[0;32mIn [36], line 4\u001B[0m\n\u001B[1;32m      1\u001B[0m \u001B[38;5;28;01mfrom\u001B[39;00m \u001B[38;5;21;01msklearn\u001B[39;00m\u001B[38;5;21;01m.\u001B[39;00m\u001B[38;5;21;01mmetrics\u001B[39;00m \u001B[38;5;28;01mimport\u001B[39;00m mean_squared_error\n\u001B[1;32m      2\u001B[0m \u001B[38;5;28;01mfrom\u001B[39;00m \u001B[38;5;21;01msklearn\u001B[39;00m\u001B[38;5;21;01m.\u001B[39;00m\u001B[38;5;21;01mmetrics\u001B[39;00m \u001B[38;5;28;01mimport\u001B[39;00m mean_absolute_error\n\u001B[0;32m----> 4\u001B[0m mean_squared_error(eda, eda_pred_mean)\n",
      "File \u001B[0;32m~/matteo/matteo/unimi/tesi_master/code/my_env/lib/python3.8/site-packages/sklearn/metrics/_regression.py:442\u001B[0m, in \u001B[0;36mmean_squared_error\u001B[0;34m(y_true, y_pred, sample_weight, multioutput, squared)\u001B[0m\n\u001B[1;32m    382\u001B[0m \u001B[38;5;28;01mdef\u001B[39;00m \u001B[38;5;21mmean_squared_error\u001B[39m(\n\u001B[1;32m    383\u001B[0m     y_true, y_pred, \u001B[38;5;241m*\u001B[39m, sample_weight\u001B[38;5;241m=\u001B[39m\u001B[38;5;28;01mNone\u001B[39;00m, multioutput\u001B[38;5;241m=\u001B[39m\u001B[38;5;124m\"\u001B[39m\u001B[38;5;124muniform_average\u001B[39m\u001B[38;5;124m\"\u001B[39m, squared\u001B[38;5;241m=\u001B[39m\u001B[38;5;28;01mTrue\u001B[39;00m\n\u001B[1;32m    384\u001B[0m ):\n\u001B[1;32m    385\u001B[0m     \u001B[38;5;124;03m\"\"\"Mean squared error regression loss.\u001B[39;00m\n\u001B[1;32m    386\u001B[0m \n\u001B[1;32m    387\u001B[0m \u001B[38;5;124;03m    Read more in the :ref:`User Guide <mean_squared_error>`.\u001B[39;00m\n\u001B[0;32m   (...)\u001B[0m\n\u001B[1;32m    440\u001B[0m \u001B[38;5;124;03m    0.825...\u001B[39;00m\n\u001B[1;32m    441\u001B[0m \u001B[38;5;124;03m    \"\"\"\u001B[39;00m\n\u001B[0;32m--> 442\u001B[0m     y_type, y_true, y_pred, multioutput \u001B[38;5;241m=\u001B[39m \u001B[43m_check_reg_targets\u001B[49m\u001B[43m(\u001B[49m\n\u001B[1;32m    443\u001B[0m \u001B[43m        \u001B[49m\u001B[43my_true\u001B[49m\u001B[43m,\u001B[49m\u001B[43m \u001B[49m\u001B[43my_pred\u001B[49m\u001B[43m,\u001B[49m\u001B[43m \u001B[49m\u001B[43mmultioutput\u001B[49m\n\u001B[1;32m    444\u001B[0m \u001B[43m    \u001B[49m\u001B[43m)\u001B[49m\n\u001B[1;32m    445\u001B[0m     check_consistent_length(y_true, y_pred, sample_weight)\n\u001B[1;32m    446\u001B[0m     output_errors \u001B[38;5;241m=\u001B[39m np\u001B[38;5;241m.\u001B[39maverage((y_true \u001B[38;5;241m-\u001B[39m y_pred) \u001B[38;5;241m*\u001B[39m\u001B[38;5;241m*\u001B[39m \u001B[38;5;241m2\u001B[39m, axis\u001B[38;5;241m=\u001B[39m\u001B[38;5;241m0\u001B[39m, weights\u001B[38;5;241m=\u001B[39msample_weight)\n",
      "File \u001B[0;32m~/matteo/matteo/unimi/tesi_master/code/my_env/lib/python3.8/site-packages/sklearn/metrics/_regression.py:102\u001B[0m, in \u001B[0;36m_check_reg_targets\u001B[0;34m(y_true, y_pred, multioutput, dtype)\u001B[0m\n\u001B[1;32m    100\u001B[0m check_consistent_length(y_true, y_pred)\n\u001B[1;32m    101\u001B[0m y_true \u001B[38;5;241m=\u001B[39m check_array(y_true, ensure_2d\u001B[38;5;241m=\u001B[39m\u001B[38;5;28;01mFalse\u001B[39;00m, dtype\u001B[38;5;241m=\u001B[39mdtype)\n\u001B[0;32m--> 102\u001B[0m y_pred \u001B[38;5;241m=\u001B[39m \u001B[43mcheck_array\u001B[49m\u001B[43m(\u001B[49m\u001B[43my_pred\u001B[49m\u001B[43m,\u001B[49m\u001B[43m \u001B[49m\u001B[43mensure_2d\u001B[49m\u001B[38;5;241;43m=\u001B[39;49m\u001B[38;5;28;43;01mFalse\u001B[39;49;00m\u001B[43m,\u001B[49m\u001B[43m \u001B[49m\u001B[43mdtype\u001B[49m\u001B[38;5;241;43m=\u001B[39;49m\u001B[43mdtype\u001B[49m\u001B[43m)\u001B[49m\n\u001B[1;32m    104\u001B[0m \u001B[38;5;28;01mif\u001B[39;00m y_true\u001B[38;5;241m.\u001B[39mndim \u001B[38;5;241m==\u001B[39m \u001B[38;5;241m1\u001B[39m:\n\u001B[1;32m    105\u001B[0m     y_true \u001B[38;5;241m=\u001B[39m y_true\u001B[38;5;241m.\u001B[39mreshape((\u001B[38;5;241m-\u001B[39m\u001B[38;5;241m1\u001B[39m, \u001B[38;5;241m1\u001B[39m))\n",
      "File \u001B[0;32m~/matteo/matteo/unimi/tesi_master/code/my_env/lib/python3.8/site-packages/sklearn/utils/validation.py:893\u001B[0m, in \u001B[0;36mcheck_array\u001B[0;34m(array, accept_sparse, accept_large_sparse, dtype, order, copy, force_all_finite, ensure_2d, allow_nd, ensure_min_samples, ensure_min_features, estimator, input_name)\u001B[0m\n\u001B[1;32m    887\u001B[0m     \u001B[38;5;28;01mraise\u001B[39;00m \u001B[38;5;167;01mValueError\u001B[39;00m(\n\u001B[1;32m    888\u001B[0m         \u001B[38;5;124m\"\u001B[39m\u001B[38;5;124mdtype=\u001B[39m\u001B[38;5;124m'\u001B[39m\u001B[38;5;124mnumeric\u001B[39m\u001B[38;5;124m'\u001B[39m\u001B[38;5;124m is not compatible with arrays of bytes/strings.\u001B[39m\u001B[38;5;124m\"\u001B[39m\n\u001B[1;32m    889\u001B[0m         \u001B[38;5;124m\"\u001B[39m\u001B[38;5;124mConvert your data to numeric values explicitly instead.\u001B[39m\u001B[38;5;124m\"\u001B[39m\n\u001B[1;32m    890\u001B[0m     )\n\u001B[1;32m    892\u001B[0m \u001B[38;5;28;01mif\u001B[39;00m \u001B[38;5;129;01mnot\u001B[39;00m allow_nd \u001B[38;5;129;01mand\u001B[39;00m array\u001B[38;5;241m.\u001B[39mndim \u001B[38;5;241m>\u001B[39m\u001B[38;5;241m=\u001B[39m \u001B[38;5;241m3\u001B[39m:\n\u001B[0;32m--> 893\u001B[0m     \u001B[38;5;28;01mraise\u001B[39;00m \u001B[38;5;167;01mValueError\u001B[39;00m(\n\u001B[1;32m    894\u001B[0m         \u001B[38;5;124m\"\u001B[39m\u001B[38;5;124mFound array with dim \u001B[39m\u001B[38;5;132;01m%d\u001B[39;00m\u001B[38;5;124m. \u001B[39m\u001B[38;5;132;01m%s\u001B[39;00m\u001B[38;5;124m expected <= 2.\u001B[39m\u001B[38;5;124m\"\u001B[39m\n\u001B[1;32m    895\u001B[0m         \u001B[38;5;241m%\u001B[39m (array\u001B[38;5;241m.\u001B[39mndim, estimator_name)\n\u001B[1;32m    896\u001B[0m     )\n\u001B[1;32m    898\u001B[0m \u001B[38;5;28;01mif\u001B[39;00m force_all_finite:\n\u001B[1;32m    899\u001B[0m     _assert_all_finite(\n\u001B[1;32m    900\u001B[0m         array,\n\u001B[1;32m    901\u001B[0m         input_name\u001B[38;5;241m=\u001B[39minput_name,\n\u001B[1;32m    902\u001B[0m         estimator_name\u001B[38;5;241m=\u001B[39mestimator_name,\n\u001B[1;32m    903\u001B[0m         allow_nan\u001B[38;5;241m=\u001B[39mforce_all_finite \u001B[38;5;241m==\u001B[39m \u001B[38;5;124m\"\u001B[39m\u001B[38;5;124mallow-nan\u001B[39m\u001B[38;5;124m\"\u001B[39m,\n\u001B[1;32m    904\u001B[0m     )\n",
      "\u001B[0;31mValueError\u001B[0m: Found array with dim 3. None expected <= 2."
     ]
    }
   ],
   "source": [
    "from sklearn.metrics import mean_squared_error\n",
    "from sklearn.metrics import mean_absolute_error\n",
    "\n",
    "mean_squared_error(eda, eda_pred_mean)"
   ],
   "metadata": {
    "collapsed": false
   }
  },
  {
   "cell_type": "code",
   "execution_count": null,
   "outputs": [],
   "source": [
    "mean_absolute_error(coords_['eda_'], eda_pred_mean)"
   ],
   "metadata": {
    "collapsed": false
   }
  },
  {
   "cell_type": "code",
   "execution_count": null,
   "outputs": [],
   "source": [
    "final_df = pd.DataFrame()\n"
   ],
   "metadata": {
    "collapsed": false
   }
  },
  {
   "cell_type": "code",
   "execution_count": null,
   "outputs": [],
   "source": [],
   "metadata": {
    "collapsed": false
   }
  }
 ],
 "metadata": {
  "kernelspec": {
   "display_name": "Python 3",
   "language": "python",
   "name": "python3"
  },
  "language_info": {
   "codemirror_mode": {
    "name": "ipython",
    "version": 2
   },
   "file_extension": ".py",
   "mimetype": "text/x-python",
   "name": "python",
   "nbconvert_exporter": "python",
   "pygments_lexer": "ipython2",
   "version": "2.7.6"
  }
 },
 "nbformat": 4,
 "nbformat_minor": 0
}
