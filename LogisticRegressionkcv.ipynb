{
 "cells": [
  {
   "cell_type": "code",
   "execution_count": 61,
   "metadata": {
    "collapsed": true
   },
   "outputs": [],
   "source": [
    "\n",
    "import numpy as np\n",
    "import optuna as optuna\n",
    "import pandas as pd\n",
    "from sklearn.linear_model import LogisticRegressionCV\n",
    "from sklearn.linear_model import LogisticRegression\n",
    "from sklearn.model_selection import train_test_split\n",
    "from sklearn.preprocessing import StandardScaler\n",
    "from sklearn.model_selection import StratifiedShuffleSplit\n",
    "import extract_correct_csv\n",
    "scaler = StandardScaler()\n"
   ]
  },
  {
   "cell_type": "markdown",
   "source": [
    "## logistic regression with sklearn"
   ],
   "metadata": {
    "collapsed": false
   }
  },
  {
   "cell_type": "code",
   "execution_count": 47,
   "outputs": [
    {
     "data": {
      "text/plain": "[2, 4, 10, 41, 43, 44, 45, 46, 47, 48, 50, 51, 52, 53, 54, 55]"
     },
     "execution_count": 47,
     "metadata": {},
     "output_type": "execute_result"
    }
   ],
   "source": [
    "valid_subject = extract_correct_csv.extract_only_valid_subject()\n",
    "valid_subject.remove(49)\n",
    "valid_subject"
   ],
   "metadata": {
    "collapsed": false
   }
  },
  {
   "cell_type": "code",
   "execution_count": 60,
   "outputs": [],
   "source": [
    "columns = ['subject', 'feature','fold', 'train accuracy', 'test accuracy']\n",
    "results = pd.DataFrame(columns = columns)\n",
    "index = 1\n",
    "for x in valid_subject:\n",
    "\n",
    "\n",
    "\n",
    "    types_ = ['hr', 'eda', 'pupil']\n",
    "    for type_ in types_:\n",
    "        X = pd.read_csv('data/features_4_2/'+type_+'/45.csv')\n",
    "        X = X[48:]\n",
    "        X = scaler.fit_transform(X)\n",
    "        # creating train and test\n",
    "        X = pd.DataFrame(X)\n",
    "        X = X.reset_index().drop(columns=('index'))\n",
    "\n",
    "\n",
    "\n",
    "        sss = StratifiedShuffleSplit(n_splits=3, test_size=0.2, random_state=123)\n",
    "\n",
    "        for i, (train_index, test_index) in enumerate(sss.split(X, y)):\n",
    "            y = pd.DataFrame(y)\n",
    "            y = y.reset_index().drop(columns=('index'))\n",
    "\n",
    "            N_train = len(train_index)\n",
    "            X_train = X.iloc[train_index, :]\n",
    "            y_train =y.iloc[train_index, :]\n",
    "\n",
    "            X_test = X.iloc[test_index, :]\n",
    "            y_test =y.iloc[test_index, :]\n",
    "\n",
    "            clf = LogisticRegression(random_state=123,max_iter=10000)\n",
    "            clf.fit(X_train, np.squeeze(np.array(y_train)))\n",
    "\n",
    "            train_ = clf.score(X_train, y_train)\n",
    "            test_ = clf.score(X_test, y_test)\n",
    "            dict_ = {'subject': x, 'feature': type_,'fold':int(i), 'train accuracy': train_, 'test accuracy': test_}\n",
    "            results = pd.concat([results, pd.DataFrame(data=dict_, index=np.arange(1))], ignore_index=True)\n",
    "            index = index + 1"
   ],
   "metadata": {
    "collapsed": false
   }
  },
  {
   "cell_type": "markdown",
   "source": [
    "## accuracy logistic classifier sklearn monophysio"
   ],
   "metadata": {
    "collapsed": false
   }
  },
  {
   "cell_type": "code",
   "execution_count": 64,
   "outputs": [
    {
     "data": {
      "text/plain": "    subject feature fold  train accuracy  test accuracy\n0         2      hr    0        0.584270       0.521739\n1         2      hr    1        0.662921       0.304348\n2         2      hr    2        0.595506       0.608696\n3         2     eda    0        0.662921       0.608696\n4         2     eda    1        0.685393       0.652174\n..      ...     ...  ...             ...            ...\n139      55     eda    1        0.640449       0.695652\n140      55     eda    2        0.662921       0.521739\n141      55   pupil    0        0.741573       0.695652\n142      55   pupil    1        0.764045       0.652174\n143      55   pupil    2        0.752809       0.608696\n\n[144 rows x 5 columns]",
      "text/html": "<div>\n<style scoped>\n    .dataframe tbody tr th:only-of-type {\n        vertical-align: middle;\n    }\n\n    .dataframe tbody tr th {\n        vertical-align: top;\n    }\n\n    .dataframe thead th {\n        text-align: right;\n    }\n</style>\n<table border=\"1\" class=\"dataframe\">\n  <thead>\n    <tr style=\"text-align: right;\">\n      <th></th>\n      <th>subject</th>\n      <th>feature</th>\n      <th>fold</th>\n      <th>train accuracy</th>\n      <th>test accuracy</th>\n    </tr>\n  </thead>\n  <tbody>\n    <tr>\n      <th>0</th>\n      <td>2</td>\n      <td>hr</td>\n      <td>0</td>\n      <td>0.584270</td>\n      <td>0.521739</td>\n    </tr>\n    <tr>\n      <th>1</th>\n      <td>2</td>\n      <td>hr</td>\n      <td>1</td>\n      <td>0.662921</td>\n      <td>0.304348</td>\n    </tr>\n    <tr>\n      <th>2</th>\n      <td>2</td>\n      <td>hr</td>\n      <td>2</td>\n      <td>0.595506</td>\n      <td>0.608696</td>\n    </tr>\n    <tr>\n      <th>3</th>\n      <td>2</td>\n      <td>eda</td>\n      <td>0</td>\n      <td>0.662921</td>\n      <td>0.608696</td>\n    </tr>\n    <tr>\n      <th>4</th>\n      <td>2</td>\n      <td>eda</td>\n      <td>1</td>\n      <td>0.685393</td>\n      <td>0.652174</td>\n    </tr>\n    <tr>\n      <th>...</th>\n      <td>...</td>\n      <td>...</td>\n      <td>...</td>\n      <td>...</td>\n      <td>...</td>\n    </tr>\n    <tr>\n      <th>139</th>\n      <td>55</td>\n      <td>eda</td>\n      <td>1</td>\n      <td>0.640449</td>\n      <td>0.695652</td>\n    </tr>\n    <tr>\n      <th>140</th>\n      <td>55</td>\n      <td>eda</td>\n      <td>2</td>\n      <td>0.662921</td>\n      <td>0.521739</td>\n    </tr>\n    <tr>\n      <th>141</th>\n      <td>55</td>\n      <td>pupil</td>\n      <td>0</td>\n      <td>0.741573</td>\n      <td>0.695652</td>\n    </tr>\n    <tr>\n      <th>142</th>\n      <td>55</td>\n      <td>pupil</td>\n      <td>1</td>\n      <td>0.764045</td>\n      <td>0.652174</td>\n    </tr>\n    <tr>\n      <th>143</th>\n      <td>55</td>\n      <td>pupil</td>\n      <td>2</td>\n      <td>0.752809</td>\n      <td>0.608696</td>\n    </tr>\n  </tbody>\n</table>\n<p>144 rows × 5 columns</p>\n</div>"
     },
     "execution_count": 64,
     "metadata": {},
     "output_type": "execute_result"
    }
   ],
   "source": [
    "reg_mono = results\n",
    "reg_mono"
   ],
   "metadata": {
    "collapsed": false
   }
  },
  {
   "cell_type": "code",
   "execution_count": 65,
   "outputs": [],
   "source": [
    "columns = ['subject', 'fold']"
   ],
   "metadata": {
    "collapsed": false
   }
  },
  {
   "cell_type": "code",
   "execution_count": 69,
   "outputs": [],
   "source": [
    "mean_regr=reg_mono.drop(columns=columns).groupby(by='feature', as_index=False).mean()\n",
    "var_regr=reg_mono.drop(columns=columns).groupby(by='feature', as_index=False).var()"
   ],
   "metadata": {
    "collapsed": false
   }
  },
  {
   "cell_type": "markdown",
   "source": [
    "## mean accuracy over all subjs logistic classifier sklearn monophysio"
   ],
   "metadata": {
    "collapsed": false
   }
  },
  {
   "cell_type": "code",
   "execution_count": 70,
   "outputs": [
    {
     "data": {
      "text/plain": "  feature  train accuracy  test accuracy\n0     eda        0.685627       0.626812\n1      hr        0.627575       0.563406\n2   pupil        0.713717       0.573370",
      "text/html": "<div>\n<style scoped>\n    .dataframe tbody tr th:only-of-type {\n        vertical-align: middle;\n    }\n\n    .dataframe tbody tr th {\n        vertical-align: top;\n    }\n\n    .dataframe thead th {\n        text-align: right;\n    }\n</style>\n<table border=\"1\" class=\"dataframe\">\n  <thead>\n    <tr style=\"text-align: right;\">\n      <th></th>\n      <th>feature</th>\n      <th>train accuracy</th>\n      <th>test accuracy</th>\n    </tr>\n  </thead>\n  <tbody>\n    <tr>\n      <th>0</th>\n      <td>eda</td>\n      <td>0.685627</td>\n      <td>0.626812</td>\n    </tr>\n    <tr>\n      <th>1</th>\n      <td>hr</td>\n      <td>0.627575</td>\n      <td>0.563406</td>\n    </tr>\n    <tr>\n      <th>2</th>\n      <td>pupil</td>\n      <td>0.713717</td>\n      <td>0.573370</td>\n    </tr>\n  </tbody>\n</table>\n</div>"
     },
     "execution_count": 70,
     "metadata": {},
     "output_type": "execute_result"
    }
   ],
   "source": [
    "mean_regr"
   ],
   "metadata": {
    "collapsed": false
   }
  },
  {
   "cell_type": "markdown",
   "source": [
    "## var over all subjs logistic classifier sklearn monophysio\n"
   ],
   "metadata": {
    "collapsed": false
   }
  },
  {
   "cell_type": "code",
   "execution_count": 67,
   "outputs": [
    {
     "data": {
      "text/plain": "  feature  train accuracy  test accuracy\n0     eda        0.003865       0.009639\n1      hr        0.001665       0.006995\n2   pupil        0.002192       0.008419",
      "text/html": "<div>\n<style scoped>\n    .dataframe tbody tr th:only-of-type {\n        vertical-align: middle;\n    }\n\n    .dataframe tbody tr th {\n        vertical-align: top;\n    }\n\n    .dataframe thead th {\n        text-align: right;\n    }\n</style>\n<table border=\"1\" class=\"dataframe\">\n  <thead>\n    <tr style=\"text-align: right;\">\n      <th></th>\n      <th>feature</th>\n      <th>train accuracy</th>\n      <th>test accuracy</th>\n    </tr>\n  </thead>\n  <tbody>\n    <tr>\n      <th>0</th>\n      <td>eda</td>\n      <td>0.003865</td>\n      <td>0.009639</td>\n    </tr>\n    <tr>\n      <th>1</th>\n      <td>hr</td>\n      <td>0.001665</td>\n      <td>0.006995</td>\n    </tr>\n    <tr>\n      <th>2</th>\n      <td>pupil</td>\n      <td>0.002192</td>\n      <td>0.008419</td>\n    </tr>\n  </tbody>\n</table>\n</div>"
     },
     "execution_count": 67,
     "metadata": {},
     "output_type": "execute_result"
    }
   ],
   "source": [
    "var_regr"
   ],
   "metadata": {
    "collapsed": false
   }
  },
  {
   "cell_type": "markdown",
   "source": [],
   "metadata": {
    "collapsed": false
   }
  },
  {
   "cell_type": "markdown",
   "source": [
    "# Multi physio classifier"
   ],
   "metadata": {
    "collapsed": false
   }
  },
  {
   "cell_type": "code",
   "execution_count": 77,
   "outputs": [
    {
     "data": {
      "text/plain": "[2, 4, 10, 41, 43, 44, 45, 46, 47, 48, 49, 50, 51, 52, 53, 54, 55]"
     },
     "execution_count": 77,
     "metadata": {},
     "output_type": "execute_result"
    }
   ],
   "source": [
    "subjects = extract_correct_csv.extract_only_valid_subject()\n",
    "subjects"
   ],
   "metadata": {
    "collapsed": false
   }
  },
  {
   "cell_type": "code",
   "execution_count": 79,
   "outputs": [],
   "source": [
    "\n",
    "columns_multi = ['subject','fold', 'train accuracy', 'test accuracy']\n",
    "reg_multi = pd.DataFrame(columns = columns_multi)\n",
    "index = 1\n",
    "\n",
    "for sub in subjects:\n",
    "\n",
    "    string_sub = extract_correct_csv.read_correct_subject_csv(sub)\n",
    "\n",
    "    df_ = pd.read_csv('data/LookAtMe_0'+string_sub+'.csv', sep='\\t')\n",
    "    y = np.array(list([int (d > 2) for d in df_['rating']]))\n",
    "    y = y[48:]\n",
    "\n",
    "\n",
    "    X1 = pd.read_csv('data/features_4_2/hr/'+str(sub)+'.csv')\n",
    "    X1 = pd.DataFrame(scaler.fit_transform(X1))\n",
    "    X2 = pd.read_csv('data/features_4_2/eda/'+str(sub)+'.csv')\n",
    "    X2 = pd.DataFrame(scaler.fit_transform(X2))\n",
    "    X3 = pd.read_csv('data/features_4_2/pupil/'+str(sub)+'.csv')\n",
    "    X3 = pd.DataFrame(scaler.fit_transform(X3))\n",
    "    X = pd.concat([X1, X2, X3], axis=1)\n",
    "    X = X[48:]\n",
    "\n",
    "    X = pd.DataFrame(X)\n",
    "    X = X.reset_index().drop(columns=('index'))\n",
    "\n",
    "    sss = StratifiedShuffleSplit(n_splits=3, test_size=0.2, random_state=123)\n",
    "\n",
    "    for i, (train_index, test_index) in enumerate(sss.split(X, y)):\n",
    "        y = pd.DataFrame(y)\n",
    "        y = y.reset_index().drop(columns=('index'))\n",
    "\n",
    "        N_train = len(train_index)\n",
    "        X_train = X.iloc[train_index, :]\n",
    "        y_train =y.iloc[train_index, :]\n",
    "\n",
    "        X_test = X.iloc[test_index, :]\n",
    "        y_test =y.iloc[test_index, :]\n",
    "\n",
    "        classifier = LogisticRegression(max_iter=10000,random_state=123)\n",
    "        clf.fit(X_train, np.squeeze(np.array(y_train)))\n",
    "\n",
    "        train_ = clf.score(X_train, y_train)\n",
    "        test_ = clf.score(X_test, y_test)\n",
    "        dict_ = {'subject': sub, 'fold':int(i), 'train accuracy': train_, 'test accuracy': test_}\n",
    "        reg_multi = pd.concat([reg_multi, pd.DataFrame(data=dict_, index=np.arange(1))], ignore_index=True)\n",
    "        index = index + 1"
   ],
   "metadata": {
    "collapsed": false
   }
  },
  {
   "cell_type": "markdown",
   "source": [
    "## accuracy logistic classifier sklearn"
   ],
   "metadata": {
    "collapsed": false
   }
  },
  {
   "cell_type": "code",
   "execution_count": 80,
   "outputs": [
    {
     "data": {
      "text/plain": "   subject fold  train accuracy  test accuracy\n0        2    0        0.730337       0.608696\n1        2    1        0.853933       0.521739\n2        2    2        0.786517       0.521739\n3        4    0        0.719101       0.521739\n4        4    1        0.730337       0.434783\n5        4    2        0.685393       0.608696\n6       10    0        0.707865       0.565217\n7       10    1        0.741573       0.478261\n8       10    2        0.685393       0.652174\n9       41    0        0.853933       0.478261\n10      41    1        0.831461       0.565217\n11      41    2        0.786517       0.608696\n12      43    0        0.820225       0.608696\n13      43    1        0.820225       0.608696\n14      43    2        0.853933       0.521739\n15      44    0        0.797753       0.695652\n16      44    1        0.842697       0.652174\n17      44    2        0.775281       0.434783\n18      45    0        0.853933       0.565217\n19      45    1        0.842697       0.652174\n20      45    2        0.865169       0.739130\n21      46    0        0.775281       0.608696\n22      46    1        0.775281       0.521739\n23      46    2        0.696629       0.565217\n24      47    0        0.797753       0.521739\n25      47    1        0.786517       0.565217\n26      47    2        0.831461       0.478261\n27      48    0        0.820225       0.652174\n28      48    1        0.898876       0.521739\n29      48    2        0.797753       0.608696\n30      49    0        0.741573       0.521739\n31      49    1        0.764045       0.652174\n32      49    2        0.752809       0.478261\n33      50    0        0.730337       0.826087\n34      50    1        0.730337       0.521739\n35      50    2        0.775281       0.521739\n36      51    0        0.764045       0.608696\n37      51    1        0.775281       0.521739\n38      51    2        0.707865       0.521739\n39      52    0        0.719101       0.565217\n40      52    1        0.741573       0.652174\n41      52    2        0.752809       0.652174\n42      53    0        0.797753       0.521739\n43      53    1        0.775281       0.695652\n44      53    2        0.808989       0.565217\n45      54    0        0.820225       0.652174\n46      54    1        0.865169       0.695652\n47      54    2        0.853933       0.565217\n48      55    0        0.775281       0.695652\n49      55    1        0.808989       0.565217\n50      55    2        0.752809       0.565217",
      "text/html": "<div>\n<style scoped>\n    .dataframe tbody tr th:only-of-type {\n        vertical-align: middle;\n    }\n\n    .dataframe tbody tr th {\n        vertical-align: top;\n    }\n\n    .dataframe thead th {\n        text-align: right;\n    }\n</style>\n<table border=\"1\" class=\"dataframe\">\n  <thead>\n    <tr style=\"text-align: right;\">\n      <th></th>\n      <th>subject</th>\n      <th>fold</th>\n      <th>train accuracy</th>\n      <th>test accuracy</th>\n    </tr>\n  </thead>\n  <tbody>\n    <tr>\n      <th>0</th>\n      <td>2</td>\n      <td>0</td>\n      <td>0.730337</td>\n      <td>0.608696</td>\n    </tr>\n    <tr>\n      <th>1</th>\n      <td>2</td>\n      <td>1</td>\n      <td>0.853933</td>\n      <td>0.521739</td>\n    </tr>\n    <tr>\n      <th>2</th>\n      <td>2</td>\n      <td>2</td>\n      <td>0.786517</td>\n      <td>0.521739</td>\n    </tr>\n    <tr>\n      <th>3</th>\n      <td>4</td>\n      <td>0</td>\n      <td>0.719101</td>\n      <td>0.521739</td>\n    </tr>\n    <tr>\n      <th>4</th>\n      <td>4</td>\n      <td>1</td>\n      <td>0.730337</td>\n      <td>0.434783</td>\n    </tr>\n    <tr>\n      <th>5</th>\n      <td>4</td>\n      <td>2</td>\n      <td>0.685393</td>\n      <td>0.608696</td>\n    </tr>\n    <tr>\n      <th>6</th>\n      <td>10</td>\n      <td>0</td>\n      <td>0.707865</td>\n      <td>0.565217</td>\n    </tr>\n    <tr>\n      <th>7</th>\n      <td>10</td>\n      <td>1</td>\n      <td>0.741573</td>\n      <td>0.478261</td>\n    </tr>\n    <tr>\n      <th>8</th>\n      <td>10</td>\n      <td>2</td>\n      <td>0.685393</td>\n      <td>0.652174</td>\n    </tr>\n    <tr>\n      <th>9</th>\n      <td>41</td>\n      <td>0</td>\n      <td>0.853933</td>\n      <td>0.478261</td>\n    </tr>\n    <tr>\n      <th>10</th>\n      <td>41</td>\n      <td>1</td>\n      <td>0.831461</td>\n      <td>0.565217</td>\n    </tr>\n    <tr>\n      <th>11</th>\n      <td>41</td>\n      <td>2</td>\n      <td>0.786517</td>\n      <td>0.608696</td>\n    </tr>\n    <tr>\n      <th>12</th>\n      <td>43</td>\n      <td>0</td>\n      <td>0.820225</td>\n      <td>0.608696</td>\n    </tr>\n    <tr>\n      <th>13</th>\n      <td>43</td>\n      <td>1</td>\n      <td>0.820225</td>\n      <td>0.608696</td>\n    </tr>\n    <tr>\n      <th>14</th>\n      <td>43</td>\n      <td>2</td>\n      <td>0.853933</td>\n      <td>0.521739</td>\n    </tr>\n    <tr>\n      <th>15</th>\n      <td>44</td>\n      <td>0</td>\n      <td>0.797753</td>\n      <td>0.695652</td>\n    </tr>\n    <tr>\n      <th>16</th>\n      <td>44</td>\n      <td>1</td>\n      <td>0.842697</td>\n      <td>0.652174</td>\n    </tr>\n    <tr>\n      <th>17</th>\n      <td>44</td>\n      <td>2</td>\n      <td>0.775281</td>\n      <td>0.434783</td>\n    </tr>\n    <tr>\n      <th>18</th>\n      <td>45</td>\n      <td>0</td>\n      <td>0.853933</td>\n      <td>0.565217</td>\n    </tr>\n    <tr>\n      <th>19</th>\n      <td>45</td>\n      <td>1</td>\n      <td>0.842697</td>\n      <td>0.652174</td>\n    </tr>\n    <tr>\n      <th>20</th>\n      <td>45</td>\n      <td>2</td>\n      <td>0.865169</td>\n      <td>0.739130</td>\n    </tr>\n    <tr>\n      <th>21</th>\n      <td>46</td>\n      <td>0</td>\n      <td>0.775281</td>\n      <td>0.608696</td>\n    </tr>\n    <tr>\n      <th>22</th>\n      <td>46</td>\n      <td>1</td>\n      <td>0.775281</td>\n      <td>0.521739</td>\n    </tr>\n    <tr>\n      <th>23</th>\n      <td>46</td>\n      <td>2</td>\n      <td>0.696629</td>\n      <td>0.565217</td>\n    </tr>\n    <tr>\n      <th>24</th>\n      <td>47</td>\n      <td>0</td>\n      <td>0.797753</td>\n      <td>0.521739</td>\n    </tr>\n    <tr>\n      <th>25</th>\n      <td>47</td>\n      <td>1</td>\n      <td>0.786517</td>\n      <td>0.565217</td>\n    </tr>\n    <tr>\n      <th>26</th>\n      <td>47</td>\n      <td>2</td>\n      <td>0.831461</td>\n      <td>0.478261</td>\n    </tr>\n    <tr>\n      <th>27</th>\n      <td>48</td>\n      <td>0</td>\n      <td>0.820225</td>\n      <td>0.652174</td>\n    </tr>\n    <tr>\n      <th>28</th>\n      <td>48</td>\n      <td>1</td>\n      <td>0.898876</td>\n      <td>0.521739</td>\n    </tr>\n    <tr>\n      <th>29</th>\n      <td>48</td>\n      <td>2</td>\n      <td>0.797753</td>\n      <td>0.608696</td>\n    </tr>\n    <tr>\n      <th>30</th>\n      <td>49</td>\n      <td>0</td>\n      <td>0.741573</td>\n      <td>0.521739</td>\n    </tr>\n    <tr>\n      <th>31</th>\n      <td>49</td>\n      <td>1</td>\n      <td>0.764045</td>\n      <td>0.652174</td>\n    </tr>\n    <tr>\n      <th>32</th>\n      <td>49</td>\n      <td>2</td>\n      <td>0.752809</td>\n      <td>0.478261</td>\n    </tr>\n    <tr>\n      <th>33</th>\n      <td>50</td>\n      <td>0</td>\n      <td>0.730337</td>\n      <td>0.826087</td>\n    </tr>\n    <tr>\n      <th>34</th>\n      <td>50</td>\n      <td>1</td>\n      <td>0.730337</td>\n      <td>0.521739</td>\n    </tr>\n    <tr>\n      <th>35</th>\n      <td>50</td>\n      <td>2</td>\n      <td>0.775281</td>\n      <td>0.521739</td>\n    </tr>\n    <tr>\n      <th>36</th>\n      <td>51</td>\n      <td>0</td>\n      <td>0.764045</td>\n      <td>0.608696</td>\n    </tr>\n    <tr>\n      <th>37</th>\n      <td>51</td>\n      <td>1</td>\n      <td>0.775281</td>\n      <td>0.521739</td>\n    </tr>\n    <tr>\n      <th>38</th>\n      <td>51</td>\n      <td>2</td>\n      <td>0.707865</td>\n      <td>0.521739</td>\n    </tr>\n    <tr>\n      <th>39</th>\n      <td>52</td>\n      <td>0</td>\n      <td>0.719101</td>\n      <td>0.565217</td>\n    </tr>\n    <tr>\n      <th>40</th>\n      <td>52</td>\n      <td>1</td>\n      <td>0.741573</td>\n      <td>0.652174</td>\n    </tr>\n    <tr>\n      <th>41</th>\n      <td>52</td>\n      <td>2</td>\n      <td>0.752809</td>\n      <td>0.652174</td>\n    </tr>\n    <tr>\n      <th>42</th>\n      <td>53</td>\n      <td>0</td>\n      <td>0.797753</td>\n      <td>0.521739</td>\n    </tr>\n    <tr>\n      <th>43</th>\n      <td>53</td>\n      <td>1</td>\n      <td>0.775281</td>\n      <td>0.695652</td>\n    </tr>\n    <tr>\n      <th>44</th>\n      <td>53</td>\n      <td>2</td>\n      <td>0.808989</td>\n      <td>0.565217</td>\n    </tr>\n    <tr>\n      <th>45</th>\n      <td>54</td>\n      <td>0</td>\n      <td>0.820225</td>\n      <td>0.652174</td>\n    </tr>\n    <tr>\n      <th>46</th>\n      <td>54</td>\n      <td>1</td>\n      <td>0.865169</td>\n      <td>0.695652</td>\n    </tr>\n    <tr>\n      <th>47</th>\n      <td>54</td>\n      <td>2</td>\n      <td>0.853933</td>\n      <td>0.565217</td>\n    </tr>\n    <tr>\n      <th>48</th>\n      <td>55</td>\n      <td>0</td>\n      <td>0.775281</td>\n      <td>0.695652</td>\n    </tr>\n    <tr>\n      <th>49</th>\n      <td>55</td>\n      <td>1</td>\n      <td>0.808989</td>\n      <td>0.565217</td>\n    </tr>\n    <tr>\n      <th>50</th>\n      <td>55</td>\n      <td>2</td>\n      <td>0.752809</td>\n      <td>0.565217</td>\n    </tr>\n  </tbody>\n</table>\n</div>"
     },
     "execution_count": 80,
     "metadata": {},
     "output_type": "execute_result"
    }
   ],
   "source": [
    "reg_multi"
   ],
   "metadata": {
    "collapsed": false
   }
  },
  {
   "cell_type": "code",
   "execution_count": null,
   "outputs": [],
   "source": [
    "columns = ['subject', 'fold']"
   ],
   "metadata": {
    "collapsed": false
   }
  },
  {
   "cell_type": "markdown",
   "source": [
    "## accuracy logistic classifier sklearn mean by subj"
   ],
   "metadata": {
    "collapsed": false
   }
  },
  {
   "cell_type": "code",
   "execution_count": 83,
   "outputs": [
    {
     "name": "stderr",
     "output_type": "stream",
     "text": [
      "/tmp/ipykernel_52844/1239913191.py:1: FutureWarning: The default value of numeric_only in DataFrameGroupBy.mean is deprecated. In a future version, numeric_only will default to False. Either specify numeric_only or select only columns which should be valid for the function.\n",
      "  grouped_df = reg_multi.groupby(by=['subject'], as_index=False).mean()\n"
     ]
    },
    {
     "data": {
      "text/plain": "    subject  train accuracy  test accuracy\n0         2        0.790262       0.550725\n1         4        0.711610       0.521739\n2        10        0.711610       0.565217\n3        41        0.823970       0.550725\n4        43        0.831461       0.579710\n5        44        0.805243       0.594203\n6        45        0.853933       0.652174\n7        46        0.749064       0.565217\n8        47        0.805243       0.521739\n9        48        0.838951       0.594203\n10       49        0.752809       0.550725\n11       50        0.745318       0.623188\n12       51        0.749064       0.550725\n13       52        0.737828       0.623188\n14       53        0.794007       0.594203\n15       54        0.846442       0.637681\n16       55        0.779026       0.608696",
      "text/html": "<div>\n<style scoped>\n    .dataframe tbody tr th:only-of-type {\n        vertical-align: middle;\n    }\n\n    .dataframe tbody tr th {\n        vertical-align: top;\n    }\n\n    .dataframe thead th {\n        text-align: right;\n    }\n</style>\n<table border=\"1\" class=\"dataframe\">\n  <thead>\n    <tr style=\"text-align: right;\">\n      <th></th>\n      <th>subject</th>\n      <th>train accuracy</th>\n      <th>test accuracy</th>\n    </tr>\n  </thead>\n  <tbody>\n    <tr>\n      <th>0</th>\n      <td>2</td>\n      <td>0.790262</td>\n      <td>0.550725</td>\n    </tr>\n    <tr>\n      <th>1</th>\n      <td>4</td>\n      <td>0.711610</td>\n      <td>0.521739</td>\n    </tr>\n    <tr>\n      <th>2</th>\n      <td>10</td>\n      <td>0.711610</td>\n      <td>0.565217</td>\n    </tr>\n    <tr>\n      <th>3</th>\n      <td>41</td>\n      <td>0.823970</td>\n      <td>0.550725</td>\n    </tr>\n    <tr>\n      <th>4</th>\n      <td>43</td>\n      <td>0.831461</td>\n      <td>0.579710</td>\n    </tr>\n    <tr>\n      <th>5</th>\n      <td>44</td>\n      <td>0.805243</td>\n      <td>0.594203</td>\n    </tr>\n    <tr>\n      <th>6</th>\n      <td>45</td>\n      <td>0.853933</td>\n      <td>0.652174</td>\n    </tr>\n    <tr>\n      <th>7</th>\n      <td>46</td>\n      <td>0.749064</td>\n      <td>0.565217</td>\n    </tr>\n    <tr>\n      <th>8</th>\n      <td>47</td>\n      <td>0.805243</td>\n      <td>0.521739</td>\n    </tr>\n    <tr>\n      <th>9</th>\n      <td>48</td>\n      <td>0.838951</td>\n      <td>0.594203</td>\n    </tr>\n    <tr>\n      <th>10</th>\n      <td>49</td>\n      <td>0.752809</td>\n      <td>0.550725</td>\n    </tr>\n    <tr>\n      <th>11</th>\n      <td>50</td>\n      <td>0.745318</td>\n      <td>0.623188</td>\n    </tr>\n    <tr>\n      <th>12</th>\n      <td>51</td>\n      <td>0.749064</td>\n      <td>0.550725</td>\n    </tr>\n    <tr>\n      <th>13</th>\n      <td>52</td>\n      <td>0.737828</td>\n      <td>0.623188</td>\n    </tr>\n    <tr>\n      <th>14</th>\n      <td>53</td>\n      <td>0.794007</td>\n      <td>0.594203</td>\n    </tr>\n    <tr>\n      <th>15</th>\n      <td>54</td>\n      <td>0.846442</td>\n      <td>0.637681</td>\n    </tr>\n    <tr>\n      <th>16</th>\n      <td>55</td>\n      <td>0.779026</td>\n      <td>0.608696</td>\n    </tr>\n  </tbody>\n</table>\n</div>"
     },
     "execution_count": 83,
     "metadata": {},
     "output_type": "execute_result"
    }
   ],
   "source": [
    "grouped_df = reg_multi.groupby(by=['subject'], as_index=False).mean()\n",
    "grouped_df"
   ],
   "metadata": {
    "collapsed": false
   }
  },
  {
   "cell_type": "markdown",
   "source": [
    "## mean accuracy over all subjs logistic classifier sklearn"
   ],
   "metadata": {
    "collapsed": false
   }
  },
  {
   "cell_type": "code",
   "execution_count": 85,
   "outputs": [
    {
     "data": {
      "text/plain": "train accuracy    0.783873\ntest accuracy     0.581415\ndtype: float64"
     },
     "execution_count": 85,
     "metadata": {},
     "output_type": "execute_result"
    }
   ],
   "source": [
    "grouped_df.drop(columns=['subject']).mean()"
   ],
   "metadata": {
    "collapsed": false
   }
  },
  {
   "cell_type": "markdown",
   "source": [
    "## var over all subjs logistic classifier sklearn"
   ],
   "metadata": {
    "collapsed": false
   }
  },
  {
   "cell_type": "code",
   "execution_count": 87,
   "outputs": [
    {
     "data": {
      "text/plain": "train accuracy    0.002141\ntest accuracy     0.001520\ndtype: float64"
     },
     "execution_count": 87,
     "metadata": {},
     "output_type": "execute_result"
    }
   ],
   "source": [
    "grouped_df.drop(columns=['subject']).var()"
   ],
   "metadata": {
    "collapsed": false
   }
  },
  {
   "cell_type": "code",
   "execution_count": 32,
   "outputs": [
    {
     "name": "stdout",
     "output_type": "stream",
     "text": [
      "test accuracy all physio\n",
      "mean:  0.5959079283887468\n",
      "var:  0.0072867131952302775\n"
     ]
    }
   ],
   "source": [
    "print(\"test accuracy all physio\\nmean: \",np.mean(np.array(mean_test)))\n",
    "print('var: ',np.var(np.array(mean_test)))"
   ],
   "metadata": {
    "collapsed": false
   }
  },
  {
   "cell_type": "markdown",
   "source": [
    "# MLP"
   ],
   "metadata": {
    "collapsed": false
   }
  },
  {
   "cell_type": "code",
   "execution_count": 66,
   "outputs": [],
   "source": [
    "\n",
    "from sklearn.neural_network import MLPClassifier\n",
    "from sklearn.model_selection import GridSearchCV\n",
    "valid_subject = extract_correct_csv.extract_only_valid_subject()\n",
    "valid_subject.remove(50)\n",
    "valid_subject.remove(51)"
   ],
   "metadata": {
    "collapsed": false
   }
  },
  {
   "cell_type": "code",
   "execution_count": 37,
   "outputs": [],
   "source": [
    "# MLP mono signals\n",
    "columns_mono = ['Subject', 'Feature', 'Train', 'Test']\n",
    "MLP_df_mono = pd.DataFrame(columns=columns_mono)\n",
    "types_ = ['hr', 'eda', 'pupil']\n",
    "for sub in valid_subject:\n",
    "    string_sub = extract_correct_csv.read_correct_subject_csv(sub)\n",
    "    df_ = pd.read_csv('data/LookAtMe_0'+string_sub+'.csv', sep='\\t')\n",
    "    y = np.array(list([int (d > 2) for d in df_['rating']]))\n",
    "    y = y[48:]\n",
    "\n",
    "    for type_ in types_:\n",
    "        X = pd.read_csv('data/features_4_2/'+type_+'/'+str(sub)+'.csv')\n",
    "        X = pd.DataFrame(scaler.fit_transform(X))\n",
    "        X = X[48:]\n",
    "        X_train, X_test,y_train, y_test = train_test_split(X, y, test_size=0.3, random_state=123, stratify=y)\n",
    "        clf = MLPClassifier(hidden_layer_sizes=(30, 20), max_iter=3000, learning_rate='adaptive', random_state=123).fit(X_train, y_train)\n",
    "        row_ = {'Subject': sub,\n",
    "                'Feature': type_,\n",
    "                'Train': clf.score(X_train, y_train),\n",
    "                'Test':clf.score(X_test, y_test)}\n",
    "        MLP_df_mono = pd.concat([MLP_df_mono, pd.DataFrame(data=row_, index=np.arange(1))], ignore_index=True)\n"
   ],
   "metadata": {
    "collapsed": false
   }
  },
  {
   "cell_type": "code",
   "execution_count": null,
   "outputs": [],
   "source": [
    "mean_mono = MLP_df_mono.groupby(by='Feature', as_index=False).mean()\n",
    "std_mono = MLP_df_mono.groupby(by='Feature', as_index=False).std()"
   ],
   "metadata": {
    "collapsed": false,
    "pycharm": {
     "is_executing": true
    }
   }
  },
  {
   "cell_type": "code",
   "execution_count": 74,
   "outputs": [
    {
     "name": "stderr",
     "output_type": "stream",
     "text": [
      "100%|██████████| 15/15 [00:05<00:00,  2.97it/s]\n",
      "100%|██████████| 15/15 [00:03<00:00,  4.06it/s]\n",
      "100%|██████████| 15/15 [00:03<00:00,  4.18it/s]\n",
      "100%|██████████| 15/15 [00:03<00:00,  4.42it/s]\n",
      "100%|██████████| 15/15 [00:03<00:00,  4.79it/s]\n",
      "100%|██████████| 15/15 [00:03<00:00,  4.36it/s]\n",
      "100%|██████████| 15/15 [00:03<00:00,  4.65it/s]\n",
      "100%|██████████| 15/15 [00:03<00:00,  4.35it/s]\n",
      "100%|██████████| 15/15 [00:03<00:00,  4.37it/s]\n",
      "100%|██████████| 15/15 [00:03<00:00,  4.52it/s]\n",
      "100%|██████████| 15/15 [00:03<00:00,  4.10it/s]\n",
      "100%|██████████| 15/15 [00:03<00:00,  4.43it/s]\n",
      "100%|██████████| 15/15 [00:03<00:00,  4.29it/s]\n",
      "100%|██████████| 15/15 [00:03<00:00,  4.27it/s]\n",
      "100%|██████████| 15/15 [00:03<00:00,  3.84it/s]\n",
      "100%|██████████| 15/15 [00:03<00:00,  4.35it/s]\n",
      "100%|██████████| 15/15 [00:03<00:00,  4.54it/s]\n",
      "100%|██████████| 15/15 [00:03<00:00,  4.17it/s]\n",
      "100%|██████████| 15/15 [00:02<00:00,  5.00it/s]\n",
      "100%|██████████| 15/15 [00:03<00:00,  4.92it/s]\n",
      "100%|██████████| 15/15 [00:03<00:00,  4.54it/s]\n",
      "100%|██████████| 15/15 [00:03<00:00,  4.84it/s]\n",
      "100%|██████████| 15/15 [00:03<00:00,  4.75it/s]\n",
      "100%|██████████| 15/15 [00:03<00:00,  4.87it/s]\n",
      "100%|██████████| 15/15 [00:03<00:00,  4.32it/s]\n",
      "100%|██████████| 15/15 [00:03<00:00,  4.73it/s]\n",
      "100%|██████████| 15/15 [00:03<00:00,  4.47it/s]\n",
      "100%|██████████| 15/15 [00:03<00:00,  4.59it/s]\n",
      "100%|██████████| 15/15 [00:03<00:00,  4.36it/s]\n",
      "100%|██████████| 15/15 [00:03<00:00,  4.72it/s]\n",
      "100%|██████████| 15/15 [00:02<00:00,  5.11it/s]\n",
      "100%|██████████| 15/15 [00:02<00:00,  5.07it/s]\n",
      "100%|██████████| 15/15 [00:03<00:00,  4.82it/s]\n",
      "100%|██████████| 15/15 [00:02<00:00,  5.27it/s]\n",
      "100%|██████████| 15/15 [00:03<00:00,  4.85it/s]\n",
      "100%|██████████| 15/15 [00:02<00:00,  5.19it/s]\n",
      "100%|██████████| 15/15 [00:02<00:00,  5.07it/s]\n",
      "100%|██████████| 15/15 [00:03<00:00,  4.73it/s]\n",
      "100%|██████████| 15/15 [00:03<00:00,  4.83it/s]\n",
      "100%|██████████| 15/15 [00:03<00:00,  4.76it/s]\n",
      "100%|██████████| 15/15 [00:03<00:00,  4.63it/s]\n",
      "100%|██████████| 15/15 [00:03<00:00,  4.65it/s]\n",
      "100%|██████████| 15/15 [00:03<00:00,  4.53it/s]\n",
      "100%|██████████| 15/15 [00:03<00:00,  4.84it/s]\n",
      "100%|██████████| 15/15 [00:02<00:00,  5.21it/s]\n",
      "100%|██████████| 15/15 [00:02<00:00,  5.23it/s]\n",
      "100%|██████████| 15/15 [00:02<00:00,  5.12it/s]\n",
      "100%|██████████| 15/15 [00:02<00:00,  5.37it/s]\n",
      "100%|██████████| 15/15 [00:03<00:00,  4.79it/s]\n",
      "100%|██████████| 15/15 [00:02<00:00,  5.00it/s]\n",
      "100%|██████████| 15/15 [00:03<00:00,  4.93it/s]\n",
      "100%|██████████| 15/15 [00:03<00:00,  4.77it/s]\n",
      "100%|██████████| 15/15 [00:03<00:00,  4.56it/s]\n",
      "100%|██████████| 15/15 [00:03<00:00,  4.34it/s]\n",
      "100%|██████████| 15/15 [00:03<00:00,  4.82it/s]\n",
      "100%|██████████| 15/15 [00:03<00:00,  4.63it/s]\n",
      "100%|██████████| 15/15 [00:03<00:00,  4.52it/s]\n",
      "100%|██████████| 15/15 [00:03<00:00,  4.27it/s]\n",
      "100%|██████████| 15/15 [00:03<00:00,  4.61it/s]\n",
      "100%|██████████| 15/15 [00:04<00:00,  3.70it/s]\n",
      "100%|██████████| 15/15 [00:03<00:00,  4.41it/s]\n",
      "100%|██████████| 15/15 [00:03<00:00,  4.00it/s]\n",
      "100%|██████████| 15/15 [00:03<00:00,  4.13it/s]\n",
      "100%|██████████| 15/15 [00:03<00:00,  4.02it/s]\n",
      "100%|██████████| 15/15 [00:04<00:00,  3.03it/s]\n",
      "100%|██████████| 15/15 [00:03<00:00,  4.76it/s]\n",
      "100%|██████████| 15/15 [00:03<00:00,  4.64it/s]\n",
      "100%|██████████| 15/15 [00:03<00:00,  4.71it/s]\n",
      "100%|██████████| 15/15 [00:03<00:00,  4.49it/s]\n",
      "100%|██████████| 15/15 [00:06<00:00,  2.21it/s]\n",
      "100%|██████████| 15/15 [00:04<00:00,  3.62it/s]\n",
      "100%|██████████| 15/15 [00:05<00:00,  2.96it/s]\n",
      "100%|██████████| 15/15 [00:04<00:00,  3.04it/s]\n",
      "100%|██████████| 15/15 [00:03<00:00,  3.80it/s]\n",
      "100%|██████████| 15/15 [00:05<00:00,  2.97it/s]\n",
      "100%|██████████| 15/15 [00:05<00:00,  2.64it/s]\n",
      "100%|██████████| 15/15 [00:06<00:00,  2.40it/s]\n",
      "100%|██████████| 15/15 [00:06<00:00,  2.39it/s]\n",
      "100%|██████████| 15/15 [00:05<00:00,  2.67it/s]\n",
      "100%|██████████| 15/15 [00:05<00:00,  2.55it/s]\n",
      "100%|██████████| 15/15 [00:05<00:00,  2.78it/s]\n",
      "100%|██████████| 15/15 [00:05<00:00,  2.89it/s]\n",
      "100%|██████████| 15/15 [00:06<00:00,  2.28it/s]\n",
      "100%|██████████| 15/15 [00:06<00:00,  2.33it/s]\n",
      "100%|██████████| 15/15 [00:04<00:00,  3.03it/s]\n",
      "100%|██████████| 15/15 [00:04<00:00,  3.41it/s]\n",
      "100%|██████████| 15/15 [00:03<00:00,  4.07it/s]\n",
      "100%|██████████| 15/15 [00:05<00:00,  3.00it/s]\n",
      "100%|██████████| 15/15 [00:05<00:00,  2.60it/s]\n",
      "100%|██████████| 15/15 [00:06<00:00,  2.47it/s]\n",
      "100%|██████████| 15/15 [00:05<00:00,  2.94it/s]\n",
      "100%|██████████| 15/15 [00:03<00:00,  4.14it/s]\n",
      "100%|██████████| 15/15 [00:03<00:00,  3.83it/s]\n",
      "100%|██████████| 15/15 [00:03<00:00,  3.88it/s]\n",
      "100%|██████████| 15/15 [00:04<00:00,  3.55it/s]\n",
      "100%|██████████| 15/15 [00:04<00:00,  3.40it/s]\n",
      "100%|██████████| 15/15 [00:03<00:00,  4.59it/s]\n",
      "100%|██████████| 15/15 [00:05<00:00,  2.58it/s]\n",
      "100%|██████████| 15/15 [00:04<00:00,  3.10it/s]\n",
      "100%|██████████| 15/15 [00:04<00:00,  3.52it/s]\n",
      "100%|██████████| 15/15 [00:04<00:00,  3.36it/s]\n",
      "100%|██████████| 15/15 [00:04<00:00,  3.45it/s]\n",
      "100%|██████████| 15/15 [00:04<00:00,  3.04it/s]\n",
      "100%|██████████| 15/15 [00:05<00:00,  2.83it/s]\n",
      "100%|██████████| 15/15 [00:05<00:00,  2.69it/s]\n",
      "100%|██████████| 15/15 [00:03<00:00,  4.25it/s]\n",
      "100%|██████████| 15/15 [00:04<00:00,  3.74it/s]\n",
      "100%|██████████| 15/15 [00:03<00:00,  3.78it/s]\n",
      "100%|██████████| 15/15 [00:03<00:00,  3.85it/s]\n",
      "100%|██████████| 15/15 [00:04<00:00,  3.06it/s]\n",
      "100%|██████████| 15/15 [00:05<00:00,  2.61it/s]\n",
      "100%|██████████| 15/15 [00:05<00:00,  2.93it/s]\n",
      "100%|██████████| 15/15 [00:04<00:00,  3.74it/s]\n",
      "100%|██████████| 15/15 [00:03<00:00,  4.35it/s]\n",
      "100%|██████████| 15/15 [00:03<00:00,  4.26it/s]\n",
      "100%|██████████| 15/15 [00:03<00:00,  4.19it/s]\n",
      "100%|██████████| 15/15 [00:03<00:00,  4.29it/s]\n",
      "100%|██████████| 15/15 [00:03<00:00,  3.78it/s]\n",
      "100%|██████████| 15/15 [00:04<00:00,  3.71it/s]\n",
      "100%|██████████| 15/15 [00:03<00:00,  4.26it/s]\n",
      "100%|██████████| 15/15 [00:06<00:00,  2.40it/s]\n",
      "100%|██████████| 15/15 [00:04<00:00,  3.24it/s]\n",
      "100%|██████████| 15/15 [00:04<00:00,  3.57it/s]\n",
      "100%|██████████| 15/15 [00:04<00:00,  3.63it/s]\n",
      "100%|██████████| 15/15 [00:04<00:00,  3.72it/s]\n",
      "100%|██████████| 15/15 [00:05<00:00,  2.65it/s]\n",
      "100%|██████████| 15/15 [00:03<00:00,  4.33it/s]\n",
      "100%|██████████| 15/15 [00:02<00:00,  5.16it/s]\n",
      "100%|██████████| 15/15 [00:03<00:00,  4.03it/s]\n",
      "100%|██████████| 15/15 [00:04<00:00,  3.40it/s]\n",
      "100%|██████████| 15/15 [00:04<00:00,  3.54it/s]\n",
      "100%|██████████| 15/15 [00:04<00:00,  3.61it/s]\n",
      "100%|██████████| 15/15 [00:05<00:00,  2.77it/s]\n",
      "100%|██████████| 15/15 [00:07<00:00,  2.13it/s]\n",
      "100%|██████████| 15/15 [00:10<00:00,  1.37it/s]\n",
      "100%|██████████| 15/15 [00:10<00:00,  1.42it/s]\n",
      "100%|██████████| 15/15 [00:04<00:00,  3.44it/s]\n",
      "100%|██████████| 15/15 [00:03<00:00,  4.27it/s]\n",
      "100%|██████████| 15/15 [00:03<00:00,  4.27it/s]\n",
      "100%|██████████| 15/15 [00:03<00:00,  3.82it/s]\n",
      "100%|██████████| 15/15 [00:06<00:00,  2.49it/s]\n",
      "100%|██████████| 15/15 [00:03<00:00,  3.80it/s]\n",
      "100%|██████████| 15/15 [00:09<00:00,  1.65it/s]\n",
      "100%|██████████| 15/15 [00:04<00:00,  3.38it/s]\n",
      "100%|██████████| 15/15 [00:07<00:00,  1.91it/s]\n",
      "100%|██████████| 15/15 [00:05<00:00,  2.96it/s]\n",
      "100%|██████████| 15/15 [00:05<00:00,  2.90it/s]\n",
      "100%|██████████| 15/15 [00:05<00:00,  2.67it/s]\n",
      "100%|██████████| 15/15 [00:04<00:00,  3.60it/s]\n",
      "100%|██████████| 15/15 [00:04<00:00,  3.53it/s]\n",
      "100%|██████████| 15/15 [00:05<00:00,  2.50it/s]\n",
      "100%|██████████| 15/15 [00:05<00:00,  2.73it/s]\n",
      "100%|██████████| 15/15 [00:06<00:00,  2.37it/s]\n",
      "100%|██████████| 15/15 [00:08<00:00,  1.86it/s]\n",
      "100%|██████████| 15/15 [00:05<00:00,  2.60it/s]\n",
      "100%|██████████| 15/15 [00:03<00:00,  3.79it/s]\n",
      "100%|██████████| 15/15 [00:06<00:00,  2.47it/s]\n",
      "100%|██████████| 15/15 [00:04<00:00,  3.34it/s]\n",
      "100%|██████████| 15/15 [00:04<00:00,  3.57it/s]\n",
      "100%|██████████| 15/15 [00:03<00:00,  3.76it/s]\n",
      "100%|██████████| 15/15 [00:07<00:00,  2.09it/s]\n",
      "100%|██████████| 15/15 [00:05<00:00,  2.63it/s]\n",
      "100%|██████████| 15/15 [00:05<00:00,  2.53it/s]\n",
      "100%|██████████| 15/15 [00:06<00:00,  2.32it/s]\n",
      "100%|██████████| 15/15 [00:06<00:00,  2.20it/s]\n",
      "100%|██████████| 15/15 [00:05<00:00,  2.54it/s]\n",
      "100%|██████████| 15/15 [00:06<00:00,  2.16it/s]\n",
      "100%|██████████| 15/15 [00:04<00:00,  3.41it/s]\n",
      "100%|██████████| 15/15 [00:03<00:00,  3.94it/s]\n",
      "100%|██████████| 15/15 [00:03<00:00,  3.91it/s]\n",
      "100%|██████████| 15/15 [00:04<00:00,  3.62it/s]\n",
      "100%|██████████| 15/15 [00:04<00:00,  3.52it/s]\n",
      "100%|██████████| 15/15 [00:04<00:00,  3.60it/s]\n",
      "100%|██████████| 15/15 [00:04<00:00,  3.69it/s]\n",
      "100%|██████████| 15/15 [00:04<00:00,  3.72it/s]\n",
      "100%|██████████| 15/15 [00:03<00:00,  4.19it/s]\n",
      "100%|██████████| 15/15 [00:04<00:00,  3.14it/s]\n",
      "100%|██████████| 15/15 [00:04<00:00,  3.17it/s]\n",
      "100%|██████████| 15/15 [00:07<00:00,  2.08it/s]\n",
      "100%|██████████| 15/15 [00:08<00:00,  1.84it/s]\n",
      "100%|██████████| 15/15 [00:05<00:00,  2.76it/s]\n",
      "100%|██████████| 15/15 [00:05<00:00,  2.57it/s]\n",
      "100%|██████████| 15/15 [00:03<00:00,  3.96it/s]\n",
      "100%|██████████| 15/15 [00:04<00:00,  3.41it/s]\n",
      "100%|██████████| 15/15 [00:04<00:00,  3.58it/s]\n",
      "100%|██████████| 15/15 [00:11<00:00,  1.30it/s]\n",
      "100%|██████████| 15/15 [00:06<00:00,  2.25it/s]\n",
      "100%|██████████| 15/15 [00:05<00:00,  2.90it/s]\n",
      "100%|██████████| 15/15 [00:09<00:00,  1.64it/s]\n",
      "100%|██████████| 15/15 [00:07<00:00,  1.95it/s]\n",
      "100%|██████████| 15/15 [00:08<00:00,  1.76it/s]\n",
      "100%|██████████| 15/15 [00:05<00:00,  2.81it/s]\n",
      "100%|██████████| 15/15 [00:07<00:00,  2.09it/s]\n",
      "100%|██████████| 15/15 [00:08<00:00,  1.82it/s]\n",
      "100%|██████████| 15/15 [00:05<00:00,  2.62it/s]\n",
      "100%|██████████| 15/15 [00:03<00:00,  4.06it/s]\n",
      "100%|██████████| 15/15 [00:09<00:00,  1.59it/s]\n",
      "100%|██████████| 15/15 [00:03<00:00,  4.78it/s]\n",
      "100%|██████████| 15/15 [00:03<00:00,  4.35it/s]\n",
      "100%|██████████| 15/15 [00:04<00:00,  3.08it/s]\n",
      "100%|██████████| 15/15 [00:03<00:00,  4.46it/s]\n",
      "100%|██████████| 15/15 [00:03<00:00,  4.60it/s]\n",
      "100%|██████████| 15/15 [00:04<00:00,  3.58it/s]\n",
      "100%|██████████| 15/15 [00:04<00:00,  3.57it/s]\n",
      "100%|██████████| 15/15 [00:03<00:00,  3.86it/s]\n",
      "100%|██████████| 15/15 [00:03<00:00,  4.87it/s]\n",
      "100%|██████████| 15/15 [00:03<00:00,  4.22it/s]\n",
      "100%|██████████| 15/15 [00:03<00:00,  3.77it/s]\n",
      "100%|██████████| 15/15 [00:03<00:00,  4.06it/s]\n",
      "100%|██████████| 15/15 [00:03<00:00,  3.93it/s]\n",
      "100%|██████████| 15/15 [00:06<00:00,  2.29it/s]\n",
      "100%|██████████| 15/15 [00:04<00:00,  3.57it/s]\n",
      "100%|██████████| 15/15 [00:03<00:00,  4.26it/s]\n",
      "100%|██████████| 15/15 [00:03<00:00,  4.59it/s]\n",
      "100%|██████████| 15/15 [00:04<00:00,  3.07it/s]\n",
      "100%|██████████| 15/15 [00:04<00:00,  3.23it/s]\n",
      "100%|██████████| 15/15 [00:04<00:00,  3.47it/s]\n",
      "100%|██████████| 15/15 [00:03<00:00,  3.78it/s]\n",
      "100%|██████████| 15/15 [00:03<00:00,  4.84it/s]\n",
      "100%|██████████| 15/15 [00:05<00:00,  2.60it/s]\n",
      "100%|██████████| 15/15 [00:05<00:00,  2.75it/s]\n",
      "100%|██████████| 15/15 [00:04<00:00,  3.53it/s]\n",
      "100%|██████████| 15/15 [00:04<00:00,  3.66it/s]\n",
      "100%|██████████| 15/15 [00:05<00:00,  2.53it/s]\n",
      "100%|██████████| 15/15 [00:05<00:00,  2.91it/s]\n",
      "100%|██████████| 15/15 [00:03<00:00,  4.13it/s]\n",
      "100%|██████████| 15/15 [00:04<00:00,  3.54it/s]\n",
      "100%|██████████| 15/15 [00:04<00:00,  3.74it/s]\n",
      "100%|██████████| 15/15 [00:02<00:00,  5.16it/s]\n",
      "100%|██████████| 15/15 [00:05<00:00,  2.70it/s]\n",
      "100%|██████████| 15/15 [00:03<00:00,  4.34it/s]\n",
      "100%|██████████| 15/15 [00:03<00:00,  4.46it/s]\n",
      "100%|██████████| 15/15 [00:04<00:00,  3.51it/s]\n",
      "100%|██████████| 15/15 [00:05<00:00,  2.94it/s]\n",
      "100%|██████████| 15/15 [00:05<00:00,  2.97it/s]\n",
      "100%|██████████| 15/15 [00:04<00:00,  3.37it/s]\n",
      "100%|██████████| 15/15 [00:03<00:00,  4.12it/s]\n",
      "100%|██████████| 15/15 [00:03<00:00,  4.25it/s]\n",
      "100%|██████████| 15/15 [00:04<00:00,  3.23it/s]\n",
      "100%|██████████| 15/15 [00:03<00:00,  4.36it/s]\n",
      "100%|██████████| 15/15 [00:02<00:00,  5.30it/s]\n",
      "100%|██████████| 15/15 [00:02<00:00,  5.33it/s]\n",
      "100%|██████████| 15/15 [00:02<00:00,  5.32it/s]\n",
      "100%|██████████| 15/15 [00:03<00:00,  4.34it/s]\n",
      "100%|██████████| 15/15 [00:06<00:00,  2.25it/s]\n",
      "100%|██████████| 15/15 [00:03<00:00,  4.27it/s]\n",
      "100%|██████████| 15/15 [00:03<00:00,  3.84it/s]\n",
      "100%|██████████| 15/15 [00:03<00:00,  4.02it/s]\n",
      "100%|██████████| 15/15 [00:05<00:00,  2.88it/s]\n",
      "100%|██████████| 15/15 [00:05<00:00,  2.77it/s]\n",
      "100%|██████████| 15/15 [00:05<00:00,  2.96it/s]\n",
      "100%|██████████| 15/15 [00:04<00:00,  3.09it/s]\n",
      "100%|██████████| 15/15 [00:04<00:00,  3.47it/s]\n",
      "100%|██████████| 15/15 [00:05<00:00,  2.88it/s]\n",
      "100%|██████████| 15/15 [00:03<00:00,  4.12it/s]\n",
      "100%|██████████| 15/15 [00:02<00:00,  5.55it/s]\n",
      "100%|██████████| 15/15 [00:02<00:00,  5.49it/s]\n",
      "100%|██████████| 15/15 [00:03<00:00,  4.50it/s]\n",
      "100%|██████████| 15/15 [00:03<00:00,  4.19it/s]\n",
      "100%|██████████| 15/15 [00:03<00:00,  4.60it/s]\n",
      "100%|██████████| 15/15 [00:03<00:00,  3.99it/s]\n",
      "100%|██████████| 15/15 [00:03<00:00,  4.13it/s]\n",
      "100%|██████████| 15/15 [00:03<00:00,  3.83it/s]\n",
      "100%|██████████| 15/15 [00:03<00:00,  3.88it/s]\n",
      "100%|██████████| 15/15 [00:03<00:00,  4.28it/s]\n",
      "100%|██████████| 15/15 [00:03<00:00,  4.30it/s]\n",
      "100%|██████████| 15/15 [00:03<00:00,  4.64it/s]\n",
      "100%|██████████| 15/15 [00:02<00:00,  6.14it/s]\n",
      "100%|██████████| 15/15 [00:02<00:00,  7.12it/s]\n",
      "100%|██████████| 15/15 [00:02<00:00,  6.70it/s]\n",
      "100%|██████████| 15/15 [00:02<00:00,  5.56it/s]\n",
      "100%|██████████| 15/15 [00:03<00:00,  4.98it/s]\n",
      "100%|██████████| 15/15 [00:02<00:00,  5.50it/s]\n",
      "100%|██████████| 15/15 [00:02<00:00,  5.68it/s]\n",
      "100%|██████████| 15/15 [00:02<00:00,  5.17it/s]\n",
      "100%|██████████| 15/15 [00:02<00:00,  5.69it/s]\n",
      "100%|██████████| 15/15 [00:02<00:00,  5.11it/s]\n",
      "100%|██████████| 15/15 [00:02<00:00,  5.24it/s]\n",
      "100%|██████████| 15/15 [00:02<00:00,  5.59it/s]\n",
      "100%|██████████| 15/15 [00:02<00:00,  5.64it/s]\n",
      "100%|██████████| 15/15 [00:02<00:00,  5.55it/s]\n",
      "100%|██████████| 15/15 [00:02<00:00,  6.29it/s]\n",
      "100%|██████████| 15/15 [00:02<00:00,  5.97it/s]\n",
      "100%|██████████| 15/15 [00:02<00:00,  5.92it/s]\n",
      "100%|██████████| 15/15 [00:02<00:00,  5.87it/s]\n",
      "100%|██████████| 15/15 [00:02<00:00,  6.08it/s]\n",
      "100%|██████████| 15/15 [00:02<00:00,  6.32it/s]\n",
      "100%|██████████| 15/15 [00:02<00:00,  5.13it/s]\n",
      "100%|██████████| 15/15 [00:02<00:00,  5.70it/s]\n",
      "100%|██████████| 15/15 [00:02<00:00,  5.95it/s]\n",
      "100%|██████████| 15/15 [00:02<00:00,  5.63it/s]\n",
      "100%|██████████| 15/15 [00:02<00:00,  5.26it/s]\n",
      "100%|██████████| 15/15 [00:02<00:00,  5.77it/s]\n",
      "100%|██████████| 15/15 [00:02<00:00,  5.67it/s]\n",
      "100%|██████████| 15/15 [00:02<00:00,  5.95it/s]\n",
      "100%|██████████| 15/15 [00:02<00:00,  5.80it/s]\n",
      "100%|██████████| 15/15 [00:02<00:00,  6.25it/s]\n",
      "100%|██████████| 15/15 [00:02<00:00,  5.57it/s]\n",
      "100%|██████████| 15/15 [00:02<00:00,  5.65it/s]\n",
      "100%|██████████| 15/15 [00:02<00:00,  5.51it/s]\n",
      "100%|██████████| 15/15 [00:02<00:00,  5.95it/s]\n",
      "100%|██████████| 15/15 [00:02<00:00,  6.19it/s]\n",
      "100%|██████████| 15/15 [00:02<00:00,  5.59it/s]\n",
      "100%|██████████| 15/15 [00:02<00:00,  5.61it/s]\n",
      "100%|██████████| 15/15 [00:02<00:00,  5.78it/s]\n",
      "100%|██████████| 15/15 [00:02<00:00,  5.86it/s]\n",
      "100%|██████████| 15/15 [00:02<00:00,  5.79it/s]\n",
      "100%|██████████| 15/15 [00:02<00:00,  5.37it/s]\n",
      "100%|██████████| 15/15 [00:02<00:00,  5.55it/s]\n",
      "100%|██████████| 15/15 [00:02<00:00,  6.29it/s]\n",
      "100%|██████████| 15/15 [00:02<00:00,  6.31it/s]\n",
      "100%|██████████| 15/15 [00:02<00:00,  5.61it/s]\n",
      "100%|██████████| 15/15 [00:02<00:00,  6.01it/s]\n",
      "100%|██████████| 15/15 [00:02<00:00,  6.05it/s]\n",
      "100%|██████████| 15/15 [00:02<00:00,  6.11it/s]\n",
      "100%|██████████| 15/15 [00:02<00:00,  5.86it/s]\n",
      "100%|██████████| 15/15 [00:02<00:00,  5.75it/s]\n",
      "100%|██████████| 15/15 [00:02<00:00,  5.82it/s]\n",
      "100%|██████████| 15/15 [00:02<00:00,  5.64it/s]\n",
      "100%|██████████| 15/15 [00:02<00:00,  5.27it/s]\n",
      "100%|██████████| 15/15 [00:02<00:00,  5.58it/s]\n",
      "100%|██████████| 15/15 [00:02<00:00,  5.61it/s]\n",
      "100%|██████████| 15/15 [00:02<00:00,  6.06it/s]\n",
      "100%|██████████| 15/15 [00:02<00:00,  6.61it/s]\n",
      "100%|██████████| 15/15 [00:02<00:00,  5.90it/s]\n",
      "100%|██████████| 15/15 [00:02<00:00,  5.45it/s]\n",
      "100%|██████████| 15/15 [00:02<00:00,  5.45it/s]\n",
      "100%|██████████| 15/15 [00:02<00:00,  5.76it/s]\n",
      "100%|██████████| 15/15 [00:02<00:00,  5.69it/s]\n",
      "100%|██████████| 15/15 [00:02<00:00,  5.79it/s]\n",
      "100%|██████████| 15/15 [00:02<00:00,  5.72it/s]\n",
      "100%|██████████| 15/15 [00:02<00:00,  5.74it/s]\n",
      "100%|██████████| 15/15 [00:02<00:00,  5.67it/s]\n",
      "100%|██████████| 15/15 [00:02<00:00,  5.29it/s]\n",
      "100%|██████████| 15/15 [00:02<00:00,  5.23it/s]\n",
      "100%|██████████| 15/15 [00:02<00:00,  5.45it/s]\n",
      "100%|██████████| 15/15 [00:02<00:00,  5.95it/s]\n",
      "100%|██████████| 15/15 [00:02<00:00,  6.35it/s]\n",
      "100%|██████████| 15/15 [00:02<00:00,  5.88it/s]\n",
      "100%|██████████| 15/15 [00:02<00:00,  5.86it/s]\n",
      "100%|██████████| 15/15 [00:02<00:00,  5.93it/s]\n",
      "100%|██████████| 15/15 [00:02<00:00,  5.80it/s]\n",
      "100%|██████████| 15/15 [00:02<00:00,  5.12it/s]\n",
      "100%|██████████| 15/15 [00:02<00:00,  5.24it/s]\n",
      "100%|██████████| 15/15 [00:02<00:00,  5.25it/s]\n",
      "100%|██████████| 15/15 [00:02<00:00,  5.67it/s]\n",
      "100%|██████████| 15/15 [00:02<00:00,  5.32it/s]\n",
      "100%|██████████| 15/15 [00:02<00:00,  5.37it/s]\n",
      "100%|██████████| 15/15 [00:03<00:00,  4.89it/s]\n",
      "100%|██████████| 15/15 [00:02<00:00,  5.15it/s]\n",
      "100%|██████████| 15/15 [00:02<00:00,  5.59it/s]\n",
      "100%|██████████| 15/15 [00:02<00:00,  6.41it/s]\n",
      "100%|██████████| 15/15 [00:02<00:00,  5.42it/s]\n",
      "100%|██████████| 15/15 [00:02<00:00,  5.55it/s]\n",
      "100%|██████████| 15/15 [00:02<00:00,  5.82it/s]\n",
      "100%|██████████| 15/15 [00:02<00:00,  5.46it/s]\n",
      "100%|██████████| 15/15 [00:02<00:00,  5.68it/s]\n",
      "100%|██████████| 15/15 [00:02<00:00,  5.74it/s]\n",
      "100%|██████████| 15/15 [00:02<00:00,  5.35it/s]\n",
      "100%|██████████| 15/15 [00:02<00:00,  5.45it/s]\n",
      "100%|██████████| 15/15 [00:02<00:00,  5.55it/s]\n",
      "100%|██████████| 15/15 [00:02<00:00,  5.64it/s]\n",
      "100%|██████████| 15/15 [00:02<00:00,  5.39it/s]\n",
      "100%|██████████| 15/15 [00:02<00:00,  5.19it/s]\n",
      "100%|██████████| 15/15 [00:02<00:00,  5.69it/s]\n",
      "100%|██████████| 15/15 [00:02<00:00,  5.73it/s]\n",
      "100%|██████████| 15/15 [00:02<00:00,  5.76it/s]\n",
      "100%|██████████| 15/15 [00:02<00:00,  5.79it/s]\n",
      "100%|██████████| 15/15 [00:02<00:00,  5.73it/s]\n",
      "100%|██████████| 15/15 [00:02<00:00,  5.91it/s]\n",
      "100%|██████████| 15/15 [00:02<00:00,  5.63it/s]\n",
      "100%|██████████| 15/15 [00:02<00:00,  5.65it/s]\n",
      "100%|██████████| 15/15 [00:02<00:00,  5.65it/s]\n",
      "100%|██████████| 15/15 [00:02<00:00,  5.48it/s]\n",
      "100%|██████████| 15/15 [00:02<00:00,  5.64it/s]\n",
      "100%|██████████| 15/15 [00:02<00:00,  5.06it/s]\n",
      "100%|██████████| 15/15 [00:02<00:00,  5.20it/s]\n",
      "100%|██████████| 15/15 [00:02<00:00,  5.27it/s]\n",
      "100%|██████████| 15/15 [00:03<00:00,  4.90it/s]\n",
      "100%|██████████| 15/15 [00:02<00:00,  5.39it/s]\n",
      "100%|██████████| 15/15 [00:02<00:00,  5.72it/s]\n",
      "100%|██████████| 15/15 [00:02<00:00,  5.67it/s]\n",
      "100%|██████████| 15/15 [00:02<00:00,  5.66it/s]\n",
      "100%|██████████| 15/15 [00:02<00:00,  5.81it/s]\n",
      "100%|██████████| 15/15 [00:02<00:00,  5.06it/s]\n",
      "100%|██████████| 15/15 [00:04<00:00,  3.18it/s]\n",
      "100%|██████████| 15/15 [00:03<00:00,  4.88it/s]\n",
      "100%|██████████| 15/15 [00:02<00:00,  5.02it/s]\n",
      "100%|██████████| 15/15 [00:02<00:00,  5.13it/s]\n",
      "100%|██████████| 15/15 [00:03<00:00,  4.89it/s]\n",
      "100%|██████████| 15/15 [00:03<00:00,  4.87it/s]\n",
      "100%|██████████| 15/15 [00:02<00:00,  5.17it/s]\n",
      "100%|██████████| 15/15 [00:03<00:00,  4.07it/s]\n",
      "100%|██████████| 15/15 [00:02<00:00,  5.70it/s]\n",
      "100%|██████████| 15/15 [00:02<00:00,  5.71it/s]\n",
      "100%|██████████| 15/15 [00:02<00:00,  5.32it/s]\n",
      "100%|██████████| 15/15 [00:02<00:00,  5.93it/s]\n",
      "100%|██████████| 15/15 [00:02<00:00,  5.34it/s]\n",
      "100%|██████████| 15/15 [00:02<00:00,  5.69it/s]\n",
      "100%|██████████| 15/15 [00:02<00:00,  6.46it/s]\n",
      "100%|██████████| 15/15 [00:02<00:00,  6.27it/s]\n",
      "100%|██████████| 15/15 [00:02<00:00,  5.85it/s]\n",
      "100%|██████████| 15/15 [00:02<00:00,  5.78it/s]\n",
      "100%|██████████| 15/15 [00:02<00:00,  5.52it/s]\n",
      "100%|██████████| 15/15 [00:02<00:00,  5.38it/s]\n",
      "100%|██████████| 15/15 [00:02<00:00,  5.35it/s]\n",
      "100%|██████████| 15/15 [00:03<00:00,  4.97it/s]\n",
      "100%|██████████| 15/15 [00:02<00:00,  6.04it/s]\n",
      "100%|██████████| 15/15 [00:02<00:00,  6.46it/s]\n",
      "100%|██████████| 15/15 [00:02<00:00,  6.67it/s]\n",
      "100%|██████████| 15/15 [00:02<00:00,  6.41it/s]\n",
      "100%|██████████| 15/15 [00:02<00:00,  6.74it/s]\n",
      "100%|██████████| 15/15 [00:02<00:00,  6.94it/s]\n",
      "100%|██████████| 15/15 [00:02<00:00,  6.96it/s]\n",
      "100%|██████████| 15/15 [00:02<00:00,  6.87it/s]\n",
      "100%|██████████| 15/15 [00:02<00:00,  6.82it/s]\n",
      "100%|██████████| 15/15 [00:02<00:00,  6.59it/s]\n",
      "100%|██████████| 15/15 [00:02<00:00,  6.49it/s]\n",
      "100%|██████████| 15/15 [00:02<00:00,  6.40it/s]\n",
      "100%|██████████| 15/15 [00:02<00:00,  6.16it/s]\n",
      "100%|██████████| 15/15 [00:02<00:00,  5.94it/s]\n",
      "100%|██████████| 15/15 [00:02<00:00,  6.32it/s]\n",
      "100%|██████████| 15/15 [00:02<00:00,  6.76it/s]\n",
      "100%|██████████| 15/15 [00:02<00:00,  6.61it/s]\n",
      "100%|██████████| 15/15 [00:02<00:00,  6.70it/s]\n",
      "100%|██████████| 15/15 [00:02<00:00,  6.52it/s]\n",
      "100%|██████████| 15/15 [00:02<00:00,  7.00it/s]\n",
      "100%|██████████| 15/15 [00:02<00:00,  6.77it/s]\n",
      "100%|██████████| 15/15 [00:02<00:00,  6.42it/s]\n",
      "100%|██████████| 15/15 [00:02<00:00,  6.61it/s]\n",
      "100%|██████████| 15/15 [00:02<00:00,  6.67it/s]\n",
      "100%|██████████| 15/15 [00:02<00:00,  6.17it/s]\n",
      "100%|██████████| 15/15 [00:02<00:00,  6.61it/s]\n",
      "100%|██████████| 15/15 [00:02<00:00,  6.19it/s]\n",
      "100%|██████████| 15/15 [00:02<00:00,  5.77it/s]\n",
      "100%|██████████| 15/15 [00:02<00:00,  6.59it/s]\n",
      "100%|██████████| 15/15 [00:02<00:00,  6.50it/s]\n",
      "100%|██████████| 15/15 [00:02<00:00,  6.95it/s]\n",
      "100%|██████████| 15/15 [00:02<00:00,  6.82it/s]\n",
      "100%|██████████| 15/15 [00:02<00:00,  6.67it/s]\n",
      "100%|██████████| 15/15 [00:02<00:00,  6.20it/s]\n",
      "100%|██████████| 15/15 [00:02<00:00,  6.44it/s]\n",
      "100%|██████████| 15/15 [00:02<00:00,  5.98it/s]\n",
      "100%|██████████| 15/15 [00:02<00:00,  5.97it/s]\n",
      "100%|██████████| 15/15 [00:02<00:00,  5.76it/s]\n",
      "100%|██████████| 15/15 [00:02<00:00,  5.82it/s]\n",
      "100%|██████████| 15/15 [00:02<00:00,  5.90it/s]\n",
      "100%|██████████| 15/15 [00:02<00:00,  5.77it/s]\n",
      "100%|██████████| 15/15 [00:02<00:00,  5.59it/s]\n",
      "100%|██████████| 15/15 [00:02<00:00,  6.46it/s]\n",
      "100%|██████████| 15/15 [00:02<00:00,  6.66it/s]\n",
      "100%|██████████| 15/15 [00:02<00:00,  6.55it/s]\n",
      "100%|██████████| 15/15 [00:02<00:00,  6.53it/s]\n",
      "100%|██████████| 15/15 [00:02<00:00,  6.44it/s]\n",
      "100%|██████████| 15/15 [00:02<00:00,  6.40it/s]\n",
      "100%|██████████| 15/15 [00:02<00:00,  6.15it/s]\n",
      "100%|██████████| 15/15 [00:02<00:00,  6.07it/s]\n",
      "100%|██████████| 15/15 [00:02<00:00,  6.12it/s]\n",
      "100%|██████████| 15/15 [00:02<00:00,  5.73it/s]\n",
      "100%|██████████| 15/15 [00:02<00:00,  5.70it/s]\n",
      "100%|██████████| 15/15 [00:02<00:00,  6.48it/s]\n",
      "100%|██████████| 15/15 [00:02<00:00,  6.33it/s]\n",
      "100%|██████████| 15/15 [00:02<00:00,  6.34it/s]\n",
      "100%|██████████| 15/15 [00:02<00:00,  6.68it/s]\n",
      "100%|██████████| 15/15 [00:02<00:00,  6.78it/s]\n",
      "100%|██████████| 15/15 [00:02<00:00,  7.04it/s]\n",
      "100%|██████████| 15/15 [00:02<00:00,  6.34it/s]\n",
      "100%|██████████| 15/15 [00:02<00:00,  6.49it/s]\n",
      "100%|██████████| 15/15 [00:02<00:00,  6.04it/s]\n",
      "100%|██████████| 15/15 [00:02<00:00,  6.34it/s]\n",
      "100%|██████████| 15/15 [00:02<00:00,  5.77it/s]\n",
      "100%|██████████| 15/15 [00:02<00:00,  5.79it/s]\n",
      "100%|██████████| 15/15 [00:02<00:00,  5.78it/s]\n",
      "100%|██████████| 15/15 [00:02<00:00,  5.54it/s]\n",
      "100%|██████████| 15/15 [00:02<00:00,  5.81it/s]\n",
      "100%|██████████| 15/15 [00:02<00:00,  5.45it/s]\n",
      "100%|██████████| 15/15 [00:02<00:00,  5.54it/s]\n",
      "100%|██████████| 15/15 [00:02<00:00,  6.61it/s]\n",
      "100%|██████████| 15/15 [00:02<00:00,  7.26it/s]\n",
      "100%|██████████| 15/15 [00:02<00:00,  6.53it/s]\n",
      "100%|██████████| 15/15 [00:02<00:00,  5.96it/s]\n",
      "100%|██████████| 15/15 [00:02<00:00,  6.37it/s]\n",
      "100%|██████████| 15/15 [00:02<00:00,  6.51it/s]\n",
      "100%|██████████| 15/15 [00:02<00:00,  6.43it/s]\n",
      "100%|██████████| 15/15 [00:02<00:00,  6.55it/s]\n",
      "100%|██████████| 15/15 [00:02<00:00,  6.43it/s]\n",
      "100%|██████████| 15/15 [00:02<00:00,  6.32it/s]\n",
      "100%|██████████| 15/15 [00:02<00:00,  6.25it/s]\n",
      "100%|██████████| 15/15 [00:02<00:00,  6.05it/s]\n",
      "100%|██████████| 15/15 [00:02<00:00,  5.71it/s]\n",
      "100%|██████████| 15/15 [00:02<00:00,  5.67it/s]\n",
      "100%|██████████| 15/15 [00:02<00:00,  6.84it/s]\n",
      "100%|██████████| 15/15 [00:02<00:00,  6.16it/s]\n",
      "100%|██████████| 15/15 [00:02<00:00,  5.77it/s]\n",
      "100%|██████████| 15/15 [00:02<00:00,  5.94it/s]\n",
      "100%|██████████| 15/15 [00:02<00:00,  6.63it/s]\n",
      "100%|██████████| 15/15 [00:02<00:00,  6.59it/s]\n",
      "100%|██████████| 15/15 [00:02<00:00,  6.62it/s]\n",
      "100%|██████████| 15/15 [00:02<00:00,  6.33it/s]\n",
      "100%|██████████| 15/15 [00:02<00:00,  6.42it/s]\n",
      "100%|██████████| 15/15 [00:02<00:00,  6.15it/s]\n",
      "100%|██████████| 15/15 [00:02<00:00,  5.77it/s]\n",
      "100%|██████████| 15/15 [00:02<00:00,  5.88it/s]\n",
      "100%|██████████| 15/15 [00:02<00:00,  6.05it/s]\n",
      "100%|██████████| 15/15 [00:02<00:00,  6.02it/s]\n",
      "100%|██████████| 15/15 [00:02<00:00,  6.63it/s]\n",
      "100%|██████████| 15/15 [00:02<00:00,  6.75it/s]\n",
      "100%|██████████| 15/15 [00:02<00:00,  6.23it/s]\n",
      "100%|██████████| 15/15 [00:02<00:00,  6.59it/s]\n",
      "100%|██████████| 15/15 [00:02<00:00,  6.25it/s]\n",
      "100%|██████████| 15/15 [00:02<00:00,  6.13it/s]\n",
      "100%|██████████| 15/15 [00:02<00:00,  6.57it/s]\n",
      "100%|██████████| 15/15 [00:03<00:00,  4.30it/s]\n",
      "100%|██████████| 15/15 [00:02<00:00,  6.03it/s]\n",
      "100%|██████████| 15/15 [00:02<00:00,  6.35it/s]\n",
      "100%|██████████| 15/15 [00:02<00:00,  6.47it/s]\n",
      "100%|██████████| 15/15 [00:02<00:00,  6.08it/s]\n",
      "100%|██████████| 15/15 [00:02<00:00,  6.08it/s]\n",
      "100%|██████████| 15/15 [00:03<00:00,  4.97it/s]\n",
      "100%|██████████| 15/15 [00:02<00:00,  6.23it/s]\n",
      "100%|██████████| 15/15 [00:02<00:00,  5.56it/s]\n",
      "100%|██████████| 15/15 [05:49<00:00, 23.33s/it]\n",
      "100%|██████████| 15/15 [00:03<00:00,  4.16it/s]\n",
      "100%|██████████| 15/15 [00:02<00:00,  6.14it/s]\n",
      "100%|██████████| 15/15 [00:02<00:00,  6.68it/s]\n",
      "100%|██████████| 15/15 [00:02<00:00,  6.94it/s]\n",
      "100%|██████████| 15/15 [00:02<00:00,  5.01it/s]\n",
      "100%|██████████| 15/15 [00:01<00:00,  8.84it/s]\n",
      "100%|██████████| 15/15 [00:02<00:00,  5.11it/s]\n",
      "100%|██████████| 15/15 [00:02<00:00,  5.50it/s]\n",
      "100%|██████████| 15/15 [00:03<00:00,  4.76it/s]\n",
      "100%|██████████| 15/15 [00:03<00:00,  4.31it/s]\n",
      "100%|██████████| 15/15 [00:03<00:00,  4.59it/s]\n",
      "100%|██████████| 15/15 [00:02<00:00,  6.20it/s]\n",
      "100%|██████████| 15/15 [00:02<00:00,  6.03it/s]\n",
      "100%|██████████| 15/15 [00:02<00:00,  5.40it/s]\n",
      "100%|██████████| 15/15 [00:02<00:00,  5.99it/s]\n",
      "100%|██████████| 15/15 [00:03<00:00,  4.42it/s]\n",
      "100%|██████████| 15/15 [29:59<00:00, 119.95s/it] \n",
      "100%|██████████| 15/15 [00:03<00:00,  4.28it/s]\n",
      "100%|██████████| 15/15 [00:02<00:00,  5.76it/s]\n",
      "100%|██████████| 15/15 [00:12<00:00,  1.23it/s]\n",
      "100%|██████████| 15/15 [00:02<00:00,  5.37it/s]\n",
      "100%|██████████| 15/15 [00:02<00:00,  5.77it/s]\n",
      "100%|██████████| 15/15 [00:02<00:00,  5.56it/s]\n",
      "100%|██████████| 15/15 [00:02<00:00,  5.69it/s]\n",
      "100%|██████████| 15/15 [00:02<00:00,  5.49it/s]\n",
      "100%|██████████| 15/15 [00:02<00:00,  5.59it/s]\n",
      "100%|██████████| 15/15 [00:02<00:00,  5.42it/s]\n",
      "100%|██████████| 15/15 [00:02<00:00,  5.58it/s]\n",
      "100%|██████████| 15/15 [00:02<00:00,  5.33it/s]\n",
      "100%|██████████| 15/15 [00:02<00:00,  5.50it/s]\n",
      "100%|██████████| 15/15 [00:03<00:00,  4.89it/s]\n",
      "100%|██████████| 15/15 [15:17<00:00, 61.15s/it] \n",
      "100%|██████████| 15/15 [00:03<00:00,  4.09it/s]\n",
      "100%|██████████| 15/15 [00:03<00:00,  4.96it/s]\n",
      "100%|██████████| 15/15 [00:05<00:00,  2.84it/s]\n",
      "100%|██████████| 15/15 [00:10<00:00,  1.45it/s]\n",
      "100%|██████████| 15/15 [00:03<00:00,  4.56it/s]\n",
      "100%|██████████| 15/15 [00:03<00:00,  4.92it/s]\n",
      "100%|██████████| 15/15 [00:02<00:00,  5.41it/s]\n",
      "100%|██████████| 15/15 [00:02<00:00,  5.90it/s]\n",
      "100%|██████████| 15/15 [00:02<00:00,  7.31it/s]\n",
      "100%|██████████| 15/15 [00:02<00:00,  7.20it/s]\n",
      "100%|██████████| 15/15 [00:02<00:00,  7.05it/s]\n",
      "100%|██████████| 15/15 [00:02<00:00,  6.98it/s]\n",
      "100%|██████████| 15/15 [00:02<00:00,  6.46it/s]\n",
      "100%|██████████| 15/15 [00:02<00:00,  6.70it/s]\n",
      "100%|██████████| 15/15 [00:02<00:00,  6.89it/s]\n",
      "100%|██████████| 15/15 [00:02<00:00,  6.80it/s]\n",
      "100%|██████████| 15/15 [16:18<00:00, 65.26s/it]  \n",
      "100%|██████████| 15/15 [00:02<00:00,  6.36it/s]\n",
      "100%|██████████| 15/15 [00:02<00:00,  6.71it/s]\n",
      "100%|██████████| 15/15 [00:02<00:00,  6.62it/s]\n",
      "100%|██████████| 15/15 [00:12<00:00,  1.19it/s]\n",
      "100%|██████████| 15/15 [00:02<00:00,  6.12it/s]\n",
      "100%|██████████| 15/15 [00:02<00:00,  6.63it/s]\n",
      "100%|██████████| 15/15 [00:02<00:00,  7.05it/s]\n",
      "100%|██████████| 15/15 [00:02<00:00,  7.01it/s]\n",
      "100%|██████████| 15/15 [00:02<00:00,  7.26it/s]\n",
      "100%|██████████| 15/15 [00:02<00:00,  6.65it/s]\n",
      "100%|██████████| 15/15 [00:02<00:00,  6.37it/s]\n",
      "100%|██████████| 15/15 [00:02<00:00,  7.26it/s]\n",
      "100%|██████████| 15/15 [00:02<00:00,  6.79it/s]\n",
      "100%|██████████| 15/15 [00:02<00:00,  6.68it/s]\n",
      "100%|██████████| 15/15 [00:02<00:00,  6.52it/s]\n",
      "100%|██████████| 15/15 [17:34<00:00, 70.27s/it] \n",
      "100%|██████████| 15/15 [00:03<00:00,  4.24it/s]\n",
      "100%|██████████| 15/15 [00:03<00:00,  4.80it/s]\n",
      "100%|██████████| 15/15 [00:03<00:00,  3.95it/s]\n",
      "100%|██████████| 15/15 [00:10<00:00,  1.37it/s]\n",
      "100%|██████████| 15/15 [00:02<00:00,  5.67it/s]\n",
      "100%|██████████| 15/15 [00:02<00:00,  5.86it/s]\n",
      "100%|██████████| 15/15 [00:02<00:00,  6.77it/s]\n",
      "100%|██████████| 15/15 [00:02<00:00,  6.74it/s]\n",
      "100%|██████████| 15/15 [00:02<00:00,  6.96it/s]\n",
      "100%|██████████| 15/15 [00:02<00:00,  7.09it/s]\n",
      "100%|██████████| 15/15 [00:02<00:00,  6.65it/s]\n",
      "100%|██████████| 15/15 [00:02<00:00,  6.50it/s]\n",
      "100%|██████████| 15/15 [00:02<00:00,  6.30it/s]\n",
      "100%|██████████| 15/15 [00:02<00:00,  6.22it/s]\n",
      "100%|██████████| 15/15 [00:02<00:00,  5.87it/s]\n",
      "100%|██████████| 15/15 [00:02<00:00,  5.61it/s]\n",
      "100%|██████████| 15/15 [00:02<00:00,  6.31it/s]\n",
      "100%|██████████| 15/15 [00:02<00:00,  6.73it/s]\n",
      "100%|██████████| 15/15 [00:02<00:00,  5.93it/s]\n",
      "100%|██████████| 15/15 [00:02<00:00,  6.47it/s]\n",
      "100%|██████████| 15/15 [00:02<00:00,  6.55it/s]\n",
      "100%|██████████| 15/15 [00:02<00:00,  6.39it/s]\n",
      "100%|██████████| 15/15 [00:02<00:00,  6.71it/s]\n",
      "100%|██████████| 15/15 [00:02<00:00,  6.96it/s]\n",
      "100%|██████████| 15/15 [00:02<00:00,  7.05it/s]\n",
      "100%|██████████| 15/15 [00:02<00:00,  6.55it/s]\n",
      "100%|██████████| 15/15 [00:02<00:00,  7.09it/s]\n",
      "100%|██████████| 15/15 [00:04<00:00,  3.16it/s]\n",
      "100%|██████████| 15/15 [00:09<00:00,  1.53it/s]\n",
      "100%|██████████| 15/15 [00:05<00:00,  2.71it/s]\n",
      "100%|██████████| 15/15 [00:04<00:00,  3.50it/s]\n",
      "100%|██████████| 15/15 [00:05<00:00,  2.65it/s]\n",
      "100%|██████████| 15/15 [00:03<00:00,  4.56it/s]\n",
      "100%|██████████| 15/15 [00:02<00:00,  5.76it/s]\n",
      "100%|██████████| 15/15 [00:02<00:00,  5.07it/s]\n",
      "100%|██████████| 15/15 [00:02<00:00,  5.71it/s]\n",
      "100%|██████████| 15/15 [00:02<00:00,  5.15it/s]\n",
      "100%|██████████| 15/15 [00:02<00:00,  6.21it/s]\n",
      "100%|██████████| 15/15 [00:02<00:00,  6.45it/s]\n",
      "100%|██████████| 15/15 [00:02<00:00,  6.28it/s]\n",
      "100%|██████████| 15/15 [00:02<00:00,  6.42it/s]\n",
      "100%|██████████| 15/15 [00:02<00:00,  6.33it/s]\n",
      "100%|██████████| 15/15 [00:02<00:00,  5.75it/s]\n",
      "100%|██████████| 15/15 [00:02<00:00,  5.05it/s]\n",
      "100%|██████████| 15/15 [00:02<00:00,  6.09it/s]\n",
      "100%|██████████| 15/15 [00:02<00:00,  7.13it/s]\n",
      "100%|██████████| 15/15 [00:02<00:00,  7.21it/s]\n",
      "100%|██████████| 15/15 [00:02<00:00,  6.85it/s]\n",
      "100%|██████████| 15/15 [00:02<00:00,  7.28it/s]\n",
      "100%|██████████| 15/15 [00:02<00:00,  7.34it/s]\n",
      "100%|██████████| 15/15 [00:01<00:00,  7.54it/s]\n",
      "100%|██████████| 15/15 [00:02<00:00,  7.32it/s]\n",
      "100%|██████████| 15/15 [00:02<00:00,  7.09it/s]\n",
      "100%|██████████| 15/15 [00:02<00:00,  7.05it/s]\n",
      "100%|██████████| 15/15 [00:02<00:00,  7.24it/s]\n",
      "100%|██████████| 15/15 [00:02<00:00,  6.55it/s]\n",
      "100%|██████████| 15/15 [00:02<00:00,  6.92it/s]\n",
      "100%|██████████| 15/15 [00:02<00:00,  6.34it/s]\n",
      "100%|██████████| 15/15 [00:02<00:00,  6.55it/s]\n",
      "100%|██████████| 15/15 [00:02<00:00,  6.82it/s]\n",
      "100%|██████████| 15/15 [00:02<00:00,  6.26it/s]\n",
      "100%|██████████| 15/15 [00:02<00:00,  6.55it/s]\n",
      "100%|██████████| 15/15 [00:02<00:00,  6.46it/s]\n",
      "100%|██████████| 15/15 [00:03<00:00,  4.59it/s]\n",
      "100%|██████████| 15/15 [00:02<00:00,  5.07it/s]\n",
      "100%|██████████| 15/15 [00:02<00:00,  5.16it/s]\n",
      "100%|██████████| 15/15 [00:02<00:00,  5.84it/s]\n",
      "100%|██████████| 15/15 [00:02<00:00,  5.53it/s]\n",
      "100%|██████████| 15/15 [00:02<00:00,  5.01it/s]\n",
      "100%|██████████| 15/15 [00:02<00:00,  5.94it/s]\n",
      "100%|██████████| 15/15 [00:02<00:00,  5.65it/s]\n",
      "100%|██████████| 15/15 [00:03<00:00,  4.91it/s]\n",
      "100%|██████████| 15/15 [00:02<00:00,  5.70it/s]\n",
      "100%|██████████| 15/15 [00:02<00:00,  5.84it/s]\n",
      "100%|██████████| 15/15 [00:02<00:00,  6.26it/s]\n",
      "100%|██████████| 15/15 [00:02<00:00,  6.04it/s]\n",
      "100%|██████████| 15/15 [00:02<00:00,  5.73it/s]\n",
      "100%|██████████| 15/15 [00:02<00:00,  6.12it/s]\n",
      "100%|██████████| 15/15 [00:02<00:00,  6.15it/s]\n",
      "100%|██████████| 15/15 [00:02<00:00,  6.13it/s]\n",
      "100%|██████████| 15/15 [00:02<00:00,  6.03it/s]\n",
      "100%|██████████| 15/15 [00:02<00:00,  6.06it/s]\n",
      "100%|██████████| 15/15 [00:02<00:00,  5.96it/s]\n",
      "100%|██████████| 15/15 [00:02<00:00,  5.59it/s]\n",
      "100%|██████████| 15/15 [00:02<00:00,  5.92it/s]\n",
      "100%|██████████| 15/15 [00:02<00:00,  5.57it/s]\n",
      "100%|██████████| 15/15 [00:02<00:00,  5.38it/s]\n",
      "100%|██████████| 15/15 [00:02<00:00,  5.90it/s]\n",
      "100%|██████████| 15/15 [00:02<00:00,  5.81it/s]\n",
      "100%|██████████| 15/15 [00:03<00:00,  4.95it/s]\n",
      "100%|██████████| 15/15 [00:02<00:00,  6.13it/s]\n",
      "100%|██████████| 15/15 [00:02<00:00,  5.33it/s]\n",
      "100%|██████████| 15/15 [00:02<00:00,  5.80it/s]\n",
      "100%|██████████| 15/15 [00:02<00:00,  6.09it/s]\n",
      "100%|██████████| 15/15 [00:02<00:00,  5.76it/s]\n",
      "100%|██████████| 15/15 [00:02<00:00,  5.60it/s]\n",
      "100%|██████████| 15/15 [00:03<00:00,  4.32it/s]\n",
      " 67%|██████▋   | 10/15 [00:02<00:01,  4.96it/s]/Users/marcoghezzi/PycharmProjects/pythonProject/venv/lib/python3.9/site-packages/sklearn/neural_network/_multilayer_perceptron.py:709: UserWarning: Training interrupted by user.\n",
      "  warnings.warn(\"Training interrupted by user.\")\n",
      "100%|██████████| 15/15 [00:02<00:00,  5.18it/s]\n",
      "  0%|          | 0/15 [00:00<?, ?it/s]/Users/marcoghezzi/PycharmProjects/pythonProject/venv/lib/python3.9/site-packages/sklearn/neural_network/_multilayer_perceptron.py:709: UserWarning: Training interrupted by user.\n",
      "  warnings.warn(\"Training interrupted by user.\")\n",
      "100%|██████████| 15/15 [00:02<00:00,  6.32it/s]\n",
      "100%|██████████| 15/15 [00:02<00:00,  5.68it/s]\n",
      "100%|██████████| 15/15 [00:02<00:00,  6.21it/s]\n",
      "100%|██████████| 15/15 [00:02<00:00,  6.23it/s]\n",
      "100%|██████████| 15/15 [00:02<00:00,  6.10it/s]\n",
      "100%|██████████| 15/15 [00:02<00:00,  6.35it/s]\n",
      "100%|██████████| 15/15 [00:02<00:00,  6.17it/s]\n",
      "100%|██████████| 15/15 [00:02<00:00,  6.27it/s]\n",
      "100%|██████████| 15/15 [00:02<00:00,  6.11it/s]\n",
      "100%|██████████| 15/15 [00:02<00:00,  6.10it/s]\n",
      "100%|██████████| 15/15 [00:02<00:00,  6.23it/s]\n",
      "100%|██████████| 15/15 [00:02<00:00,  6.29it/s]\n",
      "100%|██████████| 15/15 [00:02<00:00,  5.89it/s]\n",
      "100%|██████████| 15/15 [00:02<00:00,  6.10it/s]\n",
      "100%|██████████| 15/15 [00:02<00:00,  6.00it/s]\n",
      "100%|██████████| 15/15 [00:03<00:00,  4.73it/s]\n",
      "100%|██████████| 15/15 [00:02<00:00,  6.14it/s]\n",
      "100%|██████████| 15/15 [00:02<00:00,  6.23it/s]\n",
      "100%|██████████| 15/15 [00:02<00:00,  6.55it/s]\n",
      "100%|██████████| 15/15 [00:02<00:00,  5.99it/s]\n",
      "100%|██████████| 15/15 [00:02<00:00,  5.58it/s]\n",
      "100%|██████████| 15/15 [00:02<00:00,  6.02it/s]\n",
      "100%|██████████| 15/15 [00:02<00:00,  5.34it/s]\n",
      "100%|██████████| 15/15 [00:09<00:00,  1.61it/s]\n",
      "100%|██████████| 15/15 [00:03<00:00,  4.39it/s]\n",
      "100%|██████████| 15/15 [00:03<00:00,  4.86it/s]\n",
      "100%|██████████| 15/15 [00:03<00:00,  4.08it/s]\n",
      "100%|██████████| 15/15 [00:03<00:00,  4.46it/s]\n",
      "100%|██████████| 15/15 [00:04<00:00,  3.46it/s]\n",
      "100%|██████████| 15/15 [00:03<00:00,  3.89it/s]\n",
      "100%|██████████| 15/15 [00:03<00:00,  4.53it/s]\n",
      "100%|██████████| 15/15 [00:02<00:00,  5.04it/s]\n",
      "100%|██████████| 15/15 [00:02<00:00,  5.94it/s]\n",
      "100%|██████████| 15/15 [00:02<00:00,  5.85it/s]\n",
      "100%|██████████| 15/15 [00:02<00:00,  5.59it/s]\n",
      "100%|██████████| 15/15 [00:02<00:00,  5.60it/s]\n",
      "100%|██████████| 15/15 [00:02<00:00,  5.28it/s]\n",
      "100%|██████████| 15/15 [00:02<00:00,  5.65it/s]\n",
      "100%|██████████| 15/15 [00:02<00:00,  5.48it/s]\n",
      "100%|██████████| 15/15 [00:02<00:00,  5.03it/s]\n",
      "100%|██████████| 15/15 [00:02<00:00,  5.18it/s]\n",
      " 47%|████▋     | 7/15 [00:01<00:01,  4.26it/s]/Users/marcoghezzi/PycharmProjects/pythonProject/venv/lib/python3.9/site-packages/sklearn/neural_network/_multilayer_perceptron.py:709: UserWarning: Training interrupted by user.\n",
      "  warnings.warn(\"Training interrupted by user.\")\n",
      " 53%|█████▎    | 8/15 [00:01<00:01,  4.74it/s]/Users/marcoghezzi/PycharmProjects/pythonProject/venv/lib/python3.9/site-packages/sklearn/neural_network/_multilayer_perceptron.py:709: UserWarning: Training interrupted by user.\n",
      "  warnings.warn(\"Training interrupted by user.\")\n",
      " 60%|██████    | 9/15 [00:01<00:01,  5.23it/s]/Users/marcoghezzi/PycharmProjects/pythonProject/venv/lib/python3.9/site-packages/sklearn/neural_network/_multilayer_perceptron.py:709: UserWarning: Training interrupted by user.\n",
      "  warnings.warn(\"Training interrupted by user.\")\n",
      " 67%|██████▋   | 10/15 [00:02<00:00,  5.80it/s]/Users/marcoghezzi/PycharmProjects/pythonProject/venv/lib/python3.9/site-packages/sklearn/neural_network/_multilayer_perceptron.py:709: UserWarning: Training interrupted by user.\n",
      "  warnings.warn(\"Training interrupted by user.\")\n",
      " 73%|███████▎  | 11/15 [00:02<00:00,  6.02it/s]/Users/marcoghezzi/PycharmProjects/pythonProject/venv/lib/python3.9/site-packages/sklearn/neural_network/_multilayer_perceptron.py:709: UserWarning: Training interrupted by user.\n",
      "  warnings.warn(\"Training interrupted by user.\")\n",
      " 80%|████████  | 12/15 [00:02<00:00,  6.68it/s]/Users/marcoghezzi/PycharmProjects/pythonProject/venv/lib/python3.9/site-packages/sklearn/neural_network/_multilayer_perceptron.py:709: UserWarning: Training interrupted by user.\n",
      "  warnings.warn(\"Training interrupted by user.\")\n",
      " 87%|████████▋ | 13/15 [00:02<00:00,  6.67it/s]/Users/marcoghezzi/PycharmProjects/pythonProject/venv/lib/python3.9/site-packages/sklearn/neural_network/_multilayer_perceptron.py:709: UserWarning: Training interrupted by user.\n",
      "  warnings.warn(\"Training interrupted by user.\")\n",
      " 93%|█████████▎| 14/15 [00:02<00:00,  6.79it/s]/Users/marcoghezzi/PycharmProjects/pythonProject/venv/lib/python3.9/site-packages/sklearn/neural_network/_multilayer_perceptron.py:709: UserWarning: Training interrupted by user.\n",
      "  warnings.warn(\"Training interrupted by user.\")\n",
      "100%|██████████| 15/15 [00:02<00:00,  5.48it/s]\n",
      "  0%|          | 0/15 [00:00<?, ?it/s]/Users/marcoghezzi/PycharmProjects/pythonProject/venv/lib/python3.9/site-packages/sklearn/neural_network/_multilayer_perceptron.py:709: UserWarning: Training interrupted by user.\n",
      "  warnings.warn(\"Training interrupted by user.\")\n",
      "  7%|▋         | 1/15 [00:00<00:01,  7.77it/s]/Users/marcoghezzi/PycharmProjects/pythonProject/venv/lib/python3.9/site-packages/sklearn/neural_network/_multilayer_perceptron.py:709: UserWarning: Training interrupted by user.\n",
      "  warnings.warn(\"Training interrupted by user.\")\n",
      " 13%|█▎        | 2/15 [00:00<00:01,  7.12it/s]/Users/marcoghezzi/PycharmProjects/pythonProject/venv/lib/python3.9/site-packages/sklearn/neural_network/_multilayer_perceptron.py:709: UserWarning: Training interrupted by user.\n",
      "  warnings.warn(\"Training interrupted by user.\")\n",
      " 20%|██        | 3/15 [00:00<00:01,  6.91it/s]/Users/marcoghezzi/PycharmProjects/pythonProject/venv/lib/python3.9/site-packages/sklearn/neural_network/_multilayer_perceptron.py:709: UserWarning: Training interrupted by user.\n",
      "  warnings.warn(\"Training interrupted by user.\")\n",
      " 27%|██▋       | 4/15 [00:00<00:01,  6.80it/s]/Users/marcoghezzi/PycharmProjects/pythonProject/venv/lib/python3.9/site-packages/sklearn/neural_network/_multilayer_perceptron.py:709: UserWarning: Training interrupted by user.\n",
      "  warnings.warn(\"Training interrupted by user.\")\n",
      " 33%|███▎      | 5/15 [00:00<00:01,  6.71it/s]/Users/marcoghezzi/PycharmProjects/pythonProject/venv/lib/python3.9/site-packages/sklearn/neural_network/_multilayer_perceptron.py:709: UserWarning: Training interrupted by user.\n",
      "  warnings.warn(\"Training interrupted by user.\")\n",
      " 40%|████      | 6/15 [00:00<00:01,  6.73it/s]/Users/marcoghezzi/PycharmProjects/pythonProject/venv/lib/python3.9/site-packages/sklearn/neural_network/_multilayer_perceptron.py:709: UserWarning: Training interrupted by user.\n",
      "  warnings.warn(\"Training interrupted by user.\")\n",
      " 47%|████▋     | 7/15 [00:01<00:01,  6.72it/s]/Users/marcoghezzi/PycharmProjects/pythonProject/venv/lib/python3.9/site-packages/sklearn/neural_network/_multilayer_perceptron.py:709: UserWarning: Training interrupted by user.\n",
      "  warnings.warn(\"Training interrupted by user.\")\n",
      " 53%|█████▎    | 8/15 [00:01<00:01,  6.70it/s]/Users/marcoghezzi/PycharmProjects/pythonProject/venv/lib/python3.9/site-packages/sklearn/neural_network/_multilayer_perceptron.py:709: UserWarning: Training interrupted by user.\n",
      "  warnings.warn(\"Training interrupted by user.\")\n",
      " 60%|██████    | 9/15 [00:01<00:00,  6.69it/s]/Users/marcoghezzi/PycharmProjects/pythonProject/venv/lib/python3.9/site-packages/sklearn/neural_network/_multilayer_perceptron.py:709: UserWarning: Training interrupted by user.\n",
      "  warnings.warn(\"Training interrupted by user.\")\n",
      " 67%|██████▋   | 10/15 [00:01<00:00,  6.68it/s]/Users/marcoghezzi/PycharmProjects/pythonProject/venv/lib/python3.9/site-packages/sklearn/neural_network/_multilayer_perceptron.py:709: UserWarning: Training interrupted by user.\n",
      "  warnings.warn(\"Training interrupted by user.\")\n",
      " 73%|███████▎  | 11/15 [00:01<00:00,  6.45it/s]/Users/marcoghezzi/PycharmProjects/pythonProject/venv/lib/python3.9/site-packages/sklearn/neural_network/_multilayer_perceptron.py:709: UserWarning: Training interrupted by user.\n",
      "  warnings.warn(\"Training interrupted by user.\")\n",
      " 80%|████████  | 12/15 [00:01<00:00,  6.52it/s]/Users/marcoghezzi/PycharmProjects/pythonProject/venv/lib/python3.9/site-packages/sklearn/neural_network/_multilayer_perceptron.py:709: UserWarning: Training interrupted by user.\n",
      "  warnings.warn(\"Training interrupted by user.\")\n",
      " 87%|████████▋ | 13/15 [00:01<00:00,  6.79it/s]/Users/marcoghezzi/PycharmProjects/pythonProject/venv/lib/python3.9/site-packages/sklearn/neural_network/_multilayer_perceptron.py:709: UserWarning: Training interrupted by user.\n",
      "  warnings.warn(\"Training interrupted by user.\")\n",
      " 93%|█████████▎| 14/15 [00:02<00:00,  6.53it/s]/Users/marcoghezzi/PycharmProjects/pythonProject/venv/lib/python3.9/site-packages/sklearn/neural_network/_multilayer_perceptron.py:709: UserWarning: Training interrupted by user.\n",
      "  warnings.warn(\"Training interrupted by user.\")\n",
      "100%|██████████| 15/15 [00:02<00:00,  6.68it/s]\n",
      "  0%|          | 0/15 [00:00<?, ?it/s]/Users/marcoghezzi/PycharmProjects/pythonProject/venv/lib/python3.9/site-packages/sklearn/neural_network/_multilayer_perceptron.py:709: UserWarning: Training interrupted by user.\n",
      "  warnings.warn(\"Training interrupted by user.\")\n",
      "  7%|▋         | 1/15 [00:00<00:02,  6.21it/s]/Users/marcoghezzi/PycharmProjects/pythonProject/venv/lib/python3.9/site-packages/sklearn/neural_network/_multilayer_perceptron.py:709: UserWarning: Training interrupted by user.\n",
      "  warnings.warn(\"Training interrupted by user.\")\n",
      " 13%|█▎        | 2/15 [00:00<00:02,  6.41it/s]/Users/marcoghezzi/PycharmProjects/pythonProject/venv/lib/python3.9/site-packages/sklearn/neural_network/_multilayer_perceptron.py:709: UserWarning: Training interrupted by user.\n",
      "  warnings.warn(\"Training interrupted by user.\")\n",
      " 20%|██        | 3/15 [00:00<00:01,  6.25it/s]/Users/marcoghezzi/PycharmProjects/pythonProject/venv/lib/python3.9/site-packages/sklearn/neural_network/_multilayer_perceptron.py:709: UserWarning: Training interrupted by user.\n",
      "  warnings.warn(\"Training interrupted by user.\")\n",
      " 27%|██▋       | 4/15 [00:00<00:01,  6.42it/s]/Users/marcoghezzi/PycharmProjects/pythonProject/venv/lib/python3.9/site-packages/sklearn/neural_network/_multilayer_perceptron.py:709: UserWarning: Training interrupted by user.\n",
      "  warnings.warn(\"Training interrupted by user.\")\n",
      " 33%|███▎      | 5/15 [00:00<00:01,  6.51it/s]/Users/marcoghezzi/PycharmProjects/pythonProject/venv/lib/python3.9/site-packages/sklearn/neural_network/_multilayer_perceptron.py:709: UserWarning: Training interrupted by user.\n",
      "  warnings.warn(\"Training interrupted by user.\")\n",
      " 40%|████      | 6/15 [00:00<00:01,  6.46it/s]/Users/marcoghezzi/PycharmProjects/pythonProject/venv/lib/python3.9/site-packages/sklearn/neural_network/_multilayer_perceptron.py:709: UserWarning: Training interrupted by user.\n",
      "  warnings.warn(\"Training interrupted by user.\")\n",
      " 47%|████▋     | 7/15 [00:01<00:01,  6.38it/s]/Users/marcoghezzi/PycharmProjects/pythonProject/venv/lib/python3.9/site-packages/sklearn/neural_network/_multilayer_perceptron.py:709: UserWarning: Training interrupted by user.\n",
      "  warnings.warn(\"Training interrupted by user.\")\n",
      " 53%|█████▎    | 8/15 [00:01<00:01,  6.63it/s]/Users/marcoghezzi/PycharmProjects/pythonProject/venv/lib/python3.9/site-packages/sklearn/neural_network/_multilayer_perceptron.py:709: UserWarning: Training interrupted by user.\n",
      "  warnings.warn(\"Training interrupted by user.\")\n",
      " 60%|██████    | 9/15 [00:01<00:00,  6.28it/s]/Users/marcoghezzi/PycharmProjects/pythonProject/venv/lib/python3.9/site-packages/sklearn/neural_network/_multilayer_perceptron.py:709: UserWarning: Training interrupted by user.\n",
      "  warnings.warn(\"Training interrupted by user.\")\n",
      " 67%|██████▋   | 10/15 [00:01<00:00,  6.60it/s]/Users/marcoghezzi/PycharmProjects/pythonProject/venv/lib/python3.9/site-packages/sklearn/neural_network/_multilayer_perceptron.py:709: UserWarning: Training interrupted by user.\n",
      "  warnings.warn(\"Training interrupted by user.\")\n",
      " 73%|███████▎  | 11/15 [00:01<00:00,  6.33it/s]/Users/marcoghezzi/PycharmProjects/pythonProject/venv/lib/python3.9/site-packages/sklearn/neural_network/_multilayer_perceptron.py:709: UserWarning: Training interrupted by user.\n",
      "  warnings.warn(\"Training interrupted by user.\")\n",
      " 87%|████████▋ | 13/15 [00:02<00:00,  5.71it/s]/Users/marcoghezzi/PycharmProjects/pythonProject/venv/lib/python3.9/site-packages/sklearn/neural_network/_multilayer_perceptron.py:709: UserWarning: Training interrupted by user.\n",
      "  warnings.warn(\"Training interrupted by user.\")\n",
      " 93%|█████████▎| 14/15 [00:02<00:00,  6.08it/s]/Users/marcoghezzi/PycharmProjects/pythonProject/venv/lib/python3.9/site-packages/sklearn/neural_network/_multilayer_perceptron.py:709: UserWarning: Training interrupted by user.\n",
      "  warnings.warn(\"Training interrupted by user.\")\n",
      "100%|██████████| 15/15 [00:02<00:00,  6.30it/s]\n",
      "  0%|          | 0/15 [00:00<?, ?it/s]/Users/marcoghezzi/PycharmProjects/pythonProject/venv/lib/python3.9/site-packages/sklearn/neural_network/_multilayer_perceptron.py:709: UserWarning: Training interrupted by user.\n",
      "  warnings.warn(\"Training interrupted by user.\")\n",
      " 47%|████▋     | 7/15 [00:01<00:01,  4.89it/s]/Users/marcoghezzi/PycharmProjects/pythonProject/venv/lib/python3.9/site-packages/sklearn/neural_network/_multilayer_perceptron.py:709: UserWarning: Training interrupted by user.\n",
      "  warnings.warn(\"Training interrupted by user.\")\n",
      "/Users/marcoghezzi/PycharmProjects/pythonProject/venv/lib/python3.9/site-packages/sklearn/neural_network/_multilayer_perceptron.py:709: UserWarning: Training interrupted by user.\n",
      "  warnings.warn(\"Training interrupted by user.\")\n",
      " 60%|██████    | 9/15 [00:01<00:00,  6.67it/s]/Users/marcoghezzi/PycharmProjects/pythonProject/venv/lib/python3.9/site-packages/sklearn/neural_network/_multilayer_perceptron.py:709: UserWarning: Training interrupted by user.\n",
      "  warnings.warn(\"Training interrupted by user.\")\n",
      " 67%|██████▋   | 10/15 [00:01<00:00,  6.68it/s]/Users/marcoghezzi/PycharmProjects/pythonProject/venv/lib/python3.9/site-packages/sklearn/neural_network/_multilayer_perceptron.py:709: UserWarning: Training interrupted by user.\n",
      "  warnings.warn(\"Training interrupted by user.\")\n",
      " 73%|███████▎  | 11/15 [00:01<00:00,  6.67it/s]/Users/marcoghezzi/PycharmProjects/pythonProject/venv/lib/python3.9/site-packages/sklearn/neural_network/_multilayer_perceptron.py:709: UserWarning: Training interrupted by user.\n",
      "  warnings.warn(\"Training interrupted by user.\")\n",
      " 87%|████████▋ | 13/15 [00:02<00:00,  5.80it/s]\n",
      "\n",
      "KeyboardInterrupt\n",
      "\n"
     ]
    }
   ],
   "source": [
    "from tqdm import tqdm\n",
    "\n",
    "# test tuning MLP\n",
    "first_layer_neurons = np.arange(10, 150, 10)\n",
    "second_layer_neurons = np.arange(10, 150, 10)\n",
    "third_layer_neurons = np.arange(10, 150, 10)\n",
    "\n",
    "\n",
    "best_hyperP = pd.DataFrame(columns=['first layer', 'second layer', 'third layer', 'train', 'test'])\n",
    "\n",
    "for first in first_layer_neurons:\n",
    "    for second in second_layer_neurons:\n",
    "        for third in third_layer_neurons:\n",
    "            mean_test = []\n",
    "            mean_train = []\n",
    "            for sub in valid_subject:\n",
    "                string_sub = extract_correct_csv.read_correct_subject_csv(sub)\n",
    "                df_ = pd.read_csv('data/LookAtMe_0'+string_sub+'.csv', sep='\\t')\n",
    "                y = np.array(list([int (d > 2) for d in df_['rating']]))\n",
    "                y = y[48:]\n",
    "                X1 = pd.read_csv('data/features_4_2/hr/'+str(sub)+'.csv')\n",
    "                X1 = pd.DataFrame(scaler.fit_transform(X1))\n",
    "                X2 = pd.read_csv('data/features_4_2/eda/'+str(sub)+'.csv')\n",
    "                X2 = pd.DataFrame(scaler.fit_transform(X2))\n",
    "                X3 = pd.read_csv('data/features_4_2/pupil/'+str(sub)+'.csv')\n",
    "                X3 = pd.DataFrame(scaler.fit_transform(X3))\n",
    "                X = pd.concat([X1, X2, X3], axis=1)\n",
    "                X = X[48:]\n",
    "                X_train, X_test,y_train, y_test = train_test_split(X, y, test_size=0.15, random_state=123, stratify=y)\n",
    "                clf = MLPClassifier(hidden_layer_sizes=(first, second, third),\n",
    "                                    max_iter=3000,\n",
    "                                    learning_rate='adaptive',\n",
    "                                    random_state=123)\\\n",
    "                    .fit(X_train, y_train)\n",
    "                mean_train.append(clf.score(X_train, y_train))\n",
    "                mean_test.append(clf.score(X_test, y_test))\n",
    "\n",
    "            row_dict = {'first layer': first,\n",
    "                        'second layer': second,\n",
    "                        'third layer': third,\n",
    "                        'train': np.array(mean_train).mean(),\n",
    "                        'test': np.array(mean_test).mean()}\n",
    "            best_hyperP = pd.concat([best_hyperP, pd.DataFrame(data=row_dict, index=np.arange(1))], ignore_index=True)\n",
    "best_hyperP.to_csv('output_mlp.csv')"
   ],
   "metadata": {
    "collapsed": false
   }
  },
  {
   "cell_type": "code",
   "execution_count": 73,
   "outputs": [
    {
     "data": {
      "text/plain": "first layer           80\nsecond layer          10\ntrain                1.0\ntest            0.666667\nName: 63, dtype: object"
     },
     "execution_count": 73,
     "metadata": {},
     "output_type": "execute_result"
    }
   ],
   "source": [
    "best_hyperP.loc[best_hyperP.test.idxmax()]"
   ],
   "metadata": {
    "collapsed": false
   }
  },
  {
   "cell_type": "code",
   "execution_count": 53,
   "outputs": [
    {
     "data": {
      "text/plain": "   Subject  Train      Test\n0        2    1.0  0.823529\n1        4    1.0  0.529412\n2       10    1.0  0.588235\n3       41    1.0  0.588235\n4       43    1.0  0.705882\n5       44    1.0  0.529412\n6       45    1.0  0.764706\n7       46    1.0  0.647059\n8       47    1.0  0.647059\n9       48    1.0  0.764706\n10      49    1.0  0.588235\n11      52    1.0  0.764706\n12      53    1.0  0.588235\n13      54    1.0  0.647059\n14      55    1.0  0.588235",
      "text/html": "<div>\n<style scoped>\n    .dataframe tbody tr th:only-of-type {\n        vertical-align: middle;\n    }\n\n    .dataframe tbody tr th {\n        vertical-align: top;\n    }\n\n    .dataframe thead th {\n        text-align: right;\n    }\n</style>\n<table border=\"1\" class=\"dataframe\">\n  <thead>\n    <tr style=\"text-align: right;\">\n      <th></th>\n      <th>Subject</th>\n      <th>Train</th>\n      <th>Test</th>\n    </tr>\n  </thead>\n  <tbody>\n    <tr>\n      <th>0</th>\n      <td>2</td>\n      <td>1.0</td>\n      <td>0.823529</td>\n    </tr>\n    <tr>\n      <th>1</th>\n      <td>4</td>\n      <td>1.0</td>\n      <td>0.529412</td>\n    </tr>\n    <tr>\n      <th>2</th>\n      <td>10</td>\n      <td>1.0</td>\n      <td>0.588235</td>\n    </tr>\n    <tr>\n      <th>3</th>\n      <td>41</td>\n      <td>1.0</td>\n      <td>0.588235</td>\n    </tr>\n    <tr>\n      <th>4</th>\n      <td>43</td>\n      <td>1.0</td>\n      <td>0.705882</td>\n    </tr>\n    <tr>\n      <th>5</th>\n      <td>44</td>\n      <td>1.0</td>\n      <td>0.529412</td>\n    </tr>\n    <tr>\n      <th>6</th>\n      <td>45</td>\n      <td>1.0</td>\n      <td>0.764706</td>\n    </tr>\n    <tr>\n      <th>7</th>\n      <td>46</td>\n      <td>1.0</td>\n      <td>0.647059</td>\n    </tr>\n    <tr>\n      <th>8</th>\n      <td>47</td>\n      <td>1.0</td>\n      <td>0.647059</td>\n    </tr>\n    <tr>\n      <th>9</th>\n      <td>48</td>\n      <td>1.0</td>\n      <td>0.764706</td>\n    </tr>\n    <tr>\n      <th>10</th>\n      <td>49</td>\n      <td>1.0</td>\n      <td>0.588235</td>\n    </tr>\n    <tr>\n      <th>11</th>\n      <td>52</td>\n      <td>1.0</td>\n      <td>0.764706</td>\n    </tr>\n    <tr>\n      <th>12</th>\n      <td>53</td>\n      <td>1.0</td>\n      <td>0.588235</td>\n    </tr>\n    <tr>\n      <th>13</th>\n      <td>54</td>\n      <td>1.0</td>\n      <td>0.647059</td>\n    </tr>\n    <tr>\n      <th>14</th>\n      <td>55</td>\n      <td>1.0</td>\n      <td>0.588235</td>\n    </tr>\n  </tbody>\n</table>\n</div>"
     },
     "execution_count": 53,
     "metadata": {},
     "output_type": "execute_result"
    }
   ],
   "source": [
    "\n",
    "columns = ['Subject', 'Train', 'Test']\n",
    "\n",
    "mean_MLP_df = pd.DataFrame(columns=columns)\n",
    "for sub in valid_subject:\n",
    "    string_sub = extract_correct_csv.read_correct_subject_csv(sub)\n",
    "    df_ = pd.read_csv('data/LookAtMe_0'+string_sub+'.csv', sep='\\t')\n",
    "    y = np.array(list([int (d > 2) for d in df_['rating']]))\n",
    "    y = y[48:]\n",
    "\n",
    "\n",
    "    X1 = pd.read_csv('data/features_4_2/hr/'+str(sub)+'.csv')\n",
    "    X1 = pd.DataFrame(scaler.fit_transform(X1))\n",
    "    X2 = pd.read_csv('data/features_4_2/eda/'+str(sub)+'.csv')\n",
    "    X2 = pd.DataFrame(scaler.fit_transform(X2))\n",
    "    X3 = pd.read_csv('data/features_4_2/pupil/'+str(sub)+'.csv')\n",
    "    X3 = pd.DataFrame(scaler.fit_transform(X3))\n",
    "\n",
    "    X = pd.concat([X1, X2, X3], axis=1)\n",
    "    X = X[48:]\n",
    "    X_train, X_test,y_train, y_test = train_test_split(X, y, test_size=0.15, random_state=123, stratify=y)\n",
    "    clf = MLPClassifier(hidden_layer_sizes=(100, 50, 20), max_iter=1500, learning_rate='adaptive', random_state=123).fit(X_train, y_train)\n",
    "    row_ = {'Subject': sub,\n",
    "            'Train': clf.score(X_train, y_train),\n",
    "            'Test':clf.score(X_test, y_test)}\n",
    "    mean_MLP_df = pd.concat([mean_MLP_df, pd.DataFrame(data=row_, index=np.arange(1))], ignore_index=True)\n",
    "mean_MLP_df"
   ],
   "metadata": {
    "collapsed": false
   }
  },
  {
   "cell_type": "code",
   "execution_count": 54,
   "outputs": [
    {
     "data": {
      "text/plain": "0.6509803921568627"
     },
     "execution_count": 54,
     "metadata": {},
     "output_type": "execute_result"
    }
   ],
   "source": [
    "mean_MLP_df.Test.mean()"
   ],
   "metadata": {
    "collapsed": false
   }
  },
  {
   "cell_type": "markdown",
   "source": [
    "## Logistic regression with morph level"
   ],
   "metadata": {
    "collapsed": false
   }
  },
  {
   "cell_type": "code",
   "execution_count": 1,
   "outputs": [],
   "source": [
    "# extract morph level functions\n",
    "def extract_cs(df):\n",
    "    cs1, cs2 = int(df[df.shock == True].picName.unique()[0][5]), int(df[df.shock == True].picName.unique()[1][5])\n",
    "    return cs1, cs2\n",
    "\n",
    "\n",
    "morph_pos = 11\n",
    "morph_value = 15\n",
    "\n",
    "\n",
    "def extract_threat_level(df):\n",
    "    MORPH_POS = 11\n",
    "    MORPH_VALUE = 15\n",
    "    threat_person = []\n",
    "    cs1_pic, cs2_pic = extract_cs(df)\n",
    "\n",
    "    for i in df.iterrows():\n",
    "        nome = i[1].picName\n",
    "        try:\n",
    "            if nome[5] == str(cs1_pic) or nome[5] == str(cs2_pic):\n",
    "                threat_person.append(6)\n",
    "                continue\n",
    "            elif int(nome[5]):\n",
    "                threat_person.append(1)\n",
    "                continue\n",
    "        except:\n",
    "            if (int(nome[MORPH_POS]) == cs1_pic) or (int(nome[MORPH_POS]) == cs2_pic):\n",
    "                if nome[MORPH_VALUE] == '2':\n",
    "                    threat_person.append(5)\n",
    "\n",
    "                elif nome[MORPH_VALUE] == '4':\n",
    "                    threat_person.append(4)\n",
    "\n",
    "                elif nome[MORPH_VALUE] == '6':\n",
    "                    threat_person.append(3)\n",
    "\n",
    "                elif nome[MORPH_VALUE] == '8':\n",
    "                    threat_person.append(2)\n",
    "                    continue\n",
    "            else:\n",
    "                if nome[MORPH_VALUE] == '2':\n",
    "                    threat_person.append(2)\n",
    "\n",
    "                elif nome[MORPH_VALUE] == '4':\n",
    "                    threat_person.append(3)\n",
    "\n",
    "                elif nome[MORPH_VALUE] == '6':\n",
    "                    threat_person.append(4)\n",
    "\n",
    "                elif nome[MORPH_VALUE] == '8':\n",
    "                    threat_person.append(5)\n",
    "    return threat_person"
   ],
   "metadata": {
    "collapsed": false
   }
  },
  {
   "cell_type": "code",
   "execution_count": null,
   "outputs": [],
   "source": [
    "subjects = extract_correct_csv.extract_only_valid_subject()\n"
   ],
   "metadata": {
    "collapsed": false
   }
  },
  {
   "cell_type": "code",
   "execution_count": 8,
   "outputs": [],
   "source": [
    "columns = ['subject', 'feature', 'fold', 'train accuracy', 'test accuracy']\n",
    "results = pd.DataFrame(columns = columns)\n",
    "\n",
    "for x in subjects:\n",
    "    string_sub = extract_correct_csv.read_correct_subject_csv(x)\n",
    "    df_ = pd.read_csv('data/LookAtMe_0'+string_sub+'.csv', sep='\\t')\n",
    "    df_ = df_[48:]\n",
    "    y = np.array(list([int (d > 2) for d in df_['rating']]))\n",
    "\n",
    "\n",
    "    img = np.array(extract_threat_level(df_))\n",
    "    morph_level = np.zeros((img.size, img.max()))\n",
    "    morph_level[np.arange(img.size), img-1] = 1\n",
    "    X = morph_level.astype(int)\n",
    "    X = pd.DataFrame(X)\n",
    "    X = X.reset_index().drop(columns='index')\n",
    "\n",
    "    sss = StratifiedShuffleSplit(n_splits=3, test_size=0.2, random_state=123)\n",
    "\n",
    "    for i, (train_index, test_index) in enumerate(sss.split(X, y)):\n",
    "        y = pd.DataFrame(y)\n",
    "        y = y.reset_index().drop(columns=('index'))\n",
    "\n",
    "        N_train = len(train_index)\n",
    "        X_train = X.iloc[train_index, :]\n",
    "        y_train =y.iloc[train_index, :]\n",
    "\n",
    "        X_test = X.iloc[test_index, :]\n",
    "        y_test =y.iloc[test_index, :]\n",
    "\n",
    "        clf = LogisticRegression(random_state=123,max_iter=10000)\n",
    "        clf.fit(X_train, np.squeeze(np.array(y_train)))\n",
    "\n",
    "        train_ = clf.score(X_train, y_train)\n",
    "        test_ = clf.score(X_test, y_test)\n",
    "        dict_ = {'subject': x, 'feature': 'morph level' ,'fold':int(i), 'train accuracy': train_, 'test accuracy': test_}\n",
    "        results = pd.concat([results, pd.DataFrame(data=dict_, index=np.arange(1))], ignore_index=True)"
   ],
   "metadata": {
    "collapsed": false
   }
  },
  {
   "cell_type": "code",
   "execution_count": 11,
   "outputs": [
    {
     "data": {
      "text/plain": "         train accuracy  test accuracy\nsubject                               \n2              0.794007       0.811594\n4              0.670412       0.666667\n10             0.696629       0.782609\n41             0.771536       0.623188\n43             0.868914       0.855072\n44             0.707865       0.579710\n45             0.921348       0.913043\n46             0.655431       0.637681\n47             0.910112       0.840580\n48             0.734082       0.681159\n49             0.883895       0.884058\n50             0.677903       0.565217\n51             0.820225       0.869565\n52             0.760300       0.797101\n53             0.876404       0.869565\n54             0.891386       0.855072\n55             0.913858       0.942029",
      "text/html": "<div>\n<style scoped>\n    .dataframe tbody tr th:only-of-type {\n        vertical-align: middle;\n    }\n\n    .dataframe tbody tr th {\n        vertical-align: top;\n    }\n\n    .dataframe thead th {\n        text-align: right;\n    }\n</style>\n<table border=\"1\" class=\"dataframe\">\n  <thead>\n    <tr style=\"text-align: right;\">\n      <th></th>\n      <th>train accuracy</th>\n      <th>test accuracy</th>\n    </tr>\n    <tr>\n      <th>subject</th>\n      <th></th>\n      <th></th>\n    </tr>\n  </thead>\n  <tbody>\n    <tr>\n      <th>2</th>\n      <td>0.794007</td>\n      <td>0.811594</td>\n    </tr>\n    <tr>\n      <th>4</th>\n      <td>0.670412</td>\n      <td>0.666667</td>\n    </tr>\n    <tr>\n      <th>10</th>\n      <td>0.696629</td>\n      <td>0.782609</td>\n    </tr>\n    <tr>\n      <th>41</th>\n      <td>0.771536</td>\n      <td>0.623188</td>\n    </tr>\n    <tr>\n      <th>43</th>\n      <td>0.868914</td>\n      <td>0.855072</td>\n    </tr>\n    <tr>\n      <th>44</th>\n      <td>0.707865</td>\n      <td>0.579710</td>\n    </tr>\n    <tr>\n      <th>45</th>\n      <td>0.921348</td>\n      <td>0.913043</td>\n    </tr>\n    <tr>\n      <th>46</th>\n      <td>0.655431</td>\n      <td>0.637681</td>\n    </tr>\n    <tr>\n      <th>47</th>\n      <td>0.910112</td>\n      <td>0.840580</td>\n    </tr>\n    <tr>\n      <th>48</th>\n      <td>0.734082</td>\n      <td>0.681159</td>\n    </tr>\n    <tr>\n      <th>49</th>\n      <td>0.883895</td>\n      <td>0.884058</td>\n    </tr>\n    <tr>\n      <th>50</th>\n      <td>0.677903</td>\n      <td>0.565217</td>\n    </tr>\n    <tr>\n      <th>51</th>\n      <td>0.820225</td>\n      <td>0.869565</td>\n    </tr>\n    <tr>\n      <th>52</th>\n      <td>0.760300</td>\n      <td>0.797101</td>\n    </tr>\n    <tr>\n      <th>53</th>\n      <td>0.876404</td>\n      <td>0.869565</td>\n    </tr>\n    <tr>\n      <th>54</th>\n      <td>0.891386</td>\n      <td>0.855072</td>\n    </tr>\n    <tr>\n      <th>55</th>\n      <td>0.913858</td>\n      <td>0.942029</td>\n    </tr>\n  </tbody>\n</table>\n</div>"
     },
     "execution_count": 11,
     "metadata": {},
     "output_type": "execute_result"
    }
   ],
   "source": [
    "results.groupby(by='subject').mean(numeric_only=True)"
   ],
   "metadata": {
    "collapsed": false
   }
  },
  {
   "cell_type": "markdown",
   "source": [
    "## Mean over all subjects"
   ],
   "metadata": {
    "collapsed": false
   }
  },
  {
   "cell_type": "code",
   "execution_count": 14,
   "outputs": [
    {
     "data": {
      "text/plain": "train accuracy    0.797312\ntest accuracy     0.774936\ndtype: float64"
     },
     "execution_count": 14,
     "metadata": {},
     "output_type": "execute_result"
    }
   ],
   "source": [
    "results.drop(columns=['subject', 'fold']).mean(numeric_only=True)"
   ],
   "metadata": {
    "collapsed": false
   }
  }
 ],
 "metadata": {
  "kernelspec": {
   "display_name": "Python 3",
   "language": "python",
   "name": "python3"
  },
  "language_info": {
   "codemirror_mode": {
    "name": "ipython",
    "version": 2
   },
   "file_extension": ".py",
   "mimetype": "text/x-python",
   "name": "python",
   "nbconvert_exporter": "python",
   "pygments_lexer": "ipython2",
   "version": "2.7.6"
  }
 },
 "nbformat": 4,
 "nbformat_minor": 0
}
