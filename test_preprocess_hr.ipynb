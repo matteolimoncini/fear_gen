{
 "cells": [
  {
   "cell_type": "markdown",
   "source": [],
   "metadata": {
    "collapsed": false
   }
  },
  {
   "cell_type": "markdown",
   "source": [
    "Generate 112 trials (for now 1 only subject)\n",
    "\n",
    "trials with shock after n seconds change physio signals\n",
    "trials w\\out shock no change in physio"
   ],
   "metadata": {
    "collapsed": false
   }
  },
  {
   "cell_type": "code",
   "execution_count": 4,
   "metadata": {
    "collapsed": true
   },
   "outputs": [],
   "source": [
    "# Load NeuroKit and other useful packages\n",
    "import neurokit2 as nk\n",
    "import numpy as np\n",
    "import pandas as pd\n",
    "import seaborn as sns\n",
    "import matplotlib.pyplot as plt\n",
    "import random\n",
    "import pandas as pd\n",
    "import numpy as np\n",
    "import biosppy\n",
    "from scipy import interpolate"
   ]
  },
  {
   "cell_type": "code",
   "execution_count": 2,
   "outputs": [],
   "source": [
    "TRIAL_LEN = 6\n",
    "SHOCK_TIME = 4\n",
    "AFTER_SHOCK = TRIAL_LEN-SHOCK_TIME\n",
    "BPM_LOW = list(range(50,70))\n",
    "BPM_HIGH = list(range(80,110))\n",
    "DRIFT_RANGE= list(map(lambda x: x/1000.0, range(1, 10, 1)))\n",
    "\n",
    "SEED = 1234\n",
    "SAMPLING_RATE_HR = 500\n",
    "SAMPLING_RATE_EDA = 500\n",
    "THRESHOLD_BINARY = 2\n",
    "assert SHOCK_TIME <= TRIAL_LEN"
   ],
   "metadata": {
    "collapsed": false
   }
  },
  {
   "cell_type": "code",
   "execution_count": 3,
   "outputs": [],
   "source": [
    "df_hr_raw = pd.read_csv('data_fake/hr/2_hr.csv')"
   ],
   "metadata": {
    "collapsed": false
   }
  },
  {
   "cell_type": "code",
   "execution_count": 16,
   "outputs": [],
   "source": [
    "df_raw = df_hr_raw.iloc[[0]]"
   ],
   "metadata": {
    "collapsed": false
   }
  },
  {
   "cell_type": "code",
   "execution_count": 38,
   "outputs": [
    {
     "data": {
      "text/plain": "array([1.09446326, 1.08239494, 1.05209732, ..., 0.00605049, 0.00466255,\n       0.003429  ])"
     },
     "execution_count": 38,
     "metadata": {},
     "output_type": "execute_result"
    }
   ],
   "source": [
    "df_raw.to_numpy().flatten()"
   ],
   "metadata": {
    "collapsed": false
   }
  },
  {
   "cell_type": "code",
   "execution_count": 60,
   "outputs": [],
   "source": [
    "ecg_cleaned = nk.ecg_clean(df_raw.to_numpy().flatten(), sampling_rate=SAMPLING_RATE_HR)\n",
    "\n",
    "peaks, info = nk.ecg_peaks(ecg_cleaned, sampling_rate=SAMPLING_RATE_HR, correct_artifacts=True)\n",
    "\n",
    "# Compute HRV indices"
   ],
   "metadata": {
    "collapsed": false
   }
  },
  {
   "cell_type": "code",
   "execution_count": 8,
   "outputs": [],
   "source": [
    "data = pd.read_csv('data_fake/hr_csv/2_hr.csv')"
   ],
   "metadata": {
    "collapsed": false
   }
  },
  {
   "cell_type": "code",
   "execution_count": 12,
   "outputs": [
    {
     "name": "stdout",
     "output_type": "stream",
     "text": [
      "(3000,)\n"
     ]
    }
   ],
   "source": [
    "for index,raw in data.iterrows():\n",
    "    results = biosppy.signals.ecg.ecg(raw, 500,show=False)\n",
    "    t_raw = results[0]\n",
    "    t_hr = results[5]\n",
    "    hr = results[6]\n",
    "\n",
    "    # Interpolate HR values to bring signal back to original size\n",
    "    f = interpolate.interp1d(t_hr, hr, bounds_error=False, fill_value=\"extrapolate\")\n",
    "    tmp_HR = f(t_raw)\n",
    "\n",
    "    fps = int(len(tmp_HR) / t_raw[-1])\n",
    "    print(tmp_HR.shape)\n",
    "    break"
   ],
   "metadata": {
    "collapsed": false
   }
  },
  {
   "cell_type": "markdown",
   "source": [],
   "metadata": {
    "collapsed": false
   }
  },
  {
   "cell_type": "code",
   "execution_count": 1,
   "outputs": [],
   "source": [
    "from deepemogp import feature_extractor\n",
    "from deepemogp.signal import physio as physio\n",
    "from deepemogp import datasets as datasets\n",
    "from deepemogp.signal import behavior as behavior\n",
    "import extract_correct_csv\n",
    "import numpy as np"
   ],
   "metadata": {
    "collapsed": false
   }
  },
  {
   "cell_type": "code",
   "execution_count": 2,
   "outputs": [],
   "source": [
    "show= False\n",
    "TRIAL = 160"
   ],
   "metadata": {
    "collapsed": false
   }
  },
  {
   "cell_type": "code",
   "execution_count": null,
   "outputs": [],
   "source": [
    "# 49 not valid"
   ],
   "metadata": {
    "collapsed": false
   }
  },
  {
   "cell_type": "code",
   "execution_count": 6,
   "outputs": [
    {
     "name": "stdout",
     "output_type": "stream",
     "text": [
      ">> Loading ECG for subject 2 and all sessions from dataset FEAR\n",
      ">> Loading EDA for subject 2 and all sessions from dataset FEAR\n",
      ">> Processing ECG ... \n",
      ">> Extracting wavelet features from ECG signal, adopting (4, 2) window ...\n",
      ">> Loading EDA for subject 4 and all sessions from dataset FEAR\n",
      ">> Loading ECG for subject 4 and all sessions from dataset FEAR\n",
      ">> Processing ECG ... \n",
      ">> Extracting wavelet features from ECG signal, adopting (4, 2) window ...\n",
      ">> Loading EDA for subject 10 and all sessions from dataset FEAR\n",
      ">> Loading ECG for subject 10 and all sessions from dataset FEAR\n",
      ">> Processing ECG ... \n",
      ">> Extracting wavelet features from ECG signal, adopting (4, 2) window ...\n",
      ">> Loading EDA for subject 41 and all sessions from dataset FEAR\n",
      ">> Loading ECG for subject 41 and all sessions from dataset FEAR\n",
      ">> Processing ECG ... \n",
      ">> Extracting wavelet features from ECG signal, adopting (4, 2) window ...\n",
      ">> Loading ECG for subject 43 and all sessions from dataset FEAR\n",
      ">> Loading EDA for subject 43 and all sessions from dataset FEAR\n",
      ">> Processing ECG ... \n",
      ">> Extracting wavelet features from ECG signal, adopting (4, 2) window ...\n",
      ">> Loading EDA for subject 44 and all sessions from dataset FEAR\n",
      ">> Loading ECG for subject 44 and all sessions from dataset FEAR\n",
      ">> Processing ECG ... \n",
      ">> Extracting wavelet features from ECG signal, adopting (4, 2) window ...\n",
      ">> Loading ECG for subject 45 and all sessions from dataset FEAR\n",
      ">> Loading EDA for subject 45 and all sessions from dataset FEAR\n",
      ">> Processing ECG ... \n",
      ">> Extracting wavelet features from ECG signal, adopting (4, 2) window ...\n",
      ">> Loading ECG for subject 46 and all sessions from dataset FEAR\n",
      ">> Loading EDA for subject 46 and all sessions from dataset FEAR\n",
      ">> Processing ECG ... \n",
      ">> Extracting wavelet features from ECG signal, adopting (4, 2) window ...\n",
      ">> Loading ECG for subject 47 and all sessions from dataset FEAR\n",
      ">> Loading EDA for subject 47 and all sessions from dataset FEAR\n",
      ">> Processing ECG ... \n",
      ">> Extracting wavelet features from ECG signal, adopting (4, 2) window ...\n",
      ">> Loading ECG for subject 48 and all sessions from dataset FEAR\n",
      ">> Loading EDA for subject 48 and all sessions from dataset FEAR\n",
      ">> Processing ECG ... \n",
      ">> Extracting wavelet features from ECG signal, adopting (4, 2) window ...\n",
      ">> Loading EDA for subject 50 and all sessions from dataset FEAR\n",
      ">> Loading ECG for subject 50 and all sessions from dataset FEAR\n",
      ">> Processing ECG ... \n",
      ">> Extracting wavelet features from ECG signal, adopting (4, 2) window ...\n",
      ">> Loading EDA for subject 51 and all sessions from dataset FEAR\n",
      ">> Loading ECG for subject 51 and all sessions from dataset FEAR\n",
      ">> Processing ECG ... \n",
      ">> Extracting wavelet features from ECG signal, adopting (4, 2) window ...\n",
      ">> Loading EDA for subject 52 and all sessions from dataset FEAR\n",
      ">> Loading ECG for subject 52 and all sessions from dataset FEAR\n",
      ">> Processing ECG ... \n",
      ">> Extracting wavelet features from ECG signal, adopting (4, 2) window ...\n",
      ">> Loading EDA for subject 53 and all sessions from dataset FEAR\n",
      ">> Loading ECG for subject 53 and all sessions from dataset FEAR\n",
      ">> Processing ECG ... \n",
      ">> Extracting wavelet features from ECG signal, adopting (4, 2) window ...\n",
      ">> Loading ECG for subject 54 and all sessions from dataset FEAR\n",
      ">> Loading EDA for subject 54 and all sessions from dataset FEAR\n",
      ">> Processing ECG ... \n",
      ">> Extracting wavelet features from ECG signal, adopting (4, 2) window ...\n",
      ">> Loading ECG for subject 55 and all sessions from dataset FEAR\n",
      ">> Loading EDA for subject 55 and all sessions from dataset FEAR\n",
      ">> Processing ECG ... \n",
      ">> Extracting wavelet features from ECG signal, adopting (4, 2) window ...\n"
     ]
    }
   ],
   "source": [
    "valid_subject = ['2','4','10','41','43','44','45','46','47','48','50','51','52','53','54','55']\n",
    "\n",
    "for i in valid_subject:\n",
    "\n",
    "    f2 = feature_extractor.FE('wavelet', window=(4, 2))\n",
    "    f3 = feature_extractor.FE('mean', window=(1, 0))\n",
    "\n",
    "    # definition of the physiological signals to be extracted\n",
    "    extraction_method_physio = \"wavelet\"\n",
    "    if extraction_method_physio == 'wavelet':\n",
    "        eda_ = physio.EDA(f2)\n",
    "        hr_ = physio.ECG(f2)\n",
    "    else:\n",
    "        eda_ = physio.EDA(f3)\n",
    "        hr_ = physio.ECG(f3)\n",
    "\n",
    "    # extraction of the desired data from the dataset\n",
    "    d = datasets.FEAR(signals={hr_, eda_}, subjects={str(i)})\n",
    "\n",
    "    for s in d.signals:\n",
    "        # preprocess ...\n",
    "        if s.name == 'EDA':\n",
    "            pass\n",
    "            #s.preprocess(show=show, new_fps=500)\n",
    "            #s.feature_ext.extract_feat(s, show=show)\n",
    "        else:\n",
    "            if s.name == 'ECG':\n",
    "                #list_hr_test = s.raw[0]['data']\n",
    "                s.preprocess(new_fps=500)\n",
    "                s.feature_ext.extract_feat(s, show=show)\n",
    "\n",
    "    for sig in d.signals:\n",
    "        if sig.name == 'EDA':\n",
    "            pass\n",
    "            #eda_data = sig.features\n",
    "        if sig.name == 'ECG':\n",
    "            hr_data = sig.features\n",
    "\n",
    "    #eda = np.array(eda_data)\n",
    "    #eda = eda.reshape((TRIAL,int(eda.shape[0]/TRIAL*eda.shape[1])))\n",
    "    #eda = pd.DataFrame(eda)\n",
    "    #print(hr_data)\n",
    "    hr =np.array(hr_data)\n",
    "    hr = hr.reshape((TRIAL, int(hr.shape[0]/TRIAL*hr.shape[1])))\n",
    "    hr = pd.DataFrame(hr)\n",
    "\n",
    "    #eda.to_csv('data_fake/features_4_2/eda/'+str(i)+'.csv', index = False)\n",
    "    hr.to_csv('data_fake/features_4_2/hr/'+str(i)+'.csv', index = False)\n",
    "    #pupil_data.to_csv('data_fake/features_4_2/pupil/'+str(i)+'.csv', index = False)\n"
   ],
   "metadata": {
    "collapsed": false
   }
  },
  {
   "cell_type": "code",
   "execution_count": 5,
   "outputs": [
    {
     "data": {
      "text/plain": "           0          1           2           3           4            5   \\\n0  162.481535  162.47454  161.843585  164.472063  284.296109   432.182411   \n1  740.162405  740.15541  739.524455  742.156213  862.107106  1008.877899   \n\n            6            7            8            9            10  \\\n0   580.068714   727.961182   876.087329  1021.247359  1182.064495   \n1  1162.257056  1358.602851  1548.233126  1532.944549  1427.834071   \n\n            11  \n0  1371.813998  \n1  1331.882116  ",
      "text/html": "<div>\n<style scoped>\n    .dataframe tbody tr th:only-of-type {\n        vertical-align: middle;\n    }\n\n    .dataframe tbody tr th {\n        vertical-align: top;\n    }\n\n    .dataframe thead th {\n        text-align: right;\n    }\n</style>\n<table border=\"1\" class=\"dataframe\">\n  <thead>\n    <tr style=\"text-align: right;\">\n      <th></th>\n      <th>0</th>\n      <th>1</th>\n      <th>2</th>\n      <th>3</th>\n      <th>4</th>\n      <th>5</th>\n      <th>6</th>\n      <th>7</th>\n      <th>8</th>\n      <th>9</th>\n      <th>10</th>\n      <th>11</th>\n    </tr>\n  </thead>\n  <tbody>\n    <tr>\n      <th>0</th>\n      <td>162.481535</td>\n      <td>162.47454</td>\n      <td>161.843585</td>\n      <td>164.472063</td>\n      <td>284.296109</td>\n      <td>432.182411</td>\n      <td>580.068714</td>\n      <td>727.961182</td>\n      <td>876.087329</td>\n      <td>1021.247359</td>\n      <td>1182.064495</td>\n      <td>1371.813998</td>\n    </tr>\n    <tr>\n      <th>1</th>\n      <td>740.162405</td>\n      <td>740.15541</td>\n      <td>739.524455</td>\n      <td>742.156213</td>\n      <td>862.107106</td>\n      <td>1008.877899</td>\n      <td>1162.257056</td>\n      <td>1358.602851</td>\n      <td>1548.233126</td>\n      <td>1532.944549</td>\n      <td>1427.834071</td>\n      <td>1331.882116</td>\n    </tr>\n  </tbody>\n</table>\n</div>"
     },
     "execution_count": 5,
     "metadata": {},
     "output_type": "execute_result"
    }
   ],
   "source": [
    "hr_data"
   ],
   "metadata": {
    "collapsed": false
   }
  },
  {
   "cell_type": "code",
   "execution_count": 13,
   "outputs": [],
   "source": [
    "import numpy as np\n",
    "TRIAL =160"
   ],
   "metadata": {
    "collapsed": false
   }
  },
  {
   "cell_type": "code",
   "execution_count": 14,
   "outputs": [
    {
     "data": {
      "text/plain": "array([[-1.70972009e+00, -1.71275408e+00, -1.46390101e+00, ...,\n         7.82201640e+01,  7.59231259e+01,  7.51748876e+01],\n       [-1.55573352e+00, -1.55969718e+00, -1.35435102e+00, ...,\n         8.31744375e+01,  8.15027044e+01,  8.04402049e+01],\n       [ 3.20641296e-01,  3.08503599e-01,  8.50521246e-02, ...,\n         1.58315170e+02,  1.62855904e+02,  1.49577686e+02],\n       ...,\n       [-8.94887804e-01, -9.29183700e-01, -8.09123116e-01, ...,\n         1.52668033e+02,  1.44915206e+02,  1.35822837e+02],\n       [ 3.90842042e+00,  3.92159261e+00,  3.46851859e+00, ...,\n         2.77144710e+01,  3.22804996e+01,  3.82494631e+01],\n       [-1.05781898e+00, -1.07358693e+00, -1.19639460e+00, ...,\n         2.19604353e+02,  2.79637961e+02,  3.00623343e+02]])"
     },
     "execution_count": 14,
     "metadata": {},
     "output_type": "execute_result"
    }
   ],
   "source": [
    "eda = np.array(eda_data)\n",
    "eda = eda.reshape((TRIAL,int(eda.shape[0]/TRIAL*eda.shape[1])))\n",
    "eda"
   ],
   "metadata": {
    "collapsed": false
   }
  },
  {
   "cell_type": "code",
   "execution_count": 10,
   "outputs": [
    {
     "data": {
      "text/plain": "[{'data': array([0.        , 0.        , 0.03976462, ..., 3.9082223 , 3.90653679,\n         3.90484663]),\n  'fps': 500},\n {'data': array([ 0.        ,  0.        , -0.01071368, ...,  1.93523849,\n          1.93569382,  1.93614188]),\n  'fps': 500},\n {'data': array([0.        , 0.        , 0.0856574 , ..., 0.65782724, 0.65730331,\n         0.65677953]),\n  'fps': 500},\n {'data': array([0.        , 0.        , 0.0628631 , ..., 2.54806487, 2.54632124,\n         2.54457705]),\n  'fps': 500},\n {'data': array([0.        , 0.        , 0.00938499, ..., 2.84355937, 2.84294392,\n         2.84232272]),\n  'fps': 500},\n {'data': array([0.        , 0.        , 0.11882444, ..., 0.29014254, 0.29006588,\n         0.28998869]),\n  'fps': 500},\n {'data': array([0.        , 0.        , 0.1194995 , ..., 3.45644293, 3.45634142,\n         3.45623043]),\n  'fps': 500},\n {'data': array([ 0.        ,  0.        , -0.02183077, ...,  0.9651609 ,\n          0.96480632,  0.96445036]),\n  'fps': 500},\n {'data': array([ 0.        ,  0.        , -0.03122104, ...,  0.52907991,\n          0.52917153,  0.52926128]),\n  'fps': 500},\n {'data': array([0.        , 0.        , 0.27011851, ..., 3.50407571, 3.50305442,\n         3.50202708]),\n  'fps': 500},\n {'data': array([0.        , 0.        , 0.08188884, ..., 1.25351822, 1.25266316,\n         1.25180782]),\n  'fps': 500},\n {'data': array([ 0.        ,  0.        , -0.0409591 , ...,  4.85558384,\n          4.85347378,  4.851358  ]),\n  'fps': 500},\n {'data': array([0.        , 0.        , 0.04002422, ..., 2.45160303, 2.45162608,\n         2.45164205]),\n  'fps': 500},\n {'data': array([0.        , 0.        , 0.58397841, ..., 4.09650781, 4.09918458,\n         4.10183935]),\n  'fps': 500},\n {'data': array([0.        , 0.        , 0.3482919 , ..., 0.56326836, 0.56373879,\n         0.56420579]),\n  'fps': 500},\n {'data': array([0.        , 0.        , 0.12014713, ..., 0.74221772, 0.74226399,\n         0.74230797]),\n  'fps': 500},\n {'data': array([0.        , 0.        , 0.07702924, ..., 1.20770694, 1.20667934,\n         1.20565226]),\n  'fps': 500},\n {'data': array([0.        , 0.        , 0.07291809, ..., 0.13080794, 0.1306975 ,\n         0.13058712]),\n  'fps': 500},\n {'data': array([0.        , 0.        , 0.06528685, ..., 0.17109871, 0.17105505,\n         0.17101108]),\n  'fps': 500},\n {'data': array([0.        , 0.        , 0.07772927, ..., 1.07506893, 1.0741247 ,\n         1.07318106]),\n  'fps': 500},\n {'data': array([0.        , 0.        , 0.09446101, ..., 3.44290581, 3.44137892,\n         3.4398481 ]),\n  'fps': 500},\n {'data': array([0.        , 0.        , 0.02458904, ..., 1.88450868, 1.8836147 ,\n         1.8827188 ]),\n  'fps': 500},\n {'data': array([0.        , 0.        , 0.03851958, ..., 2.52711031, 2.52605268,\n         2.52499191]),\n  'fps': 500},\n {'data': array([0.        , 0.        , 0.16244262, ..., 4.70115652, 4.70531931,\n         4.70945266]),\n  'fps': 500},\n {'data': array([0.        , 0.        , 0.04505606, ..., 2.78144162, 2.78048234,\n         2.77951883]),\n  'fps': 500},\n {'data': array([ 0.        ,  0.        , -0.03219008, ...,  2.17317288,\n          2.17212604,  2.17107703]),\n  'fps': 500},\n {'data': array([0.        , 0.        , 0.08891898, ..., 0.17984453, 0.17975352,\n         0.17966235]),\n  'fps': 500},\n {'data': array([0.        , 0.        , 0.12125809, ..., 0.29878358, 0.29867895,\n         0.29857388]),\n  'fps': 500},\n {'data': array([0.        , 0.        , 0.07974639, ..., 0.09819233, 0.09822769,\n         0.09826263]),\n  'fps': 500},\n {'data': array([ 0.        ,  0.        , -0.0019196 , ...,  0.73292654,\n          0.73366875,  0.73440601]),\n  'fps': 500},\n {'data': array([0.        , 0.        , 0.07793667, ..., 1.91890249, 1.91782492,\n         1.91674603]),\n  'fps': 500},\n {'data': array([0.        , 0.        , 0.08818457, ..., 0.27997228, 0.28003221,\n         0.28009111]),\n  'fps': 500},\n {'data': array([ 0.        ,  0.        , -0.00020025, ...,  0.09057998,\n          0.09051901,  0.09045802]),\n  'fps': 500},\n {'data': array([0.        , 0.        , 0.0020945 , ..., 1.16103385, 1.16020084,\n         1.15936773]),\n  'fps': 500},\n {'data': array([0.        , 0.        , 0.04337066, ..., 1.584783  , 1.58378854,\n         1.58279341]),\n  'fps': 500},\n {'data': array([0.        , 0.        , 0.13736647, ..., 0.06538214, 0.06534615,\n         0.06531011]),\n  'fps': 500},\n {'data': array([0.        , 0.        , 0.05874797, ..., 0.24935939, 0.24920767,\n         0.24905582]),\n  'fps': 500},\n {'data': array([0.        , 0.        , 0.03451992, ..., 2.34486519, 2.34381605,\n         2.34276426]),\n  'fps': 500},\n {'data': array([0.        , 0.        , 0.14228841, ..., 1.68796947, 1.68657818,\n         1.68518744]),\n  'fps': 500},\n {'data': array([0.        , 0.        , 0.09198413, ..., 1.33591699, 1.33499796,\n         1.33407866]),\n  'fps': 500},\n {'data': array([0.        , 0.        , 0.00921015, ..., 0.07774443, 0.07767064,\n         0.0775969 ]),\n  'fps': 500},\n {'data': array([ 0.        ,  0.        , -0.06955664, ...,  0.82504669,\n          0.82505503,  0.825061  ]),\n  'fps': 500},\n {'data': array([ 0.        ,  0.        , -0.01705834, ...,  1.78400529,\n          1.78302271,  1.78203884]),\n  'fps': 500},\n {'data': array([0.        , 0.        , 0.07272165, ..., 2.14996084, 2.14851856,\n         2.14707571]),\n  'fps': 500},\n {'data': array([0.        , 0.        , 0.07217705, ..., 3.72789013, 3.73142662,\n         3.73493885]),\n  'fps': 500},\n {'data': array([0.        , 0.        , 0.3521838 , ..., 4.50768359, 4.50531689,\n         4.50294644]),\n  'fps': 500},\n {'data': array([0.        , 0.        , 0.51686998, ..., 3.06177857, 3.05979545,\n         3.05781124]),\n  'fps': 500},\n {'data': array([0.        , 0.        , 0.04005737, ..., 2.13585549, 2.13464398,\n         2.13343105]),\n  'fps': 500},\n {'data': array([0.        , 0.        , 0.04814295, ..., 0.03998964, 0.04006545,\n         0.04014085]),\n  'fps': 500},\n {'data': array([0.        , 0.        , 0.09202795, ..., 2.47152006, 2.47027286,\n         2.4690234 ]),\n  'fps': 500},\n {'data': array([0.        , 0.        , 0.08488598, ..., 0.8883504 , 0.88845658,\n         0.88855982]),\n  'fps': 500},\n {'data': array([0.        , 0.        , 0.03979995, ..., 0.05432778, 0.05438357,\n         0.05443899]),\n  'fps': 500},\n {'data': array([0.        , 0.        , 0.01599207, ..., 0.07492868, 0.07499431,\n         0.07505948]),\n  'fps': 500},\n {'data': array([0.        , 0.        , 0.07277683, ..., 0.07027999, 0.07022417,\n         0.07016837]),\n  'fps': 500},\n {'data': array([0.        , 0.        , 0.02762833, ..., 0.10030071, 0.10035835,\n         0.10041549]),\n  'fps': 500},\n {'data': array([0.        , 0.        , 0.06980909, ..., 0.05084849, 0.05080095,\n         0.05075345]),\n  'fps': 500},\n {'data': array([0.        , 0.        , 0.06891   , ..., 0.21506951, 0.21516053,\n         0.2152506 ]),\n  'fps': 500},\n {'data': array([0.        , 0.        , 0.06596371, ..., 1.44243835, 1.44137859,\n         1.44031879]),\n  'fps': 500},\n {'data': array([0.        , 0.        , 0.04402212, ..., 0.0585942 , 0.05858612,\n         0.05857791]),\n  'fps': 500},\n {'data': array([0.        , 0.        , 0.07675768, ..., 0.28404773, 0.28422131,\n         0.2843934 ]),\n  'fps': 500},\n {'data': array([0.        , 0.        , 0.04982188, ..., 0.10859348, 0.1085067 ,\n         0.10841995]),\n  'fps': 500},\n {'data': array([0.        , 0.        , 0.06842232, ..., 0.38230306, 0.38199909,\n         0.3816952 ]),\n  'fps': 500},\n {'data': array([0.        , 0.        , 0.04586769, ..., 0.16171655, 0.16187033,\n         0.16202307]),\n  'fps': 500},\n {'data': array([0.        , 0.        , 0.02212807, ..., 0.04396711, 0.04395065,\n         0.04393412]),\n  'fps': 500},\n {'data': array([0.        , 0.        , 0.00562366, ..., 0.23837337, 0.23849719,\n         0.23861985]),\n  'fps': 500},\n {'data': array([0.        , 0.        , 0.1444254 , ..., 0.66653854, 0.66643276,\n         0.66632548]),\n  'fps': 500},\n {'data': array([0.        , 0.        , 0.06281233, ..., 0.17910003, 0.17923339,\n         0.17936572]),\n  'fps': 500},\n {'data': array([0.        , 0.        , 0.10291935, ..., 1.28805819, 1.28694009,\n         1.28582263]),\n  'fps': 500},\n {'data': array([0.        , 0.        , 0.16487227, ..., 0.88801764, 0.88796068,\n         0.88790141]),\n  'fps': 500},\n {'data': array([ 0.        ,  0.        , -0.05744764, ...,  0.21075515,\n          0.21078752,  0.21081916]),\n  'fps': 500},\n {'data': array([0.        , 0.        , 0.01520128, ..., 0.09299696, 0.09293457,\n         0.09287215]),\n  'fps': 500},\n {'data': array([0.        , 0.        , 0.01502516, ..., 0.10605604, 0.10606195,\n         0.10606752]),\n  'fps': 500},\n {'data': array([0.        , 0.        , 0.06965919, ..., 2.16371425, 2.16220267,\n         2.16069075]),\n  'fps': 500},\n {'data': array([0.        , 0.        , 0.18187316, ..., 1.58141545, 1.58116554,\n         1.58091209]),\n  'fps': 500},\n {'data': array([0.        , 0.        , 0.16664059, ..., 0.93527613, 0.93553191,\n         0.93578403]),\n  'fps': 500},\n {'data': array([0.        , 0.        , 0.03913134, ..., 0.25246437, 0.25255327,\n         0.2526411 ]),\n  'fps': 500},\n {'data': array([0.        , 0.        , 0.18981182, ..., 1.09618582, 1.09538772,\n         1.09458956]),\n  'fps': 500},\n {'data': array([ 0.        ,  0.        , -0.01583442, ...,  4.06595783,\n          4.06357514,  4.06119003]),\n  'fps': 500},\n {'data': array([0.        , 0.        , 0.07666327, ..., 0.76395325, 0.76379266,\n         0.76363051]),\n  'fps': 500},\n {'data': array([0.        , 0.        , 0.04147363, ..., 0.05929465, 0.05924524,\n         0.05919586]),\n  'fps': 500},\n {'data': array([0.        , 0.        , 0.13256149, ..., 4.76912327, 4.76667566,\n         4.76422387]),\n  'fps': 500},\n {'data': array([0.        , 0.        , 0.03308401, ..., 0.19866857, 0.19870933,\n         0.19874936]),\n  'fps': 500},\n {'data': array([ 0.        ,  0.        , -0.01262665, ...,  0.85809697,\n          0.85829669,  0.85849319]),\n  'fps': 500},\n {'data': array([0.        , 0.        , 0.09756999, ..., 0.15303751, 0.15296739,\n         0.1528971 ]),\n  'fps': 500},\n {'data': array([ 0.        ,  0.        , -0.01849439, ...,  0.14151209,\n          0.14151004,  0.14150759]),\n  'fps': 500},\n {'data': array([0.        , 0.        , 0.18119555, ..., 1.94011333, 1.94023507,\n         1.94035082]),\n  'fps': 500},\n {'data': array([ 0.        ,  0.        , -0.13051176, ...,  4.45650828,\n          4.4556319 ,  4.4547462 ]),\n  'fps': 500},\n {'data': array([0.        , 0.        , 0.1249715 , ..., 0.24344023, 0.24325687,\n         0.24307352]),\n  'fps': 500},\n {'data': array([0.        , 0.        , 0.12814798, ..., 2.18181024, 2.18371731,\n         2.18561082]),\n  'fps': 500},\n {'data': array([0.        , 0.        , 0.12836547, ..., 1.12432921, 1.12339094,\n         1.12245307]),\n  'fps': 500},\n {'data': array([0.        , 0.        , 0.0267865 , ..., 4.46513891, 4.46602205,\n         4.46688906]),\n  'fps': 500},\n {'data': array([0.        , 0.        , 0.05859415, ..., 1.15971243, 1.15896776,\n         1.15822264]),\n  'fps': 500},\n {'data': array([0.        , 0.        , 0.0482548 , ..., 0.14363774, 0.14365592,\n         0.14367362]),\n  'fps': 500},\n {'data': array([0.        , 0.        , 0.03100955, ..., 0.4203841 , 0.42085473,\n         0.42132235]),\n  'fps': 500},\n {'data': array([0.        , 0.        , 0.07196379, ..., 0.19693394, 0.19707312,\n         0.1972112 ]),\n  'fps': 500},\n {'data': array([0.        , 0.        , 0.15320397, ..., 1.03060348, 1.02999911,\n         1.02939414]),\n  'fps': 500},\n {'data': array([0.        , 0.        , 0.03066544, ..., 0.48879233, 0.48843693,\n         0.4880815 ]),\n  'fps': 500},\n {'data': array([0.        , 0.        , 0.11295656, ..., 0.25967019, 0.25950016,\n         0.25933005]),\n  'fps': 500},\n {'data': array([0.        , 0.        , 0.04913608, ..., 0.26314133, 0.26297963,\n         0.26281781]),\n  'fps': 500},\n {'data': array([ 0.        ,  0.        , -0.03483283, ...,  0.11788954,\n          0.117794  ,  0.11769849]),\n  'fps': 500},\n {'data': array([0.        , 0.        , 0.05406284, ..., 1.54720232, 1.54609204,\n         1.54498162]),\n  'fps': 500},\n {'data': array([0.        , 0.        , 0.01777229, ..., 0.41439656, 0.41445715,\n         0.41451632]),\n  'fps': 500},\n {'data': array([0.        , 0.        , 0.09312286, ..., 0.46013215, 0.46021394,\n         0.4602941 ]),\n  'fps': 500},\n {'data': array([0.        , 0.        , 0.09881789, ..., 0.14931871, 0.1491827 ,\n         0.14904679]),\n  'fps': 500},\n {'data': array([0.        , 0.        , 0.20597498, ..., 2.70274888, 2.70475123,\n         2.70673815]),\n  'fps': 500},\n {'data': array([ 0.        ,  0.        , -0.03942164, ...,  1.3220944 ,\n          1.32210891,  1.32211959]),\n  'fps': 500},\n {'data': array([ 0.        ,  0.        , -0.00058079, ...,  0.52225946,\n          0.52267628,  0.52309001]),\n  'fps': 500},\n {'data': array([0.        , 0.        , 0.11182689, ..., 1.19622738, 1.19530027,\n         1.19437332]),\n  'fps': 500},\n {'data': array([0.        , 0.        , 0.11406453, ..., 0.55136358, 0.55162251,\n         0.55187887]),\n  'fps': 500},\n {'data': array([0.        , 0.        , 0.11300991, ..., 3.47001964, 3.47033928,\n         3.4706478 ]),\n  'fps': 500},\n {'data': array([0.        , 0.        , 0.1678438 , ..., 0.46671359, 0.46643291,\n         0.46615198]),\n  'fps': 500},\n {'data': array([0.        , 0.        , 0.15888081, ..., 1.54800613, 1.54706199,\n         1.54611708]),\n  'fps': 500},\n {'data': array([ 0.        ,  0.        , -0.00187303, ...,  1.42632618,\n          1.42513785,  1.42395002]),\n  'fps': 500},\n {'data': array([0.        , 0.        , 0.13395939, ..., 3.08124668, 3.08008452,\n         3.07891804]),\n  'fps': 500},\n {'data': array([0.        , 0.        , 0.11720972, ..., 0.36635744, 0.36602211,\n         0.36568702]),\n  'fps': 500},\n {'data': array([0.        , 0.        , 0.1271556 , ..., 1.37272341, 1.37160795,\n         1.37049289]),\n  'fps': 500},\n {'data': array([0.        , 0.        , 0.1604408 , ..., 3.04754439, 3.04642966,\n         3.04531054]),\n  'fps': 500},\n {'data': array([0.        , 0.        , 0.02702068, ..., 0.69273078, 0.69376228,\n         0.69478783]),\n  'fps': 500},\n {'data': array([0.        , 0.        , 0.07029683, ..., 0.28342814, 0.28357957,\n         0.2837296 ]),\n  'fps': 500},\n {'data': array([0.        , 0.        , 0.17953992, ..., 3.67476064, 3.67233769,\n         3.6699136 ]),\n  'fps': 500},\n {'data': array([0.        , 0.        , 0.2740923 , ..., 0.08409626, 0.0840197 ,\n         0.08394319]),\n  'fps': 500},\n {'data': array([0.        , 0.        , 0.00947039, ..., 0.11867578, 0.11870102,\n         0.11872583]),\n  'fps': 500},\n {'data': array([0.        , 0.        , 0.12800672, ..., 2.99962675, 2.99821452,\n         2.99679918]),\n  'fps': 500},\n {'data': array([0.        , 0.        , 0.06684995, ..., 1.35500033, 1.35397851,\n         1.35295677]),\n  'fps': 500},\n {'data': array([0.        , 0.        , 0.06435562, ..., 2.84206288, 2.84122402,\n         2.84038029]),\n  'fps': 500},\n {'data': array([0.        , 0.        , 0.13246293, ..., 2.2803227 , 2.28029849,\n         2.28026787]),\n  'fps': 500},\n {'data': array([0.        , 0.        , 0.68577682, ..., 4.68902998, 4.6936875 ,\n         4.69831371]),\n  'fps': 500},\n {'data': array([0.        , 0.        , 0.06027692, ..., 1.67315765, 1.67210785,\n         1.67105732]),\n  'fps': 500},\n {'data': array([0.        , 0.        , 0.00317031, ..., 2.70285601, 2.70308718,\n         2.70330976]),\n  'fps': 500},\n {'data': array([0.        , 0.        , 0.05739069, ..., 4.09460791, 4.09352795,\n         4.09244048]),\n  'fps': 500},\n {'data': array([0.        , 0.        , 0.24545453, ..., 6.88832978, 6.8892871 ,\n         6.89022108]),\n  'fps': 500},\n {'data': array([0.        , 0.        , 0.00527747, ..., 2.50361687, 2.50353788,\n         2.50345205]),\n  'fps': 500},\n {'data': array([0.        , 0.        , 0.07704905, ..., 0.05857981, 0.05860356,\n         0.05862704]),\n  'fps': 500},\n {'data': array([0.        , 0.        , 0.14204893, ..., 3.68995667, 3.68856718,\n         3.68717251]),\n  'fps': 500},\n {'data': array([0.        , 0.        , 0.02034121, ..., 2.73544254, 2.73366089,\n         2.73187829]),\n  'fps': 500},\n {'data': array([0.        , 0.        , 0.08576257, ..., 0.90658653, 0.90629631,\n         0.90600461]),\n  'fps': 500},\n {'data': array([0.        , 0.        , 0.1047682 , ..., 0.38292867, 0.38257409,\n         0.38221977]),\n  'fps': 500},\n {'data': array([0.        , 0.        , 0.0647945 , ..., 1.4297552 , 1.42866081,\n         1.42756656]),\n  'fps': 500},\n {'data': array([0.        , 0.        , 0.08366048, ..., 0.04565304, 0.04566109,\n         0.04566898]),\n  'fps': 500},\n {'data': array([ 0.        ,  0.        , -0.00762035, ...,  0.33843216,\n          0.33810826,  0.33778465]),\n  'fps': 500},\n {'data': array([ 0.        ,  0.        , -0.08904298, ...,  1.95682441,\n          1.95592645,  1.95502637]),\n  'fps': 500},\n {'data': array([0.        , 0.        , 0.24322489, ..., 1.44795428, 1.44689936,\n         1.44584437]),\n  'fps': 500},\n {'data': array([0.        , 0.        , 0.08642302, ..., 3.3646495 , 3.3633491 ,\n         3.36204412]),\n  'fps': 500},\n {'data': array([0.        , 0.        , 0.16497747, ..., 2.03167091, 2.03147875,\n         2.03128153]),\n  'fps': 500},\n {'data': array([0.        , 0.        , 0.07191657, ..., 0.24813212, 0.24797497,\n         0.24781773]),\n  'fps': 500},\n {'data': array([0.        , 0.        , 0.1321544 , ..., 2.00738638, 2.00601199,\n         2.00463717]),\n  'fps': 500},\n {'data': array([0.        , 0.        , 0.02525947, ..., 0.64956461, 0.64903602,\n         0.64850761]),\n  'fps': 500},\n {'data': array([ 0.        ,  0.        , -0.14620391, ...,  0.52891092,\n          0.52848119,  0.52805161]),\n  'fps': 500},\n {'data': array([0.        , 0.        , 0.10530824, ..., 1.00203959, 1.002338  ,\n         1.0026324 ]),\n  'fps': 500},\n {'data': array([0.        , 0.        , 0.05511384, ..., 0.25491082, 0.25505976,\n         0.2552074 ]),\n  'fps': 500},\n {'data': array([0.        , 0.        , 0.10871627, ..., 1.49468787, 1.49360831,\n         1.49252865]),\n  'fps': 500},\n {'data': array([0.        , 0.        , 0.15416368, ..., 0.17510914, 0.17494715,\n         0.17478527]),\n  'fps': 500},\n {'data': array([0.        , 0.        , 0.02768339, ..., 0.59345726, 0.5942896 ,\n         0.59511704]),\n  'fps': 500},\n {'data': array([ 0.        ,  0.        , -0.06019356, ...,  0.15157003,\n          0.15181328,  0.15205516]),\n  'fps': 500},\n {'data': array([0.        , 0.        , 0.03350738, ..., 1.05933777, 1.05905507,\n         1.05877045]),\n  'fps': 500},\n {'data': array([0.        , 0.        , 0.09999539, ..., 0.25919535, 0.25920775,\n         0.25921937]),\n  'fps': 500},\n {'data': array([ 0.        ,  0.        , -0.01519008, ...,  1.29334968,\n          1.29261213,  1.29187373]),\n  'fps': 500},\n {'data': array([0.        , 0.        , 0.10265341, ..., 1.35753029, 1.35642178,\n         1.35531366]),\n  'fps': 500},\n {'data': array([0.        , 0.        , 0.13691052, ..., 0.62559297, 0.62535382,\n         0.62511381]),\n  'fps': 500},\n {'data': array([0.        , 0.        , 0.01751614, ..., 4.29555787, 4.29806325,\n         4.30054672]),\n  'fps': 500}]"
     },
     "execution_count": 10,
     "metadata": {},
     "output_type": "execute_result"
    }
   ],
   "source": [],
   "metadata": {
    "collapsed": false
   }
  },
  {
   "cell_type": "code",
   "execution_count": null,
   "outputs": [],
   "source": [],
   "metadata": {
    "collapsed": false
   }
  }
 ],
 "metadata": {
  "kernelspec": {
   "display_name": "Python 3",
   "language": "python",
   "name": "python3"
  },
  "language_info": {
   "codemirror_mode": {
    "name": "ipython",
    "version": 2
   },
   "file_extension": ".py",
   "mimetype": "text/x-python",
   "name": "python",
   "nbconvert_exporter": "python",
   "pygments_lexer": "ipython2",
   "version": "2.7.6"
  }
 },
 "nbformat": 4,
 "nbformat_minor": 0
}
