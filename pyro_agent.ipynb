{
 "cells": [
  {
   "cell_type": "code",
   "execution_count": 1,
   "metadata": {
    "collapsed": true
   },
   "outputs": [
    {
     "data": {
      "text/plain": "'1.8.4'"
     },
     "execution_count": 1,
     "metadata": {},
     "output_type": "execute_result"
    }
   ],
   "source": [
    "import torch\n",
    "import numpy as np\n",
    "import pandas as pd\n",
    "import seaborn as sns\n",
    "import matplotlib.pyplot as plt\n",
    "import logging\n",
    "import os\n",
    "\n",
    "\n",
    "import pyro\n",
    "from pyro.optim import Adam\n",
    "from pyro.infer import SVI, Trace_ELBO, MCMC, NUTS\n",
    "import pyro.distributions as dist\n",
    "import pyro.distributions.constraints as constraints\n",
    "\n",
    "\n",
    "pyro.__version__"
   ]
  },
  {
   "cell_type": "markdown",
   "source": [
    "# Rational agent"
   ],
   "metadata": {
    "collapsed": false
   }
  },
  {
   "cell_type": "markdown",
   "source": [
    "extract valid subjects"
   ],
   "metadata": {
    "collapsed": false
   }
  },
  {
   "cell_type": "code",
   "execution_count": 2,
   "outputs": [],
   "source": [
    "from fear_gen import extract_correct_csv\n",
    "valid_sub = extract_correct_csv.extract_only_valid_subject()"
   ],
   "metadata": {
    "collapsed": false
   }
  },
  {
   "cell_type": "markdown",
   "source": [
    "read real data of subject #2"
   ],
   "metadata": {
    "collapsed": false
   }
  },
  {
   "cell_type": "code",
   "execution_count": 3,
   "outputs": [
    {
     "name": "stderr",
     "output_type": "stream",
     "text": [
      "/var/folders/hn/nq1_cby521sbf58lnj9qj9mw0000gn/T/ipykernel_4127/522845498.py:4: SettingWithCopyWarning: \n",
      "A value is trying to be set on a copy of a slice from a DataFrame.\n",
      "Try using .loc[row_indexer,col_indexer] = value instead\n",
      "\n",
      "See the caveats in the documentation: https://pandas.pydata.org/pandas-docs/stable/user_guide/indexing.html#returning-a-view-versus-a-copy\n",
      "  df_rational['shock'] = df_rational['shock'].astype(int) #setting shock as int instead of boolean\n",
      "/var/folders/hn/nq1_cby521sbf58lnj9qj9mw0000gn/T/ipykernel_4127/522845498.py:5: SettingWithCopyWarning: \n",
      "A value is trying to be set on a copy of a slice from a DataFrame.\n",
      "Try using .loc[row_indexer,col_indexer] = value instead\n",
      "\n",
      "See the caveats in the documentation: https://pandas.pydata.org/pandas-docs/stable/user_guide/indexing.html#returning-a-view-versus-a-copy\n",
      "  df_rational['morphing level'] = [int(d==6) for d in df_rational['morphing level']] # if morphing level==6 -> 1\n"
     ]
    }
   ],
   "source": [
    "# read dataset\n",
    "df = pd.read_csv('data/newLookAtMe/newLookAtMe02.csv')\n",
    "df_rational = df[['morphing level', 'shock']]\n",
    "df_rational['shock'] = df_rational['shock'].astype(int) #setting shock as int instead of boolean\n",
    "df_rational['morphing level'] = [int(d==6) for d in df_rational['morphing level']] # if morphing level==6 -> 1"
   ],
   "metadata": {
    "collapsed": false
   }
  },
  {
   "cell_type": "code",
   "execution_count": 4,
   "outputs": [],
   "source": [
    "# categorical/multinomial distribution\n",
    "\n",
    "# uniform prior\n",
    "prior_counts = torch.ones((2,2))\n",
    "\n",
    "\n",
    "#model\n",
    "def model(data):\n",
    "    prior = pyro.sample(\"prior\", dist.Dirichlet(prior_counts))\n",
    "    total_counts = int(data.sum())\n",
    "    pyro.sample(\"likelihood\", dist.Multinomial(total_counts, prior), obs=data)"
   ],
   "metadata": {
    "collapsed": false
   }
  },
  {
   "cell_type": "code",
   "execution_count": 5,
   "outputs": [],
   "source": [
    "data_np = df_rational.to_numpy()\n",
    "\n",
    "HABITUATION_TRIALS = 16\n",
    "ACQUISITION_TRIALS = 32\n",
    "data_all = data_np[16:]\n",
    "learning_data = data_np[HABITUATION_TRIALS:HABITUATION_TRIALS+ACQUISITION_TRIALS] # considering only learning trials"
   ],
   "metadata": {
    "collapsed": false
   }
  },
  {
   "cell_type": "code",
   "execution_count": 6,
   "outputs": [],
   "source": [
    "data = torch.tensor(data_all)\n",
    "N = data.shape[0]"
   ],
   "metadata": {
    "collapsed": false
   }
  },
  {
   "cell_type": "code",
   "execution_count": 7,
   "outputs": [],
   "source": [
    "counter = torch.zeros((N,4))\n",
    "\n",
    "for i in range(len(data_all)):\n",
    "    dict_ = {'[0 0]':0, '[0 1]': 0, '[1 0]':0, '[1 1]':0}\n",
    "    tmp_data = data_all[:i+1]\n",
    "\n",
    "    # count occurencies\n",
    "    for x in tmp_data:\n",
    "        dict_[str(x)] += 1\n",
    "    values = np.array(list(dict_.values()))\n",
    "    counter[i] = torch.tensor(values)"
   ],
   "metadata": {
    "collapsed": false
   }
  },
  {
   "cell_type": "code",
   "execution_count": 8,
   "outputs": [],
   "source": [
    "# reshape in order to match the Dirichlet distribution\n",
    "counter = counter.reshape((len(data_all), 2, 2))"
   ],
   "metadata": {
    "collapsed": false
   }
  },
  {
   "cell_type": "code",
   "execution_count": 9,
   "outputs": [
    {
     "name": "stdout",
     "output_type": "stream",
     "text": [
      "observation:  [1 1]\n",
      "probabilities:  [[0.4964742 0.5035257]\n",
      " [0.3571189 0.6428808]]\n",
      "observation:  [0 0]\n",
      "probabilities:  [[0.72107255 0.27892712]\n",
      " [0.3132097  0.6867902 ]]\n",
      "observation:  [0 0]\n",
      "probabilities:  [[0.74387604 0.25612378]\n",
      " [0.33300167 0.6669981 ]]\n",
      "observation:  [1 1]\n",
      "probabilities:  [[0.73755753 0.2624422 ]\n",
      " [0.2582838  0.74171597]]\n",
      "observation:  [0 0]\n",
      "probabilities:  [[0.79806554 0.2019344 ]\n",
      " [0.2573968  0.74260354]]\n",
      "observation:  [1 1]\n",
      "probabilities:  [[0.79834867 0.20165108]\n",
      " [0.18489173 0.81510836]]\n",
      "observation:  [1 1]\n",
      "probabilities:  [[0.7976385  0.2023614 ]\n",
      " [0.16042458 0.8395754 ]]\n",
      "observation:  [0 0]\n",
      "probabilities:  [[0.8447886  0.15521127]\n",
      " [0.17376536 0.82623446]]\n",
      "observation:  [1 0]\n",
      "probabilities:  [[0.85236305 0.1476368 ]\n",
      " [0.290452   0.7095478 ]]\n",
      "observation:  [1 1]\n",
      "probabilities:  [[0.8281032  0.17189674]\n",
      " [0.25905684 0.7409433 ]]\n",
      "observation:  [0 0]\n",
      "probabilities:  [[0.8527473  0.14725271]\n",
      " [0.25333259 0.7466675 ]]\n",
      "observation:  [0 0]\n",
      "probabilities:  [[0.87372863 0.12627138]\n",
      " [0.2349869  0.76501274]]\n",
      "observation:  [0 0]\n",
      "probabilities:  [[0.8823062  0.11769357]\n",
      " [0.24514695 0.7548533 ]]\n",
      "observation:  [0 0]\n",
      "probabilities:  [[0.9050006  0.09499966]\n",
      " [0.22965932 0.7703408 ]]\n",
      "observation:  [1 1]\n",
      "probabilities:  [[0.90028656 0.09971396]\n",
      " [0.22750321 0.7724968 ]]\n",
      "observation:  [1 0]\n",
      "probabilities:  [[0.9036084  0.09639172]\n",
      " [0.28131458 0.7186859 ]]\n",
      "observation:  [0 0]\n",
      "probabilities:  [[0.91110116 0.08889855]\n",
      " [0.29634312 0.70365703]]\n",
      "observation:  [1 1]\n",
      "probabilities:  [[0.90720975 0.09279015]\n",
      " [0.25032777 0.7496721 ]]\n",
      "observation:  [1 1]\n",
      "probabilities:  [[0.9030426  0.09695766]\n",
      " [0.253531   0.7464691 ]]\n",
      "observation:  [0 0]\n",
      "probabilities:  [[0.91234875 0.08765157]\n",
      " [0.24596255 0.7540372 ]]\n",
      "observation:  [1 0]\n",
      "probabilities:  [[0.91409516 0.08590476]\n",
      " [0.30879855 0.69120115]]\n",
      "observation:  [0 0]\n",
      "probabilities:  [[0.92208016 0.07791959]\n",
      " [0.31718403 0.6828162 ]]\n",
      "observation:  [1 1]\n",
      "probabilities:  [[0.91860014 0.08139971]\n",
      " [0.26933748 0.7306623 ]]\n",
      "observation:  [0 0]\n",
      "probabilities:  [[0.9266625  0.07333758]\n",
      " [0.29007548 0.70992434]]\n",
      "observation:  [1 0]\n",
      "probabilities:  [[0.923154   0.07684641]\n",
      " [0.31989467 0.6801057 ]]\n",
      "observation:  [0 0]\n",
      "probabilities:  [[0.92822653 0.07177315]\n",
      " [0.3329964  0.6670035 ]]\n",
      "observation:  [1 1]\n",
      "probabilities:  [[0.9292336  0.07076608]\n",
      " [0.32667723 0.67332286]]\n",
      "observation:  [0 0]\n",
      "probabilities:  [[0.93513507 0.06486487]\n",
      " [0.33359677 0.66640306]]\n",
      "observation:  [1 1]\n",
      "probabilities:  [[0.9383323  0.06166734]\n",
      " [0.29775968 0.70224047]]\n",
      "observation:  [0 0]\n",
      "probabilities:  [[0.9441629  0.05583658]\n",
      " [0.29460168 0.7053984 ]]\n",
      "observation:  [1 1]\n",
      "probabilities:  [[0.9361211  0.06387877]\n",
      " [0.27558827 0.72441196]]\n",
      "observation:  [0 0]\n",
      "probabilities:  [[0.9413573  0.05864275]\n",
      " [0.26741782 0.7325819 ]]\n",
      "observation:  [0 0]\n",
      "probabilities:  [[0.95256937 0.04743063]\n",
      " [0.2675334  0.7324664 ]]\n",
      "observation:  [1 1]\n",
      "probabilities:  [[0.9451943  0.05480566]\n",
      " [0.2642746  0.7357253 ]]\n",
      "observation:  [0 0]\n",
      "probabilities:  [[0.9477825  0.05221776]\n",
      " [0.25977865 0.74022126]]\n",
      "observation:  [0 0]\n",
      "probabilities:  [[0.9484293  0.05157095]\n",
      " [0.26571757 0.734282  ]]\n",
      "observation:  [1 0]\n",
      "probabilities:  [[0.9534217  0.04657814]\n",
      " [0.29781502 0.70218503]]\n",
      "observation:  [0 0]\n",
      "probabilities:  [[0.9559768  0.04402338]\n",
      " [0.31353873 0.6864615 ]]\n",
      "observation:  [0 0]\n",
      "probabilities:  [[0.96519125 0.03480865]\n",
      " [0.3059839  0.69401634]]\n",
      "observation:  [0 0]\n",
      "probabilities:  [[0.9568755  0.04312408]\n",
      " [0.2945637  0.7054361 ]]\n",
      "observation:  [0 0]\n",
      "probabilities:  [[0.961546   0.03845394]\n",
      " [0.29807267 0.7019274 ]]\n",
      "observation:  [1 1]\n",
      "probabilities:  [[0.95844513 0.04155529]\n",
      " [0.28285593 0.7171441 ]]\n",
      "observation:  [0 0]\n",
      "probabilities:  [[0.96075726 0.03924293]\n",
      " [0.28980014 0.7101999 ]]\n",
      "observation:  [0 0]\n",
      "probabilities:  [[0.9660542  0.03394571]\n",
      " [0.2813274  0.7186726 ]]\n",
      "observation:  [1 0]\n",
      "probabilities:  [[0.96691984 0.0330799 ]\n",
      " [0.32699063 0.6730093 ]]\n",
      "observation:  [0 0]\n",
      "probabilities:  [[0.9634356  0.0365644 ]\n",
      " [0.32214156 0.6778585 ]]\n",
      "observation:  [1 0]\n",
      "probabilities:  [[0.9622165  0.0377841 ]\n",
      " [0.34822145 0.65177846]]\n",
      "observation:  [0 0]\n",
      "probabilities:  [[0.9665576  0.03344262]\n",
      " [0.34316894 0.6568314 ]]\n",
      "observation:  [0 0]\n",
      "probabilities:  [[0.9677354  0.03226479]\n",
      " [0.33276442 0.6672356 ]]\n",
      "observation:  [1 1]\n",
      "probabilities:  [[0.9710106  0.02898951]\n",
      " [0.339794   0.6602057 ]]\n",
      "observation:  [0 0]\n",
      "probabilities:  [[0.9680639  0.03193603]\n",
      " [0.33593    0.66406983]]\n",
      "observation:  [1 1]\n",
      "probabilities:  [[0.96675885 0.03324121]\n",
      " [0.32063925 0.67936087]]\n",
      "observation:  [0 0]\n",
      "probabilities:  [[0.96663463 0.03336526]\n",
      " [0.32133216 0.67866796]]\n",
      "observation:  [0 0]\n",
      "probabilities:  [[0.9693379  0.03066231]\n",
      " [0.30614403 0.693856  ]]\n",
      "observation:  [1 0]\n",
      "probabilities:  [[0.966358   0.03364161]\n",
      " [0.3412547  0.6587451 ]]\n",
      "observation:  [0 0]\n",
      "probabilities:  [[0.9686687  0.03133111]\n",
      " [0.3493348  0.6506651 ]]\n",
      "observation:  [0 0]\n",
      "probabilities:  [[0.9701764  0.02982362]\n",
      " [0.33891332 0.66108674]]\n",
      "observation:  [0 0]\n",
      "probabilities:  [[0.9718984  0.02810154]\n",
      " [0.36015287 0.63984734]]\n",
      "observation:  [0 0]\n",
      "probabilities:  [[0.97674274 0.02325735]\n",
      " [0.35016596 0.6498338 ]]\n",
      "observation:  [0 0]\n",
      "probabilities:  [[0.9752504  0.02474934]\n",
      " [0.34265947 0.6573405 ]]\n",
      "observation:  [0 0]\n",
      "probabilities:  [[0.971667   0.02833295]\n",
      " [0.34964934 0.65035075]]\n",
      "observation:  [0 0]\n",
      "probabilities:  [[0.9732591  0.02674112]\n",
      " [0.34179807 0.65820205]]\n",
      "observation:  [0 0]\n",
      "probabilities:  [[0.97660816 0.02339217]\n",
      " [0.34030506 0.65969485]]\n",
      "observation:  [0 0]\n",
      "probabilities:  [[0.976574   0.02342562]\n",
      " [0.34069166 0.6593084 ]]\n",
      "observation:  [1 1]\n",
      "probabilities:  [[0.97663635 0.02336351]\n",
      " [0.32829806 0.671702  ]]\n",
      "observation:  [0 0]\n",
      "probabilities:  [[0.97403574 0.02596438]\n",
      " [0.3441441  0.65585613]]\n",
      "observation:  [0 0]\n",
      "probabilities:  [[0.9768276  0.02317206]\n",
      " [0.33875895 0.6612412 ]]\n",
      "observation:  [1 0]\n",
      "probabilities:  [[0.9789678  0.02103253]\n",
      " [0.3508524  0.64914757]]\n",
      "observation:  [0 0]\n",
      "probabilities:  [[0.9779584  0.0220417 ]\n",
      " [0.35715237 0.6428476 ]]\n",
      "observation:  [0 0]\n",
      "probabilities:  [[0.9780124  0.02198773]\n",
      " [0.35865986 0.6413402 ]]\n",
      "observation:  [1 1]\n",
      "probabilities:  [[0.98024803 0.01975171]\n",
      " [0.3427021  0.65729797]]\n",
      "observation:  [1 0]\n",
      "probabilities:  [[0.9793498  0.02065004]\n",
      " [0.37523502 0.624765  ]]\n",
      "observation:  [0 0]\n",
      "probabilities:  [[0.9785852  0.02141476]\n",
      " [0.37561187 0.6243883 ]]\n",
      "observation:  [0 0]\n",
      "probabilities:  [[0.98102856 0.01897168]\n",
      " [0.3590648  0.6409349 ]]\n",
      "observation:  [0 0]\n",
      "probabilities:  [[0.98078287 0.01921697]\n",
      " [0.36152554 0.63847446]]\n",
      "observation:  [0 0]\n",
      "probabilities:  [[0.9784898  0.02151048]\n",
      " [0.36427313 0.6357268 ]]\n",
      "observation:  [1 0]\n",
      "probabilities:  [[0.98046684 0.01953333]\n",
      " [0.38187888 0.61812115]]\n",
      "observation:  [0 0]\n",
      "probabilities:  [[0.97930473 0.02069492]\n",
      " [0.38538557 0.6146145 ]]\n",
      "observation:  [0 0]\n",
      "probabilities:  [[0.9809731  0.01902683]\n",
      " [0.39538252 0.60461754]]\n",
      "observation:  [1 1]\n",
      "probabilities:  [[0.9807071  0.0192931 ]\n",
      " [0.3740084  0.62599164]]\n",
      "observation:  [0 0]\n",
      "probabilities:  [[0.98231465 0.01768561]\n",
      " [0.36687005 0.63313025]]\n",
      "observation:  [0 0]\n",
      "probabilities:  [[0.98367596 0.01632432]\n",
      " [0.3692389  0.6307613 ]]\n",
      "observation:  [1 0]\n",
      "probabilities:  [[0.98351747 0.01648246]\n",
      " [0.40049642 0.59950334]]\n",
      "observation:  [0 0]\n",
      "probabilities:  [[0.9799281  0.02007178]\n",
      " [0.39742333 0.60257703]]\n",
      "observation:  [1 1]\n",
      "probabilities:  [[0.9815258  0.01847422]\n",
      " [0.38558698 0.61441314]]\n",
      "observation:  [0 0]\n",
      "probabilities:  [[0.98237795 0.017622  ]\n",
      " [0.39367932 0.6063206 ]]\n",
      "observation:  [0 0]\n",
      "probabilities:  [[0.98209363 0.017906  ]\n",
      " [0.38217515 0.6178246 ]]\n",
      "observation:  [0 0]\n",
      "probabilities:  [[0.98276013 0.01723976]\n",
      " [0.3818239  0.618176  ]]\n",
      "observation:  [0 0]\n",
      "probabilities:  [[0.98423725 0.01576249]\n",
      " [0.36415383 0.6358459 ]]\n",
      "observation:  [1 0]\n",
      "probabilities:  [[0.98318815 0.01681181]\n",
      " [0.39372584 0.60627425]]\n",
      "observation:  [0 0]\n",
      "probabilities:  [[0.9839973  0.01600269]\n",
      " [0.3968427  0.60315746]]\n",
      "observation:  [1 1]\n",
      "probabilities:  [[0.98294127 0.01705881]\n",
      " [0.39338797 0.60661244]]\n",
      "observation:  [0 0]\n",
      "probabilities:  [[0.98492795 0.01507201]\n",
      " [0.39790145 0.6020987 ]]\n",
      "observation:  [0 0]\n",
      "probabilities:  [[0.9833483  0.01665186]\n",
      " [0.38322145 0.6167788 ]]\n",
      "observation:  [0 0]\n",
      "probabilities:  [[0.98417073 0.015829  ]\n",
      " [0.3910934  0.60890687]]\n",
      "observation:  [1 0]\n",
      "probabilities:  [[0.98412067 0.01587929]\n",
      " [0.41050175 0.5894979 ]]\n",
      "observation:  [0 0]\n",
      "probabilities:  [[0.9836767  0.01632328]\n",
      " [0.39945662 0.60054344]]\n",
      "observation:  [0 0]\n",
      "probabilities:  [[0.9859204  0.01407969]\n",
      " [0.40948913 0.5905107 ]]\n",
      "observation:  [0 0]\n",
      "probabilities:  [[0.9841031  0.01589706]\n",
      " [0.41266325 0.58733654]]\n",
      "observation:  [1 1]\n",
      "probabilities:  [[0.9842741  0.01572607]\n",
      " [0.3858118  0.61418855]]\n",
      "observation:  [0 0]\n",
      "probabilities:  [[0.98442364 0.0155771 ]\n",
      " [0.39492792 0.605072  ]]\n",
      "observation:  [0 0]\n",
      "probabilities:  [[0.98687255 0.01312746]\n",
      " [0.4034211  0.5965791 ]]\n",
      "observation:  [0 0]\n",
      "probabilities:  [[0.9865202  0.01347989]\n",
      " [0.39834845 0.6016516 ]]\n",
      "observation:  [0 0]\n",
      "probabilities:  [[0.98506176 0.01493826]\n",
      " [0.4068204  0.5931794 ]]\n",
      "observation:  [0 0]\n",
      "probabilities:  [[0.9860693  0.01393066]\n",
      " [0.39899012 0.60101   ]]\n",
      "observation:  [1 0]\n",
      "probabilities:  [[0.9848721  0.01512795]\n",
      " [0.4148183  0.58518165]]\n",
      "observation:  [0 0]\n",
      "probabilities:  [[0.98687154 0.01312842]\n",
      " [0.40466875 0.595331  ]]\n",
      "observation:  [1 1]\n",
      "probabilities:  [[0.9867146  0.01328554]\n",
      " [0.39825436 0.6017458 ]]\n",
      "observation:  [0 0]\n",
      "probabilities:  [[0.98686594 0.0131341 ]\n",
      " [0.4044453  0.59555477]]\n",
      "observation:  [0 0]\n",
      "probabilities:  [[0.98620623 0.01379336]\n",
      " [0.3993719  0.6006281 ]]\n",
      "observation:  [0 0]\n",
      "probabilities:  [[0.98612094 0.01387994]\n",
      " [0.382212   0.6177878 ]]\n",
      "observation:  [0 0]\n",
      "probabilities:  [[0.9860503  0.01394967]\n",
      " [0.40150505 0.5984952 ]]\n",
      "observation:  [1 1]\n",
      "probabilities:  [[0.98643017 0.01357016]\n",
      " [0.3966317  0.6033681 ]]\n",
      "observation:  [1 0]\n",
      "probabilities:  [[0.9860974  0.01390317]\n",
      " [0.40523693 0.5947632 ]]\n",
      "observation:  [0 0]\n",
      "probabilities:  [[0.98664397 0.0133561 ]\n",
      " [0.41317686 0.5868231 ]]\n",
      "observation:  [0 0]\n",
      "probabilities:  [[0.988248   0.01175168]\n",
      " [0.40676925 0.5932305 ]]\n",
      "observation:  [1 0]\n",
      "probabilities:  [[0.98783284 0.01216709]\n",
      " [0.40828922 0.59171057]]\n",
      "observation:  [0 0]\n",
      "probabilities:  [[0.98711944 0.01288019]\n",
      " [0.42053488 0.57946503]]\n",
      "observation:  [0 0]\n",
      "probabilities:  [[0.98826987 0.01172985]\n",
      " [0.42400208 0.57599807]]\n",
      "observation:  [0 0]\n",
      "probabilities:  [[0.9863025  0.01369709]\n",
      " [0.42023313 0.5797669 ]]\n",
      "observation:  [1 0]\n",
      "probabilities:  [[0.9885321  0.01146778]\n",
      " [0.42702076 0.57297915]]\n",
      "observation:  [1 1]\n",
      "probabilities:  [[0.98939645 0.0106035 ]\n",
      " [0.41784117 0.5821583 ]]\n",
      "observation:  [0 0]\n",
      "probabilities:  [[0.9875025  0.01249743]\n",
      " [0.42341864 0.5765815 ]]\n",
      "observation:  [0 0]\n",
      "probabilities:  [[0.9882831  0.01171697]\n",
      " [0.42199028 0.5780098 ]]\n",
      "observation:  [0 0]\n",
      "probabilities:  [[0.98694855 0.01305105]\n",
      " [0.4221946  0.5778057 ]]\n",
      "observation:  [0 0]\n",
      "probabilities:  [[0.98713565 0.01286402]\n",
      " [0.41868857 0.5813114 ]]\n",
      "observation:  [1 1]\n",
      "probabilities:  [[0.9868943  0.01310595]\n",
      " [0.41224605 0.58775395]]\n",
      "observation:  [0 0]\n",
      "probabilities:  [[0.98939645 0.01060316]\n",
      " [0.40856606 0.5914339 ]]\n",
      "observation:  [0 0]\n",
      "probabilities:  [[0.9882065  0.01179373]\n",
      " [0.4149924  0.58500755]]\n",
      "observation:  [1 1]\n",
      "probabilities:  [[0.98910725 0.01089267]\n",
      " [0.39416683 0.6058331 ]]\n",
      "observation:  [0 0]\n",
      "probabilities:  [[0.98913014 0.01086982]\n",
      " [0.40194738 0.59805244]]\n",
      "observation:  [0 0]\n",
      "probabilities:  [[0.98786217 0.01213809]\n",
      " [0.40523484 0.59476525]]\n",
      "observation:  [0 0]\n",
      "probabilities:  [[0.98834187 0.01165793]\n",
      " [0.40773073 0.5922692 ]]\n",
      "observation:  [0 0]\n",
      "probabilities:  [[0.98780215 0.0121983 ]\n",
      " [0.4083284  0.5916716 ]]\n",
      "observation:  [1 1]\n",
      "probabilities:  [[0.9885651  0.01143489]\n",
      " [0.39665112 0.603349  ]]\n",
      "observation:  [0 0]\n",
      "probabilities:  [[0.9897667  0.01023375]\n",
      " [0.38530684 0.614693  ]]\n",
      "observation:  [0 0]\n",
      "probabilities:  [[0.99041563 0.00958442]\n",
      " [0.39510977 0.60489035]]\n",
      "observation:  [1 0]\n",
      "probabilities:  [[0.9883142  0.01168537]\n",
      " [0.4088464  0.591154  ]]\n",
      "observation:  [0 0]\n",
      "probabilities:  [[0.99033475 0.00966502]\n",
      " [0.40877733 0.59122276]]\n",
      "observation:  [0 0]\n",
      "probabilities:  [[0.98881304 0.01118665]\n",
      " [0.4053631  0.5946368 ]]\n",
      "observation:  [0 0]\n",
      "probabilities:  [[0.98817647 0.01182368]\n",
      " [0.41628614 0.58371395]]\n",
      "observation:  [0 0]\n",
      "probabilities:  [[0.9893638  0.01063659]\n",
      " [0.40607432 0.59392554]]\n",
      "observation:  [0 0]\n",
      "probabilities:  [[0.9901621  0.00983818]\n",
      " [0.40265384 0.59734625]]\n",
      "observation:  [1 0]\n",
      "probabilities:  [[0.9900746  0.00992604]\n",
      " [0.4240648  0.5759351 ]]\n"
     ]
    }
   ],
   "source": [
    "nuts_kernel = NUTS(model)\n",
    "num_samples, warmup_steps = (300, 200)\n",
    "\n",
    "mcmc = MCMC(nuts_kernel, num_samples=num_samples, warmup_steps=warmup_steps, disable_progbar=True)\n",
    "all_means = []\n",
    "\n",
    "# sampling\n",
    "for i in range(len(counter)):\n",
    "    mcmc.run(counter[i])\n",
    "    hmc_samples = {k: v.detach().cpu().numpy()\n",
    "                for k, v in mcmc.get_samples().items()}\n",
    "    means = hmc_samples['prior'].mean(axis=0)\n",
    "    stds = hmc_samples['prior'].std(axis=0)\n",
    "    print('observation: ', data_all[i])\n",
    "    print('probabilities: ', means)\n",
    "    all_means.append(means)"
   ],
   "metadata": {
    "collapsed": false
   }
  },
  {
   "cell_type": "code",
   "execution_count": 10,
   "outputs": [
    {
     "data": {
      "text/plain": "<Figure size 1200x800 with 1 Axes>",
      "image/png": "[encoded data removed]"
     },
     "metadata": {},
     "output_type": "display_data"
    }
   ],
   "source": [
    "all_means = np.array(all_means)\n",
    "# all 144 trials\n",
    "X = np.arange(16, 16+len(all_means))\n",
    "y = all_means[:, 1, 1]\n",
    "\n",
    "# only simulated training trials\n",
    "X_training = np.arange(16, 48)\n",
    "y_training = all_means[:32, 1, 1]\n",
    "\n",
    "# points with observation [1 1]\n",
    "list_ = []\n",
    "for index, i in enumerate(data_all):\n",
    "    if np.equal(i, np.array([1,1])).all():\n",
    "        list_.append(np.array([X[index], y[index]]))\n",
    "x_points, y_points = np.array(list_)[:,0], np.array(list_)[:,1]\n",
    "\n",
    "fig = plt.figure(figsize=(12,8))\n",
    "\n",
    "plt.plot(X, y, label='P(C=1|S=1)', color = 'black', alpha=0.8)\n",
    "plt.scatter(x_points, y_points, marker='*', color='red', linewidths=2, label='CS+ and shock')\n",
    "plt.ylabel('p')\n",
    "plt.xlabel('Trial')\n",
    "plt.legend()\n",
    "plt.axvline(x=48, linestyle='--')\n",
    "plt.axvline(x=16, linestyle='--')\n",
    "plt.show()"
   ],
   "metadata": {
    "collapsed": false
   }
  },
  {
   "cell_type": "code",
   "execution_count": 11,
   "outputs": [],
   "source": [
    "array_csplus = []\n",
    "array_csminus = []\n",
    "for index, data in enumerate(data_all):\n",
    "    if data[0] == 1:\n",
    "        array_csplus.append([X[index], all_means[index,1,1]])\n",
    "    else:\n",
    "        array_csminus.append([X[index], all_means[index,0,1]])\n",
    "\n",
    "csplus_learning = []\n",
    "csminus_learning = []\n",
    "total_simulated = []\n",
    "for index_train, data_train in enumerate(learning_data):\n",
    "    if data_train[0] == 1:\n",
    "        csplus_learning.append([X_training[index_train], all_means[index_train,1,1]])\n",
    "        total_simulated.append(all_means[index_train,1,1])\n",
    "    else:\n",
    "        csminus_learning.append([X_training[index_train], all_means[index_train,0,1]])\n",
    "        total_simulated.append(all_means[index_train,0,1])\n",
    "\n",
    "total_simulated = np.array(total_simulated)\n",
    "array_csplus = np.array(array_csplus)\n",
    "array_csminus = np.array(array_csminus)\n",
    "csplus_learning = np.array(csplus_learning)\n",
    "csminus_learning = np.array(csminus_learning)"
   ],
   "metadata": {
    "collapsed": false
   }
  },
  {
   "cell_type": "code",
   "execution_count": 12,
   "outputs": [
    {
     "name": "stderr",
     "output_type": "stream",
     "text": [
      "/var/folders/hn/nq1_cby521sbf58lnj9qj9mw0000gn/T/ipykernel_4127/4112460405.py:2: SettingWithCopyWarning: \n",
      "A value is trying to be set on a copy of a slice from a DataFrame.\n",
      "Try using .loc[row_indexer,col_indexer] = value instead\n",
      "\n",
      "See the caveats in the documentation: https://pandas.pydata.org/pandas-docs/stable/user_guide/indexing.html#returning-a-view-versus-a-copy\n",
      "  df_['shock'] = df_['shock'].astype(int)\n",
      "/var/folders/hn/nq1_cby521sbf58lnj9qj9mw0000gn/T/ipykernel_4127/4112460405.py:3: SettingWithCopyWarning: \n",
      "A value is trying to be set on a copy of a slice from a DataFrame.\n",
      "Try using .loc[row_indexer,col_indexer] = value instead\n",
      "\n",
      "See the caveats in the documentation: https://pandas.pydata.org/pandas-docs/stable/user_guide/indexing.html#returning-a-view-versus-a-copy\n",
      "  df_['morphing level'] = [int(d == 6) for d in df_['morphing level']]\n",
      "/var/folders/hn/nq1_cby521sbf58lnj9qj9mw0000gn/T/ipykernel_4127/4112460405.py:4: SettingWithCopyWarning: \n",
      "A value is trying to be set on a copy of a slice from a DataFrame.\n",
      "Try using .loc[row_indexer,col_indexer] = value instead\n",
      "\n",
      "See the caveats in the documentation: https://pandas.pydata.org/pandas-docs/stable/user_guide/indexing.html#returning-a-view-versus-a-copy\n",
      "  df_['rating'] = df_['rating'].replace([1, 2, 3, 4, 5], [0.2, 0.4, 0.6, 0.8, 1])\n"
     ]
    }
   ],
   "source": [
    "df_ = df[['shock', 'rating', 'morphing level']]\n",
    "df_['shock'] = df_['shock'].astype(int)\n",
    "df_['morphing level'] = [int(d == 6) for d in df_['morphing level']]\n",
    "df_['rating'] = df_['rating'].replace([1, 2, 3, 4, 5], [0.2, 0.4, 0.6, 0.8, 1])"
   ],
   "metadata": {
    "collapsed": false
   }
  },
  {
   "cell_type": "code",
   "execution_count": 13,
   "outputs": [
    {
     "data": {
      "text/plain": "    shock  rating  morphing level\n16      1     0.2               1\n17      0     0.4               0\n18      0     0.4               0\n19      1     0.4               1\n20      0     0.4               0\n21      1     0.6               1\n22      1     0.8               1\n23      0     0.2               0\n24      0     0.8               1\n25      1     0.8               1\n26      0     0.2               0\n27      0     0.2               0\n28      0     0.2               0\n29      0     0.2               0\n30      1     0.8               1\n31      0     1.0               1\n32      0     0.2               0\n33      1     0.8               1\n34      1     0.8               1\n35      0     0.2               0\n36      0     1.0               1\n37      0     0.2               0\n38      1     0.8               1\n39      0     0.2               0\n40      0     1.0               1\n41      0     0.2               0\n42      1     0.8               1\n43      0     0.2               0\n44      1     1.0               1\n45      0     0.2               0\n46      1     0.8               1\n47      0     0.2               0",
      "text/html": "<div>\n<style scoped>\n    .dataframe tbody tr th:only-of-type {\n        vertical-align: middle;\n    }\n\n    .dataframe tbody tr th {\n        vertical-align: top;\n    }\n\n    .dataframe thead th {\n        text-align: right;\n    }\n</style>\n<table border=\"1\" class=\"dataframe\">\n  <thead>\n    <tr style=\"text-align: right;\">\n      <th></th>\n      <th>shock</th>\n      <th>rating</th>\n      <th>morphing level</th>\n    </tr>\n  </thead>\n  <tbody>\n    <tr>\n      <th>16</th>\n      <td>1</td>\n      <td>0.2</td>\n      <td>1</td>\n    </tr>\n    <tr>\n      <th>17</th>\n      <td>0</td>\n      <td>0.4</td>\n      <td>0</td>\n    </tr>\n    <tr>\n      <th>18</th>\n      <td>0</td>\n      <td>0.4</td>\n      <td>0</td>\n    </tr>\n    <tr>\n      <th>19</th>\n      <td>1</td>\n      <td>0.4</td>\n      <td>1</td>\n    </tr>\n    <tr>\n      <th>20</th>\n      <td>0</td>\n      <td>0.4</td>\n      <td>0</td>\n    </tr>\n    <tr>\n      <th>21</th>\n      <td>1</td>\n      <td>0.6</td>\n      <td>1</td>\n    </tr>\n    <tr>\n      <th>22</th>\n      <td>1</td>\n      <td>0.8</td>\n      <td>1</td>\n    </tr>\n    <tr>\n      <th>23</th>\n      <td>0</td>\n      <td>0.2</td>\n      <td>0</td>\n    </tr>\n    <tr>\n      <th>24</th>\n      <td>0</td>\n      <td>0.8</td>\n      <td>1</td>\n    </tr>\n    <tr>\n      <th>25</th>\n      <td>1</td>\n      <td>0.8</td>\n      <td>1</td>\n    </tr>\n    <tr>\n      <th>26</th>\n      <td>0</td>\n      <td>0.2</td>\n      <td>0</td>\n    </tr>\n    <tr>\n      <th>27</th>\n      <td>0</td>\n      <td>0.2</td>\n      <td>0</td>\n    </tr>\n    <tr>\n      <th>28</th>\n      <td>0</td>\n      <td>0.2</td>\n      <td>0</td>\n    </tr>\n    <tr>\n      <th>29</th>\n      <td>0</td>\n      <td>0.2</td>\n      <td>0</td>\n    </tr>\n    <tr>\n      <th>30</th>\n      <td>1</td>\n      <td>0.8</td>\n      <td>1</td>\n    </tr>\n    <tr>\n      <th>31</th>\n      <td>0</td>\n      <td>1.0</td>\n      <td>1</td>\n    </tr>\n    <tr>\n      <th>32</th>\n      <td>0</td>\n      <td>0.2</td>\n      <td>0</td>\n    </tr>\n    <tr>\n      <th>33</th>\n      <td>1</td>\n      <td>0.8</td>\n      <td>1</td>\n    </tr>\n    <tr>\n      <th>34</th>\n      <td>1</td>\n      <td>0.8</td>\n      <td>1</td>\n    </tr>\n    <tr>\n      <th>35</th>\n      <td>0</td>\n      <td>0.2</td>\n      <td>0</td>\n    </tr>\n    <tr>\n      <th>36</th>\n      <td>0</td>\n      <td>1.0</td>\n      <td>1</td>\n    </tr>\n    <tr>\n      <th>37</th>\n      <td>0</td>\n      <td>0.2</td>\n      <td>0</td>\n    </tr>\n    <tr>\n      <th>38</th>\n      <td>1</td>\n      <td>0.8</td>\n      <td>1</td>\n    </tr>\n    <tr>\n      <th>39</th>\n      <td>0</td>\n      <td>0.2</td>\n      <td>0</td>\n    </tr>\n    <tr>\n      <th>40</th>\n      <td>0</td>\n      <td>1.0</td>\n      <td>1</td>\n    </tr>\n    <tr>\n      <th>41</th>\n      <td>0</td>\n      <td>0.2</td>\n      <td>0</td>\n    </tr>\n    <tr>\n      <th>42</th>\n      <td>1</td>\n      <td>0.8</td>\n      <td>1</td>\n    </tr>\n    <tr>\n      <th>43</th>\n      <td>0</td>\n      <td>0.2</td>\n      <td>0</td>\n    </tr>\n    <tr>\n      <th>44</th>\n      <td>1</td>\n      <td>1.0</td>\n      <td>1</td>\n    </tr>\n    <tr>\n      <th>45</th>\n      <td>0</td>\n      <td>0.2</td>\n      <td>0</td>\n    </tr>\n    <tr>\n      <th>46</th>\n      <td>1</td>\n      <td>0.8</td>\n      <td>1</td>\n    </tr>\n    <tr>\n      <th>47</th>\n      <td>0</td>\n      <td>0.2</td>\n      <td>0</td>\n    </tr>\n  </tbody>\n</table>\n</div>"
     },
     "execution_count": 13,
     "metadata": {},
     "output_type": "execute_result"
    }
   ],
   "source": [
    "df_new=df_[16:]\n",
    "df_learning = df_[16:48]\n",
    "df_learning"
   ],
   "metadata": {
    "collapsed": false
   }
  },
  {
   "cell_type": "code",
   "execution_count": 14,
   "outputs": [],
   "source": [
    "y_plus_real = df_new.loc[df_new['morphing level']==1].rating.values\n",
    "x_plus_real = np.array(df_new.loc[df_new['morphing level']==1].index)\n",
    "y_minus_real = df_new.loc[df_new['morphing level']==0].rating.values\n",
    "x_minus_real = np.array(df_new.loc[df_new['morphing level']==0].index)\n",
    "y_real=df_new.rating.values\n",
    "\n",
    "y_plus_train = df_learning.loc[df_learning['morphing level']==1].rating.values\n",
    "x_plus_train = np.array(df_learning.loc[df_learning['morphing level']==1].index)\n",
    "y_minus_train = df_learning.loc[df_learning['morphing level']==0].rating.values\n",
    "x_minus_train = np.array(df_learning.loc[df_learning['morphing level']==0].index)\n",
    "y_train=df_learning.rating.values"
   ],
   "metadata": {
    "collapsed": false
   }
  },
  {
   "cell_type": "code",
   "execution_count": 15,
   "outputs": [
    {
     "data": {
      "text/plain": "<Figure size 1300x600 with 1 Axes>",
      "image/png": "[encoded data removed]"
     },
     "metadata": {},
     "output_type": "display_data"
    }
   ],
   "source": [
    "fig = plt.figure(figsize=(13,6))\n",
    "plt.scatter(x_plus_real, y_plus_real, color='blue', label='cs+ real')\n",
    "plt.scatter(x_minus_real, y_minus_real, color='red', label='non cs+ real')\n",
    "plt.scatter(array_csplus[:,0], array_csplus[:,1], color='darkblue', label='cs+ simulated')\n",
    "plt.scatter(array_csminus[:,0], array_csminus[:,1], color='darkred', label='cs- simulated')\n",
    "plt.legend(loc='right')\n",
    "plt.axvline(x=16, linestyle='--', color='green')\n",
    "plt.axvline(x=48, linestyle='--', color='green')\n",
    "plt.xlabel('Trial')\n",
    "plt.ylabel('P(condition | visual stimulus)')\n",
    "plt.show()"
   ],
   "metadata": {
    "collapsed": false
   }
  },
  {
   "cell_type": "code",
   "execution_count": 16,
   "outputs": [
    {
     "name": "stdout",
     "output_type": "stream",
     "text": [
      "16 16\n"
     ]
    }
   ],
   "source": [
    "print(len(y_minus_train), len(csminus_learning[:,1]))"
   ],
   "metadata": {
    "collapsed": false
   }
  },
  {
   "cell_type": "code",
   "execution_count": 17,
   "outputs": [
    {
     "data": {
      "text/plain": "<Figure size 1300x600 with 1 Axes>",
      "image/png": "[encoded data removed]"
     },
     "metadata": {},
     "output_type": "display_data"
    }
   ],
   "source": [
    "fig2 = plt.figure(figsize=(13,6))\n",
    "plt.scatter(x_plus_train, y_plus_train, color='blue', label='cs+ real')\n",
    "plt.scatter(x_minus_train, y_minus_train, color='red', label='non cs+ real')\n",
    "plt.scatter(csplus_learning[:,0], csplus_learning[:,1], color='darkblue', label='cs+ simulated')\n",
    "plt.scatter(csminus_learning[:,0], csminus_learning[:,1], color='darkred', label='cs- simulated')\n",
    "plt.legend(loc='right')\n",
    "plt.axvline(x=16, linestyle='--', color='green')\n",
    "plt.axvline(x=48, linestyle='--', color='green')\n",
    "plt.xlabel('Trial')\n",
    "plt.ylabel('P(condition | visual stimulus)')\n",
    "plt.show()\n",
    "plt.show()"
   ],
   "metadata": {
    "collapsed": false
   }
  },
  {
   "cell_type": "code",
   "execution_count": 22,
   "outputs": [
    {
     "data": {
      "text/plain": "array([[1.        , 0.87076154],\n       [0.87076154, 1.        ]])"
     },
     "execution_count": 22,
     "metadata": {},
     "output_type": "execute_result"
    }
   ],
   "source": [
    "np.corrcoef(y_train,total_simulated)"
   ],
   "metadata": {
    "collapsed": false
   }
  },
  {
   "cell_type": "markdown",
   "source": [
    "## Deep Markov model\n",
    "\n",
    "![example](https://pyro.ai/examples/_static/img/model.png)"
   ],
   "metadata": {
    "collapsed": false
   }
  },
  {
   "cell_type": "code",
   "execution_count": 1,
   "outputs": [],
   "source": [
    "import argparse\n",
    "import logging\n",
    "import time\n",
    "from os.path import exists\n",
    "import numpy as np\n",
    "import torch\n",
    "import torch.nn as nn\n",
    "import pyro\n",
    "import pyro.contrib.examples.polyphonic_data_loader as poly\n",
    "import pyro.distributions as dist\n",
    "import pyro.poutine as poutine\n",
    "from pyro.distributions import TransformedDistribution\n",
    "from pyro.distributions.transforms import affine_autoregressive\n",
    "from pyro.infer import (\n",
    "    SVI,\n",
    "    JitTrace_ELBO,\n",
    "    Trace_ELBO,\n",
    "    TraceEnum_ELBO,\n",
    "    TraceTMC_ELBO,\n",
    "    config_enumerate,\n",
    ")\n",
    "from pyro.optim import ClippedAdam"
   ],
   "metadata": {
    "collapsed": false
   }
  },
  {
   "cell_type": "code",
   "execution_count": 3,
   "outputs": [],
   "source": [
    "# emission function (Emit in the figure)\n",
    "class Emitter(nn.Module):\n",
    "    \"\"\"\n",
    "    Parameterizes the bernoulli observation likelihood p(x_t|z_t)\n",
    "\n",
    "    \"\"\"\n",
    "    def __init__(self, input_dim, z_dim, emission_dim):\n",
    "        super().__init__()\n",
    "        # emission_dim is the number of hidden units in the neural network\n",
    "        # three linear transformations used in the neural network\n",
    "        self.lin_z_to_hidden = nn.Linear(z_dim, emission_dim)\n",
    "        self.lin_hidden_to_hidden = nn.Linear(emission_dim, emission_dim)\n",
    "        self.lin_hidden_to_input = nn.Linear(emission_dim, input_dim)\n",
    "        # two non linear used in the neural network\n",
    "        self.relu = nn.ReLU()\n",
    "        self.sigmoid = nn.Sigmoid()\n",
    "\n",
    "    def forward(self, z_t):\n",
    "        \"\"\"\n",
    "        Given the latent z at a particular time step t, we return the vector of probabilities 'ps' that parametrizes the bernoulli distribution p(x_t|z_t)\n",
    "        Taken together the elements of ps encode which notes we expect to observe at time t given the state of the system (as encoded in z_t).\n",
    "        \"\"\"\n",
    "        h1 = self.relu(self.lin_z_to_hidden(z_t))\n",
    "        h2 = self.relu(self.lin_hidden_to_hidden(h1))\n",
    "        ps = self.sigmoid(self.lin_hidden_to_input(h2))\n",
    "        return ps"
   ],
   "metadata": {
    "collapsed": false
   }
  },
  {
   "cell_type": "code",
   "execution_count": 4,
   "outputs": [],
   "source": [
    "# gated transition (Trans in the figure above)\n",
    "class GatedTransition(nn.Module):\n",
    "    \"\"\"\n",
    "    Parameterizes the gaussian latent transition probability p(z_t | z_{t-1})\n",
    "    \"\"\"\n",
    "    def __init__(self, z_dim, transition_dim):\n",
    "        super().__init__()\n",
    "        # six linear transform\n",
    "        self.lin_gate_z_to_hidden = nn.Linear(z_dim, transition_dim)\n",
    "        self.lin_gate_hidden_to_z = nn.Linear(transition_dim, z_dim)\n",
    "        self.lin_proposed_mean_z_to_hidden = nn.Linear(z_dim, transition_dim)\n",
    "        self.lin_proposed_mean_hidden_to_z = nn.Linear(transition_dim, z_dim)\n",
    "        self.lin_sig = nn.Linear(z_dim, z_dim)\n",
    "        self.lin_z_to_loc = nn.Linear(z_dim, z_dim)\n",
    "\n",
    "        # modify the default initialization of lin_z_to_loc\n",
    "        # so that it's starts out as the IDENTITY FUNCTION\n",
    "        self.lin_z_to_loc.weight.data = torch.eye(z_dim)\n",
    "        self.lin_z_to_loc.bias.data = torch.zeros(z_dim)\n",
    "\n",
    "        # three non linear\n",
    "        self.relu = nn.ReLU()\n",
    "        self.sigmoid = nn.Sigmoid()\n",
    "        self.softplus = nn.Softplus()\n",
    "\n",
    "\n",
    "    def forward(self, z_t_1):\n",
    "        \"\"\"\n",
    "        Given the latent z_{t-1} corresponding to the time step t-1 we return the mean and scale vectors that parameterize the\n",
    "        (diagonal) gaussian distribution p(z_t | z_{t-1})\n",
    "        \"\"\"\n",
    "        # compute the gating function\n",
    "        _gate = self.relu(self.lin_gate_z_to_hidden(z_t_1))\n",
    "        gate = self.sigmoid(self.lin_gate_hidden_to_z(_gate))\n",
    "\n",
    "        # compute the 'proposed mean'\n",
    "        _proposed_mean = self.relu(self.lin_proposed_mean_z_to_hidden(z_t_1))\n",
    "        proposed_mean = self.lin_proposed_mean_hidden_to_z(_proposed_mean)\n",
    "\n",
    "        # assemble the actual mean used to sample z_t, which mixes a linear transformation of z_{t-1} with the proposed mean\n",
    "        # modulated by the gating function\n",
    "        loc = (1 - gate) * self.lin_z_to_loc(z_t_1) + gate * proposed_mean\n",
    "\n",
    "        # compute the scale used to sample z_t, using the proposed\n",
    "        # mean from above as input. the softplus ensures that scale is positive\n",
    "        scale = self.softplus(self.lin_sig(self.relu(proposed_mean)))\n",
    "\n",
    "        # return loc, scale which can be fed into Normal (mean and covariance of our Gaussian)\n",
    "        return loc, scale"
   ],
   "metadata": {
    "collapsed": false
   }
  },
  {
   "cell_type": "code",
   "execution_count": null,
   "outputs": [],
   "source": [
    "# simple model (not working)\n",
    "def model(...):\n",
    "    # initializer\n",
    "    z_prev = self.z_0\n",
    "\n",
    "    # sample the latents z and observed x's one time step at a time\n",
    "    for t in range(1, T_max + 1):\n",
    "        # the next two lines of code sample z_t ~ p(z_t | z_{t-1}).\n",
    "        # first compute the parameters of the diagonal gaussian\n",
    "        # distribution p(z_t | z_{t-1})\n",
    "        z_loc, z_scale = self.trans(z_prev)\n",
    "        # then sample z_t according to dist.Normal(z_loc, z_scale)\n",
    "        z_t = pyro.sample(\"z_%d\" % t, dist.Normal(z_loc, z_scale))\n",
    "\n",
    "        # compute the probabilities that parameterize the bernoulli likelihood\n",
    "        emission_probs_t = self.emitter(z_t)\n",
    "        # the next statement instructs pyro to observe x_t according to the\n",
    "        # bernoulli distribution p(x_t|z_t)\n",
    "        pyro.sample(\"obs_x_%d\" % t,\n",
    "                    dist.Bernoulli(emission_probs_t),\n",
    "                    obs=mini_batch[:, t - 1, :])\n",
    "        # the latent sampled at this time step will be conditioned upon\n",
    "        # in the next time step so keep track of it\n",
    "        z_prev = z_t"
   ],
   "metadata": {
    "collapsed": false
   }
  },
  {
   "cell_type": "markdown",
   "source": [
    "### Agent example"
   ],
   "metadata": {
    "collapsed": false
   }
  },
  {
   "cell_type": "code",
   "execution_count": 12,
   "outputs": [
    {
     "ename": "TypeError",
     "evalue": "model() takes 3 positional arguments but 5 were given",
     "output_type": "error",
     "traceback": [
      "\u001B[0;31m---------------------------------------------------------------------------\u001B[0m",
      "\u001B[0;31mTypeError\u001B[0m                                 Traceback (most recent call last)",
      "Cell \u001B[0;32mIn [12], line 46\u001B[0m\n\u001B[1;32m     44\u001B[0m \u001B[38;5;28;01mfor\u001B[39;00m i \u001B[38;5;129;01min\u001B[39;00m \u001B[38;5;28mrange\u001B[39m(\u001B[38;5;241m1000\u001B[39m):\n\u001B[1;32m     45\u001B[0m     states, emissions \u001B[38;5;241m=\u001B[39m model(stimuli, shock, initial_state)\n\u001B[0;32m---> 46\u001B[0m     loss \u001B[38;5;241m=\u001B[39m svi\u001B[38;5;241m.\u001B[39mstep(stimuli, shock, initial_state, states, emissions)\n\u001B[1;32m     47\u001B[0m     \u001B[38;5;28;01mif\u001B[39;00m i \u001B[38;5;241m%\u001B[39m \u001B[38;5;241m100\u001B[39m \u001B[38;5;241m==\u001B[39m \u001B[38;5;241m0\u001B[39m:\n\u001B[1;32m     48\u001B[0m         \u001B[38;5;28mprint\u001B[39m(\u001B[38;5;124m\"\u001B[39m\u001B[38;5;124mstep \u001B[39m\u001B[38;5;132;01m{}\u001B[39;00m\u001B[38;5;124m: loss = \u001B[39m\u001B[38;5;132;01m{}\u001B[39;00m\u001B[38;5;124m\"\u001B[39m\u001B[38;5;241m.\u001B[39mformat(i, loss))\n",
      "File \u001B[0;32m~/PycharmProjects/pythonProject/venv/lib/python3.9/site-packages/pyro/infer/svi.py:145\u001B[0m, in \u001B[0;36mSVI.step\u001B[0;34m(self, *args, **kwargs)\u001B[0m\n\u001B[1;32m    143\u001B[0m \u001B[38;5;66;03m# get loss and compute gradients\u001B[39;00m\n\u001B[1;32m    144\u001B[0m \u001B[38;5;28;01mwith\u001B[39;00m poutine\u001B[38;5;241m.\u001B[39mtrace(param_only\u001B[38;5;241m=\u001B[39m\u001B[38;5;28;01mTrue\u001B[39;00m) \u001B[38;5;28;01mas\u001B[39;00m param_capture:\n\u001B[0;32m--> 145\u001B[0m     loss \u001B[38;5;241m=\u001B[39m \u001B[38;5;28;43mself\u001B[39;49m\u001B[38;5;241;43m.\u001B[39;49m\u001B[43mloss_and_grads\u001B[49m\u001B[43m(\u001B[49m\u001B[38;5;28;43mself\u001B[39;49m\u001B[38;5;241;43m.\u001B[39;49m\u001B[43mmodel\u001B[49m\u001B[43m,\u001B[49m\u001B[43m \u001B[49m\u001B[38;5;28;43mself\u001B[39;49m\u001B[38;5;241;43m.\u001B[39;49m\u001B[43mguide\u001B[49m\u001B[43m,\u001B[49m\u001B[43m \u001B[49m\u001B[38;5;241;43m*\u001B[39;49m\u001B[43margs\u001B[49m\u001B[43m,\u001B[49m\u001B[43m \u001B[49m\u001B[38;5;241;43m*\u001B[39;49m\u001B[38;5;241;43m*\u001B[39;49m\u001B[43mkwargs\u001B[49m\u001B[43m)\u001B[49m\n\u001B[1;32m    147\u001B[0m params \u001B[38;5;241m=\u001B[39m \u001B[38;5;28mset\u001B[39m(\n\u001B[1;32m    148\u001B[0m     site[\u001B[38;5;124m\"\u001B[39m\u001B[38;5;124mvalue\u001B[39m\u001B[38;5;124m\"\u001B[39m]\u001B[38;5;241m.\u001B[39munconstrained() \u001B[38;5;28;01mfor\u001B[39;00m site \u001B[38;5;129;01min\u001B[39;00m param_capture\u001B[38;5;241m.\u001B[39mtrace\u001B[38;5;241m.\u001B[39mnodes\u001B[38;5;241m.\u001B[39mvalues()\n\u001B[1;32m    149\u001B[0m )\n\u001B[1;32m    151\u001B[0m \u001B[38;5;66;03m# actually perform gradient steps\u001B[39;00m\n\u001B[1;32m    152\u001B[0m \u001B[38;5;66;03m# torch.optim objects gets instantiated for any params that haven't been seen yet\u001B[39;00m\n",
      "File \u001B[0;32m~/PycharmProjects/pythonProject/venv/lib/python3.9/site-packages/pyro/infer/trace_elbo.py:140\u001B[0m, in \u001B[0;36mTrace_ELBO.loss_and_grads\u001B[0;34m(self, model, guide, *args, **kwargs)\u001B[0m\n\u001B[1;32m    138\u001B[0m loss \u001B[38;5;241m=\u001B[39m \u001B[38;5;241m0.0\u001B[39m\n\u001B[1;32m    139\u001B[0m \u001B[38;5;66;03m# grab a trace from the generator\u001B[39;00m\n\u001B[0;32m--> 140\u001B[0m \u001B[38;5;28;01mfor\u001B[39;00m model_trace, guide_trace \u001B[38;5;129;01min\u001B[39;00m \u001B[38;5;28mself\u001B[39m\u001B[38;5;241m.\u001B[39m_get_traces(model, guide, args, kwargs):\n\u001B[1;32m    141\u001B[0m     loss_particle, surrogate_loss_particle \u001B[38;5;241m=\u001B[39m \u001B[38;5;28mself\u001B[39m\u001B[38;5;241m.\u001B[39m_differentiable_loss_particle(\n\u001B[1;32m    142\u001B[0m         model_trace, guide_trace\n\u001B[1;32m    143\u001B[0m     )\n\u001B[1;32m    144\u001B[0m     loss \u001B[38;5;241m+\u001B[39m\u001B[38;5;241m=\u001B[39m loss_particle \u001B[38;5;241m/\u001B[39m \u001B[38;5;28mself\u001B[39m\u001B[38;5;241m.\u001B[39mnum_particles\n",
      "File \u001B[0;32m~/PycharmProjects/pythonProject/venv/lib/python3.9/site-packages/pyro/infer/elbo.py:236\u001B[0m, in \u001B[0;36mELBO._get_traces\u001B[0;34m(self, model, guide, args, kwargs)\u001B[0m\n\u001B[1;32m    234\u001B[0m \u001B[38;5;28;01melse\u001B[39;00m:\n\u001B[1;32m    235\u001B[0m     \u001B[38;5;28;01mfor\u001B[39;00m i \u001B[38;5;129;01min\u001B[39;00m \u001B[38;5;28mrange\u001B[39m(\u001B[38;5;28mself\u001B[39m\u001B[38;5;241m.\u001B[39mnum_particles):\n\u001B[0;32m--> 236\u001B[0m         \u001B[38;5;28;01myield\u001B[39;00m \u001B[38;5;28;43mself\u001B[39;49m\u001B[38;5;241;43m.\u001B[39;49m\u001B[43m_get_trace\u001B[49m\u001B[43m(\u001B[49m\u001B[43mmodel\u001B[49m\u001B[43m,\u001B[49m\u001B[43m \u001B[49m\u001B[43mguide\u001B[49m\u001B[43m,\u001B[49m\u001B[43m \u001B[49m\u001B[43margs\u001B[49m\u001B[43m,\u001B[49m\u001B[43m \u001B[49m\u001B[43mkwargs\u001B[49m\u001B[43m)\u001B[49m\n",
      "File \u001B[0;32m~/PycharmProjects/pythonProject/venv/lib/python3.9/site-packages/pyro/infer/trace_elbo.py:57\u001B[0m, in \u001B[0;36mTrace_ELBO._get_trace\u001B[0;34m(self, model, guide, args, kwargs)\u001B[0m\n\u001B[1;32m     52\u001B[0m \u001B[38;5;28;01mdef\u001B[39;00m \u001B[38;5;21m_get_trace\u001B[39m(\u001B[38;5;28mself\u001B[39m, model, guide, args, kwargs):\n\u001B[1;32m     53\u001B[0m     \u001B[38;5;124;03m\"\"\"\u001B[39;00m\n\u001B[1;32m     54\u001B[0m \u001B[38;5;124;03m    Returns a single trace from the guide, and the model that is run\u001B[39;00m\n\u001B[1;32m     55\u001B[0m \u001B[38;5;124;03m    against it.\u001B[39;00m\n\u001B[1;32m     56\u001B[0m \u001B[38;5;124;03m    \"\"\"\u001B[39;00m\n\u001B[0;32m---> 57\u001B[0m     model_trace, guide_trace \u001B[38;5;241m=\u001B[39m \u001B[43mget_importance_trace\u001B[49m\u001B[43m(\u001B[49m\n\u001B[1;32m     58\u001B[0m \u001B[43m        \u001B[49m\u001B[38;5;124;43m\"\u001B[39;49m\u001B[38;5;124;43mflat\u001B[39;49m\u001B[38;5;124;43m\"\u001B[39;49m\u001B[43m,\u001B[49m\u001B[43m \u001B[49m\u001B[38;5;28;43mself\u001B[39;49m\u001B[38;5;241;43m.\u001B[39;49m\u001B[43mmax_plate_nesting\u001B[49m\u001B[43m,\u001B[49m\u001B[43m \u001B[49m\u001B[43mmodel\u001B[49m\u001B[43m,\u001B[49m\u001B[43m \u001B[49m\u001B[43mguide\u001B[49m\u001B[43m,\u001B[49m\u001B[43m \u001B[49m\u001B[43margs\u001B[49m\u001B[43m,\u001B[49m\u001B[43m \u001B[49m\u001B[43mkwargs\u001B[49m\n\u001B[1;32m     59\u001B[0m \u001B[43m    \u001B[49m\u001B[43m)\u001B[49m\n\u001B[1;32m     60\u001B[0m     \u001B[38;5;28;01mif\u001B[39;00m is_validation_enabled():\n\u001B[1;32m     61\u001B[0m         check_if_enumerated(guide_trace)\n",
      "File \u001B[0;32m~/PycharmProjects/pythonProject/venv/lib/python3.9/site-packages/pyro/infer/enum.py:65\u001B[0m, in \u001B[0;36mget_importance_trace\u001B[0;34m(graph_type, max_plate_nesting, model, guide, args, kwargs, detach)\u001B[0m\n\u001B[1;32m     63\u001B[0m     \u001B[38;5;28;01mif\u001B[39;00m detach:\n\u001B[1;32m     64\u001B[0m         guide_trace\u001B[38;5;241m.\u001B[39mdetach_()\n\u001B[0;32m---> 65\u001B[0m     model_trace \u001B[38;5;241m=\u001B[39m \u001B[43mpoutine\u001B[49m\u001B[38;5;241;43m.\u001B[39;49m\u001B[43mtrace\u001B[49m\u001B[43m(\u001B[49m\n\u001B[1;32m     66\u001B[0m \u001B[43m        \u001B[49m\u001B[43mpoutine\u001B[49m\u001B[38;5;241;43m.\u001B[39;49m\u001B[43mreplay\u001B[49m\u001B[43m(\u001B[49m\u001B[43mmodel\u001B[49m\u001B[43m,\u001B[49m\u001B[43m \u001B[49m\u001B[43mtrace\u001B[49m\u001B[38;5;241;43m=\u001B[39;49m\u001B[43mguide_trace\u001B[49m\u001B[43m)\u001B[49m\u001B[43m,\u001B[49m\u001B[43m \u001B[49m\u001B[43mgraph_type\u001B[49m\u001B[38;5;241;43m=\u001B[39;49m\u001B[43mgraph_type\u001B[49m\n\u001B[1;32m     67\u001B[0m \u001B[43m    \u001B[49m\u001B[43m)\u001B[49m\u001B[38;5;241;43m.\u001B[39;49m\u001B[43mget_trace\u001B[49m\u001B[43m(\u001B[49m\u001B[38;5;241;43m*\u001B[39;49m\u001B[43margs\u001B[49m\u001B[43m,\u001B[49m\u001B[43m \u001B[49m\u001B[38;5;241;43m*\u001B[39;49m\u001B[38;5;241;43m*\u001B[39;49m\u001B[43mkwargs\u001B[49m\u001B[43m)\u001B[49m\n\u001B[1;32m     69\u001B[0m \u001B[38;5;28;01mif\u001B[39;00m is_validation_enabled():\n\u001B[1;32m     70\u001B[0m     check_model_guide_match(model_trace, guide_trace, max_plate_nesting)\n",
      "File \u001B[0;32m~/PycharmProjects/pythonProject/venv/lib/python3.9/site-packages/pyro/poutine/trace_messenger.py:198\u001B[0m, in \u001B[0;36mTraceHandler.get_trace\u001B[0;34m(self, *args, **kwargs)\u001B[0m\n\u001B[1;32m    190\u001B[0m \u001B[38;5;28;01mdef\u001B[39;00m \u001B[38;5;21mget_trace\u001B[39m(\u001B[38;5;28mself\u001B[39m, \u001B[38;5;241m*\u001B[39margs, \u001B[38;5;241m*\u001B[39m\u001B[38;5;241m*\u001B[39mkwargs):\n\u001B[1;32m    191\u001B[0m     \u001B[38;5;124;03m\"\"\"\u001B[39;00m\n\u001B[1;32m    192\u001B[0m \u001B[38;5;124;03m    :returns: data structure\u001B[39;00m\n\u001B[1;32m    193\u001B[0m \u001B[38;5;124;03m    :rtype: pyro.poutine.Trace\u001B[39;00m\n\u001B[0;32m   (...)\u001B[0m\n\u001B[1;32m    196\u001B[0m \u001B[38;5;124;03m    Calls this poutine and returns its trace instead of the function's return value.\u001B[39;00m\n\u001B[1;32m    197\u001B[0m \u001B[38;5;124;03m    \"\"\"\u001B[39;00m\n\u001B[0;32m--> 198\u001B[0m     \u001B[38;5;28;43mself\u001B[39;49m\u001B[43m(\u001B[49m\u001B[38;5;241;43m*\u001B[39;49m\u001B[43margs\u001B[49m\u001B[43m,\u001B[49m\u001B[43m \u001B[49m\u001B[38;5;241;43m*\u001B[39;49m\u001B[38;5;241;43m*\u001B[39;49m\u001B[43mkwargs\u001B[49m\u001B[43m)\u001B[49m\n\u001B[1;32m    199\u001B[0m     \u001B[38;5;28;01mreturn\u001B[39;00m \u001B[38;5;28mself\u001B[39m\u001B[38;5;241m.\u001B[39mmsngr\u001B[38;5;241m.\u001B[39mget_trace()\n",
      "File \u001B[0;32m~/PycharmProjects/pythonProject/venv/lib/python3.9/site-packages/pyro/poutine/trace_messenger.py:174\u001B[0m, in \u001B[0;36mTraceHandler.__call__\u001B[0;34m(self, *args, **kwargs)\u001B[0m\n\u001B[1;32m    170\u001B[0m \u001B[38;5;28mself\u001B[39m\u001B[38;5;241m.\u001B[39mmsngr\u001B[38;5;241m.\u001B[39mtrace\u001B[38;5;241m.\u001B[39madd_node(\n\u001B[1;32m    171\u001B[0m     \u001B[38;5;124m\"\u001B[39m\u001B[38;5;124m_INPUT\u001B[39m\u001B[38;5;124m\"\u001B[39m, name\u001B[38;5;241m=\u001B[39m\u001B[38;5;124m\"\u001B[39m\u001B[38;5;124m_INPUT\u001B[39m\u001B[38;5;124m\"\u001B[39m, \u001B[38;5;28mtype\u001B[39m\u001B[38;5;241m=\u001B[39m\u001B[38;5;124m\"\u001B[39m\u001B[38;5;124margs\u001B[39m\u001B[38;5;124m\"\u001B[39m, args\u001B[38;5;241m=\u001B[39margs, kwargs\u001B[38;5;241m=\u001B[39mkwargs\n\u001B[1;32m    172\u001B[0m )\n\u001B[1;32m    173\u001B[0m \u001B[38;5;28;01mtry\u001B[39;00m:\n\u001B[0;32m--> 174\u001B[0m     ret \u001B[38;5;241m=\u001B[39m \u001B[38;5;28;43mself\u001B[39;49m\u001B[38;5;241;43m.\u001B[39;49m\u001B[43mfn\u001B[49m\u001B[43m(\u001B[49m\u001B[38;5;241;43m*\u001B[39;49m\u001B[43margs\u001B[49m\u001B[43m,\u001B[49m\u001B[43m \u001B[49m\u001B[38;5;241;43m*\u001B[39;49m\u001B[38;5;241;43m*\u001B[39;49m\u001B[43mkwargs\u001B[49m\u001B[43m)\u001B[49m\n\u001B[1;32m    175\u001B[0m \u001B[38;5;28;01mexcept\u001B[39;00m (\u001B[38;5;167;01mValueError\u001B[39;00m, \u001B[38;5;167;01mRuntimeError\u001B[39;00m) \u001B[38;5;28;01mas\u001B[39;00m e:\n\u001B[1;32m    176\u001B[0m     exc_type, exc_value, traceback \u001B[38;5;241m=\u001B[39m sys\u001B[38;5;241m.\u001B[39mexc_info()\n",
      "File \u001B[0;32m~/PycharmProjects/pythonProject/venv/lib/python3.9/site-packages/pyro/poutine/messenger.py:12\u001B[0m, in \u001B[0;36m_context_wrap\u001B[0;34m(context, fn, *args, **kwargs)\u001B[0m\n\u001B[1;32m     10\u001B[0m \u001B[38;5;28;01mdef\u001B[39;00m \u001B[38;5;21m_context_wrap\u001B[39m(context, fn, \u001B[38;5;241m*\u001B[39margs, \u001B[38;5;241m*\u001B[39m\u001B[38;5;241m*\u001B[39mkwargs):\n\u001B[1;32m     11\u001B[0m     \u001B[38;5;28;01mwith\u001B[39;00m context:\n\u001B[0;32m---> 12\u001B[0m         \u001B[38;5;28;01mreturn\u001B[39;00m \u001B[43mfn\u001B[49m\u001B[43m(\u001B[49m\u001B[38;5;241;43m*\u001B[39;49m\u001B[43margs\u001B[49m\u001B[43m,\u001B[49m\u001B[43m \u001B[49m\u001B[38;5;241;43m*\u001B[39;49m\u001B[38;5;241;43m*\u001B[39;49m\u001B[43mkwargs\u001B[49m\u001B[43m)\u001B[49m\n",
      "\u001B[0;31mTypeError\u001B[0m: model() takes 3 positional arguments but 5 were given"
     ]
    }
   ],
   "source": [
    "import torch\n",
    "import pyro\n",
    "import pyro.distributions as dist\n",
    "from pyro.infer import Trace_ELBO, SVI\n",
    "\n",
    "\n",
    "def transition_model(state):\n",
    "    p_stay = 0.7 if state else 0.9\n",
    "    p_switch = 1 - p_stay\n",
    "    return pyro.sample('state_transition', dist.Categorical(torch.tensor([p_stay, p_switch])))\n",
    "\n",
    "\n",
    "def emission_model(state):\n",
    "    p_emission = 0.9 if state else 0.1\n",
    "    return pyro.sample('emission', dist.Bernoulli(torch.tensor(p_emission)))\n",
    "\n",
    "\n",
    "def initial_model():\n",
    "    return pyro.sample('initial_state', dist.Categorical(torch.tensor([0.5, 0.5])))\n",
    "\n",
    "\n",
    "def model(stimuli, shock, initial_state):\n",
    "    states = [pyro.sample('init_state', dist.Categorical(initial_state))]\n",
    "    emissions = [emission_model(states[0]).item()]\n",
    "    for i in range(1, len(stimuli)):\n",
    "        states.append(transition_model(states[i-1]).item())\n",
    "        emissions.append(emission_model(states[i]).item())\n",
    "    return states, emissions\n",
    "\n",
    "\n",
    "def guide(stimuli, shock, initial_state, states, emissions):\n",
    "    for i in range(len(stimuli)):\n",
    "        states[i] = pyro.sample('state_{}'.format(i), dist.Bernoulli(torch.tensor(0.5)))\n",
    "        emissions[i] = pyro.sample('emission_{}'.format(i), dist.Bernoulli(torch.tensor(0.5)))\n",
    "\n",
    "\n",
    "stimuli = torch.tensor([0, 0, 0, 1, 1, 0, 1, 1, 0])\n",
    "shock = torch.tensor([0, 0, 0, 1, 1, 0, 0, 1, 0])\n",
    "initial_state = torch.tensor([0.5, 0.5])\n",
    "\n",
    "optimizer = pyro.optim.Adam({'lr': 0.1})\n",
    "svi = SVI(model, guide, optimizer, loss=Trace_ELBO())\n",
    "\n",
    "for i in range(1000):\n",
    "    states, emissions = model(stimuli, shock, initial_state)\n",
    "    loss = svi.step(stimuli, shock, initial_state, states, emissions)\n",
    "    if i % 100 == 0:\n",
    "        print(\"step {}: loss = {}\".format(i, loss))\n"
   ],
   "metadata": {
    "collapsed": false
   }
  },
  {
   "cell_type": "code",
   "execution_count": null,
   "outputs": [],
   "source": [],
   "metadata": {
    "collapsed": false
   }
  }
 ],
 "metadata": {
  "kernelspec": {
   "display_name": "Python 3",
   "language": "python",
   "name": "python3"
  },
  "language_info": {
   "codemirror_mode": {
    "name": "ipython",
    "version": 2
   },
   "file_extension": ".py",
   "mimetype": "text/x-python",
   "name": "python",
   "nbconvert_exporter": "python",
   "pygments_lexer": "ipython2",
   "version": "2.7.6"
  }
 },
 "nbformat": 4,
 "nbformat_minor": 0
}
