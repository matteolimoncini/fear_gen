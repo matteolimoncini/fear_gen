{
 "cells": [
  {
   "cell_type": "code",
   "execution_count": 2,
   "metadata": {
    "collapsed": true
   },
   "outputs": [
    {
     "data": {
      "text/plain": "'1.8.4'"
     },
     "execution_count": 1,
     "metadata": {},
     "output_type": "execute_result"
    },
    {
     "data": {
      "text/plain": "'1.8.4'"
     },
     "execution_count": 2,
     "metadata": {},
     "output_type": "execute_result"
    }
   ],
   "source": [
    "import torch\n",
    "import numpy as np\n",
    "import pandas as pd\n",
    "import seaborn as sns\n",
    "import matplotlib.pyplot as plt\n",
    "import logging\n",
    "import os\n",
    "\n",
    "\n",
    "import pyro\n",
    "from pyro.optim import Adam\n",
    "from pyro.infer import SVI, Trace_ELBO, MCMC, NUTS\n",
    "import pyro.distributions as dist\n",
    "import pyro.distributions.constraints as constraints\n",
    "from sklearn import preprocessing\n",
    "from sklearn.metrics import r2_score\n",
    "import warnings\n",
    "from sklearn.metrics import cohen_kappa_score\n",
    "warnings.simplefilter(action=\"ignore\",category=FutureWarning)\n",
    "\n",
    "pyro.__version__"
   ]
  },
  {
   "cell_type": "markdown",
   "metadata": {},
   "source": [
    "# Rational agent\n",
    "\n",
    "The idea is to train n models where each model is trained using n trials."
   ]
  },
  {
   "cell_type": "markdown",
   "metadata": {},
   "source": [
    "extract valid subjects"
   ]
  },
  {
   "cell_type": "code",
   "execution_count": 3,
   "metadata": {},
   "outputs": [],
   "source": [
    "import extract_correct_csv\n",
    "valid_sub = extract_correct_csv.extract_only_valid_subject()"
   ]
  },
  {
   "cell_type": "markdown",
   "metadata": {},
   "source": [
    "read real data of subject #2 (data equals to all subjects)"
   ]
  },
  {
   "cell_type": "code",
   "execution_count": 4,
   "metadata": {},
   "outputs": [
    {
     "name": "stderr",
     "output_type": "stream",
     "text": [
      "/var/folders/hn/nq1_cby521sbf58lnj9qj9mw0000gn/T/ipykernel_1311/522845498.py:4: SettingWithCopyWarning: \n",
      "A value is trying to be set on a copy of a slice from a DataFrame.\n",
      "Try using .loc[row_indexer,col_indexer] = value instead\n",
      "\n",
      "See the caveats in the documentation: https://pandas.pydata.org/pandas-docs/stable/user_guide/indexing.html#returning-a-view-versus-a-copy\n",
      "  df_rational['shock'] = df_rational['shock'].astype(int) #setting shock as int instead of boolean\n",
      "/var/folders/hn/nq1_cby521sbf58lnj9qj9mw0000gn/T/ipykernel_1311/522845498.py:5: SettingWithCopyWarning: \n",
      "A value is trying to be set on a copy of a slice from a DataFrame.\n",
      "Try using .loc[row_indexer,col_indexer] = value instead\n",
      "\n",
      "See the caveats in the documentation: https://pandas.pydata.org/pandas-docs/stable/user_guide/indexing.html#returning-a-view-versus-a-copy\n",
      "  df_rational['morphing level'] = [int(d==6) for d in df_rational['morphing level']] # if morphing level==6 -> 1\n"
     ]
    }
   ],
   "source": [
    "# read dataset\n",
    "df = pd.read_csv('data/newLookAtMe/newLookAtMe02.csv')\n",
    "df_rational = df[['morphing level', 'shock']]\n",
    "df_rational['shock'] = df_rational['shock'].astype(int) #setting shock as int instead of boolean\n",
    "df_rational['morphing level'] = [int(d==6) for d in df_rational['morphing level']] # if morphing level==6 -> 1"
   ]
  },
  {
   "cell_type": "code",
   "execution_count": 5,
   "metadata": {},
   "outputs": [],
   "source": [
    "data_np = df_rational.to_numpy()\n",
    "\n",
    "HABITUATION_TRIALS = 16\n",
    "ACQUISITION_TRIALS = 48\n",
    "data_all = data_np[16:]\n",
    "learning_data = data_np[HABITUATION_TRIALS:ACQUISITION_TRIALS] # remove only habituation"
   ]
  },
  {
   "cell_type": "code",
   "execution_count": 6,
   "metadata": {},
   "outputs": [],
   "source": [
    "data = torch.tensor(data_all)\n",
    "N = data.shape[0]"
   ]
  },
  {
   "cell_type": "code",
   "execution_count": 7,
   "metadata": {},
   "outputs": [],
   "source": [
    "array_csplus_simulated = np.load('output/pyro/complete_rational/csplus.npy',allow_pickle=True)\n",
    "array_csminus_simulated = np.load('output/pyro/complete_rational/csminus.npy',allow_pickle=True)\n",
    "total_array_simulated = np.load('output/pyro/complete_rational/total.npy',allow_pickle=True)"
   ]
  },
  {
   "cell_type": "markdown",
   "metadata": {},
   "source": [
    "## shock expectancy simulated"
   ]
  },
  {
   "cell_type": "code",
   "execution_count": 8,
   "metadata": {},
   "outputs": [
    {
     "name": "stderr",
     "output_type": "stream",
     "text": [
      "/var/folders/hn/nq1_cby521sbf58lnj9qj9mw0000gn/T/ipykernel_1311/4112460405.py:2: SettingWithCopyWarning: \n",
      "A value is trying to be set on a copy of a slice from a DataFrame.\n",
      "Try using .loc[row_indexer,col_indexer] = value instead\n",
      "\n",
      "See the caveats in the documentation: https://pandas.pydata.org/pandas-docs/stable/user_guide/indexing.html#returning-a-view-versus-a-copy\n",
      "  df_['shock'] = df_['shock'].astype(int)\n",
      "/var/folders/hn/nq1_cby521sbf58lnj9qj9mw0000gn/T/ipykernel_1311/4112460405.py:3: SettingWithCopyWarning: \n",
      "A value is trying to be set on a copy of a slice from a DataFrame.\n",
      "Try using .loc[row_indexer,col_indexer] = value instead\n",
      "\n",
      "See the caveats in the documentation: https://pandas.pydata.org/pandas-docs/stable/user_guide/indexing.html#returning-a-view-versus-a-copy\n",
      "  df_['morphing level'] = [int(d == 6) for d in df_['morphing level']]\n",
      "/var/folders/hn/nq1_cby521sbf58lnj9qj9mw0000gn/T/ipykernel_1311/4112460405.py:4: SettingWithCopyWarning: \n",
      "A value is trying to be set on a copy of a slice from a DataFrame.\n",
      "Try using .loc[row_indexer,col_indexer] = value instead\n",
      "\n",
      "See the caveats in the documentation: https://pandas.pydata.org/pandas-docs/stable/user_guide/indexing.html#returning-a-view-versus-a-copy\n",
      "  df_['rating'] = df_['rating'].replace([1, 2, 3, 4, 5], [0.2, 0.4, 0.6, 0.8, 1])\n"
     ]
    }
   ],
   "source": [
    "df_ = df[['shock', 'rating', 'morphing level']]\n",
    "df_['shock'] = df_['shock'].astype(int)\n",
    "df_['morphing level'] = [int(d == 6) for d in df_['morphing level']]\n",
    "df_['rating'] = df_['rating'].replace([1, 2, 3, 4, 5], [0.2, 0.4, 0.6, 0.8, 1])"
   ]
  },
  {
   "cell_type": "code",
   "execution_count": 9,
   "metadata": {},
   "outputs": [
    {
     "data": {
      "text/plain": "     shock  rating  morphing level\n0        0     0.6               0\n1        0     0.6               1\n2        0     0.6               1\n3        0     0.6               0\n4        0     0.6               0\n..     ...     ...             ...\n155      0     0.2               0\n156      0     0.2               0\n157      0     0.2               0\n158      0     0.2               0\n159      0     0.8               1\n\n[160 rows x 3 columns]",
      "text/html": "<div>\n<style scoped>\n    .dataframe tbody tr th:only-of-type {\n        vertical-align: middle;\n    }\n\n    .dataframe tbody tr th {\n        vertical-align: top;\n    }\n\n    .dataframe thead th {\n        text-align: right;\n    }\n</style>\n<table border=\"1\" class=\"dataframe\">\n  <thead>\n    <tr style=\"text-align: right;\">\n      <th></th>\n      <th>shock</th>\n      <th>rating</th>\n      <th>morphing level</th>\n    </tr>\n  </thead>\n  <tbody>\n    <tr>\n      <th>0</th>\n      <td>0</td>\n      <td>0.6</td>\n      <td>0</td>\n    </tr>\n    <tr>\n      <th>1</th>\n      <td>0</td>\n      <td>0.6</td>\n      <td>1</td>\n    </tr>\n    <tr>\n      <th>2</th>\n      <td>0</td>\n      <td>0.6</td>\n      <td>1</td>\n    </tr>\n    <tr>\n      <th>3</th>\n      <td>0</td>\n      <td>0.6</td>\n      <td>0</td>\n    </tr>\n    <tr>\n      <th>4</th>\n      <td>0</td>\n      <td>0.6</td>\n      <td>0</td>\n    </tr>\n    <tr>\n      <th>...</th>\n      <td>...</td>\n      <td>...</td>\n      <td>...</td>\n    </tr>\n    <tr>\n      <th>155</th>\n      <td>0</td>\n      <td>0.2</td>\n      <td>0</td>\n    </tr>\n    <tr>\n      <th>156</th>\n      <td>0</td>\n      <td>0.2</td>\n      <td>0</td>\n    </tr>\n    <tr>\n      <th>157</th>\n      <td>0</td>\n      <td>0.2</td>\n      <td>0</td>\n    </tr>\n    <tr>\n      <th>158</th>\n      <td>0</td>\n      <td>0.2</td>\n      <td>0</td>\n    </tr>\n    <tr>\n      <th>159</th>\n      <td>0</td>\n      <td>0.8</td>\n      <td>1</td>\n    </tr>\n  </tbody>\n</table>\n<p>160 rows × 3 columns</p>\n</div>"
     },
     "execution_count": 9,
     "metadata": {},
     "output_type": "execute_result"
    }
   ],
   "source": [
    "#remove first 16 trials real data\n",
    "df_new=df_\n",
    "#consider only the learning phase\n",
    "df_learning = df_\n",
    "df_learning"
   ]
  },
  {
   "cell_type": "code",
   "execution_count": 10,
   "metadata": {},
   "outputs": [],
   "source": [
    "y_plus_real = df_new.loc[df_new['morphing level']==1].rating.values\n",
    "x_plus_real = np.array(df_new.loc[df_new['morphing level']==1].index)\n",
    "y_minus_real = df_new.loc[df_new['morphing level']==0].rating.values\n",
    "x_minus_real = np.array(df_new.loc[df_new['morphing level']==0].index)\n",
    "y_real=df_new.rating.values\n",
    "\n",
    "y_plus_train = df_learning.loc[df_learning['morphing level']==1].rating.values\n",
    "x_plus_train = np.array(df_learning.loc[df_learning['morphing level']==1].index)\n",
    "y_minus_train = df_learning.loc[df_learning['morphing level']==0].rating.values\n",
    "x_minus_train = np.array(df_learning.loc[df_learning['morphing level']==0].index)\n",
    "y_train=df_learning.rating.values"
   ]
  },
  {
   "cell_type": "code",
   "execution_count": 11,
   "metadata": {},
   "outputs": [
    {
     "data": {
      "text/plain": "<Figure size 1300x600 with 1 Axes>",
      "image/png": "[encoded data removed]"
     },
     "metadata": {},
     "output_type": "display_data"
    }
   ],
   "source": [
    "fig = plt.figure(figsize=(13,6))\n",
    "plt.title('Analysis of the shock prediction comparing subject #2 and rational agent')\n",
    "plt.scatter(x_plus_real, y_plus_real, color='blue', label='cs+ real')\n",
    "plt.scatter(array_csplus_simulated[:,0], array_csplus_simulated[:,1], color='darkblue', label='cs+ simulated')\n",
    "plt.scatter(x_minus_real, y_minus_real, color='red', label='cs- real')\n",
    "plt.scatter(array_csminus_simulated[:,0], array_csminus_simulated[:,1], color='darkred', label='cs- simulated')\n",
    "plt.legend(loc='right')\n",
    "plt.axvline(x=16, linestyle='--', color='green')\n",
    "plt.axvline(x=48, linestyle='--', color='green')\n",
    "plt.xlabel('Trial')\n",
    "plt.ylabel('P(condition | visual stimulus)')\n",
    "plt.show()"
   ]
  },
  {
   "cell_type": "markdown",
   "source": [
    "# correlation"
   ],
   "metadata": {
    "collapsed": false
   }
  },
  {
   "cell_type": "markdown",
   "metadata": {},
   "source": [
    "## analysis of the correlation between rational agent and real subject with pearson"
   ]
  },
  {
   "cell_type": "code",
   "execution_count": 12,
   "metadata": {},
   "outputs": [],
   "source": [
    "# rating between 16-160 trial rational agent\n",
    "rating_rational = total_array_simulated"
   ]
  },
  {
   "cell_type": "code",
   "execution_count": 13,
   "metadata": {},
   "outputs": [],
   "source": [
    "df_correlation = pd.DataFrame(columns=['subject','pearson','r2score','person_disc','cohen_disc'])\n",
    "\n",
    "for sub in valid_sub:\n",
    "    subj_ = extract_correct_csv.read_correct_subject_csv(sub)\n",
    "    df_sub = pd.read_csv('data/newLookAtMe/newLookAtMe'+subj_+'.csv')\n",
    "    df_sub = df_sub[['shock', 'rating', 'morphing level']]\n",
    "    df_sub['shock'] = df_sub['shock'].astype(int)\n",
    "    df_sub['morphing level'] = [int(d == 6) for d in df_sub['morphing level']]\n",
    "    df_sub['rating'] = df_sub['rating'].replace([1, 2, 3, 4, 5], [0.2, 0.4, 0.6, 0.8, 1])\n",
    "    df_sub_learn = df_sub[16:]\n",
    "    rating_sub = np.array(df_sub_learn['rating'])\n",
    "\n",
    "    # remove nan\n",
    "    bad = ~np.logical_or(np.isnan(rating_sub), np.isnan(rating_rational))\n",
    "    rating_sub_ = np.compress(bad, rating_sub)\n",
    "    rating_rational_ = np.compress(bad, rating_rational)\n",
    "\n",
    "    #discretization of rating rational\n",
    "    round_vector = np.array([0.2, 0.4, 0.6, 0.8, 1])\n",
    "    rating_rational_discr = np.round(rating_rational_ / 0.2) * 0.2\n",
    "    rating_rational_discr = np.clip(rating_rational_discr, round_vector.min(), round_vector.max())\n",
    "\n",
    "    #pearson corr coeff\n",
    "    pearson = round(np.corrcoef(rating_sub_,rating_rational_)[0][1],2)\n",
    "\n",
    "    #r2 score\n",
    "    r2 = round(r2_score(rating_sub_,rating_rational_),2)\n",
    "\n",
    "    #pearson discr\n",
    "    pearson_disc = round(np.corrcoef(rating_sub_,rating_rational_discr)[0][1],2)\n",
    "\n",
    "    #cohen kappa discr\n",
    "    cohen_disc = round(cohen_kappa_score(rating_sub_*10,rating_rational_discr*10),2)\n",
    "\n",
    "    # write line\n",
    "    df_tmp = pd.DataFrame({'subject':sub,'pearson':pearson,'r2score':r2,'person_disc':pearson_disc,'cohen_disc':cohen_disc},index=np.arange(1))\n",
    "    df_correlation = pd.concat([df_correlation,df_tmp])\n",
    "\n",
    "\n",
    "sias_df = pd.read_csv('data/sias_score.csv').drop(columns='social_anxiety')\n",
    "sias_df['subject'] = [float(x) for x in sias_df['subject']]\n",
    "\n",
    "lds_df = pd.read_csv('data/lds_subjects.csv')\n",
    "lds_df['subject'] = [float(x) for x in lds_df['subject']]\n",
    "\n",
    "df_correlation['subject'] = [float(x) for x in df_correlation['subject']]\n",
    "\n",
    "df_corr_ = pd.concat([sias_df.set_index('subject'), lds_df.set_index('subject'), df_correlation.set_index('subject')], axis=1).reset_index()\n",
    "\n",
    "# drop nan\n",
    "lds_df['subject'] = [float(x) for x in lds_df['subject']]"
   ]
  },
  {
   "cell_type": "code",
   "execution_count": 17,
   "outputs": [
    {
     "data": {
      "text/plain": "    subject  sias_score    lds  pearson  r2score  person_disc  cohen_disc\n0       1.0        21.0  0.201     0.31    -4.44         0.31        0.04\n1       2.0        11.0  0.828     0.71    -0.39         0.70        0.25\n2       3.0        30.0  0.504      NaN      NaN          NaN         NaN\n3       4.0        12.0  0.111     0.41    -1.49         0.40        0.05\n4       5.0        30.0  0.953     0.70    -0.26         0.68        0.25\n5       6.0         8.0  1.312     0.72     0.18         0.72        0.28\n6       7.0        25.0  0.535     0.69    -0.73         0.70        0.22\n7       8.0         6.0  0.583      NaN      NaN          NaN         NaN\n8       9.0         NaN    NaN      NaN      NaN          NaN         NaN\n9      10.0        10.0  0.682      NaN      NaN          NaN         NaN\n10     11.0        11.0 -0.323      NaN      NaN          NaN         NaN\n11     12.0        19.0  0.231      NaN      NaN          NaN         NaN\n12     13.0        16.0  0.141     0.39    -3.38         0.38        0.04\n13     14.0        19.0  1.002      NaN      NaN          NaN         NaN\n14     15.0        16.0  0.693     0.63    -0.12         0.64        0.29\n15     16.0        55.0  0.621     0.36    -1.30         0.34        0.07\n16     17.0        16.0 -0.382     0.25    -2.57         0.26        0.09\n17     18.0        14.0  1.068      NaN      NaN          NaN         NaN\n18     19.0        12.0  1.466      NaN      NaN          NaN         NaN\n19     20.0         NaN  1.080      NaN      NaN          NaN         NaN\n20     21.0        20.0  0.539     0.41    -2.61         0.38        0.06\n21     22.0        18.0  0.987     0.70    -0.33         0.69        0.24\n22     23.0        37.0  0.279     0.40    -1.56         0.40        0.17\n23     24.0        17.0  1.044      NaN      NaN          NaN         NaN\n24     25.0        19.0  0.590      NaN      NaN          NaN         NaN\n25     26.0         3.0  0.834     0.66    -0.07         0.66        0.23\n26     27.0        31.0  1.328     0.91     0.50         0.88        0.45\n27     28.0        19.0  1.295     0.71     0.04         0.71        0.29\n28     29.0         1.0  1.129      NaN      NaN          NaN         NaN\n29     30.0        19.0  1.477      NaN      NaN          NaN         NaN\n30     31.0        16.0  1.469     0.80     0.33         0.77        0.35\n31     32.0        20.0 -0.189     0.16    -1.68         0.18        0.01\n32     33.0        22.0  0.969     0.68    -0.13         0.68        0.30\n33     41.0        15.0  0.576     0.52    -0.32         0.53        0.22\n34     42.0        20.0  0.646      NaN      NaN          NaN         NaN\n35     43.0        25.0  1.043     0.79    -0.03         0.78        0.25\n36     44.0        18.0  0.307     0.46    -2.13         0.46        0.11\n37     45.0        19.0  1.011     0.80     0.17         0.79        0.51\n38     46.0        31.0  0.006     0.02    -2.83         0.01        0.01\n39     47.0        20.0  1.066     0.78    -0.42         0.75        0.23\n40     48.0        24.0  0.365     0.53    -0.98         0.53        0.13\n41     49.0        26.0  0.749      NaN      NaN          NaN         NaN\n42     50.0        23.0  0.443     0.21    -2.47         0.19        0.09\n43     51.0         6.0  0.641     0.68    -0.22         0.67        0.35\n44     52.0        21.0  0.497     0.60    -0.54         0.58        0.23\n45     53.0        12.0  1.130      NaN      NaN          NaN         NaN\n46     54.0        17.0  1.594     0.88     0.10         0.85        0.18\n47     55.0        31.0  0.813      NaN      NaN          NaN         NaN",
      "text/html": "<div>\n<style scoped>\n    .dataframe tbody tr th:only-of-type {\n        vertical-align: middle;\n    }\n\n    .dataframe tbody tr th {\n        vertical-align: top;\n    }\n\n    .dataframe thead th {\n        text-align: right;\n    }\n</style>\n<table border=\"1\" class=\"dataframe\">\n  <thead>\n    <tr style=\"text-align: right;\">\n      <th></th>\n      <th>subject</th>\n      <th>sias_score</th>\n      <th>lds</th>\n      <th>pearson</th>\n      <th>r2score</th>\n      <th>person_disc</th>\n      <th>cohen_disc</th>\n    </tr>\n  </thead>\n  <tbody>\n    <tr>\n      <th>0</th>\n      <td>1.0</td>\n      <td>21.0</td>\n      <td>0.201</td>\n      <td>0.31</td>\n      <td>-4.44</td>\n      <td>0.31</td>\n      <td>0.04</td>\n    </tr>\n    <tr>\n      <th>1</th>\n      <td>2.0</td>\n      <td>11.0</td>\n      <td>0.828</td>\n      <td>0.71</td>\n      <td>-0.39</td>\n      <td>0.70</td>\n      <td>0.25</td>\n    </tr>\n    <tr>\n      <th>2</th>\n      <td>3.0</td>\n      <td>30.0</td>\n      <td>0.504</td>\n      <td>NaN</td>\n      <td>NaN</td>\n      <td>NaN</td>\n      <td>NaN</td>\n    </tr>\n    <tr>\n      <th>3</th>\n      <td>4.0</td>\n      <td>12.0</td>\n      <td>0.111</td>\n      <td>0.41</td>\n      <td>-1.49</td>\n      <td>0.40</td>\n      <td>0.05</td>\n    </tr>\n    <tr>\n      <th>4</th>\n      <td>5.0</td>\n      <td>30.0</td>\n      <td>0.953</td>\n      <td>0.70</td>\n      <td>-0.26</td>\n      <td>0.68</td>\n      <td>0.25</td>\n    </tr>\n    <tr>\n      <th>5</th>\n      <td>6.0</td>\n      <td>8.0</td>\n      <td>1.312</td>\n      <td>0.72</td>\n      <td>0.18</td>\n      <td>0.72</td>\n      <td>0.28</td>\n    </tr>\n    <tr>\n      <th>6</th>\n      <td>7.0</td>\n      <td>25.0</td>\n      <td>0.535</td>\n      <td>0.69</td>\n      <td>-0.73</td>\n      <td>0.70</td>\n      <td>0.22</td>\n    </tr>\n    <tr>\n      <th>7</th>\n      <td>8.0</td>\n      <td>6.0</td>\n      <td>0.583</td>\n      <td>NaN</td>\n      <td>NaN</td>\n      <td>NaN</td>\n      <td>NaN</td>\n    </tr>\n    <tr>\n      <th>8</th>\n      <td>9.0</td>\n      <td>NaN</td>\n      <td>NaN</td>\n      <td>NaN</td>\n      <td>NaN</td>\n      <td>NaN</td>\n      <td>NaN</td>\n    </tr>\n    <tr>\n      <th>9</th>\n      <td>10.0</td>\n      <td>10.0</td>\n      <td>0.682</td>\n      <td>NaN</td>\n      <td>NaN</td>\n      <td>NaN</td>\n      <td>NaN</td>\n    </tr>\n    <tr>\n      <th>10</th>\n      <td>11.0</td>\n      <td>11.0</td>\n      <td>-0.323</td>\n      <td>NaN</td>\n      <td>NaN</td>\n      <td>NaN</td>\n      <td>NaN</td>\n    </tr>\n    <tr>\n      <th>11</th>\n      <td>12.0</td>\n      <td>19.0</td>\n      <td>0.231</td>\n      <td>NaN</td>\n      <td>NaN</td>\n      <td>NaN</td>\n      <td>NaN</td>\n    </tr>\n    <tr>\n      <th>12</th>\n      <td>13.0</td>\n      <td>16.0</td>\n      <td>0.141</td>\n      <td>0.39</td>\n      <td>-3.38</td>\n      <td>0.38</td>\n      <td>0.04</td>\n    </tr>\n    <tr>\n      <th>13</th>\n      <td>14.0</td>\n      <td>19.0</td>\n      <td>1.002</td>\n      <td>NaN</td>\n      <td>NaN</td>\n      <td>NaN</td>\n      <td>NaN</td>\n    </tr>\n    <tr>\n      <th>14</th>\n      <td>15.0</td>\n      <td>16.0</td>\n      <td>0.693</td>\n      <td>0.63</td>\n      <td>-0.12</td>\n      <td>0.64</td>\n      <td>0.29</td>\n    </tr>\n    <tr>\n      <th>15</th>\n      <td>16.0</td>\n      <td>55.0</td>\n      <td>0.621</td>\n      <td>0.36</td>\n      <td>-1.30</td>\n      <td>0.34</td>\n      <td>0.07</td>\n    </tr>\n    <tr>\n      <th>16</th>\n      <td>17.0</td>\n      <td>16.0</td>\n      <td>-0.382</td>\n      <td>0.25</td>\n      <td>-2.57</td>\n      <td>0.26</td>\n      <td>0.09</td>\n    </tr>\n    <tr>\n      <th>17</th>\n      <td>18.0</td>\n      <td>14.0</td>\n      <td>1.068</td>\n      <td>NaN</td>\n      <td>NaN</td>\n      <td>NaN</td>\n      <td>NaN</td>\n    </tr>\n    <tr>\n      <th>18</th>\n      <td>19.0</td>\n      <td>12.0</td>\n      <td>1.466</td>\n      <td>NaN</td>\n      <td>NaN</td>\n      <td>NaN</td>\n      <td>NaN</td>\n    </tr>\n    <tr>\n      <th>19</th>\n      <td>20.0</td>\n      <td>NaN</td>\n      <td>1.080</td>\n      <td>NaN</td>\n      <td>NaN</td>\n      <td>NaN</td>\n      <td>NaN</td>\n    </tr>\n    <tr>\n      <th>20</th>\n      <td>21.0</td>\n      <td>20.0</td>\n      <td>0.539</td>\n      <td>0.41</td>\n      <td>-2.61</td>\n      <td>0.38</td>\n      <td>0.06</td>\n    </tr>\n    <tr>\n      <th>21</th>\n      <td>22.0</td>\n      <td>18.0</td>\n      <td>0.987</td>\n      <td>0.70</td>\n      <td>-0.33</td>\n      <td>0.69</td>\n      <td>0.24</td>\n    </tr>\n    <tr>\n      <th>22</th>\n      <td>23.0</td>\n      <td>37.0</td>\n      <td>0.279</td>\n      <td>0.40</td>\n      <td>-1.56</td>\n      <td>0.40</td>\n      <td>0.17</td>\n    </tr>\n    <tr>\n      <th>23</th>\n      <td>24.0</td>\n      <td>17.0</td>\n      <td>1.044</td>\n      <td>NaN</td>\n      <td>NaN</td>\n      <td>NaN</td>\n      <td>NaN</td>\n    </tr>\n    <tr>\n      <th>24</th>\n      <td>25.0</td>\n      <td>19.0</td>\n      <td>0.590</td>\n      <td>NaN</td>\n      <td>NaN</td>\n      <td>NaN</td>\n      <td>NaN</td>\n    </tr>\n    <tr>\n      <th>25</th>\n      <td>26.0</td>\n      <td>3.0</td>\n      <td>0.834</td>\n      <td>0.66</td>\n      <td>-0.07</td>\n      <td>0.66</td>\n      <td>0.23</td>\n    </tr>\n    <tr>\n      <th>26</th>\n      <td>27.0</td>\n      <td>31.0</td>\n      <td>1.328</td>\n      <td>0.91</td>\n      <td>0.50</td>\n      <td>0.88</td>\n      <td>0.45</td>\n    </tr>\n    <tr>\n      <th>27</th>\n      <td>28.0</td>\n      <td>19.0</td>\n      <td>1.295</td>\n      <td>0.71</td>\n      <td>0.04</td>\n      <td>0.71</td>\n      <td>0.29</td>\n    </tr>\n    <tr>\n      <th>28</th>\n      <td>29.0</td>\n      <td>1.0</td>\n      <td>1.129</td>\n      <td>NaN</td>\n      <td>NaN</td>\n      <td>NaN</td>\n      <td>NaN</td>\n    </tr>\n    <tr>\n      <th>29</th>\n      <td>30.0</td>\n      <td>19.0</td>\n      <td>1.477</td>\n      <td>NaN</td>\n      <td>NaN</td>\n      <td>NaN</td>\n      <td>NaN</td>\n    </tr>\n    <tr>\n      <th>30</th>\n      <td>31.0</td>\n      <td>16.0</td>\n      <td>1.469</td>\n      <td>0.80</td>\n      <td>0.33</td>\n      <td>0.77</td>\n      <td>0.35</td>\n    </tr>\n    <tr>\n      <th>31</th>\n      <td>32.0</td>\n      <td>20.0</td>\n      <td>-0.189</td>\n      <td>0.16</td>\n      <td>-1.68</td>\n      <td>0.18</td>\n      <td>0.01</td>\n    </tr>\n    <tr>\n      <th>32</th>\n      <td>33.0</td>\n      <td>22.0</td>\n      <td>0.969</td>\n      <td>0.68</td>\n      <td>-0.13</td>\n      <td>0.68</td>\n      <td>0.30</td>\n    </tr>\n    <tr>\n      <th>33</th>\n      <td>41.0</td>\n      <td>15.0</td>\n      <td>0.576</td>\n      <td>0.52</td>\n      <td>-0.32</td>\n      <td>0.53</td>\n      <td>0.22</td>\n    </tr>\n    <tr>\n      <th>34</th>\n      <td>42.0</td>\n      <td>20.0</td>\n      <td>0.646</td>\n      <td>NaN</td>\n      <td>NaN</td>\n      <td>NaN</td>\n      <td>NaN</td>\n    </tr>\n    <tr>\n      <th>35</th>\n      <td>43.0</td>\n      <td>25.0</td>\n      <td>1.043</td>\n      <td>0.79</td>\n      <td>-0.03</td>\n      <td>0.78</td>\n      <td>0.25</td>\n    </tr>\n    <tr>\n      <th>36</th>\n      <td>44.0</td>\n      <td>18.0</td>\n      <td>0.307</td>\n      <td>0.46</td>\n      <td>-2.13</td>\n      <td>0.46</td>\n      <td>0.11</td>\n    </tr>\n    <tr>\n      <th>37</th>\n      <td>45.0</td>\n      <td>19.0</td>\n      <td>1.011</td>\n      <td>0.80</td>\n      <td>0.17</td>\n      <td>0.79</td>\n      <td>0.51</td>\n    </tr>\n    <tr>\n      <th>38</th>\n      <td>46.0</td>\n      <td>31.0</td>\n      <td>0.006</td>\n      <td>0.02</td>\n      <td>-2.83</td>\n      <td>0.01</td>\n      <td>0.01</td>\n    </tr>\n    <tr>\n      <th>39</th>\n      <td>47.0</td>\n      <td>20.0</td>\n      <td>1.066</td>\n      <td>0.78</td>\n      <td>-0.42</td>\n      <td>0.75</td>\n      <td>0.23</td>\n    </tr>\n    <tr>\n      <th>40</th>\n      <td>48.0</td>\n      <td>24.0</td>\n      <td>0.365</td>\n      <td>0.53</td>\n      <td>-0.98</td>\n      <td>0.53</td>\n      <td>0.13</td>\n    </tr>\n    <tr>\n      <th>41</th>\n      <td>49.0</td>\n      <td>26.0</td>\n      <td>0.749</td>\n      <td>NaN</td>\n      <td>NaN</td>\n      <td>NaN</td>\n      <td>NaN</td>\n    </tr>\n    <tr>\n      <th>42</th>\n      <td>50.0</td>\n      <td>23.0</td>\n      <td>0.443</td>\n      <td>0.21</td>\n      <td>-2.47</td>\n      <td>0.19</td>\n      <td>0.09</td>\n    </tr>\n    <tr>\n      <th>43</th>\n      <td>51.0</td>\n      <td>6.0</td>\n      <td>0.641</td>\n      <td>0.68</td>\n      <td>-0.22</td>\n      <td>0.67</td>\n      <td>0.35</td>\n    </tr>\n    <tr>\n      <th>44</th>\n      <td>52.0</td>\n      <td>21.0</td>\n      <td>0.497</td>\n      <td>0.60</td>\n      <td>-0.54</td>\n      <td>0.58</td>\n      <td>0.23</td>\n    </tr>\n    <tr>\n      <th>45</th>\n      <td>53.0</td>\n      <td>12.0</td>\n      <td>1.130</td>\n      <td>NaN</td>\n      <td>NaN</td>\n      <td>NaN</td>\n      <td>NaN</td>\n    </tr>\n    <tr>\n      <th>46</th>\n      <td>54.0</td>\n      <td>17.0</td>\n      <td>1.594</td>\n      <td>0.88</td>\n      <td>0.10</td>\n      <td>0.85</td>\n      <td>0.18</td>\n    </tr>\n    <tr>\n      <th>47</th>\n      <td>55.0</td>\n      <td>31.0</td>\n      <td>0.813</td>\n      <td>NaN</td>\n      <td>NaN</td>\n      <td>NaN</td>\n      <td>NaN</td>\n    </tr>\n  </tbody>\n</table>\n</div>"
     },
     "execution_count": 17,
     "metadata": {},
     "output_type": "execute_result"
    }
   ],
   "source": [
    "merged_df = pd.concat([sias_df.set_index('subject'), lds_df.set_index('subject'), df_correlation.set_index('subject')], axis=1)\n",
    "merged_df = merged_df.reset_index()\n",
    "merged_df"
   ],
   "metadata": {
    "collapsed": false
   }
  },
  {
   "cell_type": "code",
   "execution_count": 18,
   "metadata": {},
   "outputs": [
    {
     "name": "stderr",
     "output_type": "stream",
     "text": [
      "/var/folders/hn/nq1_cby521sbf58lnj9qj9mw0000gn/T/ipykernel_1311/3410993754.py:2: UserWarning: Boolean Series key will be reindexed to match DataFrame index.\n",
      "  df_corr_notna = df_corr_notna[merged_df['lds'].notna()]\n",
      "/var/folders/hn/nq1_cby521sbf58lnj9qj9mw0000gn/T/ipykernel_1311/3410993754.py:3: UserWarning: Boolean Series key will be reindexed to match DataFrame index.\n",
      "  df_corr_notna = df_corr_notna[merged_df['sias_score'].notna()]\n"
     ]
    },
    {
     "data": {
      "text/plain": "    subject  sias_score    lds  pearson  r2score  person_disc  cohen_disc\n0       1.0        21.0  0.201     0.31    -4.44         0.31        0.04\n1       2.0        11.0  0.828     0.71    -0.39         0.70        0.25\n3       4.0        12.0  0.111     0.41    -1.49         0.40        0.05\n4       5.0        30.0  0.953     0.70    -0.26         0.68        0.25\n5       6.0         8.0  1.312     0.72     0.18         0.72        0.28\n6       7.0        25.0  0.535     0.69    -0.73         0.70        0.22\n12     13.0        16.0  0.141     0.39    -3.38         0.38        0.04\n14     15.0        16.0  0.693     0.63    -0.12         0.64        0.29\n15     16.0        55.0  0.621     0.36    -1.30         0.34        0.07\n16     17.0        16.0 -0.382     0.25    -2.57         0.26        0.09\n20     21.0        20.0  0.539     0.41    -2.61         0.38        0.06\n21     22.0        18.0  0.987     0.70    -0.33         0.69        0.24\n22     23.0        37.0  0.279     0.40    -1.56         0.40        0.17\n25     26.0         3.0  0.834     0.66    -0.07         0.66        0.23\n26     27.0        31.0  1.328     0.91     0.50         0.88        0.45\n27     28.0        19.0  1.295     0.71     0.04         0.71        0.29\n30     31.0        16.0  1.469     0.80     0.33         0.77        0.35\n31     32.0        20.0 -0.189     0.16    -1.68         0.18        0.01\n32     33.0        22.0  0.969     0.68    -0.13         0.68        0.30\n33     41.0        15.0  0.576     0.52    -0.32         0.53        0.22\n35     43.0        25.0  1.043     0.79    -0.03         0.78        0.25\n36     44.0        18.0  0.307     0.46    -2.13         0.46        0.11\n37     45.0        19.0  1.011     0.80     0.17         0.79        0.51\n38     46.0        31.0  0.006     0.02    -2.83         0.01        0.01\n39     47.0        20.0  1.066     0.78    -0.42         0.75        0.23\n40     48.0        24.0  0.365     0.53    -0.98         0.53        0.13\n42     50.0        23.0  0.443     0.21    -2.47         0.19        0.09\n43     51.0         6.0  0.641     0.68    -0.22         0.67        0.35\n44     52.0        21.0  0.497     0.60    -0.54         0.58        0.23\n46     54.0        17.0  1.594     0.88     0.10         0.85        0.18",
      "text/html": "<div>\n<style scoped>\n    .dataframe tbody tr th:only-of-type {\n        vertical-align: middle;\n    }\n\n    .dataframe tbody tr th {\n        vertical-align: top;\n    }\n\n    .dataframe thead th {\n        text-align: right;\n    }\n</style>\n<table border=\"1\" class=\"dataframe\">\n  <thead>\n    <tr style=\"text-align: right;\">\n      <th></th>\n      <th>subject</th>\n      <th>sias_score</th>\n      <th>lds</th>\n      <th>pearson</th>\n      <th>r2score</th>\n      <th>person_disc</th>\n      <th>cohen_disc</th>\n    </tr>\n  </thead>\n  <tbody>\n    <tr>\n      <th>0</th>\n      <td>1.0</td>\n      <td>21.0</td>\n      <td>0.201</td>\n      <td>0.31</td>\n      <td>-4.44</td>\n      <td>0.31</td>\n      <td>0.04</td>\n    </tr>\n    <tr>\n      <th>1</th>\n      <td>2.0</td>\n      <td>11.0</td>\n      <td>0.828</td>\n      <td>0.71</td>\n      <td>-0.39</td>\n      <td>0.70</td>\n      <td>0.25</td>\n    </tr>\n    <tr>\n      <th>3</th>\n      <td>4.0</td>\n      <td>12.0</td>\n      <td>0.111</td>\n      <td>0.41</td>\n      <td>-1.49</td>\n      <td>0.40</td>\n      <td>0.05</td>\n    </tr>\n    <tr>\n      <th>4</th>\n      <td>5.0</td>\n      <td>30.0</td>\n      <td>0.953</td>\n      <td>0.70</td>\n      <td>-0.26</td>\n      <td>0.68</td>\n      <td>0.25</td>\n    </tr>\n    <tr>\n      <th>5</th>\n      <td>6.0</td>\n      <td>8.0</td>\n      <td>1.312</td>\n      <td>0.72</td>\n      <td>0.18</td>\n      <td>0.72</td>\n      <td>0.28</td>\n    </tr>\n    <tr>\n      <th>6</th>\n      <td>7.0</td>\n      <td>25.0</td>\n      <td>0.535</td>\n      <td>0.69</td>\n      <td>-0.73</td>\n      <td>0.70</td>\n      <td>0.22</td>\n    </tr>\n    <tr>\n      <th>12</th>\n      <td>13.0</td>\n      <td>16.0</td>\n      <td>0.141</td>\n      <td>0.39</td>\n      <td>-3.38</td>\n      <td>0.38</td>\n      <td>0.04</td>\n    </tr>\n    <tr>\n      <th>14</th>\n      <td>15.0</td>\n      <td>16.0</td>\n      <td>0.693</td>\n      <td>0.63</td>\n      <td>-0.12</td>\n      <td>0.64</td>\n      <td>0.29</td>\n    </tr>\n    <tr>\n      <th>15</th>\n      <td>16.0</td>\n      <td>55.0</td>\n      <td>0.621</td>\n      <td>0.36</td>\n      <td>-1.30</td>\n      <td>0.34</td>\n      <td>0.07</td>\n    </tr>\n    <tr>\n      <th>16</th>\n      <td>17.0</td>\n      <td>16.0</td>\n      <td>-0.382</td>\n      <td>0.25</td>\n      <td>-2.57</td>\n      <td>0.26</td>\n      <td>0.09</td>\n    </tr>\n    <tr>\n      <th>20</th>\n      <td>21.0</td>\n      <td>20.0</td>\n      <td>0.539</td>\n      <td>0.41</td>\n      <td>-2.61</td>\n      <td>0.38</td>\n      <td>0.06</td>\n    </tr>\n    <tr>\n      <th>21</th>\n      <td>22.0</td>\n      <td>18.0</td>\n      <td>0.987</td>\n      <td>0.70</td>\n      <td>-0.33</td>\n      <td>0.69</td>\n      <td>0.24</td>\n    </tr>\n    <tr>\n      <th>22</th>\n      <td>23.0</td>\n      <td>37.0</td>\n      <td>0.279</td>\n      <td>0.40</td>\n      <td>-1.56</td>\n      <td>0.40</td>\n      <td>0.17</td>\n    </tr>\n    <tr>\n      <th>25</th>\n      <td>26.0</td>\n      <td>3.0</td>\n      <td>0.834</td>\n      <td>0.66</td>\n      <td>-0.07</td>\n      <td>0.66</td>\n      <td>0.23</td>\n    </tr>\n    <tr>\n      <th>26</th>\n      <td>27.0</td>\n      <td>31.0</td>\n      <td>1.328</td>\n      <td>0.91</td>\n      <td>0.50</td>\n      <td>0.88</td>\n      <td>0.45</td>\n    </tr>\n    <tr>\n      <th>27</th>\n      <td>28.0</td>\n      <td>19.0</td>\n      <td>1.295</td>\n      <td>0.71</td>\n      <td>0.04</td>\n      <td>0.71</td>\n      <td>0.29</td>\n    </tr>\n    <tr>\n      <th>30</th>\n      <td>31.0</td>\n      <td>16.0</td>\n      <td>1.469</td>\n      <td>0.80</td>\n      <td>0.33</td>\n      <td>0.77</td>\n      <td>0.35</td>\n    </tr>\n    <tr>\n      <th>31</th>\n      <td>32.0</td>\n      <td>20.0</td>\n      <td>-0.189</td>\n      <td>0.16</td>\n      <td>-1.68</td>\n      <td>0.18</td>\n      <td>0.01</td>\n    </tr>\n    <tr>\n      <th>32</th>\n      <td>33.0</td>\n      <td>22.0</td>\n      <td>0.969</td>\n      <td>0.68</td>\n      <td>-0.13</td>\n      <td>0.68</td>\n      <td>0.30</td>\n    </tr>\n    <tr>\n      <th>33</th>\n      <td>41.0</td>\n      <td>15.0</td>\n      <td>0.576</td>\n      <td>0.52</td>\n      <td>-0.32</td>\n      <td>0.53</td>\n      <td>0.22</td>\n    </tr>\n    <tr>\n      <th>35</th>\n      <td>43.0</td>\n      <td>25.0</td>\n      <td>1.043</td>\n      <td>0.79</td>\n      <td>-0.03</td>\n      <td>0.78</td>\n      <td>0.25</td>\n    </tr>\n    <tr>\n      <th>36</th>\n      <td>44.0</td>\n      <td>18.0</td>\n      <td>0.307</td>\n      <td>0.46</td>\n      <td>-2.13</td>\n      <td>0.46</td>\n      <td>0.11</td>\n    </tr>\n    <tr>\n      <th>37</th>\n      <td>45.0</td>\n      <td>19.0</td>\n      <td>1.011</td>\n      <td>0.80</td>\n      <td>0.17</td>\n      <td>0.79</td>\n      <td>0.51</td>\n    </tr>\n    <tr>\n      <th>38</th>\n      <td>46.0</td>\n      <td>31.0</td>\n      <td>0.006</td>\n      <td>0.02</td>\n      <td>-2.83</td>\n      <td>0.01</td>\n      <td>0.01</td>\n    </tr>\n    <tr>\n      <th>39</th>\n      <td>47.0</td>\n      <td>20.0</td>\n      <td>1.066</td>\n      <td>0.78</td>\n      <td>-0.42</td>\n      <td>0.75</td>\n      <td>0.23</td>\n    </tr>\n    <tr>\n      <th>40</th>\n      <td>48.0</td>\n      <td>24.0</td>\n      <td>0.365</td>\n      <td>0.53</td>\n      <td>-0.98</td>\n      <td>0.53</td>\n      <td>0.13</td>\n    </tr>\n    <tr>\n      <th>42</th>\n      <td>50.0</td>\n      <td>23.0</td>\n      <td>0.443</td>\n      <td>0.21</td>\n      <td>-2.47</td>\n      <td>0.19</td>\n      <td>0.09</td>\n    </tr>\n    <tr>\n      <th>43</th>\n      <td>51.0</td>\n      <td>6.0</td>\n      <td>0.641</td>\n      <td>0.68</td>\n      <td>-0.22</td>\n      <td>0.67</td>\n      <td>0.35</td>\n    </tr>\n    <tr>\n      <th>44</th>\n      <td>52.0</td>\n      <td>21.0</td>\n      <td>0.497</td>\n      <td>0.60</td>\n      <td>-0.54</td>\n      <td>0.58</td>\n      <td>0.23</td>\n    </tr>\n    <tr>\n      <th>46</th>\n      <td>54.0</td>\n      <td>17.0</td>\n      <td>1.594</td>\n      <td>0.88</td>\n      <td>0.10</td>\n      <td>0.85</td>\n      <td>0.18</td>\n    </tr>\n  </tbody>\n</table>\n</div>"
     },
     "execution_count": 18,
     "metadata": {},
     "output_type": "execute_result"
    }
   ],
   "source": [
    "df_corr_notna = merged_df[merged_df['pearson'].notna()]\n",
    "df_corr_notna = df_corr_notna[merged_df['lds'].notna()]\n",
    "df_corr_notna = df_corr_notna[merged_df['sias_score'].notna()]\n",
    "df_corr_notna"
   ]
  },
  {
   "cell_type": "code",
   "execution_count": 20,
   "outputs": [],
   "source": [
    "#extract subject with high value lds and lower lds\n",
    "lds_ = df_corr_notna.sort_values('lds').reset_index(drop=True)\n",
    "lower_lds = lds_[:7]\n",
    "higher_lds = lds_[-7:]"
   ],
   "metadata": {
    "collapsed": false
   }
  },
  {
   "cell_type": "markdown",
   "source": [
    "# Analysis subject with more fear gen vs subjects less fear gen"
   ],
   "metadata": {
    "collapsed": false
   }
  },
  {
   "cell_type": "code",
   "execution_count": 21,
   "outputs": [],
   "source": [
    "sias_ = df_corr_notna.sort_values('sias_score',ascending=True).reset_index().drop(columns='index')\n",
    "lower_sias = sias_[:5]\n",
    "sias_ = df_corr_notna.sort_values('sias_score',ascending=False).reset_index().drop(columns='index')\n",
    "higher_sias= sias_[:5]"
   ],
   "metadata": {
    "collapsed": false
   }
  },
  {
   "cell_type": "markdown",
   "source": [
    "# Analysis subject more fear gen vs less fear gen"
   ],
   "metadata": {
    "collapsed": false
   }
  },
  {
   "cell_type": "code",
   "execution_count": 22,
   "outputs": [
    {
     "name": "stdout",
     "output_type": "stream",
     "text": [
      "Correlation between 7 more/less fear gen subjects with the rational agent\n",
      "\n",
      "Pearson\n",
      "High fear gen:  0.31  Low fear gen: 0.79\n",
      "\n",
      "R2score\n",
      "High fear gen:  -2.57  Low fear gen: 0.1\n"
     ]
    }
   ],
   "source": [
    "l_low_p = lower_lds['pearson'].median()\n",
    "l_hig_p = higher_lds['pearson'].median()\n",
    "l_low_r = lower_lds['r2score'].median()\n",
    "l_hig_r = higher_lds['r2score'].median()\n",
    "\n",
    "print('Correlation between 7 more/less fear gen subjects with the rational agent\\n')\n",
    "print('Pearson\\nHigh fear gen: ',l_low_p, ' Low fear gen:',l_hig_p)\n",
    "print('\\nR2score\\nHigh fear gen: ',l_low_r, ' Low fear gen:',l_hig_r)"
   ],
   "metadata": {
    "collapsed": false
   }
  },
  {
   "cell_type": "markdown",
   "source": [
    "# Analysis subject more anxiety vs less anxiety"
   ],
   "metadata": {
    "collapsed": false
   }
  },
  {
   "cell_type": "code",
   "execution_count": 23,
   "outputs": [
    {
     "data": {
      "text/plain": "   subject  sias_score    lds  pearson  r2score  person_disc  cohen_disc\n0     26.0         3.0  0.834     0.66    -0.07         0.66        0.23\n1     51.0         6.0  0.641     0.68    -0.22         0.67        0.35\n2      6.0         8.0  1.312     0.72     0.18         0.72        0.28\n3      2.0        11.0  0.828     0.71    -0.39         0.70        0.25\n4      4.0        12.0  0.111     0.41    -1.49         0.40        0.05",
      "text/html": "<div>\n<style scoped>\n    .dataframe tbody tr th:only-of-type {\n        vertical-align: middle;\n    }\n\n    .dataframe tbody tr th {\n        vertical-align: top;\n    }\n\n    .dataframe thead th {\n        text-align: right;\n    }\n</style>\n<table border=\"1\" class=\"dataframe\">\n  <thead>\n    <tr style=\"text-align: right;\">\n      <th></th>\n      <th>subject</th>\n      <th>sias_score</th>\n      <th>lds</th>\n      <th>pearson</th>\n      <th>r2score</th>\n      <th>person_disc</th>\n      <th>cohen_disc</th>\n    </tr>\n  </thead>\n  <tbody>\n    <tr>\n      <th>0</th>\n      <td>26.0</td>\n      <td>3.0</td>\n      <td>0.834</td>\n      <td>0.66</td>\n      <td>-0.07</td>\n      <td>0.66</td>\n      <td>0.23</td>\n    </tr>\n    <tr>\n      <th>1</th>\n      <td>51.0</td>\n      <td>6.0</td>\n      <td>0.641</td>\n      <td>0.68</td>\n      <td>-0.22</td>\n      <td>0.67</td>\n      <td>0.35</td>\n    </tr>\n    <tr>\n      <th>2</th>\n      <td>6.0</td>\n      <td>8.0</td>\n      <td>1.312</td>\n      <td>0.72</td>\n      <td>0.18</td>\n      <td>0.72</td>\n      <td>0.28</td>\n    </tr>\n    <tr>\n      <th>3</th>\n      <td>2.0</td>\n      <td>11.0</td>\n      <td>0.828</td>\n      <td>0.71</td>\n      <td>-0.39</td>\n      <td>0.70</td>\n      <td>0.25</td>\n    </tr>\n    <tr>\n      <th>4</th>\n      <td>4.0</td>\n      <td>12.0</td>\n      <td>0.111</td>\n      <td>0.41</td>\n      <td>-1.49</td>\n      <td>0.40</td>\n      <td>0.05</td>\n    </tr>\n  </tbody>\n</table>\n</div>"
     },
     "execution_count": 23,
     "metadata": {},
     "output_type": "execute_result"
    }
   ],
   "source": [
    "lower_sias"
   ],
   "metadata": {
    "collapsed": false
   }
  },
  {
   "cell_type": "code",
   "execution_count": 24,
   "outputs": [
    {
     "name": "stdout",
     "output_type": "stream",
     "text": [
      "Correlation between 5 more/less anxiety subjects with the rational agent\n",
      "\n",
      "Pearson\n",
      "High anxiety:  0.4  Low anxiety: 0.68\n",
      "\n",
      "R2score\n",
      "High anxiety:  -1.3  Low anxiety: -0.22\n"
     ]
    }
   ],
   "source": [
    "s_low_p = lower_sias['pearson'].median()\n",
    "s_hig_p = higher_sias['pearson'].median()\n",
    "\n",
    "s_low_r = lower_sias['r2score'].median()\n",
    "s_hig_r = higher_sias['r2score'].median()\n",
    "\n",
    "print('Correlation between 5 more/less anxiety subjects with the rational agent\\n')\n",
    "print('Pearson\\nHigh anxiety: ',s_hig_p, ' Low anxiety:',s_low_p)\n",
    "print('\\nR2score\\nHigh anxiety: ',s_hig_r, ' Low anxiety:',s_low_r)"
   ],
   "metadata": {
    "collapsed": false
   }
  },
  {
   "cell_type": "markdown",
   "source": [
    "# Analysis subject with more anxiety vs subjects less anxiety"
   ],
   "metadata": {
    "collapsed": false
   }
  },
  {
   "cell_type": "code",
   "execution_count": 25,
   "outputs": [
    {
     "data": {
      "text/plain": "    subject  sias_score    lds  pearson  r2score  person_disc  cohen_disc\n0      16.0        55.0  0.621     0.36    -1.30         0.34        0.07\n1      23.0        37.0  0.279     0.40    -1.56         0.40        0.17\n2      46.0        31.0  0.006     0.02    -2.83         0.01        0.01\n3      27.0        31.0  1.328     0.91     0.50         0.88        0.45\n4       5.0        30.0  0.953     0.70    -0.26         0.68        0.25\n5       7.0        25.0  0.535     0.69    -0.73         0.70        0.22\n6      43.0        25.0  1.043     0.79    -0.03         0.78        0.25\n7      48.0        24.0  0.365     0.53    -0.98         0.53        0.13\n8      50.0        23.0  0.443     0.21    -2.47         0.19        0.09\n9      33.0        22.0  0.969     0.68    -0.13         0.68        0.30\n10      1.0        21.0  0.201     0.31    -4.44         0.31        0.04\n11     52.0        21.0  0.497     0.60    -0.54         0.58        0.23\n12     32.0        20.0 -0.189     0.16    -1.68         0.18        0.01\n13     47.0        20.0  1.066     0.78    -0.42         0.75        0.23\n14     21.0        20.0  0.539     0.41    -2.61         0.38        0.06\n15     45.0        19.0  1.011     0.80     0.17         0.79        0.51\n16     28.0        19.0  1.295     0.71     0.04         0.71        0.29\n17     44.0        18.0  0.307     0.46    -2.13         0.46        0.11\n18     22.0        18.0  0.987     0.70    -0.33         0.69        0.24\n19     54.0        17.0  1.594     0.88     0.10         0.85        0.18\n20     31.0        16.0  1.469     0.80     0.33         0.77        0.35\n21     17.0        16.0 -0.382     0.25    -2.57         0.26        0.09\n22     15.0        16.0  0.693     0.63    -0.12         0.64        0.29\n23     13.0        16.0  0.141     0.39    -3.38         0.38        0.04\n24     41.0        15.0  0.576     0.52    -0.32         0.53        0.22\n25      4.0        12.0  0.111     0.41    -1.49         0.40        0.05\n26      2.0        11.0  0.828     0.71    -0.39         0.70        0.25\n27      6.0         8.0  1.312     0.72     0.18         0.72        0.28\n28     51.0         6.0  0.641     0.68    -0.22         0.67        0.35\n29     26.0         3.0  0.834     0.66    -0.07         0.66        0.23",
      "text/html": "<div>\n<style scoped>\n    .dataframe tbody tr th:only-of-type {\n        vertical-align: middle;\n    }\n\n    .dataframe tbody tr th {\n        vertical-align: top;\n    }\n\n    .dataframe thead th {\n        text-align: right;\n    }\n</style>\n<table border=\"1\" class=\"dataframe\">\n  <thead>\n    <tr style=\"text-align: right;\">\n      <th></th>\n      <th>subject</th>\n      <th>sias_score</th>\n      <th>lds</th>\n      <th>pearson</th>\n      <th>r2score</th>\n      <th>person_disc</th>\n      <th>cohen_disc</th>\n    </tr>\n  </thead>\n  <tbody>\n    <tr>\n      <th>0</th>\n      <td>16.0</td>\n      <td>55.0</td>\n      <td>0.621</td>\n      <td>0.36</td>\n      <td>-1.30</td>\n      <td>0.34</td>\n      <td>0.07</td>\n    </tr>\n    <tr>\n      <th>1</th>\n      <td>23.0</td>\n      <td>37.0</td>\n      <td>0.279</td>\n      <td>0.40</td>\n      <td>-1.56</td>\n      <td>0.40</td>\n      <td>0.17</td>\n    </tr>\n    <tr>\n      <th>2</th>\n      <td>46.0</td>\n      <td>31.0</td>\n      <td>0.006</td>\n      <td>0.02</td>\n      <td>-2.83</td>\n      <td>0.01</td>\n      <td>0.01</td>\n    </tr>\n    <tr>\n      <th>3</th>\n      <td>27.0</td>\n      <td>31.0</td>\n      <td>1.328</td>\n      <td>0.91</td>\n      <td>0.50</td>\n      <td>0.88</td>\n      <td>0.45</td>\n    </tr>\n    <tr>\n      <th>4</th>\n      <td>5.0</td>\n      <td>30.0</td>\n      <td>0.953</td>\n      <td>0.70</td>\n      <td>-0.26</td>\n      <td>0.68</td>\n      <td>0.25</td>\n    </tr>\n    <tr>\n      <th>5</th>\n      <td>7.0</td>\n      <td>25.0</td>\n      <td>0.535</td>\n      <td>0.69</td>\n      <td>-0.73</td>\n      <td>0.70</td>\n      <td>0.22</td>\n    </tr>\n    <tr>\n      <th>6</th>\n      <td>43.0</td>\n      <td>25.0</td>\n      <td>1.043</td>\n      <td>0.79</td>\n      <td>-0.03</td>\n      <td>0.78</td>\n      <td>0.25</td>\n    </tr>\n    <tr>\n      <th>7</th>\n      <td>48.0</td>\n      <td>24.0</td>\n      <td>0.365</td>\n      <td>0.53</td>\n      <td>-0.98</td>\n      <td>0.53</td>\n      <td>0.13</td>\n    </tr>\n    <tr>\n      <th>8</th>\n      <td>50.0</td>\n      <td>23.0</td>\n      <td>0.443</td>\n      <td>0.21</td>\n      <td>-2.47</td>\n      <td>0.19</td>\n      <td>0.09</td>\n    </tr>\n    <tr>\n      <th>9</th>\n      <td>33.0</td>\n      <td>22.0</td>\n      <td>0.969</td>\n      <td>0.68</td>\n      <td>-0.13</td>\n      <td>0.68</td>\n      <td>0.30</td>\n    </tr>\n    <tr>\n      <th>10</th>\n      <td>1.0</td>\n      <td>21.0</td>\n      <td>0.201</td>\n      <td>0.31</td>\n      <td>-4.44</td>\n      <td>0.31</td>\n      <td>0.04</td>\n    </tr>\n    <tr>\n      <th>11</th>\n      <td>52.0</td>\n      <td>21.0</td>\n      <td>0.497</td>\n      <td>0.60</td>\n      <td>-0.54</td>\n      <td>0.58</td>\n      <td>0.23</td>\n    </tr>\n    <tr>\n      <th>12</th>\n      <td>32.0</td>\n      <td>20.0</td>\n      <td>-0.189</td>\n      <td>0.16</td>\n      <td>-1.68</td>\n      <td>0.18</td>\n      <td>0.01</td>\n    </tr>\n    <tr>\n      <th>13</th>\n      <td>47.0</td>\n      <td>20.0</td>\n      <td>1.066</td>\n      <td>0.78</td>\n      <td>-0.42</td>\n      <td>0.75</td>\n      <td>0.23</td>\n    </tr>\n    <tr>\n      <th>14</th>\n      <td>21.0</td>\n      <td>20.0</td>\n      <td>0.539</td>\n      <td>0.41</td>\n      <td>-2.61</td>\n      <td>0.38</td>\n      <td>0.06</td>\n    </tr>\n    <tr>\n      <th>15</th>\n      <td>45.0</td>\n      <td>19.0</td>\n      <td>1.011</td>\n      <td>0.80</td>\n      <td>0.17</td>\n      <td>0.79</td>\n      <td>0.51</td>\n    </tr>\n    <tr>\n      <th>16</th>\n      <td>28.0</td>\n      <td>19.0</td>\n      <td>1.295</td>\n      <td>0.71</td>\n      <td>0.04</td>\n      <td>0.71</td>\n      <td>0.29</td>\n    </tr>\n    <tr>\n      <th>17</th>\n      <td>44.0</td>\n      <td>18.0</td>\n      <td>0.307</td>\n      <td>0.46</td>\n      <td>-2.13</td>\n      <td>0.46</td>\n      <td>0.11</td>\n    </tr>\n    <tr>\n      <th>18</th>\n      <td>22.0</td>\n      <td>18.0</td>\n      <td>0.987</td>\n      <td>0.70</td>\n      <td>-0.33</td>\n      <td>0.69</td>\n      <td>0.24</td>\n    </tr>\n    <tr>\n      <th>19</th>\n      <td>54.0</td>\n      <td>17.0</td>\n      <td>1.594</td>\n      <td>0.88</td>\n      <td>0.10</td>\n      <td>0.85</td>\n      <td>0.18</td>\n    </tr>\n    <tr>\n      <th>20</th>\n      <td>31.0</td>\n      <td>16.0</td>\n      <td>1.469</td>\n      <td>0.80</td>\n      <td>0.33</td>\n      <td>0.77</td>\n      <td>0.35</td>\n    </tr>\n    <tr>\n      <th>21</th>\n      <td>17.0</td>\n      <td>16.0</td>\n      <td>-0.382</td>\n      <td>0.25</td>\n      <td>-2.57</td>\n      <td>0.26</td>\n      <td>0.09</td>\n    </tr>\n    <tr>\n      <th>22</th>\n      <td>15.0</td>\n      <td>16.0</td>\n      <td>0.693</td>\n      <td>0.63</td>\n      <td>-0.12</td>\n      <td>0.64</td>\n      <td>0.29</td>\n    </tr>\n    <tr>\n      <th>23</th>\n      <td>13.0</td>\n      <td>16.0</td>\n      <td>0.141</td>\n      <td>0.39</td>\n      <td>-3.38</td>\n      <td>0.38</td>\n      <td>0.04</td>\n    </tr>\n    <tr>\n      <th>24</th>\n      <td>41.0</td>\n      <td>15.0</td>\n      <td>0.576</td>\n      <td>0.52</td>\n      <td>-0.32</td>\n      <td>0.53</td>\n      <td>0.22</td>\n    </tr>\n    <tr>\n      <th>25</th>\n      <td>4.0</td>\n      <td>12.0</td>\n      <td>0.111</td>\n      <td>0.41</td>\n      <td>-1.49</td>\n      <td>0.40</td>\n      <td>0.05</td>\n    </tr>\n    <tr>\n      <th>26</th>\n      <td>2.0</td>\n      <td>11.0</td>\n      <td>0.828</td>\n      <td>0.71</td>\n      <td>-0.39</td>\n      <td>0.70</td>\n      <td>0.25</td>\n    </tr>\n    <tr>\n      <th>27</th>\n      <td>6.0</td>\n      <td>8.0</td>\n      <td>1.312</td>\n      <td>0.72</td>\n      <td>0.18</td>\n      <td>0.72</td>\n      <td>0.28</td>\n    </tr>\n    <tr>\n      <th>28</th>\n      <td>51.0</td>\n      <td>6.0</td>\n      <td>0.641</td>\n      <td>0.68</td>\n      <td>-0.22</td>\n      <td>0.67</td>\n      <td>0.35</td>\n    </tr>\n    <tr>\n      <th>29</th>\n      <td>26.0</td>\n      <td>3.0</td>\n      <td>0.834</td>\n      <td>0.66</td>\n      <td>-0.07</td>\n      <td>0.66</td>\n      <td>0.23</td>\n    </tr>\n  </tbody>\n</table>\n</div>"
     },
     "execution_count": 25,
     "metadata": {},
     "output_type": "execute_result"
    }
   ],
   "source": [
    "sias_"
   ],
   "metadata": {
    "collapsed": false
   }
  },
  {
   "cell_type": "code",
   "execution_count": 26,
   "outputs": [
    {
     "data": {
      "text/plain": "0.68"
     },
     "execution_count": 26,
     "metadata": {},
     "output_type": "execute_result"
    }
   ],
   "source": [
    "lower_sias['pearson'].median()"
   ],
   "metadata": {
    "collapsed": false
   }
  },
  {
   "cell_type": "code",
   "execution_count": 27,
   "outputs": [
    {
     "data": {
      "text/plain": "0.4"
     },
     "execution_count": 27,
     "metadata": {},
     "output_type": "execute_result"
    }
   ],
   "source": [
    "higher_sias['pearson'].median()"
   ],
   "metadata": {
    "collapsed": false
   }
  },
  {
   "cell_type": "markdown",
   "source": [
    "# autorank"
   ],
   "metadata": {
    "collapsed": false
   }
  },
  {
   "cell_type": "code",
   "execution_count": 28,
   "outputs": [],
   "source": [
    "import numpy as np\n",
    "import pandas as pd\n",
    "import matplotlib.pyplot as plt\n",
    "from autorank import autorank, plot_stats, create_report, latex_table\n"
   ],
   "metadata": {
    "collapsed": false
   }
  },
  {
   "cell_type": "markdown",
   "source": [
    "# SIAS: low vs high. pearson corr coeff"
   ],
   "metadata": {
    "collapsed": false
   }
  },
  {
   "cell_type": "code",
   "execution_count": null,
   "outputs": [],
   "source": [
    "total_array_simulated = np.load('output/pyro/complete_rational/total.npy', allow_pickle=True)\n",
    "values = np.array([0, 0.2, 0.4, 0.6, 0.8, 1])\n",
    "discretized_data = np.digitize(total_array_simulated, values)"
   ],
   "metadata": {
    "collapsed": false,
    "pycharm": {
     "is_executing": true
    }
   }
  },
  {
   "cell_type": "code",
   "execution_count": null,
   "outputs": [],
   "source": [],
   "metadata": {
    "collapsed": false
   }
  },
  {
   "cell_type": "code",
   "execution_count": 30,
   "outputs": [
    {
     "name": "stdout",
     "output_type": "stream",
     "text": [
      "RankResult(rankdf=\n",
      "              median   mad ci_lower ci_upper effect_size   magnitude  p_equal  \\\n",
      "pearson low     0.68  0.03     0.41     0.72         0.0  negligible      NaN   \n",
      "pearson high    0.40   0.3     0.02     0.91    0.885864       large    0.013   \n",
      "\n",
      "              p_smaller      decision  \n",
      "pearson low         NaN            NA  \n",
      "pearson high     0.8384  inconclusive  \n",
      "pvalue=None\n",
      "cd=None\n",
      "omnibus=bayes\n",
      "posthoc=bayes\n",
      "all_normal=False\n",
      "pvals_shapiro=[0.015134504064917564, 0.9022369384765625]\n",
      "homoscedastic=None\n",
      "pval_homogeneity=None\n",
      "homogeneity_test=None\n",
      "alpha=0.05\n",
      "alpha_normality=0.025\n",
      "num_samples=5\n",
      "posterior_matrix=\n",
      "             pearson low             pearson high\n",
      "pearson low          NaN  (0.8384, 0.013, 0.1486)\n",
      "pearson high         NaN                      NaN\n",
      "decision_matrix=\n",
      "               pearson low  pearson high\n",
      "pearson low            NaN  inconclusive\n",
      "pearson high  inconclusive           NaN\n",
      "rope=0.1\n",
      "rope_mode=effsize\n",
      "effect_size=akinshin_gamma)\n"
     ]
    }
   ],
   "source": [
    "sias_autorank = pd.DataFrame(columns=('pearson low','pearson high'))\n",
    "sias_autorank['pearson low'] = lower_sias['pearson']\n",
    "sias_autorank['pearson high'] = higher_sias['pearson']\n",
    "\n",
    "result = autorank(sias_autorank, alpha=0.05, verbose=False, approach='bayesian')\n",
    "print(result)"
   ],
   "metadata": {
    "collapsed": false
   }
  },
  {
   "cell_type": "code",
   "execution_count": 31,
   "outputs": [
    {
     "data": {
      "text/plain": "              median   mad ci_lower ci_upper effect_size   magnitude  p_equal  \\\npearson low     0.68  0.03     0.41     0.72         0.0  negligible      NaN   \npearson high    0.40   0.3     0.02     0.91    0.885864       large    0.013   \n\n              p_smaller      decision  \npearson low         NaN            NA  \npearson high     0.8384  inconclusive  ",
      "text/html": "<div>\n<style scoped>\n    .dataframe tbody tr th:only-of-type {\n        vertical-align: middle;\n    }\n\n    .dataframe tbody tr th {\n        vertical-align: top;\n    }\n\n    .dataframe thead th {\n        text-align: right;\n    }\n</style>\n<table border=\"1\" class=\"dataframe\">\n  <thead>\n    <tr style=\"text-align: right;\">\n      <th></th>\n      <th>median</th>\n      <th>mad</th>\n      <th>ci_lower</th>\n      <th>ci_upper</th>\n      <th>effect_size</th>\n      <th>magnitude</th>\n      <th>p_equal</th>\n      <th>p_smaller</th>\n      <th>decision</th>\n    </tr>\n  </thead>\n  <tbody>\n    <tr>\n      <th>pearson low</th>\n      <td>0.68</td>\n      <td>0.03</td>\n      <td>0.41</td>\n      <td>0.72</td>\n      <td>0.0</td>\n      <td>negligible</td>\n      <td>NaN</td>\n      <td>NaN</td>\n      <td>NA</td>\n    </tr>\n    <tr>\n      <th>pearson high</th>\n      <td>0.40</td>\n      <td>0.3</td>\n      <td>0.02</td>\n      <td>0.91</td>\n      <td>0.885864</td>\n      <td>large</td>\n      <td>0.013</td>\n      <td>0.8384</td>\n      <td>inconclusive</td>\n    </tr>\n  </tbody>\n</table>\n</div>"
     },
     "execution_count": 31,
     "metadata": {},
     "output_type": "execute_result"
    }
   ],
   "source": [
    "result[0]"
   ],
   "metadata": {
    "collapsed": false
   }
  },
  {
   "cell_type": "markdown",
   "source": [
    "# SIAS: low vs high. r2 score"
   ],
   "metadata": {
    "collapsed": false
   }
  },
  {
   "cell_type": "code",
   "execution_count": null,
   "outputs": [
    {
     "name": "stdout",
     "output_type": "stream",
     "text": [
      "RankResult(rankdf=\n",
      "          mean       std  ci_lower  ci_upper effect_size   magnitude  p_equal  \\\n",
      "r2 high -1.612  1.824409 -5.132331  1.908331         0.0  negligible      NaN   \n",
      "r2 low  -1.706  1.764052 -5.109867  1.697867    0.052383  negligible  0.21708   \n",
      "\n",
      "         p_smaller      decision  \n",
      "r2 high        NaN            NA  \n",
      "r2 low     0.55234  inconclusive  \n",
      "pvalue=None\n",
      "cd=None\n",
      "omnibus=bayes\n",
      "posthoc=bayes\n",
      "all_normal=True\n",
      "pvals_shapiro=[0.11953478306531906, 0.2857353091239929]\n",
      "homoscedastic=None\n",
      "pval_homogeneity=None\n",
      "homogeneity_test=None\n",
      "alpha=0.05\n",
      "alpha_normality=0.025\n",
      "num_samples=5\n",
      "posterior_matrix=\n",
      "        r2 high                       r2 low\n",
      "r2 high     NaN  (0.55234, 0.21708, 0.23058)\n",
      "r2 low      NaN                          NaN\n",
      "decision_matrix=\n",
      "              r2 high        r2 low\n",
      "r2 high           NaN  inconclusive\n",
      "r2 low   inconclusive           NaN\n",
      "rope=0.1\n",
      "rope_mode=effsize\n",
      "effect_size=cohen_d)\n"
     ]
    }
   ],
   "source": [
    "sias_autorank = pd.DataFrame(columns=('r2 low','r2 high'))\n",
    "sias_autorank['r2 low'] = lower_sias['r2score']\n",
    "sias_autorank['r2 high'] = higher_sias['r2score']\n",
    "\n",
    "result = autorank(sias_autorank, alpha=0.05, verbose=False, approach='bayesian')\n",
    "print(result)"
   ],
   "metadata": {
    "collapsed": false
   }
  },
  {
   "cell_type": "code",
   "execution_count": null,
   "outputs": [
    {
     "data": {
      "text/plain": "          mean       std  ci_lower  ci_upper effect_size   magnitude  p_equal  \\\nr2 high -1.612  1.824409 -5.132331  1.908331         0.0  negligible      NaN   \nr2 low  -1.706  1.764052 -5.109867  1.697867    0.052383  negligible  0.21708   \n\n         p_smaller      decision  \nr2 high        NaN            NA  \nr2 low     0.55234  inconclusive  ",
      "text/html": "<div>\n<style scoped>\n    .dataframe tbody tr th:only-of-type {\n        vertical-align: middle;\n    }\n\n    .dataframe tbody tr th {\n        vertical-align: top;\n    }\n\n    .dataframe thead th {\n        text-align: right;\n    }\n</style>\n<table border=\"1\" class=\"dataframe\">\n  <thead>\n    <tr style=\"text-align: right;\">\n      <th></th>\n      <th>mean</th>\n      <th>std</th>\n      <th>ci_lower</th>\n      <th>ci_upper</th>\n      <th>effect_size</th>\n      <th>magnitude</th>\n      <th>p_equal</th>\n      <th>p_smaller</th>\n      <th>decision</th>\n    </tr>\n  </thead>\n  <tbody>\n    <tr>\n      <th>r2 high</th>\n      <td>-1.612</td>\n      <td>1.824409</td>\n      <td>-5.132331</td>\n      <td>1.908331</td>\n      <td>0.0</td>\n      <td>negligible</td>\n      <td>NaN</td>\n      <td>NaN</td>\n      <td>NA</td>\n    </tr>\n    <tr>\n      <th>r2 low</th>\n      <td>-1.706</td>\n      <td>1.764052</td>\n      <td>-5.109867</td>\n      <td>1.697867</td>\n      <td>0.052383</td>\n      <td>negligible</td>\n      <td>0.21708</td>\n      <td>0.55234</td>\n      <td>inconclusive</td>\n    </tr>\n  </tbody>\n</table>\n</div>"
     },
     "execution_count": 27,
     "metadata": {},
     "output_type": "execute_result"
    }
   ],
   "source": [
    "result[0]"
   ],
   "metadata": {
    "collapsed": false
   }
  },
  {
   "cell_type": "markdown",
   "source": [
    "# LDS: low vs high. pearson corr coef"
   ],
   "metadata": {
    "collapsed": false
   }
  },
  {
   "cell_type": "code",
   "execution_count": null,
   "outputs": [
    {
     "name": "stdout",
     "output_type": "stream",
     "text": [
      "RankResult(rankdf=\n",
      "                  mean       std  ci_lower  ci_upper effect_size   magnitude  \\\n",
      "pearson low   0.475714  0.302261  0.073436  0.877993         0.0  negligible   \n",
      "pearson high       NaN       NaN       NaN       NaN         NaN       large   \n",
      "\n",
      "              p_equal  p_smaller decision  \n",
      "pearson low       NaN        NaN       NA  \n",
      "pearson high      0.0        1.0  smaller  \n",
      "pvalue=None\n",
      "cd=None\n",
      "omnibus=bayes\n",
      "posthoc=bayes\n",
      "all_normal=True\n",
      "pvals_shapiro=[0.4858570694923401, 1.0]\n",
      "homoscedastic=None\n",
      "pval_homogeneity=None\n",
      "homogeneity_test=None\n",
      "alpha=0.05\n",
      "alpha_normality=0.025\n",
      "num_samples=7\n",
      "posterior_matrix=\n",
      "             pearson low     pearson high\n",
      "pearson low          NaN  (1.0, 0.0, 0.0)\n",
      "pearson high         NaN              NaN\n",
      "decision_matrix=\n",
      "             pearson low pearson high\n",
      "pearson low          NaN      smaller\n",
      "pearson high      larger          NaN\n",
      "rope=0.1\n",
      "rope_mode=effsize\n",
      "effect_size=cohen_d)\n"
     ]
    }
   ],
   "source": [
    "lds_autorank = pd.DataFrame(columns=('pearson low','pearson high'))\n",
    "lds_autorank['pearson low'] = lower_lds['pearson']\n",
    "lds_autorank['pearson high'] = higher_lds['pearson']\n",
    "\n",
    "result = autorank(lds_autorank, alpha=0.05, verbose=False, approach='bayesian')\n",
    "print(result)"
   ],
   "metadata": {
    "collapsed": false
   }
  },
  {
   "cell_type": "code",
   "execution_count": null,
   "outputs": [
    {
     "data": {
      "text/plain": "                  mean       std  ci_lower  ci_upper effect_size   magnitude  \\\npearson low   0.475714  0.302261  0.073436  0.877993         0.0  negligible   \npearson high       NaN       NaN       NaN       NaN         NaN       large   \n\n              p_equal  p_smaller decision  \npearson low       NaN        NaN       NA  \npearson high      0.0        1.0  smaller  ",
      "text/html": "<div>\n<style scoped>\n    .dataframe tbody tr th:only-of-type {\n        vertical-align: middle;\n    }\n\n    .dataframe tbody tr th {\n        vertical-align: top;\n    }\n\n    .dataframe thead th {\n        text-align: right;\n    }\n</style>\n<table border=\"1\" class=\"dataframe\">\n  <thead>\n    <tr style=\"text-align: right;\">\n      <th></th>\n      <th>mean</th>\n      <th>std</th>\n      <th>ci_lower</th>\n      <th>ci_upper</th>\n      <th>effect_size</th>\n      <th>magnitude</th>\n      <th>p_equal</th>\n      <th>p_smaller</th>\n      <th>decision</th>\n    </tr>\n  </thead>\n  <tbody>\n    <tr>\n      <th>pearson low</th>\n      <td>0.475714</td>\n      <td>0.302261</td>\n      <td>0.073436</td>\n      <td>0.877993</td>\n      <td>0.0</td>\n      <td>negligible</td>\n      <td>NaN</td>\n      <td>NaN</td>\n      <td>NA</td>\n    </tr>\n    <tr>\n      <th>pearson high</th>\n      <td>NaN</td>\n      <td>NaN</td>\n      <td>NaN</td>\n      <td>NaN</td>\n      <td>NaN</td>\n      <td>large</td>\n      <td>0.0</td>\n      <td>1.0</td>\n      <td>smaller</td>\n    </tr>\n  </tbody>\n</table>\n</div>"
     },
     "execution_count": 29,
     "metadata": {},
     "output_type": "execute_result"
    }
   ],
   "source": [
    "result[0]"
   ],
   "metadata": {
    "collapsed": false
   }
  },
  {
   "cell_type": "markdown",
   "source": [
    "# LDS: low vs high. r2 corr coef"
   ],
   "metadata": {
    "collapsed": false
   }
  },
  {
   "cell_type": "code",
   "execution_count": null,
   "outputs": [
    {
     "name": "stdout",
     "output_type": "stream",
     "text": [
      "RankResult(rankdf=\n",
      "                  mean       std  ci_lower ci_upper effect_size   magnitude  \\\n",
      "r2score low  -1.598571  1.690635 -3.848633  0.65149         0.0  negligible   \n",
      "r2score high       NaN       NaN       NaN      NaN         NaN       large   \n",
      "\n",
      "              p_equal  p_smaller decision  \n",
      "r2score low       NaN        NaN       NA  \n",
      "r2score high      0.0        1.0  smaller  \n",
      "pvalue=None\n",
      "cd=None\n",
      "omnibus=bayes\n",
      "posthoc=bayes\n",
      "all_normal=True\n",
      "pvals_shapiro=[0.4031602442264557, 1.0]\n",
      "homoscedastic=None\n",
      "pval_homogeneity=None\n",
      "homogeneity_test=None\n",
      "alpha=0.05\n",
      "alpha_normality=0.025\n",
      "num_samples=7\n",
      "posterior_matrix=\n",
      "             r2score low     r2score high\n",
      "r2score low          NaN  (1.0, 0.0, 0.0)\n",
      "r2score high         NaN              NaN\n",
      "decision_matrix=\n",
      "             r2score low r2score high\n",
      "r2score low          NaN      smaller\n",
      "r2score high      larger          NaN\n",
      "rope=0.1\n",
      "rope_mode=effsize\n",
      "effect_size=cohen_d)\n"
     ]
    }
   ],
   "source": [
    "lds_autorank = pd.DataFrame(columns=('r2score low','r2score high'))\n",
    "lds_autorank['r2score low'] = lower_lds['r2score']\n",
    "lds_autorank['r2score high'] = higher_lds['r2score']\n",
    "\n",
    "result = autorank(lds_autorank, alpha=0.05, verbose=False, approach='bayesian')\n",
    "print(result)"
   ],
   "metadata": {
    "collapsed": false
   }
  },
  {
   "cell_type": "code",
   "execution_count": null,
   "outputs": [
    {
     "data": {
      "text/plain": "                  mean       std  ci_lower ci_upper effect_size   magnitude  \\\nr2score low  -1.598571  1.690635 -3.848633  0.65149         0.0  negligible   \nr2score high       NaN       NaN       NaN      NaN         NaN       large   \n\n              p_equal  p_smaller decision  \nr2score low       NaN        NaN       NA  \nr2score high      0.0        1.0  smaller  ",
      "text/html": "<div>\n<style scoped>\n    .dataframe tbody tr th:only-of-type {\n        vertical-align: middle;\n    }\n\n    .dataframe tbody tr th {\n        vertical-align: top;\n    }\n\n    .dataframe thead th {\n        text-align: right;\n    }\n</style>\n<table border=\"1\" class=\"dataframe\">\n  <thead>\n    <tr style=\"text-align: right;\">\n      <th></th>\n      <th>mean</th>\n      <th>std</th>\n      <th>ci_lower</th>\n      <th>ci_upper</th>\n      <th>effect_size</th>\n      <th>magnitude</th>\n      <th>p_equal</th>\n      <th>p_smaller</th>\n      <th>decision</th>\n    </tr>\n  </thead>\n  <tbody>\n    <tr>\n      <th>r2score low</th>\n      <td>-1.598571</td>\n      <td>1.690635</td>\n      <td>-3.848633</td>\n      <td>0.65149</td>\n      <td>0.0</td>\n      <td>negligible</td>\n      <td>NaN</td>\n      <td>NaN</td>\n      <td>NA</td>\n    </tr>\n    <tr>\n      <th>r2score high</th>\n      <td>NaN</td>\n      <td>NaN</td>\n      <td>NaN</td>\n      <td>NaN</td>\n      <td>NaN</td>\n      <td>large</td>\n      <td>0.0</td>\n      <td>1.0</td>\n      <td>smaller</td>\n    </tr>\n  </tbody>\n</table>\n</div>"
     },
     "execution_count": 31,
     "metadata": {},
     "output_type": "execute_result"
    }
   ],
   "source": [
    "result[0]"
   ],
   "metadata": {
    "collapsed": false
   }
  },
  {
   "cell_type": "code",
   "execution_count": 32,
   "outputs": [
    {
     "data": {
      "text/plain": "       pop_0     pop_1     pop_2     pop_3     pop_4     pop_5\n0   0.009526  0.183090  0.236843  0.940886  1.000000  1.000000\n1   0.000000  0.540710  0.406915  0.679139  1.000000  0.580386\n2   0.000000  0.362501  0.355781  0.860031  1.000000  0.998530\n3   0.472447  0.000000  0.764067  1.000000  0.397133  0.942494\n4   0.904224  0.922026  0.384156  0.776090  0.315976  0.711287\n5   0.477247  0.550683  0.000000  0.793283  1.000000  1.000000\n6   0.177065  0.000000  0.320301  0.991390  0.868256  1.000000\n7   0.229477  0.000000  0.589883  0.634939  0.788666  0.638636\n8   0.366011  0.265772  0.731235  0.748735  0.542982  1.000000\n9   0.176256  0.775719  0.241076  0.438061  1.000000  0.595861\n10  0.458516  0.399168  0.191219  0.544329  0.692259  1.000000\n11  0.095029  0.390892  0.370932  1.000000  0.752884  1.000000\n12  0.116683  0.000000  0.441148  0.038433  0.584421  0.504328\n13  0.042035  0.441773  0.202565  0.442970  0.744933  0.219569\n14  0.764224  0.060677  0.113417  0.612802  1.000000  1.000000\n15  0.214599  0.219687  1.000000  1.000000  0.902509  0.873155\n16  0.169115  0.212045  0.625262  1.000000  0.867273  0.989255\n17  0.000000  0.087613  0.466635  0.375870  0.932606  0.744886\n18  0.490749  0.047704  0.602284  0.685194  1.000000  0.941447\n19  0.128015  0.384617  0.790588  1.000000  1.000000  0.828774\n20  0.582253  0.401204  0.103663  0.669022  0.889743  0.416357\n21  0.208561  0.551361  0.262529  0.540401  0.611955  1.000000\n22  0.235922  0.000000  0.638590  0.540643  0.471858  0.492880\n23  0.000000  0.000000  0.016078  0.618689  1.000000  0.882251\n24  0.228580  0.089123  0.819965  0.568624  0.799640  0.969848\n25  0.454507  0.051563  0.000000  0.528660  1.000000  0.000487\n26  0.064897  0.000000  0.000000  1.000000  0.438964  0.867654\n27  0.264945  0.589399  0.165880  1.000000  1.000000  0.791733\n28  0.426648  0.000000  0.446548  0.349309  0.867648  1.000000\n29  0.026725  0.489375  0.479414  1.000000  0.976487  1.000000\n30  0.243668  0.070863  0.547303  0.732092  0.656923  0.721741\n31  0.000000  0.519054  0.398708  0.683641  0.876176  1.000000\n32  0.078538  0.621194  0.223343  0.546173  0.845761  0.780741\n33  0.067965  0.690812  0.549235  1.000000  0.737756  0.896290\n34  0.053203  0.947247  0.069987  0.825787  1.000000  0.743104\n35  0.886956  0.192219  0.685699  1.000000  0.912768  0.779512\n36  0.000000  0.761150  0.000000  0.973032  1.000000  1.000000\n37  0.459125  0.028864  0.250371  1.000000  0.481806  1.000000\n38  0.000000  0.045571  0.396201  0.803620  0.553559  0.783122\n39  0.496150  0.457809  0.101439  0.603649  0.706004  1.000000\n40  0.601869  0.234927  1.000000  0.973599  0.966698  1.000000\n41  0.000000  0.107968  0.581647  0.549543  0.774408  0.549413\n42  0.337678  0.474702  0.354198  0.306321  0.788061  0.352990\n43  0.000000  0.241314  0.305407  1.000000  0.704248  0.281912\n44  0.435687  0.575927  0.019761  0.917841  1.000000  1.000000\n45  0.764374  0.615867  0.360400  0.677095  0.522647  0.646516\n46  0.432373  0.349456  0.415667  0.370796  1.000000  1.000000\n47  0.686000  0.000000  0.218178  0.339961  1.000000  0.347407\n48  0.010873  0.000000  0.625702  0.957403  1.000000  0.634493\n49  0.478935  0.018115  0.928809  0.927661  0.761964  1.000000",
      "text/html": "<div>\n<style scoped>\n    .dataframe tbody tr th:only-of-type {\n        vertical-align: middle;\n    }\n\n    .dataframe tbody tr th {\n        vertical-align: top;\n    }\n\n    .dataframe thead th {\n        text-align: right;\n    }\n</style>\n<table border=\"1\" class=\"dataframe\">\n  <thead>\n    <tr style=\"text-align: right;\">\n      <th></th>\n      <th>pop_0</th>\n      <th>pop_1</th>\n      <th>pop_2</th>\n      <th>pop_3</th>\n      <th>pop_4</th>\n      <th>pop_5</th>\n    </tr>\n  </thead>\n  <tbody>\n    <tr>\n      <th>0</th>\n      <td>0.009526</td>\n      <td>0.183090</td>\n      <td>0.236843</td>\n      <td>0.940886</td>\n      <td>1.000000</td>\n      <td>1.000000</td>\n    </tr>\n    <tr>\n      <th>1</th>\n      <td>0.000000</td>\n      <td>0.540710</td>\n      <td>0.406915</td>\n      <td>0.679139</td>\n      <td>1.000000</td>\n      <td>0.580386</td>\n    </tr>\n    <tr>\n      <th>2</th>\n      <td>0.000000</td>\n      <td>0.362501</td>\n      <td>0.355781</td>\n      <td>0.860031</td>\n      <td>1.000000</td>\n      <td>0.998530</td>\n    </tr>\n    <tr>\n      <th>3</th>\n      <td>0.472447</td>\n      <td>0.000000</td>\n      <td>0.764067</td>\n      <td>1.000000</td>\n      <td>0.397133</td>\n      <td>0.942494</td>\n    </tr>\n    <tr>\n      <th>4</th>\n      <td>0.904224</td>\n      <td>0.922026</td>\n      <td>0.384156</td>\n      <td>0.776090</td>\n      <td>0.315976</td>\n      <td>0.711287</td>\n    </tr>\n    <tr>\n      <th>5</th>\n      <td>0.477247</td>\n      <td>0.550683</td>\n      <td>0.000000</td>\n      <td>0.793283</td>\n      <td>1.000000</td>\n      <td>1.000000</td>\n    </tr>\n    <tr>\n      <th>6</th>\n      <td>0.177065</td>\n      <td>0.000000</td>\n      <td>0.320301</td>\n      <td>0.991390</td>\n      <td>0.868256</td>\n      <td>1.000000</td>\n    </tr>\n    <tr>\n      <th>7</th>\n      <td>0.229477</td>\n      <td>0.000000</td>\n      <td>0.589883</td>\n      <td>0.634939</td>\n      <td>0.788666</td>\n      <td>0.638636</td>\n    </tr>\n    <tr>\n      <th>8</th>\n      <td>0.366011</td>\n      <td>0.265772</td>\n      <td>0.731235</td>\n      <td>0.748735</td>\n      <td>0.542982</td>\n      <td>1.000000</td>\n    </tr>\n    <tr>\n      <th>9</th>\n      <td>0.176256</td>\n      <td>0.775719</td>\n      <td>0.241076</td>\n      <td>0.438061</td>\n      <td>1.000000</td>\n      <td>0.595861</td>\n    </tr>\n    <tr>\n      <th>10</th>\n      <td>0.458516</td>\n      <td>0.399168</td>\n      <td>0.191219</td>\n      <td>0.544329</td>\n      <td>0.692259</td>\n      <td>1.000000</td>\n    </tr>\n    <tr>\n      <th>11</th>\n      <td>0.095029</td>\n      <td>0.390892</td>\n      <td>0.370932</td>\n      <td>1.000000</td>\n      <td>0.752884</td>\n      <td>1.000000</td>\n    </tr>\n    <tr>\n      <th>12</th>\n      <td>0.116683</td>\n      <td>0.000000</td>\n      <td>0.441148</td>\n      <td>0.038433</td>\n      <td>0.584421</td>\n      <td>0.504328</td>\n    </tr>\n    <tr>\n      <th>13</th>\n      <td>0.042035</td>\n      <td>0.441773</td>\n      <td>0.202565</td>\n      <td>0.442970</td>\n      <td>0.744933</td>\n      <td>0.219569</td>\n    </tr>\n    <tr>\n      <th>14</th>\n      <td>0.764224</td>\n      <td>0.060677</td>\n      <td>0.113417</td>\n      <td>0.612802</td>\n      <td>1.000000</td>\n      <td>1.000000</td>\n    </tr>\n    <tr>\n      <th>15</th>\n      <td>0.214599</td>\n      <td>0.219687</td>\n      <td>1.000000</td>\n      <td>1.000000</td>\n      <td>0.902509</td>\n      <td>0.873155</td>\n    </tr>\n    <tr>\n      <th>16</th>\n      <td>0.169115</td>\n      <td>0.212045</td>\n      <td>0.625262</td>\n      <td>1.000000</td>\n      <td>0.867273</td>\n      <td>0.989255</td>\n    </tr>\n    <tr>\n      <th>17</th>\n      <td>0.000000</td>\n      <td>0.087613</td>\n      <td>0.466635</td>\n      <td>0.375870</td>\n      <td>0.932606</td>\n      <td>0.744886</td>\n    </tr>\n    <tr>\n      <th>18</th>\n      <td>0.490749</td>\n      <td>0.047704</td>\n      <td>0.602284</td>\n      <td>0.685194</td>\n      <td>1.000000</td>\n      <td>0.941447</td>\n    </tr>\n    <tr>\n      <th>19</th>\n      <td>0.128015</td>\n      <td>0.384617</td>\n      <td>0.790588</td>\n      <td>1.000000</td>\n      <td>1.000000</td>\n      <td>0.828774</td>\n    </tr>\n    <tr>\n      <th>20</th>\n      <td>0.582253</td>\n      <td>0.401204</td>\n      <td>0.103663</td>\n      <td>0.669022</td>\n      <td>0.889743</td>\n      <td>0.416357</td>\n    </tr>\n    <tr>\n      <th>21</th>\n      <td>0.208561</td>\n      <td>0.551361</td>\n      <td>0.262529</td>\n      <td>0.540401</td>\n      <td>0.611955</td>\n      <td>1.000000</td>\n    </tr>\n    <tr>\n      <th>22</th>\n      <td>0.235922</td>\n      <td>0.000000</td>\n      <td>0.638590</td>\n      <td>0.540643</td>\n      <td>0.471858</td>\n      <td>0.492880</td>\n    </tr>\n    <tr>\n      <th>23</th>\n      <td>0.000000</td>\n      <td>0.000000</td>\n      <td>0.016078</td>\n      <td>0.618689</td>\n      <td>1.000000</td>\n      <td>0.882251</td>\n    </tr>\n    <tr>\n      <th>24</th>\n      <td>0.228580</td>\n      <td>0.089123</td>\n      <td>0.819965</td>\n      <td>0.568624</td>\n      <td>0.799640</td>\n      <td>0.969848</td>\n    </tr>\n    <tr>\n      <th>25</th>\n      <td>0.454507</td>\n      <td>0.051563</td>\n      <td>0.000000</td>\n      <td>0.528660</td>\n      <td>1.000000</td>\n      <td>0.000487</td>\n    </tr>\n    <tr>\n      <th>26</th>\n      <td>0.064897</td>\n      <td>0.000000</td>\n      <td>0.000000</td>\n      <td>1.000000</td>\n      <td>0.438964</td>\n      <td>0.867654</td>\n    </tr>\n    <tr>\n      <th>27</th>\n      <td>0.264945</td>\n      <td>0.589399</td>\n      <td>0.165880</td>\n      <td>1.000000</td>\n      <td>1.000000</td>\n      <td>0.791733</td>\n    </tr>\n    <tr>\n      <th>28</th>\n      <td>0.426648</td>\n      <td>0.000000</td>\n      <td>0.446548</td>\n      <td>0.349309</td>\n      <td>0.867648</td>\n      <td>1.000000</td>\n    </tr>\n    <tr>\n      <th>29</th>\n      <td>0.026725</td>\n      <td>0.489375</td>\n      <td>0.479414</td>\n      <td>1.000000</td>\n      <td>0.976487</td>\n      <td>1.000000</td>\n    </tr>\n    <tr>\n      <th>30</th>\n      <td>0.243668</td>\n      <td>0.070863</td>\n      <td>0.547303</td>\n      <td>0.732092</td>\n      <td>0.656923</td>\n      <td>0.721741</td>\n    </tr>\n    <tr>\n      <th>31</th>\n      <td>0.000000</td>\n      <td>0.519054</td>\n      <td>0.398708</td>\n      <td>0.683641</td>\n      <td>0.876176</td>\n      <td>1.000000</td>\n    </tr>\n    <tr>\n      <th>32</th>\n      <td>0.078538</td>\n      <td>0.621194</td>\n      <td>0.223343</td>\n      <td>0.546173</td>\n      <td>0.845761</td>\n      <td>0.780741</td>\n    </tr>\n    <tr>\n      <th>33</th>\n      <td>0.067965</td>\n      <td>0.690812</td>\n      <td>0.549235</td>\n      <td>1.000000</td>\n      <td>0.737756</td>\n      <td>0.896290</td>\n    </tr>\n    <tr>\n      <th>34</th>\n      <td>0.053203</td>\n      <td>0.947247</td>\n      <td>0.069987</td>\n      <td>0.825787</td>\n      <td>1.000000</td>\n      <td>0.743104</td>\n    </tr>\n    <tr>\n      <th>35</th>\n      <td>0.886956</td>\n      <td>0.192219</td>\n      <td>0.685699</td>\n      <td>1.000000</td>\n      <td>0.912768</td>\n      <td>0.779512</td>\n    </tr>\n    <tr>\n      <th>36</th>\n      <td>0.000000</td>\n      <td>0.761150</td>\n      <td>0.000000</td>\n      <td>0.973032</td>\n      <td>1.000000</td>\n      <td>1.000000</td>\n    </tr>\n    <tr>\n      <th>37</th>\n      <td>0.459125</td>\n      <td>0.028864</td>\n      <td>0.250371</td>\n      <td>1.000000</td>\n      <td>0.481806</td>\n      <td>1.000000</td>\n    </tr>\n    <tr>\n      <th>38</th>\n      <td>0.000000</td>\n      <td>0.045571</td>\n      <td>0.396201</td>\n      <td>0.803620</td>\n      <td>0.553559</td>\n      <td>0.783122</td>\n    </tr>\n    <tr>\n      <th>39</th>\n      <td>0.496150</td>\n      <td>0.457809</td>\n      <td>0.101439</td>\n      <td>0.603649</td>\n      <td>0.706004</td>\n      <td>1.000000</td>\n    </tr>\n    <tr>\n      <th>40</th>\n      <td>0.601869</td>\n      <td>0.234927</td>\n      <td>1.000000</td>\n      <td>0.973599</td>\n      <td>0.966698</td>\n      <td>1.000000</td>\n    </tr>\n    <tr>\n      <th>41</th>\n      <td>0.000000</td>\n      <td>0.107968</td>\n      <td>0.581647</td>\n      <td>0.549543</td>\n      <td>0.774408</td>\n      <td>0.549413</td>\n    </tr>\n    <tr>\n      <th>42</th>\n      <td>0.337678</td>\n      <td>0.474702</td>\n      <td>0.354198</td>\n      <td>0.306321</td>\n      <td>0.788061</td>\n      <td>0.352990</td>\n    </tr>\n    <tr>\n      <th>43</th>\n      <td>0.000000</td>\n      <td>0.241314</td>\n      <td>0.305407</td>\n      <td>1.000000</td>\n      <td>0.704248</td>\n      <td>0.281912</td>\n    </tr>\n    <tr>\n      <th>44</th>\n      <td>0.435687</td>\n      <td>0.575927</td>\n      <td>0.019761</td>\n      <td>0.917841</td>\n      <td>1.000000</td>\n      <td>1.000000</td>\n    </tr>\n    <tr>\n      <th>45</th>\n      <td>0.764374</td>\n      <td>0.615867</td>\n      <td>0.360400</td>\n      <td>0.677095</td>\n      <td>0.522647</td>\n      <td>0.646516</td>\n    </tr>\n    <tr>\n      <th>46</th>\n      <td>0.432373</td>\n      <td>0.349456</td>\n      <td>0.415667</td>\n      <td>0.370796</td>\n      <td>1.000000</td>\n      <td>1.000000</td>\n    </tr>\n    <tr>\n      <th>47</th>\n      <td>0.686000</td>\n      <td>0.000000</td>\n      <td>0.218178</td>\n      <td>0.339961</td>\n      <td>1.000000</td>\n      <td>0.347407</td>\n    </tr>\n    <tr>\n      <th>48</th>\n      <td>0.010873</td>\n      <td>0.000000</td>\n      <td>0.625702</td>\n      <td>0.957403</td>\n      <td>1.000000</td>\n      <td>0.634493</td>\n    </tr>\n    <tr>\n      <th>49</th>\n      <td>0.478935</td>\n      <td>0.018115</td>\n      <td>0.928809</td>\n      <td>0.927661</td>\n      <td>0.761964</td>\n      <td>1.000000</td>\n    </tr>\n  </tbody>\n</table>\n</div>"
     },
     "execution_count": 32,
     "metadata": {},
     "output_type": "execute_result"
    }
   ],
   "source": [
    "std = 0.3\n",
    "means = [0.2, 0.3, 0.5, 0.8, 0.85, 0.9]\n",
    "sample_size = 50\n",
    "data = pd.DataFrame()\n",
    "for i, mean in enumerate(means):\n",
    "    data['pop_%i' % i] = np.random.normal(mean, std, sample_size).clip(0, 1)\n",
    "data"
   ],
   "metadata": {
    "collapsed": false
   }
  },
  {
   "cell_type": "markdown",
   "source": [
    "# Analysis sliding window K"
   ],
   "metadata": {
    "collapsed": false
   }
  },
  {
   "cell_type": "code",
   "execution_count": null,
   "outputs": [
    {
     "name": "stdout",
     "output_type": "stream",
     "text": [
      "\n",
      "\n",
      "--------------- K = 2 ---------------\n",
      "7 subj less lds corr with rational agent: 0.32\n",
      "7 subj more lds corr with rational agent: 0.48\n",
      "\n",
      "7 subj less sias corr with rational agent: 0.48\n",
      "7 subj more sias corr with rational agent: 0.35\n",
      "\n",
      "\n",
      "--------------- K = 5 ---------------\n",
      "7 subj less lds corr with rational agent: 0.39\n",
      "7 subj more lds corr with rational agent: 0.57\n",
      "\n",
      "7 subj less sias corr with rational agent: 0.57\n",
      "7 subj more sias corr with rational agent: 0.4\n",
      "\n",
      "\n",
      "--------------- K = 10 ---------------\n",
      "7 subj less lds corr with rational agent: 0.45\n",
      "7 subj more lds corr with rational agent: 0.63\n",
      "\n",
      "7 subj less sias corr with rational agent: 0.63\n",
      "7 subj more sias corr with rational agent: 0.43\n",
      "\n",
      "\n",
      "--------------- K = 25 ---------------\n",
      "7 subj less lds corr with rational agent: 0.48\n",
      "7 subj more lds corr with rational agent: 0.69\n",
      "\n",
      "7 subj less sias corr with rational agent: 0.66\n",
      "7 subj more sias corr with rational agent: 0.41\n",
      "\n",
      "\n",
      "--------------- K = 50 ---------------\n",
      "7 subj less lds corr with rational agent: 0.47\n",
      "7 subj more lds corr with rational agent: 0.65\n",
      "\n",
      "7 subj less sias corr with rational agent: 0.62\n",
      "7 subj more sias corr with rational agent: 0.39\n",
      "\n",
      "\n",
      "--------------- K = 100 ---------------\n",
      "7 subj less lds corr with rational agent: 0.46\n",
      "7 subj more lds corr with rational agent: 0.66\n",
      "\n",
      "7 subj less sias corr with rational agent: 0.66\n",
      "7 subj more sias corr with rational agent: 0.41\n",
      "\n",
      "\n",
      "--------------- K = 150 ---------------\n",
      "7 subj less lds corr with rational agent: 0.47\n",
      "7 subj more lds corr with rational agent: 0.67\n",
      "\n",
      "7 subj less sias corr with rational agent: 0.66\n",
      "7 subj more sias corr with rational agent: 0.41\n"
     ]
    }
   ],
   "source": [
    "k_wind = [2, 5, 10, 25, 50, 100, 150]\n",
    "for k in list(k_wind):\n",
    "\n",
    "    array_csplus_simulated = np.load('output/pyro/sliding_wind/k'+str(k)+'_csplus.npy',allow_pickle=True)\n",
    "    array_csminus_simulated = np.load('output/pyro/sliding_wind/k'+str(k)+'_csminus.npy',allow_pickle=True)\n",
    "    total_array_simulated = np.load('output/pyro/sliding_wind/k'+str(k)+'_total.npy',allow_pickle=True)\n",
    "\n",
    "    rating_rational = total_array_simulated\n",
    "    rating_rational = rating_rational[16:]\n",
    "\n",
    "    df_correlation = pd.DataFrame(columns=['subject','pearson'])\n",
    "\n",
    "    for sub in valid_sub:\n",
    "        subj_ = extract_correct_csv.read_correct_subject_csv(sub)\n",
    "        df_sub = pd.read_csv('data/newLookAtMe/newLookAtMe'+subj_+'.csv')\n",
    "        df_sub = df_sub[['shock', 'rating', 'morphing level']]\n",
    "        df_sub['shock'] = df_sub['shock'].astype(int)\n",
    "        df_sub['morphing level'] = [int(d == 6) for d in df_sub['morphing level']]\n",
    "        df_sub['rating'] = df_sub['rating'].replace([1, 2, 3, 4, 5], [0.2, 0.4, 0.6, 0.8, 1])\n",
    "        df_sub_learn = df_sub[16:]\n",
    "        rating_sub = np.array(df_sub_learn['rating'])\n",
    "        bad = ~np.logical_or(np.isnan(rating_sub), np.isnan(rating_rational))\n",
    "        rating_sub_ = np.compress(bad, rating_sub)\n",
    "        rating_rational_ = np.compress(bad, rating_rational)\n",
    "        pearson = round(np.corrcoef(rating_sub_,rating_rational_)[0][1],2)\n",
    "        df_correlation = df_correlation.append({'subject':sub,'pearson':pearson},ignore_index=True)\n",
    "    sias_df = pd.read_csv('data/sias_score.csv').drop(columns='social_anxiety')\n",
    "    sias_df['subject'] = [float(x) for x in sias_df['subject']]\n",
    "\n",
    "    lds_df = pd.read_csv('data/lds_subjects.csv')\n",
    "\n",
    "    lds_df['subject'] = [float(x) for x in lds_df['subject']]\n",
    "    df_corr = df_correlation.join(lds_df, lsuffix='', rsuffix='_other',how='inner').drop(columns='subject_other')\n",
    "    df_corr_ = df_corr.join(sias_df,lsuffix='', rsuffix='_other',how='inner').drop(columns='subject_other')\n",
    "    df_corr_notna = df_corr_[df_corr_['pearson'].notna()]\n",
    "    df_corr_notna = df_corr_notna[df_corr_['lds'].notna()]\n",
    "    df_corr_notna = df_corr_notna[df_corr_['sias_score'].notna()]\n",
    "    lds_ = df_corr_notna.sort_values('lds').reset_index().drop(columns='index')\n",
    "    lower_lds = lds_[:7]\n",
    "    higher_lds = lds_[-7:]\n",
    "\n",
    "    print('\\n\\n--------------- K = '+str(k)+' ---------------')\n",
    "\n",
    "    print('7 subj less lds corr with rational agent:',lower_lds['pearson'].median())\n",
    "    print('7 subj more lds corr with rational agent:',higher_lds['pearson'].median())\n",
    "\n",
    "    sias_ = df_corr_notna.sort_values('sias_score',ascending=True).reset_index().drop(columns='index')\n",
    "    lower_sias = sias_[:7]\n",
    "    sias_ = df_corr_notna.sort_values('sias_score',ascending=False).reset_index().drop(columns='index')\n",
    "    higher_sias= sias_[:7]\n",
    "    print()\n",
    "    print('7 subj less sias corr with rational agent:',lower_sias['pearson'].median())\n",
    "    print('7 subj more sias corr with rational agent:',higher_sias['pearson'].median())"
   ],
   "metadata": {
    "collapsed": false
   }
  },
  {
   "cell_type": "code",
   "execution_count": null,
   "outputs": [],
   "source": [
    "df_corr_notna['sias_score'] = [round(x,2) for x in preprocessing.normalize([df_corr_notna['sias_score']])[0]]\n",
    "df_corr_notna['lds'] = [round(x,2) for x in preprocessing.normalize([df_corr_notna['lds']])[0]]\n",
    "df_corr_notna['pearson'] = [round(x,2) for x in preprocessing.normalize([df_corr_notna['pearson']])[0]]\n"
   ],
   "metadata": {
    "collapsed": false
   }
  },
  {
   "cell_type": "code",
   "execution_count": null,
   "outputs": [],
   "source": [
    "df_corr_notna['subject'] = [int(x) for x in df_corr_notna['subject']]"
   ],
   "metadata": {
    "collapsed": false
   }
  },
  {
   "cell_type": "code",
   "execution_count": null,
   "outputs": [],
   "source": [
    "lds_ = df_corr_notna.sort_values('lds').reset_index().drop(columns='index')\n",
    "lower_lds = lds_[:5]\n",
    "higher_lds = lds_[-5:]"
   ],
   "metadata": {
    "collapsed": false
   }
  },
  {
   "cell_type": "code",
   "execution_count": null,
   "metadata": {},
   "outputs": [],
   "source": [
    "subjects = tuple(df_corr_notna['subject'])"
   ]
  },
  {
   "cell_type": "code",
   "execution_count": null,
   "metadata": {},
   "outputs": [],
   "source": [
    "values = {'pearson':(),'lds':(),'sias':()}\n",
    "for index,row in df_corr_notna.iterrows():\n",
    "    new_p = values['pearson'] + (row['pearson'],)\n",
    "    values.update({'pearson':new_p})\n",
    "    new_l = values['lds'] + (row['lds'],)\n",
    "    values.update({'lds':new_l})\n",
    "    new_s = values['sias'] + (row['sias_score'],)\n",
    "    values.update({'sias':new_s})"
   ]
  },
  {
   "cell_type": "code",
   "execution_count": null,
   "metadata": {},
   "outputs": [],
   "source": [
    "values_no_sias = {'pearson':(),'lds':()}\n",
    "for index,row in df_corr_notna.iterrows():\n",
    "    new_p = values_no_sias['pearson'] + (row['pearson'],)\n",
    "    values_no_sias.update({'pearson':new_p})\n",
    "    new_l = values_no_sias['lds'] + (row['lds'],)\n",
    "    values_no_sias.update({'lds':new_l})"
   ]
  },
  {
   "cell_type": "code",
   "execution_count": null,
   "metadata": {},
   "outputs": [],
   "source": [
    "subjects = tuple(df_corr_notna['subject'])\n",
    "values_no_lds = {'pearson': (), 'sias': ()}\n",
    "for index, row in df_corr_notna.iterrows():\n",
    "    new_p = values_no_lds['pearson'] + (row['pearson'],)\n",
    "    values_no_lds.update({'pearson': new_p})\n",
    "    new_s = values_no_lds['sias'] + (row['sias_score'],)\n",
    "    values_no_lds.update({'sias': new_s})"
   ]
  },
  {
   "cell_type": "code",
   "execution_count": null,
   "metadata": {},
   "outputs": [
    {
     "data": {
      "text/plain": "<Figure size 1500x800 with 1 Axes>",
      "image/png": "[encoded data removed]"
     },
     "metadata": {},
     "output_type": "display_data"
    }
   ],
   "source": [
    "x = np.arange(len(subjects))  # the label locations\n",
    "width = 0.15  # the width of the bars\n",
    "multiplier = 0\n",
    "\n",
    "fig, ax = plt.subplots(figsize=(15,8),constrained_layout=True)\n",
    "\n",
    "for attribute, measurement in values_no_lds.items():\n",
    "    offset = width * multiplier\n",
    "    rects = ax.bar(x + offset, measurement, width, label=attribute)\n",
    "    #ax.bar_label(rects, padding=3)\n",
    "    multiplier += 1\n",
    "\n",
    "# Add some text for labels, title and custom x-axis tick labels, etc.\n",
    "ax.set_ylabel('Length (mm)')\n",
    "ax.set_title('correlation attributes by subjects')\n",
    "ax.set_xticks(x + width, subjects)\n",
    "ax.legend(loc='upper left', ncols=3)\n",
    "\n",
    "plt.show()"
   ]
  },
  {
   "cell_type": "code",
   "execution_count": null,
   "metadata": {},
   "outputs": [
    {
     "data": {
      "text/plain": "<Figure size 1500x800 with 1 Axes>",
      "image/png": "[encoded data removed]"
     },
     "metadata": {},
     "output_type": "display_data"
    }
   ],
   "source": [
    "x = np.arange(len(subjects))  # the label locations\n",
    "width = 0.15  # the width of the bars\n",
    "multiplier = 0\n",
    "\n",
    "fig, ax = plt.subplots(figsize=(15,8),constrained_layout=True)\n",
    "\n",
    "for attribute, measurement in values_no_sias.items():\n",
    "    offset = width * multiplier\n",
    "    rects = ax.bar(x + offset, measurement, width, label=attribute)\n",
    "    #ax.bar_label(rects, padding=3)\n",
    "    multiplier += 1\n",
    "\n",
    "# Add some text for labels, title and custom x-axis tick labels, etc.\n",
    "ax.set_ylabel('Length (mm)')\n",
    "ax.set_title('correlation attributes by subjects')\n",
    "ax.set_xticks(x + width, subjects)\n",
    "ax.legend(loc='upper left', ncols=3)\n",
    "\n",
    "plt.show()"
   ]
  },
  {
   "cell_type": "code",
   "execution_count": null,
   "metadata": {},
   "outputs": [
    {
     "data": {
      "text/plain": "<Figure size 1500x800 with 1 Axes>",
      "image/png": "[encoded data removed]"
     },
     "metadata": {},
     "output_type": "display_data"
    }
   ],
   "source": [
    "x = np.arange(len(subjects))  # the label locations\n",
    "width = 0.15  # the width of the bars\n",
    "multiplier = 0\n",
    "\n",
    "fig, ax = plt.subplots(figsize=(15,8),constrained_layout=True)\n",
    "\n",
    "for attribute, measurement in values.items():\n",
    "    offset = width * multiplier\n",
    "    rects = ax.bar(x + offset, measurement, width, label=attribute)\n",
    "    #ax.bar_label(rects, padding=3)\n",
    "    multiplier += 1\n",
    "\n",
    "# Add some text for labels, title and custom x-axis tick labels, etc.\n",
    "ax.set_ylabel('Length (mm)')\n",
    "ax.set_title('correlation attributes by subjects')\n",
    "ax.set_xticks(x + width, subjects)\n",
    "ax.legend(loc='upper left', ncols=3)\n",
    "\n",
    "plt.show()"
   ]
  },
  {
   "cell_type": "markdown",
   "metadata": {},
   "source": [
    "# rational agent sliding window"
   ]
  },
  {
   "cell_type": "markdown",
   "metadata": {},
   "source": [
    "The idea is to have a rational agent with a limited memory over previous trials.\n",
    "k = param sliding window dimension\n"
   ]
  },
  {
   "cell_type": "code",
   "execution_count": null,
   "metadata": {},
   "outputs": [],
   "source": [
    "import extract_correct_csv\n",
    "valid_sub = extract_correct_csv.extract_only_valid_subject()"
   ]
  },
  {
   "cell_type": "code",
   "execution_count": null,
   "metadata": {},
   "outputs": [
    {
     "name": "stderr",
     "output_type": "stream",
     "text": [
      "/tmp/ipykernel_50788/522845498.py:4: SettingWithCopyWarning: \n",
      "A value is trying to be set on a copy of a slice from a DataFrame.\n",
      "Try using .loc[row_indexer,col_indexer] = value instead\n",
      "\n",
      "See the caveats in the documentation: https://pandas.pydata.org/pandas-docs/stable/user_guide/indexing.html#returning-a-view-versus-a-copy\n",
      "  df_rational['shock'] = df_rational['shock'].astype(int) #setting shock as int instead of boolean\n",
      "/tmp/ipykernel_50788/522845498.py:5: SettingWithCopyWarning: \n",
      "A value is trying to be set on a copy of a slice from a DataFrame.\n",
      "Try using .loc[row_indexer,col_indexer] = value instead\n",
      "\n",
      "See the caveats in the documentation: https://pandas.pydata.org/pandas-docs/stable/user_guide/indexing.html#returning-a-view-versus-a-copy\n",
      "  df_rational['morphing level'] = [int(d==6) for d in df_rational['morphing level']] # if morphing level==6 -> 1\n"
     ]
    }
   ],
   "source": [
    "# read dataset\n",
    "df = pd.read_csv('data/newLookAtMe/newLookAtMe02.csv')\n",
    "df_rational = df[['morphing level', 'shock']]\n",
    "df_rational['shock'] = df_rational['shock'].astype(int) #setting shock as int instead of boolean\n",
    "df_rational['morphing level'] = [int(d==6) for d in df_rational['morphing level']] # if morphing level==6 -> 1"
   ]
  },
  {
   "cell_type": "code",
   "execution_count": null,
   "metadata": {},
   "outputs": [],
   "source": [
    "data_np = df_rational.to_numpy()\n",
    "\n",
    "\n",
    "def counter_window(data, k=0):\n",
    "    N = data.shape[0]\n",
    "    counter = torch.zeros((N,4))\n",
    "    for i in range(len(data)):\n",
    "        dict_ = {'[0 0]':0, '[0 1]': 0, '[1 0]':0, '[1 1]':0}\n",
    "        if k == 0 or k > i:\n",
    "            tmp_data = data[:i+1]\n",
    "        else:\n",
    "            tmp_data = data[i-k:i+1]\n",
    "            #print('im here')\n",
    "        # count occurencies\n",
    "        for x in tmp_data:\n",
    "            dict_[str(x)] += 1\n",
    "        values = np.array(list(dict_.values()))\n",
    "        counter[i] = torch.tensor(values)\n",
    "    return counter"
   ]
  },
  {
   "cell_type": "code",
   "execution_count": null,
   "metadata": {},
   "outputs": [
    {
     "data": {
      "text/plain": "torch.Size([160, 2, 2])"
     },
     "execution_count": 46,
     "metadata": {},
     "output_type": "execute_result"
    }
   ],
   "source": [
    "counter = counter_window(data_np, 3)\n",
    "\n",
    "counter = counter.reshape((len(data_np), 2, 2))\n",
    "counter.shape"
   ]
  },
  {
   "cell_type": "code",
   "execution_count": null,
   "metadata": {},
   "outputs": [
    {
     "name": "stdout",
     "output_type": "stream",
     "text": [
      "observation:  [0 0]\n",
      "probabilities:  [[0.662328   0.33767188]\n",
      " [0.49292728 0.50707275]]\n",
      "observation:  [1 0]\n",
      "probabilities:  [[0.6694433  0.33055627]\n",
      " [0.6712761  0.32872382]]\n",
      "observation:  [1 0]\n",
      "probabilities:  [[0.65302664 0.34697324]\n",
      " [0.78036624 0.21963356]]\n",
      "observation:  [0 0]\n",
      "probabilities:  [[0.7436167  0.2563837 ]\n",
      " [0.76004255 0.2399574 ]]\n",
      "observation:  [0 0]\n",
      "probabilities:  [[0.7432792  0.25672087]\n",
      " [0.7482905  0.25170964]]\n",
      "observation:  [0 0]\n",
      "probabilities:  [[0.80399144 0.19600855]\n",
      " [0.6959044  0.30409557]]\n",
      "observation:  [1 0]\n",
      "probabilities:  [[0.8010759  0.19892392]\n",
      " [0.6719622  0.3280377 ]]\n",
      "observation:  [1 0]\n",
      "probabilities:  [[0.7479752  0.25202492]\n",
      " [0.7363099  0.26369032]]\n",
      "observation:  [0 0]\n",
      "probabilities:  [[0.7585082  0.24149157]\n",
      " [0.7492258  0.25077406]]\n",
      "observation:  [1 0]\n",
      "probabilities:  [[0.6427093  0.35729074]\n",
      " [0.7984205  0.20157923]]\n",
      "observation:  [1 0]\n",
      "probabilities:  [[0.69662166 0.3033785 ]\n",
      " [0.8006772  0.19932285]]\n",
      "observation:  [0 0]\n",
      "probabilities:  [[0.7460777  0.25392237]\n",
      " [0.7738653  0.22613469]]\n",
      "observation:  [1 0]\n",
      "probabilities:  [[0.679009   0.32099092]\n",
      " [0.7876274  0.2123726 ]]\n",
      "observation:  [0 0]\n",
      "probabilities:  [[0.7744493  0.2255512 ]\n",
      " [0.74320644 0.2567934 ]]\n",
      "observation:  [1 0]\n",
      "probabilities:  [[0.7466345  0.25336546]\n",
      " [0.7434778  0.25652218]]\n",
      "observation:  [0 0]\n",
      "probabilities:  [[0.74681556 0.2531844 ]\n",
      " [0.7496388  0.25036088]]\n",
      "observation:  [1 1]\n",
      "probabilities:  [[0.7559317  0.24406837]\n",
      " [0.5026165  0.49738362]]\n",
      "observation:  [0 0]\n",
      "probabilities:  [[0.75535554 0.24464467]\n",
      " [0.52478653 0.47521353]]\n",
      "observation:  [0 0]\n",
      "probabilities:  [[0.79962224 0.20037784]\n",
      " [0.32035413 0.6796463 ]]\n",
      "observation:  [1 1]\n",
      "probabilities:  [[0.74860114 0.25139877]\n",
      " [0.27880785 0.72119176]]\n",
      "observation:  [0 0]\n",
      "probabilities:  [[0.8124406  0.18755935]\n",
      " [0.31904128 0.68095875]]\n",
      "observation:  [1 1]\n",
      "probabilities:  [[0.7619647  0.2380351 ]\n",
      " [0.25367898 0.746321  ]]\n",
      "observation:  [1 1]\n",
      "probabilities:  [[0.6903252  0.30967435]\n",
      " [0.21264619 0.7873539 ]]\n",
      "observation:  [0 0]\n",
      "probabilities:  [[0.7379169  0.2620835 ]\n",
      " [0.23582675 0.7641735 ]]\n",
      "observation:  [1 0]\n",
      "probabilities:  [[0.67272514 0.32727486]\n",
      " [0.41429093 0.5857089 ]]\n",
      "observation:  [1 1]\n",
      "probabilities:  [[0.6708995  0.32910058]\n",
      " [0.40098393 0.5990162 ]]\n",
      "observation:  [0 0]\n",
      "probabilities:  [[0.76235116 0.23764867]\n",
      " [0.50795907 0.49204087]]\n",
      "observation:  [0 0]\n",
      "probabilities:  [[0.7715322  0.22846766]\n",
      " [0.5111714  0.48882884]]\n",
      "observation:  [0 0]\n",
      "probabilities:  [[0.80499357 0.19500682]\n",
      " [0.33430785 0.66569227]]\n",
      "observation:  [0 0]\n",
      "probabilities:  [[0.8355172  0.16448258]\n",
      " [0.47650743 0.5234925 ]]\n",
      "observation:  [1 1]\n",
      "probabilities:  [[0.81276613 0.18723387]\n",
      " [0.30980626 0.6901936 ]]\n",
      "observation:  [1 0]\n",
      "probabilities:  [[0.75836056 0.24163933]\n",
      " [0.52268565 0.4773143 ]]\n",
      "observation:  [0 0]\n",
      "probabilities:  [[0.76499695 0.23500308]\n",
      " [0.5142459  0.48575404]]\n",
      "observation:  [1 1]\n",
      "probabilities:  [[0.6546644  0.34533614]\n",
      " [0.39796457 0.6020352 ]]\n",
      "observation:  [1 1]\n",
      "probabilities:  [[0.6819101 0.3180897]\n",
      " [0.4170128 0.5829873]]\n",
      "observation:  [0 0]\n",
      "probabilities:  [[0.74032164 0.25967866]\n",
      " [0.22702062 0.77297956]]\n",
      "observation:  [1 0]\n",
      "probabilities:  [[0.6659284  0.33407202]\n",
      " [0.39937735 0.6006227 ]]\n",
      "observation:  [0 0]\n",
      "probabilities:  [[0.75172335 0.24827652]\n",
      " [0.51476526 0.48523468]]\n",
      "observation:  [1 1]\n",
      "probabilities:  [[0.7424737  0.25752607]\n",
      " [0.5301237  0.46987626]]\n",
      "observation:  [0 0]\n",
      "probabilities:  [[0.7652243  0.23477572]\n",
      " [0.49046957 0.5095303 ]]\n",
      "observation:  [1 0]\n",
      "probabilities:  [[0.7243374  0.27566287]\n",
      " [0.49056056 0.50943947]]\n",
      "observation:  [0 0]\n",
      "probabilities:  [[0.74969745 0.25030282]\n",
      " [0.51970595 0.48029393]]\n",
      "observation:  [1 1]\n",
      "probabilities:  [[0.74425536 0.25574473]\n",
      " [0.50846833 0.49153167]]\n",
      "observation:  [0 0]\n",
      "probabilities:  [[0.7520109  0.24798904]\n",
      " [0.4939953  0.50600475]]\n",
      "observation:  [1 1]\n",
      "probabilities:  [[0.74705005 0.25294983]\n",
      " [0.26478386 0.7352159 ]]\n",
      "observation:  [0 0]\n",
      "probabilities:  [[0.7404703  0.25952938]\n",
      " [0.24211611 0.7578837 ]]\n",
      "observation:  [1 1]\n",
      "probabilities:  [[0.7388193  0.2611804 ]\n",
      " [0.24301913 0.75698113]]\n",
      "observation:  [0 0]\n",
      "probabilities:  [[0.74889904 0.25110105]\n",
      " [0.25259906 0.74740094]]\n",
      "observation:  [0 0]\n",
      "probabilities:  [[0.8153584  0.18464157]\n",
      " [0.32726112 0.672739  ]]\n",
      "observation:  [1 1]\n",
      "probabilities:  [[0.75621617 0.2437838 ]\n",
      " [0.2381261  0.76187384]]\n",
      "observation:  [0 0]\n",
      "probabilities:  [[0.8066321  0.19336757]\n",
      " [0.3214031  0.6785969 ]]\n",
      "observation:  [0 0]\n",
      "probabilities:  [[0.7979322  0.20206778]\n",
      " [0.3521183  0.6478817 ]]\n",
      "observation:  [1 0]\n",
      "probabilities:  [[0.75310695 0.24689297]\n",
      " [0.5286135  0.47138655]]\n",
      "observation:  [0 0]\n",
      "probabilities:  [[0.80198735 0.19801258]\n",
      " [0.6525959  0.34740373]]\n",
      "observation:  [0 0]\n",
      "probabilities:  [[0.7999343  0.20006555]\n",
      " [0.64340264 0.3565974 ]]\n",
      "observation:  [0 0]\n",
      "probabilities:  [[0.8023247  0.19767553]\n",
      " [0.6935491  0.306451  ]]\n",
      "observation:  [0 0]\n",
      "probabilities:  [[0.8315631  0.16843678]\n",
      " [0.50428945 0.4957105 ]]\n",
      "observation:  [1 1]\n",
      "probabilities:  [[0.79429454 0.20570551]\n",
      " [0.33248946 0.6675103 ]]\n",
      "observation:  [0 0]\n",
      "probabilities:  [[0.8056447  0.1943556 ]\n",
      " [0.34893358 0.65106654]]\n",
      "observation:  [0 0]\n",
      "probabilities:  [[0.7974505  0.20254937]\n",
      " [0.307706   0.69229376]]\n",
      "observation:  [1 0]\n",
      "probabilities:  [[0.7531483  0.24685173]\n",
      " [0.5162422  0.4837578 ]]\n",
      "observation:  [0 0]\n",
      "probabilities:  [[0.77115744 0.22884312]\n",
      " [0.6800888  0.3199116 ]]\n",
      "observation:  [1 0]\n",
      "probabilities:  [[0.73235    0.26764995]\n",
      " [0.76445854 0.23554157]]\n",
      "observation:  [0 0]\n",
      "probabilities:  [[0.74082303 0.25917712]\n",
      " [0.7617446  0.23825566]]\n",
      "observation:  [0 0]\n",
      "probabilities:  [[0.8062163  0.19378358]\n",
      " [0.66239494 0.33760512]]\n",
      "observation:  [1 1]\n",
      "probabilities:  [[0.7351282  0.264872  ]\n",
      " [0.49780634 0.5021936 ]]\n",
      "observation:  [0 0]\n",
      "probabilities:  [[0.7881162  0.21188392]\n",
      " [0.3376861  0.66231376]]\n",
      "observation:  [1 1]\n",
      "probabilities:  [[0.7406723  0.2593281 ]\n",
      " [0.22567958 0.7743206 ]]\n",
      "observation:  [0 0]\n",
      "probabilities:  [[0.74357116 0.25642872]\n",
      " [0.26303098 0.73696923]]\n",
      "observation:  [0 0]\n",
      "probabilities:  [[0.7947477 0.2052527]\n",
      " [0.3436023 0.6563978]]\n",
      "observation:  [1 0]\n",
      "probabilities:  [[0.7413451  0.25865516]\n",
      " [0.5012379  0.498762  ]]\n",
      "observation:  [0 0]\n",
      "probabilities:  [[0.7997648  0.20023493]\n",
      " [0.65088016 0.34911996]]\n",
      "observation:  [0 0]\n",
      "probabilities:  [[0.7982878  0.20171203]\n",
      " [0.6944754  0.30552468]]\n",
      "observation:  [0 0]\n",
      "probabilities:  [[0.8173866  0.18261316]\n",
      " [0.6835766  0.31642333]]\n",
      "observation:  [0 0]\n",
      "probabilities:  [[0.84049666 0.15950343]\n",
      " [0.49768874 0.5023112 ]]\n",
      "observation:  [0 0]\n",
      "probabilities:  [[0.8438744  0.15612525]\n",
      " [0.48713914 0.5128608 ]]\n",
      "observation:  [0 0]\n",
      "probabilities:  [[0.83659434 0.16340545]\n",
      " [0.49287888 0.50712115]]\n",
      "observation:  [0 0]\n",
      "probabilities:  [[0.8271885  0.17281182]\n",
      " [0.5124302  0.48756978]]\n",
      "observation:  [0 0]\n",
      "probabilities:  [[0.8284813  0.17151882]\n",
      " [0.52932376 0.47067606]]\n",
      "observation:  [0 0]\n",
      "probabilities:  [[0.8422819  0.15771821]\n",
      " [0.51520926 0.48479074]]\n",
      "observation:  [1 1]\n",
      "probabilities:  [[0.80450577 0.19549455]\n",
      " [0.35227907 0.6477212 ]]\n",
      "observation:  [0 0]\n",
      "probabilities:  [[0.79110473 0.20889544]\n",
      " [0.35958922 0.6404109 ]]\n",
      "observation:  [0 0]\n",
      "probabilities:  [[0.7979154 0.2020845]\n",
      " [0.32622   0.67378  ]]\n",
      "observation:  [1 0]\n",
      "probabilities:  [[0.7492937  0.2507061 ]\n",
      " [0.50041014 0.4995898 ]]\n",
      "observation:  [0 0]\n",
      "probabilities:  [[0.79017437 0.20982593]\n",
      " [0.6767066  0.3232931 ]]\n",
      "observation:  [0 0]\n",
      "probabilities:  [[0.8056521  0.19434814]\n",
      " [0.68934757 0.3106526 ]]\n",
      "observation:  [1 1]\n",
      "probabilities:  [[0.73560333 0.26439673]\n",
      " [0.4865917  0.51340836]]\n",
      "observation:  [1 0]\n",
      "probabilities:  [[0.7703914  0.22960839]\n",
      " [0.48806214 0.51193774]]\n",
      "observation:  [0 0]\n",
      "probabilities:  [[0.7489982  0.25100195]\n",
      " [0.49257386 0.50742614]]\n",
      "observation:  [0 0]\n",
      "probabilities:  [[0.7652098  0.23479007]\n",
      " [0.529262   0.4707379 ]]\n",
      "observation:  [0 0]\n",
      "probabilities:  [[0.7982458  0.20175435]\n",
      " [0.6663935  0.33360666]]\n",
      "observation:  [0 0]\n",
      "probabilities:  [[0.8250374  0.17496268]\n",
      " [0.4923043  0.50769573]]\n",
      "observation:  [1 0]\n",
      "probabilities:  [[0.8018109  0.19818953]\n",
      " [0.65911645 0.34088364]]\n",
      "observation:  [0 0]\n",
      "probabilities:  [[0.798491  0.201509 ]\n",
      " [0.6680564 0.3319436]]\n",
      "observation:  [0 0]\n",
      "probabilities:  [[0.795326   0.20467414]\n",
      " [0.6429608  0.35703915]]\n",
      "observation:  [1 1]\n",
      "probabilities:  [[0.7352831  0.26471692]\n",
      " [0.50116795 0.49883205]]\n",
      "observation:  [0 0]\n",
      "probabilities:  [[0.8010144  0.19898583]\n",
      " [0.30209902 0.6979011 ]]\n",
      "observation:  [0 0]\n",
      "probabilities:  [[0.81424135 0.18575865]\n",
      " [0.3319931  0.668007  ]]\n",
      "observation:  [1 0]\n",
      "probabilities:  [[0.73468333 0.2653167 ]\n",
      " [0.50676054 0.4932395 ]]\n",
      "observation:  [0 0]\n",
      "probabilities:  [[0.79631513 0.20368516]\n",
      " [0.64983636 0.35016355]]\n",
      "observation:  [1 1]\n",
      "probabilities:  [[0.75217384 0.24782601]\n",
      " [0.51377845 0.48622158]]\n",
      "observation:  [0 0]\n",
      "probabilities:  [[0.7325853  0.26741484]\n",
      " [0.50504136 0.4949586 ]]\n",
      "observation:  [0 0]\n",
      "probabilities:  [[0.7825807  0.21741928]\n",
      " [0.3475802  0.65241975]]\n",
      "observation:  [0 0]\n",
      "probabilities:  [[0.79014635 0.2098539 ]\n",
      " [0.31161615 0.68838376]]\n",
      "observation:  [0 0]\n",
      "probabilities:  [[0.8147876  0.18521205]\n",
      " [0.50911236 0.49088764]]\n",
      "observation:  [1 0]\n",
      "probabilities:  [[0.7900405  0.2099596 ]\n",
      " [0.67440045 0.32559958]]\n",
      "observation:  [0 0]\n",
      "probabilities:  [[0.80538714 0.19461265]\n",
      " [0.67089933 0.32910055]]\n",
      "observation:  [1 1]\n",
      "probabilities:  [[0.7404341  0.25956586]\n",
      " [0.5175769  0.48242316]]\n",
      "observation:  [0 0]\n",
      "probabilities:  [[0.7483188  0.25168136]\n",
      " [0.49807292 0.5019271 ]]\n",
      "observation:  [0 0]\n",
      "probabilities:  [[0.7967129  0.20328702]\n",
      " [0.33672455 0.6632755 ]]\n",
      "observation:  [0 0]\n",
      "probabilities:  [[0.8083613  0.19163868]\n",
      " [0.33444774 0.6655524 ]]\n",
      "observation:  [1 0]\n",
      "probabilities:  [[0.8102616  0.18973829]\n",
      " [0.6647081  0.3352916 ]]\n",
      "observation:  [0 0]\n",
      "probabilities:  [[0.8095993  0.19040054]\n",
      " [0.6408748  0.35912505]]\n",
      "observation:  [0 0]\n",
      "probabilities:  [[0.8007815  0.19921888]\n",
      " [0.661482   0.33851817]]\n",
      "observation:  [0 0]\n",
      "probabilities:  [[0.7990569  0.20094323]\n",
      " [0.6701653  0.32983458]]\n",
      "observation:  [1 1]\n",
      "probabilities:  [[0.79897237 0.20102765]\n",
      " [0.33735025 0.6626498 ]]\n",
      "observation:  [0 0]\n",
      "probabilities:  [[0.8057398  0.19426022]\n",
      " [0.3336543  0.66634566]]\n",
      "observation:  [0 0]\n",
      "probabilities:  [[0.8098272  0.1901725 ]\n",
      " [0.33756593 0.66243416]]\n",
      "observation:  [0 0]\n",
      "probabilities:  [[0.81788135 0.18211892]\n",
      " [0.31945497 0.68054515]]\n",
      "observation:  [0 0]\n",
      "probabilities:  [[0.8418268  0.15817326]\n",
      " [0.4785547  0.5214453 ]]\n",
      "observation:  [0 0]\n",
      "probabilities:  [[0.84069043 0.15930961]\n",
      " [0.49316534 0.5068347 ]]\n",
      "observation:  [1 0]\n",
      "probabilities:  [[0.82497764 0.17502245]\n",
      " [0.6790564  0.32094347]]\n",
      "observation:  [0 0]\n",
      "probabilities:  [[0.8006389  0.19936082]\n",
      " [0.63993925 0.3600609 ]]\n",
      "observation:  [1 1]\n",
      "probabilities:  [[0.7501971  0.24980314]\n",
      " [0.504453   0.49554703]]\n",
      "observation:  [0 0]\n",
      "probabilities:  [[0.76617235 0.2338273 ]\n",
      " [0.499079   0.500921  ]]\n",
      "observation:  [0 0]\n",
      "probabilities:  [[0.80852115 0.19147906]\n",
      " [0.34145358 0.65854657]]\n",
      "observation:  [0 0]\n",
      "probabilities:  [[0.8056616  0.19433843]\n",
      " [0.32848418 0.67151606]]\n",
      "observation:  [0 0]\n",
      "probabilities:  [[0.82086855 0.17913146]\n",
      " [0.49877346 0.5012266 ]]\n",
      "observation:  [1 1]\n",
      "probabilities:  [[0.7922362  0.20776363]\n",
      " [0.35626647 0.64373374]]\n",
      "observation:  [1 0]\n",
      "probabilities:  [[0.7564314  0.24356852]\n",
      " [0.49937785 0.50062203]]\n",
      "observation:  [0 0]\n",
      "probabilities:  [[0.76789737 0.23210235]\n",
      " [0.48905376 0.5109463 ]]\n",
      "observation:  [0 0]\n",
      "probabilities:  [[0.7444954  0.2555049 ]\n",
      " [0.50751185 0.4924881 ]]\n",
      "observation:  [1 0]\n",
      "probabilities:  [[0.7406421  0.25935808]\n",
      " [0.74633306 0.25366655]]\n",
      "observation:  [0 0]\n",
      "probabilities:  [[0.80612636 0.19387347]\n",
      " [0.6684849  0.33151487]]\n",
      "observation:  [0 0]\n",
      "probabilities:  [[0.81061083 0.18938932]\n",
      " [0.6793506  0.32064915]]\n",
      "observation:  [0 0]\n",
      "probabilities:  [[0.8187711  0.18122886]\n",
      " [0.68215895 0.31784052]]\n",
      "observation:  [1 0]\n",
      "probabilities:  [[0.7941519  0.20584802]\n",
      " [0.6746922  0.32530758]]\n",
      "observation:  [1 1]\n",
      "probabilities:  [[0.7160192  0.28398058]\n",
      " [0.4987023  0.5012978 ]]\n",
      "observation:  [0 0]\n",
      "probabilities:  [[0.75289273 0.24710698]\n",
      " [0.49915442 0.5008456 ]]\n",
      "observation:  [0 0]\n",
      "probabilities:  [[0.76391435 0.23608564]\n",
      " [0.4953658  0.50463426]]\n",
      "observation:  [0 0]\n",
      "probabilities:  [[0.7939776  0.2060223 ]\n",
      " [0.31642732 0.6835723 ]]\n",
      "observation:  [0 0]\n",
      "probabilities:  [[0.8361443  0.16385563]\n",
      " [0.52422833 0.47577158]]\n",
      "observation:  [1 1]\n",
      "probabilities:  [[0.79385465 0.20614544]\n",
      " [0.33031854 0.66968155]]\n",
      "observation:  [0 0]\n",
      "probabilities:  [[0.7978394  0.20216045]\n",
      " [0.33013588 0.6698641 ]]\n",
      "observation:  [0 0]\n",
      "probabilities:  [[0.7970423  0.2029576 ]\n",
      " [0.33957374 0.6604262 ]]\n",
      "observation:  [1 1]\n",
      "probabilities:  [[0.7696157  0.23038426]\n",
      " [0.23968379 0.76031643]]\n",
      "observation:  [0 0]\n",
      "probabilities:  [[0.79203403 0.20796584]\n",
      " [0.34333742 0.65666264]]\n",
      "observation:  [0 0]\n",
      "probabilities:  [[0.78739524 0.21260488]\n",
      " [0.35995615 0.64004374]]\n",
      "observation:  [0 0]\n",
      "probabilities:  [[0.8079146  0.1920852 ]\n",
      " [0.32891336 0.6710865 ]]\n",
      "observation:  [0 0]\n",
      "probabilities:  [[0.8481357  0.1518647 ]\n",
      " [0.47768986 0.5223102 ]]\n",
      "observation:  [1 1]\n",
      "probabilities:  [[0.8087306  0.19126931]\n",
      " [0.31601897 0.6839809 ]]\n",
      "observation:  [0 0]\n",
      "probabilities:  [[0.8156591  0.18434094]\n",
      " [0.32783237 0.67216766]]\n",
      "observation:  [0 0]\n",
      "probabilities:  [[0.8017699  0.19823028]\n",
      " [0.31231275 0.68768716]]\n",
      "observation:  [1 0]\n",
      "probabilities:  [[0.7579069  0.242093  ]\n",
      " [0.5124628  0.48753732]]\n",
      "observation:  [0 0]\n",
      "probabilities:  [[0.80238026 0.19761957]\n",
      " [0.65851086 0.34148934]]\n",
      "observation:  [0 0]\n",
      "probabilities:  [[0.7892747  0.21072556]\n",
      " [0.6974291  0.30257085]]\n",
      "observation:  [0 0]\n",
      "probabilities:  [[0.7911264  0.20887356]\n",
      " [0.66398776 0.33601227]]\n",
      "observation:  [0 0]\n",
      "probabilities:  [[0.84660524 0.15339483]\n",
      " [0.48704138 0.5129587 ]]\n",
      "observation:  [0 0]\n",
      "probabilities:  [[0.8395857  0.16041408]\n",
      " [0.48888677 0.5111131 ]]\n",
      "observation:  [1 0]\n",
      "probabilities:  [[0.7962853  0.20371485]\n",
      " [0.6849017  0.31509846]]\n"
     ]
    }
   ],
   "source": [
    "# categorical/multinomial distribution\n",
    "\n",
    "# uniform prior\n",
    "prior_counts = torch.ones((2,2))\n",
    "\n",
    "\n",
    "#model\n",
    "def model(data):\n",
    "    prior = pyro.sample(\"prior\", dist.Dirichlet(prior_counts))\n",
    "    total_counts = int(data.sum())\n",
    "    pyro.sample(\"likelihood\", dist.Multinomial(total_counts, prior), obs=data)\n",
    "\n",
    "\n",
    "nuts_kernel = NUTS(model)\n",
    "num_samples, warmup_steps = (300, 200)\n",
    "\n",
    "mcmc = MCMC(nuts_kernel, num_samples=num_samples, warmup_steps=warmup_steps, disable_progbar=True)\n",
    "all_means = []\n",
    "\n",
    "# sampling\n",
    "for i in range(len(counter)):\n",
    "    mcmc.run(counter[i])\n",
    "    hmc_samples = {k: v.detach().cpu().numpy()\n",
    "                   for k, v in mcmc.get_samples().items()}\n",
    "    means = hmc_samples['prior'].mean(axis=0)\n",
    "    stds = hmc_samples['prior'].std(axis=0)\n",
    "    print('observation: ', data_np[i])\n",
    "    print('probabilities: ', means)\n",
    "    all_means.append(means)"
   ]
  },
  {
   "cell_type": "code",
   "execution_count": null,
   "metadata": {},
   "outputs": [],
   "source": []
  },
  {
   "cell_type": "markdown",
   "metadata": {},
   "source": [
    "## Deep Markov model\n",
    "\n",
    "![example](https://pyro.ai/examples/_static/img/model.png)"
   ]
  },
  {
   "cell_type": "code",
   "execution_count": null,
   "metadata": {},
   "outputs": [
    {
     "ename": "ModuleNotFoundError",
     "evalue": "No module named 'torchvision'",
     "output_type": "error",
     "traceback": [
      "\u001B[0;31m---------------------------------------------------------------------------\u001B[0m",
      "\u001B[0;31mModuleNotFoundError\u001B[0m                       Traceback (most recent call last)",
      "Cell \u001B[0;32mIn [48], line 9\u001B[0m\n\u001B[1;32m      7\u001B[0m \u001B[38;5;28;01mimport\u001B[39;00m \u001B[38;5;21;01mtorch\u001B[39;00m\u001B[38;5;21;01m.\u001B[39;00m\u001B[38;5;21;01mnn\u001B[39;00m \u001B[38;5;28;01mas\u001B[39;00m \u001B[38;5;21;01mnn\u001B[39;00m\n\u001B[1;32m      8\u001B[0m \u001B[38;5;28;01mimport\u001B[39;00m \u001B[38;5;21;01mpyro\u001B[39;00m\n\u001B[0;32m----> 9\u001B[0m \u001B[38;5;28;01mimport\u001B[39;00m \u001B[38;5;21;01mpyro\u001B[39;00m\u001B[38;5;21;01m.\u001B[39;00m\u001B[38;5;21;01mcontrib\u001B[39;00m\u001B[38;5;21;01m.\u001B[39;00m\u001B[38;5;21;01mexamples\u001B[39;00m\u001B[38;5;21;01m.\u001B[39;00m\u001B[38;5;21;01mpolyphonic_data_loader\u001B[39;00m \u001B[38;5;28;01mas\u001B[39;00m \u001B[38;5;21;01mpoly\u001B[39;00m\n\u001B[1;32m     10\u001B[0m \u001B[38;5;28;01mimport\u001B[39;00m \u001B[38;5;21;01mpyro\u001B[39;00m\u001B[38;5;21;01m.\u001B[39;00m\u001B[38;5;21;01mdistributions\u001B[39;00m \u001B[38;5;28;01mas\u001B[39;00m \u001B[38;5;21;01mdist\u001B[39;00m\n\u001B[1;32m     11\u001B[0m \u001B[38;5;28;01mimport\u001B[39;00m \u001B[38;5;21;01mpyro\u001B[39;00m\u001B[38;5;21;01m.\u001B[39;00m\u001B[38;5;21;01mpoutine\u001B[39;00m \u001B[38;5;28;01mas\u001B[39;00m \u001B[38;5;21;01mpoutine\u001B[39;00m\n",
      "File \u001B[0;32m~/matteo/matteo/unimi/tesi_master/code/my_env/lib/python3.8/site-packages/pyro/contrib/examples/polyphonic_data_loader.py:28\u001B[0m\n\u001B[1;32m     25\u001B[0m \u001B[38;5;28;01mimport\u001B[39;00m \u001B[38;5;21;01mtorch\u001B[39;00m\u001B[38;5;21;01m.\u001B[39;00m\u001B[38;5;21;01mnn\u001B[39;00m \u001B[38;5;28;01mas\u001B[39;00m \u001B[38;5;21;01mnn\u001B[39;00m\n\u001B[1;32m     26\u001B[0m \u001B[38;5;28;01mfrom\u001B[39;00m \u001B[38;5;21;01mtorch\u001B[39;00m\u001B[38;5;21;01m.\u001B[39;00m\u001B[38;5;21;01mnn\u001B[39;00m\u001B[38;5;21;01m.\u001B[39;00m\u001B[38;5;21;01mutils\u001B[39;00m\u001B[38;5;21;01m.\u001B[39;00m\u001B[38;5;21;01mrnn\u001B[39;00m \u001B[38;5;28;01mimport\u001B[39;00m pad_sequence\n\u001B[0;32m---> 28\u001B[0m \u001B[38;5;28;01mfrom\u001B[39;00m \u001B[38;5;21;01mpyro\u001B[39;00m\u001B[38;5;21;01m.\u001B[39;00m\u001B[38;5;21;01mcontrib\u001B[39;00m\u001B[38;5;21;01m.\u001B[39;00m\u001B[38;5;21;01mexamples\u001B[39;00m\u001B[38;5;21;01m.\u001B[39;00m\u001B[38;5;21;01mutil\u001B[39;00m \u001B[38;5;28;01mimport\u001B[39;00m get_data_directory\n\u001B[1;32m     30\u001B[0m dset \u001B[38;5;241m=\u001B[39m namedtuple(\u001B[38;5;124m\"\u001B[39m\u001B[38;5;124mdset\u001B[39m\u001B[38;5;124m\"\u001B[39m, [\u001B[38;5;124m\"\u001B[39m\u001B[38;5;124mname\u001B[39m\u001B[38;5;124m\"\u001B[39m, \u001B[38;5;124m\"\u001B[39m\u001B[38;5;124murl\u001B[39m\u001B[38;5;124m\"\u001B[39m, \u001B[38;5;124m\"\u001B[39m\u001B[38;5;124mfilename\u001B[39m\u001B[38;5;124m\"\u001B[39m])\n\u001B[1;32m     32\u001B[0m JSB_CHORALES \u001B[38;5;241m=\u001B[39m dset(\n\u001B[1;32m     33\u001B[0m     \u001B[38;5;124m\"\u001B[39m\u001B[38;5;124mjsb_chorales\u001B[39m\u001B[38;5;124m\"\u001B[39m,\n\u001B[1;32m     34\u001B[0m     \u001B[38;5;124m\"\u001B[39m\u001B[38;5;124mhttps://d2hg8soec8ck9v.cloudfront.net/datasets/polyphonic/jsb_chorales.pickle\u001B[39m\u001B[38;5;124m\"\u001B[39m,\n\u001B[1;32m     35\u001B[0m     \u001B[38;5;124m\"\u001B[39m\u001B[38;5;124mjsb_chorales.pkl\u001B[39m\u001B[38;5;124m\"\u001B[39m,\n\u001B[1;32m     36\u001B[0m )\n",
      "File \u001B[0;32m~/matteo/matteo/unimi/tesi_master/code/my_env/lib/python3.8/site-packages/pyro/contrib/examples/util.py:7\u001B[0m\n\u001B[1;32m      4\u001B[0m \u001B[38;5;28;01mimport\u001B[39;00m \u001B[38;5;21;01mos\u001B[39;00m\n\u001B[1;32m      5\u001B[0m \u001B[38;5;28;01mimport\u001B[39;00m \u001B[38;5;21;01msys\u001B[39;00m\n\u001B[0;32m----> 7\u001B[0m \u001B[38;5;28;01mimport\u001B[39;00m \u001B[38;5;21;01mtorchvision\u001B[39;00m\u001B[38;5;21;01m.\u001B[39;00m\u001B[38;5;21;01mdatasets\u001B[39;00m \u001B[38;5;28;01mas\u001B[39;00m \u001B[38;5;21;01mdatasets\u001B[39;00m\n\u001B[1;32m      8\u001B[0m \u001B[38;5;28;01mfrom\u001B[39;00m \u001B[38;5;21;01mtorch\u001B[39;00m\u001B[38;5;21;01m.\u001B[39;00m\u001B[38;5;21;01mutils\u001B[39;00m\u001B[38;5;21;01m.\u001B[39;00m\u001B[38;5;21;01mdata\u001B[39;00m \u001B[38;5;28;01mimport\u001B[39;00m DataLoader\n\u001B[1;32m      9\u001B[0m \u001B[38;5;28;01mfrom\u001B[39;00m \u001B[38;5;21;01mtorchvision\u001B[39;00m \u001B[38;5;28;01mimport\u001B[39;00m transforms\n",
      "\u001B[0;31mModuleNotFoundError\u001B[0m: No module named 'torchvision'"
     ]
    }
   ],
   "source": [
    "import argparse\n",
    "import logging\n",
    "import time\n",
    "from os.path import exists\n",
    "import numpy as np\n",
    "import torch\n",
    "import torch.nn as nn\n",
    "import pyro\n",
    "import pyro.contrib.examples.polyphonic_data_loader as poly\n",
    "import pyro.distributions as dist\n",
    "import pyro.poutine as poutine\n",
    "from pyro.distributions import TransformedDistribution\n",
    "from pyro.distributions.transforms import affine_autoregressive\n",
    "from pyro.infer import (\n",
    "    SVI,\n",
    "    JitTrace_ELBO,\n",
    "    Trace_ELBO,\n",
    "    TraceEnum_ELBO,\n",
    "    TraceTMC_ELBO,\n",
    "    config_enumerate,\n",
    ")\n",
    "from pyro.optim import ClippedAdam"
   ]
  },
  {
   "cell_type": "code",
   "execution_count": null,
   "metadata": {},
   "outputs": [],
   "source": [
    "# emission function (Emit in the figure)\n",
    "class Emitter(nn.Module):\n",
    "    \"\"\"\n",
    "    Parameterizes the bernoulli observation likelihood p(x_t|z_t)\n",
    "\n",
    "    \"\"\"\n",
    "    def __init__(self, input_dim, z_dim, emission_dim):\n",
    "        super().__init__()\n",
    "        # emission_dim is the number of hidden units in the neural network\n",
    "        # three linear transformations used in the neural network\n",
    "        self.lin_z_to_hidden = nn.Linear(z_dim, emission_dim)\n",
    "        self.lin_hidden_to_hidden = nn.Linear(emission_dim, emission_dim)\n",
    "        self.lin_hidden_to_input = nn.Linear(emission_dim, input_dim)\n",
    "        # two non linear used in the neural network\n",
    "        self.relu = nn.ReLU()\n",
    "        self.sigmoid = nn.Sigmoid()\n",
    "\n",
    "    def forward(self, z_t):\n",
    "        \"\"\"\n",
    "        Given the latent z at a particular time step t, we return the vector of probabilities 'ps' that parametrizes the bernoulli distribution p(x_t|z_t)\n",
    "        Taken together the elements of ps encode which notes we expect to observe at time t given the state of the system (as encoded in z_t).\n",
    "        \"\"\"\n",
    "        h1 = self.relu(self.lin_z_to_hidden(z_t))\n",
    "        h2 = self.relu(self.lin_hidden_to_hidden(h1))\n",
    "        ps = self.sigmoid(self.lin_hidden_to_input(h2))\n",
    "        return ps"
   ]
  },
  {
   "cell_type": "code",
   "execution_count": null,
   "metadata": {},
   "outputs": [],
   "source": [
    "# gated transition (Trans in the figure above)\n",
    "class GatedTransition(nn.Module):\n",
    "    \"\"\"\n",
    "    Parameterizes the gaussian latent transition probability p(z_t | z_{t-1})\n",
    "    \"\"\"\n",
    "    def __init__(self, z_dim, transition_dim):\n",
    "        super().__init__()\n",
    "        # six linear transform\n",
    "        self.lin_gate_z_to_hidden = nn.Linear(z_dim, transition_dim)\n",
    "        self.lin_gate_hidden_to_z = nn.Linear(transition_dim, z_dim)\n",
    "        self.lin_proposed_mean_z_to_hidden = nn.Linear(z_dim, transition_dim)\n",
    "        self.lin_proposed_mean_hidden_to_z = nn.Linear(transition_dim, z_dim)\n",
    "        self.lin_sig = nn.Linear(z_dim, z_dim)\n",
    "        self.lin_z_to_loc = nn.Linear(z_dim, z_dim)\n",
    "\n",
    "        # modify the default initialization of lin_z_to_loc\n",
    "        # so that it's starts out as the IDENTITY FUNCTION\n",
    "        self.lin_z_to_loc.weight.data = torch.eye(z_dim)\n",
    "        self.lin_z_to_loc.bias.data = torch.zeros(z_dim)\n",
    "\n",
    "        # three non linear\n",
    "        self.relu = nn.ReLU()\n",
    "        self.sigmoid = nn.Sigmoid()\n",
    "        self.softplus = nn.Softplus()\n",
    "\n",
    "\n",
    "    def forward(self, z_t_1):\n",
    "        \"\"\"\n",
    "        Given the latent z_{t-1} corresponding to the time step t-1 we return the mean and scale vectors that parameterize the\n",
    "        (diagonal) gaussian distribution p(z_t | z_{t-1})\n",
    "        \"\"\"\n",
    "        # compute the gating function\n",
    "        _gate = self.relu(self.lin_gate_z_to_hidden(z_t_1))\n",
    "        gate = self.sigmoid(self.lin_gate_hidden_to_z(_gate))\n",
    "\n",
    "        # compute the 'proposed mean'\n",
    "        _proposed_mean = self.relu(self.lin_proposed_mean_z_to_hidden(z_t_1))\n",
    "        proposed_mean = self.lin_proposed_mean_hidden_to_z(_proposed_mean)\n",
    "\n",
    "        # assemble the actual mean used to sample z_t, which mixes a linear transformation of z_{t-1} with the proposed mean\n",
    "        # modulated by the gating function\n",
    "        loc = (1 - gate) * self.lin_z_to_loc(z_t_1) + gate * proposed_mean\n",
    "\n",
    "        # compute the scale used to sample z_t, using the proposed\n",
    "        # mean from above as input. the softplus ensures that scale is positive\n",
    "        scale = self.softplus(self.lin_sig(self.relu(proposed_mean)))\n",
    "\n",
    "        # return loc, scale which can be fed into Normal (mean and covariance of our Gaussian)\n",
    "        return loc, scale"
   ]
  },
  {
   "cell_type": "code",
   "execution_count": null,
   "metadata": {},
   "outputs": [],
   "source": [
    "# simple model (not working)\n",
    "def model(...):\n",
    "    # initializer\n",
    "    z_prev = self.z_0\n",
    "\n",
    "    # sample the latents z and observed x's one time step at a time\n",
    "    for t in range(1, T_max + 1):\n",
    "        # the next two lines of code sample z_t ~ p(z_t | z_{t-1}).\n",
    "        # first compute the parameters of the diagonal gaussian\n",
    "        # distribution p(z_t | z_{t-1})\n",
    "        z_loc, z_scale = self.trans(z_prev)\n",
    "        # then sample z_t according to dist.Normal(z_loc, z_scale)\n",
    "        z_t = pyro.sample(\"z_%d\" % t, dist.Normal(z_loc, z_scale))\n",
    "\n",
    "        # compute the probabilities that parameterize the bernoulli likelihood\n",
    "        emission_probs_t = self.emitter(z_t)\n",
    "        # the next statement instructs pyro to observe x_t according to the\n",
    "        # bernoulli distribution p(x_t|z_t)\n",
    "        pyro.sample(\"obs_x_%d\" % t,\n",
    "                    dist.Bernoulli(emission_probs_t),\n",
    "                    obs=mini_batch[:, t - 1, :])\n",
    "        # the latent sampled at this time step will be conditioned upon\n",
    "        # in the next time step so keep track of it\n",
    "        z_prev = z_t"
   ]
  },
  {
   "cell_type": "markdown",
   "metadata": {},
   "source": [
    "### Agent example\n",
    "\n",
    "To define a hidden Markov Model (HMM) for this scenario, we need to identify the key components of an HMM:\n",
    "1.\tStates: In our case, the state is whether the agent is in a shocked state or not. We will use 0 to represent a non-shocked state and 1 to represent a shocked state.\n",
    "2.\tObservations: The observation is whether the agent sees an aggressive or non-aggressive image. We will use 0 to represent a non-aggressive image and 1 to represent an aggressive image.\n",
    "3.\tTransition probabilities: The transition probabilities determine the probability of moving from one state to another. In our case, the transition probabilities will depend on the current state and the shock received. Specifically, if the agent is in a non-shocked state and receives a shock, there is a high probability of transitioning to the shocked state. Conversely, if the agent is in the shocked state and does not receive a shock, there is a high probability of transitioning to the non-shocked state.\n",
    "4.\tEmission probabilities: The emission probabilities determine the probability of observing a particular image given the current state. In our case, the emission probabilities will depend on the current state. Specifically, if the agent is in the non-shocked state, there is a high probability of observing a non-aggressive image, and if the agent is in the shocked state, there is a high probability of observing an aggressive image."
   ]
  },
  {
   "cell_type": "code",
   "execution_count": 49,
   "metadata": {},
   "outputs": [
    {
     "ename": "TypeError",
     "evalue": "model() takes 3 positional arguments but 5 were given",
     "output_type": "error",
     "traceback": [
      "\u001B[0;31m---------------------------------------------------------------------------\u001B[0m",
      "\u001B[0;31mTypeError\u001B[0m                                 Traceback (most recent call last)",
      "Cell \u001B[0;32mIn [49], line 46\u001B[0m\n\u001B[1;32m     44\u001B[0m \u001B[38;5;28;01mfor\u001B[39;00m i \u001B[38;5;129;01min\u001B[39;00m \u001B[38;5;28mrange\u001B[39m(\u001B[38;5;241m1000\u001B[39m):\n\u001B[1;32m     45\u001B[0m     states, emissions \u001B[38;5;241m=\u001B[39m model(stimuli, shock, initial_state)\n\u001B[0;32m---> 46\u001B[0m     loss \u001B[38;5;241m=\u001B[39m svi\u001B[38;5;241m.\u001B[39mstep(stimuli, shock, initial_state, states, emissions)\n\u001B[1;32m     47\u001B[0m     \u001B[38;5;28;01mif\u001B[39;00m i \u001B[38;5;241m%\u001B[39m \u001B[38;5;241m100\u001B[39m \u001B[38;5;241m==\u001B[39m \u001B[38;5;241m0\u001B[39m:\n\u001B[1;32m     48\u001B[0m         \u001B[38;5;28mprint\u001B[39m(\u001B[38;5;124m\"\u001B[39m\u001B[38;5;124mstep \u001B[39m\u001B[38;5;132;01m{}\u001B[39;00m\u001B[38;5;124m: loss = \u001B[39m\u001B[38;5;132;01m{}\u001B[39;00m\u001B[38;5;124m\"\u001B[39m\u001B[38;5;241m.\u001B[39mformat(i, loss))\n",
      "File \u001B[0;32m~/matteo/matteo/unimi/tesi_master/code/my_env/lib/python3.8/site-packages/pyro/infer/svi.py:145\u001B[0m, in \u001B[0;36mSVI.step\u001B[0;34m(self, *args, **kwargs)\u001B[0m\n\u001B[1;32m    143\u001B[0m \u001B[38;5;66;03m# get loss and compute gradients\u001B[39;00m\n\u001B[1;32m    144\u001B[0m \u001B[38;5;28;01mwith\u001B[39;00m poutine\u001B[38;5;241m.\u001B[39mtrace(param_only\u001B[38;5;241m=\u001B[39m\u001B[38;5;28;01mTrue\u001B[39;00m) \u001B[38;5;28;01mas\u001B[39;00m param_capture:\n\u001B[0;32m--> 145\u001B[0m     loss \u001B[38;5;241m=\u001B[39m \u001B[38;5;28;43mself\u001B[39;49m\u001B[38;5;241;43m.\u001B[39;49m\u001B[43mloss_and_grads\u001B[49m\u001B[43m(\u001B[49m\u001B[38;5;28;43mself\u001B[39;49m\u001B[38;5;241;43m.\u001B[39;49m\u001B[43mmodel\u001B[49m\u001B[43m,\u001B[49m\u001B[43m \u001B[49m\u001B[38;5;28;43mself\u001B[39;49m\u001B[38;5;241;43m.\u001B[39;49m\u001B[43mguide\u001B[49m\u001B[43m,\u001B[49m\u001B[43m \u001B[49m\u001B[38;5;241;43m*\u001B[39;49m\u001B[43margs\u001B[49m\u001B[43m,\u001B[49m\u001B[43m \u001B[49m\u001B[38;5;241;43m*\u001B[39;49m\u001B[38;5;241;43m*\u001B[39;49m\u001B[43mkwargs\u001B[49m\u001B[43m)\u001B[49m\n\u001B[1;32m    147\u001B[0m params \u001B[38;5;241m=\u001B[39m \u001B[38;5;28mset\u001B[39m(\n\u001B[1;32m    148\u001B[0m     site[\u001B[38;5;124m\"\u001B[39m\u001B[38;5;124mvalue\u001B[39m\u001B[38;5;124m\"\u001B[39m]\u001B[38;5;241m.\u001B[39munconstrained() \u001B[38;5;28;01mfor\u001B[39;00m site \u001B[38;5;129;01min\u001B[39;00m param_capture\u001B[38;5;241m.\u001B[39mtrace\u001B[38;5;241m.\u001B[39mnodes\u001B[38;5;241m.\u001B[39mvalues()\n\u001B[1;32m    149\u001B[0m )\n\u001B[1;32m    151\u001B[0m \u001B[38;5;66;03m# actually perform gradient steps\u001B[39;00m\n\u001B[1;32m    152\u001B[0m \u001B[38;5;66;03m# torch.optim objects gets instantiated for any params that haven't been seen yet\u001B[39;00m\n",
      "File \u001B[0;32m~/matteo/matteo/unimi/tesi_master/code/my_env/lib/python3.8/site-packages/pyro/infer/trace_elbo.py:140\u001B[0m, in \u001B[0;36mTrace_ELBO.loss_and_grads\u001B[0;34m(self, model, guide, *args, **kwargs)\u001B[0m\n\u001B[1;32m    138\u001B[0m loss \u001B[38;5;241m=\u001B[39m \u001B[38;5;241m0.0\u001B[39m\n\u001B[1;32m    139\u001B[0m \u001B[38;5;66;03m# grab a trace from the generator\u001B[39;00m\n\u001B[0;32m--> 140\u001B[0m \u001B[38;5;28;01mfor\u001B[39;00m model_trace, guide_trace \u001B[38;5;129;01min\u001B[39;00m \u001B[38;5;28mself\u001B[39m\u001B[38;5;241m.\u001B[39m_get_traces(model, guide, args, kwargs):\n\u001B[1;32m    141\u001B[0m     loss_particle, surrogate_loss_particle \u001B[38;5;241m=\u001B[39m \u001B[38;5;28mself\u001B[39m\u001B[38;5;241m.\u001B[39m_differentiable_loss_particle(\n\u001B[1;32m    142\u001B[0m         model_trace, guide_trace\n\u001B[1;32m    143\u001B[0m     )\n\u001B[1;32m    144\u001B[0m     loss \u001B[38;5;241m+\u001B[39m\u001B[38;5;241m=\u001B[39m loss_particle \u001B[38;5;241m/\u001B[39m \u001B[38;5;28mself\u001B[39m\u001B[38;5;241m.\u001B[39mnum_particles\n",
      "File \u001B[0;32m~/matteo/matteo/unimi/tesi_master/code/my_env/lib/python3.8/site-packages/pyro/infer/elbo.py:236\u001B[0m, in \u001B[0;36mELBO._get_traces\u001B[0;34m(self, model, guide, args, kwargs)\u001B[0m\n\u001B[1;32m    234\u001B[0m \u001B[38;5;28;01melse\u001B[39;00m:\n\u001B[1;32m    235\u001B[0m     \u001B[38;5;28;01mfor\u001B[39;00m i \u001B[38;5;129;01min\u001B[39;00m \u001B[38;5;28mrange\u001B[39m(\u001B[38;5;28mself\u001B[39m\u001B[38;5;241m.\u001B[39mnum_particles):\n\u001B[0;32m--> 236\u001B[0m         \u001B[38;5;28;01myield\u001B[39;00m \u001B[38;5;28;43mself\u001B[39;49m\u001B[38;5;241;43m.\u001B[39;49m\u001B[43m_get_trace\u001B[49m\u001B[43m(\u001B[49m\u001B[43mmodel\u001B[49m\u001B[43m,\u001B[49m\u001B[43m \u001B[49m\u001B[43mguide\u001B[49m\u001B[43m,\u001B[49m\u001B[43m \u001B[49m\u001B[43margs\u001B[49m\u001B[43m,\u001B[49m\u001B[43m \u001B[49m\u001B[43mkwargs\u001B[49m\u001B[43m)\u001B[49m\n",
      "File \u001B[0;32m~/matteo/matteo/unimi/tesi_master/code/my_env/lib/python3.8/site-packages/pyro/infer/trace_elbo.py:57\u001B[0m, in \u001B[0;36mTrace_ELBO._get_trace\u001B[0;34m(self, model, guide, args, kwargs)\u001B[0m\n\u001B[1;32m     52\u001B[0m \u001B[38;5;28;01mdef\u001B[39;00m \u001B[38;5;21m_get_trace\u001B[39m(\u001B[38;5;28mself\u001B[39m, model, guide, args, kwargs):\n\u001B[1;32m     53\u001B[0m     \u001B[38;5;124;03m\"\"\"\u001B[39;00m\n\u001B[1;32m     54\u001B[0m \u001B[38;5;124;03m    Returns a single trace from the guide, and the model that is run\u001B[39;00m\n\u001B[1;32m     55\u001B[0m \u001B[38;5;124;03m    against it.\u001B[39;00m\n\u001B[1;32m     56\u001B[0m \u001B[38;5;124;03m    \"\"\"\u001B[39;00m\n\u001B[0;32m---> 57\u001B[0m     model_trace, guide_trace \u001B[38;5;241m=\u001B[39m \u001B[43mget_importance_trace\u001B[49m\u001B[43m(\u001B[49m\n\u001B[1;32m     58\u001B[0m \u001B[43m        \u001B[49m\u001B[38;5;124;43m\"\u001B[39;49m\u001B[38;5;124;43mflat\u001B[39;49m\u001B[38;5;124;43m\"\u001B[39;49m\u001B[43m,\u001B[49m\u001B[43m \u001B[49m\u001B[38;5;28;43mself\u001B[39;49m\u001B[38;5;241;43m.\u001B[39;49m\u001B[43mmax_plate_nesting\u001B[49m\u001B[43m,\u001B[49m\u001B[43m \u001B[49m\u001B[43mmodel\u001B[49m\u001B[43m,\u001B[49m\u001B[43m \u001B[49m\u001B[43mguide\u001B[49m\u001B[43m,\u001B[49m\u001B[43m \u001B[49m\u001B[43margs\u001B[49m\u001B[43m,\u001B[49m\u001B[43m \u001B[49m\u001B[43mkwargs\u001B[49m\n\u001B[1;32m     59\u001B[0m \u001B[43m    \u001B[49m\u001B[43m)\u001B[49m\n\u001B[1;32m     60\u001B[0m     \u001B[38;5;28;01mif\u001B[39;00m is_validation_enabled():\n\u001B[1;32m     61\u001B[0m         check_if_enumerated(guide_trace)\n",
      "File \u001B[0;32m~/matteo/matteo/unimi/tesi_master/code/my_env/lib/python3.8/site-packages/pyro/infer/enum.py:65\u001B[0m, in \u001B[0;36mget_importance_trace\u001B[0;34m(graph_type, max_plate_nesting, model, guide, args, kwargs, detach)\u001B[0m\n\u001B[1;32m     63\u001B[0m     \u001B[38;5;28;01mif\u001B[39;00m detach:\n\u001B[1;32m     64\u001B[0m         guide_trace\u001B[38;5;241m.\u001B[39mdetach_()\n\u001B[0;32m---> 65\u001B[0m     model_trace \u001B[38;5;241m=\u001B[39m \u001B[43mpoutine\u001B[49m\u001B[38;5;241;43m.\u001B[39;49m\u001B[43mtrace\u001B[49m\u001B[43m(\u001B[49m\n\u001B[1;32m     66\u001B[0m \u001B[43m        \u001B[49m\u001B[43mpoutine\u001B[49m\u001B[38;5;241;43m.\u001B[39;49m\u001B[43mreplay\u001B[49m\u001B[43m(\u001B[49m\u001B[43mmodel\u001B[49m\u001B[43m,\u001B[49m\u001B[43m \u001B[49m\u001B[43mtrace\u001B[49m\u001B[38;5;241;43m=\u001B[39;49m\u001B[43mguide_trace\u001B[49m\u001B[43m)\u001B[49m\u001B[43m,\u001B[49m\u001B[43m \u001B[49m\u001B[43mgraph_type\u001B[49m\u001B[38;5;241;43m=\u001B[39;49m\u001B[43mgraph_type\u001B[49m\n\u001B[1;32m     67\u001B[0m \u001B[43m    \u001B[49m\u001B[43m)\u001B[49m\u001B[38;5;241;43m.\u001B[39;49m\u001B[43mget_trace\u001B[49m\u001B[43m(\u001B[49m\u001B[38;5;241;43m*\u001B[39;49m\u001B[43margs\u001B[49m\u001B[43m,\u001B[49m\u001B[43m \u001B[49m\u001B[38;5;241;43m*\u001B[39;49m\u001B[38;5;241;43m*\u001B[39;49m\u001B[43mkwargs\u001B[49m\u001B[43m)\u001B[49m\n\u001B[1;32m     69\u001B[0m \u001B[38;5;28;01mif\u001B[39;00m is_validation_enabled():\n\u001B[1;32m     70\u001B[0m     check_model_guide_match(model_trace, guide_trace, max_plate_nesting)\n",
      "File \u001B[0;32m~/matteo/matteo/unimi/tesi_master/code/my_env/lib/python3.8/site-packages/pyro/poutine/trace_messenger.py:198\u001B[0m, in \u001B[0;36mTraceHandler.get_trace\u001B[0;34m(self, *args, **kwargs)\u001B[0m\n\u001B[1;32m    190\u001B[0m \u001B[38;5;28;01mdef\u001B[39;00m \u001B[38;5;21mget_trace\u001B[39m(\u001B[38;5;28mself\u001B[39m, \u001B[38;5;241m*\u001B[39margs, \u001B[38;5;241m*\u001B[39m\u001B[38;5;241m*\u001B[39mkwargs):\n\u001B[1;32m    191\u001B[0m     \u001B[38;5;124;03m\"\"\"\u001B[39;00m\n\u001B[1;32m    192\u001B[0m \u001B[38;5;124;03m    :returns: data structure\u001B[39;00m\n\u001B[1;32m    193\u001B[0m \u001B[38;5;124;03m    :rtype: pyro.poutine.Trace\u001B[39;00m\n\u001B[0;32m   (...)\u001B[0m\n\u001B[1;32m    196\u001B[0m \u001B[38;5;124;03m    Calls this poutine and returns its trace instead of the function's return value.\u001B[39;00m\n\u001B[1;32m    197\u001B[0m \u001B[38;5;124;03m    \"\"\"\u001B[39;00m\n\u001B[0;32m--> 198\u001B[0m     \u001B[38;5;28;43mself\u001B[39;49m\u001B[43m(\u001B[49m\u001B[38;5;241;43m*\u001B[39;49m\u001B[43margs\u001B[49m\u001B[43m,\u001B[49m\u001B[43m \u001B[49m\u001B[38;5;241;43m*\u001B[39;49m\u001B[38;5;241;43m*\u001B[39;49m\u001B[43mkwargs\u001B[49m\u001B[43m)\u001B[49m\n\u001B[1;32m    199\u001B[0m     \u001B[38;5;28;01mreturn\u001B[39;00m \u001B[38;5;28mself\u001B[39m\u001B[38;5;241m.\u001B[39mmsngr\u001B[38;5;241m.\u001B[39mget_trace()\n",
      "File \u001B[0;32m~/matteo/matteo/unimi/tesi_master/code/my_env/lib/python3.8/site-packages/pyro/poutine/trace_messenger.py:174\u001B[0m, in \u001B[0;36mTraceHandler.__call__\u001B[0;34m(self, *args, **kwargs)\u001B[0m\n\u001B[1;32m    170\u001B[0m \u001B[38;5;28mself\u001B[39m\u001B[38;5;241m.\u001B[39mmsngr\u001B[38;5;241m.\u001B[39mtrace\u001B[38;5;241m.\u001B[39madd_node(\n\u001B[1;32m    171\u001B[0m     \u001B[38;5;124m\"\u001B[39m\u001B[38;5;124m_INPUT\u001B[39m\u001B[38;5;124m\"\u001B[39m, name\u001B[38;5;241m=\u001B[39m\u001B[38;5;124m\"\u001B[39m\u001B[38;5;124m_INPUT\u001B[39m\u001B[38;5;124m\"\u001B[39m, \u001B[38;5;28mtype\u001B[39m\u001B[38;5;241m=\u001B[39m\u001B[38;5;124m\"\u001B[39m\u001B[38;5;124margs\u001B[39m\u001B[38;5;124m\"\u001B[39m, args\u001B[38;5;241m=\u001B[39margs, kwargs\u001B[38;5;241m=\u001B[39mkwargs\n\u001B[1;32m    172\u001B[0m )\n\u001B[1;32m    173\u001B[0m \u001B[38;5;28;01mtry\u001B[39;00m:\n\u001B[0;32m--> 174\u001B[0m     ret \u001B[38;5;241m=\u001B[39m \u001B[38;5;28;43mself\u001B[39;49m\u001B[38;5;241;43m.\u001B[39;49m\u001B[43mfn\u001B[49m\u001B[43m(\u001B[49m\u001B[38;5;241;43m*\u001B[39;49m\u001B[43margs\u001B[49m\u001B[43m,\u001B[49m\u001B[43m \u001B[49m\u001B[38;5;241;43m*\u001B[39;49m\u001B[38;5;241;43m*\u001B[39;49m\u001B[43mkwargs\u001B[49m\u001B[43m)\u001B[49m\n\u001B[1;32m    175\u001B[0m \u001B[38;5;28;01mexcept\u001B[39;00m (\u001B[38;5;167;01mValueError\u001B[39;00m, \u001B[38;5;167;01mRuntimeError\u001B[39;00m) \u001B[38;5;28;01mas\u001B[39;00m e:\n\u001B[1;32m    176\u001B[0m     exc_type, exc_value, traceback \u001B[38;5;241m=\u001B[39m sys\u001B[38;5;241m.\u001B[39mexc_info()\n",
      "File \u001B[0;32m~/matteo/matteo/unimi/tesi_master/code/my_env/lib/python3.8/site-packages/pyro/poutine/messenger.py:12\u001B[0m, in \u001B[0;36m_context_wrap\u001B[0;34m(context, fn, *args, **kwargs)\u001B[0m\n\u001B[1;32m     10\u001B[0m \u001B[38;5;28;01mdef\u001B[39;00m \u001B[38;5;21m_context_wrap\u001B[39m(context, fn, \u001B[38;5;241m*\u001B[39margs, \u001B[38;5;241m*\u001B[39m\u001B[38;5;241m*\u001B[39mkwargs):\n\u001B[1;32m     11\u001B[0m     \u001B[38;5;28;01mwith\u001B[39;00m context:\n\u001B[0;32m---> 12\u001B[0m         \u001B[38;5;28;01mreturn\u001B[39;00m \u001B[43mfn\u001B[49m\u001B[43m(\u001B[49m\u001B[38;5;241;43m*\u001B[39;49m\u001B[43margs\u001B[49m\u001B[43m,\u001B[49m\u001B[43m \u001B[49m\u001B[38;5;241;43m*\u001B[39;49m\u001B[38;5;241;43m*\u001B[39;49m\u001B[43mkwargs\u001B[49m\u001B[43m)\u001B[49m\n",
      "\u001B[0;31mTypeError\u001B[0m: model() takes 3 positional arguments but 5 were given"
     ]
    }
   ],
   "source": [
    "import torch\n",
    "import pyro\n",
    "import pyro.distributions as dist\n",
    "from pyro.infer import Trace_ELBO, SVI\n",
    "\n",
    "\n",
    "def transition_model(state):\n",
    "    p_stay = 0.7 if state else 0.9\n",
    "    p_switch = 1 - p_stay\n",
    "    return pyro.sample('state_transition', dist.Categorical(torch.tensor([p_stay, p_switch])))\n",
    "\n",
    "\n",
    "def emission_model(state):\n",
    "    p_emission = 0.9 if state else 0.1\n",
    "    return pyro.sample('emission', dist.Bernoulli(torch.tensor(p_emission)))\n",
    "\n",
    "\n",
    "def initial_model():\n",
    "    return pyro.sample('initial_state', dist.Categorical(torch.tensor([0.5, 0.5])))\n",
    "\n",
    "\n",
    "def model(stimuli, shock, initial_state):\n",
    "    states = [pyro.sample('init_state', dist.Categorical(initial_state))]\n",
    "    emissions = [emission_model(states[0]).item()]\n",
    "    for i in range(1, len(stimuli)):\n",
    "        states.append(transition_model(states[i-1]).item())\n",
    "        emissions.append(emission_model(states[i]).item())\n",
    "    return states, emissions\n",
    "\n",
    "\n",
    "def guide(stimuli, shock, initial_state, states, emissions):\n",
    "    for i in range(len(stimuli)):\n",
    "        states[i] = pyro.sample('state_{}'.format(i), dist.Bernoulli(torch.tensor(0.5)))\n",
    "        emissions[i] = pyro.sample('emission_{}'.format(i), dist.Bernoulli(torch.tensor(0.5)))\n",
    "\n",
    "\n",
    "stimuli = torch.tensor([0, 0, 0, 1, 1, 0, 1, 1, 0])\n",
    "shock = torch.tensor([0, 0, 0, 1, 1, 0, 0, 1, 0])\n",
    "initial_state = torch.tensor([0.5, 0.5])\n",
    "\n",
    "optimizer = pyro.optim.Adam({'lr': 0.1})\n",
    "svi = SVI(model, guide, optimizer, loss=Trace_ELBO())\n",
    "\n",
    "for i in range(1000):\n",
    "    states, emissions = model(stimuli, shock, initial_state)\n",
    "    loss = svi.step(stimuli, shock, initial_state, states, emissions)\n",
    "    if i % 100 == 0:\n",
    "        print(\"step {}: loss = {}\".format(i, loss))\n"
   ]
  },
  {
   "cell_type": "markdown",
   "source": [
    "## Rational agent discretisation"
   ],
   "metadata": {
    "collapsed": false
   }
  },
  {
   "cell_type": "code",
   "execution_count": null,
   "outputs": [],
   "source": [
    "valid_subjects = extract_correct_csv.extract_only_valid_subject()\n",
    "len(valid_subjects)"
   ],
   "metadata": {
    "collapsed": false
   }
  },
  {
   "cell_type": "code",
   "execution_count": null,
   "metadata": {},
   "outputs": [],
   "source": [
    "total_array_simulated = np.load('output/pyro/complete_rational/total.npy',allow_pickle=True)\n",
    "total_array_simulated"
   ]
  },
  {
   "cell_type": "code",
   "execution_count": null,
   "outputs": [],
   "source": [
    "values = np.array([0, 0.2, 0.4, 0.6, 0.8, 1])\n",
    "discretized_data = np.digitize(total_array_simulated, values)\n",
    "print(discretized_data.shape)\n",
    "\n",
    "\n",
    "df_global = pd.DataFrame(columns=['Subject', 'Rating rational', 'Rating real'])\n",
    "\n",
    "for sub in valid_subjects:\n",
    "    string_sub = extract_correct_csv.read_correct_subject_csv(sub)\n",
    "    df_sub = pd.read_csv('data/newLookAtMe/newLookAtMe'+string_sub+'.csv')\n",
    "    df_sub = df_sub[16:]\n",
    "    tmp_df = pd.DataFrame({'Subject': sub, 'Rating rational': discretized_data, 'Rating real': df_sub['rating']})\n",
    "    df_global = pd.concat([df_global, tmp_df])\n",
    "\n",
    "df_global = df_global.reset_index(drop=True)"
   ],
   "metadata": {
    "collapsed": false
   }
  },
  {
   "cell_type": "code",
   "execution_count": null,
   "outputs": [],
   "source": [
    "# useless up to now\n",
    "'''df_global = df_global.groupby('Subject', as_index=False).agg({'Rating rational': lambda x: x.tolist(), 'Rating real': lambda x: x.tolist()})\n",
    "df_global['Rating rational'] = df_global['Rating rational'].apply(lambda x: np.array(x))\n",
    "df_global['Rating real'] = df_global['Rating real'].apply(lambda x: np.array(x))'''"
   ],
   "metadata": {
    "collapsed": false
   }
  },
  {
   "cell_type": "code",
   "execution_count": null,
   "outputs": [],
   "source": [
    "valid_subjects = df_global.Subject.unique()\n",
    "valid_subjects"
   ],
   "metadata": {
    "collapsed": false
   }
  },
  {
   "cell_type": "code",
   "execution_count": null,
   "outputs": [],
   "source": [
    "from pyirr import intraclass_correlation\n"
   ],
   "metadata": {
    "collapsed": false
   }
  },
  {
   "cell_type": "code",
   "execution_count": null,
   "outputs": [],
   "source": [
    "dict_results = {}\n",
    "for x in valid_subjects:\n",
    "    df_sub_ = df_global[df_global.Subject == x].dropna().drop(columns=['Subject']).reset_index(drop=True)\n",
    "    df_sub_['Rating rational'] = df_sub_['Rating rational'].astype(float)\n",
    "    result = intraclass_correlation(df_sub_).value\n",
    "    dict_results[x] = result\n",
    "\n",
    "dict_results\n"
   ],
   "metadata": {
    "collapsed": false
   }
  },
  {
   "cell_type": "code",
   "execution_count": null,
   "outputs": [],
   "source": [
    "df_icc = pd.DataFrame(list(dict_results.items()), columns=['Subject', 'ICC'])\n",
    "df_icc"
   ],
   "metadata": {
    "collapsed": false
   }
  },
  {
   "cell_type": "code",
   "execution_count": null,
   "outputs": [],
   "source": [
    "def anxious_subjects(path, n, type='top'):\n",
    "    '''\n",
    "\n",
    "    :param path: path sias score or linear deviation score\n",
    "    :param n: number of subjects\n",
    "    :param type: 'top' or 'bot'\n",
    "    :return: top or bot n subjects sorted by sias score\n",
    "    '''\n",
    "    valid_subjects = extract_correct_csv.extract_only_valid_subject()\n",
    "    df = pd.read_csv(path).dropna().reset_index(drop=True)\n",
    "    df = df[df.subject.isin(valid_subjects)]\n",
    "    df['subject'] = [int(x) for x in df['subject']]\n",
    "    if type=='top':\n",
    "        return df.sort_values(by=df.columns[1], ascending=False).subject[:n].values\n",
    "    else:\n",
    "        return df.sort_values(by=df.columns[1], ascending=False).subject[-n:].values\n"
   ],
   "metadata": {
    "collapsed": false
   }
  },
  {
   "cell_type": "code",
   "execution_count": null,
   "outputs": [],
   "source": [
    "path_sias = 'data/sias_score.csv'\n",
    "path_lds = 'data/lds_subjects.csv'\n",
    "\n",
    "len_sub = 6\n",
    "top_lds = anxious_subjects(path_lds, len_sub, 'top')\n",
    "bot_lds = anxious_subjects(path_lds, len_sub, 'bot')\n",
    "\n",
    "top_sias = anxious_subjects(path_sias, len_sub)\n",
    "bot_sias = anxious_subjects(path_sias, len_sub, 'bot')"
   ],
   "metadata": {
    "collapsed": false
   }
  },
  {
   "cell_type": "code",
   "execution_count": null,
   "outputs": [],
   "source": [
    "mean_top_sias = df_icc[df_icc.Subject.isin(top_sias)]['ICC'].mean()\n",
    "mean_bot_sias = df_icc[df_icc.Subject.isin(bot_sias)]['ICC'].mean()\n",
    "mean_top_lds = df_icc[df_icc.Subject.isin(top_lds)]['ICC'].mean()\n",
    "mean_bot_lds = df_icc[df_icc.Subject.isin(bot_lds)]['ICC'].mean()"
   ],
   "metadata": {
    "collapsed": false
   }
  },
  {
   "cell_type": "code",
   "execution_count": null,
   "outputs": [],
   "source": [
    "print(f'Average of the first {len_sub} subjects with higher sias score: {round(mean_top_sias, 2)}')\n",
    "print(f'Average of the first {len_sub} subjects with lower sias score: {round(mean_bot_sias, 2)}')\n",
    "print(f'Average of the first {len_sub} subjects with higher linear deviation score: {round(mean_top_lds,2)}')\n",
    "print(f'Average of the first {len_sub} subjects with lower linear deviation score: {round(mean_bot_lds, 2)}')"
   ],
   "metadata": {
    "collapsed": false
   }
  }
 ],
 "metadata": {
  "kernelspec": {
   "display_name": "Python 3 (ipykernel)",
   "language": "python",
   "name": "python3"
  },
  "language_info": {
   "codemirror_mode": {
    "name": "ipython",
    "version": 3
   },
   "file_extension": ".py",
   "mimetype": "text/x-python",
   "name": "python",
   "nbconvert_exporter": "python",
   "pygments_lexer": "ipython3",
   "version": "3.8.10"
  }
 },
 "nbformat": 4,
 "nbformat_minor": 1
}
