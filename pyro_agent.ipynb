{
 "cells": [
  {
   "cell_type": "code",
   "execution_count": 100,
   "metadata": {
    "collapsed": true
   },
   "outputs": [
    {
     "data": {
      "text/plain": "'1.8.4'"
     },
     "execution_count": 100,
     "metadata": {},
     "output_type": "execute_result"
    }
   ],
   "source": [
    "import torch\n",
    "import numpy as np\n",
    "import pandas as pd\n",
    "import seaborn as sns\n",
    "import matplotlib.pyplot as plt\n",
    "import logging\n",
    "import os\n",
    "from pyirr import intraclass_correlation\n",
    "\n",
    "import pyro\n",
    "from pyro.optim import Adam\n",
    "from pyro.infer import SVI, Trace_ELBO, MCMC, NUTS\n",
    "import pyro.distributions as dist\n",
    "import pyro.distributions.constraints as constraints\n",
    "from sklearn import preprocessing\n",
    "from sklearn.metrics import r2_score\n",
    "import warnings\n",
    "from sklearn.metrics import cohen_kappa_score\n",
    "warnings.simplefilter(action=\"ignore\",category=FutureWarning)\n",
    "\n",
    "import numpy as np\n",
    "import pandas as pd\n",
    "import matplotlib.pyplot as plt\n",
    "from autorank import autorank, plot_stats, create_report, latex_table\n",
    "\n",
    "pyro.__version__"
   ]
  },
  {
   "cell_type": "code",
   "execution_count": 102,
   "outputs": [],
   "source": [
    "def anxious_subjects(path, n, type='top'):\n",
    "    '''\n",
    "\n",
    "    :param path: path sias score or linear deviation score\n",
    "    :param n: number of subjects\n",
    "    :param type: 'top' or 'bot'\n",
    "    :return: top or bot n subjects sorted by sias score\n",
    "    '''\n",
    "    valid_subjects = extract_correct_csv.extract_only_valid_subject()\n",
    "    df = pd.read_csv(path).dropna().reset_index(drop=True)\n",
    "    df = df[df.subject.isin(valid_subjects)]\n",
    "    df['subject'] = [int(x) for x in df['subject']]\n",
    "    if type=='top':\n",
    "        return df.sort_values(by=df.columns[1], ascending=False).subject[:n].values\n",
    "    else:\n",
    "        return df.sort_values(by=df.columns[1], ascending=False).subject[-n:].values\n"
   ],
   "metadata": {
    "collapsed": false
   }
  },
  {
   "cell_type": "markdown",
   "metadata": {},
   "source": [
    "# Rational agent\n",
    "\n",
    "The idea is to train n models where each model is trained using n trials."
   ]
  },
  {
   "cell_type": "markdown",
   "metadata": {},
   "source": [
    "extract valid subjects"
   ]
  },
  {
   "cell_type": "code",
   "execution_count": 52,
   "metadata": {},
   "outputs": [],
   "source": [
    "import extract_correct_csv\n",
    "valid_sub = extract_correct_csv.extract_only_valid_subject()"
   ]
  },
  {
   "cell_type": "markdown",
   "metadata": {},
   "source": [
    "read real data of subject #2 (data equals to all subjects)"
   ]
  },
  {
   "cell_type": "code",
   "execution_count": null,
   "metadata": {
    "pycharm": {
     "is_executing": true
    }
   },
   "outputs": [],
   "source": [
    "# read dataset\n",
    "df = pd.read_csv('data/newLookAtMe/newLookAtMe02.csv')\n",
    "df_rational = df[['morphing level', 'shock']]\n",
    "df_rational['shock'] = df_rational['shock'].astype(int) #setting shock as int instead of boolean\n",
    "df_rational['morphing level'] = [int(d==6) for d in df_rational['morphing level']] # if morphing level==6 -> 1"
   ]
  },
  {
   "cell_type": "code",
   "execution_count": 54,
   "metadata": {},
   "outputs": [],
   "source": [
    "data_np = df_rational.to_numpy()\n",
    "\n",
    "HABITUATION_TRIALS = 16\n",
    "ACQUISITION_TRIALS = 48\n",
    "data_all = data_np[16:]\n",
    "learning_data = data_np[HABITUATION_TRIALS:ACQUISITION_TRIALS] # remove only habituation"
   ]
  },
  {
   "cell_type": "code",
   "execution_count": 55,
   "metadata": {},
   "outputs": [],
   "source": [
    "data = torch.tensor(data_all)\n",
    "N = data.shape[0]"
   ]
  },
  {
   "cell_type": "code",
   "execution_count": 56,
   "metadata": {},
   "outputs": [],
   "source": [
    "array_csplus_simulated = np.load('output/pyro/complete_rational/csplus.npy',allow_pickle=True)\n",
    "array_csminus_simulated = np.load('output/pyro/complete_rational/csminus.npy',allow_pickle=True)\n",
    "total_array_simulated = np.load('output/pyro/complete_rational/total.npy',allow_pickle=True)"
   ]
  },
  {
   "cell_type": "markdown",
   "metadata": {},
   "source": [
    "## shock expectancy simulated"
   ]
  },
  {
   "cell_type": "code",
   "execution_count": null,
   "metadata": {
    "pycharm": {
     "is_executing": true
    }
   },
   "outputs": [],
   "source": [
    "df_ = df[['shock', 'rating', 'morphing level']]\n",
    "df_['shock'] = df_['shock'].astype(int)\n",
    "df_['morphing level'] = [int(d == 6) for d in df_['morphing level']]\n",
    "df_['rating'] = df_['rating'].replace([1, 2, 3, 4, 5], [0.2, 0.4, 0.6, 0.8, 1])"
   ]
  },
  {
   "cell_type": "code",
   "execution_count": 58,
   "metadata": {},
   "outputs": [
    {
     "data": {
      "text/plain": "     shock  rating  morphing level\n0        0     0.6               0\n1        0     0.6               1\n2        0     0.6               1\n3        0     0.6               0\n4        0     0.6               0\n..     ...     ...             ...\n155      0     0.2               0\n156      0     0.2               0\n157      0     0.2               0\n158      0     0.2               0\n159      0     0.8               1\n\n[160 rows x 3 columns]",
      "text/html": "<div>\n<style scoped>\n    .dataframe tbody tr th:only-of-type {\n        vertical-align: middle;\n    }\n\n    .dataframe tbody tr th {\n        vertical-align: top;\n    }\n\n    .dataframe thead th {\n        text-align: right;\n    }\n</style>\n<table border=\"1\" class=\"dataframe\">\n  <thead>\n    <tr style=\"text-align: right;\">\n      <th></th>\n      <th>shock</th>\n      <th>rating</th>\n      <th>morphing level</th>\n    </tr>\n  </thead>\n  <tbody>\n    <tr>\n      <th>0</th>\n      <td>0</td>\n      <td>0.6</td>\n      <td>0</td>\n    </tr>\n    <tr>\n      <th>1</th>\n      <td>0</td>\n      <td>0.6</td>\n      <td>1</td>\n    </tr>\n    <tr>\n      <th>2</th>\n      <td>0</td>\n      <td>0.6</td>\n      <td>1</td>\n    </tr>\n    <tr>\n      <th>3</th>\n      <td>0</td>\n      <td>0.6</td>\n      <td>0</td>\n    </tr>\n    <tr>\n      <th>4</th>\n      <td>0</td>\n      <td>0.6</td>\n      <td>0</td>\n    </tr>\n    <tr>\n      <th>...</th>\n      <td>...</td>\n      <td>...</td>\n      <td>...</td>\n    </tr>\n    <tr>\n      <th>155</th>\n      <td>0</td>\n      <td>0.2</td>\n      <td>0</td>\n    </tr>\n    <tr>\n      <th>156</th>\n      <td>0</td>\n      <td>0.2</td>\n      <td>0</td>\n    </tr>\n    <tr>\n      <th>157</th>\n      <td>0</td>\n      <td>0.2</td>\n      <td>0</td>\n    </tr>\n    <tr>\n      <th>158</th>\n      <td>0</td>\n      <td>0.2</td>\n      <td>0</td>\n    </tr>\n    <tr>\n      <th>159</th>\n      <td>0</td>\n      <td>0.8</td>\n      <td>1</td>\n    </tr>\n  </tbody>\n</table>\n<p>160 rows × 3 columns</p>\n</div>"
     },
     "execution_count": 58,
     "metadata": {},
     "output_type": "execute_result"
    }
   ],
   "source": [
    "#remove first 16 trials real data\n",
    "df_new=df_\n",
    "#consider only the learning phase\n",
    "df_learning = df_\n",
    "df_learning"
   ]
  },
  {
   "cell_type": "code",
   "execution_count": 59,
   "metadata": {},
   "outputs": [],
   "source": [
    "y_plus_real = df_new.loc[df_new['morphing level']==1].rating.values\n",
    "x_plus_real = np.array(df_new.loc[df_new['morphing level']==1].index)\n",
    "y_minus_real = df_new.loc[df_new['morphing level']==0].rating.values\n",
    "x_minus_real = np.array(df_new.loc[df_new['morphing level']==0].index)\n",
    "y_real=df_new.rating.values\n",
    "\n",
    "y_plus_train = df_learning.loc[df_learning['morphing level']==1].rating.values\n",
    "x_plus_train = np.array(df_learning.loc[df_learning['morphing level']==1].index)\n",
    "y_minus_train = df_learning.loc[df_learning['morphing level']==0].rating.values\n",
    "x_minus_train = np.array(df_learning.loc[df_learning['morphing level']==0].index)\n",
    "y_train=df_learning.rating.values"
   ]
  },
  {
   "cell_type": "code",
   "execution_count": 60,
   "metadata": {},
   "outputs": [
    {
     "data": {
      "text/plain": "<Figure size 1300x600 with 1 Axes>",
      "image/png": "[encoded data removed]"
     },
     "metadata": {},
     "output_type": "display_data"
    }
   ],
   "source": [
    "fig = plt.figure(figsize=(13,6))\n",
    "plt.title('Analysis of the shock prediction comparing subject #2 and rational agent')\n",
    "plt.scatter(x_plus_real, y_plus_real, color='blue', label='cs+ real')\n",
    "plt.scatter(array_csplus_simulated[:,0], array_csplus_simulated[:,1], color='darkblue', label='cs+ simulated')\n",
    "plt.scatter(x_minus_real, y_minus_real, color='red', label='cs- real')\n",
    "plt.scatter(array_csminus_simulated[:,0], array_csminus_simulated[:,1], color='darkred', label='cs- simulated')\n",
    "plt.legend(loc='right')\n",
    "plt.axvline(x=16, linestyle='--', color='green')\n",
    "plt.axvline(x=48, linestyle='--', color='green')\n",
    "plt.xlabel('Trial')\n",
    "plt.ylabel('P(condition | visual stimulus)')\n",
    "plt.show()"
   ]
  },
  {
   "cell_type": "markdown",
   "source": [
    "# correlation"
   ],
   "metadata": {
    "collapsed": false
   }
  },
  {
   "cell_type": "markdown",
   "metadata": {},
   "source": [
    "## analysis of the correlation between rational agent and real subject with pearson"
   ]
  },
  {
   "cell_type": "code",
   "execution_count": 61,
   "metadata": {},
   "outputs": [],
   "source": [
    "# rating between 16-160 trial rational agent\n",
    "rating_rational = total_array_simulated"
   ]
  },
  {
   "cell_type": "code",
   "execution_count": 143,
   "metadata": {},
   "outputs": [],
   "source": [
    "df_correlation = pd.DataFrame(columns=['subject','pearson','r2score','person_disc','cohen_disc'])\n",
    "path_sias = 'data/sias_score.csv'\n",
    "path_lds = 'data/lds_subjects.csv'\n",
    "len_sub = 6\n",
    "\n",
    "top_lds_list = anxious_subjects(path_lds, len_sub, 'top')\n",
    "bot_lds_list = anxious_subjects(path_lds, len_sub, 'bot')\n",
    "top_sias_list = anxious_subjects(path_sias, len_sub, 'top')\n",
    "bot_sias_list = anxious_subjects(path_sias, len_sub, 'bot')\n",
    "\n",
    "more_lds = pd.DataFrame(columns=['Subject','ratings'])\n",
    "less_lds = pd.DataFrame(columns=['Subject','ratings'])\n",
    "more_sias = pd.DataFrame(columns=['Subject','ratings'])\n",
    "less_sias = pd.DataFrame(columns=['Subject','ratings'])\n",
    "\n",
    "\n",
    "for sub in valid_sub:\n",
    "    subj_ = extract_correct_csv.read_correct_subject_csv(sub)\n",
    "    df_sub = pd.read_csv('data/newLookAtMe/newLookAtMe'+subj_+'.csv')\n",
    "    df_sub = df_sub[['shock', 'rating', 'morphing level']]\n",
    "    df_sub['shock'] = df_sub['shock'].astype(int)\n",
    "    df_sub['morphing level'] = [int(d == 6) for d in df_sub['morphing level']]\n",
    "    df_sub['rating'] = df_sub['rating'].replace([1, 2, 3, 4, 5], [0.2, 0.4, 0.6, 0.8, 1])\n",
    "    df_sub_learn = df_sub[16:]\n",
    "    rating_sub = np.array(df_sub_learn['rating'])\n",
    "\n",
    "    # remove nan\n",
    "    bad = ~np.logical_or(np.isnan(rating_sub), np.isnan(rating_rational))\n",
    "    rating_sub_ = np.compress(bad, rating_sub)\n",
    "    rating_rational_ = np.compress(bad, rating_rational)\n",
    "\n",
    "    lds = pd.DataFrame({'Subject':subj_,'ratings':[rating_sub]})\n",
    "\n",
    "    if sub in top_lds_list:\n",
    "        more_lds = pd.concat([more_lds,lds])\n",
    "    if sub in bot_lds_list:\n",
    "        less_lds = pd.concat([less_lds,lds])\n",
    "    if sub in top_sias_list:\n",
    "        more_sias = pd.concat([more_sias,lds])\n",
    "    if sub in bot_sias_list:\n",
    "        less_sias = pd.concat([less_sias,lds])\n",
    "\n",
    "    #discretization of rating rational\n",
    "    round_vector = np.array([0.2, 0.4, 0.6, 0.8, 1])\n",
    "    rating_rational_discr = np.round(rating_rational_ / 0.2) * 0.2\n",
    "    rating_rational_discr = np.clip(rating_rational_discr, round_vector.min(), round_vector.max())\n",
    "\n",
    "    #pearson corr coeff\n",
    "    pearson = round(np.corrcoef(rating_sub_,rating_rational_)[0][1],2)\n",
    "\n",
    "    #r2 score\n",
    "    r2 = round(r2_score(rating_sub_,rating_rational_),2)\n",
    "\n",
    "    #pearson discr\n",
    "    pearson_disc = round(np.corrcoef(rating_sub_,rating_rational_discr)[0][1],2)\n",
    "\n",
    "    #cohen kappa discr\n",
    "    cohen_disc = round(cohen_kappa_score(rating_sub_*10,rating_rational_discr*10),2)\n",
    "\n",
    "    # write line\n",
    "    df_tmp = pd.DataFrame({'subject':sub,'pearson':pearson,'r2score':r2,'person_disc':pearson_disc,'cohen_disc':cohen_disc},index=np.arange(1))\n",
    "    df_correlation = pd.concat([df_correlation,df_tmp])\n",
    "\n",
    "\n",
    "sias_df = pd.read_csv('data/sias_score.csv').drop(columns='social_anxiety')\n",
    "sias_df['subject'] = [float(x) for x in sias_df['subject']]\n",
    "\n",
    "lds_df = pd.read_csv('data/lds_subjects.csv')\n",
    "lds_df['subject'] = [float(x) for x in lds_df['subject']]\n",
    "\n",
    "df_correlation['subject'] = [float(x) for x in df_correlation['subject']]\n",
    "\n",
    "df_corr_ = pd.concat([sias_df.set_index('subject'), lds_df.set_index('subject'), df_correlation.set_index('subject')], axis=1).reset_index()\n",
    "\n",
    "# drop nan\n",
    "lds_df['subject'] = [float(x) for x in lds_df['subject']]"
   ]
  },
  {
   "cell_type": "code",
   "execution_count": 178,
   "outputs": [],
   "source": [
    "more_lds.sort_values(by='Subject')\n",
    "less_lds.sort_values(by='Subject')\n",
    "more_sias.sort_values(by='Subject')\n",
    "less_sias.sort_values(by='Subject')\n",
    "\n",
    "rat_more_lds = []\n",
    "for row in more_lds.iterrows():\n",
    "    rat_more_lds.append(list(row[1][1]))\n",
    "\n",
    "rat_less_lds = []\n",
    "for row in less_lds.iterrows():\n",
    "    rat_less_lds.append(list(row[1][1]))\n",
    "\n",
    "rat_more_sias = []\n",
    "for row in more_sias.iterrows():\n",
    "    rat_more_sias.append(list(row[1][1]))\n",
    "\n",
    "rat_less_sias = []\n",
    "for row in less_sias.iterrows():\n",
    "    rat_less_sias.append(list(row[1][1]))\n",
    "\n",
    "rat_more_lds = np.array(rat_more_lds).flatten()\n",
    "rat_less_lds = np.array(rat_less_lds).flatten()\n",
    "rat_more_sias = np.array(rat_more_sias).flatten()\n",
    "rat_less_sias = np.array(rat_less_sias).flatten()\n"
   ],
   "metadata": {
    "collapsed": false
   }
  },
  {
   "cell_type": "code",
   "execution_count": 182,
   "outputs": [],
   "source": [
    "duplicated_rating_sub = [item for _ in range(len_sub) for item in rating_sub]\n",
    "\n",
    "\n",
    "lds = pd.DataFrame(data=list(zip(rat_more_lds,duplicated_rating_sub,rat_less_lds)),columns=['more_lds','rational','low_lds'])\n",
    "sias = pd.DataFrame(data=list(zip(rat_more_sias,duplicated_rating_sub,rat_less_sias)),columns=['more_sias','rational','low_sias'])\n",
    "\n",
    "lds = lds.dropna()\n",
    "sias = sias.dropna()"
   ],
   "metadata": {
    "collapsed": false
   }
  },
  {
   "cell_type": "markdown",
   "source": [
    "## autorank lds using all votes"
   ],
   "metadata": {
    "collapsed": false
   }
  },
  {
   "cell_type": "code",
   "execution_count": 183,
   "outputs": [
    {
     "name": "stdout",
     "output_type": "stream",
     "text": [
      "RankResult(rankdf=\n",
      "          median  mad ci_lower ci_upper effect_size   magnitude  p_equal  \\\n",
      "low_lds      0.6  0.2      0.4      0.6         0.0  negligible      NaN   \n",
      "rational     0.4  0.2      0.4      0.4    0.674491      medium      0.0   \n",
      "more_lds     0.2  0.0      0.2      0.4    1.907748       large      0.0   \n",
      "\n",
      "          p_smaller decision  \n",
      "low_lds         NaN       NA  \n",
      "rational    0.99786  smaller  \n",
      "more_lds    1.00000  smaller  \n",
      "pvalue=None\n",
      "cd=None\n",
      "omnibus=bayes\n",
      "posthoc=bayes\n",
      "all_normal=False\n",
      "pvals_shapiro=[3.12706810479663e-22, 9.982337700117206e-33, 4.4250038427640525e-34]\n",
      "homoscedastic=None\n",
      "pval_homogeneity=None\n",
      "homogeneity_test=None\n",
      "alpha=0.05\n",
      "alpha_normality=0.016666666666666666\n",
      "num_samples=796\n",
      "posterior_matrix=\n",
      "         low_lds                 rational                 more_lds\n",
      "low_lds      NaN  (0.99786, 0.0, 0.00214)          (1.0, 0.0, 0.0)\n",
      "rational     NaN                      NaN  (0.99896, 0.00104, 0.0)\n",
      "more_lds     NaN                      NaN                      NaN\n",
      "decision_matrix=\n",
      "         low_lds rational more_lds\n",
      "low_lds      NaN  smaller  smaller\n",
      "rational  larger      NaN  smaller\n",
      "more_lds  larger   larger      NaN\n",
      "rope=0.1\n",
      "rope_mode=effsize\n",
      "effect_size=akinshin_gamma)\n"
     ]
    }
   ],
   "source": [
    "result = autorank(lds, alpha=0.05, verbose=False, approach='bayesian')\n",
    "print(result)"
   ],
   "metadata": {
    "collapsed": false
   }
  },
  {
   "cell_type": "code",
   "execution_count": 184,
   "outputs": [
    {
     "name": "stdout",
     "output_type": "stream",
     "text": [
      "RankResult(rankdf=\n",
      "           median  mad ci_lower ci_upper effect_size   magnitude  p_equal  \\\n",
      "more_sias     0.4  0.2      0.4      0.6         0.0  negligible      NaN   \n",
      "rational      0.4  0.2      0.4      0.4         0.0  negligible      0.0   \n",
      "low_sias      0.4  0.2      0.2      0.4         0.0  negligible      0.0   \n",
      "\n",
      "           p_smaller decision  \n",
      "more_sias        NaN       NA  \n",
      "rational     0.00122   larger  \n",
      "low_sias     0.99830  smaller  \n",
      "pvalue=None\n",
      "cd=None\n",
      "omnibus=bayes\n",
      "posthoc=bayes\n",
      "all_normal=False\n",
      "pvals_shapiro=[2.5688598636411213e-27, 1.3126846802020243e-32, 4.389839924755982e-31]\n",
      "homoscedastic=None\n",
      "pval_homogeneity=None\n",
      "homogeneity_test=None\n",
      "alpha=0.05\n",
      "alpha_normality=0.016666666666666666\n",
      "num_samples=786\n",
      "posterior_matrix=\n",
      "          more_sias                 rational               low_sias\n",
      "more_sias       NaN  (0.00122, 0.0, 0.99878)  (0.9983, 0.0, 0.0017)\n",
      "rational        NaN                      NaN        (1.0, 0.0, 0.0)\n",
      "low_sias        NaN                      NaN                    NaN\n",
      "decision_matrix=\n",
      "          more_sias rational low_sias\n",
      "more_sias       NaN   larger  smaller\n",
      "rational    smaller      NaN  smaller\n",
      "low_sias     larger   larger      NaN\n",
      "rope=0.1\n",
      "rope_mode=effsize\n",
      "effect_size=akinshin_gamma)\n"
     ]
    }
   ],
   "source": [
    "result = autorank(sias, alpha=0.05, verbose=False, approach='bayesian')\n",
    "print(result)"
   ],
   "metadata": {
    "collapsed": false
   }
  },
  {
   "cell_type": "code",
   "execution_count": 177,
   "outputs": [
    {
     "data": {
      "text/plain": "    subject  sias_score    lds  pearson  r2score  person_disc  cohen_disc\n0       1.0        21.0  0.201     0.23    -4.97         0.18       -0.02\n1       2.0        11.0  0.828     0.75    -0.75         0.68        0.17\n2       3.0        30.0  0.504      NaN      NaN          NaN         NaN\n3       4.0        12.0  0.111     0.41    -1.86         0.35        0.05\n4       5.0        30.0  0.953     0.71    -0.63         0.62        0.14\n5       6.0         8.0  1.312     0.73    -0.08         0.65        0.24\n6       7.0        25.0  0.535     0.67    -1.23         0.60        0.07\n7       8.0         6.0  0.583      NaN      NaN          NaN         NaN\n8       9.0         NaN    NaN      NaN      NaN          NaN         NaN\n9      10.0        10.0  0.682      NaN      NaN          NaN         NaN\n10     11.0        11.0 -0.323      NaN      NaN          NaN         NaN\n11     12.0        19.0  0.231      NaN      NaN          NaN         NaN\n12     13.0        16.0  0.141     0.39    -3.92         0.37       -0.01\n13     14.0        19.0  1.002      NaN      NaN          NaN         NaN\n14     15.0        16.0  0.693     0.66    -0.35         0.60        0.26\n15     16.0        55.0  0.621     0.36    -1.58         0.29        0.07\n16     17.0        16.0 -0.382     0.29    -2.83         0.31        0.05\n17     18.0        14.0  1.068      NaN      NaN          NaN         NaN\n18     19.0        12.0  1.466      NaN      NaN          NaN         NaN\n19     20.0         NaN  1.080      NaN      NaN          NaN         NaN\n20     21.0        20.0  0.539     0.42    -3.10         0.37        0.02\n21     22.0        18.0  0.987     0.73    -0.65         0.63        0.17\n22     23.0        37.0  0.279     0.43    -1.80         0.41        0.13\n23     24.0        17.0  1.044      NaN      NaN          NaN         NaN\n24     25.0        19.0  0.590      NaN      NaN          NaN         NaN\n25     26.0         3.0  0.834     0.66    -0.36         0.62        0.20\n26     27.0        31.0  1.328     0.96     0.24         0.89        0.39\n27     28.0        19.0  1.295     0.71    -0.27         0.64        0.27\n28     29.0         1.0  1.129      NaN      NaN          NaN         NaN\n29     30.0        19.0  1.477      NaN      NaN          NaN         NaN\n30     31.0        16.0  1.469     0.84     0.08         0.78        0.33\n31     32.0        20.0 -0.189     0.17    -1.89         0.13        0.03\n32     33.0        22.0  0.969     0.66    -0.49         0.61        0.21\n33     41.0        15.0  0.576     0.51    -0.53         0.48        0.21\n34     42.0        20.0  0.646      NaN      NaN          NaN         NaN\n35     43.0        25.0  1.043     0.84    -0.38         0.77        0.20\n36     44.0        18.0  0.307     0.47    -2.59         0.44        0.05\n37     45.0        19.0  1.011     0.83    -0.05         0.77        0.36\n38     46.0        31.0  0.006     0.01    -3.07        -0.07        0.00\n39     47.0        20.0  1.066     0.79    -0.90         0.71        0.08\n40     48.0        24.0  0.365     0.53    -1.37         0.44        0.13\n41     49.0        26.0  0.749      NaN      NaN          NaN         NaN\n42     50.0        23.0  0.443     0.25    -2.70         0.23        0.04\n43     51.0         6.0  0.641     0.70    -0.45         0.61        0.31\n44     52.0        21.0  0.497     0.67    -0.60         0.65        0.32\n45     53.0        12.0  1.130      NaN      NaN          NaN         NaN\n46     54.0        17.0  1.594     0.91    -0.35         0.84        0.13\n47     55.0        31.0  0.813      NaN      NaN          NaN         NaN",
      "text/html": "<div>\n<style scoped>\n    .dataframe tbody tr th:only-of-type {\n        vertical-align: middle;\n    }\n\n    .dataframe tbody tr th {\n        vertical-align: top;\n    }\n\n    .dataframe thead th {\n        text-align: right;\n    }\n</style>\n<table border=\"1\" class=\"dataframe\">\n  <thead>\n    <tr style=\"text-align: right;\">\n      <th></th>\n      <th>subject</th>\n      <th>sias_score</th>\n      <th>lds</th>\n      <th>pearson</th>\n      <th>r2score</th>\n      <th>person_disc</th>\n      <th>cohen_disc</th>\n    </tr>\n  </thead>\n  <tbody>\n    <tr>\n      <th>0</th>\n      <td>1.0</td>\n      <td>21.0</td>\n      <td>0.201</td>\n      <td>0.23</td>\n      <td>-4.97</td>\n      <td>0.18</td>\n      <td>-0.02</td>\n    </tr>\n    <tr>\n      <th>1</th>\n      <td>2.0</td>\n      <td>11.0</td>\n      <td>0.828</td>\n      <td>0.75</td>\n      <td>-0.75</td>\n      <td>0.68</td>\n      <td>0.17</td>\n    </tr>\n    <tr>\n      <th>2</th>\n      <td>3.0</td>\n      <td>30.0</td>\n      <td>0.504</td>\n      <td>NaN</td>\n      <td>NaN</td>\n      <td>NaN</td>\n      <td>NaN</td>\n    </tr>\n    <tr>\n      <th>3</th>\n      <td>4.0</td>\n      <td>12.0</td>\n      <td>0.111</td>\n      <td>0.41</td>\n      <td>-1.86</td>\n      <td>0.35</td>\n      <td>0.05</td>\n    </tr>\n    <tr>\n      <th>4</th>\n      <td>5.0</td>\n      <td>30.0</td>\n      <td>0.953</td>\n      <td>0.71</td>\n      <td>-0.63</td>\n      <td>0.62</td>\n      <td>0.14</td>\n    </tr>\n    <tr>\n      <th>5</th>\n      <td>6.0</td>\n      <td>8.0</td>\n      <td>1.312</td>\n      <td>0.73</td>\n      <td>-0.08</td>\n      <td>0.65</td>\n      <td>0.24</td>\n    </tr>\n    <tr>\n      <th>6</th>\n      <td>7.0</td>\n      <td>25.0</td>\n      <td>0.535</td>\n      <td>0.67</td>\n      <td>-1.23</td>\n      <td>0.60</td>\n      <td>0.07</td>\n    </tr>\n    <tr>\n      <th>7</th>\n      <td>8.0</td>\n      <td>6.0</td>\n      <td>0.583</td>\n      <td>NaN</td>\n      <td>NaN</td>\n      <td>NaN</td>\n      <td>NaN</td>\n    </tr>\n    <tr>\n      <th>8</th>\n      <td>9.0</td>\n      <td>NaN</td>\n      <td>NaN</td>\n      <td>NaN</td>\n      <td>NaN</td>\n      <td>NaN</td>\n      <td>NaN</td>\n    </tr>\n    <tr>\n      <th>9</th>\n      <td>10.0</td>\n      <td>10.0</td>\n      <td>0.682</td>\n      <td>NaN</td>\n      <td>NaN</td>\n      <td>NaN</td>\n      <td>NaN</td>\n    </tr>\n    <tr>\n      <th>10</th>\n      <td>11.0</td>\n      <td>11.0</td>\n      <td>-0.323</td>\n      <td>NaN</td>\n      <td>NaN</td>\n      <td>NaN</td>\n      <td>NaN</td>\n    </tr>\n    <tr>\n      <th>11</th>\n      <td>12.0</td>\n      <td>19.0</td>\n      <td>0.231</td>\n      <td>NaN</td>\n      <td>NaN</td>\n      <td>NaN</td>\n      <td>NaN</td>\n    </tr>\n    <tr>\n      <th>12</th>\n      <td>13.0</td>\n      <td>16.0</td>\n      <td>0.141</td>\n      <td>0.39</td>\n      <td>-3.92</td>\n      <td>0.37</td>\n      <td>-0.01</td>\n    </tr>\n    <tr>\n      <th>13</th>\n      <td>14.0</td>\n      <td>19.0</td>\n      <td>1.002</td>\n      <td>NaN</td>\n      <td>NaN</td>\n      <td>NaN</td>\n      <td>NaN</td>\n    </tr>\n    <tr>\n      <th>14</th>\n      <td>15.0</td>\n      <td>16.0</td>\n      <td>0.693</td>\n      <td>0.66</td>\n      <td>-0.35</td>\n      <td>0.60</td>\n      <td>0.26</td>\n    </tr>\n    <tr>\n      <th>15</th>\n      <td>16.0</td>\n      <td>55.0</td>\n      <td>0.621</td>\n      <td>0.36</td>\n      <td>-1.58</td>\n      <td>0.29</td>\n      <td>0.07</td>\n    </tr>\n    <tr>\n      <th>16</th>\n      <td>17.0</td>\n      <td>16.0</td>\n      <td>-0.382</td>\n      <td>0.29</td>\n      <td>-2.83</td>\n      <td>0.31</td>\n      <td>0.05</td>\n    </tr>\n    <tr>\n      <th>17</th>\n      <td>18.0</td>\n      <td>14.0</td>\n      <td>1.068</td>\n      <td>NaN</td>\n      <td>NaN</td>\n      <td>NaN</td>\n      <td>NaN</td>\n    </tr>\n    <tr>\n      <th>18</th>\n      <td>19.0</td>\n      <td>12.0</td>\n      <td>1.466</td>\n      <td>NaN</td>\n      <td>NaN</td>\n      <td>NaN</td>\n      <td>NaN</td>\n    </tr>\n    <tr>\n      <th>19</th>\n      <td>20.0</td>\n      <td>NaN</td>\n      <td>1.080</td>\n      <td>NaN</td>\n      <td>NaN</td>\n      <td>NaN</td>\n      <td>NaN</td>\n    </tr>\n    <tr>\n      <th>20</th>\n      <td>21.0</td>\n      <td>20.0</td>\n      <td>0.539</td>\n      <td>0.42</td>\n      <td>-3.10</td>\n      <td>0.37</td>\n      <td>0.02</td>\n    </tr>\n    <tr>\n      <th>21</th>\n      <td>22.0</td>\n      <td>18.0</td>\n      <td>0.987</td>\n      <td>0.73</td>\n      <td>-0.65</td>\n      <td>0.63</td>\n      <td>0.17</td>\n    </tr>\n    <tr>\n      <th>22</th>\n      <td>23.0</td>\n      <td>37.0</td>\n      <td>0.279</td>\n      <td>0.43</td>\n      <td>-1.80</td>\n      <td>0.41</td>\n      <td>0.13</td>\n    </tr>\n    <tr>\n      <th>23</th>\n      <td>24.0</td>\n      <td>17.0</td>\n      <td>1.044</td>\n      <td>NaN</td>\n      <td>NaN</td>\n      <td>NaN</td>\n      <td>NaN</td>\n    </tr>\n    <tr>\n      <th>24</th>\n      <td>25.0</td>\n      <td>19.0</td>\n      <td>0.590</td>\n      <td>NaN</td>\n      <td>NaN</td>\n      <td>NaN</td>\n      <td>NaN</td>\n    </tr>\n    <tr>\n      <th>25</th>\n      <td>26.0</td>\n      <td>3.0</td>\n      <td>0.834</td>\n      <td>0.66</td>\n      <td>-0.36</td>\n      <td>0.62</td>\n      <td>0.20</td>\n    </tr>\n    <tr>\n      <th>26</th>\n      <td>27.0</td>\n      <td>31.0</td>\n      <td>1.328</td>\n      <td>0.96</td>\n      <td>0.24</td>\n      <td>0.89</td>\n      <td>0.39</td>\n    </tr>\n    <tr>\n      <th>27</th>\n      <td>28.0</td>\n      <td>19.0</td>\n      <td>1.295</td>\n      <td>0.71</td>\n      <td>-0.27</td>\n      <td>0.64</td>\n      <td>0.27</td>\n    </tr>\n    <tr>\n      <th>28</th>\n      <td>29.0</td>\n      <td>1.0</td>\n      <td>1.129</td>\n      <td>NaN</td>\n      <td>NaN</td>\n      <td>NaN</td>\n      <td>NaN</td>\n    </tr>\n    <tr>\n      <th>29</th>\n      <td>30.0</td>\n      <td>19.0</td>\n      <td>1.477</td>\n      <td>NaN</td>\n      <td>NaN</td>\n      <td>NaN</td>\n      <td>NaN</td>\n    </tr>\n    <tr>\n      <th>30</th>\n      <td>31.0</td>\n      <td>16.0</td>\n      <td>1.469</td>\n      <td>0.84</td>\n      <td>0.08</td>\n      <td>0.78</td>\n      <td>0.33</td>\n    </tr>\n    <tr>\n      <th>31</th>\n      <td>32.0</td>\n      <td>20.0</td>\n      <td>-0.189</td>\n      <td>0.17</td>\n      <td>-1.89</td>\n      <td>0.13</td>\n      <td>0.03</td>\n    </tr>\n    <tr>\n      <th>32</th>\n      <td>33.0</td>\n      <td>22.0</td>\n      <td>0.969</td>\n      <td>0.66</td>\n      <td>-0.49</td>\n      <td>0.61</td>\n      <td>0.21</td>\n    </tr>\n    <tr>\n      <th>33</th>\n      <td>41.0</td>\n      <td>15.0</td>\n      <td>0.576</td>\n      <td>0.51</td>\n      <td>-0.53</td>\n      <td>0.48</td>\n      <td>0.21</td>\n    </tr>\n    <tr>\n      <th>34</th>\n      <td>42.0</td>\n      <td>20.0</td>\n      <td>0.646</td>\n      <td>NaN</td>\n      <td>NaN</td>\n      <td>NaN</td>\n      <td>NaN</td>\n    </tr>\n    <tr>\n      <th>35</th>\n      <td>43.0</td>\n      <td>25.0</td>\n      <td>1.043</td>\n      <td>0.84</td>\n      <td>-0.38</td>\n      <td>0.77</td>\n      <td>0.20</td>\n    </tr>\n    <tr>\n      <th>36</th>\n      <td>44.0</td>\n      <td>18.0</td>\n      <td>0.307</td>\n      <td>0.47</td>\n      <td>-2.59</td>\n      <td>0.44</td>\n      <td>0.05</td>\n    </tr>\n    <tr>\n      <th>37</th>\n      <td>45.0</td>\n      <td>19.0</td>\n      <td>1.011</td>\n      <td>0.83</td>\n      <td>-0.05</td>\n      <td>0.77</td>\n      <td>0.36</td>\n    </tr>\n    <tr>\n      <th>38</th>\n      <td>46.0</td>\n      <td>31.0</td>\n      <td>0.006</td>\n      <td>0.01</td>\n      <td>-3.07</td>\n      <td>-0.07</td>\n      <td>0.00</td>\n    </tr>\n    <tr>\n      <th>39</th>\n      <td>47.0</td>\n      <td>20.0</td>\n      <td>1.066</td>\n      <td>0.79</td>\n      <td>-0.90</td>\n      <td>0.71</td>\n      <td>0.08</td>\n    </tr>\n    <tr>\n      <th>40</th>\n      <td>48.0</td>\n      <td>24.0</td>\n      <td>0.365</td>\n      <td>0.53</td>\n      <td>-1.37</td>\n      <td>0.44</td>\n      <td>0.13</td>\n    </tr>\n    <tr>\n      <th>41</th>\n      <td>49.0</td>\n      <td>26.0</td>\n      <td>0.749</td>\n      <td>NaN</td>\n      <td>NaN</td>\n      <td>NaN</td>\n      <td>NaN</td>\n    </tr>\n    <tr>\n      <th>42</th>\n      <td>50.0</td>\n      <td>23.0</td>\n      <td>0.443</td>\n      <td>0.25</td>\n      <td>-2.70</td>\n      <td>0.23</td>\n      <td>0.04</td>\n    </tr>\n    <tr>\n      <th>43</th>\n      <td>51.0</td>\n      <td>6.0</td>\n      <td>0.641</td>\n      <td>0.70</td>\n      <td>-0.45</td>\n      <td>0.61</td>\n      <td>0.31</td>\n    </tr>\n    <tr>\n      <th>44</th>\n      <td>52.0</td>\n      <td>21.0</td>\n      <td>0.497</td>\n      <td>0.67</td>\n      <td>-0.60</td>\n      <td>0.65</td>\n      <td>0.32</td>\n    </tr>\n    <tr>\n      <th>45</th>\n      <td>53.0</td>\n      <td>12.0</td>\n      <td>1.130</td>\n      <td>NaN</td>\n      <td>NaN</td>\n      <td>NaN</td>\n      <td>NaN</td>\n    </tr>\n    <tr>\n      <th>46</th>\n      <td>54.0</td>\n      <td>17.0</td>\n      <td>1.594</td>\n      <td>0.91</td>\n      <td>-0.35</td>\n      <td>0.84</td>\n      <td>0.13</td>\n    </tr>\n    <tr>\n      <th>47</th>\n      <td>55.0</td>\n      <td>31.0</td>\n      <td>0.813</td>\n      <td>NaN</td>\n      <td>NaN</td>\n      <td>NaN</td>\n      <td>NaN</td>\n    </tr>\n  </tbody>\n</table>\n</div>"
     },
     "execution_count": 177,
     "metadata": {},
     "output_type": "execute_result"
    }
   ],
   "source": [
    "merged_df = pd.concat([sias_df.set_index('subject'), lds_df.set_index('subject'), df_correlation.set_index('subject')], axis=1)\n",
    "merged_df = merged_df.reset_index()\n",
    "merged_df"
   ],
   "metadata": {
    "collapsed": false
   }
  },
  {
   "cell_type": "code",
   "execution_count": 64,
   "metadata": {},
   "outputs": [
    {
     "name": "stderr",
     "output_type": "stream",
     "text": [
      "/tmp/ipykernel_50788/3410993754.py:2: UserWarning: Boolean Series key will be reindexed to match DataFrame index.\n",
      "  df_corr_notna = df_corr_notna[merged_df['lds'].notna()]\n",
      "/tmp/ipykernel_50788/3410993754.py:3: UserWarning: Boolean Series key will be reindexed to match DataFrame index.\n",
      "  df_corr_notna = df_corr_notna[merged_df['sias_score'].notna()]\n"
     ]
    },
    {
     "data": {
      "text/plain": "    subject  sias_score    lds  pearson  r2score  person_disc  cohen_disc\n0       1.0        21.0  0.201     0.31    -4.44         0.31        0.04\n1       2.0        11.0  0.828     0.71    -0.39         0.70        0.25\n3       4.0        12.0  0.111     0.41    -1.49         0.40        0.05\n4       5.0        30.0  0.953     0.70    -0.26         0.68        0.25\n5       6.0         8.0  1.312     0.72     0.18         0.72        0.28\n6       7.0        25.0  0.535     0.69    -0.73         0.70        0.22\n12     13.0        16.0  0.141     0.39    -3.38         0.38        0.04\n14     15.0        16.0  0.693     0.63    -0.12         0.64        0.29\n15     16.0        55.0  0.621     0.36    -1.30         0.34        0.07\n16     17.0        16.0 -0.382     0.25    -2.57         0.26        0.09\n20     21.0        20.0  0.539     0.41    -2.61         0.38        0.06\n21     22.0        18.0  0.987     0.70    -0.33         0.69        0.24\n22     23.0        37.0  0.279     0.40    -1.56         0.40        0.17\n25     26.0         3.0  0.834     0.66    -0.07         0.66        0.23\n26     27.0        31.0  1.328     0.91     0.50         0.88        0.45\n27     28.0        19.0  1.295     0.71     0.04         0.71        0.29\n30     31.0        16.0  1.469     0.80     0.33         0.77        0.35\n31     32.0        20.0 -0.189     0.16    -1.68         0.18        0.01\n32     33.0        22.0  0.969     0.68    -0.13         0.68        0.30\n33     41.0        15.0  0.576     0.52    -0.32         0.53        0.22\n35     43.0        25.0  1.043     0.79    -0.03         0.78        0.25\n36     44.0        18.0  0.307     0.46    -2.13         0.46        0.11\n37     45.0        19.0  1.011     0.80     0.17         0.79        0.51\n38     46.0        31.0  0.006     0.02    -2.83         0.01        0.01\n39     47.0        20.0  1.066     0.78    -0.42         0.75        0.23\n40     48.0        24.0  0.365     0.53    -0.98         0.53        0.13\n42     50.0        23.0  0.443     0.21    -2.47         0.19        0.09\n43     51.0         6.0  0.641     0.68    -0.22         0.67        0.35\n44     52.0        21.0  0.497     0.60    -0.54         0.58        0.23\n46     54.0        17.0  1.594     0.88     0.10         0.85        0.18",
      "text/html": "<div>\n<style scoped>\n    .dataframe tbody tr th:only-of-type {\n        vertical-align: middle;\n    }\n\n    .dataframe tbody tr th {\n        vertical-align: top;\n    }\n\n    .dataframe thead th {\n        text-align: right;\n    }\n</style>\n<table border=\"1\" class=\"dataframe\">\n  <thead>\n    <tr style=\"text-align: right;\">\n      <th></th>\n      <th>subject</th>\n      <th>sias_score</th>\n      <th>lds</th>\n      <th>pearson</th>\n      <th>r2score</th>\n      <th>person_disc</th>\n      <th>cohen_disc</th>\n    </tr>\n  </thead>\n  <tbody>\n    <tr>\n      <th>0</th>\n      <td>1.0</td>\n      <td>21.0</td>\n      <td>0.201</td>\n      <td>0.31</td>\n      <td>-4.44</td>\n      <td>0.31</td>\n      <td>0.04</td>\n    </tr>\n    <tr>\n      <th>1</th>\n      <td>2.0</td>\n      <td>11.0</td>\n      <td>0.828</td>\n      <td>0.71</td>\n      <td>-0.39</td>\n      <td>0.70</td>\n      <td>0.25</td>\n    </tr>\n    <tr>\n      <th>3</th>\n      <td>4.0</td>\n      <td>12.0</td>\n      <td>0.111</td>\n      <td>0.41</td>\n      <td>-1.49</td>\n      <td>0.40</td>\n      <td>0.05</td>\n    </tr>\n    <tr>\n      <th>4</th>\n      <td>5.0</td>\n      <td>30.0</td>\n      <td>0.953</td>\n      <td>0.70</td>\n      <td>-0.26</td>\n      <td>0.68</td>\n      <td>0.25</td>\n    </tr>\n    <tr>\n      <th>5</th>\n      <td>6.0</td>\n      <td>8.0</td>\n      <td>1.312</td>\n      <td>0.72</td>\n      <td>0.18</td>\n      <td>0.72</td>\n      <td>0.28</td>\n    </tr>\n    <tr>\n      <th>6</th>\n      <td>7.0</td>\n      <td>25.0</td>\n      <td>0.535</td>\n      <td>0.69</td>\n      <td>-0.73</td>\n      <td>0.70</td>\n      <td>0.22</td>\n    </tr>\n    <tr>\n      <th>12</th>\n      <td>13.0</td>\n      <td>16.0</td>\n      <td>0.141</td>\n      <td>0.39</td>\n      <td>-3.38</td>\n      <td>0.38</td>\n      <td>0.04</td>\n    </tr>\n    <tr>\n      <th>14</th>\n      <td>15.0</td>\n      <td>16.0</td>\n      <td>0.693</td>\n      <td>0.63</td>\n      <td>-0.12</td>\n      <td>0.64</td>\n      <td>0.29</td>\n    </tr>\n    <tr>\n      <th>15</th>\n      <td>16.0</td>\n      <td>55.0</td>\n      <td>0.621</td>\n      <td>0.36</td>\n      <td>-1.30</td>\n      <td>0.34</td>\n      <td>0.07</td>\n    </tr>\n    <tr>\n      <th>16</th>\n      <td>17.0</td>\n      <td>16.0</td>\n      <td>-0.382</td>\n      <td>0.25</td>\n      <td>-2.57</td>\n      <td>0.26</td>\n      <td>0.09</td>\n    </tr>\n    <tr>\n      <th>20</th>\n      <td>21.0</td>\n      <td>20.0</td>\n      <td>0.539</td>\n      <td>0.41</td>\n      <td>-2.61</td>\n      <td>0.38</td>\n      <td>0.06</td>\n    </tr>\n    <tr>\n      <th>21</th>\n      <td>22.0</td>\n      <td>18.0</td>\n      <td>0.987</td>\n      <td>0.70</td>\n      <td>-0.33</td>\n      <td>0.69</td>\n      <td>0.24</td>\n    </tr>\n    <tr>\n      <th>22</th>\n      <td>23.0</td>\n      <td>37.0</td>\n      <td>0.279</td>\n      <td>0.40</td>\n      <td>-1.56</td>\n      <td>0.40</td>\n      <td>0.17</td>\n    </tr>\n    <tr>\n      <th>25</th>\n      <td>26.0</td>\n      <td>3.0</td>\n      <td>0.834</td>\n      <td>0.66</td>\n      <td>-0.07</td>\n      <td>0.66</td>\n      <td>0.23</td>\n    </tr>\n    <tr>\n      <th>26</th>\n      <td>27.0</td>\n      <td>31.0</td>\n      <td>1.328</td>\n      <td>0.91</td>\n      <td>0.50</td>\n      <td>0.88</td>\n      <td>0.45</td>\n    </tr>\n    <tr>\n      <th>27</th>\n      <td>28.0</td>\n      <td>19.0</td>\n      <td>1.295</td>\n      <td>0.71</td>\n      <td>0.04</td>\n      <td>0.71</td>\n      <td>0.29</td>\n    </tr>\n    <tr>\n      <th>30</th>\n      <td>31.0</td>\n      <td>16.0</td>\n      <td>1.469</td>\n      <td>0.80</td>\n      <td>0.33</td>\n      <td>0.77</td>\n      <td>0.35</td>\n    </tr>\n    <tr>\n      <th>31</th>\n      <td>32.0</td>\n      <td>20.0</td>\n      <td>-0.189</td>\n      <td>0.16</td>\n      <td>-1.68</td>\n      <td>0.18</td>\n      <td>0.01</td>\n    </tr>\n    <tr>\n      <th>32</th>\n      <td>33.0</td>\n      <td>22.0</td>\n      <td>0.969</td>\n      <td>0.68</td>\n      <td>-0.13</td>\n      <td>0.68</td>\n      <td>0.30</td>\n    </tr>\n    <tr>\n      <th>33</th>\n      <td>41.0</td>\n      <td>15.0</td>\n      <td>0.576</td>\n      <td>0.52</td>\n      <td>-0.32</td>\n      <td>0.53</td>\n      <td>0.22</td>\n    </tr>\n    <tr>\n      <th>35</th>\n      <td>43.0</td>\n      <td>25.0</td>\n      <td>1.043</td>\n      <td>0.79</td>\n      <td>-0.03</td>\n      <td>0.78</td>\n      <td>0.25</td>\n    </tr>\n    <tr>\n      <th>36</th>\n      <td>44.0</td>\n      <td>18.0</td>\n      <td>0.307</td>\n      <td>0.46</td>\n      <td>-2.13</td>\n      <td>0.46</td>\n      <td>0.11</td>\n    </tr>\n    <tr>\n      <th>37</th>\n      <td>45.0</td>\n      <td>19.0</td>\n      <td>1.011</td>\n      <td>0.80</td>\n      <td>0.17</td>\n      <td>0.79</td>\n      <td>0.51</td>\n    </tr>\n    <tr>\n      <th>38</th>\n      <td>46.0</td>\n      <td>31.0</td>\n      <td>0.006</td>\n      <td>0.02</td>\n      <td>-2.83</td>\n      <td>0.01</td>\n      <td>0.01</td>\n    </tr>\n    <tr>\n      <th>39</th>\n      <td>47.0</td>\n      <td>20.0</td>\n      <td>1.066</td>\n      <td>0.78</td>\n      <td>-0.42</td>\n      <td>0.75</td>\n      <td>0.23</td>\n    </tr>\n    <tr>\n      <th>40</th>\n      <td>48.0</td>\n      <td>24.0</td>\n      <td>0.365</td>\n      <td>0.53</td>\n      <td>-0.98</td>\n      <td>0.53</td>\n      <td>0.13</td>\n    </tr>\n    <tr>\n      <th>42</th>\n      <td>50.0</td>\n      <td>23.0</td>\n      <td>0.443</td>\n      <td>0.21</td>\n      <td>-2.47</td>\n      <td>0.19</td>\n      <td>0.09</td>\n    </tr>\n    <tr>\n      <th>43</th>\n      <td>51.0</td>\n      <td>6.0</td>\n      <td>0.641</td>\n      <td>0.68</td>\n      <td>-0.22</td>\n      <td>0.67</td>\n      <td>0.35</td>\n    </tr>\n    <tr>\n      <th>44</th>\n      <td>52.0</td>\n      <td>21.0</td>\n      <td>0.497</td>\n      <td>0.60</td>\n      <td>-0.54</td>\n      <td>0.58</td>\n      <td>0.23</td>\n    </tr>\n    <tr>\n      <th>46</th>\n      <td>54.0</td>\n      <td>17.0</td>\n      <td>1.594</td>\n      <td>0.88</td>\n      <td>0.10</td>\n      <td>0.85</td>\n      <td>0.18</td>\n    </tr>\n  </tbody>\n</table>\n</div>"
     },
     "execution_count": 64,
     "metadata": {},
     "output_type": "execute_result"
    }
   ],
   "source": [
    "df_corr_notna = merged_df[merged_df['pearson'].notna()]\n",
    "df_corr_notna = df_corr_notna[merged_df['lds'].notna()]\n",
    "df_corr_notna = df_corr_notna[merged_df['sias_score'].notna()]\n",
    "df_corr_notna"
   ]
  },
  {
   "cell_type": "code",
   "execution_count": 65,
   "outputs": [],
   "source": [
    "#extract subject with high value lds and lower lds\n",
    "lds_ = df_corr_notna.sort_values('lds').reset_index(drop=True)\n",
    "lower_lds = lds_[:7]\n",
    "higher_lds = lds_[-7:]"
   ],
   "metadata": {
    "collapsed": false
   }
  },
  {
   "cell_type": "markdown",
   "source": [
    "# Analysis"
   ],
   "metadata": {
    "collapsed": false
   }
  },
  {
   "cell_type": "code",
   "execution_count": 66,
   "outputs": [],
   "source": [
    "sias_ = df_corr_notna.sort_values('sias_score',ascending=True).reset_index().drop(columns='index')\n",
    "lower_sias = sias_[:5]\n",
    "sias_ = df_corr_notna.sort_values('sias_score',ascending=False).reset_index().drop(columns='index')\n",
    "higher_sias= sias_[:5]"
   ],
   "metadata": {
    "collapsed": false
   }
  },
  {
   "cell_type": "markdown",
   "source": [
    "## Analysis subject more fear gen vs less fear gen"
   ],
   "metadata": {
    "collapsed": false
   }
  },
  {
   "cell_type": "code",
   "execution_count": 67,
   "outputs": [
    {
     "name": "stdout",
     "output_type": "stream",
     "text": [
      "Correlation between 7 more/less fear gen subjects with the rational agent\n",
      "\n",
      "Pearson\n",
      "High fear gen:  0.31  Low fear gen: 0.79\n",
      "\n",
      "R2score\n",
      "High fear gen:  -2.57  Low fear gen: 0.1\n"
     ]
    }
   ],
   "source": [
    "l_low_p = lower_lds['pearson'].median()\n",
    "l_hig_p = higher_lds['pearson'].median()\n",
    "l_low_r = lower_lds['r2score'].median()\n",
    "l_hig_r = higher_lds['r2score'].median()\n",
    "\n",
    "print('Correlation between 7 more/less fear gen subjects with the rational agent\\n')\n",
    "print('Pearson\\nHigh fear gen: ',l_low_p, ' Low fear gen:',l_hig_p)\n",
    "print('\\nR2score\\nHigh fear gen: ',l_low_r, ' Low fear gen:',l_hig_r)"
   ],
   "metadata": {
    "collapsed": false
   }
  },
  {
   "cell_type": "markdown",
   "source": [
    "## Analysis subject more anxiety vs less anxiety"
   ],
   "metadata": {
    "collapsed": false
   }
  },
  {
   "cell_type": "code",
   "execution_count": 68,
   "outputs": [
    {
     "data": {
      "text/plain": "   subject  sias_score    lds  pearson  r2score  person_disc  cohen_disc\n0     26.0         3.0  0.834     0.66    -0.07         0.66        0.23\n1     51.0         6.0  0.641     0.68    -0.22         0.67        0.35\n2      6.0         8.0  1.312     0.72     0.18         0.72        0.28\n3      2.0        11.0  0.828     0.71    -0.39         0.70        0.25\n4      4.0        12.0  0.111     0.41    -1.49         0.40        0.05",
      "text/html": "<div>\n<style scoped>\n    .dataframe tbody tr th:only-of-type {\n        vertical-align: middle;\n    }\n\n    .dataframe tbody tr th {\n        vertical-align: top;\n    }\n\n    .dataframe thead th {\n        text-align: right;\n    }\n</style>\n<table border=\"1\" class=\"dataframe\">\n  <thead>\n    <tr style=\"text-align: right;\">\n      <th></th>\n      <th>subject</th>\n      <th>sias_score</th>\n      <th>lds</th>\n      <th>pearson</th>\n      <th>r2score</th>\n      <th>person_disc</th>\n      <th>cohen_disc</th>\n    </tr>\n  </thead>\n  <tbody>\n    <tr>\n      <th>0</th>\n      <td>26.0</td>\n      <td>3.0</td>\n      <td>0.834</td>\n      <td>0.66</td>\n      <td>-0.07</td>\n      <td>0.66</td>\n      <td>0.23</td>\n    </tr>\n    <tr>\n      <th>1</th>\n      <td>51.0</td>\n      <td>6.0</td>\n      <td>0.641</td>\n      <td>0.68</td>\n      <td>-0.22</td>\n      <td>0.67</td>\n      <td>0.35</td>\n    </tr>\n    <tr>\n      <th>2</th>\n      <td>6.0</td>\n      <td>8.0</td>\n      <td>1.312</td>\n      <td>0.72</td>\n      <td>0.18</td>\n      <td>0.72</td>\n      <td>0.28</td>\n    </tr>\n    <tr>\n      <th>3</th>\n      <td>2.0</td>\n      <td>11.0</td>\n      <td>0.828</td>\n      <td>0.71</td>\n      <td>-0.39</td>\n      <td>0.70</td>\n      <td>0.25</td>\n    </tr>\n    <tr>\n      <th>4</th>\n      <td>4.0</td>\n      <td>12.0</td>\n      <td>0.111</td>\n      <td>0.41</td>\n      <td>-1.49</td>\n      <td>0.40</td>\n      <td>0.05</td>\n    </tr>\n  </tbody>\n</table>\n</div>"
     },
     "execution_count": 68,
     "metadata": {},
     "output_type": "execute_result"
    }
   ],
   "source": [
    "lower_sias"
   ],
   "metadata": {
    "collapsed": false
   }
  },
  {
   "cell_type": "code",
   "execution_count": 69,
   "outputs": [
    {
     "name": "stdout",
     "output_type": "stream",
     "text": [
      "Correlation between 5 more/less anxiety subjects with the rational agent\n",
      "\n",
      "Pearson\n",
      "High anxiety:  0.4  Low anxiety: 0.68\n",
      "\n",
      "R2score\n",
      "High anxiety:  -1.3  Low anxiety: -0.22\n"
     ]
    }
   ],
   "source": [
    "s_low_p = lower_sias['pearson'].median()\n",
    "s_hig_p = higher_sias['pearson'].median()\n",
    "\n",
    "s_low_r = lower_sias['r2score'].median()\n",
    "s_hig_r = higher_sias['r2score'].median()\n",
    "\n",
    "print('Correlation between 5 more/less anxiety subjects with the rational agent\\n')\n",
    "print('Pearson\\nHigh anxiety: ',s_hig_p, ' Low anxiety:',s_low_p)\n",
    "print('\\nR2score\\nHigh anxiety: ',s_hig_r, ' Low anxiety:',s_low_r)"
   ],
   "metadata": {
    "collapsed": false
   }
  },
  {
   "cell_type": "code",
   "execution_count": 70,
   "outputs": [
    {
     "data": {
      "text/plain": "    subject  sias_score    lds  pearson  r2score  person_disc  cohen_disc\n0      16.0        55.0  0.621     0.36    -1.30         0.34        0.07\n1      23.0        37.0  0.279     0.40    -1.56         0.40        0.17\n2      46.0        31.0  0.006     0.02    -2.83         0.01        0.01\n3      27.0        31.0  1.328     0.91     0.50         0.88        0.45\n4       5.0        30.0  0.953     0.70    -0.26         0.68        0.25\n5       7.0        25.0  0.535     0.69    -0.73         0.70        0.22\n6      43.0        25.0  1.043     0.79    -0.03         0.78        0.25\n7      48.0        24.0  0.365     0.53    -0.98         0.53        0.13\n8      50.0        23.0  0.443     0.21    -2.47         0.19        0.09\n9      33.0        22.0  0.969     0.68    -0.13         0.68        0.30\n10      1.0        21.0  0.201     0.31    -4.44         0.31        0.04\n11     52.0        21.0  0.497     0.60    -0.54         0.58        0.23\n12     32.0        20.0 -0.189     0.16    -1.68         0.18        0.01\n13     47.0        20.0  1.066     0.78    -0.42         0.75        0.23\n14     21.0        20.0  0.539     0.41    -2.61         0.38        0.06\n15     45.0        19.0  1.011     0.80     0.17         0.79        0.51\n16     28.0        19.0  1.295     0.71     0.04         0.71        0.29\n17     44.0        18.0  0.307     0.46    -2.13         0.46        0.11\n18     22.0        18.0  0.987     0.70    -0.33         0.69        0.24\n19     54.0        17.0  1.594     0.88     0.10         0.85        0.18\n20     31.0        16.0  1.469     0.80     0.33         0.77        0.35\n21     17.0        16.0 -0.382     0.25    -2.57         0.26        0.09\n22     15.0        16.0  0.693     0.63    -0.12         0.64        0.29\n23     13.0        16.0  0.141     0.39    -3.38         0.38        0.04\n24     41.0        15.0  0.576     0.52    -0.32         0.53        0.22\n25      4.0        12.0  0.111     0.41    -1.49         0.40        0.05\n26      2.0        11.0  0.828     0.71    -0.39         0.70        0.25\n27      6.0         8.0  1.312     0.72     0.18         0.72        0.28\n28     51.0         6.0  0.641     0.68    -0.22         0.67        0.35\n29     26.0         3.0  0.834     0.66    -0.07         0.66        0.23",
      "text/html": "<div>\n<style scoped>\n    .dataframe tbody tr th:only-of-type {\n        vertical-align: middle;\n    }\n\n    .dataframe tbody tr th {\n        vertical-align: top;\n    }\n\n    .dataframe thead th {\n        text-align: right;\n    }\n</style>\n<table border=\"1\" class=\"dataframe\">\n  <thead>\n    <tr style=\"text-align: right;\">\n      <th></th>\n      <th>subject</th>\n      <th>sias_score</th>\n      <th>lds</th>\n      <th>pearson</th>\n      <th>r2score</th>\n      <th>person_disc</th>\n      <th>cohen_disc</th>\n    </tr>\n  </thead>\n  <tbody>\n    <tr>\n      <th>0</th>\n      <td>16.0</td>\n      <td>55.0</td>\n      <td>0.621</td>\n      <td>0.36</td>\n      <td>-1.30</td>\n      <td>0.34</td>\n      <td>0.07</td>\n    </tr>\n    <tr>\n      <th>1</th>\n      <td>23.0</td>\n      <td>37.0</td>\n      <td>0.279</td>\n      <td>0.40</td>\n      <td>-1.56</td>\n      <td>0.40</td>\n      <td>0.17</td>\n    </tr>\n    <tr>\n      <th>2</th>\n      <td>46.0</td>\n      <td>31.0</td>\n      <td>0.006</td>\n      <td>0.02</td>\n      <td>-2.83</td>\n      <td>0.01</td>\n      <td>0.01</td>\n    </tr>\n    <tr>\n      <th>3</th>\n      <td>27.0</td>\n      <td>31.0</td>\n      <td>1.328</td>\n      <td>0.91</td>\n      <td>0.50</td>\n      <td>0.88</td>\n      <td>0.45</td>\n    </tr>\n    <tr>\n      <th>4</th>\n      <td>5.0</td>\n      <td>30.0</td>\n      <td>0.953</td>\n      <td>0.70</td>\n      <td>-0.26</td>\n      <td>0.68</td>\n      <td>0.25</td>\n    </tr>\n    <tr>\n      <th>5</th>\n      <td>7.0</td>\n      <td>25.0</td>\n      <td>0.535</td>\n      <td>0.69</td>\n      <td>-0.73</td>\n      <td>0.70</td>\n      <td>0.22</td>\n    </tr>\n    <tr>\n      <th>6</th>\n      <td>43.0</td>\n      <td>25.0</td>\n      <td>1.043</td>\n      <td>0.79</td>\n      <td>-0.03</td>\n      <td>0.78</td>\n      <td>0.25</td>\n    </tr>\n    <tr>\n      <th>7</th>\n      <td>48.0</td>\n      <td>24.0</td>\n      <td>0.365</td>\n      <td>0.53</td>\n      <td>-0.98</td>\n      <td>0.53</td>\n      <td>0.13</td>\n    </tr>\n    <tr>\n      <th>8</th>\n      <td>50.0</td>\n      <td>23.0</td>\n      <td>0.443</td>\n      <td>0.21</td>\n      <td>-2.47</td>\n      <td>0.19</td>\n      <td>0.09</td>\n    </tr>\n    <tr>\n      <th>9</th>\n      <td>33.0</td>\n      <td>22.0</td>\n      <td>0.969</td>\n      <td>0.68</td>\n      <td>-0.13</td>\n      <td>0.68</td>\n      <td>0.30</td>\n    </tr>\n    <tr>\n      <th>10</th>\n      <td>1.0</td>\n      <td>21.0</td>\n      <td>0.201</td>\n      <td>0.31</td>\n      <td>-4.44</td>\n      <td>0.31</td>\n      <td>0.04</td>\n    </tr>\n    <tr>\n      <th>11</th>\n      <td>52.0</td>\n      <td>21.0</td>\n      <td>0.497</td>\n      <td>0.60</td>\n      <td>-0.54</td>\n      <td>0.58</td>\n      <td>0.23</td>\n    </tr>\n    <tr>\n      <th>12</th>\n      <td>32.0</td>\n      <td>20.0</td>\n      <td>-0.189</td>\n      <td>0.16</td>\n      <td>-1.68</td>\n      <td>0.18</td>\n      <td>0.01</td>\n    </tr>\n    <tr>\n      <th>13</th>\n      <td>47.0</td>\n      <td>20.0</td>\n      <td>1.066</td>\n      <td>0.78</td>\n      <td>-0.42</td>\n      <td>0.75</td>\n      <td>0.23</td>\n    </tr>\n    <tr>\n      <th>14</th>\n      <td>21.0</td>\n      <td>20.0</td>\n      <td>0.539</td>\n      <td>0.41</td>\n      <td>-2.61</td>\n      <td>0.38</td>\n      <td>0.06</td>\n    </tr>\n    <tr>\n      <th>15</th>\n      <td>45.0</td>\n      <td>19.0</td>\n      <td>1.011</td>\n      <td>0.80</td>\n      <td>0.17</td>\n      <td>0.79</td>\n      <td>0.51</td>\n    </tr>\n    <tr>\n      <th>16</th>\n      <td>28.0</td>\n      <td>19.0</td>\n      <td>1.295</td>\n      <td>0.71</td>\n      <td>0.04</td>\n      <td>0.71</td>\n      <td>0.29</td>\n    </tr>\n    <tr>\n      <th>17</th>\n      <td>44.0</td>\n      <td>18.0</td>\n      <td>0.307</td>\n      <td>0.46</td>\n      <td>-2.13</td>\n      <td>0.46</td>\n      <td>0.11</td>\n    </tr>\n    <tr>\n      <th>18</th>\n      <td>22.0</td>\n      <td>18.0</td>\n      <td>0.987</td>\n      <td>0.70</td>\n      <td>-0.33</td>\n      <td>0.69</td>\n      <td>0.24</td>\n    </tr>\n    <tr>\n      <th>19</th>\n      <td>54.0</td>\n      <td>17.0</td>\n      <td>1.594</td>\n      <td>0.88</td>\n      <td>0.10</td>\n      <td>0.85</td>\n      <td>0.18</td>\n    </tr>\n    <tr>\n      <th>20</th>\n      <td>31.0</td>\n      <td>16.0</td>\n      <td>1.469</td>\n      <td>0.80</td>\n      <td>0.33</td>\n      <td>0.77</td>\n      <td>0.35</td>\n    </tr>\n    <tr>\n      <th>21</th>\n      <td>17.0</td>\n      <td>16.0</td>\n      <td>-0.382</td>\n      <td>0.25</td>\n      <td>-2.57</td>\n      <td>0.26</td>\n      <td>0.09</td>\n    </tr>\n    <tr>\n      <th>22</th>\n      <td>15.0</td>\n      <td>16.0</td>\n      <td>0.693</td>\n      <td>0.63</td>\n      <td>-0.12</td>\n      <td>0.64</td>\n      <td>0.29</td>\n    </tr>\n    <tr>\n      <th>23</th>\n      <td>13.0</td>\n      <td>16.0</td>\n      <td>0.141</td>\n      <td>0.39</td>\n      <td>-3.38</td>\n      <td>0.38</td>\n      <td>0.04</td>\n    </tr>\n    <tr>\n      <th>24</th>\n      <td>41.0</td>\n      <td>15.0</td>\n      <td>0.576</td>\n      <td>0.52</td>\n      <td>-0.32</td>\n      <td>0.53</td>\n      <td>0.22</td>\n    </tr>\n    <tr>\n      <th>25</th>\n      <td>4.0</td>\n      <td>12.0</td>\n      <td>0.111</td>\n      <td>0.41</td>\n      <td>-1.49</td>\n      <td>0.40</td>\n      <td>0.05</td>\n    </tr>\n    <tr>\n      <th>26</th>\n      <td>2.0</td>\n      <td>11.0</td>\n      <td>0.828</td>\n      <td>0.71</td>\n      <td>-0.39</td>\n      <td>0.70</td>\n      <td>0.25</td>\n    </tr>\n    <tr>\n      <th>27</th>\n      <td>6.0</td>\n      <td>8.0</td>\n      <td>1.312</td>\n      <td>0.72</td>\n      <td>0.18</td>\n      <td>0.72</td>\n      <td>0.28</td>\n    </tr>\n    <tr>\n      <th>28</th>\n      <td>51.0</td>\n      <td>6.0</td>\n      <td>0.641</td>\n      <td>0.68</td>\n      <td>-0.22</td>\n      <td>0.67</td>\n      <td>0.35</td>\n    </tr>\n    <tr>\n      <th>29</th>\n      <td>26.0</td>\n      <td>3.0</td>\n      <td>0.834</td>\n      <td>0.66</td>\n      <td>-0.07</td>\n      <td>0.66</td>\n      <td>0.23</td>\n    </tr>\n  </tbody>\n</table>\n</div>"
     },
     "execution_count": 70,
     "metadata": {},
     "output_type": "execute_result"
    }
   ],
   "source": [
    "sias_"
   ],
   "metadata": {
    "collapsed": false
   }
  },
  {
   "cell_type": "code",
   "execution_count": 71,
   "outputs": [
    {
     "data": {
      "text/plain": "0.68"
     },
     "execution_count": 71,
     "metadata": {},
     "output_type": "execute_result"
    }
   ],
   "source": [
    "lower_sias['pearson'].median()"
   ],
   "metadata": {
    "collapsed": false
   }
  },
  {
   "cell_type": "code",
   "execution_count": 72,
   "outputs": [
    {
     "data": {
      "text/plain": "0.4"
     },
     "execution_count": 72,
     "metadata": {},
     "output_type": "execute_result"
    }
   ],
   "source": [
    "higher_sias['pearson'].median()"
   ],
   "metadata": {
    "collapsed": false
   }
  },
  {
   "cell_type": "markdown",
   "source": [
    "# autorank"
   ],
   "metadata": {
    "collapsed": false
   }
  },
  {
   "cell_type": "markdown",
   "source": [
    "## SIAS: low vs high. pearson corr coeff"
   ],
   "metadata": {
    "collapsed": false
   }
  },
  {
   "cell_type": "code",
   "execution_count": 74,
   "outputs": [],
   "source": [
    "total_array_simulated = np.load('output/pyro/complete_rational/total.npy', allow_pickle=True)\n",
    "values = np.array([0, 0.2, 0.4, 0.6, 0.8, 1])\n",
    "discretized_data = np.digitize(total_array_simulated, values)"
   ],
   "metadata": {
    "collapsed": false
   }
  },
  {
   "cell_type": "code",
   "execution_count": 74,
   "outputs": [],
   "source": [],
   "metadata": {
    "collapsed": false
   }
  },
  {
   "cell_type": "code",
   "execution_count": 75,
   "outputs": [
    {
     "name": "stdout",
     "output_type": "stream",
     "text": [
      "RankResult(rankdf=\n",
      "              median   mad ci_lower ci_upper effect_size   magnitude  p_equal  \\\n",
      "pearson low     0.68  0.03     0.41     0.72         0.0  negligible      NaN   \n",
      "pearson high    0.40   0.3     0.02     0.91    0.885864       large  0.01256   \n",
      "\n",
      "              p_smaller      decision  \n",
      "pearson low         NaN            NA  \n",
      "pearson high    0.83934  inconclusive  \n",
      "pvalue=None\n",
      "cd=None\n",
      "omnibus=bayes\n",
      "posthoc=bayes\n",
      "all_normal=False\n",
      "pvals_shapiro=[0.015134504064917564, 0.9022369384765625]\n",
      "homoscedastic=None\n",
      "pval_homogeneity=None\n",
      "homogeneity_test=None\n",
      "alpha=0.05\n",
      "alpha_normality=0.025\n",
      "num_samples=5\n",
      "posterior_matrix=\n",
      "             pearson low                pearson high\n",
      "pearson low          NaN  (0.83934, 0.01256, 0.1481)\n",
      "pearson high         NaN                         NaN\n",
      "decision_matrix=\n",
      "               pearson low  pearson high\n",
      "pearson low            NaN  inconclusive\n",
      "pearson high  inconclusive           NaN\n",
      "rope=0.1\n",
      "rope_mode=effsize\n",
      "effect_size=akinshin_gamma)\n"
     ]
    }
   ],
   "source": [
    "sias_autorank = pd.DataFrame(columns=('pearson low','pearson high'))\n",
    "sias_autorank['pearson low'] = lower_sias['pearson']\n",
    "sias_autorank['pearson high'] = higher_sias['pearson']\n",
    "\n",
    "result = autorank(sias_autorank, alpha=0.05, verbose=False, approach='bayesian')\n",
    "print(result)"
   ],
   "metadata": {
    "collapsed": false
   }
  },
  {
   "cell_type": "code",
   "execution_count": 76,
   "outputs": [
    {
     "data": {
      "text/plain": "              median   mad ci_lower ci_upper effect_size   magnitude  p_equal  \\\npearson low     0.68  0.03     0.41     0.72         0.0  negligible      NaN   \npearson high    0.40   0.3     0.02     0.91    0.885864       large  0.01256   \n\n              p_smaller      decision  \npearson low         NaN            NA  \npearson high    0.83934  inconclusive  ",
      "text/html": "<div>\n<style scoped>\n    .dataframe tbody tr th:only-of-type {\n        vertical-align: middle;\n    }\n\n    .dataframe tbody tr th {\n        vertical-align: top;\n    }\n\n    .dataframe thead th {\n        text-align: right;\n    }\n</style>\n<table border=\"1\" class=\"dataframe\">\n  <thead>\n    <tr style=\"text-align: right;\">\n      <th></th>\n      <th>median</th>\n      <th>mad</th>\n      <th>ci_lower</th>\n      <th>ci_upper</th>\n      <th>effect_size</th>\n      <th>magnitude</th>\n      <th>p_equal</th>\n      <th>p_smaller</th>\n      <th>decision</th>\n    </tr>\n  </thead>\n  <tbody>\n    <tr>\n      <th>pearson low</th>\n      <td>0.68</td>\n      <td>0.03</td>\n      <td>0.41</td>\n      <td>0.72</td>\n      <td>0.0</td>\n      <td>negligible</td>\n      <td>NaN</td>\n      <td>NaN</td>\n      <td>NA</td>\n    </tr>\n    <tr>\n      <th>pearson high</th>\n      <td>0.40</td>\n      <td>0.3</td>\n      <td>0.02</td>\n      <td>0.91</td>\n      <td>0.885864</td>\n      <td>large</td>\n      <td>0.01256</td>\n      <td>0.83934</td>\n      <td>inconclusive</td>\n    </tr>\n  </tbody>\n</table>\n</div>"
     },
     "execution_count": 76,
     "metadata": {},
     "output_type": "execute_result"
    }
   ],
   "source": [
    "result[0]"
   ],
   "metadata": {
    "collapsed": false
   }
  },
  {
   "cell_type": "markdown",
   "source": [
    "## SIAS: low vs high. r2 score"
   ],
   "metadata": {
    "collapsed": false
   }
  },
  {
   "cell_type": "code",
   "execution_count": 77,
   "outputs": [
    {
     "name": "stdout",
     "output_type": "stream",
     "text": [
      "RankResult(rankdf=\n",
      "          mean       std  ci_lower  ci_upper effect_size   magnitude  p_equal  \\\n",
      "r2 low  -0.398  0.645345  -1.64324   0.84724         0.0  negligible      NaN   \n",
      "r2 high -1.090  1.275696 -3.551548  1.371548    0.684533      medium  0.01326   \n",
      "\n",
      "         p_smaller      decision  \n",
      "r2 low         NaN            NA  \n",
      "r2 high    0.84014  inconclusive  \n",
      "pvalue=None\n",
      "cd=None\n",
      "omnibus=bayes\n",
      "posthoc=bayes\n",
      "all_normal=True\n",
      "pvals_shapiro=[0.18232591450214386, 0.9398150444030762]\n",
      "homoscedastic=None\n",
      "pval_homogeneity=None\n",
      "homogeneity_test=None\n",
      "alpha=0.05\n",
      "alpha_normality=0.025\n",
      "num_samples=5\n",
      "posterior_matrix=\n",
      "        r2 low                     r2 high\n",
      "r2 low     NaN  (0.84014, 0.01326, 0.1466)\n",
      "r2 high    NaN                         NaN\n",
      "decision_matrix=\n",
      "               r2 low       r2 high\n",
      "r2 low            NaN  inconclusive\n",
      "r2 high  inconclusive           NaN\n",
      "rope=0.1\n",
      "rope_mode=effsize\n",
      "effect_size=cohen_d)\n"
     ]
    }
   ],
   "source": [
    "sias_autorank = pd.DataFrame(columns=('r2 low','r2 high'))\n",
    "sias_autorank['r2 low'] = lower_sias['r2score']\n",
    "sias_autorank['r2 high'] = higher_sias['r2score']\n",
    "\n",
    "result = autorank(sias_autorank, alpha=0.05, verbose=False, approach='bayesian')\n",
    "print(result)"
   ],
   "metadata": {
    "collapsed": false
   }
  },
  {
   "cell_type": "code",
   "execution_count": 78,
   "outputs": [
    {
     "data": {
      "text/plain": "          mean       std  ci_lower  ci_upper effect_size   magnitude  p_equal  \\\nr2 low  -0.398  0.645345  -1.64324   0.84724         0.0  negligible      NaN   \nr2 high -1.090  1.275696 -3.551548  1.371548    0.684533      medium  0.01326   \n\n         p_smaller      decision  \nr2 low         NaN            NA  \nr2 high    0.84014  inconclusive  ",
      "text/html": "<div>\n<style scoped>\n    .dataframe tbody tr th:only-of-type {\n        vertical-align: middle;\n    }\n\n    .dataframe tbody tr th {\n        vertical-align: top;\n    }\n\n    .dataframe thead th {\n        text-align: right;\n    }\n</style>\n<table border=\"1\" class=\"dataframe\">\n  <thead>\n    <tr style=\"text-align: right;\">\n      <th></th>\n      <th>mean</th>\n      <th>std</th>\n      <th>ci_lower</th>\n      <th>ci_upper</th>\n      <th>effect_size</th>\n      <th>magnitude</th>\n      <th>p_equal</th>\n      <th>p_smaller</th>\n      <th>decision</th>\n    </tr>\n  </thead>\n  <tbody>\n    <tr>\n      <th>r2 low</th>\n      <td>-0.398</td>\n      <td>0.645345</td>\n      <td>-1.64324</td>\n      <td>0.84724</td>\n      <td>0.0</td>\n      <td>negligible</td>\n      <td>NaN</td>\n      <td>NaN</td>\n      <td>NA</td>\n    </tr>\n    <tr>\n      <th>r2 high</th>\n      <td>-1.090</td>\n      <td>1.275696</td>\n      <td>-3.551548</td>\n      <td>1.371548</td>\n      <td>0.684533</td>\n      <td>medium</td>\n      <td>0.01326</td>\n      <td>0.84014</td>\n      <td>inconclusive</td>\n    </tr>\n  </tbody>\n</table>\n</div>"
     },
     "execution_count": 78,
     "metadata": {},
     "output_type": "execute_result"
    }
   ],
   "source": [
    "result[0]"
   ],
   "metadata": {
    "collapsed": false
   }
  },
  {
   "cell_type": "markdown",
   "source": [
    "## LDS: low vs high. pearson corr coef"
   ],
   "metadata": {
    "collapsed": false
   }
  },
  {
   "cell_type": "code",
   "execution_count": 79,
   "outputs": [
    {
     "name": "stdout",
     "output_type": "stream",
     "text": [
      "RankResult(rankdf=\n",
      "                  mean       std  ci_lower  ci_upper effect_size   magnitude  \\\n",
      "pearson low   0.277143  0.145569  0.083405  0.470881         0.0  negligible   \n",
      "pearson high       NaN       NaN       NaN       NaN         NaN       large   \n",
      "\n",
      "              p_equal  p_smaller decision  \n",
      "pearson low       NaN        NaN       NA  \n",
      "pearson high      0.0        1.0  smaller  \n",
      "pvalue=None\n",
      "cd=None\n",
      "omnibus=bayes\n",
      "posthoc=bayes\n",
      "all_normal=True\n",
      "pvals_shapiro=[0.25091370940208435, 1.0]\n",
      "homoscedastic=None\n",
      "pval_homogeneity=None\n",
      "homogeneity_test=None\n",
      "alpha=0.05\n",
      "alpha_normality=0.025\n",
      "num_samples=7\n",
      "posterior_matrix=\n",
      "             pearson low     pearson high\n",
      "pearson low          NaN  (1.0, 0.0, 0.0)\n",
      "pearson high         NaN              NaN\n",
      "decision_matrix=\n",
      "             pearson low pearson high\n",
      "pearson low          NaN      smaller\n",
      "pearson high      larger          NaN\n",
      "rope=0.1\n",
      "rope_mode=effsize\n",
      "effect_size=cohen_d)\n"
     ]
    }
   ],
   "source": [
    "lds_autorank = pd.DataFrame(columns=('pearson low','pearson high'))\n",
    "lds_autorank['pearson low'] = lower_lds['pearson']\n",
    "lds_autorank['pearson high'] = higher_lds['pearson']\n",
    "\n",
    "result = autorank(lds_autorank, alpha=0.05, verbose=False, approach='bayesian')\n",
    "print(result)"
   ],
   "metadata": {
    "collapsed": false
   }
  },
  {
   "cell_type": "code",
   "execution_count": 80,
   "outputs": [
    {
     "data": {
      "text/plain": "                  mean       std  ci_lower  ci_upper effect_size   magnitude  \\\npearson low   0.277143  0.145569  0.083405  0.470881         0.0  negligible   \npearson high       NaN       NaN       NaN       NaN         NaN       large   \n\n              p_equal  p_smaller decision  \npearson low       NaN        NaN       NA  \npearson high      0.0        1.0  smaller  ",
      "text/html": "<div>\n<style scoped>\n    .dataframe tbody tr th:only-of-type {\n        vertical-align: middle;\n    }\n\n    .dataframe tbody tr th {\n        vertical-align: top;\n    }\n\n    .dataframe thead th {\n        text-align: right;\n    }\n</style>\n<table border=\"1\" class=\"dataframe\">\n  <thead>\n    <tr style=\"text-align: right;\">\n      <th></th>\n      <th>mean</th>\n      <th>std</th>\n      <th>ci_lower</th>\n      <th>ci_upper</th>\n      <th>effect_size</th>\n      <th>magnitude</th>\n      <th>p_equal</th>\n      <th>p_smaller</th>\n      <th>decision</th>\n    </tr>\n  </thead>\n  <tbody>\n    <tr>\n      <th>pearson low</th>\n      <td>0.277143</td>\n      <td>0.145569</td>\n      <td>0.083405</td>\n      <td>0.470881</td>\n      <td>0.0</td>\n      <td>negligible</td>\n      <td>NaN</td>\n      <td>NaN</td>\n      <td>NA</td>\n    </tr>\n    <tr>\n      <th>pearson high</th>\n      <td>NaN</td>\n      <td>NaN</td>\n      <td>NaN</td>\n      <td>NaN</td>\n      <td>NaN</td>\n      <td>large</td>\n      <td>0.0</td>\n      <td>1.0</td>\n      <td>smaller</td>\n    </tr>\n  </tbody>\n</table>\n</div>"
     },
     "execution_count": 80,
     "metadata": {},
     "output_type": "execute_result"
    }
   ],
   "source": [
    "result[0]"
   ],
   "metadata": {
    "collapsed": false
   }
  },
  {
   "cell_type": "markdown",
   "source": [
    "## LDS: low vs high. r2 corr coef"
   ],
   "metadata": {
    "collapsed": false
   }
  },
  {
   "cell_type": "code",
   "execution_count": 81,
   "outputs": [
    {
     "name": "stdout",
     "output_type": "stream",
     "text": [
      "RankResult(rankdf=\n",
      "                  mean       std  ci_lower  ci_upper effect_size   magnitude  \\\n",
      "r2score low  -2.564286  1.095367 -4.022106 -1.106465         0.0  negligible   \n",
      "r2score high       NaN       NaN       NaN       NaN         NaN       large   \n",
      "\n",
      "              p_equal  p_smaller decision  \n",
      "r2score low       NaN        NaN       NA  \n",
      "r2score high      0.0        1.0  smaller  \n",
      "pvalue=None\n",
      "cd=None\n",
      "omnibus=bayes\n",
      "posthoc=bayes\n",
      "all_normal=True\n",
      "pvals_shapiro=[0.36002030968666077, 1.0]\n",
      "homoscedastic=None\n",
      "pval_homogeneity=None\n",
      "homogeneity_test=None\n",
      "alpha=0.05\n",
      "alpha_normality=0.025\n",
      "num_samples=7\n",
      "posterior_matrix=\n",
      "             r2score low     r2score high\n",
      "r2score low          NaN  (1.0, 0.0, 0.0)\n",
      "r2score high         NaN              NaN\n",
      "decision_matrix=\n",
      "             r2score low r2score high\n",
      "r2score low          NaN      smaller\n",
      "r2score high      larger          NaN\n",
      "rope=0.1\n",
      "rope_mode=effsize\n",
      "effect_size=cohen_d)\n"
     ]
    }
   ],
   "source": [
    "lds_autorank = pd.DataFrame(columns=('r2score low','r2score high'))\n",
    "lds_autorank['r2score low'] = lower_lds['r2score']\n",
    "lds_autorank['r2score high'] = higher_lds['r2score']\n",
    "\n",
    "result = autorank(lds_autorank, alpha=0.05, verbose=False, approach='bayesian')\n",
    "print(result)"
   ],
   "metadata": {
    "collapsed": false
   }
  },
  {
   "cell_type": "code",
   "execution_count": 82,
   "outputs": [
    {
     "data": {
      "text/plain": "                  mean       std  ci_lower  ci_upper effect_size   magnitude  \\\nr2score low  -2.564286  1.095367 -4.022106 -1.106465         0.0  negligible   \nr2score high       NaN       NaN       NaN       NaN         NaN       large   \n\n              p_equal  p_smaller decision  \nr2score low       NaN        NaN       NA  \nr2score high      0.0        1.0  smaller  ",
      "text/html": "<div>\n<style scoped>\n    .dataframe tbody tr th:only-of-type {\n        vertical-align: middle;\n    }\n\n    .dataframe tbody tr th {\n        vertical-align: top;\n    }\n\n    .dataframe thead th {\n        text-align: right;\n    }\n</style>\n<table border=\"1\" class=\"dataframe\">\n  <thead>\n    <tr style=\"text-align: right;\">\n      <th></th>\n      <th>mean</th>\n      <th>std</th>\n      <th>ci_lower</th>\n      <th>ci_upper</th>\n      <th>effect_size</th>\n      <th>magnitude</th>\n      <th>p_equal</th>\n      <th>p_smaller</th>\n      <th>decision</th>\n    </tr>\n  </thead>\n  <tbody>\n    <tr>\n      <th>r2score low</th>\n      <td>-2.564286</td>\n      <td>1.095367</td>\n      <td>-4.022106</td>\n      <td>-1.106465</td>\n      <td>0.0</td>\n      <td>negligible</td>\n      <td>NaN</td>\n      <td>NaN</td>\n      <td>NA</td>\n    </tr>\n    <tr>\n      <th>r2score high</th>\n      <td>NaN</td>\n      <td>NaN</td>\n      <td>NaN</td>\n      <td>NaN</td>\n      <td>NaN</td>\n      <td>large</td>\n      <td>0.0</td>\n      <td>1.0</td>\n      <td>smaller</td>\n    </tr>\n  </tbody>\n</table>\n</div>"
     },
     "execution_count": 82,
     "metadata": {},
     "output_type": "execute_result"
    }
   ],
   "source": [
    "result[0]"
   ],
   "metadata": {
    "collapsed": false
   }
  },
  {
   "cell_type": "code",
   "execution_count": 83,
   "outputs": [
    {
     "data": {
      "text/plain": "       pop_0     pop_1     pop_2     pop_3     pop_4     pop_5\n0   0.255378  0.948095  0.383810  0.986213  0.429947  0.735235\n1   0.554327  0.442666  0.435739  0.536383  0.479074  1.000000\n2   0.331347  0.351250  0.517586  0.861229  0.488186  0.493809\n3   0.206977  0.827599  0.482343  1.000000  0.765548  1.000000\n4   0.020159  0.000000  0.000000  1.000000  0.924240  1.000000\n5   0.215870  0.000000  0.028142  1.000000  0.945561  1.000000\n6   0.000000  0.000000  0.856143  1.000000  1.000000  0.428462\n7   0.000000  0.168136  0.995804  1.000000  0.302470  1.000000\n8   0.132950  0.081152  1.000000  0.962952  0.591234  0.902816\n9   0.396505  0.603933  0.510660  1.000000  1.000000  0.807450\n10  0.000000  0.315476  0.591049  1.000000  0.765783  0.704705\n11  0.473064  0.093071  0.530509  0.626067  0.946608  1.000000\n12  0.000000  0.004660  0.508492  0.743805  1.000000  0.878336\n13  0.012080  0.210497  0.109195  0.866673  1.000000  0.567538\n14  0.000000  0.000000  0.574439  0.855946  0.520606  1.000000\n15  0.201544  0.477513  0.125690  0.407638  1.000000  0.858533\n16  0.000000  0.474358  0.292147  0.886083  1.000000  0.797887\n17  0.813280  0.000000  0.112876  0.639693  1.000000  1.000000\n18  0.000000  0.000000  0.130429  0.846698  1.000000  0.569702\n19  0.000000  0.059402  0.522698  1.000000  0.949023  0.648513\n20  0.119067  0.000000  0.000000  0.481080  0.778768  1.000000\n21  0.065836  0.476885  0.565497  0.558120  0.975730  0.871488\n22  0.199017  0.216156  0.368565  1.000000  1.000000  1.000000\n23  0.578702  0.000000  0.581490  0.887195  0.832992  1.000000\n24  0.123933  0.405868  0.211794  1.000000  1.000000  1.000000\n25  0.000000  0.000000  0.596429  1.000000  0.856348  0.977437\n26  0.000000  0.120510  0.563279  1.000000  1.000000  1.000000\n27  0.231583  0.278461  0.751338  0.398914  0.997488  1.000000\n28  0.143068  0.006087  0.365921  0.953706  0.975809  0.352647\n29  0.000000  0.244535  0.012335  0.825568  0.865531  0.984678\n30  0.514807  0.000000  0.805145  0.370742  0.919642  0.455204\n31  0.000000  0.514444  0.635049  0.808892  0.135142  1.000000\n32  0.117077  0.017482  0.000000  0.506130  0.785067  0.759777\n33  0.558889  1.000000  0.954170  0.892447  0.828279  1.000000\n34  0.244428  0.568368  0.376459  0.437316  0.923004  1.000000\n35  0.294887  0.768729  0.229819  1.000000  0.697860  0.805420\n36  0.172689  0.212435  0.000000  0.867084  0.463661  1.000000\n37  0.549040  0.120685  0.617723  0.608690  0.374162  0.560968\n38  0.000000  0.000000  0.461729  1.000000  1.000000  1.000000\n39  0.000000  0.000000  0.587518  0.722175  0.877438  1.000000\n40  0.247570  0.541317  0.065240  1.000000  0.782983  0.858892\n41  0.000000  0.404835  0.428880  0.662631  0.725450  0.762049\n42  0.033570  0.142384  0.248215  0.899382  0.608089  0.596260\n43  0.143862  0.000000  0.556301  0.608712  0.957694  0.519568\n44  0.640970  0.551143  0.517361  0.670380  0.814931  1.000000\n45  0.000000  0.073538  0.000000  0.010300  0.444836  0.875914\n46  0.000000  0.488115  0.020041  0.578079  0.690018  0.825333\n47  0.057914  0.000000  0.933803  0.485849  0.384483  1.000000\n48  0.156660  0.462816  0.394664  0.821085  0.410275  1.000000\n49  0.000000  0.477342  0.052943  1.000000  0.773419  0.987909",
      "text/html": "<div>\n<style scoped>\n    .dataframe tbody tr th:only-of-type {\n        vertical-align: middle;\n    }\n\n    .dataframe tbody tr th {\n        vertical-align: top;\n    }\n\n    .dataframe thead th {\n        text-align: right;\n    }\n</style>\n<table border=\"1\" class=\"dataframe\">\n  <thead>\n    <tr style=\"text-align: right;\">\n      <th></th>\n      <th>pop_0</th>\n      <th>pop_1</th>\n      <th>pop_2</th>\n      <th>pop_3</th>\n      <th>pop_4</th>\n      <th>pop_5</th>\n    </tr>\n  </thead>\n  <tbody>\n    <tr>\n      <th>0</th>\n      <td>0.255378</td>\n      <td>0.948095</td>\n      <td>0.383810</td>\n      <td>0.986213</td>\n      <td>0.429947</td>\n      <td>0.735235</td>\n    </tr>\n    <tr>\n      <th>1</th>\n      <td>0.554327</td>\n      <td>0.442666</td>\n      <td>0.435739</td>\n      <td>0.536383</td>\n      <td>0.479074</td>\n      <td>1.000000</td>\n    </tr>\n    <tr>\n      <th>2</th>\n      <td>0.331347</td>\n      <td>0.351250</td>\n      <td>0.517586</td>\n      <td>0.861229</td>\n      <td>0.488186</td>\n      <td>0.493809</td>\n    </tr>\n    <tr>\n      <th>3</th>\n      <td>0.206977</td>\n      <td>0.827599</td>\n      <td>0.482343</td>\n      <td>1.000000</td>\n      <td>0.765548</td>\n      <td>1.000000</td>\n    </tr>\n    <tr>\n      <th>4</th>\n      <td>0.020159</td>\n      <td>0.000000</td>\n      <td>0.000000</td>\n      <td>1.000000</td>\n      <td>0.924240</td>\n      <td>1.000000</td>\n    </tr>\n    <tr>\n      <th>5</th>\n      <td>0.215870</td>\n      <td>0.000000</td>\n      <td>0.028142</td>\n      <td>1.000000</td>\n      <td>0.945561</td>\n      <td>1.000000</td>\n    </tr>\n    <tr>\n      <th>6</th>\n      <td>0.000000</td>\n      <td>0.000000</td>\n      <td>0.856143</td>\n      <td>1.000000</td>\n      <td>1.000000</td>\n      <td>0.428462</td>\n    </tr>\n    <tr>\n      <th>7</th>\n      <td>0.000000</td>\n      <td>0.168136</td>\n      <td>0.995804</td>\n      <td>1.000000</td>\n      <td>0.302470</td>\n      <td>1.000000</td>\n    </tr>\n    <tr>\n      <th>8</th>\n      <td>0.132950</td>\n      <td>0.081152</td>\n      <td>1.000000</td>\n      <td>0.962952</td>\n      <td>0.591234</td>\n      <td>0.902816</td>\n    </tr>\n    <tr>\n      <th>9</th>\n      <td>0.396505</td>\n      <td>0.603933</td>\n      <td>0.510660</td>\n      <td>1.000000</td>\n      <td>1.000000</td>\n      <td>0.807450</td>\n    </tr>\n    <tr>\n      <th>10</th>\n      <td>0.000000</td>\n      <td>0.315476</td>\n      <td>0.591049</td>\n      <td>1.000000</td>\n      <td>0.765783</td>\n      <td>0.704705</td>\n    </tr>\n    <tr>\n      <th>11</th>\n      <td>0.473064</td>\n      <td>0.093071</td>\n      <td>0.530509</td>\n      <td>0.626067</td>\n      <td>0.946608</td>\n      <td>1.000000</td>\n    </tr>\n    <tr>\n      <th>12</th>\n      <td>0.000000</td>\n      <td>0.004660</td>\n      <td>0.508492</td>\n      <td>0.743805</td>\n      <td>1.000000</td>\n      <td>0.878336</td>\n    </tr>\n    <tr>\n      <th>13</th>\n      <td>0.012080</td>\n      <td>0.210497</td>\n      <td>0.109195</td>\n      <td>0.866673</td>\n      <td>1.000000</td>\n      <td>0.567538</td>\n    </tr>\n    <tr>\n      <th>14</th>\n      <td>0.000000</td>\n      <td>0.000000</td>\n      <td>0.574439</td>\n      <td>0.855946</td>\n      <td>0.520606</td>\n      <td>1.000000</td>\n    </tr>\n    <tr>\n      <th>15</th>\n      <td>0.201544</td>\n      <td>0.477513</td>\n      <td>0.125690</td>\n      <td>0.407638</td>\n      <td>1.000000</td>\n      <td>0.858533</td>\n    </tr>\n    <tr>\n      <th>16</th>\n      <td>0.000000</td>\n      <td>0.474358</td>\n      <td>0.292147</td>\n      <td>0.886083</td>\n      <td>1.000000</td>\n      <td>0.797887</td>\n    </tr>\n    <tr>\n      <th>17</th>\n      <td>0.813280</td>\n      <td>0.000000</td>\n      <td>0.112876</td>\n      <td>0.639693</td>\n      <td>1.000000</td>\n      <td>1.000000</td>\n    </tr>\n    <tr>\n      <th>18</th>\n      <td>0.000000</td>\n      <td>0.000000</td>\n      <td>0.130429</td>\n      <td>0.846698</td>\n      <td>1.000000</td>\n      <td>0.569702</td>\n    </tr>\n    <tr>\n      <th>19</th>\n      <td>0.000000</td>\n      <td>0.059402</td>\n      <td>0.522698</td>\n      <td>1.000000</td>\n      <td>0.949023</td>\n      <td>0.648513</td>\n    </tr>\n    <tr>\n      <th>20</th>\n      <td>0.119067</td>\n      <td>0.000000</td>\n      <td>0.000000</td>\n      <td>0.481080</td>\n      <td>0.778768</td>\n      <td>1.000000</td>\n    </tr>\n    <tr>\n      <th>21</th>\n      <td>0.065836</td>\n      <td>0.476885</td>\n      <td>0.565497</td>\n      <td>0.558120</td>\n      <td>0.975730</td>\n      <td>0.871488</td>\n    </tr>\n    <tr>\n      <th>22</th>\n      <td>0.199017</td>\n      <td>0.216156</td>\n      <td>0.368565</td>\n      <td>1.000000</td>\n      <td>1.000000</td>\n      <td>1.000000</td>\n    </tr>\n    <tr>\n      <th>23</th>\n      <td>0.578702</td>\n      <td>0.000000</td>\n      <td>0.581490</td>\n      <td>0.887195</td>\n      <td>0.832992</td>\n      <td>1.000000</td>\n    </tr>\n    <tr>\n      <th>24</th>\n      <td>0.123933</td>\n      <td>0.405868</td>\n      <td>0.211794</td>\n      <td>1.000000</td>\n      <td>1.000000</td>\n      <td>1.000000</td>\n    </tr>\n    <tr>\n      <th>25</th>\n      <td>0.000000</td>\n      <td>0.000000</td>\n      <td>0.596429</td>\n      <td>1.000000</td>\n      <td>0.856348</td>\n      <td>0.977437</td>\n    </tr>\n    <tr>\n      <th>26</th>\n      <td>0.000000</td>\n      <td>0.120510</td>\n      <td>0.563279</td>\n      <td>1.000000</td>\n      <td>1.000000</td>\n      <td>1.000000</td>\n    </tr>\n    <tr>\n      <th>27</th>\n      <td>0.231583</td>\n      <td>0.278461</td>\n      <td>0.751338</td>\n      <td>0.398914</td>\n      <td>0.997488</td>\n      <td>1.000000</td>\n    </tr>\n    <tr>\n      <th>28</th>\n      <td>0.143068</td>\n      <td>0.006087</td>\n      <td>0.365921</td>\n      <td>0.953706</td>\n      <td>0.975809</td>\n      <td>0.352647</td>\n    </tr>\n    <tr>\n      <th>29</th>\n      <td>0.000000</td>\n      <td>0.244535</td>\n      <td>0.012335</td>\n      <td>0.825568</td>\n      <td>0.865531</td>\n      <td>0.984678</td>\n    </tr>\n    <tr>\n      <th>30</th>\n      <td>0.514807</td>\n      <td>0.000000</td>\n      <td>0.805145</td>\n      <td>0.370742</td>\n      <td>0.919642</td>\n      <td>0.455204</td>\n    </tr>\n    <tr>\n      <th>31</th>\n      <td>0.000000</td>\n      <td>0.514444</td>\n      <td>0.635049</td>\n      <td>0.808892</td>\n      <td>0.135142</td>\n      <td>1.000000</td>\n    </tr>\n    <tr>\n      <th>32</th>\n      <td>0.117077</td>\n      <td>0.017482</td>\n      <td>0.000000</td>\n      <td>0.506130</td>\n      <td>0.785067</td>\n      <td>0.759777</td>\n    </tr>\n    <tr>\n      <th>33</th>\n      <td>0.558889</td>\n      <td>1.000000</td>\n      <td>0.954170</td>\n      <td>0.892447</td>\n      <td>0.828279</td>\n      <td>1.000000</td>\n    </tr>\n    <tr>\n      <th>34</th>\n      <td>0.244428</td>\n      <td>0.568368</td>\n      <td>0.376459</td>\n      <td>0.437316</td>\n      <td>0.923004</td>\n      <td>1.000000</td>\n    </tr>\n    <tr>\n      <th>35</th>\n      <td>0.294887</td>\n      <td>0.768729</td>\n      <td>0.229819</td>\n      <td>1.000000</td>\n      <td>0.697860</td>\n      <td>0.805420</td>\n    </tr>\n    <tr>\n      <th>36</th>\n      <td>0.172689</td>\n      <td>0.212435</td>\n      <td>0.000000</td>\n      <td>0.867084</td>\n      <td>0.463661</td>\n      <td>1.000000</td>\n    </tr>\n    <tr>\n      <th>37</th>\n      <td>0.549040</td>\n      <td>0.120685</td>\n      <td>0.617723</td>\n      <td>0.608690</td>\n      <td>0.374162</td>\n      <td>0.560968</td>\n    </tr>\n    <tr>\n      <th>38</th>\n      <td>0.000000</td>\n      <td>0.000000</td>\n      <td>0.461729</td>\n      <td>1.000000</td>\n      <td>1.000000</td>\n      <td>1.000000</td>\n    </tr>\n    <tr>\n      <th>39</th>\n      <td>0.000000</td>\n      <td>0.000000</td>\n      <td>0.587518</td>\n      <td>0.722175</td>\n      <td>0.877438</td>\n      <td>1.000000</td>\n    </tr>\n    <tr>\n      <th>40</th>\n      <td>0.247570</td>\n      <td>0.541317</td>\n      <td>0.065240</td>\n      <td>1.000000</td>\n      <td>0.782983</td>\n      <td>0.858892</td>\n    </tr>\n    <tr>\n      <th>41</th>\n      <td>0.000000</td>\n      <td>0.404835</td>\n      <td>0.428880</td>\n      <td>0.662631</td>\n      <td>0.725450</td>\n      <td>0.762049</td>\n    </tr>\n    <tr>\n      <th>42</th>\n      <td>0.033570</td>\n      <td>0.142384</td>\n      <td>0.248215</td>\n      <td>0.899382</td>\n      <td>0.608089</td>\n      <td>0.596260</td>\n    </tr>\n    <tr>\n      <th>43</th>\n      <td>0.143862</td>\n      <td>0.000000</td>\n      <td>0.556301</td>\n      <td>0.608712</td>\n      <td>0.957694</td>\n      <td>0.519568</td>\n    </tr>\n    <tr>\n      <th>44</th>\n      <td>0.640970</td>\n      <td>0.551143</td>\n      <td>0.517361</td>\n      <td>0.670380</td>\n      <td>0.814931</td>\n      <td>1.000000</td>\n    </tr>\n    <tr>\n      <th>45</th>\n      <td>0.000000</td>\n      <td>0.073538</td>\n      <td>0.000000</td>\n      <td>0.010300</td>\n      <td>0.444836</td>\n      <td>0.875914</td>\n    </tr>\n    <tr>\n      <th>46</th>\n      <td>0.000000</td>\n      <td>0.488115</td>\n      <td>0.020041</td>\n      <td>0.578079</td>\n      <td>0.690018</td>\n      <td>0.825333</td>\n    </tr>\n    <tr>\n      <th>47</th>\n      <td>0.057914</td>\n      <td>0.000000</td>\n      <td>0.933803</td>\n      <td>0.485849</td>\n      <td>0.384483</td>\n      <td>1.000000</td>\n    </tr>\n    <tr>\n      <th>48</th>\n      <td>0.156660</td>\n      <td>0.462816</td>\n      <td>0.394664</td>\n      <td>0.821085</td>\n      <td>0.410275</td>\n      <td>1.000000</td>\n    </tr>\n    <tr>\n      <th>49</th>\n      <td>0.000000</td>\n      <td>0.477342</td>\n      <td>0.052943</td>\n      <td>1.000000</td>\n      <td>0.773419</td>\n      <td>0.987909</td>\n    </tr>\n  </tbody>\n</table>\n</div>"
     },
     "execution_count": 83,
     "metadata": {},
     "output_type": "execute_result"
    }
   ],
   "source": [
    "std = 0.3\n",
    "means = [0.2, 0.3, 0.5, 0.8, 0.85, 0.9]\n",
    "sample_size = 50\n",
    "data = pd.DataFrame()\n",
    "for i, mean in enumerate(means):\n",
    "    data['pop_%i' % i] = np.random.normal(mean, std, sample_size).clip(0, 1)\n",
    "data"
   ],
   "metadata": {
    "collapsed": false
   }
  },
  {
   "cell_type": "markdown",
   "source": [
    "# Analysis sliding window K"
   ],
   "metadata": {
    "collapsed": false
   }
  },
  {
   "cell_type": "code",
   "execution_count": 84,
   "outputs": [
    {
     "name": "stdout",
     "output_type": "stream",
     "text": [
      "\n",
      "\n",
      "--------------- K = 2 ---------------\n",
      "7 subj less lds corr with rational agent: 0.32\n",
      "7 subj more lds corr with rational agent: 0.48\n",
      "\n",
      "7 subj less sias corr with rational agent: 0.48\n",
      "7 subj more sias corr with rational agent: 0.35\n",
      "\n",
      "\n",
      "--------------- K = 5 ---------------\n",
      "7 subj less lds corr with rational agent: 0.39\n",
      "7 subj more lds corr with rational agent: 0.57\n",
      "\n",
      "7 subj less sias corr with rational agent: 0.57\n",
      "7 subj more sias corr with rational agent: 0.4\n",
      "\n",
      "\n",
      "--------------- K = 10 ---------------\n",
      "7 subj less lds corr with rational agent: 0.45\n",
      "7 subj more lds corr with rational agent: 0.63\n",
      "\n",
      "7 subj less sias corr with rational agent: 0.63\n",
      "7 subj more sias corr with rational agent: 0.43\n",
      "\n",
      "\n",
      "--------------- K = 25 ---------------\n",
      "7 subj less lds corr with rational agent: 0.48\n",
      "7 subj more lds corr with rational agent: 0.69\n",
      "\n",
      "7 subj less sias corr with rational agent: 0.66\n",
      "7 subj more sias corr with rational agent: 0.41\n",
      "\n",
      "\n",
      "--------------- K = 50 ---------------\n",
      "7 subj less lds corr with rational agent: 0.47\n",
      "7 subj more lds corr with rational agent: 0.65\n",
      "\n",
      "7 subj less sias corr with rational agent: 0.62\n",
      "7 subj more sias corr with rational agent: 0.39\n",
      "\n",
      "\n",
      "--------------- K = 100 ---------------\n",
      "7 subj less lds corr with rational agent: 0.46\n",
      "7 subj more lds corr with rational agent: 0.66\n",
      "\n",
      "7 subj less sias corr with rational agent: 0.66\n",
      "7 subj more sias corr with rational agent: 0.41\n",
      "\n",
      "\n",
      "--------------- K = 150 ---------------\n",
      "7 subj less lds corr with rational agent: 0.47\n",
      "7 subj more lds corr with rational agent: 0.67\n",
      "\n",
      "7 subj less sias corr with rational agent: 0.66\n",
      "7 subj more sias corr with rational agent: 0.41\n"
     ]
    }
   ],
   "source": [
    "k_wind = [2, 5, 10, 25, 50, 100, 150]\n",
    "for k in list(k_wind):\n",
    "\n",
    "    array_csplus_simulated = np.load('output/pyro/sliding_wind/k'+str(k)+'_csplus.npy',allow_pickle=True)\n",
    "    array_csminus_simulated = np.load('output/pyro/sliding_wind/k'+str(k)+'_csminus.npy',allow_pickle=True)\n",
    "    total_array_simulated = np.load('output/pyro/sliding_wind/k'+str(k)+'_total.npy',allow_pickle=True)\n",
    "\n",
    "    rating_rational = total_array_simulated\n",
    "    rating_rational = rating_rational[16:]\n",
    "\n",
    "    df_correlation = pd.DataFrame(columns=['subject','pearson'])\n",
    "\n",
    "    for sub in valid_sub:\n",
    "        subj_ = extract_correct_csv.read_correct_subject_csv(sub)\n",
    "        df_sub = pd.read_csv('data/newLookAtMe/newLookAtMe'+subj_+'.csv')\n",
    "        df_sub = df_sub[['shock', 'rating', 'morphing level']]\n",
    "        df_sub['shock'] = df_sub['shock'].astype(int)\n",
    "        df_sub['morphing level'] = [int(d == 6) for d in df_sub['morphing level']]\n",
    "        df_sub['rating'] = df_sub['rating'].replace([1, 2, 3, 4, 5], [0.2, 0.4, 0.6, 0.8, 1])\n",
    "        df_sub_learn = df_sub[16:]\n",
    "        rating_sub = np.array(df_sub_learn['rating'])\n",
    "\n",
    "        #remove nan\n",
    "        bad = ~np.logical_or(np.isnan(rating_sub), np.isnan(rating_rational))\n",
    "        rating_sub_ = np.compress(bad, rating_sub)\n",
    "        rating_rational_ = np.compress(bad, rating_rational)\n",
    "\n",
    "        pearson = round(np.corrcoef(rating_sub_,rating_rational_)[0][1],2)\n",
    "        df_correlation = df_correlation.append({'subject':sub,'pearson':pearson},ignore_index=True)\n",
    "    sias_df = pd.read_csv('data/sias_score.csv').drop(columns='social_anxiety')\n",
    "    sias_df['subject'] = [float(x) for x in sias_df['subject']]\n",
    "\n",
    "    lds_df = pd.read_csv('data/lds_subjects.csv')\n",
    "\n",
    "    lds_df['subject'] = [float(x) for x in lds_df['subject']]\n",
    "    df_corr = df_correlation.join(lds_df, lsuffix='', rsuffix='_other',how='inner').drop(columns='subject_other')\n",
    "    df_corr_ = df_corr.join(sias_df,lsuffix='', rsuffix='_other',how='inner').drop(columns='subject_other')\n",
    "    df_corr_notna = df_corr_[df_corr_['pearson'].notna()]\n",
    "    df_corr_notna = df_corr_notna[df_corr_['lds'].notna()]\n",
    "    df_corr_notna = df_corr_notna[df_corr_['sias_score'].notna()]\n",
    "    lds_ = df_corr_notna.sort_values('lds').reset_index().drop(columns='index')\n",
    "    lower_lds = lds_[:7]\n",
    "    higher_lds = lds_[-7:]\n",
    "\n",
    "    print('\\n\\n--------------- K = '+str(k)+' ---------------')\n",
    "\n",
    "    print('7 subj less lds corr with rational agent:',lower_lds['pearson'].median())\n",
    "    print('7 subj more lds corr with rational agent:',higher_lds['pearson'].median())\n",
    "\n",
    "    sias_ = df_corr_notna.sort_values('sias_score',ascending=True).reset_index().drop(columns='index')\n",
    "    lower_sias = sias_[:7]\n",
    "    sias_ = df_corr_notna.sort_values('sias_score',ascending=False).reset_index().drop(columns='index')\n",
    "    higher_sias= sias_[:7]\n",
    "    print()\n",
    "    print('7 subj less sias corr with rational agent:',lower_sias['pearson'].median())\n",
    "    print('7 subj more sias corr with rational agent:',higher_sias['pearson'].median())"
   ],
   "metadata": {
    "collapsed": false
   }
  },
  {
   "cell_type": "code",
   "execution_count": 85,
   "outputs": [],
   "source": [
    "df_corr_notna['sias_score'] = [round(x,2) for x in preprocessing.normalize([df_corr_notna['sias_score']])[0]]\n",
    "df_corr_notna['lds'] = [round(x,2) for x in preprocessing.normalize([df_corr_notna['lds']])[0]]\n",
    "df_corr_notna['pearson'] = [round(x,2) for x in preprocessing.normalize([df_corr_notna['pearson']])[0]]\n"
   ],
   "metadata": {
    "collapsed": false
   }
  },
  {
   "cell_type": "code",
   "execution_count": 86,
   "outputs": [],
   "source": [
    "df_corr_notna['subject'] = [int(x) for x in df_corr_notna['subject']]"
   ],
   "metadata": {
    "collapsed": false
   }
  },
  {
   "cell_type": "code",
   "execution_count": 87,
   "outputs": [],
   "source": [
    "lds_ = df_corr_notna.sort_values('lds').reset_index().drop(columns='index')\n",
    "lower_lds = lds_[:5]\n",
    "higher_lds = lds_[-5:]"
   ],
   "metadata": {
    "collapsed": false
   }
  },
  {
   "cell_type": "code",
   "execution_count": 88,
   "metadata": {},
   "outputs": [],
   "source": [
    "subjects = tuple(df_corr_notna['subject'])"
   ]
  },
  {
   "cell_type": "code",
   "execution_count": 89,
   "metadata": {},
   "outputs": [],
   "source": [
    "values = {'pearson':(),'lds':(),'sias':()}\n",
    "for index,row in df_corr_notna.iterrows():\n",
    "    new_p = values['pearson'] + (row['pearson'],)\n",
    "    values.update({'pearson':new_p})\n",
    "    new_l = values['lds'] + (row['lds'],)\n",
    "    values.update({'lds':new_l})\n",
    "    new_s = values['sias'] + (row['sias_score'],)\n",
    "    values.update({'sias':new_s})"
   ]
  },
  {
   "cell_type": "code",
   "execution_count": 90,
   "metadata": {},
   "outputs": [],
   "source": [
    "values_no_sias = {'pearson':(),'lds':()}\n",
    "for index,row in df_corr_notna.iterrows():\n",
    "    new_p = values_no_sias['pearson'] + (row['pearson'],)\n",
    "    values_no_sias.update({'pearson':new_p})\n",
    "    new_l = values_no_sias['lds'] + (row['lds'],)\n",
    "    values_no_sias.update({'lds':new_l})"
   ]
  },
  {
   "cell_type": "code",
   "execution_count": 91,
   "metadata": {},
   "outputs": [],
   "source": [
    "subjects = tuple(df_corr_notna['subject'])\n",
    "values_no_lds = {'pearson': (), 'sias': ()}\n",
    "for index, row in df_corr_notna.iterrows():\n",
    "    new_p = values_no_lds['pearson'] + (row['pearson'],)\n",
    "    values_no_lds.update({'pearson': new_p})\n",
    "    new_s = values_no_lds['sias'] + (row['sias_score'],)\n",
    "    values_no_lds.update({'sias': new_s})"
   ]
  },
  {
   "cell_type": "markdown",
   "source": [
    "## plot correlation"
   ],
   "metadata": {
    "collapsed": false
   }
  },
  {
   "cell_type": "code",
   "execution_count": 92,
   "metadata": {},
   "outputs": [
    {
     "data": {
      "text/plain": "<Figure size 1500x800 with 1 Axes>",
      "image/png": "[encoded data removed]"
     },
     "metadata": {},
     "output_type": "display_data"
    }
   ],
   "source": [
    "x = np.arange(len(subjects))  # the label locations\n",
    "width = 0.15  # the width of the bars\n",
    "multiplier = 0\n",
    "\n",
    "fig, ax = plt.subplots(figsize=(15,8),constrained_layout=True)\n",
    "\n",
    "for attribute, measurement in values_no_lds.items():\n",
    "    offset = width * multiplier\n",
    "    rects = ax.bar(x + offset, measurement, width, label=attribute)\n",
    "    #ax.bar_label(rects, padding=3)\n",
    "    multiplier += 1\n",
    "\n",
    "# Add some text for labels, title and custom x-axis tick labels, etc.\n",
    "ax.set_ylabel('Length (mm)')\n",
    "ax.set_title('correlation attributes by subjects')\n",
    "ax.set_xticks(x + width, subjects)\n",
    "ax.legend(loc='upper left', ncols=3)\n",
    "\n",
    "plt.show()"
   ]
  },
  {
   "cell_type": "code",
   "execution_count": 93,
   "metadata": {},
   "outputs": [
    {
     "data": {
      "text/plain": "<Figure size 1500x800 with 1 Axes>",
      "image/png": "[encoded data removed]"
     },
     "metadata": {},
     "output_type": "display_data"
    }
   ],
   "source": [
    "x = np.arange(len(subjects))  # the label locations\n",
    "width = 0.15  # the width of the bars\n",
    "multiplier = 0\n",
    "\n",
    "fig, ax = plt.subplots(figsize=(15,8),constrained_layout=True)\n",
    "\n",
    "for attribute, measurement in values_no_sias.items():\n",
    "    offset = width * multiplier\n",
    "    rects = ax.bar(x + offset, measurement, width, label=attribute)\n",
    "    #ax.bar_label(rects, padding=3)\n",
    "    multiplier += 1\n",
    "\n",
    "# Add some text for labels, title and custom x-axis tick labels, etc.\n",
    "ax.set_ylabel('Length (mm)')\n",
    "ax.set_title('correlation attributes by subjects')\n",
    "ax.set_xticks(x + width, subjects)\n",
    "ax.legend(loc='upper left', ncols=3)\n",
    "\n",
    "plt.show()"
   ]
  },
  {
   "cell_type": "code",
   "execution_count": 94,
   "metadata": {},
   "outputs": [
    {
     "data": {
      "text/plain": "<Figure size 1500x800 with 1 Axes>",
      "image/png": "[encoded data removed]"
     },
     "metadata": {},
     "output_type": "display_data"
    }
   ],
   "source": [
    "x = np.arange(len(subjects))  # the label locations\n",
    "width = 0.15  # the width of the bars\n",
    "multiplier = 0\n",
    "\n",
    "fig, ax = plt.subplots(figsize=(15,8),constrained_layout=True)\n",
    "\n",
    "for attribute, measurement in values.items():\n",
    "    offset = width * multiplier\n",
    "    rects = ax.bar(x + offset, measurement, width, label=attribute)\n",
    "    #ax.bar_label(rects, padding=3)\n",
    "    multiplier += 1\n",
    "\n",
    "# Add some text for labels, title and custom x-axis tick labels, etc.\n",
    "ax.set_ylabel('Length (mm)')\n",
    "ax.set_title('correlation attributes by subjects')\n",
    "ax.set_xticks(x + width, subjects)\n",
    "ax.legend(loc='upper left', ncols=3)\n",
    "\n",
    "plt.show()"
   ]
  },
  {
   "cell_type": "markdown",
   "metadata": {},
   "source": [
    "# rational agent sliding window"
   ]
  },
  {
   "cell_type": "markdown",
   "metadata": {},
   "source": [
    "The idea is to have a rational agent with a limited memory over previous trials.\n",
    "k = param sliding window dimension\n"
   ]
  },
  {
   "cell_type": "code",
   "execution_count": 95,
   "metadata": {},
   "outputs": [],
   "source": [
    "import extract_correct_csv\n",
    "valid_sub = extract_correct_csv.extract_only_valid_subject()"
   ]
  },
  {
   "cell_type": "code",
   "execution_count": 96,
   "metadata": {},
   "outputs": [
    {
     "name": "stderr",
     "output_type": "stream",
     "text": [
      "/tmp/ipykernel_50788/522845498.py:4: SettingWithCopyWarning: \n",
      "A value is trying to be set on a copy of a slice from a DataFrame.\n",
      "Try using .loc[row_indexer,col_indexer] = value instead\n",
      "\n",
      "See the caveats in the documentation: https://pandas.pydata.org/pandas-docs/stable/user_guide/indexing.html#returning-a-view-versus-a-copy\n",
      "  df_rational['shock'] = df_rational['shock'].astype(int) #setting shock as int instead of boolean\n",
      "/tmp/ipykernel_50788/522845498.py:5: SettingWithCopyWarning: \n",
      "A value is trying to be set on a copy of a slice from a DataFrame.\n",
      "Try using .loc[row_indexer,col_indexer] = value instead\n",
      "\n",
      "See the caveats in the documentation: https://pandas.pydata.org/pandas-docs/stable/user_guide/indexing.html#returning-a-view-versus-a-copy\n",
      "  df_rational['morphing level'] = [int(d==6) for d in df_rational['morphing level']] # if morphing level==6 -> 1\n"
     ]
    }
   ],
   "source": [
    "# read dataset\n",
    "df = pd.read_csv('data/newLookAtMe/newLookAtMe02.csv')\n",
    "df_rational = df[['morphing level', 'shock']]\n",
    "df_rational['shock'] = df_rational['shock'].astype(int) #setting shock as int instead of boolean\n",
    "df_rational['morphing level'] = [int(d==6) for d in df_rational['morphing level']] # if morphing level==6 -> 1"
   ]
  },
  {
   "cell_type": "code",
   "execution_count": 97,
   "metadata": {},
   "outputs": [],
   "source": [
    "data_np = df_rational.to_numpy()\n",
    "\n",
    "\n",
    "def counter_window(data, k=0):\n",
    "    N = data.shape[0]\n",
    "    counter = torch.zeros((N,4))\n",
    "    for i in range(len(data)):\n",
    "        dict_ = {'[0 0]':0, '[0 1]': 0, '[1 0]':0, '[1 1]':0}\n",
    "        if k == 0 or k > i:\n",
    "            tmp_data = data[:i+1]\n",
    "        else:\n",
    "            tmp_data = data[i-k:i+1]\n",
    "            #print('im here')\n",
    "        # count occurencies\n",
    "        for x in tmp_data:\n",
    "            dict_[str(x)] += 1\n",
    "        values = np.array(list(dict_.values()))\n",
    "        counter[i] = torch.tensor(values)\n",
    "    return counter"
   ]
  },
  {
   "cell_type": "code",
   "execution_count": 98,
   "metadata": {},
   "outputs": [
    {
     "data": {
      "text/plain": "torch.Size([160, 2, 2])"
     },
     "execution_count": 98,
     "metadata": {},
     "output_type": "execute_result"
    }
   ],
   "source": [
    "counter = counter_window(data_np, 3)\n",
    "\n",
    "counter = counter.reshape((len(data_np), 2, 2))\n",
    "counter.shape"
   ]
  },
  {
   "cell_type": "code",
   "execution_count": 99,
   "metadata": {},
   "outputs": [
    {
     "name": "stdout",
     "output_type": "stream",
     "text": [
      "observation:  [0 0]\n",
      "probabilities:  [[0.66521674 0.33478332]\n",
      " [0.5207079  0.479292  ]]\n",
      "observation:  [1 0]\n",
      "probabilities:  [[0.6648052  0.3351953 ]\n",
      " [0.6830721  0.31692827]]\n",
      "observation:  [1 0]\n",
      "probabilities:  [[0.6596339  0.34036613]\n",
      " [0.7509285  0.2490714 ]]\n",
      "observation:  [0 0]\n",
      "probabilities:  [[0.7478743  0.25212547]\n",
      " [0.75527453 0.24472575]]\n",
      "observation:  [0 0]\n",
      "probabilities:  [[0.72868466 0.27131525]\n",
      " [0.733763   0.26623723]]\n",
      "observation:  [0 0]\n",
      "probabilities:  [[0.809086   0.19091399]\n",
      " [0.6685929  0.33140707]]\n",
      "observation:  [1 0]\n",
      "probabilities:  [[0.8094855  0.19051462]\n",
      " [0.6802061  0.31979364]]\n",
      "observation:  [1 0]\n",
      "probabilities:  [[0.7442438  0.25575662]\n",
      " [0.755265   0.24473506]]\n",
      "observation:  [0 0]\n",
      "probabilities:  [[0.7512825  0.24871726]\n",
      " [0.7388446  0.26115534]]\n",
      "observation:  [1 0]\n",
      "probabilities:  [[0.6697252  0.33027518]\n",
      " [0.80444425 0.19555607]]\n",
      "observation:  [1 0]\n",
      "probabilities:  [[0.68783563 0.31216404]\n",
      " [0.8117855  0.1882146 ]]\n",
      "observation:  [0 0]\n",
      "probabilities:  [[0.7350844  0.26491547]\n",
      " [0.7420217  0.2579784 ]]\n",
      "observation:  [1 0]\n",
      "probabilities:  [[0.65570855 0.34429157]\n",
      " [0.8196458  0.1803541 ]]\n",
      "observation:  [0 0]\n",
      "probabilities:  [[0.7537507  0.2462494 ]\n",
      " [0.75074446 0.24925566]]\n",
      "observation:  [1 0]\n",
      "probabilities:  [[0.75701237 0.24298751]\n",
      " [0.7638281  0.23617172]]\n",
      "observation:  [0 0]\n",
      "probabilities:  [[0.7436955  0.2563042 ]\n",
      " [0.7316724  0.26832744]]\n",
      "observation:  [1 1]\n",
      "probabilities:  [[0.76377124 0.23622851]\n",
      " [0.49800813 0.50199187]]\n",
      "observation:  [0 0]\n",
      "probabilities:  [[0.7603623  0.23963755]\n",
      " [0.4993748  0.50062525]]\n",
      "observation:  [0 0]\n",
      "probabilities:  [[0.8075709  0.19242916]\n",
      " [0.39772782 0.60227245]]\n",
      "observation:  [1 1]\n",
      "probabilities:  [[0.73051834 0.26948172]\n",
      " [0.26114437 0.73885524]]\n",
      "observation:  [0 0]\n",
      "probabilities:  [[0.7995879  0.20041212]\n",
      " [0.3371657  0.6628343 ]]\n",
      "observation:  [1 1]\n",
      "probabilities:  [[0.75330126 0.24669874]\n",
      " [0.22236612 0.77763385]]\n",
      "observation:  [1 1]\n",
      "probabilities:  [[0.675494   0.32450598]\n",
      " [0.21596919 0.7840306 ]]\n",
      "observation:  [0 0]\n",
      "probabilities:  [[0.7441893  0.25581074]\n",
      " [0.23698835 0.76301104]]\n",
      "observation:  [1 0]\n",
      "probabilities:  [[0.6959428  0.30405682]\n",
      " [0.38698474 0.613015  ]]\n",
      "observation:  [1 1]\n",
      "probabilities:  [[0.6407212  0.35927898]\n",
      " [0.39108232 0.60891783]]\n",
      "observation:  [0 0]\n",
      "probabilities:  [[0.7685753  0.23142444]\n",
      " [0.49838546 0.5016145 ]]\n",
      "observation:  [0 0]\n",
      "probabilities:  [[0.7453206  0.2546797 ]\n",
      " [0.50010157 0.49989846]]\n",
      "observation:  [0 0]\n",
      "probabilities:  [[0.7884311  0.21156879]\n",
      " [0.32063183 0.67936814]]\n",
      "observation:  [0 0]\n",
      "probabilities:  [[0.8206289  0.17937131]\n",
      " [0.5170586  0.48294127]]\n",
      "observation:  [1 1]\n",
      "probabilities:  [[0.795238   0.20476218]\n",
      " [0.31161806 0.6883819 ]]\n",
      "observation:  [1 0]\n",
      "probabilities:  [[0.74635893 0.25364104]\n",
      " [0.515704   0.4842961 ]]\n",
      "observation:  [0 0]\n",
      "probabilities:  [[0.7544034  0.24559647]\n",
      " [0.4917804  0.50821954]]\n",
      "observation:  [1 1]\n",
      "probabilities:  [[0.67011124 0.32988885]\n",
      " [0.39591601 0.60408396]]\n",
      "observation:  [1 1]\n",
      "probabilities:  [[0.66824025 0.33175996]\n",
      " [0.42061916 0.5793806 ]]\n",
      "observation:  [0 0]\n",
      "probabilities:  [[0.7375339  0.26246634]\n",
      " [0.26207623 0.7379239 ]]\n",
      "observation:  [1 0]\n",
      "probabilities:  [[0.65344083 0.34655905]\n",
      " [0.40098545 0.5990146 ]]\n",
      "observation:  [0 0]\n",
      "probabilities:  [[0.7348701  0.26512945]\n",
      " [0.46901503 0.5309849 ]]\n",
      "observation:  [1 1]\n",
      "probabilities:  [[0.75710976 0.24289022]\n",
      " [0.500168   0.49983206]]\n",
      "observation:  [0 0]\n",
      "probabilities:  [[0.7338661  0.26613384]\n",
      " [0.47661218 0.52338773]]\n",
      "observation:  [1 0]\n",
      "probabilities:  [[0.77637523 0.2236249 ]\n",
      " [0.49207184 0.50792813]]\n",
      "observation:  [0 0]\n",
      "probabilities:  [[0.7361286  0.2638717 ]\n",
      " [0.5105289  0.48947117]]\n",
      "observation:  [1 1]\n",
      "probabilities:  [[0.75001144 0.24998812]\n",
      " [0.50674665 0.49325323]]\n",
      "observation:  [0 0]\n",
      "probabilities:  [[0.7648584  0.23514165]\n",
      " [0.5133936  0.48660645]]\n",
      "observation:  [1 1]\n",
      "probabilities:  [[0.7289881  0.27101207]\n",
      " [0.24189259 0.7581074 ]]\n",
      "observation:  [0 0]\n",
      "probabilities:  [[0.7392891  0.26071027]\n",
      " [0.24511203 0.7548881 ]]\n",
      "observation:  [1 1]\n",
      "probabilities:  [[0.74860847 0.25139123]\n",
      " [0.25098026 0.7490197 ]]\n",
      "observation:  [0 0]\n",
      "probabilities:  [[0.7674427  0.23255752]\n",
      " [0.23084158 0.76915824]]\n",
      "observation:  [0 0]\n",
      "probabilities:  [[0.7975377  0.20246232]\n",
      " [0.32150397 0.67849606]]\n",
      "observation:  [1 1]\n",
      "probabilities:  [[0.7598593  0.24014048]\n",
      " [0.25220758 0.7477924 ]]\n",
      "observation:  [0 0]\n",
      "probabilities:  [[0.79221964 0.20778061]\n",
      " [0.34660646 0.6533931 ]]\n",
      "observation:  [0 0]\n",
      "probabilities:  [[0.7874643  0.21253563]\n",
      " [0.37119618 0.6288039 ]]\n",
      "observation:  [1 0]\n",
      "probabilities:  [[0.7461576  0.25384244]\n",
      " [0.47565648 0.5243434 ]]\n",
      "observation:  [0 0]\n",
      "probabilities:  [[0.80812305 0.19187702]\n",
      " [0.6763211  0.32367903]]\n",
      "observation:  [0 0]\n",
      "probabilities:  [[0.7959717  0.20402855]\n",
      " [0.68484646 0.3151532 ]]\n",
      "observation:  [0 0]\n",
      "probabilities:  [[0.7794551  0.22054479]\n",
      " [0.68654245 0.31345758]]\n",
      "observation:  [0 0]\n",
      "probabilities:  [[0.8503241  0.14967602]\n",
      " [0.5114975  0.48850244]]\n",
      "observation:  [1 1]\n",
      "probabilities:  [[0.78663343 0.2133665 ]\n",
      " [0.3209968  0.67900306]]\n",
      "observation:  [0 0]\n",
      "probabilities:  [[0.7933164  0.20668344]\n",
      " [0.3448026  0.6551973 ]]\n",
      "observation:  [0 0]\n",
      "probabilities:  [[0.7955888  0.20441118]\n",
      " [0.3438956  0.65610415]]\n",
      "observation:  [1 0]\n",
      "probabilities:  [[0.7409889  0.25901115]\n",
      " [0.5179322  0.48206767]]\n",
      "observation:  [0 0]\n",
      "probabilities:  [[0.80389875 0.19610119]\n",
      " [0.65631014 0.3436898 ]]\n",
      "observation:  [1 0]\n",
      "probabilities:  [[0.7531806  0.2468193 ]\n",
      " [0.7432333  0.25676638]]\n",
      "observation:  [0 0]\n",
      "probabilities:  [[0.760724   0.23927605]\n",
      " [0.74052274 0.2594772 ]]\n"
     ]
    },
    {
     "ename": "KeyboardInterrupt",
     "evalue": "",
     "output_type": "error",
     "traceback": [
      "\u001B[0;31m---------------------------------------------------------------------------\u001B[0m",
      "\u001B[0;31mKeyboardInterrupt\u001B[0m                         Traceback (most recent call last)",
      "Cell \u001B[0;32mIn [99], line 22\u001B[0m\n\u001B[1;32m     20\u001B[0m \u001B[38;5;66;03m# sampling\u001B[39;00m\n\u001B[1;32m     21\u001B[0m \u001B[38;5;28;01mfor\u001B[39;00m i \u001B[38;5;129;01min\u001B[39;00m \u001B[38;5;28mrange\u001B[39m(\u001B[38;5;28mlen\u001B[39m(counter)):\n\u001B[0;32m---> 22\u001B[0m     mcmc\u001B[38;5;241m.\u001B[39mrun(counter[i])\n\u001B[1;32m     23\u001B[0m     hmc_samples \u001B[38;5;241m=\u001B[39m {k: v\u001B[38;5;241m.\u001B[39mdetach()\u001B[38;5;241m.\u001B[39mcpu()\u001B[38;5;241m.\u001B[39mnumpy()\n\u001B[1;32m     24\u001B[0m                    \u001B[38;5;28;01mfor\u001B[39;00m k, v \u001B[38;5;129;01min\u001B[39;00m mcmc\u001B[38;5;241m.\u001B[39mget_samples()\u001B[38;5;241m.\u001B[39mitems()}\n\u001B[1;32m     25\u001B[0m     means \u001B[38;5;241m=\u001B[39m hmc_samples[\u001B[38;5;124m'\u001B[39m\u001B[38;5;124mprior\u001B[39m\u001B[38;5;124m'\u001B[39m]\u001B[38;5;241m.\u001B[39mmean(axis\u001B[38;5;241m=\u001B[39m\u001B[38;5;241m0\u001B[39m)\n",
      "File \u001B[0;32m~/matteo/matteo/unimi/tesi_master/code/my_env/lib/python3.8/site-packages/pyro/poutine/messenger.py:12\u001B[0m, in \u001B[0;36m_context_wrap\u001B[0;34m(context, fn, *args, **kwargs)\u001B[0m\n\u001B[1;32m     10\u001B[0m \u001B[38;5;28;01mdef\u001B[39;00m \u001B[38;5;21m_context_wrap\u001B[39m(context, fn, \u001B[38;5;241m*\u001B[39margs, \u001B[38;5;241m*\u001B[39m\u001B[38;5;241m*\u001B[39mkwargs):\n\u001B[1;32m     11\u001B[0m     \u001B[38;5;28;01mwith\u001B[39;00m context:\n\u001B[0;32m---> 12\u001B[0m         \u001B[38;5;28;01mreturn\u001B[39;00m \u001B[43mfn\u001B[49m\u001B[43m(\u001B[49m\u001B[38;5;241;43m*\u001B[39;49m\u001B[43margs\u001B[49m\u001B[43m,\u001B[49m\u001B[43m \u001B[49m\u001B[38;5;241;43m*\u001B[39;49m\u001B[38;5;241;43m*\u001B[39;49m\u001B[43mkwargs\u001B[49m\u001B[43m)\u001B[49m\n",
      "File \u001B[0;32m~/matteo/matteo/unimi/tesi_master/code/my_env/lib/python3.8/site-packages/pyro/infer/mcmc/api.py:563\u001B[0m, in \u001B[0;36mMCMC.run\u001B[0;34m(self, *args, **kwargs)\u001B[0m\n\u001B[1;32m    554\u001B[0m \u001B[38;5;28;01mwith\u001B[39;00m optional(\n\u001B[1;32m    555\u001B[0m     pyro\u001B[38;5;241m.\u001B[39mvalidation_enabled(\u001B[38;5;129;01mnot\u001B[39;00m \u001B[38;5;28mself\u001B[39m\u001B[38;5;241m.\u001B[39mdisable_validation),\n\u001B[1;32m    556\u001B[0m     \u001B[38;5;28mself\u001B[39m\u001B[38;5;241m.\u001B[39mdisable_validation \u001B[38;5;129;01mis\u001B[39;00m \u001B[38;5;129;01mnot\u001B[39;00m \u001B[38;5;28;01mNone\u001B[39;00m,\n\u001B[0;32m   (...)\u001B[0m\n\u001B[1;32m    560\u001B[0m     \u001B[38;5;66;03m# This also resolves \"RuntimeError: Cowardly refusing to serialize non-leaf tensor which\u001B[39;00m\n\u001B[1;32m    561\u001B[0m     \u001B[38;5;66;03m# requires_grad\", which happens with `jit_compile` under PyTorch 1.7\u001B[39;00m\n\u001B[1;32m    562\u001B[0m     args \u001B[38;5;241m=\u001B[39m [arg\u001B[38;5;241m.\u001B[39mdetach() \u001B[38;5;28;01mif\u001B[39;00m torch\u001B[38;5;241m.\u001B[39mis_tensor(arg) \u001B[38;5;28;01melse\u001B[39;00m arg \u001B[38;5;28;01mfor\u001B[39;00m arg \u001B[38;5;129;01min\u001B[39;00m args]\n\u001B[0;32m--> 563\u001B[0m     \u001B[38;5;28;01mfor\u001B[39;00m x, chain_id \u001B[38;5;129;01min\u001B[39;00m \u001B[38;5;28mself\u001B[39m\u001B[38;5;241m.\u001B[39msampler\u001B[38;5;241m.\u001B[39mrun(\u001B[38;5;241m*\u001B[39margs, \u001B[38;5;241m*\u001B[39m\u001B[38;5;241m*\u001B[39mkwargs):\n\u001B[1;32m    564\u001B[0m         \u001B[38;5;28;01mif\u001B[39;00m num_samples[chain_id] \u001B[38;5;241m==\u001B[39m \u001B[38;5;241m0\u001B[39m:\n\u001B[1;32m    565\u001B[0m             num_samples[chain_id] \u001B[38;5;241m+\u001B[39m\u001B[38;5;241m=\u001B[39m \u001B[38;5;241m1\u001B[39m\n",
      "File \u001B[0;32m~/matteo/matteo/unimi/tesi_master/code/my_env/lib/python3.8/site-packages/pyro/infer/mcmc/api.py:223\u001B[0m, in \u001B[0;36m_UnarySampler.run\u001B[0;34m(self, *args, **kwargs)\u001B[0m\n\u001B[1;32m    221\u001B[0m logger \u001B[38;5;241m=\u001B[39m initialize_logger(logger, \u001B[38;5;124m\"\u001B[39m\u001B[38;5;124m\"\u001B[39m, progress_bar)\n\u001B[1;32m    222\u001B[0m hook_w_logging \u001B[38;5;241m=\u001B[39m _add_logging_hook(logger, progress_bar, \u001B[38;5;28mself\u001B[39m\u001B[38;5;241m.\u001B[39mhook)\n\u001B[0;32m--> 223\u001B[0m \u001B[38;5;28;01mfor\u001B[39;00m sample \u001B[38;5;129;01min\u001B[39;00m _gen_samples(\n\u001B[1;32m    224\u001B[0m     \u001B[38;5;28mself\u001B[39m\u001B[38;5;241m.\u001B[39mkernel,\n\u001B[1;32m    225\u001B[0m     \u001B[38;5;28mself\u001B[39m\u001B[38;5;241m.\u001B[39mwarmup_steps,\n\u001B[1;32m    226\u001B[0m     \u001B[38;5;28mself\u001B[39m\u001B[38;5;241m.\u001B[39mnum_samples,\n\u001B[1;32m    227\u001B[0m     hook_w_logging,\n\u001B[1;32m    228\u001B[0m     i \u001B[38;5;28;01mif\u001B[39;00m \u001B[38;5;28mself\u001B[39m\u001B[38;5;241m.\u001B[39mnum_chains \u001B[38;5;241m>\u001B[39m \u001B[38;5;241m1\u001B[39m \u001B[38;5;28;01melse\u001B[39;00m \u001B[38;5;28;01mNone\u001B[39;00m,\n\u001B[1;32m    229\u001B[0m     \u001B[38;5;241m*\u001B[39margs,\n\u001B[1;32m    230\u001B[0m     \u001B[38;5;241m*\u001B[39m\u001B[38;5;241m*\u001B[39mkwargs\n\u001B[1;32m    231\u001B[0m ):\n\u001B[1;32m    232\u001B[0m     \u001B[38;5;28;01myield\u001B[39;00m sample, i  \u001B[38;5;66;03m# sample, chain_id\u001B[39;00m\n\u001B[1;32m    233\u001B[0m \u001B[38;5;28mself\u001B[39m\u001B[38;5;241m.\u001B[39mkernel\u001B[38;5;241m.\u001B[39mcleanup()\n",
      "File \u001B[0;32m~/matteo/matteo/unimi/tesi_master/code/my_env/lib/python3.8/site-packages/pyro/infer/mcmc/api.py:150\u001B[0m, in \u001B[0;36m_gen_samples\u001B[0;34m(kernel, warmup_steps, num_samples, hook, chain_id, *args, **kwargs)\u001B[0m\n\u001B[1;32m    148\u001B[0m \u001B[38;5;28;01myield\u001B[39;00m {name: params[name]\u001B[38;5;241m.\u001B[39mshape \u001B[38;5;28;01mfor\u001B[39;00m name \u001B[38;5;129;01min\u001B[39;00m save_params}\n\u001B[1;32m    149\u001B[0m \u001B[38;5;28;01mfor\u001B[39;00m i \u001B[38;5;129;01min\u001B[39;00m \u001B[38;5;28mrange\u001B[39m(warmup_steps):\n\u001B[0;32m--> 150\u001B[0m     params \u001B[38;5;241m=\u001B[39m \u001B[43mkernel\u001B[49m\u001B[38;5;241;43m.\u001B[39;49m\u001B[43msample\u001B[49m\u001B[43m(\u001B[49m\u001B[43mparams\u001B[49m\u001B[43m)\u001B[49m\n\u001B[1;32m    151\u001B[0m     hook(\n\u001B[1;32m    152\u001B[0m         kernel,\n\u001B[1;32m    153\u001B[0m         params,\n\u001B[1;32m    154\u001B[0m         \u001B[38;5;124m\"\u001B[39m\u001B[38;5;124mWarmup [\u001B[39m\u001B[38;5;132;01m{}\u001B[39;00m\u001B[38;5;124m]\u001B[39m\u001B[38;5;124m\"\u001B[39m\u001B[38;5;241m.\u001B[39mformat(chain_id) \u001B[38;5;28;01mif\u001B[39;00m chain_id \u001B[38;5;129;01mis\u001B[39;00m \u001B[38;5;129;01mnot\u001B[39;00m \u001B[38;5;28;01mNone\u001B[39;00m \u001B[38;5;28;01melse\u001B[39;00m \u001B[38;5;124m\"\u001B[39m\u001B[38;5;124mWarmup\u001B[39m\u001B[38;5;124m\"\u001B[39m,\n\u001B[1;32m    155\u001B[0m         i,\n\u001B[1;32m    156\u001B[0m     )\n\u001B[1;32m    157\u001B[0m \u001B[38;5;28;01mfor\u001B[39;00m i \u001B[38;5;129;01min\u001B[39;00m \u001B[38;5;28mrange\u001B[39m(num_samples):\n",
      "File \u001B[0;32m~/matteo/matteo/unimi/tesi_master/code/my_env/lib/python3.8/site-packages/pyro/infer/mcmc/nuts.py:452\u001B[0m, in \u001B[0;36mNUTS.sample\u001B[0;34m(self, params)\u001B[0m\n\u001B[1;32m    450\u001B[0m     z_right_grads \u001B[38;5;241m=\u001B[39m new_tree\u001B[38;5;241m.\u001B[39mz_right_grads\n\u001B[1;32m    451\u001B[0m \u001B[38;5;28;01melse\u001B[39;00m:  \u001B[38;5;66;03m# go the the left, start from the left leaf of current tree\u001B[39;00m\n\u001B[0;32m--> 452\u001B[0m     new_tree \u001B[38;5;241m=\u001B[39m \u001B[38;5;28;43mself\u001B[39;49m\u001B[38;5;241;43m.\u001B[39;49m\u001B[43m_build_tree\u001B[49m\u001B[43m(\u001B[49m\n\u001B[1;32m    453\u001B[0m \u001B[43m        \u001B[49m\u001B[43mz_left\u001B[49m\u001B[43m,\u001B[49m\n\u001B[1;32m    454\u001B[0m \u001B[43m        \u001B[49m\u001B[43mr_left\u001B[49m\u001B[43m,\u001B[49m\n\u001B[1;32m    455\u001B[0m \u001B[43m        \u001B[49m\u001B[43mz_left_grads\u001B[49m\u001B[43m,\u001B[49m\n\u001B[1;32m    456\u001B[0m \u001B[43m        \u001B[49m\u001B[43mlog_slice\u001B[49m\u001B[43m,\u001B[49m\n\u001B[1;32m    457\u001B[0m \u001B[43m        \u001B[49m\u001B[43mdirection\u001B[49m\u001B[43m,\u001B[49m\n\u001B[1;32m    458\u001B[0m \u001B[43m        \u001B[49m\u001B[43mtree_depth\u001B[49m\u001B[43m,\u001B[49m\n\u001B[1;32m    459\u001B[0m \u001B[43m        \u001B[49m\u001B[43menergy_current\u001B[49m\u001B[43m,\u001B[49m\n\u001B[1;32m    460\u001B[0m \u001B[43m    \u001B[49m\u001B[43m)\u001B[49m\n\u001B[1;32m    461\u001B[0m     z_left \u001B[38;5;241m=\u001B[39m new_tree\u001B[38;5;241m.\u001B[39mz_left\n\u001B[1;32m    462\u001B[0m     r_left \u001B[38;5;241m=\u001B[39m new_tree\u001B[38;5;241m.\u001B[39mr_left\n",
      "File \u001B[0;32m~/matteo/matteo/unimi/tesi_master/code/my_env/lib/python3.8/site-packages/pyro/infer/mcmc/nuts.py:281\u001B[0m, in \u001B[0;36mNUTS._build_tree\u001B[0;34m(self, z, r, z_grads, log_slice, direction, tree_depth, energy_current)\u001B[0m\n\u001B[1;32m    279\u001B[0m     r \u001B[38;5;241m=\u001B[39m half_tree\u001B[38;5;241m.\u001B[39mr_left\n\u001B[1;32m    280\u001B[0m     z_grads \u001B[38;5;241m=\u001B[39m half_tree\u001B[38;5;241m.\u001B[39mz_left_grads\n\u001B[0;32m--> 281\u001B[0m other_half_tree \u001B[38;5;241m=\u001B[39m \u001B[38;5;28;43mself\u001B[39;49m\u001B[38;5;241;43m.\u001B[39;49m\u001B[43m_build_tree\u001B[49m\u001B[43m(\u001B[49m\n\u001B[1;32m    282\u001B[0m \u001B[43m    \u001B[49m\u001B[43mz\u001B[49m\u001B[43m,\u001B[49m\u001B[43m \u001B[49m\u001B[43mr\u001B[49m\u001B[43m,\u001B[49m\u001B[43m \u001B[49m\u001B[43mz_grads\u001B[49m\u001B[43m,\u001B[49m\u001B[43m \u001B[49m\u001B[43mlog_slice\u001B[49m\u001B[43m,\u001B[49m\u001B[43m \u001B[49m\u001B[43mdirection\u001B[49m\u001B[43m,\u001B[49m\u001B[43m \u001B[49m\u001B[43mtree_depth\u001B[49m\u001B[43m \u001B[49m\u001B[38;5;241;43m-\u001B[39;49m\u001B[43m \u001B[49m\u001B[38;5;241;43m1\u001B[39;49m\u001B[43m,\u001B[49m\u001B[43m \u001B[49m\u001B[43menergy_current\u001B[49m\n\u001B[1;32m    283\u001B[0m \u001B[43m\u001B[49m\u001B[43m)\u001B[49m\n\u001B[1;32m    285\u001B[0m \u001B[38;5;28;01mif\u001B[39;00m \u001B[38;5;28mself\u001B[39m\u001B[38;5;241m.\u001B[39muse_multinomial_sampling:\n\u001B[1;32m    286\u001B[0m     tree_weight \u001B[38;5;241m=\u001B[39m _logaddexp(half_tree\u001B[38;5;241m.\u001B[39mweight, other_half_tree\u001B[38;5;241m.\u001B[39mweight)\n",
      "File \u001B[0;32m~/matteo/matteo/unimi/tesi_master/code/my_env/lib/python3.8/site-packages/pyro/infer/mcmc/nuts.py:254\u001B[0m, in \u001B[0;36mNUTS._build_tree\u001B[0;34m(self, z, r, z_grads, log_slice, direction, tree_depth, energy_current)\u001B[0m\n\u001B[1;32m    250\u001B[0m \u001B[38;5;28;01mdef\u001B[39;00m \u001B[38;5;21m_build_tree\u001B[39m(\n\u001B[1;32m    251\u001B[0m     \u001B[38;5;28mself\u001B[39m, z, r, z_grads, log_slice, direction, tree_depth, energy_current\n\u001B[1;32m    252\u001B[0m ):\n\u001B[1;32m    253\u001B[0m     \u001B[38;5;28;01mif\u001B[39;00m tree_depth \u001B[38;5;241m==\u001B[39m \u001B[38;5;241m0\u001B[39m:\n\u001B[0;32m--> 254\u001B[0m         \u001B[38;5;28;01mreturn\u001B[39;00m \u001B[38;5;28;43mself\u001B[39;49m\u001B[38;5;241;43m.\u001B[39;49m\u001B[43m_build_basetree\u001B[49m\u001B[43m(\u001B[49m\n\u001B[1;32m    255\u001B[0m \u001B[43m            \u001B[49m\u001B[43mz\u001B[49m\u001B[43m,\u001B[49m\u001B[43m \u001B[49m\u001B[43mr\u001B[49m\u001B[43m,\u001B[49m\u001B[43m \u001B[49m\u001B[43mz_grads\u001B[49m\u001B[43m,\u001B[49m\u001B[43m \u001B[49m\u001B[43mlog_slice\u001B[49m\u001B[43m,\u001B[49m\u001B[43m \u001B[49m\u001B[43mdirection\u001B[49m\u001B[43m,\u001B[49m\u001B[43m \u001B[49m\u001B[43menergy_current\u001B[49m\n\u001B[1;32m    256\u001B[0m \u001B[43m        \u001B[49m\u001B[43m)\u001B[49m\n\u001B[1;32m    258\u001B[0m     \u001B[38;5;66;03m# build the first half of tree\u001B[39;00m\n\u001B[1;32m    259\u001B[0m     half_tree \u001B[38;5;241m=\u001B[39m \u001B[38;5;28mself\u001B[39m\u001B[38;5;241m.\u001B[39m_build_tree(\n\u001B[1;32m    260\u001B[0m         z, r, z_grads, log_slice, direction, tree_depth \u001B[38;5;241m-\u001B[39m \u001B[38;5;241m1\u001B[39m, energy_current\n\u001B[1;32m    261\u001B[0m     )\n",
      "File \u001B[0;32m~/matteo/matteo/unimi/tesi_master/code/my_env/lib/python3.8/site-packages/pyro/infer/mcmc/nuts.py:199\u001B[0m, in \u001B[0;36mNUTS._build_basetree\u001B[0;34m(self, z, r, z_grads, log_slice, direction, energy_current)\u001B[0m\n\u001B[1;32m    197\u001B[0m \u001B[38;5;28;01mdef\u001B[39;00m \u001B[38;5;21m_build_basetree\u001B[39m(\u001B[38;5;28mself\u001B[39m, z, r, z_grads, log_slice, direction, energy_current):\n\u001B[1;32m    198\u001B[0m     step_size \u001B[38;5;241m=\u001B[39m \u001B[38;5;28mself\u001B[39m\u001B[38;5;241m.\u001B[39mstep_size \u001B[38;5;28;01mif\u001B[39;00m direction \u001B[38;5;241m==\u001B[39m \u001B[38;5;241m1\u001B[39m \u001B[38;5;28;01melse\u001B[39;00m \u001B[38;5;241m-\u001B[39m\u001B[38;5;28mself\u001B[39m\u001B[38;5;241m.\u001B[39mstep_size\n\u001B[0;32m--> 199\u001B[0m     z_new, r_new, z_grads, potential_energy \u001B[38;5;241m=\u001B[39m \u001B[43mvelocity_verlet\u001B[49m\u001B[43m(\u001B[49m\n\u001B[1;32m    200\u001B[0m \u001B[43m        \u001B[49m\u001B[43mz\u001B[49m\u001B[43m,\u001B[49m\n\u001B[1;32m    201\u001B[0m \u001B[43m        \u001B[49m\u001B[43mr\u001B[49m\u001B[43m,\u001B[49m\n\u001B[1;32m    202\u001B[0m \u001B[43m        \u001B[49m\u001B[38;5;28;43mself\u001B[39;49m\u001B[38;5;241;43m.\u001B[39;49m\u001B[43mpotential_fn\u001B[49m\u001B[43m,\u001B[49m\n\u001B[1;32m    203\u001B[0m \u001B[43m        \u001B[49m\u001B[38;5;28;43mself\u001B[39;49m\u001B[38;5;241;43m.\u001B[39;49m\u001B[43mmass_matrix_adapter\u001B[49m\u001B[38;5;241;43m.\u001B[39;49m\u001B[43mkinetic_grad\u001B[49m\u001B[43m,\u001B[49m\n\u001B[1;32m    204\u001B[0m \u001B[43m        \u001B[49m\u001B[43mstep_size\u001B[49m\u001B[43m,\u001B[49m\n\u001B[1;32m    205\u001B[0m \u001B[43m        \u001B[49m\u001B[43mz_grads\u001B[49m\u001B[38;5;241;43m=\u001B[39;49m\u001B[43mz_grads\u001B[49m\u001B[43m,\u001B[49m\n\u001B[1;32m    206\u001B[0m \u001B[43m    \u001B[49m\u001B[43m)\u001B[49m\n\u001B[1;32m    207\u001B[0m     r_new_unscaled \u001B[38;5;241m=\u001B[39m \u001B[38;5;28mself\u001B[39m\u001B[38;5;241m.\u001B[39mmass_matrix_adapter\u001B[38;5;241m.\u001B[39munscale(r_new)\n\u001B[1;32m    208\u001B[0m     energy_new \u001B[38;5;241m=\u001B[39m potential_energy \u001B[38;5;241m+\u001B[39m \u001B[38;5;28mself\u001B[39m\u001B[38;5;241m.\u001B[39m_kinetic_energy(r_new_unscaled)\n",
      "File \u001B[0;32m~/matteo/matteo/unimi/tesi_master/code/my_env/lib/python3.8/site-packages/pyro/ops/integrator.py:39\u001B[0m, in \u001B[0;36mvelocity_verlet\u001B[0;34m(z, r, potential_fn, kinetic_grad, step_size, num_steps, z_grads)\u001B[0m\n\u001B[1;32m     37\u001B[0m r_next \u001B[38;5;241m=\u001B[39m r\u001B[38;5;241m.\u001B[39mcopy()\n\u001B[1;32m     38\u001B[0m \u001B[38;5;28;01mfor\u001B[39;00m _ \u001B[38;5;129;01min\u001B[39;00m \u001B[38;5;28mrange\u001B[39m(num_steps):\n\u001B[0;32m---> 39\u001B[0m     z_next, r_next, z_grads, potential_energy \u001B[38;5;241m=\u001B[39m \u001B[43m_single_step_verlet\u001B[49m\u001B[43m(\u001B[49m\n\u001B[1;32m     40\u001B[0m \u001B[43m        \u001B[49m\u001B[43mz_next\u001B[49m\u001B[43m,\u001B[49m\u001B[43m \u001B[49m\u001B[43mr_next\u001B[49m\u001B[43m,\u001B[49m\u001B[43m \u001B[49m\u001B[43mpotential_fn\u001B[49m\u001B[43m,\u001B[49m\u001B[43m \u001B[49m\u001B[43mkinetic_grad\u001B[49m\u001B[43m,\u001B[49m\u001B[43m \u001B[49m\u001B[43mstep_size\u001B[49m\u001B[43m,\u001B[49m\u001B[43m \u001B[49m\u001B[43mz_grads\u001B[49m\n\u001B[1;32m     41\u001B[0m \u001B[43m    \u001B[49m\u001B[43m)\u001B[49m\n\u001B[1;32m     42\u001B[0m \u001B[38;5;28;01mreturn\u001B[39;00m z_next, r_next, z_grads, potential_energy\n",
      "File \u001B[0;32m~/matteo/matteo/unimi/tesi_master/code/my_env/lib/python3.8/site-packages/pyro/ops/integrator.py:61\u001B[0m, in \u001B[0;36m_single_step_verlet\u001B[0;34m(z, r, potential_fn, kinetic_grad, step_size, z_grads)\u001B[0m\n\u001B[1;32m     58\u001B[0m \u001B[38;5;28;01mfor\u001B[39;00m site_name \u001B[38;5;129;01min\u001B[39;00m z:\n\u001B[1;32m     59\u001B[0m     z[site_name] \u001B[38;5;241m=\u001B[39m z[site_name] \u001B[38;5;241m+\u001B[39m step_size \u001B[38;5;241m*\u001B[39m r_grads[site_name]  \u001B[38;5;66;03m# z(n+1)\u001B[39;00m\n\u001B[0;32m---> 61\u001B[0m z_grads, potential_energy \u001B[38;5;241m=\u001B[39m \u001B[43mpotential_grad\u001B[49m\u001B[43m(\u001B[49m\u001B[43mpotential_fn\u001B[49m\u001B[43m,\u001B[49m\u001B[43m \u001B[49m\u001B[43mz\u001B[49m\u001B[43m)\u001B[49m\n\u001B[1;32m     62\u001B[0m \u001B[38;5;28;01mfor\u001B[39;00m site_name \u001B[38;5;129;01min\u001B[39;00m r:\n\u001B[1;32m     63\u001B[0m     r[site_name] \u001B[38;5;241m=\u001B[39m r[site_name] \u001B[38;5;241m+\u001B[39m \u001B[38;5;241m0.5\u001B[39m \u001B[38;5;241m*\u001B[39m step_size \u001B[38;5;241m*\u001B[39m (\u001B[38;5;241m-\u001B[39mz_grads[site_name])  \u001B[38;5;66;03m# r(n+1)\u001B[39;00m\n",
      "File \u001B[0;32m~/matteo/matteo/unimi/tesi_master/code/my_env/lib/python3.8/site-packages/pyro/ops/integrator.py:91\u001B[0m, in \u001B[0;36mpotential_grad\u001B[0;34m(potential_fn, z)\u001B[0m\n\u001B[1;32m     89\u001B[0m     \u001B[38;5;28;01melse\u001B[39;00m:\n\u001B[1;32m     90\u001B[0m         \u001B[38;5;28;01mraise\u001B[39;00m e\n\u001B[0;32m---> 91\u001B[0m grads \u001B[38;5;241m=\u001B[39m \u001B[43mgrad\u001B[49m\u001B[43m(\u001B[49m\u001B[43mpotential_energy\u001B[49m\u001B[43m,\u001B[49m\u001B[43m \u001B[49m\u001B[43mz_nodes\u001B[49m\u001B[43m)\u001B[49m\n\u001B[1;32m     92\u001B[0m \u001B[38;5;28;01mfor\u001B[39;00m node \u001B[38;5;129;01min\u001B[39;00m z_nodes:\n\u001B[1;32m     93\u001B[0m     node\u001B[38;5;241m.\u001B[39mrequires_grad_(\u001B[38;5;28;01mFalse\u001B[39;00m)\n",
      "File \u001B[0;32m~/matteo/matteo/unimi/tesi_master/code/my_env/lib/python3.8/site-packages/torch/autograd/__init__.py:300\u001B[0m, in \u001B[0;36mgrad\u001B[0;34m(outputs, inputs, grad_outputs, retain_graph, create_graph, only_inputs, allow_unused, is_grads_batched)\u001B[0m\n\u001B[1;32m    298\u001B[0m     \u001B[38;5;28;01mreturn\u001B[39;00m _vmap_internals\u001B[38;5;241m.\u001B[39m_vmap(vjp, \u001B[38;5;241m0\u001B[39m, \u001B[38;5;241m0\u001B[39m, allow_none_pass_through\u001B[38;5;241m=\u001B[39m\u001B[38;5;28;01mTrue\u001B[39;00m)(grad_outputs_)\n\u001B[1;32m    299\u001B[0m \u001B[38;5;28;01melse\u001B[39;00m:\n\u001B[0;32m--> 300\u001B[0m     \u001B[38;5;28;01mreturn\u001B[39;00m \u001B[43mVariable\u001B[49m\u001B[38;5;241;43m.\u001B[39;49m\u001B[43m_execution_engine\u001B[49m\u001B[38;5;241;43m.\u001B[39;49m\u001B[43mrun_backward\u001B[49m\u001B[43m(\u001B[49m\u001B[43m  \u001B[49m\u001B[38;5;66;43;03m# Calls into the C++ engine to run the backward pass\u001B[39;49;00m\n\u001B[1;32m    301\u001B[0m \u001B[43m        \u001B[49m\u001B[43mt_outputs\u001B[49m\u001B[43m,\u001B[49m\u001B[43m \u001B[49m\u001B[43mgrad_outputs_\u001B[49m\u001B[43m,\u001B[49m\u001B[43m \u001B[49m\u001B[43mretain_graph\u001B[49m\u001B[43m,\u001B[49m\u001B[43m \u001B[49m\u001B[43mcreate_graph\u001B[49m\u001B[43m,\u001B[49m\u001B[43m \u001B[49m\u001B[43mt_inputs\u001B[49m\u001B[43m,\u001B[49m\n\u001B[1;32m    302\u001B[0m \u001B[43m        \u001B[49m\u001B[43mallow_unused\u001B[49m\u001B[43m,\u001B[49m\u001B[43m \u001B[49m\u001B[43maccumulate_grad\u001B[49m\u001B[38;5;241;43m=\u001B[39;49m\u001B[38;5;28;43;01mFalse\u001B[39;49;00m\u001B[43m)\u001B[49m\n",
      "\u001B[0;31mKeyboardInterrupt\u001B[0m: "
     ]
    }
   ],
   "source": [
    "# categorical/multinomial distribution\n",
    "\n",
    "# uniform prior\n",
    "prior_counts = torch.ones((2,2))\n",
    "\n",
    "\n",
    "#model\n",
    "def model(data):\n",
    "    prior = pyro.sample(\"prior\", dist.Dirichlet(prior_counts))\n",
    "    total_counts = int(data.sum())\n",
    "    pyro.sample(\"likelihood\", dist.Multinomial(total_counts, prior), obs=data)\n",
    "\n",
    "\n",
    "nuts_kernel = NUTS(model)\n",
    "num_samples, warmup_steps = (300, 200)\n",
    "\n",
    "mcmc = MCMC(nuts_kernel, num_samples=num_samples, warmup_steps=warmup_steps, disable_progbar=True)\n",
    "all_means = []\n",
    "\n",
    "# sampling\n",
    "for i in range(len(counter)):\n",
    "    mcmc.run(counter[i])\n",
    "    hmc_samples = {k: v.detach().cpu().numpy()\n",
    "                   for k, v in mcmc.get_samples().items()}\n",
    "    means = hmc_samples['prior'].mean(axis=0)\n",
    "    stds = hmc_samples['prior'].std(axis=0)\n",
    "    print('observation: ', data_np[i])\n",
    "    print('probabilities: ', means)\n",
    "    all_means.append(means)"
   ]
  },
  {
   "cell_type": "code",
   "execution_count": null,
   "metadata": {},
   "outputs": [],
   "source": []
  },
  {
   "cell_type": "markdown",
   "source": [
    "## Rational agent discretisation"
   ],
   "metadata": {
    "collapsed": false
   }
  },
  {
   "cell_type": "code",
   "execution_count": null,
   "outputs": [],
   "source": [
    "valid_subjects = extract_correct_csv.extract_only_valid_subject()\n",
    "len(valid_subjects)"
   ],
   "metadata": {
    "collapsed": false
   }
  },
  {
   "cell_type": "code",
   "execution_count": null,
   "metadata": {},
   "outputs": [],
   "source": [
    "total_array_simulated = np.load('output/pyro/complete_rational/total.npy',allow_pickle=True)\n",
    "total_array_simulated"
   ]
  },
  {
   "cell_type": "code",
   "execution_count": null,
   "outputs": [],
   "source": [
    "values = np.array([0, 0.2, 0.4, 0.6, 0.8, 1])\n",
    "discretized_data = np.digitize(total_array_simulated, values)\n",
    "print(discretized_data.shape)\n",
    "\n",
    "\n",
    "df_global = pd.DataFrame(columns=['Subject', 'Rating rational', 'Rating real'])\n",
    "\n",
    "for sub in valid_subjects:\n",
    "    string_sub = extract_correct_csv.read_correct_subject_csv(sub)\n",
    "    df_sub = pd.read_csv('data/newLookAtMe/newLookAtMe'+string_sub+'.csv')\n",
    "    df_sub = df_sub[16:]\n",
    "    tmp_df = pd.DataFrame({'Subject': sub, 'Rating rational': discretized_data, 'Rating real': df_sub['rating']})\n",
    "    df_global = pd.concat([df_global, tmp_df])\n",
    "\n",
    "df_global = df_global.reset_index(drop=True)"
   ],
   "metadata": {
    "collapsed": false
   }
  },
  {
   "cell_type": "code",
   "execution_count": null,
   "outputs": [],
   "source": [
    "# useless up to now\n",
    "'''df_global = df_global.groupby('Subject', as_index=False).agg({'Rating rational': lambda x: x.tolist(), 'Rating real': lambda x: x.tolist()})\n",
    "df_global['Rating rational'] = df_global['Rating rational'].apply(lambda x: np.array(x))\n",
    "df_global['Rating real'] = df_global['Rating real'].apply(lambda x: np.array(x))'''"
   ],
   "metadata": {
    "collapsed": false
   }
  },
  {
   "cell_type": "code",
   "execution_count": null,
   "outputs": [],
   "source": [
    "valid_subjects = df_global.Subject.unique()\n",
    "valid_subjects"
   ],
   "metadata": {
    "collapsed": false
   }
  },
  {
   "cell_type": "code",
   "execution_count": null,
   "outputs": [],
   "source": [
    "dict_results = {}\n",
    "for x in valid_subjects:\n",
    "    df_sub_ = df_global[df_global.Subject == x].dropna().drop(columns=['Subject']).reset_index(drop=True)\n",
    "    df_sub_['Rating rational'] = df_sub_['Rating rational'].astype(float)\n",
    "    result = intraclass_correlation(df_sub_).value\n",
    "    dict_results[x] = result\n",
    "\n",
    "dict_results\n"
   ],
   "metadata": {
    "collapsed": false
   }
  },
  {
   "cell_type": "code",
   "execution_count": null,
   "outputs": [],
   "source": [
    "df_icc = pd.DataFrame(list(dict_results.items()), columns=['Subject', 'ICC'])\n",
    "df_icc"
   ],
   "metadata": {
    "collapsed": false
   }
  },
  {
   "cell_type": "code",
   "execution_count": null,
   "outputs": [],
   "source": [
    "path_sias = 'data/sias_score.csv'\n",
    "path_lds = 'data/lds_subjects.csv'\n",
    "\n",
    "len_sub = 6\n",
    "top_lds = anxious_subjects(path_lds, len_sub, 'top')\n",
    "bot_lds = anxious_subjects(path_lds, len_sub, 'bot')\n",
    "\n",
    "top_sias = anxious_subjects(path_sias, len_sub)\n",
    "bot_sias = anxious_subjects(path_sias, len_sub, 'bot')"
   ],
   "metadata": {
    "collapsed": false
   }
  },
  {
   "cell_type": "code",
   "execution_count": null,
   "outputs": [],
   "source": [
    "mean_top_sias = df_icc[df_icc.Subject.isin(top_sias)]['ICC'].mean()\n",
    "mean_bot_sias = df_icc[df_icc.Subject.isin(bot_sias)]['ICC'].mean()\n",
    "mean_top_lds = df_icc[df_icc.Subject.isin(top_lds)]['ICC'].mean()\n",
    "mean_bot_lds = df_icc[df_icc.Subject.isin(bot_lds)]['ICC'].mean()"
   ],
   "metadata": {
    "collapsed": false
   }
  },
  {
   "cell_type": "code",
   "execution_count": null,
   "outputs": [],
   "source": [
    "print(f'Average of the first {len_sub} subjects with higher sias score: {round(mean_top_sias, 2)}')\n",
    "print(f'Average of the first {len_sub} subjects with lower sias score: {round(mean_bot_sias, 2)}')\n",
    "print(f'Average of the first {len_sub} subjects with higher linear deviation score: {round(mean_top_lds,2)}')\n",
    "print(f'Average of the first {len_sub} subjects with lower linear deviation score: {round(mean_bot_lds, 2)}')"
   ],
   "metadata": {
    "collapsed": false
   }
  }
 ],
 "metadata": {
  "kernelspec": {
   "display_name": "Python 3 (ipykernel)",
   "language": "python",
   "name": "python3"
  },
  "language_info": {
   "codemirror_mode": {
    "name": "ipython",
    "version": 3
   },
   "file_extension": ".py",
   "mimetype": "text/x-python",
   "name": "python",
   "nbconvert_exporter": "python",
   "pygments_lexer": "ipython3",
   "version": "3.8.10"
  }
 },
 "nbformat": 4,
 "nbformat_minor": 1
}
