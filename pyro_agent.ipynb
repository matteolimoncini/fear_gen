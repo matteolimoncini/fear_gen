{
 "cells": [
  {
   "cell_type": "code",
   "execution_count": 1,
   "metadata": {
    "collapsed": true
   },
   "outputs": [
    {
     "data": {
      "text/plain": "'1.8.4'"
     },
     "execution_count": 1,
     "metadata": {},
     "output_type": "execute_result"
    }
   ],
   "source": [
    "import torch\n",
    "import numpy as np\n",
    "import pandas as pd\n",
    "import seaborn as sns\n",
    "import matplotlib.pyplot as plt\n",
    "import logging\n",
    "import os\n",
    "from pyirr import intraclass_correlation\n",
    "\n",
    "import pyro\n",
    "from pyro.optim import Adam\n",
    "from pyro.infer import SVI, Trace_ELBO, MCMC, NUTS\n",
    "import pyro.distributions as dist\n",
    "import pyro.distributions.constraints as constraints\n",
    "from sklearn import preprocessing\n",
    "from sklearn.metrics import r2_score\n",
    "import warnings\n",
    "from sklearn.metrics import cohen_kappa_score\n",
    "warnings.simplefilter(action=\"ignore\",category=FutureWarning)\n",
    "\n",
    "import numpy as np\n",
    "import pandas as pd\n",
    "import matplotlib.pyplot as plt\n",
    "from autorank import autorank, plot_stats, create_report, latex_table\n",
    "\n",
    "pyro.__version__"
   ]
  },
  {
   "cell_type": "code",
   "execution_count": 2,
   "outputs": [],
   "source": [
    "def anxious_subjects(path, n, type='top'):\n",
    "    '''\n",
    "\n",
    "    :param path: path sias score or linear deviation score\n",
    "    :param n: number of subjects\n",
    "    :param type: 'top' or 'bot'\n",
    "    :return: top or bot n subjects sorted by sias score\n",
    "    '''\n",
    "    valid_subjects = extract_correct_csv.extract_only_valid_subject()\n",
    "    df = pd.read_csv(path).dropna().reset_index(drop=True)\n",
    "    df = df[df.subject.isin(valid_subjects)]\n",
    "    df['subject'] = [int(x) for x in df['subject']]\n",
    "    if type=='top':\n",
    "        return df.sort_values(by=df.columns[1], ascending=False).subject[:n].values\n",
    "    else:\n",
    "        return df.sort_values(by=df.columns[1], ascending=False).subject[-n:].values\n"
   ],
   "metadata": {
    "collapsed": false
   }
  },
  {
   "cell_type": "markdown",
   "metadata": {},
   "source": [
    "# Rational agent\n",
    "\n",
    "The idea is to train n models where each model is trained using n trials."
   ]
  },
  {
   "cell_type": "markdown",
   "metadata": {},
   "source": [
    "extract valid subjects"
   ]
  },
  {
   "cell_type": "code",
   "execution_count": 3,
   "metadata": {},
   "outputs": [],
   "source": [
    "import extract_correct_csv\n",
    "valid_sub = extract_correct_csv.extract_only_valid_subject()"
   ]
  },
  {
   "cell_type": "markdown",
   "metadata": {},
   "source": [
    "read real data of subject #2 (data equals to all subjects)"
   ]
  },
  {
   "cell_type": "code",
   "execution_count": 4,
   "metadata": {},
   "outputs": [
    {
     "name": "stderr",
     "output_type": "stream",
     "text": [
      "/tmp/ipykernel_272953/522845498.py:4: SettingWithCopyWarning: \n",
      "A value is trying to be set on a copy of a slice from a DataFrame.\n",
      "Try using .loc[row_indexer,col_indexer] = value instead\n",
      "\n",
      "See the caveats in the documentation: https://pandas.pydata.org/pandas-docs/stable/user_guide/indexing.html#returning-a-view-versus-a-copy\n",
      "  df_rational['shock'] = df_rational['shock'].astype(int) #setting shock as int instead of boolean\n",
      "/tmp/ipykernel_272953/522845498.py:5: SettingWithCopyWarning: \n",
      "A value is trying to be set on a copy of a slice from a DataFrame.\n",
      "Try using .loc[row_indexer,col_indexer] = value instead\n",
      "\n",
      "See the caveats in the documentation: https://pandas.pydata.org/pandas-docs/stable/user_guide/indexing.html#returning-a-view-versus-a-copy\n",
      "  df_rational['morphing level'] = [int(d==6) for d in df_rational['morphing level']] # if morphing level==6 -> 1\n"
     ]
    }
   ],
   "source": [
    "# read dataset\n",
    "df = pd.read_csv('data/newLookAtMe/newLookAtMe02.csv')\n",
    "df_rational = df[['morphing level', 'shock']]\n",
    "df_rational['shock'] = df_rational['shock'].astype(int) #setting shock as int instead of boolean\n",
    "df_rational['morphing level'] = [int(d==6) for d in df_rational['morphing level']] # if morphing level==6 -> 1"
   ]
  },
  {
   "cell_type": "code",
   "execution_count": 5,
   "metadata": {},
   "outputs": [],
   "source": [
    "data_np = df_rational.to_numpy()\n",
    "\n",
    "HABITUATION_TRIALS = 16\n",
    "ACQUISITION_TRIALS = 48\n",
    "data_all = data_np[16:]\n",
    "learning_data = data_np[HABITUATION_TRIALS:ACQUISITION_TRIALS] # remove only habituation"
   ]
  },
  {
   "cell_type": "code",
   "execution_count": 6,
   "metadata": {},
   "outputs": [],
   "source": [
    "data = torch.tensor(data_all)\n",
    "N = data.shape[0]"
   ]
  },
  {
   "cell_type": "code",
   "execution_count": 7,
   "metadata": {},
   "outputs": [],
   "source": [
    "array_csplus_simulated = np.load('output/pyro/complete_rational/csplus.npy',allow_pickle=True)\n",
    "array_csminus_simulated = np.load('output/pyro/complete_rational/csminus.npy',allow_pickle=True)\n",
    "total_array_simulated = np.load('output/pyro/complete_rational/total.npy',allow_pickle=True)"
   ]
  },
  {
   "cell_type": "markdown",
   "metadata": {},
   "source": [
    "## shock expectancy simulated"
   ]
  },
  {
   "cell_type": "code",
   "execution_count": 8,
   "metadata": {},
   "outputs": [
    {
     "name": "stderr",
     "output_type": "stream",
     "text": [
      "/tmp/ipykernel_272953/4112460405.py:2: SettingWithCopyWarning: \n",
      "A value is trying to be set on a copy of a slice from a DataFrame.\n",
      "Try using .loc[row_indexer,col_indexer] = value instead\n",
      "\n",
      "See the caveats in the documentation: https://pandas.pydata.org/pandas-docs/stable/user_guide/indexing.html#returning-a-view-versus-a-copy\n",
      "  df_['shock'] = df_['shock'].astype(int)\n",
      "/tmp/ipykernel_272953/4112460405.py:3: SettingWithCopyWarning: \n",
      "A value is trying to be set on a copy of a slice from a DataFrame.\n",
      "Try using .loc[row_indexer,col_indexer] = value instead\n",
      "\n",
      "See the caveats in the documentation: https://pandas.pydata.org/pandas-docs/stable/user_guide/indexing.html#returning-a-view-versus-a-copy\n",
      "  df_['morphing level'] = [int(d == 6) for d in df_['morphing level']]\n",
      "/tmp/ipykernel_272953/4112460405.py:4: SettingWithCopyWarning: \n",
      "A value is trying to be set on a copy of a slice from a DataFrame.\n",
      "Try using .loc[row_indexer,col_indexer] = value instead\n",
      "\n",
      "See the caveats in the documentation: https://pandas.pydata.org/pandas-docs/stable/user_guide/indexing.html#returning-a-view-versus-a-copy\n",
      "  df_['rating'] = df_['rating'].replace([1, 2, 3, 4, 5], [0.2, 0.4, 0.6, 0.8, 1])\n"
     ]
    }
   ],
   "source": [
    "df_ = df[['shock', 'rating', 'morphing level']]\n",
    "df_['shock'] = df_['shock'].astype(int)\n",
    "df_['morphing level'] = [int(d == 6) for d in df_['morphing level']]\n",
    "df_['rating'] = df_['rating'].replace([1, 2, 3, 4, 5], [0.2, 0.4, 0.6, 0.8, 1])"
   ]
  },
  {
   "cell_type": "code",
   "execution_count": 9,
   "metadata": {},
   "outputs": [
    {
     "data": {
      "text/plain": "     shock  rating  morphing level\n0        0     0.6               0\n1        0     0.6               1\n2        0     0.6               1\n3        0     0.6               0\n4        0     0.6               0\n..     ...     ...             ...\n155      0     0.2               0\n156      0     0.2               0\n157      0     0.2               0\n158      0     0.2               0\n159      0     0.8               1\n\n[160 rows x 3 columns]",
      "text/html": "<div>\n<style scoped>\n    .dataframe tbody tr th:only-of-type {\n        vertical-align: middle;\n    }\n\n    .dataframe tbody tr th {\n        vertical-align: top;\n    }\n\n    .dataframe thead th {\n        text-align: right;\n    }\n</style>\n<table border=\"1\" class=\"dataframe\">\n  <thead>\n    <tr style=\"text-align: right;\">\n      <th></th>\n      <th>shock</th>\n      <th>rating</th>\n      <th>morphing level</th>\n    </tr>\n  </thead>\n  <tbody>\n    <tr>\n      <th>0</th>\n      <td>0</td>\n      <td>0.6</td>\n      <td>0</td>\n    </tr>\n    <tr>\n      <th>1</th>\n      <td>0</td>\n      <td>0.6</td>\n      <td>1</td>\n    </tr>\n    <tr>\n      <th>2</th>\n      <td>0</td>\n      <td>0.6</td>\n      <td>1</td>\n    </tr>\n    <tr>\n      <th>3</th>\n      <td>0</td>\n      <td>0.6</td>\n      <td>0</td>\n    </tr>\n    <tr>\n      <th>4</th>\n      <td>0</td>\n      <td>0.6</td>\n      <td>0</td>\n    </tr>\n    <tr>\n      <th>...</th>\n      <td>...</td>\n      <td>...</td>\n      <td>...</td>\n    </tr>\n    <tr>\n      <th>155</th>\n      <td>0</td>\n      <td>0.2</td>\n      <td>0</td>\n    </tr>\n    <tr>\n      <th>156</th>\n      <td>0</td>\n      <td>0.2</td>\n      <td>0</td>\n    </tr>\n    <tr>\n      <th>157</th>\n      <td>0</td>\n      <td>0.2</td>\n      <td>0</td>\n    </tr>\n    <tr>\n      <th>158</th>\n      <td>0</td>\n      <td>0.2</td>\n      <td>0</td>\n    </tr>\n    <tr>\n      <th>159</th>\n      <td>0</td>\n      <td>0.8</td>\n      <td>1</td>\n    </tr>\n  </tbody>\n</table>\n<p>160 rows × 3 columns</p>\n</div>"
     },
     "execution_count": 9,
     "metadata": {},
     "output_type": "execute_result"
    }
   ],
   "source": [
    "#remove first 16 trials real data\n",
    "df_new=df_\n",
    "#consider only the learning phase\n",
    "df_learning = df_\n",
    "df_learning"
   ]
  },
  {
   "cell_type": "code",
   "execution_count": 10,
   "metadata": {},
   "outputs": [],
   "source": [
    "y_plus_real = df_new.loc[df_new['morphing level']==1].rating.values\n",
    "x_plus_real = np.array(df_new.loc[df_new['morphing level']==1].index)\n",
    "y_minus_real = df_new.loc[df_new['morphing level']==0].rating.values\n",
    "x_minus_real = np.array(df_new.loc[df_new['morphing level']==0].index)\n",
    "y_real=df_new.rating.values\n",
    "\n",
    "y_plus_train = df_learning.loc[df_learning['morphing level']==1].rating.values\n",
    "x_plus_train = np.array(df_learning.loc[df_learning['morphing level']==1].index)\n",
    "y_minus_train = df_learning.loc[df_learning['morphing level']==0].rating.values\n",
    "x_minus_train = np.array(df_learning.loc[df_learning['morphing level']==0].index)\n",
    "y_train=df_learning.rating.values"
   ]
  },
  {
   "cell_type": "code",
   "execution_count": 11,
   "metadata": {},
   "outputs": [
    {
     "data": {
      "text/plain": "<Figure size 1300x600 with 1 Axes>",
      "image/png": "[encoded data removed]"
     },
     "metadata": {},
     "output_type": "display_data"
    }
   ],
   "source": [
    "fig = plt.figure(figsize=(13,6))\n",
    "plt.title('Analysis of the shock prediction comparing subject #2 and rational agent')\n",
    "plt.scatter(x_plus_real, y_plus_real, color='blue', label='cs+ real')\n",
    "plt.scatter(array_csplus_simulated[:,0], array_csplus_simulated[:,1], color='darkblue', label='cs+ simulated')\n",
    "plt.scatter(x_minus_real, y_minus_real, color='red', label='cs- real')\n",
    "plt.scatter(array_csminus_simulated[:,0], array_csminus_simulated[:,1], color='darkred', label='cs- simulated')\n",
    "plt.legend(loc='right')\n",
    "plt.axvline(x=16, linestyle='--', color='green')\n",
    "plt.axvline(x=48, linestyle='--', color='green')\n",
    "plt.xlabel('Trial')\n",
    "plt.ylabel('P(condition | visual stimulus)')\n",
    "plt.show()"
   ]
  },
  {
   "cell_type": "markdown",
   "source": [
    "# correlation"
   ],
   "metadata": {
    "collapsed": false
   }
  },
  {
   "cell_type": "markdown",
   "metadata": {},
   "source": [
    "## analysis of the correlation between rational agent and real subject with pearson"
   ]
  },
  {
   "cell_type": "code",
   "execution_count": 12,
   "metadata": {},
   "outputs": [],
   "source": [
    "# rating between 16-160 trial rational agent\n",
    "rating_rational = total_array_simulated"
   ]
  },
  {
   "cell_type": "code",
   "execution_count": 13,
   "metadata": {},
   "outputs": [],
   "source": [
    "df_correlation = pd.DataFrame(columns=['subject','pearson','r2score','person_disc','cohen_disc'])\n",
    "path_sias = 'data/sias_score.csv'\n",
    "path_lds = 'data/lds_subjects.csv'\n",
    "len_sub = 6\n",
    "\n",
    "top_lds_list = anxious_subjects(path_lds, len_sub, 'top')\n",
    "bot_lds_list = anxious_subjects(path_lds, len_sub, 'bot')\n",
    "top_sias_list = anxious_subjects(path_sias, len_sub, 'top')\n",
    "bot_sias_list = anxious_subjects(path_sias, len_sub, 'bot')\n",
    "\n",
    "more_lds = pd.DataFrame(columns=['Subject','ratings'])\n",
    "less_lds = pd.DataFrame(columns=['Subject','ratings'])\n",
    "more_sias = pd.DataFrame(columns=['Subject','ratings'])\n",
    "less_sias = pd.DataFrame(columns=['Subject','ratings'])\n",
    "\n",
    "\n",
    "for sub in valid_sub:\n",
    "    subj_ = extract_correct_csv.read_correct_subject_csv(sub)\n",
    "    df_sub = pd.read_csv('data/newLookAtMe/newLookAtMe'+subj_+'.csv')\n",
    "    df_sub = df_sub[['shock', 'rating', 'morphing level']]\n",
    "    df_sub['shock'] = df_sub['shock'].astype(int)\n",
    "    df_sub['morphing level'] = [int(d == 6) for d in df_sub['morphing level']]\n",
    "    df_sub['rating'] = df_sub['rating'].replace([1, 2, 3, 4, 5], [0.2, 0.4, 0.6, 0.8, 1])\n",
    "    df_sub_learn = df_sub[16:]\n",
    "    rating_sub = np.array(df_sub_learn['rating'])\n",
    "\n",
    "    # remove nan\n",
    "    bad = ~np.logical_or(np.isnan(rating_sub), np.isnan(rating_rational))\n",
    "    rating_sub_ = np.compress(bad, rating_sub)\n",
    "    rating_rational_ = np.compress(bad, rating_rational)\n",
    "\n",
    "    lds = pd.DataFrame({'Subject':subj_,'ratings':[rating_sub]})\n",
    "\n",
    "    if sub in top_lds_list:\n",
    "        more_lds = pd.concat([more_lds,lds])\n",
    "    if sub in bot_lds_list:\n",
    "        less_lds = pd.concat([less_lds,lds])\n",
    "    if sub in top_sias_list:\n",
    "        more_sias = pd.concat([more_sias,lds])\n",
    "    if sub in bot_sias_list:\n",
    "        less_sias = pd.concat([less_sias,lds])\n",
    "\n",
    "    #discretization of rating rational\n",
    "    round_vector = np.array([0.2, 0.4, 0.6, 0.8, 1])\n",
    "    rating_rational_discr = np.round(rating_rational_ / 0.2) * 0.2\n",
    "    rating_rational_discr = np.clip(rating_rational_discr, round_vector.min(), round_vector.max())\n",
    "\n",
    "    #pearson corr coeff\n",
    "    pearson = round(np.corrcoef(rating_sub_,rating_rational_)[0][1],2)\n",
    "\n",
    "    #r2 score\n",
    "    r2 = round(r2_score(rating_sub_,rating_rational_),2)\n",
    "\n",
    "    #pearson discr\n",
    "    pearson_disc = round(np.corrcoef(rating_sub_,rating_rational_discr)[0][1],2)\n",
    "\n",
    "    #cohen kappa discr\n",
    "    cohen_disc = round(cohen_kappa_score(rating_sub_*10,rating_rational_discr*10),2)\n",
    "\n",
    "    # write line\n",
    "    df_tmp = pd.DataFrame({'subject':sub,'pearson':pearson,'r2score':r2,'person_disc':pearson_disc,'cohen_disc':cohen_disc},index=np.arange(1))\n",
    "    df_correlation = pd.concat([df_correlation,df_tmp])\n",
    "\n",
    "\n",
    "sias_df = pd.read_csv('data/sias_score.csv').drop(columns='social_anxiety')\n",
    "sias_df['subject'] = [float(x) for x in sias_df['subject']]\n",
    "\n",
    "lds_df = pd.read_csv('data/lds_subjects.csv')\n",
    "lds_df['subject'] = [float(x) for x in lds_df['subject']]\n",
    "\n",
    "df_correlation['subject'] = [float(x) for x in df_correlation['subject']]\n",
    "\n",
    "df_corr_ = pd.concat([sias_df.set_index('subject'), lds_df.set_index('subject'), df_correlation.set_index('subject')], axis=1).reset_index()\n",
    "\n",
    "# drop nan\n",
    "lds_df['subject'] = [float(x) for x in lds_df['subject']]"
   ]
  },
  {
   "cell_type": "code",
   "execution_count": 14,
   "outputs": [],
   "source": [
    "more_lds.sort_values(by='Subject')\n",
    "less_lds.sort_values(by='Subject')\n",
    "more_sias.sort_values(by='Subject')\n",
    "less_sias.sort_values(by='Subject')\n",
    "\n",
    "rat_more_lds = []\n",
    "for row in more_lds.iterrows():\n",
    "    rat_more_lds.append(list(row[1][1]))\n",
    "\n",
    "rat_less_lds = []\n",
    "for row in less_lds.iterrows():\n",
    "    rat_less_lds.append(list(row[1][1]))\n",
    "\n",
    "rat_more_sias = []\n",
    "for row in more_sias.iterrows():\n",
    "    rat_more_sias.append(list(row[1][1]))\n",
    "\n",
    "rat_less_sias = []\n",
    "for row in less_sias.iterrows():\n",
    "    rat_less_sias.append(list(row[1][1]))\n",
    "\n",
    "rat_more_lds = np.array(rat_more_lds).flatten()\n",
    "rat_less_lds = np.array(rat_less_lds).flatten()\n",
    "rat_more_sias = np.array(rat_more_sias).flatten()\n",
    "rat_less_sias = np.array(rat_less_sias).flatten()\n"
   ],
   "metadata": {
    "collapsed": false
   }
  },
  {
   "cell_type": "code",
   "execution_count": 15,
   "outputs": [],
   "source": [
    "duplicated_rating_sub = [item for _ in range(len_sub) for item in rating_sub]\n",
    "\n",
    "\n",
    "lds = pd.DataFrame(data=list(zip(rat_more_lds,duplicated_rating_sub,rat_less_lds)),columns=['more_lds','rational','low_lds'])\n",
    "sias = pd.DataFrame(data=list(zip(rat_more_sias,duplicated_rating_sub,rat_less_sias)),columns=['more_sias','rational','low_sias'])\n",
    "\n",
    "lds = lds.dropna()\n",
    "sias = sias.dropna()"
   ],
   "metadata": {
    "collapsed": false
   }
  },
  {
   "cell_type": "markdown",
   "source": [
    "## autorank lds using all votes"
   ],
   "metadata": {
    "collapsed": false
   }
  },
  {
   "cell_type": "code",
   "execution_count": 16,
   "outputs": [
    {
     "ename": "KeyboardInterrupt",
     "evalue": "",
     "output_type": "error",
     "traceback": [
      "\u001B[0;31m---------------------------------------------------------------------------\u001B[0m",
      "\u001B[0;31mKeyboardInterrupt\u001B[0m                         Traceback (most recent call last)",
      "Cell \u001B[0;32mIn [16], line 1\u001B[0m\n\u001B[0;32m----> 1\u001B[0m result \u001B[38;5;241m=\u001B[39m autorank(lds, alpha\u001B[38;5;241m=\u001B[39m\u001B[38;5;241m0.05\u001B[39m, verbose\u001B[38;5;241m=\u001B[39m\u001B[38;5;28;01mFalse\u001B[39;00m, approach\u001B[38;5;241m=\u001B[39m\u001B[38;5;124m'\u001B[39m\u001B[38;5;124mbayesian\u001B[39m\u001B[38;5;124m'\u001B[39m)\n\u001B[1;32m      2\u001B[0m \u001B[38;5;28mprint\u001B[39m(result)\n",
      "File \u001B[0;32m~/matteo/matteo/unimi/tesi_master/code/my_env/lib/python3.8/site-packages/autorank/autorank.py:271\u001B[0m, in \u001B[0;36mautorank\u001B[0;34m(data, alpha, verbose, order, approach, rope, rope_mode, nsamples, effect_size)\u001B[0m\n\u001B[1;32m    267\u001B[0m     \u001B[38;5;28;01mreturn\u001B[39;00m RankResult(res\u001B[38;5;241m.\u001B[39mrankdf, res\u001B[38;5;241m.\u001B[39mpvalue, res\u001B[38;5;241m.\u001B[39mcd, res\u001B[38;5;241m.\u001B[39momnibus, res\u001B[38;5;241m.\u001B[39mposthoc, all_normal, pvals_shapiro,\n\u001B[1;32m    268\u001B[0m                       var_equal, pval_homogeneity, homogeneity_test, alpha, alpha_normality, \u001B[38;5;28mlen\u001B[39m(data), \u001B[38;5;28;01mNone\u001B[39;00m, \u001B[38;5;28;01mNone\u001B[39;00m,\n\u001B[1;32m    269\u001B[0m                       \u001B[38;5;28;01mNone\u001B[39;00m, \u001B[38;5;28;01mNone\u001B[39;00m, res\u001B[38;5;241m.\u001B[39meffect_size)\n\u001B[1;32m    270\u001B[0m \u001B[38;5;28;01melif\u001B[39;00m approach \u001B[38;5;241m==\u001B[39m \u001B[38;5;124m'\u001B[39m\u001B[38;5;124mbayesian\u001B[39m\u001B[38;5;124m'\u001B[39m:\n\u001B[0;32m--> 271\u001B[0m     res \u001B[38;5;241m=\u001B[39m \u001B[43mrank_bayesian\u001B[49m\u001B[43m(\u001B[49m\u001B[43mdata\u001B[49m\u001B[43m,\u001B[49m\u001B[43m \u001B[49m\u001B[43malpha\u001B[49m\u001B[43m,\u001B[49m\u001B[43m \u001B[49m\u001B[43mverbose\u001B[49m\u001B[43m,\u001B[49m\u001B[43m \u001B[49m\u001B[43mall_normal\u001B[49m\u001B[43m,\u001B[49m\u001B[43m \u001B[49m\u001B[43morder\u001B[49m\u001B[43m,\u001B[49m\u001B[43m \u001B[49m\u001B[43mrope\u001B[49m\u001B[43m,\u001B[49m\u001B[43m \u001B[49m\u001B[43mrope_mode\u001B[49m\u001B[43m,\u001B[49m\u001B[43m \u001B[49m\u001B[43mnsamples\u001B[49m\u001B[43m,\u001B[49m\u001B[43m \u001B[49m\u001B[43meffect_size\u001B[49m\u001B[43m)\u001B[49m\n\u001B[1;32m    272\u001B[0m     \u001B[38;5;66;03m# need to reorder pvals here (see issue #7)\u001B[39;00m\n\u001B[1;32m    273\u001B[0m     pvals_shapiro \u001B[38;5;241m=\u001B[39m [pvals_shapiro[pos] \u001B[38;5;28;01mfor\u001B[39;00m pos \u001B[38;5;129;01min\u001B[39;00m res\u001B[38;5;241m.\u001B[39mreorder_pos]\n",
      "File \u001B[0;32m~/matteo/matteo/unimi/tesi_master/code/my_env/lib/python3.8/site-packages/autorank/_util.py:334\u001B[0m, in \u001B[0;36mrank_bayesian\u001B[0;34m(data, alpha, verbose, all_normal, order, rope, rope_mode, nsamples, effect_size)\u001B[0m\n\u001B[1;32m    332\u001B[0m \u001B[38;5;28;01melse\u001B[39;00m:\n\u001B[1;32m    333\u001B[0m     \u001B[38;5;28;01mraise\u001B[39;00m \u001B[38;5;167;01mValueError\u001B[39;00m(\u001B[38;5;124m\"\u001B[39m\u001B[38;5;124mUnknown rope_mode method, this should not be possible.\u001B[39m\u001B[38;5;124m\"\u001B[39m)\n\u001B[0;32m--> 334\u001B[0m posterior_probabilities \u001B[38;5;241m=\u001B[39m \u001B[43mtwo_on_multiple\u001B[49m\u001B[43m(\u001B[49m\u001B[43mx\u001B[49m\u001B[38;5;241;43m=\u001B[39;49m\u001B[43mreordered_data\u001B[49m\u001B[38;5;241;43m.\u001B[39;49m\u001B[43miloc\u001B[49m\u001B[43m[\u001B[49m\u001B[43m:\u001B[49m\u001B[43m,\u001B[49m\u001B[43m \u001B[49m\u001B[43mi\u001B[49m\u001B[43m]\u001B[49m\u001B[43m,\u001B[49m\u001B[43m \u001B[49m\u001B[43my\u001B[49m\u001B[38;5;241;43m=\u001B[39;49m\u001B[43mreordered_data\u001B[49m\u001B[38;5;241;43m.\u001B[39;49m\u001B[43miloc\u001B[49m\u001B[43m[\u001B[49m\u001B[43m:\u001B[49m\u001B[43m,\u001B[49m\u001B[43m \u001B[49m\u001B[43mj\u001B[49m\u001B[43m]\u001B[49m\u001B[43m,\u001B[49m\n\u001B[1;32m    335\u001B[0m \u001B[43m                                          \u001B[49m\u001B[43mrope\u001B[49m\u001B[38;5;241;43m=\u001B[39;49m\u001B[43mcur_rope\u001B[49m\u001B[43m,\u001B[49m\u001B[43m \u001B[49m\u001B[43mnsamples\u001B[49m\u001B[38;5;241;43m=\u001B[39;49m\u001B[43mnsamples\u001B[49m\u001B[43m)\u001B[49m\n\u001B[1;32m    336\u001B[0m posterior_matrix\u001B[38;5;241m.\u001B[39miloc[i, j] \u001B[38;5;241m=\u001B[39m posterior_probabilities\n\u001B[1;32m    337\u001B[0m decision_matrix\u001B[38;5;241m.\u001B[39miloc[i, j] \u001B[38;5;241m=\u001B[39m _posterior_decision(posterior_probabilities, alpha)\n",
      "File \u001B[0;32m~/matteo/matteo/unimi/tesi_master/code/my_env/lib/python3.8/site-packages/baycomp/multiple.py:487\u001B[0m, in \u001B[0;36mtwo_on_multiple\u001B[0;34m(x, y, rope, runs, names, plot, **kwargs)\u001B[0m\n\u001B[1;32m    485\u001B[0m \u001B[38;5;28;01melse\u001B[39;00m:\n\u001B[1;32m    486\u001B[0m     test \u001B[38;5;241m=\u001B[39m SignedRankTest\n\u001B[0;32m--> 487\u001B[0m \u001B[38;5;28;01mreturn\u001B[39;00m \u001B[43mcall_shortcut\u001B[49m\u001B[43m(\u001B[49m\u001B[43mtest\u001B[49m\u001B[43m,\u001B[49m\u001B[43m \u001B[49m\u001B[43mx\u001B[49m\u001B[43m,\u001B[49m\u001B[43m \u001B[49m\u001B[43my\u001B[49m\u001B[43m,\u001B[49m\u001B[43m \u001B[49m\u001B[43mrope\u001B[49m\u001B[43m,\u001B[49m\u001B[43m \u001B[49m\u001B[43mnames\u001B[49m\u001B[38;5;241;43m=\u001B[39;49m\u001B[43mnames\u001B[49m\u001B[43m,\u001B[49m\u001B[43m \u001B[49m\u001B[43mplot\u001B[49m\u001B[38;5;241;43m=\u001B[39;49m\u001B[43mplot\u001B[49m\u001B[43m,\u001B[49m\u001B[43m \u001B[49m\u001B[38;5;241;43m*\u001B[39;49m\u001B[38;5;241;43m*\u001B[39;49m\u001B[43mkwargs\u001B[49m\u001B[43m)\u001B[49m\n",
      "File \u001B[0;32m~/matteo/matteo/unimi/tesi_master/code/my_env/lib/python3.8/site-packages/baycomp/utils.py:20\u001B[0m, in \u001B[0;36mcall_shortcut\u001B[0;34m(test, x, y, rope, plot, names, *args, **kwargs)\u001B[0m\n\u001B[1;32m     19\u001B[0m \u001B[38;5;28;01mdef\u001B[39;00m \u001B[38;5;21mcall_shortcut\u001B[39m(test, x, y, rope, \u001B[38;5;241m*\u001B[39margs, plot\u001B[38;5;241m=\u001B[39m\u001B[38;5;28;01mFalse\u001B[39;00m, names\u001B[38;5;241m=\u001B[39m\u001B[38;5;28;01mNone\u001B[39;00m, \u001B[38;5;241m*\u001B[39m\u001B[38;5;241m*\u001B[39mkwargs):\n\u001B[0;32m---> 20\u001B[0m     sample \u001B[38;5;241m=\u001B[39m \u001B[43mtest\u001B[49m\u001B[43m(\u001B[49m\u001B[43mx\u001B[49m\u001B[43m,\u001B[49m\u001B[43m \u001B[49m\u001B[43my\u001B[49m\u001B[43m,\u001B[49m\u001B[43m \u001B[49m\u001B[43mrope\u001B[49m\u001B[43m,\u001B[49m\u001B[43m \u001B[49m\u001B[38;5;241;43m*\u001B[39;49m\u001B[43margs\u001B[49m\u001B[43m,\u001B[49m\u001B[43m \u001B[49m\u001B[38;5;241;43m*\u001B[39;49m\u001B[38;5;241;43m*\u001B[39;49m\u001B[43mkwargs\u001B[49m\u001B[43m)\u001B[49m\n\u001B[1;32m     21\u001B[0m     \u001B[38;5;28;01mif\u001B[39;00m plot:\n\u001B[1;32m     22\u001B[0m         \u001B[38;5;28;01mreturn\u001B[39;00m sample\u001B[38;5;241m.\u001B[39mprobs(), sample\u001B[38;5;241m.\u001B[39mplot(names)\n",
      "File \u001B[0;32m~/matteo/matteo/unimi/tesi_master/code/my_env/lib/python3.8/site-packages/baycomp/multiple.py:153\u001B[0m, in \u001B[0;36mTest.__new__\u001B[0;34m(cls, x, y, rope, nsamples, **kwargs)\u001B[0m\n\u001B[1;32m    152\u001B[0m \u001B[38;5;28;01mdef\u001B[39;00m \u001B[38;5;21m__new__\u001B[39m(\u001B[38;5;28mcls\u001B[39m, x, y, rope\u001B[38;5;241m=\u001B[39m\u001B[38;5;241m0\u001B[39m, \u001B[38;5;241m*\u001B[39m, nsamples\u001B[38;5;241m=\u001B[39m\u001B[38;5;241m50000\u001B[39m, \u001B[38;5;241m*\u001B[39m\u001B[38;5;241m*\u001B[39mkwargs):\n\u001B[0;32m--> 153\u001B[0m     \u001B[38;5;28;01mreturn\u001B[39;00m Posterior(\u001B[38;5;28;43mcls\u001B[39;49m\u001B[38;5;241;43m.\u001B[39;49m\u001B[43msample\u001B[49m\u001B[43m(\u001B[49m\u001B[43mx\u001B[49m\u001B[43m,\u001B[49m\u001B[43m \u001B[49m\u001B[43my\u001B[49m\u001B[43m,\u001B[49m\u001B[43m \u001B[49m\u001B[43mrope\u001B[49m\u001B[43m,\u001B[49m\u001B[43m \u001B[49m\u001B[43mnsamples\u001B[49m\u001B[38;5;241;43m=\u001B[39;49m\u001B[43mnsamples\u001B[49m\u001B[43m,\u001B[49m\u001B[43m \u001B[49m\u001B[38;5;241;43m*\u001B[39;49m\u001B[38;5;241;43m*\u001B[39;49m\u001B[43mkwargs\u001B[49m\u001B[43m)\u001B[49m)\n",
      "File \u001B[0;32m~/matteo/matteo/unimi/tesi_master/code/my_env/lib/python3.8/site-packages/baycomp/multiple.py:337\u001B[0m, in \u001B[0;36mSignedRankTest.sample\u001B[0;34m(cls, x, y, rope, prior, nsamples)\u001B[0m\n\u001B[1;32m    334\u001B[0m     \u001B[38;5;28;01mreturn\u001B[39;00m samples\n\u001B[1;32m    336\u001B[0m check_args(x, y, rope, nsamples)\n\u001B[0;32m--> 337\u001B[0m \u001B[38;5;28;01mreturn\u001B[39;00m \u001B[43mwith_rope\u001B[49m\u001B[43m(\u001B[49m\u001B[43m)\u001B[49m \u001B[38;5;28;01mif\u001B[39;00m rope \u001B[38;5;241m>\u001B[39m \u001B[38;5;241m0\u001B[39m \u001B[38;5;28;01melse\u001B[39;00m without_rope()\n",
      "File \u001B[0;32m~/matteo/matteo/unimi/tesi_master/code/my_env/lib/python3.8/site-packages/baycomp/multiple.py:320\u001B[0m, in \u001B[0;36mSignedRankTest.sample.<locals>.with_rope\u001B[0;34m()\u001B[0m\n\u001B[1;32m    318\u001B[0m samples \u001B[38;5;241m=\u001B[39m np\u001B[38;5;241m.\u001B[39mzeros((nsamples, \u001B[38;5;241m3\u001B[39m))\n\u001B[1;32m    319\u001B[0m \u001B[38;5;28;01mfor\u001B[39;00m i, samp_weights \u001B[38;5;129;01min\u001B[39;00m \u001B[38;5;28menumerate\u001B[39m(np\u001B[38;5;241m.\u001B[39mrandom\u001B[38;5;241m.\u001B[39mdirichlet(weights, nsamples)):\n\u001B[0;32m--> 320\u001B[0m     prod_weights \u001B[38;5;241m=\u001B[39m \u001B[43mnp\u001B[49m\u001B[38;5;241;43m.\u001B[39;49m\u001B[43mouter\u001B[49m\u001B[43m(\u001B[49m\u001B[43msamp_weights\u001B[49m\u001B[43m,\u001B[49m\u001B[43m \u001B[49m\u001B[43msamp_weights\u001B[49m\u001B[43m)\u001B[49m\n\u001B[1;32m    321\u001B[0m     samples[i, \u001B[38;5;241m0\u001B[39m] \u001B[38;5;241m=\u001B[39m np\u001B[38;5;241m.\u001B[39msum(prod_weights \u001B[38;5;241m*\u001B[39m below_rope)\n\u001B[1;32m    322\u001B[0m     samples[i, \u001B[38;5;241m2\u001B[39m] \u001B[38;5;241m=\u001B[39m np\u001B[38;5;241m.\u001B[39msum(prod_weights \u001B[38;5;241m*\u001B[39m above_rope)\n",
      "File \u001B[0;32m<__array_function__ internals>:180\u001B[0m, in \u001B[0;36mouter\u001B[0;34m(*args, **kwargs)\u001B[0m\n",
      "File \u001B[0;32m~/matteo/matteo/unimi/tesi_master/code/my_env/lib/python3.8/site-packages/numpy/core/numeric.py:936\u001B[0m, in \u001B[0;36mouter\u001B[0;34m(a, b, out)\u001B[0m\n\u001B[1;32m    934\u001B[0m a \u001B[38;5;241m=\u001B[39m asarray(a)\n\u001B[1;32m    935\u001B[0m b \u001B[38;5;241m=\u001B[39m asarray(b)\n\u001B[0;32m--> 936\u001B[0m \u001B[38;5;28;01mreturn\u001B[39;00m \u001B[43mmultiply\u001B[49m\u001B[43m(\u001B[49m\u001B[43ma\u001B[49m\u001B[38;5;241;43m.\u001B[39;49m\u001B[43mravel\u001B[49m\u001B[43m(\u001B[49m\u001B[43m)\u001B[49m\u001B[43m[\u001B[49m\u001B[43m:\u001B[49m\u001B[43m,\u001B[49m\u001B[43m \u001B[49m\u001B[43mnewaxis\u001B[49m\u001B[43m]\u001B[49m\u001B[43m,\u001B[49m\u001B[43m \u001B[49m\u001B[43mb\u001B[49m\u001B[38;5;241;43m.\u001B[39;49m\u001B[43mravel\u001B[49m\u001B[43m(\u001B[49m\u001B[43m)\u001B[49m\u001B[43m[\u001B[49m\u001B[43mnewaxis\u001B[49m\u001B[43m,\u001B[49m\u001B[43m \u001B[49m\u001B[43m:\u001B[49m\u001B[43m]\u001B[49m\u001B[43m,\u001B[49m\u001B[43m \u001B[49m\u001B[43mout\u001B[49m\u001B[43m)\u001B[49m\n",
      "\u001B[0;31mKeyboardInterrupt\u001B[0m: "
     ]
    }
   ],
   "source": [
    "result = autorank(lds, alpha=0.05, verbose=False, approach='bayesian')\n",
    "print(result)"
   ],
   "metadata": {
    "collapsed": false
   }
  },
  {
   "cell_type": "code",
   "execution_count": null,
   "outputs": [],
   "source": [
    "result = autorank(sias, alpha=0.05, verbose=False, approach='bayesian')\n",
    "print(result)"
   ],
   "metadata": {
    "collapsed": false
   }
  },
  {
   "cell_type": "code",
   "execution_count": 71,
   "outputs": [
    {
     "data": {
      "text/plain": "    subject  sias_score    lds  pearson\n0       1.0        21.0  0.201     0.23\n1       2.0        11.0  0.828     0.75\n2       3.0        30.0  0.504      NaN\n3       4.0        12.0  0.111     0.41\n4       5.0        30.0  0.953     0.71\n5       6.0         8.0  1.312     0.73\n6       7.0        25.0  0.535     0.67\n7       8.0         6.0  0.583      NaN\n8       9.0         NaN    NaN      NaN\n9      10.0        10.0  0.682      NaN\n10     11.0        11.0 -0.323      NaN\n11     12.0        19.0  0.231      NaN\n12     13.0        16.0  0.141     0.39\n13     14.0        19.0  1.002      NaN\n14     15.0        16.0  0.693     0.66\n15     16.0        55.0  0.621     0.36\n16     17.0        16.0 -0.382     0.29\n17     18.0        14.0  1.068      NaN\n18     19.0        12.0  1.466      NaN\n19     20.0         NaN  1.080      NaN\n20     21.0        20.0  0.539     0.42\n21     22.0        18.0  0.987     0.73\n22     23.0        37.0  0.279     0.43\n23     24.0        17.0  1.044      NaN\n24     25.0        19.0  0.590      NaN\n25     26.0         3.0  0.834     0.66\n26     27.0        31.0  1.328     0.96\n27     28.0        19.0  1.295     0.71\n28     29.0         1.0  1.129      NaN\n29     30.0        19.0  1.477      NaN\n30     31.0        16.0  1.469     0.84\n31     32.0        20.0 -0.189     0.17\n32     33.0        22.0  0.969     0.66\n33     41.0        15.0  0.576     0.51\n34     42.0        20.0  0.646      NaN\n35     43.0        25.0  1.043     0.84\n36     44.0        18.0  0.307     0.47\n37     45.0        19.0  1.011     0.83\n38     46.0        31.0  0.006     0.01\n39     47.0        20.0  1.066     0.79\n40     48.0        24.0  0.365     0.53\n41     49.0        26.0  0.749      NaN\n42     50.0        23.0  0.443     0.25\n43     51.0         6.0  0.641     0.70\n44     52.0        21.0  0.497     0.67\n45     53.0        12.0  1.130      NaN\n46     54.0        17.0  1.594     0.91\n47     55.0        31.0  0.813      NaN",
      "text/html": "<div>\n<style scoped>\n    .dataframe tbody tr th:only-of-type {\n        vertical-align: middle;\n    }\n\n    .dataframe tbody tr th {\n        vertical-align: top;\n    }\n\n    .dataframe thead th {\n        text-align: right;\n    }\n</style>\n<table border=\"1\" class=\"dataframe\">\n  <thead>\n    <tr style=\"text-align: right;\">\n      <th></th>\n      <th>subject</th>\n      <th>sias_score</th>\n      <th>lds</th>\n      <th>pearson</th>\n    </tr>\n  </thead>\n  <tbody>\n    <tr>\n      <th>0</th>\n      <td>1.0</td>\n      <td>21.0</td>\n      <td>0.201</td>\n      <td>0.23</td>\n    </tr>\n    <tr>\n      <th>1</th>\n      <td>2.0</td>\n      <td>11.0</td>\n      <td>0.828</td>\n      <td>0.75</td>\n    </tr>\n    <tr>\n      <th>2</th>\n      <td>3.0</td>\n      <td>30.0</td>\n      <td>0.504</td>\n      <td>NaN</td>\n    </tr>\n    <tr>\n      <th>3</th>\n      <td>4.0</td>\n      <td>12.0</td>\n      <td>0.111</td>\n      <td>0.41</td>\n    </tr>\n    <tr>\n      <th>4</th>\n      <td>5.0</td>\n      <td>30.0</td>\n      <td>0.953</td>\n      <td>0.71</td>\n    </tr>\n    <tr>\n      <th>5</th>\n      <td>6.0</td>\n      <td>8.0</td>\n      <td>1.312</td>\n      <td>0.73</td>\n    </tr>\n    <tr>\n      <th>6</th>\n      <td>7.0</td>\n      <td>25.0</td>\n      <td>0.535</td>\n      <td>0.67</td>\n    </tr>\n    <tr>\n      <th>7</th>\n      <td>8.0</td>\n      <td>6.0</td>\n      <td>0.583</td>\n      <td>NaN</td>\n    </tr>\n    <tr>\n      <th>8</th>\n      <td>9.0</td>\n      <td>NaN</td>\n      <td>NaN</td>\n      <td>NaN</td>\n    </tr>\n    <tr>\n      <th>9</th>\n      <td>10.0</td>\n      <td>10.0</td>\n      <td>0.682</td>\n      <td>NaN</td>\n    </tr>\n    <tr>\n      <th>10</th>\n      <td>11.0</td>\n      <td>11.0</td>\n      <td>-0.323</td>\n      <td>NaN</td>\n    </tr>\n    <tr>\n      <th>11</th>\n      <td>12.0</td>\n      <td>19.0</td>\n      <td>0.231</td>\n      <td>NaN</td>\n    </tr>\n    <tr>\n      <th>12</th>\n      <td>13.0</td>\n      <td>16.0</td>\n      <td>0.141</td>\n      <td>0.39</td>\n    </tr>\n    <tr>\n      <th>13</th>\n      <td>14.0</td>\n      <td>19.0</td>\n      <td>1.002</td>\n      <td>NaN</td>\n    </tr>\n    <tr>\n      <th>14</th>\n      <td>15.0</td>\n      <td>16.0</td>\n      <td>0.693</td>\n      <td>0.66</td>\n    </tr>\n    <tr>\n      <th>15</th>\n      <td>16.0</td>\n      <td>55.0</td>\n      <td>0.621</td>\n      <td>0.36</td>\n    </tr>\n    <tr>\n      <th>16</th>\n      <td>17.0</td>\n      <td>16.0</td>\n      <td>-0.382</td>\n      <td>0.29</td>\n    </tr>\n    <tr>\n      <th>17</th>\n      <td>18.0</td>\n      <td>14.0</td>\n      <td>1.068</td>\n      <td>NaN</td>\n    </tr>\n    <tr>\n      <th>18</th>\n      <td>19.0</td>\n      <td>12.0</td>\n      <td>1.466</td>\n      <td>NaN</td>\n    </tr>\n    <tr>\n      <th>19</th>\n      <td>20.0</td>\n      <td>NaN</td>\n      <td>1.080</td>\n      <td>NaN</td>\n    </tr>\n    <tr>\n      <th>20</th>\n      <td>21.0</td>\n      <td>20.0</td>\n      <td>0.539</td>\n      <td>0.42</td>\n    </tr>\n    <tr>\n      <th>21</th>\n      <td>22.0</td>\n      <td>18.0</td>\n      <td>0.987</td>\n      <td>0.73</td>\n    </tr>\n    <tr>\n      <th>22</th>\n      <td>23.0</td>\n      <td>37.0</td>\n      <td>0.279</td>\n      <td>0.43</td>\n    </tr>\n    <tr>\n      <th>23</th>\n      <td>24.0</td>\n      <td>17.0</td>\n      <td>1.044</td>\n      <td>NaN</td>\n    </tr>\n    <tr>\n      <th>24</th>\n      <td>25.0</td>\n      <td>19.0</td>\n      <td>0.590</td>\n      <td>NaN</td>\n    </tr>\n    <tr>\n      <th>25</th>\n      <td>26.0</td>\n      <td>3.0</td>\n      <td>0.834</td>\n      <td>0.66</td>\n    </tr>\n    <tr>\n      <th>26</th>\n      <td>27.0</td>\n      <td>31.0</td>\n      <td>1.328</td>\n      <td>0.96</td>\n    </tr>\n    <tr>\n      <th>27</th>\n      <td>28.0</td>\n      <td>19.0</td>\n      <td>1.295</td>\n      <td>0.71</td>\n    </tr>\n    <tr>\n      <th>28</th>\n      <td>29.0</td>\n      <td>1.0</td>\n      <td>1.129</td>\n      <td>NaN</td>\n    </tr>\n    <tr>\n      <th>29</th>\n      <td>30.0</td>\n      <td>19.0</td>\n      <td>1.477</td>\n      <td>NaN</td>\n    </tr>\n    <tr>\n      <th>30</th>\n      <td>31.0</td>\n      <td>16.0</td>\n      <td>1.469</td>\n      <td>0.84</td>\n    </tr>\n    <tr>\n      <th>31</th>\n      <td>32.0</td>\n      <td>20.0</td>\n      <td>-0.189</td>\n      <td>0.17</td>\n    </tr>\n    <tr>\n      <th>32</th>\n      <td>33.0</td>\n      <td>22.0</td>\n      <td>0.969</td>\n      <td>0.66</td>\n    </tr>\n    <tr>\n      <th>33</th>\n      <td>41.0</td>\n      <td>15.0</td>\n      <td>0.576</td>\n      <td>0.51</td>\n    </tr>\n    <tr>\n      <th>34</th>\n      <td>42.0</td>\n      <td>20.0</td>\n      <td>0.646</td>\n      <td>NaN</td>\n    </tr>\n    <tr>\n      <th>35</th>\n      <td>43.0</td>\n      <td>25.0</td>\n      <td>1.043</td>\n      <td>0.84</td>\n    </tr>\n    <tr>\n      <th>36</th>\n      <td>44.0</td>\n      <td>18.0</td>\n      <td>0.307</td>\n      <td>0.47</td>\n    </tr>\n    <tr>\n      <th>37</th>\n      <td>45.0</td>\n      <td>19.0</td>\n      <td>1.011</td>\n      <td>0.83</td>\n    </tr>\n    <tr>\n      <th>38</th>\n      <td>46.0</td>\n      <td>31.0</td>\n      <td>0.006</td>\n      <td>0.01</td>\n    </tr>\n    <tr>\n      <th>39</th>\n      <td>47.0</td>\n      <td>20.0</td>\n      <td>1.066</td>\n      <td>0.79</td>\n    </tr>\n    <tr>\n      <th>40</th>\n      <td>48.0</td>\n      <td>24.0</td>\n      <td>0.365</td>\n      <td>0.53</td>\n    </tr>\n    <tr>\n      <th>41</th>\n      <td>49.0</td>\n      <td>26.0</td>\n      <td>0.749</td>\n      <td>NaN</td>\n    </tr>\n    <tr>\n      <th>42</th>\n      <td>50.0</td>\n      <td>23.0</td>\n      <td>0.443</td>\n      <td>0.25</td>\n    </tr>\n    <tr>\n      <th>43</th>\n      <td>51.0</td>\n      <td>6.0</td>\n      <td>0.641</td>\n      <td>0.70</td>\n    </tr>\n    <tr>\n      <th>44</th>\n      <td>52.0</td>\n      <td>21.0</td>\n      <td>0.497</td>\n      <td>0.67</td>\n    </tr>\n    <tr>\n      <th>45</th>\n      <td>53.0</td>\n      <td>12.0</td>\n      <td>1.130</td>\n      <td>NaN</td>\n    </tr>\n    <tr>\n      <th>46</th>\n      <td>54.0</td>\n      <td>17.0</td>\n      <td>1.594</td>\n      <td>0.91</td>\n    </tr>\n    <tr>\n      <th>47</th>\n      <td>55.0</td>\n      <td>31.0</td>\n      <td>0.813</td>\n      <td>NaN</td>\n    </tr>\n  </tbody>\n</table>\n</div>"
     },
     "execution_count": 71,
     "metadata": {},
     "output_type": "execute_result"
    }
   ],
   "source": [
    "merged_df = pd.concat([sias_df.set_index('subject'), lds_df.set_index('subject'), df_correlation.set_index('subject')], axis=1)\n",
    "merged_df = merged_df.reset_index()\n",
    "merged_df"
   ],
   "metadata": {
    "collapsed": false
   }
  },
  {
   "cell_type": "code",
   "execution_count": 72,
   "metadata": {},
   "outputs": [
    {
     "name": "stderr",
     "output_type": "stream",
     "text": [
      "/tmp/ipykernel_272953/3410993754.py:2: UserWarning: Boolean Series key will be reindexed to match DataFrame index.\n",
      "  df_corr_notna = df_corr_notna[merged_df['lds'].notna()]\n",
      "/tmp/ipykernel_272953/3410993754.py:3: UserWarning: Boolean Series key will be reindexed to match DataFrame index.\n",
      "  df_corr_notna = df_corr_notna[merged_df['sias_score'].notna()]\n"
     ]
    },
    {
     "data": {
      "text/plain": "    subject  sias_score    lds  pearson\n0       1.0        21.0  0.201     0.23\n1       2.0        11.0  0.828     0.75\n3       4.0        12.0  0.111     0.41\n4       5.0        30.0  0.953     0.71\n5       6.0         8.0  1.312     0.73\n6       7.0        25.0  0.535     0.67\n12     13.0        16.0  0.141     0.39\n14     15.0        16.0  0.693     0.66\n15     16.0        55.0  0.621     0.36\n16     17.0        16.0 -0.382     0.29\n20     21.0        20.0  0.539     0.42\n21     22.0        18.0  0.987     0.73\n22     23.0        37.0  0.279     0.43\n25     26.0         3.0  0.834     0.66\n26     27.0        31.0  1.328     0.96\n27     28.0        19.0  1.295     0.71\n30     31.0        16.0  1.469     0.84\n31     32.0        20.0 -0.189     0.17\n32     33.0        22.0  0.969     0.66\n33     41.0        15.0  0.576     0.51\n35     43.0        25.0  1.043     0.84\n36     44.0        18.0  0.307     0.47\n37     45.0        19.0  1.011     0.83\n38     46.0        31.0  0.006     0.01\n39     47.0        20.0  1.066     0.79\n40     48.0        24.0  0.365     0.53\n42     50.0        23.0  0.443     0.25\n43     51.0         6.0  0.641     0.70\n44     52.0        21.0  0.497     0.67\n46     54.0        17.0  1.594     0.91",
      "text/html": "<div>\n<style scoped>\n    .dataframe tbody tr th:only-of-type {\n        vertical-align: middle;\n    }\n\n    .dataframe tbody tr th {\n        vertical-align: top;\n    }\n\n    .dataframe thead th {\n        text-align: right;\n    }\n</style>\n<table border=\"1\" class=\"dataframe\">\n  <thead>\n    <tr style=\"text-align: right;\">\n      <th></th>\n      <th>subject</th>\n      <th>sias_score</th>\n      <th>lds</th>\n      <th>pearson</th>\n    </tr>\n  </thead>\n  <tbody>\n    <tr>\n      <th>0</th>\n      <td>1.0</td>\n      <td>21.0</td>\n      <td>0.201</td>\n      <td>0.23</td>\n    </tr>\n    <tr>\n      <th>1</th>\n      <td>2.0</td>\n      <td>11.0</td>\n      <td>0.828</td>\n      <td>0.75</td>\n    </tr>\n    <tr>\n      <th>3</th>\n      <td>4.0</td>\n      <td>12.0</td>\n      <td>0.111</td>\n      <td>0.41</td>\n    </tr>\n    <tr>\n      <th>4</th>\n      <td>5.0</td>\n      <td>30.0</td>\n      <td>0.953</td>\n      <td>0.71</td>\n    </tr>\n    <tr>\n      <th>5</th>\n      <td>6.0</td>\n      <td>8.0</td>\n      <td>1.312</td>\n      <td>0.73</td>\n    </tr>\n    <tr>\n      <th>6</th>\n      <td>7.0</td>\n      <td>25.0</td>\n      <td>0.535</td>\n      <td>0.67</td>\n    </tr>\n    <tr>\n      <th>12</th>\n      <td>13.0</td>\n      <td>16.0</td>\n      <td>0.141</td>\n      <td>0.39</td>\n    </tr>\n    <tr>\n      <th>14</th>\n      <td>15.0</td>\n      <td>16.0</td>\n      <td>0.693</td>\n      <td>0.66</td>\n    </tr>\n    <tr>\n      <th>15</th>\n      <td>16.0</td>\n      <td>55.0</td>\n      <td>0.621</td>\n      <td>0.36</td>\n    </tr>\n    <tr>\n      <th>16</th>\n      <td>17.0</td>\n      <td>16.0</td>\n      <td>-0.382</td>\n      <td>0.29</td>\n    </tr>\n    <tr>\n      <th>20</th>\n      <td>21.0</td>\n      <td>20.0</td>\n      <td>0.539</td>\n      <td>0.42</td>\n    </tr>\n    <tr>\n      <th>21</th>\n      <td>22.0</td>\n      <td>18.0</td>\n      <td>0.987</td>\n      <td>0.73</td>\n    </tr>\n    <tr>\n      <th>22</th>\n      <td>23.0</td>\n      <td>37.0</td>\n      <td>0.279</td>\n      <td>0.43</td>\n    </tr>\n    <tr>\n      <th>25</th>\n      <td>26.0</td>\n      <td>3.0</td>\n      <td>0.834</td>\n      <td>0.66</td>\n    </tr>\n    <tr>\n      <th>26</th>\n      <td>27.0</td>\n      <td>31.0</td>\n      <td>1.328</td>\n      <td>0.96</td>\n    </tr>\n    <tr>\n      <th>27</th>\n      <td>28.0</td>\n      <td>19.0</td>\n      <td>1.295</td>\n      <td>0.71</td>\n    </tr>\n    <tr>\n      <th>30</th>\n      <td>31.0</td>\n      <td>16.0</td>\n      <td>1.469</td>\n      <td>0.84</td>\n    </tr>\n    <tr>\n      <th>31</th>\n      <td>32.0</td>\n      <td>20.0</td>\n      <td>-0.189</td>\n      <td>0.17</td>\n    </tr>\n    <tr>\n      <th>32</th>\n      <td>33.0</td>\n      <td>22.0</td>\n      <td>0.969</td>\n      <td>0.66</td>\n    </tr>\n    <tr>\n      <th>33</th>\n      <td>41.0</td>\n      <td>15.0</td>\n      <td>0.576</td>\n      <td>0.51</td>\n    </tr>\n    <tr>\n      <th>35</th>\n      <td>43.0</td>\n      <td>25.0</td>\n      <td>1.043</td>\n      <td>0.84</td>\n    </tr>\n    <tr>\n      <th>36</th>\n      <td>44.0</td>\n      <td>18.0</td>\n      <td>0.307</td>\n      <td>0.47</td>\n    </tr>\n    <tr>\n      <th>37</th>\n      <td>45.0</td>\n      <td>19.0</td>\n      <td>1.011</td>\n      <td>0.83</td>\n    </tr>\n    <tr>\n      <th>38</th>\n      <td>46.0</td>\n      <td>31.0</td>\n      <td>0.006</td>\n      <td>0.01</td>\n    </tr>\n    <tr>\n      <th>39</th>\n      <td>47.0</td>\n      <td>20.0</td>\n      <td>1.066</td>\n      <td>0.79</td>\n    </tr>\n    <tr>\n      <th>40</th>\n      <td>48.0</td>\n      <td>24.0</td>\n      <td>0.365</td>\n      <td>0.53</td>\n    </tr>\n    <tr>\n      <th>42</th>\n      <td>50.0</td>\n      <td>23.0</td>\n      <td>0.443</td>\n      <td>0.25</td>\n    </tr>\n    <tr>\n      <th>43</th>\n      <td>51.0</td>\n      <td>6.0</td>\n      <td>0.641</td>\n      <td>0.70</td>\n    </tr>\n    <tr>\n      <th>44</th>\n      <td>52.0</td>\n      <td>21.0</td>\n      <td>0.497</td>\n      <td>0.67</td>\n    </tr>\n    <tr>\n      <th>46</th>\n      <td>54.0</td>\n      <td>17.0</td>\n      <td>1.594</td>\n      <td>0.91</td>\n    </tr>\n  </tbody>\n</table>\n</div>"
     },
     "execution_count": 72,
     "metadata": {},
     "output_type": "execute_result"
    }
   ],
   "source": [
    "df_corr_notna = merged_df[merged_df['pearson'].notna()]\n",
    "df_corr_notna = df_corr_notna[merged_df['lds'].notna()]\n",
    "df_corr_notna = df_corr_notna[merged_df['sias_score'].notna()]\n",
    "df_corr_notna"
   ]
  },
  {
   "cell_type": "code",
   "execution_count": 73,
   "outputs": [
    {
     "data": {
      "text/plain": "    subject  sias_score    lds  pearson\n0       1.0        21.0  0.201     0.23\n1       2.0        11.0  0.828     0.75\n3       4.0        12.0  0.111     0.41\n4       5.0        30.0  0.953     0.71\n5       6.0         8.0  1.312     0.73\n6       7.0        25.0  0.535     0.67\n12     13.0        16.0  0.141     0.39\n14     15.0        16.0  0.693     0.66\n15     16.0        55.0  0.621     0.36\n16     17.0        16.0 -0.382     0.29\n20     21.0        20.0  0.539     0.42\n21     22.0        18.0  0.987     0.73\n22     23.0        37.0  0.279     0.43\n25     26.0         3.0  0.834     0.66\n26     27.0        31.0  1.328     0.96\n27     28.0        19.0  1.295     0.71\n30     31.0        16.0  1.469     0.84\n31     32.0        20.0 -0.189     0.17\n32     33.0        22.0  0.969     0.66\n33     41.0        15.0  0.576     0.51\n35     43.0        25.0  1.043     0.84\n36     44.0        18.0  0.307     0.47\n37     45.0        19.0  1.011     0.83\n38     46.0        31.0  0.006     0.01\n39     47.0        20.0  1.066     0.79\n40     48.0        24.0  0.365     0.53\n42     50.0        23.0  0.443     0.25\n43     51.0         6.0  0.641     0.70\n44     52.0        21.0  0.497     0.67\n46     54.0        17.0  1.594     0.91",
      "text/html": "<div>\n<style scoped>\n    .dataframe tbody tr th:only-of-type {\n        vertical-align: middle;\n    }\n\n    .dataframe tbody tr th {\n        vertical-align: top;\n    }\n\n    .dataframe thead th {\n        text-align: right;\n    }\n</style>\n<table border=\"1\" class=\"dataframe\">\n  <thead>\n    <tr style=\"text-align: right;\">\n      <th></th>\n      <th>subject</th>\n      <th>sias_score</th>\n      <th>lds</th>\n      <th>pearson</th>\n    </tr>\n  </thead>\n  <tbody>\n    <tr>\n      <th>0</th>\n      <td>1.0</td>\n      <td>21.0</td>\n      <td>0.201</td>\n      <td>0.23</td>\n    </tr>\n    <tr>\n      <th>1</th>\n      <td>2.0</td>\n      <td>11.0</td>\n      <td>0.828</td>\n      <td>0.75</td>\n    </tr>\n    <tr>\n      <th>3</th>\n      <td>4.0</td>\n      <td>12.0</td>\n      <td>0.111</td>\n      <td>0.41</td>\n    </tr>\n    <tr>\n      <th>4</th>\n      <td>5.0</td>\n      <td>30.0</td>\n      <td>0.953</td>\n      <td>0.71</td>\n    </tr>\n    <tr>\n      <th>5</th>\n      <td>6.0</td>\n      <td>8.0</td>\n      <td>1.312</td>\n      <td>0.73</td>\n    </tr>\n    <tr>\n      <th>6</th>\n      <td>7.0</td>\n      <td>25.0</td>\n      <td>0.535</td>\n      <td>0.67</td>\n    </tr>\n    <tr>\n      <th>12</th>\n      <td>13.0</td>\n      <td>16.0</td>\n      <td>0.141</td>\n      <td>0.39</td>\n    </tr>\n    <tr>\n      <th>14</th>\n      <td>15.0</td>\n      <td>16.0</td>\n      <td>0.693</td>\n      <td>0.66</td>\n    </tr>\n    <tr>\n      <th>15</th>\n      <td>16.0</td>\n      <td>55.0</td>\n      <td>0.621</td>\n      <td>0.36</td>\n    </tr>\n    <tr>\n      <th>16</th>\n      <td>17.0</td>\n      <td>16.0</td>\n      <td>-0.382</td>\n      <td>0.29</td>\n    </tr>\n    <tr>\n      <th>20</th>\n      <td>21.0</td>\n      <td>20.0</td>\n      <td>0.539</td>\n      <td>0.42</td>\n    </tr>\n    <tr>\n      <th>21</th>\n      <td>22.0</td>\n      <td>18.0</td>\n      <td>0.987</td>\n      <td>0.73</td>\n    </tr>\n    <tr>\n      <th>22</th>\n      <td>23.0</td>\n      <td>37.0</td>\n      <td>0.279</td>\n      <td>0.43</td>\n    </tr>\n    <tr>\n      <th>25</th>\n      <td>26.0</td>\n      <td>3.0</td>\n      <td>0.834</td>\n      <td>0.66</td>\n    </tr>\n    <tr>\n      <th>26</th>\n      <td>27.0</td>\n      <td>31.0</td>\n      <td>1.328</td>\n      <td>0.96</td>\n    </tr>\n    <tr>\n      <th>27</th>\n      <td>28.0</td>\n      <td>19.0</td>\n      <td>1.295</td>\n      <td>0.71</td>\n    </tr>\n    <tr>\n      <th>30</th>\n      <td>31.0</td>\n      <td>16.0</td>\n      <td>1.469</td>\n      <td>0.84</td>\n    </tr>\n    <tr>\n      <th>31</th>\n      <td>32.0</td>\n      <td>20.0</td>\n      <td>-0.189</td>\n      <td>0.17</td>\n    </tr>\n    <tr>\n      <th>32</th>\n      <td>33.0</td>\n      <td>22.0</td>\n      <td>0.969</td>\n      <td>0.66</td>\n    </tr>\n    <tr>\n      <th>33</th>\n      <td>41.0</td>\n      <td>15.0</td>\n      <td>0.576</td>\n      <td>0.51</td>\n    </tr>\n    <tr>\n      <th>35</th>\n      <td>43.0</td>\n      <td>25.0</td>\n      <td>1.043</td>\n      <td>0.84</td>\n    </tr>\n    <tr>\n      <th>36</th>\n      <td>44.0</td>\n      <td>18.0</td>\n      <td>0.307</td>\n      <td>0.47</td>\n    </tr>\n    <tr>\n      <th>37</th>\n      <td>45.0</td>\n      <td>19.0</td>\n      <td>1.011</td>\n      <td>0.83</td>\n    </tr>\n    <tr>\n      <th>38</th>\n      <td>46.0</td>\n      <td>31.0</td>\n      <td>0.006</td>\n      <td>0.01</td>\n    </tr>\n    <tr>\n      <th>39</th>\n      <td>47.0</td>\n      <td>20.0</td>\n      <td>1.066</td>\n      <td>0.79</td>\n    </tr>\n    <tr>\n      <th>40</th>\n      <td>48.0</td>\n      <td>24.0</td>\n      <td>0.365</td>\n      <td>0.53</td>\n    </tr>\n    <tr>\n      <th>42</th>\n      <td>50.0</td>\n      <td>23.0</td>\n      <td>0.443</td>\n      <td>0.25</td>\n    </tr>\n    <tr>\n      <th>43</th>\n      <td>51.0</td>\n      <td>6.0</td>\n      <td>0.641</td>\n      <td>0.70</td>\n    </tr>\n    <tr>\n      <th>44</th>\n      <td>52.0</td>\n      <td>21.0</td>\n      <td>0.497</td>\n      <td>0.67</td>\n    </tr>\n    <tr>\n      <th>46</th>\n      <td>54.0</td>\n      <td>17.0</td>\n      <td>1.594</td>\n      <td>0.91</td>\n    </tr>\n  </tbody>\n</table>\n</div>"
     },
     "execution_count": 73,
     "metadata": {},
     "output_type": "execute_result"
    }
   ],
   "source": [
    "df_plot = df_corr_notna.copy(deep=True)\n",
    "df_plot"
   ],
   "metadata": {
    "collapsed": false
   }
  },
  {
   "cell_type": "code",
   "execution_count": 75,
   "outputs": [
    {
     "data": {
      "text/plain": "<matplotlib.collections.PathCollection at 0x7fd85adeb0a0>"
     },
     "execution_count": 75,
     "metadata": {},
     "output_type": "execute_result"
    },
    {
     "data": {
      "text/plain": "<Figure size 640x480 with 1 Axes>",
      "image/png": "[encoded data removed]"
     },
     "metadata": {},
     "output_type": "display_data"
    }
   ],
   "source": [
    "\n",
    "plt.scatter(df_plot['lds'],df_plot['pearson'])"
   ],
   "metadata": {
    "collapsed": false
   }
  },
  {
   "cell_type": "code",
   "execution_count": 77,
   "outputs": [
    {
     "data": {
      "text/plain": "<matplotlib.collections.PathCollection at 0x7fd8591a7c40>"
     },
     "execution_count": 77,
     "metadata": {},
     "output_type": "execute_result"
    },
    {
     "data": {
      "text/plain": "<Figure size 640x480 with 1 Axes>",
      "image/png": "[encoded data removed]"
     },
     "metadata": {},
     "output_type": "display_data"
    }
   ],
   "source": [
    "plt.scatter(df_plot['sias_score'],df_plot['pearson'])"
   ],
   "metadata": {
    "collapsed": false
   }
  },
  {
   "cell_type": "code",
   "execution_count": 19,
   "outputs": [],
   "source": [
    "#extract subject with high value lds and lower lds\n",
    "lds_ = df_corr_notna.sort_values('lds').reset_index(drop=True)\n",
    "lower_lds = lds_[:5]\n",
    "higher_lds = lds_[-5:]"
   ],
   "metadata": {
    "collapsed": false
   }
  },
  {
   "cell_type": "markdown",
   "source": [
    "# Analysis"
   ],
   "metadata": {
    "collapsed": false
   }
  },
  {
   "cell_type": "code",
   "execution_count": 60,
   "outputs": [],
   "source": [
    "sias_ = df_corr_notna.sort_values('sias_score',ascending=True).reset_index().drop(columns='index')\n",
    "lower_sias = sias_[:2]\n",
    "sias_ = df_corr_notna.sort_values('sias_score',ascending=False).reset_index().drop(columns='index')\n",
    "higher_sias= sias_[:2]"
   ],
   "metadata": {
    "collapsed": false
   }
  },
  {
   "cell_type": "markdown",
   "source": [
    "## Analysis subject more fear gen vs less fear gen"
   ],
   "metadata": {
    "collapsed": false
   }
  },
  {
   "cell_type": "code",
   "execution_count": 27,
   "outputs": [
    {
     "name": "stdout",
     "output_type": "stream",
     "text": [
      "Correlation between 5 more/less fear gen subjects with the rational agent\n",
      "\n",
      "Pearson\n",
      "High fear gen:  0.25  Low fear gen: 0.8\n",
      "\n",
      "R2score\n",
      "High fear gen:  -2.57  Low fear gen: 0.18\n",
      "\n",
      "Pearson discrete\n",
      "High fear gen:  0.77  Low fear gen: 0.26\n",
      "\n",
      "Cohen\n",
      "High fear gen:  0.29  Low fear gen: 0.04\n"
     ]
    }
   ],
   "source": [
    "l_low_p = lower_lds['pearson'].median()\n",
    "l_hig_p = higher_lds['pearson'].median()\n",
    "l_low_r = lower_lds['r2score'].median()\n",
    "l_hig_r = higher_lds['r2score'].median()\n",
    "\n",
    "s_low_p_d = lower_lds['person_disc'].median()\n",
    "s_hig_p_d = higher_lds['person_disc'].median()\n",
    "\n",
    "cohen_low = lower_lds['cohen_disc'].median()\n",
    "cohen_high = higher_lds['cohen_disc'].median()\n",
    "\n",
    "print('Correlation between 5 more/less fear gen subjects with the rational agent\\n')\n",
    "print('Pearson\\nHigh fear gen: ',l_low_p, ' Low fear gen:',l_hig_p)\n",
    "print('\\nR2score\\nHigh fear gen: ',l_low_r, ' Low fear gen:',l_hig_r)\n",
    "print('\\nPearson discrete\\nHigh fear gen: ',s_hig_p_d, ' Low fear gen:',s_low_p_d)\n",
    "print('\\nCohen\\nHigh fear gen: ',cohen_high, ' Low fear gen:',cohen_low)"
   ],
   "metadata": {
    "collapsed": false
   }
  },
  {
   "cell_type": "markdown",
   "source": [
    "## Analysis subject more anxiety vs less anxiety"
   ],
   "metadata": {
    "collapsed": false
   }
  },
  {
   "cell_type": "code",
   "execution_count": 62,
   "outputs": [
    {
     "data": {
      "text/plain": "   subject  pearson   lds  sias_score\n0       52     0.20  0.31        0.01\n1       48     0.16  0.28        0.03",
      "text/html": "<div>\n<style scoped>\n    .dataframe tbody tr th:only-of-type {\n        vertical-align: middle;\n    }\n\n    .dataframe tbody tr th {\n        vertical-align: top;\n    }\n\n    .dataframe thead th {\n        text-align: right;\n    }\n</style>\n<table border=\"1\" class=\"dataframe\">\n  <thead>\n    <tr style=\"text-align: right;\">\n      <th></th>\n      <th>subject</th>\n      <th>pearson</th>\n      <th>lds</th>\n      <th>sias_score</th>\n    </tr>\n  </thead>\n  <tbody>\n    <tr>\n      <th>0</th>\n      <td>52</td>\n      <td>0.20</td>\n      <td>0.31</td>\n      <td>0.01</td>\n    </tr>\n    <tr>\n      <th>1</th>\n      <td>48</td>\n      <td>0.16</td>\n      <td>0.28</td>\n      <td>0.03</td>\n    </tr>\n  </tbody>\n</table>\n</div>"
     },
     "execution_count": 62,
     "metadata": {},
     "output_type": "execute_result"
    }
   ],
   "source": [
    "lower_sias"
   ],
   "metadata": {
    "collapsed": false
   }
  },
  {
   "cell_type": "code",
   "execution_count": 63,
   "outputs": [
    {
     "data": {
      "text/plain": "   subject  pearson   lds  sias_score\n0       28     0.21 -0.08        0.49\n1       45     0.25  0.22        0.33",
      "text/html": "<div>\n<style scoped>\n    .dataframe tbody tr th:only-of-type {\n        vertical-align: middle;\n    }\n\n    .dataframe tbody tr th {\n        vertical-align: top;\n    }\n\n    .dataframe thead th {\n        text-align: right;\n    }\n</style>\n<table border=\"1\" class=\"dataframe\">\n  <thead>\n    <tr style=\"text-align: right;\">\n      <th></th>\n      <th>subject</th>\n      <th>pearson</th>\n      <th>lds</th>\n      <th>sias_score</th>\n    </tr>\n  </thead>\n  <tbody>\n    <tr>\n      <th>0</th>\n      <td>28</td>\n      <td>0.21</td>\n      <td>-0.08</td>\n      <td>0.49</td>\n    </tr>\n    <tr>\n      <th>1</th>\n      <td>45</td>\n      <td>0.25</td>\n      <td>0.22</td>\n      <td>0.33</td>\n    </tr>\n  </tbody>\n</table>\n</div>"
     },
     "execution_count": 63,
     "metadata": {},
     "output_type": "execute_result"
    }
   ],
   "source": [
    "higher_sias"
   ],
   "metadata": {
    "collapsed": false
   }
  },
  {
   "cell_type": "code",
   "execution_count": 61,
   "outputs": [
    {
     "ename": "KeyError",
     "evalue": "'r2score'",
     "output_type": "error",
     "traceback": [
      "\u001B[0;31m---------------------------------------------------------------------------\u001B[0m",
      "\u001B[0;31mKeyError\u001B[0m                                  Traceback (most recent call last)",
      "File \u001B[0;32m~/matteo/matteo/unimi/tesi_master/code/my_env/lib/python3.8/site-packages/pandas/core/indexes/base.py:3803\u001B[0m, in \u001B[0;36mIndex.get_loc\u001B[0;34m(self, key, method, tolerance)\u001B[0m\n\u001B[1;32m   3802\u001B[0m \u001B[38;5;28;01mtry\u001B[39;00m:\n\u001B[0;32m-> 3803\u001B[0m     \u001B[38;5;28;01mreturn\u001B[39;00m \u001B[38;5;28;43mself\u001B[39;49m\u001B[38;5;241;43m.\u001B[39;49m\u001B[43m_engine\u001B[49m\u001B[38;5;241;43m.\u001B[39;49m\u001B[43mget_loc\u001B[49m\u001B[43m(\u001B[49m\u001B[43mcasted_key\u001B[49m\u001B[43m)\u001B[49m\n\u001B[1;32m   3804\u001B[0m \u001B[38;5;28;01mexcept\u001B[39;00m \u001B[38;5;167;01mKeyError\u001B[39;00m \u001B[38;5;28;01mas\u001B[39;00m err:\n",
      "File \u001B[0;32m~/matteo/matteo/unimi/tesi_master/code/my_env/lib/python3.8/site-packages/pandas/_libs/index.pyx:138\u001B[0m, in \u001B[0;36mpandas._libs.index.IndexEngine.get_loc\u001B[0;34m()\u001B[0m\n",
      "File \u001B[0;32m~/matteo/matteo/unimi/tesi_master/code/my_env/lib/python3.8/site-packages/pandas/_libs/index.pyx:165\u001B[0m, in \u001B[0;36mpandas._libs.index.IndexEngine.get_loc\u001B[0;34m()\u001B[0m\n",
      "File \u001B[0;32mpandas/_libs/hashtable_class_helper.pxi:5745\u001B[0m, in \u001B[0;36mpandas._libs.hashtable.PyObjectHashTable.get_item\u001B[0;34m()\u001B[0m\n",
      "File \u001B[0;32mpandas/_libs/hashtable_class_helper.pxi:5753\u001B[0m, in \u001B[0;36mpandas._libs.hashtable.PyObjectHashTable.get_item\u001B[0;34m()\u001B[0m\n",
      "\u001B[0;31mKeyError\u001B[0m: 'r2score'",
      "\nThe above exception was the direct cause of the following exception:\n",
      "\u001B[0;31mKeyError\u001B[0m                                  Traceback (most recent call last)",
      "Cell \u001B[0;32mIn [61], line 4\u001B[0m\n\u001B[1;32m      1\u001B[0m s_low_p \u001B[38;5;241m=\u001B[39m lower_sias[\u001B[38;5;124m'\u001B[39m\u001B[38;5;124mpearson\u001B[39m\u001B[38;5;124m'\u001B[39m]\u001B[38;5;241m.\u001B[39mmedian()\n\u001B[1;32m      2\u001B[0m s_hig_p \u001B[38;5;241m=\u001B[39m higher_sias[\u001B[38;5;124m'\u001B[39m\u001B[38;5;124mpearson\u001B[39m\u001B[38;5;124m'\u001B[39m]\u001B[38;5;241m.\u001B[39mmedian()\n\u001B[0;32m----> 4\u001B[0m s_low_r \u001B[38;5;241m=\u001B[39m lower_sias[\u001B[38;5;124m'\u001B[39m\u001B[38;5;124mr2score\u001B[39m\u001B[38;5;124m'\u001B[39m]\u001B[38;5;241m.\u001B[39mmedian()\n\u001B[1;32m      5\u001B[0m s_hig_r \u001B[38;5;241m=\u001B[39m higher_sias[\u001B[38;5;124m'\u001B[39m\u001B[38;5;124mr2score\u001B[39m\u001B[38;5;124m'\u001B[39m]\u001B[38;5;241m.\u001B[39mmedian()\n\u001B[1;32m      7\u001B[0m s_low_p_d \u001B[38;5;241m=\u001B[39m lower_sias[\u001B[38;5;124m'\u001B[39m\u001B[38;5;124mperson_disc\u001B[39m\u001B[38;5;124m'\u001B[39m]\u001B[38;5;241m.\u001B[39mmedian()\n",
      "File \u001B[0;32m~/matteo/matteo/unimi/tesi_master/code/my_env/lib/python3.8/site-packages/pandas/core/frame.py:3805\u001B[0m, in \u001B[0;36mDataFrame.__getitem__\u001B[0;34m(self, key)\u001B[0m\n\u001B[1;32m   3803\u001B[0m \u001B[38;5;28;01mif\u001B[39;00m \u001B[38;5;28mself\u001B[39m\u001B[38;5;241m.\u001B[39mcolumns\u001B[38;5;241m.\u001B[39mnlevels \u001B[38;5;241m>\u001B[39m \u001B[38;5;241m1\u001B[39m:\n\u001B[1;32m   3804\u001B[0m     \u001B[38;5;28;01mreturn\u001B[39;00m \u001B[38;5;28mself\u001B[39m\u001B[38;5;241m.\u001B[39m_getitem_multilevel(key)\n\u001B[0;32m-> 3805\u001B[0m indexer \u001B[38;5;241m=\u001B[39m \u001B[38;5;28;43mself\u001B[39;49m\u001B[38;5;241;43m.\u001B[39;49m\u001B[43mcolumns\u001B[49m\u001B[38;5;241;43m.\u001B[39;49m\u001B[43mget_loc\u001B[49m\u001B[43m(\u001B[49m\u001B[43mkey\u001B[49m\u001B[43m)\u001B[49m\n\u001B[1;32m   3806\u001B[0m \u001B[38;5;28;01mif\u001B[39;00m is_integer(indexer):\n\u001B[1;32m   3807\u001B[0m     indexer \u001B[38;5;241m=\u001B[39m [indexer]\n",
      "File \u001B[0;32m~/matteo/matteo/unimi/tesi_master/code/my_env/lib/python3.8/site-packages/pandas/core/indexes/base.py:3805\u001B[0m, in \u001B[0;36mIndex.get_loc\u001B[0;34m(self, key, method, tolerance)\u001B[0m\n\u001B[1;32m   3803\u001B[0m     \u001B[38;5;28;01mreturn\u001B[39;00m \u001B[38;5;28mself\u001B[39m\u001B[38;5;241m.\u001B[39m_engine\u001B[38;5;241m.\u001B[39mget_loc(casted_key)\n\u001B[1;32m   3804\u001B[0m \u001B[38;5;28;01mexcept\u001B[39;00m \u001B[38;5;167;01mKeyError\u001B[39;00m \u001B[38;5;28;01mas\u001B[39;00m err:\n\u001B[0;32m-> 3805\u001B[0m     \u001B[38;5;28;01mraise\u001B[39;00m \u001B[38;5;167;01mKeyError\u001B[39;00m(key) \u001B[38;5;28;01mfrom\u001B[39;00m \u001B[38;5;21;01merr\u001B[39;00m\n\u001B[1;32m   3806\u001B[0m \u001B[38;5;28;01mexcept\u001B[39;00m \u001B[38;5;167;01mTypeError\u001B[39;00m:\n\u001B[1;32m   3807\u001B[0m     \u001B[38;5;66;03m# If we have a listlike key, _check_indexing_error will raise\u001B[39;00m\n\u001B[1;32m   3808\u001B[0m     \u001B[38;5;66;03m#  InvalidIndexError. Otherwise we fall through and re-raise\u001B[39;00m\n\u001B[1;32m   3809\u001B[0m     \u001B[38;5;66;03m#  the TypeError.\u001B[39;00m\n\u001B[1;32m   3810\u001B[0m     \u001B[38;5;28mself\u001B[39m\u001B[38;5;241m.\u001B[39m_check_indexing_error(key)\n",
      "\u001B[0;31mKeyError\u001B[0m: 'r2score'"
     ]
    }
   ],
   "source": [
    "s_low_p = lower_sias['pearson'].median()\n",
    "s_hig_p = higher_sias['pearson'].median()\n",
    "\n",
    "s_low_r = lower_sias['r2score'].median()\n",
    "s_hig_r = higher_sias['r2score'].median()\n",
    "\n",
    "s_low_p_d = lower_sias['person_disc'].median()\n",
    "s_hig_p_d = higher_sias['person_disc'].median()\n",
    "\n",
    "cohen_low = lower_sias['cohen_disc'].median()\n",
    "cohen_high = higher_sias['cohen_disc'].median()\n",
    "\n",
    "print('Correlation between 5 more/less anxiety subjects with the rational agent\\n')\n",
    "print('Pearson\\nHigh anxiety: ',s_hig_p, ' Low anxiety:',s_low_p)\n",
    "print('\\nR2score\\nHigh anxiety: ',s_hig_r, ' Low anxiety:',s_low_r)\n",
    "print('\\nPearson discrete\\nHigh anxiety: ',s_hig_p_d, ' Low anxiety:',s_low_p_d)\n",
    "print('\\nCohen\\nHigh anxiety: ',cohen_high, ' Low anxiety:',cohen_low)"
   ],
   "metadata": {
    "collapsed": false
   }
  },
  {
   "cell_type": "code",
   "execution_count": 31,
   "outputs": [
    {
     "data": {
      "text/plain": "    subject  sias_score    lds  pearson  r2score  person_disc  cohen_disc\n0      16.0        55.0  0.621     0.36    -1.30         0.34        0.07\n1      23.0        37.0  0.279     0.40    -1.56         0.40        0.17\n2      46.0        31.0  0.006     0.02    -2.83         0.01        0.01\n3      27.0        31.0  1.328     0.91     0.50         0.88        0.45\n4       5.0        30.0  0.953     0.70    -0.26         0.68        0.25\n5       7.0        25.0  0.535     0.69    -0.73         0.70        0.22\n6      43.0        25.0  1.043     0.79    -0.03         0.78        0.25\n7      48.0        24.0  0.365     0.53    -0.98         0.53        0.13\n8      50.0        23.0  0.443     0.21    -2.47         0.19        0.09\n9      33.0        22.0  0.969     0.68    -0.13         0.68        0.30\n10      1.0        21.0  0.201     0.31    -4.44         0.31        0.04\n11     52.0        21.0  0.497     0.60    -0.54         0.58        0.23\n12     32.0        20.0 -0.189     0.16    -1.68         0.18        0.01\n13     47.0        20.0  1.066     0.78    -0.42         0.75        0.23\n14     21.0        20.0  0.539     0.41    -2.61         0.38        0.06\n15     45.0        19.0  1.011     0.80     0.17         0.79        0.51\n16     28.0        19.0  1.295     0.71     0.04         0.71        0.29\n17     44.0        18.0  0.307     0.46    -2.13         0.46        0.11\n18     22.0        18.0  0.987     0.70    -0.33         0.69        0.24\n19     54.0        17.0  1.594     0.88     0.10         0.85        0.18\n20     31.0        16.0  1.469     0.80     0.33         0.77        0.35\n21     17.0        16.0 -0.382     0.25    -2.57         0.26        0.09\n22     15.0        16.0  0.693     0.63    -0.12         0.64        0.29\n23     13.0        16.0  0.141     0.39    -3.38         0.38        0.04\n24     41.0        15.0  0.576     0.52    -0.32         0.53        0.22\n25      4.0        12.0  0.111     0.41    -1.49         0.40        0.05\n26      2.0        11.0  0.828     0.71    -0.39         0.70        0.25\n27      6.0         8.0  1.312     0.72     0.18         0.72        0.28\n28     51.0         6.0  0.641     0.68    -0.22         0.67        0.35\n29     26.0         3.0  0.834     0.66    -0.07         0.66        0.23",
      "text/html": "<div>\n<style scoped>\n    .dataframe tbody tr th:only-of-type {\n        vertical-align: middle;\n    }\n\n    .dataframe tbody tr th {\n        vertical-align: top;\n    }\n\n    .dataframe thead th {\n        text-align: right;\n    }\n</style>\n<table border=\"1\" class=\"dataframe\">\n  <thead>\n    <tr style=\"text-align: right;\">\n      <th></th>\n      <th>subject</th>\n      <th>sias_score</th>\n      <th>lds</th>\n      <th>pearson</th>\n      <th>r2score</th>\n      <th>person_disc</th>\n      <th>cohen_disc</th>\n    </tr>\n  </thead>\n  <tbody>\n    <tr>\n      <th>0</th>\n      <td>16.0</td>\n      <td>55.0</td>\n      <td>0.621</td>\n      <td>0.36</td>\n      <td>-1.30</td>\n      <td>0.34</td>\n      <td>0.07</td>\n    </tr>\n    <tr>\n      <th>1</th>\n      <td>23.0</td>\n      <td>37.0</td>\n      <td>0.279</td>\n      <td>0.40</td>\n      <td>-1.56</td>\n      <td>0.40</td>\n      <td>0.17</td>\n    </tr>\n    <tr>\n      <th>2</th>\n      <td>46.0</td>\n      <td>31.0</td>\n      <td>0.006</td>\n      <td>0.02</td>\n      <td>-2.83</td>\n      <td>0.01</td>\n      <td>0.01</td>\n    </tr>\n    <tr>\n      <th>3</th>\n      <td>27.0</td>\n      <td>31.0</td>\n      <td>1.328</td>\n      <td>0.91</td>\n      <td>0.50</td>\n      <td>0.88</td>\n      <td>0.45</td>\n    </tr>\n    <tr>\n      <th>4</th>\n      <td>5.0</td>\n      <td>30.0</td>\n      <td>0.953</td>\n      <td>0.70</td>\n      <td>-0.26</td>\n      <td>0.68</td>\n      <td>0.25</td>\n    </tr>\n    <tr>\n      <th>5</th>\n      <td>7.0</td>\n      <td>25.0</td>\n      <td>0.535</td>\n      <td>0.69</td>\n      <td>-0.73</td>\n      <td>0.70</td>\n      <td>0.22</td>\n    </tr>\n    <tr>\n      <th>6</th>\n      <td>43.0</td>\n      <td>25.0</td>\n      <td>1.043</td>\n      <td>0.79</td>\n      <td>-0.03</td>\n      <td>0.78</td>\n      <td>0.25</td>\n    </tr>\n    <tr>\n      <th>7</th>\n      <td>48.0</td>\n      <td>24.0</td>\n      <td>0.365</td>\n      <td>0.53</td>\n      <td>-0.98</td>\n      <td>0.53</td>\n      <td>0.13</td>\n    </tr>\n    <tr>\n      <th>8</th>\n      <td>50.0</td>\n      <td>23.0</td>\n      <td>0.443</td>\n      <td>0.21</td>\n      <td>-2.47</td>\n      <td>0.19</td>\n      <td>0.09</td>\n    </tr>\n    <tr>\n      <th>9</th>\n      <td>33.0</td>\n      <td>22.0</td>\n      <td>0.969</td>\n      <td>0.68</td>\n      <td>-0.13</td>\n      <td>0.68</td>\n      <td>0.30</td>\n    </tr>\n    <tr>\n      <th>10</th>\n      <td>1.0</td>\n      <td>21.0</td>\n      <td>0.201</td>\n      <td>0.31</td>\n      <td>-4.44</td>\n      <td>0.31</td>\n      <td>0.04</td>\n    </tr>\n    <tr>\n      <th>11</th>\n      <td>52.0</td>\n      <td>21.0</td>\n      <td>0.497</td>\n      <td>0.60</td>\n      <td>-0.54</td>\n      <td>0.58</td>\n      <td>0.23</td>\n    </tr>\n    <tr>\n      <th>12</th>\n      <td>32.0</td>\n      <td>20.0</td>\n      <td>-0.189</td>\n      <td>0.16</td>\n      <td>-1.68</td>\n      <td>0.18</td>\n      <td>0.01</td>\n    </tr>\n    <tr>\n      <th>13</th>\n      <td>47.0</td>\n      <td>20.0</td>\n      <td>1.066</td>\n      <td>0.78</td>\n      <td>-0.42</td>\n      <td>0.75</td>\n      <td>0.23</td>\n    </tr>\n    <tr>\n      <th>14</th>\n      <td>21.0</td>\n      <td>20.0</td>\n      <td>0.539</td>\n      <td>0.41</td>\n      <td>-2.61</td>\n      <td>0.38</td>\n      <td>0.06</td>\n    </tr>\n    <tr>\n      <th>15</th>\n      <td>45.0</td>\n      <td>19.0</td>\n      <td>1.011</td>\n      <td>0.80</td>\n      <td>0.17</td>\n      <td>0.79</td>\n      <td>0.51</td>\n    </tr>\n    <tr>\n      <th>16</th>\n      <td>28.0</td>\n      <td>19.0</td>\n      <td>1.295</td>\n      <td>0.71</td>\n      <td>0.04</td>\n      <td>0.71</td>\n      <td>0.29</td>\n    </tr>\n    <tr>\n      <th>17</th>\n      <td>44.0</td>\n      <td>18.0</td>\n      <td>0.307</td>\n      <td>0.46</td>\n      <td>-2.13</td>\n      <td>0.46</td>\n      <td>0.11</td>\n    </tr>\n    <tr>\n      <th>18</th>\n      <td>22.0</td>\n      <td>18.0</td>\n      <td>0.987</td>\n      <td>0.70</td>\n      <td>-0.33</td>\n      <td>0.69</td>\n      <td>0.24</td>\n    </tr>\n    <tr>\n      <th>19</th>\n      <td>54.0</td>\n      <td>17.0</td>\n      <td>1.594</td>\n      <td>0.88</td>\n      <td>0.10</td>\n      <td>0.85</td>\n      <td>0.18</td>\n    </tr>\n    <tr>\n      <th>20</th>\n      <td>31.0</td>\n      <td>16.0</td>\n      <td>1.469</td>\n      <td>0.80</td>\n      <td>0.33</td>\n      <td>0.77</td>\n      <td>0.35</td>\n    </tr>\n    <tr>\n      <th>21</th>\n      <td>17.0</td>\n      <td>16.0</td>\n      <td>-0.382</td>\n      <td>0.25</td>\n      <td>-2.57</td>\n      <td>0.26</td>\n      <td>0.09</td>\n    </tr>\n    <tr>\n      <th>22</th>\n      <td>15.0</td>\n      <td>16.0</td>\n      <td>0.693</td>\n      <td>0.63</td>\n      <td>-0.12</td>\n      <td>0.64</td>\n      <td>0.29</td>\n    </tr>\n    <tr>\n      <th>23</th>\n      <td>13.0</td>\n      <td>16.0</td>\n      <td>0.141</td>\n      <td>0.39</td>\n      <td>-3.38</td>\n      <td>0.38</td>\n      <td>0.04</td>\n    </tr>\n    <tr>\n      <th>24</th>\n      <td>41.0</td>\n      <td>15.0</td>\n      <td>0.576</td>\n      <td>0.52</td>\n      <td>-0.32</td>\n      <td>0.53</td>\n      <td>0.22</td>\n    </tr>\n    <tr>\n      <th>25</th>\n      <td>4.0</td>\n      <td>12.0</td>\n      <td>0.111</td>\n      <td>0.41</td>\n      <td>-1.49</td>\n      <td>0.40</td>\n      <td>0.05</td>\n    </tr>\n    <tr>\n      <th>26</th>\n      <td>2.0</td>\n      <td>11.0</td>\n      <td>0.828</td>\n      <td>0.71</td>\n      <td>-0.39</td>\n      <td>0.70</td>\n      <td>0.25</td>\n    </tr>\n    <tr>\n      <th>27</th>\n      <td>6.0</td>\n      <td>8.0</td>\n      <td>1.312</td>\n      <td>0.72</td>\n      <td>0.18</td>\n      <td>0.72</td>\n      <td>0.28</td>\n    </tr>\n    <tr>\n      <th>28</th>\n      <td>51.0</td>\n      <td>6.0</td>\n      <td>0.641</td>\n      <td>0.68</td>\n      <td>-0.22</td>\n      <td>0.67</td>\n      <td>0.35</td>\n    </tr>\n    <tr>\n      <th>29</th>\n      <td>26.0</td>\n      <td>3.0</td>\n      <td>0.834</td>\n      <td>0.66</td>\n      <td>-0.07</td>\n      <td>0.66</td>\n      <td>0.23</td>\n    </tr>\n  </tbody>\n</table>\n</div>"
     },
     "execution_count": 31,
     "metadata": {},
     "output_type": "execute_result"
    }
   ],
   "source": [
    "sias_"
   ],
   "metadata": {
    "collapsed": false
   }
  },
  {
   "cell_type": "code",
   "execution_count": 78,
   "outputs": [
    {
     "data": {
      "text/plain": "    subject  pearson   lds  sias_score\n0        28     0.21 -0.08        0.49\n1        45     0.25  0.22        0.33\n2         4     0.12  0.10        0.27\n3        50     0.07  0.27        0.27\n4         6     0.22  0.20        0.27\n5        13     0.12  0.11        0.22\n6         1     0.07  0.04        0.19\n7        43     0.25  0.21        0.18\n8        54     0.27  0.31        0.17\n9        51     0.21  0.23        0.17\n10       22     0.22  0.03        0.17\n11       26     0.20  0.14        0.17\n12       47     0.24  0.17        0.17\n13       44     0.14  0.06        0.16\n14       46     0.00  0.12        0.15\n15       23     0.13  0.21        0.14\n16       27     0.29  0.13        0.14\n17       31     0.25  0.22        0.14\n18       32     0.05  0.30        0.12\n19        5     0.21  0.02        0.11\n20       33     0.20  0.22        0.11\n21        2     0.22  0.17        0.10\n22       21     0.13  0.05        0.10\n23       17     0.09 -0.07        0.09\n24        7     0.20  0.27        0.07\n25       15     0.20  0.12        0.05\n26       48     0.16  0.28        0.03\n27       52     0.20  0.31        0.01",
      "text/html": "<div>\n<style scoped>\n    .dataframe tbody tr th:only-of-type {\n        vertical-align: middle;\n    }\n\n    .dataframe tbody tr th {\n        vertical-align: top;\n    }\n\n    .dataframe thead th {\n        text-align: right;\n    }\n</style>\n<table border=\"1\" class=\"dataframe\">\n  <thead>\n    <tr style=\"text-align: right;\">\n      <th></th>\n      <th>subject</th>\n      <th>pearson</th>\n      <th>lds</th>\n      <th>sias_score</th>\n    </tr>\n  </thead>\n  <tbody>\n    <tr>\n      <th>0</th>\n      <td>28</td>\n      <td>0.21</td>\n      <td>-0.08</td>\n      <td>0.49</td>\n    </tr>\n    <tr>\n      <th>1</th>\n      <td>45</td>\n      <td>0.25</td>\n      <td>0.22</td>\n      <td>0.33</td>\n    </tr>\n    <tr>\n      <th>2</th>\n      <td>4</td>\n      <td>0.12</td>\n      <td>0.10</td>\n      <td>0.27</td>\n    </tr>\n    <tr>\n      <th>3</th>\n      <td>50</td>\n      <td>0.07</td>\n      <td>0.27</td>\n      <td>0.27</td>\n    </tr>\n    <tr>\n      <th>4</th>\n      <td>6</td>\n      <td>0.22</td>\n      <td>0.20</td>\n      <td>0.27</td>\n    </tr>\n    <tr>\n      <th>5</th>\n      <td>13</td>\n      <td>0.12</td>\n      <td>0.11</td>\n      <td>0.22</td>\n    </tr>\n    <tr>\n      <th>6</th>\n      <td>1</td>\n      <td>0.07</td>\n      <td>0.04</td>\n      <td>0.19</td>\n    </tr>\n    <tr>\n      <th>7</th>\n      <td>43</td>\n      <td>0.25</td>\n      <td>0.21</td>\n      <td>0.18</td>\n    </tr>\n    <tr>\n      <th>8</th>\n      <td>54</td>\n      <td>0.27</td>\n      <td>0.31</td>\n      <td>0.17</td>\n    </tr>\n    <tr>\n      <th>9</th>\n      <td>51</td>\n      <td>0.21</td>\n      <td>0.23</td>\n      <td>0.17</td>\n    </tr>\n    <tr>\n      <th>10</th>\n      <td>22</td>\n      <td>0.22</td>\n      <td>0.03</td>\n      <td>0.17</td>\n    </tr>\n    <tr>\n      <th>11</th>\n      <td>26</td>\n      <td>0.20</td>\n      <td>0.14</td>\n      <td>0.17</td>\n    </tr>\n    <tr>\n      <th>12</th>\n      <td>47</td>\n      <td>0.24</td>\n      <td>0.17</td>\n      <td>0.17</td>\n    </tr>\n    <tr>\n      <th>13</th>\n      <td>44</td>\n      <td>0.14</td>\n      <td>0.06</td>\n      <td>0.16</td>\n    </tr>\n    <tr>\n      <th>14</th>\n      <td>46</td>\n      <td>0.00</td>\n      <td>0.12</td>\n      <td>0.15</td>\n    </tr>\n    <tr>\n      <th>15</th>\n      <td>23</td>\n      <td>0.13</td>\n      <td>0.21</td>\n      <td>0.14</td>\n    </tr>\n    <tr>\n      <th>16</th>\n      <td>27</td>\n      <td>0.29</td>\n      <td>0.13</td>\n      <td>0.14</td>\n    </tr>\n    <tr>\n      <th>17</th>\n      <td>31</td>\n      <td>0.25</td>\n      <td>0.22</td>\n      <td>0.14</td>\n    </tr>\n    <tr>\n      <th>18</th>\n      <td>32</td>\n      <td>0.05</td>\n      <td>0.30</td>\n      <td>0.12</td>\n    </tr>\n    <tr>\n      <th>19</th>\n      <td>5</td>\n      <td>0.21</td>\n      <td>0.02</td>\n      <td>0.11</td>\n    </tr>\n    <tr>\n      <th>20</th>\n      <td>33</td>\n      <td>0.20</td>\n      <td>0.22</td>\n      <td>0.11</td>\n    </tr>\n    <tr>\n      <th>21</th>\n      <td>2</td>\n      <td>0.22</td>\n      <td>0.17</td>\n      <td>0.10</td>\n    </tr>\n    <tr>\n      <th>22</th>\n      <td>21</td>\n      <td>0.13</td>\n      <td>0.05</td>\n      <td>0.10</td>\n    </tr>\n    <tr>\n      <th>23</th>\n      <td>17</td>\n      <td>0.09</td>\n      <td>-0.07</td>\n      <td>0.09</td>\n    </tr>\n    <tr>\n      <th>24</th>\n      <td>7</td>\n      <td>0.20</td>\n      <td>0.27</td>\n      <td>0.07</td>\n    </tr>\n    <tr>\n      <th>25</th>\n      <td>15</td>\n      <td>0.20</td>\n      <td>0.12</td>\n      <td>0.05</td>\n    </tr>\n    <tr>\n      <th>26</th>\n      <td>48</td>\n      <td>0.16</td>\n      <td>0.28</td>\n      <td>0.03</td>\n    </tr>\n    <tr>\n      <th>27</th>\n      <td>52</td>\n      <td>0.20</td>\n      <td>0.31</td>\n      <td>0.01</td>\n    </tr>\n  </tbody>\n</table>\n</div>"
     },
     "execution_count": 78,
     "metadata": {},
     "output_type": "execute_result"
    }
   ],
   "source": [
    "sias_"
   ],
   "metadata": {
    "collapsed": false
   }
  },
  {
   "cell_type": "code",
   "execution_count": 32,
   "outputs": [
    {
     "data": {
      "text/plain": "0.68"
     },
     "execution_count": 32,
     "metadata": {},
     "output_type": "execute_result"
    }
   ],
   "source": [
    "lower_sias['pearson'].median()"
   ],
   "metadata": {
    "collapsed": false
   }
  },
  {
   "cell_type": "code",
   "execution_count": 33,
   "outputs": [
    {
     "data": {
      "text/plain": "0.4"
     },
     "execution_count": 33,
     "metadata": {},
     "output_type": "execute_result"
    }
   ],
   "source": [
    "higher_sias['pearson'].median()"
   ],
   "metadata": {
    "collapsed": false
   }
  },
  {
   "cell_type": "markdown",
   "source": [
    "# autorank"
   ],
   "metadata": {
    "collapsed": false
   }
  },
  {
   "cell_type": "markdown",
   "source": [
    "## SIAS: low vs high. pearson corr coeff"
   ],
   "metadata": {
    "collapsed": false
   }
  },
  {
   "cell_type": "code",
   "execution_count": 34,
   "outputs": [],
   "source": [
    "total_array_simulated = np.load('output/pyro/complete_rational/total.npy', allow_pickle=True)\n",
    "values = np.array([0, 0.2, 0.4, 0.6, 0.8, 1])\n",
    "discretized_data = np.digitize(total_array_simulated, values)"
   ],
   "metadata": {
    "collapsed": false
   }
  },
  {
   "cell_type": "code",
   "execution_count": 34,
   "outputs": [],
   "source": [],
   "metadata": {
    "collapsed": false
   }
  },
  {
   "cell_type": "code",
   "execution_count": 35,
   "outputs": [
    {
     "name": "stdout",
     "output_type": "stream",
     "text": [
      "RankResult(rankdf=\n",
      "              median   mad ci_lower ci_upper effect_size   magnitude  p_equal  \\\n",
      "pearson low     0.68  0.03     0.41     0.72         0.0  negligible      NaN   \n",
      "pearson high    0.40   0.3     0.02     0.91    0.885864       large   0.0127   \n",
      "\n",
      "              p_smaller      decision  \n",
      "pearson low         NaN            NA  \n",
      "pearson high    0.83954  inconclusive  \n",
      "pvalue=None\n",
      "cd=None\n",
      "omnibus=bayes\n",
      "posthoc=bayes\n",
      "all_normal=False\n",
      "pvals_shapiro=[0.015134504064917564, 0.9022369384765625]\n",
      "homoscedastic=None\n",
      "pval_homogeneity=None\n",
      "homogeneity_test=None\n",
      "alpha=0.05\n",
      "alpha_normality=0.025\n",
      "num_samples=5\n",
      "posterior_matrix=\n",
      "             pearson low                pearson high\n",
      "pearson low          NaN  (0.83954, 0.0127, 0.14776)\n",
      "pearson high         NaN                         NaN\n",
      "decision_matrix=\n",
      "               pearson low  pearson high\n",
      "pearson low            NaN  inconclusive\n",
      "pearson high  inconclusive           NaN\n",
      "rope=0.1\n",
      "rope_mode=effsize\n",
      "effect_size=akinshin_gamma)\n"
     ]
    }
   ],
   "source": [
    "sias_autorank = pd.DataFrame(columns=('pearson low','pearson high'))\n",
    "sias_autorank['pearson low'] = lower_sias['pearson']\n",
    "sias_autorank['pearson high'] = higher_sias['pearson']\n",
    "\n",
    "result = autorank(sias_autorank, alpha=0.05, verbose=False, approach='bayesian')\n",
    "print(result)"
   ],
   "metadata": {
    "collapsed": false
   }
  },
  {
   "cell_type": "code",
   "execution_count": 36,
   "outputs": [
    {
     "data": {
      "text/plain": "              median   mad ci_lower ci_upper effect_size   magnitude  p_equal  \\\npearson low     0.68  0.03     0.41     0.72         0.0  negligible      NaN   \npearson high    0.40   0.3     0.02     0.91    0.885864       large   0.0127   \n\n              p_smaller      decision  \npearson low         NaN            NA  \npearson high    0.83954  inconclusive  ",
      "text/html": "<div>\n<style scoped>\n    .dataframe tbody tr th:only-of-type {\n        vertical-align: middle;\n    }\n\n    .dataframe tbody tr th {\n        vertical-align: top;\n    }\n\n    .dataframe thead th {\n        text-align: right;\n    }\n</style>\n<table border=\"1\" class=\"dataframe\">\n  <thead>\n    <tr style=\"text-align: right;\">\n      <th></th>\n      <th>median</th>\n      <th>mad</th>\n      <th>ci_lower</th>\n      <th>ci_upper</th>\n      <th>effect_size</th>\n      <th>magnitude</th>\n      <th>p_equal</th>\n      <th>p_smaller</th>\n      <th>decision</th>\n    </tr>\n  </thead>\n  <tbody>\n    <tr>\n      <th>pearson low</th>\n      <td>0.68</td>\n      <td>0.03</td>\n      <td>0.41</td>\n      <td>0.72</td>\n      <td>0.0</td>\n      <td>negligible</td>\n      <td>NaN</td>\n      <td>NaN</td>\n      <td>NA</td>\n    </tr>\n    <tr>\n      <th>pearson high</th>\n      <td>0.40</td>\n      <td>0.3</td>\n      <td>0.02</td>\n      <td>0.91</td>\n      <td>0.885864</td>\n      <td>large</td>\n      <td>0.0127</td>\n      <td>0.83954</td>\n      <td>inconclusive</td>\n    </tr>\n  </tbody>\n</table>\n</div>"
     },
     "execution_count": 36,
     "metadata": {},
     "output_type": "execute_result"
    }
   ],
   "source": [
    "result[0]"
   ],
   "metadata": {
    "collapsed": false
   }
  },
  {
   "cell_type": "markdown",
   "source": [
    "## SIAS: low vs high. r2 score"
   ],
   "metadata": {
    "collapsed": false
   }
  },
  {
   "cell_type": "code",
   "execution_count": 37,
   "outputs": [
    {
     "name": "stdout",
     "output_type": "stream",
     "text": [
      "RankResult(rankdf=\n",
      "          mean       std  ci_lower  ci_upper effect_size   magnitude  p_equal  \\\n",
      "r2 low  -0.398  0.645345  -1.64324   0.84724         0.0  negligible      NaN   \n",
      "r2 high -1.090  1.275696 -3.551548  1.371548    0.684533      medium  0.01274   \n",
      "\n",
      "         p_smaller      decision  \n",
      "r2 low         NaN            NA  \n",
      "r2 high    0.83628  inconclusive  \n",
      "pvalue=None\n",
      "cd=None\n",
      "omnibus=bayes\n",
      "posthoc=bayes\n",
      "all_normal=True\n",
      "pvals_shapiro=[0.18232591450214386, 0.9398150444030762]\n",
      "homoscedastic=None\n",
      "pval_homogeneity=None\n",
      "homogeneity_test=None\n",
      "alpha=0.05\n",
      "alpha_normality=0.025\n",
      "num_samples=5\n",
      "posterior_matrix=\n",
      "        r2 low                      r2 high\n",
      "r2 low     NaN  (0.83628, 0.01274, 0.15098)\n",
      "r2 high    NaN                          NaN\n",
      "decision_matrix=\n",
      "               r2 low       r2 high\n",
      "r2 low            NaN  inconclusive\n",
      "r2 high  inconclusive           NaN\n",
      "rope=0.1\n",
      "rope_mode=effsize\n",
      "effect_size=cohen_d)\n"
     ]
    }
   ],
   "source": [
    "sias_autorank = pd.DataFrame(columns=('r2 low','r2 high'))\n",
    "sias_autorank['r2 low'] = lower_sias['r2score']\n",
    "sias_autorank['r2 high'] = higher_sias['r2score']\n",
    "\n",
    "result = autorank(sias_autorank, alpha=0.05, verbose=False, approach='bayesian')\n",
    "print(result)"
   ],
   "metadata": {
    "collapsed": false
   }
  },
  {
   "cell_type": "code",
   "execution_count": 38,
   "outputs": [
    {
     "data": {
      "text/plain": "          mean       std  ci_lower  ci_upper effect_size   magnitude  p_equal  \\\nr2 low  -0.398  0.645345  -1.64324   0.84724         0.0  negligible      NaN   \nr2 high -1.090  1.275696 -3.551548  1.371548    0.684533      medium  0.01274   \n\n         p_smaller      decision  \nr2 low         NaN            NA  \nr2 high    0.83628  inconclusive  ",
      "text/html": "<div>\n<style scoped>\n    .dataframe tbody tr th:only-of-type {\n        vertical-align: middle;\n    }\n\n    .dataframe tbody tr th {\n        vertical-align: top;\n    }\n\n    .dataframe thead th {\n        text-align: right;\n    }\n</style>\n<table border=\"1\" class=\"dataframe\">\n  <thead>\n    <tr style=\"text-align: right;\">\n      <th></th>\n      <th>mean</th>\n      <th>std</th>\n      <th>ci_lower</th>\n      <th>ci_upper</th>\n      <th>effect_size</th>\n      <th>magnitude</th>\n      <th>p_equal</th>\n      <th>p_smaller</th>\n      <th>decision</th>\n    </tr>\n  </thead>\n  <tbody>\n    <tr>\n      <th>r2 low</th>\n      <td>-0.398</td>\n      <td>0.645345</td>\n      <td>-1.64324</td>\n      <td>0.84724</td>\n      <td>0.0</td>\n      <td>negligible</td>\n      <td>NaN</td>\n      <td>NaN</td>\n      <td>NA</td>\n    </tr>\n    <tr>\n      <th>r2 high</th>\n      <td>-1.090</td>\n      <td>1.275696</td>\n      <td>-3.551548</td>\n      <td>1.371548</td>\n      <td>0.684533</td>\n      <td>medium</td>\n      <td>0.01274</td>\n      <td>0.83628</td>\n      <td>inconclusive</td>\n    </tr>\n  </tbody>\n</table>\n</div>"
     },
     "execution_count": 38,
     "metadata": {},
     "output_type": "execute_result"
    }
   ],
   "source": [
    "result[0]"
   ],
   "metadata": {
    "collapsed": false
   }
  },
  {
   "cell_type": "markdown",
   "source": [
    "## LDS: low vs high. pearson corr coef"
   ],
   "metadata": {
    "collapsed": false
   }
  },
  {
   "cell_type": "code",
   "execution_count": 39,
   "outputs": [
    {
     "name": "stdout",
     "output_type": "stream",
     "text": [
      "RankResult(rankdf=\n",
      "               mean      std  ci_lower  ci_upper effect_size   magnitude  \\\n",
      "pearson low   0.246  0.16288 -0.068289  0.560289         0.0  negligible   \n",
      "pearson high    NaN      NaN       NaN       NaN         NaN       large   \n",
      "\n",
      "              p_equal  p_smaller decision  \n",
      "pearson low       NaN        NaN       NA  \n",
      "pearson high      0.0        1.0  smaller  \n",
      "pvalue=None\n",
      "cd=None\n",
      "omnibus=bayes\n",
      "posthoc=bayes\n",
      "all_normal=True\n",
      "pvals_shapiro=[0.6195752620697021, 1.0]\n",
      "homoscedastic=None\n",
      "pval_homogeneity=None\n",
      "homogeneity_test=None\n",
      "alpha=0.05\n",
      "alpha_normality=0.025\n",
      "num_samples=5\n",
      "posterior_matrix=\n",
      "             pearson low     pearson high\n",
      "pearson low          NaN  (1.0, 0.0, 0.0)\n",
      "pearson high         NaN              NaN\n",
      "decision_matrix=\n",
      "             pearson low pearson high\n",
      "pearson low          NaN      smaller\n",
      "pearson high      larger          NaN\n",
      "rope=0.1\n",
      "rope_mode=effsize\n",
      "effect_size=cohen_d)\n"
     ]
    }
   ],
   "source": [
    "lds_autorank = pd.DataFrame(columns=('pearson low','pearson high'))\n",
    "lds_autorank['pearson low'] = lower_lds['pearson']\n",
    "lds_autorank['pearson high'] = higher_lds['pearson']\n",
    "\n",
    "result = autorank(lds_autorank, alpha=0.05, verbose=False, approach='bayesian')\n",
    "print(result)"
   ],
   "metadata": {
    "collapsed": false
   }
  },
  {
   "cell_type": "code",
   "execution_count": 40,
   "outputs": [
    {
     "data": {
      "text/plain": "               mean      std  ci_lower  ci_upper effect_size   magnitude  \\\npearson low   0.246  0.16288 -0.068289  0.560289         0.0  negligible   \npearson high    NaN      NaN       NaN       NaN         NaN       large   \n\n              p_equal  p_smaller decision  \npearson low       NaN        NaN       NA  \npearson high      0.0        1.0  smaller  ",
      "text/html": "<div>\n<style scoped>\n    .dataframe tbody tr th:only-of-type {\n        vertical-align: middle;\n    }\n\n    .dataframe tbody tr th {\n        vertical-align: top;\n    }\n\n    .dataframe thead th {\n        text-align: right;\n    }\n</style>\n<table border=\"1\" class=\"dataframe\">\n  <thead>\n    <tr style=\"text-align: right;\">\n      <th></th>\n      <th>mean</th>\n      <th>std</th>\n      <th>ci_lower</th>\n      <th>ci_upper</th>\n      <th>effect_size</th>\n      <th>magnitude</th>\n      <th>p_equal</th>\n      <th>p_smaller</th>\n      <th>decision</th>\n    </tr>\n  </thead>\n  <tbody>\n    <tr>\n      <th>pearson low</th>\n      <td>0.246</td>\n      <td>0.16288</td>\n      <td>-0.068289</td>\n      <td>0.560289</td>\n      <td>0.0</td>\n      <td>negligible</td>\n      <td>NaN</td>\n      <td>NaN</td>\n      <td>NA</td>\n    </tr>\n    <tr>\n      <th>pearson high</th>\n      <td>NaN</td>\n      <td>NaN</td>\n      <td>NaN</td>\n      <td>NaN</td>\n      <td>NaN</td>\n      <td>large</td>\n      <td>0.0</td>\n      <td>1.0</td>\n      <td>smaller</td>\n    </tr>\n  </tbody>\n</table>\n</div>"
     },
     "execution_count": 40,
     "metadata": {},
     "output_type": "execute_result"
    }
   ],
   "source": [
    "result[0]"
   ],
   "metadata": {
    "collapsed": false
   }
  },
  {
   "cell_type": "markdown",
   "source": [
    "## LDS: low vs high. r2 corr coef"
   ],
   "metadata": {
    "collapsed": false
   }
  },
  {
   "cell_type": "code",
   "execution_count": 41,
   "outputs": [
    {
     "name": "stdout",
     "output_type": "stream",
     "text": [
      "RankResult(rankdf=\n",
      "              mean       std  ci_lower  ci_upper effect_size   magnitude  \\\n",
      "r2score low  -2.39  0.793757 -3.921612 -0.858388         0.0  negligible   \n",
      "r2score high   NaN       NaN       NaN       NaN         NaN       large   \n",
      "\n",
      "              p_equal  p_smaller decision  \n",
      "r2score low       NaN        NaN       NA  \n",
      "r2score high      0.0        1.0  smaller  \n",
      "pvalue=None\n",
      "cd=None\n",
      "omnibus=bayes\n",
      "posthoc=bayes\n",
      "all_normal=True\n",
      "pvals_shapiro=[0.6196770071983337, 1.0]\n",
      "homoscedastic=None\n",
      "pval_homogeneity=None\n",
      "homogeneity_test=None\n",
      "alpha=0.05\n",
      "alpha_normality=0.025\n",
      "num_samples=5\n",
      "posterior_matrix=\n",
      "             r2score low     r2score high\n",
      "r2score low          NaN  (1.0, 0.0, 0.0)\n",
      "r2score high         NaN              NaN\n",
      "decision_matrix=\n",
      "             r2score low r2score high\n",
      "r2score low          NaN      smaller\n",
      "r2score high      larger          NaN\n",
      "rope=0.1\n",
      "rope_mode=effsize\n",
      "effect_size=cohen_d)\n"
     ]
    }
   ],
   "source": [
    "lds_autorank = pd.DataFrame(columns=('r2score low','r2score high'))\n",
    "lds_autorank['r2score low'] = lower_lds['r2score']\n",
    "lds_autorank['r2score high'] = higher_lds['r2score']\n",
    "\n",
    "result = autorank(lds_autorank, alpha=0.05, verbose=False, approach='bayesian')\n",
    "print(result)"
   ],
   "metadata": {
    "collapsed": false
   }
  },
  {
   "cell_type": "code",
   "execution_count": 42,
   "outputs": [
    {
     "data": {
      "text/plain": "              mean       std  ci_lower  ci_upper effect_size   magnitude  \\\nr2score low  -2.39  0.793757 -3.921612 -0.858388         0.0  negligible   \nr2score high   NaN       NaN       NaN       NaN         NaN       large   \n\n              p_equal  p_smaller decision  \nr2score low       NaN        NaN       NA  \nr2score high      0.0        1.0  smaller  ",
      "text/html": "<div>\n<style scoped>\n    .dataframe tbody tr th:only-of-type {\n        vertical-align: middle;\n    }\n\n    .dataframe tbody tr th {\n        vertical-align: top;\n    }\n\n    .dataframe thead th {\n        text-align: right;\n    }\n</style>\n<table border=\"1\" class=\"dataframe\">\n  <thead>\n    <tr style=\"text-align: right;\">\n      <th></th>\n      <th>mean</th>\n      <th>std</th>\n      <th>ci_lower</th>\n      <th>ci_upper</th>\n      <th>effect_size</th>\n      <th>magnitude</th>\n      <th>p_equal</th>\n      <th>p_smaller</th>\n      <th>decision</th>\n    </tr>\n  </thead>\n  <tbody>\n    <tr>\n      <th>r2score low</th>\n      <td>-2.39</td>\n      <td>0.793757</td>\n      <td>-3.921612</td>\n      <td>-0.858388</td>\n      <td>0.0</td>\n      <td>negligible</td>\n      <td>NaN</td>\n      <td>NaN</td>\n      <td>NA</td>\n    </tr>\n    <tr>\n      <th>r2score high</th>\n      <td>NaN</td>\n      <td>NaN</td>\n      <td>NaN</td>\n      <td>NaN</td>\n      <td>NaN</td>\n      <td>large</td>\n      <td>0.0</td>\n      <td>1.0</td>\n      <td>smaller</td>\n    </tr>\n  </tbody>\n</table>\n</div>"
     },
     "execution_count": 42,
     "metadata": {},
     "output_type": "execute_result"
    }
   ],
   "source": [
    "result[0]"
   ],
   "metadata": {
    "collapsed": false
   }
  },
  {
   "cell_type": "code",
   "execution_count": 43,
   "outputs": [
    {
     "data": {
      "text/plain": "       pop_0     pop_1     pop_2     pop_3     pop_4     pop_5\n0   0.275837  0.111774  0.363882  0.744608  0.148563  0.971604\n1   0.348822  0.132960  0.231106  0.922150  1.000000  0.536564\n2   0.407414  0.286700  0.504064  0.601888  0.667713  1.000000\n3   0.989306  0.570224  0.962015  0.308526  0.300477  1.000000\n4   0.000000  0.000000  0.436159  0.542025  1.000000  0.944089\n5   0.204236  0.215572  0.877406  0.368761  1.000000  1.000000\n6   0.342620  0.443824  0.956909  0.454500  0.639376  1.000000\n7   0.417536  0.253396  0.669712  0.819369  0.871542  1.000000\n8   0.216918  1.000000  1.000000  0.746689  0.981884  1.000000\n9   0.401975  0.286175  0.457134  1.000000  0.828531  0.967169\n10  0.218001  0.580631  0.926328  1.000000  1.000000  0.958612\n11  0.066035  0.546539  0.277946  0.380443  0.693027  0.166051\n12  0.000000  0.553109  0.603253  0.651518  0.535317  1.000000\n13  0.000000  0.305656  0.731770  1.000000  1.000000  0.629791\n14  0.174152  0.042654  0.000000  1.000000  1.000000  0.653628\n15  0.213440  0.070130  0.342788  0.639589  1.000000  1.000000\n16  0.079500  0.421467  0.376061  0.291153  0.719433  0.196270\n17  0.000000  0.462295  0.810586  1.000000  0.441129  0.841156\n18  0.608372  0.334714  0.140460  0.785114  1.000000  0.747380\n19  0.196893  0.476867  0.158059  1.000000  0.727111  0.515613\n20  0.089393  0.340011  0.091590  1.000000  0.405343  0.862608\n21  0.113958  0.204243  0.228005  1.000000  1.000000  0.691277\n22  0.000000  0.000000  0.133423  0.814061  1.000000  1.000000\n23  0.332831  0.020742  0.820137  1.000000  0.904900  1.000000\n24  0.401632  0.000000  0.731388  0.412135  0.691539  1.000000\n25  0.000000  0.204472  0.315501  0.406127  1.000000  1.000000\n26  0.343086  0.761375  0.757813  0.750223  0.403279  0.965717\n27  0.289791  0.000000  1.000000  0.697758  1.000000  0.902260\n28  0.365791  0.306858  0.525199  1.000000  1.000000  1.000000\n29  0.074177  0.323870  0.803565  0.371491  0.932107  0.890168\n30  0.125361  0.282784  0.115246  0.729990  1.000000  0.419293\n31  0.024725  0.869797  0.619601  0.819206  0.975059  1.000000\n32  0.010358  0.000000  0.091115  0.773257  0.628063  0.679204\n33  0.309935  0.177586  0.337338  0.577866  1.000000  1.000000\n34  0.130445  1.000000  0.087514  0.802292  1.000000  0.567000\n35  0.000000  0.435722  0.744141  0.703377  0.922207  0.810510\n36  0.099418  0.000000  0.373593  0.237263  0.000000  0.741039\n37  0.138470  0.052637  0.000000  1.000000  1.000000  0.968968\n38  0.288835  0.000000  0.138284  0.386264  1.000000  0.780647\n39  0.000000  0.717741  0.000000  0.922632  1.000000  0.611644\n40  0.679333  0.821811  0.000000  0.768846  0.868327  1.000000\n41  0.000000  0.143053  0.275428  0.607461  1.000000  0.664731\n42  0.000000  0.199045  0.035275  0.744369  1.000000  0.869712\n43  0.325608  0.523257  0.489031  1.000000  1.000000  1.000000\n44  0.108415  0.649751  0.678661  0.946013  0.887558  1.000000\n45  0.039226  0.344637  0.502290  0.889770  0.866024  1.000000\n46  0.178370  0.076935  0.533638  0.423622  0.513216  1.000000\n47  0.037522  0.158126  1.000000  0.891533  0.873601  1.000000\n48  0.116865  0.015849  0.518204  0.749331  0.688331  0.692613\n49  0.000000  0.048042  0.332881  1.000000  0.911363  1.000000",
      "text/html": "<div>\n<style scoped>\n    .dataframe tbody tr th:only-of-type {\n        vertical-align: middle;\n    }\n\n    .dataframe tbody tr th {\n        vertical-align: top;\n    }\n\n    .dataframe thead th {\n        text-align: right;\n    }\n</style>\n<table border=\"1\" class=\"dataframe\">\n  <thead>\n    <tr style=\"text-align: right;\">\n      <th></th>\n      <th>pop_0</th>\n      <th>pop_1</th>\n      <th>pop_2</th>\n      <th>pop_3</th>\n      <th>pop_4</th>\n      <th>pop_5</th>\n    </tr>\n  </thead>\n  <tbody>\n    <tr>\n      <th>0</th>\n      <td>0.275837</td>\n      <td>0.111774</td>\n      <td>0.363882</td>\n      <td>0.744608</td>\n      <td>0.148563</td>\n      <td>0.971604</td>\n    </tr>\n    <tr>\n      <th>1</th>\n      <td>0.348822</td>\n      <td>0.132960</td>\n      <td>0.231106</td>\n      <td>0.922150</td>\n      <td>1.000000</td>\n      <td>0.536564</td>\n    </tr>\n    <tr>\n      <th>2</th>\n      <td>0.407414</td>\n      <td>0.286700</td>\n      <td>0.504064</td>\n      <td>0.601888</td>\n      <td>0.667713</td>\n      <td>1.000000</td>\n    </tr>\n    <tr>\n      <th>3</th>\n      <td>0.989306</td>\n      <td>0.570224</td>\n      <td>0.962015</td>\n      <td>0.308526</td>\n      <td>0.300477</td>\n      <td>1.000000</td>\n    </tr>\n    <tr>\n      <th>4</th>\n      <td>0.000000</td>\n      <td>0.000000</td>\n      <td>0.436159</td>\n      <td>0.542025</td>\n      <td>1.000000</td>\n      <td>0.944089</td>\n    </tr>\n    <tr>\n      <th>5</th>\n      <td>0.204236</td>\n      <td>0.215572</td>\n      <td>0.877406</td>\n      <td>0.368761</td>\n      <td>1.000000</td>\n      <td>1.000000</td>\n    </tr>\n    <tr>\n      <th>6</th>\n      <td>0.342620</td>\n      <td>0.443824</td>\n      <td>0.956909</td>\n      <td>0.454500</td>\n      <td>0.639376</td>\n      <td>1.000000</td>\n    </tr>\n    <tr>\n      <th>7</th>\n      <td>0.417536</td>\n      <td>0.253396</td>\n      <td>0.669712</td>\n      <td>0.819369</td>\n      <td>0.871542</td>\n      <td>1.000000</td>\n    </tr>\n    <tr>\n      <th>8</th>\n      <td>0.216918</td>\n      <td>1.000000</td>\n      <td>1.000000</td>\n      <td>0.746689</td>\n      <td>0.981884</td>\n      <td>1.000000</td>\n    </tr>\n    <tr>\n      <th>9</th>\n      <td>0.401975</td>\n      <td>0.286175</td>\n      <td>0.457134</td>\n      <td>1.000000</td>\n      <td>0.828531</td>\n      <td>0.967169</td>\n    </tr>\n    <tr>\n      <th>10</th>\n      <td>0.218001</td>\n      <td>0.580631</td>\n      <td>0.926328</td>\n      <td>1.000000</td>\n      <td>1.000000</td>\n      <td>0.958612</td>\n    </tr>\n    <tr>\n      <th>11</th>\n      <td>0.066035</td>\n      <td>0.546539</td>\n      <td>0.277946</td>\n      <td>0.380443</td>\n      <td>0.693027</td>\n      <td>0.166051</td>\n    </tr>\n    <tr>\n      <th>12</th>\n      <td>0.000000</td>\n      <td>0.553109</td>\n      <td>0.603253</td>\n      <td>0.651518</td>\n      <td>0.535317</td>\n      <td>1.000000</td>\n    </tr>\n    <tr>\n      <th>13</th>\n      <td>0.000000</td>\n      <td>0.305656</td>\n      <td>0.731770</td>\n      <td>1.000000</td>\n      <td>1.000000</td>\n      <td>0.629791</td>\n    </tr>\n    <tr>\n      <th>14</th>\n      <td>0.174152</td>\n      <td>0.042654</td>\n      <td>0.000000</td>\n      <td>1.000000</td>\n      <td>1.000000</td>\n      <td>0.653628</td>\n    </tr>\n    <tr>\n      <th>15</th>\n      <td>0.213440</td>\n      <td>0.070130</td>\n      <td>0.342788</td>\n      <td>0.639589</td>\n      <td>1.000000</td>\n      <td>1.000000</td>\n    </tr>\n    <tr>\n      <th>16</th>\n      <td>0.079500</td>\n      <td>0.421467</td>\n      <td>0.376061</td>\n      <td>0.291153</td>\n      <td>0.719433</td>\n      <td>0.196270</td>\n    </tr>\n    <tr>\n      <th>17</th>\n      <td>0.000000</td>\n      <td>0.462295</td>\n      <td>0.810586</td>\n      <td>1.000000</td>\n      <td>0.441129</td>\n      <td>0.841156</td>\n    </tr>\n    <tr>\n      <th>18</th>\n      <td>0.608372</td>\n      <td>0.334714</td>\n      <td>0.140460</td>\n      <td>0.785114</td>\n      <td>1.000000</td>\n      <td>0.747380</td>\n    </tr>\n    <tr>\n      <th>19</th>\n      <td>0.196893</td>\n      <td>0.476867</td>\n      <td>0.158059</td>\n      <td>1.000000</td>\n      <td>0.727111</td>\n      <td>0.515613</td>\n    </tr>\n    <tr>\n      <th>20</th>\n      <td>0.089393</td>\n      <td>0.340011</td>\n      <td>0.091590</td>\n      <td>1.000000</td>\n      <td>0.405343</td>\n      <td>0.862608</td>\n    </tr>\n    <tr>\n      <th>21</th>\n      <td>0.113958</td>\n      <td>0.204243</td>\n      <td>0.228005</td>\n      <td>1.000000</td>\n      <td>1.000000</td>\n      <td>0.691277</td>\n    </tr>\n    <tr>\n      <th>22</th>\n      <td>0.000000</td>\n      <td>0.000000</td>\n      <td>0.133423</td>\n      <td>0.814061</td>\n      <td>1.000000</td>\n      <td>1.000000</td>\n    </tr>\n    <tr>\n      <th>23</th>\n      <td>0.332831</td>\n      <td>0.020742</td>\n      <td>0.820137</td>\n      <td>1.000000</td>\n      <td>0.904900</td>\n      <td>1.000000</td>\n    </tr>\n    <tr>\n      <th>24</th>\n      <td>0.401632</td>\n      <td>0.000000</td>\n      <td>0.731388</td>\n      <td>0.412135</td>\n      <td>0.691539</td>\n      <td>1.000000</td>\n    </tr>\n    <tr>\n      <th>25</th>\n      <td>0.000000</td>\n      <td>0.204472</td>\n      <td>0.315501</td>\n      <td>0.406127</td>\n      <td>1.000000</td>\n      <td>1.000000</td>\n    </tr>\n    <tr>\n      <th>26</th>\n      <td>0.343086</td>\n      <td>0.761375</td>\n      <td>0.757813</td>\n      <td>0.750223</td>\n      <td>0.403279</td>\n      <td>0.965717</td>\n    </tr>\n    <tr>\n      <th>27</th>\n      <td>0.289791</td>\n      <td>0.000000</td>\n      <td>1.000000</td>\n      <td>0.697758</td>\n      <td>1.000000</td>\n      <td>0.902260</td>\n    </tr>\n    <tr>\n      <th>28</th>\n      <td>0.365791</td>\n      <td>0.306858</td>\n      <td>0.525199</td>\n      <td>1.000000</td>\n      <td>1.000000</td>\n      <td>1.000000</td>\n    </tr>\n    <tr>\n      <th>29</th>\n      <td>0.074177</td>\n      <td>0.323870</td>\n      <td>0.803565</td>\n      <td>0.371491</td>\n      <td>0.932107</td>\n      <td>0.890168</td>\n    </tr>\n    <tr>\n      <th>30</th>\n      <td>0.125361</td>\n      <td>0.282784</td>\n      <td>0.115246</td>\n      <td>0.729990</td>\n      <td>1.000000</td>\n      <td>0.419293</td>\n    </tr>\n    <tr>\n      <th>31</th>\n      <td>0.024725</td>\n      <td>0.869797</td>\n      <td>0.619601</td>\n      <td>0.819206</td>\n      <td>0.975059</td>\n      <td>1.000000</td>\n    </tr>\n    <tr>\n      <th>32</th>\n      <td>0.010358</td>\n      <td>0.000000</td>\n      <td>0.091115</td>\n      <td>0.773257</td>\n      <td>0.628063</td>\n      <td>0.679204</td>\n    </tr>\n    <tr>\n      <th>33</th>\n      <td>0.309935</td>\n      <td>0.177586</td>\n      <td>0.337338</td>\n      <td>0.577866</td>\n      <td>1.000000</td>\n      <td>1.000000</td>\n    </tr>\n    <tr>\n      <th>34</th>\n      <td>0.130445</td>\n      <td>1.000000</td>\n      <td>0.087514</td>\n      <td>0.802292</td>\n      <td>1.000000</td>\n      <td>0.567000</td>\n    </tr>\n    <tr>\n      <th>35</th>\n      <td>0.000000</td>\n      <td>0.435722</td>\n      <td>0.744141</td>\n      <td>0.703377</td>\n      <td>0.922207</td>\n      <td>0.810510</td>\n    </tr>\n    <tr>\n      <th>36</th>\n      <td>0.099418</td>\n      <td>0.000000</td>\n      <td>0.373593</td>\n      <td>0.237263</td>\n      <td>0.000000</td>\n      <td>0.741039</td>\n    </tr>\n    <tr>\n      <th>37</th>\n      <td>0.138470</td>\n      <td>0.052637</td>\n      <td>0.000000</td>\n      <td>1.000000</td>\n      <td>1.000000</td>\n      <td>0.968968</td>\n    </tr>\n    <tr>\n      <th>38</th>\n      <td>0.288835</td>\n      <td>0.000000</td>\n      <td>0.138284</td>\n      <td>0.386264</td>\n      <td>1.000000</td>\n      <td>0.780647</td>\n    </tr>\n    <tr>\n      <th>39</th>\n      <td>0.000000</td>\n      <td>0.717741</td>\n      <td>0.000000</td>\n      <td>0.922632</td>\n      <td>1.000000</td>\n      <td>0.611644</td>\n    </tr>\n    <tr>\n      <th>40</th>\n      <td>0.679333</td>\n      <td>0.821811</td>\n      <td>0.000000</td>\n      <td>0.768846</td>\n      <td>0.868327</td>\n      <td>1.000000</td>\n    </tr>\n    <tr>\n      <th>41</th>\n      <td>0.000000</td>\n      <td>0.143053</td>\n      <td>0.275428</td>\n      <td>0.607461</td>\n      <td>1.000000</td>\n      <td>0.664731</td>\n    </tr>\n    <tr>\n      <th>42</th>\n      <td>0.000000</td>\n      <td>0.199045</td>\n      <td>0.035275</td>\n      <td>0.744369</td>\n      <td>1.000000</td>\n      <td>0.869712</td>\n    </tr>\n    <tr>\n      <th>43</th>\n      <td>0.325608</td>\n      <td>0.523257</td>\n      <td>0.489031</td>\n      <td>1.000000</td>\n      <td>1.000000</td>\n      <td>1.000000</td>\n    </tr>\n    <tr>\n      <th>44</th>\n      <td>0.108415</td>\n      <td>0.649751</td>\n      <td>0.678661</td>\n      <td>0.946013</td>\n      <td>0.887558</td>\n      <td>1.000000</td>\n    </tr>\n    <tr>\n      <th>45</th>\n      <td>0.039226</td>\n      <td>0.344637</td>\n      <td>0.502290</td>\n      <td>0.889770</td>\n      <td>0.866024</td>\n      <td>1.000000</td>\n    </tr>\n    <tr>\n      <th>46</th>\n      <td>0.178370</td>\n      <td>0.076935</td>\n      <td>0.533638</td>\n      <td>0.423622</td>\n      <td>0.513216</td>\n      <td>1.000000</td>\n    </tr>\n    <tr>\n      <th>47</th>\n      <td>0.037522</td>\n      <td>0.158126</td>\n      <td>1.000000</td>\n      <td>0.891533</td>\n      <td>0.873601</td>\n      <td>1.000000</td>\n    </tr>\n    <tr>\n      <th>48</th>\n      <td>0.116865</td>\n      <td>0.015849</td>\n      <td>0.518204</td>\n      <td>0.749331</td>\n      <td>0.688331</td>\n      <td>0.692613</td>\n    </tr>\n    <tr>\n      <th>49</th>\n      <td>0.000000</td>\n      <td>0.048042</td>\n      <td>0.332881</td>\n      <td>1.000000</td>\n      <td>0.911363</td>\n      <td>1.000000</td>\n    </tr>\n  </tbody>\n</table>\n</div>"
     },
     "execution_count": 43,
     "metadata": {},
     "output_type": "execute_result"
    }
   ],
   "source": [
    "std = 0.3\n",
    "means = [0.2, 0.3, 0.5, 0.8, 0.85, 0.9]\n",
    "sample_size = 50\n",
    "data = pd.DataFrame()\n",
    "for i, mean in enumerate(means):\n",
    "    data['pop_%i' % i] = np.random.normal(mean, std, sample_size).clip(0, 1)\n",
    "data"
   ],
   "metadata": {
    "collapsed": false
   }
  },
  {
   "cell_type": "markdown",
   "source": [
    "# Analysis sliding window K"
   ],
   "metadata": {
    "collapsed": false
   }
  },
  {
   "cell_type": "code",
   "execution_count": 44,
   "outputs": [
    {
     "name": "stdout",
     "output_type": "stream",
     "text": [
      "\n",
      "\n",
      "--------------- K = 2 ---------------\n",
      "7 subj less lds corr with rational agent: 0.32\n",
      "7 subj more lds corr with rational agent: 0.48\n",
      "\n",
      "7 subj less sias corr with rational agent: 0.48\n",
      "7 subj more sias corr with rational agent: 0.35\n",
      "\n",
      "\n",
      "--------------- K = 5 ---------------\n",
      "7 subj less lds corr with rational agent: 0.39\n",
      "7 subj more lds corr with rational agent: 0.57\n",
      "\n",
      "7 subj less sias corr with rational agent: 0.57\n",
      "7 subj more sias corr with rational agent: 0.4\n",
      "\n",
      "\n",
      "--------------- K = 10 ---------------\n",
      "7 subj less lds corr with rational agent: 0.45\n",
      "7 subj more lds corr with rational agent: 0.63\n",
      "\n",
      "7 subj less sias corr with rational agent: 0.63\n",
      "7 subj more sias corr with rational agent: 0.43\n",
      "\n",
      "\n",
      "--------------- K = 25 ---------------\n",
      "7 subj less lds corr with rational agent: 0.48\n",
      "7 subj more lds corr with rational agent: 0.69\n",
      "\n",
      "7 subj less sias corr with rational agent: 0.66\n",
      "7 subj more sias corr with rational agent: 0.41\n",
      "\n",
      "\n",
      "--------------- K = 50 ---------------\n",
      "7 subj less lds corr with rational agent: 0.47\n",
      "7 subj more lds corr with rational agent: 0.65\n",
      "\n",
      "7 subj less sias corr with rational agent: 0.62\n",
      "7 subj more sias corr with rational agent: 0.39\n",
      "\n",
      "\n",
      "--------------- K = 100 ---------------\n",
      "7 subj less lds corr with rational agent: 0.46\n",
      "7 subj more lds corr with rational agent: 0.66\n",
      "\n",
      "7 subj less sias corr with rational agent: 0.66\n",
      "7 subj more sias corr with rational agent: 0.41\n",
      "\n",
      "\n",
      "--------------- K = 150 ---------------\n",
      "7 subj less lds corr with rational agent: 0.47\n",
      "7 subj more lds corr with rational agent: 0.67\n",
      "\n",
      "7 subj less sias corr with rational agent: 0.66\n",
      "7 subj more sias corr with rational agent: 0.41\n"
     ]
    }
   ],
   "source": [
    "k_wind = [2, 5, 10, 25, 50, 100, 150]\n",
    "for k in list(k_wind):\n",
    "\n",
    "    array_csplus_simulated = np.load('output/pyro/sliding_wind/k'+str(k)+'_csplus.npy',allow_pickle=True)\n",
    "    array_csminus_simulated = np.load('output/pyro/sliding_wind/k'+str(k)+'_csminus.npy',allow_pickle=True)\n",
    "    total_array_simulated = np.load('output/pyro/sliding_wind/k'+str(k)+'_total.npy',allow_pickle=True)\n",
    "\n",
    "    rating_rational = total_array_simulated\n",
    "    rating_rational = rating_rational[16:]\n",
    "\n",
    "    df_correlation = pd.DataFrame(columns=['subject','pearson'])\n",
    "\n",
    "    for sub in valid_sub:\n",
    "        subj_ = extract_correct_csv.read_correct_subject_csv(sub)\n",
    "        df_sub = pd.read_csv('data/newLookAtMe/newLookAtMe'+subj_+'.csv')\n",
    "        df_sub = df_sub[['shock', 'rating', 'morphing level']]\n",
    "        df_sub['shock'] = df_sub['shock'].astype(int)\n",
    "        df_sub['morphing level'] = [int(d == 6) for d in df_sub['morphing level']]\n",
    "        df_sub['rating'] = df_sub['rating'].replace([1, 2, 3, 4, 5], [0.2, 0.4, 0.6, 0.8, 1])\n",
    "        df_sub_learn = df_sub[16:]\n",
    "        rating_sub = np.array(df_sub_learn['rating'])\n",
    "\n",
    "        #remove nan\n",
    "        bad = ~np.logical_or(np.isnan(rating_sub), np.isnan(rating_rational))\n",
    "        rating_sub_ = np.compress(bad, rating_sub)\n",
    "        rating_rational_ = np.compress(bad, rating_rational)\n",
    "\n",
    "        pearson = round(np.corrcoef(rating_sub_,rating_rational_)[0][1],2)\n",
    "        df_correlation = df_correlation.append({'subject':sub,'pearson':pearson},ignore_index=True)\n",
    "    sias_df = pd.read_csv('data/sias_score.csv').drop(columns='social_anxiety')\n",
    "    sias_df['subject'] = [float(x) for x in sias_df['subject']]\n",
    "\n",
    "    lds_df = pd.read_csv('data/lds_subjects.csv')\n",
    "\n",
    "    lds_df['subject'] = [float(x) for x in lds_df['subject']]\n",
    "    df_corr = df_correlation.join(lds_df, lsuffix='', rsuffix='_other',how='inner').drop(columns='subject_other')\n",
    "    df_corr_ = df_corr.join(sias_df,lsuffix='', rsuffix='_other',how='inner').drop(columns='subject_other')\n",
    "    df_corr_notna = df_corr_[df_corr_['pearson'].notna()]\n",
    "    df_corr_notna = df_corr_notna[df_corr_['lds'].notna()]\n",
    "    df_corr_notna = df_corr_notna[df_corr_['sias_score'].notna()]\n",
    "    lds_ = df_corr_notna.sort_values('lds').reset_index().drop(columns='index')\n",
    "    lower_lds = lds_[:7]\n",
    "    higher_lds = lds_[-7:]\n",
    "\n",
    "    print('\\n\\n--------------- K = '+str(k)+' ---------------')\n",
    "\n",
    "    print('7 subj less lds corr with rational agent:',lower_lds['pearson'].median())\n",
    "    print('7 subj more lds corr with rational agent:',higher_lds['pearson'].median())\n",
    "\n",
    "    sias_ = df_corr_notna.sort_values('sias_score',ascending=True).reset_index().drop(columns='index')\n",
    "    lower_sias = sias_[:7]\n",
    "    sias_ = df_corr_notna.sort_values('sias_score',ascending=False).reset_index().drop(columns='index')\n",
    "    higher_sias= sias_[:7]\n",
    "    print()\n",
    "    print('7 subj less sias corr with rational agent:',lower_sias['pearson'].median())\n",
    "    print('7 subj more sias corr with rational agent:',higher_sias['pearson'].median())"
   ],
   "metadata": {
    "collapsed": false
   }
  },
  {
   "cell_type": "code",
   "execution_count": 45,
   "outputs": [],
   "source": [
    "df_corr_notna['sias_score'] = [round(x,2) for x in preprocessing.normalize([df_corr_notna['sias_score']])[0]]\n",
    "df_corr_notna['lds'] = [round(x,2) for x in preprocessing.normalize([df_corr_notna['lds']])[0]]\n",
    "df_corr_notna['pearson'] = [round(x,2) for x in preprocessing.normalize([df_corr_notna['pearson']])[0]]\n"
   ],
   "metadata": {
    "collapsed": false
   }
  },
  {
   "cell_type": "code",
   "execution_count": 46,
   "outputs": [],
   "source": [
    "df_corr_notna['subject'] = [int(x) for x in df_corr_notna['subject']]"
   ],
   "metadata": {
    "collapsed": false
   }
  },
  {
   "cell_type": "code",
   "execution_count": 47,
   "outputs": [],
   "source": [
    "lds_ = df_corr_notna.sort_values('lds').reset_index().drop(columns='index')\n",
    "lower_lds = lds_[:5]\n",
    "higher_lds = lds_[-5:]"
   ],
   "metadata": {
    "collapsed": false
   }
  },
  {
   "cell_type": "code",
   "execution_count": 48,
   "metadata": {},
   "outputs": [],
   "source": [
    "subjects = tuple(df_corr_notna['subject'])"
   ]
  },
  {
   "cell_type": "code",
   "execution_count": 49,
   "metadata": {},
   "outputs": [],
   "source": [
    "values = {'pearson':(),'lds':(),'sias':()}\n",
    "for index,row in df_corr_notna.iterrows():\n",
    "    new_p = values['pearson'] + (row['pearson'],)\n",
    "    values.update({'pearson':new_p})\n",
    "    new_l = values['lds'] + (row['lds'],)\n",
    "    values.update({'lds':new_l})\n",
    "    new_s = values['sias'] + (row['sias_score'],)\n",
    "    values.update({'sias':new_s})"
   ]
  },
  {
   "cell_type": "code",
   "execution_count": 50,
   "metadata": {},
   "outputs": [],
   "source": [
    "values_no_sias = {'pearson':(),'lds':()}\n",
    "for index,row in df_corr_notna.iterrows():\n",
    "    new_p = values_no_sias['pearson'] + (row['pearson'],)\n",
    "    values_no_sias.update({'pearson':new_p})\n",
    "    new_l = values_no_sias['lds'] + (row['lds'],)\n",
    "    values_no_sias.update({'lds':new_l})"
   ]
  },
  {
   "cell_type": "code",
   "execution_count": 51,
   "metadata": {},
   "outputs": [],
   "source": [
    "subjects = tuple(df_corr_notna['subject'])\n",
    "values_no_lds = {'pearson': (), 'sias': ()}\n",
    "for index, row in df_corr_notna.iterrows():\n",
    "    new_p = values_no_lds['pearson'] + (row['pearson'],)\n",
    "    values_no_lds.update({'pearson': new_p})\n",
    "    new_s = values_no_lds['sias'] + (row['sias_score'],)\n",
    "    values_no_lds.update({'sias': new_s})"
   ]
  },
  {
   "cell_type": "markdown",
   "source": [
    "## plot correlation"
   ],
   "metadata": {
    "collapsed": false
   }
  },
  {
   "cell_type": "code",
   "execution_count": 52,
   "metadata": {},
   "outputs": [
    {
     "data": {
      "text/plain": "<Figure size 1500x800 with 1 Axes>",
      "image/png": "[encoded data removed]"
     },
     "metadata": {},
     "output_type": "display_data"
    }
   ],
   "source": [
    "x = np.arange(len(subjects))  # the label locations\n",
    "width = 0.15  # the width of the bars\n",
    "multiplier = 0\n",
    "\n",
    "fig, ax = plt.subplots(figsize=(15,8),constrained_layout=True)\n",
    "\n",
    "for attribute, measurement in values_no_lds.items():\n",
    "    offset = width * multiplier\n",
    "    rects = ax.bar(x + offset, measurement, width, label=attribute)\n",
    "    #ax.bar_label(rects, padding=3)\n",
    "    multiplier += 1\n",
    "\n",
    "# Add some text for labels, title and custom x-axis tick labels, etc.\n",
    "ax.set_ylabel('Length (mm)')\n",
    "ax.set_title('correlation attributes by subjects')\n",
    "ax.set_xticks(x + width, subjects)\n",
    "ax.legend(loc='upper left', ncols=3)\n",
    "\n",
    "plt.show()"
   ]
  },
  {
   "cell_type": "code",
   "execution_count": 53,
   "metadata": {},
   "outputs": [
    {
     "data": {
      "text/plain": "<Figure size 1500x800 with 1 Axes>",
      "image/png": "[encoded data removed]"
     },
     "metadata": {},
     "output_type": "display_data"
    }
   ],
   "source": [
    "x = np.arange(len(subjects))  # the label locations\n",
    "width = 0.15  # the width of the bars\n",
    "multiplier = 0\n",
    "\n",
    "fig, ax = plt.subplots(figsize=(15,8),constrained_layout=True)\n",
    "\n",
    "for attribute, measurement in values_no_sias.items():\n",
    "    offset = width * multiplier\n",
    "    rects = ax.bar(x + offset, measurement, width, label=attribute)\n",
    "    #ax.bar_label(rects, padding=3)\n",
    "    multiplier += 1\n",
    "\n",
    "# Add some text for labels, title and custom x-axis tick labels, etc.\n",
    "ax.set_ylabel('Length (mm)')\n",
    "ax.set_title('correlation attributes by subjects')\n",
    "ax.set_xticks(x + width, subjects)\n",
    "ax.legend(loc='upper left', ncols=3)\n",
    "\n",
    "plt.show()"
   ]
  },
  {
   "cell_type": "code",
   "execution_count": 54,
   "metadata": {},
   "outputs": [
    {
     "data": {
      "text/plain": "<Figure size 1500x800 with 1 Axes>",
      "image/png": "[encoded data removed]"
     },
     "metadata": {},
     "output_type": "display_data"
    }
   ],
   "source": [
    "x = np.arange(len(subjects))  # the label locations\n",
    "width = 0.15  # the width of the bars\n",
    "multiplier = 0\n",
    "\n",
    "fig, ax = plt.subplots(figsize=(15,8),constrained_layout=True)\n",
    "\n",
    "for attribute, measurement in values.items():\n",
    "    offset = width * multiplier\n",
    "    rects = ax.bar(x + offset, measurement, width, label=attribute)\n",
    "    #ax.bar_label(rects, padding=3)\n",
    "    multiplier += 1\n",
    "\n",
    "# Add some text for labels, title and custom x-axis tick labels, etc.\n",
    "ax.set_ylabel('Length (mm)')\n",
    "ax.set_title('correlation attributes by subjects')\n",
    "ax.set_xticks(x + width, subjects)\n",
    "ax.legend(loc='upper left', ncols=3)\n",
    "\n",
    "plt.show()"
   ]
  },
  {
   "cell_type": "markdown",
   "metadata": {},
   "source": [
    "# rational agent sliding window"
   ]
  },
  {
   "cell_type": "markdown",
   "metadata": {},
   "source": [
    "The idea is to have a rational agent with a limited memory over previous trials.\n",
    "k = param sliding window dimension\n"
   ]
  },
  {
   "cell_type": "code",
   "execution_count": 55,
   "metadata": {},
   "outputs": [],
   "source": [
    "import extract_correct_csv\n",
    "valid_sub = extract_correct_csv.extract_only_valid_subject()"
   ]
  },
  {
   "cell_type": "code",
   "execution_count": 56,
   "metadata": {},
   "outputs": [
    {
     "name": "stderr",
     "output_type": "stream",
     "text": [
      "/tmp/ipykernel_272953/522845498.py:4: SettingWithCopyWarning: \n",
      "A value is trying to be set on a copy of a slice from a DataFrame.\n",
      "Try using .loc[row_indexer,col_indexer] = value instead\n",
      "\n",
      "See the caveats in the documentation: https://pandas.pydata.org/pandas-docs/stable/user_guide/indexing.html#returning-a-view-versus-a-copy\n",
      "  df_rational['shock'] = df_rational['shock'].astype(int) #setting shock as int instead of boolean\n",
      "/tmp/ipykernel_272953/522845498.py:5: SettingWithCopyWarning: \n",
      "A value is trying to be set on a copy of a slice from a DataFrame.\n",
      "Try using .loc[row_indexer,col_indexer] = value instead\n",
      "\n",
      "See the caveats in the documentation: https://pandas.pydata.org/pandas-docs/stable/user_guide/indexing.html#returning-a-view-versus-a-copy\n",
      "  df_rational['morphing level'] = [int(d==6) for d in df_rational['morphing level']] # if morphing level==6 -> 1\n"
     ]
    }
   ],
   "source": [
    "# read dataset\n",
    "df = pd.read_csv('data/newLookAtMe/newLookAtMe02.csv')\n",
    "df_rational = df[['morphing level', 'shock']]\n",
    "df_rational['shock'] = df_rational['shock'].astype(int) #setting shock as int instead of boolean\n",
    "df_rational['morphing level'] = [int(d==6) for d in df_rational['morphing level']] # if morphing level==6 -> 1"
   ]
  },
  {
   "cell_type": "code",
   "execution_count": 57,
   "metadata": {},
   "outputs": [],
   "source": [
    "data_np = df_rational.to_numpy()\n",
    "\n",
    "\n",
    "def counter_window(data, k=0):\n",
    "    N = data.shape[0]\n",
    "    counter = torch.zeros((N,4))\n",
    "    for i in range(len(data)):\n",
    "        dict_ = {'[0 0]':0, '[0 1]': 0, '[1 0]':0, '[1 1]':0}\n",
    "        if k == 0 or k > i:\n",
    "            tmp_data = data[:i+1]\n",
    "        else:\n",
    "            tmp_data = data[i-k:i+1]\n",
    "            #print('im here')\n",
    "        # count occurencies\n",
    "        for x in tmp_data:\n",
    "            dict_[str(x)] += 1\n",
    "        values = np.array(list(dict_.values()))\n",
    "        counter[i] = torch.tensor(values)\n",
    "    return counter"
   ]
  },
  {
   "cell_type": "code",
   "execution_count": 58,
   "metadata": {},
   "outputs": [
    {
     "data": {
      "text/plain": "torch.Size([160, 2, 2])"
     },
     "execution_count": 58,
     "metadata": {},
     "output_type": "execute_result"
    }
   ],
   "source": [
    "counter = counter_window(data_np, 3)\n",
    "\n",
    "counter = counter.reshape((len(data_np), 2, 2))\n",
    "counter.shape"
   ]
  },
  {
   "cell_type": "code",
   "execution_count": 59,
   "metadata": {},
   "outputs": [
    {
     "name": "stdout",
     "output_type": "stream",
     "text": [
      "observation:  [0 0]\n",
      "probabilities:  [[0.653665   0.34633487]\n",
      " [0.48796642 0.5120335 ]]\n",
      "observation:  [1 0]\n",
      "probabilities:  [[0.6568772  0.3431231 ]\n",
      " [0.6581865  0.34181398]]\n",
      "observation:  [1 0]\n",
      "probabilities:  [[0.6552374  0.3447626 ]\n",
      " [0.7598889  0.24011104]]\n",
      "observation:  [0 0]\n",
      "probabilities:  [[0.7467199  0.25327986]\n",
      " [0.7543036  0.24569651]]\n",
      "observation:  [0 0]\n",
      "probabilities:  [[0.74880064 0.25119933]\n",
      " [0.72889715 0.2711026 ]]\n",
      "observation:  [0 0]\n",
      "probabilities:  [[0.79426557 0.20573448]\n",
      " [0.686757   0.31324273]]\n",
      "observation:  [1 0]\n",
      "probabilities:  [[0.7985688  0.20143144]\n",
      " [0.68341255 0.31658736]]\n",
      "observation:  [1 0]\n",
      "probabilities:  [[0.74042785 0.25957218]\n",
      " [0.7574937  0.24250613]]\n",
      "observation:  [0 0]\n",
      "probabilities:  [[0.76490384 0.23509638]\n",
      " [0.7579958  0.24200419]]\n",
      "observation:  [1 0]\n",
      "probabilities:  [[0.6508182  0.34918168]\n",
      " [0.7935354  0.20646478]]\n",
      "observation:  [1 0]\n",
      "probabilities:  [[0.68619096 0.3138091 ]\n",
      " [0.80598545 0.19401439]]\n",
      "observation:  [0 0]\n",
      "probabilities:  [[0.7244405  0.2755595 ]\n",
      " [0.74801505 0.25198513]]\n",
      "observation:  [1 0]\n",
      "probabilities:  [[0.660321   0.3396793 ]\n",
      " [0.7978328  0.20216762]]\n",
      "observation:  [0 0]\n",
      "probabilities:  [[0.7365612  0.26343897]\n",
      " [0.7458836  0.2541162 ]]\n",
      "observation:  [1 0]\n",
      "probabilities:  [[0.7274488  0.27255115]\n",
      " [0.7246642  0.27533618]]\n",
      "observation:  [0 0]\n",
      "probabilities:  [[0.76641166 0.2335882 ]\n",
      " [0.7282951  0.27170485]]\n",
      "observation:  [1 1]\n",
      "probabilities:  [[0.7686892  0.23131078]\n",
      " [0.5161124  0.48388752]]\n",
      "observation:  [0 0]\n",
      "probabilities:  [[0.7350019  0.26499805]\n",
      " [0.500781   0.4992192 ]]\n",
      "observation:  [0 0]\n",
      "probabilities:  [[0.8151331  0.18486704]\n",
      " [0.3160566  0.6839433 ]]\n",
      "observation:  [1 1]\n",
      "probabilities:  [[0.7216266  0.27837324]\n",
      " [0.25965354 0.74034643]]\n",
      "observation:  [0 0]\n",
      "probabilities:  [[0.79674375 0.20325595]\n",
      " [0.29614678 0.7038532 ]]\n",
      "observation:  [1 1]\n",
      "probabilities:  [[0.7544769  0.24552298]\n",
      " [0.25614902 0.74385047]]\n",
      "observation:  [1 1]\n",
      "probabilities:  [[0.67093015 0.3290695 ]\n",
      " [0.19662394 0.8033759 ]]\n",
      "observation:  [0 0]\n",
      "probabilities:  [[0.7538061  0.24619393]\n",
      " [0.24211095 0.7578889 ]]\n",
      "observation:  [1 0]\n",
      "probabilities:  [[0.6447565  0.35524324]\n",
      " [0.378692   0.621308  ]]\n",
      "observation:  [1 1]\n",
      "probabilities:  [[0.65597886 0.34402144]\n",
      " [0.4048467  0.59515303]]\n",
      "observation:  [0 0]\n",
      "probabilities:  [[0.7559961  0.24400426]\n",
      " [0.5070297  0.4929703 ]]\n",
      "observation:  [0 0]\n",
      "probabilities:  [[0.73469293 0.2653067 ]\n",
      " [0.49392018 0.50607985]]\n",
      "observation:  [0 0]\n",
      "probabilities:  [[0.80000466 0.19999532]\n",
      " [0.3596913  0.6403086 ]]\n",
      "observation:  [0 0]\n",
      "probabilities:  [[0.83878154 0.16121793]\n",
      " [0.5251273  0.47487268]]\n",
      "observation:  [1 1]\n",
      "probabilities:  [[0.8000082  0.19999145]\n",
      " [0.33871415 0.66128623]]\n",
      "observation:  [1 0]\n",
      "probabilities:  [[0.7683927  0.23160739]\n",
      " [0.4830746  0.5169256 ]]\n",
      "observation:  [0 0]\n",
      "probabilities:  [[0.7351059  0.264894  ]\n",
      " [0.50826    0.49174002]]\n",
      "observation:  [1 1]\n",
      "probabilities:  [[0.6458813 0.3541188]\n",
      " [0.3999413 0.6000586]]\n",
      "observation:  [1 1]\n",
      "probabilities:  [[0.6497134 0.3502865]\n",
      " [0.4085353 0.5914651]]\n",
      "observation:  [0 0]\n",
      "probabilities:  [[0.79471546 0.20528473]\n",
      " [0.23978983 0.7602101 ]]\n",
      "observation:  [1 0]\n",
      "probabilities:  [[0.6843278  0.31567237]\n",
      " [0.39532462 0.60467505]]\n",
      "observation:  [0 0]\n",
      "probabilities:  [[0.7548296  0.24517027]\n",
      " [0.49408996 0.5059101 ]]\n",
      "observation:  [1 1]\n",
      "probabilities:  [[0.76522875 0.23477122]\n",
      " [0.525302   0.47469777]]\n",
      "observation:  [0 0]\n",
      "probabilities:  [[0.74635446 0.25364575]\n",
      " [0.498464   0.501536  ]]\n",
      "observation:  [1 0]\n",
      "probabilities:  [[0.73546165 0.26453853]\n",
      " [0.5053067  0.49469334]]\n",
      "observation:  [0 0]\n",
      "probabilities:  [[0.7655472  0.23445274]\n",
      " [0.50223416 0.49776587]]\n",
      "observation:  [1 1]\n",
      "probabilities:  [[0.75731444 0.24268572]\n",
      " [0.5018778  0.4981221 ]]\n",
      "observation:  [0 0]\n",
      "probabilities:  [[0.74977094 0.25022867]\n",
      " [0.5138234  0.4861766 ]]\n",
      "observation:  [1 1]\n",
      "probabilities:  [[0.7545095  0.24549031]\n",
      " [0.26381758 0.7361822 ]]\n",
      "observation:  [0 0]\n",
      "probabilities:  [[0.7450378  0.25496215]\n",
      " [0.24539639 0.7546033 ]]\n",
      "observation:  [1 1]\n",
      "probabilities:  [[0.77541906 0.22458094]\n",
      " [0.24446717 0.7555327 ]]\n",
      "observation:  [0 0]\n",
      "probabilities:  [[0.7386132  0.26138672]\n",
      " [0.25021613 0.7497837 ]]\n",
      "observation:  [0 0]\n",
      "probabilities:  [[0.79061043 0.2093896 ]\n",
      " [0.31795183 0.6820482 ]]\n",
      "observation:  [1 1]\n",
      "probabilities:  [[0.73876595 0.2612342 ]\n",
      " [0.27231225 0.7276878 ]]\n",
      "observation:  [0 0]\n",
      "probabilities:  [[0.8200416  0.17995813]\n",
      " [0.32322717 0.67677295]]\n",
      "observation:  [0 0]\n",
      "probabilities:  [[0.7953443  0.20465559]\n",
      " [0.30749804 0.69250196]]\n",
      "observation:  [1 0]\n",
      "probabilities:  [[0.7475168  0.25248322]\n",
      " [0.5098322  0.4901678 ]]\n",
      "observation:  [0 0]\n",
      "probabilities:  [[0.789921   0.21007885]\n",
      " [0.6784433  0.3215567 ]]\n",
      "observation:  [0 0]\n",
      "probabilities:  [[0.7963184 0.2036812]\n",
      " [0.6751337 0.3248662]]\n",
      "observation:  [0 0]\n",
      "probabilities:  [[0.8027796  0.19722031]\n",
      " [0.6385716  0.3614286 ]]\n",
      "observation:  [0 0]\n",
      "probabilities:  [[0.8499467  0.15005329]\n",
      " [0.47439605 0.52560395]]\n",
      "observation:  [1 1]\n",
      "probabilities:  [[0.8096472  0.19035266]\n",
      " [0.34130588 0.6586942 ]]\n",
      "observation:  [0 0]\n",
      "probabilities:  [[0.8056371  0.19436292]\n",
      " [0.30910268 0.6908975 ]]\n",
      "observation:  [0 0]\n",
      "probabilities:  [[0.78545743 0.21454225]\n",
      " [0.35302156 0.6469787 ]]\n",
      "observation:  [1 0]\n",
      "probabilities:  [[0.7606012 0.239399 ]\n",
      " [0.4927905 0.5072095]]\n",
      "observation:  [0 0]\n",
      "probabilities:  [[0.79422396 0.20577598]\n",
      " [0.65031785 0.34968218]]\n",
      "observation:  [1 0]\n",
      "probabilities:  [[0.73789275 0.2621073 ]\n",
      " [0.75549394 0.24450602]]\n",
      "observation:  [0 0]\n",
      "probabilities:  [[0.76260483 0.23739505]\n",
      " [0.72835296 0.2716472 ]]\n",
      "observation:  [0 0]\n",
      "probabilities:  [[0.79900306 0.20099686]\n",
      " [0.6815864  0.31841373]]\n",
      "observation:  [1 1]\n",
      "probabilities:  [[0.75254667 0.247453  ]\n",
      " [0.51666    0.48334   ]]\n",
      "observation:  [0 0]\n",
      "probabilities:  [[0.7992656  0.2007345 ]\n",
      " [0.33013952 0.66986096]]\n",
      "observation:  [1 1]\n",
      "probabilities:  [[0.7391993  0.2608013 ]\n",
      " [0.24479704 0.7552029 ]]\n",
      "observation:  [0 0]\n",
      "probabilities:  [[0.74971694 0.250283  ]\n",
      " [0.25017256 0.7498277 ]]\n",
      "observation:  [0 0]\n",
      "probabilities:  [[0.79702145 0.20297843]\n",
      " [0.36936846 0.6306316 ]]\n",
      "observation:  [1 0]\n",
      "probabilities:  [[0.7674722  0.23252805]\n",
      " [0.5272146  0.47278565]]\n",
      "observation:  [0 0]\n",
      "probabilities:  [[0.8116095  0.18839063]\n",
      " [0.65836376 0.34163612]]\n",
      "observation:  [0 0]\n",
      "probabilities:  [[0.8116314  0.18836895]\n",
      " [0.6419917  0.3580086 ]]\n",
      "observation:  [0 0]\n",
      "probabilities:  [[0.8029839  0.19701624]\n",
      " [0.66698074 0.3330192 ]]\n",
      "observation:  [0 0]\n",
      "probabilities:  [[0.8168586  0.18314177]\n",
      " [0.50745785 0.492542  ]]\n",
      "observation:  [0 0]\n",
      "probabilities:  [[0.8551773  0.14482258]\n",
      " [0.5165233  0.48347673]]\n",
      "observation:  [0 0]\n",
      "probabilities:  [[0.8403124  0.15968746]\n",
      " [0.48033538 0.5196646 ]]\n",
      "observation:  [0 0]\n",
      "probabilities:  [[0.8307535  0.1692465 ]\n",
      " [0.4845527  0.51544744]]\n",
      "observation:  [0 0]\n",
      "probabilities:  [[0.829165   0.17083502]\n",
      " [0.48563427 0.51436573]]\n",
      "observation:  [0 0]\n",
      "probabilities:  [[0.843302   0.15669776]\n",
      " [0.5077689  0.49223104]]\n",
      "observation:  [1 1]\n",
      "probabilities:  [[0.8093558  0.19064407]\n",
      " [0.3545519  0.6454483 ]]\n",
      "observation:  [0 0]\n",
      "probabilities:  [[0.79049087 0.20950952]\n",
      " [0.33940923 0.66059077]]\n",
      "observation:  [0 0]\n",
      "probabilities:  [[0.79717684 0.2028233 ]\n",
      " [0.3443825  0.6556177 ]]\n",
      "observation:  [1 0]\n",
      "probabilities:  [[0.7612503  0.23874985]\n",
      " [0.5212763  0.47872365]]\n",
      "observation:  [0 0]\n",
      "probabilities:  [[0.8237252 0.1762748]\n",
      " [0.6667874 0.3332126]]\n",
      "observation:  [0 0]\n",
      "probabilities:  [[0.8070084  0.19299138]\n",
      " [0.64360845 0.35639164]]\n"
     ]
    },
    {
     "ename": "KeyboardInterrupt",
     "evalue": "",
     "output_type": "error",
     "traceback": [
      "\u001B[0;31m---------------------------------------------------------------------------\u001B[0m",
      "\u001B[0;31mKeyboardInterrupt\u001B[0m                         Traceback (most recent call last)",
      "Cell \u001B[0;32mIn [59], line 22\u001B[0m\n\u001B[1;32m     20\u001B[0m \u001B[38;5;66;03m# sampling\u001B[39;00m\n\u001B[1;32m     21\u001B[0m \u001B[38;5;28;01mfor\u001B[39;00m i \u001B[38;5;129;01min\u001B[39;00m \u001B[38;5;28mrange\u001B[39m(\u001B[38;5;28mlen\u001B[39m(counter)):\n\u001B[0;32m---> 22\u001B[0m     mcmc\u001B[38;5;241m.\u001B[39mrun(counter[i])\n\u001B[1;32m     23\u001B[0m     hmc_samples \u001B[38;5;241m=\u001B[39m {k: v\u001B[38;5;241m.\u001B[39mdetach()\u001B[38;5;241m.\u001B[39mcpu()\u001B[38;5;241m.\u001B[39mnumpy()\n\u001B[1;32m     24\u001B[0m                    \u001B[38;5;28;01mfor\u001B[39;00m k, v \u001B[38;5;129;01min\u001B[39;00m mcmc\u001B[38;5;241m.\u001B[39mget_samples()\u001B[38;5;241m.\u001B[39mitems()}\n\u001B[1;32m     25\u001B[0m     means \u001B[38;5;241m=\u001B[39m hmc_samples[\u001B[38;5;124m'\u001B[39m\u001B[38;5;124mprior\u001B[39m\u001B[38;5;124m'\u001B[39m]\u001B[38;5;241m.\u001B[39mmean(axis\u001B[38;5;241m=\u001B[39m\u001B[38;5;241m0\u001B[39m)\n",
      "File \u001B[0;32m~/matteo/matteo/unimi/tesi_master/code/my_env/lib/python3.8/site-packages/pyro/poutine/messenger.py:12\u001B[0m, in \u001B[0;36m_context_wrap\u001B[0;34m(context, fn, *args, **kwargs)\u001B[0m\n\u001B[1;32m     10\u001B[0m \u001B[38;5;28;01mdef\u001B[39;00m \u001B[38;5;21m_context_wrap\u001B[39m(context, fn, \u001B[38;5;241m*\u001B[39margs, \u001B[38;5;241m*\u001B[39m\u001B[38;5;241m*\u001B[39mkwargs):\n\u001B[1;32m     11\u001B[0m     \u001B[38;5;28;01mwith\u001B[39;00m context:\n\u001B[0;32m---> 12\u001B[0m         \u001B[38;5;28;01mreturn\u001B[39;00m \u001B[43mfn\u001B[49m\u001B[43m(\u001B[49m\u001B[38;5;241;43m*\u001B[39;49m\u001B[43margs\u001B[49m\u001B[43m,\u001B[49m\u001B[43m \u001B[49m\u001B[38;5;241;43m*\u001B[39;49m\u001B[38;5;241;43m*\u001B[39;49m\u001B[43mkwargs\u001B[49m\u001B[43m)\u001B[49m\n",
      "File \u001B[0;32m~/matteo/matteo/unimi/tesi_master/code/my_env/lib/python3.8/site-packages/pyro/infer/mcmc/api.py:563\u001B[0m, in \u001B[0;36mMCMC.run\u001B[0;34m(self, *args, **kwargs)\u001B[0m\n\u001B[1;32m    554\u001B[0m \u001B[38;5;28;01mwith\u001B[39;00m optional(\n\u001B[1;32m    555\u001B[0m     pyro\u001B[38;5;241m.\u001B[39mvalidation_enabled(\u001B[38;5;129;01mnot\u001B[39;00m \u001B[38;5;28mself\u001B[39m\u001B[38;5;241m.\u001B[39mdisable_validation),\n\u001B[1;32m    556\u001B[0m     \u001B[38;5;28mself\u001B[39m\u001B[38;5;241m.\u001B[39mdisable_validation \u001B[38;5;129;01mis\u001B[39;00m \u001B[38;5;129;01mnot\u001B[39;00m \u001B[38;5;28;01mNone\u001B[39;00m,\n\u001B[0;32m   (...)\u001B[0m\n\u001B[1;32m    560\u001B[0m     \u001B[38;5;66;03m# This also resolves \"RuntimeError: Cowardly refusing to serialize non-leaf tensor which\u001B[39;00m\n\u001B[1;32m    561\u001B[0m     \u001B[38;5;66;03m# requires_grad\", which happens with `jit_compile` under PyTorch 1.7\u001B[39;00m\n\u001B[1;32m    562\u001B[0m     args \u001B[38;5;241m=\u001B[39m [arg\u001B[38;5;241m.\u001B[39mdetach() \u001B[38;5;28;01mif\u001B[39;00m torch\u001B[38;5;241m.\u001B[39mis_tensor(arg) \u001B[38;5;28;01melse\u001B[39;00m arg \u001B[38;5;28;01mfor\u001B[39;00m arg \u001B[38;5;129;01min\u001B[39;00m args]\n\u001B[0;32m--> 563\u001B[0m     \u001B[38;5;28;01mfor\u001B[39;00m x, chain_id \u001B[38;5;129;01min\u001B[39;00m \u001B[38;5;28mself\u001B[39m\u001B[38;5;241m.\u001B[39msampler\u001B[38;5;241m.\u001B[39mrun(\u001B[38;5;241m*\u001B[39margs, \u001B[38;5;241m*\u001B[39m\u001B[38;5;241m*\u001B[39mkwargs):\n\u001B[1;32m    564\u001B[0m         \u001B[38;5;28;01mif\u001B[39;00m num_samples[chain_id] \u001B[38;5;241m==\u001B[39m \u001B[38;5;241m0\u001B[39m:\n\u001B[1;32m    565\u001B[0m             num_samples[chain_id] \u001B[38;5;241m+\u001B[39m\u001B[38;5;241m=\u001B[39m \u001B[38;5;241m1\u001B[39m\n",
      "File \u001B[0;32m~/matteo/matteo/unimi/tesi_master/code/my_env/lib/python3.8/site-packages/pyro/infer/mcmc/api.py:223\u001B[0m, in \u001B[0;36m_UnarySampler.run\u001B[0;34m(self, *args, **kwargs)\u001B[0m\n\u001B[1;32m    221\u001B[0m logger \u001B[38;5;241m=\u001B[39m initialize_logger(logger, \u001B[38;5;124m\"\u001B[39m\u001B[38;5;124m\"\u001B[39m, progress_bar)\n\u001B[1;32m    222\u001B[0m hook_w_logging \u001B[38;5;241m=\u001B[39m _add_logging_hook(logger, progress_bar, \u001B[38;5;28mself\u001B[39m\u001B[38;5;241m.\u001B[39mhook)\n\u001B[0;32m--> 223\u001B[0m \u001B[38;5;28;01mfor\u001B[39;00m sample \u001B[38;5;129;01min\u001B[39;00m _gen_samples(\n\u001B[1;32m    224\u001B[0m     \u001B[38;5;28mself\u001B[39m\u001B[38;5;241m.\u001B[39mkernel,\n\u001B[1;32m    225\u001B[0m     \u001B[38;5;28mself\u001B[39m\u001B[38;5;241m.\u001B[39mwarmup_steps,\n\u001B[1;32m    226\u001B[0m     \u001B[38;5;28mself\u001B[39m\u001B[38;5;241m.\u001B[39mnum_samples,\n\u001B[1;32m    227\u001B[0m     hook_w_logging,\n\u001B[1;32m    228\u001B[0m     i \u001B[38;5;28;01mif\u001B[39;00m \u001B[38;5;28mself\u001B[39m\u001B[38;5;241m.\u001B[39mnum_chains \u001B[38;5;241m>\u001B[39m \u001B[38;5;241m1\u001B[39m \u001B[38;5;28;01melse\u001B[39;00m \u001B[38;5;28;01mNone\u001B[39;00m,\n\u001B[1;32m    229\u001B[0m     \u001B[38;5;241m*\u001B[39margs,\n\u001B[1;32m    230\u001B[0m     \u001B[38;5;241m*\u001B[39m\u001B[38;5;241m*\u001B[39mkwargs\n\u001B[1;32m    231\u001B[0m ):\n\u001B[1;32m    232\u001B[0m     \u001B[38;5;28;01myield\u001B[39;00m sample, i  \u001B[38;5;66;03m# sample, chain_id\u001B[39;00m\n\u001B[1;32m    233\u001B[0m \u001B[38;5;28mself\u001B[39m\u001B[38;5;241m.\u001B[39mkernel\u001B[38;5;241m.\u001B[39mcleanup()\n",
      "File \u001B[0;32m~/matteo/matteo/unimi/tesi_master/code/my_env/lib/python3.8/site-packages/pyro/infer/mcmc/api.py:158\u001B[0m, in \u001B[0;36m_gen_samples\u001B[0;34m(kernel, warmup_steps, num_samples, hook, chain_id, *args, **kwargs)\u001B[0m\n\u001B[1;32m    151\u001B[0m     hook(\n\u001B[1;32m    152\u001B[0m         kernel,\n\u001B[1;32m    153\u001B[0m         params,\n\u001B[1;32m    154\u001B[0m         \u001B[38;5;124m\"\u001B[39m\u001B[38;5;124mWarmup [\u001B[39m\u001B[38;5;132;01m{}\u001B[39;00m\u001B[38;5;124m]\u001B[39m\u001B[38;5;124m\"\u001B[39m\u001B[38;5;241m.\u001B[39mformat(chain_id) \u001B[38;5;28;01mif\u001B[39;00m chain_id \u001B[38;5;129;01mis\u001B[39;00m \u001B[38;5;129;01mnot\u001B[39;00m \u001B[38;5;28;01mNone\u001B[39;00m \u001B[38;5;28;01melse\u001B[39;00m \u001B[38;5;124m\"\u001B[39m\u001B[38;5;124mWarmup\u001B[39m\u001B[38;5;124m\"\u001B[39m,\n\u001B[1;32m    155\u001B[0m         i,\n\u001B[1;32m    156\u001B[0m     )\n\u001B[1;32m    157\u001B[0m \u001B[38;5;28;01mfor\u001B[39;00m i \u001B[38;5;129;01min\u001B[39;00m \u001B[38;5;28mrange\u001B[39m(num_samples):\n\u001B[0;32m--> 158\u001B[0m     params \u001B[38;5;241m=\u001B[39m \u001B[43mkernel\u001B[49m\u001B[38;5;241;43m.\u001B[39;49m\u001B[43msample\u001B[49m\u001B[43m(\u001B[49m\u001B[43mparams\u001B[49m\u001B[43m)\u001B[49m\n\u001B[1;32m    159\u001B[0m     hook(\n\u001B[1;32m    160\u001B[0m         kernel,\n\u001B[1;32m    161\u001B[0m         params,\n\u001B[1;32m    162\u001B[0m         \u001B[38;5;124m\"\u001B[39m\u001B[38;5;124mSample [\u001B[39m\u001B[38;5;132;01m{}\u001B[39;00m\u001B[38;5;124m]\u001B[39m\u001B[38;5;124m\"\u001B[39m\u001B[38;5;241m.\u001B[39mformat(chain_id) \u001B[38;5;28;01mif\u001B[39;00m chain_id \u001B[38;5;129;01mis\u001B[39;00m \u001B[38;5;129;01mnot\u001B[39;00m \u001B[38;5;28;01mNone\u001B[39;00m \u001B[38;5;28;01melse\u001B[39;00m \u001B[38;5;124m\"\u001B[39m\u001B[38;5;124mSample\u001B[39m\u001B[38;5;124m\"\u001B[39m,\n\u001B[1;32m    163\u001B[0m         i,\n\u001B[1;32m    164\u001B[0m     )\n\u001B[1;32m    165\u001B[0m     flat \u001B[38;5;241m=\u001B[39m [params[name]\u001B[38;5;241m.\u001B[39mreshape(\u001B[38;5;241m-\u001B[39m\u001B[38;5;241m1\u001B[39m) \u001B[38;5;28;01mfor\u001B[39;00m name \u001B[38;5;129;01min\u001B[39;00m save_params]\n",
      "File \u001B[0;32m~/matteo/matteo/unimi/tesi_master/code/my_env/lib/python3.8/site-packages/pyro/infer/mcmc/nuts.py:452\u001B[0m, in \u001B[0;36mNUTS.sample\u001B[0;34m(self, params)\u001B[0m\n\u001B[1;32m    450\u001B[0m     z_right_grads \u001B[38;5;241m=\u001B[39m new_tree\u001B[38;5;241m.\u001B[39mz_right_grads\n\u001B[1;32m    451\u001B[0m \u001B[38;5;28;01melse\u001B[39;00m:  \u001B[38;5;66;03m# go the the left, start from the left leaf of current tree\u001B[39;00m\n\u001B[0;32m--> 452\u001B[0m     new_tree \u001B[38;5;241m=\u001B[39m \u001B[38;5;28;43mself\u001B[39;49m\u001B[38;5;241;43m.\u001B[39;49m\u001B[43m_build_tree\u001B[49m\u001B[43m(\u001B[49m\n\u001B[1;32m    453\u001B[0m \u001B[43m        \u001B[49m\u001B[43mz_left\u001B[49m\u001B[43m,\u001B[49m\n\u001B[1;32m    454\u001B[0m \u001B[43m        \u001B[49m\u001B[43mr_left\u001B[49m\u001B[43m,\u001B[49m\n\u001B[1;32m    455\u001B[0m \u001B[43m        \u001B[49m\u001B[43mz_left_grads\u001B[49m\u001B[43m,\u001B[49m\n\u001B[1;32m    456\u001B[0m \u001B[43m        \u001B[49m\u001B[43mlog_slice\u001B[49m\u001B[43m,\u001B[49m\n\u001B[1;32m    457\u001B[0m \u001B[43m        \u001B[49m\u001B[43mdirection\u001B[49m\u001B[43m,\u001B[49m\n\u001B[1;32m    458\u001B[0m \u001B[43m        \u001B[49m\u001B[43mtree_depth\u001B[49m\u001B[43m,\u001B[49m\n\u001B[1;32m    459\u001B[0m \u001B[43m        \u001B[49m\u001B[43menergy_current\u001B[49m\u001B[43m,\u001B[49m\n\u001B[1;32m    460\u001B[0m \u001B[43m    \u001B[49m\u001B[43m)\u001B[49m\n\u001B[1;32m    461\u001B[0m     z_left \u001B[38;5;241m=\u001B[39m new_tree\u001B[38;5;241m.\u001B[39mz_left\n\u001B[1;32m    462\u001B[0m     r_left \u001B[38;5;241m=\u001B[39m new_tree\u001B[38;5;241m.\u001B[39mr_left\n",
      "File \u001B[0;32m~/matteo/matteo/unimi/tesi_master/code/my_env/lib/python3.8/site-packages/pyro/infer/mcmc/nuts.py:281\u001B[0m, in \u001B[0;36mNUTS._build_tree\u001B[0;34m(self, z, r, z_grads, log_slice, direction, tree_depth, energy_current)\u001B[0m\n\u001B[1;32m    279\u001B[0m     r \u001B[38;5;241m=\u001B[39m half_tree\u001B[38;5;241m.\u001B[39mr_left\n\u001B[1;32m    280\u001B[0m     z_grads \u001B[38;5;241m=\u001B[39m half_tree\u001B[38;5;241m.\u001B[39mz_left_grads\n\u001B[0;32m--> 281\u001B[0m other_half_tree \u001B[38;5;241m=\u001B[39m \u001B[38;5;28;43mself\u001B[39;49m\u001B[38;5;241;43m.\u001B[39;49m\u001B[43m_build_tree\u001B[49m\u001B[43m(\u001B[49m\n\u001B[1;32m    282\u001B[0m \u001B[43m    \u001B[49m\u001B[43mz\u001B[49m\u001B[43m,\u001B[49m\u001B[43m \u001B[49m\u001B[43mr\u001B[49m\u001B[43m,\u001B[49m\u001B[43m \u001B[49m\u001B[43mz_grads\u001B[49m\u001B[43m,\u001B[49m\u001B[43m \u001B[49m\u001B[43mlog_slice\u001B[49m\u001B[43m,\u001B[49m\u001B[43m \u001B[49m\u001B[43mdirection\u001B[49m\u001B[43m,\u001B[49m\u001B[43m \u001B[49m\u001B[43mtree_depth\u001B[49m\u001B[43m \u001B[49m\u001B[38;5;241;43m-\u001B[39;49m\u001B[43m \u001B[49m\u001B[38;5;241;43m1\u001B[39;49m\u001B[43m,\u001B[49m\u001B[43m \u001B[49m\u001B[43menergy_current\u001B[49m\n\u001B[1;32m    283\u001B[0m \u001B[43m\u001B[49m\u001B[43m)\u001B[49m\n\u001B[1;32m    285\u001B[0m \u001B[38;5;28;01mif\u001B[39;00m \u001B[38;5;28mself\u001B[39m\u001B[38;5;241m.\u001B[39muse_multinomial_sampling:\n\u001B[1;32m    286\u001B[0m     tree_weight \u001B[38;5;241m=\u001B[39m _logaddexp(half_tree\u001B[38;5;241m.\u001B[39mweight, other_half_tree\u001B[38;5;241m.\u001B[39mweight)\n",
      "File \u001B[0;32m~/matteo/matteo/unimi/tesi_master/code/my_env/lib/python3.8/site-packages/pyro/infer/mcmc/nuts.py:254\u001B[0m, in \u001B[0;36mNUTS._build_tree\u001B[0;34m(self, z, r, z_grads, log_slice, direction, tree_depth, energy_current)\u001B[0m\n\u001B[1;32m    250\u001B[0m \u001B[38;5;28;01mdef\u001B[39;00m \u001B[38;5;21m_build_tree\u001B[39m(\n\u001B[1;32m    251\u001B[0m     \u001B[38;5;28mself\u001B[39m, z, r, z_grads, log_slice, direction, tree_depth, energy_current\n\u001B[1;32m    252\u001B[0m ):\n\u001B[1;32m    253\u001B[0m     \u001B[38;5;28;01mif\u001B[39;00m tree_depth \u001B[38;5;241m==\u001B[39m \u001B[38;5;241m0\u001B[39m:\n\u001B[0;32m--> 254\u001B[0m         \u001B[38;5;28;01mreturn\u001B[39;00m \u001B[38;5;28;43mself\u001B[39;49m\u001B[38;5;241;43m.\u001B[39;49m\u001B[43m_build_basetree\u001B[49m\u001B[43m(\u001B[49m\n\u001B[1;32m    255\u001B[0m \u001B[43m            \u001B[49m\u001B[43mz\u001B[49m\u001B[43m,\u001B[49m\u001B[43m \u001B[49m\u001B[43mr\u001B[49m\u001B[43m,\u001B[49m\u001B[43m \u001B[49m\u001B[43mz_grads\u001B[49m\u001B[43m,\u001B[49m\u001B[43m \u001B[49m\u001B[43mlog_slice\u001B[49m\u001B[43m,\u001B[49m\u001B[43m \u001B[49m\u001B[43mdirection\u001B[49m\u001B[43m,\u001B[49m\u001B[43m \u001B[49m\u001B[43menergy_current\u001B[49m\n\u001B[1;32m    256\u001B[0m \u001B[43m        \u001B[49m\u001B[43m)\u001B[49m\n\u001B[1;32m    258\u001B[0m     \u001B[38;5;66;03m# build the first half of tree\u001B[39;00m\n\u001B[1;32m    259\u001B[0m     half_tree \u001B[38;5;241m=\u001B[39m \u001B[38;5;28mself\u001B[39m\u001B[38;5;241m.\u001B[39m_build_tree(\n\u001B[1;32m    260\u001B[0m         z, r, z_grads, log_slice, direction, tree_depth \u001B[38;5;241m-\u001B[39m \u001B[38;5;241m1\u001B[39m, energy_current\n\u001B[1;32m    261\u001B[0m     )\n",
      "File \u001B[0;32m~/matteo/matteo/unimi/tesi_master/code/my_env/lib/python3.8/site-packages/pyro/infer/mcmc/nuts.py:199\u001B[0m, in \u001B[0;36mNUTS._build_basetree\u001B[0;34m(self, z, r, z_grads, log_slice, direction, energy_current)\u001B[0m\n\u001B[1;32m    197\u001B[0m \u001B[38;5;28;01mdef\u001B[39;00m \u001B[38;5;21m_build_basetree\u001B[39m(\u001B[38;5;28mself\u001B[39m, z, r, z_grads, log_slice, direction, energy_current):\n\u001B[1;32m    198\u001B[0m     step_size \u001B[38;5;241m=\u001B[39m \u001B[38;5;28mself\u001B[39m\u001B[38;5;241m.\u001B[39mstep_size \u001B[38;5;28;01mif\u001B[39;00m direction \u001B[38;5;241m==\u001B[39m \u001B[38;5;241m1\u001B[39m \u001B[38;5;28;01melse\u001B[39;00m \u001B[38;5;241m-\u001B[39m\u001B[38;5;28mself\u001B[39m\u001B[38;5;241m.\u001B[39mstep_size\n\u001B[0;32m--> 199\u001B[0m     z_new, r_new, z_grads, potential_energy \u001B[38;5;241m=\u001B[39m \u001B[43mvelocity_verlet\u001B[49m\u001B[43m(\u001B[49m\n\u001B[1;32m    200\u001B[0m \u001B[43m        \u001B[49m\u001B[43mz\u001B[49m\u001B[43m,\u001B[49m\n\u001B[1;32m    201\u001B[0m \u001B[43m        \u001B[49m\u001B[43mr\u001B[49m\u001B[43m,\u001B[49m\n\u001B[1;32m    202\u001B[0m \u001B[43m        \u001B[49m\u001B[38;5;28;43mself\u001B[39;49m\u001B[38;5;241;43m.\u001B[39;49m\u001B[43mpotential_fn\u001B[49m\u001B[43m,\u001B[49m\n\u001B[1;32m    203\u001B[0m \u001B[43m        \u001B[49m\u001B[38;5;28;43mself\u001B[39;49m\u001B[38;5;241;43m.\u001B[39;49m\u001B[43mmass_matrix_adapter\u001B[49m\u001B[38;5;241;43m.\u001B[39;49m\u001B[43mkinetic_grad\u001B[49m\u001B[43m,\u001B[49m\n\u001B[1;32m    204\u001B[0m \u001B[43m        \u001B[49m\u001B[43mstep_size\u001B[49m\u001B[43m,\u001B[49m\n\u001B[1;32m    205\u001B[0m \u001B[43m        \u001B[49m\u001B[43mz_grads\u001B[49m\u001B[38;5;241;43m=\u001B[39;49m\u001B[43mz_grads\u001B[49m\u001B[43m,\u001B[49m\n\u001B[1;32m    206\u001B[0m \u001B[43m    \u001B[49m\u001B[43m)\u001B[49m\n\u001B[1;32m    207\u001B[0m     r_new_unscaled \u001B[38;5;241m=\u001B[39m \u001B[38;5;28mself\u001B[39m\u001B[38;5;241m.\u001B[39mmass_matrix_adapter\u001B[38;5;241m.\u001B[39munscale(r_new)\n\u001B[1;32m    208\u001B[0m     energy_new \u001B[38;5;241m=\u001B[39m potential_energy \u001B[38;5;241m+\u001B[39m \u001B[38;5;28mself\u001B[39m\u001B[38;5;241m.\u001B[39m_kinetic_energy(r_new_unscaled)\n",
      "File \u001B[0;32m~/matteo/matteo/unimi/tesi_master/code/my_env/lib/python3.8/site-packages/pyro/ops/integrator.py:39\u001B[0m, in \u001B[0;36mvelocity_verlet\u001B[0;34m(z, r, potential_fn, kinetic_grad, step_size, num_steps, z_grads)\u001B[0m\n\u001B[1;32m     37\u001B[0m r_next \u001B[38;5;241m=\u001B[39m r\u001B[38;5;241m.\u001B[39mcopy()\n\u001B[1;32m     38\u001B[0m \u001B[38;5;28;01mfor\u001B[39;00m _ \u001B[38;5;129;01min\u001B[39;00m \u001B[38;5;28mrange\u001B[39m(num_steps):\n\u001B[0;32m---> 39\u001B[0m     z_next, r_next, z_grads, potential_energy \u001B[38;5;241m=\u001B[39m \u001B[43m_single_step_verlet\u001B[49m\u001B[43m(\u001B[49m\n\u001B[1;32m     40\u001B[0m \u001B[43m        \u001B[49m\u001B[43mz_next\u001B[49m\u001B[43m,\u001B[49m\u001B[43m \u001B[49m\u001B[43mr_next\u001B[49m\u001B[43m,\u001B[49m\u001B[43m \u001B[49m\u001B[43mpotential_fn\u001B[49m\u001B[43m,\u001B[49m\u001B[43m \u001B[49m\u001B[43mkinetic_grad\u001B[49m\u001B[43m,\u001B[49m\u001B[43m \u001B[49m\u001B[43mstep_size\u001B[49m\u001B[43m,\u001B[49m\u001B[43m \u001B[49m\u001B[43mz_grads\u001B[49m\n\u001B[1;32m     41\u001B[0m \u001B[43m    \u001B[49m\u001B[43m)\u001B[49m\n\u001B[1;32m     42\u001B[0m \u001B[38;5;28;01mreturn\u001B[39;00m z_next, r_next, z_grads, potential_energy\n",
      "File \u001B[0;32m~/matteo/matteo/unimi/tesi_master/code/my_env/lib/python3.8/site-packages/pyro/ops/integrator.py:61\u001B[0m, in \u001B[0;36m_single_step_verlet\u001B[0;34m(z, r, potential_fn, kinetic_grad, step_size, z_grads)\u001B[0m\n\u001B[1;32m     58\u001B[0m \u001B[38;5;28;01mfor\u001B[39;00m site_name \u001B[38;5;129;01min\u001B[39;00m z:\n\u001B[1;32m     59\u001B[0m     z[site_name] \u001B[38;5;241m=\u001B[39m z[site_name] \u001B[38;5;241m+\u001B[39m step_size \u001B[38;5;241m*\u001B[39m r_grads[site_name]  \u001B[38;5;66;03m# z(n+1)\u001B[39;00m\n\u001B[0;32m---> 61\u001B[0m z_grads, potential_energy \u001B[38;5;241m=\u001B[39m \u001B[43mpotential_grad\u001B[49m\u001B[43m(\u001B[49m\u001B[43mpotential_fn\u001B[49m\u001B[43m,\u001B[49m\u001B[43m \u001B[49m\u001B[43mz\u001B[49m\u001B[43m)\u001B[49m\n\u001B[1;32m     62\u001B[0m \u001B[38;5;28;01mfor\u001B[39;00m site_name \u001B[38;5;129;01min\u001B[39;00m r:\n\u001B[1;32m     63\u001B[0m     r[site_name] \u001B[38;5;241m=\u001B[39m r[site_name] \u001B[38;5;241m+\u001B[39m \u001B[38;5;241m0.5\u001B[39m \u001B[38;5;241m*\u001B[39m step_size \u001B[38;5;241m*\u001B[39m (\u001B[38;5;241m-\u001B[39mz_grads[site_name])  \u001B[38;5;66;03m# r(n+1)\u001B[39;00m\n",
      "File \u001B[0;32m~/matteo/matteo/unimi/tesi_master/code/my_env/lib/python3.8/site-packages/pyro/ops/integrator.py:83\u001B[0m, in \u001B[0;36mpotential_grad\u001B[0;34m(potential_fn, z)\u001B[0m\n\u001B[1;32m     81\u001B[0m     node\u001B[38;5;241m.\u001B[39mrequires_grad_(\u001B[38;5;28;01mTrue\u001B[39;00m)\n\u001B[1;32m     82\u001B[0m \u001B[38;5;28;01mtry\u001B[39;00m:\n\u001B[0;32m---> 83\u001B[0m     potential_energy \u001B[38;5;241m=\u001B[39m \u001B[43mpotential_fn\u001B[49m\u001B[43m(\u001B[49m\u001B[43mz\u001B[49m\u001B[43m)\u001B[49m\n\u001B[1;32m     84\u001B[0m \u001B[38;5;66;03m# handle exceptions as defined in the exception registry\u001B[39;00m\n\u001B[1;32m     85\u001B[0m \u001B[38;5;28;01mexcept\u001B[39;00m \u001B[38;5;167;01mException\u001B[39;00m \u001B[38;5;28;01mas\u001B[39;00m e:\n",
      "File \u001B[0;32m~/matteo/matteo/unimi/tesi_master/code/my_env/lib/python3.8/site-packages/pyro/infer/mcmc/util.py:281\u001B[0m, in \u001B[0;36m_PEMaker._potential_fn\u001B[0;34m(self, params)\u001B[0m\n\u001B[1;32m    277\u001B[0m cond_model \u001B[38;5;241m=\u001B[39m poutine\u001B[38;5;241m.\u001B[39mcondition(\u001B[38;5;28mself\u001B[39m\u001B[38;5;241m.\u001B[39mmodel, params_constrained)\n\u001B[1;32m    278\u001B[0m model_trace \u001B[38;5;241m=\u001B[39m poutine\u001B[38;5;241m.\u001B[39mtrace(cond_model)\u001B[38;5;241m.\u001B[39mget_trace(\n\u001B[1;32m    279\u001B[0m     \u001B[38;5;241m*\u001B[39m\u001B[38;5;28mself\u001B[39m\u001B[38;5;241m.\u001B[39mmodel_args, \u001B[38;5;241m*\u001B[39m\u001B[38;5;241m*\u001B[39m\u001B[38;5;28mself\u001B[39m\u001B[38;5;241m.\u001B[39mmodel_kwargs\n\u001B[1;32m    280\u001B[0m )\n\u001B[0;32m--> 281\u001B[0m log_joint \u001B[38;5;241m=\u001B[39m \u001B[38;5;28;43mself\u001B[39;49m\u001B[38;5;241;43m.\u001B[39;49m\u001B[43mtrace_prob_evaluator\u001B[49m\u001B[38;5;241;43m.\u001B[39;49m\u001B[43mlog_prob\u001B[49m\u001B[43m(\u001B[49m\u001B[43mmodel_trace\u001B[49m\u001B[43m)\u001B[49m\n\u001B[1;32m    282\u001B[0m \u001B[38;5;28;01mfor\u001B[39;00m name, t \u001B[38;5;129;01min\u001B[39;00m \u001B[38;5;28mself\u001B[39m\u001B[38;5;241m.\u001B[39mtransforms\u001B[38;5;241m.\u001B[39mitems():\n\u001B[1;32m    283\u001B[0m     log_joint \u001B[38;5;241m=\u001B[39m log_joint \u001B[38;5;241m-\u001B[39m torch\u001B[38;5;241m.\u001B[39msum(\n\u001B[1;32m    284\u001B[0m         t\u001B[38;5;241m.\u001B[39mlog_abs_det_jacobian(params_constrained[name], params[name])\n\u001B[1;32m    285\u001B[0m     )\n",
      "File \u001B[0;32m~/matteo/matteo/unimi/tesi_master/code/my_env/lib/python3.8/site-packages/pyro/infer/mcmc/util.py:238\u001B[0m, in \u001B[0;36mTraceEinsumEvaluator.log_prob\u001B[0;34m(self, model_trace)\u001B[0m\n\u001B[1;32m    231\u001B[0m \u001B[38;5;124;03m\"\"\"\u001B[39;00m\n\u001B[1;32m    232\u001B[0m \u001B[38;5;124;03mReturns the log pdf of `model_trace` by appropriately handling\u001B[39;00m\n\u001B[1;32m    233\u001B[0m \u001B[38;5;124;03menumerated log prob factors.\u001B[39;00m\n\u001B[1;32m    234\u001B[0m \n\u001B[1;32m    235\u001B[0m \u001B[38;5;124;03m:return: log pdf of the trace.\u001B[39;00m\n\u001B[1;32m    236\u001B[0m \u001B[38;5;124;03m\"\"\"\u001B[39;00m\n\u001B[1;32m    237\u001B[0m \u001B[38;5;28;01mif\u001B[39;00m \u001B[38;5;129;01mnot\u001B[39;00m \u001B[38;5;28mself\u001B[39m\u001B[38;5;241m.\u001B[39mhas_enumerable_sites:\n\u001B[0;32m--> 238\u001B[0m     \u001B[38;5;28;01mreturn\u001B[39;00m \u001B[43mmodel_trace\u001B[49m\u001B[38;5;241;43m.\u001B[39;49m\u001B[43mlog_prob_sum\u001B[49m\u001B[43m(\u001B[49m\u001B[43m)\u001B[49m\n\u001B[1;32m    239\u001B[0m log_probs \u001B[38;5;241m=\u001B[39m \u001B[38;5;28mself\u001B[39m\u001B[38;5;241m.\u001B[39m_get_log_factors(model_trace)\n\u001B[1;32m    240\u001B[0m \u001B[38;5;28;01mwith\u001B[39;00m shared_intermediates() \u001B[38;5;28;01mas\u001B[39;00m cache:\n",
      "File \u001B[0;32m~/matteo/matteo/unimi/tesi_master/code/my_env/lib/python3.8/site-packages/pyro/poutine/trace_struct.py:196\u001B[0m, in \u001B[0;36mTrace.log_prob_sum\u001B[0;34m(self, site_filter)\u001B[0m\n\u001B[1;32m    194\u001B[0m \u001B[38;5;28;01melse\u001B[39;00m:\n\u001B[1;32m    195\u001B[0m     \u001B[38;5;28;01mtry\u001B[39;00m:\n\u001B[0;32m--> 196\u001B[0m         log_p \u001B[38;5;241m=\u001B[39m \u001B[43msite\u001B[49m\u001B[43m[\u001B[49m\u001B[38;5;124;43m\"\u001B[39;49m\u001B[38;5;124;43mfn\u001B[39;49m\u001B[38;5;124;43m\"\u001B[39;49m\u001B[43m]\u001B[49m\u001B[38;5;241;43m.\u001B[39;49m\u001B[43mlog_prob\u001B[49m\u001B[43m(\u001B[49m\n\u001B[1;32m    197\u001B[0m \u001B[43m            \u001B[49m\u001B[43msite\u001B[49m\u001B[43m[\u001B[49m\u001B[38;5;124;43m\"\u001B[39;49m\u001B[38;5;124;43mvalue\u001B[39;49m\u001B[38;5;124;43m\"\u001B[39;49m\u001B[43m]\u001B[49m\u001B[43m,\u001B[49m\u001B[43m \u001B[49m\u001B[38;5;241;43m*\u001B[39;49m\u001B[43msite\u001B[49m\u001B[43m[\u001B[49m\u001B[38;5;124;43m\"\u001B[39;49m\u001B[38;5;124;43margs\u001B[39;49m\u001B[38;5;124;43m\"\u001B[39;49m\u001B[43m]\u001B[49m\u001B[43m,\u001B[49m\u001B[43m \u001B[49m\u001B[38;5;241;43m*\u001B[39;49m\u001B[38;5;241;43m*\u001B[39;49m\u001B[43msite\u001B[49m\u001B[43m[\u001B[49m\u001B[38;5;124;43m\"\u001B[39;49m\u001B[38;5;124;43mkwargs\u001B[39;49m\u001B[38;5;124;43m\"\u001B[39;49m\u001B[43m]\u001B[49m\n\u001B[1;32m    198\u001B[0m \u001B[43m        \u001B[49m\u001B[43m)\u001B[49m\n\u001B[1;32m    199\u001B[0m     \u001B[38;5;28;01mexcept\u001B[39;00m \u001B[38;5;167;01mValueError\u001B[39;00m \u001B[38;5;28;01mas\u001B[39;00m e:\n\u001B[1;32m    200\u001B[0m         _, exc_value, traceback \u001B[38;5;241m=\u001B[39m sys\u001B[38;5;241m.\u001B[39mexc_info()\n",
      "File \u001B[0;32m~/matteo/matteo/unimi/tesi_master/code/my_env/lib/python3.8/site-packages/torch/distributions/multinomial.py:131\u001B[0m, in \u001B[0;36mMultinomial.log_prob\u001B[0;34m(self, value)\u001B[0m\n\u001B[1;32m    129\u001B[0m log_factorial_xs \u001B[38;5;241m=\u001B[39m torch\u001B[38;5;241m.\u001B[39mlgamma(value \u001B[38;5;241m+\u001B[39m \u001B[38;5;241m1\u001B[39m)\u001B[38;5;241m.\u001B[39msum(\u001B[38;5;241m-\u001B[39m\u001B[38;5;241m1\u001B[39m)\n\u001B[1;32m    130\u001B[0m logits[(value \u001B[38;5;241m==\u001B[39m \u001B[38;5;241m0\u001B[39m) \u001B[38;5;241m&\u001B[39m (logits \u001B[38;5;241m==\u001B[39m \u001B[38;5;241m-\u001B[39minf)] \u001B[38;5;241m=\u001B[39m \u001B[38;5;241m0\u001B[39m\n\u001B[0;32m--> 131\u001B[0m log_powers \u001B[38;5;241m=\u001B[39m \u001B[43m(\u001B[49m\u001B[43mlogits\u001B[49m\u001B[43m \u001B[49m\u001B[38;5;241;43m*\u001B[39;49m\u001B[43m \u001B[49m\u001B[43mvalue\u001B[49m\u001B[43m)\u001B[49m\u001B[38;5;241;43m.\u001B[39;49m\u001B[43msum\u001B[49m\u001B[43m(\u001B[49m\u001B[38;5;241;43m-\u001B[39;49m\u001B[38;5;241;43m1\u001B[39;49m\u001B[43m)\u001B[49m\n\u001B[1;32m    132\u001B[0m \u001B[38;5;28;01mreturn\u001B[39;00m log_factorial_n \u001B[38;5;241m-\u001B[39m log_factorial_xs \u001B[38;5;241m+\u001B[39m log_powers\n",
      "\u001B[0;31mKeyboardInterrupt\u001B[0m: "
     ]
    }
   ],
   "source": [
    "# categorical/multinomial distribution\n",
    "\n",
    "# uniform prior\n",
    "prior_counts = torch.ones((2,2))\n",
    "\n",
    "\n",
    "#model\n",
    "def model(data):\n",
    "    prior = pyro.sample(\"prior\", dist.Dirichlet(prior_counts))\n",
    "    total_counts = int(data.sum())\n",
    "    pyro.sample(\"likelihood\", dist.Multinomial(total_counts, prior), obs=data)\n",
    "\n",
    "\n",
    "nuts_kernel = NUTS(model)\n",
    "num_samples, warmup_steps = (300, 200)\n",
    "\n",
    "mcmc = MCMC(nuts_kernel, num_samples=num_samples, warmup_steps=warmup_steps, disable_progbar=True)\n",
    "all_means = []\n",
    "\n",
    "# sampling\n",
    "for i in range(len(counter)):\n",
    "    mcmc.run(counter[i])\n",
    "    hmc_samples = {k: v.detach().cpu().numpy()\n",
    "                   for k, v in mcmc.get_samples().items()}\n",
    "    means = hmc_samples['prior'].mean(axis=0)\n",
    "    stds = hmc_samples['prior'].std(axis=0)\n",
    "    print('observation: ', data_np[i])\n",
    "    print('probabilities: ', means)\n",
    "    all_means.append(means)"
   ]
  },
  {
   "cell_type": "code",
   "execution_count": null,
   "metadata": {},
   "outputs": [],
   "source": []
  },
  {
   "cell_type": "markdown",
   "source": [
    "## Rational agent discretisation"
   ],
   "metadata": {
    "collapsed": false
   }
  },
  {
   "cell_type": "code",
   "execution_count": null,
   "outputs": [],
   "source": [
    "valid_subjects = extract_correct_csv.extract_only_valid_subject()\n",
    "len(valid_subjects)"
   ],
   "metadata": {
    "collapsed": false
   }
  },
  {
   "cell_type": "code",
   "execution_count": null,
   "metadata": {},
   "outputs": [],
   "source": [
    "total_array_simulated = np.load('output/pyro/complete_rational/total.npy',allow_pickle=True)\n",
    "total_array_simulated"
   ]
  },
  {
   "cell_type": "code",
   "execution_count": null,
   "outputs": [],
   "source": [
    "values = np.array([0, 0.2, 0.4, 0.6, 0.8, 1])\n",
    "discretized_data = np.digitize(total_array_simulated, values)\n",
    "print(discretized_data.shape)\n",
    "\n",
    "\n",
    "df_global = pd.DataFrame(columns=['Subject', 'Rating rational', 'Rating real'])\n",
    "\n",
    "for sub in valid_subjects:\n",
    "    string_sub = extract_correct_csv.read_correct_subject_csv(sub)\n",
    "    df_sub = pd.read_csv('data/newLookAtMe/newLookAtMe'+string_sub+'.csv')\n",
    "    df_sub = df_sub[16:]\n",
    "    tmp_df = pd.DataFrame({'Subject': sub, 'Rating rational': discretized_data, 'Rating real': df_sub['rating']})\n",
    "    df_global = pd.concat([df_global, tmp_df])\n",
    "\n",
    "df_global = df_global.reset_index(drop=True)"
   ],
   "metadata": {
    "collapsed": false
   }
  },
  {
   "cell_type": "code",
   "execution_count": null,
   "outputs": [],
   "source": [
    "# useless up to now\n",
    "'''df_global = df_global.groupby('Subject', as_index=False).agg({'Rating rational': lambda x: x.tolist(), 'Rating real': lambda x: x.tolist()})\n",
    "df_global['Rating rational'] = df_global['Rating rational'].apply(lambda x: np.array(x))\n",
    "df_global['Rating real'] = df_global['Rating real'].apply(lambda x: np.array(x))'''"
   ],
   "metadata": {
    "collapsed": false
   }
  },
  {
   "cell_type": "code",
   "execution_count": null,
   "outputs": [],
   "source": [
    "valid_subjects = df_global.Subject.unique()\n",
    "valid_subjects"
   ],
   "metadata": {
    "collapsed": false
   }
  },
  {
   "cell_type": "code",
   "execution_count": null,
   "outputs": [],
   "source": [
    "dict_results = {}\n",
    "for x in valid_subjects:\n",
    "    df_sub_ = df_global[df_global.Subject == x].dropna().drop(columns=['Subject']).reset_index(drop=True)\n",
    "    df_sub_['Rating rational'] = df_sub_['Rating rational'].astype(float)\n",
    "    result = intraclass_correlation(df_sub_).value\n",
    "    dict_results[x] = result\n",
    "\n",
    "dict_results\n"
   ],
   "metadata": {
    "collapsed": false
   }
  },
  {
   "cell_type": "code",
   "execution_count": null,
   "outputs": [],
   "source": [
    "df_icc = pd.DataFrame(list(dict_results.items()), columns=['Subject', 'ICC'])\n",
    "df_icc"
   ],
   "metadata": {
    "collapsed": false
   }
  },
  {
   "cell_type": "code",
   "execution_count": null,
   "outputs": [],
   "source": [
    "path_sias = 'data/sias_score.csv'\n",
    "path_lds = 'data/lds_subjects.csv'\n",
    "\n",
    "len_sub = 6\n",
    "top_lds = anxious_subjects(path_lds, len_sub, 'top')\n",
    "bot_lds = anxious_subjects(path_lds, len_sub, 'bot')\n",
    "\n",
    "top_sias = anxious_subjects(path_sias, len_sub)\n",
    "bot_sias = anxious_subjects(path_sias, len_sub, 'bot')"
   ],
   "metadata": {
    "collapsed": false
   }
  },
  {
   "cell_type": "code",
   "execution_count": null,
   "outputs": [],
   "source": [
    "mean_top_sias = df_icc[df_icc.Subject.isin(top_sias)]['ICC'].mean()\n",
    "mean_bot_sias = df_icc[df_icc.Subject.isin(bot_sias)]['ICC'].mean()\n",
    "mean_top_lds = df_icc[df_icc.Subject.isin(top_lds)]['ICC'].mean()\n",
    "mean_bot_lds = df_icc[df_icc.Subject.isin(bot_lds)]['ICC'].mean()"
   ],
   "metadata": {
    "collapsed": false
   }
  },
  {
   "cell_type": "code",
   "execution_count": null,
   "outputs": [],
   "source": [
    "print(f'Average of the first {len_sub} subjects with higher sias score: {round(mean_top_sias, 2)}')\n",
    "print(f'Average of the first {len_sub} subjects with lower sias score: {round(mean_bot_sias, 2)}')\n",
    "print(f'Average of the first {len_sub} subjects with higher linear deviation score: {round(mean_top_lds,2)}')\n",
    "print(f'Average of the first {len_sub} subjects with lower linear deviation score: {round(mean_bot_lds, 2)}')"
   ],
   "metadata": {
    "collapsed": false
   }
  },
  {
   "cell_type": "code",
   "execution_count": null,
   "outputs": [],
   "source": [],
   "metadata": {
    "collapsed": false
   }
  }
 ],
 "metadata": {
  "kernelspec": {
   "display_name": "Python 3 (ipykernel)",
   "language": "python",
   "name": "python3"
  },
  "language_info": {
   "codemirror_mode": {
    "name": "ipython",
    "version": 3
   },
   "file_extension": ".py",
   "mimetype": "text/x-python",
   "name": "python",
   "nbconvert_exporter": "python",
   "pygments_lexer": "ipython3",
   "version": "3.8.10"
  }
 },
 "nbformat": 4,
 "nbformat_minor": 1
}
