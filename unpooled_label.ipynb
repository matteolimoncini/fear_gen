{
 "cells": [
  {
   "cell_type": "code",
   "execution_count": 1,
   "outputs": [],
   "source": [
    "import logging\n",
    "import os.path\n",
    "\n",
    "import numpy as np\n",
    "import pymc as pm\n",
    "import arviz as az\n",
    "import aesara.tensor as at\n",
    "from sklearn.metrics import accuracy_score\n",
    "from sklearn.preprocessing import StandardScaler\n",
    "from scipy import stats\n",
    "import pandas as pd\n",
    "import warnings\n",
    "import extract_correct_csv"
   ],
   "metadata": {
    "collapsed": false
   }
  },
  {
   "cell_type": "code",
   "execution_count": 2,
   "metadata": {
    "collapsed": true
   },
   "outputs": [],
   "source": [
    "\n",
    "warnings.simplefilter(action=\"ignore\", category=FutureWarning)\n",
    "warnings.simplefilter(action=\"ignore\", category=RuntimeWarning)\n",
    "\n",
    "scaler = StandardScaler()\n",
    "\n",
    "valid_subject = extract_correct_csv.extract_only_valid_subject()\n",
    "valid_k_list = list(range(1, 10))\n",
    "\n",
    "k=5\n",
    "i =2\n",
    "num_trials_to_remove = 48\n",
    "\n",
    "string_subject = extract_correct_csv.read_correct_subject_csv(i)\n",
    "csv_ = 'data/LookAtMe_0' + string_subject + '.csv'\n",
    "# csv_ = '/home/paolo/matteo/matteo/unimi/tesi_master/code/osfstorage-archive/behavior/LookAtMe_045.csv'\n",
    "global_data = pd.read_csv(csv_, sep='\\t')\n",
    "y = np.array(list([int(d > 2) for d in global_data['rating']]))\n",
    "e_labels = y[:, np.newaxis]  # rating > 2\n",
    "e_labels = e_labels[num_trials_to_remove:]\n",
    "\n",
    "\n",
    "TRIAL = 160\n",
    "\n",
    "hr = pd.read_csv('data/features/hr/'+str(i)+'.csv')\n",
    "hr = hr[num_trials_to_remove:]\n",
    "\n",
    "eda = pd.read_csv('data/features/eda/' + str(i) + '.csv')\n",
    "eda = eda[num_trials_to_remove:]\n",
    "\n",
    "pupil = pd.read_csv('data/features/pupil/' + str(i) + '.csv')\n",
    "pupil = pupil[num_trials_to_remove:]\n"
   ]
  },
  {
   "cell_type": "code",
   "execution_count": 3,
   "outputs": [
    {
     "data": {
      "text/plain": "112"
     },
     "execution_count": 3,
     "metadata": {},
     "output_type": "execute_result"
    }
   ],
   "source": [
    "TRIAL_DEF = TRIAL - num_trials_to_remove\n",
    "TRIAL_DEF"
   ],
   "metadata": {
    "collapsed": false
   }
  },
  {
   "cell_type": "code",
   "execution_count": 4,
   "outputs": [
    {
     "data": {
      "text/plain": "84"
     },
     "execution_count": 4,
     "metadata": {},
     "output_type": "execute_result"
    }
   ],
   "source": [
    "#TRAIN_PERC = 0.75\n",
    "TEST_PERC = 0.25            #1-TRAIN_PERC\n",
    "N_train = int(len(pupil) * (1-TEST_PERC))\n",
    "N_train"
   ],
   "metadata": {
    "collapsed": false
   }
  },
  {
   "cell_type": "code",
   "execution_count": 5,
   "outputs": [],
   "source": [
    "pupil_train = pupil[:N_train]\n",
    "hr_train = hr[:N_train]\n",
    "eda_train = eda[:N_train]\n",
    "e_labels_train = e_labels[:N_train]"
   ],
   "metadata": {
    "collapsed": false
   }
  },
  {
   "cell_type": "code",
   "execution_count": 6,
   "outputs": [],
   "source": [
    "N_pupil = pupil_train.shape[0]\n",
    "D_pupil = pupil_train.shape[1]\n",
    "\n",
    "N_hr = hr_train.shape[0]\n",
    "D_hr = hr_train.shape[1]\n",
    "\n",
    "N_eda = eda_train.shape[0]\n",
    "D_eda = eda_train.shape[1]\n",
    "\n",
    "N_e = e_labels_train.shape[0]\n",
    "D_e = e_labels_train.shape[1]\n",
    "\n",
    "K = k"
   ],
   "metadata": {
    "collapsed": false
   }
  },
  {
   "cell_type": "code",
   "execution_count": 7,
   "outputs": [
    {
     "name": "stdout",
     "output_type": "stream",
     "text": [
      "84 5\n",
      "84 60\n",
      "84 60\n",
      "84 1\n"
     ]
    }
   ],
   "source": [
    "print(N_pupil, D_pupil)\n",
    "print(N_hr, D_hr)\n",
    "print(N_eda, D_eda)\n",
    "print(N_e, D_e)"
   ],
   "metadata": {
    "collapsed": false
   }
  },
  {
   "cell_type": "code",
   "execution_count": 7,
   "outputs": [],
   "source": [],
   "metadata": {
    "collapsed": false
   }
  },
  {
   "cell_type": "code",
   "execution_count": 8,
   "outputs": [],
   "source": [
    "with pm.Model() as sPPCA:\n",
    "    sPPCA.add_coord('physio_n', np.arange(N_hr), mutable=True)\n",
    "    sPPCA.add_coord('physio_d', np.arange(D_hr), mutable=False)\n",
    "    sPPCA.add_coord('e_label_d', np.arange(D_e), mutable=True)\n",
    "    sPPCA.add_coord('K', np.arange(K), mutable=True)\n",
    "    # dati osservabili\n",
    "    hr_data = pm.MutableData(\"hr_data\", hr_train.T, dims=['physio_d', 'physio_n'])\n",
    "    '''pupil_data = pm.MutableData(\"pupil_data\", pupil_train.T)\n",
    "    eda_data = pm.MutableData(\"eda_data\", eda_train.T)'''\n",
    "\n",
    "    #e_data = pm.MutableData(\"e_data\", e_labels_train.T)\n",
    "\n",
    "    # matrici pesi\n",
    "    Whr = pm.Normal('Whr', mu=0, sigma=2.0 * 1, dims=['physio_d', 'K'])\n",
    "    '''Wpupil = pm.Normal('Wpupil', mu=at.zeros([D_pupil, K]), sigma=2.0 * at.ones([D_pupil, K]),\n",
    "                       shape=[D_pupil, K])\n",
    "\n",
    "    Weda = pm.Normal('Weda', mu=at.zeros([D_eda, K]), sigma=2.0 * at.ones([D_eda, K]), shape=[D_eda, K])'''\n",
    "\n",
    "    # weight matrix for pain expectation.\n",
    "    # check mu,sigma,shape\n",
    "    We = pm.Normal('W_e', mu=0, sigma=2.0 * 1, dims=['e_label_d', 'K'])\n",
    "\n",
    "    # latent space\n",
    "    c = pm.Normal('c', mu=0, sigma=1, dims=['physio_n', 'K'])\n",
    "\n",
    "    # dati dell'hrv interpretati come una gaussiana\n",
    "    mu_hr = pm.Normal('mu_hr', Whr.dot(c.T), 1, dims=['physio_d', 'physio_n'])  # hyperprior 1\n",
    "    sigma_hr = pm.Exponential('sigma_hr', 1)  # hyperprior 2\n",
    "    x_hr = pm.Normal('x_hr', mu=mu_hr, sigma=sigma_hr, observed=hr_data, dims=['physio_d', 'physio_n'])\n",
    "\n",
    "    # dati della dilatazione pupille interpretati come una gaussiana\n",
    "    '''mu_pupil = pm.Normal('mu_pupil', Wpupil.dot(c.T), at.ones([D_pupil, N_pupil]))  # hyperprior 1\n",
    "    sigma_pupil = pm.Exponential('sigma_pupil', at.ones([D_pupil, N_pupil]))  # hyperprior 2\n",
    "    x_pupil = pm.Normal('x_pupil', mu=mu_pupil, sigma=sigma_pupil, shape=[D_pupil, N_pupil],\n",
    "                        observed=pupil_data)\n",
    "\n",
    "    # eda\n",
    "    mu_eda = pm.Normal('mu_eda', Weda.dot(c.T), at.ones([D_eda, N_eda]))  # hyperprior 1\n",
    "    sigma_eda = pm.Exponential('sigma_eda', at.ones([D_eda, N_eda]))  # hyperprior 2\n",
    "    x_eda = pm.Normal('x_eda', mu=mu_eda, sigma=sigma_eda, shape=[D_eda, N_eda], observed=eda_data)'''\n",
    "\n",
    "    # pain expectation. ciò che dovremmo inferire dato c\n",
    "    # due strade: binary o multiclass (1-4)\n",
    "    # p = probability of success?\n",
    "    x_e = pm.Bernoulli('x_e', p=pm.math.sigmoid(We.dot(c.T)), dims=['e_label_d', 'physio_n'], observed=e_labels_train.T)\n",
    "\n",
    "    # x_hr = pm.Bernoulli('x_hr', p=pm.math.sigmoid(Whr.dot(c.T)), shape=[D_hr, N_hr], observed=hr_data)\n",
    "    # x_eda = pm.Bernoulli('x_eda', p=pm.math.sigmoid(Weda.dot(c.T)), shape=[D_eda, N_eda], observed=eda_data)"
   ],
   "metadata": {
    "collapsed": false
   }
  },
  {
   "cell_type": "code",
   "execution_count": 9,
   "outputs": [
    {
     "data": {
      "text/plain": "'unpooled_model.pdf'"
     },
     "execution_count": 9,
     "metadata": {},
     "output_type": "execute_result"
    }
   ],
   "source": [
    "gv = pm.model_to_graphviz(sPPCA)\n",
    "gv.view('unpooled_model')"
   ],
   "metadata": {
    "collapsed": false
   }
  },
  {
   "cell_type": "code",
   "execution_count": 10,
   "outputs": [
    {
     "data": {
      "text/plain": "<IPython.core.display.HTML object>",
      "text/html": "\n<style>\n    /* Turns off some styling */\n    progress {\n        /* gets rid of default border in Firefox and Opera. */\n        border: none;\n        /* Needs to be in here for Safari polyfill so background images work as expected. */\n        background-size: auto;\n    }\n    progress:not([value]), progress:not([value])::-webkit-progress-bar {\n        background: repeating-linear-gradient(45deg, #7e7e7e, #7e7e7e 10px, #5c5c5c 10px, #5c5c5c 20px);\n    }\n    .progress-bar-interrupted, .progress-bar-interrupted::-webkit-progress-bar {\n        background: #F44336;\n    }\n</style>\n"
     },
     "metadata": {},
     "output_type": "display_data"
    },
    {
     "data": {
      "text/plain": "<IPython.core.display.HTML object>",
      "text/html": "\n    <div>\n      <progress value='0' class='' max='1000' style='width:300px; height:20px; vertical-align: middle;'></progress>\n      \n    </div>\n    "
     },
     "metadata": {},
     "output_type": "display_data"
    },
    {
     "name": "stderr",
     "output_type": "stream",
     "text": [
      "Finished [100%]: Average Loss = 1.6886e+10\n"
     ]
    }
   ],
   "source": [
    "with sPPCA:\n",
    "    approx = pm.fit(1000, callbacks=[pm.callbacks.CheckParametersConvergence(tolerance=1e-4)])\n",
    "    trace = approx.sample(500)"
   ],
   "metadata": {
    "collapsed": false
   }
  },
  {
   "cell_type": "code",
   "execution_count": 11,
   "outputs": [
    {
     "data": {
      "text/plain": "28"
     },
     "execution_count": 11,
     "metadata": {},
     "output_type": "execute_result"
    }
   ],
   "source": [
    "pupil_test = pupil[N_train:].reset_index().drop(columns=['index'])\n",
    "hr_test = hr[N_train:].reset_index().drop(columns=['index'])\n",
    "eda_test = eda[N_train:].reset_index().drop(columns=['index'])\n",
    "e_test = e_labels[N_train:]\n",
    "len(hr_test)"
   ],
   "metadata": {
    "collapsed": false
   }
  },
  {
   "cell_type": "code",
   "execution_count": 12,
   "outputs": [
    {
     "name": "stderr",
     "output_type": "stream",
     "text": [
      "Sampling: [x_e]\n"
     ]
    },
    {
     "data": {
      "text/plain": "<IPython.core.display.HTML object>",
      "text/html": "\n<style>\n    /* Turns off some styling */\n    progress {\n        /* gets rid of default border in Firefox and Opera. */\n        border: none;\n        /* Needs to be in here for Safari polyfill so background images work as expected. */\n        background-size: auto;\n    }\n    progress:not([value]), progress:not([value])::-webkit-progress-bar {\n        background: repeating-linear-gradient(45deg, #7e7e7e, #7e7e7e 10px, #5c5c5c 10px, #5c5c5c 20px);\n    }\n    .progress-bar-interrupted, .progress-bar-interrupted::-webkit-progress-bar {\n        background: #F44336;\n    }\n</style>\n"
     },
     "metadata": {},
     "output_type": "display_data"
    },
    {
     "data": {
      "text/plain": "<IPython.core.display.HTML object>",
      "text/html": "\n    <div>\n      <progress value='0' class='' max='500' style='width:300px; height:20px; vertical-align: middle;'></progress>\n      \n    </div>\n    "
     },
     "metadata": {},
     "output_type": "display_data"
    }
   ],
   "source": [
    "with sPPCA:\n",
    "    posterior_pred = pm.sample_posterior_predictive(\n",
    "        trace,var_names=[\"x_e\"], random_seed=123)"
   ],
   "metadata": {
    "collapsed": false
   }
  },
  {
   "cell_type": "code",
   "execution_count": 13,
   "outputs": [
    {
     "data": {
      "text/plain": "(1, 500, 1, 84)"
     },
     "execution_count": 13,
     "metadata": {},
     "output_type": "execute_result"
    }
   ],
   "source": [
    "posterior_pred.posterior_predictive['x_e'].shape"
   ],
   "metadata": {
    "collapsed": false
   }
  },
  {
   "cell_type": "code",
   "execution_count": 14,
   "outputs": [
    {
     "name": "stderr",
     "output_type": "stream",
     "text": [
      "Sampling: [c, x_e]\n"
     ]
    },
    {
     "data": {
      "text/plain": "<IPython.core.display.HTML object>",
      "text/html": "\n<style>\n    /* Turns off some styling */\n    progress {\n        /* gets rid of default border in Firefox and Opera. */\n        border: none;\n        /* Needs to be in here for Safari polyfill so background images work as expected. */\n        background-size: auto;\n    }\n    progress:not([value]), progress:not([value])::-webkit-progress-bar {\n        background: repeating-linear-gradient(45deg, #7e7e7e, #7e7e7e 10px, #5c5c5c 10px, #5c5c5c 20px);\n    }\n    .progress-bar-interrupted, .progress-bar-interrupted::-webkit-progress-bar {\n        background: #F44336;\n    }\n</style>\n"
     },
     "metadata": {},
     "output_type": "display_data"
    },
    {
     "data": {
      "text/plain": "<IPython.core.display.HTML object>",
      "text/html": "\n    <div>\n      <progress value='0' class='' max='500' style='width:300px; height:20px; vertical-align: middle;'></progress>\n      \n    </div>\n    "
     },
     "metadata": {},
     "output_type": "display_data"
    }
   ],
   "source": [
    "# az.plot_trace(trace);\n",
    "with sPPCA:\n",
    "    # update values of predictors:\n",
    "    sPPCA.set_data(\"hr_data\", hr_test.T, coords={'physio_n': range(hr_test.shape[0])})\n",
    "    '''sPPCA.set_data(\"pupil_data\", pupil_test, coords={'obs_id': range(len(pupil_test))})\n",
    "    sPPCA.set_data(\"eda_data\", eda_test, coords={'obs_id': range(len(eda_test))})'''\n",
    "    # use the updated values and predict outcomes and probabilities:\n",
    "\n",
    "    posterior_predictive = pm.sample_posterior_predictive(\n",
    "        trace,var_names=[\"x_e\"], random_seed=123, predictions=True)"
   ],
   "metadata": {
    "collapsed": false
   }
  },
  {
   "cell_type": "code",
   "execution_count": 15,
   "outputs": [
    {
     "data": {
      "text/plain": "(1, 500, 1, 28)"
     },
     "execution_count": 15,
     "metadata": {},
     "output_type": "execute_result"
    }
   ],
   "source": [
    "e_pred = posterior_predictive.predictions['x_e']\n",
    "e_pred_mode = np.squeeze(stats.mode(e_pred[0], keepdims=False)[0])[:, np.newaxis]\n",
    "e_pred.shape"
   ],
   "metadata": {
    "collapsed": false
   }
  },
  {
   "cell_type": "code",
   "execution_count": 16,
   "outputs": [
    {
     "data": {
      "text/plain": "array([[1],\n       [0],\n       [0],\n       [0],\n       [1],\n       [1],\n       [0],\n       [0],\n       [0],\n       [0],\n       [1],\n       [0],\n       [0],\n       [1],\n       [0],\n       [0],\n       [0],\n       [0],\n       [1],\n       [0],\n       [0],\n       [1],\n       [0],\n       [0],\n       [0],\n       [0],\n       [0],\n       [1]])"
     },
     "execution_count": 16,
     "metadata": {},
     "output_type": "execute_result"
    }
   ],
   "source": [
    "e_test"
   ],
   "metadata": {
    "collapsed": false
   }
  },
  {
   "cell_type": "code",
   "execution_count": 17,
   "outputs": [
    {
     "name": "stdout",
     "output_type": "stream",
     "text": [
      "\n",
      "\tTrain Accuracy Pain Expectation: 0.5357142857142857\n",
      " \n"
     ]
    }
   ],
   "source": [
    "train_accuracy_exp = accuracy_score(e_test, e_pred_mode)\n",
    "print('\\n\\tTrain Accuracy Pain Expectation: ' + str(train_accuracy_exp))\n",
    "print(' ')"
   ],
   "metadata": {
    "collapsed": false
   }
  },
  {
   "cell_type": "code",
   "execution_count": null,
   "outputs": [],
   "source": [
    "eda_pred = np.squeeze(eda_pred.mean('draw', keepdims='false')[0]).to_numpy()"
   ],
   "metadata": {
    "collapsed": false
   }
  },
  {
   "cell_type": "code",
   "execution_count": null,
   "outputs": [],
   "source": [
    "edapred_ = eda_pred.T\n",
    "\n",
    "eda_ = eda.to_numpy()\n",
    "\n",
    "corrlist = []\n",
    "for i in range(112):\n",
    "    res = np.corrcoef(eda_[i], edapred_[i])[0][1]\n",
    "    corrlist.append(res)\n",
    "    print('trial '+str(i)+ ' corr: '+str(res.round(3)))"
   ],
   "metadata": {
    "collapsed": false
   }
  },
  {
   "cell_type": "code",
   "execution_count": null,
   "outputs": [],
   "source": [
    "def ccc(x, y):\n",
    "    ''' Concordance Correlation Coefficient'''\n",
    "    sxy = np.sum((x - x.mean()) * (y - y.mean())) / x.shape[0]\n",
    "    rhoc = 2 * sxy / (np.var(x) + np.var(y) + (x.mean() - y.mean()) ** 2)\n",
    "    return rhoc"
   ],
   "metadata": {
    "collapsed": false
   }
  },
  {
   "cell_type": "code",
   "execution_count": null,
   "outputs": [],
   "source": [
    "ccc(edapred_[0],eda_[0])"
   ],
   "metadata": {
    "collapsed": false
   }
  },
  {
   "cell_type": "code",
   "execution_count": null,
   "outputs": [],
   "source": [
    "eda_[0]"
   ],
   "metadata": {
    "collapsed": false
   }
  },
  {
   "cell_type": "code",
   "execution_count": null,
   "outputs": [],
   "source": [
    "edapred_[0].shape"
   ],
   "metadata": {
    "collapsed": false
   }
  },
  {
   "cell_type": "code",
   "execution_count": null,
   "outputs": [],
   "source": [
    "x=eda_[0]\n",
    "y=eda_pred[0]"
   ],
   "metadata": {
    "collapsed": false
   }
  },
  {
   "cell_type": "code",
   "execution_count": null,
   "outputs": [],
   "source": [
    "print(x.shape)\n",
    "print(y.shape)"
   ],
   "metadata": {
    "collapsed": false
   }
  },
  {
   "cell_type": "code",
   "execution_count": null,
   "outputs": [],
   "source": [
    "x- x.mean()"
   ],
   "metadata": {
    "collapsed": false
   }
  },
  {
   "cell_type": "code",
   "execution_count": null,
   "outputs": [],
   "source": [
    "y-y.mean()"
   ],
   "metadata": {
    "collapsed": false
   }
  },
  {
   "cell_type": "code",
   "execution_count": null,
   "outputs": [],
   "source": [
    "(x - x.mean()) * (y - y.mean())\n"
   ],
   "metadata": {
    "collapsed": false
   }
  },
  {
   "cell_type": "code",
   "execution_count": null,
   "outputs": [],
   "source": [
    "sxy= np.sum() / x.shape[0]"
   ],
   "metadata": {
    "collapsed": false
   }
  },
  {
   "cell_type": "code",
   "execution_count": null,
   "outputs": [],
   "source": [
    "conc = ccc(eda_[0], eda_pred[0])"
   ],
   "metadata": {
    "collapsed": false
   }
  },
  {
   "cell_type": "code",
   "execution_count": null,
   "outputs": [],
   "source": [
    "pearson_list = []\n",
    "concord_list = []\n",
    "for i in range(112):\n",
    "    pear = np.corrcoef(eda_[i], edapred_[i])[0][1]\n",
    "    conc = ccc(eda_[i], eda_pred[i])\n",
    "    pearson_list.append(pear)\n",
    "    concord_list.append(conc)\n",
    "    # print('trial ' + str(i) + ' corr: ' + str(res.round(3)))"
   ],
   "metadata": {
    "collapsed": false
   }
  },
  {
   "cell_type": "code",
   "execution_count": null,
   "outputs": [],
   "source": [
    "mean_pear = round(np.mean(pearson_list), 4)\n",
    "mean_corc = round(np.mean(concord_list), 4)"
   ],
   "metadata": {
    "collapsed": false
   }
  },
  {
   "cell_type": "code",
   "execution_count": null,
   "outputs": [],
   "source": [
    "mean_subj = round(np.mean(corrlist),4)"
   ],
   "metadata": {
    "collapsed": false
   }
  },
  {
   "cell_type": "markdown",
   "source": [
    "\n",
    "        logging.basicConfig(level=logging.INFO, filename=\"logfile\", filemode=\"a+\",\n",
    "                            format=\"%(asctime)-15s %(levelname)-8s %(message)s\")\n",
    "        logging.info(\"Mean corr coeff eda-hr using subj: \" + str(subj_) + \" \" + str(round(mean_subj, 2)) + \" script: \" +\n",
    "             os.path.basename(__file__) + \"latent space dims: \" + str(K))\n"
   ],
   "metadata": {
    "collapsed": false
   }
  }
 ],
 "metadata": {
  "kernelspec": {
   "display_name": "Python 3",
   "language": "python",
   "name": "python3"
  },
  "language_info": {
   "codemirror_mode": {
    "name": "ipython",
    "version": 2
   },
   "file_extension": ".py",
   "mimetype": "text/x-python",
   "name": "python",
   "nbconvert_exporter": "python",
   "pygments_lexer": "ipython2",
   "version": "2.7.6"
  }
 },
 "nbformat": 4,
 "nbformat_minor": 0
}
