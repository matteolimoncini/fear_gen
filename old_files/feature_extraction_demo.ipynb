{
 "cells": [
  {
   "cell_type": "code",
   "execution_count": null,
   "metadata": {
    "collapsed": true
   },
   "outputs": [],
   "source": [
    "import deepemogp.feature_extractor as feature_extractor\n",
    "import deepemogp.signal.physio as physio\n",
    "import deepemogp.signal.face as face\n",
    "import deepemogp.signal.annotation as annotation\n",
    "import deepemogp.datasets as datasets\n",
    "import deepemogp.signal.behavior as behavior\n",
    "\n",
    "# from: https://github.com/SheffieldML/GPy\n",
    "#import GPy\n",
    "# from: https://github.com/SheffieldML/PyDeepGP\n",
    "#import deepgp\n",
    "\n",
    "import pandas as pd\n",
    "import numpy as np\n"
   ]
  },
  {
   "cell_type": "code",
   "execution_count": null,
   "outputs": [],
   "source": [
    "show = False"
   ],
   "metadata": {
    "collapsed": false
   }
  },
  {
   "cell_type": "code",
   "execution_count": null,
   "outputs": [],
   "source": [
    "# definition of the feature extractors to be used later\n",
    "f2 = feature_extractor.FE('wavelet', window=(4,2))\n",
    "f3 = feature_extractor.FE('wavelet', window=(3,1))"
   ],
   "metadata": {
    "collapsed": false
   }
  },
  {
   "cell_type": "code",
   "execution_count": null,
   "outputs": [],
   "source": [
    "\n",
    "# definition of the physiological signals to be extracted\n",
    "eda = physio.EDA(f2)\n",
    "ecg  = physio.ECG(f2)\n",
    "\n",
    "pupil = behavior.PUPIL(f3)\n",
    "\n",
    "\n",
    "# definition of the emotional annotation to be extracted\n",
    "#va = annotation.VA('valence', f3)\n",
    "#ar = annotation.VA('arousal', f3)"
   ],
   "metadata": {
    "collapsed": false
   }
  },
  {
   "cell_type": "code",
   "execution_count": null,
   "outputs": [],
   "source": [
    "# extraction of the desired data from the dataset\n",
    "d = datasets.FEAR(signals={ecg, pupil,eda}, subjects={'22'})\n",
    "print(d)"
   ],
   "metadata": {
    "collapsed": false
   }
  },
  {
   "cell_type": "code",
   "execution_count": null,
   "outputs": [],
   "source": [
    "for s in d.signals:\n",
    "\t# preprocess ...\n",
    "\tif s.name == 'EDA':\n",
    "\t\ts.preprocess(show=show, new_fps=500,useNeurokit=True)\n",
    "\t\ts.feature_ext.extract_feat(s, show=show)\n",
    "\telse:\n",
    "\t\tif s.name == 'ECG':\n",
    "\t\t\tlist_hr_test = s.raw[0]['data']\n",
    "\t\t\ts.preprocess(show=show, useneurokit=True)\n",
    "\t\t\ts.feature_ext.extract_feat(s, show=show)\n",
    "\n",
    "\t\telse:\n",
    "\t\t\ts.feature_ext.extract_feat_without_preprocess(s, show=show)\n",
    "\n",
    "\t# add feature extraction for eda before preprocessing\n",
    "\t# ... and extract features from each signal type\n",
    "\n",
    "for sig in d.signals:\n",
    "\tif sig.name == 'EDA':\n",
    "\t\t#pass\n",
    "\t\teda_data = sig.features\n",
    "\tif sig.name == 'ECG':\n",
    "\t\t#pass\n",
    "\t\thr_data = sig.features\n",
    "\tif sig.name == 'PUPIL':\n",
    "\t\t# pass\n",
    "\t\tpupil_data = sig.features\n"
   ],
   "metadata": {
    "collapsed": false
   }
  },
  {
   "cell_type": "code",
   "execution_count": null,
   "outputs": [],
   "source": [
    "eda = np.array(eda_data).reshape((160, int(eda_data.shape[0] / 160 * eda_data.shape[1])))\n",
    "eda"
   ],
   "metadata": {
    "collapsed": false
   }
  },
  {
   "cell_type": "code",
   "execution_count": null,
   "outputs": [],
   "source": [
    "for sig in d.signals:\n",
    "\tif sig.name == 'EDA':\n",
    "\t\tprint(sig.preprocess.data)"
   ],
   "metadata": {
    "collapsed": false
   }
  },
  {
   "cell_type": "code",
   "execution_count": null,
   "outputs": [],
   "source": [],
   "metadata": {
    "collapsed": false
   }
  }
 ],
 "metadata": {
  "kernelspec": {
   "display_name": "Python 3",
   "language": "python",
   "name": "python3"
  },
  "language_info": {
   "codemirror_mode": {
    "name": "ipython",
    "version": 2
   },
   "file_extension": ".py",
   "mimetype": "text/x-python",
   "name": "python",
   "nbconvert_exporter": "python",
   "pygments_lexer": "ipython2",
   "version": "2.7.6"
  }
 },
 "nbformat": 4,
 "nbformat_minor": 0
}
