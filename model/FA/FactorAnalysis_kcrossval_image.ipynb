{
 "cells": [
  {
   "cell_type": "code",
   "execution_count": 1,
   "metadata": {},
   "outputs": [],
   "source": [
    "import pymc as pm\n",
    "import aesara.tensor as at\n",
    "import numpy as np\n",
    "import pandas as pd\n",
    "from numpy.random import default_rng\n",
    "from scipy import stats\n",
    "from sklearn.metrics import accuracy_score\n",
    "import csv\n",
    "import sys\n",
    "from sklearn.preprocessing import StandardScaler"
   ]
  },
  {
   "cell_type": "code",
   "execution_count": 2,
   "metadata": {},
   "outputs": [],
   "source": [
    "sys.path.append('../../')"
   ]
  },
  {
   "cell_type": "code",
   "execution_count": 3,
   "metadata": {},
   "outputs": [],
   "source": [
    "import extract_correct_csv\n",
    "import os"
   ]
  },
  {
   "cell_type": "code",
   "execution_count": 4,
   "metadata": {},
   "outputs": [],
   "source": [
    "os.chdir('..')\n",
    "os.chdir('..')"
   ]
  },
  {
   "cell_type": "code",
   "execution_count": 5,
   "metadata": {},
   "outputs": [],
   "source": [
    "scaler = StandardScaler()\n",
    "RANDOM_SEED = 31415\n",
    "rng = default_rng(RANDOM_SEED)"
   ]
  },
  {
   "cell_type": "markdown",
   "metadata": {},
   "source": [
    "all valid subjects"
   ]
  },
  {
   "cell_type": "code",
   "execution_count": 6,
   "metadata": {},
   "outputs": [],
   "source": [
    "all_subject = extract_correct_csv.extract_only_valid_subject()\n",
    "all_subject.remove(49)"
   ]
  },
  {
   "cell_type": "code",
   "execution_count": 7,
   "metadata": {},
   "outputs": [],
   "source": [
    "valid_k_list = list([2, 6, 10, 12, 15, 20])"
   ]
  },
  {
   "cell_type": "markdown",
   "metadata": {},
   "source": [
    "keep only generalization trials"
   ]
  },
  {
   "cell_type": "code",
   "execution_count": 8,
   "metadata": {},
   "outputs": [],
   "source": [
    "num_trials_to_remove = 48"
   ]
  },
  {
   "cell_type": "markdown",
   "metadata": {},
   "source": [
    "functions that creates triangular matrices"
   ]
  },
  {
   "cell_type": "code",
   "execution_count": 9,
   "metadata": {},
   "outputs": [],
   "source": [
    "def expand_packed_block_triangular(d, k, packed, diag=None, mtype=\"aesara\"):\n",
    "    # like expand_packed_triangular, but with d > k.\n",
    "    assert mtype in {\"aesara\", \"numpy\"}\n",
    "    assert d >= k\n",
    "    def set_(M, i_, v_):\n",
    "        if mtype == \"aesara\":\n",
    "            return at.set_subtensor(M[i_], v_)\n",
    "        M[i_] = v_\n",
    "        return M\n",
    "    out = at.zeros((d, k), dtype=float) if mtype == \"aesara\" else np.zeros((d, k), dtype=float)\n",
    "    if diag is None:\n",
    "        idxs = np.tril_indices(d, m=k)\n",
    "        out = set_(out, idxs, packed)\n",
    "    else:\n",
    "        idxs = np.tril_indices(d, k=-1, m=k)\n",
    "        out = set_(out, idxs, packed)\n",
    "        idxs = (np.arange(k), np.arange(k))\n",
    "        out = set_(out, idxs, diag)\n",
    "    return out"
   ]
  },
  {
   "cell_type": "code",
   "execution_count": 10,
   "metadata": {},
   "outputs": [],
   "source": [
    "def makeW(d, k, dim_names, name):\n",
    "    # make a W matrix adapted to the data shape\n",
    "    n_od = int(k * d - k * (k - 1) / 2 - k)\n",
    "    # trick: the cumulative sum of z will be positive increasing\n",
    "    z = pm.HalfNormal(\"W_z_\" + name, 1.0, dims=\"latent_columns\")\n",
    "    b = pm.HalfNormal(\"W_b_\" + name, 1.0, shape=(n_od,), dims=\"packed_dim\")\n",
    "    L = expand_packed_block_triangular(d, k, b, at.ones(k))\n",
    "    W = pm.Deterministic(name, at.dot(L, at.diag(at.extra_ops.cumsum(z))), dims=dim_names)\n",
    "    return W"
   ]
  },
  {
   "cell_type": "code",
   "execution_count": 11,
   "metadata": {},
   "outputs": [],
   "source": [
    "def my_post_predict(trace, hr_new, eda_new, pupil_new, img_new):\n",
    "    whr_ = trace.posterior['W_hr'][0]\n",
    "    weda_ = trace.posterior['W_eda'][0]\n",
    "    wpupil_ = trace.posterior['W_pupil'][0]\n",
    "    wimg_ = trace.posterior['W_img'][0]\n",
    "    we_ = trace.posterior['W_e'][0]\n",
    "\n",
    "    C_val_hr = at.dot(np.linalg.pinv(whr_), hr_new.T)\n",
    "    C_val_eda = at.dot(np.linalg.pinv(weda_), eda_new.T)\n",
    "    C_val_pupil = at.dot(np.linalg.pinv(wpupil_), pupil_new.T)\n",
    "    C_val_img = at.dot(np.linalg.pinv(wimg_),img_new.T)\n",
    "\n",
    "    val_hr = at.matmul(np.array(we_), C_val_hr.eval())\n",
    "    val_eda = at.matmul(np.array(we_), C_val_eda.eval())\n",
    "    val_pupil = at.matmul(np.array(we_), C_val_pupil.eval())\n",
    "    val_img = at.matmul(np.array(wimg_),C_val_img.eval())\n",
    "\n",
    "    val_label_gen = at.concatenate((val_hr, val_eda, val_pupil, val_img))\n",
    "\n",
    "    label_val = np.where(val_label_gen.eval() < 0, 0, 1)\n",
    "    label_val = stats.mode(label_val[0], keepdims=False)[0]\n",
    "\n",
    "    return label_val"
   ]
  },
  {
   "cell_type": "code",
   "execution_count": 12,
   "metadata": {},
   "outputs": [],
   "source": [
    "FILENAME= 'output/FA/FA_kcv_norm_image.csv'\n",
    "columns = ['subject', 'k', 'fold', 'train', 'test']\n",
    "with open(FILENAME, 'w') as f:\n",
    "    write = csv.writer(f)\n",
    "    write.writerow(columns)"
   ]
  },
  {
   "cell_type": "code",
   "execution_count": 13,
   "metadata": {},
   "outputs": [],
   "source": [
    "sub=2\n",
    "k=12"
   ]
  },
  {
   "cell_type": "code",
   "execution_count": 14,
   "metadata": {},
   "outputs": [],
   "source": [
    "eda = pd.read_csv('data/features_4_2/eda/' + str(sub) + '.csv')\n",
    "eda = eda[num_trials_to_remove:]\n",
    "eda = scaler.fit_transform(eda)\n",
    "\n",
    "# hr data\n",
    "hr = pd.read_csv('data/features_4_2/hr/' + str(sub) + '.csv')\n",
    "hr = hr[num_trials_to_remove:]\n",
    "hr = scaler.fit_transform(hr)\n",
    "\n",
    "# pupil data\n",
    "pupil = pd.read_csv('data/features_4_2/pupil/' + str(sub) + '.csv')\n",
    "pupil = pupil[num_trials_to_remove:]\n",
    "pupil = scaler.fit_transform(pupil)"
   ]
  },
  {
   "cell_type": "code",
   "execution_count": 15,
   "metadata": {},
   "outputs": [],
   "source": [
    "string_sub = extract_correct_csv.read_correct_subject_csv(sub)\n",
    "\n",
    "df_ = pd.read_csv('data/LookAtMe_0' + str(string_sub) + '.csv', sep='\\t')\n",
    "df_ = df_[num_trials_to_remove:]\n",
    "label = np.array(list([int(d > 2) for d in df_['rating']]))\n",
    "E = label[:, np.newaxis]"
   ]
  },
  {
   "cell_type": "code",
   "execution_count": 16,
   "metadata": {},
   "outputs": [],
   "source": [
    "def extract_cs(df):\n",
    "    cs1, cs2 = int(df[df.shock == True].picName.unique()[0][5]), int(df[df.shock == True].picName.unique()[1][5])\n",
    "    return cs1, cs2\n",
    "\n",
    "\n",
    "morph_pos = 11\n",
    "morph_value = 15\n",
    "\n",
    "\n",
    "def extract_threat_level(df):\n",
    "    MORPH_POS = 11\n",
    "    MORPH_VALUE = 15\n",
    "    threat_person = []\n",
    "    cs1_pic, cs2_pic = extract_cs(df)\n",
    "\n",
    "    for i in df.iterrows():\n",
    "        nome = i[1].picName\n",
    "        try:\n",
    "            if nome[5] == str(cs1_pic) or nome[5] == str(cs2_pic):\n",
    "                threat_person.append(6)\n",
    "                continue\n",
    "            elif int(nome[5]):\n",
    "                threat_person.append(1)\n",
    "                continue\n",
    "        except:\n",
    "            if (int(nome[MORPH_POS]) == cs1_pic) or (int(nome[MORPH_POS]) == cs2_pic):\n",
    "                if nome[MORPH_VALUE] == '2':\n",
    "                    threat_person.append(5)\n",
    "\n",
    "                elif nome[MORPH_VALUE] == '4':\n",
    "                    threat_person.append(4)\n",
    "\n",
    "                elif nome[MORPH_VALUE] == '6':\n",
    "                    threat_person.append(3)\n",
    "\n",
    "                elif nome[MORPH_VALUE] == '8':\n",
    "                    threat_person.append(2)\n",
    "                    continue\n",
    "            else:\n",
    "                if nome[MORPH_VALUE] == '2':\n",
    "                    threat_person.append(2)\n",
    "\n",
    "                elif nome[MORPH_VALUE] == '4':\n",
    "                    threat_person.append(3)\n",
    "\n",
    "                elif nome[MORPH_VALUE] == '6':\n",
    "                    threat_person.append(4)\n",
    "\n",
    "                elif nome[MORPH_VALUE] == '8':\n",
    "                    threat_person.append(5)\n",
    "    return threat_person"
   ]
  },
  {
   "cell_type": "code",
   "execution_count": 17,
   "metadata": {},
   "outputs": [],
   "source": [
    "img = np.array(extract_threat_level(df_))\n",
    "morph_level = np.zeros((img.size, img.max()))\n",
    "morph_level[np.arange(img.size), img-1] = 1\n",
    "morph_level = morph_level.astype(int)"
   ]
  },
  {
   "cell_type": "code",
   "execution_count": 18,
   "outputs": [
    {
     "data": {
      "text/plain": "numpy.ndarray"
     },
     "execution_count": 18,
     "metadata": {},
     "output_type": "execute_result"
    }
   ],
   "source": [
    "type(morph_level)"
   ],
   "metadata": {
    "collapsed": false
   }
  },
  {
   "cell_type": "code",
   "execution_count": 19,
   "metadata": {},
   "outputs": [
    {
     "data": {
      "text/plain": "pandas.core.frame.DataFrame"
     },
     "execution_count": 19,
     "metadata": {},
     "output_type": "execute_result"
    }
   ],
   "source": [
    "# num trials\n",
    "TEST_PERC = 0.2\n",
    "\n",
    "eda = pd.DataFrame(eda)\n",
    "eda = eda.reset_index().drop(columns=('index'))\n",
    "pupil = pd.DataFrame(pupil)\n",
    "pupil = pupil.reset_index().drop(columns=('index'))\n",
    "hr = pd.DataFrame(hr)\n",
    "hr = hr.reset_index().drop(columns=('index'))\n",
    "morph_level = pd.DataFrame(morph_level)\n",
    "morph_level = morph_level.reset_index().drop(columns=('index'))\n",
    "E = pd.DataFrame(E)\n",
    "E = E.reset_index().drop(columns=('index'))\n",
    "type(morph_level)"
   ]
  },
  {
   "cell_type": "code",
   "execution_count": 20,
   "metadata": {},
   "outputs": [],
   "source": [
    "from sklearn.model_selection import StratifiedShuffleSplit\n",
    "sss = StratifiedShuffleSplit(n_splits=3, test_size=TEST_PERC, random_state=123)"
   ]
  },
  {
   "cell_type": "code",
   "execution_count": 24,
   "metadata": {},
   "outputs": [
    {
     "name": "stdout",
     "output_type": "stream",
     "text": [
      "[89  6]\n",
      "[ 6 12]\n",
      "[ 1 12]\n",
      "[12 89]\n",
      "[ 6 89]\n"
     ]
    },
    {
     "ename": "NotImplementedError",
     "evalue": "",
     "output_type": "error",
     "traceback": [
      "\u001B[0;31m---------------------------------------------------------------------------\u001B[0m",
      "\u001B[0;31mNotImplementedError\u001B[0m                       Traceback (most recent call last)",
      "Cell \u001B[0;32mIn [24], line 65\u001B[0m\n\u001B[1;32m     61\u001B[0m     X_e \u001B[38;5;241m=\u001B[39m pm\u001B[38;5;241m.\u001B[39mBernoulli(\u001B[38;5;124m\"\u001B[39m\u001B[38;5;124mX_e\u001B[39m\u001B[38;5;124m\"\u001B[39m, p\u001B[38;5;241m=\u001B[39mpm\u001B[38;5;241m.\u001B[39mmath\u001B[38;5;241m.\u001B[39msigmoid(at\u001B[38;5;241m.\u001B[39mdot(W_e, C)), dims\u001B[38;5;241m=\u001B[39m[\u001B[38;5;124m\"\u001B[39m\u001B[38;5;124mobserved_label\u001B[39m\u001B[38;5;124m\"\u001B[39m, \u001B[38;5;124m\"\u001B[39m\u001B[38;5;124mrows\u001B[39m\u001B[38;5;124m\"\u001B[39m],observed\u001B[38;5;241m=\u001B[39me_labels_train\u001B[38;5;241m.\u001B[39mT)\n\u001B[1;32m     64\u001B[0m \u001B[38;5;28;01mwith\u001B[39;00m PPCA_identified:\n\u001B[0;32m---> 65\u001B[0m     approx \u001B[38;5;241m=\u001B[39m pm\u001B[38;5;241m.\u001B[39mfit(\u001B[38;5;241m100000\u001B[39m, callbacks\u001B[38;5;241m=\u001B[39m[pm\u001B[38;5;241m.\u001B[39mcallbacks\u001B[38;5;241m.\u001B[39mCheckParametersConvergence(tolerance\u001B[38;5;241m=\u001B[39m\u001B[38;5;241m1e-4\u001B[39m)])\n\u001B[1;32m     66\u001B[0m     trace \u001B[38;5;241m=\u001B[39m approx\u001B[38;5;241m.\u001B[39msample(\u001B[38;5;241m1000\u001B[39m)\n",
      "File \u001B[0;32m~/PycharmProjects/pythonProject/venv/lib/python3.9/site-packages/pymc/variational/inference.py:753\u001B[0m, in \u001B[0;36mfit\u001B[0;34m(n, method, model, random_seed, start, start_sigma, inf_kwargs, **kwargs)\u001B[0m\n\u001B[1;32m    751\u001B[0m \u001B[38;5;28;01melse\u001B[39;00m:\n\u001B[1;32m    752\u001B[0m     \u001B[38;5;28;01mraise\u001B[39;00m \u001B[38;5;167;01mTypeError\u001B[39;00m(\u001B[38;5;124mf\u001B[39m\u001B[38;5;124m\"\u001B[39m\u001B[38;5;124mmethod should be one of \u001B[39m\u001B[38;5;132;01m{\u001B[39;00m\u001B[38;5;28mset\u001B[39m(_select\u001B[38;5;241m.\u001B[39mkeys())\u001B[38;5;132;01m}\u001B[39;00m\u001B[38;5;124m or Inference instance\u001B[39m\u001B[38;5;124m\"\u001B[39m)\n\u001B[0;32m--> 753\u001B[0m \u001B[38;5;28;01mreturn\u001B[39;00m \u001B[43minference\u001B[49m\u001B[38;5;241;43m.\u001B[39;49m\u001B[43mfit\u001B[49m\u001B[43m(\u001B[49m\u001B[43mn\u001B[49m\u001B[43m,\u001B[49m\u001B[43m \u001B[49m\u001B[38;5;241;43m*\u001B[39;49m\u001B[38;5;241;43m*\u001B[39;49m\u001B[43mkwargs\u001B[49m\u001B[43m)\u001B[49m\n",
      "File \u001B[0;32m~/PycharmProjects/pythonProject/venv/lib/python3.9/site-packages/pymc/variational/inference.py:138\u001B[0m, in \u001B[0;36mInference.fit\u001B[0;34m(self, n, score, callbacks, progressbar, **kwargs)\u001B[0m\n\u001B[1;32m    136\u001B[0m     callbacks \u001B[38;5;241m=\u001B[39m []\n\u001B[1;32m    137\u001B[0m score \u001B[38;5;241m=\u001B[39m \u001B[38;5;28mself\u001B[39m\u001B[38;5;241m.\u001B[39m_maybe_score(score)\n\u001B[0;32m--> 138\u001B[0m step_func \u001B[38;5;241m=\u001B[39m \u001B[38;5;28;43mself\u001B[39;49m\u001B[38;5;241;43m.\u001B[39;49m\u001B[43mobjective\u001B[49m\u001B[38;5;241;43m.\u001B[39;49m\u001B[43mstep_function\u001B[49m\u001B[43m(\u001B[49m\u001B[43mscore\u001B[49m\u001B[38;5;241;43m=\u001B[39;49m\u001B[43mscore\u001B[49m\u001B[43m,\u001B[49m\u001B[43m \u001B[49m\u001B[38;5;241;43m*\u001B[39;49m\u001B[38;5;241;43m*\u001B[39;49m\u001B[43mkwargs\u001B[49m\u001B[43m)\u001B[49m\n\u001B[1;32m    139\u001B[0m \u001B[38;5;28;01mif\u001B[39;00m progressbar:\n\u001B[1;32m    140\u001B[0m     progress \u001B[38;5;241m=\u001B[39m progress_bar(\u001B[38;5;28mrange\u001B[39m(n), display\u001B[38;5;241m=\u001B[39mprogressbar)\n",
      "File \u001B[0;32m~/PycharmProjects/pythonProject/venv/lib/python3.9/site-packages/aesara/configparser.py:47\u001B[0m, in \u001B[0;36m_ChangeFlagsDecorator.__call__.<locals>.res\u001B[0;34m(*args, **kwargs)\u001B[0m\n\u001B[1;32m     44\u001B[0m \u001B[38;5;129m@wraps\u001B[39m(f)\n\u001B[1;32m     45\u001B[0m \u001B[38;5;28;01mdef\u001B[39;00m \u001B[38;5;21mres\u001B[39m(\u001B[38;5;241m*\u001B[39margs, \u001B[38;5;241m*\u001B[39m\u001B[38;5;241m*\u001B[39mkwargs):\n\u001B[1;32m     46\u001B[0m     \u001B[38;5;28;01mwith\u001B[39;00m \u001B[38;5;28mself\u001B[39m:\n\u001B[0;32m---> 47\u001B[0m         \u001B[38;5;28;01mreturn\u001B[39;00m \u001B[43mf\u001B[49m\u001B[43m(\u001B[49m\u001B[38;5;241;43m*\u001B[39;49m\u001B[43margs\u001B[49m\u001B[43m,\u001B[49m\u001B[43m \u001B[49m\u001B[38;5;241;43m*\u001B[39;49m\u001B[38;5;241;43m*\u001B[39;49m\u001B[43mkwargs\u001B[49m\u001B[43m)\u001B[49m\n",
      "File \u001B[0;32m~/PycharmProjects/pythonProject/venv/lib/python3.9/site-packages/pymc/variational/opvi.py:355\u001B[0m, in \u001B[0;36mObjectiveFunction.step_function\u001B[0;34m(self, obj_n_mc, tf_n_mc, obj_optimizer, test_optimizer, more_obj_params, more_tf_params, more_updates, more_replacements, total_grad_norm_constraint, score, fn_kwargs)\u001B[0m\n\u001B[1;32m    353\u001B[0m \u001B[38;5;28;01mif\u001B[39;00m score \u001B[38;5;129;01mand\u001B[39;00m \u001B[38;5;129;01mnot\u001B[39;00m \u001B[38;5;28mself\u001B[39m\u001B[38;5;241m.\u001B[39mop\u001B[38;5;241m.\u001B[39mreturns_loss:\n\u001B[1;32m    354\u001B[0m     \u001B[38;5;28;01mraise\u001B[39;00m \u001B[38;5;167;01mNotImplementedError\u001B[39;00m(\u001B[38;5;124m\"\u001B[39m\u001B[38;5;132;01m%s\u001B[39;00m\u001B[38;5;124m does not have loss\u001B[39m\u001B[38;5;124m\"\u001B[39m \u001B[38;5;241m%\u001B[39m \u001B[38;5;28mself\u001B[39m\u001B[38;5;241m.\u001B[39mop)\n\u001B[0;32m--> 355\u001B[0m updates \u001B[38;5;241m=\u001B[39m \u001B[38;5;28;43mself\u001B[39;49m\u001B[38;5;241;43m.\u001B[39;49m\u001B[43mupdates\u001B[49m\u001B[43m(\u001B[49m\n\u001B[1;32m    356\u001B[0m \u001B[43m    \u001B[49m\u001B[43mobj_n_mc\u001B[49m\u001B[38;5;241;43m=\u001B[39;49m\u001B[43mobj_n_mc\u001B[49m\u001B[43m,\u001B[49m\n\u001B[1;32m    357\u001B[0m \u001B[43m    \u001B[49m\u001B[43mtf_n_mc\u001B[49m\u001B[38;5;241;43m=\u001B[39;49m\u001B[43mtf_n_mc\u001B[49m\u001B[43m,\u001B[49m\n\u001B[1;32m    358\u001B[0m \u001B[43m    \u001B[49m\u001B[43mobj_optimizer\u001B[49m\u001B[38;5;241;43m=\u001B[39;49m\u001B[43mobj_optimizer\u001B[49m\u001B[43m,\u001B[49m\n\u001B[1;32m    359\u001B[0m \u001B[43m    \u001B[49m\u001B[43mtest_optimizer\u001B[49m\u001B[38;5;241;43m=\u001B[39;49m\u001B[43mtest_optimizer\u001B[49m\u001B[43m,\u001B[49m\n\u001B[1;32m    360\u001B[0m \u001B[43m    \u001B[49m\u001B[43mmore_obj_params\u001B[49m\u001B[38;5;241;43m=\u001B[39;49m\u001B[43mmore_obj_params\u001B[49m\u001B[43m,\u001B[49m\n\u001B[1;32m    361\u001B[0m \u001B[43m    \u001B[49m\u001B[43mmore_tf_params\u001B[49m\u001B[38;5;241;43m=\u001B[39;49m\u001B[43mmore_tf_params\u001B[49m\u001B[43m,\u001B[49m\n\u001B[1;32m    362\u001B[0m \u001B[43m    \u001B[49m\u001B[43mmore_updates\u001B[49m\u001B[38;5;241;43m=\u001B[39;49m\u001B[43mmore_updates\u001B[49m\u001B[43m,\u001B[49m\n\u001B[1;32m    363\u001B[0m \u001B[43m    \u001B[49m\u001B[43mmore_replacements\u001B[49m\u001B[38;5;241;43m=\u001B[39;49m\u001B[43mmore_replacements\u001B[49m\u001B[43m,\u001B[49m\n\u001B[1;32m    364\u001B[0m \u001B[43m    \u001B[49m\u001B[43mtotal_grad_norm_constraint\u001B[49m\u001B[38;5;241;43m=\u001B[39;49m\u001B[43mtotal_grad_norm_constraint\u001B[49m\u001B[43m,\u001B[49m\n\u001B[1;32m    365\u001B[0m \u001B[43m\u001B[49m\u001B[43m)\u001B[49m\n\u001B[1;32m    366\u001B[0m \u001B[38;5;28;01mif\u001B[39;00m score:\n\u001B[1;32m    367\u001B[0m     step_fn \u001B[38;5;241m=\u001B[39m compile_pymc([], updates\u001B[38;5;241m.\u001B[39mloss, updates\u001B[38;5;241m=\u001B[39mupdates, \u001B[38;5;241m*\u001B[39m\u001B[38;5;241m*\u001B[39mfn_kwargs)\n",
      "File \u001B[0;32m~/PycharmProjects/pythonProject/venv/lib/python3.9/site-packages/pymc/variational/opvi.py:244\u001B[0m, in \u001B[0;36mObjectiveFunction.updates\u001B[0;34m(self, obj_n_mc, tf_n_mc, obj_optimizer, test_optimizer, more_obj_params, more_tf_params, more_updates, more_replacements, total_grad_norm_constraint)\u001B[0m\n\u001B[1;32m    242\u001B[0m     \u001B[38;5;28;01mif\u001B[39;00m more_tf_params:\n\u001B[1;32m    243\u001B[0m         _warn_not_used(\u001B[38;5;124m\"\u001B[39m\u001B[38;5;124mmore_tf_params\u001B[39m\u001B[38;5;124m\"\u001B[39m, \u001B[38;5;28mself\u001B[39m\u001B[38;5;241m.\u001B[39mop)\n\u001B[0;32m--> 244\u001B[0m \u001B[38;5;28;43mself\u001B[39;49m\u001B[38;5;241;43m.\u001B[39;49m\u001B[43madd_obj_updates\u001B[49m\u001B[43m(\u001B[49m\n\u001B[1;32m    245\u001B[0m \u001B[43m    \u001B[49m\u001B[43mresulting_updates\u001B[49m\u001B[43m,\u001B[49m\n\u001B[1;32m    246\u001B[0m \u001B[43m    \u001B[49m\u001B[43mobj_n_mc\u001B[49m\u001B[38;5;241;43m=\u001B[39;49m\u001B[43mobj_n_mc\u001B[49m\u001B[43m,\u001B[49m\n\u001B[1;32m    247\u001B[0m \u001B[43m    \u001B[49m\u001B[43mobj_optimizer\u001B[49m\u001B[38;5;241;43m=\u001B[39;49m\u001B[43mobj_optimizer\u001B[49m\u001B[43m,\u001B[49m\n\u001B[1;32m    248\u001B[0m \u001B[43m    \u001B[49m\u001B[43mmore_obj_params\u001B[49m\u001B[38;5;241;43m=\u001B[39;49m\u001B[43mmore_obj_params\u001B[49m\u001B[43m,\u001B[49m\n\u001B[1;32m    249\u001B[0m \u001B[43m    \u001B[49m\u001B[43mmore_replacements\u001B[49m\u001B[38;5;241;43m=\u001B[39;49m\u001B[43mmore_replacements\u001B[49m\u001B[43m,\u001B[49m\n\u001B[1;32m    250\u001B[0m \u001B[43m    \u001B[49m\u001B[43mtotal_grad_norm_constraint\u001B[49m\u001B[38;5;241;43m=\u001B[39;49m\u001B[43mtotal_grad_norm_constraint\u001B[49m\u001B[43m,\u001B[49m\n\u001B[1;32m    251\u001B[0m \u001B[43m\u001B[49m\u001B[43m)\u001B[49m\n\u001B[1;32m    252\u001B[0m resulting_updates\u001B[38;5;241m.\u001B[39mupdate(more_updates)\n\u001B[1;32m    253\u001B[0m \u001B[38;5;28;01mreturn\u001B[39;00m resulting_updates\n",
      "File \u001B[0;32m~/PycharmProjects/pythonProject/venv/lib/python3.9/site-packages/pymc/variational/opvi.py:292\u001B[0m, in \u001B[0;36mObjectiveFunction.add_obj_updates\u001B[0;34m(self, updates, obj_n_mc, obj_optimizer, more_obj_params, more_replacements, total_grad_norm_constraint)\u001B[0m\n\u001B[1;32m    288\u001B[0m     more_replacements \u001B[38;5;241m=\u001B[39m \u001B[38;5;28mdict\u001B[39m()\n\u001B[1;32m    289\u001B[0m obj_target \u001B[38;5;241m=\u001B[39m \u001B[38;5;28mself\u001B[39m(\n\u001B[1;32m    290\u001B[0m     obj_n_mc, more_obj_params\u001B[38;5;241m=\u001B[39mmore_obj_params, more_replacements\u001B[38;5;241m=\u001B[39mmore_replacements\n\u001B[1;32m    291\u001B[0m )\n\u001B[0;32m--> 292\u001B[0m grads \u001B[38;5;241m=\u001B[39m \u001B[43mpm\u001B[49m\u001B[38;5;241;43m.\u001B[39;49m\u001B[43mupdates\u001B[49m\u001B[38;5;241;43m.\u001B[39;49m\u001B[43mget_or_compute_grads\u001B[49m\u001B[43m(\u001B[49m\u001B[43mobj_target\u001B[49m\u001B[43m,\u001B[49m\u001B[43m \u001B[49m\u001B[38;5;28;43mself\u001B[39;49m\u001B[38;5;241;43m.\u001B[39;49m\u001B[43mobj_params\u001B[49m\u001B[43m \u001B[49m\u001B[38;5;241;43m+\u001B[39;49m\u001B[43m \u001B[49m\u001B[43mmore_obj_params\u001B[49m\u001B[43m)\u001B[49m\n\u001B[1;32m    293\u001B[0m \u001B[38;5;28;01mif\u001B[39;00m total_grad_norm_constraint \u001B[38;5;129;01mis\u001B[39;00m \u001B[38;5;129;01mnot\u001B[39;00m \u001B[38;5;28;01mNone\u001B[39;00m:\n\u001B[1;32m    294\u001B[0m     grads \u001B[38;5;241m=\u001B[39m pm\u001B[38;5;241m.\u001B[39mtotal_norm_constraint(grads, total_grad_norm_constraint)\n",
      "File \u001B[0;32m~/PycharmProjects/pythonProject/venv/lib/python3.9/site-packages/pymc/variational/updates.py:176\u001B[0m, in \u001B[0;36mget_or_compute_grads\u001B[0;34m(loss_or_grads, params)\u001B[0m\n\u001B[1;32m    174\u001B[0m     \u001B[38;5;28;01mreturn\u001B[39;00m loss_or_grads\n\u001B[1;32m    175\u001B[0m \u001B[38;5;28;01melse\u001B[39;00m:\n\u001B[0;32m--> 176\u001B[0m     \u001B[38;5;28;01mreturn\u001B[39;00m \u001B[43maesara\u001B[49m\u001B[38;5;241;43m.\u001B[39;49m\u001B[43mgrad\u001B[49m\u001B[43m(\u001B[49m\u001B[43mloss_or_grads\u001B[49m\u001B[43m,\u001B[49m\u001B[43m \u001B[49m\u001B[43mparams\u001B[49m\u001B[43m)\u001B[49m\n",
      "File \u001B[0;32m~/PycharmProjects/pythonProject/venv/lib/python3.9/site-packages/aesara/gradient.py:623\u001B[0m, in \u001B[0;36mgrad\u001B[0;34m(cost, wrt, consider_constant, disconnected_inputs, add_names, known_grads, return_disconnected, null_gradients)\u001B[0m\n\u001B[1;32m    620\u001B[0m     \u001B[38;5;28;01mif\u001B[39;00m \u001B[38;5;28mhasattr\u001B[39m(g\u001B[38;5;241m.\u001B[39mtype, \u001B[38;5;124m\"\u001B[39m\u001B[38;5;124mdtype\u001B[39m\u001B[38;5;124m\"\u001B[39m):\n\u001B[1;32m    621\u001B[0m         \u001B[38;5;28;01massert\u001B[39;00m g\u001B[38;5;241m.\u001B[39mtype\u001B[38;5;241m.\u001B[39mdtype \u001B[38;5;129;01min\u001B[39;00m aesara\u001B[38;5;241m.\u001B[39mtensor\u001B[38;5;241m.\u001B[39mtype\u001B[38;5;241m.\u001B[39mfloat_dtypes\n\u001B[0;32m--> 623\u001B[0m _rval: Sequence[Variable] \u001B[38;5;241m=\u001B[39m \u001B[43m_populate_grad_dict\u001B[49m\u001B[43m(\u001B[49m\n\u001B[1;32m    624\u001B[0m \u001B[43m    \u001B[49m\u001B[43mvar_to_app_to_idx\u001B[49m\u001B[43m,\u001B[49m\u001B[43m \u001B[49m\u001B[43mgrad_dict\u001B[49m\u001B[43m,\u001B[49m\u001B[43m \u001B[49m\u001B[43m_wrt\u001B[49m\u001B[43m,\u001B[49m\u001B[43m \u001B[49m\u001B[43mcost_name\u001B[49m\n\u001B[1;32m    625\u001B[0m \u001B[43m\u001B[49m\u001B[43m)\u001B[49m\n\u001B[1;32m    627\u001B[0m rval: MutableSequence[Optional[Variable]] \u001B[38;5;241m=\u001B[39m \u001B[38;5;28mlist\u001B[39m(_rval)\n\u001B[1;32m    629\u001B[0m \u001B[38;5;28;01mfor\u001B[39;00m i \u001B[38;5;129;01min\u001B[39;00m \u001B[38;5;28mrange\u001B[39m(\u001B[38;5;28mlen\u001B[39m(_rval)):\n",
      "File \u001B[0;32m~/PycharmProjects/pythonProject/venv/lib/python3.9/site-packages/aesara/gradient.py:1434\u001B[0m, in \u001B[0;36m_populate_grad_dict\u001B[0;34m(var_to_app_to_idx, grad_dict, wrt, cost_name)\u001B[0m\n\u001B[1;32m   1431\u001B[0m     \u001B[38;5;66;03m# end if cache miss\u001B[39;00m\n\u001B[1;32m   1432\u001B[0m     \u001B[38;5;28;01mreturn\u001B[39;00m grad_dict[var]\n\u001B[0;32m-> 1434\u001B[0m rval \u001B[38;5;241m=\u001B[39m [access_grad_cache(elem) \u001B[38;5;28;01mfor\u001B[39;00m elem \u001B[38;5;129;01min\u001B[39;00m wrt]\n\u001B[1;32m   1436\u001B[0m \u001B[38;5;28;01mreturn\u001B[39;00m rval\n",
      "File \u001B[0;32m~/PycharmProjects/pythonProject/venv/lib/python3.9/site-packages/aesara/gradient.py:1434\u001B[0m, in \u001B[0;36m<listcomp>\u001B[0;34m(.0)\u001B[0m\n\u001B[1;32m   1431\u001B[0m     \u001B[38;5;66;03m# end if cache miss\u001B[39;00m\n\u001B[1;32m   1432\u001B[0m     \u001B[38;5;28;01mreturn\u001B[39;00m grad_dict[var]\n\u001B[0;32m-> 1434\u001B[0m rval \u001B[38;5;241m=\u001B[39m [\u001B[43maccess_grad_cache\u001B[49m\u001B[43m(\u001B[49m\u001B[43melem\u001B[49m\u001B[43m)\u001B[49m \u001B[38;5;28;01mfor\u001B[39;00m elem \u001B[38;5;129;01min\u001B[39;00m wrt]\n\u001B[1;32m   1436\u001B[0m \u001B[38;5;28;01mreturn\u001B[39;00m rval\n",
      "File \u001B[0;32m~/PycharmProjects/pythonProject/venv/lib/python3.9/site-packages/aesara/gradient.py:1387\u001B[0m, in \u001B[0;36m_populate_grad_dict.<locals>.access_grad_cache\u001B[0;34m(var)\u001B[0m\n\u001B[1;32m   1384\u001B[0m \u001B[38;5;28;01mfor\u001B[39;00m node \u001B[38;5;129;01min\u001B[39;00m node_to_idx:\n\u001B[1;32m   1385\u001B[0m     \u001B[38;5;28;01mfor\u001B[39;00m idx \u001B[38;5;129;01min\u001B[39;00m node_to_idx[node]:\n\u001B[0;32m-> 1387\u001B[0m         term \u001B[38;5;241m=\u001B[39m \u001B[43maccess_term_cache\u001B[49m\u001B[43m(\u001B[49m\u001B[43mnode\u001B[49m\u001B[43m)\u001B[49m[idx]\n\u001B[1;32m   1389\u001B[0m         \u001B[38;5;28;01mif\u001B[39;00m \u001B[38;5;129;01mnot\u001B[39;00m \u001B[38;5;28misinstance\u001B[39m(term, Variable):\n\u001B[1;32m   1390\u001B[0m             \u001B[38;5;28;01mraise\u001B[39;00m \u001B[38;5;167;01mTypeError\u001B[39;00m(\n\u001B[1;32m   1391\u001B[0m                 \u001B[38;5;124mf\u001B[39m\u001B[38;5;124m\"\u001B[39m\u001B[38;5;132;01m{\u001B[39;00mnode\u001B[38;5;241m.\u001B[39mop\u001B[38;5;132;01m}\u001B[39;00m\u001B[38;5;124m.grad returned \u001B[39m\u001B[38;5;132;01m{\u001B[39;00m\u001B[38;5;28mtype\u001B[39m(term)\u001B[38;5;132;01m}\u001B[39;00m\u001B[38;5;124m, expected\u001B[39m\u001B[38;5;124m\"\u001B[39m\n\u001B[1;32m   1392\u001B[0m                 \u001B[38;5;124m\"\u001B[39m\u001B[38;5;124m Variable instance.\u001B[39m\u001B[38;5;124m\"\u001B[39m\n\u001B[1;32m   1393\u001B[0m             )\n",
      "File \u001B[0;32m~/PycharmProjects/pythonProject/venv/lib/python3.9/site-packages/aesara/gradient.py:1058\u001B[0m, in \u001B[0;36m_populate_grad_dict.<locals>.access_term_cache\u001B[0;34m(node)\u001B[0m\n\u001B[1;32m   1054\u001B[0m \u001B[38;5;28;01mif\u001B[39;00m node \u001B[38;5;129;01mnot\u001B[39;00m \u001B[38;5;129;01min\u001B[39;00m term_dict:\n\u001B[1;32m   1056\u001B[0m     inputs \u001B[38;5;241m=\u001B[39m node\u001B[38;5;241m.\u001B[39minputs\n\u001B[0;32m-> 1058\u001B[0m     output_grads \u001B[38;5;241m=\u001B[39m [access_grad_cache(var) \u001B[38;5;28;01mfor\u001B[39;00m var \u001B[38;5;129;01min\u001B[39;00m node\u001B[38;5;241m.\u001B[39moutputs]\n\u001B[1;32m   1060\u001B[0m     \u001B[38;5;66;03m# list of bools indicating if each output is connected to the cost\u001B[39;00m\n\u001B[1;32m   1061\u001B[0m     outputs_connected \u001B[38;5;241m=\u001B[39m [\n\u001B[1;32m   1062\u001B[0m         \u001B[38;5;129;01mnot\u001B[39;00m \u001B[38;5;28misinstance\u001B[39m(g\u001B[38;5;241m.\u001B[39mtype, DisconnectedType) \u001B[38;5;28;01mfor\u001B[39;00m g \u001B[38;5;129;01min\u001B[39;00m output_grads\n\u001B[1;32m   1063\u001B[0m     ]\n",
      "File \u001B[0;32m~/PycharmProjects/pythonProject/venv/lib/python3.9/site-packages/aesara/gradient.py:1058\u001B[0m, in \u001B[0;36m<listcomp>\u001B[0;34m(.0)\u001B[0m\n\u001B[1;32m   1054\u001B[0m \u001B[38;5;28;01mif\u001B[39;00m node \u001B[38;5;129;01mnot\u001B[39;00m \u001B[38;5;129;01min\u001B[39;00m term_dict:\n\u001B[1;32m   1056\u001B[0m     inputs \u001B[38;5;241m=\u001B[39m node\u001B[38;5;241m.\u001B[39minputs\n\u001B[0;32m-> 1058\u001B[0m     output_grads \u001B[38;5;241m=\u001B[39m [\u001B[43maccess_grad_cache\u001B[49m\u001B[43m(\u001B[49m\u001B[43mvar\u001B[49m\u001B[43m)\u001B[49m \u001B[38;5;28;01mfor\u001B[39;00m var \u001B[38;5;129;01min\u001B[39;00m node\u001B[38;5;241m.\u001B[39moutputs]\n\u001B[1;32m   1060\u001B[0m     \u001B[38;5;66;03m# list of bools indicating if each output is connected to the cost\u001B[39;00m\n\u001B[1;32m   1061\u001B[0m     outputs_connected \u001B[38;5;241m=\u001B[39m [\n\u001B[1;32m   1062\u001B[0m         \u001B[38;5;129;01mnot\u001B[39;00m \u001B[38;5;28misinstance\u001B[39m(g\u001B[38;5;241m.\u001B[39mtype, DisconnectedType) \u001B[38;5;28;01mfor\u001B[39;00m g \u001B[38;5;129;01min\u001B[39;00m output_grads\n\u001B[1;32m   1063\u001B[0m     ]\n",
      "File \u001B[0;32m~/PycharmProjects/pythonProject/venv/lib/python3.9/site-packages/aesara/gradient.py:1387\u001B[0m, in \u001B[0;36m_populate_grad_dict.<locals>.access_grad_cache\u001B[0;34m(var)\u001B[0m\n\u001B[1;32m   1384\u001B[0m \u001B[38;5;28;01mfor\u001B[39;00m node \u001B[38;5;129;01min\u001B[39;00m node_to_idx:\n\u001B[1;32m   1385\u001B[0m     \u001B[38;5;28;01mfor\u001B[39;00m idx \u001B[38;5;129;01min\u001B[39;00m node_to_idx[node]:\n\u001B[0;32m-> 1387\u001B[0m         term \u001B[38;5;241m=\u001B[39m \u001B[43maccess_term_cache\u001B[49m\u001B[43m(\u001B[49m\u001B[43mnode\u001B[49m\u001B[43m)\u001B[49m[idx]\n\u001B[1;32m   1389\u001B[0m         \u001B[38;5;28;01mif\u001B[39;00m \u001B[38;5;129;01mnot\u001B[39;00m \u001B[38;5;28misinstance\u001B[39m(term, Variable):\n\u001B[1;32m   1390\u001B[0m             \u001B[38;5;28;01mraise\u001B[39;00m \u001B[38;5;167;01mTypeError\u001B[39;00m(\n\u001B[1;32m   1391\u001B[0m                 \u001B[38;5;124mf\u001B[39m\u001B[38;5;124m\"\u001B[39m\u001B[38;5;132;01m{\u001B[39;00mnode\u001B[38;5;241m.\u001B[39mop\u001B[38;5;132;01m}\u001B[39;00m\u001B[38;5;124m.grad returned \u001B[39m\u001B[38;5;132;01m{\u001B[39;00m\u001B[38;5;28mtype\u001B[39m(term)\u001B[38;5;132;01m}\u001B[39;00m\u001B[38;5;124m, expected\u001B[39m\u001B[38;5;124m\"\u001B[39m\n\u001B[1;32m   1392\u001B[0m                 \u001B[38;5;124m\"\u001B[39m\u001B[38;5;124m Variable instance.\u001B[39m\u001B[38;5;124m\"\u001B[39m\n\u001B[1;32m   1393\u001B[0m             )\n",
      "File \u001B[0;32m~/PycharmProjects/pythonProject/venv/lib/python3.9/site-packages/aesara/gradient.py:1058\u001B[0m, in \u001B[0;36m_populate_grad_dict.<locals>.access_term_cache\u001B[0;34m(node)\u001B[0m\n\u001B[1;32m   1054\u001B[0m \u001B[38;5;28;01mif\u001B[39;00m node \u001B[38;5;129;01mnot\u001B[39;00m \u001B[38;5;129;01min\u001B[39;00m term_dict:\n\u001B[1;32m   1056\u001B[0m     inputs \u001B[38;5;241m=\u001B[39m node\u001B[38;5;241m.\u001B[39minputs\n\u001B[0;32m-> 1058\u001B[0m     output_grads \u001B[38;5;241m=\u001B[39m [access_grad_cache(var) \u001B[38;5;28;01mfor\u001B[39;00m var \u001B[38;5;129;01min\u001B[39;00m node\u001B[38;5;241m.\u001B[39moutputs]\n\u001B[1;32m   1060\u001B[0m     \u001B[38;5;66;03m# list of bools indicating if each output is connected to the cost\u001B[39;00m\n\u001B[1;32m   1061\u001B[0m     outputs_connected \u001B[38;5;241m=\u001B[39m [\n\u001B[1;32m   1062\u001B[0m         \u001B[38;5;129;01mnot\u001B[39;00m \u001B[38;5;28misinstance\u001B[39m(g\u001B[38;5;241m.\u001B[39mtype, DisconnectedType) \u001B[38;5;28;01mfor\u001B[39;00m g \u001B[38;5;129;01min\u001B[39;00m output_grads\n\u001B[1;32m   1063\u001B[0m     ]\n",
      "File \u001B[0;32m~/PycharmProjects/pythonProject/venv/lib/python3.9/site-packages/aesara/gradient.py:1058\u001B[0m, in \u001B[0;36m<listcomp>\u001B[0;34m(.0)\u001B[0m\n\u001B[1;32m   1054\u001B[0m \u001B[38;5;28;01mif\u001B[39;00m node \u001B[38;5;129;01mnot\u001B[39;00m \u001B[38;5;129;01min\u001B[39;00m term_dict:\n\u001B[1;32m   1056\u001B[0m     inputs \u001B[38;5;241m=\u001B[39m node\u001B[38;5;241m.\u001B[39minputs\n\u001B[0;32m-> 1058\u001B[0m     output_grads \u001B[38;5;241m=\u001B[39m [\u001B[43maccess_grad_cache\u001B[49m\u001B[43m(\u001B[49m\u001B[43mvar\u001B[49m\u001B[43m)\u001B[49m \u001B[38;5;28;01mfor\u001B[39;00m var \u001B[38;5;129;01min\u001B[39;00m node\u001B[38;5;241m.\u001B[39moutputs]\n\u001B[1;32m   1060\u001B[0m     \u001B[38;5;66;03m# list of bools indicating if each output is connected to the cost\u001B[39;00m\n\u001B[1;32m   1061\u001B[0m     outputs_connected \u001B[38;5;241m=\u001B[39m [\n\u001B[1;32m   1062\u001B[0m         \u001B[38;5;129;01mnot\u001B[39;00m \u001B[38;5;28misinstance\u001B[39m(g\u001B[38;5;241m.\u001B[39mtype, DisconnectedType) \u001B[38;5;28;01mfor\u001B[39;00m g \u001B[38;5;129;01min\u001B[39;00m output_grads\n\u001B[1;32m   1063\u001B[0m     ]\n",
      "    \u001B[0;31m[... skipping similar frames: _populate_grad_dict.<locals>.access_grad_cache at line 1387 (3 times), <listcomp> at line 1058 (2 times), _populate_grad_dict.<locals>.access_term_cache at line 1058 (2 times)]\u001B[0m\n",
      "File \u001B[0;32m~/PycharmProjects/pythonProject/venv/lib/python3.9/site-packages/aesara/gradient.py:1058\u001B[0m, in \u001B[0;36m_populate_grad_dict.<locals>.access_term_cache\u001B[0;34m(node)\u001B[0m\n\u001B[1;32m   1054\u001B[0m \u001B[38;5;28;01mif\u001B[39;00m node \u001B[38;5;129;01mnot\u001B[39;00m \u001B[38;5;129;01min\u001B[39;00m term_dict:\n\u001B[1;32m   1056\u001B[0m     inputs \u001B[38;5;241m=\u001B[39m node\u001B[38;5;241m.\u001B[39minputs\n\u001B[0;32m-> 1058\u001B[0m     output_grads \u001B[38;5;241m=\u001B[39m [access_grad_cache(var) \u001B[38;5;28;01mfor\u001B[39;00m var \u001B[38;5;129;01min\u001B[39;00m node\u001B[38;5;241m.\u001B[39moutputs]\n\u001B[1;32m   1060\u001B[0m     \u001B[38;5;66;03m# list of bools indicating if each output is connected to the cost\u001B[39;00m\n\u001B[1;32m   1061\u001B[0m     outputs_connected \u001B[38;5;241m=\u001B[39m [\n\u001B[1;32m   1062\u001B[0m         \u001B[38;5;129;01mnot\u001B[39;00m \u001B[38;5;28misinstance\u001B[39m(g\u001B[38;5;241m.\u001B[39mtype, DisconnectedType) \u001B[38;5;28;01mfor\u001B[39;00m g \u001B[38;5;129;01min\u001B[39;00m output_grads\n\u001B[1;32m   1063\u001B[0m     ]\n",
      "File \u001B[0;32m~/PycharmProjects/pythonProject/venv/lib/python3.9/site-packages/aesara/gradient.py:1058\u001B[0m, in \u001B[0;36m<listcomp>\u001B[0;34m(.0)\u001B[0m\n\u001B[1;32m   1054\u001B[0m \u001B[38;5;28;01mif\u001B[39;00m node \u001B[38;5;129;01mnot\u001B[39;00m \u001B[38;5;129;01min\u001B[39;00m term_dict:\n\u001B[1;32m   1056\u001B[0m     inputs \u001B[38;5;241m=\u001B[39m node\u001B[38;5;241m.\u001B[39minputs\n\u001B[0;32m-> 1058\u001B[0m     output_grads \u001B[38;5;241m=\u001B[39m [\u001B[43maccess_grad_cache\u001B[49m\u001B[43m(\u001B[49m\u001B[43mvar\u001B[49m\u001B[43m)\u001B[49m \u001B[38;5;28;01mfor\u001B[39;00m var \u001B[38;5;129;01min\u001B[39;00m node\u001B[38;5;241m.\u001B[39moutputs]\n\u001B[1;32m   1060\u001B[0m     \u001B[38;5;66;03m# list of bools indicating if each output is connected to the cost\u001B[39;00m\n\u001B[1;32m   1061\u001B[0m     outputs_connected \u001B[38;5;241m=\u001B[39m [\n\u001B[1;32m   1062\u001B[0m         \u001B[38;5;129;01mnot\u001B[39;00m \u001B[38;5;28misinstance\u001B[39m(g\u001B[38;5;241m.\u001B[39mtype, DisconnectedType) \u001B[38;5;28;01mfor\u001B[39;00m g \u001B[38;5;129;01min\u001B[39;00m output_grads\n\u001B[1;32m   1063\u001B[0m     ]\n",
      "File \u001B[0;32m~/PycharmProjects/pythonProject/venv/lib/python3.9/site-packages/aesara/gradient.py:1387\u001B[0m, in \u001B[0;36m_populate_grad_dict.<locals>.access_grad_cache\u001B[0;34m(var)\u001B[0m\n\u001B[1;32m   1384\u001B[0m \u001B[38;5;28;01mfor\u001B[39;00m node \u001B[38;5;129;01min\u001B[39;00m node_to_idx:\n\u001B[1;32m   1385\u001B[0m     \u001B[38;5;28;01mfor\u001B[39;00m idx \u001B[38;5;129;01min\u001B[39;00m node_to_idx[node]:\n\u001B[0;32m-> 1387\u001B[0m         term \u001B[38;5;241m=\u001B[39m \u001B[43maccess_term_cache\u001B[49m\u001B[43m(\u001B[49m\u001B[43mnode\u001B[49m\u001B[43m)\u001B[49m[idx]\n\u001B[1;32m   1389\u001B[0m         \u001B[38;5;28;01mif\u001B[39;00m \u001B[38;5;129;01mnot\u001B[39;00m \u001B[38;5;28misinstance\u001B[39m(term, Variable):\n\u001B[1;32m   1390\u001B[0m             \u001B[38;5;28;01mraise\u001B[39;00m \u001B[38;5;167;01mTypeError\u001B[39;00m(\n\u001B[1;32m   1391\u001B[0m                 \u001B[38;5;124mf\u001B[39m\u001B[38;5;124m\"\u001B[39m\u001B[38;5;132;01m{\u001B[39;00mnode\u001B[38;5;241m.\u001B[39mop\u001B[38;5;132;01m}\u001B[39;00m\u001B[38;5;124m.grad returned \u001B[39m\u001B[38;5;132;01m{\u001B[39;00m\u001B[38;5;28mtype\u001B[39m(term)\u001B[38;5;132;01m}\u001B[39;00m\u001B[38;5;124m, expected\u001B[39m\u001B[38;5;124m\"\u001B[39m\n\u001B[1;32m   1392\u001B[0m                 \u001B[38;5;124m\"\u001B[39m\u001B[38;5;124m Variable instance.\u001B[39m\u001B[38;5;124m\"\u001B[39m\n\u001B[1;32m   1393\u001B[0m             )\n",
      "File \u001B[0;32m~/PycharmProjects/pythonProject/venv/lib/python3.9/site-packages/aesara/gradient.py:1213\u001B[0m, in \u001B[0;36m_populate_grad_dict.<locals>.access_term_cache\u001B[0;34m(node)\u001B[0m\n\u001B[1;32m   1205\u001B[0m         \u001B[38;5;28;01mif\u001B[39;00m o_shape \u001B[38;5;241m!=\u001B[39m g_shape:\n\u001B[1;32m   1206\u001B[0m             \u001B[38;5;28;01mraise\u001B[39;00m \u001B[38;5;167;01mValueError\u001B[39;00m(\n\u001B[1;32m   1207\u001B[0m                 \u001B[38;5;124m\"\u001B[39m\u001B[38;5;124mGot a gradient of shape \u001B[39m\u001B[38;5;124m\"\u001B[39m\n\u001B[1;32m   1208\u001B[0m                 \u001B[38;5;241m+\u001B[39m \u001B[38;5;28mstr\u001B[39m(o_shape)\n\u001B[1;32m   1209\u001B[0m                 \u001B[38;5;241m+\u001B[39m \u001B[38;5;124m\"\u001B[39m\u001B[38;5;124m on an output of shape \u001B[39m\u001B[38;5;124m\"\u001B[39m\n\u001B[1;32m   1210\u001B[0m                 \u001B[38;5;241m+\u001B[39m \u001B[38;5;28mstr\u001B[39m(g_shape)\n\u001B[1;32m   1211\u001B[0m             )\n\u001B[0;32m-> 1213\u001B[0m input_grads \u001B[38;5;241m=\u001B[39m \u001B[43mnode\u001B[49m\u001B[38;5;241;43m.\u001B[39;49m\u001B[43mop\u001B[49m\u001B[38;5;241;43m.\u001B[39;49m\u001B[43mL_op\u001B[49m\u001B[43m(\u001B[49m\u001B[43minputs\u001B[49m\u001B[43m,\u001B[49m\u001B[43m \u001B[49m\u001B[43mnode\u001B[49m\u001B[38;5;241;43m.\u001B[39;49m\u001B[43moutputs\u001B[49m\u001B[43m,\u001B[49m\u001B[43m \u001B[49m\u001B[43mnew_output_grads\u001B[49m\u001B[43m)\u001B[49m\n\u001B[1;32m   1215\u001B[0m \u001B[38;5;28;01mif\u001B[39;00m input_grads \u001B[38;5;129;01mis\u001B[39;00m \u001B[38;5;28;01mNone\u001B[39;00m:\n\u001B[1;32m   1216\u001B[0m     \u001B[38;5;28;01mraise\u001B[39;00m \u001B[38;5;167;01mTypeError\u001B[39;00m(\n\u001B[1;32m   1217\u001B[0m         \u001B[38;5;124mf\u001B[39m\u001B[38;5;124m\"\u001B[39m\u001B[38;5;132;01m{\u001B[39;00mnode\u001B[38;5;241m.\u001B[39mop\u001B[38;5;132;01m}\u001B[39;00m\u001B[38;5;124m.grad returned NoneType, expected iterable.\u001B[39m\u001B[38;5;124m\"\u001B[39m\n\u001B[1;32m   1218\u001B[0m     )\n",
      "File \u001B[0;32m~/PycharmProjects/pythonProject/venv/lib/python3.9/site-packages/aesara/graph/op.py:392\u001B[0m, in \u001B[0;36mOp.L_op\u001B[0;34m(self, inputs, outputs, output_grads)\u001B[0m\n\u001B[1;32m    365\u001B[0m \u001B[38;5;28;01mdef\u001B[39;00m \u001B[38;5;21mL_op\u001B[39m(\n\u001B[1;32m    366\u001B[0m     \u001B[38;5;28mself\u001B[39m,\n\u001B[1;32m    367\u001B[0m     inputs: Sequence[Variable],\n\u001B[1;32m    368\u001B[0m     outputs: Sequence[Variable],\n\u001B[1;32m    369\u001B[0m     output_grads: Sequence[Variable],\n\u001B[1;32m    370\u001B[0m ) \u001B[38;5;241m-\u001B[39m\u001B[38;5;241m>\u001B[39m List[Variable]:\n\u001B[1;32m    371\u001B[0m     \u001B[38;5;124mr\u001B[39m\u001B[38;5;124;03m\"\"\"Construct a graph for the L-operator.\u001B[39;00m\n\u001B[1;32m    372\u001B[0m \n\u001B[1;32m    373\u001B[0m \u001B[38;5;124;03m    The L-operator computes a row vector times the Jacobian.\u001B[39;00m\n\u001B[0;32m   (...)\u001B[0m\n\u001B[1;32m    390\u001B[0m \n\u001B[1;32m    391\u001B[0m \u001B[38;5;124;03m    \"\"\"\u001B[39;00m\n\u001B[0;32m--> 392\u001B[0m     \u001B[38;5;28;01mreturn\u001B[39;00m \u001B[38;5;28;43mself\u001B[39;49m\u001B[38;5;241;43m.\u001B[39;49m\u001B[43mgrad\u001B[49m\u001B[43m(\u001B[49m\u001B[43minputs\u001B[49m\u001B[43m,\u001B[49m\u001B[43m \u001B[49m\u001B[43moutput_grads\u001B[49m\u001B[43m)\u001B[49m\n",
      "File \u001B[0;32m~/PycharmProjects/pythonProject/venv/lib/python3.9/site-packages/aesara/graph/op.py:363\u001B[0m, in \u001B[0;36mOp.grad\u001B[0;34m(self, inputs, output_grads)\u001B[0m\n\u001B[1;32m    322\u001B[0m \u001B[38;5;28;01mdef\u001B[39;00m \u001B[38;5;21mgrad\u001B[39m(\n\u001B[1;32m    323\u001B[0m     \u001B[38;5;28mself\u001B[39m, inputs: Sequence[Variable], output_grads: Sequence[Variable]\n\u001B[1;32m    324\u001B[0m ) \u001B[38;5;241m-\u001B[39m\u001B[38;5;241m>\u001B[39m List[Variable]:\n\u001B[1;32m    325\u001B[0m     \u001B[38;5;124mr\u001B[39m\u001B[38;5;124;03m\"\"\"Construct a graph for the gradient with respect to each input variable.\u001B[39;00m\n\u001B[1;32m    326\u001B[0m \n\u001B[1;32m    327\u001B[0m \u001B[38;5;124;03m    Each returned `Variable` represents the gradient with respect to that\u001B[39;00m\n\u001B[0;32m   (...)\u001B[0m\n\u001B[1;32m    361\u001B[0m \n\u001B[1;32m    362\u001B[0m \u001B[38;5;124;03m    \"\"\"\u001B[39;00m\n\u001B[0;32m--> 363\u001B[0m     \u001B[38;5;28;01mraise\u001B[39;00m \u001B[38;5;167;01mNotImplementedError\u001B[39;00m()\n",
      "\u001B[0;31mNotImplementedError\u001B[0m: "
     ]
    }
   ],
   "source": [
    "for i, (train_index, test_index) in enumerate(sss.split(eda, E)):\n",
    "    N_train = len(train_index)\n",
    "    eda_train = eda.iloc[train_index, :]\n",
    "    eda_test = eda.iloc[test_index, :]\n",
    "    hr_train = hr.iloc[train_index, :]\n",
    "    hr_test = hr.iloc[test_index, :]\n",
    "    pupil_train = pupil.iloc[train_index, :]\n",
    "    pupil_test = pupil.iloc[test_index, :]\n",
    "    img_train = morph_level.iloc[train_index, :]\n",
    "    img_test = morph_level.iloc[test_index, :]\n",
    "    e_labels_train = E.iloc[train_index, :]\n",
    "    e_labels_test = E.iloc[test_index, :]\n",
    "\n",
    "    # dimensions of each signal\n",
    "    d_eda = eda_train.shape[1]\n",
    "    d_hr = hr_train.shape[1]\n",
    "    d_pupil = pupil_train.shape[1]\n",
    "    d_e = e_labels_train.shape[1]\n",
    "    d_img = img_train.shape[1]\n",
    "    with pm.Model() as PPCA_identified:\n",
    "        # model coordinates\n",
    "        PPCA_identified.add_coord(\"latent_columns\", np.arange(k), mutable=True)\n",
    "        PPCA_identified.add_coord(\"rows\", np.arange(N_train), mutable=True)\n",
    "        PPCA_identified.add_coord(\"observed_eda\", np.arange(d_eda), mutable=False)\n",
    "        PPCA_identified.add_coord(\"observed_hr\", np.arange(d_hr), mutable=False)\n",
    "        PPCA_identified.add_coord(\"observed_pupil\", np.arange(d_pupil), mutable=False)\n",
    "        PPCA_identified.add_coord(\"observed_img\",np.arange(d_img),mutable=False)\n",
    "        PPCA_identified.add_coord(\"observed_label\", np.arange(d_e), mutable=False)\n",
    "\n",
    "        hr_data = pm.MutableData(\"hr_data\", hr_train.T, dims=[\"observed_hr\", \"rows\"])\n",
    "        eda_data = pm.MutableData(\"eda_data\", eda_train.T, dims=(\"observed_eda\", \"rows\"))\n",
    "        pupil_data = pm.MutableData(\"pupil_data\", pupil_train.T, dims=(\"observed_pupil\", \"rows\"))\n",
    "        img_data = pm.MutableData(\"img_data\", img_train, dims=(\"observed_img\",\"rows\"))\n",
    "        print(img_data.shape.eval())\n",
    "\n",
    "        W_eda = makeW(d_eda, k, (\"observed_eda\", \"latent_columns\"), 'W_eda')\n",
    "        W_hr = makeW(d_hr, k, (\"observed_hr\", \"latent_columns\"), 'W_hr')\n",
    "        W_pupil = makeW(d_pupil, k, (\"observed_pupil\", \"latent_columns\"), 'W_pupil')\n",
    "        W_img = pm.Normal(\"W_img\", dims= [\"observed_img\",\"latent_columns\"])\n",
    "        print(W_img.shape.eval())\n",
    "        W_e = pm.Normal(\"W_e\", dims=[\"observed_label\", \"latent_columns\"])\n",
    "        print(W_e.shape.eval())\n",
    "\n",
    "        C = pm.Normal(\"C\", dims=[\"latent_columns\", \"rows\"])\n",
    "        print(C.shape.eval())\n",
    "\n",
    "        psi_eda = pm.HalfNormal(\"psi_eda\", 1.0)\n",
    "        X_eda = pm.Normal(\"X_eda\", mu=at.dot(W_eda, C), sigma=psi_eda, observed=eda_data,\n",
    "                          dims=[\"observed_eda\", \"rows\"])\n",
    "\n",
    "        psi_hr = pm.HalfNormal(\"psi_hr\", 1.0)\n",
    "        X_hr = pm.Normal(\"X_hr\", mu=at.dot(W_hr, C), sigma=psi_hr, observed=hr_data, dims=[\"observed_hr\", \"rows\"])\n",
    "\n",
    "        psi_pupil = pm.HalfNormal(\"psi_pupil\", 1.0)\n",
    "        X_pupil = pm.Normal(\"X_pupil\", mu=at.dot(W_pupil, C), sigma=psi_pupil, observed=pupil_data,\n",
    "                            dims=[\"observed_pupil\", \"rows\"])\n",
    "\n",
    "        X_img = pm.Categorical('X_img', p=pm.math.softmax(at.matmul(W_img,C)), dims=[\"observed_img\",\"rows\"], observed=img_data)\n",
    "        print(X_img.shape.eval())\n",
    "\n",
    "        X_e = pm.Bernoulli(\"X_e\", p=pm.math.sigmoid(at.dot(W_e, C)), dims=[\"observed_label\", \"rows\"],observed=e_labels_train.T)\n",
    "\n",
    "\n",
    "    with PPCA_identified:\n",
    "        approx = pm.fit(100000, callbacks=[pm.callbacks.CheckParametersConvergence(tolerance=1e-4)])\n",
    "        trace = approx.sample(1000)\n"
   ]
  },
  {
   "cell_type": "code",
   "execution_count": null,
   "outputs": [],
   "source": [
    "\n",
    "    # model definition\n",
    "    with PPCA_identified:\n",
    "        posterior_predictive = pm.sample_posterior_predictive(\n",
    "            trace, var_names=[\"X_e\"], random_seed=123)\n",
    "\n",
    "    e_pred_train = posterior_predictive.posterior_predictive['X_e']\n",
    "    e_pred_mode_train = np.squeeze(stats.mode(e_pred_train[0], keepdims=False)[0])[:, np.newaxis]\n",
    "    train_accuracy_exp = accuracy_score(e_labels_train, e_pred_mode_train)\n",
    "\n",
    "    # test\n",
    "    e_pred_mode_test = my_post_predict(trace, hr_test, eda_test, pupil_test, img_test)\n",
    "    test_accuracy_exp = accuracy_score(e_labels_test, e_pred_mode_test)\n",
    "\n",
    "\n",
    "    row = [sub, k, i, train_accuracy_exp, test_accuracy_exp]\n",
    "    with open(FILENAME, 'a') as f:\n",
    "        write = csv.writer(f)\n",
    "        write.writerow(row)"
   ],
   "metadata": {
    "collapsed": false
   }
  }
 ],
 "metadata": {
  "kernelspec": {
   "display_name": "Python 3 (ipykernel)",
   "language": "python",
   "name": "python3"
  },
  "language_info": {
   "codemirror_mode": {
    "name": "ipython",
    "version": 3
   },
   "file_extension": ".py",
   "mimetype": "text/x-python",
   "name": "python",
   "nbconvert_exporter": "python",
   "pygments_lexer": "ipython3",
   "version": "3.8.10"
  }
 },
 "nbformat": 4,
 "nbformat_minor": 2
}
