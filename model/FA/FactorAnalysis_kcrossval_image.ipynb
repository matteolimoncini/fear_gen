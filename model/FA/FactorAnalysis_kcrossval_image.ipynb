{
 "cells": [
  {
   "cell_type": "code",
   "execution_count": 1,
   "metadata": {},
   "outputs": [
    {
     "name": "stderr",
     "output_type": "stream",
     "text": [
      "WARNING (aesara.tensor.blas): Using NumPy C-API based implementation for BLAS functions.\n"
     ]
    }
   ],
   "source": [
    "import pymc as pm\n",
    "import aesara.tensor as at\n",
    "import numpy as np\n",
    "import pandas as pd\n",
    "import matplotlib.pyplot as plt\n",
    "from numpy.random import default_rng\n",
    "from scipy import stats\n",
    "from sklearn.metrics import accuracy_score\n",
    "import csv\n",
    "from sklearn.metrics import confusion_matrix\n",
    "import sys\n",
    "from sklearn.preprocessing import StandardScaler"
   ]
  },
  {
   "cell_type": "code",
   "execution_count": 3,
   "metadata": {},
   "outputs": [],
   "source": [
    "sys.path.append('../../')"
   ]
  },
  {
   "cell_type": "code",
   "execution_count": 4,
   "metadata": {},
   "outputs": [],
   "source": [
    "import extract_correct_csv\n",
    "import os"
   ]
  },
  {
   "cell_type": "code",
   "execution_count": 5,
   "outputs": [
    {
     "name": "stdout",
     "output_type": "stream",
     "text": [
      " complete_pooling_label_factor_analysis_fake.py\r\n",
      " complete_pooling_label_factor_analysis_normalized.py\r\n",
      " complete_pooling_label_factor_analysis.py\r\n",
      " FactorAnalysisFake.py\r\n",
      " FactorAnalysis.ipynb\r\n",
      " FactorAnalysis_kcrossval_image.ipynb\r\n",
      " FactorAnalysis_kcrossval_image.py\r\n",
      " FactorAnalysis_kcrossval.ipynb\r\n",
      " FactorAnalysis_kcrossval_monophysio.py\r\n",
      " FactorAnalysis_kcrossval.py\r\n",
      " FactorAnalysis.py\r\n",
      "'PPCA example'\r\n",
      "'PPCA example.pdf'\r\n",
      " unpooled_image.ipynb\r\n",
      " unpooled_label_factor_analysis.py\r\n"
     ]
    }
   ],
   "source": [
    "!ls"
   ],
   "metadata": {
    "collapsed": false
   }
  },
  {
   "cell_type": "code",
   "execution_count": 6,
   "metadata": {},
   "outputs": [],
   "source": [
    "os.chdir('..')\n",
    "os.chdir('..')"
   ]
  },
  {
   "cell_type": "code",
   "execution_count": 7,
   "outputs": [
    {
     "name": "stdout",
     "output_type": "stream",
     "text": [
      " complete_pooled\t       LinearRegression.ipynb  'PPCA factor'\r\n",
      " data\t\t\t       model\t\t       'PPCA factor.pdf'\r\n",
      " data_fake\t\t       old_files\t        __pycache__\r\n",
      " deepemogp\t\t       output\t\t        requirements.txt\r\n",
      " extract_correct_csv.py        plot_signals.ipynb       test\r\n",
      " extract_features_signals.py  'PPCA definitive'         tt\r\n",
      " FA_CHECK.ipynb\t\t      'PPCA definitive.pdf'     tt.pdf\r\n",
      " fake_signals\t\t      'PPCA example'\r\n",
      " FA_mono_physio.py\t      'PPCA example.pdf'\r\n"
     ]
    }
   ],
   "source": [
    "!ls"
   ],
   "metadata": {
    "collapsed": false
   }
  },
  {
   "cell_type": "code",
   "execution_count": 8,
   "metadata": {},
   "outputs": [],
   "source": [
    "scaler = StandardScaler()\n",
    "RANDOM_SEED = 31415\n",
    "rng = default_rng(RANDOM_SEED)"
   ]
  },
  {
   "cell_type": "markdown",
   "metadata": {},
   "source": [
    "all valid subjects"
   ]
  },
  {
   "cell_type": "code",
   "execution_count": 9,
   "metadata": {},
   "outputs": [],
   "source": [
    "all_subject = extract_correct_csv.extract_only_valid_subject()\n",
    "all_subject.remove(49)"
   ]
  },
  {
   "cell_type": "markdown",
   "metadata": {},
   "source": [
    "all k = {2, 4, 6, 8} for the latent space"
   ]
  },
  {
   "cell_type": "code",
   "execution_count": 10,
   "metadata": {},
   "outputs": [],
   "source": [
    "valid_k_list = list([2, 6, 10, 12, 15, 20])"
   ]
  },
  {
   "cell_type": "markdown",
   "metadata": {},
   "source": [
    "keep only generalization trials"
   ]
  },
  {
   "cell_type": "code",
   "execution_count": 11,
   "metadata": {},
   "outputs": [],
   "source": [
    "num_trials_to_remove = 48"
   ]
  },
  {
   "cell_type": "markdown",
   "metadata": {},
   "source": [
    "functions that creates triangular matrices"
   ]
  },
  {
   "cell_type": "code",
   "execution_count": 12,
   "metadata": {},
   "outputs": [],
   "source": [
    "def expand_packed_block_triangular(d, k, packed, diag=None, mtype=\"aesara\"):\n",
    "    # like expand_packed_triangular, but with d > k.\n",
    "    assert mtype in {\"aesara\", \"numpy\"}\n",
    "    assert d >= k\n",
    "    def set_(M, i_, v_):\n",
    "        if mtype == \"aesara\":\n",
    "            return at.set_subtensor(M[i_], v_)\n",
    "        M[i_] = v_\n",
    "        return M\n",
    "    out = at.zeros((d, k), dtype=float) if mtype == \"aesara\" else np.zeros((d, k), dtype=float)\n",
    "    if diag is None:\n",
    "        idxs = np.tril_indices(d, m=k)\n",
    "        out = set_(out, idxs, packed)\n",
    "    else:\n",
    "        idxs = np.tril_indices(d, k=-1, m=k)\n",
    "        out = set_(out, idxs, packed)\n",
    "        idxs = (np.arange(k), np.arange(k))\n",
    "        out = set_(out, idxs, diag)\n",
    "    return out"
   ]
  },
  {
   "cell_type": "code",
   "execution_count": 13,
   "metadata": {},
   "outputs": [],
   "source": [
    "def makeW(d, k, dim_names, name):\n",
    "    # make a W matrix adapted to the data shape\n",
    "    n_od = int(k * d - k * (k - 1) / 2 - k)\n",
    "    # trick: the cumulative sum of z will be positive increasing\n",
    "    z = pm.HalfNormal(\"W_z_\" + name, 1.0, dims=\"latent_columns\")\n",
    "    b = pm.HalfNormal(\"W_b_\" + name, 1.0, shape=(n_od,), dims=\"packed_dim\")\n",
    "    L = expand_packed_block_triangular(d, k, b, at.ones(k))\n",
    "    W = pm.Deterministic(name, at.dot(L, at.diag(at.extra_ops.cumsum(z))), dims=dim_names)\n",
    "    return W"
   ]
  },
  {
   "cell_type": "code",
   "execution_count": 14,
   "metadata": {},
   "outputs": [],
   "source": [
    "def my_post_predict(trace, hr_new, eda_new, pupil_new, img_new):\n",
    "    whr_ = trace.posterior['W_hr'][0]\n",
    "    weda_ = trace.posterior['W_eda'][0]\n",
    "    wpupil_ = trace.posterior['W_pupil'][0]\n",
    "    wimg_ = trace.posterior['W_img'][0]\n",
    "    we_ = trace.posterior['W_e'][0]\n",
    "\n",
    "    C_val_hr = at.dot(np.linalg.pinv(whr_), hr_new.T)\n",
    "    C_val_eda = at.dot(np.linalg.pinv(weda_), eda_new.T)\n",
    "    C_val_pupil = at.dot(np.linalg.pinv(wpupil_), pupil_new.T)\n",
    "    C_val_img = at.dot(np.linalg.pinv(wimg_),img_new.T)\n",
    "\n",
    "    val_hr = at.matmul(np.array(we_), C_val_hr.eval())\n",
    "    val_eda = at.matmul(np.array(we_), C_val_eda.eval())\n",
    "    val_pupil = at.matmul(np.array(we_), C_val_pupil.eval())\n",
    "    val_img = at.matmul(np.array(wimg_),C_val_img.eval())\n",
    "\n",
    "    val_label_gen = at.concatenate((val_hr, val_eda, val_pupil, val_img))\n",
    "\n",
    "    label_val = np.where(val_label_gen.eval() < 0, 0, 1)\n",
    "    label_val = stats.mode(label_val[0], keepdims=False)[0]\n",
    "\n",
    "    return label_val"
   ]
  },
  {
   "cell_type": "code",
   "execution_count": null,
   "metadata": {},
   "outputs": [],
   "source": [
    "FILENAME= 'output/FA/FA_kcv_norm_image.csv'\n",
    "columns = ['subject', 'k', 'fold', 'train', 'test']\n",
    "with open(FILENAME, 'w') as f:\n",
    "    write = csv.writer(f)\n",
    "    write.writerow(columns)"
   ]
  },
  {
   "cell_type": "code",
   "execution_count": 15,
   "outputs": [],
   "source": [
    "sub=2\n",
    "k=12"
   ],
   "metadata": {
    "collapsed": false
   }
  },
  {
   "cell_type": "code",
   "execution_count": null,
   "outputs": [],
   "source": [],
   "metadata": {
    "collapsed": false
   }
  },
  {
   "cell_type": "code",
   "execution_count": null,
   "outputs": [],
   "source": [],
   "metadata": {
    "collapsed": false
   }
  },
  {
   "cell_type": "code",
   "execution_count": 16,
   "metadata": {},
   "outputs": [],
   "source": [
    "eda = pd.read_csv('data/features_4_2/eda/' + str(sub) + '.csv')\n",
    "eda = eda[num_trials_to_remove:]\n",
    "eda = scaler.fit_transform(eda)\n",
    "\n",
    "# hr data\n",
    "hr = pd.read_csv('data/features_4_2/hr/' + str(sub) + '.csv')\n",
    "hr = hr[num_trials_to_remove:]\n",
    "hr = scaler.fit_transform(hr)\n",
    "\n",
    "# pupil data\n",
    "pupil = pd.read_csv('data/features_4_2/pupil/' + str(sub) + '.csv')\n",
    "pupil = pupil[num_trials_to_remove:]\n",
    "pupil = scaler.fit_transform(pupil)"
   ]
  },
  {
   "cell_type": "code",
   "execution_count": 17,
   "outputs": [],
   "source": [
    "string_sub = extract_correct_csv.read_correct_subject_csv(sub)\n",
    "\n",
    "df_ = pd.read_csv('data/LookAtMe_0' + str(string_sub) + '.csv', sep='\\t')\n",
    "df_ = df_[num_trials_to_remove:]\n",
    "label = np.array(list([int(d > 2) for d in df_['rating']]))\n",
    "E = label[:, np.newaxis]"
   ],
   "metadata": {
    "collapsed": false
   }
  },
  {
   "cell_type": "code",
   "execution_count": 18,
   "outputs": [
    {
     "data": {
      "text/plain": "      expName  subject  pairs  cs1  cs2  block  trial  condition  rating  \\\n48   LookAtMe        2      2    2    2      2     49         22       3   \n49   LookAtMe        2      2    2    2      2     50         26       3   \n50   LookAtMe        2      2    2    2      2     51         25       3   \n51   LookAtMe        2      2    2    2      2     52         24       3   \n52   LookAtMe        2      2    2    2      2     53         26       4   \n..        ...      ...    ...  ...  ...    ...    ...        ...     ...   \n155  LookAtMe        2      2    2    2      2    156         34       1   \n156  LookAtMe        2      2    2    2      2    157         25       1   \n157  LookAtMe        2      2    2    2      2    158         31       1   \n158  LookAtMe        2      2    2    2      2    159         21       1   \n159  LookAtMe        2      2    2    2      2    160         36       4   \n\n           rt  shock                   picName            timestamp  \n48   0.763765  False     stim\\morph\\3&4 20.jpg  2018-12-18 16:57:08  \n49   0.603369   True          stim\\4 M078C.jpg  2018-12-18 16:57:18  \n50   0.638683  False     stim\\morph\\3&4 80.jpg  2018-12-18 16:57:27  \n51   0.585005  False     stim\\morph\\3&4 60.jpg  2018-12-18 16:57:36  \n52   0.864549  False          stim\\4 M078C.jpg  2018-12-18 16:57:44  \n..        ...    ...                       ...                  ...  \n155  0.832084  False     stim\\morph\\5&6 60.jpg  2018-12-18 17:13:26  \n156  0.785097  False     stim\\morph\\3&4 80.jpg  2018-12-18 17:13:35  \n157  0.753787  False  stim\\5 F053C + F048C.jpg  2018-12-18 17:13:44  \n158  0.601941  False  stim\\3 M078C + M057C.jpg  2018-12-18 17:13:54  \n159  0.456371  False          stim\\6 F053C.jpg  2018-12-18 17:14:03  \n\n[112 rows x 13 columns]",
      "text/html": "<div>\n<style scoped>\n    .dataframe tbody tr th:only-of-type {\n        vertical-align: middle;\n    }\n\n    .dataframe tbody tr th {\n        vertical-align: top;\n    }\n\n    .dataframe thead th {\n        text-align: right;\n    }\n</style>\n<table border=\"1\" class=\"dataframe\">\n  <thead>\n    <tr style=\"text-align: right;\">\n      <th></th>\n      <th>expName</th>\n      <th>subject</th>\n      <th>pairs</th>\n      <th>cs1</th>\n      <th>cs2</th>\n      <th>block</th>\n      <th>trial</th>\n      <th>condition</th>\n      <th>rating</th>\n      <th>rt</th>\n      <th>shock</th>\n      <th>picName</th>\n      <th>timestamp</th>\n    </tr>\n  </thead>\n  <tbody>\n    <tr>\n      <th>48</th>\n      <td>LookAtMe</td>\n      <td>2</td>\n      <td>2</td>\n      <td>2</td>\n      <td>2</td>\n      <td>2</td>\n      <td>49</td>\n      <td>22</td>\n      <td>3</td>\n      <td>0.763765</td>\n      <td>False</td>\n      <td>stim\\morph\\3&amp;4 20.jpg</td>\n      <td>2018-12-18 16:57:08</td>\n    </tr>\n    <tr>\n      <th>49</th>\n      <td>LookAtMe</td>\n      <td>2</td>\n      <td>2</td>\n      <td>2</td>\n      <td>2</td>\n      <td>2</td>\n      <td>50</td>\n      <td>26</td>\n      <td>3</td>\n      <td>0.603369</td>\n      <td>True</td>\n      <td>stim\\4 M078C.jpg</td>\n      <td>2018-12-18 16:57:18</td>\n    </tr>\n    <tr>\n      <th>50</th>\n      <td>LookAtMe</td>\n      <td>2</td>\n      <td>2</td>\n      <td>2</td>\n      <td>2</td>\n      <td>2</td>\n      <td>51</td>\n      <td>25</td>\n      <td>3</td>\n      <td>0.638683</td>\n      <td>False</td>\n      <td>stim\\morph\\3&amp;4 80.jpg</td>\n      <td>2018-12-18 16:57:27</td>\n    </tr>\n    <tr>\n      <th>51</th>\n      <td>LookAtMe</td>\n      <td>2</td>\n      <td>2</td>\n      <td>2</td>\n      <td>2</td>\n      <td>2</td>\n      <td>52</td>\n      <td>24</td>\n      <td>3</td>\n      <td>0.585005</td>\n      <td>False</td>\n      <td>stim\\morph\\3&amp;4 60.jpg</td>\n      <td>2018-12-18 16:57:36</td>\n    </tr>\n    <tr>\n      <th>52</th>\n      <td>LookAtMe</td>\n      <td>2</td>\n      <td>2</td>\n      <td>2</td>\n      <td>2</td>\n      <td>2</td>\n      <td>53</td>\n      <td>26</td>\n      <td>4</td>\n      <td>0.864549</td>\n      <td>False</td>\n      <td>stim\\4 M078C.jpg</td>\n      <td>2018-12-18 16:57:44</td>\n    </tr>\n    <tr>\n      <th>...</th>\n      <td>...</td>\n      <td>...</td>\n      <td>...</td>\n      <td>...</td>\n      <td>...</td>\n      <td>...</td>\n      <td>...</td>\n      <td>...</td>\n      <td>...</td>\n      <td>...</td>\n      <td>...</td>\n      <td>...</td>\n      <td>...</td>\n    </tr>\n    <tr>\n      <th>155</th>\n      <td>LookAtMe</td>\n      <td>2</td>\n      <td>2</td>\n      <td>2</td>\n      <td>2</td>\n      <td>2</td>\n      <td>156</td>\n      <td>34</td>\n      <td>1</td>\n      <td>0.832084</td>\n      <td>False</td>\n      <td>stim\\morph\\5&amp;6 60.jpg</td>\n      <td>2018-12-18 17:13:26</td>\n    </tr>\n    <tr>\n      <th>156</th>\n      <td>LookAtMe</td>\n      <td>2</td>\n      <td>2</td>\n      <td>2</td>\n      <td>2</td>\n      <td>2</td>\n      <td>157</td>\n      <td>25</td>\n      <td>1</td>\n      <td>0.785097</td>\n      <td>False</td>\n      <td>stim\\morph\\3&amp;4 80.jpg</td>\n      <td>2018-12-18 17:13:35</td>\n    </tr>\n    <tr>\n      <th>157</th>\n      <td>LookAtMe</td>\n      <td>2</td>\n      <td>2</td>\n      <td>2</td>\n      <td>2</td>\n      <td>2</td>\n      <td>158</td>\n      <td>31</td>\n      <td>1</td>\n      <td>0.753787</td>\n      <td>False</td>\n      <td>stim\\5 F053C + F048C.jpg</td>\n      <td>2018-12-18 17:13:44</td>\n    </tr>\n    <tr>\n      <th>158</th>\n      <td>LookAtMe</td>\n      <td>2</td>\n      <td>2</td>\n      <td>2</td>\n      <td>2</td>\n      <td>2</td>\n      <td>159</td>\n      <td>21</td>\n      <td>1</td>\n      <td>0.601941</td>\n      <td>False</td>\n      <td>stim\\3 M078C + M057C.jpg</td>\n      <td>2018-12-18 17:13:54</td>\n    </tr>\n    <tr>\n      <th>159</th>\n      <td>LookAtMe</td>\n      <td>2</td>\n      <td>2</td>\n      <td>2</td>\n      <td>2</td>\n      <td>2</td>\n      <td>160</td>\n      <td>36</td>\n      <td>4</td>\n      <td>0.456371</td>\n      <td>False</td>\n      <td>stim\\6 F053C.jpg</td>\n      <td>2018-12-18 17:14:03</td>\n    </tr>\n  </tbody>\n</table>\n<p>112 rows × 13 columns</p>\n</div>"
     },
     "execution_count": 18,
     "metadata": {},
     "output_type": "execute_result"
    }
   ],
   "source": [
    "df_"
   ],
   "metadata": {
    "collapsed": false
   }
  },
  {
   "cell_type": "code",
   "execution_count": 19,
   "outputs": [],
   "source": [
    "def extract_cs(df):\n",
    "    cs1, cs2 = int(df[df.shock == True].picName.unique()[0][5]), int(df[df.shock == True].picName.unique()[1][5])\n",
    "    return cs1, cs2\n",
    "\n",
    "\n",
    "morph_pos = 11\n",
    "morph_value = 15\n",
    "\n",
    "\n",
    "def extract_threat_level(df):\n",
    "    MORPH_POS = 11\n",
    "    MORPH_VALUE = 15\n",
    "    threat_person = []\n",
    "    cs1_pic, cs2_pic = extract_cs(df)\n",
    "\n",
    "    for i in df.iterrows():\n",
    "        nome = i[1].picName\n",
    "        try:\n",
    "            if nome[5] == str(cs1_pic) or nome[5] == str(cs2_pic):\n",
    "                threat_person.append(6)\n",
    "                continue\n",
    "            elif int(nome[5]):\n",
    "                threat_person.append(1)\n",
    "                continue\n",
    "        except:\n",
    "            if (int(nome[MORPH_POS]) == cs1_pic) or (int(nome[MORPH_POS]) == cs2_pic):\n",
    "                if nome[MORPH_VALUE] == '2':\n",
    "                    threat_person.append(5)\n",
    "\n",
    "                elif nome[MORPH_VALUE] == '4':\n",
    "                    threat_person.append(4)\n",
    "\n",
    "                elif nome[MORPH_VALUE] == '6':\n",
    "                    threat_person.append(3)\n",
    "\n",
    "                elif nome[MORPH_VALUE] == '8':\n",
    "                    threat_person.append(2)\n",
    "                    continue\n",
    "            else:\n",
    "                if nome[MORPH_VALUE] == '2':\n",
    "                    threat_person.append(2)\n",
    "\n",
    "                elif nome[MORPH_VALUE] == '4':\n",
    "                    threat_person.append(3)\n",
    "\n",
    "                elif nome[MORPH_VALUE] == '6':\n",
    "                    threat_person.append(4)\n",
    "\n",
    "                elif nome[MORPH_VALUE] == '8':\n",
    "                    threat_person.append(5)\n",
    "    return threat_person"
   ],
   "metadata": {
    "collapsed": false
   }
  },
  {
   "cell_type": "code",
   "execution_count": 20,
   "outputs": [],
   "source": [
    "img = extract_threat_level(df_)"
   ],
   "metadata": {
    "collapsed": false
   }
  },
  {
   "cell_type": "code",
   "execution_count": 21,
   "outputs": [
    {
     "data": {
      "text/plain": "{1, 2, 3, 4, 5, 6}"
     },
     "execution_count": 21,
     "metadata": {},
     "output_type": "execute_result"
    }
   ],
   "source": [
    "set(img)"
   ],
   "metadata": {
    "collapsed": false
   }
  },
  {
   "cell_type": "code",
   "execution_count": 23,
   "outputs": [
    {
     "data": {
      "text/plain": "array([[-0.34408666, -0.34037544, -0.28659079, ..., -0.86618356,\n        -0.92194184, -0.89196068],\n       [ 0.13775045,  0.14033052,  0.17329206, ...,  1.40254789,\n         1.12046445,  0.89825605],\n       [ 0.06328214,  0.06531393,  0.0844711 , ..., -0.59036548,\n        -0.37174885, -0.271711  ],\n       ...,\n       [ 0.25930085,  0.26069988,  0.26733364, ...,  0.50573059,\n         0.29710525,  0.08006945],\n       [ 0.60519291,  0.61131809,  0.73338973, ..., -0.33920523,\n        -0.42484752, -0.46099335],\n       [-0.66745998, -0.66535129, -0.65307083, ..., -0.23849204,\n         1.25167934,  2.20812578]])"
     },
     "execution_count": 23,
     "metadata": {},
     "output_type": "execute_result"
    }
   ],
   "source": [
    "eda"
   ],
   "metadata": {
    "collapsed": false
   }
  },
  {
   "cell_type": "code",
   "execution_count": 24,
   "outputs": [],
   "source": [
    "img = pd.DataFrame(img)"
   ],
   "metadata": {
    "collapsed": false
   }
  },
  {
   "cell_type": "code",
   "execution_count": 25,
   "outputs": [],
   "source": [
    "# num trials\n",
    "TEST_PERC = 0.2\n",
    "\n",
    "eda = pd.DataFrame(eda)\n",
    "eda = eda.reset_index().drop(columns=('index'))\n",
    "pupil = pd.DataFrame(pupil)\n",
    "pupil = pupil.reset_index().drop(columns=('index'))\n",
    "hr = pd.DataFrame(hr)\n",
    "hr = hr.reset_index().drop(columns=('index'))\n",
    "img= pd.DataFrame(img)\n",
    "img = img.reset_index().drop(columns=('index'))\n",
    "E = pd.DataFrame(E)\n",
    "E = E.reset_index().drop(columns=('index'))\n"
   ],
   "metadata": {
    "collapsed": false
   }
  },
  {
   "cell_type": "code",
   "execution_count": 26,
   "outputs": [],
   "source": [
    "from sklearn.model_selection import StratifiedShuffleSplit\n",
    "sss = StratifiedShuffleSplit(n_splits=3, test_size=TEST_PERC, random_state=123)"
   ],
   "metadata": {
    "collapsed": false
   }
  },
  {
   "cell_type": "code",
   "execution_count": null,
   "outputs": [
    {
     "name": "stderr",
     "output_type": "stream",
     "text": [
      "qt5ct: using qt5ct plugin\n",
      "Invalid Context= \"Apps\" line for icon theme:  \"/usr/share/icons/Mint-Y/apps/16/\"\n",
      "Invalid Context= \"Apps\" line for icon theme:  \"/usr/share/icons/Mint-Y/apps/16@2x/\"\n",
      "Invalid Context= \"Mimetypes\" line for icon theme:  \"/usr/share/icons/Mint-Y/mimetypes/16/\"\n",
      "Invalid Context= \"Mimetypes\" line for icon theme:  \"/usr/share/icons/Mint-Y/mimetypes/16@2x/\"\n",
      "Invalid Context= \"Apps\" line for icon theme:  \"/usr/share/icons/Mint-Y/apps/22/\"\n",
      "Invalid Context= \"Apps\" line for icon theme:  \"/usr/share/icons/Mint-Y/apps/22@2x/\"\n",
      "Invalid Context= \"Apps\" line for icon theme:  \"/usr/share/icons/Mint-Y/apps/24/\"\n",
      "Invalid Context= \"Apps\" line for icon theme:  \"/usr/share/icons/Mint-Y/apps/24@2x/\"\n",
      "Invalid Context= \"Mimetypes\" line for icon theme:  \"/usr/share/icons/Mint-Y/mimetypes/24/\"\n",
      "Invalid Context= \"Mimetypes\" line for icon theme:  \"/usr/share/icons/Mint-Y/mimetypes/24@2x/\"\n",
      "Invalid Context= \"Apps\" line for icon theme:  \"/usr/share/icons/Mint-Y/apps/32/\"\n",
      "Invalid Context= \"Apps\" line for icon theme:  \"/usr/share/icons/Mint-Y/apps/32@2x/\"\n",
      "Invalid Context= \"Mimetypes\" line for icon theme:  \"/usr/share/icons/Mint-Y/mimetypes/32/\"\n",
      "Invalid Context= \"Mimetypes\" line for icon theme:  \"/usr/share/icons/Mint-Y/mimetypes/32@2x/\"\n",
      "Invalid Context= \"Apps\" line for icon theme:  \"/usr/share/icons/Mint-Y/apps/48/\"\n",
      "Invalid Context= \"Apps\" line for icon theme:  \"/usr/share/icons/Mint-Y/apps/48@2x/\"\n",
      "Invalid Context= \"Mimetypes\" line for icon theme:  \"/usr/share/icons/Mint-Y/mimetypes/48/\"\n",
      "Invalid Context= \"Mimetypes\" line for icon theme:  \"/usr/share/icons/Mint-Y/mimetypes/48@2x/\"\n",
      "Invalid Context= \"Apps\" line for icon theme:  \"/usr/share/icons/Mint-Y/apps/64/\"\n",
      "Invalid Context= \"Apps\" line for icon theme:  \"/usr/share/icons/Mint-Y/apps/64@2x/\"\n",
      "Invalid Context= \"Mimetypes\" line for icon theme:  \"/usr/share/icons/Mint-Y/mimetypes/64/\"\n",
      "Invalid Context= \"Mimetypes\" line for icon theme:  \"/usr/share/icons/Mint-Y/mimetypes/64@2x/\"\n",
      "Invalid Context= \"Apps\" line for icon theme:  \"/usr/share/icons/Mint-Y/apps/96/\"\n",
      "Invalid Context= \"Apps\" line for icon theme:  \"/usr/share/icons/Mint-Y/apps/96@2x/\"\n",
      "Invalid Context= \"Mimetypes\" line for icon theme:  \"/usr/share/icons/Mint-Y/mimetypes/128/\"\n",
      "Invalid Context= \"Mimetypes\" line for icon theme:  \"/usr/share/icons/Mint-Y/mimetypes/128@2x/\"\n",
      "Invalid Context= \"Apps\" line for icon theme:  \"/usr/share/icons/Mint-Y/apps/256/\"\n",
      "Invalid Context= \"Apps\" line for icon theme:  \"/usr/share/icons/Mint-Y/apps/256@2x/\"\n",
      "Invalid Context= \"Apps\" line for icon theme:  \"/usr/share/icons/Mint-Y/apps/symbolic/\"\n",
      "Invalid Context= \"Mimetypes\" line for icon theme:  \"/usr/share/icons/Mint-Y/mimetypes/symbolic/\"\n",
      "Invalid Context= \"Legacy\" line for icon theme:  \"/usr/share/icons/Adwaita/8x8/legacy/\"\n",
      "Invalid Context= \"Legacy\" line for icon theme:  \"/usr/share/icons/Adwaita/16x16/legacy/\"\n",
      "Invalid Context= \"UI\" line for icon theme:  \"/usr/share/icons/Adwaita/16x16/ui/\"\n",
      "Invalid Context= \"Legacy\" line for icon theme:  \"/usr/share/icons/Adwaita/22x22/legacy/\"\n",
      "Invalid Context= \"Legacy\" line for icon theme:  \"/usr/share/icons/Adwaita/24x24/legacy/\"\n",
      "Invalid Context= \"UI\" line for icon theme:  \"/usr/share/icons/Adwaita/24x24/ui/\"\n",
      "Invalid Context= \"Legacy\" line for icon theme:  \"/usr/share/icons/Adwaita/32x32/legacy/\"\n",
      "Invalid Context= \"UI\" line for icon theme:  \"/usr/share/icons/Adwaita/32x32/ui/\"\n",
      "Invalid Context= \"Legacy\" line for icon theme:  \"/usr/share/icons/Adwaita/48x48/legacy/\"\n",
      "Invalid Context= \"UI\" line for icon theme:  \"/usr/share/icons/Adwaita/48x48/ui/\"\n",
      "Invalid Context= \"Legacy\" line for icon theme:  \"/usr/share/icons/Adwaita/64x64/legacy/\"\n",
      "Invalid Context= \"UI\" line for icon theme:  \"/usr/share/icons/Adwaita/64x64/ui/\"\n",
      "Invalid Context= \"Legacy\" line for icon theme:  \"/usr/share/icons/Adwaita/96x96/legacy/\"\n",
      "Invalid Context= \"UI\" line for icon theme:  \"/usr/share/icons/Adwaita/96x96/ui/\"\n",
      "Invalid Context= \"Legacy\" line for icon theme:  \"/usr/share/icons/Adwaita/256x256/legacy/\"\n",
      "Invalid Context= \"Legacy\" line for icon theme:  \"/usr/share/icons/Adwaita/512x512/legacy/\"\n",
      "Invalid Context= \"Legacy\" line for icon theme:  \"/usr/share/icons/Adwaita/scalable/legacy/\"\n",
      "Invalid Context= \"UI\" line for icon theme:  \"/usr/share/icons/Adwaita/scalable/ui/\"\n",
      "qt5ct: D-Bus global menu: no\n",
      "Invalid Context= \"Apps\" line for icon theme:  \"/usr/share/icons/Mint-Y/apps/16/\"\n",
      "Invalid Context= \"Apps\" line for icon theme:  \"/usr/share/icons/Mint-Y/apps/16@2x/\"\n",
      "Invalid Context= \"Mimetypes\" line for icon theme:  \"/usr/share/icons/Mint-Y/mimetypes/16/\"\n",
      "Invalid Context= \"Mimetypes\" line for icon theme:  \"/usr/share/icons/Mint-Y/mimetypes/16@2x/\"\n",
      "Invalid Context= \"Apps\" line for icon theme:  \"/usr/share/icons/Mint-Y/apps/22/\"\n",
      "Invalid Context= \"Apps\" line for icon theme:  \"/usr/share/icons/Mint-Y/apps/22@2x/\"\n",
      "Invalid Context= \"Apps\" line for icon theme:  \"/usr/share/icons/Mint-Y/apps/24/\"\n",
      "Invalid Context= \"Apps\" line for icon theme:  \"/usr/share/icons/Mint-Y/apps/24@2x/\"\n",
      "Invalid Context= \"Mimetypes\" line for icon theme:  \"/usr/share/icons/Mint-Y/mimetypes/24/\"\n",
      "Invalid Context= \"Mimetypes\" line for icon theme:  \"/usr/share/icons/Mint-Y/mimetypes/24@2x/\"\n",
      "Invalid Context= \"Apps\" line for icon theme:  \"/usr/share/icons/Mint-Y/apps/32/\"\n",
      "Invalid Context= \"Apps\" line for icon theme:  \"/usr/share/icons/Mint-Y/apps/32@2x/\"\n",
      "Invalid Context= \"Mimetypes\" line for icon theme:  \"/usr/share/icons/Mint-Y/mimetypes/32/\"\n",
      "Invalid Context= \"Mimetypes\" line for icon theme:  \"/usr/share/icons/Mint-Y/mimetypes/32@2x/\"\n",
      "Invalid Context= \"Apps\" line for icon theme:  \"/usr/share/icons/Mint-Y/apps/48/\"\n",
      "Invalid Context= \"Apps\" line for icon theme:  \"/usr/share/icons/Mint-Y/apps/48@2x/\"\n",
      "Invalid Context= \"Mimetypes\" line for icon theme:  \"/usr/share/icons/Mint-Y/mimetypes/48/\"\n",
      "Invalid Context= \"Mimetypes\" line for icon theme:  \"/usr/share/icons/Mint-Y/mimetypes/48@2x/\"\n",
      "Invalid Context= \"Apps\" line for icon theme:  \"/usr/share/icons/Mint-Y/apps/64/\"\n",
      "Invalid Context= \"Apps\" line for icon theme:  \"/usr/share/icons/Mint-Y/apps/64@2x/\"\n",
      "Invalid Context= \"Mimetypes\" line for icon theme:  \"/usr/share/icons/Mint-Y/mimetypes/64/\"\n",
      "Invalid Context= \"Mimetypes\" line for icon theme:  \"/usr/share/icons/Mint-Y/mimetypes/64@2x/\"\n",
      "Invalid Context= \"Apps\" line for icon theme:  \"/usr/share/icons/Mint-Y/apps/96/\"\n",
      "Invalid Context= \"Apps\" line for icon theme:  \"/usr/share/icons/Mint-Y/apps/96@2x/\"\n",
      "Invalid Context= \"Mimetypes\" line for icon theme:  \"/usr/share/icons/Mint-Y/mimetypes/128/\"\n",
      "Invalid Context= \"Mimetypes\" line for icon theme:  \"/usr/share/icons/Mint-Y/mimetypes/128@2x/\"\n",
      "Invalid Context= \"Apps\" line for icon theme:  \"/usr/share/icons/Mint-Y/apps/256/\"\n",
      "Invalid Context= \"Apps\" line for icon theme:  \"/usr/share/icons/Mint-Y/apps/256@2x/\"\n",
      "Invalid Context= \"Apps\" line for icon theme:  \"/usr/share/icons/Mint-Y/apps/symbolic/\"\n",
      "Invalid Context= \"Mimetypes\" line for icon theme:  \"/usr/share/icons/Mint-Y/mimetypes/symbolic/\"\n",
      "Invalid Context= \"Legacy\" line for icon theme:  \"/usr/share/icons/Adwaita/8x8/legacy/\"\n",
      "Invalid Context= \"Legacy\" line for icon theme:  \"/usr/share/icons/Adwaita/16x16/legacy/\"\n",
      "Invalid Context= \"UI\" line for icon theme:  \"/usr/share/icons/Adwaita/16x16/ui/\"\n",
      "Invalid Context= \"Legacy\" line for icon theme:  \"/usr/share/icons/Adwaita/22x22/legacy/\"\n",
      "Invalid Context= \"Legacy\" line for icon theme:  \"/usr/share/icons/Adwaita/24x24/legacy/\"\n",
      "Invalid Context= \"UI\" line for icon theme:  \"/usr/share/icons/Adwaita/24x24/ui/\"\n",
      "Invalid Context= \"Legacy\" line for icon theme:  \"/usr/share/icons/Adwaita/32x32/legacy/\"\n",
      "Invalid Context= \"UI\" line for icon theme:  \"/usr/share/icons/Adwaita/32x32/ui/\"\n",
      "Invalid Context= \"Legacy\" line for icon theme:  \"/usr/share/icons/Adwaita/48x48/legacy/\"\n",
      "Invalid Context= \"UI\" line for icon theme:  \"/usr/share/icons/Adwaita/48x48/ui/\"\n",
      "Invalid Context= \"Legacy\" line for icon theme:  \"/usr/share/icons/Adwaita/64x64/legacy/\"\n",
      "Invalid Context= \"UI\" line for icon theme:  \"/usr/share/icons/Adwaita/64x64/ui/\"\n",
      "Invalid Context= \"Legacy\" line for icon theme:  \"/usr/share/icons/Adwaita/96x96/legacy/\"\n",
      "Invalid Context= \"UI\" line for icon theme:  \"/usr/share/icons/Adwaita/96x96/ui/\"\n",
      "Invalid Context= \"Legacy\" line for icon theme:  \"/usr/share/icons/Adwaita/256x256/legacy/\"\n",
      "Invalid Context= \"Legacy\" line for icon theme:  \"/usr/share/icons/Adwaita/512x512/legacy/\"\n",
      "Invalid Context= \"Legacy\" line for icon theme:  \"/usr/share/icons/Adwaita/scalable/legacy/\"\n",
      "Invalid Context= \"UI\" line for icon theme:  \"/usr/share/icons/Adwaita/scalable/ui/\"\n"
     ]
    },
    {
     "data": {
      "text/plain": "<IPython.core.display.HTML object>",
      "text/html": "\n<style>\n    /* Turns off some styling */\n    progress {\n        /* gets rid of default border in Firefox and Opera. */\n        border: none;\n        /* Needs to be in here for Safari polyfill so background images work as expected. */\n        background-size: auto;\n    }\n    progress:not([value]), progress:not([value])::-webkit-progress-bar {\n        background: repeating-linear-gradient(45deg, #7e7e7e, #7e7e7e 10px, #5c5c5c 10px, #5c5c5c 20px);\n    }\n    .progress-bar-interrupted, .progress-bar-interrupted::-webkit-progress-bar {\n        background: #F44336;\n    }\n</style>\n"
     },
     "metadata": {},
     "output_type": "display_data"
    },
    {
     "data": {
      "text/plain": "<IPython.core.display.HTML object>",
      "text/html": "\n    <div>\n      <progress value='0' class='' max='100000' style='width:300px; height:20px; vertical-align: middle;'></progress>\n      \n    </div>\n    "
     },
     "metadata": {},
     "output_type": "display_data"
    }
   ],
   "source": [
    "\n",
    "for i, (train_index, test_index) in enumerate(sss.split(eda, E)):\n",
    "    N_train = len(train_index)\n",
    "    eda_train = eda.iloc[train_index, :]\n",
    "    eda_test = eda.iloc[test_index, :]\n",
    "    hr_train = hr.iloc[train_index, :]\n",
    "    hr_test = hr.iloc[test_index, :]\n",
    "    pupil_train = pupil.iloc[train_index, :]\n",
    "    pupil_test = pupil.iloc[test_index, :]\n",
    "    img_train = img.iloc[train_index, :]\n",
    "    img_test = img.iloc[test_index, :]\n",
    "    e_labels_train = E.iloc[train_index, :]\n",
    "    e_labels_test = E.iloc[test_index, :]\n",
    "\n",
    "    # dimensions of each signal\n",
    "    d_eda = eda_train.shape[1]\n",
    "    d_hr = hr_train.shape[1]\n",
    "    d_pupil = pupil_train.shape[1]\n",
    "    d_e = e_labels_train.shape[1]\n",
    "    d_img = img_train.shape[1]\n",
    "\n",
    "    # model definition\n",
    "    with pm.Model() as PPCA_identified:\n",
    "        # model coordinates\n",
    "        PPCA_identified.add_coord(\"latent_columns\", np.arange(k), mutable=True)\n",
    "        PPCA_identified.add_coord(\"rows\", np.arange(N_train), mutable=True)\n",
    "        PPCA_identified.add_coord(\"observed_eda\", np.arange(d_eda), mutable=False)\n",
    "        PPCA_identified.add_coord(\"observed_hr\", np.arange(d_hr), mutable=False)\n",
    "        PPCA_identified.add_coord(\"observed_pupil\", np.arange(d_pupil), mutable=False)\n",
    "        PPCA_identified.add_coord(\"observed_img\",np.arange(d_img),mutable=False)\n",
    "        PPCA_identified.add_coord(\"observed_label\", np.arange(d_e), mutable=False)\n",
    "\n",
    "        hr_data = pm.MutableData(\"hr_data\", hr_train.T, dims=[\"observed_hr\", \"rows\"])\n",
    "        eda_data = pm.MutableData(\"eda_data\", eda_train.T, dims=(\"observed_eda\", \"rows\"))\n",
    "        pupil_data = pm.MutableData(\"pupil_data\", pupil_train.T, dims=(\"observed_pupil\", \"rows\"))\n",
    "        img_data = pm.MutableData(\"img_data\", img_train.T, dims=(\"observed_img\",\"rows\"))\n",
    "\n",
    "        W_eda = makeW(d_eda, k, (\"observed_eda\", \"latent_columns\"), 'W_eda')\n",
    "        W_hr = makeW(d_hr, k, (\"observed_hr\", \"latent_columns\"), 'W_hr')\n",
    "        W_pupil = makeW(d_pupil, k, (\"observed_pupil\", \"latent_columns\"), 'W_pupil')\n",
    "        W_img = pm.Normal(\"W_img\", dims= [\"observed_img\",\"latent_columns\"])\n",
    "        W_e = pm.Normal(\"W_e\", dims=[\"observed_label\", \"latent_columns\"])\n",
    "\n",
    "        C = pm.Normal(\"C\", dims=[\"latent_columns\", \"rows\"])\n",
    "\n",
    "        psi_eda = pm.HalfNormal(\"psi_eda\", 1.0)\n",
    "        X_eda = pm.Normal(\"X_eda\", mu=at.dot(W_eda, C), sigma=psi_eda, observed=eda_data,\n",
    "                          dims=[\"observed_eda\", \"rows\"])\n",
    "\n",
    "        psi_hr = pm.HalfNormal(\"psi_hr\", 1.0)\n",
    "        X_hr = pm.Normal(\"X_hr\", mu=at.dot(W_hr, C), sigma=psi_hr, observed=hr_data, dims=[\"observed_hr\", \"rows\"])\n",
    "\n",
    "        psi_pupil = pm.HalfNormal(\"psi_pupil\", 1.0)\n",
    "        X_pupil = pm.Normal(\"X_pupil\", mu=at.dot(W_pupil, C), sigma=psi_pupil, observed=pupil_data,\n",
    "                            dims=[\"observed_pupil\", \"rows\"])\n",
    "\n",
    "        X_img = pm.Categorical('X_img', p=pm.math.softmax(at.dot(W_img,C)), dims=[\"observed_img\",\"rows\"], observed=img_data)\n",
    "\n",
    "        X_e = pm.Bernoulli(\"X_e\", p=pm.math.sigmoid(at.dot(W_e, C)), dims=[\"observed_label\", \"rows\"],observed=e_labels_train.T)\n",
    "\n",
    "    gr= pm.model_to_graphviz(PPCA_identified)\n",
    "    gr.view(\"testimg\")\n",
    "\n",
    "    with PPCA_identified:\n",
    "        approx = pm.fit(100000, callbacks=[pm.callbacks.CheckParametersConvergence(tolerance=1e-4)])\n",
    "        trace = approx.sample(1000)\n",
    "    with PPCA_identified:\n",
    "        posterior_predictive = pm.sample_posterior_predictive(\n",
    "            trace, var_names=[\"X_e\"], random_seed=123)\n",
    "\n",
    "    e_pred_train = posterior_predictive.posterior_predictive['X_e']\n",
    "    e_pred_mode_train = np.squeeze(stats.mode(e_pred_train[0], keepdims=False)[0])[:, np.newaxis]\n",
    "    train_accuracy_exp = accuracy_score(e_labels_train, e_pred_mode_train)\n",
    "\n",
    "    # test\n",
    "    e_pred_mode_test = my_post_predict(trace, hr_test, eda_test, pupil_test, img_test)\n",
    "    test_accuracy_exp = accuracy_score(e_labels_test, e_pred_mode_test)\n",
    "\n",
    "\n",
    "    row = [sub, k, i, train_accuracy_exp, test_accuracy_exp]\n",
    "    with open(FILENAME, 'a') as f:\n",
    "        write = csv.writer(f)\n",
    "        write.writerow(row)"
   ],
   "metadata": {
    "collapsed": false,
    "pycharm": {
     "is_executing": true
    }
   }
  },
  {
   "cell_type": "code",
   "execution_count": null,
   "outputs": [],
   "source": [
    "row"
   ],
   "metadata": {
    "collapsed": false,
    "pycharm": {
     "is_executing": true
    }
   }
  },
  {
   "cell_type": "code",
   "execution_count": null,
   "outputs": [],
   "source": [],
   "metadata": {
    "collapsed": false
   }
  }
 ],
 "metadata": {
  "kernelspec": {
   "display_name": "Python 3",
   "language": "python",
   "name": "python3"
  },
  "language_info": {
   "codemirror_mode": {
    "name": "ipython",
    "version": 3
   },
   "file_extension": ".py",
   "mimetype": "text/x-python",
   "name": "python",
   "nbconvert_exporter": "python",
   "pygments_lexer": "ipython3",
   "version": "3.6.4"
  }
 },
 "nbformat": 4,
 "nbformat_minor": 2
}
