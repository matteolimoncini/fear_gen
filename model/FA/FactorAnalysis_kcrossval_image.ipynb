{
 "cells": [
  {
   "cell_type": "code",
   "execution_count": 1,
   "metadata": {},
   "outputs": [],
   "source": [
    "import pymc as pm\n",
    "import aesara.tensor as at\n",
    "import numpy as np\n",
    "import pandas as pd\n",
    "from numpy.random import default_rng\n",
    "from scipy import stats\n",
    "from sklearn.metrics import accuracy_score\n",
    "import csv\n",
    "import sys\n",
    "from sklearn.preprocessing import StandardScaler"
   ]
  },
  {
   "cell_type": "code",
   "execution_count": 2,
   "metadata": {},
   "outputs": [],
   "source": [
    "sys.path.append('../../')"
   ]
  },
  {
   "cell_type": "code",
   "execution_count": 3,
   "metadata": {},
   "outputs": [],
   "source": [
    "import extract_correct_csv\n",
    "import os"
   ]
  },
  {
   "cell_type": "code",
   "execution_count": 4,
   "metadata": {},
   "outputs": [],
   "source": [
    "os.chdir('..')\n",
    "os.chdir('..')"
   ]
  },
  {
   "cell_type": "code",
   "execution_count": 5,
   "metadata": {},
   "outputs": [],
   "source": [
    "scaler = StandardScaler()\n",
    "RANDOM_SEED = 31415\n",
    "rng = default_rng(RANDOM_SEED)"
   ]
  },
  {
   "cell_type": "markdown",
   "metadata": {},
   "source": [
    "all valid subjects"
   ]
  },
  {
   "cell_type": "code",
   "execution_count": 6,
   "metadata": {},
   "outputs": [],
   "source": [
    "all_subject = extract_correct_csv.extract_only_valid_subject()\n",
    "all_subject.remove(49)"
   ]
  },
  {
   "cell_type": "code",
   "execution_count": 7,
   "metadata": {},
   "outputs": [],
   "source": [
    "valid_k_list = list([2, 6, 10, 12, 15, 20])"
   ]
  },
  {
   "cell_type": "markdown",
   "metadata": {},
   "source": [
    "keep only generalization trials"
   ]
  },
  {
   "cell_type": "code",
   "execution_count": 8,
   "metadata": {},
   "outputs": [],
   "source": [
    "num_trials_to_remove = 48"
   ]
  },
  {
   "cell_type": "markdown",
   "metadata": {},
   "source": [
    "functions that creates triangular matrices"
   ]
  },
  {
   "cell_type": "code",
   "execution_count": 9,
   "metadata": {},
   "outputs": [],
   "source": [
    "def expand_packed_block_triangular(d, k, packed, diag=None, mtype=\"aesara\"):\n",
    "    # like expand_packed_triangular, but with d > k.\n",
    "    assert mtype in {\"aesara\", \"numpy\"}\n",
    "    assert d >= k\n",
    "    def set_(M, i_, v_):\n",
    "        if mtype == \"aesara\":\n",
    "            return at.set_subtensor(M[i_], v_)\n",
    "        M[i_] = v_\n",
    "        return M\n",
    "    out = at.zeros((d, k), dtype=float) if mtype == \"aesara\" else np.zeros((d, k), dtype=float)\n",
    "    if diag is None:\n",
    "        idxs = np.tril_indices(d, m=k)\n",
    "        out = set_(out, idxs, packed)\n",
    "    else:\n",
    "        idxs = np.tril_indices(d, k=-1, m=k)\n",
    "        out = set_(out, idxs, packed)\n",
    "        idxs = (np.arange(k), np.arange(k))\n",
    "        out = set_(out, idxs, diag)\n",
    "    return out"
   ]
  },
  {
   "cell_type": "code",
   "execution_count": 10,
   "metadata": {},
   "outputs": [],
   "source": [
    "def makeW(d, k, dim_names, name):\n",
    "    # make a W matrix adapted to the data shape\n",
    "    n_od = int(k * d - k * (k - 1) / 2 - k)\n",
    "    # trick: the cumulative sum of z will be positive increasing\n",
    "    z = pm.HalfNormal(\"W_z_\" + name, 1.0, dims=\"latent_columns\")\n",
    "    b = pm.HalfNormal(\"W_b_\" + name, 1.0, shape=(n_od,), dims=\"packed_dim\")\n",
    "    L = expand_packed_block_triangular(d, k, b, at.ones(k))\n",
    "    W = pm.Deterministic(name, at.dot(L, at.diag(at.extra_ops.cumsum(z))), dims=dim_names)\n",
    "    return W"
   ]
  },
  {
   "cell_type": "code",
   "execution_count": 52,
   "metadata": {},
   "outputs": [],
   "source": [
    "def my_post_predict(trace, hr_new, eda_new, pupil_new, img_new):\n",
    "    whr_ = trace.posterior['W_hr'][0]\n",
    "    weda_ = trace.posterior['W_eda'][0]\n",
    "    wpupil_ = trace.posterior['W_pupil'][0]\n",
    "    wimg_ = trace.posterior['W_img'][0]\n",
    "    we_ = trace.posterior['W_e'][0]\n",
    "    print(hr_new.shape, eda_new.shape, pupil_new.shape, img_new.shape)\n",
    "\n",
    "    C_val_hr = at.dot(np.linalg.pinv(whr_), hr_new.T)\n",
    "    C_val_eda = at.dot(np.linalg.pinv(weda_), eda_new.T)\n",
    "    C_val_pupil = at.dot(np.linalg.pinv(wpupil_), pupil_new.T)\n",
    "    C_val_img = at.dot(np.linalg.pinv(wimg),img_new)\n",
    "\n",
    "    print(hr_new.shape, eda_new.shape, pupil_new.shape, img_new.shape)\n",
    "    print(C_val_hr.shape.eval(), C_val_eda.shape.eval(), C_val_pupil.shape.eval(), C_val_img.shape.eval())\n",
    "    val_hr = at.matmul(np.array(we_), C_val_hr.eval())\n",
    "    val_eda = at.matmul(np.array(we_), C_val_eda.eval())\n",
    "    val_pupil = at.matmul(np.array(we_), C_val_pupil.eval())\n",
    "    val_img = at.matmul(np.array(wimg_),C_val_img.eval())\n",
    "\n",
    "    print(val_hr.shape.eval(), val_eda.shape.eval(), val_pupil.shape.eval(), val_img.shape.eval())\n",
    "\n",
    "\n",
    "    val_label_gen = at.concatenate((val_hr, val_eda, val_pupil, at.transpose(val_img)))\n",
    "\n",
    "    label_val = np.where(val_label_gen.eval() < 0, 0, 1)\n",
    "    label_val = stats.mode(label_val[0], keepdims=False)[0]\n",
    "\n",
    "    return label_val"
   ]
  },
  {
   "cell_type": "code",
   "execution_count": 12,
   "metadata": {},
   "outputs": [],
   "source": [
    "FILENAME= 'output/FA/FA_kcv_norm_image.csv'\n",
    "columns = ['subject', 'k', 'fold', 'train', 'test']\n",
    "with open(FILENAME, 'w') as f:\n",
    "    write = csv.writer(f)\n",
    "    write.writerow(columns)"
   ]
  },
  {
   "cell_type": "code",
   "execution_count": 45,
   "metadata": {},
   "outputs": [],
   "source": [
    "sub=2\n",
    "k=3"
   ]
  },
  {
   "cell_type": "code",
   "execution_count": 14,
   "metadata": {},
   "outputs": [],
   "source": [
    "eda = pd.read_csv('data/features_4_2/eda/' + str(sub) + '.csv')\n",
    "eda = eda[num_trials_to_remove:]\n",
    "eda = scaler.fit_transform(eda)\n",
    "\n",
    "# hr data\n",
    "hr = pd.read_csv('data/features_4_2/hr/' + str(sub) + '.csv')\n",
    "hr = hr[num_trials_to_remove:]\n",
    "hr = scaler.fit_transform(hr)\n",
    "\n",
    "# pupil data\n",
    "pupil = pd.read_csv('data/features_4_2/pupil/' + str(sub) + '.csv')\n",
    "pupil = pupil[num_trials_to_remove:]\n",
    "pupil = scaler.fit_transform(pupil)"
   ]
  },
  {
   "cell_type": "code",
   "execution_count": 15,
   "metadata": {},
   "outputs": [],
   "source": [
    "string_sub = extract_correct_csv.read_correct_subject_csv(sub)\n",
    "\n",
    "df_ = pd.read_csv('data/LookAtMe_0' + str(string_sub) + '.csv', sep='\\t')\n",
    "df_ = df_[num_trials_to_remove:]\n",
    "label = np.array(list([int(d > 2) for d in df_['rating']]))\n",
    "E = label[:, np.newaxis]"
   ]
  },
  {
   "cell_type": "code",
   "execution_count": 16,
   "metadata": {},
   "outputs": [],
   "source": [
    "def extract_cs(df):\n",
    "    cs1, cs2 = int(df[df.shock == True].picName.unique()[0][5]), int(df[df.shock == True].picName.unique()[1][5])\n",
    "    return cs1, cs2\n",
    "\n",
    "\n",
    "morph_pos = 11\n",
    "morph_value = 15\n",
    "\n",
    "\n",
    "def extract_threat_level(df):\n",
    "    MORPH_POS = 11\n",
    "    MORPH_VALUE = 15\n",
    "    threat_person = []\n",
    "    cs1_pic, cs2_pic = extract_cs(df)\n",
    "\n",
    "    for i in df.iterrows():\n",
    "        nome = i[1].picName\n",
    "        try:\n",
    "            if nome[5] == str(cs1_pic) or nome[5] == str(cs2_pic):\n",
    "                threat_person.append(6)\n",
    "                continue\n",
    "            elif int(nome[5]):\n",
    "                threat_person.append(1)\n",
    "                continue\n",
    "        except:\n",
    "            if (int(nome[MORPH_POS]) == cs1_pic) or (int(nome[MORPH_POS]) == cs2_pic):\n",
    "                if nome[MORPH_VALUE] == '2':\n",
    "                    threat_person.append(5)\n",
    "\n",
    "                elif nome[MORPH_VALUE] == '4':\n",
    "                    threat_person.append(4)\n",
    "\n",
    "                elif nome[MORPH_VALUE] == '6':\n",
    "                    threat_person.append(3)\n",
    "\n",
    "                elif nome[MORPH_VALUE] == '8':\n",
    "                    threat_person.append(2)\n",
    "                    continue\n",
    "            else:\n",
    "                if nome[MORPH_VALUE] == '2':\n",
    "                    threat_person.append(2)\n",
    "\n",
    "                elif nome[MORPH_VALUE] == '4':\n",
    "                    threat_person.append(3)\n",
    "\n",
    "                elif nome[MORPH_VALUE] == '6':\n",
    "                    threat_person.append(4)\n",
    "\n",
    "                elif nome[MORPH_VALUE] == '8':\n",
    "                    threat_person.append(5)\n",
    "    return threat_person"
   ]
  },
  {
   "cell_type": "code",
   "execution_count": 17,
   "metadata": {},
   "outputs": [],
   "source": [
    "img = np.array(extract_threat_level(df_))\n",
    "morph_level = np.zeros((img.size, img.max()))\n",
    "morph_level[np.arange(img.size), img-1] = 1\n",
    "morph_level = morph_level.astype(int)"
   ]
  },
  {
   "cell_type": "code",
   "execution_count": 19,
   "metadata": {},
   "outputs": [
    {
     "data": {
      "text/plain": "pandas.core.frame.DataFrame"
     },
     "execution_count": 19,
     "metadata": {},
     "output_type": "execute_result"
    }
   ],
   "source": [
    "# num trials\n",
    "TEST_PERC = 0.2\n",
    "\n",
    "eda = pd.DataFrame(eda)\n",
    "eda = eda.reset_index().drop(columns=('index'))\n",
    "pupil = pd.DataFrame(pupil)\n",
    "pupil = pupil.reset_index().drop(columns=('index'))\n",
    "hr = pd.DataFrame(hr)\n",
    "hr = hr.reset_index().drop(columns=('index'))\n",
    "morph_level = pd.DataFrame(morph_level)\n",
    "morph_level = morph_level.reset_index().drop(columns=('index'))\n",
    "E = pd.DataFrame(E)\n",
    "E = E.reset_index().drop(columns=('index'))\n",
    "type(morph_level)"
   ]
  },
  {
   "cell_type": "code",
   "execution_count": 20,
   "metadata": {},
   "outputs": [],
   "source": [
    "from sklearn.model_selection import StratifiedShuffleSplit\n",
    "sss = StratifiedShuffleSplit(n_splits=3, test_size=TEST_PERC, random_state=123)"
   ]
  },
  {
   "cell_type": "code",
   "execution_count": 47,
   "metadata": {},
   "outputs": [
    {
     "data": {
      "text/plain": "<IPython.core.display.HTML object>",
      "text/html": "\n<style>\n    /* Turns off some styling */\n    progress {\n        /* gets rid of default border in Firefox and Opera. */\n        border: none;\n        /* Needs to be in here for Safari polyfill so background images work as expected. */\n        background-size: auto;\n    }\n    progress:not([value]), progress:not([value])::-webkit-progress-bar {\n        background: repeating-linear-gradient(45deg, #7e7e7e, #7e7e7e 10px, #5c5c5c 10px, #5c5c5c 20px);\n    }\n    .progress-bar-interrupted, .progress-bar-interrupted::-webkit-progress-bar {\n        background: #F44336;\n    }\n</style>\n"
     },
     "metadata": {},
     "output_type": "display_data"
    },
    {
     "data": {
      "text/plain": "<IPython.core.display.HTML object>",
      "text/html": "\n    <div>\n      <progress value='0' class='' max='1000' style='width:300px; height:20px; vertical-align: middle;'></progress>\n      \n    </div>\n    "
     },
     "metadata": {},
     "output_type": "display_data"
    },
    {
     "name": "stderr",
     "output_type": "stream",
     "text": [
      "Finished [100%]: Average Loss = 1.719e+05\n"
     ]
    }
   ],
   "source": [
    "for i, (train_index, test_index) in enumerate(sss.split(eda, E)):\n",
    "    N_train = len(train_index)\n",
    "    eda_train = eda.iloc[train_index, :]\n",
    "    eda_test = eda.iloc[test_index, :]\n",
    "    hr_train = hr.iloc[train_index, :]\n",
    "    hr_test = hr.iloc[test_index, :]\n",
    "    pupil_train = pupil.iloc[train_index, :]\n",
    "    pupil_test = pupil.iloc[test_index, :]\n",
    "    img_train = morph_level.iloc[train_index, :]\n",
    "    img_test = morph_level.iloc[test_index, :]\n",
    "    e_labels_train = E.iloc[train_index, :]\n",
    "    e_labels_test = E.iloc[test_index, :]\n",
    "\n",
    "    # dimensions of each signal\n",
    "    d_eda = eda_train.shape[1]\n",
    "    d_hr = hr_train.shape[1]\n",
    "    d_pupil = pupil_train.shape[1]\n",
    "    d_e = e_labels_train.shape[1]\n",
    "    d_img = img_train.shape[1]\n",
    "    with pm.Model() as PPCA_identified:\n",
    "        # model coordinates\n",
    "        PPCA_identified.add_coord(\"latent_columns\", np.arange(k), mutable=True)\n",
    "        PPCA_identified.add_coord(\"rows\", np.arange(N_train), mutable=True)\n",
    "        PPCA_identified.add_coord(\"observed_eda\", np.arange(d_eda), mutable=False)\n",
    "        PPCA_identified.add_coord(\"observed_hr\", np.arange(d_hr), mutable=False)\n",
    "        PPCA_identified.add_coord(\"observed_pupil\", np.arange(d_pupil), mutable=False)\n",
    "        PPCA_identified.add_coord(\"observed_img\", np.arange(d_img), mutable=False)\n",
    "        PPCA_identified.add_coord(\"observed_label\", np.arange(d_e), mutable=False)\n",
    "\n",
    "        hr_data = pm.MutableData(\"hr_data\", hr_train.T, dims=[\"observed_hr\", \"rows\"])\n",
    "        eda_data = pm.MutableData(\"eda_data\", eda_train.T, dims=(\"observed_eda\", \"rows\"))\n",
    "        pupil_data = pm.MutableData(\"pupil_data\", pupil_train.T, dims=(\"observed_pupil\", \"rows\"))\n",
    "        img_data = pm.MutableData(\"img_data\", img_train, dims=(\"rows\", \"observed_img\"))\n",
    "\n",
    "        W_eda = makeW(d_eda, k, (\"observed_eda\", \"latent_columns\"), 'W_eda')\n",
    "        W_hr = makeW(d_hr, k, (\"observed_hr\", \"latent_columns\"), 'W_hr')\n",
    "        W_pupil = makeW(d_pupil, k, (\"observed_pupil\", \"latent_columns\"), 'W_pupil')\n",
    "        W_img = makeW(d_img, k, (\"observed_img\", \"latent_columns\") ,'W_img')\n",
    "        W_e = pm.Normal(\"W_e\", dims=[\"observed_label\", \"latent_columns\"])\n",
    "\n",
    "        C = pm.Normal(\"C\", dims=[\"latent_columns\", \"rows\"])\n",
    "\n",
    "        psi_eda = pm.HalfNormal(\"psi_eda\", 1.0)\n",
    "        X_eda = pm.Normal(\"X_eda\", mu=at.dot(W_eda, C), sigma=psi_eda, observed=eda_data,\n",
    "                          dims=[\"observed_eda\", \"rows\"])\n",
    "\n",
    "        psi_hr = pm.HalfNormal(\"psi_hr\", 1.0)\n",
    "        X_hr = pm.Normal(\"X_hr\", mu=at.dot(W_hr, C), sigma=psi_hr, observed=hr_data,\n",
    "                         dims=[\"observed_hr\", \"rows\"])\n",
    "\n",
    "        psi_pupil = pm.HalfNormal(\"psi_pupil\", 1.0)\n",
    "        X_pupil = pm.Normal(\"X_pupil\", mu=at.dot(W_pupil, C), sigma=psi_pupil, observed=pupil_data,\n",
    "                            dims=[\"observed_pupil\", \"rows\"])\n",
    "\n",
    "        X_img = pm.Categorical('X_img', p=pm.math.softmax(at.dot(W_img, C)), dims=[ \"rows\", \"observed_img\"],\n",
    "                               observed=img_data)\n",
    "\n",
    "        X_e = pm.Bernoulli(\"X_e\", p=pm.math.sigmoid(at.dot(W_e, C)), dims=[\"observed_label\", \"rows\"],\n",
    "                           observed=e_labels_train.T)\n",
    "\n",
    "\n",
    "    with PPCA_identified:\n",
    "        approx = pm.fit(1000, callbacks=[pm.callbacks.CheckParametersConvergence(tolerance=1e-4)])\n",
    "        trace = approx.sample(1000)\n",
    "    break"
   ]
  },
  {
   "cell_type": "code",
   "execution_count": 48,
   "outputs": [
    {
     "name": "stderr",
     "output_type": "stream",
     "text": [
      "Sampling: [X_e]\n"
     ]
    },
    {
     "data": {
      "text/plain": "<IPython.core.display.HTML object>",
      "text/html": "\n<style>\n    /* Turns off some styling */\n    progress {\n        /* gets rid of default border in Firefox and Opera. */\n        border: none;\n        /* Needs to be in here for Safari polyfill so background images work as expected. */\n        background-size: auto;\n    }\n    progress:not([value]), progress:not([value])::-webkit-progress-bar {\n        background: repeating-linear-gradient(45deg, #7e7e7e, #7e7e7e 10px, #5c5c5c 10px, #5c5c5c 20px);\n    }\n    .progress-bar-interrupted, .progress-bar-interrupted::-webkit-progress-bar {\n        background: #F44336;\n    }\n</style>\n"
     },
     "metadata": {},
     "output_type": "display_data"
    },
    {
     "data": {
      "text/plain": "<IPython.core.display.HTML object>",
      "text/html": "\n    <div>\n      <progress value='0' class='' max='1000' style='width:300px; height:20px; vertical-align: middle;'></progress>\n      \n    </div>\n    "
     },
     "metadata": {},
     "output_type": "display_data"
    },
    {
     "data": {
      "text/plain": "0.5168539325842697"
     },
     "execution_count": 48,
     "metadata": {},
     "output_type": "execute_result"
    }
   ],
   "source": [
    "with PPCA_identified:\n",
    "    posterior_predictive = pm.sample_posterior_predictive(trace, var_names=[\"X_e\"], random_seed=123)\n",
    "\n",
    "e_pred_train = posterior_predictive.posterior_predictive['X_e']\n",
    "e_pred_mode_train = np.squeeze(stats.mode(e_pred_train[0], keepdims=False)[0])[:, np.newaxis]\n",
    "train_accuracy_exp = accuracy_score(e_labels_train, e_pred_mode_train)\n",
    "\n",
    "train_accuracy_exp\n"
   ],
   "metadata": {
    "collapsed": false
   }
  },
  {
   "cell_type": "code",
   "execution_count": 53,
   "outputs": [
    {
     "name": "stdout",
     "output_type": "stream",
     "text": [
      "(23, 24) (23, 24) (23, 28) (23, 6)\n",
      "(23, 24) (23, 24) (23, 28) (23, 6)\n",
      "[1000    3   23] [1000    3   23] [1000    3   23] [1000    3    6]\n"
     ]
    },
    {
     "name": "stderr",
     "output_type": "stream",
     "text": [
      "ERROR (aesara.graph.rewriting.basic): Rewrite failure due to: constant_folding\n",
      "ERROR (aesara.graph.rewriting.basic): node: dot(TensorConstant{[[ 0.08330..05747541]]}, TensorConstant{[[0 0 0 0 .. 1 0 0 0]]})\n",
      "ERROR (aesara.graph.rewriting.basic): TRACEBACK:\n",
      "ERROR (aesara.graph.rewriting.basic): Traceback (most recent call last):\n",
      "  File \"/Users/marcoghezzi/PycharmProjects/pythonProject/venv/lib/python3.9/site-packages/aesara/graph/rewriting/basic.py\", line 1933, in process_node\n",
      "    replacements = node_rewriter.transform(fgraph, node)\n",
      "  File \"/Users/marcoghezzi/PycharmProjects/pythonProject/venv/lib/python3.9/site-packages/aesara/graph/rewriting/basic.py\", line 1092, in transform\n",
      "    return self.fn(fgraph, node)\n",
      "  File \"/Users/marcoghezzi/PycharmProjects/pythonProject/venv/lib/python3.9/site-packages/aesara/tensor/rewriting/basic.py\", line 1142, in constant_folding\n",
      "    required = thunk()\n",
      "  File \"/Users/marcoghezzi/PycharmProjects/pythonProject/venv/lib/python3.9/site-packages/aesara/graph/op.py\", line 543, in rval\n",
      "    r = p(n, [x[0] for x in i], o)\n",
      "  File \"/Users/marcoghezzi/PycharmProjects/pythonProject/venv/lib/python3.9/site-packages/aesara/tensor/math.py\", line 1932, in perform\n",
      "    z[0] = np.asarray(np.dot(x, y))\n",
      "  File \"<__array_function__ internals>\", line 180, in dot\n",
      "ValueError: shapes (3000,6) and (23,6) not aligned: 6 (dim 1) != 23 (dim 0)\n",
      "\n",
      "ERROR (aesara.graph.rewriting.basic): Rewrite failure due to: constant_folding\n",
      "ERROR (aesara.graph.rewriting.basic): node: dot(TensorConstant{[[ 0.08330..05747541]]}, TensorConstant{[[0 0 0 0 .. 1 0 0 0]]})\n",
      "ERROR (aesara.graph.rewriting.basic): TRACEBACK:\n",
      "ERROR (aesara.graph.rewriting.basic): Traceback (most recent call last):\n",
      "  File \"/Users/marcoghezzi/PycharmProjects/pythonProject/venv/lib/python3.9/site-packages/aesara/graph/rewriting/basic.py\", line 1933, in process_node\n",
      "    replacements = node_rewriter.transform(fgraph, node)\n",
      "  File \"/Users/marcoghezzi/PycharmProjects/pythonProject/venv/lib/python3.9/site-packages/aesara/graph/rewriting/basic.py\", line 1092, in transform\n",
      "    return self.fn(fgraph, node)\n",
      "  File \"/Users/marcoghezzi/PycharmProjects/pythonProject/venv/lib/python3.9/site-packages/aesara/tensor/rewriting/basic.py\", line 1142, in constant_folding\n",
      "    required = thunk()\n",
      "  File \"/Users/marcoghezzi/PycharmProjects/pythonProject/venv/lib/python3.9/site-packages/aesara/graph/op.py\", line 543, in rval\n",
      "    r = p(n, [x[0] for x in i], o)\n",
      "  File \"/Users/marcoghezzi/PycharmProjects/pythonProject/venv/lib/python3.9/site-packages/aesara/tensor/math.py\", line 1932, in perform\n",
      "    z[0] = np.asarray(np.dot(x, y))\n",
      "  File \"<__array_function__ internals>\", line 180, in dot\n",
      "ValueError: shapes (3000,6) and (23,6) not aligned: 6 (dim 1) != 23 (dim 0)\n",
      "\n",
      "ERROR (aesara.graph.rewriting.basic): Rewrite failure due to: constant_folding\n",
      "ERROR (aesara.graph.rewriting.basic): node: dot(TensorConstant{[[ 0.08330..05747541]]}, TensorConstant{[[0 0 0 0 .. 1 0 0 0]]})\n",
      "ERROR (aesara.graph.rewriting.basic): TRACEBACK:\n",
      "ERROR (aesara.graph.rewriting.basic): Traceback (most recent call last):\n",
      "  File \"/Users/marcoghezzi/PycharmProjects/pythonProject/venv/lib/python3.9/site-packages/aesara/graph/rewriting/basic.py\", line 1933, in process_node\n",
      "    replacements = node_rewriter.transform(fgraph, node)\n",
      "  File \"/Users/marcoghezzi/PycharmProjects/pythonProject/venv/lib/python3.9/site-packages/aesara/graph/rewriting/basic.py\", line 1092, in transform\n",
      "    return self.fn(fgraph, node)\n",
      "  File \"/Users/marcoghezzi/PycharmProjects/pythonProject/venv/lib/python3.9/site-packages/aesara/tensor/rewriting/basic.py\", line 1142, in constant_folding\n",
      "    required = thunk()\n",
      "  File \"/Users/marcoghezzi/PycharmProjects/pythonProject/venv/lib/python3.9/site-packages/aesara/graph/op.py\", line 543, in rval\n",
      "    r = p(n, [x[0] for x in i], o)\n",
      "  File \"/Users/marcoghezzi/PycharmProjects/pythonProject/venv/lib/python3.9/site-packages/aesara/tensor/math.py\", line 1932, in perform\n",
      "    z[0] = np.asarray(np.dot(x, y))\n",
      "  File \"<__array_function__ internals>\", line 180, in dot\n",
      "ValueError: shapes (3000,6) and (23,6) not aligned: 6 (dim 1) != 23 (dim 0)\n",
      "\n",
      "ERROR (aesara.graph.rewriting.basic): Rewrite failure due to: constant_folding\n",
      "ERROR (aesara.graph.rewriting.basic): node: dot(TensorConstant{[[ 0.08330..05747541]]}, TensorConstant{[[0 0 0 0 .. 1 0 0 0]]})\n",
      "ERROR (aesara.graph.rewriting.basic): TRACEBACK:\n",
      "ERROR (aesara.graph.rewriting.basic): Traceback (most recent call last):\n",
      "  File \"/Users/marcoghezzi/PycharmProjects/pythonProject/venv/lib/python3.9/site-packages/aesara/graph/rewriting/basic.py\", line 1933, in process_node\n",
      "    replacements = node_rewriter.transform(fgraph, node)\n",
      "  File \"/Users/marcoghezzi/PycharmProjects/pythonProject/venv/lib/python3.9/site-packages/aesara/graph/rewriting/basic.py\", line 1092, in transform\n",
      "    return self.fn(fgraph, node)\n",
      "  File \"/Users/marcoghezzi/PycharmProjects/pythonProject/venv/lib/python3.9/site-packages/aesara/tensor/rewriting/basic.py\", line 1142, in constant_folding\n",
      "    required = thunk()\n",
      "  File \"/Users/marcoghezzi/PycharmProjects/pythonProject/venv/lib/python3.9/site-packages/aesara/graph/op.py\", line 543, in rval\n",
      "    r = p(n, [x[0] for x in i], o)\n",
      "  File \"/Users/marcoghezzi/PycharmProjects/pythonProject/venv/lib/python3.9/site-packages/aesara/tensor/math.py\", line 1932, in perform\n",
      "    z[0] = np.asarray(np.dot(x, y))\n",
      "  File \"<__array_function__ internals>\", line 180, in dot\n",
      "ValueError: shapes (3000,6) and (23,6) not aligned: 6 (dim 1) != 23 (dim 0)\n",
      "\n",
      "ERROR (aesara.graph.rewriting.basic): Rewrite failure due to: constant_folding\n",
      "ERROR (aesara.graph.rewriting.basic): node: dot(TensorConstant{[[ 0.08330..05747541]]}, TensorConstant{[[0 0 0 0 .. 1 0 0 0]]})\n",
      "ERROR (aesara.graph.rewriting.basic): TRACEBACK:\n",
      "ERROR (aesara.graph.rewriting.basic): Traceback (most recent call last):\n",
      "  File \"/Users/marcoghezzi/PycharmProjects/pythonProject/venv/lib/python3.9/site-packages/aesara/graph/rewriting/basic.py\", line 1933, in process_node\n",
      "    replacements = node_rewriter.transform(fgraph, node)\n",
      "  File \"/Users/marcoghezzi/PycharmProjects/pythonProject/venv/lib/python3.9/site-packages/aesara/graph/rewriting/basic.py\", line 1092, in transform\n",
      "    return self.fn(fgraph, node)\n",
      "  File \"/Users/marcoghezzi/PycharmProjects/pythonProject/venv/lib/python3.9/site-packages/aesara/tensor/rewriting/basic.py\", line 1142, in constant_folding\n",
      "    required = thunk()\n",
      "  File \"/Users/marcoghezzi/PycharmProjects/pythonProject/venv/lib/python3.9/site-packages/aesara/graph/op.py\", line 543, in rval\n",
      "    r = p(n, [x[0] for x in i], o)\n",
      "  File \"/Users/marcoghezzi/PycharmProjects/pythonProject/venv/lib/python3.9/site-packages/aesara/tensor/math.py\", line 1932, in perform\n",
      "    z[0] = np.asarray(np.dot(x, y))\n",
      "  File \"<__array_function__ internals>\", line 180, in dot\n",
      "ValueError: shapes (3000,6) and (23,6) not aligned: 6 (dim 1) != 23 (dim 0)\n",
      "\n",
      "ERROR (aesara.graph.rewriting.basic): Rewrite failure due to: constant_folding\n",
      "ERROR (aesara.graph.rewriting.basic): node: dot(TensorConstant{[[ 0.08330..05747541]]}, TensorConstant{[[0 0 0 0 .. 1 0 0 0]]})\n",
      "ERROR (aesara.graph.rewriting.basic): TRACEBACK:\n",
      "ERROR (aesara.graph.rewriting.basic): Traceback (most recent call last):\n",
      "  File \"/Users/marcoghezzi/PycharmProjects/pythonProject/venv/lib/python3.9/site-packages/aesara/graph/rewriting/basic.py\", line 1933, in process_node\n",
      "    replacements = node_rewriter.transform(fgraph, node)\n",
      "  File \"/Users/marcoghezzi/PycharmProjects/pythonProject/venv/lib/python3.9/site-packages/aesara/graph/rewriting/basic.py\", line 1092, in transform\n",
      "    return self.fn(fgraph, node)\n",
      "  File \"/Users/marcoghezzi/PycharmProjects/pythonProject/venv/lib/python3.9/site-packages/aesara/tensor/rewriting/basic.py\", line 1142, in constant_folding\n",
      "    required = thunk()\n",
      "  File \"/Users/marcoghezzi/PycharmProjects/pythonProject/venv/lib/python3.9/site-packages/aesara/graph/op.py\", line 543, in rval\n",
      "    r = p(n, [x[0] for x in i], o)\n",
      "  File \"/Users/marcoghezzi/PycharmProjects/pythonProject/venv/lib/python3.9/site-packages/aesara/tensor/math.py\", line 1932, in perform\n",
      "    z[0] = np.asarray(np.dot(x, y))\n",
      "  File \"<__array_function__ internals>\", line 180, in dot\n",
      "ValueError: shapes (3000,6) and (23,6) not aligned: 6 (dim 1) != 23 (dim 0)\n",
      "\n"
     ]
    },
    {
     "ename": "ValueError",
     "evalue": "shapes (3000,6) and (23,6) not aligned: 6 (dim 1) != 23 (dim 0)\nApply node that caused the error: dot(TensorConstant{[[ 0.08330..05747541]]}, TensorConstant{[[0 0 0 0 .. 1 0 0 0]]})\nToposort index: 0\nInputs types: [TensorType(float64, (3000, 6)), TensorType(int64, (23, 6))]\nInputs shapes: [(3000, 6), (23, 6)]\nInputs strides: [(48, 8), (8, 184)]\nInputs values: ['not shown', 'not shown']\nOutputs clients: [[Reshape{3}(dot.0, TensorConstant{[1000    3    6]})]]\n\nBacktrace when the node is created (use Aesara flag traceback__limit=N to make it longer):\n  File \"/Users/marcoghezzi/PycharmProjects/pythonProject/venv/lib/python3.9/site-packages/IPython/core/interactiveshell.py\", line 2885, in run_cell\n    result = self._run_cell(\n  File \"/Users/marcoghezzi/PycharmProjects/pythonProject/venv/lib/python3.9/site-packages/IPython/core/interactiveshell.py\", line 2940, in _run_cell\n    return runner(coro)\n  File \"/Users/marcoghezzi/PycharmProjects/pythonProject/venv/lib/python3.9/site-packages/IPython/core/async_helpers.py\", line 129, in _pseudo_sync_runner\n    coro.send(None)\n  File \"/Users/marcoghezzi/PycharmProjects/pythonProject/venv/lib/python3.9/site-packages/IPython/core/interactiveshell.py\", line 3139, in run_cell_async\n    has_raised = await self.run_ast_nodes(code_ast.body, cell_name,\n  File \"/Users/marcoghezzi/PycharmProjects/pythonProject/venv/lib/python3.9/site-packages/IPython/core/interactiveshell.py\", line 3318, in run_ast_nodes\n    if await self.run_code(code, result, async_=asy):\n  File \"/Users/marcoghezzi/PycharmProjects/pythonProject/venv/lib/python3.9/site-packages/IPython/core/interactiveshell.py\", line 3378, in run_code\n    exec(code_obj, self.user_global_ns, self.user_ns)\n  File \"/var/folders/hn/nq1_cby521sbf58lnj9qj9mw0000gn/T/ipykernel_1416/3356009587.py\", line 2, in <module>\n    e_pred_mode_test = my_post_predict(trace, hr_test, eda_test, pupil_test, img_test)\n  File \"/var/folders/hn/nq1_cby521sbf58lnj9qj9mw0000gn/T/ipykernel_1416/4253538406.py\", line 12, in my_post_predict\n    C_val_img = at.dot(np.linalg.pinv(wimg_),img_new)\n\nHINT: Use the Aesara flag `exception_verbosity=high` for a debug print-out and storage map footprint of this Apply node.",
     "output_type": "error",
     "traceback": [
      "\u001B[0;31m---------------------------------------------------------------------------\u001B[0m",
      "\u001B[0;31mValueError\u001B[0m                                Traceback (most recent call last)",
      "File \u001B[0;32m~/PycharmProjects/pythonProject/venv/lib/python3.9/site-packages/aesara/compile/function/types.py:971\u001B[0m, in \u001B[0;36mFunction.__call__\u001B[0;34m(self, *args, **kwargs)\u001B[0m\n\u001B[1;32m    969\u001B[0m \u001B[38;5;28;01mtry\u001B[39;00m:\n\u001B[1;32m    970\u001B[0m     outputs \u001B[38;5;241m=\u001B[39m (\n\u001B[0;32m--> 971\u001B[0m         \u001B[38;5;28;43mself\u001B[39;49m\u001B[38;5;241;43m.\u001B[39;49m\u001B[43mvm\u001B[49m\u001B[43m(\u001B[49m\u001B[43m)\u001B[49m\n\u001B[1;32m    972\u001B[0m         \u001B[38;5;28;01mif\u001B[39;00m output_subset \u001B[38;5;129;01mis\u001B[39;00m \u001B[38;5;28;01mNone\u001B[39;00m\n\u001B[1;32m    973\u001B[0m         \u001B[38;5;28;01melse\u001B[39;00m \u001B[38;5;28mself\u001B[39m\u001B[38;5;241m.\u001B[39mvm(output_subset\u001B[38;5;241m=\u001B[39moutput_subset)\n\u001B[1;32m    974\u001B[0m     )\n\u001B[1;32m    975\u001B[0m \u001B[38;5;28;01mexcept\u001B[39;00m \u001B[38;5;167;01mException\u001B[39;00m:\n",
      "File \u001B[0;32m~/PycharmProjects/pythonProject/venv/lib/python3.9/site-packages/aesara/graph/op.py:543\u001B[0m, in \u001B[0;36mOp.make_py_thunk.<locals>.rval\u001B[0;34m(p, i, o, n, params)\u001B[0m\n\u001B[1;32m    539\u001B[0m \u001B[38;5;129m@is_thunk_type\u001B[39m\n\u001B[1;32m    540\u001B[0m \u001B[38;5;28;01mdef\u001B[39;00m \u001B[38;5;21mrval\u001B[39m(\n\u001B[1;32m    541\u001B[0m     p\u001B[38;5;241m=\u001B[39mp, i\u001B[38;5;241m=\u001B[39mnode_input_storage, o\u001B[38;5;241m=\u001B[39mnode_output_storage, n\u001B[38;5;241m=\u001B[39mnode, params\u001B[38;5;241m=\u001B[39m\u001B[38;5;28;01mNone\u001B[39;00m\n\u001B[1;32m    542\u001B[0m ):\n\u001B[0;32m--> 543\u001B[0m     r \u001B[38;5;241m=\u001B[39m \u001B[43mp\u001B[49m\u001B[43m(\u001B[49m\u001B[43mn\u001B[49m\u001B[43m,\u001B[49m\u001B[43m \u001B[49m\u001B[43m[\u001B[49m\u001B[43mx\u001B[49m\u001B[43m[\u001B[49m\u001B[38;5;241;43m0\u001B[39;49m\u001B[43m]\u001B[49m\u001B[43m \u001B[49m\u001B[38;5;28;43;01mfor\u001B[39;49;00m\u001B[43m \u001B[49m\u001B[43mx\u001B[49m\u001B[43m \u001B[49m\u001B[38;5;129;43;01min\u001B[39;49;00m\u001B[43m \u001B[49m\u001B[43mi\u001B[49m\u001B[43m]\u001B[49m\u001B[43m,\u001B[49m\u001B[43m \u001B[49m\u001B[43mo\u001B[49m\u001B[43m)\u001B[49m\n\u001B[1;32m    544\u001B[0m     \u001B[38;5;28;01mfor\u001B[39;00m o \u001B[38;5;129;01min\u001B[39;00m node\u001B[38;5;241m.\u001B[39moutputs:\n",
      "File \u001B[0;32m~/PycharmProjects/pythonProject/venv/lib/python3.9/site-packages/aesara/tensor/math.py:1932\u001B[0m, in \u001B[0;36mDot.perform\u001B[0;34m(self, node, inp, out)\u001B[0m\n\u001B[1;32m   1929\u001B[0m \u001B[38;5;66;03m# the asarray is here because dot between two vectors\u001B[39;00m\n\u001B[1;32m   1930\u001B[0m \u001B[38;5;66;03m# gives a numpy float object but we need to return a 0d\u001B[39;00m\n\u001B[1;32m   1931\u001B[0m \u001B[38;5;66;03m# ndarray\u001B[39;00m\n\u001B[0;32m-> 1932\u001B[0m z[\u001B[38;5;241m0\u001B[39m] \u001B[38;5;241m=\u001B[39m np\u001B[38;5;241m.\u001B[39masarray(\u001B[43mnp\u001B[49m\u001B[38;5;241;43m.\u001B[39;49m\u001B[43mdot\u001B[49m\u001B[43m(\u001B[49m\u001B[43mx\u001B[49m\u001B[43m,\u001B[49m\u001B[43m \u001B[49m\u001B[43my\u001B[49m\u001B[43m)\u001B[49m)\n",
      "File \u001B[0;32m<__array_function__ internals>:180\u001B[0m, in \u001B[0;36mdot\u001B[0;34m(*args, **kwargs)\u001B[0m\n",
      "\u001B[0;31mValueError\u001B[0m: shapes (3000,6) and (23,6) not aligned: 6 (dim 1) != 23 (dim 0)",
      "\nDuring handling of the above exception, another exception occurred:\n",
      "\u001B[0;31mValueError\u001B[0m                                Traceback (most recent call last)",
      "Cell \u001B[0;32mIn [53], line 2\u001B[0m\n\u001B[1;32m      1\u001B[0m \u001B[38;5;66;03m# test\u001B[39;00m\n\u001B[0;32m----> 2\u001B[0m e_pred_mode_test \u001B[38;5;241m=\u001B[39m my_post_predict(trace, hr_test, eda_test, pupil_test, img_test)\n\u001B[1;32m      3\u001B[0m test_accuracy_exp \u001B[38;5;241m=\u001B[39m accuracy_score(e_labels_test, e_pred_mode_test)\n",
      "Cell \u001B[0;32mIn [52], line 19\u001B[0m, in \u001B[0;36mmy_post_predict\u001B[0;34m(trace, hr_new, eda_new, pupil_new, img_new)\u001B[0m\n\u001B[1;32m     17\u001B[0m val_eda \u001B[38;5;241m=\u001B[39m at\u001B[38;5;241m.\u001B[39mmatmul(np\u001B[38;5;241m.\u001B[39marray(we_), C_val_eda\u001B[38;5;241m.\u001B[39meval())\n\u001B[1;32m     18\u001B[0m val_pupil \u001B[38;5;241m=\u001B[39m at\u001B[38;5;241m.\u001B[39mmatmul(np\u001B[38;5;241m.\u001B[39marray(we_), C_val_pupil\u001B[38;5;241m.\u001B[39meval())\n\u001B[0;32m---> 19\u001B[0m val_img \u001B[38;5;241m=\u001B[39m at\u001B[38;5;241m.\u001B[39mmatmul(np\u001B[38;5;241m.\u001B[39marray(wimg_),\u001B[43mC_val_img\u001B[49m\u001B[38;5;241;43m.\u001B[39;49m\u001B[43meval\u001B[49m\u001B[43m(\u001B[49m\u001B[43m)\u001B[49m)\n\u001B[1;32m     21\u001B[0m \u001B[38;5;28mprint\u001B[39m(val_hr\u001B[38;5;241m.\u001B[39mshape\u001B[38;5;241m.\u001B[39meval(), val_eda\u001B[38;5;241m.\u001B[39mshape\u001B[38;5;241m.\u001B[39meval(), val_pupil\u001B[38;5;241m.\u001B[39mshape\u001B[38;5;241m.\u001B[39meval(), val_img\u001B[38;5;241m.\u001B[39mshape\u001B[38;5;241m.\u001B[39meval())\n\u001B[1;32m     24\u001B[0m val_label_gen \u001B[38;5;241m=\u001B[39m at\u001B[38;5;241m.\u001B[39mconcatenate((val_hr, val_eda, val_pupil, at\u001B[38;5;241m.\u001B[39mtranspose(val_img)))\n",
      "File \u001B[0;32m~/PycharmProjects/pythonProject/venv/lib/python3.9/site-packages/aesara/graph/basic.py:602\u001B[0m, in \u001B[0;36mVariable.eval\u001B[0;34m(self, inputs_to_values)\u001B[0m\n\u001B[1;32m    599\u001B[0m     \u001B[38;5;28mself\u001B[39m\u001B[38;5;241m.\u001B[39m_fn_cache[inputs] \u001B[38;5;241m=\u001B[39m function(inputs, \u001B[38;5;28mself\u001B[39m)\n\u001B[1;32m    600\u001B[0m args \u001B[38;5;241m=\u001B[39m [inputs_to_values[param] \u001B[38;5;28;01mfor\u001B[39;00m param \u001B[38;5;129;01min\u001B[39;00m inputs]\n\u001B[0;32m--> 602\u001B[0m rval \u001B[38;5;241m=\u001B[39m \u001B[38;5;28;43mself\u001B[39;49m\u001B[38;5;241;43m.\u001B[39;49m\u001B[43m_fn_cache\u001B[49m\u001B[43m[\u001B[49m\u001B[43minputs\u001B[49m\u001B[43m]\u001B[49m\u001B[43m(\u001B[49m\u001B[38;5;241;43m*\u001B[39;49m\u001B[43margs\u001B[49m\u001B[43m)\u001B[49m\n\u001B[1;32m    604\u001B[0m \u001B[38;5;28;01mreturn\u001B[39;00m rval\n",
      "File \u001B[0;32m~/PycharmProjects/pythonProject/venv/lib/python3.9/site-packages/aesara/compile/function/types.py:984\u001B[0m, in \u001B[0;36mFunction.__call__\u001B[0;34m(self, *args, **kwargs)\u001B[0m\n\u001B[1;32m    982\u001B[0m     \u001B[38;5;28;01mif\u001B[39;00m \u001B[38;5;28mhasattr\u001B[39m(\u001B[38;5;28mself\u001B[39m\u001B[38;5;241m.\u001B[39mvm, \u001B[38;5;124m\"\u001B[39m\u001B[38;5;124mthunks\u001B[39m\u001B[38;5;124m\"\u001B[39m):\n\u001B[1;32m    983\u001B[0m         thunk \u001B[38;5;241m=\u001B[39m \u001B[38;5;28mself\u001B[39m\u001B[38;5;241m.\u001B[39mvm\u001B[38;5;241m.\u001B[39mthunks[\u001B[38;5;28mself\u001B[39m\u001B[38;5;241m.\u001B[39mvm\u001B[38;5;241m.\u001B[39mposition_of_error]\n\u001B[0;32m--> 984\u001B[0m     \u001B[43mraise_with_op\u001B[49m\u001B[43m(\u001B[49m\n\u001B[1;32m    985\u001B[0m \u001B[43m        \u001B[49m\u001B[38;5;28;43mself\u001B[39;49m\u001B[38;5;241;43m.\u001B[39;49m\u001B[43mmaker\u001B[49m\u001B[38;5;241;43m.\u001B[39;49m\u001B[43mfgraph\u001B[49m\u001B[43m,\u001B[49m\n\u001B[1;32m    986\u001B[0m \u001B[43m        \u001B[49m\u001B[43mnode\u001B[49m\u001B[38;5;241;43m=\u001B[39;49m\u001B[38;5;28;43mself\u001B[39;49m\u001B[38;5;241;43m.\u001B[39;49m\u001B[43mvm\u001B[49m\u001B[38;5;241;43m.\u001B[39;49m\u001B[43mnodes\u001B[49m\u001B[43m[\u001B[49m\u001B[38;5;28;43mself\u001B[39;49m\u001B[38;5;241;43m.\u001B[39;49m\u001B[43mvm\u001B[49m\u001B[38;5;241;43m.\u001B[39;49m\u001B[43mposition_of_error\u001B[49m\u001B[43m]\u001B[49m\u001B[43m,\u001B[49m\n\u001B[1;32m    987\u001B[0m \u001B[43m        \u001B[49m\u001B[43mthunk\u001B[49m\u001B[38;5;241;43m=\u001B[39;49m\u001B[43mthunk\u001B[49m\u001B[43m,\u001B[49m\n\u001B[1;32m    988\u001B[0m \u001B[43m        \u001B[49m\u001B[43mstorage_map\u001B[49m\u001B[38;5;241;43m=\u001B[39;49m\u001B[38;5;28;43mgetattr\u001B[39;49m\u001B[43m(\u001B[49m\u001B[38;5;28;43mself\u001B[39;49m\u001B[38;5;241;43m.\u001B[39;49m\u001B[43mvm\u001B[49m\u001B[43m,\u001B[49m\u001B[43m \u001B[49m\u001B[38;5;124;43m\"\u001B[39;49m\u001B[38;5;124;43mstorage_map\u001B[39;49m\u001B[38;5;124;43m\"\u001B[39;49m\u001B[43m,\u001B[49m\u001B[43m \u001B[49m\u001B[38;5;28;43;01mNone\u001B[39;49;00m\u001B[43m)\u001B[49m\u001B[43m,\u001B[49m\n\u001B[1;32m    989\u001B[0m \u001B[43m    \u001B[49m\u001B[43m)\u001B[49m\n\u001B[1;32m    990\u001B[0m \u001B[38;5;28;01melse\u001B[39;00m:\n\u001B[1;32m    991\u001B[0m     \u001B[38;5;66;03m# old-style linkers raise their own exceptions\u001B[39;00m\n\u001B[1;32m    992\u001B[0m     \u001B[38;5;28;01mraise\u001B[39;00m\n",
      "File \u001B[0;32m~/PycharmProjects/pythonProject/venv/lib/python3.9/site-packages/aesara/link/utils.py:534\u001B[0m, in \u001B[0;36mraise_with_op\u001B[0;34m(fgraph, node, thunk, exc_info, storage_map)\u001B[0m\n\u001B[1;32m    529\u001B[0m     warnings\u001B[38;5;241m.\u001B[39mwarn(\n\u001B[1;32m    530\u001B[0m         \u001B[38;5;124mf\u001B[39m\u001B[38;5;124m\"\u001B[39m\u001B[38;5;132;01m{\u001B[39;00mexc_type\u001B[38;5;132;01m}\u001B[39;00m\u001B[38;5;124m error does not allow us to add an extra error message\u001B[39m\u001B[38;5;124m\"\u001B[39m\n\u001B[1;32m    531\u001B[0m     )\n\u001B[1;32m    532\u001B[0m     \u001B[38;5;66;03m# Some exception need extra parameter in inputs. So forget the\u001B[39;00m\n\u001B[1;32m    533\u001B[0m     \u001B[38;5;66;03m# extra long error message in that case.\u001B[39;00m\n\u001B[0;32m--> 534\u001B[0m \u001B[38;5;28;01mraise\u001B[39;00m exc_value\u001B[38;5;241m.\u001B[39mwith_traceback(exc_trace)\n",
      "File \u001B[0;32m~/PycharmProjects/pythonProject/venv/lib/python3.9/site-packages/aesara/compile/function/types.py:971\u001B[0m, in \u001B[0;36mFunction.__call__\u001B[0;34m(self, *args, **kwargs)\u001B[0m\n\u001B[1;32m    968\u001B[0m t0_fn \u001B[38;5;241m=\u001B[39m time\u001B[38;5;241m.\u001B[39mtime()\n\u001B[1;32m    969\u001B[0m \u001B[38;5;28;01mtry\u001B[39;00m:\n\u001B[1;32m    970\u001B[0m     outputs \u001B[38;5;241m=\u001B[39m (\n\u001B[0;32m--> 971\u001B[0m         \u001B[38;5;28;43mself\u001B[39;49m\u001B[38;5;241;43m.\u001B[39;49m\u001B[43mvm\u001B[49m\u001B[43m(\u001B[49m\u001B[43m)\u001B[49m\n\u001B[1;32m    972\u001B[0m         \u001B[38;5;28;01mif\u001B[39;00m output_subset \u001B[38;5;129;01mis\u001B[39;00m \u001B[38;5;28;01mNone\u001B[39;00m\n\u001B[1;32m    973\u001B[0m         \u001B[38;5;28;01melse\u001B[39;00m \u001B[38;5;28mself\u001B[39m\u001B[38;5;241m.\u001B[39mvm(output_subset\u001B[38;5;241m=\u001B[39moutput_subset)\n\u001B[1;32m    974\u001B[0m     )\n\u001B[1;32m    975\u001B[0m \u001B[38;5;28;01mexcept\u001B[39;00m \u001B[38;5;167;01mException\u001B[39;00m:\n\u001B[1;32m    976\u001B[0m     restore_defaults()\n",
      "File \u001B[0;32m~/PycharmProjects/pythonProject/venv/lib/python3.9/site-packages/aesara/graph/op.py:543\u001B[0m, in \u001B[0;36mOp.make_py_thunk.<locals>.rval\u001B[0;34m(p, i, o, n, params)\u001B[0m\n\u001B[1;32m    539\u001B[0m \u001B[38;5;129m@is_thunk_type\u001B[39m\n\u001B[1;32m    540\u001B[0m \u001B[38;5;28;01mdef\u001B[39;00m \u001B[38;5;21mrval\u001B[39m(\n\u001B[1;32m    541\u001B[0m     p\u001B[38;5;241m=\u001B[39mp, i\u001B[38;5;241m=\u001B[39mnode_input_storage, o\u001B[38;5;241m=\u001B[39mnode_output_storage, n\u001B[38;5;241m=\u001B[39mnode, params\u001B[38;5;241m=\u001B[39m\u001B[38;5;28;01mNone\u001B[39;00m\n\u001B[1;32m    542\u001B[0m ):\n\u001B[0;32m--> 543\u001B[0m     r \u001B[38;5;241m=\u001B[39m \u001B[43mp\u001B[49m\u001B[43m(\u001B[49m\u001B[43mn\u001B[49m\u001B[43m,\u001B[49m\u001B[43m \u001B[49m\u001B[43m[\u001B[49m\u001B[43mx\u001B[49m\u001B[43m[\u001B[49m\u001B[38;5;241;43m0\u001B[39;49m\u001B[43m]\u001B[49m\u001B[43m \u001B[49m\u001B[38;5;28;43;01mfor\u001B[39;49;00m\u001B[43m \u001B[49m\u001B[43mx\u001B[49m\u001B[43m \u001B[49m\u001B[38;5;129;43;01min\u001B[39;49;00m\u001B[43m \u001B[49m\u001B[43mi\u001B[49m\u001B[43m]\u001B[49m\u001B[43m,\u001B[49m\u001B[43m \u001B[49m\u001B[43mo\u001B[49m\u001B[43m)\u001B[49m\n\u001B[1;32m    544\u001B[0m     \u001B[38;5;28;01mfor\u001B[39;00m o \u001B[38;5;129;01min\u001B[39;00m node\u001B[38;5;241m.\u001B[39moutputs:\n\u001B[1;32m    545\u001B[0m         compute_map[o][\u001B[38;5;241m0\u001B[39m] \u001B[38;5;241m=\u001B[39m \u001B[38;5;28;01mTrue\u001B[39;00m\n",
      "File \u001B[0;32m~/PycharmProjects/pythonProject/venv/lib/python3.9/site-packages/aesara/tensor/math.py:1932\u001B[0m, in \u001B[0;36mDot.perform\u001B[0;34m(self, node, inp, out)\u001B[0m\n\u001B[1;32m   1927\u001B[0m (z,) \u001B[38;5;241m=\u001B[39m out\n\u001B[1;32m   1929\u001B[0m \u001B[38;5;66;03m# the asarray is here because dot between two vectors\u001B[39;00m\n\u001B[1;32m   1930\u001B[0m \u001B[38;5;66;03m# gives a numpy float object but we need to return a 0d\u001B[39;00m\n\u001B[1;32m   1931\u001B[0m \u001B[38;5;66;03m# ndarray\u001B[39;00m\n\u001B[0;32m-> 1932\u001B[0m z[\u001B[38;5;241m0\u001B[39m] \u001B[38;5;241m=\u001B[39m np\u001B[38;5;241m.\u001B[39masarray(\u001B[43mnp\u001B[49m\u001B[38;5;241;43m.\u001B[39;49m\u001B[43mdot\u001B[49m\u001B[43m(\u001B[49m\u001B[43mx\u001B[49m\u001B[43m,\u001B[49m\u001B[43m \u001B[49m\u001B[43my\u001B[49m\u001B[43m)\u001B[49m)\n",
      "File \u001B[0;32m<__array_function__ internals>:180\u001B[0m, in \u001B[0;36mdot\u001B[0;34m(*args, **kwargs)\u001B[0m\n",
      "\u001B[0;31mValueError\u001B[0m: shapes (3000,6) and (23,6) not aligned: 6 (dim 1) != 23 (dim 0)\nApply node that caused the error: dot(TensorConstant{[[ 0.08330..05747541]]}, TensorConstant{[[0 0 0 0 .. 1 0 0 0]]})\nToposort index: 0\nInputs types: [TensorType(float64, (3000, 6)), TensorType(int64, (23, 6))]\nInputs shapes: [(3000, 6), (23, 6)]\nInputs strides: [(48, 8), (8, 184)]\nInputs values: ['not shown', 'not shown']\nOutputs clients: [[Reshape{3}(dot.0, TensorConstant{[1000    3    6]})]]\n\nBacktrace when the node is created (use Aesara flag traceback__limit=N to make it longer):\n  File \"/Users/marcoghezzi/PycharmProjects/pythonProject/venv/lib/python3.9/site-packages/IPython/core/interactiveshell.py\", line 2885, in run_cell\n    result = self._run_cell(\n  File \"/Users/marcoghezzi/PycharmProjects/pythonProject/venv/lib/python3.9/site-packages/IPython/core/interactiveshell.py\", line 2940, in _run_cell\n    return runner(coro)\n  File \"/Users/marcoghezzi/PycharmProjects/pythonProject/venv/lib/python3.9/site-packages/IPython/core/async_helpers.py\", line 129, in _pseudo_sync_runner\n    coro.send(None)\n  File \"/Users/marcoghezzi/PycharmProjects/pythonProject/venv/lib/python3.9/site-packages/IPython/core/interactiveshell.py\", line 3139, in run_cell_async\n    has_raised = await self.run_ast_nodes(code_ast.body, cell_name,\n  File \"/Users/marcoghezzi/PycharmProjects/pythonProject/venv/lib/python3.9/site-packages/IPython/core/interactiveshell.py\", line 3318, in run_ast_nodes\n    if await self.run_code(code, result, async_=asy):\n  File \"/Users/marcoghezzi/PycharmProjects/pythonProject/venv/lib/python3.9/site-packages/IPython/core/interactiveshell.py\", line 3378, in run_code\n    exec(code_obj, self.user_global_ns, self.user_ns)\n  File \"/var/folders/hn/nq1_cby521sbf58lnj9qj9mw0000gn/T/ipykernel_1416/3356009587.py\", line 2, in <module>\n    e_pred_mode_test = my_post_predict(trace, hr_test, eda_test, pupil_test, img_test)\n  File \"/var/folders/hn/nq1_cby521sbf58lnj9qj9mw0000gn/T/ipykernel_1416/4253538406.py\", line 12, in my_post_predict\n    C_val_img = at.dot(np.linalg.pinv(wimg_),img_new)\n\nHINT: Use the Aesara flag `exception_verbosity=high` for a debug print-out and storage map footprint of this Apply node."
     ]
    }
   ],
   "source": [
    "# test\n",
    "e_pred_mode_test = my_post_predict(trace, hr_test, eda_test, pupil_test, img_test)\n",
    "test_accuracy_exp = accuracy_score(e_labels_test, e_pred_mode_test)"
   ],
   "metadata": {
    "collapsed": false
   }
  },
  {
   "cell_type": "code",
   "execution_count": null,
   "outputs": [],
   "source": [],
   "metadata": {
    "collapsed": false
   }
  }
 ],
 "metadata": {
  "kernelspec": {
   "display_name": "Python 3 (ipykernel)",
   "language": "python",
   "name": "python3"
  },
  "language_info": {
   "codemirror_mode": {
    "name": "ipython",
    "version": 3
   },
   "file_extension": ".py",
   "mimetype": "text/x-python",
   "name": "python",
   "nbconvert_exporter": "python",
   "pygments_lexer": "ipython3",
   "version": "3.8.10"
  }
 },
 "nbformat": 4,
 "nbformat_minor": 2
}
