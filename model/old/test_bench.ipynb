{
 "cells": [
  {
   "cell_type": "code",
   "execution_count": 1,
   "metadata": {},
   "outputs": [
    {
     "name": "stdout",
     "output_type": "stream",
     "text": [
      "PyMC version: 4.2.2\n"
     ]
    }
   ],
   "source": [
    "import os\n",
    "\n",
    "import pymc as pm\n",
    "import numpy as np\n",
    "import matplotlib.pyplot as plt\n",
    "import pandas as pd\n",
    "from sklearn.preprocessing import StandardScaler\n",
    "from scipy import stats\n",
    "from sklearn.metrics import accuracy_score\n",
    "import aesara.tensor as pt\n",
    "\n",
    "scaler = StandardScaler()\n",
    "print(f'PyMC version: {pm.__version__}')"
   ]
  },
  {
   "cell_type": "code",
   "execution_count": 2,
   "metadata": {},
   "outputs": [
    {
     "data": {
      "text/plain": "24"
     },
     "execution_count": 2,
     "metadata": {},
     "output_type": "execute_result"
    }
   ],
   "source": [
    "X_1 = pd.read_csv('../../data/features_4_2/hr/53.csv')\n",
    "X_2 = pd.read_csv('../../data/features_4_2/eda/53.csv')\n",
    "# prova con normalizzazione\n",
    "# X = scaler.fit_transform(X)\n",
    "X1_train = X_1[:120].to_numpy()\n",
    "N_train = X1_train.shape[0]\n",
    "D1 = X1_train.shape[1]\n",
    "D1"
   ]
  },
  {
   "cell_type": "code",
   "execution_count": 3,
   "outputs": [
    {
     "data": {
      "text/plain": "array([[-1.50201806, -1.50201656, -1.50188077, ..., -1.081495  ,\n        -1.01990337, -0.94091361],\n       [-1.26119161, -1.26118937, -1.2609871 , ..., -1.00046194,\n        -0.97717222, -0.93468915],\n       [-0.7225105 , -0.72250901, -0.72237504, ..., -0.82129776,\n        -0.80796003, -0.77833435],\n       ...,\n       [ 1.95018547,  1.95017687,  1.94940182, ...,  1.55333491,\n         1.32769629,  1.08968708],\n       [-0.58527833, -0.58530354, -0.58757718, ...,  2.74651087,\n         2.35115364,  1.93359222],\n       [ 0.19098482,  0.19096517,  0.18919248, ...,  3.35511416,\n         3.13986105,  2.87285598]])"
     },
     "execution_count": 3,
     "metadata": {},
     "output_type": "execute_result"
    }
   ],
   "source": [
    "X1_train = scaler.fit_transform(X1_train)\n",
    "X1_train"
   ],
   "metadata": {
    "collapsed": false
   }
  },
  {
   "cell_type": "code",
   "execution_count": 4,
   "metadata": {},
   "outputs": [
    {
     "data": {
      "text/plain": "1"
     },
     "execution_count": 4,
     "metadata": {},
     "output_type": "execute_result"
    }
   ],
   "source": [
    "df_ = pd.read_csv('../../data/LookAtMe_053.csv', sep='\\t')\n",
    "expectancy_label = np.array(list([int(d > 2) for d in df_['rating']]))[:, np.newaxis]\n",
    "exp_train = expectancy_label[:120]\n",
    "D2 = exp_train.shape[1]\n",
    "D2"
   ]
  },
  {
   "cell_type": "code",
   "execution_count": 5,
   "outputs": [],
   "source": [
    "def expand_packed_block_triangular(d, k, packed, diag=None, mtype=\"aesara\"):\n",
    "    # like expand_packed_triangular, but with d > k.\n",
    "    assert mtype in {\"aesara\", \"numpy\"}\n",
    "    assert d >= k\n",
    "\n",
    "    def set_(M, i_, v_):\n",
    "        if mtype == \"aesara\":\n",
    "            return pt.set_subtensor(M[i_], v_)\n",
    "        M[i_] = v_\n",
    "        return M\n",
    "\n",
    "    out = pt.zeros((d, k), dtype=float) if mtype == \"aesara\" else np.zeros((d, k), dtype=float)\n",
    "    if diag is None:\n",
    "        idxs = np.tril_indices(d, m=k)\n",
    "        out = set_(out, idxs, packed)\n",
    "    else:\n",
    "        idxs = np.tril_indices(d, k=-1, m=k)\n",
    "        out = set_(out, idxs, packed)\n",
    "        idxs = (np.arange(k), np.arange(k))\n",
    "        out = set_(out, idxs, diag)\n",
    "    return out\n",
    "\n",
    "\n",
    "def makeW(d, k, dim_names, name):\n",
    "    # make a W matrix adapted to the data shape\n",
    "    n_od = int(k * d - k * (k - 1) / 2 - k)\n",
    "    # trick: the cumulative sum of z will be positive increasing\n",
    "    z = pm.HalfNormal(\"W_z_\" + name, 1.0, dims=\"latent_columns\")\n",
    "    b = pm.HalfNormal(\"W_b_\" + name, 1.0, shape=(n_od,), dims=\"packed_dim\")\n",
    "    L = expand_packed_block_triangular(d, k, b, pt.ones(k))\n",
    "    W = pm.Deterministic(name, pt.dot(L, pt.diag(pt.extra_ops.cumsum(z))), dims=dim_names)\n",
    "    return W"
   ],
   "metadata": {
    "collapsed": false
   }
  },
  {
   "cell_type": "code",
   "execution_count": 6,
   "metadata": {},
   "outputs": [],
   "source": [
    "k = 2\n",
    "# model definition\n",
    "with pm.Model() as PPCA_identified:\n",
    "        PPCA_identified.add_coord(\"latent_columns\", np.arange(k), mutable=True)\n",
    "        PPCA_identified.add_coord(\"rows\", np.arange(N_train), mutable=True)\n",
    "        PPCA_identified.add_coord(\"observed_hr\", np.arange(D1), mutable=False)\n",
    "        PPCA_identified.add_coord(\"observed_label\", np.arange(D2), mutable=False)\n",
    "\n",
    "        hr_data = pm.MutableData(\"hr_data\", X1_train.T, dims=[\"observed_hr\", \"rows\"])\n",
    "\n",
    "        W_hr = makeW(D1, k, (\"observed_hr\", \"latent_columns\"), 'W_hr')\n",
    "\n",
    "        W_e = pm.Normal(\"W_e\", dims=[\"observed_label\", \"latent_columns\"])\n",
    "        C = pm.Normal(\"C\", dims=[\"latent_columns\", \"rows\"])\n",
    "\n",
    "\n",
    "        psi_hr = pm.HalfNormal(\"psi_hr\", 2.0, dims=[\"observed_hr\", \"rows\"])     #24x120\n",
    "        X_hr = pm.Normal(\"X_hr\", mu=pt.dot(W_hr, C), sigma=psi_hr, observed=hr_data, dims=[\"observed_hr\", \"rows\"])\n",
    "\n",
    "\n",
    "        X_e = pm.Bernoulli(\"X_e\", p=pm.math.sigmoid(pt.dot(W_e, C)), dims=[\"observed_label\", \"rows\"],\n",
    "                           observed=exp_train.T)"
   ]
  },
  {
   "cell_type": "code",
   "execution_count": 7,
   "outputs": [
    {
     "data": {
      "text/plain": "<IPython.core.display.HTML object>",
      "text/html": "\n<style>\n    /* Turns off some styling */\n    progress {\n        /* gets rid of default border in Firefox and Opera. */\n        border: none;\n        /* Needs to be in here for Safari polyfill so background images work as expected. */\n        background-size: auto;\n    }\n    progress:not([value]), progress:not([value])::-webkit-progress-bar {\n        background: repeating-linear-gradient(45deg, #7e7e7e, #7e7e7e 10px, #5c5c5c 10px, #5c5c5c 20px);\n    }\n    .progress-bar-interrupted, .progress-bar-interrupted::-webkit-progress-bar {\n        background: #F44336;\n    }\n</style>\n"
     },
     "metadata": {},
     "output_type": "display_data"
    },
    {
     "data": {
      "text/plain": "<IPython.core.display.HTML object>",
      "text/html": "\n    <div>\n      <progress value='0' class='' max='100000' style='width:300px; height:20px; vertical-align: middle;'></progress>\n      \n    </div>\n    "
     },
     "metadata": {},
     "output_type": "display_data"
    },
    {
     "name": "stderr",
     "output_type": "stream",
     "text": [
      "Finished [100%]: Average Loss = 23,793\n"
     ]
    }
   ],
   "source": [
    "with PPCA_identified:\n",
    "    approx = pm.fit(100000, callbacks=[pm.callbacks.CheckParametersConvergence(tolerance=1e-4)])\n",
    "    trace = approx.sample(1000)\n"
   ],
   "metadata": {
    "collapsed": false
   }
  },
  {
   "cell_type": "code",
   "execution_count": 8,
   "outputs": [
    {
     "data": {
      "text/plain": "'prova_tmp.pdf'"
     },
     "execution_count": 8,
     "metadata": {},
     "output_type": "execute_result"
    }
   ],
   "source": [
    "gv_ = pm.model_to_graphviz(PPCA_identified)\n",
    "gv_.view('prova_tmp')"
   ],
   "metadata": {
    "collapsed": false
   }
  },
  {
   "cell_type": "code",
   "execution_count": 9,
   "outputs": [
    {
     "name": "stderr",
     "output_type": "stream",
     "text": [
      "Sampling: [X_e, X_hr]\n"
     ]
    },
    {
     "data": {
      "text/plain": "<IPython.core.display.HTML object>",
      "text/html": "\n<style>\n    /* Turns off some styling */\n    progress {\n        /* gets rid of default border in Firefox and Opera. */\n        border: none;\n        /* Needs to be in here for Safari polyfill so background images work as expected. */\n        background-size: auto;\n    }\n    progress:not([value]), progress:not([value])::-webkit-progress-bar {\n        background: repeating-linear-gradient(45deg, #7e7e7e, #7e7e7e 10px, #5c5c5c 10px, #5c5c5c 20px);\n    }\n    .progress-bar-interrupted, .progress-bar-interrupted::-webkit-progress-bar {\n        background: #F44336;\n    }\n</style>\n"
     },
     "metadata": {},
     "output_type": "display_data"
    },
    {
     "data": {
      "text/plain": "<IPython.core.display.HTML object>",
      "text/html": "\n    <div>\n      <progress value='0' class='' max='1000' style='width:300px; height:20px; vertical-align: middle;'></progress>\n      \n    </div>\n    "
     },
     "metadata": {},
     "output_type": "display_data"
    }
   ],
   "source": [
    "with PPCA_identified:\n",
    "    PPCA_identified.set_data('hr_data', X1_train.T, coords={'rows': range(X1_train.shape[0])})\n",
    "    posterior_predictive = pm.sample_posterior_predictive(\n",
    "        trace, random_seed=123)\n",
    "\n",
    "e_pred_train = posterior_predictive.posterior_predictive['X_e']\n",
    "e_pred_mode_train = np.squeeze(stats.mode(e_pred_train[0], keepdims=False)[0])[:, np.newaxis]\n"
   ],
   "metadata": {
    "collapsed": false
   }
  },
  {
   "cell_type": "code",
   "execution_count": 10,
   "outputs": [
    {
     "name": "stdout",
     "output_type": "stream",
     "text": [
      "0.6083333333333333\n"
     ]
    }
   ],
   "source": [
    "train_accuracy_exp = accuracy_score(exp_train, e_pred_mode_train)\n",
    "print(train_accuracy_exp)"
   ],
   "metadata": {
    "collapsed": false
   }
  },
  {
   "cell_type": "code",
   "execution_count": 11,
   "outputs": [],
   "source": [
    "latent_space_c = trace.posterior['C']\n",
    "latent_space_c = np.array(latent_space_c[0].mean(axis=0))"
   ],
   "metadata": {
    "collapsed": false
   }
  },
  {
   "cell_type": "code",
   "execution_count": 12,
   "outputs": [
    {
     "data": {
      "text/plain": "(2, 120)"
     },
     "execution_count": 12,
     "metadata": {},
     "output_type": "execute_result"
    }
   ],
   "source": [
    "latent_space_c.shape"
   ],
   "metadata": {
    "collapsed": false
   }
  },
  {
   "cell_type": "code",
   "execution_count": 13,
   "outputs": [
    {
     "data": {
      "text/plain": "            X         Y  label\n0   -2.445422 -2.617262      1\n1   -1.797687 -2.447903      1\n2   -0.963296 -1.459064      1\n3   -2.123588 -0.624718      1\n4   -2.946615 -3.766640      0\n..        ...       ...    ...\n115  3.898350 -0.489130      1\n116  0.155950  3.038843      0\n117  1.848590  4.791890      0\n118 -1.210853  4.157639      0\n119 -0.908863  4.449088      0\n\n[120 rows x 3 columns]",
      "text/html": "<div>\n<style scoped>\n    .dataframe tbody tr th:only-of-type {\n        vertical-align: middle;\n    }\n\n    .dataframe tbody tr th {\n        vertical-align: top;\n    }\n\n    .dataframe thead th {\n        text-align: right;\n    }\n</style>\n<table border=\"1\" class=\"dataframe\">\n  <thead>\n    <tr style=\"text-align: right;\">\n      <th></th>\n      <th>X</th>\n      <th>Y</th>\n      <th>label</th>\n    </tr>\n  </thead>\n  <tbody>\n    <tr>\n      <th>0</th>\n      <td>-2.445422</td>\n      <td>-2.617262</td>\n      <td>1</td>\n    </tr>\n    <tr>\n      <th>1</th>\n      <td>-1.797687</td>\n      <td>-2.447903</td>\n      <td>1</td>\n    </tr>\n    <tr>\n      <th>2</th>\n      <td>-0.963296</td>\n      <td>-1.459064</td>\n      <td>1</td>\n    </tr>\n    <tr>\n      <th>3</th>\n      <td>-2.123588</td>\n      <td>-0.624718</td>\n      <td>1</td>\n    </tr>\n    <tr>\n      <th>4</th>\n      <td>-2.946615</td>\n      <td>-3.766640</td>\n      <td>0</td>\n    </tr>\n    <tr>\n      <th>...</th>\n      <td>...</td>\n      <td>...</td>\n      <td>...</td>\n    </tr>\n    <tr>\n      <th>115</th>\n      <td>3.898350</td>\n      <td>-0.489130</td>\n      <td>1</td>\n    </tr>\n    <tr>\n      <th>116</th>\n      <td>0.155950</td>\n      <td>3.038843</td>\n      <td>0</td>\n    </tr>\n    <tr>\n      <th>117</th>\n      <td>1.848590</td>\n      <td>4.791890</td>\n      <td>0</td>\n    </tr>\n    <tr>\n      <th>118</th>\n      <td>-1.210853</td>\n      <td>4.157639</td>\n      <td>0</td>\n    </tr>\n    <tr>\n      <th>119</th>\n      <td>-0.908863</td>\n      <td>4.449088</td>\n      <td>0</td>\n    </tr>\n  </tbody>\n</table>\n<p>120 rows × 3 columns</p>\n</div>"
     },
     "execution_count": 13,
     "metadata": {},
     "output_type": "execute_result"
    }
   ],
   "source": [
    "latent_space = pd.DataFrame()\n",
    "latent_space['X'] = np.array(latent_space_c[0])\n",
    "latent_space['Y'] = np.array(latent_space_c[1])\n",
    "latent_space['label'] = exp_train\n",
    "latent_space"
   ],
   "metadata": {
    "collapsed": false
   }
  },
  {
   "cell_type": "markdown",
   "source": [
    "## scatter plot latent space"
   ],
   "metadata": {
    "collapsed": false
   }
  },
  {
   "cell_type": "code",
   "execution_count": 14,
   "outputs": [
    {
     "data": {
      "text/plain": "<Figure size 640x480 with 1 Axes>",
      "image/png": "[encoded data removed]"
     },
     "metadata": {},
     "output_type": "display_data"
    }
   ],
   "source": [
    "plt.scatter(latent_space[latent_space['label'] == 1].X, latent_space[latent_space['label'] == 1].Y, color = 'r', label='high exp')\n",
    "plt.scatter(latent_space[latent_space['label'] == 0].X, latent_space[latent_space['label'] == 0].Y, color = 'b', label='low exp')\n",
    "plt.legend()\n",
    "plt.show()"
   ],
   "metadata": {
    "collapsed": false
   }
  },
  {
   "cell_type": "code",
   "execution_count": 15,
   "outputs": [],
   "source": [
    "def my_post_predict(trace,hr_val):\n",
    "    whr_ = trace.posterior['W_hr'][0]\n",
    "    C_val = pt.dot(np.linalg.pinv(whr_), hr_val.T)\n",
    "    we_ = trace.posterior['W_e'][0]\n",
    "    val_label_gen = pt.matmul(np.array(we_),C_val.eval())\n",
    "    label_val = np.where(val_label_gen.eval()<0, 0, 1)\n",
    "    label_val = stats.mode(label_val[0], keepdims=False)[0]\n",
    "    return  label_val, C_val"
   ],
   "metadata": {
    "collapsed": false
   }
  },
  {
   "cell_type": "code",
   "execution_count": 16,
   "outputs": [],
   "source": [
    "X1_test = X_1[120:].to_numpy()"
   ],
   "metadata": {
    "collapsed": false
   }
  },
  {
   "cell_type": "code",
   "execution_count": 17,
   "outputs": [
    {
     "data": {
      "text/plain": "array([[ 801.43375332, 1227.47568147, 1069.52482848,  885.13707548,\n        1095.13138531,  858.9933278 , 1647.56529368,  965.70647531,\n        1163.95782953, 1158.05772539, 1527.8403857 , 1289.08187868,\n        1097.75480169, 1137.96435504, 1060.2571445 ,  933.0728845 ,\n        1065.416267  , 1055.14788343, 1305.32410329,  987.44724977,\n         969.81672931,  748.55613558, 1415.55654747, 1244.94625906,\n        1469.34209139,  964.9968144 ,  882.68557371, 1277.47164055,\n        1341.04785132, 1010.24187408, 1103.34318167, 1568.50135357,\n        1788.14300447, 1428.35074575, 1249.20593056, 1474.81643084,\n         866.35374582, 1355.44860506, 1236.97698994, 1616.80879571],\n       [2244.04325316, 2090.16136114, 2462.75299026, 2250.34185453,\n        2145.75725443, 2099.55368855, 2139.62990199, 2234.14581463,\n        2172.20442813, 2206.99268357, 2129.34270836, 2281.26628147,\n        2329.63694218, 2334.8306095 , 2345.03907223, 2226.01602624,\n        2471.87212911, 2133.51570294, 2236.73587199, 2219.7043382 ,\n        2222.52210328, 2350.6751765 , 2152.20356694, 2216.5470059 ,\n        2202.69041093, 2251.78752941, 2016.25014407, 2378.62015788,\n        2074.62510635, 2306.9849175 , 2172.19745428, 2052.06598201,\n        2227.59766037, 2359.30960669, 2317.57225197, 2304.91042859,\n        2470.11281725, 2496.52213574, 2351.61425245, 2366.60873398]])"
     },
     "execution_count": 17,
     "metadata": {},
     "output_type": "execute_result"
    }
   ],
   "source": [
    "label, new_latent_space = my_post_predict(trace, X1_test)\n",
    "new_latent_space = np.array(new_latent_space.eval().mean(axis=0))\n",
    "new_latent_space"
   ],
   "metadata": {
    "collapsed": false
   }
  },
  {
   "cell_type": "code",
   "execution_count": 18,
   "outputs": [
    {
     "data": {
      "text/plain": "              X            Y  label\n0    801.433753  2244.043253      0\n1   1227.475681  2090.161361      1\n2   1069.524828  2462.752990      0\n3    885.137075  2250.341855      1\n4   1095.131385  2145.757254      0\n5    858.993328  2099.553689      1\n6   1647.565294  2139.629902      0\n7    965.706475  2234.145815      0\n8   1163.957830  2172.204428      1\n9   1158.057725  2206.992684      1\n10  1527.840386  2129.342708      1\n11  1289.081879  2281.266281      0\n12  1097.754802  2329.636942      1\n13  1137.964355  2334.830609      1\n14  1060.257145  2345.039072      0\n15   933.072884  2226.016026      0\n16  1065.416267  2471.872129      1\n17  1055.147883  2133.515703      0\n18  1305.324103  2236.735872      1\n19   987.447250  2219.704338      1\n20   969.816729  2222.522103      0\n21   748.556136  2350.675177      0\n22  1415.556547  2152.203567      1\n23  1244.946259  2216.547006      0\n24  1469.342091  2202.690411      0\n25   964.996814  2251.787529      1\n26   882.685574  2016.250144      1\n27  1277.471641  2378.620158      0\n28  1341.047851  2074.625106      0\n29  1010.241874  2306.984917      0\n30  1103.343182  2172.197454      1\n31  1568.501354  2052.065982      0\n32  1788.143004  2227.597660      1\n33  1428.350746  2359.309607      1\n34  1249.205931  2317.572252      0\n35  1474.816431  2304.910429      1\n36   866.353746  2470.112817      0\n37  1355.448605  2496.522136      0\n38  1236.976990  2351.614252      0\n39  1616.808796  2366.608734      1",
      "text/html": "<div>\n<style scoped>\n    .dataframe tbody tr th:only-of-type {\n        vertical-align: middle;\n    }\n\n    .dataframe tbody tr th {\n        vertical-align: top;\n    }\n\n    .dataframe thead th {\n        text-align: right;\n    }\n</style>\n<table border=\"1\" class=\"dataframe\">\n  <thead>\n    <tr style=\"text-align: right;\">\n      <th></th>\n      <th>X</th>\n      <th>Y</th>\n      <th>label</th>\n    </tr>\n  </thead>\n  <tbody>\n    <tr>\n      <th>0</th>\n      <td>801.433753</td>\n      <td>2244.043253</td>\n      <td>0</td>\n    </tr>\n    <tr>\n      <th>1</th>\n      <td>1227.475681</td>\n      <td>2090.161361</td>\n      <td>1</td>\n    </tr>\n    <tr>\n      <th>2</th>\n      <td>1069.524828</td>\n      <td>2462.752990</td>\n      <td>0</td>\n    </tr>\n    <tr>\n      <th>3</th>\n      <td>885.137075</td>\n      <td>2250.341855</td>\n      <td>1</td>\n    </tr>\n    <tr>\n      <th>4</th>\n      <td>1095.131385</td>\n      <td>2145.757254</td>\n      <td>0</td>\n    </tr>\n    <tr>\n      <th>5</th>\n      <td>858.993328</td>\n      <td>2099.553689</td>\n      <td>1</td>\n    </tr>\n    <tr>\n      <th>6</th>\n      <td>1647.565294</td>\n      <td>2139.629902</td>\n      <td>0</td>\n    </tr>\n    <tr>\n      <th>7</th>\n      <td>965.706475</td>\n      <td>2234.145815</td>\n      <td>0</td>\n    </tr>\n    <tr>\n      <th>8</th>\n      <td>1163.957830</td>\n      <td>2172.204428</td>\n      <td>1</td>\n    </tr>\n    <tr>\n      <th>9</th>\n      <td>1158.057725</td>\n      <td>2206.992684</td>\n      <td>1</td>\n    </tr>\n    <tr>\n      <th>10</th>\n      <td>1527.840386</td>\n      <td>2129.342708</td>\n      <td>1</td>\n    </tr>\n    <tr>\n      <th>11</th>\n      <td>1289.081879</td>\n      <td>2281.266281</td>\n      <td>0</td>\n    </tr>\n    <tr>\n      <th>12</th>\n      <td>1097.754802</td>\n      <td>2329.636942</td>\n      <td>1</td>\n    </tr>\n    <tr>\n      <th>13</th>\n      <td>1137.964355</td>\n      <td>2334.830609</td>\n      <td>1</td>\n    </tr>\n    <tr>\n      <th>14</th>\n      <td>1060.257145</td>\n      <td>2345.039072</td>\n      <td>0</td>\n    </tr>\n    <tr>\n      <th>15</th>\n      <td>933.072884</td>\n      <td>2226.016026</td>\n      <td>0</td>\n    </tr>\n    <tr>\n      <th>16</th>\n      <td>1065.416267</td>\n      <td>2471.872129</td>\n      <td>1</td>\n    </tr>\n    <tr>\n      <th>17</th>\n      <td>1055.147883</td>\n      <td>2133.515703</td>\n      <td>0</td>\n    </tr>\n    <tr>\n      <th>18</th>\n      <td>1305.324103</td>\n      <td>2236.735872</td>\n      <td>1</td>\n    </tr>\n    <tr>\n      <th>19</th>\n      <td>987.447250</td>\n      <td>2219.704338</td>\n      <td>1</td>\n    </tr>\n    <tr>\n      <th>20</th>\n      <td>969.816729</td>\n      <td>2222.522103</td>\n      <td>0</td>\n    </tr>\n    <tr>\n      <th>21</th>\n      <td>748.556136</td>\n      <td>2350.675177</td>\n      <td>0</td>\n    </tr>\n    <tr>\n      <th>22</th>\n      <td>1415.556547</td>\n      <td>2152.203567</td>\n      <td>1</td>\n    </tr>\n    <tr>\n      <th>23</th>\n      <td>1244.946259</td>\n      <td>2216.547006</td>\n      <td>0</td>\n    </tr>\n    <tr>\n      <th>24</th>\n      <td>1469.342091</td>\n      <td>2202.690411</td>\n      <td>0</td>\n    </tr>\n    <tr>\n      <th>25</th>\n      <td>964.996814</td>\n      <td>2251.787529</td>\n      <td>1</td>\n    </tr>\n    <tr>\n      <th>26</th>\n      <td>882.685574</td>\n      <td>2016.250144</td>\n      <td>1</td>\n    </tr>\n    <tr>\n      <th>27</th>\n      <td>1277.471641</td>\n      <td>2378.620158</td>\n      <td>0</td>\n    </tr>\n    <tr>\n      <th>28</th>\n      <td>1341.047851</td>\n      <td>2074.625106</td>\n      <td>0</td>\n    </tr>\n    <tr>\n      <th>29</th>\n      <td>1010.241874</td>\n      <td>2306.984917</td>\n      <td>0</td>\n    </tr>\n    <tr>\n      <th>30</th>\n      <td>1103.343182</td>\n      <td>2172.197454</td>\n      <td>1</td>\n    </tr>\n    <tr>\n      <th>31</th>\n      <td>1568.501354</td>\n      <td>2052.065982</td>\n      <td>0</td>\n    </tr>\n    <tr>\n      <th>32</th>\n      <td>1788.143004</td>\n      <td>2227.597660</td>\n      <td>1</td>\n    </tr>\n    <tr>\n      <th>33</th>\n      <td>1428.350746</td>\n      <td>2359.309607</td>\n      <td>1</td>\n    </tr>\n    <tr>\n      <th>34</th>\n      <td>1249.205931</td>\n      <td>2317.572252</td>\n      <td>0</td>\n    </tr>\n    <tr>\n      <th>35</th>\n      <td>1474.816431</td>\n      <td>2304.910429</td>\n      <td>1</td>\n    </tr>\n    <tr>\n      <th>36</th>\n      <td>866.353746</td>\n      <td>2470.112817</td>\n      <td>0</td>\n    </tr>\n    <tr>\n      <th>37</th>\n      <td>1355.448605</td>\n      <td>2496.522136</td>\n      <td>0</td>\n    </tr>\n    <tr>\n      <th>38</th>\n      <td>1236.976990</td>\n      <td>2351.614252</td>\n      <td>0</td>\n    </tr>\n    <tr>\n      <th>39</th>\n      <td>1616.808796</td>\n      <td>2366.608734</td>\n      <td>1</td>\n    </tr>\n  </tbody>\n</table>\n</div>"
     },
     "execution_count": 18,
     "metadata": {},
     "output_type": "execute_result"
    }
   ],
   "source": [
    "e_pred_test = expectancy_label[120:]\n",
    "\n",
    "latent_space_post = pd.DataFrame()\n",
    "latent_space_post['X'] = np.array(new_latent_space[0])\n",
    "latent_space_post['Y'] = np.array(new_latent_space[1])\n",
    "latent_space_post['label'] = e_pred_test\n",
    "latent_space_post"
   ],
   "metadata": {
    "collapsed": false
   }
  },
  {
   "cell_type": "code",
   "execution_count": 19,
   "outputs": [
    {
     "data": {
      "text/plain": "<Figure size 640x480 with 1 Axes>",
      "image/png": "[encoded data removed]"
     },
     "metadata": {},
     "output_type": "display_data"
    }
   ],
   "source": [
    "plt.scatter(latent_space_post[latent_space_post['label'] == 1].X, latent_space_post[latent_space_post['label'] == 1].Y, color = 'r', label='high exp')\n",
    "plt.scatter(latent_space_post[latent_space_post['label'] == 0].X, latent_space_post[latent_space_post['label'] == 0].Y, color = 'b', label='low exp')\n",
    "plt.legend()\n",
    "plt.show()"
   ],
   "metadata": {
    "collapsed": false
   }
  },
  {
   "cell_type": "markdown",
   "source": [
    "## Logistic regression"
   ],
   "metadata": {
    "collapsed": false
   }
  },
  {
   "cell_type": "code",
   "execution_count": 9,
   "outputs": [
    {
     "data": {
      "text/plain": "<IPython.core.display.HTML object>",
      "text/html": "\n<style>\n    /* Turns off some styling */\n    progress {\n        /* gets rid of default border in Firefox and Opera. */\n        border: none;\n        /* Needs to be in here for Safari polyfill so background images work as expected. */\n        background-size: auto;\n    }\n    progress:not([value]), progress:not([value])::-webkit-progress-bar {\n        background: repeating-linear-gradient(45deg, #7e7e7e, #7e7e7e 10px, #5c5c5c 10px, #5c5c5c 20px);\n    }\n    .progress-bar-interrupted, .progress-bar-interrupted::-webkit-progress-bar {\n        background: #F44336;\n    }\n</style>\n"
     },
     "metadata": {},
     "output_type": "display_data"
    },
    {
     "data": {
      "text/plain": "<IPython.core.display.HTML object>",
      "text/html": "\n    <div>\n      <progress value='0' class='' max='100000' style='width:300px; height:20px; vertical-align: middle;'></progress>\n      \n    </div>\n    "
     },
     "metadata": {},
     "output_type": "display_data"
    },
    {
     "name": "stderr",
     "output_type": "stream",
     "text": [
      "Finished [100%]: Average Loss = 93.189\n",
      "Sampling: [likelihood]\n"
     ]
    },
    {
     "data": {
      "text/plain": "<IPython.core.display.HTML object>",
      "text/html": "\n<style>\n    /* Turns off some styling */\n    progress {\n        /* gets rid of default border in Firefox and Opera. */\n        border: none;\n        /* Needs to be in here for Safari polyfill so background images work as expected. */\n        background-size: auto;\n    }\n    progress:not([value]), progress:not([value])::-webkit-progress-bar {\n        background: repeating-linear-gradient(45deg, #7e7e7e, #7e7e7e 10px, #5c5c5c 10px, #5c5c5c 20px);\n    }\n    .progress-bar-interrupted, .progress-bar-interrupted::-webkit-progress-bar {\n        background: #F44336;\n    }\n</style>\n"
     },
     "metadata": {},
     "output_type": "display_data"
    },
    {
     "data": {
      "text/plain": "<IPython.core.display.HTML object>",
      "text/html": "\n    <div>\n      <progress value='0' class='' max='1000' style='width:300px; height:20px; vertical-align: middle;'></progress>\n      \n    </div>\n    "
     },
     "metadata": {},
     "output_type": "display_data"
    },
    {
     "data": {
      "text/plain": "<IPython.core.display.HTML object>",
      "text/html": "\n<style>\n    /* Turns off some styling */\n    progress {\n        /* gets rid of default border in Firefox and Opera. */\n        border: none;\n        /* Needs to be in here for Safari polyfill so background images work as expected. */\n        background-size: auto;\n    }\n    progress:not([value]), progress:not([value])::-webkit-progress-bar {\n        background: repeating-linear-gradient(45deg, #7e7e7e, #7e7e7e 10px, #5c5c5c 10px, #5c5c5c 20px);\n    }\n    .progress-bar-interrupted, .progress-bar-interrupted::-webkit-progress-bar {\n        background: #F44336;\n    }\n</style>\n"
     },
     "metadata": {},
     "output_type": "display_data"
    },
    {
     "data": {
      "text/plain": "<IPython.core.display.HTML object>",
      "text/html": "\n    <div>\n      <progress value='0' class='' max='100000' style='width:300px; height:20px; vertical-align: middle;'></progress>\n      \n    </div>\n    "
     },
     "metadata": {},
     "output_type": "display_data"
    },
    {
     "name": "stderr",
     "output_type": "stream",
     "text": [
      "Finished [100%]: Average Loss = 92.975\n",
      "Sampling: [likelihood]\n"
     ]
    },
    {
     "data": {
      "text/plain": "<IPython.core.display.HTML object>",
      "text/html": "\n<style>\n    /* Turns off some styling */\n    progress {\n        /* gets rid of default border in Firefox and Opera. */\n        border: none;\n        /* Needs to be in here for Safari polyfill so background images work as expected. */\n        background-size: auto;\n    }\n    progress:not([value]), progress:not([value])::-webkit-progress-bar {\n        background: repeating-linear-gradient(45deg, #7e7e7e, #7e7e7e 10px, #5c5c5c 10px, #5c5c5c 20px);\n    }\n    .progress-bar-interrupted, .progress-bar-interrupted::-webkit-progress-bar {\n        background: #F44336;\n    }\n</style>\n"
     },
     "metadata": {},
     "output_type": "display_data"
    },
    {
     "data": {
      "text/plain": "<IPython.core.display.HTML object>",
      "text/html": "\n    <div>\n      <progress value='0' class='' max='1000' style='width:300px; height:20px; vertical-align: middle;'></progress>\n      \n    </div>\n    "
     },
     "metadata": {},
     "output_type": "display_data"
    },
    {
     "data": {
      "text/plain": "<IPython.core.display.HTML object>",
      "text/html": "\n<style>\n    /* Turns off some styling */\n    progress {\n        /* gets rid of default border in Firefox and Opera. */\n        border: none;\n        /* Needs to be in here for Safari polyfill so background images work as expected. */\n        background-size: auto;\n    }\n    progress:not([value]), progress:not([value])::-webkit-progress-bar {\n        background: repeating-linear-gradient(45deg, #7e7e7e, #7e7e7e 10px, #5c5c5c 10px, #5c5c5c 20px);\n    }\n    .progress-bar-interrupted, .progress-bar-interrupted::-webkit-progress-bar {\n        background: #F44336;\n    }\n</style>\n"
     },
     "metadata": {},
     "output_type": "display_data"
    },
    {
     "data": {
      "text/plain": "<IPython.core.display.HTML object>",
      "text/html": "\n    <div>\n      <progress value='0' class='' max='100000' style='width:300px; height:20px; vertical-align: middle;'></progress>\n      \n    </div>\n    "
     },
     "metadata": {},
     "output_type": "display_data"
    },
    {
     "name": "stderr",
     "output_type": "stream",
     "text": [
      "Interrupted at 26,050 [26%]: Average Loss = 96.729\n",
      "Sampling: [likelihood]\n"
     ]
    },
    {
     "data": {
      "text/plain": "<IPython.core.display.HTML object>",
      "text/html": "\n<style>\n    /* Turns off some styling */\n    progress {\n        /* gets rid of default border in Firefox and Opera. */\n        border: none;\n        /* Needs to be in here for Safari polyfill so background images work as expected. */\n        background-size: auto;\n    }\n    progress:not([value]), progress:not([value])::-webkit-progress-bar {\n        background: repeating-linear-gradient(45deg, #7e7e7e, #7e7e7e 10px, #5c5c5c 10px, #5c5c5c 20px);\n    }\n    .progress-bar-interrupted, .progress-bar-interrupted::-webkit-progress-bar {\n        background: #F44336;\n    }\n</style>\n"
     },
     "metadata": {},
     "output_type": "display_data"
    },
    {
     "data": {
      "text/plain": "<IPython.core.display.HTML object>",
      "text/html": "\n    <div>\n      <progress value='0' class='' max='1000' style='width:300px; height:20px; vertical-align: middle;'></progress>\n      \n    </div>\n    "
     },
     "metadata": {},
     "output_type": "display_data"
    },
    {
     "data": {
      "text/plain": "<IPython.core.display.HTML object>",
      "text/html": "\n<style>\n    /* Turns off some styling */\n    progress {\n        /* gets rid of default border in Firefox and Opera. */\n        border: none;\n        /* Needs to be in here for Safari polyfill so background images work as expected. */\n        background-size: auto;\n    }\n    progress:not([value]), progress:not([value])::-webkit-progress-bar {\n        background: repeating-linear-gradient(45deg, #7e7e7e, #7e7e7e 10px, #5c5c5c 10px, #5c5c5c 20px);\n    }\n    .progress-bar-interrupted, .progress-bar-interrupted::-webkit-progress-bar {\n        background: #F44336;\n    }\n</style>\n"
     },
     "metadata": {},
     "output_type": "display_data"
    },
    {
     "data": {
      "text/plain": "<IPython.core.display.HTML object>",
      "text/html": "\n    <div>\n      <progress value='0' class='' max='100000' style='width:300px; height:20px; vertical-align: middle;'></progress>\n      \n    </div>\n    "
     },
     "metadata": {},
     "output_type": "display_data"
    },
    {
     "name": "stderr",
     "output_type": "stream",
     "text": [
      "Interrupted at 85,967 [85%]: Average Loss = 80.739\n",
      "Sampling: [likelihood]\n"
     ]
    },
    {
     "data": {
      "text/plain": "<IPython.core.display.HTML object>",
      "text/html": "\n<style>\n    /* Turns off some styling */\n    progress {\n        /* gets rid of default border in Firefox and Opera. */\n        border: none;\n        /* Needs to be in here for Safari polyfill so background images work as expected. */\n        background-size: auto;\n    }\n    progress:not([value]), progress:not([value])::-webkit-progress-bar {\n        background: repeating-linear-gradient(45deg, #7e7e7e, #7e7e7e 10px, #5c5c5c 10px, #5c5c5c 20px);\n    }\n    .progress-bar-interrupted, .progress-bar-interrupted::-webkit-progress-bar {\n        background: #F44336;\n    }\n</style>\n"
     },
     "metadata": {},
     "output_type": "display_data"
    },
    {
     "data": {
      "text/plain": "<IPython.core.display.HTML object>",
      "text/html": "\n    <div>\n      <progress value='0' class='' max='1000' style='width:300px; height:20px; vertical-align: middle;'></progress>\n      \n    </div>\n    "
     },
     "metadata": {},
     "output_type": "display_data"
    },
    {
     "data": {
      "text/plain": "<IPython.core.display.HTML object>",
      "text/html": "\n<style>\n    /* Turns off some styling */\n    progress {\n        /* gets rid of default border in Firefox and Opera. */\n        border: none;\n        /* Needs to be in here for Safari polyfill so background images work as expected. */\n        background-size: auto;\n    }\n    progress:not([value]), progress:not([value])::-webkit-progress-bar {\n        background: repeating-linear-gradient(45deg, #7e7e7e, #7e7e7e 10px, #5c5c5c 10px, #5c5c5c 20px);\n    }\n    .progress-bar-interrupted, .progress-bar-interrupted::-webkit-progress-bar {\n        background: #F44336;\n    }\n</style>\n"
     },
     "metadata": {},
     "output_type": "display_data"
    },
    {
     "data": {
      "text/plain": "<IPython.core.display.HTML object>",
      "text/html": "\n    <div>\n      <progress value='0' class='' max='100000' style='width:300px; height:20px; vertical-align: middle;'></progress>\n      \n    </div>\n    "
     },
     "metadata": {},
     "output_type": "display_data"
    },
    {
     "name": "stderr",
     "output_type": "stream",
     "text": [
      "Interrupted at 13,970 [13%]: Average Loss = 81.869\n",
      "\n",
      "KeyboardInterrupt\n",
      "\n"
     ]
    }
   ],
   "source": [
    "import pymc as pm\n",
    "import numpy as np\n",
    "import pandas as pd\n",
    "from sklearn.model_selection import StratifiedShuffleSplit\n",
    "from scipy import stats\n",
    "from sklearn.metrics import accuracy_score\n",
    "import aesara.tensor as at\n",
    "import fear_gen.extract_correct_csv as functions\n",
    "import os\n",
    "from sklearn.preprocessing import StandardScaler\n",
    "import csv\n",
    "\n",
    "scaler = StandardScaler()\n",
    "os.chdir('..')\n",
    "os.chdir('..')\n",
    "all_subjects = functions.extract_only_valid_subject()\n",
    "columns = ['subject','type', 'fold', 'train']\n",
    "with open('output/Regression.csv', 'w') as f:\n",
    "    write = csv.writer(f)\n",
    "    write.writerow(columns)\n",
    "\n",
    "types_ = ['hr', 'eda', 'pupil']\n",
    "\n",
    "for sub in all_subjects:\n",
    "\n",
    "    for type_ in types_:\n",
    "\n",
    "        X = pd.read_csv('data/features_4_2/'+type_+'/'+str(sub)+'.csv')\n",
    "        X = scaler.fit_transform(X)\n",
    "        X = pd.DataFrame(X)\n",
    "        X = X[48:]\n",
    "\n",
    "        df_ = pd.read_csv('data/LookAtMe_0'+functions.read_correct_subject_csv(sub)+'.csv', sep='\\t')\n",
    "        y = np.array(list([int(d > 2) for d in df_['rating']]))[:, np.newaxis]\n",
    "        y = pd.DataFrame(y)\n",
    "        y = y[48:]\n",
    "\n",
    "        sss = StratifiedShuffleSplit(n_splits=3, test_size=0.2, random_state=123)\n",
    "\n",
    "        for i, (train_index, test_index) in enumerate(sss.split(X, y)):\n",
    "            X_train = X.iloc[train_index,:]\n",
    "            y_train = y.iloc[train_index,:]\n",
    "\n",
    "            with pm.Model() as GLM:\n",
    "                intercept = pm.Normal(\"intercept\", 0, 1, shape=y_train.shape)\n",
    "                slope = pm.Normal(\"slope\", shape=(24,1))\n",
    "                likelihood = pm.Bernoulli('likelihood', p=pm.math.sigmoid(at.dot(X_train, slope)+intercept), observed=y_train)\n",
    "                approx = pm.fit(100000, callbacks=[pm.callbacks.CheckParametersConvergence(tolerance=1e-4)])\n",
    "                trace = approx.sample(1000)\n",
    "                posterior_predictive = pm.sample_posterior_predictive(\n",
    "                    trace, var_names=[\"likelihood\"], random_seed=123)\n",
    "            prediction_y = posterior_predictive.posterior_predictive['likelihood']\n",
    "            e_pred_mode_train = np.squeeze(stats.mode(prediction_y[0], keepdims=False)[0])[:, np.newaxis]\n",
    "\n",
    "            train_accuracy_exp = accuracy_score(y_train, e_pred_mode_train)\n",
    "            row = [sub, type_, i, train_accuracy_exp]\n",
    "\n",
    "            with open('output/Regression.csv', 'a') as f:\n",
    "                write = csv.writer(f)\n",
    "                write.writerow(row)"
   ],
   "metadata": {
    "collapsed": false
   }
  }
 ],
 "metadata": {
  "kernelspec": {
   "display_name": "Python 3 (ipykernel)",
   "language": "python",
   "name": "python3"
  },
  "language_info": {
   "codemirror_mode": {
    "name": "ipython",
    "version": 3
   },
   "file_extension": ".py",
   "mimetype": "text/x-python",
   "name": "python",
   "nbconvert_exporter": "python",
   "pygments_lexer": "ipython3",
   "version": "3.10.6"
  }
 },
 "nbformat": 4,
 "nbformat_minor": 1
}
