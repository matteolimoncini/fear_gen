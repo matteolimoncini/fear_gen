{
 "cells": [
  {
   "cell_type": "code",
   "execution_count": 1,
   "metadata": {},
   "outputs": [
    {
     "name": "stderr",
     "output_type": "stream",
     "text": [
      "WARNING (pytensor.tensor.blas): Using NumPy C-API based implementation for BLAS functions.\n"
     ]
    },
    {
     "name": "stdout",
     "output_type": "stream",
     "text": [
      "PyMC version: 5.0.2\n"
     ]
    }
   ],
   "source": [
    "import pymc as pm\n",
    "import numpy as np\n",
    "import matplotlib.pyplot as plt\n",
    "import pandas as pd\n",
    "from sklearn.preprocessing import StandardScaler\n",
    "from scipy import stats\n",
    "from sklearn.metrics import accuracy_score\n",
    "import pytensor.tensor as pt\n",
    "\n",
    "scaler = StandardScaler()\n",
    "print(f'PyMC version: {pm.__version__}')"
   ]
  },
  {
   "cell_type": "code",
   "execution_count": 2,
   "metadata": {},
   "outputs": [
    {
     "data": {
      "text/plain": "24"
     },
     "execution_count": 2,
     "metadata": {},
     "output_type": "execute_result"
    }
   ],
   "source": [
    "X_1 = pd.read_csv('../../data_fake/features_4_2/hr/2.csv')\n",
    "X_2 = pd.read_csv('../../data_fake/features_4_2/eda/2.csv')\n",
    "# prova con normalizzazione\n",
    "# X = scaler.fit_transform(X)\n",
    "X1_train = X_1[:120].to_numpy()\n",
    "N_train = X1_train.shape[0]\n",
    "D1 = X1_train.shape[1]\n",
    "D1"
   ]
  },
  {
   "cell_type": "code",
   "execution_count": 3,
   "metadata": {},
   "outputs": [
    {
     "data": {
      "text/plain": "1"
     },
     "execution_count": 3,
     "metadata": {},
     "output_type": "execute_result"
    }
   ],
   "source": [
    "df_ = pd.read_csv('../../data/LookAtMe_002.csv', sep='\\t')\n",
    "expectancy_label = np.array(list([int(d > 2) for d in df_['rating']]))[:, np.newaxis]\n",
    "exp_train = expectancy_label[:120]\n",
    "D2 = exp_train.shape[1]\n",
    "D2"
   ]
  },
  {
   "cell_type": "code",
   "execution_count": 4,
   "outputs": [],
   "source": [
    "def expand_packed_block_triangular(d, k, packed, diag=None, mtype=\"pytensor\"):\n",
    "    # like expand_packed_triangular, but with d > k.\n",
    "    assert mtype in {\"pytensor\", \"numpy\"}\n",
    "    assert d >= k\n",
    "\n",
    "    def set_(M, i_, v_):\n",
    "        if mtype == \"pytensor\":\n",
    "            return pt.set_subtensor(M[i_], v_)\n",
    "        M[i_] = v_\n",
    "        return M\n",
    "\n",
    "    out = pt.zeros((d, k), dtype=float) if mtype == \"pytensor\" else np.zeros((d, k), dtype=float)\n",
    "    if diag is None:\n",
    "        idxs = np.tril_indices(d, m=k)\n",
    "        out = set_(out, idxs, packed)\n",
    "    else:\n",
    "        idxs = np.tril_indices(d, k=-1, m=k)\n",
    "        out = set_(out, idxs, packed)\n",
    "        idxs = (np.arange(k), np.arange(k))\n",
    "        out = set_(out, idxs, diag)\n",
    "    return out\n",
    "\n",
    "\n",
    "def makeW(d, k, dim_names, name):\n",
    "    # make a W matrix adapted to the data shape\n",
    "    n_od = int(k * d - k * (k - 1) / 2 - k)\n",
    "    # trick: the cumulative sum of z will be positive increasing\n",
    "    z = pm.HalfNormal(\"W_z_\" + name, 1.0, dims=\"latent_columns\")\n",
    "    b = pm.HalfNormal(\"W_b_\" + name, 1.0, shape=(n_od,), dims=\"packed_dim\")\n",
    "    L = expand_packed_block_triangular(d, k, b, pt.ones(k))\n",
    "    W = pm.Deterministic(name, pt.dot(L, pt.diag(pt.extra_ops.cumsum(z))), dims=dim_names)\n",
    "    return W"
   ],
   "metadata": {
    "collapsed": false
   }
  },
  {
   "cell_type": "code",
   "execution_count": 5,
   "metadata": {},
   "outputs": [],
   "source": [
    "k = 2\n",
    "# model definition\n",
    "with pm.Model() as PPCA_identified:\n",
    "        PPCA_identified.add_coord(\"latent_columns\", np.arange(k), mutable=True)\n",
    "        PPCA_identified.add_coord(\"rows\", np.arange(N_train), mutable=True)\n",
    "        PPCA_identified.add_coord(\"observed_hr\", np.arange(D1), mutable=False)\n",
    "        PPCA_identified.add_coord(\"observed_label\", np.arange(D2), mutable=False)\n",
    "\n",
    "        hr_data = pm.MutableData(\"hr_data\", X1_train.T, dims=[\"observed_hr\", \"rows\"])\n",
    "\n",
    "        W_hr = makeW(D1, k, (\"observed_hr\", \"latent_columns\"), 'W_hr')\n",
    "\n",
    "        W_e = pm.Normal(\"W_e\", dims=[\"observed_label\", \"latent_columns\"])\n",
    "        C = pm.Normal(\"C\", dims=[\"latent_columns\", \"rows\"])\n",
    "\n",
    "\n",
    "        psi_hr = pm.HalfNormal(\"psi_hr\", 1.0)\n",
    "        X_hr = pm.Normal(\"X_hr\", mu=pt.dot(W_hr, C), sigma=psi_hr, observed=hr_data, dims=[\"observed_hr\", \"rows\"])\n",
    "\n",
    "\n",
    "        X_e = pm.Bernoulli(\"X_e\", p=pm.math.sigmoid(pt.dot(W_e, C)), dims=[\"observed_label\", \"rows\"],\n",
    "                           observed=exp_train.T)"
   ]
  },
  {
   "cell_type": "code",
   "execution_count": 6,
   "outputs": [
    {
     "data": {
      "text/plain": "<IPython.core.display.HTML object>",
      "text/html": "\n<style>\n    /* Turns off some styling */\n    progress {\n        /* gets rid of default border in Firefox and Opera. */\n        border: none;\n        /* Needs to be in here for Safari polyfill so background images work as expected. */\n        background-size: auto;\n    }\n    progress:not([value]), progress:not([value])::-webkit-progress-bar {\n        background: repeating-linear-gradient(45deg, #7e7e7e, #7e7e7e 10px, #5c5c5c 10px, #5c5c5c 20px);\n    }\n    .progress-bar-interrupted, .progress-bar-interrupted::-webkit-progress-bar {\n        background: #F44336;\n    }\n</style>\n"
     },
     "metadata": {},
     "output_type": "display_data"
    },
    {
     "data": {
      "text/plain": "<IPython.core.display.HTML object>",
      "text/html": "\n    <div>\n      <progress value='0' class='' max='100000' style='width:300px; height:20px; vertical-align: middle;'></progress>\n      \n    </div>\n    "
     },
     "metadata": {},
     "output_type": "display_data"
    },
    {
     "name": "stderr",
     "output_type": "stream",
     "text": [
      "Finished [100%]: Average Loss = 27,852\n"
     ]
    }
   ],
   "source": [
    "with PPCA_identified:\n",
    "    approx = pm.fit(100000, callbacks=[pm.callbacks.CheckParametersConvergence(tolerance=1e-4)])\n",
    "    trace = approx.sample(1000)\n"
   ],
   "metadata": {
    "collapsed": false
   }
  },
  {
   "cell_type": "code",
   "execution_count": 7,
   "outputs": [
    {
     "name": "stderr",
     "output_type": "stream",
     "text": [
      "Sampling: [X_e, X_hr]\n"
     ]
    },
    {
     "data": {
      "text/plain": "<IPython.core.display.HTML object>",
      "text/html": "\n<style>\n    /* Turns off some styling */\n    progress {\n        /* gets rid of default border in Firefox and Opera. */\n        border: none;\n        /* Needs to be in here for Safari polyfill so background images work as expected. */\n        background-size: auto;\n    }\n    progress:not([value]), progress:not([value])::-webkit-progress-bar {\n        background: repeating-linear-gradient(45deg, #7e7e7e, #7e7e7e 10px, #5c5c5c 10px, #5c5c5c 20px);\n    }\n    .progress-bar-interrupted, .progress-bar-interrupted::-webkit-progress-bar {\n        background: #F44336;\n    }\n</style>\n"
     },
     "metadata": {},
     "output_type": "display_data"
    },
    {
     "data": {
      "text/plain": "<IPython.core.display.HTML object>",
      "text/html": "\n    <div>\n      <progress value='0' class='' max='1000' style='width:300px; height:20px; vertical-align: middle;'></progress>\n      \n    </div>\n    "
     },
     "metadata": {},
     "output_type": "display_data"
    }
   ],
   "source": [
    "with PPCA_identified:\n",
    "    PPCA_identified.set_data('hr_data', X1_train.T, coords={'rows': range(X1_train.shape[0])})\n",
    "    posterior_predictive = pm.sample_posterior_predictive(\n",
    "        trace, random_seed=123)\n",
    "\n",
    "e_pred_train = posterior_predictive.posterior_predictive['X_e']\n",
    "e_pred_mode_train = np.squeeze(stats.mode(e_pred_train[0], keepdims=False)[0])[:, np.newaxis]\n"
   ],
   "metadata": {
    "collapsed": false
   }
  },
  {
   "cell_type": "code",
   "execution_count": 8,
   "outputs": [
    {
     "name": "stdout",
     "output_type": "stream",
     "text": [
      "0.9833333333333333\n"
     ]
    }
   ],
   "source": [
    "train_accuracy_exp = accuracy_score(exp_train, e_pred_mode_train)\n",
    "print(train_accuracy_exp)"
   ],
   "metadata": {
    "collapsed": false
   }
  },
  {
   "cell_type": "code",
   "execution_count": 9,
   "outputs": [
    {
     "data": {
      "text/plain": "            X         Y  label\n0    1.996682 -1.258417      1\n1    1.123699 -0.067307      1\n2    2.171738  0.888277      1\n3   -0.224595 -0.856888      1\n4   -0.598044  1.377826      1\n..        ...       ...    ...\n115  0.183236  0.571333      1\n116 -0.075263 -0.459901      0\n117  0.239067  0.180773      1\n118 -0.070861  1.375906      1\n119  0.343912 -0.297973      0\n\n[120 rows x 3 columns]",
      "text/html": "<div>\n<style scoped>\n    .dataframe tbody tr th:only-of-type {\n        vertical-align: middle;\n    }\n\n    .dataframe tbody tr th {\n        vertical-align: top;\n    }\n\n    .dataframe thead th {\n        text-align: right;\n    }\n</style>\n<table border=\"1\" class=\"dataframe\">\n  <thead>\n    <tr style=\"text-align: right;\">\n      <th></th>\n      <th>X</th>\n      <th>Y</th>\n      <th>label</th>\n    </tr>\n  </thead>\n  <tbody>\n    <tr>\n      <th>0</th>\n      <td>1.996682</td>\n      <td>-1.258417</td>\n      <td>1</td>\n    </tr>\n    <tr>\n      <th>1</th>\n      <td>1.123699</td>\n      <td>-0.067307</td>\n      <td>1</td>\n    </tr>\n    <tr>\n      <th>2</th>\n      <td>2.171738</td>\n      <td>0.888277</td>\n      <td>1</td>\n    </tr>\n    <tr>\n      <th>3</th>\n      <td>-0.224595</td>\n      <td>-0.856888</td>\n      <td>1</td>\n    </tr>\n    <tr>\n      <th>4</th>\n      <td>-0.598044</td>\n      <td>1.377826</td>\n      <td>1</td>\n    </tr>\n    <tr>\n      <th>...</th>\n      <td>...</td>\n      <td>...</td>\n      <td>...</td>\n    </tr>\n    <tr>\n      <th>115</th>\n      <td>0.183236</td>\n      <td>0.571333</td>\n      <td>1</td>\n    </tr>\n    <tr>\n      <th>116</th>\n      <td>-0.075263</td>\n      <td>-0.459901</td>\n      <td>0</td>\n    </tr>\n    <tr>\n      <th>117</th>\n      <td>0.239067</td>\n      <td>0.180773</td>\n      <td>1</td>\n    </tr>\n    <tr>\n      <th>118</th>\n      <td>-0.070861</td>\n      <td>1.375906</td>\n      <td>1</td>\n    </tr>\n    <tr>\n      <th>119</th>\n      <td>0.343912</td>\n      <td>-0.297973</td>\n      <td>0</td>\n    </tr>\n  </tbody>\n</table>\n<p>120 rows × 3 columns</p>\n</div>"
     },
     "execution_count": 9,
     "metadata": {},
     "output_type": "execute_result"
    }
   ],
   "source": [
    "latent_space = pd.DataFrame()\n",
    "latent_space['X'] = np.array(C.eval()[0])\n",
    "latent_space['Y'] = np.array(C.eval()[1])\n",
    "latent_space['label'] = e_pred_mode_train\n",
    "latent_space"
   ],
   "metadata": {
    "collapsed": false
   }
  },
  {
   "cell_type": "markdown",
   "source": [
    "## scatter plot latent space"
   ],
   "metadata": {
    "collapsed": false
   }
  },
  {
   "cell_type": "code",
   "execution_count": 10,
   "outputs": [
    {
     "data": {
      "text/plain": "<Figure size 640x480 with 1 Axes>",
      "image/png": "[encoded data removed]"
     },
     "metadata": {},
     "output_type": "display_data"
    }
   ],
   "source": [
    "plt.scatter(latent_space[latent_space['label'] == 1].X, latent_space[latent_space['label'] == 1].Y, color = 'r')\n",
    "plt.scatter(latent_space[latent_space['label'] == 0].X, latent_space[latent_space['label'] == 0].Y, color = 'b')\n",
    "plt.show()"
   ],
   "metadata": {
    "collapsed": false
   }
  },
  {
   "cell_type": "code",
   "execution_count": 21,
   "outputs": [
    {
     "name": "stdout",
     "output_type": "stream",
     "text": [
      "(40, 24)\n",
      "(40, 1)\n"
     ]
    }
   ],
   "source": [
    "X1_test = X_1[120:]\n",
    "exp_test = expectancy_label[120:]\n",
    "print(X1_test.shape)\n",
    "print(exp_test.shape)"
   ],
   "metadata": {
    "collapsed": false
   }
  },
  {
   "cell_type": "code",
   "execution_count": 38,
   "outputs": [
    {
     "name": "stderr",
     "output_type": "stream",
     "text": [
      "Sampling: [C, X_e, X_hr]\n"
     ]
    },
    {
     "data": {
      "text/plain": "<IPython.core.display.HTML object>",
      "text/html": "\n<style>\n    /* Turns off some styling */\n    progress {\n        /* gets rid of default border in Firefox and Opera. */\n        border: none;\n        /* Needs to be in here for Safari polyfill so background images work as expected. */\n        background-size: auto;\n    }\n    progress:not([value]), progress:not([value])::-webkit-progress-bar {\n        background: repeating-linear-gradient(45deg, #7e7e7e, #7e7e7e 10px, #5c5c5c 10px, #5c5c5c 20px);\n    }\n    .progress-bar-interrupted, .progress-bar-interrupted::-webkit-progress-bar {\n        background: #F44336;\n    }\n</style>\n"
     },
     "metadata": {},
     "output_type": "display_data"
    },
    {
     "data": {
      "text/plain": "<IPython.core.display.HTML object>",
      "text/html": "\n    <div>\n      <progress value='0' class='' max='1000' style='width:300px; height:20px; vertical-align: middle;'></progress>\n      \n    </div>\n    "
     },
     "metadata": {},
     "output_type": "display_data"
    },
    {
     "name": "stdout",
     "output_type": "stream",
     "text": [
      "0.6\n"
     ]
    }
   ],
   "source": [
    "with PPCA_identified:\n",
    "    # update values of predictors with validation:\n",
    "    PPCA_identified.set_data(name=\"hr_data\", values=X1_test.T, coords={'rows': range(X1_test.shape[0])})\n",
    "    posterior_predictive = pm.sample_posterior_predictive(\n",
    "        trace, random_seed=123, predictions=True)\n",
    "\n",
    "e_pred = posterior_predictive.predictions['X_e']\n",
    "e_pred_test = np.squeeze(stats.mode(e_pred[0], keepdims=False)[0])[:, np.newaxis]\n",
    "test_accuracy_exp = accuracy_score(exp_test, e_pred_test)\n",
    "print(test_accuracy_exp)"
   ],
   "metadata": {
    "collapsed": false
   }
  }
 ],
 "metadata": {
  "kernelspec": {
   "display_name": "Python 3 (ipykernel)",
   "language": "python",
   "name": "python3"
  },
  "language_info": {
   "codemirror_mode": {
    "name": "ipython",
    "version": 3
   },
   "file_extension": ".py",
   "mimetype": "text/x-python",
   "name": "python",
   "nbconvert_exporter": "python",
   "pygments_lexer": "ipython3",
   "version": "3.10.6"
  }
 },
 "nbformat": 4,
 "nbformat_minor": 1
}
