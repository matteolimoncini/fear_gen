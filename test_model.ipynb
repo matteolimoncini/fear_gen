{
 "cells": [
  {
   "cell_type": "markdown",
   "source": [
    "PPCA lavora con più variabili osservabili anzichè una sola"
   ],
   "metadata": {
    "collapsed": false
   }
  },
  {
   "cell_type": "code",
   "execution_count": 1,
   "outputs": [
    {
     "name": "stderr",
     "output_type": "stream",
     "text": [
      "WARNING (aesara.tensor.blas): Using NumPy C-API based implementation for BLAS functions.\n"
     ]
    }
   ],
   "source": [
    "import numpy as np\n",
    "import pymc as pm\n",
    "import matplotlib.pyplot as plt\n",
    "import aesara.tensor as at\n",
    "import arviz as az\n",
    "from sklearn.preprocessing import StandardScaler\n",
    "import sklearn.metrics as metrics\n",
    "from scipy import stats\n",
    "import scipy"
   ],
   "metadata": {
    "collapsed": false
   }
  },
  {
   "cell_type": "code",
   "execution_count": 2,
   "outputs": [],
   "source": [
    "scaler = StandardScaler()"
   ],
   "metadata": {
    "collapsed": false
   }
  },
  {
   "cell_type": "code",
   "execution_count": 3,
   "outputs": [],
   "source": [
    "data = np.load('prova.npy', allow_pickle=True).item()"
   ],
   "metadata": {
    "collapsed": false
   }
  },
  {
   "cell_type": "markdown",
   "source": [
    "# extract data social anxiety"
   ],
   "metadata": {
    "collapsed": false
   }
  },
  {
   "cell_type": "code",
   "execution_count": 4,
   "outputs": [],
   "source": [
    "import pandas as pd"
   ],
   "metadata": {
    "collapsed": false
   }
  },
  {
   "cell_type": "code",
   "execution_count": 5,
   "outputs": [],
   "source": [
    "# csv_ = '/Users/marcoghezzi/PycharmProjects/pythonProject/osfstorage-archive/behavior/LookAtMe_002.csv'\n",
    "csv_ = '/home/paolo/matteo/matteo/unimi/tesi_master/code/osfstorage-archive/behavior/Discrimination_LookAtMe_002.csv'\n",
    "global_data = pd.read_csv(csv_, sep='\\t')\n",
    "y = np.array(list([int(d>2) for d in global_data['rating']]))\n",
    "e_labels = y[:,np.newaxis]  # rating > 2"
   ],
   "metadata": {
    "collapsed": false
   }
  },
  {
   "cell_type": "code",
   "execution_count": 6,
   "outputs": [
    {
     "name": "stdout",
     "output_type": "stream",
     "text": [
      "40 1\n"
     ]
    }
   ],
   "source": [
    "N_e = e_labels.shape[0]\n",
    "D_e = e_labels.shape[1]\n",
    "print(N_e,D_e)"
   ],
   "metadata": {
    "collapsed": false
   }
  },
  {
   "cell_type": "markdown",
   "source": [
    "## test with new data"
   ],
   "metadata": {
    "collapsed": false
   }
  },
  {
   "cell_type": "code",
   "execution_count": 7,
   "outputs": [
    {
     "name": "stdout",
     "output_type": "stream",
     "text": [
      ">> Loading HR for subject 2 and session 69 from dataset FEAR\n",
      ">> Loading PUPIL for subject 2 and session 69 from dataset FEAR\n",
      ">> Extracting wavelet features from HR signal, adopting (2, 1) window ...\n",
      "params: \n",
      "1000\n",
      "params: \n",
      "1000\n",
      "params: \n",
      "1000\n",
      "params: \n",
      "1000\n",
      "params: \n",
      "1000\n",
      ">> Extracting wavelet features from PUPIL signal, adopting (2, 1) window ...\n",
      "params: \n",
      "200\n",
      "params: \n",
      "200\n",
      "params: \n",
      "200\n",
      "params: \n",
      "200\n"
     ]
    }
   ],
   "source": [
    "import deepemogp.feature_extractor as feature_extractor\n",
    "import deepemogp.signal.physio as physio\n",
    "import deepemogp.signal.face as face\n",
    "import deepemogp.signal.annotation as annotation\n",
    "import deepemogp.datasets as datasets\n",
    "import deepemogp.signal.behavior as behavior\n",
    "\n",
    "# from: https://github.com/SheffieldML/GPy\n",
    "#import GPy\n",
    "# from: https://github.com/SheffieldML/PyDeepGP\n",
    "#import deepgp\n",
    "\n",
    "import pandas as pd\n",
    "import numpy as np\n",
    "\n",
    "show = False\n",
    "# definition of the feature extractors to be used later\n",
    "f1 = feature_extractor.FE('wavelet')\n",
    "f2 = feature_extractor.FE('wavelet', window=(2, 1))\n",
    "f3 = feature_extractor.FE('mean', window=(2, 1))\n",
    "\n",
    "# definition of the physiological signals to be extracted\n",
    "eda_ = physio.EDA(f2)\n",
    "hr_ = physio.HR(f2)\n",
    "\n",
    "pupil_ = behavior.PUPIL(f2)\n",
    "\n",
    "# definition of the emotional annotation to be extracted\n",
    "#va = annotation.VA('valence', f3)\n",
    "#ar = annotation.VA('arousal', f3)\n",
    "# extraction of the desired data from the dataset\n",
    "d = datasets.FEAR(signals={hr_,pupil_}, subjects={'2_69'})\n",
    "\n",
    "for s in d.signals:\n",
    "    # preprocess ...\n",
    "    #s.preprocess(show=show)\n",
    "\n",
    "    # ... and extract features from each signal type\n",
    "    s.feature_ext.extract_feat_without_preprocess(s, show=show)\n",
    "\n",
    "hr_data = list(d.signals)[0].features\n",
    "pupil_data = list(d.signals)[1].features"
   ],
   "metadata": {
    "collapsed": false
   }
  },
  {
   "cell_type": "code",
   "execution_count": 8,
   "outputs": [],
   "source": [
    "hr_raw = list(d.signals)[0].raw[0]['data']"
   ],
   "metadata": {
    "collapsed": false
   }
  },
  {
   "cell_type": "code",
   "execution_count": 9,
   "outputs": [
    {
     "data": {
      "text/plain": "{<deepemogp.signal.physio.hr.HR at 0x7fc841ca3640>,\n <deepemogp.signal.behavior.pupil.PUPIL at 0x7fc840618c70>}"
     },
     "execution_count": 9,
     "metadata": {},
     "output_type": "execute_result"
    }
   ],
   "source": [
    "d.signals"
   ],
   "metadata": {
    "collapsed": false
   }
  },
  {
   "cell_type": "code",
   "execution_count": 10,
   "outputs": [
    {
     "data": {
      "text/plain": "         0         1         2         3         4         5         6   \\\n0 -1.214719 -0.969489 -1.794818 -0.130028  0.648658 -1.278176  0.655360   \n1  2.978765  3.028443  3.454952  1.468468 -0.603029  0.742600 -0.289749   \n2 -0.786910 -0.700728 -0.907563 -0.142147  0.700752 -0.470463 -0.046469   \n3 -1.539465 -1.560444 -1.752965 -0.468737 -0.789217 -0.077583  0.669867   \n4 -1.208558 -1.196978 -1.151932 -1.304946  0.252191  0.745649 -1.251371   \n\n         7         8         9         10        11  \n0 -0.065799 -0.345131  0.717082 -0.309098 -0.737570  \n1 -0.124492  0.737946 -0.706377  0.599640 -1.646102  \n2  0.712655 -0.892832 -0.011727  0.577033 -1.191729  \n3 -1.193513  0.529042  0.386148 -0.665355 -1.387225  \n4  0.803481  0.048910 -0.673520  0.016190  2.805684  ",
      "text/html": "<div>\n<style scoped>\n    .dataframe tbody tr th:only-of-type {\n        vertical-align: middle;\n    }\n\n    .dataframe tbody tr th {\n        vertical-align: top;\n    }\n\n    .dataframe thead th {\n        text-align: right;\n    }\n</style>\n<table border=\"1\" class=\"dataframe\">\n  <thead>\n    <tr style=\"text-align: right;\">\n      <th></th>\n      <th>0</th>\n      <th>1</th>\n      <th>2</th>\n      <th>3</th>\n      <th>4</th>\n      <th>5</th>\n      <th>6</th>\n      <th>7</th>\n      <th>8</th>\n      <th>9</th>\n      <th>10</th>\n      <th>11</th>\n    </tr>\n  </thead>\n  <tbody>\n    <tr>\n      <th>0</th>\n      <td>-1.214719</td>\n      <td>-0.969489</td>\n      <td>-1.794818</td>\n      <td>-0.130028</td>\n      <td>0.648658</td>\n      <td>-1.278176</td>\n      <td>0.655360</td>\n      <td>-0.065799</td>\n      <td>-0.345131</td>\n      <td>0.717082</td>\n      <td>-0.309098</td>\n      <td>-0.737570</td>\n    </tr>\n    <tr>\n      <th>1</th>\n      <td>2.978765</td>\n      <td>3.028443</td>\n      <td>3.454952</td>\n      <td>1.468468</td>\n      <td>-0.603029</td>\n      <td>0.742600</td>\n      <td>-0.289749</td>\n      <td>-0.124492</td>\n      <td>0.737946</td>\n      <td>-0.706377</td>\n      <td>0.599640</td>\n      <td>-1.646102</td>\n    </tr>\n    <tr>\n      <th>2</th>\n      <td>-0.786910</td>\n      <td>-0.700728</td>\n      <td>-0.907563</td>\n      <td>-0.142147</td>\n      <td>0.700752</td>\n      <td>-0.470463</td>\n      <td>-0.046469</td>\n      <td>0.712655</td>\n      <td>-0.892832</td>\n      <td>-0.011727</td>\n      <td>0.577033</td>\n      <td>-1.191729</td>\n    </tr>\n    <tr>\n      <th>3</th>\n      <td>-1.539465</td>\n      <td>-1.560444</td>\n      <td>-1.752965</td>\n      <td>-0.468737</td>\n      <td>-0.789217</td>\n      <td>-0.077583</td>\n      <td>0.669867</td>\n      <td>-1.193513</td>\n      <td>0.529042</td>\n      <td>0.386148</td>\n      <td>-0.665355</td>\n      <td>-1.387225</td>\n    </tr>\n    <tr>\n      <th>4</th>\n      <td>-1.208558</td>\n      <td>-1.196978</td>\n      <td>-1.151932</td>\n      <td>-1.304946</td>\n      <td>0.252191</td>\n      <td>0.745649</td>\n      <td>-1.251371</td>\n      <td>0.803481</td>\n      <td>0.048910</td>\n      <td>-0.673520</td>\n      <td>0.016190</td>\n      <td>2.805684</td>\n    </tr>\n  </tbody>\n</table>\n</div>"
     },
     "execution_count": 10,
     "metadata": {},
     "output_type": "execute_result"
    }
   ],
   "source": [
    "hr_data"
   ],
   "metadata": {
    "collapsed": false
   }
  },
  {
   "cell_type": "code",
   "execution_count": 11,
   "outputs": [
    {
     "data": {
      "text/plain": "           0          1          2          3          4          5\n0  24.539762  24.532551  24.499755  24.704881  24.280770  23.631410\n1  24.246797  24.234859  24.261076  24.119206  24.118721  23.966737\n2  23.709426  23.689816  23.623407  23.988737  23.761592  23.567655\n3  24.065313  24.064917  24.120272  23.714979  24.327230  24.581417",
      "text/html": "<div>\n<style scoped>\n    .dataframe tbody tr th:only-of-type {\n        vertical-align: middle;\n    }\n\n    .dataframe tbody tr th {\n        vertical-align: top;\n    }\n\n    .dataframe thead th {\n        text-align: right;\n    }\n</style>\n<table border=\"1\" class=\"dataframe\">\n  <thead>\n    <tr style=\"text-align: right;\">\n      <th></th>\n      <th>0</th>\n      <th>1</th>\n      <th>2</th>\n      <th>3</th>\n      <th>4</th>\n      <th>5</th>\n    </tr>\n  </thead>\n  <tbody>\n    <tr>\n      <th>0</th>\n      <td>24.539762</td>\n      <td>24.532551</td>\n      <td>24.499755</td>\n      <td>24.704881</td>\n      <td>24.280770</td>\n      <td>23.631410</td>\n    </tr>\n    <tr>\n      <th>1</th>\n      <td>24.246797</td>\n      <td>24.234859</td>\n      <td>24.261076</td>\n      <td>24.119206</td>\n      <td>24.118721</td>\n      <td>23.966737</td>\n    </tr>\n    <tr>\n      <th>2</th>\n      <td>23.709426</td>\n      <td>23.689816</td>\n      <td>23.623407</td>\n      <td>23.988737</td>\n      <td>23.761592</td>\n      <td>23.567655</td>\n    </tr>\n    <tr>\n      <th>3</th>\n      <td>24.065313</td>\n      <td>24.064917</td>\n      <td>24.120272</td>\n      <td>23.714979</td>\n      <td>24.327230</td>\n      <td>24.581417</td>\n    </tr>\n  </tbody>\n</table>\n</div>"
     },
     "execution_count": 11,
     "metadata": {},
     "output_type": "execute_result"
    }
   ],
   "source": [
    "pupil_data"
   ],
   "metadata": {
    "collapsed": false
   }
  },
  {
   "cell_type": "markdown",
   "source": [
    "## end test"
   ],
   "metadata": {
    "collapsed": false
   }
  },
  {
   "cell_type": "markdown",
   "source": [
    "prendo un'implementazione di sppca e la applico al nostro caso"
   ],
   "metadata": {
    "collapsed": false
   }
  },
  {
   "cell_type": "markdown",
   "source": [
    "different types of observable data\n",
    "\n",
    "1) gaze\n",
    "2) fisio\n",
    "    2.1) heart rate variability\n",
    "    2.2) eda phasic value\n",
    "3) social anxiety\n",
    "4) aspettativa del dolore"
   ],
   "metadata": {
    "collapsed": false
   }
  },
  {
   "cell_type": "markdown",
   "source": [
    "gaze ="
   ],
   "metadata": {
    "collapsed": false
   }
  },
  {
   "cell_type": "code",
   "execution_count": 12,
   "outputs": [
    {
     "data": {
      "text/plain": "\"social_anx = data['social anxiety'][:,np.newaxis]\\npain_exp = data['pain expectation'][:,np.newaxis]\""
     },
     "execution_count": 12,
     "metadata": {},
     "output_type": "execute_result"
    }
   ],
   "source": [
    "pupil = pupil_data\n",
    "hr = hr_data\n",
    "#eda = data['eda']\n",
    "'''social_anx = data['social anxiety'][:,np.newaxis]\n",
    "pain_exp = data['pain expectation'][:,np.newaxis]'''\n"
   ],
   "metadata": {
    "collapsed": false
   }
  },
  {
   "cell_type": "code",
   "execution_count": 13,
   "outputs": [
    {
     "name": "stdout",
     "output_type": "stream",
     "text": [
      "(4, 6)\n",
      "(5, 12)\n"
     ]
    }
   ],
   "source": [
    "print(pupil.shape)\n",
    "print(hr.shape)"
   ],
   "metadata": {
    "collapsed": false
   }
  },
  {
   "cell_type": "code",
   "execution_count": 14,
   "outputs": [
    {
     "name": "stdout",
     "output_type": "stream",
     "text": [
      "4 6\n",
      "5 12\n"
     ]
    }
   ],
   "source": [
    "N_pupil = pupil.shape[0]\n",
    "D_pupil = pupil.shape[1]\n",
    "\n",
    "N_hr = hr.shape[0]\n",
    "D_hr = hr.shape[1]\n",
    "\n",
    "#N_eda = eda.shape[0]\n",
    "#D_eda = eda.shape[1]\n",
    "K = 1\n",
    "\n",
    "print(N_pupil,D_pupil)\n",
    "print(N_hr,D_hr)"
   ],
   "metadata": {
    "collapsed": false
   }
  },
  {
   "cell_type": "code",
   "execution_count": 19,
   "metadata": {
    "collapsed": true
   },
   "outputs": [],
   "source": [
    "with pm.Model() as sPPCA:\n",
    "    #dati osservabili\n",
    "    pupil_data = pm.MutableData(\"pupil_data\", pupil.T)\n",
    "    hr_data = pm.MutableData(\"hr_data\", hr.T)\n",
    "    #eda_data = pm.MutableData(\"eda_data\", eda.T)\n",
    "\n",
    "    #matrici pesi\n",
    "    Wpupil = pm.Normal('Wpupil', mu=at.zeros([D_pupil, K]), sigma=2.0 * at.ones([D_pupil, K]), shape=[D_pupil, K])\n",
    "    Whr = pm.Normal('Whr', mu=at.zeros([D_hr, K]), sigma=2.0 * at.ones([D_hr, K]), shape=[D_hr, K])\n",
    "    #Weda = pm.Normal('Weda', mu=at.zeros([D_eda, K]), sigma=2.0 * at.ones([D_eda, K]), shape=[D_eda, K])\n",
    "\n",
    "    #weight matrix for pain expectation.\n",
    "    #check mu,sigma,shape\n",
    "    Wexp = pm.Normal('W e', mu = at.zeros([D_e,K]), sigma=2.0 * at.ones([D_e, K]),shape=[D_e,K])\n",
    "\n",
    "\n",
    "    c = pm.Normal('c', mu=at.zeros([N_pupil, K]), sigma=at.ones([N_pupil, K]), shape=[N_pupil, K])\n",
    "\n",
    "    # dati della dilatazione pupille interpretati come una gaussiana\n",
    "    x_pupil = pm.Normal('x_pupil', mu=Wpupil.dot(c.T), sigma=at.ones([D_pupil, N_pupil]), shape=[D_pupil, N_pupil], observed=pupil_data)\n",
    "\n",
    "    # dati dell'hrv interpretati come una gaussiana\n",
    "    x_hr = pm.Normal('x_hr', mu=Whr.dot(c.T), sigma=at.ones([D_hr,N_hr]) ,shape=[D_hr, N_hr], observed=hr_data)\n",
    "\n",
    "    #latent space\n",
    "\n",
    "    # pain expectation. ciò che dovremmo inferire dato c\n",
    "    # due strade: binary o multiclass (1-4)\n",
    "    # p = probability of success?\n",
    "    pain_expectation = pm.Bernoulli('pain_exp' , p=pm.math.sigmoid(Wexp.dot(c.T)) , shape =[N_e,K])\n",
    "\n",
    "\n",
    "    #x_hr = pm.Bernoulli('x_hr', p=pm.math.sigmoid(Whr.dot(c.T)), shape=[D_hr, N_hr], observed=hr_data)\n",
    "    #x_eda = pm.Bernoulli('x_eda', p=pm.math.sigmoid(Weda.dot(c.T)), shape=[D_eda, N_eda], observed=eda_data)"
   ]
  },
  {
   "cell_type": "code",
   "execution_count": 20,
   "outputs": [
    {
     "data": {
      "text/plain": "'.gv.pdf'"
     },
     "execution_count": 20,
     "metadata": {},
     "output_type": "execute_result"
    }
   ],
   "source": [
    "gv = pm.model_to_graphviz(sPPCA)\n",
    "gv.view()"
   ],
   "metadata": {
    "collapsed": false
   }
  },
  {
   "cell_type": "code",
   "execution_count": 17,
   "outputs": [
    {
     "data": {
      "text/plain": "[Wpupil ~ N(f(), f()),\n Whr ~ N(f(), f()),\n W e ~ N(f(), f()),\n c ~ N(f(), f()),\n pain_exp ~ Bern(f(W e, c))]"
     },
     "execution_count": 17,
     "metadata": {},
     "output_type": "execute_result"
    }
   ],
   "source": [
    "sPPCA.free_RVs"
   ],
   "metadata": {
    "collapsed": false
   }
  },
  {
   "cell_type": "code",
   "execution_count": 18,
   "outputs": [
    {
     "name": "stderr",
     "output_type": "stream",
     "text": [
      "qt5ct: using qt5ct plugin\n",
      "Invalid Context= \"Apps\" line for icon theme:  \"/usr/share/icons/Mint-Y/apps/16/\"\n",
      "Invalid Context= \"Apps\" line for icon theme:  \"/usr/share/icons/Mint-Y/apps/16@2x/\"\n",
      "Invalid Context= \"Mimetypes\" line for icon theme:  \"/usr/share/icons/Mint-Y/mimetypes/16/\"\n",
      "Invalid Context= \"Mimetypes\" line for icon theme:  \"/usr/share/icons/Mint-Y/mimetypes/16@2x/\"\n",
      "Invalid Context= \"Apps\" line for icon theme:  \"/usr/share/icons/Mint-Y/apps/22/\"\n",
      "Invalid Context= \"Apps\" line for icon theme:  \"/usr/share/icons/Mint-Y/apps/22@2x/\"\n",
      "Invalid Context= \"Apps\" line for icon theme:  \"/usr/share/icons/Mint-Y/apps/24/\"\n",
      "Invalid Context= \"Apps\" line for icon theme:  \"/usr/share/icons/Mint-Y/apps/24@2x/\"\n",
      "Invalid Context= \"Mimetypes\" line for icon theme:  \"/usr/share/icons/Mint-Y/mimetypes/24/\"\n",
      "Invalid Context= \"Mimetypes\" line for icon theme:  \"/usr/share/icons/Mint-Y/mimetypes/24@2x/\"\n",
      "Invalid Context= \"Apps\" line for icon theme:  \"/usr/share/icons/Mint-Y/apps/32/\"\n",
      "Invalid Context= \"Apps\" line for icon theme:  \"/usr/share/icons/Mint-Y/apps/32@2x/\"\n",
      "Invalid Context= \"Mimetypes\" line for icon theme:  \"/usr/share/icons/Mint-Y/mimetypes/32/\"\n",
      "Invalid Context= \"Mimetypes\" line for icon theme:  \"/usr/share/icons/Mint-Y/mimetypes/32@2x/\"\n",
      "Invalid Context= \"Apps\" line for icon theme:  \"/usr/share/icons/Mint-Y/apps/48/\"\n",
      "Invalid Context= \"Apps\" line for icon theme:  \"/usr/share/icons/Mint-Y/apps/48@2x/\"\n",
      "Invalid Context= \"Mimetypes\" line for icon theme:  \"/usr/share/icons/Mint-Y/mimetypes/48/\"\n",
      "Invalid Context= \"Mimetypes\" line for icon theme:  \"/usr/share/icons/Mint-Y/mimetypes/48@2x/\"\n",
      "Invalid Context= \"Apps\" line for icon theme:  \"/usr/share/icons/Mint-Y/apps/64/\"\n",
      "Invalid Context= \"Apps\" line for icon theme:  \"/usr/share/icons/Mint-Y/apps/64@2x/\"\n",
      "Invalid Context= \"Mimetypes\" line for icon theme:  \"/usr/share/icons/Mint-Y/mimetypes/64/\"\n",
      "Invalid Context= \"Mimetypes\" line for icon theme:  \"/usr/share/icons/Mint-Y/mimetypes/64@2x/\"\n",
      "Invalid Context= \"Apps\" line for icon theme:  \"/usr/share/icons/Mint-Y/apps/96/\"\n",
      "Invalid Context= \"Apps\" line for icon theme:  \"/usr/share/icons/Mint-Y/apps/96@2x/\"\n",
      "Invalid Context= \"Mimetypes\" line for icon theme:  \"/usr/share/icons/Mint-Y/mimetypes/128/\"\n",
      "Invalid Context= \"Mimetypes\" line for icon theme:  \"/usr/share/icons/Mint-Y/mimetypes/128@2x/\"\n",
      "Invalid Context= \"Apps\" line for icon theme:  \"/usr/share/icons/Mint-Y/apps/256/\"\n",
      "Invalid Context= \"Apps\" line for icon theme:  \"/usr/share/icons/Mint-Y/apps/256@2x/\"\n",
      "Invalid Context= \"Apps\" line for icon theme:  \"/usr/share/icons/Mint-Y/apps/symbolic/\"\n",
      "Invalid Context= \"Mimetypes\" line for icon theme:  \"/usr/share/icons/Mint-Y/mimetypes/symbolic/\"\n",
      "Invalid Context= \"Legacy\" line for icon theme:  \"/usr/share/icons/Adwaita/8x8/legacy/\"\n",
      "Invalid Context= \"Legacy\" line for icon theme:  \"/usr/share/icons/Adwaita/16x16/legacy/\"\n",
      "Invalid Context= \"UI\" line for icon theme:  \"/usr/share/icons/Adwaita/16x16/ui/\"\n",
      "Invalid Context= \"Legacy\" line for icon theme:  \"/usr/share/icons/Adwaita/22x22/legacy/\"\n",
      "Invalid Context= \"Legacy\" line for icon theme:  \"/usr/share/icons/Adwaita/24x24/legacy/\"\n",
      "Invalid Context= \"UI\" line for icon theme:  \"/usr/share/icons/Adwaita/24x24/ui/\"\n",
      "Invalid Context= \"Legacy\" line for icon theme:  \"/usr/share/icons/Adwaita/32x32/legacy/\"\n",
      "Invalid Context= \"UI\" line for icon theme:  \"/usr/share/icons/Adwaita/32x32/ui/\"\n",
      "Invalid Context= \"Legacy\" line for icon theme:  \"/usr/share/icons/Adwaita/48x48/legacy/\"\n",
      "Invalid Context= \"UI\" line for icon theme:  \"/usr/share/icons/Adwaita/48x48/ui/\"\n",
      "Invalid Context= \"Legacy\" line for icon theme:  \"/usr/share/icons/Adwaita/64x64/legacy/\"\n",
      "Invalid Context= \"UI\" line for icon theme:  \"/usr/share/icons/Adwaita/64x64/ui/\"\n",
      "Invalid Context= \"Legacy\" line for icon theme:  \"/usr/share/icons/Adwaita/96x96/legacy/\"\n",
      "Invalid Context= \"UI\" line for icon theme:  \"/usr/share/icons/Adwaita/96x96/ui/\"\n",
      "Invalid Context= \"Legacy\" line for icon theme:  \"/usr/share/icons/Adwaita/256x256/legacy/\"\n",
      "Invalid Context= \"Legacy\" line for icon theme:  \"/usr/share/icons/Adwaita/512x512/legacy/\"\n",
      "Invalid Context= \"Legacy\" line for icon theme:  \"/usr/share/icons/Adwaita/scalable/legacy/\"\n",
      "Invalid Context= \"UI\" line for icon theme:  \"/usr/share/icons/Adwaita/scalable/ui/\"\n",
      "qt5ct: D-Bus global menu: no\n",
      "Invalid Context= \"Apps\" line for icon theme:  \"/usr/share/icons/Mint-Y/apps/16/\"\n",
      "Invalid Context= \"Apps\" line for icon theme:  \"/usr/share/icons/Mint-Y/apps/16@2x/\"\n",
      "Invalid Context= \"Mimetypes\" line for icon theme:  \"/usr/share/icons/Mint-Y/mimetypes/16/\"\n",
      "Invalid Context= \"Mimetypes\" line for icon theme:  \"/usr/share/icons/Mint-Y/mimetypes/16@2x/\"\n",
      "Invalid Context= \"Apps\" line for icon theme:  \"/usr/share/icons/Mint-Y/apps/22/\"\n",
      "Invalid Context= \"Apps\" line for icon theme:  \"/usr/share/icons/Mint-Y/apps/22@2x/\"\n",
      "Invalid Context= \"Apps\" line for icon theme:  \"/usr/share/icons/Mint-Y/apps/24/\"\n",
      "Invalid Context= \"Apps\" line for icon theme:  \"/usr/share/icons/Mint-Y/apps/24@2x/\"\n",
      "Invalid Context= \"Mimetypes\" line for icon theme:  \"/usr/share/icons/Mint-Y/mimetypes/24/\"\n",
      "Invalid Context= \"Mimetypes\" line for icon theme:  \"/usr/share/icons/Mint-Y/mimetypes/24@2x/\"\n",
      "Invalid Context= \"Apps\" line for icon theme:  \"/usr/share/icons/Mint-Y/apps/32/\"\n",
      "Invalid Context= \"Apps\" line for icon theme:  \"/usr/share/icons/Mint-Y/apps/32@2x/\"\n",
      "Invalid Context= \"Mimetypes\" line for icon theme:  \"/usr/share/icons/Mint-Y/mimetypes/32/\"\n",
      "Invalid Context= \"Mimetypes\" line for icon theme:  \"/usr/share/icons/Mint-Y/mimetypes/32@2x/\"\n",
      "Invalid Context= \"Apps\" line for icon theme:  \"/usr/share/icons/Mint-Y/apps/48/\"\n",
      "Invalid Context= \"Apps\" line for icon theme:  \"/usr/share/icons/Mint-Y/apps/48@2x/\"\n",
      "Invalid Context= \"Mimetypes\" line for icon theme:  \"/usr/share/icons/Mint-Y/mimetypes/48/\"\n",
      "Invalid Context= \"Mimetypes\" line for icon theme:  \"/usr/share/icons/Mint-Y/mimetypes/48@2x/\"\n",
      "Invalid Context= \"Apps\" line for icon theme:  \"/usr/share/icons/Mint-Y/apps/64/\"\n",
      "Invalid Context= \"Apps\" line for icon theme:  \"/usr/share/icons/Mint-Y/apps/64@2x/\"\n",
      "Invalid Context= \"Mimetypes\" line for icon theme:  \"/usr/share/icons/Mint-Y/mimetypes/64/\"\n",
      "Invalid Context= \"Mimetypes\" line for icon theme:  \"/usr/share/icons/Mint-Y/mimetypes/64@2x/\"\n",
      "Invalid Context= \"Apps\" line for icon theme:  \"/usr/share/icons/Mint-Y/apps/96/\"\n",
      "Invalid Context= \"Apps\" line for icon theme:  \"/usr/share/icons/Mint-Y/apps/96@2x/\"\n",
      "Invalid Context= \"Mimetypes\" line for icon theme:  \"/usr/share/icons/Mint-Y/mimetypes/128/\"\n",
      "Invalid Context= \"Mimetypes\" line for icon theme:  \"/usr/share/icons/Mint-Y/mimetypes/128@2x/\"\n",
      "Invalid Context= \"Apps\" line for icon theme:  \"/usr/share/icons/Mint-Y/apps/256/\"\n",
      "Invalid Context= \"Apps\" line for icon theme:  \"/usr/share/icons/Mint-Y/apps/256@2x/\"\n",
      "Invalid Context= \"Apps\" line for icon theme:  \"/usr/share/icons/Mint-Y/apps/symbolic/\"\n",
      "Invalid Context= \"Mimetypes\" line for icon theme:  \"/usr/share/icons/Mint-Y/mimetypes/symbolic/\"\n",
      "Invalid Context= \"Legacy\" line for icon theme:  \"/usr/share/icons/Adwaita/8x8/legacy/\"\n",
      "Invalid Context= \"Legacy\" line for icon theme:  \"/usr/share/icons/Adwaita/16x16/legacy/\"\n",
      "Invalid Context= \"UI\" line for icon theme:  \"/usr/share/icons/Adwaita/16x16/ui/\"\n",
      "Invalid Context= \"Legacy\" line for icon theme:  \"/usr/share/icons/Adwaita/22x22/legacy/\"\n",
      "Invalid Context= \"Legacy\" line for icon theme:  \"/usr/share/icons/Adwaita/24x24/legacy/\"\n",
      "Invalid Context= \"UI\" line for icon theme:  \"/usr/share/icons/Adwaita/24x24/ui/\"\n",
      "Invalid Context= \"Legacy\" line for icon theme:  \"/usr/share/icons/Adwaita/32x32/legacy/\"\n",
      "Invalid Context= \"UI\" line for icon theme:  \"/usr/share/icons/Adwaita/32x32/ui/\"\n",
      "Invalid Context= \"Legacy\" line for icon theme:  \"/usr/share/icons/Adwaita/48x48/legacy/\"\n",
      "Invalid Context= \"UI\" line for icon theme:  \"/usr/share/icons/Adwaita/48x48/ui/\"\n",
      "Invalid Context= \"Legacy\" line for icon theme:  \"/usr/share/icons/Adwaita/64x64/legacy/\"\n",
      "Invalid Context= \"UI\" line for icon theme:  \"/usr/share/icons/Adwaita/64x64/ui/\"\n",
      "Invalid Context= \"Legacy\" line for icon theme:  \"/usr/share/icons/Adwaita/96x96/legacy/\"\n",
      "Invalid Context= \"UI\" line for icon theme:  \"/usr/share/icons/Adwaita/96x96/ui/\"\n",
      "Invalid Context= \"Legacy\" line for icon theme:  \"/usr/share/icons/Adwaita/256x256/legacy/\"\n",
      "Invalid Context= \"Legacy\" line for icon theme:  \"/usr/share/icons/Adwaita/512x512/legacy/\"\n",
      "Invalid Context= \"Legacy\" line for icon theme:  \"/usr/share/icons/Adwaita/scalable/legacy/\"\n",
      "Invalid Context= \"UI\" line for icon theme:  \"/usr/share/icons/Adwaita/scalable/ui/\"\n",
      "ERROR (aesara.graph.rewriting.basic): Rewrite failure due to: constant_folding\n",
      "ERROR (aesara.graph.rewriting.basic): node: Alloc(TensorConstant{(1, 40) of 0.5}, TensorConstant{40}, TensorConstant{1})\n",
      "ERROR (aesara.graph.rewriting.basic): TRACEBACK:\n",
      "ERROR (aesara.graph.rewriting.basic): Traceback (most recent call last):\n",
      "  File \"/home/paolo/matteo/matteo/unimi/tesi_master/code/my_env/lib/python3.8/site-packages/aesara/graph/rewriting/basic.py\", line 1933, in process_node\n",
      "    replacements = node_rewriter.transform(fgraph, node)\n",
      "  File \"/home/paolo/matteo/matteo/unimi/tesi_master/code/my_env/lib/python3.8/site-packages/aesara/graph/rewriting/basic.py\", line 1092, in transform\n",
      "    return self.fn(fgraph, node)\n",
      "  File \"/home/paolo/matteo/matteo/unimi/tesi_master/code/my_env/lib/python3.8/site-packages/aesara/tensor/rewriting/basic.py\", line 1142, in constant_folding\n",
      "    required = thunk()\n",
      "  File \"/home/paolo/matteo/matteo/unimi/tesi_master/code/my_env/lib/python3.8/site-packages/aesara/link/c/op.py\", line 103, in rval\n",
      "    thunk()\n",
      "  File \"/home/paolo/matteo/matteo/unimi/tesi_master/code/my_env/lib/python3.8/site-packages/aesara/link/c/basic.py\", line 1788, in __call__\n",
      "    raise exc_value.with_traceback(exc_trace)\n",
      "ValueError: could not broadcast input array from shape (1,40) into shape (40,1)\n",
      "\n",
      "ERROR (aesara.graph.rewriting.basic): Rewrite failure due to: constant_folding\n",
      "ERROR (aesara.graph.rewriting.basic): node: Alloc(TensorConstant{(1, 40) of 0.5}, TensorConstant{40}, TensorConstant{1})\n",
      "ERROR (aesara.graph.rewriting.basic): TRACEBACK:\n",
      "ERROR (aesara.graph.rewriting.basic): Traceback (most recent call last):\n",
      "  File \"/home/paolo/matteo/matteo/unimi/tesi_master/code/my_env/lib/python3.8/site-packages/aesara/graph/rewriting/basic.py\", line 1933, in process_node\n",
      "    replacements = node_rewriter.transform(fgraph, node)\n",
      "  File \"/home/paolo/matteo/matteo/unimi/tesi_master/code/my_env/lib/python3.8/site-packages/aesara/graph/rewriting/basic.py\", line 1092, in transform\n",
      "    return self.fn(fgraph, node)\n",
      "  File \"/home/paolo/matteo/matteo/unimi/tesi_master/code/my_env/lib/python3.8/site-packages/aesara/tensor/rewriting/basic.py\", line 1142, in constant_folding\n",
      "    required = thunk()\n",
      "  File \"/home/paolo/matteo/matteo/unimi/tesi_master/code/my_env/lib/python3.8/site-packages/aesara/link/c/op.py\", line 103, in rval\n",
      "    thunk()\n",
      "  File \"/home/paolo/matteo/matteo/unimi/tesi_master/code/my_env/lib/python3.8/site-packages/aesara/link/c/basic.py\", line 1788, in __call__\n",
      "    raise exc_value.with_traceback(exc_trace)\n",
      "ValueError: could not broadcast input array from shape (1,40) into shape (40,1)\n",
      "\n",
      "ERROR (aesara.graph.rewriting.basic): Rewrite failure due to: constant_folding\n",
      "ERROR (aesara.graph.rewriting.basic): node: Alloc(TensorConstant{(1, 40) of 0.5}, TensorConstant{40}, TensorConstant{1})\n",
      "ERROR (aesara.graph.rewriting.basic): TRACEBACK:\n",
      "ERROR (aesara.graph.rewriting.basic): Traceback (most recent call last):\n",
      "  File \"/home/paolo/matteo/matteo/unimi/tesi_master/code/my_env/lib/python3.8/site-packages/aesara/graph/rewriting/basic.py\", line 1933, in process_node\n",
      "    replacements = node_rewriter.transform(fgraph, node)\n",
      "  File \"/home/paolo/matteo/matteo/unimi/tesi_master/code/my_env/lib/python3.8/site-packages/aesara/graph/rewriting/basic.py\", line 1092, in transform\n",
      "    return self.fn(fgraph, node)\n",
      "  File \"/home/paolo/matteo/matteo/unimi/tesi_master/code/my_env/lib/python3.8/site-packages/aesara/tensor/rewriting/basic.py\", line 1142, in constant_folding\n",
      "    required = thunk()\n",
      "  File \"/home/paolo/matteo/matteo/unimi/tesi_master/code/my_env/lib/python3.8/site-packages/aesara/link/c/op.py\", line 103, in rval\n",
      "    thunk()\n",
      "  File \"/home/paolo/matteo/matteo/unimi/tesi_master/code/my_env/lib/python3.8/site-packages/aesara/link/c/basic.py\", line 1788, in __call__\n",
      "    raise exc_value.with_traceback(exc_trace)\n",
      "ValueError: could not broadcast input array from shape (1,40) into shape (40,1)\n",
      "\n"
     ]
    },
    {
     "ename": "ValueError",
     "evalue": "could not broadcast input array from shape (1,40) into shape (40,1)\nApply node that caused the error: Alloc(TensorConstant{(1, 40) of 0.5}, TensorConstant{40}, TensorConstant{1})\nToposort index: 4\nInputs types: [TensorType(float64, (1, 40)), TensorType(int64, ()), TensorType(int64, ())]\nInputs shapes: [(1, 40), (), ()]\nInputs strides: [(320, 8), (), ()]\nInputs values: ['not shown', array(40), array(1)]\nOutputs clients: [[Elemwise{lt,no_inplace}(Alloc.0, TensorConstant{(1, 1) of 0.5})]]\n\nBacktrace when the node is created (use Aesara flag traceback__limit=N to make it longer):\n  File \"/home/paolo/matteo/matteo/unimi/tesi_master/code/my_env/lib/python3.8/site-packages/pymc/model.py\", line 638, in logp_dlogp_function\n    ip = self.initial_point(0)\n  File \"/home/paolo/matteo/matteo/unimi/tesi_master/code/my_env/lib/python3.8/site-packages/pymc/model.py\", line 1068, in initial_point\n    fn = make_initial_point_fn(model=self, return_transformed=True)\n  File \"/home/paolo/matteo/matteo/unimi/tesi_master/code/my_env/lib/python3.8/site-packages/pymc/initial_point.py\", line 159, in make_initial_point_fn\n    initial_values = make_initial_point_expression(\n  File \"/home/paolo/matteo/matteo/unimi/tesi_master/code/my_env/lib/python3.8/site-packages/pymc/initial_point.py\", line 247, in make_initial_point_expression\n    value = moment(variable)\n  File \"/home/paolo/matteo/matteo/unimi/tesi_master/code/my_env/lib/python3.8/site-packages/pymc/distributions/distribution.py\", line 427, in moment\n    return _moment(rv.owner.op, rv, *rv.owner.inputs).astype(rv.dtype)\n  File \"/usr/lib/python3.8/functools.py\", line 875, in wrapper\n    return dispatch(args[0].__class__)(*args, **kw)\n  File \"/home/paolo/matteo/matteo/unimi/tesi_master/code/my_env/lib/python3.8/site-packages/pymc/distributions/distribution.py\", line 138, in moment\n    return class_moment(rv, size, *dist_params)\n  File \"/home/paolo/matteo/matteo/unimi/tesi_master/code/my_env/lib/python3.8/site-packages/pymc/distributions/discrete.py\", line 394, in moment\n    p = at.full(size, p)\n\nHINT: Use the Aesara flag `exception_verbosity=high` for a debug print-out and storage map footprint of this Apply node.",
     "output_type": "error",
     "traceback": [
      "\u001B[0;31m---------------------------------------------------------------------------\u001B[0m",
      "\u001B[0;31mValueError\u001B[0m                                Traceback (most recent call last)",
      "File \u001B[0;32m~/matteo/matteo/unimi/tesi_master/code/my_env/lib/python3.8/site-packages/aesara/link/vm.py:414\u001B[0m, in \u001B[0;36mLoop.__call__\u001B[0;34m(self)\u001B[0m\n\u001B[1;32m    411\u001B[0m \u001B[38;5;28;01mfor\u001B[39;00m thunk, node, old_storage \u001B[38;5;129;01min\u001B[39;00m zip_longest(\n\u001B[1;32m    412\u001B[0m     \u001B[38;5;28mself\u001B[39m\u001B[38;5;241m.\u001B[39mthunks, \u001B[38;5;28mself\u001B[39m\u001B[38;5;241m.\u001B[39mnodes, \u001B[38;5;28mself\u001B[39m\u001B[38;5;241m.\u001B[39mpost_thunk_clear, fillvalue\u001B[38;5;241m=\u001B[39m()\n\u001B[1;32m    413\u001B[0m ):\n\u001B[0;32m--> 414\u001B[0m     \u001B[43mthunk\u001B[49m\u001B[43m(\u001B[49m\u001B[43m)\u001B[49m\n\u001B[1;32m    415\u001B[0m     \u001B[38;5;28;01mfor\u001B[39;00m old_s \u001B[38;5;129;01min\u001B[39;00m old_storage:\n",
      "File \u001B[0;32m~/matteo/matteo/unimi/tesi_master/code/my_env/lib/python3.8/site-packages/aesara/graph/op.py:543\u001B[0m, in \u001B[0;36mOp.make_py_thunk.<locals>.rval\u001B[0;34m(p, i, o, n, params)\u001B[0m\n\u001B[1;32m    539\u001B[0m \u001B[38;5;129m@is_thunk_type\u001B[39m\n\u001B[1;32m    540\u001B[0m \u001B[38;5;28;01mdef\u001B[39;00m \u001B[38;5;21mrval\u001B[39m(\n\u001B[1;32m    541\u001B[0m     p\u001B[38;5;241m=\u001B[39mp, i\u001B[38;5;241m=\u001B[39mnode_input_storage, o\u001B[38;5;241m=\u001B[39mnode_output_storage, n\u001B[38;5;241m=\u001B[39mnode, params\u001B[38;5;241m=\u001B[39m\u001B[38;5;28;01mNone\u001B[39;00m\n\u001B[1;32m    542\u001B[0m ):\n\u001B[0;32m--> 543\u001B[0m     r \u001B[38;5;241m=\u001B[39m \u001B[43mp\u001B[49m\u001B[43m(\u001B[49m\u001B[43mn\u001B[49m\u001B[43m,\u001B[49m\u001B[43m \u001B[49m\u001B[43m[\u001B[49m\u001B[43mx\u001B[49m\u001B[43m[\u001B[49m\u001B[38;5;241;43m0\u001B[39;49m\u001B[43m]\u001B[49m\u001B[43m \u001B[49m\u001B[38;5;28;43;01mfor\u001B[39;49;00m\u001B[43m \u001B[49m\u001B[43mx\u001B[49m\u001B[43m \u001B[49m\u001B[38;5;129;43;01min\u001B[39;49;00m\u001B[43m \u001B[49m\u001B[43mi\u001B[49m\u001B[43m]\u001B[49m\u001B[43m,\u001B[49m\u001B[43m \u001B[49m\u001B[43mo\u001B[49m\u001B[43m)\u001B[49m\n\u001B[1;32m    544\u001B[0m     \u001B[38;5;28;01mfor\u001B[39;00m o \u001B[38;5;129;01min\u001B[39;00m node\u001B[38;5;241m.\u001B[39moutputs:\n",
      "File \u001B[0;32m~/matteo/matteo/unimi/tesi_master/code/my_env/lib/python3.8/site-packages/aesara/tensor/basic.py:1417\u001B[0m, in \u001B[0;36mAlloc.perform\u001B[0;34m(self, node, inputs, out_)\u001B[0m\n\u001B[1;32m   1416\u001B[0m         out[\u001B[38;5;241m0\u001B[39m] \u001B[38;5;241m=\u001B[39m np\u001B[38;5;241m.\u001B[39mempty(sh, dtype\u001B[38;5;241m=\u001B[39mv\u001B[38;5;241m.\u001B[39mdtype)\n\u001B[0;32m-> 1417\u001B[0m         \u001B[43mout\u001B[49m\u001B[43m[\u001B[49m\u001B[38;5;241;43m0\u001B[39;49m\u001B[43m]\u001B[49m\u001B[43m[\u001B[49m\u001B[38;5;241;43m.\u001B[39;49m\u001B[38;5;241;43m.\u001B[39;49m\u001B[38;5;241;43m.\u001B[39;49m\u001B[43m]\u001B[49m \u001B[38;5;241m=\u001B[39m v  \u001B[38;5;66;03m# broadcast v to fill us up\u001B[39;00m\n\u001B[1;32m   1418\u001B[0m \u001B[38;5;28;01melse\u001B[39;00m:\n\u001B[1;32m   1419\u001B[0m     \u001B[38;5;66;03m# reuse the allocated memory.\u001B[39;00m\n",
      "\u001B[0;31mValueError\u001B[0m: could not broadcast input array from shape (1,40) into shape (40,1)",
      "\nDuring handling of the above exception, another exception occurred:\n",
      "\u001B[0;31mValueError\u001B[0m                                Traceback (most recent call last)",
      "Cell \u001B[0;32mIn [18], line 2\u001B[0m\n\u001B[1;32m      1\u001B[0m \u001B[38;5;28;01mwith\u001B[39;00m sPPCA:\n\u001B[0;32m----> 2\u001B[0m     trace \u001B[38;5;241m=\u001B[39m pm\u001B[38;5;241m.\u001B[39msample(\u001B[38;5;241m1000\u001B[39m,init\u001B[38;5;241m=\u001B[39m\u001B[38;5;124m'\u001B[39m\u001B[38;5;124madvi+adapt_diag\u001B[39m\u001B[38;5;124m'\u001B[39m,chains\u001B[38;5;241m=\u001B[39m\u001B[38;5;241m1\u001B[39m,progressbar\u001B[38;5;241m=\u001B[39m\u001B[38;5;28;01mTrue\u001B[39;00m)\n",
      "File \u001B[0;32m~/matteo/matteo/unimi/tesi_master/code/my_env/lib/python3.8/site-packages/pymc/sampling.py:527\u001B[0m, in \u001B[0;36msample\u001B[0;34m(draws, step, init, n_init, initvals, trace, chains, cores, tune, progressbar, model, random_seed, discard_tuned_samples, compute_convergence_checks, callback, jitter_max_retries, return_inferencedata, idata_kwargs, mp_ctx, **kwargs)\u001B[0m\n\u001B[1;32m    524\u001B[0m         auto_nuts_init \u001B[38;5;241m=\u001B[39m \u001B[38;5;28;01mFalse\u001B[39;00m\n\u001B[1;32m    526\u001B[0m initial_points \u001B[38;5;241m=\u001B[39m \u001B[38;5;28;01mNone\u001B[39;00m\n\u001B[0;32m--> 527\u001B[0m step \u001B[38;5;241m=\u001B[39m \u001B[43massign_step_methods\u001B[49m\u001B[43m(\u001B[49m\u001B[43mmodel\u001B[49m\u001B[43m,\u001B[49m\u001B[43m \u001B[49m\u001B[43mstep\u001B[49m\u001B[43m,\u001B[49m\u001B[43m \u001B[49m\u001B[43mmethods\u001B[49m\u001B[38;5;241;43m=\u001B[39;49m\u001B[43mpm\u001B[49m\u001B[38;5;241;43m.\u001B[39;49m\u001B[43mSTEP_METHODS\u001B[49m\u001B[43m,\u001B[49m\u001B[43m \u001B[49m\u001B[43mstep_kwargs\u001B[49m\u001B[38;5;241;43m=\u001B[39;49m\u001B[43mkwargs\u001B[49m\u001B[43m)\u001B[49m\n\u001B[1;32m    529\u001B[0m \u001B[38;5;28;01mif\u001B[39;00m \u001B[38;5;28misinstance\u001B[39m(step, \u001B[38;5;28mlist\u001B[39m):\n\u001B[1;32m    530\u001B[0m     step \u001B[38;5;241m=\u001B[39m CompoundStep(step)\n",
      "File \u001B[0;32m~/matteo/matteo/unimi/tesi_master/code/my_env/lib/python3.8/site-packages/pymc/sampling.py:229\u001B[0m, in \u001B[0;36massign_step_methods\u001B[0;34m(model, step, methods, step_kwargs)\u001B[0m\n\u001B[1;32m    221\u001B[0m         selected \u001B[38;5;241m=\u001B[39m \u001B[38;5;28mmax\u001B[39m(\n\u001B[1;32m    222\u001B[0m             methods,\n\u001B[1;32m    223\u001B[0m             key\u001B[38;5;241m=\u001B[39m\u001B[38;5;28;01mlambda\u001B[39;00m method, var\u001B[38;5;241m=\u001B[39mrv_var, has_gradient\u001B[38;5;241m=\u001B[39mhas_gradient: method\u001B[38;5;241m.\u001B[39m_competence(\n\u001B[1;32m    224\u001B[0m                 var, has_gradient\n\u001B[1;32m    225\u001B[0m             ),\n\u001B[1;32m    226\u001B[0m         )\n\u001B[1;32m    227\u001B[0m         selected_steps[selected]\u001B[38;5;241m.\u001B[39mappend(var)\n\u001B[0;32m--> 229\u001B[0m \u001B[38;5;28;01mreturn\u001B[39;00m \u001B[43minstantiate_steppers\u001B[49m\u001B[43m(\u001B[49m\u001B[43mmodel\u001B[49m\u001B[43m,\u001B[49m\u001B[43m \u001B[49m\u001B[43msteps\u001B[49m\u001B[43m,\u001B[49m\u001B[43m \u001B[49m\u001B[43mselected_steps\u001B[49m\u001B[43m,\u001B[49m\u001B[43m \u001B[49m\u001B[43mstep_kwargs\u001B[49m\u001B[43m)\u001B[49m\n",
      "File \u001B[0;32m~/matteo/matteo/unimi/tesi_master/code/my_env/lib/python3.8/site-packages/pymc/sampling.py:147\u001B[0m, in \u001B[0;36minstantiate_steppers\u001B[0;34m(model, steps, selected_steps, step_kwargs)\u001B[0m\n\u001B[1;32m    145\u001B[0m         args \u001B[38;5;241m=\u001B[39m step_kwargs\u001B[38;5;241m.\u001B[39mget(step_class\u001B[38;5;241m.\u001B[39mname, {})\n\u001B[1;32m    146\u001B[0m         used_keys\u001B[38;5;241m.\u001B[39madd(step_class\u001B[38;5;241m.\u001B[39mname)\n\u001B[0;32m--> 147\u001B[0m         step \u001B[38;5;241m=\u001B[39m \u001B[43mstep_class\u001B[49m\u001B[43m(\u001B[49m\u001B[38;5;28;43mvars\u001B[39;49m\u001B[38;5;241;43m=\u001B[39;49m\u001B[38;5;28;43mvars\u001B[39;49m\u001B[43m,\u001B[49m\u001B[43m \u001B[49m\u001B[43mmodel\u001B[49m\u001B[38;5;241;43m=\u001B[39;49m\u001B[43mmodel\u001B[49m\u001B[43m,\u001B[49m\u001B[43m \u001B[49m\u001B[38;5;241;43m*\u001B[39;49m\u001B[38;5;241;43m*\u001B[39;49m\u001B[43margs\u001B[49m\u001B[43m)\u001B[49m\n\u001B[1;32m    148\u001B[0m         steps\u001B[38;5;241m.\u001B[39mappend(step)\n\u001B[1;32m    150\u001B[0m unused_args \u001B[38;5;241m=\u001B[39m \u001B[38;5;28mset\u001B[39m(step_kwargs)\u001B[38;5;241m.\u001B[39mdifference(used_keys)\n",
      "File \u001B[0;32m~/matteo/matteo/unimi/tesi_master/code/my_env/lib/python3.8/site-packages/pymc/step_methods/hmc/nuts.py:178\u001B[0m, in \u001B[0;36mNUTS.__init__\u001B[0;34m(self, vars, max_treedepth, early_max_treedepth, **kwargs)\u001B[0m\n\u001B[1;32m    120\u001B[0m \u001B[38;5;28;01mdef\u001B[39;00m \u001B[38;5;21m__init__\u001B[39m(\u001B[38;5;28mself\u001B[39m, \u001B[38;5;28mvars\u001B[39m\u001B[38;5;241m=\u001B[39m\u001B[38;5;28;01mNone\u001B[39;00m, max_treedepth\u001B[38;5;241m=\u001B[39m\u001B[38;5;241m10\u001B[39m, early_max_treedepth\u001B[38;5;241m=\u001B[39m\u001B[38;5;241m8\u001B[39m, \u001B[38;5;241m*\u001B[39m\u001B[38;5;241m*\u001B[39mkwargs):\n\u001B[1;32m    121\u001B[0m     \u001B[38;5;124mr\u001B[39m\u001B[38;5;124;03m\"\"\"Set up the No-U-Turn sampler.\u001B[39;00m\n\u001B[1;32m    122\u001B[0m \n\u001B[1;32m    123\u001B[0m \u001B[38;5;124;03m    Parameters\u001B[39;00m\n\u001B[0;32m   (...)\u001B[0m\n\u001B[1;32m    176\u001B[0m \u001B[38;5;124;03m    `pm.sample` to the desired number of tuning steps.\u001B[39;00m\n\u001B[1;32m    177\u001B[0m \u001B[38;5;124;03m    \"\"\"\u001B[39;00m\n\u001B[0;32m--> 178\u001B[0m     \u001B[38;5;28;43msuper\u001B[39;49m\u001B[43m(\u001B[49m\u001B[43m)\u001B[49m\u001B[38;5;241;43m.\u001B[39;49m\u001B[38;5;21;43m__init__\u001B[39;49m\u001B[43m(\u001B[49m\u001B[38;5;28;43mvars\u001B[39;49m\u001B[43m,\u001B[49m\u001B[43m \u001B[49m\u001B[38;5;241;43m*\u001B[39;49m\u001B[38;5;241;43m*\u001B[39;49m\u001B[43mkwargs\u001B[49m\u001B[43m)\u001B[49m\n\u001B[1;32m    180\u001B[0m     \u001B[38;5;28mself\u001B[39m\u001B[38;5;241m.\u001B[39mmax_treedepth \u001B[38;5;241m=\u001B[39m max_treedepth\n\u001B[1;32m    181\u001B[0m     \u001B[38;5;28mself\u001B[39m\u001B[38;5;241m.\u001B[39mearly_max_treedepth \u001B[38;5;241m=\u001B[39m early_max_treedepth\n",
      "File \u001B[0;32m~/matteo/matteo/unimi/tesi_master/code/my_env/lib/python3.8/site-packages/pymc/step_methods/hmc/base_hmc.py:95\u001B[0m, in \u001B[0;36mBaseHMC.__init__\u001B[0;34m(self, vars, scaling, step_scale, is_cov, model, blocked, potential, dtype, Emax, target_accept, gamma, k, t0, adapt_step_size, step_rand, **aesara_kwargs)\u001B[0m\n\u001B[1;32m     92\u001B[0m \u001B[38;5;28;01melse\u001B[39;00m:\n\u001B[1;32m     93\u001B[0m     \u001B[38;5;28mvars\u001B[39m \u001B[38;5;241m=\u001B[39m [\u001B[38;5;28mself\u001B[39m\u001B[38;5;241m.\u001B[39m_model\u001B[38;5;241m.\u001B[39mrvs_to_values\u001B[38;5;241m.\u001B[39mget(var, var) \u001B[38;5;28;01mfor\u001B[39;00m var \u001B[38;5;129;01min\u001B[39;00m \u001B[38;5;28mvars\u001B[39m]\n\u001B[0;32m---> 95\u001B[0m \u001B[38;5;28;43msuper\u001B[39;49m\u001B[43m(\u001B[49m\u001B[43m)\u001B[49m\u001B[38;5;241;43m.\u001B[39;49m\u001B[38;5;21;43m__init__\u001B[39;49m\u001B[43m(\u001B[49m\u001B[38;5;28;43mvars\u001B[39;49m\u001B[43m,\u001B[49m\u001B[43m \u001B[49m\u001B[43mblocked\u001B[49m\u001B[38;5;241;43m=\u001B[39;49m\u001B[43mblocked\u001B[49m\u001B[43m,\u001B[49m\u001B[43m \u001B[49m\u001B[43mmodel\u001B[49m\u001B[38;5;241;43m=\u001B[39;49m\u001B[38;5;28;43mself\u001B[39;49m\u001B[38;5;241;43m.\u001B[39;49m\u001B[43m_model\u001B[49m\u001B[43m,\u001B[49m\u001B[43m \u001B[49m\u001B[43mdtype\u001B[49m\u001B[38;5;241;43m=\u001B[39;49m\u001B[43mdtype\u001B[49m\u001B[43m,\u001B[49m\u001B[43m \u001B[49m\u001B[38;5;241;43m*\u001B[39;49m\u001B[38;5;241;43m*\u001B[39;49m\u001B[43maesara_kwargs\u001B[49m\u001B[43m)\u001B[49m\n\u001B[1;32m     97\u001B[0m \u001B[38;5;28mself\u001B[39m\u001B[38;5;241m.\u001B[39madapt_step_size \u001B[38;5;241m=\u001B[39m adapt_step_size\n\u001B[1;32m     98\u001B[0m \u001B[38;5;28mself\u001B[39m\u001B[38;5;241m.\u001B[39mEmax \u001B[38;5;241m=\u001B[39m Emax\n",
      "File \u001B[0;32m~/matteo/matteo/unimi/tesi_master/code/my_env/lib/python3.8/site-packages/pymc/step_methods/arraystep.py:276\u001B[0m, in \u001B[0;36mGradientSharedStep.__init__\u001B[0;34m(self, vars, model, blocked, dtype, logp_dlogp_func, **aesara_kwargs)\u001B[0m\n\u001B[1;32m    273\u001B[0m model \u001B[38;5;241m=\u001B[39m modelcontext(model)\n\u001B[1;32m    275\u001B[0m \u001B[38;5;28;01mif\u001B[39;00m logp_dlogp_func \u001B[38;5;129;01mis\u001B[39;00m \u001B[38;5;28;01mNone\u001B[39;00m:\n\u001B[0;32m--> 276\u001B[0m     func \u001B[38;5;241m=\u001B[39m \u001B[43mmodel\u001B[49m\u001B[38;5;241;43m.\u001B[39;49m\u001B[43mlogp_dlogp_function\u001B[49m\u001B[43m(\u001B[49m\u001B[38;5;28;43mvars\u001B[39;49m\u001B[43m,\u001B[49m\u001B[43m \u001B[49m\u001B[43mdtype\u001B[49m\u001B[38;5;241;43m=\u001B[39;49m\u001B[43mdtype\u001B[49m\u001B[43m,\u001B[49m\u001B[43m \u001B[49m\u001B[38;5;241;43m*\u001B[39;49m\u001B[38;5;241;43m*\u001B[39;49m\u001B[43maesara_kwargs\u001B[49m\u001B[43m)\u001B[49m\n\u001B[1;32m    277\u001B[0m \u001B[38;5;28;01melse\u001B[39;00m:\n\u001B[1;32m    278\u001B[0m     func \u001B[38;5;241m=\u001B[39m logp_dlogp_func\n",
      "File \u001B[0;32m~/matteo/matteo/unimi/tesi_master/code/my_env/lib/python3.8/site-packages/pymc/model.py:638\u001B[0m, in \u001B[0;36mModel.logp_dlogp_function\u001B[0;34m(self, grad_vars, tempered, **kwargs)\u001B[0m\n\u001B[1;32m    636\u001B[0m input_vars \u001B[38;5;241m=\u001B[39m {i \u001B[38;5;28;01mfor\u001B[39;00m i \u001B[38;5;129;01min\u001B[39;00m graph_inputs(costs) \u001B[38;5;28;01mif\u001B[39;00m \u001B[38;5;129;01mnot\u001B[39;00m \u001B[38;5;28misinstance\u001B[39m(i, Constant)}\n\u001B[1;32m    637\u001B[0m extra_vars \u001B[38;5;241m=\u001B[39m [\u001B[38;5;28mself\u001B[39m\u001B[38;5;241m.\u001B[39mrvs_to_values\u001B[38;5;241m.\u001B[39mget(var, var) \u001B[38;5;28;01mfor\u001B[39;00m var \u001B[38;5;129;01min\u001B[39;00m \u001B[38;5;28mself\u001B[39m\u001B[38;5;241m.\u001B[39mfree_RVs]\n\u001B[0;32m--> 638\u001B[0m ip \u001B[38;5;241m=\u001B[39m \u001B[38;5;28;43mself\u001B[39;49m\u001B[38;5;241;43m.\u001B[39;49m\u001B[43minitial_point\u001B[49m\u001B[43m(\u001B[49m\u001B[38;5;241;43m0\u001B[39;49m\u001B[43m)\u001B[49m\n\u001B[1;32m    639\u001B[0m extra_vars_and_values \u001B[38;5;241m=\u001B[39m {\n\u001B[1;32m    640\u001B[0m     var: ip[var\u001B[38;5;241m.\u001B[39mname] \u001B[38;5;28;01mfor\u001B[39;00m var \u001B[38;5;129;01min\u001B[39;00m extra_vars \u001B[38;5;28;01mif\u001B[39;00m var \u001B[38;5;129;01min\u001B[39;00m input_vars \u001B[38;5;129;01mand\u001B[39;00m var \u001B[38;5;129;01mnot\u001B[39;00m \u001B[38;5;129;01min\u001B[39;00m grad_vars\n\u001B[1;32m    641\u001B[0m }\n\u001B[1;32m    642\u001B[0m \u001B[38;5;28;01mreturn\u001B[39;00m ValueGradFunction(costs, grad_vars, extra_vars_and_values, \u001B[38;5;241m*\u001B[39m\u001B[38;5;241m*\u001B[39mkwargs)\n",
      "File \u001B[0;32m~/matteo/matteo/unimi/tesi_master/code/my_env/lib/python3.8/site-packages/pymc/model.py:1069\u001B[0m, in \u001B[0;36mModel.initial_point\u001B[0;34m(self, seed)\u001B[0m\n\u001B[1;32m   1061\u001B[0m \u001B[38;5;124;03m\"\"\"Computes the initial point of the model.\u001B[39;00m\n\u001B[1;32m   1062\u001B[0m \n\u001B[1;32m   1063\u001B[0m \u001B[38;5;124;03mReturns\u001B[39;00m\n\u001B[0;32m   (...)\u001B[0m\n\u001B[1;32m   1066\u001B[0m \u001B[38;5;124;03m    Maps names of transformed variables to numeric initial values in the transformed space.\u001B[39;00m\n\u001B[1;32m   1067\u001B[0m \u001B[38;5;124;03m\"\"\"\u001B[39;00m\n\u001B[1;32m   1068\u001B[0m fn \u001B[38;5;241m=\u001B[39m make_initial_point_fn(model\u001B[38;5;241m=\u001B[39m\u001B[38;5;28mself\u001B[39m, return_transformed\u001B[38;5;241m=\u001B[39m\u001B[38;5;28;01mTrue\u001B[39;00m)\n\u001B[0;32m-> 1069\u001B[0m \u001B[38;5;28;01mreturn\u001B[39;00m Point(\u001B[43mfn\u001B[49m\u001B[43m(\u001B[49m\u001B[43mseed\u001B[49m\u001B[43m)\u001B[49m, model\u001B[38;5;241m=\u001B[39m\u001B[38;5;28mself\u001B[39m)\n",
      "File \u001B[0;32m~/matteo/matteo/unimi/tesi_master/code/my_env/lib/python3.8/site-packages/pymc/initial_point.py:189\u001B[0m, in \u001B[0;36mmake_initial_point_fn.<locals>.make_seeded_function.<locals>.inner\u001B[0;34m(seed, *args, **kwargs)\u001B[0m\n\u001B[1;32m    186\u001B[0m \u001B[38;5;129m@functools\u001B[39m\u001B[38;5;241m.\u001B[39mwraps(func)\n\u001B[1;32m    187\u001B[0m \u001B[38;5;28;01mdef\u001B[39;00m \u001B[38;5;21minner\u001B[39m(seed, \u001B[38;5;241m*\u001B[39margs, \u001B[38;5;241m*\u001B[39m\u001B[38;5;241m*\u001B[39mkwargs):\n\u001B[1;32m    188\u001B[0m     reseed_rngs(rngs, seed)\n\u001B[0;32m--> 189\u001B[0m     values \u001B[38;5;241m=\u001B[39m \u001B[43mfunc\u001B[49m\u001B[43m(\u001B[49m\u001B[38;5;241;43m*\u001B[39;49m\u001B[43margs\u001B[49m\u001B[43m,\u001B[49m\u001B[43m \u001B[49m\u001B[38;5;241;43m*\u001B[39;49m\u001B[38;5;241;43m*\u001B[39;49m\u001B[43mkwargs\u001B[49m\u001B[43m)\u001B[49m\n\u001B[1;32m    190\u001B[0m     \u001B[38;5;28;01mreturn\u001B[39;00m \u001B[38;5;28mdict\u001B[39m(\u001B[38;5;28mzip\u001B[39m(varnames, values))\n",
      "File \u001B[0;32m~/matteo/matteo/unimi/tesi_master/code/my_env/lib/python3.8/site-packages/aesara/compile/function/types.py:971\u001B[0m, in \u001B[0;36mFunction.__call__\u001B[0;34m(self, *args, **kwargs)\u001B[0m\n\u001B[1;32m    968\u001B[0m t0_fn \u001B[38;5;241m=\u001B[39m time\u001B[38;5;241m.\u001B[39mtime()\n\u001B[1;32m    969\u001B[0m \u001B[38;5;28;01mtry\u001B[39;00m:\n\u001B[1;32m    970\u001B[0m     outputs \u001B[38;5;241m=\u001B[39m (\n\u001B[0;32m--> 971\u001B[0m         \u001B[38;5;28;43mself\u001B[39;49m\u001B[38;5;241;43m.\u001B[39;49m\u001B[43mvm\u001B[49m\u001B[43m(\u001B[49m\u001B[43m)\u001B[49m\n\u001B[1;32m    972\u001B[0m         \u001B[38;5;28;01mif\u001B[39;00m output_subset \u001B[38;5;129;01mis\u001B[39;00m \u001B[38;5;28;01mNone\u001B[39;00m\n\u001B[1;32m    973\u001B[0m         \u001B[38;5;28;01melse\u001B[39;00m \u001B[38;5;28mself\u001B[39m\u001B[38;5;241m.\u001B[39mvm(output_subset\u001B[38;5;241m=\u001B[39moutput_subset)\n\u001B[1;32m    974\u001B[0m     )\n\u001B[1;32m    975\u001B[0m \u001B[38;5;28;01mexcept\u001B[39;00m \u001B[38;5;167;01mException\u001B[39;00m:\n\u001B[1;32m    976\u001B[0m     restore_defaults()\n",
      "File \u001B[0;32m~/matteo/matteo/unimi/tesi_master/code/my_env/lib/python3.8/site-packages/aesara/link/vm.py:418\u001B[0m, in \u001B[0;36mLoop.__call__\u001B[0;34m(self)\u001B[0m\n\u001B[1;32m    416\u001B[0m                 old_s[\u001B[38;5;241m0\u001B[39m] \u001B[38;5;241m=\u001B[39m \u001B[38;5;28;01mNone\u001B[39;00m\n\u001B[1;32m    417\u001B[0m     \u001B[38;5;28;01mexcept\u001B[39;00m \u001B[38;5;167;01mException\u001B[39;00m:\n\u001B[0;32m--> 418\u001B[0m         \u001B[43mraise_with_op\u001B[49m\u001B[43m(\u001B[49m\u001B[38;5;28;43mself\u001B[39;49m\u001B[38;5;241;43m.\u001B[39;49m\u001B[43mfgraph\u001B[49m\u001B[43m,\u001B[49m\u001B[43m \u001B[49m\u001B[43mnode\u001B[49m\u001B[43m,\u001B[49m\u001B[43m \u001B[49m\u001B[43mthunk\u001B[49m\u001B[43m)\u001B[49m\n\u001B[1;32m    420\u001B[0m \u001B[38;5;28;01mreturn\u001B[39;00m \u001B[38;5;28mself\u001B[39m\u001B[38;5;241m.\u001B[39mperform_updates()\n",
      "File \u001B[0;32m~/matteo/matteo/unimi/tesi_master/code/my_env/lib/python3.8/site-packages/aesara/link/utils.py:534\u001B[0m, in \u001B[0;36mraise_with_op\u001B[0;34m(fgraph, node, thunk, exc_info, storage_map)\u001B[0m\n\u001B[1;32m    529\u001B[0m     warnings\u001B[38;5;241m.\u001B[39mwarn(\n\u001B[1;32m    530\u001B[0m         \u001B[38;5;124mf\u001B[39m\u001B[38;5;124m\"\u001B[39m\u001B[38;5;132;01m{\u001B[39;00mexc_type\u001B[38;5;132;01m}\u001B[39;00m\u001B[38;5;124m error does not allow us to add an extra error message\u001B[39m\u001B[38;5;124m\"\u001B[39m\n\u001B[1;32m    531\u001B[0m     )\n\u001B[1;32m    532\u001B[0m     \u001B[38;5;66;03m# Some exception need extra parameter in inputs. So forget the\u001B[39;00m\n\u001B[1;32m    533\u001B[0m     \u001B[38;5;66;03m# extra long error message in that case.\u001B[39;00m\n\u001B[0;32m--> 534\u001B[0m \u001B[38;5;28;01mraise\u001B[39;00m exc_value\u001B[38;5;241m.\u001B[39mwith_traceback(exc_trace)\n",
      "File \u001B[0;32m~/matteo/matteo/unimi/tesi_master/code/my_env/lib/python3.8/site-packages/aesara/link/vm.py:414\u001B[0m, in \u001B[0;36mLoop.__call__\u001B[0;34m(self)\u001B[0m\n\u001B[1;32m    410\u001B[0m \u001B[38;5;28;01mtry\u001B[39;00m:\n\u001B[1;32m    411\u001B[0m     \u001B[38;5;28;01mfor\u001B[39;00m thunk, node, old_storage \u001B[38;5;129;01min\u001B[39;00m zip_longest(\n\u001B[1;32m    412\u001B[0m         \u001B[38;5;28mself\u001B[39m\u001B[38;5;241m.\u001B[39mthunks, \u001B[38;5;28mself\u001B[39m\u001B[38;5;241m.\u001B[39mnodes, \u001B[38;5;28mself\u001B[39m\u001B[38;5;241m.\u001B[39mpost_thunk_clear, fillvalue\u001B[38;5;241m=\u001B[39m()\n\u001B[1;32m    413\u001B[0m     ):\n\u001B[0;32m--> 414\u001B[0m         \u001B[43mthunk\u001B[49m\u001B[43m(\u001B[49m\u001B[43m)\u001B[49m\n\u001B[1;32m    415\u001B[0m         \u001B[38;5;28;01mfor\u001B[39;00m old_s \u001B[38;5;129;01min\u001B[39;00m old_storage:\n\u001B[1;32m    416\u001B[0m             old_s[\u001B[38;5;241m0\u001B[39m] \u001B[38;5;241m=\u001B[39m \u001B[38;5;28;01mNone\u001B[39;00m\n",
      "File \u001B[0;32m~/matteo/matteo/unimi/tesi_master/code/my_env/lib/python3.8/site-packages/aesara/graph/op.py:543\u001B[0m, in \u001B[0;36mOp.make_py_thunk.<locals>.rval\u001B[0;34m(p, i, o, n, params)\u001B[0m\n\u001B[1;32m    539\u001B[0m \u001B[38;5;129m@is_thunk_type\u001B[39m\n\u001B[1;32m    540\u001B[0m \u001B[38;5;28;01mdef\u001B[39;00m \u001B[38;5;21mrval\u001B[39m(\n\u001B[1;32m    541\u001B[0m     p\u001B[38;5;241m=\u001B[39mp, i\u001B[38;5;241m=\u001B[39mnode_input_storage, o\u001B[38;5;241m=\u001B[39mnode_output_storage, n\u001B[38;5;241m=\u001B[39mnode, params\u001B[38;5;241m=\u001B[39m\u001B[38;5;28;01mNone\u001B[39;00m\n\u001B[1;32m    542\u001B[0m ):\n\u001B[0;32m--> 543\u001B[0m     r \u001B[38;5;241m=\u001B[39m \u001B[43mp\u001B[49m\u001B[43m(\u001B[49m\u001B[43mn\u001B[49m\u001B[43m,\u001B[49m\u001B[43m \u001B[49m\u001B[43m[\u001B[49m\u001B[43mx\u001B[49m\u001B[43m[\u001B[49m\u001B[38;5;241;43m0\u001B[39;49m\u001B[43m]\u001B[49m\u001B[43m \u001B[49m\u001B[38;5;28;43;01mfor\u001B[39;49;00m\u001B[43m \u001B[49m\u001B[43mx\u001B[49m\u001B[43m \u001B[49m\u001B[38;5;129;43;01min\u001B[39;49;00m\u001B[43m \u001B[49m\u001B[43mi\u001B[49m\u001B[43m]\u001B[49m\u001B[43m,\u001B[49m\u001B[43m \u001B[49m\u001B[43mo\u001B[49m\u001B[43m)\u001B[49m\n\u001B[1;32m    544\u001B[0m     \u001B[38;5;28;01mfor\u001B[39;00m o \u001B[38;5;129;01min\u001B[39;00m node\u001B[38;5;241m.\u001B[39moutputs:\n\u001B[1;32m    545\u001B[0m         compute_map[o][\u001B[38;5;241m0\u001B[39m] \u001B[38;5;241m=\u001B[39m \u001B[38;5;28;01mTrue\u001B[39;00m\n",
      "File \u001B[0;32m~/matteo/matteo/unimi/tesi_master/code/my_env/lib/python3.8/site-packages/aesara/tensor/basic.py:1417\u001B[0m, in \u001B[0;36mAlloc.perform\u001B[0;34m(self, node, inputs, out_)\u001B[0m\n\u001B[1;32m   1415\u001B[0m     \u001B[38;5;28;01melse\u001B[39;00m:\n\u001B[1;32m   1416\u001B[0m         out[\u001B[38;5;241m0\u001B[39m] \u001B[38;5;241m=\u001B[39m np\u001B[38;5;241m.\u001B[39mempty(sh, dtype\u001B[38;5;241m=\u001B[39mv\u001B[38;5;241m.\u001B[39mdtype)\n\u001B[0;32m-> 1417\u001B[0m         \u001B[43mout\u001B[49m\u001B[43m[\u001B[49m\u001B[38;5;241;43m0\u001B[39;49m\u001B[43m]\u001B[49m\u001B[43m[\u001B[49m\u001B[38;5;241;43m.\u001B[39;49m\u001B[38;5;241;43m.\u001B[39;49m\u001B[38;5;241;43m.\u001B[39;49m\u001B[43m]\u001B[49m \u001B[38;5;241m=\u001B[39m v  \u001B[38;5;66;03m# broadcast v to fill us up\u001B[39;00m\n\u001B[1;32m   1418\u001B[0m \u001B[38;5;28;01melse\u001B[39;00m:\n\u001B[1;32m   1419\u001B[0m     \u001B[38;5;66;03m# reuse the allocated memory.\u001B[39;00m\n\u001B[1;32m   1420\u001B[0m     out[\u001B[38;5;241m0\u001B[39m][\u001B[38;5;241m.\u001B[39m\u001B[38;5;241m.\u001B[39m\u001B[38;5;241m.\u001B[39m] \u001B[38;5;241m=\u001B[39m v\n",
      "\u001B[0;31mValueError\u001B[0m: could not broadcast input array from shape (1,40) into shape (40,1)\nApply node that caused the error: Alloc(TensorConstant{(1, 40) of 0.5}, TensorConstant{40}, TensorConstant{1})\nToposort index: 4\nInputs types: [TensorType(float64, (1, 40)), TensorType(int64, ()), TensorType(int64, ())]\nInputs shapes: [(1, 40), (), ()]\nInputs strides: [(320, 8), (), ()]\nInputs values: ['not shown', array(40), array(1)]\nOutputs clients: [[Elemwise{lt,no_inplace}(Alloc.0, TensorConstant{(1, 1) of 0.5})]]\n\nBacktrace when the node is created (use Aesara flag traceback__limit=N to make it longer):\n  File \"/home/paolo/matteo/matteo/unimi/tesi_master/code/my_env/lib/python3.8/site-packages/pymc/model.py\", line 638, in logp_dlogp_function\n    ip = self.initial_point(0)\n  File \"/home/paolo/matteo/matteo/unimi/tesi_master/code/my_env/lib/python3.8/site-packages/pymc/model.py\", line 1068, in initial_point\n    fn = make_initial_point_fn(model=self, return_transformed=True)\n  File \"/home/paolo/matteo/matteo/unimi/tesi_master/code/my_env/lib/python3.8/site-packages/pymc/initial_point.py\", line 159, in make_initial_point_fn\n    initial_values = make_initial_point_expression(\n  File \"/home/paolo/matteo/matteo/unimi/tesi_master/code/my_env/lib/python3.8/site-packages/pymc/initial_point.py\", line 247, in make_initial_point_expression\n    value = moment(variable)\n  File \"/home/paolo/matteo/matteo/unimi/tesi_master/code/my_env/lib/python3.8/site-packages/pymc/distributions/distribution.py\", line 427, in moment\n    return _moment(rv.owner.op, rv, *rv.owner.inputs).astype(rv.dtype)\n  File \"/usr/lib/python3.8/functools.py\", line 875, in wrapper\n    return dispatch(args[0].__class__)(*args, **kw)\n  File \"/home/paolo/matteo/matteo/unimi/tesi_master/code/my_env/lib/python3.8/site-packages/pymc/distributions/distribution.py\", line 138, in moment\n    return class_moment(rv, size, *dist_params)\n  File \"/home/paolo/matteo/matteo/unimi/tesi_master/code/my_env/lib/python3.8/site-packages/pymc/distributions/discrete.py\", line 394, in moment\n    p = at.full(size, p)\n\nHINT: Use the Aesara flag `exception_verbosity=high` for a debug print-out and storage map footprint of this Apply node."
     ]
    }
   ],
   "source": [
    "with sPPCA:\n",
    "    trace = pm.sample(1000,init='advi+adapt_diag',chains=1,progressbar=True)"
   ],
   "metadata": {
    "collapsed": false
   }
  },
  {
   "cell_type": "code",
   "execution_count": null,
   "outputs": [],
   "source": [
    "#az.plot_posterior(mean_field.sample(1000), color=\"LightSeaGreen\")\n",
    "az.plot_trace(trace)\n",
    "plt.show()"
   ],
   "metadata": {
    "collapsed": false
   }
  },
  {
   "cell_type": "code",
   "execution_count": null,
   "outputs": [],
   "source": [
    "with sPPCA:\n",
    "    # update values of predictors:\n",
    "    pm.set_data({\"gaze_data\": pupil})\n",
    "    # use the updated values and predict outcomes and probabilities:\n",
    "    posterior_predictive = pm.sample_posterior_predictive(\n",
    "        trace, random_seed=123)\n",
    "hr_pred = posterior_predictive.posterior_predictive[\"x_hr\"]"
   ],
   "metadata": {
    "collapsed": false
   }
  },
  {
   "cell_type": "code",
   "execution_count": null,
   "outputs": [],
   "source": [
    "pupil"
   ],
   "metadata": {
    "collapsed": false
   }
  },
  {
   "cell_type": "code",
   "execution_count": null,
   "outputs": [],
   "source": [
    "print(hr_pred[0])"
   ],
   "metadata": {
    "collapsed": false
   }
  },
  {
   "cell_type": "code",
   "execution_count": null,
   "outputs": [],
   "source": [
    "print(hr_pred[0].shape)"
   ],
   "metadata": {
    "collapsed": false
   }
  },
  {
   "cell_type": "code",
   "execution_count": null,
   "outputs": [],
   "source": [
    "print(float(np.mean(hr_pred[0])))"
   ],
   "metadata": {
    "collapsed": false
   }
  },
  {
   "cell_type": "markdown",
   "source": [
    "median abs deviation prb is not the optimal solution"
   ],
   "metadata": {
    "collapsed": false
   }
  },
  {
   "cell_type": "code",
   "execution_count": null,
   "outputs": [],
   "source": [
    "hr_pred_mean = (stats.median_abs_deviation(hr_pred[0]))[0]\n",
    "hr_pred_mean"
   ],
   "metadata": {
    "collapsed": false
   }
  },
  {
   "cell_type": "code",
   "execution_count": null,
   "outputs": [],
   "source": [
    "hr[0]"
   ],
   "metadata": {
    "collapsed": false
   }
  },
  {
   "cell_type": "code",
   "execution_count": null,
   "outputs": [],
   "source": [
    "#hr_pred_mode= pd.Series([0.006,0.01,0.02,0.003])"
   ],
   "metadata": {
    "collapsed": false
   }
  },
  {
   "cell_type": "markdown",
   "source": [
    "hr and hr_pred_mode devono avere same shape"
   ],
   "metadata": {
    "collapsed": false
   }
  },
  {
   "cell_type": "code",
   "execution_count": null,
   "outputs": [],
   "source": [
    "train_accuracy_hr = (np.subtract(hr[0], hr_pred_mean))\n",
    "print('\\n\\t avg distance hr: \\n' + str(train_accuracy_hr))\n",
    "#print(' ')"
   ],
   "metadata": {
    "collapsed": false
   }
  },
  {
   "cell_type": "code",
   "execution_count": null,
   "outputs": [],
   "source": [
    "with sPPCA:\n",
    "    # update values of predictors:\n",
    "    pm.set_data({\"hr_data\": hr})\n",
    "    # use the updated values and predict outcomes and probabilities:\n",
    "    posterior_predictive = pm.sample_posterior_predictive(\n",
    "        trace, random_seed=123)\n",
    "    gaze_pred = posterior_predictive.posterior_predictive[\"x_gaze\"]"
   ],
   "metadata": {
    "collapsed": false
   }
  },
  {
   "cell_type": "code",
   "execution_count": null,
   "outputs": [],
   "source": [
    "gaze_pred"
   ],
   "metadata": {
    "collapsed": false
   }
  },
  {
   "cell_type": "code",
   "execution_count": null,
   "outputs": [],
   "source": [
    "gaze_pred_mean = np.mean(gaze_pred, axis=0).T.reshape(-1)\n",
    "gaze_true = pupil.reshape(-1)\n",
    "reconstructed_r2 = metrics.r2_score(gaze_true, gaze_pred_mean)\n",
    "\n",
    "print('\\n\\tReconstructed X R2 score: ' + str(reconstructed_r2))"
   ],
   "metadata": {
    "collapsed": false
   }
  },
  {
   "cell_type": "code",
   "execution_count": null,
   "outputs": [],
   "source": [
    "import deepemogp.feature_extractor as feature_extractor"
   ],
   "metadata": {
    "collapsed": false
   }
  },
  {
   "cell_type": "code",
   "execution_count": null,
   "outputs": [],
   "source": [
    "f = feature_extractor.FE('wavelet', window=(8,6), params={'w_mother':'db3','w_maxlev':1})"
   ],
   "metadata": {
    "collapsed": false
   }
  },
  {
   "cell_type": "code",
   "execution_count": null,
   "outputs": [],
   "source": [
    "x = [3, 7, 1, 1, -2, 5, 4, 6]"
   ],
   "metadata": {
    "collapsed": false
   }
  },
  {
   "cell_type": "code",
   "execution_count": null,
   "outputs": [],
   "source": [
    "f.apply(x)"
   ],
   "metadata": {
    "collapsed": false
   }
  },
  {
   "cell_type": "code",
   "execution_count": null,
   "outputs": [],
   "source": [],
   "metadata": {
    "collapsed": false
   }
  }
 ],
 "metadata": {
  "kernelspec": {
   "display_name": "Python 3",
   "language": "python",
   "name": "python3"
  },
  "language_info": {
   "codemirror_mode": {
    "name": "ipython",
    "version": 2
   },
   "file_extension": ".py",
   "mimetype": "text/x-python",
   "name": "python",
   "nbconvert_exporter": "python",
   "pygments_lexer": "ipython2",
   "version": "2.7.6"
  }
 },
 "nbformat": 4,
 "nbformat_minor": 0
}
