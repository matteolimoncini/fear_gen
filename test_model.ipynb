{
 "cells": [
  {
   "cell_type": "markdown",
   "source": [
    "PPCA lavora con più variabili osservabili anzichè una sola"
   ],
   "metadata": {
    "collapsed": false
   }
  },
  {
   "cell_type": "code",
   "execution_count": 1,
   "outputs": [
    {
     "name": "stderr",
     "output_type": "stream",
     "text": [
      "WARNING (aesara.tensor.blas): Using NumPy C-API based implementation for BLAS functions.\n"
     ]
    }
   ],
   "source": [
    "import numpy as np\n",
    "import pymc as pm\n",
    "import matplotlib.pyplot as plt\n",
    "import aesara.tensor as at\n",
    "import arviz as az\n",
    "from sklearn.preprocessing import StandardScaler\n",
    "import sklearn.metrics as metrics\n",
    "from scipy import stats\n",
    "import scipy"
   ],
   "metadata": {
    "collapsed": false
   }
  },
  {
   "cell_type": "code",
   "execution_count": 2,
   "outputs": [],
   "source": [
    "scaler = StandardScaler()"
   ],
   "metadata": {
    "collapsed": false
   }
  },
  {
   "cell_type": "code",
   "execution_count": 3,
   "outputs": [],
   "source": [
    "data = np.load('prova.npy', allow_pickle=True).item()"
   ],
   "metadata": {
    "collapsed": false
   }
  },
  {
   "cell_type": "markdown",
   "source": [
    "## test with new data"
   ],
   "metadata": {
    "collapsed": false
   }
  },
  {
   "cell_type": "code",
   "execution_count": 4,
   "outputs": [
    {
     "name": "stdout",
     "output_type": "stream",
     "text": [
      ">> Loading HR for subject 2 and all sessions from dataset FEAR\n",
      ">> Loading PUPIL for subject 2 and all sessions from dataset FEAR\n",
      ">> Extracting mean features from HR signal, adopting (2, 1) window ...\n",
      ">> Extracting mean features from PUPIL signal, adopting (2, 1) window ...\n",
      "          0\n",
      "0  2.176351\n",
      "1  2.134074\n",
      "2  2.159014\n",
      "3  2.186318\n",
      "\n",
      "          0\n",
      "0 -0.002085\n",
      "1 -0.002064\n",
      "2 -0.002355\n",
      "3 -0.005520\n",
      "4 -0.002045\n"
     ]
    }
   ],
   "source": [
    "import deepemogp.feature_extractor as feature_extractor\n",
    "import deepemogp.signal.physio as physio\n",
    "import deepemogp.signal.face as face\n",
    "import deepemogp.signal.annotation as annotation\n",
    "import deepemogp.datasets as datasets\n",
    "import deepemogp.signal.behavior as behavior\n",
    "\n",
    "# from: https://github.com/SheffieldML/GPy\n",
    "#import GPy\n",
    "# from: https://github.com/SheffieldML/PyDeepGP\n",
    "#import deepgp\n",
    "\n",
    "import pandas as pd\n",
    "import numpy as np\n",
    "\n",
    "show = False\n",
    "# definition of the feature extractors to be used later\n",
    "f1 = feature_extractor.FE('wavelet')\n",
    "f2 = feature_extractor.FE('wavelet', window=(2, 1))\n",
    "f3 = feature_extractor.FE('mean', window=(2, 1))\n",
    "\n",
    "# definition of the physiological signals to be extracted\n",
    "eda = physio.EDA(f3)\n",
    "hr = physio.HR(f3)\n",
    "\n",
    "pupil = behavior.PUPIL(f3)\n",
    "\n",
    "# definition of the emotional annotation to be extracted\n",
    "#va = annotation.VA('valence', f3)\n",
    "#ar = annotation.VA('arousal', f3)\n",
    "# extraction of the desired data from the dataset\n",
    "d = datasets.FEAR(signals={hr,pupil}, subjects={'2'})\n",
    "\n",
    "for s in d.signals:\n",
    "    # preprocess ...\n",
    "    #s.preprocess(show=show)\n",
    "\n",
    "    # ... and extract features from each signal type\n",
    "    s.feature_ext.extract_feat_without_preprocess(s, show=show)\n",
    "\n",
    "hr_data = list(d.signals)[0].features[:100]\n",
    "pupil_data = list(d.signals)[1].features[:100]\n",
    "\n",
    "print(pupil_data)\n",
    "print()\n",
    "print(hr_data)"
   ],
   "metadata": {
    "collapsed": false
   }
  },
  {
   "cell_type": "markdown",
   "source": [
    "## end test"
   ],
   "metadata": {
    "collapsed": false
   }
  },
  {
   "cell_type": "markdown",
   "source": [
    "prendo un'implementazione di sppca e la applico al nostro caso"
   ],
   "metadata": {
    "collapsed": false
   }
  },
  {
   "cell_type": "markdown",
   "source": [
    "different types of observable data\n",
    "\n",
    "1) gaze\n",
    "2) fisio\n",
    "    2.1) heart rate variabilty\n",
    "    2.2) eda phasic value\n",
    "3) social anxiety\n",
    "4) aspettativa del dolore"
   ],
   "metadata": {
    "collapsed": false
   }
  },
  {
   "cell_type": "markdown",
   "source": [
    "gaze ="
   ],
   "metadata": {
    "collapsed": false
   }
  },
  {
   "cell_type": "code",
   "execution_count": 5,
   "outputs": [
    {
     "data": {
      "text/plain": "\"social_anx = data['social anxiety'][:,np.newaxis]\\npain_exp = data['pain expectation'][:,np.newaxis]\""
     },
     "execution_count": 5,
     "metadata": {},
     "output_type": "execute_result"
    }
   ],
   "source": [
    "gaze = pupil_data\n",
    "hr = hr_data\n",
    "#eda = data['eda']\n",
    "'''social_anx = data['social anxiety'][:,np.newaxis]\n",
    "pain_exp = data['pain expectation'][:,np.newaxis]'''\n"
   ],
   "metadata": {
    "collapsed": false
   }
  },
  {
   "cell_type": "code",
   "execution_count": 6,
   "outputs": [
    {
     "name": "stdout",
     "output_type": "stream",
     "text": [
      "(4, 1)\n",
      "(5, 1)\n"
     ]
    }
   ],
   "source": [
    "print(gaze.shape)\n",
    "print(hr.shape)"
   ],
   "metadata": {
    "collapsed": false
   }
  },
  {
   "cell_type": "code",
   "execution_count": 7,
   "outputs": [
    {
     "name": "stdout",
     "output_type": "stream",
     "text": [
      "          0         1         2         3\n",
      "0  2.176351  2.134074  2.159014  2.186318\n",
      "\n",
      "          0         1         2        3         4\n",
      "0 -0.002085 -0.002064 -0.002355 -0.00552 -0.002045\n"
     ]
    }
   ],
   "source": [
    "N_gaze = gaze.shape[0]\n",
    "D_gaze = gaze.shape[1]\n",
    "\n",
    "N_hr = hr.shape[0]\n",
    "D_hr = hr.shape[1]\n",
    "\n",
    "#N_eda = eda.shape[0]\n",
    "#D_eda = eda.shape[1]\n",
    "K = 1\n",
    "\n",
    "print(gaze.T)\n",
    "print()\n",
    "print(hr.T)"
   ],
   "metadata": {
    "collapsed": false
   }
  },
  {
   "cell_type": "code",
   "execution_count": 8,
   "metadata": {
    "collapsed": true
   },
   "outputs": [],
   "source": [
    "with pm.Model() as sPPCA:\n",
    "    #dati osservabili\n",
    "    gaze_data = pm.MutableData(\"gaze_data\", gaze.T)\n",
    "    hr_data = pm.MutableData(\"hr_data\", hr.T)\n",
    "    #eda_data = pm.MutableData(\"eda_data\", eda.T)\n",
    "\n",
    "    #matrici pesi\n",
    "    Wgaze = pm.Normal('Wgaze', mu=at.zeros([D_gaze, K]), sigma=2.0 * at.ones([D_gaze, K]), shape=[D_gaze, K])\n",
    "    Whr = pm.Normal('Whr', mu=at.zeros([D_hr, K]), sigma=2.0 * at.ones([D_hr, K]), shape=[D_hr, K])\n",
    "    #Weda = pm.Normal('Weda', mu=at.zeros([D_eda, K]), sigma=2.0 * at.ones([D_eda, K]), shape=[D_eda, K])\n",
    "\n",
    "    #latent space\n",
    "    c = pm.Normal('c', mu=at.zeros([N_gaze, K]), sigma=at.ones([N_gaze, K]), shape=[N_gaze, K])\n",
    "\n",
    "    x_gaze = pm.Normal('x_gaze', mu=Wgaze.dot(c.T), sigma=at.ones([D_gaze, N_gaze]), shape=[D_gaze, N_gaze], observed=gaze_data)\n",
    "    x_hr = pm.Normal('x_hr', mu=Whr.dot(c.T), sigma=at.ones([D_hr,N_hr]) ,shape=[D_hr, N_hr], observed=hr_data)\n",
    "    #x_hr = pm.Bernoulli('x_hr', p=pm.math.sigmoid(Whr.dot(c.T)), shape=[D_hr, N_hr], observed=hr_data)\n",
    "    #x_eda = pm.Bernoulli('x_eda', p=pm.math.sigmoid(Weda.dot(c.T)), shape=[D_eda, N_eda], observed=eda_data)"
   ]
  },
  {
   "cell_type": "code",
   "execution_count": 9,
   "outputs": [
    {
     "data": {
      "text/plain": "'.gv.pdf'"
     },
     "execution_count": 9,
     "metadata": {},
     "output_type": "execute_result"
    }
   ],
   "source": [
    "gv = pm.model_to_graphviz(sPPCA)\n",
    "gv.view()"
   ],
   "metadata": {
    "collapsed": false
   }
  },
  {
   "cell_type": "code",
   "execution_count": 10,
   "outputs": [
    {
     "data": {
      "text/plain": "[Wgaze ~ N(f(), f()), Whr ~ N(f(), f()), c ~ N(f(), f())]"
     },
     "execution_count": 10,
     "metadata": {},
     "output_type": "execute_result"
    }
   ],
   "source": [
    "sPPCA.free_RVs"
   ],
   "metadata": {
    "collapsed": false
   }
  },
  {
   "cell_type": "code",
   "execution_count": 11,
   "outputs": [
    {
     "name": "stderr",
     "output_type": "stream",
     "text": [
      "qt5ct: using qt5ct plugin\n",
      "Invalid Context= \"Apps\" line for icon theme:  \"/usr/share/icons/Mint-Y/apps/16/\"\n",
      "Invalid Context= \"Apps\" line for icon theme:  \"/usr/share/icons/Mint-Y/apps/16@2x/\"\n",
      "Invalid Context= \"Mimetypes\" line for icon theme:  \"/usr/share/icons/Mint-Y/mimetypes/16/\"\n",
      "Invalid Context= \"Mimetypes\" line for icon theme:  \"/usr/share/icons/Mint-Y/mimetypes/16@2x/\"\n",
      "Invalid Context= \"Apps\" line for icon theme:  \"/usr/share/icons/Mint-Y/apps/22/\"\n",
      "Invalid Context= \"Apps\" line for icon theme:  \"/usr/share/icons/Mint-Y/apps/22@2x/\"\n",
      "Invalid Context= \"Apps\" line for icon theme:  \"/usr/share/icons/Mint-Y/apps/24/\"\n",
      "Invalid Context= \"Apps\" line for icon theme:  \"/usr/share/icons/Mint-Y/apps/24@2x/\"\n",
      "Invalid Context= \"Mimetypes\" line for icon theme:  \"/usr/share/icons/Mint-Y/mimetypes/24/\"\n",
      "Invalid Context= \"Mimetypes\" line for icon theme:  \"/usr/share/icons/Mint-Y/mimetypes/24@2x/\"\n",
      "Invalid Context= \"Apps\" line for icon theme:  \"/usr/share/icons/Mint-Y/apps/32/\"\n",
      "Invalid Context= \"Apps\" line for icon theme:  \"/usr/share/icons/Mint-Y/apps/32@2x/\"\n",
      "Invalid Context= \"Mimetypes\" line for icon theme:  \"/usr/share/icons/Mint-Y/mimetypes/32/\"\n",
      "Invalid Context= \"Mimetypes\" line for icon theme:  \"/usr/share/icons/Mint-Y/mimetypes/32@2x/\"\n",
      "Invalid Context= \"Apps\" line for icon theme:  \"/usr/share/icons/Mint-Y/apps/48/\"\n",
      "Invalid Context= \"Apps\" line for icon theme:  \"/usr/share/icons/Mint-Y/apps/48@2x/\"\n",
      "Invalid Context= \"Mimetypes\" line for icon theme:  \"/usr/share/icons/Mint-Y/mimetypes/48/\"\n",
      "Invalid Context= \"Mimetypes\" line for icon theme:  \"/usr/share/icons/Mint-Y/mimetypes/48@2x/\"\n",
      "Invalid Context= \"Apps\" line for icon theme:  \"/usr/share/icons/Mint-Y/apps/64/\"\n",
      "Invalid Context= \"Apps\" line for icon theme:  \"/usr/share/icons/Mint-Y/apps/64@2x/\"\n",
      "Invalid Context= \"Mimetypes\" line for icon theme:  \"/usr/share/icons/Mint-Y/mimetypes/64/\"\n",
      "Invalid Context= \"Mimetypes\" line for icon theme:  \"/usr/share/icons/Mint-Y/mimetypes/64@2x/\"\n",
      "Invalid Context= \"Apps\" line for icon theme:  \"/usr/share/icons/Mint-Y/apps/96/\"\n",
      "Invalid Context= \"Apps\" line for icon theme:  \"/usr/share/icons/Mint-Y/apps/96@2x/\"\n",
      "Invalid Context= \"Mimetypes\" line for icon theme:  \"/usr/share/icons/Mint-Y/mimetypes/128/\"\n",
      "Invalid Context= \"Mimetypes\" line for icon theme:  \"/usr/share/icons/Mint-Y/mimetypes/128@2x/\"\n",
      "Invalid Context= \"Apps\" line for icon theme:  \"/usr/share/icons/Mint-Y/apps/256/\"\n",
      "Invalid Context= \"Apps\" line for icon theme:  \"/usr/share/icons/Mint-Y/apps/256@2x/\"\n",
      "Invalid Context= \"Apps\" line for icon theme:  \"/usr/share/icons/Mint-Y/apps/symbolic/\"\n",
      "Invalid Context= \"Mimetypes\" line for icon theme:  \"/usr/share/icons/Mint-Y/mimetypes/symbolic/\"\n",
      "Invalid Context= \"Legacy\" line for icon theme:  \"/usr/share/icons/Adwaita/8x8/legacy/\"\n",
      "Invalid Context= \"Legacy\" line for icon theme:  \"/usr/share/icons/Adwaita/16x16/legacy/\"\n",
      "Invalid Context= \"UI\" line for icon theme:  \"/usr/share/icons/Adwaita/16x16/ui/\"\n",
      "Invalid Context= \"Legacy\" line for icon theme:  \"/usr/share/icons/Adwaita/22x22/legacy/\"\n",
      "Invalid Context= \"Legacy\" line for icon theme:  \"/usr/share/icons/Adwaita/24x24/legacy/\"\n",
      "Invalid Context= \"UI\" line for icon theme:  \"/usr/share/icons/Adwaita/24x24/ui/\"\n",
      "Invalid Context= \"Legacy\" line for icon theme:  \"/usr/share/icons/Adwaita/32x32/legacy/\"\n",
      "Invalid Context= \"UI\" line for icon theme:  \"/usr/share/icons/Adwaita/32x32/ui/\"\n",
      "Invalid Context= \"Legacy\" line for icon theme:  \"/usr/share/icons/Adwaita/48x48/legacy/\"\n",
      "Invalid Context= \"UI\" line for icon theme:  \"/usr/share/icons/Adwaita/48x48/ui/\"\n",
      "Invalid Context= \"Legacy\" line for icon theme:  \"/usr/share/icons/Adwaita/64x64/legacy/\"\n",
      "Invalid Context= \"UI\" line for icon theme:  \"/usr/share/icons/Adwaita/64x64/ui/\"\n",
      "Invalid Context= \"Legacy\" line for icon theme:  \"/usr/share/icons/Adwaita/96x96/legacy/\"\n",
      "Invalid Context= \"UI\" line for icon theme:  \"/usr/share/icons/Adwaita/96x96/ui/\"\n",
      "Invalid Context= \"Legacy\" line for icon theme:  \"/usr/share/icons/Adwaita/256x256/legacy/\"\n",
      "Invalid Context= \"Legacy\" line for icon theme:  \"/usr/share/icons/Adwaita/512x512/legacy/\"\n",
      "Invalid Context= \"Legacy\" line for icon theme:  \"/usr/share/icons/Adwaita/scalable/legacy/\"\n",
      "Invalid Context= \"UI\" line for icon theme:  \"/usr/share/icons/Adwaita/scalable/ui/\"\n",
      "qt5ct: D-Bus global menu: no\n",
      "Invalid Context= \"Apps\" line for icon theme:  \"/usr/share/icons/Mint-Y/apps/16/\"\n",
      "Invalid Context= \"Apps\" line for icon theme:  \"/usr/share/icons/Mint-Y/apps/16@2x/\"\n",
      "Invalid Context= \"Mimetypes\" line for icon theme:  \"/usr/share/icons/Mint-Y/mimetypes/16/\"\n",
      "Invalid Context= \"Mimetypes\" line for icon theme:  \"/usr/share/icons/Mint-Y/mimetypes/16@2x/\"\n",
      "Invalid Context= \"Apps\" line for icon theme:  \"/usr/share/icons/Mint-Y/apps/22/\"\n",
      "Invalid Context= \"Apps\" line for icon theme:  \"/usr/share/icons/Mint-Y/apps/22@2x/\"\n",
      "Invalid Context= \"Apps\" line for icon theme:  \"/usr/share/icons/Mint-Y/apps/24/\"\n",
      "Invalid Context= \"Apps\" line for icon theme:  \"/usr/share/icons/Mint-Y/apps/24@2x/\"\n",
      "Invalid Context= \"Mimetypes\" line for icon theme:  \"/usr/share/icons/Mint-Y/mimetypes/24/\"\n",
      "Invalid Context= \"Mimetypes\" line for icon theme:  \"/usr/share/icons/Mint-Y/mimetypes/24@2x/\"\n",
      "Invalid Context= \"Apps\" line for icon theme:  \"/usr/share/icons/Mint-Y/apps/32/\"\n",
      "Invalid Context= \"Apps\" line for icon theme:  \"/usr/share/icons/Mint-Y/apps/32@2x/\"\n",
      "Invalid Context= \"Mimetypes\" line for icon theme:  \"/usr/share/icons/Mint-Y/mimetypes/32/\"\n",
      "Invalid Context= \"Mimetypes\" line for icon theme:  \"/usr/share/icons/Mint-Y/mimetypes/32@2x/\"\n",
      "Invalid Context= \"Apps\" line for icon theme:  \"/usr/share/icons/Mint-Y/apps/48/\"\n",
      "Invalid Context= \"Apps\" line for icon theme:  \"/usr/share/icons/Mint-Y/apps/48@2x/\"\n",
      "Invalid Context= \"Mimetypes\" line for icon theme:  \"/usr/share/icons/Mint-Y/mimetypes/48/\"\n",
      "Invalid Context= \"Mimetypes\" line for icon theme:  \"/usr/share/icons/Mint-Y/mimetypes/48@2x/\"\n",
      "Invalid Context= \"Apps\" line for icon theme:  \"/usr/share/icons/Mint-Y/apps/64/\"\n",
      "Invalid Context= \"Apps\" line for icon theme:  \"/usr/share/icons/Mint-Y/apps/64@2x/\"\n",
      "Invalid Context= \"Mimetypes\" line for icon theme:  \"/usr/share/icons/Mint-Y/mimetypes/64/\"\n",
      "Invalid Context= \"Mimetypes\" line for icon theme:  \"/usr/share/icons/Mint-Y/mimetypes/64@2x/\"\n",
      "Invalid Context= \"Apps\" line for icon theme:  \"/usr/share/icons/Mint-Y/apps/96/\"\n",
      "Invalid Context= \"Apps\" line for icon theme:  \"/usr/share/icons/Mint-Y/apps/96@2x/\"\n",
      "Invalid Context= \"Mimetypes\" line for icon theme:  \"/usr/share/icons/Mint-Y/mimetypes/128/\"\n",
      "Invalid Context= \"Mimetypes\" line for icon theme:  \"/usr/share/icons/Mint-Y/mimetypes/128@2x/\"\n",
      "Invalid Context= \"Apps\" line for icon theme:  \"/usr/share/icons/Mint-Y/apps/256/\"\n",
      "Invalid Context= \"Apps\" line for icon theme:  \"/usr/share/icons/Mint-Y/apps/256@2x/\"\n",
      "Invalid Context= \"Apps\" line for icon theme:  \"/usr/share/icons/Mint-Y/apps/symbolic/\"\n",
      "Invalid Context= \"Mimetypes\" line for icon theme:  \"/usr/share/icons/Mint-Y/mimetypes/symbolic/\"\n",
      "Invalid Context= \"Legacy\" line for icon theme:  \"/usr/share/icons/Adwaita/8x8/legacy/\"\n",
      "Invalid Context= \"Legacy\" line for icon theme:  \"/usr/share/icons/Adwaita/16x16/legacy/\"\n",
      "Invalid Context= \"UI\" line for icon theme:  \"/usr/share/icons/Adwaita/16x16/ui/\"\n",
      "Invalid Context= \"Legacy\" line for icon theme:  \"/usr/share/icons/Adwaita/22x22/legacy/\"\n",
      "Invalid Context= \"Legacy\" line for icon theme:  \"/usr/share/icons/Adwaita/24x24/legacy/\"\n",
      "Invalid Context= \"UI\" line for icon theme:  \"/usr/share/icons/Adwaita/24x24/ui/\"\n",
      "Invalid Context= \"Legacy\" line for icon theme:  \"/usr/share/icons/Adwaita/32x32/legacy/\"\n",
      "Invalid Context= \"UI\" line for icon theme:  \"/usr/share/icons/Adwaita/32x32/ui/\"\n",
      "Invalid Context= \"Legacy\" line for icon theme:  \"/usr/share/icons/Adwaita/48x48/legacy/\"\n",
      "Invalid Context= \"UI\" line for icon theme:  \"/usr/share/icons/Adwaita/48x48/ui/\"\n",
      "Invalid Context= \"Legacy\" line for icon theme:  \"/usr/share/icons/Adwaita/64x64/legacy/\"\n",
      "Invalid Context= \"UI\" line for icon theme:  \"/usr/share/icons/Adwaita/64x64/ui/\"\n",
      "Invalid Context= \"Legacy\" line for icon theme:  \"/usr/share/icons/Adwaita/96x96/legacy/\"\n",
      "Invalid Context= \"UI\" line for icon theme:  \"/usr/share/icons/Adwaita/96x96/ui/\"\n",
      "Invalid Context= \"Legacy\" line for icon theme:  \"/usr/share/icons/Adwaita/256x256/legacy/\"\n",
      "Invalid Context= \"Legacy\" line for icon theme:  \"/usr/share/icons/Adwaita/512x512/legacy/\"\n",
      "Invalid Context= \"Legacy\" line for icon theme:  \"/usr/share/icons/Adwaita/scalable/legacy/\"\n",
      "Invalid Context= \"UI\" line for icon theme:  \"/usr/share/icons/Adwaita/scalable/ui/\"\n",
      "/home/paolo/matteo/matteo/unimi/tesi_master/code/my_env/lib/python3.8/site-packages/aesara/tensor/rewriting/shape.py:169: UserWarning: Failed to infer_shape from Op Elemwise{add,no_inplace}.\n",
      "Input shapes: [(TensorConstant{4}, TensorConstant{1}), (TensorConstant{5}, TensorConstant{1})]\n",
      "Exception encountered during infer_shape: <class 'ValueError'>\n",
      "Exception message: Could not broadcast dimensions\n",
      "Traceback: Traceback (most recent call last):\n",
      "  File \"/home/paolo/matteo/matteo/unimi/tesi_master/code/my_env/lib/python3.8/site-packages/aesara/tensor/rewriting/shape.py\", line 145, in get_node_infer_shape\n",
      "    o_shapes = shape_infer(\n",
      "  File \"/home/paolo/matteo/matteo/unimi/tesi_master/code/my_env/lib/python3.8/site-packages/aesara/tensor/elemwise.py\", line 834, in infer_shape\n",
      "    out_shape = aesara.tensor.broadcast_shape(*i_shapes, arrays_are_shapes=True)\n",
      "  File \"/home/paolo/matteo/matteo/unimi/tesi_master/code/my_env/lib/python3.8/site-packages/aesara/tensor/extra_ops.py\", line 1459, in broadcast_shape\n",
      "    return broadcast_shape_iter(arrays, **kwargs)\n",
      "  File \"/home/paolo/matteo/matteo/unimi/tesi_master/code/my_env/lib/python3.8/site-packages/aesara/tensor/extra_ops.py\", line 1540, in broadcast_shape_iter\n",
      "    raise ValueError(\"Could not broadcast dimensions\")\n",
      "ValueError: Could not broadcast dimensions\n",
      "\n",
      "  warn(msg)\n",
      "/home/paolo/matteo/matteo/unimi/tesi_master/code/my_env/lib/python3.8/site-packages/aesara/tensor/rewriting/shape.py:169: UserWarning: Failed to infer_shape from Op Elemwise{add,no_inplace}.\n",
      "Input shapes: [(TensorConstant{4}, TensorConstant{1}), (TensorConstant{4}, TensorConstant{1}), (TensorConstant{5}, TensorConstant{1})]\n",
      "Exception encountered during infer_shape: <class 'ValueError'>\n",
      "Exception message: Could not broadcast dimensions\n",
      "Traceback: Traceback (most recent call last):\n",
      "  File \"/home/paolo/matteo/matteo/unimi/tesi_master/code/my_env/lib/python3.8/site-packages/aesara/tensor/rewriting/shape.py\", line 145, in get_node_infer_shape\n",
      "    o_shapes = shape_infer(\n",
      "  File \"/home/paolo/matteo/matteo/unimi/tesi_master/code/my_env/lib/python3.8/site-packages/aesara/tensor/elemwise.py\", line 834, in infer_shape\n",
      "    out_shape = aesara.tensor.broadcast_shape(*i_shapes, arrays_are_shapes=True)\n",
      "  File \"/home/paolo/matteo/matteo/unimi/tesi_master/code/my_env/lib/python3.8/site-packages/aesara/tensor/extra_ops.py\", line 1459, in broadcast_shape\n",
      "    return broadcast_shape_iter(arrays, **kwargs)\n",
      "  File \"/home/paolo/matteo/matteo/unimi/tesi_master/code/my_env/lib/python3.8/site-packages/aesara/tensor/extra_ops.py\", line 1540, in broadcast_shape_iter\n",
      "    raise ValueError(\"Could not broadcast dimensions\")\n",
      "ValueError: Could not broadcast dimensions\n",
      "\n",
      "  warn(msg)\n",
      "/home/paolo/matteo/matteo/unimi/tesi_master/code/my_env/lib/python3.8/site-packages/aesara/tensor/rewriting/shape.py:169: UserWarning: Failed to infer_shape from Op Elemwise{add,no_inplace}.\n",
      "Input shapes: [(TensorConstant{5}, TensorConstant{1}), (TensorConstant{4}, TensorConstant{1})]\n",
      "Exception encountered during infer_shape: <class 'ValueError'>\n",
      "Exception message: Could not broadcast dimensions\n",
      "Traceback: Traceback (most recent call last):\n",
      "  File \"/home/paolo/matteo/matteo/unimi/tesi_master/code/my_env/lib/python3.8/site-packages/aesara/tensor/rewriting/shape.py\", line 145, in get_node_infer_shape\n",
      "    o_shapes = shape_infer(\n",
      "  File \"/home/paolo/matteo/matteo/unimi/tesi_master/code/my_env/lib/python3.8/site-packages/aesara/tensor/elemwise.py\", line 834, in infer_shape\n",
      "    out_shape = aesara.tensor.broadcast_shape(*i_shapes, arrays_are_shapes=True)\n",
      "  File \"/home/paolo/matteo/matteo/unimi/tesi_master/code/my_env/lib/python3.8/site-packages/aesara/tensor/extra_ops.py\", line 1459, in broadcast_shape\n",
      "    return broadcast_shape_iter(arrays, **kwargs)\n",
      "  File \"/home/paolo/matteo/matteo/unimi/tesi_master/code/my_env/lib/python3.8/site-packages/aesara/tensor/extra_ops.py\", line 1540, in broadcast_shape_iter\n",
      "    raise ValueError(\"Could not broadcast dimensions\")\n",
      "ValueError: Could not broadcast dimensions\n",
      "\n",
      "  warn(msg)\n",
      "/home/paolo/matteo/matteo/unimi/tesi_master/code/my_env/lib/python3.8/site-packages/aesara/tensor/rewriting/shape.py:169: UserWarning: Failed to infer_shape from Op Elemwise{Add}[(0, 1)].\n",
      "Input shapes: [(TensorConstant{5}, TensorConstant{1}), (TensorConstant{4}, TensorConstant{1})]\n",
      "Exception encountered during infer_shape: <class 'ValueError'>\n",
      "Exception message: Could not broadcast dimensions\n",
      "Traceback: Traceback (most recent call last):\n",
      "  File \"/home/paolo/matteo/matteo/unimi/tesi_master/code/my_env/lib/python3.8/site-packages/aesara/tensor/rewriting/shape.py\", line 145, in get_node_infer_shape\n",
      "    o_shapes = shape_infer(\n",
      "  File \"/home/paolo/matteo/matteo/unimi/tesi_master/code/my_env/lib/python3.8/site-packages/aesara/tensor/elemwise.py\", line 834, in infer_shape\n",
      "    out_shape = aesara.tensor.broadcast_shape(*i_shapes, arrays_are_shapes=True)\n",
      "  File \"/home/paolo/matteo/matteo/unimi/tesi_master/code/my_env/lib/python3.8/site-packages/aesara/tensor/extra_ops.py\", line 1459, in broadcast_shape\n",
      "    return broadcast_shape_iter(arrays, **kwargs)\n",
      "  File \"/home/paolo/matteo/matteo/unimi/tesi_master/code/my_env/lib/python3.8/site-packages/aesara/tensor/extra_ops.py\", line 1540, in broadcast_shape_iter\n",
      "    raise ValueError(\"Could not broadcast dimensions\")\n",
      "ValueError: Could not broadcast dimensions\n",
      "\n",
      "  warn(msg)\n",
      "Auto-assigning NUTS sampler...\n",
      "Initializing NUTS using advi+adapt_diag...\n",
      "/home/paolo/matteo/matteo/unimi/tesi_master/code/my_env/lib/python3.8/site-packages/aesara/tensor/rewriting/shape.py:169: UserWarning: Failed to infer_shape from Op Elemwise{add,no_inplace}.\n",
      "Input shapes: [(TensorConstant{4}, TensorConstant{1}), (TensorConstant{5}, TensorConstant{1})]\n",
      "Exception encountered during infer_shape: <class 'ValueError'>\n",
      "Exception message: Could not broadcast dimensions\n",
      "Traceback: Traceback (most recent call last):\n",
      "  File \"/home/paolo/matteo/matteo/unimi/tesi_master/code/my_env/lib/python3.8/site-packages/aesara/tensor/rewriting/shape.py\", line 145, in get_node_infer_shape\n",
      "    o_shapes = shape_infer(\n",
      "  File \"/home/paolo/matteo/matteo/unimi/tesi_master/code/my_env/lib/python3.8/site-packages/aesara/tensor/elemwise.py\", line 834, in infer_shape\n",
      "    out_shape = aesara.tensor.broadcast_shape(*i_shapes, arrays_are_shapes=True)\n",
      "  File \"/home/paolo/matteo/matteo/unimi/tesi_master/code/my_env/lib/python3.8/site-packages/aesara/tensor/extra_ops.py\", line 1459, in broadcast_shape\n",
      "    return broadcast_shape_iter(arrays, **kwargs)\n",
      "  File \"/home/paolo/matteo/matteo/unimi/tesi_master/code/my_env/lib/python3.8/site-packages/aesara/tensor/extra_ops.py\", line 1540, in broadcast_shape_iter\n",
      "    raise ValueError(\"Could not broadcast dimensions\")\n",
      "ValueError: Could not broadcast dimensions\n",
      "\n",
      "  warn(msg)\n",
      "/home/paolo/matteo/matteo/unimi/tesi_master/code/my_env/lib/python3.8/site-packages/aesara/tensor/rewriting/shape.py:169: UserWarning: Failed to infer_shape from Op Elemwise{add,no_inplace}.\n",
      "Input shapes: [(TensorConstant{4}, TensorConstant{1}), (TensorConstant{5}, TensorConstant{1}), (TensorConstant{4}, TensorConstant{1})]\n",
      "Exception encountered during infer_shape: <class 'ValueError'>\n",
      "Exception message: Could not broadcast dimensions\n",
      "Traceback: Traceback (most recent call last):\n",
      "  File \"/home/paolo/matteo/matteo/unimi/tesi_master/code/my_env/lib/python3.8/site-packages/aesara/tensor/rewriting/shape.py\", line 145, in get_node_infer_shape\n",
      "    o_shapes = shape_infer(\n",
      "  File \"/home/paolo/matteo/matteo/unimi/tesi_master/code/my_env/lib/python3.8/site-packages/aesara/tensor/elemwise.py\", line 834, in infer_shape\n",
      "    out_shape = aesara.tensor.broadcast_shape(*i_shapes, arrays_are_shapes=True)\n",
      "  File \"/home/paolo/matteo/matteo/unimi/tesi_master/code/my_env/lib/python3.8/site-packages/aesara/tensor/extra_ops.py\", line 1459, in broadcast_shape\n",
      "    return broadcast_shape_iter(arrays, **kwargs)\n",
      "  File \"/home/paolo/matteo/matteo/unimi/tesi_master/code/my_env/lib/python3.8/site-packages/aesara/tensor/extra_ops.py\", line 1540, in broadcast_shape_iter\n",
      "    raise ValueError(\"Could not broadcast dimensions\")\n",
      "ValueError: Could not broadcast dimensions\n",
      "\n",
      "  warn(msg)\n"
     ]
    },
    {
     "data": {
      "text/plain": "<IPython.core.display.HTML object>",
      "text/html": "\n<style>\n    /* Turns off some styling */\n    progress {\n        /* gets rid of default border in Firefox and Opera. */\n        border: none;\n        /* Needs to be in here for Safari polyfill so background images work as expected. */\n        background-size: auto;\n    }\n    progress:not([value]), progress:not([value])::-webkit-progress-bar {\n        background: repeating-linear-gradient(45deg, #7e7e7e, #7e7e7e 10px, #5c5c5c 10px, #5c5c5c 20px);\n    }\n    .progress-bar-interrupted, .progress-bar-interrupted::-webkit-progress-bar {\n        background: #F44336;\n    }\n</style>\n"
     },
     "metadata": {},
     "output_type": "display_data"
    },
    {
     "data": {
      "text/plain": "<IPython.core.display.HTML object>",
      "text/html": "\n    <div>\n      <progress value='0' class='' max='200000' style='width:300px; height:20px; vertical-align: middle;'></progress>\n      \n    </div>\n    "
     },
     "metadata": {},
     "output_type": "display_data"
    },
    {
     "ename": "ValueError",
     "evalue": "Input dimension mismatch. One other input has shape[1] = 5, but input[1].shape[1] = 4.\nApply node that caused the error: Elemwise{sub,no_inplace}(hr_data, ScipyGer{non-destructive}.0)\nToposort index: 61\nInputs types: [TensorType(float64, (None, None)), TensorType(float64, (1, None))]\nInputs shapes: [(1, 5), (1, 4)]\nInputs strides: [(40, 8), (32, 8)]\nInputs values: [array([[-0.0020846 , -0.00206435, -0.002355  , -0.00551986, -0.00204512]]), array([[-0.05898346,  0.40610175, -0.87491646,  1.05785567]])]\nOutputs clients: [[SpecifyShape(Elemwise{sub,no_inplace}.0, NoneConst, TensorConstant{5})]]\n\nBacktrace when the node is created (use Aesara flag traceback__limit=N to make it longer):\n  File \"/home/paolo/matteo/matteo/unimi/tesi_master/code/my_env/lib/python3.8/site-packages/pymc/variational/opvi.py\", line 1230, in _single_symbolic_varlogp_and_datalogp\n    varlogp, datalogp = self.symbolic_single_sample([self.model.varlogp, self.model.datalogp])\n  File \"/home/paolo/matteo/matteo/unimi/tesi_master/code/my_env/lib/python3.8/site-packages/pymc/model.py\", line 882, in datalogp\n    return self.observedlogp + self.potentiallogp\n  File \"/home/paolo/matteo/matteo/unimi/tesi_master/code/my_env/lib/python3.8/site-packages/pymc/model.py\", line 923, in observedlogp\n    return self.logp(vars=self.observed_RVs)\n  File \"/home/paolo/matteo/matteo/unimi/tesi_master/code/my_env/lib/python3.8/site-packages/pymc/model.py\", line 758, in logp\n    rv_logps = joint_logp(list(rv_values.keys()), rv_values, sum=False, jacobian=jacobian)\n  File \"/home/paolo/matteo/matteo/unimi/tesi_master/code/my_env/lib/python3.8/site-packages/pymc/distributions/logprob.py\", line 237, in joint_logp\n    temp_logp_var_dict = factorized_joint_logprob(\n  File \"/home/paolo/matteo/matteo/unimi/tesi_master/code/my_env/lib/python3.8/site-packages/aeppl/joint_logprob.py\", line 151, in factorized_joint_logprob\n    q_logprob_vars = _logprob(\n  File \"/usr/lib/python3.8/functools.py\", line 875, in wrapper\n    return dispatch(args[0].__class__)(*args, **kw)\n  File \"/home/paolo/matteo/matteo/unimi/tesi_master/code/my_env/lib/python3.8/site-packages/aeppl/logprob.py\", line 166, in normal_logprob\n    -0.5 * at.pow((value - mu) / sigma, 2)\n\nHINT: Use the Aesara flag `exception_verbosity=high` for a debug print-out and storage map footprint of this Apply node.",
     "output_type": "error",
     "traceback": [
      "\u001B[0;31m---------------------------------------------------------------------------\u001B[0m",
      "\u001B[0;31mValueError\u001B[0m                                Traceback (most recent call last)",
      "File \u001B[0;32m~/matteo/matteo/unimi/tesi_master/code/my_env/lib/python3.8/site-packages/aesara/compile/function/types.py:971\u001B[0m, in \u001B[0;36mFunction.__call__\u001B[0;34m(self, *args, **kwargs)\u001B[0m\n\u001B[1;32m    969\u001B[0m \u001B[38;5;28;01mtry\u001B[39;00m:\n\u001B[1;32m    970\u001B[0m     outputs \u001B[38;5;241m=\u001B[39m (\n\u001B[0;32m--> 971\u001B[0m         \u001B[38;5;28;43mself\u001B[39;49m\u001B[38;5;241;43m.\u001B[39;49m\u001B[43mvm\u001B[49m\u001B[43m(\u001B[49m\u001B[43m)\u001B[49m\n\u001B[1;32m    972\u001B[0m         \u001B[38;5;28;01mif\u001B[39;00m output_subset \u001B[38;5;129;01mis\u001B[39;00m \u001B[38;5;28;01mNone\u001B[39;00m\n\u001B[1;32m    973\u001B[0m         \u001B[38;5;28;01melse\u001B[39;00m \u001B[38;5;28mself\u001B[39m\u001B[38;5;241m.\u001B[39mvm(output_subset\u001B[38;5;241m=\u001B[39moutput_subset)\n\u001B[1;32m    974\u001B[0m     )\n\u001B[1;32m    975\u001B[0m \u001B[38;5;28;01mexcept\u001B[39;00m \u001B[38;5;167;01mException\u001B[39;00m:\n",
      "\u001B[0;31mValueError\u001B[0m: Input dimension mismatch. One other input has shape[1] = 5, but input[1].shape[1] = 4.",
      "\nDuring handling of the above exception, another exception occurred:\n",
      "\u001B[0;31mValueError\u001B[0m                                Traceback (most recent call last)",
      "Cell \u001B[0;32mIn [11], line 2\u001B[0m\n\u001B[1;32m      1\u001B[0m \u001B[38;5;28;01mwith\u001B[39;00m sPPCA:\n\u001B[0;32m----> 2\u001B[0m     trace \u001B[38;5;241m=\u001B[39m pm\u001B[38;5;241m.\u001B[39msample(\u001B[38;5;241m1000\u001B[39m,init\u001B[38;5;241m=\u001B[39m\u001B[38;5;124m'\u001B[39m\u001B[38;5;124madvi+adapt_diag\u001B[39m\u001B[38;5;124m'\u001B[39m,chains\u001B[38;5;241m=\u001B[39m\u001B[38;5;241m1\u001B[39m,progressbar\u001B[38;5;241m=\u001B[39m\u001B[38;5;28;01mTrue\u001B[39;00m)\n",
      "File \u001B[0;32m~/matteo/matteo/unimi/tesi_master/code/my_env/lib/python3.8/site-packages/pymc/sampling.py:536\u001B[0m, in \u001B[0;36msample\u001B[0;34m(draws, step, init, n_init, initvals, trace, chains, cores, tune, progressbar, model, random_seed, discard_tuned_samples, compute_convergence_checks, callback, jitter_max_retries, return_inferencedata, idata_kwargs, mp_ctx, **kwargs)\u001B[0m\n\u001B[1;32m    534\u001B[0m         [kwargs\u001B[38;5;241m.\u001B[39msetdefault(k, v) \u001B[38;5;28;01mfor\u001B[39;00m k, v \u001B[38;5;129;01min\u001B[39;00m nuts_kwargs\u001B[38;5;241m.\u001B[39mitems()]\n\u001B[1;32m    535\u001B[0m     _log\u001B[38;5;241m.\u001B[39minfo(\u001B[38;5;124m\"\u001B[39m\u001B[38;5;124mAuto-assigning NUTS sampler...\u001B[39m\u001B[38;5;124m\"\u001B[39m)\n\u001B[0;32m--> 536\u001B[0m     initial_points, step \u001B[38;5;241m=\u001B[39m \u001B[43minit_nuts\u001B[49m\u001B[43m(\u001B[49m\n\u001B[1;32m    537\u001B[0m \u001B[43m        \u001B[49m\u001B[43minit\u001B[49m\u001B[38;5;241;43m=\u001B[39;49m\u001B[43minit\u001B[49m\u001B[43m,\u001B[49m\n\u001B[1;32m    538\u001B[0m \u001B[43m        \u001B[49m\u001B[43mchains\u001B[49m\u001B[38;5;241;43m=\u001B[39;49m\u001B[43mchains\u001B[49m\u001B[43m,\u001B[49m\n\u001B[1;32m    539\u001B[0m \u001B[43m        \u001B[49m\u001B[43mn_init\u001B[49m\u001B[38;5;241;43m=\u001B[39;49m\u001B[43mn_init\u001B[49m\u001B[43m,\u001B[49m\n\u001B[1;32m    540\u001B[0m \u001B[43m        \u001B[49m\u001B[43mmodel\u001B[49m\u001B[38;5;241;43m=\u001B[39;49m\u001B[43mmodel\u001B[49m\u001B[43m,\u001B[49m\n\u001B[1;32m    541\u001B[0m \u001B[43m        \u001B[49m\u001B[43mrandom_seed\u001B[49m\u001B[38;5;241;43m=\u001B[39;49m\u001B[43mrandom_seed_list\u001B[49m\u001B[43m,\u001B[49m\n\u001B[1;32m    542\u001B[0m \u001B[43m        \u001B[49m\u001B[43mprogressbar\u001B[49m\u001B[38;5;241;43m=\u001B[39;49m\u001B[43mprogressbar\u001B[49m\u001B[43m,\u001B[49m\n\u001B[1;32m    543\u001B[0m \u001B[43m        \u001B[49m\u001B[43mjitter_max_retries\u001B[49m\u001B[38;5;241;43m=\u001B[39;49m\u001B[43mjitter_max_retries\u001B[49m\u001B[43m,\u001B[49m\n\u001B[1;32m    544\u001B[0m \u001B[43m        \u001B[49m\u001B[43mtune\u001B[49m\u001B[38;5;241;43m=\u001B[39;49m\u001B[43mtune\u001B[49m\u001B[43m,\u001B[49m\n\u001B[1;32m    545\u001B[0m \u001B[43m        \u001B[49m\u001B[43minitvals\u001B[49m\u001B[38;5;241;43m=\u001B[39;49m\u001B[43minitvals\u001B[49m\u001B[43m,\u001B[49m\n\u001B[1;32m    546\u001B[0m \u001B[43m        \u001B[49m\u001B[38;5;241;43m*\u001B[39;49m\u001B[38;5;241;43m*\u001B[39;49m\u001B[43mkwargs\u001B[49m\u001B[43m,\u001B[49m\n\u001B[1;32m    547\u001B[0m \u001B[43m    \u001B[49m\u001B[43m)\u001B[49m\n\u001B[1;32m    549\u001B[0m \u001B[38;5;28;01mif\u001B[39;00m initial_points \u001B[38;5;129;01mis\u001B[39;00m \u001B[38;5;28;01mNone\u001B[39;00m:\n\u001B[1;32m    550\u001B[0m     \u001B[38;5;66;03m# Time to draw/evaluate numeric start points for each chain.\u001B[39;00m\n\u001B[1;32m    551\u001B[0m     ipfns \u001B[38;5;241m=\u001B[39m make_initial_point_fns_per_chain(\n\u001B[1;32m    552\u001B[0m         model\u001B[38;5;241m=\u001B[39mmodel,\n\u001B[1;32m    553\u001B[0m         overrides\u001B[38;5;241m=\u001B[39minitvals,\n\u001B[1;32m    554\u001B[0m         jitter_rvs\u001B[38;5;241m=\u001B[39mfilter_rvs_to_jitter(step),\n\u001B[1;32m    555\u001B[0m         chains\u001B[38;5;241m=\u001B[39mchains,\n\u001B[1;32m    556\u001B[0m     )\n",
      "File \u001B[0;32m~/matteo/matteo/unimi/tesi_master/code/my_env/lib/python3.8/site-packages/pymc/sampling.py:2568\u001B[0m, in \u001B[0;36minit_nuts\u001B[0;34m(init, chains, n_init, model, random_seed, progressbar, jitter_max_retries, tune, initvals, **kwargs)\u001B[0m\n\u001B[1;32m   2560\u001B[0m     potential \u001B[38;5;241m=\u001B[39m quadpotential\u001B[38;5;241m.\u001B[39mQuadPotentialDiagAdaptExp(\n\u001B[1;32m   2561\u001B[0m         n,\n\u001B[1;32m   2562\u001B[0m         mean,\n\u001B[0;32m   (...)\u001B[0m\n\u001B[1;32m   2565\u001B[0m         stop_adaptation\u001B[38;5;241m=\u001B[39mstop_adaptation,\n\u001B[1;32m   2566\u001B[0m     )\n\u001B[1;32m   2567\u001B[0m \u001B[38;5;28;01melif\u001B[39;00m init \u001B[38;5;241m==\u001B[39m \u001B[38;5;124m\"\u001B[39m\u001B[38;5;124madvi+adapt_diag\u001B[39m\u001B[38;5;124m\"\u001B[39m:\n\u001B[0;32m-> 2568\u001B[0m     approx \u001B[38;5;241m=\u001B[39m \u001B[43mpm\u001B[49m\u001B[38;5;241;43m.\u001B[39;49m\u001B[43mfit\u001B[49m\u001B[43m(\u001B[49m\n\u001B[1;32m   2569\u001B[0m \u001B[43m        \u001B[49m\u001B[43mrandom_seed\u001B[49m\u001B[38;5;241;43m=\u001B[39;49m\u001B[43mrandom_seed_list\u001B[49m\u001B[43m[\u001B[49m\u001B[38;5;241;43m0\u001B[39;49m\u001B[43m]\u001B[49m\u001B[43m,\u001B[49m\n\u001B[1;32m   2570\u001B[0m \u001B[43m        \u001B[49m\u001B[43mn\u001B[49m\u001B[38;5;241;43m=\u001B[39;49m\u001B[43mn_init\u001B[49m\u001B[43m,\u001B[49m\n\u001B[1;32m   2571\u001B[0m \u001B[43m        \u001B[49m\u001B[43mmethod\u001B[49m\u001B[38;5;241;43m=\u001B[39;49m\u001B[38;5;124;43m\"\u001B[39;49m\u001B[38;5;124;43madvi\u001B[39;49m\u001B[38;5;124;43m\"\u001B[39;49m\u001B[43m,\u001B[49m\n\u001B[1;32m   2572\u001B[0m \u001B[43m        \u001B[49m\u001B[43mmodel\u001B[49m\u001B[38;5;241;43m=\u001B[39;49m\u001B[43mmodel\u001B[49m\u001B[43m,\u001B[49m\n\u001B[1;32m   2573\u001B[0m \u001B[43m        \u001B[49m\u001B[43mcallbacks\u001B[49m\u001B[38;5;241;43m=\u001B[39;49m\u001B[43mcb\u001B[49m\u001B[43m,\u001B[49m\n\u001B[1;32m   2574\u001B[0m \u001B[43m        \u001B[49m\u001B[43mprogressbar\u001B[49m\u001B[38;5;241;43m=\u001B[39;49m\u001B[43mprogressbar\u001B[49m\u001B[43m,\u001B[49m\n\u001B[1;32m   2575\u001B[0m \u001B[43m        \u001B[49m\u001B[43mobj_optimizer\u001B[49m\u001B[38;5;241;43m=\u001B[39;49m\u001B[43mpm\u001B[49m\u001B[38;5;241;43m.\u001B[39;49m\u001B[43madagrad_window\u001B[49m\u001B[43m,\u001B[49m\n\u001B[1;32m   2576\u001B[0m \u001B[43m    \u001B[49m\u001B[43m)\u001B[49m\n\u001B[1;32m   2577\u001B[0m     approx_sample \u001B[38;5;241m=\u001B[39m approx\u001B[38;5;241m.\u001B[39msample(\n\u001B[1;32m   2578\u001B[0m         draws\u001B[38;5;241m=\u001B[39mchains, random_seed\u001B[38;5;241m=\u001B[39mrandom_seed_list[\u001B[38;5;241m0\u001B[39m], return_inferencedata\u001B[38;5;241m=\u001B[39m\u001B[38;5;28;01mFalse\u001B[39;00m\n\u001B[1;32m   2579\u001B[0m     )\n\u001B[1;32m   2580\u001B[0m     initial_points \u001B[38;5;241m=\u001B[39m [approx_sample[i] \u001B[38;5;28;01mfor\u001B[39;00m i \u001B[38;5;129;01min\u001B[39;00m \u001B[38;5;28mrange\u001B[39m(chains)]\n",
      "File \u001B[0;32m~/matteo/matteo/unimi/tesi_master/code/my_env/lib/python3.8/site-packages/pymc/variational/inference.py:753\u001B[0m, in \u001B[0;36mfit\u001B[0;34m(n, method, model, random_seed, start, start_sigma, inf_kwargs, **kwargs)\u001B[0m\n\u001B[1;32m    751\u001B[0m \u001B[38;5;28;01melse\u001B[39;00m:\n\u001B[1;32m    752\u001B[0m     \u001B[38;5;28;01mraise\u001B[39;00m \u001B[38;5;167;01mTypeError\u001B[39;00m(\u001B[38;5;124mf\u001B[39m\u001B[38;5;124m\"\u001B[39m\u001B[38;5;124mmethod should be one of \u001B[39m\u001B[38;5;132;01m{\u001B[39;00m\u001B[38;5;28mset\u001B[39m(_select\u001B[38;5;241m.\u001B[39mkeys())\u001B[38;5;132;01m}\u001B[39;00m\u001B[38;5;124m or Inference instance\u001B[39m\u001B[38;5;124m\"\u001B[39m)\n\u001B[0;32m--> 753\u001B[0m \u001B[38;5;28;01mreturn\u001B[39;00m \u001B[43minference\u001B[49m\u001B[38;5;241;43m.\u001B[39;49m\u001B[43mfit\u001B[49m\u001B[43m(\u001B[49m\u001B[43mn\u001B[49m\u001B[43m,\u001B[49m\u001B[43m \u001B[49m\u001B[38;5;241;43m*\u001B[39;49m\u001B[38;5;241;43m*\u001B[39;49m\u001B[43mkwargs\u001B[49m\u001B[43m)\u001B[49m\n",
      "File \u001B[0;32m~/matteo/matteo/unimi/tesi_master/code/my_env/lib/python3.8/site-packages/pymc/variational/inference.py:144\u001B[0m, in \u001B[0;36mInference.fit\u001B[0;34m(self, n, score, callbacks, progressbar, **kwargs)\u001B[0m\n\u001B[1;32m    142\u001B[0m     progress \u001B[38;5;241m=\u001B[39m \u001B[38;5;28mrange\u001B[39m(n)\n\u001B[1;32m    143\u001B[0m \u001B[38;5;28;01mif\u001B[39;00m score:\n\u001B[0;32m--> 144\u001B[0m     state \u001B[38;5;241m=\u001B[39m \u001B[38;5;28;43mself\u001B[39;49m\u001B[38;5;241;43m.\u001B[39;49m\u001B[43m_iterate_with_loss\u001B[49m\u001B[43m(\u001B[49m\u001B[38;5;241;43m0\u001B[39;49m\u001B[43m,\u001B[49m\u001B[43m \u001B[49m\u001B[43mn\u001B[49m\u001B[43m,\u001B[49m\u001B[43m \u001B[49m\u001B[43mstep_func\u001B[49m\u001B[43m,\u001B[49m\u001B[43m \u001B[49m\u001B[43mprogress\u001B[49m\u001B[43m,\u001B[49m\u001B[43m \u001B[49m\u001B[43mcallbacks\u001B[49m\u001B[43m)\u001B[49m\n\u001B[1;32m    145\u001B[0m \u001B[38;5;28;01melse\u001B[39;00m:\n\u001B[1;32m    146\u001B[0m     state \u001B[38;5;241m=\u001B[39m \u001B[38;5;28mself\u001B[39m\u001B[38;5;241m.\u001B[39m_iterate_without_loss(\u001B[38;5;241m0\u001B[39m, n, step_func, progress, callbacks)\n",
      "File \u001B[0;32m~/matteo/matteo/unimi/tesi_master/code/my_env/lib/python3.8/site-packages/pymc/variational/inference.py:204\u001B[0m, in \u001B[0;36mInference._iterate_with_loss\u001B[0;34m(self, s, n, step_func, progress, callbacks)\u001B[0m\n\u001B[1;32m    202\u001B[0m \u001B[38;5;28;01mtry\u001B[39;00m:\n\u001B[1;32m    203\u001B[0m     \u001B[38;5;28;01mfor\u001B[39;00m i \u001B[38;5;129;01min\u001B[39;00m progress:\n\u001B[0;32m--> 204\u001B[0m         e \u001B[38;5;241m=\u001B[39m \u001B[43mstep_func\u001B[49m\u001B[43m(\u001B[49m\u001B[43m)\u001B[49m\n\u001B[1;32m    205\u001B[0m         \u001B[38;5;28;01mif\u001B[39;00m np\u001B[38;5;241m.\u001B[39misnan(e):\n\u001B[1;32m    206\u001B[0m             scores \u001B[38;5;241m=\u001B[39m scores[:i]\n",
      "File \u001B[0;32m~/matteo/matteo/unimi/tesi_master/code/my_env/lib/python3.8/site-packages/aesara/compile/function/types.py:984\u001B[0m, in \u001B[0;36mFunction.__call__\u001B[0;34m(self, *args, **kwargs)\u001B[0m\n\u001B[1;32m    982\u001B[0m     \u001B[38;5;28;01mif\u001B[39;00m \u001B[38;5;28mhasattr\u001B[39m(\u001B[38;5;28mself\u001B[39m\u001B[38;5;241m.\u001B[39mvm, \u001B[38;5;124m\"\u001B[39m\u001B[38;5;124mthunks\u001B[39m\u001B[38;5;124m\"\u001B[39m):\n\u001B[1;32m    983\u001B[0m         thunk \u001B[38;5;241m=\u001B[39m \u001B[38;5;28mself\u001B[39m\u001B[38;5;241m.\u001B[39mvm\u001B[38;5;241m.\u001B[39mthunks[\u001B[38;5;28mself\u001B[39m\u001B[38;5;241m.\u001B[39mvm\u001B[38;5;241m.\u001B[39mposition_of_error]\n\u001B[0;32m--> 984\u001B[0m     \u001B[43mraise_with_op\u001B[49m\u001B[43m(\u001B[49m\n\u001B[1;32m    985\u001B[0m \u001B[43m        \u001B[49m\u001B[38;5;28;43mself\u001B[39;49m\u001B[38;5;241;43m.\u001B[39;49m\u001B[43mmaker\u001B[49m\u001B[38;5;241;43m.\u001B[39;49m\u001B[43mfgraph\u001B[49m\u001B[43m,\u001B[49m\n\u001B[1;32m    986\u001B[0m \u001B[43m        \u001B[49m\u001B[43mnode\u001B[49m\u001B[38;5;241;43m=\u001B[39;49m\u001B[38;5;28;43mself\u001B[39;49m\u001B[38;5;241;43m.\u001B[39;49m\u001B[43mvm\u001B[49m\u001B[38;5;241;43m.\u001B[39;49m\u001B[43mnodes\u001B[49m\u001B[43m[\u001B[49m\u001B[38;5;28;43mself\u001B[39;49m\u001B[38;5;241;43m.\u001B[39;49m\u001B[43mvm\u001B[49m\u001B[38;5;241;43m.\u001B[39;49m\u001B[43mposition_of_error\u001B[49m\u001B[43m]\u001B[49m\u001B[43m,\u001B[49m\n\u001B[1;32m    987\u001B[0m \u001B[43m        \u001B[49m\u001B[43mthunk\u001B[49m\u001B[38;5;241;43m=\u001B[39;49m\u001B[43mthunk\u001B[49m\u001B[43m,\u001B[49m\n\u001B[1;32m    988\u001B[0m \u001B[43m        \u001B[49m\u001B[43mstorage_map\u001B[49m\u001B[38;5;241;43m=\u001B[39;49m\u001B[38;5;28;43mgetattr\u001B[39;49m\u001B[43m(\u001B[49m\u001B[38;5;28;43mself\u001B[39;49m\u001B[38;5;241;43m.\u001B[39;49m\u001B[43mvm\u001B[49m\u001B[43m,\u001B[49m\u001B[43m \u001B[49m\u001B[38;5;124;43m\"\u001B[39;49m\u001B[38;5;124;43mstorage_map\u001B[39;49m\u001B[38;5;124;43m\"\u001B[39;49m\u001B[43m,\u001B[49m\u001B[43m \u001B[49m\u001B[38;5;28;43;01mNone\u001B[39;49;00m\u001B[43m)\u001B[49m\u001B[43m,\u001B[49m\n\u001B[1;32m    989\u001B[0m \u001B[43m    \u001B[49m\u001B[43m)\u001B[49m\n\u001B[1;32m    990\u001B[0m \u001B[38;5;28;01melse\u001B[39;00m:\n\u001B[1;32m    991\u001B[0m     \u001B[38;5;66;03m# old-style linkers raise their own exceptions\u001B[39;00m\n\u001B[1;32m    992\u001B[0m     \u001B[38;5;28;01mraise\u001B[39;00m\n",
      "File \u001B[0;32m~/matteo/matteo/unimi/tesi_master/code/my_env/lib/python3.8/site-packages/aesara/link/utils.py:534\u001B[0m, in \u001B[0;36mraise_with_op\u001B[0;34m(fgraph, node, thunk, exc_info, storage_map)\u001B[0m\n\u001B[1;32m    529\u001B[0m     warnings\u001B[38;5;241m.\u001B[39mwarn(\n\u001B[1;32m    530\u001B[0m         \u001B[38;5;124mf\u001B[39m\u001B[38;5;124m\"\u001B[39m\u001B[38;5;132;01m{\u001B[39;00mexc_type\u001B[38;5;132;01m}\u001B[39;00m\u001B[38;5;124m error does not allow us to add an extra error message\u001B[39m\u001B[38;5;124m\"\u001B[39m\n\u001B[1;32m    531\u001B[0m     )\n\u001B[1;32m    532\u001B[0m     \u001B[38;5;66;03m# Some exception need extra parameter in inputs. So forget the\u001B[39;00m\n\u001B[1;32m    533\u001B[0m     \u001B[38;5;66;03m# extra long error message in that case.\u001B[39;00m\n\u001B[0;32m--> 534\u001B[0m \u001B[38;5;28;01mraise\u001B[39;00m exc_value\u001B[38;5;241m.\u001B[39mwith_traceback(exc_trace)\n",
      "File \u001B[0;32m~/matteo/matteo/unimi/tesi_master/code/my_env/lib/python3.8/site-packages/aesara/compile/function/types.py:971\u001B[0m, in \u001B[0;36mFunction.__call__\u001B[0;34m(self, *args, **kwargs)\u001B[0m\n\u001B[1;32m    968\u001B[0m t0_fn \u001B[38;5;241m=\u001B[39m time\u001B[38;5;241m.\u001B[39mtime()\n\u001B[1;32m    969\u001B[0m \u001B[38;5;28;01mtry\u001B[39;00m:\n\u001B[1;32m    970\u001B[0m     outputs \u001B[38;5;241m=\u001B[39m (\n\u001B[0;32m--> 971\u001B[0m         \u001B[38;5;28;43mself\u001B[39;49m\u001B[38;5;241;43m.\u001B[39;49m\u001B[43mvm\u001B[49m\u001B[43m(\u001B[49m\u001B[43m)\u001B[49m\n\u001B[1;32m    972\u001B[0m         \u001B[38;5;28;01mif\u001B[39;00m output_subset \u001B[38;5;129;01mis\u001B[39;00m \u001B[38;5;28;01mNone\u001B[39;00m\n\u001B[1;32m    973\u001B[0m         \u001B[38;5;28;01melse\u001B[39;00m \u001B[38;5;28mself\u001B[39m\u001B[38;5;241m.\u001B[39mvm(output_subset\u001B[38;5;241m=\u001B[39moutput_subset)\n\u001B[1;32m    974\u001B[0m     )\n\u001B[1;32m    975\u001B[0m \u001B[38;5;28;01mexcept\u001B[39;00m \u001B[38;5;167;01mException\u001B[39;00m:\n\u001B[1;32m    976\u001B[0m     restore_defaults()\n",
      "\u001B[0;31mValueError\u001B[0m: Input dimension mismatch. One other input has shape[1] = 5, but input[1].shape[1] = 4.\nApply node that caused the error: Elemwise{sub,no_inplace}(hr_data, ScipyGer{non-destructive}.0)\nToposort index: 61\nInputs types: [TensorType(float64, (None, None)), TensorType(float64, (1, None))]\nInputs shapes: [(1, 5), (1, 4)]\nInputs strides: [(40, 8), (32, 8)]\nInputs values: [array([[-0.0020846 , -0.00206435, -0.002355  , -0.00551986, -0.00204512]]), array([[-0.05898346,  0.40610175, -0.87491646,  1.05785567]])]\nOutputs clients: [[SpecifyShape(Elemwise{sub,no_inplace}.0, NoneConst, TensorConstant{5})]]\n\nBacktrace when the node is created (use Aesara flag traceback__limit=N to make it longer):\n  File \"/home/paolo/matteo/matteo/unimi/tesi_master/code/my_env/lib/python3.8/site-packages/pymc/variational/opvi.py\", line 1230, in _single_symbolic_varlogp_and_datalogp\n    varlogp, datalogp = self.symbolic_single_sample([self.model.varlogp, self.model.datalogp])\n  File \"/home/paolo/matteo/matteo/unimi/tesi_master/code/my_env/lib/python3.8/site-packages/pymc/model.py\", line 882, in datalogp\n    return self.observedlogp + self.potentiallogp\n  File \"/home/paolo/matteo/matteo/unimi/tesi_master/code/my_env/lib/python3.8/site-packages/pymc/model.py\", line 923, in observedlogp\n    return self.logp(vars=self.observed_RVs)\n  File \"/home/paolo/matteo/matteo/unimi/tesi_master/code/my_env/lib/python3.8/site-packages/pymc/model.py\", line 758, in logp\n    rv_logps = joint_logp(list(rv_values.keys()), rv_values, sum=False, jacobian=jacobian)\n  File \"/home/paolo/matteo/matteo/unimi/tesi_master/code/my_env/lib/python3.8/site-packages/pymc/distributions/logprob.py\", line 237, in joint_logp\n    temp_logp_var_dict = factorized_joint_logprob(\n  File \"/home/paolo/matteo/matteo/unimi/tesi_master/code/my_env/lib/python3.8/site-packages/aeppl/joint_logprob.py\", line 151, in factorized_joint_logprob\n    q_logprob_vars = _logprob(\n  File \"/usr/lib/python3.8/functools.py\", line 875, in wrapper\n    return dispatch(args[0].__class__)(*args, **kw)\n  File \"/home/paolo/matteo/matteo/unimi/tesi_master/code/my_env/lib/python3.8/site-packages/aeppl/logprob.py\", line 166, in normal_logprob\n    -0.5 * at.pow((value - mu) / sigma, 2)\n\nHINT: Use the Aesara flag `exception_verbosity=high` for a debug print-out and storage map footprint of this Apply node."
     ]
    }
   ],
   "source": [
    "with sPPCA:\n",
    "    trace = pm.sample(1000,init='advi+adapt_diag',chains=1,progressbar=True)"
   ],
   "metadata": {
    "collapsed": false
   }
  },
  {
   "cell_type": "code",
   "execution_count": null,
   "outputs": [],
   "source": [
    "#az.plot_posterior(mean_field.sample(1000), color=\"LightSeaGreen\")\n",
    "az.plot_trace(trace)\n",
    "plt.show()"
   ],
   "metadata": {
    "collapsed": false
   }
  },
  {
   "cell_type": "code",
   "execution_count": null,
   "outputs": [],
   "source": [
    "with sPPCA:\n",
    "    # update values of predictors:\n",
    "    pm.set_data({\"gaze_data\": gaze})\n",
    "    # use the updated values and predict outcomes and probabilities:\n",
    "    posterior_predictive = pm.sample_posterior_predictive(\n",
    "        trace, random_seed=123)\n",
    "hr_pred = posterior_predictive.posterior_predictive[\"x_hr\"]"
   ],
   "metadata": {
    "collapsed": false
   }
  },
  {
   "cell_type": "code",
   "execution_count": null,
   "outputs": [],
   "source": [
    "gaze"
   ],
   "metadata": {
    "collapsed": false
   }
  },
  {
   "cell_type": "code",
   "execution_count": null,
   "outputs": [],
   "source": [
    "print(hr_pred[0])"
   ],
   "metadata": {
    "collapsed": false
   }
  },
  {
   "cell_type": "code",
   "execution_count": null,
   "outputs": [],
   "source": [
    "print(hr_pred[0].shape)"
   ],
   "metadata": {
    "collapsed": false
   }
  },
  {
   "cell_type": "code",
   "execution_count": null,
   "outputs": [],
   "source": [
    "print(float(np.mean(hr_pred[0])))"
   ],
   "metadata": {
    "collapsed": false
   }
  },
  {
   "cell_type": "markdown",
   "source": [
    "median abs deviation prb is not the optimal solution"
   ],
   "metadata": {
    "collapsed": false
   }
  },
  {
   "cell_type": "code",
   "execution_count": null,
   "outputs": [],
   "source": [
    "hr_pred_mean = (stats.median_abs_deviation(hr_pred[0]))[0]\n",
    "hr_pred_mean"
   ],
   "metadata": {
    "collapsed": false
   }
  },
  {
   "cell_type": "code",
   "execution_count": null,
   "outputs": [],
   "source": [
    "hr[0]"
   ],
   "metadata": {
    "collapsed": false
   }
  },
  {
   "cell_type": "code",
   "execution_count": null,
   "outputs": [],
   "source": [
    "#hr_pred_mode= pd.Series([0.006,0.01,0.02,0.003])"
   ],
   "metadata": {
    "collapsed": false
   }
  },
  {
   "cell_type": "markdown",
   "source": [
    "hr and hr_pred_mode devono avere same shape"
   ],
   "metadata": {
    "collapsed": false
   }
  },
  {
   "cell_type": "code",
   "execution_count": null,
   "outputs": [],
   "source": [
    "train_accuracy_hr = (np.subtract(hr[0], hr_pred_mean))\n",
    "print('\\n\\t avg distance hr: \\n' + str(train_accuracy_hr))\n",
    "#print(' ')"
   ],
   "metadata": {
    "collapsed": false
   }
  },
  {
   "cell_type": "code",
   "execution_count": null,
   "outputs": [],
   "source": [
    "with sPPCA:\n",
    "    # update values of predictors:\n",
    "    pm.set_data({\"hr_data\": hr})\n",
    "    # use the updated values and predict outcomes and probabilities:\n",
    "    posterior_predictive = pm.sample_posterior_predictive(\n",
    "        trace, random_seed=123)\n",
    "    gaze_pred = posterior_predictive.posterior_predictive[\"x_gaze\"]"
   ],
   "metadata": {
    "collapsed": false
   }
  },
  {
   "cell_type": "code",
   "execution_count": null,
   "outputs": [],
   "source": [
    "gaze_pred"
   ],
   "metadata": {
    "collapsed": false
   }
  },
  {
   "cell_type": "code",
   "execution_count": null,
   "outputs": [],
   "source": [
    "gaze_pred_mean = np.mean(gaze_pred, axis=0).T.reshape(-1)\n",
    "gaze_true = gaze.reshape(-1)\n",
    "reconstructed_r2 = r2_score(gaze_true, gaze_pred_mean)\n",
    "\n",
    "print('\\n\\tReconstructed X R2 score: ' + str(reconstructed_r2))"
   ],
   "metadata": {
    "collapsed": false
   }
  },
  {
   "cell_type": "code",
   "execution_count": null,
   "outputs": [],
   "source": [
    "import deepemogp.feature_extractor as feature_extractor"
   ],
   "metadata": {
    "collapsed": false
   }
  },
  {
   "cell_type": "code",
   "execution_count": null,
   "outputs": [],
   "source": [
    "f = feature_extractor.FE('wavelet', window=(8,6), params={'w_mother':'db3','w_maxlev':1})"
   ],
   "metadata": {
    "collapsed": false
   }
  },
  {
   "cell_type": "code",
   "execution_count": null,
   "outputs": [],
   "source": [
    "x = [3, 7, 1, 1, -2, 5, 4, 6]"
   ],
   "metadata": {
    "collapsed": false
   }
  },
  {
   "cell_type": "code",
   "execution_count": null,
   "outputs": [],
   "source": [
    "f.apply(x)"
   ],
   "metadata": {
    "collapsed": false
   }
  },
  {
   "cell_type": "code",
   "execution_count": null,
   "outputs": [],
   "source": [],
   "metadata": {
    "collapsed": false
   }
  }
 ],
 "metadata": {
  "kernelspec": {
   "display_name": "Python 3",
   "language": "python",
   "name": "python3"
  },
  "language_info": {
   "codemirror_mode": {
    "name": "ipython",
    "version": 2
   },
   "file_extension": ".py",
   "mimetype": "text/x-python",
   "name": "python",
   "nbconvert_exporter": "python",
   "pygments_lexer": "ipython2",
   "version": "2.7.6"
  }
 },
 "nbformat": 4,
 "nbformat_minor": 0
}
