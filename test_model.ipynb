{
 "cells": [
  {
   "cell_type": "markdown",
   "source": [
    "PPCA lavora con più variabili osservabili anzichè una sola"
   ],
   "metadata": {
    "collapsed": false
   }
  },
  {
   "cell_type": "code",
   "execution_count": null,
   "outputs": [],
   "source": [
    "import numpy as np\n",
    "import pymc as pm\n",
    "import matplotlib.pyplot as plt\n",
    "import aesara.tensor as at\n",
    "import arviz as az\n",
    "from sklearn.metrics import accuracy_score\n",
    "from sklearn.preprocessing import StandardScaler\n",
    "import sklearn.metrics as metrics\n",
    "from scipy import stats\n",
    "import scipy\n",
    "import pandas as pd"
   ],
   "metadata": {
    "collapsed": false
   }
  },
  {
   "cell_type": "code",
   "execution_count": null,
   "outputs": [],
   "source": [
    "scaler = StandardScaler()"
   ],
   "metadata": {
    "collapsed": false
   }
  },
  {
   "cell_type": "markdown",
   "source": [
    "# extract data social anxiety"
   ],
   "metadata": {
    "collapsed": false
   }
  },
  {
   "cell_type": "code",
   "execution_count": null,
   "outputs": [],
   "source": [
    "#csv_ = '/Users/marcoghezzi/PycharmProjects/pythonProject/osfstorage-archive/behavior/LookAtMe_002.csv'\n",
    "csv_ = '/home/paolo/matteo/matteo/unimi/tesi_master/code/osfstorage-archive/behavior/LookAtMe_002.csv'\n",
    "global_data = pd.read_csv(csv_, sep='\\t')\n",
    "y = np.array(list([int(d>2) for d in global_data['rating']]))\n",
    "e_labels = y[:,np.newaxis]  # rating > 2"
   ],
   "metadata": {
    "collapsed": false
   }
  },
  {
   "cell_type": "code",
   "execution_count": null,
   "outputs": [],
   "source": [
    "print(len(e_labels))"
   ],
   "metadata": {
    "collapsed": false
   }
  },
  {
   "cell_type": "code",
   "execution_count": null,
   "outputs": [],
   "source": [
    "N_e = e_labels.shape[0]\n",
    "D_e = e_labels.shape[1]\n",
    "print(N_e,D_e)"
   ],
   "metadata": {
    "collapsed": false
   }
  },
  {
   "cell_type": "markdown",
   "source": [
    "## test with new data"
   ],
   "metadata": {
    "collapsed": false
   }
  },
  {
   "cell_type": "code",
   "execution_count": null,
   "outputs": [],
   "source": [
    "from deepemogp import feature_extractor\n",
    "from deepemogp.signal import physio as physio\n",
    "from deepemogp import datasets as datasets\n",
    "from deepemogp.signal import behavior as behavior\n",
    "\n",
    "# from: https://github.com/SheffieldML/GPy\n",
    "#import GPy\n",
    "# from: https://github.com/SheffieldML/PyDeepGP\n",
    "#import deepgp\n",
    "\n",
    "import pandas as pd\n",
    "import numpy as np\n",
    "\n",
    "show = False\n",
    "# definition of the feature extractors to be used later\n",
    "f2 = feature_extractor.FE('wavelet', window=(2, 1))\n",
    "f3 = feature_extractor.FE('mean', window=(1,0))\n",
    "\n",
    "# definition of the physiological signals to be extracted\n",
    "eda_ = physio.EDA(f2)\n",
    "hr_ = physio.HR(f2)\n",
    "pupil_ = behavior.PUPIL(f3)\n",
    "\n",
    "# definition of the emotional annotation to be extracted\n",
    "#va = annotation.VA('valence', f3)\n",
    "#ar = annotation.VA('arousal', f3)\n",
    "# extraction of the desired data from the dataset\n",
    "d = datasets.FEAR(signals={hr_,pupil_,eda_}, subjects={'45'})\n",
    "\n",
    "for s in d.signals:\n",
    "    # preprocess ...\n",
    "    if s.name =='EDA':\n",
    "        s.preprocess(show=show,new_fps=500)\n",
    "        s.feature_ext.extract_feat(s,show=show)\n",
    "    else:\n",
    "        s.feature_ext.extract_feat_without_preprocess(s, show=show)\n",
    "\n",
    "    #add feature extraction for eda before preprocessing\n",
    "\n",
    "    # ... and extract features from each signal type\n",
    "\n",
    "\n",
    "for sig in d.signals:\n",
    "    if sig.name=='EDA':\n",
    "        eda_data = sig.features\n",
    "    if sig.name=='HR':\n",
    "        hr_data = sig.features\n",
    "    if sig.name=='PUPIL':\n",
    "        pupil_data = sig.features"
   ],
   "metadata": {
    "collapsed": false
   }
  },
  {
   "cell_type": "code",
   "execution_count": null,
   "outputs": [],
   "source": [
    "'''for sig in d.signals:\n",
    "    print (sig.name)\n",
    "    print (sig.features)'''"
   ],
   "metadata": {
    "collapsed": false
   }
  },
  {
   "cell_type": "code",
   "execution_count": null,
   "outputs": [],
   "source": [
    "list(d.signals)[0].name\n",
    "d.signals"
   ],
   "metadata": {
    "collapsed": false
   }
  },
  {
   "cell_type": "code",
   "execution_count": null,
   "outputs": [],
   "source": [
    "np.array(hr_data)"
   ],
   "metadata": {
    "collapsed": false
   }
  },
  {
   "cell_type": "code",
   "execution_count": null,
   "outputs": [],
   "source": [
    "TRIAL = 160"
   ],
   "metadata": {
    "collapsed": false
   }
  },
  {
   "cell_type": "code",
   "execution_count": null,
   "outputs": [],
   "source": [
    "hr =np.array(hr_data)\n",
    "hr = hr.reshape((TRIAL, int(hr.shape[0]/TRIAL*hr.shape[1])))\n",
    "hr"
   ],
   "metadata": {
    "collapsed": false
   }
  },
  {
   "cell_type": "code",
   "execution_count": null,
   "outputs": [],
   "source": [
    "pupil = np.array(pupil_data)\n",
    "pupil = pupil.reshape((TRIAL, int(pupil.shape[0]/TRIAL*pupil.shape[1])))\n",
    "pupil"
   ],
   "metadata": {
    "collapsed": false
   }
  },
  {
   "cell_type": "code",
   "execution_count": null,
   "outputs": [],
   "source": [
    "eda = np.array(eda_data)\n",
    "eda = eda.reshape((TRIAL,int(eda.shape[0]/TRIAL*eda.shape[1])))\n",
    "eda"
   ],
   "metadata": {
    "collapsed": false
   }
  },
  {
   "cell_type": "markdown",
   "source": [
    "## end test"
   ],
   "metadata": {
    "collapsed": false
   }
  },
  {
   "cell_type": "markdown",
   "source": [
    "prendo un'implementazione di sppca e la applico al nostro caso"
   ],
   "metadata": {
    "collapsed": false
   }
  },
  {
   "cell_type": "markdown",
   "source": [
    "different types of observable data\n",
    "\n",
    "1) gaze\n",
    "2) fisio\n",
    "    2.1) heart rate variability\n",
    "    2.2) eda phasic value\n",
    "3) social anxiety\n",
    "4) aspettativa del dolore"
   ],
   "metadata": {
    "collapsed": false
   }
  },
  {
   "cell_type": "code",
   "execution_count": null,
   "outputs": [],
   "source": [
    "\n",
    "'''social_anx = data['social anxiety'][:,np.newaxis]\n",
    "pain_exp = data['pain expectation'][:,np.newaxis]'''\n"
   ],
   "metadata": {
    "collapsed": false
   }
  },
  {
   "cell_type": "code",
   "execution_count": null,
   "outputs": [],
   "source": [
    "print(pupil.shape)\n",
    "print(hr.shape)\n",
    "print(eda.shape)"
   ],
   "metadata": {
    "collapsed": false
   }
  },
  {
   "cell_type": "code",
   "execution_count": null,
   "outputs": [],
   "source": [
    "N_pupil = pupil.shape[0]\n",
    "D_pupil = pupil.shape[1]\n",
    "\n",
    "N_hr = hr.shape[0]\n",
    "D_hr = hr.shape[1]\n",
    "\n",
    "N_eda = eda.shape[0]\n",
    "D_eda = eda.shape[1]\n",
    "K = 1\n",
    "\n",
    "print(N_pupil,D_pupil)\n",
    "print(N_hr,D_hr)\n",
    "print(N_eda,D_eda)\n",
    "print(N_e, D_e)"
   ],
   "metadata": {
    "collapsed": false
   }
  },
  {
   "cell_type": "code",
   "execution_count": null,
   "metadata": {
    "collapsed": true
   },
   "outputs": [],
   "source": [
    "with pm.Model() as sPPCA:\n",
    "    #dati osservabili\n",
    "    hr_data = pm.MutableData(\"hr_data\", hr.T)\n",
    "    pupil_data = pm.MutableData(\"pupil_data\", pupil.T)\n",
    "    eda_data = pm.MutableData(\"eda_data\", eda.T)\n",
    "\n",
    "    e_data = pm.ConstantData(\"e_data\", e_labels.T)\n",
    "\n",
    "    #matrici pesi\n",
    "    Whr = pm.Normal('Whr', mu=at.zeros([D_hr, K]), sigma=2.0 * at.ones([D_hr, K]), shape=[D_hr, K])\n",
    "    Wpupil = pm.Normal('Wpupil', mu=at.zeros([D_pupil, K]), sigma=2.0 * at.ones([D_pupil, K]), shape=[D_pupil, K])\n",
    "\n",
    "    Weda = pm.Normal('Weda', mu=at.zeros([D_eda, K]), sigma=2.0 * at.ones([D_eda, K]), shape=[D_eda, K])\n",
    "\n",
    "    #weight matrix for pain expectation.\n",
    "    #check mu,sigma,shape\n",
    "    We = pm.Normal('W_e', mu=at.zeros([D_e, K]), sigma=2.0 * at.ones([D_e,K]), shape=[D_e, K])\n",
    "\n",
    "    #latent space\n",
    "    c = pm.Normal('c', mu=at.zeros([N_hr,K]), sigma=at.ones([N_hr,K]), shape=[N_hr,K])\n",
    "\n",
    "    # dati dell'hrv interpretati come una gaussiana\n",
    "    x_hr = pm.Normal('x_hr', mu=Whr.dot(c.T), sigma=at.ones([D_hr,N_hr]) ,shape=[D_hr, N_hr], observed=hr_data)\n",
    "    # dati della dilatazione pupille interpretati come una gaussiana\n",
    "    x_pupil = pm.Normal('x_pupil', mu=Wpupil.dot(c.T), sigma=at.ones([D_pupil, N_pupil]), shape=[D_pupil, N_pupil], observed=pupil_data)\n",
    "    #eda\n",
    "    x_eda = pm.Normal('x_eda',mu=Weda.dot(c.T),sigma= at.ones([D_eda,N_pupil]), shape=[D_eda,N_eda], observed=eda_data)\n",
    "\n",
    "    # pain expectation. ciò che dovremmo inferire dato c\n",
    "    # due strade: binary o multiclass (1-4)\n",
    "    # p = probability of success?\n",
    "    x_e = pm.Bernoulli('x_e' , p=pm.math.sigmoid(We.dot(c.T)) , shape =[D_e, N_e], observed=e_data)\n",
    "\n",
    "    #x_hr = pm.Bernoulli('x_hr', p=pm.math.sigmoid(Whr.dot(c.T)), shape=[D_hr, N_hr], observed=hr_data)\n",
    "    #x_eda = pm.Bernoulli('x_eda', p=pm.math.sigmoid(Weda.dot(c.T)), shape=[D_eda, N_eda], observed=eda_data)"
   ]
  },
  {
   "cell_type": "code",
   "execution_count": null,
   "outputs": [],
   "source": [
    "gv = pm.model_to_graphviz(sPPCA)\n",
    "gv.view()"
   ],
   "metadata": {
    "collapsed": false
   }
  },
  {
   "cell_type": "code",
   "execution_count": null,
   "outputs": [],
   "source": [
    "sPPCA.free_RVs"
   ],
   "metadata": {
    "collapsed": false
   }
  },
  {
   "cell_type": "code",
   "execution_count": 27,
   "outputs": [
    {
     "ename": "KeyboardInterrupt",
     "evalue": "",
     "output_type": "error",
     "traceback": [
      "\u001B[0;31m---------------------------------------------------------------------------\u001B[0m",
      "\u001B[0;31mAttributeError\u001B[0m                            Traceback (most recent call last)",
      "File \u001B[0;32m~/matteo/matteo/unimi/tesi_master/code/my_env/lib/python3.8/site-packages/aesara/tensor/var.py:985\u001B[0m, in \u001B[0;36mTensorConstantSignature.no_nan\u001B[0;34m(self)\u001B[0m\n\u001B[1;32m    984\u001B[0m \u001B[38;5;28;01mtry\u001B[39;00m:\n\u001B[0;32m--> 985\u001B[0m     \u001B[38;5;28;01mreturn\u001B[39;00m \u001B[38;5;28;43mself\u001B[39;49m\u001B[38;5;241;43m.\u001B[39;49m\u001B[43m_no_nan\u001B[49m\n\u001B[1;32m    986\u001B[0m \u001B[38;5;28;01mexcept\u001B[39;00m \u001B[38;5;167;01mAttributeError\u001B[39;00m:\n",
      "\u001B[0;31mAttributeError\u001B[0m: 'TensorConstantSignature' object has no attribute '_no_nan'",
      "\nDuring handling of the above exception, another exception occurred:\n",
      "\u001B[0;31mKeyboardInterrupt\u001B[0m                         Traceback (most recent call last)",
      "Cell \u001B[0;32mIn [27], line 2\u001B[0m\n\u001B[1;32m      1\u001B[0m \u001B[38;5;28;01mwith\u001B[39;00m sPPCA:\n\u001B[0;32m----> 2\u001B[0m     trace \u001B[38;5;241m=\u001B[39m pm\u001B[38;5;241m.\u001B[39msample(\u001B[38;5;241m1000\u001B[39m,init\u001B[38;5;241m=\u001B[39m\u001B[38;5;124m'\u001B[39m\u001B[38;5;124madvi+adapt_diag\u001B[39m\u001B[38;5;124m'\u001B[39m,chains\u001B[38;5;241m=\u001B[39m\u001B[38;5;241m1\u001B[39m,progressbar\u001B[38;5;241m=\u001B[39m\u001B[38;5;28;01mTrue\u001B[39;00m,target_accept\u001B[38;5;241m=\u001B[39m\u001B[38;5;241m0.95\u001B[39m)\n",
      "File \u001B[0;32m~/matteo/matteo/unimi/tesi_master/code/my_env/lib/python3.8/site-packages/pymc/sampling.py:536\u001B[0m, in \u001B[0;36msample\u001B[0;34m(draws, step, init, n_init, initvals, trace, chains, cores, tune, progressbar, model, random_seed, discard_tuned_samples, compute_convergence_checks, callback, jitter_max_retries, return_inferencedata, idata_kwargs, mp_ctx, **kwargs)\u001B[0m\n\u001B[1;32m    534\u001B[0m         [kwargs\u001B[38;5;241m.\u001B[39msetdefault(k, v) \u001B[38;5;28;01mfor\u001B[39;00m k, v \u001B[38;5;129;01min\u001B[39;00m nuts_kwargs\u001B[38;5;241m.\u001B[39mitems()]\n\u001B[1;32m    535\u001B[0m     _log\u001B[38;5;241m.\u001B[39minfo(\u001B[38;5;124m\"\u001B[39m\u001B[38;5;124mAuto-assigning NUTS sampler...\u001B[39m\u001B[38;5;124m\"\u001B[39m)\n\u001B[0;32m--> 536\u001B[0m     initial_points, step \u001B[38;5;241m=\u001B[39m \u001B[43minit_nuts\u001B[49m\u001B[43m(\u001B[49m\n\u001B[1;32m    537\u001B[0m \u001B[43m        \u001B[49m\u001B[43minit\u001B[49m\u001B[38;5;241;43m=\u001B[39;49m\u001B[43minit\u001B[49m\u001B[43m,\u001B[49m\n\u001B[1;32m    538\u001B[0m \u001B[43m        \u001B[49m\u001B[43mchains\u001B[49m\u001B[38;5;241;43m=\u001B[39;49m\u001B[43mchains\u001B[49m\u001B[43m,\u001B[49m\n\u001B[1;32m    539\u001B[0m \u001B[43m        \u001B[49m\u001B[43mn_init\u001B[49m\u001B[38;5;241;43m=\u001B[39;49m\u001B[43mn_init\u001B[49m\u001B[43m,\u001B[49m\n\u001B[1;32m    540\u001B[0m \u001B[43m        \u001B[49m\u001B[43mmodel\u001B[49m\u001B[38;5;241;43m=\u001B[39;49m\u001B[43mmodel\u001B[49m\u001B[43m,\u001B[49m\n\u001B[1;32m    541\u001B[0m \u001B[43m        \u001B[49m\u001B[43mrandom_seed\u001B[49m\u001B[38;5;241;43m=\u001B[39;49m\u001B[43mrandom_seed_list\u001B[49m\u001B[43m,\u001B[49m\n\u001B[1;32m    542\u001B[0m \u001B[43m        \u001B[49m\u001B[43mprogressbar\u001B[49m\u001B[38;5;241;43m=\u001B[39;49m\u001B[43mprogressbar\u001B[49m\u001B[43m,\u001B[49m\n\u001B[1;32m    543\u001B[0m \u001B[43m        \u001B[49m\u001B[43mjitter_max_retries\u001B[49m\u001B[38;5;241;43m=\u001B[39;49m\u001B[43mjitter_max_retries\u001B[49m\u001B[43m,\u001B[49m\n\u001B[1;32m    544\u001B[0m \u001B[43m        \u001B[49m\u001B[43mtune\u001B[49m\u001B[38;5;241;43m=\u001B[39;49m\u001B[43mtune\u001B[49m\u001B[43m,\u001B[49m\n\u001B[1;32m    545\u001B[0m \u001B[43m        \u001B[49m\u001B[43minitvals\u001B[49m\u001B[38;5;241;43m=\u001B[39;49m\u001B[43minitvals\u001B[49m\u001B[43m,\u001B[49m\n\u001B[1;32m    546\u001B[0m \u001B[43m        \u001B[49m\u001B[38;5;241;43m*\u001B[39;49m\u001B[38;5;241;43m*\u001B[39;49m\u001B[43mkwargs\u001B[49m\u001B[43m,\u001B[49m\n\u001B[1;32m    547\u001B[0m \u001B[43m    \u001B[49m\u001B[43m)\u001B[49m\n\u001B[1;32m    549\u001B[0m \u001B[38;5;28;01mif\u001B[39;00m initial_points \u001B[38;5;129;01mis\u001B[39;00m \u001B[38;5;28;01mNone\u001B[39;00m:\n\u001B[1;32m    550\u001B[0m     \u001B[38;5;66;03m# Time to draw/evaluate numeric start points for each chain.\u001B[39;00m\n\u001B[1;32m    551\u001B[0m     ipfns \u001B[38;5;241m=\u001B[39m make_initial_point_fns_per_chain(\n\u001B[1;32m    552\u001B[0m         model\u001B[38;5;241m=\u001B[39mmodel,\n\u001B[1;32m    553\u001B[0m         overrides\u001B[38;5;241m=\u001B[39minitvals,\n\u001B[1;32m    554\u001B[0m         jitter_rvs\u001B[38;5;241m=\u001B[39mfilter_rvs_to_jitter(step),\n\u001B[1;32m    555\u001B[0m         chains\u001B[38;5;241m=\u001B[39mchains,\n\u001B[1;32m    556\u001B[0m     )\n",
      "File \u001B[0;32m~/matteo/matteo/unimi/tesi_master/code/my_env/lib/python3.8/site-packages/pymc/sampling.py:2640\u001B[0m, in \u001B[0;36minit_nuts\u001B[0;34m(init, chains, n_init, model, random_seed, progressbar, jitter_max_retries, tune, initvals, **kwargs)\u001B[0m\n\u001B[1;32m   2637\u001B[0m \u001B[38;5;28;01melse\u001B[39;00m:\n\u001B[1;32m   2638\u001B[0m     \u001B[38;5;28;01mraise\u001B[39;00m \u001B[38;5;167;01mValueError\u001B[39;00m(\u001B[38;5;124mf\u001B[39m\u001B[38;5;124m\"\u001B[39m\u001B[38;5;124mUnknown initializer: \u001B[39m\u001B[38;5;132;01m{\u001B[39;00minit\u001B[38;5;132;01m}\u001B[39;00m\u001B[38;5;124m.\u001B[39m\u001B[38;5;124m\"\u001B[39m)\n\u001B[0;32m-> 2640\u001B[0m step \u001B[38;5;241m=\u001B[39m \u001B[43mpm\u001B[49m\u001B[38;5;241;43m.\u001B[39;49m\u001B[43mNUTS\u001B[49m\u001B[43m(\u001B[49m\u001B[43mpotential\u001B[49m\u001B[38;5;241;43m=\u001B[39;49m\u001B[43mpotential\u001B[49m\u001B[43m,\u001B[49m\u001B[43m \u001B[49m\u001B[43mmodel\u001B[49m\u001B[38;5;241;43m=\u001B[39;49m\u001B[43mmodel\u001B[49m\u001B[43m,\u001B[49m\u001B[43m \u001B[49m\u001B[38;5;241;43m*\u001B[39;49m\u001B[38;5;241;43m*\u001B[39;49m\u001B[43mkwargs\u001B[49m\u001B[43m)\u001B[49m\n\u001B[1;32m   2642\u001B[0m \u001B[38;5;66;03m# Filter deterministics from initial_points\u001B[39;00m\n\u001B[1;32m   2643\u001B[0m value_var_names \u001B[38;5;241m=\u001B[39m [var\u001B[38;5;241m.\u001B[39mname \u001B[38;5;28;01mfor\u001B[39;00m var \u001B[38;5;129;01min\u001B[39;00m model\u001B[38;5;241m.\u001B[39mvalue_vars]\n",
      "File \u001B[0;32m~/matteo/matteo/unimi/tesi_master/code/my_env/lib/python3.8/site-packages/pymc/step_methods/hmc/nuts.py:178\u001B[0m, in \u001B[0;36mNUTS.__init__\u001B[0;34m(self, vars, max_treedepth, early_max_treedepth, **kwargs)\u001B[0m\n\u001B[1;32m    120\u001B[0m \u001B[38;5;28;01mdef\u001B[39;00m \u001B[38;5;21m__init__\u001B[39m(\u001B[38;5;28mself\u001B[39m, \u001B[38;5;28mvars\u001B[39m\u001B[38;5;241m=\u001B[39m\u001B[38;5;28;01mNone\u001B[39;00m, max_treedepth\u001B[38;5;241m=\u001B[39m\u001B[38;5;241m10\u001B[39m, early_max_treedepth\u001B[38;5;241m=\u001B[39m\u001B[38;5;241m8\u001B[39m, \u001B[38;5;241m*\u001B[39m\u001B[38;5;241m*\u001B[39mkwargs):\n\u001B[1;32m    121\u001B[0m     \u001B[38;5;124mr\u001B[39m\u001B[38;5;124;03m\"\"\"Set up the No-U-Turn sampler.\u001B[39;00m\n\u001B[1;32m    122\u001B[0m \n\u001B[1;32m    123\u001B[0m \u001B[38;5;124;03m    Parameters\u001B[39;00m\n\u001B[0;32m   (...)\u001B[0m\n\u001B[1;32m    176\u001B[0m \u001B[38;5;124;03m    `pm.sample` to the desired number of tuning steps.\u001B[39;00m\n\u001B[1;32m    177\u001B[0m \u001B[38;5;124;03m    \"\"\"\u001B[39;00m\n\u001B[0;32m--> 178\u001B[0m     \u001B[38;5;28;43msuper\u001B[39;49m\u001B[43m(\u001B[49m\u001B[43m)\u001B[49m\u001B[38;5;241;43m.\u001B[39;49m\u001B[38;5;21;43m__init__\u001B[39;49m\u001B[43m(\u001B[49m\u001B[38;5;28;43mvars\u001B[39;49m\u001B[43m,\u001B[49m\u001B[43m \u001B[49m\u001B[38;5;241;43m*\u001B[39;49m\u001B[38;5;241;43m*\u001B[39;49m\u001B[43mkwargs\u001B[49m\u001B[43m)\u001B[49m\n\u001B[1;32m    180\u001B[0m     \u001B[38;5;28mself\u001B[39m\u001B[38;5;241m.\u001B[39mmax_treedepth \u001B[38;5;241m=\u001B[39m max_treedepth\n\u001B[1;32m    181\u001B[0m     \u001B[38;5;28mself\u001B[39m\u001B[38;5;241m.\u001B[39mearly_max_treedepth \u001B[38;5;241m=\u001B[39m early_max_treedepth\n",
      "File \u001B[0;32m~/matteo/matteo/unimi/tesi_master/code/my_env/lib/python3.8/site-packages/pymc/step_methods/hmc/base_hmc.py:95\u001B[0m, in \u001B[0;36mBaseHMC.__init__\u001B[0;34m(self, vars, scaling, step_scale, is_cov, model, blocked, potential, dtype, Emax, target_accept, gamma, k, t0, adapt_step_size, step_rand, **aesara_kwargs)\u001B[0m\n\u001B[1;32m     92\u001B[0m \u001B[38;5;28;01melse\u001B[39;00m:\n\u001B[1;32m     93\u001B[0m     \u001B[38;5;28mvars\u001B[39m \u001B[38;5;241m=\u001B[39m [\u001B[38;5;28mself\u001B[39m\u001B[38;5;241m.\u001B[39m_model\u001B[38;5;241m.\u001B[39mrvs_to_values\u001B[38;5;241m.\u001B[39mget(var, var) \u001B[38;5;28;01mfor\u001B[39;00m var \u001B[38;5;129;01min\u001B[39;00m \u001B[38;5;28mvars\u001B[39m]\n\u001B[0;32m---> 95\u001B[0m \u001B[38;5;28;43msuper\u001B[39;49m\u001B[43m(\u001B[49m\u001B[43m)\u001B[49m\u001B[38;5;241;43m.\u001B[39;49m\u001B[38;5;21;43m__init__\u001B[39;49m\u001B[43m(\u001B[49m\u001B[38;5;28;43mvars\u001B[39;49m\u001B[43m,\u001B[49m\u001B[43m \u001B[49m\u001B[43mblocked\u001B[49m\u001B[38;5;241;43m=\u001B[39;49m\u001B[43mblocked\u001B[49m\u001B[43m,\u001B[49m\u001B[43m \u001B[49m\u001B[43mmodel\u001B[49m\u001B[38;5;241;43m=\u001B[39;49m\u001B[38;5;28;43mself\u001B[39;49m\u001B[38;5;241;43m.\u001B[39;49m\u001B[43m_model\u001B[49m\u001B[43m,\u001B[49m\u001B[43m \u001B[49m\u001B[43mdtype\u001B[49m\u001B[38;5;241;43m=\u001B[39;49m\u001B[43mdtype\u001B[49m\u001B[43m,\u001B[49m\u001B[43m \u001B[49m\u001B[38;5;241;43m*\u001B[39;49m\u001B[38;5;241;43m*\u001B[39;49m\u001B[43maesara_kwargs\u001B[49m\u001B[43m)\u001B[49m\n\u001B[1;32m     97\u001B[0m \u001B[38;5;28mself\u001B[39m\u001B[38;5;241m.\u001B[39madapt_step_size \u001B[38;5;241m=\u001B[39m adapt_step_size\n\u001B[1;32m     98\u001B[0m \u001B[38;5;28mself\u001B[39m\u001B[38;5;241m.\u001B[39mEmax \u001B[38;5;241m=\u001B[39m Emax\n",
      "File \u001B[0;32m~/matteo/matteo/unimi/tesi_master/code/my_env/lib/python3.8/site-packages/pymc/step_methods/arraystep.py:276\u001B[0m, in \u001B[0;36mGradientSharedStep.__init__\u001B[0;34m(self, vars, model, blocked, dtype, logp_dlogp_func, **aesara_kwargs)\u001B[0m\n\u001B[1;32m    273\u001B[0m model \u001B[38;5;241m=\u001B[39m modelcontext(model)\n\u001B[1;32m    275\u001B[0m \u001B[38;5;28;01mif\u001B[39;00m logp_dlogp_func \u001B[38;5;129;01mis\u001B[39;00m \u001B[38;5;28;01mNone\u001B[39;00m:\n\u001B[0;32m--> 276\u001B[0m     func \u001B[38;5;241m=\u001B[39m \u001B[43mmodel\u001B[49m\u001B[38;5;241;43m.\u001B[39;49m\u001B[43mlogp_dlogp_function\u001B[49m\u001B[43m(\u001B[49m\u001B[38;5;28;43mvars\u001B[39;49m\u001B[43m,\u001B[49m\u001B[43m \u001B[49m\u001B[43mdtype\u001B[49m\u001B[38;5;241;43m=\u001B[39;49m\u001B[43mdtype\u001B[49m\u001B[43m,\u001B[49m\u001B[43m \u001B[49m\u001B[38;5;241;43m*\u001B[39;49m\u001B[38;5;241;43m*\u001B[39;49m\u001B[43maesara_kwargs\u001B[49m\u001B[43m)\u001B[49m\n\u001B[1;32m    277\u001B[0m \u001B[38;5;28;01melse\u001B[39;00m:\n\u001B[1;32m    278\u001B[0m     func \u001B[38;5;241m=\u001B[39m logp_dlogp_func\n",
      "File \u001B[0;32m~/matteo/matteo/unimi/tesi_master/code/my_env/lib/python3.8/site-packages/pymc/model.py:642\u001B[0m, in \u001B[0;36mModel.logp_dlogp_function\u001B[0;34m(self, grad_vars, tempered, **kwargs)\u001B[0m\n\u001B[1;32m    638\u001B[0m ip \u001B[38;5;241m=\u001B[39m \u001B[38;5;28mself\u001B[39m\u001B[38;5;241m.\u001B[39minitial_point(\u001B[38;5;241m0\u001B[39m)\n\u001B[1;32m    639\u001B[0m extra_vars_and_values \u001B[38;5;241m=\u001B[39m {\n\u001B[1;32m    640\u001B[0m     var: ip[var\u001B[38;5;241m.\u001B[39mname] \u001B[38;5;28;01mfor\u001B[39;00m var \u001B[38;5;129;01min\u001B[39;00m extra_vars \u001B[38;5;28;01mif\u001B[39;00m var \u001B[38;5;129;01min\u001B[39;00m input_vars \u001B[38;5;129;01mand\u001B[39;00m var \u001B[38;5;129;01mnot\u001B[39;00m \u001B[38;5;129;01min\u001B[39;00m grad_vars\n\u001B[1;32m    641\u001B[0m }\n\u001B[0;32m--> 642\u001B[0m \u001B[38;5;28;01mreturn\u001B[39;00m \u001B[43mValueGradFunction\u001B[49m\u001B[43m(\u001B[49m\u001B[43mcosts\u001B[49m\u001B[43m,\u001B[49m\u001B[43m \u001B[49m\u001B[43mgrad_vars\u001B[49m\u001B[43m,\u001B[49m\u001B[43m \u001B[49m\u001B[43mextra_vars_and_values\u001B[49m\u001B[43m,\u001B[49m\u001B[43m \u001B[49m\u001B[38;5;241;43m*\u001B[39;49m\u001B[38;5;241;43m*\u001B[39;49m\u001B[43mkwargs\u001B[49m\u001B[43m)\u001B[49m\n",
      "File \u001B[0;32m~/matteo/matteo/unimi/tesi_master/code/my_env/lib/python3.8/site-packages/pymc/model.py:382\u001B[0m, in \u001B[0;36mValueGradFunction.__init__\u001B[0;34m(self, costs, grad_vars, extra_vars_and_values, dtype, casting, compute_grads, **kwargs)\u001B[0m\n\u001B[1;32m    378\u001B[0m     outputs \u001B[38;5;241m=\u001B[39m [cost]\n\u001B[1;32m    380\u001B[0m inputs \u001B[38;5;241m=\u001B[39m grad_vars\n\u001B[0;32m--> 382\u001B[0m \u001B[38;5;28mself\u001B[39m\u001B[38;5;241m.\u001B[39m_aesara_function \u001B[38;5;241m=\u001B[39m \u001B[43mcompile_pymc\u001B[49m\u001B[43m(\u001B[49m\u001B[43minputs\u001B[49m\u001B[43m,\u001B[49m\u001B[43m \u001B[49m\u001B[43moutputs\u001B[49m\u001B[43m,\u001B[49m\u001B[43m \u001B[49m\u001B[43mgivens\u001B[49m\u001B[38;5;241;43m=\u001B[39;49m\u001B[43mgivens\u001B[49m\u001B[43m,\u001B[49m\u001B[43m \u001B[49m\u001B[38;5;241;43m*\u001B[39;49m\u001B[38;5;241;43m*\u001B[39;49m\u001B[43mkwargs\u001B[49m\u001B[43m)\u001B[49m\n",
      "File \u001B[0;32m~/matteo/matteo/unimi/tesi_master/code/my_env/lib/python3.8/site-packages/pymc/aesaraf.py:970\u001B[0m, in \u001B[0;36mcompile_pymc\u001B[0;34m(inputs, outputs, random_seed, mode, **kwargs)\u001B[0m\n\u001B[1;32m    968\u001B[0m opt_qry \u001B[38;5;241m=\u001B[39m mode\u001B[38;5;241m.\u001B[39mprovided_optimizer\u001B[38;5;241m.\u001B[39mincluding(\u001B[38;5;124m\"\u001B[39m\u001B[38;5;124mrandom_make_inplace\u001B[39m\u001B[38;5;124m\"\u001B[39m, check_parameter_opt)\n\u001B[1;32m    969\u001B[0m mode \u001B[38;5;241m=\u001B[39m Mode(linker\u001B[38;5;241m=\u001B[39mmode\u001B[38;5;241m.\u001B[39mlinker, optimizer\u001B[38;5;241m=\u001B[39mopt_qry)\n\u001B[0;32m--> 970\u001B[0m aesara_function \u001B[38;5;241m=\u001B[39m \u001B[43maesara\u001B[49m\u001B[38;5;241;43m.\u001B[39;49m\u001B[43mfunction\u001B[49m\u001B[43m(\u001B[49m\n\u001B[1;32m    971\u001B[0m \u001B[43m    \u001B[49m\u001B[43minputs\u001B[49m\u001B[43m,\u001B[49m\n\u001B[1;32m    972\u001B[0m \u001B[43m    \u001B[49m\u001B[43moutputs\u001B[49m\u001B[43m,\u001B[49m\n\u001B[1;32m    973\u001B[0m \u001B[43m    \u001B[49m\u001B[43mupdates\u001B[49m\u001B[38;5;241;43m=\u001B[39;49m\u001B[43m{\u001B[49m\u001B[38;5;241;43m*\u001B[39;49m\u001B[38;5;241;43m*\u001B[39;49m\u001B[43mrng_updates\u001B[49m\u001B[43m,\u001B[49m\u001B[43m \u001B[49m\u001B[38;5;241;43m*\u001B[39;49m\u001B[38;5;241;43m*\u001B[39;49m\u001B[43mkwargs\u001B[49m\u001B[38;5;241;43m.\u001B[39;49m\u001B[43mpop\u001B[49m\u001B[43m(\u001B[49m\u001B[38;5;124;43m\"\u001B[39;49m\u001B[38;5;124;43mupdates\u001B[39;49m\u001B[38;5;124;43m\"\u001B[39;49m\u001B[43m,\u001B[49m\u001B[43m \u001B[49m\u001B[43m{\u001B[49m\u001B[43m}\u001B[49m\u001B[43m)\u001B[49m\u001B[43m}\u001B[49m\u001B[43m,\u001B[49m\n\u001B[1;32m    974\u001B[0m \u001B[43m    \u001B[49m\u001B[43mmode\u001B[49m\u001B[38;5;241;43m=\u001B[39;49m\u001B[43mmode\u001B[49m\u001B[43m,\u001B[49m\n\u001B[1;32m    975\u001B[0m \u001B[43m    \u001B[49m\u001B[38;5;241;43m*\u001B[39;49m\u001B[38;5;241;43m*\u001B[39;49m\u001B[43mkwargs\u001B[49m\u001B[43m,\u001B[49m\n\u001B[1;32m    976\u001B[0m \u001B[43m\u001B[49m\u001B[43m)\u001B[49m\n\u001B[1;32m    977\u001B[0m \u001B[38;5;28;01mreturn\u001B[39;00m aesara_function\n",
      "File \u001B[0;32m~/matteo/matteo/unimi/tesi_master/code/my_env/lib/python3.8/site-packages/aesara/compile/function/__init__.py:317\u001B[0m, in \u001B[0;36mfunction\u001B[0;34m(inputs, outputs, mode, updates, givens, no_default_updates, accept_inplace, name, rebuild_strict, allow_input_downcast, profile, on_unused_input)\u001B[0m\n\u001B[1;32m    311\u001B[0m     fn \u001B[38;5;241m=\u001B[39m orig_function(\n\u001B[1;32m    312\u001B[0m         inputs, outputs, mode\u001B[38;5;241m=\u001B[39mmode, accept_inplace\u001B[38;5;241m=\u001B[39maccept_inplace, name\u001B[38;5;241m=\u001B[39mname\n\u001B[1;32m    313\u001B[0m     )\n\u001B[1;32m    314\u001B[0m \u001B[38;5;28;01melse\u001B[39;00m:\n\u001B[1;32m    315\u001B[0m     \u001B[38;5;66;03m# note: pfunc will also call orig_function -- orig_function is\u001B[39;00m\n\u001B[1;32m    316\u001B[0m     \u001B[38;5;66;03m#      a choke point that all compilation must pass through\u001B[39;00m\n\u001B[0;32m--> 317\u001B[0m     fn \u001B[38;5;241m=\u001B[39m \u001B[43mpfunc\u001B[49m\u001B[43m(\u001B[49m\n\u001B[1;32m    318\u001B[0m \u001B[43m        \u001B[49m\u001B[43mparams\u001B[49m\u001B[38;5;241;43m=\u001B[39;49m\u001B[43minputs\u001B[49m\u001B[43m,\u001B[49m\n\u001B[1;32m    319\u001B[0m \u001B[43m        \u001B[49m\u001B[43moutputs\u001B[49m\u001B[38;5;241;43m=\u001B[39;49m\u001B[43moutputs\u001B[49m\u001B[43m,\u001B[49m\n\u001B[1;32m    320\u001B[0m \u001B[43m        \u001B[49m\u001B[43mmode\u001B[49m\u001B[38;5;241;43m=\u001B[39;49m\u001B[43mmode\u001B[49m\u001B[43m,\u001B[49m\n\u001B[1;32m    321\u001B[0m \u001B[43m        \u001B[49m\u001B[43mupdates\u001B[49m\u001B[38;5;241;43m=\u001B[39;49m\u001B[43mupdates\u001B[49m\u001B[43m,\u001B[49m\n\u001B[1;32m    322\u001B[0m \u001B[43m        \u001B[49m\u001B[43mgivens\u001B[49m\u001B[38;5;241;43m=\u001B[39;49m\u001B[43mgivens\u001B[49m\u001B[43m,\u001B[49m\n\u001B[1;32m    323\u001B[0m \u001B[43m        \u001B[49m\u001B[43mno_default_updates\u001B[49m\u001B[38;5;241;43m=\u001B[39;49m\u001B[43mno_default_updates\u001B[49m\u001B[43m,\u001B[49m\n\u001B[1;32m    324\u001B[0m \u001B[43m        \u001B[49m\u001B[43maccept_inplace\u001B[49m\u001B[38;5;241;43m=\u001B[39;49m\u001B[43maccept_inplace\u001B[49m\u001B[43m,\u001B[49m\n\u001B[1;32m    325\u001B[0m \u001B[43m        \u001B[49m\u001B[43mname\u001B[49m\u001B[38;5;241;43m=\u001B[39;49m\u001B[43mname\u001B[49m\u001B[43m,\u001B[49m\n\u001B[1;32m    326\u001B[0m \u001B[43m        \u001B[49m\u001B[43mrebuild_strict\u001B[49m\u001B[38;5;241;43m=\u001B[39;49m\u001B[43mrebuild_strict\u001B[49m\u001B[43m,\u001B[49m\n\u001B[1;32m    327\u001B[0m \u001B[43m        \u001B[49m\u001B[43mallow_input_downcast\u001B[49m\u001B[38;5;241;43m=\u001B[39;49m\u001B[43mallow_input_downcast\u001B[49m\u001B[43m,\u001B[49m\n\u001B[1;32m    328\u001B[0m \u001B[43m        \u001B[49m\u001B[43mon_unused_input\u001B[49m\u001B[38;5;241;43m=\u001B[39;49m\u001B[43mon_unused_input\u001B[49m\u001B[43m,\u001B[49m\n\u001B[1;32m    329\u001B[0m \u001B[43m        \u001B[49m\u001B[43mprofile\u001B[49m\u001B[38;5;241;43m=\u001B[39;49m\u001B[43mprofile\u001B[49m\u001B[43m,\u001B[49m\n\u001B[1;32m    330\u001B[0m \u001B[43m        \u001B[49m\u001B[43moutput_keys\u001B[49m\u001B[38;5;241;43m=\u001B[39;49m\u001B[43moutput_keys\u001B[49m\u001B[43m,\u001B[49m\n\u001B[1;32m    331\u001B[0m \u001B[43m    \u001B[49m\u001B[43m)\u001B[49m\n\u001B[1;32m    332\u001B[0m \u001B[38;5;28;01mreturn\u001B[39;00m fn\n",
      "File \u001B[0;32m~/matteo/matteo/unimi/tesi_master/code/my_env/lib/python3.8/site-packages/aesara/compile/function/pfunc.py:371\u001B[0m, in \u001B[0;36mpfunc\u001B[0;34m(params, outputs, mode, updates, givens, no_default_updates, accept_inplace, name, rebuild_strict, allow_input_downcast, profile, on_unused_input, output_keys, fgraph)\u001B[0m\n\u001B[1;32m    357\u001B[0m     profile \u001B[38;5;241m=\u001B[39m ProfileStats(message\u001B[38;5;241m=\u001B[39mprofile)\n\u001B[1;32m    359\u001B[0m inputs, cloned_outputs \u001B[38;5;241m=\u001B[39m construct_pfunc_ins_and_outs(\n\u001B[1;32m    360\u001B[0m     params,\n\u001B[1;32m    361\u001B[0m     outputs,\n\u001B[0;32m   (...)\u001B[0m\n\u001B[1;32m    368\u001B[0m     fgraph\u001B[38;5;241m=\u001B[39mfgraph,\n\u001B[1;32m    369\u001B[0m )\n\u001B[0;32m--> 371\u001B[0m \u001B[38;5;28;01mreturn\u001B[39;00m \u001B[43morig_function\u001B[49m\u001B[43m(\u001B[49m\n\u001B[1;32m    372\u001B[0m \u001B[43m    \u001B[49m\u001B[43minputs\u001B[49m\u001B[43m,\u001B[49m\n\u001B[1;32m    373\u001B[0m \u001B[43m    \u001B[49m\u001B[43mcloned_outputs\u001B[49m\u001B[43m,\u001B[49m\n\u001B[1;32m    374\u001B[0m \u001B[43m    \u001B[49m\u001B[43mmode\u001B[49m\u001B[43m,\u001B[49m\n\u001B[1;32m    375\u001B[0m \u001B[43m    \u001B[49m\u001B[43maccept_inplace\u001B[49m\u001B[38;5;241;43m=\u001B[39;49m\u001B[43maccept_inplace\u001B[49m\u001B[43m,\u001B[49m\n\u001B[1;32m    376\u001B[0m \u001B[43m    \u001B[49m\u001B[43mname\u001B[49m\u001B[38;5;241;43m=\u001B[39;49m\u001B[43mname\u001B[49m\u001B[43m,\u001B[49m\n\u001B[1;32m    377\u001B[0m \u001B[43m    \u001B[49m\u001B[43mprofile\u001B[49m\u001B[38;5;241;43m=\u001B[39;49m\u001B[43mprofile\u001B[49m\u001B[43m,\u001B[49m\n\u001B[1;32m    378\u001B[0m \u001B[43m    \u001B[49m\u001B[43mon_unused_input\u001B[49m\u001B[38;5;241;43m=\u001B[39;49m\u001B[43mon_unused_input\u001B[49m\u001B[43m,\u001B[49m\n\u001B[1;32m    379\u001B[0m \u001B[43m    \u001B[49m\u001B[43moutput_keys\u001B[49m\u001B[38;5;241;43m=\u001B[39;49m\u001B[43moutput_keys\u001B[49m\u001B[43m,\u001B[49m\n\u001B[1;32m    380\u001B[0m \u001B[43m    \u001B[49m\u001B[43mfgraph\u001B[49m\u001B[38;5;241;43m=\u001B[39;49m\u001B[43mfgraph\u001B[49m\u001B[43m,\u001B[49m\n\u001B[1;32m    381\u001B[0m \u001B[43m\u001B[49m\u001B[43m)\u001B[49m\n",
      "File \u001B[0;32m~/matteo/matteo/unimi/tesi_master/code/my_env/lib/python3.8/site-packages/aesara/compile/function/types.py:1747\u001B[0m, in \u001B[0;36morig_function\u001B[0;34m(inputs, outputs, mode, accept_inplace, name, profile, on_unused_input, output_keys, fgraph)\u001B[0m\n\u001B[1;32m   1745\u001B[0m \u001B[38;5;28;01mtry\u001B[39;00m:\n\u001B[1;32m   1746\u001B[0m     Maker \u001B[38;5;241m=\u001B[39m \u001B[38;5;28mgetattr\u001B[39m(mode, \u001B[38;5;124m\"\u001B[39m\u001B[38;5;124mfunction_maker\u001B[39m\u001B[38;5;124m\"\u001B[39m, FunctionMaker)\n\u001B[0;32m-> 1747\u001B[0m     m \u001B[38;5;241m=\u001B[39m \u001B[43mMaker\u001B[49m\u001B[43m(\u001B[49m\n\u001B[1;32m   1748\u001B[0m \u001B[43m        \u001B[49m\u001B[43minputs\u001B[49m\u001B[43m,\u001B[49m\n\u001B[1;32m   1749\u001B[0m \u001B[43m        \u001B[49m\u001B[43moutputs\u001B[49m\u001B[43m,\u001B[49m\n\u001B[1;32m   1750\u001B[0m \u001B[43m        \u001B[49m\u001B[43mmode\u001B[49m\u001B[43m,\u001B[49m\n\u001B[1;32m   1751\u001B[0m \u001B[43m        \u001B[49m\u001B[43maccept_inplace\u001B[49m\u001B[38;5;241;43m=\u001B[39;49m\u001B[43maccept_inplace\u001B[49m\u001B[43m,\u001B[49m\n\u001B[1;32m   1752\u001B[0m \u001B[43m        \u001B[49m\u001B[43mprofile\u001B[49m\u001B[38;5;241;43m=\u001B[39;49m\u001B[43mprofile\u001B[49m\u001B[43m,\u001B[49m\n\u001B[1;32m   1753\u001B[0m \u001B[43m        \u001B[49m\u001B[43mon_unused_input\u001B[49m\u001B[38;5;241;43m=\u001B[39;49m\u001B[43mon_unused_input\u001B[49m\u001B[43m,\u001B[49m\n\u001B[1;32m   1754\u001B[0m \u001B[43m        \u001B[49m\u001B[43moutput_keys\u001B[49m\u001B[38;5;241;43m=\u001B[39;49m\u001B[43moutput_keys\u001B[49m\u001B[43m,\u001B[49m\n\u001B[1;32m   1755\u001B[0m \u001B[43m        \u001B[49m\u001B[43mname\u001B[49m\u001B[38;5;241;43m=\u001B[39;49m\u001B[43mname\u001B[49m\u001B[43m,\u001B[49m\n\u001B[1;32m   1756\u001B[0m \u001B[43m        \u001B[49m\u001B[43mfgraph\u001B[49m\u001B[38;5;241;43m=\u001B[39;49m\u001B[43mfgraph\u001B[49m\u001B[43m,\u001B[49m\n\u001B[1;32m   1757\u001B[0m \u001B[43m    \u001B[49m\u001B[43m)\u001B[49m\n\u001B[1;32m   1758\u001B[0m     \u001B[38;5;28;01mwith\u001B[39;00m config\u001B[38;5;241m.\u001B[39mchange_flags(compute_test_value\u001B[38;5;241m=\u001B[39m\u001B[38;5;124m\"\u001B[39m\u001B[38;5;124moff\u001B[39m\u001B[38;5;124m\"\u001B[39m):\n\u001B[1;32m   1759\u001B[0m         fn \u001B[38;5;241m=\u001B[39m m\u001B[38;5;241m.\u001B[39mcreate(defaults)\n",
      "File \u001B[0;32m~/matteo/matteo/unimi/tesi_master/code/my_env/lib/python3.8/site-packages/aesara/compile/function/types.py:1517\u001B[0m, in \u001B[0;36mFunctionMaker.__init__\u001B[0;34m(self, inputs, outputs, mode, accept_inplace, function_builder, profile, on_unused_input, fgraph, output_keys, name, no_fgraph_prep)\u001B[0m\n\u001B[1;32m   1514\u001B[0m rewriter, linker \u001B[38;5;241m=\u001B[39m mode\u001B[38;5;241m.\u001B[39moptimizer, copy\u001B[38;5;241m.\u001B[39mcopy(mode\u001B[38;5;241m.\u001B[39mlinker)\n\u001B[1;32m   1516\u001B[0m \u001B[38;5;28;01mif\u001B[39;00m \u001B[38;5;129;01mnot\u001B[39;00m no_fgraph_prep:\n\u001B[0;32m-> 1517\u001B[0m     \u001B[38;5;28;43mself\u001B[39;49m\u001B[38;5;241;43m.\u001B[39;49m\u001B[43mprepare_fgraph\u001B[49m\u001B[43m(\u001B[49m\n\u001B[1;32m   1518\u001B[0m \u001B[43m        \u001B[49m\u001B[43minputs\u001B[49m\u001B[43m,\u001B[49m\u001B[43m \u001B[49m\u001B[43moutputs\u001B[49m\u001B[43m,\u001B[49m\u001B[43m \u001B[49m\u001B[43mfound_updates\u001B[49m\u001B[43m,\u001B[49m\u001B[43m \u001B[49m\u001B[43mfgraph\u001B[49m\u001B[43m,\u001B[49m\u001B[43m \u001B[49m\u001B[43mrewriter\u001B[49m\u001B[43m,\u001B[49m\u001B[43m \u001B[49m\u001B[43mlinker\u001B[49m\u001B[43m,\u001B[49m\u001B[43m \u001B[49m\u001B[43mprofile\u001B[49m\n\u001B[1;32m   1519\u001B[0m \u001B[43m    \u001B[49m\u001B[43m)\u001B[49m\n\u001B[1;32m   1521\u001B[0m \u001B[38;5;28;01massert\u001B[39;00m \u001B[38;5;28mlen\u001B[39m(fgraph\u001B[38;5;241m.\u001B[39moutputs) \u001B[38;5;241m==\u001B[39m \u001B[38;5;28mlen\u001B[39m(outputs \u001B[38;5;241m+\u001B[39m found_updates)\n\u001B[1;32m   1523\u001B[0m \u001B[38;5;66;03m# The 'no_borrow' outputs are the ones for which that we can't\u001B[39;00m\n\u001B[1;32m   1524\u001B[0m \u001B[38;5;66;03m# return the internal storage pointer.\u001B[39;00m\n",
      "File \u001B[0;32m~/matteo/matteo/unimi/tesi_master/code/my_env/lib/python3.8/site-packages/aesara/compile/function/types.py:1407\u001B[0m, in \u001B[0;36mFunctionMaker.prepare_fgraph\u001B[0;34m(inputs, outputs, additional_outputs, fgraph, rewriter, linker, profile)\u001B[0m\n\u001B[1;32m   1401\u001B[0m rewrite_time \u001B[38;5;241m=\u001B[39m \u001B[38;5;28;01mNone\u001B[39;00m\n\u001B[1;32m   1403\u001B[0m \u001B[38;5;28;01mwith\u001B[39;00m config\u001B[38;5;241m.\u001B[39mchange_flags(\n\u001B[1;32m   1404\u001B[0m     compute_test_value\u001B[38;5;241m=\u001B[39mconfig\u001B[38;5;241m.\u001B[39mcompute_test_value_opt,\n\u001B[1;32m   1405\u001B[0m     traceback__limit\u001B[38;5;241m=\u001B[39mconfig\u001B[38;5;241m.\u001B[39mtraceback__compile_limit,\n\u001B[1;32m   1406\u001B[0m ):\n\u001B[0;32m-> 1407\u001B[0m     rewriter_profile \u001B[38;5;241m=\u001B[39m \u001B[43mrewriter\u001B[49m\u001B[43m(\u001B[49m\u001B[43mfgraph\u001B[49m\u001B[43m)\u001B[49m\n\u001B[1;32m   1409\u001B[0m     end_rewriter \u001B[38;5;241m=\u001B[39m time\u001B[38;5;241m.\u001B[39mtime()\n\u001B[1;32m   1410\u001B[0m     rewrite_time \u001B[38;5;241m=\u001B[39m end_rewriter \u001B[38;5;241m-\u001B[39m start_rewriter\n",
      "File \u001B[0;32m~/matteo/matteo/unimi/tesi_master/code/my_env/lib/python3.8/site-packages/aesara/graph/rewriting/basic.py:135\u001B[0m, in \u001B[0;36mGraphRewriter.__call__\u001B[0;34m(self, fgraph)\u001B[0m\n\u001B[1;32m    133\u001B[0m \u001B[38;5;28;01mdef\u001B[39;00m \u001B[38;5;21m__call__\u001B[39m(\u001B[38;5;28mself\u001B[39m, fgraph):\n\u001B[1;32m    134\u001B[0m     \u001B[38;5;124;03m\"\"\"Rewrite a `FunctionGraph`.\"\"\"\u001B[39;00m\n\u001B[0;32m--> 135\u001B[0m     \u001B[38;5;28;01mreturn\u001B[39;00m \u001B[38;5;28;43mself\u001B[39;49m\u001B[38;5;241;43m.\u001B[39;49m\u001B[43mrewrite\u001B[49m\u001B[43m(\u001B[49m\u001B[43mfgraph\u001B[49m\u001B[43m)\u001B[49m\n",
      "File \u001B[0;32m~/matteo/matteo/unimi/tesi_master/code/my_env/lib/python3.8/site-packages/aesara/graph/rewriting/basic.py:131\u001B[0m, in \u001B[0;36mGraphRewriter.rewrite\u001B[0;34m(self, fgraph, *args, **kwargs)\u001B[0m\n\u001B[1;32m    122\u001B[0m \u001B[38;5;124;03m\"\"\"\u001B[39;00m\n\u001B[1;32m    123\u001B[0m \n\u001B[1;32m    124\u001B[0m \u001B[38;5;124;03mThis is meant as a shortcut for the following::\u001B[39;00m\n\u001B[0;32m   (...)\u001B[0m\n\u001B[1;32m    128\u001B[0m \n\u001B[1;32m    129\u001B[0m \u001B[38;5;124;03m\"\"\"\u001B[39;00m\n\u001B[1;32m    130\u001B[0m \u001B[38;5;28mself\u001B[39m\u001B[38;5;241m.\u001B[39madd_requirements(fgraph)\n\u001B[0;32m--> 131\u001B[0m \u001B[38;5;28;01mreturn\u001B[39;00m \u001B[38;5;28;43mself\u001B[39;49m\u001B[38;5;241;43m.\u001B[39;49m\u001B[43mapply\u001B[49m\u001B[43m(\u001B[49m\u001B[43mfgraph\u001B[49m\u001B[43m,\u001B[49m\u001B[43m \u001B[49m\u001B[38;5;241;43m*\u001B[39;49m\u001B[43margs\u001B[49m\u001B[43m,\u001B[49m\u001B[43m \u001B[49m\u001B[38;5;241;43m*\u001B[39;49m\u001B[38;5;241;43m*\u001B[39;49m\u001B[43mkwargs\u001B[49m\u001B[43m)\u001B[49m\n",
      "File \u001B[0;32m~/matteo/matteo/unimi/tesi_master/code/my_env/lib/python3.8/site-packages/aesara/graph/rewriting/basic.py:302\u001B[0m, in \u001B[0;36mSequentialGraphRewriter.apply\u001B[0;34m(self, fgraph)\u001B[0m\n\u001B[1;32m    300\u001B[0m nb_nodes_before \u001B[38;5;241m=\u001B[39m \u001B[38;5;28mlen\u001B[39m(fgraph\u001B[38;5;241m.\u001B[39mapply_nodes)\n\u001B[1;32m    301\u001B[0m t0 \u001B[38;5;241m=\u001B[39m time\u001B[38;5;241m.\u001B[39mtime()\n\u001B[0;32m--> 302\u001B[0m sub_prof \u001B[38;5;241m=\u001B[39m \u001B[43mrewriter\u001B[49m\u001B[38;5;241;43m.\u001B[39;49m\u001B[43mapply\u001B[49m\u001B[43m(\u001B[49m\u001B[43mfgraph\u001B[49m\u001B[43m)\u001B[49m\n\u001B[1;32m    303\u001B[0m l\u001B[38;5;241m.\u001B[39mappend(\u001B[38;5;28mfloat\u001B[39m(time\u001B[38;5;241m.\u001B[39mtime() \u001B[38;5;241m-\u001B[39m t0))\n\u001B[1;32m    304\u001B[0m sub_profs\u001B[38;5;241m.\u001B[39mappend(sub_prof)\n",
      "File \u001B[0;32m~/matteo/matteo/unimi/tesi_master/code/my_env/lib/python3.8/site-packages/aesara/graph/rewriting/basic.py:2447\u001B[0m, in \u001B[0;36mEquilibriumGraphRewriter.apply\u001B[0;34m(self, fgraph, start_from)\u001B[0m\n\u001B[1;32m   2445\u001B[0m nb \u001B[38;5;241m=\u001B[39m change_tracker\u001B[38;5;241m.\u001B[39mnb_imported\n\u001B[1;32m   2446\u001B[0m t_rewrite \u001B[38;5;241m=\u001B[39m time\u001B[38;5;241m.\u001B[39mtime()\n\u001B[0;32m-> 2447\u001B[0m node_rewriter_change \u001B[38;5;241m=\u001B[39m \u001B[38;5;28;43mself\u001B[39;49m\u001B[38;5;241;43m.\u001B[39;49m\u001B[43mprocess_node\u001B[49m\u001B[43m(\u001B[49m\n\u001B[1;32m   2448\u001B[0m \u001B[43m    \u001B[49m\u001B[43mfgraph\u001B[49m\u001B[43m,\u001B[49m\u001B[43m \u001B[49m\u001B[43mnode\u001B[49m\u001B[43m,\u001B[49m\u001B[43m \u001B[49m\u001B[43mnode_rewriter\u001B[49m\n\u001B[1;32m   2449\u001B[0m \u001B[43m\u001B[49m\u001B[43m)\u001B[49m\n\u001B[1;32m   2450\u001B[0m time_rewriters[node_rewriter] \u001B[38;5;241m+\u001B[39m\u001B[38;5;241m=\u001B[39m time\u001B[38;5;241m.\u001B[39mtime() \u001B[38;5;241m-\u001B[39m t_rewrite\n\u001B[1;32m   2451\u001B[0m \u001B[38;5;28;01mif\u001B[39;00m \u001B[38;5;129;01mnot\u001B[39;00m node_rewriter_change:\n",
      "File \u001B[0;32m~/matteo/matteo/unimi/tesi_master/code/my_env/lib/python3.8/site-packages/aesara/graph/rewriting/basic.py:1979\u001B[0m, in \u001B[0;36mNodeProcessingGraphRewriter.process_node\u001B[0;34m(self, fgraph, node, node_rewriter)\u001B[0m\n\u001B[1;32m   1977\u001B[0m     \u001B[38;5;28;01mreturn\u001B[39;00m \u001B[38;5;28;01mFalse\u001B[39;00m\n\u001B[1;32m   1978\u001B[0m \u001B[38;5;28;01mtry\u001B[39;00m:\n\u001B[0;32m-> 1979\u001B[0m     \u001B[43mfgraph\u001B[49m\u001B[38;5;241;43m.\u001B[39;49m\u001B[43mreplace_all_validate_remove\u001B[49m\u001B[43m(\u001B[49m\u001B[43m  \u001B[49m\u001B[38;5;66;43;03m# type: ignore\u001B[39;49;00m\n\u001B[1;32m   1980\u001B[0m \u001B[43m        \u001B[49m\u001B[43mrepl_pairs\u001B[49m\u001B[43m,\u001B[49m\u001B[43m \u001B[49m\u001B[43mreason\u001B[49m\u001B[38;5;241;43m=\u001B[39;49m\u001B[43mnode_rewriter\u001B[49m\u001B[43m,\u001B[49m\u001B[43m \u001B[49m\u001B[43mremove\u001B[49m\u001B[38;5;241;43m=\u001B[39;49m\u001B[43mremove\u001B[49m\n\u001B[1;32m   1981\u001B[0m \u001B[43m    \u001B[49m\u001B[43m)\u001B[49m\n\u001B[1;32m   1982\u001B[0m     \u001B[38;5;28;01mreturn\u001B[39;00m \u001B[38;5;28;01mTrue\u001B[39;00m\n\u001B[1;32m   1983\u001B[0m \u001B[38;5;28;01mexcept\u001B[39;00m \u001B[38;5;167;01mException\u001B[39;00m \u001B[38;5;28;01mas\u001B[39;00m e:\n\u001B[1;32m   1984\u001B[0m     \u001B[38;5;66;03m# This means the replacements were rejected by the fgraph.\u001B[39;00m\n\u001B[1;32m   1985\u001B[0m     \u001B[38;5;66;03m#\u001B[39;00m\n\u001B[1;32m   1986\u001B[0m     \u001B[38;5;66;03m# This is not supposed to happen.  The default failure_callback\u001B[39;00m\n\u001B[1;32m   1987\u001B[0m     \u001B[38;5;66;03m# will print a traceback as a warning.\u001B[39;00m\n",
      "File \u001B[0;32m~/matteo/matteo/unimi/tesi_master/code/my_env/lib/python3.8/site-packages/aesara/graph/features.py:626\u001B[0m, in \u001B[0;36mReplaceValidate.replace_all_validate_remove\u001B[0;34m(self, fgraph, replacements, remove, reason, warn, **kwargs)\u001B[0m\n\u001B[1;32m    618\u001B[0m \u001B[38;5;28;01mdef\u001B[39;00m \u001B[38;5;21mreplace_all_validate_remove\u001B[39m(\n\u001B[1;32m    619\u001B[0m     \u001B[38;5;28mself\u001B[39m, fgraph, replacements, remove, reason\u001B[38;5;241m=\u001B[39m\u001B[38;5;28;01mNone\u001B[39;00m, warn\u001B[38;5;241m=\u001B[39m\u001B[38;5;28;01mTrue\u001B[39;00m, \u001B[38;5;241m*\u001B[39m\u001B[38;5;241m*\u001B[39mkwargs\n\u001B[1;32m    620\u001B[0m ):\n\u001B[1;32m    621\u001B[0m     \u001B[38;5;124;03m\"\"\"\u001B[39;00m\n\u001B[1;32m    622\u001B[0m \u001B[38;5;124;03m    As replace_all_validate, revert the replacement if the ops\u001B[39;00m\n\u001B[1;32m    623\u001B[0m \u001B[38;5;124;03m    in the list remove are still in the graph. Also print a warning.\u001B[39;00m\n\u001B[1;32m    624\u001B[0m \n\u001B[1;32m    625\u001B[0m \u001B[38;5;124;03m    \"\"\"\u001B[39;00m\n\u001B[0;32m--> 626\u001B[0m     chk \u001B[38;5;241m=\u001B[39m \u001B[43mfgraph\u001B[49m\u001B[38;5;241;43m.\u001B[39;49m\u001B[43mreplace_all_validate\u001B[49m\u001B[43m(\u001B[49m\u001B[43mreplacements\u001B[49m\u001B[43m,\u001B[49m\u001B[43m \u001B[49m\u001B[43mreason\u001B[49m\u001B[38;5;241;43m=\u001B[39;49m\u001B[43mreason\u001B[49m\u001B[43m,\u001B[49m\u001B[43m \u001B[49m\u001B[38;5;241;43m*\u001B[39;49m\u001B[38;5;241;43m*\u001B[39;49m\u001B[43mkwargs\u001B[49m\u001B[43m)\u001B[49m\n\u001B[1;32m    627\u001B[0m     \u001B[38;5;28mself\u001B[39m\u001B[38;5;241m.\u001B[39m_nodes_removed\u001B[38;5;241m.\u001B[39mupdate(remove)\n\u001B[1;32m    628\u001B[0m     \u001B[38;5;28;01mfor\u001B[39;00m rm \u001B[38;5;129;01min\u001B[39;00m remove:\n",
      "File \u001B[0;32m~/matteo/matteo/unimi/tesi_master/code/my_env/lib/python3.8/site-packages/aesara/graph/features.py:571\u001B[0m, in \u001B[0;36mReplaceValidate.replace_all_validate\u001B[0;34m(self, fgraph, replacements, reason, verbose, **kwargs)\u001B[0m\n\u001B[1;32m    569\u001B[0m \u001B[38;5;28;01mfor\u001B[39;00m r, new_r \u001B[38;5;129;01min\u001B[39;00m replacements:\n\u001B[1;32m    570\u001B[0m     \u001B[38;5;28;01mtry\u001B[39;00m:\n\u001B[0;32m--> 571\u001B[0m         \u001B[43mfgraph\u001B[49m\u001B[38;5;241;43m.\u001B[39;49m\u001B[43mreplace\u001B[49m\u001B[43m(\u001B[49m\u001B[43mr\u001B[49m\u001B[43m,\u001B[49m\u001B[43m \u001B[49m\u001B[43mnew_r\u001B[49m\u001B[43m,\u001B[49m\u001B[43m \u001B[49m\u001B[43mreason\u001B[49m\u001B[38;5;241;43m=\u001B[39;49m\u001B[43mreason\u001B[49m\u001B[43m,\u001B[49m\u001B[43m \u001B[49m\u001B[43mverbose\u001B[49m\u001B[38;5;241;43m=\u001B[39;49m\u001B[38;5;28;43;01mFalse\u001B[39;49;00m\u001B[43m,\u001B[49m\u001B[43m \u001B[49m\u001B[38;5;241;43m*\u001B[39;49m\u001B[38;5;241;43m*\u001B[39;49m\u001B[43mkwargs\u001B[49m\u001B[43m)\u001B[49m\n\u001B[1;32m    572\u001B[0m     \u001B[38;5;28;01mexcept\u001B[39;00m \u001B[38;5;167;01mException\u001B[39;00m \u001B[38;5;28;01mas\u001B[39;00m e:\n\u001B[1;32m    573\u001B[0m         msg \u001B[38;5;241m=\u001B[39m \u001B[38;5;28mstr\u001B[39m(e)\n",
      "File \u001B[0;32m~/matteo/matteo/unimi/tesi_master/code/my_env/lib/python3.8/site-packages/aesara/graph/fg.py:516\u001B[0m, in \u001B[0;36mFunctionGraph.replace\u001B[0;34m(self, var, new_var, reason, verbose, import_missing)\u001B[0m\n\u001B[1;32m    509\u001B[0m             \u001B[38;5;28;01mraise\u001B[39;00m \u001B[38;5;167;01mAssertionError\u001B[39;00m(\n\u001B[1;32m    510\u001B[0m                 \u001B[38;5;124m\"\u001B[39m\u001B[38;5;124mThe replacement variable has a test value with \u001B[39m\u001B[38;5;124m\"\u001B[39m\n\u001B[1;32m    511\u001B[0m                 \u001B[38;5;124m\"\u001B[39m\u001B[38;5;124ma shape different from the original variable\u001B[39m\u001B[38;5;124m'\u001B[39m\u001B[38;5;124ms \u001B[39m\u001B[38;5;124m\"\u001B[39m\n\u001B[1;32m    512\u001B[0m                 \u001B[38;5;124mf\u001B[39m\u001B[38;5;124m\"\u001B[39m\u001B[38;5;124mtest value. Original: \u001B[39m\u001B[38;5;132;01m{\u001B[39;00mtval_shape\u001B[38;5;132;01m}\u001B[39;00m\u001B[38;5;124m, new: \u001B[39m\u001B[38;5;132;01m{\u001B[39;00mnew_tval_shape\u001B[38;5;132;01m}\u001B[39;00m\u001B[38;5;124m\"\u001B[39m\n\u001B[1;32m    513\u001B[0m             )\n\u001B[1;32m    515\u001B[0m \u001B[38;5;28;01mfor\u001B[39;00m node, i \u001B[38;5;129;01min\u001B[39;00m \u001B[38;5;28mlist\u001B[39m(\u001B[38;5;28mself\u001B[39m\u001B[38;5;241m.\u001B[39mclients[var]):\n\u001B[0;32m--> 516\u001B[0m     \u001B[38;5;28;43mself\u001B[39;49m\u001B[38;5;241;43m.\u001B[39;49m\u001B[43mchange_node_input\u001B[49m\u001B[43m(\u001B[49m\n\u001B[1;32m    517\u001B[0m \u001B[43m        \u001B[49m\u001B[43mnode\u001B[49m\u001B[43m,\u001B[49m\u001B[43m \u001B[49m\u001B[43mi\u001B[49m\u001B[43m,\u001B[49m\u001B[43m \u001B[49m\u001B[43mnew_var\u001B[49m\u001B[43m,\u001B[49m\u001B[43m \u001B[49m\u001B[43mreason\u001B[49m\u001B[38;5;241;43m=\u001B[39;49m\u001B[43mreason\u001B[49m\u001B[43m,\u001B[49m\u001B[43m \u001B[49m\u001B[43mimport_missing\u001B[49m\u001B[38;5;241;43m=\u001B[39;49m\u001B[43mimport_missing\u001B[49m\n\u001B[1;32m    518\u001B[0m \u001B[43m    \u001B[49m\u001B[43m)\u001B[49m\n",
      "File \u001B[0;32m~/matteo/matteo/unimi/tesi_master/code/my_env/lib/python3.8/site-packages/aesara/graph/fg.py:451\u001B[0m, in \u001B[0;36mFunctionGraph.change_node_input\u001B[0;34m(self, node, i, new_var, reason, import_missing, check)\u001B[0m\n\u001B[1;32m    447\u001B[0m \u001B[38;5;28mself\u001B[39m\u001B[38;5;241m.\u001B[39mremove_client(r, (node, i), reason\u001B[38;5;241m=\u001B[39mreason)\n\u001B[1;32m    448\u001B[0m \u001B[38;5;66;03m# Precondition: the substitution is semantically valid However it may\u001B[39;00m\n\u001B[1;32m    449\u001B[0m \u001B[38;5;66;03m# introduce cycles to the graph, in which case the transaction will be\u001B[39;00m\n\u001B[1;32m    450\u001B[0m \u001B[38;5;66;03m# reverted later.\u001B[39;00m\n\u001B[0;32m--> 451\u001B[0m \u001B[38;5;28;43mself\u001B[39;49m\u001B[38;5;241;43m.\u001B[39;49m\u001B[43mexecute_callbacks\u001B[49m\u001B[43m(\u001B[49m\u001B[38;5;124;43m\"\u001B[39;49m\u001B[38;5;124;43mon_change_input\u001B[39;49m\u001B[38;5;124;43m\"\u001B[39;49m\u001B[43m,\u001B[49m\u001B[43m \u001B[49m\u001B[43mnode\u001B[49m\u001B[43m,\u001B[49m\u001B[43m \u001B[49m\u001B[43mi\u001B[49m\u001B[43m,\u001B[49m\u001B[43m \u001B[49m\u001B[43mr\u001B[49m\u001B[43m,\u001B[49m\u001B[43m \u001B[49m\u001B[43mnew_var\u001B[49m\u001B[43m,\u001B[49m\u001B[43m \u001B[49m\u001B[43mreason\u001B[49m\u001B[38;5;241;43m=\u001B[39;49m\u001B[43mreason\u001B[49m\u001B[43m)\u001B[49m\n",
      "File \u001B[0;32m~/matteo/matteo/unimi/tesi_master/code/my_env/lib/python3.8/site-packages/aesara/graph/fg.py:725\u001B[0m, in \u001B[0;36mFunctionGraph.execute_callbacks\u001B[0;34m(self, name, *args, **kwargs)\u001B[0m\n\u001B[1;32m    723\u001B[0m         \u001B[38;5;28;01mcontinue\u001B[39;00m\n\u001B[1;32m    724\u001B[0m     tf0 \u001B[38;5;241m=\u001B[39m time\u001B[38;5;241m.\u001B[39mtime()\n\u001B[0;32m--> 725\u001B[0m     \u001B[43mfn\u001B[49m\u001B[43m(\u001B[49m\u001B[38;5;28;43mself\u001B[39;49m\u001B[43m,\u001B[49m\u001B[43m \u001B[49m\u001B[38;5;241;43m*\u001B[39;49m\u001B[43margs\u001B[49m\u001B[43m,\u001B[49m\u001B[43m \u001B[49m\u001B[38;5;241;43m*\u001B[39;49m\u001B[38;5;241;43m*\u001B[39;49m\u001B[43mkwargs\u001B[49m\u001B[43m)\u001B[49m\n\u001B[1;32m    726\u001B[0m     \u001B[38;5;28mself\u001B[39m\u001B[38;5;241m.\u001B[39mexecute_callbacks_times[feature] \u001B[38;5;241m+\u001B[39m\u001B[38;5;241m=\u001B[39m time\u001B[38;5;241m.\u001B[39mtime() \u001B[38;5;241m-\u001B[39m tf0\n\u001B[1;32m    727\u001B[0m \u001B[38;5;28mself\u001B[39m\u001B[38;5;241m.\u001B[39mexecute_callbacks_time \u001B[38;5;241m+\u001B[39m\u001B[38;5;241m=\u001B[39m time\u001B[38;5;241m.\u001B[39mtime() \u001B[38;5;241m-\u001B[39m t0\n",
      "File \u001B[0;32m~/matteo/matteo/unimi/tesi_master/code/my_env/lib/python3.8/site-packages/aesara/tensor/rewriting/shape.py:599\u001B[0m, in \u001B[0;36mShapeFeature.on_change_input\u001B[0;34m(self, fgraph, node, i, r, new_r, reason)\u001B[0m\n\u001B[1;32m    595\u001B[0m     \u001B[38;5;28mself\u001B[39m\u001B[38;5;241m.\u001B[39minit_r(new_r)\n\u001B[1;32m    597\u001B[0m \u001B[38;5;66;03m# This tells us that r and new_r must have the same shape if\u001B[39;00m\n\u001B[1;32m    598\u001B[0m \u001B[38;5;66;03m# we didn't know that the shapes are related, now we do.\u001B[39;00m\n\u001B[0;32m--> 599\u001B[0m \u001B[38;5;28;43mself\u001B[39;49m\u001B[38;5;241;43m.\u001B[39;49m\u001B[43mupdate_shape\u001B[49m\u001B[43m(\u001B[49m\u001B[43mnew_r\u001B[49m\u001B[43m,\u001B[49m\u001B[43m \u001B[49m\u001B[43mr\u001B[49m\u001B[43m)\u001B[49m\n\u001B[1;32m    601\u001B[0m \u001B[38;5;66;03m# change_input happens in two cases:\u001B[39;00m\n\u001B[1;32m    602\u001B[0m \u001B[38;5;66;03m# 1) we are trying to get rid of r, or\u001B[39;00m\n\u001B[1;32m    603\u001B[0m \u001B[38;5;66;03m# 2) we are putting things back after a failed transaction.\u001B[39;00m\n\u001B[0;32m   (...)\u001B[0m\n\u001B[1;32m    607\u001B[0m \u001B[38;5;66;03m# r is *scheduled*.\u001B[39;00m\n\u001B[1;32m    608\u001B[0m \u001B[38;5;66;03m# At that point, node is no longer a client of r, but of new_r\u001B[39;00m\n\u001B[1;32m    609\u001B[0m \u001B[38;5;28;01mfor\u001B[39;00m (shpnode, idx) \u001B[38;5;129;01min\u001B[39;00m fgraph\u001B[38;5;241m.\u001B[39mclients[r] \u001B[38;5;241m+\u001B[39m [(node, i)]:\n",
      "File \u001B[0;32m~/matteo/matteo/unimi/tesi_master/code/my_env/lib/python3.8/site-packages/aesara/tensor/rewriting/shape.py:448\u001B[0m, in \u001B[0;36mShapeFeature.update_shape\u001B[0;34m(self, r, other_r)\u001B[0m\n\u001B[1;32m    446\u001B[0m     \u001B[38;5;28;01melse\u001B[39;00m:\n\u001B[1;32m    447\u001B[0m         merged_shape\u001B[38;5;241m.\u001B[39mappend(other_shape[i])\n\u001B[0;32m--> 448\u001B[0m \u001B[38;5;28;01massert\u001B[39;00m \u001B[38;5;28;43mall\u001B[39;49m\u001B[43m(\u001B[49m\n\u001B[1;32m    449\u001B[0m \u001B[43m    \u001B[49m\u001B[43m(\u001B[49m\n\u001B[1;32m    450\u001B[0m \u001B[43m        \u001B[49m\u001B[38;5;129;43;01mnot\u001B[39;49;00m\u001B[43m \u001B[49m\u001B[38;5;28;43mhasattr\u001B[39;49m\u001B[43m(\u001B[49m\u001B[43mr\u001B[49m\u001B[38;5;241;43m.\u001B[39;49m\u001B[43mtype\u001B[49m\u001B[43m,\u001B[49m\u001B[43m \u001B[49m\u001B[38;5;124;43m\"\u001B[39;49m\u001B[38;5;124;43mbroadcastable\u001B[39;49m\u001B[38;5;124;43m\"\u001B[39;49m\u001B[43m)\u001B[49m\n\u001B[1;32m    451\u001B[0m \u001B[43m        \u001B[49m\u001B[38;5;129;43;01mor\u001B[39;49;00m\u001B[43m \u001B[49m\u001B[38;5;129;43;01mnot\u001B[39;49;00m\u001B[43m \u001B[49m\u001B[43mr\u001B[49m\u001B[38;5;241;43m.\u001B[39;49m\u001B[43mtype\u001B[49m\u001B[38;5;241;43m.\u001B[39;49m\u001B[43mbroadcastable\u001B[49m\u001B[43m[\u001B[49m\u001B[43mi\u001B[49m\u001B[43m]\u001B[49m\n\u001B[1;32m    452\u001B[0m \u001B[43m        \u001B[49m\u001B[38;5;129;43;01mand\u001B[39;49;00m\u001B[43m \u001B[49m\u001B[38;5;129;43;01mnot\u001B[39;49;00m\u001B[43m \u001B[49m\u001B[43mother_r\u001B[49m\u001B[38;5;241;43m.\u001B[39;49m\u001B[43mtype\u001B[49m\u001B[38;5;241;43m.\u001B[39;49m\u001B[43mbroadcastable\u001B[49m\u001B[43m[\u001B[49m\u001B[43mi\u001B[49m\u001B[43m]\u001B[49m\n\u001B[1;32m    453\u001B[0m \u001B[43m    \u001B[49m\u001B[43m)\u001B[49m\n\u001B[1;32m    454\u001B[0m \u001B[43m    \u001B[49m\u001B[38;5;129;43;01mor\u001B[39;49;00m\u001B[43m \u001B[49m\u001B[38;5;28;43mself\u001B[39;49m\u001B[38;5;241;43m.\u001B[39;49m\u001B[43mlscalar_one\u001B[49m\u001B[38;5;241;43m.\u001B[39;49m\u001B[43mequals\u001B[49m\u001B[43m(\u001B[49m\u001B[43mmerged_shape\u001B[49m\u001B[43m[\u001B[49m\u001B[43mi\u001B[49m\u001B[43m]\u001B[49m\u001B[43m)\u001B[49m\n\u001B[1;32m    455\u001B[0m \u001B[43m    \u001B[49m\u001B[38;5;129;43;01mor\u001B[39;49;00m\u001B[43m \u001B[49m\u001B[38;5;28;43mself\u001B[39;49m\u001B[38;5;241;43m.\u001B[39;49m\u001B[43mlscalar_one\u001B[49m\u001B[38;5;241;43m.\u001B[39;49m\u001B[43mequals\u001B[49m\u001B[43m(\u001B[49m\n\u001B[1;32m    456\u001B[0m \u001B[43m        \u001B[49m\u001B[43mextract_constant\u001B[49m\u001B[43m(\u001B[49m\u001B[43mmerged_shape\u001B[49m\u001B[43m[\u001B[49m\u001B[43mi\u001B[49m\u001B[43m]\u001B[49m\u001B[43m,\u001B[49m\u001B[43m \u001B[49m\u001B[43monly_process_constants\u001B[49m\u001B[38;5;241;43m=\u001B[39;49m\u001B[38;5;28;43;01mTrue\u001B[39;49;00m\u001B[43m)\u001B[49m\n\u001B[1;32m    457\u001B[0m \u001B[43m    \u001B[49m\u001B[43m)\u001B[49m\n\u001B[1;32m    458\u001B[0m \u001B[43m    \u001B[49m\u001B[38;5;28;43;01mfor\u001B[39;49;00m\u001B[43m \u001B[49m\u001B[43mi\u001B[49m\u001B[43m \u001B[49m\u001B[38;5;129;43;01min\u001B[39;49;00m\u001B[43m \u001B[49m\u001B[38;5;28;43mrange\u001B[39;49m\u001B[43m(\u001B[49m\u001B[43mr\u001B[49m\u001B[38;5;241;43m.\u001B[39;49m\u001B[43mtype\u001B[49m\u001B[38;5;241;43m.\u001B[39;49m\u001B[43mndim\u001B[49m\u001B[43m)\u001B[49m\n\u001B[1;32m    459\u001B[0m \u001B[43m\u001B[49m\u001B[43m)\u001B[49m\n\u001B[1;32m    460\u001B[0m \u001B[38;5;28mself\u001B[39m\u001B[38;5;241m.\u001B[39mshape_of[r] \u001B[38;5;241m=\u001B[39m \u001B[38;5;28mtuple\u001B[39m(merged_shape)\n\u001B[1;32m    461\u001B[0m \u001B[38;5;28;01mfor\u001B[39;00m sv \u001B[38;5;129;01min\u001B[39;00m \u001B[38;5;28mself\u001B[39m\u001B[38;5;241m.\u001B[39mshape_of[r]:\n",
      "File \u001B[0;32m~/matteo/matteo/unimi/tesi_master/code/my_env/lib/python3.8/site-packages/aesara/tensor/rewriting/shape.py:454\u001B[0m, in \u001B[0;36m<genexpr>\u001B[0;34m(.0)\u001B[0m\n\u001B[1;32m    446\u001B[0m     \u001B[38;5;28;01melse\u001B[39;00m:\n\u001B[1;32m    447\u001B[0m         merged_shape\u001B[38;5;241m.\u001B[39mappend(other_shape[i])\n\u001B[1;32m    448\u001B[0m \u001B[38;5;28;01massert\u001B[39;00m \u001B[38;5;28mall\u001B[39m(\n\u001B[1;32m    449\u001B[0m     (\n\u001B[1;32m    450\u001B[0m         \u001B[38;5;129;01mnot\u001B[39;00m \u001B[38;5;28mhasattr\u001B[39m(r\u001B[38;5;241m.\u001B[39mtype, \u001B[38;5;124m\"\u001B[39m\u001B[38;5;124mbroadcastable\u001B[39m\u001B[38;5;124m\"\u001B[39m)\n\u001B[1;32m    451\u001B[0m         \u001B[38;5;129;01mor\u001B[39;00m \u001B[38;5;129;01mnot\u001B[39;00m r\u001B[38;5;241m.\u001B[39mtype\u001B[38;5;241m.\u001B[39mbroadcastable[i]\n\u001B[1;32m    452\u001B[0m         \u001B[38;5;129;01mand\u001B[39;00m \u001B[38;5;129;01mnot\u001B[39;00m other_r\u001B[38;5;241m.\u001B[39mtype\u001B[38;5;241m.\u001B[39mbroadcastable[i]\n\u001B[1;32m    453\u001B[0m     )\n\u001B[0;32m--> 454\u001B[0m     \u001B[38;5;129;01mor\u001B[39;00m \u001B[38;5;28;43mself\u001B[39;49m\u001B[38;5;241;43m.\u001B[39;49m\u001B[43mlscalar_one\u001B[49m\u001B[38;5;241;43m.\u001B[39;49m\u001B[43mequals\u001B[49m\u001B[43m(\u001B[49m\u001B[43mmerged_shape\u001B[49m\u001B[43m[\u001B[49m\u001B[43mi\u001B[49m\u001B[43m]\u001B[49m\u001B[43m)\u001B[49m\n\u001B[1;32m    455\u001B[0m     \u001B[38;5;129;01mor\u001B[39;00m \u001B[38;5;28mself\u001B[39m\u001B[38;5;241m.\u001B[39mlscalar_one\u001B[38;5;241m.\u001B[39mequals(\n\u001B[1;32m    456\u001B[0m         extract_constant(merged_shape[i], only_process_constants\u001B[38;5;241m=\u001B[39m\u001B[38;5;28;01mTrue\u001B[39;00m)\n\u001B[1;32m    457\u001B[0m     )\n\u001B[1;32m    458\u001B[0m     \u001B[38;5;28;01mfor\u001B[39;00m i \u001B[38;5;129;01min\u001B[39;00m \u001B[38;5;28mrange\u001B[39m(r\u001B[38;5;241m.\u001B[39mtype\u001B[38;5;241m.\u001B[39mndim)\n\u001B[1;32m    459\u001B[0m )\n\u001B[1;32m    460\u001B[0m \u001B[38;5;28mself\u001B[39m\u001B[38;5;241m.\u001B[39mshape_of[r] \u001B[38;5;241m=\u001B[39m \u001B[38;5;28mtuple\u001B[39m(merged_shape)\n\u001B[1;32m    461\u001B[0m \u001B[38;5;28;01mfor\u001B[39;00m sv \u001B[38;5;129;01min\u001B[39;00m \u001B[38;5;28mself\u001B[39m\u001B[38;5;241m.\u001B[39mshape_of[r]:\n",
      "File \u001B[0;32m~/matteo/matteo/unimi/tesi_master/code/my_env/lib/python3.8/site-packages/aesara/tensor/var.py:1052\u001B[0m, in \u001B[0;36mTensorConstant.equals\u001B[0;34m(self, other)\u001B[0m\n\u001B[1;32m   1048\u001B[0m \u001B[38;5;28;01mif\u001B[39;00m \u001B[38;5;28misinstance\u001B[39m(other, (np\u001B[38;5;241m.\u001B[39mndarray, \u001B[38;5;28mint\u001B[39m, \u001B[38;5;28mfloat\u001B[39m)):\n\u001B[1;32m   1049\u001B[0m     \u001B[38;5;66;03m# Make a TensorConstant to be able to compare\u001B[39;00m\n\u001B[1;32m   1050\u001B[0m     other \u001B[38;5;241m=\u001B[39m at\u001B[38;5;241m.\u001B[39mbasic\u001B[38;5;241m.\u001B[39mconstant(other)\n\u001B[1;32m   1051\u001B[0m \u001B[38;5;28;01mreturn\u001B[39;00m (\n\u001B[0;32m-> 1052\u001B[0m     \u001B[38;5;28misinstance\u001B[39m(other, TensorConstant) \u001B[38;5;129;01mand\u001B[39;00m \u001B[38;5;28;43mself\u001B[39;49m\u001B[38;5;241;43m.\u001B[39;49m\u001B[43msignature\u001B[49m\u001B[43m(\u001B[49m\u001B[43m)\u001B[49m\u001B[43m \u001B[49m\u001B[38;5;241;43m==\u001B[39;49m\u001B[43m \u001B[49m\u001B[43mother\u001B[49m\u001B[38;5;241;43m.\u001B[39;49m\u001B[43msignature\u001B[49m\u001B[43m(\u001B[49m\u001B[43m)\u001B[49m\n\u001B[1;32m   1053\u001B[0m )\n",
      "File \u001B[0;32m~/matteo/matteo/unimi/tesi_master/code/my_env/lib/python3.8/site-packages/aesara/tensor/var.py:908\u001B[0m, in \u001B[0;36mTensorConstantSignature.__eq__\u001B[0;34m(self, other)\u001B[0m\n\u001B[1;32m    905\u001B[0m \u001B[38;5;28;01mif\u001B[39;00m t0 \u001B[38;5;241m!=\u001B[39m t1 \u001B[38;5;129;01mor\u001B[39;00m d0\u001B[38;5;241m.\u001B[39mshape \u001B[38;5;241m!=\u001B[39m d1\u001B[38;5;241m.\u001B[39mshape:\n\u001B[1;32m    906\u001B[0m     \u001B[38;5;28;01mreturn\u001B[39;00m \u001B[38;5;28;01mFalse\u001B[39;00m\n\u001B[0;32m--> 908\u001B[0m \u001B[38;5;28;43mself\u001B[39;49m\u001B[38;5;241;43m.\u001B[39;49m\u001B[43mno_nan\u001B[49m  \u001B[38;5;66;03m# Ensure has_nan is computed.\u001B[39;00m\n\u001B[1;32m    909\u001B[0m \u001B[38;5;66;03m# Note that in the comparisons below, the elementwise comparisons\u001B[39;00m\n\u001B[1;32m    910\u001B[0m \u001B[38;5;66;03m# come last because they are the most expensive checks.\u001B[39;00m\n\u001B[1;32m    911\u001B[0m \u001B[38;5;28;01mif\u001B[39;00m \u001B[38;5;28mself\u001B[39m\u001B[38;5;241m.\u001B[39mhas_nan:\n",
      "File \u001B[0;32m~/matteo/matteo/unimi/tesi_master/code/my_env/lib/python3.8/site-packages/aesara/tensor/var.py:989\u001B[0m, in \u001B[0;36mTensorConstantSignature.no_nan\u001B[0;34m(self)\u001B[0m\n\u001B[1;32m    987\u001B[0m     nans \u001B[38;5;241m=\u001B[39m np\u001B[38;5;241m.\u001B[39misnan(\u001B[38;5;28mself\u001B[39m[\u001B[38;5;241m1\u001B[39m])\n\u001B[1;32m    988\u001B[0m     \u001B[38;5;28mself\u001B[39m\u001B[38;5;241m.\u001B[39m_no_nan \u001B[38;5;241m=\u001B[39m np\u001B[38;5;241m.\u001B[39mma\u001B[38;5;241m.\u001B[39mmasked_array(\u001B[38;5;28mself\u001B[39m[\u001B[38;5;241m1\u001B[39m], nans)\n\u001B[0;32m--> 989\u001B[0m     \u001B[38;5;28mself\u001B[39m\u001B[38;5;241m.\u001B[39mhas_nan \u001B[38;5;241m=\u001B[39m \u001B[43mnp\u001B[49m\u001B[38;5;241;43m.\u001B[39;49m\u001B[43many\u001B[49m\u001B[43m(\u001B[49m\u001B[43mnans\u001B[49m\u001B[43m)\u001B[49m\n\u001B[1;32m    990\u001B[0m \u001B[38;5;28;01mreturn\u001B[39;00m \u001B[38;5;28mself\u001B[39m\u001B[38;5;241m.\u001B[39m_no_nan\n",
      "File \u001B[0;32m<__array_function__ internals>:180\u001B[0m, in \u001B[0;36many\u001B[0;34m(*args, **kwargs)\u001B[0m\n",
      "File \u001B[0;32m~/matteo/matteo/unimi/tesi_master/code/my_env/lib/python3.8/site-packages/numpy/core/fromnumeric.py:2395\u001B[0m, in \u001B[0;36many\u001B[0;34m(a, axis, out, keepdims, where)\u001B[0m\n\u001B[1;32m   2305\u001B[0m \u001B[38;5;129m@array_function_dispatch\u001B[39m(_any_dispatcher)\n\u001B[1;32m   2306\u001B[0m \u001B[38;5;28;01mdef\u001B[39;00m \u001B[38;5;21many\u001B[39m(a, axis\u001B[38;5;241m=\u001B[39m\u001B[38;5;28;01mNone\u001B[39;00m, out\u001B[38;5;241m=\u001B[39m\u001B[38;5;28;01mNone\u001B[39;00m, keepdims\u001B[38;5;241m=\u001B[39mnp\u001B[38;5;241m.\u001B[39m_NoValue, \u001B[38;5;241m*\u001B[39m, where\u001B[38;5;241m=\u001B[39mnp\u001B[38;5;241m.\u001B[39m_NoValue):\n\u001B[1;32m   2307\u001B[0m     \u001B[38;5;124;03m\"\"\"\u001B[39;00m\n\u001B[1;32m   2308\u001B[0m \u001B[38;5;124;03m    Test whether any array element along a given axis evaluates to True.\u001B[39;00m\n\u001B[1;32m   2309\u001B[0m \n\u001B[0;32m   (...)\u001B[0m\n\u001B[1;32m   2393\u001B[0m \n\u001B[1;32m   2394\u001B[0m \u001B[38;5;124;03m    \"\"\"\u001B[39;00m\n\u001B[0;32m-> 2395\u001B[0m     \u001B[38;5;28;01mreturn\u001B[39;00m \u001B[43m_wrapreduction\u001B[49m\u001B[43m(\u001B[49m\u001B[43ma\u001B[49m\u001B[43m,\u001B[49m\u001B[43m \u001B[49m\u001B[43mnp\u001B[49m\u001B[38;5;241;43m.\u001B[39;49m\u001B[43mlogical_or\u001B[49m\u001B[43m,\u001B[49m\u001B[43m \u001B[49m\u001B[38;5;124;43m'\u001B[39;49m\u001B[38;5;124;43many\u001B[39;49m\u001B[38;5;124;43m'\u001B[39;49m\u001B[43m,\u001B[49m\u001B[43m \u001B[49m\u001B[43maxis\u001B[49m\u001B[43m,\u001B[49m\u001B[43m \u001B[49m\u001B[38;5;28;43;01mNone\u001B[39;49;00m\u001B[43m,\u001B[49m\u001B[43m \u001B[49m\u001B[43mout\u001B[49m\u001B[43m,\u001B[49m\n\u001B[1;32m   2396\u001B[0m \u001B[43m                          \u001B[49m\u001B[43mkeepdims\u001B[49m\u001B[38;5;241;43m=\u001B[39;49m\u001B[43mkeepdims\u001B[49m\u001B[43m,\u001B[49m\u001B[43m \u001B[49m\u001B[43mwhere\u001B[49m\u001B[38;5;241;43m=\u001B[39;49m\u001B[43mwhere\u001B[49m\u001B[43m)\u001B[49m\n",
      "File \u001B[0;32m~/matteo/matteo/unimi/tesi_master/code/my_env/lib/python3.8/site-packages/numpy/core/fromnumeric.py:84\u001B[0m, in \u001B[0;36m_wrapreduction\u001B[0;34m(obj, ufunc, method, axis, dtype, out, **kwargs)\u001B[0m\n\u001B[1;32m     82\u001B[0m             \u001B[38;5;28;01mreturn\u001B[39;00m reduction(axis\u001B[38;5;241m=\u001B[39maxis, dtype\u001B[38;5;241m=\u001B[39mdtype, out\u001B[38;5;241m=\u001B[39mout, \u001B[38;5;241m*\u001B[39m\u001B[38;5;241m*\u001B[39mpasskwargs)\n\u001B[1;32m     83\u001B[0m         \u001B[38;5;28;01melse\u001B[39;00m:\n\u001B[0;32m---> 84\u001B[0m             \u001B[38;5;28;01mreturn\u001B[39;00m \u001B[43mreduction\u001B[49m\u001B[43m(\u001B[49m\u001B[43maxis\u001B[49m\u001B[38;5;241;43m=\u001B[39;49m\u001B[43maxis\u001B[49m\u001B[43m,\u001B[49m\u001B[43m \u001B[49m\u001B[43mout\u001B[49m\u001B[38;5;241;43m=\u001B[39;49m\u001B[43mout\u001B[49m\u001B[43m,\u001B[49m\u001B[43m \u001B[49m\u001B[38;5;241;43m*\u001B[39;49m\u001B[38;5;241;43m*\u001B[39;49m\u001B[43mpasskwargs\u001B[49m\u001B[43m)\u001B[49m\n\u001B[1;32m     86\u001B[0m \u001B[38;5;28;01mreturn\u001B[39;00m ufunc\u001B[38;5;241m.\u001B[39mreduce(obj, axis, dtype, out, \u001B[38;5;241m*\u001B[39m\u001B[38;5;241m*\u001B[39mpasskwargs)\n",
      "File \u001B[0;32m~/matteo/matteo/unimi/tesi_master/code/my_env/lib/python3.8/site-packages/numpy/core/_methods.py:57\u001B[0m, in \u001B[0;36m_any\u001B[0;34m(a, axis, dtype, out, keepdims, where)\u001B[0m\n\u001B[1;32m     54\u001B[0m \u001B[38;5;28;01mdef\u001B[39;00m \u001B[38;5;21m_any\u001B[39m(a, axis\u001B[38;5;241m=\u001B[39m\u001B[38;5;28;01mNone\u001B[39;00m, dtype\u001B[38;5;241m=\u001B[39m\u001B[38;5;28;01mNone\u001B[39;00m, out\u001B[38;5;241m=\u001B[39m\u001B[38;5;28;01mNone\u001B[39;00m, keepdims\u001B[38;5;241m=\u001B[39m\u001B[38;5;28;01mFalse\u001B[39;00m, \u001B[38;5;241m*\u001B[39m, where\u001B[38;5;241m=\u001B[39m\u001B[38;5;28;01mTrue\u001B[39;00m):\n\u001B[1;32m     55\u001B[0m     \u001B[38;5;66;03m# Parsing keyword arguments is currently fairly slow, so avoid it for now\u001B[39;00m\n\u001B[1;32m     56\u001B[0m     \u001B[38;5;28;01mif\u001B[39;00m where \u001B[38;5;129;01mis\u001B[39;00m \u001B[38;5;28;01mTrue\u001B[39;00m:\n\u001B[0;32m---> 57\u001B[0m         \u001B[38;5;28;01mreturn\u001B[39;00m \u001B[43mumr_any\u001B[49m\u001B[43m(\u001B[49m\u001B[43ma\u001B[49m\u001B[43m,\u001B[49m\u001B[43m \u001B[49m\u001B[43maxis\u001B[49m\u001B[43m,\u001B[49m\u001B[43m \u001B[49m\u001B[43mdtype\u001B[49m\u001B[43m,\u001B[49m\u001B[43m \u001B[49m\u001B[43mout\u001B[49m\u001B[43m,\u001B[49m\u001B[43m \u001B[49m\u001B[43mkeepdims\u001B[49m\u001B[43m)\u001B[49m\n\u001B[1;32m     58\u001B[0m     \u001B[38;5;28;01mreturn\u001B[39;00m umr_any(a, axis, dtype, out, keepdims, where\u001B[38;5;241m=\u001B[39mwhere)\n",
      "\u001B[0;31mKeyboardInterrupt\u001B[0m: "
     ]
    }
   ],
   "source": [
    "with sPPCA:\n",
    "    trace = pm.sample(1000,init='advi+adapt_diag',chains=1,progressbar=True,target_accept=0.95)"
   ],
   "metadata": {
    "collapsed": false
   }
  },
  {
   "cell_type": "code",
   "execution_count": null,
   "outputs": [],
   "source": [
    "#az.plot_posterior(mean_field.sample(1000), color=\"LightSeaGreen\")\n",
    "az.plot_trace(trace)\n",
    "plt.show()"
   ],
   "metadata": {
    "collapsed": false
   }
  },
  {
   "cell_type": "code",
   "execution_count": null,
   "outputs": [],
   "source": [
    "with sPPCA:\n",
    "    # update values of predictors:\n",
    "    pm.set_data({\"pupil_data\": pupil,\"hr_data\":hr,\"eda_data\":eda})\n",
    "    # use the updated values and predict outcomes and probabilities:\n",
    "    posterior_predictive = pm.sample_posterior_predictive(\n",
    "        trace, random_seed=123)"
   ],
   "metadata": {
    "collapsed": false
   }
  },
  {
   "cell_type": "code",
   "execution_count": null,
   "outputs": [],
   "source": [
    "e_pred = posterior_predictive.posterior_predictive[\"x_e\"]"
   ],
   "metadata": {
    "collapsed": false
   }
  },
  {
   "cell_type": "code",
   "execution_count": null,
   "outputs": [],
   "source": [
    "e_pred_mode = np.squeeze(stats.mode(e_pred[0], keepdims=False)[0])[:,np.newaxis]"
   ],
   "metadata": {
    "collapsed": false
   }
  },
  {
   "cell_type": "code",
   "execution_count": null,
   "outputs": [],
   "source": [
    "e_pred_mode"
   ],
   "metadata": {
    "collapsed": false
   }
  },
  {
   "cell_type": "code",
   "execution_count": null,
   "outputs": [],
   "source": [
    "e_labels"
   ],
   "metadata": {
    "collapsed": false
   }
  },
  {
   "cell_type": "code",
   "execution_count": null,
   "outputs": [],
   "source": [
    "train_accuracy_exp = accuracy_score(e_labels, e_pred_mode)\n",
    "print('\\n\\tTrain Accuracy Pain Expectation: ' + str(train_accuracy_exp))\n",
    "print(' ')"
   ],
   "metadata": {
    "collapsed": false
   }
  },
  {
   "cell_type": "markdown",
   "source": [
    "--------------------------------------------------------------------------------------------"
   ],
   "metadata": {
    "collapsed": false
   }
  },
  {
   "cell_type": "code",
   "execution_count": null,
   "outputs": [],
   "source": [
    "hr_pred_mean = (stats.median_abs_deviation(hr_pred[0]))[0]\n",
    "hr_pred_mean"
   ],
   "metadata": {
    "collapsed": false
   }
  },
  {
   "cell_type": "code",
   "execution_count": null,
   "outputs": [],
   "source": [
    "hr[0]"
   ],
   "metadata": {
    "collapsed": false
   }
  },
  {
   "cell_type": "code",
   "execution_count": null,
   "outputs": [],
   "source": [
    "#hr_pred_mode= pd.Series([0.006,0.01,0.02,0.003])"
   ],
   "metadata": {
    "collapsed": false
   }
  },
  {
   "cell_type": "markdown",
   "source": [
    "hr and hr_pred_mode devono avere same shape"
   ],
   "metadata": {
    "collapsed": false
   }
  },
  {
   "cell_type": "code",
   "execution_count": null,
   "outputs": [],
   "source": [
    "train_accuracy_hr = (np.subtract(hr[0], hr_pred_mean))\n",
    "print('\\n\\t avg distance hr: \\n' + str(train_accuracy_hr))\n",
    "#print(' ')"
   ],
   "metadata": {
    "collapsed": false
   }
  },
  {
   "cell_type": "code",
   "execution_count": null,
   "outputs": [],
   "source": [
    "with sPPCA:\n",
    "    # update values of predictors:\n",
    "    pm.set_data({\"hr_data\": hr})\n",
    "    # use the updated values and predict outcomes and probabilities:\n",
    "    posterior_predictive = pm.sample_posterior_predictive(\n",
    "        trace, random_seed=123)\n",
    "    gaze_pred = posterior_predictive.posterior_predictive[\"x_gaze\"]"
   ],
   "metadata": {
    "collapsed": false
   }
  },
  {
   "cell_type": "code",
   "execution_count": null,
   "outputs": [],
   "source": [
    "gaze_pred"
   ],
   "metadata": {
    "collapsed": false
   }
  },
  {
   "cell_type": "code",
   "execution_count": null,
   "outputs": [],
   "source": [
    "gaze_pred_mean = np.mean(gaze_pred, axis=0).T.reshape(-1)\n",
    "gaze_true = pupil.reshape(-1)\n",
    "reconstructed_r2 = metrics.r2_score(gaze_true, gaze_pred_mean)\n",
    "\n",
    "print('\\n\\tReconstructed X R2 score: ' + str(reconstructed_r2))"
   ],
   "metadata": {
    "collapsed": false
   }
  },
  {
   "cell_type": "code",
   "execution_count": null,
   "outputs": [],
   "source": [
    "import deepemogp.feature_extractor as feature_extractor"
   ],
   "metadata": {
    "collapsed": false
   }
  },
  {
   "cell_type": "code",
   "execution_count": null,
   "outputs": [],
   "source": [
    "f = feature_extractor.FE('wavelet', window=(8,6), params={'w_mother':'db3','w_maxlev':1})"
   ],
   "metadata": {
    "collapsed": false
   }
  },
  {
   "cell_type": "code",
   "execution_count": null,
   "outputs": [],
   "source": [
    "x = [3, 7, 1, 1, -2, 5, 4, 6]"
   ],
   "metadata": {
    "collapsed": false
   }
  },
  {
   "cell_type": "code",
   "execution_count": null,
   "outputs": [],
   "source": [
    "f.apply(x)"
   ],
   "metadata": {
    "collapsed": false
   }
  },
  {
   "cell_type": "code",
   "execution_count": null,
   "outputs": [],
   "source": [],
   "metadata": {
    "collapsed": false
   }
  }
 ],
 "metadata": {
  "kernelspec": {
   "display_name": "Python 3",
   "language": "python",
   "name": "python3"
  },
  "language_info": {
   "codemirror_mode": {
    "name": "ipython",
    "version": 2
   },
   "file_extension": ".py",
   "mimetype": "text/x-python",
   "name": "python",
   "nbconvert_exporter": "python",
   "pygments_lexer": "ipython2",
   "version": "2.7.6"
  }
 },
 "nbformat": 4,
 "nbformat_minor": 0
}
