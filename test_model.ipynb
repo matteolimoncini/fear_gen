{
 "cells": [
  {
   "cell_type": "markdown",
   "source": [
    "PPCA lavora con più variabili osservabili anzichè una sola"
   ],
   "metadata": {
    "collapsed": false
   }
  },
  {
   "cell_type": "code",
   "execution_count": null,
   "outputs": [],
   "source": [
    "import numpy as np\n",
    "import pymc as pm\n",
    "import matplotlib.pyplot as plt\n",
    "import aesara.tensor as at\n",
    "import arviz as az\n",
    "from sklearn.preprocessing import StandardScaler\n",
    "import sklearn.metrics as metrics\n",
    "from scipy import stats\n",
    "import scipy"
   ],
   "metadata": {
    "collapsed": false
   }
  },
  {
   "cell_type": "code",
   "execution_count": null,
   "outputs": [],
   "source": [
    "scaler = StandardScaler()"
   ],
   "metadata": {
    "collapsed": false
   }
  },
  {
   "cell_type": "code",
   "execution_count": null,
   "outputs": [],
   "source": [
    "data = np.load('prova.npy', allow_pickle=True).item()"
   ],
   "metadata": {
    "collapsed": false
   }
  },
  {
   "cell_type": "markdown",
   "source": [
    "# extract data social anxiety"
   ],
   "metadata": {
    "collapsed": false
   }
  },
  {
   "cell_type": "code",
   "execution_count": null,
   "outputs": [],
   "source": [
    "import pandas as pd"
   ],
   "metadata": {
    "collapsed": false
   }
  },
  {
   "cell_type": "code",
   "execution_count": null,
   "outputs": [],
   "source": [
    "csv_ = '/Users/marcoghezzi/PycharmProjects/pythonProject/osfstorage-archive/behavior/LookAtMe_002.csv'\n",
    "#csv_ = '/home/paolo/matteo/matteo/unimi/tesi_master/code/osfstorage-archive/behavior/LookAtMe_002.csv'\n",
    "global_data = pd.read_csv(csv_, sep='\\t')\n",
    "y = np.array(list([int(d>2) for d in global_data['rating']]))\n",
    "e_labels = y[:,np.newaxis]  # rating > 2"
   ],
   "metadata": {
    "collapsed": false
   }
  },
  {
   "cell_type": "code",
   "execution_count": null,
   "outputs": [],
   "source": [
    "N_e = e_labels.shape[0]\n",
    "D_e = e_labels.shape[1]\n",
    "print(N_e,D_e)"
   ],
   "metadata": {
    "collapsed": false
   }
  },
  {
   "cell_type": "markdown",
   "source": [
    "## test with new data"
   ],
   "metadata": {
    "collapsed": false
   }
  },
  {
   "cell_type": "code",
   "execution_count": null,
   "outputs": [],
   "source": [
    "import deepemogp.feature_extractor as feature_extractor\n",
    "import deepemogp.signal.physio as physio\n",
    "import deepemogp.signal.face as face\n",
    "import deepemogp.signal.annotation as annotation\n",
    "import deepemogp.datasets as datasets\n",
    "import deepemogp.signal.behavior as behavior\n",
    "\n",
    "# from: https://github.com/SheffieldML/GPy\n",
    "#import GPy\n",
    "# from: https://github.com/SheffieldML/PyDeepGP\n",
    "#import deepgp\n",
    "\n",
    "import pandas as pd\n",
    "import numpy as np\n",
    "\n",
    "show = False\n",
    "# definition of the feature extractors to be used later\n",
    "f1 = feature_extractor.FE('wavelet')\n",
    "f2 = feature_extractor.FE('wavelet', window=(2, 1))\n",
    "f3 = feature_extractor.FE('mean', window=(2, 1))\n",
    "\n",
    "# definition of the physiological signals to be extracted\n",
    "eda_ = physio.EDA(f2)\n",
    "hr_ = physio.HR(f2)\n",
    "\n",
    "pupil_ = behavior.PUPIL(f2)\n",
    "\n",
    "# definition of the emotional annotation to be extracted\n",
    "#va = annotation.VA('valence', f3)\n",
    "#ar = annotation.VA('arousal', f3)\n",
    "# extraction of the desired data from the dataset\n",
    "d = datasets.FEAR(signals={hr_,pupil_}, subjects={'2_69'})\n",
    "\n",
    "for s in d.signals:\n",
    "    # preprocess ...\n",
    "    #s.preprocess(show=show)\n",
    "\n",
    "    # ... and extract features from each signal type\n",
    "    s.feature_ext.extract_feat_without_preprocess(s, show=show)\n",
    "\n",
    "hr_data = list(d.signals)[0].features\n",
    "pupil_data = list(d.signals)[1].features"
   ],
   "metadata": {
    "collapsed": false
   }
  },
  {
   "cell_type": "code",
   "execution_count": null,
   "outputs": [],
   "source": [
    "hr_raw = list(d.signals)[0].raw[0]['data']"
   ],
   "metadata": {
    "collapsed": false
   }
  },
  {
   "cell_type": "code",
   "execution_count": null,
   "outputs": [],
   "source": [
    "d.signals"
   ],
   "metadata": {
    "collapsed": false
   }
  },
  {
   "cell_type": "code",
   "execution_count": null,
   "outputs": [],
   "source": [
    "hr_data"
   ],
   "metadata": {
    "collapsed": false
   }
  },
  {
   "cell_type": "code",
   "execution_count": null,
   "outputs": [],
   "source": [
    "pupil_data"
   ],
   "metadata": {
    "collapsed": false
   }
  },
  {
   "cell_type": "markdown",
   "source": [
    "## end test"
   ],
   "metadata": {
    "collapsed": false
   }
  },
  {
   "cell_type": "markdown",
   "source": [
    "prendo un'implementazione di sppca e la applico al nostro caso"
   ],
   "metadata": {
    "collapsed": false
   }
  },
  {
   "cell_type": "markdown",
   "source": [
    "different types of observable data\n",
    "\n",
    "1) gaze\n",
    "2) fisio\n",
    "    2.1) heart rate variability\n",
    "    2.2) eda phasic value\n",
    "3) social anxiety\n",
    "4) aspettativa del dolore"
   ],
   "metadata": {
    "collapsed": false
   }
  },
  {
   "cell_type": "code",
   "execution_count": null,
   "outputs": [],
   "source": [
    "pupil = pupil_data\n",
    "hr = hr_data\n",
    "#eda = data['eda']\n",
    "'''social_anx = data['social anxiety'][:,np.newaxis]\n",
    "pain_exp = data['pain expectation'][:,np.newaxis]'''\n"
   ],
   "metadata": {
    "collapsed": false
   }
  },
  {
   "cell_type": "code",
   "execution_count": null,
   "outputs": [],
   "source": [
    "print(pupil.shape)\n",
    "print(hr.shape)"
   ],
   "metadata": {
    "collapsed": false
   }
  },
  {
   "cell_type": "code",
   "execution_count": null,
   "outputs": [],
   "source": [
    "N_pupil = pupil.shape[0]\n",
    "D_pupil = pupil.shape[1]\n",
    "\n",
    "N_hr = hr.shape[0]\n",
    "D_hr = hr.shape[1]\n",
    "\n",
    "#N_eda = eda.shape[0]\n",
    "#D_eda = eda.shape[1]\n",
    "K = 1\n",
    "\n",
    "print(N_pupil,D_pupil)\n",
    "print(N_hr,D_hr)"
   ],
   "metadata": {
    "collapsed": false
   }
  },
  {
   "cell_type": "code",
   "execution_count": null,
   "metadata": {
    "collapsed": true
   },
   "outputs": [],
   "source": [
    "with pm.Model() as sPPCA:\n",
    "    #dati osservabili\n",
    "    pupil_data = pm.MutableData(\"pupil_data\", pupil.T)\n",
    "    hr_data = pm.MutableData(\"hr_data\", hr.T)\n",
    "    #eda_data = pm.MutableData(\"eda_data\", eda.T)\n",
    "    e_data = pm.ConstantData(\"e_data\", e_labels.T)\n",
    "\n",
    "    #matrici pesi\n",
    "    Wpupil = pm.Normal('Wpupil', mu=at.zeros([D_pupil, K]), sigma=2.0 * at.ones([D_pupil, K]), shape=[D_pupil, K])\n",
    "    Whr = pm.Normal('Whr', mu=at.zeros([D_hr, K]), sigma=2.0 * at.ones([D_hr, K]), shape=[D_hr, K])\n",
    "    #Weda = pm.Normal('Weda', mu=at.zeros([D_eda, K]), sigma=2.0 * at.ones([D_eda, K]), shape=[D_eda, K])\n",
    "\n",
    "    #weight matrix for pain expectation.\n",
    "    #check mu,sigma,shape\n",
    "    Wexp = pm.Normal('W e', mu = at.zeros([D_e,K]), sigma=2.0 * at.ones([D_e, K]),shape=[D_e,K])\n",
    "\n",
    "    #latent space\n",
    "    c = pm.Normal('c', mu=at.zeros([160, K]), sigma=at.ones([160, K]), shape=[160, K])\n",
    "\n",
    "    # dati dell'hrv interpretati come una gaussiana\n",
    "    x_hr = pm.Normal('x_hr', mu=Whr.dot(c.T), sigma=at.ones([D_hr,N_hr]) ,shape=[D_hr, N_hr], observed=hr_data)\n",
    "\n",
    "    # dati della dilatazione pupille interpretati come una gaussiana\n",
    "    x_pupil = pm.Normal('x_pupil', mu=Wpupil.dot(c.T), sigma=at.ones([D_pupil, N_pupil]), shape=[D_pupil, N_pupil], observed=pupil_data)\n",
    "\n",
    "    # pain expectation. ciò che dovremmo inferire dato c\n",
    "    # due strade: binary o multiclass (1-4)\n",
    "    # p = probability of success?\n",
    "    pain_expectation = pm.Bernoulli('pain_exp' , p=pm.math.sigmoid(Wexp.dot(c.T)) , shape =[D_e, N_e], observed=e_data)\n",
    "\n",
    "\n",
    "    #x_hr = pm.Bernoulli('x_hr', p=pm.math.sigmoid(Whr.dot(c.T)), shape=[D_hr, N_hr], observed=hr_data)\n",
    "    #x_eda = pm.Bernoulli('x_eda', p=pm.math.sigmoid(Weda.dot(c.T)), shape=[D_eda, N_eda], observed=eda_data)"
   ]
  },
  {
   "cell_type": "code",
   "execution_count": null,
   "outputs": [],
   "source": [
    "gv = pm.model_to_graphviz(sPPCA)\n",
    "gv.view()"
   ],
   "metadata": {
    "collapsed": false
   }
  },
  {
   "cell_type": "code",
   "execution_count": null,
   "outputs": [],
   "source": [
    "sPPCA.free_RVs"
   ],
   "metadata": {
    "collapsed": false
   }
  },
  {
   "cell_type": "code",
   "execution_count": null,
   "outputs": [],
   "source": [
    "with sPPCA:\n",
    "    trace = pm.sample(1000,init='advi+adapt_diag',chains=1,progressbar=True)"
   ],
   "metadata": {
    "collapsed": false
   }
  },
  {
   "cell_type": "code",
   "execution_count": null,
   "outputs": [],
   "source": [
    "#az.plot_posterior(mean_field.sample(1000), color=\"LightSeaGreen\")\n",
    "az.plot_trace(trace)\n",
    "plt.show()"
   ],
   "metadata": {
    "collapsed": false
   }
  },
  {
   "cell_type": "code",
   "execution_count": null,
   "outputs": [],
   "source": [
    "with sPPCA:\n",
    "    # update values of predictors:\n",
    "    pm.set_data({\"gaze_data\": pupil})\n",
    "    # use the updated values and predict outcomes and probabilities:\n",
    "    posterior_predictive = pm.sample_posterior_predictive(\n",
    "        trace, random_seed=123)\n",
    "hr_pred = posterior_predictive.posterior_predictive[\"x_hr\"]"
   ],
   "metadata": {
    "collapsed": false
   }
  },
  {
   "cell_type": "code",
   "execution_count": null,
   "outputs": [],
   "source": [
    "pupil"
   ],
   "metadata": {
    "collapsed": false
   }
  },
  {
   "cell_type": "code",
   "execution_count": null,
   "outputs": [],
   "source": [
    "print(hr_pred[0])"
   ],
   "metadata": {
    "collapsed": false
   }
  },
  {
   "cell_type": "code",
   "execution_count": null,
   "outputs": [],
   "source": [
    "print(hr_pred[0].shape)"
   ],
   "metadata": {
    "collapsed": false
   }
  },
  {
   "cell_type": "code",
   "execution_count": null,
   "outputs": [],
   "source": [
    "print(float(np.mean(hr_pred[0])))"
   ],
   "metadata": {
    "collapsed": false
   }
  },
  {
   "cell_type": "markdown",
   "source": [
    "median abs deviation prb is not the optimal solution"
   ],
   "metadata": {
    "collapsed": false
   }
  },
  {
   "cell_type": "code",
   "execution_count": null,
   "outputs": [],
   "source": [
    "hr_pred_mean = (stats.median_abs_deviation(hr_pred[0]))[0]\n",
    "hr_pred_mean"
   ],
   "metadata": {
    "collapsed": false
   }
  },
  {
   "cell_type": "code",
   "execution_count": null,
   "outputs": [],
   "source": [
    "hr[0]"
   ],
   "metadata": {
    "collapsed": false
   }
  },
  {
   "cell_type": "code",
   "execution_count": null,
   "outputs": [],
   "source": [
    "#hr_pred_mode= pd.Series([0.006,0.01,0.02,0.003])"
   ],
   "metadata": {
    "collapsed": false
   }
  },
  {
   "cell_type": "markdown",
   "source": [
    "hr and hr_pred_mode devono avere same shape"
   ],
   "metadata": {
    "collapsed": false
   }
  },
  {
   "cell_type": "code",
   "execution_count": null,
   "outputs": [],
   "source": [
    "train_accuracy_hr = (np.subtract(hr[0], hr_pred_mean))\n",
    "print('\\n\\t avg distance hr: \\n' + str(train_accuracy_hr))\n",
    "#print(' ')"
   ],
   "metadata": {
    "collapsed": false
   }
  },
  {
   "cell_type": "code",
   "execution_count": null,
   "outputs": [],
   "source": [
    "with sPPCA:\n",
    "    # update values of predictors:\n",
    "    pm.set_data({\"hr_data\": hr})\n",
    "    # use the updated values and predict outcomes and probabilities:\n",
    "    posterior_predictive = pm.sample_posterior_predictive(\n",
    "        trace, random_seed=123)\n",
    "    gaze_pred = posterior_predictive.posterior_predictive[\"x_gaze\"]"
   ],
   "metadata": {
    "collapsed": false
   }
  },
  {
   "cell_type": "code",
   "execution_count": null,
   "outputs": [],
   "source": [
    "gaze_pred"
   ],
   "metadata": {
    "collapsed": false
   }
  },
  {
   "cell_type": "code",
   "execution_count": null,
   "outputs": [],
   "source": [
    "gaze_pred_mean = np.mean(gaze_pred, axis=0).T.reshape(-1)\n",
    "gaze_true = pupil.reshape(-1)\n",
    "reconstructed_r2 = metrics.r2_score(gaze_true, gaze_pred_mean)\n",
    "\n",
    "print('\\n\\tReconstructed X R2 score: ' + str(reconstructed_r2))"
   ],
   "metadata": {
    "collapsed": false
   }
  },
  {
   "cell_type": "code",
   "execution_count": null,
   "outputs": [],
   "source": [
    "import deepemogp.feature_extractor as feature_extractor"
   ],
   "metadata": {
    "collapsed": false
   }
  },
  {
   "cell_type": "code",
   "execution_count": null,
   "outputs": [],
   "source": [
    "f = feature_extractor.FE('wavelet', window=(8,6), params={'w_mother':'db3','w_maxlev':1})"
   ],
   "metadata": {
    "collapsed": false
   }
  },
  {
   "cell_type": "code",
   "execution_count": null,
   "outputs": [],
   "source": [
    "x = [3, 7, 1, 1, -2, 5, 4, 6]"
   ],
   "metadata": {
    "collapsed": false
   }
  },
  {
   "cell_type": "code",
   "execution_count": null,
   "outputs": [],
   "source": [
    "f.apply(x)"
   ],
   "metadata": {
    "collapsed": false
   }
  },
  {
   "cell_type": "code",
   "execution_count": null,
   "outputs": [],
   "source": [],
   "metadata": {
    "collapsed": false
   }
  }
 ],
 "metadata": {
  "kernelspec": {
   "display_name": "Python 3",
   "language": "python",
   "name": "python3"
  },
  "language_info": {
   "codemirror_mode": {
    "name": "ipython",
    "version": 2
   },
   "file_extension": ".py",
   "mimetype": "text/x-python",
   "name": "python",
   "nbconvert_exporter": "python",
   "pygments_lexer": "ipython2",
   "version": "2.7.6"
  }
 },
 "nbformat": 4,
 "nbformat_minor": 0
}
