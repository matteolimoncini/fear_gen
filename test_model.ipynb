{
 "cells": [
  {
   "cell_type": "markdown",
   "source": [
    "PPCA lavora con più variabili osservabili anzichè una sola"
   ],
   "metadata": {
    "collapsed": false
   }
  },
  {
   "cell_type": "code",
   "execution_count": 1,
   "outputs": [
    {
     "name": "stderr",
     "output_type": "stream",
     "text": [
      "WARNING (aesara.tensor.blas): Using NumPy C-API based implementation for BLAS functions.\n"
     ]
    }
   ],
   "source": [
    "import numpy as np\n",
    "import pymc as pm\n",
    "import matplotlib.pyplot as plt\n",
    "import aesara.tensor as at\n",
    "import arviz as az\n",
    "from sklearn.preprocessing import StandardScaler\n",
    "import sklearn.metrics as metrics\n",
    "from scipy import stats\n",
    "import scipy"
   ],
   "metadata": {
    "collapsed": false
   }
  },
  {
   "cell_type": "code",
   "execution_count": 2,
   "outputs": [],
   "source": [
    "scaler = StandardScaler()"
   ],
   "metadata": {
    "collapsed": false
   }
  },
  {
   "cell_type": "code",
   "execution_count": 3,
   "outputs": [],
   "source": [
    "data = np.load('prova.npy', allow_pickle=True).item()"
   ],
   "metadata": {
    "collapsed": false
   }
  },
  {
   "cell_type": "markdown",
   "source": [
    "## test with new data"
   ],
   "metadata": {
    "collapsed": false
   }
  },
  {
   "cell_type": "code",
   "execution_count": 4,
   "outputs": [
    {
     "name": "stdout",
     "output_type": "stream",
     "text": [
      ">> Loading PUPIL for subject 2 and all sessions from dataset FEAR\n",
      ">> Loading HR for subject 2 and all sessions from dataset FEAR\n",
      ">> Extracting mean features from PUPIL signal, adopting (2, 1) window ...\n",
      ">> Extracting mean features from HR signal, adopting (2, 1) window ...\n",
      "          0\n",
      "0 -0.002085\n",
      "1 -0.002064\n",
      "2 -0.002355\n",
      "3 -0.005520\n",
      "4 -0.002045\n",
      "\n",
      "          0\n",
      "0  2.176351\n",
      "1  2.134074\n",
      "2  2.159014\n",
      "3  2.186318\n"
     ]
    }
   ],
   "source": [
    "import deepemogp.feature_extractor as feature_extractor\n",
    "import deepemogp.signal.physio as physio\n",
    "import deepemogp.signal.face as face\n",
    "import deepemogp.signal.annotation as annotation\n",
    "import deepemogp.datasets as datasets\n",
    "import deepemogp.signal.behavior as behavior\n",
    "\n",
    "# from: https://github.com/SheffieldML/GPy\n",
    "#import GPy\n",
    "# from: https://github.com/SheffieldML/PyDeepGP\n",
    "#import deepgp\n",
    "\n",
    "import pandas as pd\n",
    "import numpy as np\n",
    "\n",
    "show = False\n",
    "# definition of the feature extractors to be used later\n",
    "f1 = feature_extractor.FE('wavelet')\n",
    "f2 = feature_extractor.FE('wavelet', window=(2, 1))\n",
    "f3 = feature_extractor.FE('mean', window=(2, 1))\n",
    "\n",
    "# definition of the physiological signals to be extracted\n",
    "eda = physio.EDA(f3)\n",
    "hr = physio.HR(f3)\n",
    "\n",
    "pupil = behavior.PUPIL(f3)\n",
    "\n",
    "# definition of the emotional annotation to be extracted\n",
    "#va = annotation.VA('valence', f3)\n",
    "#ar = annotation.VA('arousal', f3)\n",
    "# extraction of the desired data from the dataset\n",
    "d = datasets.FEAR(signals={hr,pupil}, subjects={'2'})\n",
    "\n",
    "for s in d.signals:\n",
    "    # preprocess ...\n",
    "    #s.preprocess(show=show)\n",
    "\n",
    "    # ... and extract features from each signal type\n",
    "    s.feature_ext.extract_feat_without_preprocess(s, show=show)\n",
    "\n",
    "hr_data = list(d.signals)[0].features[:100]\n",
    "pupil_data = list(d.signals)[1].features[:100]\n",
    "\n",
    "print(pupil_data)\n",
    "print()\n",
    "print(hr_data)"
   ],
   "metadata": {
    "collapsed": false
   }
  },
  {
   "cell_type": "markdown",
   "source": [
    "## end test"
   ],
   "metadata": {
    "collapsed": false
   }
  },
  {
   "cell_type": "markdown",
   "source": [
    "prendo un'implementazione di sppca e la applico al nostro caso"
   ],
   "metadata": {
    "collapsed": false
   }
  },
  {
   "cell_type": "markdown",
   "source": [
    "different types of observable data\n",
    "\n",
    "1) gaze\n",
    "2) fisio\n",
    "    2.1) heart rate variabilty\n",
    "    2.2) eda phasic value\n",
    "3) social anxiety\n",
    "4) aspettativa del dolore"
   ],
   "metadata": {
    "collapsed": false
   }
  },
  {
   "cell_type": "markdown",
   "source": [
    "gaze ="
   ],
   "metadata": {
    "collapsed": false
   }
  },
  {
   "cell_type": "code",
   "execution_count": 5,
   "outputs": [
    {
     "data": {
      "text/plain": "\"social_anx = data['social anxiety'][:,np.newaxis]\\npain_exp = data['pain expectation'][:,np.newaxis]\""
     },
     "execution_count": 5,
     "metadata": {},
     "output_type": "execute_result"
    }
   ],
   "source": [
    "gaze = pupil_data[:4]\n",
    "hr = hr_data[:4]\n",
    "#eda = data['eda']\n",
    "'''social_anx = data['social anxiety'][:,np.newaxis]\n",
    "pain_exp = data['pain expectation'][:,np.newaxis]'''\n"
   ],
   "metadata": {
    "collapsed": false
   }
  },
  {
   "cell_type": "code",
   "execution_count": 6,
   "outputs": [
    {
     "name": "stdout",
     "output_type": "stream",
     "text": [
      "(4, 1)\n",
      "(4, 1)\n"
     ]
    }
   ],
   "source": [
    "print(gaze.shape)\n",
    "print(hr.shape)"
   ],
   "metadata": {
    "collapsed": false
   }
  },
  {
   "cell_type": "code",
   "execution_count": 7,
   "outputs": [
    {
     "name": "stdout",
     "output_type": "stream",
     "text": [
      "4 1\n",
      "\n",
      "4 1\n"
     ]
    }
   ],
   "source": [
    "N_gaze = gaze.shape[0]\n",
    "D_gaze = gaze.shape[1]\n",
    "\n",
    "N_hr = hr.shape[0]\n",
    "D_hr = hr.shape[1]\n",
    "\n",
    "#N_eda = eda.shape[0]\n",
    "#D_eda = eda.shape[1]\n",
    "K = 1\n",
    "\n",
    "print(N_gaze,D_gaze)\n",
    "print()\n",
    "print(N_hr,D_hr)"
   ],
   "metadata": {
    "collapsed": false
   }
  },
  {
   "cell_type": "code",
   "execution_count": 8,
   "metadata": {
    "collapsed": true
   },
   "outputs": [],
   "source": [
    "with pm.Model() as sPPCA:\n",
    "    #dati osservabili\n",
    "    gaze_data = pm.MutableData(\"gaze_data\", gaze.T)\n",
    "    hr_data = pm.MutableData(\"hr_data\", hr.T)\n",
    "    #eda_data = pm.MutableData(\"eda_data\", eda.T)\n",
    "\n",
    "    #matrici pesi\n",
    "    Wgaze = pm.Normal('Wgaze', mu=at.zeros([D_gaze, K]), sigma=2.0 * at.ones([D_gaze, K]), shape=[D_gaze, K])\n",
    "    Whr = pm.Normal('Whr', mu=at.zeros([D_hr, K]), sigma=2.0 * at.ones([D_hr, K]), shape=[D_hr, K])\n",
    "    #Weda = pm.Normal('Weda', mu=at.zeros([D_eda, K]), sigma=2.0 * at.ones([D_eda, K]), shape=[D_eda, K])\n",
    "\n",
    "    #latent space\n",
    "    c = pm.Normal('c', mu=at.zeros([N_gaze, K]), sigma=at.ones([N_gaze, K]), shape=[N_gaze, K])\n",
    "\n",
    "    x_gaze = pm.Normal('x_gaze', mu=Wgaze.dot(c.T), sigma=at.ones([D_gaze, N_gaze]), shape=[D_gaze, N_gaze], observed=gaze_data)\n",
    "    x_hr = pm.Normal('x_hr', mu=Whr.dot(c.T), sigma=at.ones([D_hr,N_hr]) ,shape=[D_hr, N_hr], observed=hr_data)\n",
    "    #x_hr = pm.Bernoulli('x_hr', p=pm.math.sigmoid(Whr.dot(c.T)), shape=[D_hr, N_hr], observed=hr_data)\n",
    "    #x_eda = pm.Bernoulli('x_eda', p=pm.math.sigmoid(Weda.dot(c.T)), shape=[D_eda, N_eda], observed=eda_data)"
   ]
  },
  {
   "cell_type": "code",
   "execution_count": 9,
   "outputs": [
    {
     "data": {
      "text/plain": "'.gv.pdf'"
     },
     "execution_count": 9,
     "metadata": {},
     "output_type": "execute_result"
    }
   ],
   "source": [
    "gv = pm.model_to_graphviz(sPPCA)\n",
    "gv.view()"
   ],
   "metadata": {
    "collapsed": false
   }
  },
  {
   "cell_type": "code",
   "execution_count": 10,
   "outputs": [
    {
     "data": {
      "text/plain": "[Wgaze ~ N(f(), f()), Whr ~ N(f(), f()), c ~ N(f(), f())]"
     },
     "execution_count": 10,
     "metadata": {},
     "output_type": "execute_result"
    }
   ],
   "source": [
    "sPPCA.free_RVs"
   ],
   "metadata": {
    "collapsed": false
   }
  },
  {
   "cell_type": "code",
   "execution_count": 11,
   "outputs": [
    {
     "name": "stderr",
     "output_type": "stream",
     "text": [
      "qt5ct: using qt5ct plugin\n",
      "Invalid Context= \"Apps\" line for icon theme:  \"/usr/share/icons/Mint-Y/apps/16/\"\n",
      "Invalid Context= \"Apps\" line for icon theme:  \"/usr/share/icons/Mint-Y/apps/16@2x/\"\n",
      "Invalid Context= \"Mimetypes\" line for icon theme:  \"/usr/share/icons/Mint-Y/mimetypes/16/\"\n",
      "Invalid Context= \"Mimetypes\" line for icon theme:  \"/usr/share/icons/Mint-Y/mimetypes/16@2x/\"\n",
      "Invalid Context= \"Apps\" line for icon theme:  \"/usr/share/icons/Mint-Y/apps/22/\"\n",
      "Invalid Context= \"Apps\" line for icon theme:  \"/usr/share/icons/Mint-Y/apps/22@2x/\"\n",
      "Invalid Context= \"Apps\" line for icon theme:  \"/usr/share/icons/Mint-Y/apps/24/\"\n",
      "Invalid Context= \"Apps\" line for icon theme:  \"/usr/share/icons/Mint-Y/apps/24@2x/\"\n",
      "Invalid Context= \"Mimetypes\" line for icon theme:  \"/usr/share/icons/Mint-Y/mimetypes/24/\"\n",
      "Invalid Context= \"Mimetypes\" line for icon theme:  \"/usr/share/icons/Mint-Y/mimetypes/24@2x/\"\n",
      "Invalid Context= \"Apps\" line for icon theme:  \"/usr/share/icons/Mint-Y/apps/32/\"\n",
      "Invalid Context= \"Apps\" line for icon theme:  \"/usr/share/icons/Mint-Y/apps/32@2x/\"\n",
      "Invalid Context= \"Mimetypes\" line for icon theme:  \"/usr/share/icons/Mint-Y/mimetypes/32/\"\n",
      "Invalid Context= \"Mimetypes\" line for icon theme:  \"/usr/share/icons/Mint-Y/mimetypes/32@2x/\"\n",
      "Invalid Context= \"Apps\" line for icon theme:  \"/usr/share/icons/Mint-Y/apps/48/\"\n",
      "Invalid Context= \"Apps\" line for icon theme:  \"/usr/share/icons/Mint-Y/apps/48@2x/\"\n",
      "Invalid Context= \"Mimetypes\" line for icon theme:  \"/usr/share/icons/Mint-Y/mimetypes/48/\"\n",
      "Invalid Context= \"Mimetypes\" line for icon theme:  \"/usr/share/icons/Mint-Y/mimetypes/48@2x/\"\n",
      "Invalid Context= \"Apps\" line for icon theme:  \"/usr/share/icons/Mint-Y/apps/64/\"\n",
      "Invalid Context= \"Apps\" line for icon theme:  \"/usr/share/icons/Mint-Y/apps/64@2x/\"\n",
      "Invalid Context= \"Mimetypes\" line for icon theme:  \"/usr/share/icons/Mint-Y/mimetypes/64/\"\n",
      "Invalid Context= \"Mimetypes\" line for icon theme:  \"/usr/share/icons/Mint-Y/mimetypes/64@2x/\"\n",
      "Invalid Context= \"Apps\" line for icon theme:  \"/usr/share/icons/Mint-Y/apps/96/\"\n",
      "Invalid Context= \"Apps\" line for icon theme:  \"/usr/share/icons/Mint-Y/apps/96@2x/\"\n",
      "Invalid Context= \"Mimetypes\" line for icon theme:  \"/usr/share/icons/Mint-Y/mimetypes/128/\"\n",
      "Invalid Context= \"Mimetypes\" line for icon theme:  \"/usr/share/icons/Mint-Y/mimetypes/128@2x/\"\n",
      "Invalid Context= \"Apps\" line for icon theme:  \"/usr/share/icons/Mint-Y/apps/256/\"\n",
      "Invalid Context= \"Apps\" line for icon theme:  \"/usr/share/icons/Mint-Y/apps/256@2x/\"\n",
      "Invalid Context= \"Apps\" line for icon theme:  \"/usr/share/icons/Mint-Y/apps/symbolic/\"\n",
      "Invalid Context= \"Mimetypes\" line for icon theme:  \"/usr/share/icons/Mint-Y/mimetypes/symbolic/\"\n",
      "Invalid Context= \"Legacy\" line for icon theme:  \"/usr/share/icons/Adwaita/8x8/legacy/\"\n",
      "Invalid Context= \"Legacy\" line for icon theme:  \"/usr/share/icons/Adwaita/16x16/legacy/\"\n",
      "Invalid Context= \"UI\" line for icon theme:  \"/usr/share/icons/Adwaita/16x16/ui/\"\n",
      "Invalid Context= \"Legacy\" line for icon theme:  \"/usr/share/icons/Adwaita/22x22/legacy/\"\n",
      "Invalid Context= \"Legacy\" line for icon theme:  \"/usr/share/icons/Adwaita/24x24/legacy/\"\n",
      "Invalid Context= \"UI\" line for icon theme:  \"/usr/share/icons/Adwaita/24x24/ui/\"\n",
      "Invalid Context= \"Legacy\" line for icon theme:  \"/usr/share/icons/Adwaita/32x32/legacy/\"\n",
      "Invalid Context= \"UI\" line for icon theme:  \"/usr/share/icons/Adwaita/32x32/ui/\"\n",
      "Invalid Context= \"Legacy\" line for icon theme:  \"/usr/share/icons/Adwaita/48x48/legacy/\"\n",
      "Invalid Context= \"UI\" line for icon theme:  \"/usr/share/icons/Adwaita/48x48/ui/\"\n",
      "Invalid Context= \"Legacy\" line for icon theme:  \"/usr/share/icons/Adwaita/64x64/legacy/\"\n",
      "Invalid Context= \"UI\" line for icon theme:  \"/usr/share/icons/Adwaita/64x64/ui/\"\n",
      "Invalid Context= \"Legacy\" line for icon theme:  \"/usr/share/icons/Adwaita/96x96/legacy/\"\n",
      "Invalid Context= \"UI\" line for icon theme:  \"/usr/share/icons/Adwaita/96x96/ui/\"\n",
      "Invalid Context= \"Legacy\" line for icon theme:  \"/usr/share/icons/Adwaita/256x256/legacy/\"\n",
      "Invalid Context= \"Legacy\" line for icon theme:  \"/usr/share/icons/Adwaita/512x512/legacy/\"\n",
      "Invalid Context= \"Legacy\" line for icon theme:  \"/usr/share/icons/Adwaita/scalable/legacy/\"\n",
      "Invalid Context= \"UI\" line for icon theme:  \"/usr/share/icons/Adwaita/scalable/ui/\"\n",
      "qt5ct: D-Bus global menu: no\n",
      "Invalid Context= \"Apps\" line for icon theme:  \"/usr/share/icons/Mint-Y/apps/16/\"\n",
      "Invalid Context= \"Apps\" line for icon theme:  \"/usr/share/icons/Mint-Y/apps/16@2x/\"\n",
      "Invalid Context= \"Mimetypes\" line for icon theme:  \"/usr/share/icons/Mint-Y/mimetypes/16/\"\n",
      "Invalid Context= \"Mimetypes\" line for icon theme:  \"/usr/share/icons/Mint-Y/mimetypes/16@2x/\"\n",
      "Invalid Context= \"Apps\" line for icon theme:  \"/usr/share/icons/Mint-Y/apps/22/\"\n",
      "Invalid Context= \"Apps\" line for icon theme:  \"/usr/share/icons/Mint-Y/apps/22@2x/\"\n",
      "Invalid Context= \"Apps\" line for icon theme:  \"/usr/share/icons/Mint-Y/apps/24/\"\n",
      "Invalid Context= \"Apps\" line for icon theme:  \"/usr/share/icons/Mint-Y/apps/24@2x/\"\n",
      "Invalid Context= \"Mimetypes\" line for icon theme:  \"/usr/share/icons/Mint-Y/mimetypes/24/\"\n",
      "Invalid Context= \"Mimetypes\" line for icon theme:  \"/usr/share/icons/Mint-Y/mimetypes/24@2x/\"\n",
      "Invalid Context= \"Apps\" line for icon theme:  \"/usr/share/icons/Mint-Y/apps/32/\"\n",
      "Invalid Context= \"Apps\" line for icon theme:  \"/usr/share/icons/Mint-Y/apps/32@2x/\"\n",
      "Invalid Context= \"Mimetypes\" line for icon theme:  \"/usr/share/icons/Mint-Y/mimetypes/32/\"\n",
      "Invalid Context= \"Mimetypes\" line for icon theme:  \"/usr/share/icons/Mint-Y/mimetypes/32@2x/\"\n",
      "Invalid Context= \"Apps\" line for icon theme:  \"/usr/share/icons/Mint-Y/apps/48/\"\n",
      "Invalid Context= \"Apps\" line for icon theme:  \"/usr/share/icons/Mint-Y/apps/48@2x/\"\n",
      "Invalid Context= \"Mimetypes\" line for icon theme:  \"/usr/share/icons/Mint-Y/mimetypes/48/\"\n",
      "Invalid Context= \"Mimetypes\" line for icon theme:  \"/usr/share/icons/Mint-Y/mimetypes/48@2x/\"\n",
      "Invalid Context= \"Apps\" line for icon theme:  \"/usr/share/icons/Mint-Y/apps/64/\"\n",
      "Invalid Context= \"Apps\" line for icon theme:  \"/usr/share/icons/Mint-Y/apps/64@2x/\"\n",
      "Invalid Context= \"Mimetypes\" line for icon theme:  \"/usr/share/icons/Mint-Y/mimetypes/64/\"\n",
      "Invalid Context= \"Mimetypes\" line for icon theme:  \"/usr/share/icons/Mint-Y/mimetypes/64@2x/\"\n",
      "Invalid Context= \"Apps\" line for icon theme:  \"/usr/share/icons/Mint-Y/apps/96/\"\n",
      "Invalid Context= \"Apps\" line for icon theme:  \"/usr/share/icons/Mint-Y/apps/96@2x/\"\n",
      "Invalid Context= \"Mimetypes\" line for icon theme:  \"/usr/share/icons/Mint-Y/mimetypes/128/\"\n",
      "Invalid Context= \"Mimetypes\" line for icon theme:  \"/usr/share/icons/Mint-Y/mimetypes/128@2x/\"\n",
      "Invalid Context= \"Apps\" line for icon theme:  \"/usr/share/icons/Mint-Y/apps/256/\"\n",
      "Invalid Context= \"Apps\" line for icon theme:  \"/usr/share/icons/Mint-Y/apps/256@2x/\"\n",
      "Invalid Context= \"Apps\" line for icon theme:  \"/usr/share/icons/Mint-Y/apps/symbolic/\"\n",
      "Invalid Context= \"Mimetypes\" line for icon theme:  \"/usr/share/icons/Mint-Y/mimetypes/symbolic/\"\n",
      "Invalid Context= \"Legacy\" line for icon theme:  \"/usr/share/icons/Adwaita/8x8/legacy/\"\n",
      "Invalid Context= \"Legacy\" line for icon theme:  \"/usr/share/icons/Adwaita/16x16/legacy/\"\n",
      "Invalid Context= \"UI\" line for icon theme:  \"/usr/share/icons/Adwaita/16x16/ui/\"\n",
      "Invalid Context= \"Legacy\" line for icon theme:  \"/usr/share/icons/Adwaita/22x22/legacy/\"\n",
      "Invalid Context= \"Legacy\" line for icon theme:  \"/usr/share/icons/Adwaita/24x24/legacy/\"\n",
      "Invalid Context= \"UI\" line for icon theme:  \"/usr/share/icons/Adwaita/24x24/ui/\"\n",
      "Invalid Context= \"Legacy\" line for icon theme:  \"/usr/share/icons/Adwaita/32x32/legacy/\"\n",
      "Invalid Context= \"UI\" line for icon theme:  \"/usr/share/icons/Adwaita/32x32/ui/\"\n",
      "Invalid Context= \"Legacy\" line for icon theme:  \"/usr/share/icons/Adwaita/48x48/legacy/\"\n",
      "Invalid Context= \"UI\" line for icon theme:  \"/usr/share/icons/Adwaita/48x48/ui/\"\n",
      "Invalid Context= \"Legacy\" line for icon theme:  \"/usr/share/icons/Adwaita/64x64/legacy/\"\n",
      "Invalid Context= \"UI\" line for icon theme:  \"/usr/share/icons/Adwaita/64x64/ui/\"\n",
      "Invalid Context= \"Legacy\" line for icon theme:  \"/usr/share/icons/Adwaita/96x96/legacy/\"\n",
      "Invalid Context= \"UI\" line for icon theme:  \"/usr/share/icons/Adwaita/96x96/ui/\"\n",
      "Invalid Context= \"Legacy\" line for icon theme:  \"/usr/share/icons/Adwaita/256x256/legacy/\"\n",
      "Invalid Context= \"Legacy\" line for icon theme:  \"/usr/share/icons/Adwaita/512x512/legacy/\"\n",
      "Invalid Context= \"Legacy\" line for icon theme:  \"/usr/share/icons/Adwaita/scalable/legacy/\"\n",
      "Invalid Context= \"UI\" line for icon theme:  \"/usr/share/icons/Adwaita/scalable/ui/\"\n",
      "Auto-assigning NUTS sampler...\n",
      "Initializing NUTS using advi+adapt_diag...\n"
     ]
    },
    {
     "data": {
      "text/plain": "<IPython.core.display.HTML object>",
      "text/html": "\n<style>\n    /* Turns off some styling */\n    progress {\n        /* gets rid of default border in Firefox and Opera. */\n        border: none;\n        /* Needs to be in here for Safari polyfill so background images work as expected. */\n        background-size: auto;\n    }\n    progress:not([value]), progress:not([value])::-webkit-progress-bar {\n        background: repeating-linear-gradient(45deg, #7e7e7e, #7e7e7e 10px, #5c5c5c 10px, #5c5c5c 20px);\n    }\n    .progress-bar-interrupted, .progress-bar-interrupted::-webkit-progress-bar {\n        background: #F44336;\n    }\n</style>\n"
     },
     "metadata": {},
     "output_type": "display_data"
    },
    {
     "data": {
      "text/plain": "<IPython.core.display.HTML object>",
      "text/html": "\n    <div>\n      <progress value='0' class='' max='200000' style='width:300px; height:20px; vertical-align: middle;'></progress>\n      \n    </div>\n    "
     },
     "metadata": {},
     "output_type": "display_data"
    },
    {
     "name": "stderr",
     "output_type": "stream",
     "text": [
      "Convergence achieved at 200\n",
      "Interrupted at 199 [0%]: Average Loss = 19.12\n",
      "Sequential sampling (1 chains in 1 job)\n",
      "NUTS: [Wgaze, Whr, c]\n"
     ]
    },
    {
     "data": {
      "text/plain": "<IPython.core.display.HTML object>",
      "text/html": "\n<style>\n    /* Turns off some styling */\n    progress {\n        /* gets rid of default border in Firefox and Opera. */\n        border: none;\n        /* Needs to be in here for Safari polyfill so background images work as expected. */\n        background-size: auto;\n    }\n    progress:not([value]), progress:not([value])::-webkit-progress-bar {\n        background: repeating-linear-gradient(45deg, #7e7e7e, #7e7e7e 10px, #5c5c5c 10px, #5c5c5c 20px);\n    }\n    .progress-bar-interrupted, .progress-bar-interrupted::-webkit-progress-bar {\n        background: #F44336;\n    }\n</style>\n"
     },
     "metadata": {},
     "output_type": "display_data"
    },
    {
     "data": {
      "text/plain": "<IPython.core.display.HTML object>",
      "text/html": "\n    <div>\n      <progress value='0' class='' max='2000' style='width:300px; height:20px; vertical-align: middle;'></progress>\n      \n    </div>\n    "
     },
     "metadata": {},
     "output_type": "display_data"
    },
    {
     "name": "stderr",
     "output_type": "stream",
     "text": [
      "Sampling 1 chain for 1_000 tune and 1_000 draw iterations (1_000 + 1_000 draws total) took 7 seconds.\n",
      "The acceptance probability does not match the target. It is 0.9245, but should be close to 0.8. Try to increase the number of tuning steps.\n"
     ]
    }
   ],
   "source": [
    "with sPPCA:\n",
    "    trace = pm.sample(1000,init='advi+adapt_diag',chains=1,progressbar=True)"
   ],
   "metadata": {
    "collapsed": false
   }
  },
  {
   "cell_type": "code",
   "execution_count": 12,
   "outputs": [
    {
     "data": {
      "text/plain": "<Figure size 1200x600 with 6 Axes>",
      "image/png": "[encoded data removed]"
     },
     "metadata": {},
     "output_type": "display_data"
    }
   ],
   "source": [
    "#az.plot_posterior(mean_field.sample(1000), color=\"LightSeaGreen\")\n",
    "az.plot_trace(trace)\n",
    "plt.show()"
   ],
   "metadata": {
    "collapsed": false
   }
  },
  {
   "cell_type": "code",
   "execution_count": 13,
   "outputs": [
    {
     "name": "stderr",
     "output_type": "stream",
     "text": [
      "Sampling: [x_gaze, x_hr]\n"
     ]
    },
    {
     "data": {
      "text/plain": "<IPython.core.display.HTML object>",
      "text/html": "\n<style>\n    /* Turns off some styling */\n    progress {\n        /* gets rid of default border in Firefox and Opera. */\n        border: none;\n        /* Needs to be in here for Safari polyfill so background images work as expected. */\n        background-size: auto;\n    }\n    progress:not([value]), progress:not([value])::-webkit-progress-bar {\n        background: repeating-linear-gradient(45deg, #7e7e7e, #7e7e7e 10px, #5c5c5c 10px, #5c5c5c 20px);\n    }\n    .progress-bar-interrupted, .progress-bar-interrupted::-webkit-progress-bar {\n        background: #F44336;\n    }\n</style>\n"
     },
     "metadata": {},
     "output_type": "display_data"
    },
    {
     "data": {
      "text/plain": "<IPython.core.display.HTML object>",
      "text/html": "\n    <div>\n      <progress value='0' class='' max='1000' style='width:300px; height:20px; vertical-align: middle;'></progress>\n      \n    </div>\n    "
     },
     "metadata": {},
     "output_type": "display_data"
    }
   ],
   "source": [
    "with sPPCA:\n",
    "    # update values of predictors:\n",
    "    pm.set_data({\"gaze_data\": gaze})\n",
    "    # use the updated values and predict outcomes and probabilities:\n",
    "    posterior_predictive = pm.sample_posterior_predictive(\n",
    "        trace, random_seed=123)\n",
    "hr_pred = posterior_predictive.posterior_predictive[\"x_hr\"]"
   ],
   "metadata": {
    "collapsed": false
   }
  },
  {
   "cell_type": "code",
   "execution_count": 14,
   "outputs": [
    {
     "data": {
      "text/plain": "          0\n0 -0.002085\n1 -0.002064\n2 -0.002355\n3 -0.005520",
      "text/html": "<div>\n<style scoped>\n    .dataframe tbody tr th:only-of-type {\n        vertical-align: middle;\n    }\n\n    .dataframe tbody tr th {\n        vertical-align: top;\n    }\n\n    .dataframe thead th {\n        text-align: right;\n    }\n</style>\n<table border=\"1\" class=\"dataframe\">\n  <thead>\n    <tr style=\"text-align: right;\">\n      <th></th>\n      <th>0</th>\n    </tr>\n  </thead>\n  <tbody>\n    <tr>\n      <th>0</th>\n      <td>-0.002085</td>\n    </tr>\n    <tr>\n      <th>1</th>\n      <td>-0.002064</td>\n    </tr>\n    <tr>\n      <th>2</th>\n      <td>-0.002355</td>\n    </tr>\n    <tr>\n      <th>3</th>\n      <td>-0.005520</td>\n    </tr>\n  </tbody>\n</table>\n</div>"
     },
     "execution_count": 14,
     "metadata": {},
     "output_type": "execute_result"
    }
   ],
   "source": [
    "gaze"
   ],
   "metadata": {
    "collapsed": false
   }
  },
  {
   "cell_type": "code",
   "execution_count": 15,
   "outputs": [
    {
     "name": "stdout",
     "output_type": "stream",
     "text": [
      "<xarray.DataArray 'x_hr' (draw: 1000, x_hr_dim_0: 1, x_hr_dim_1: 4)>\n",
      "array([[[ 1.79243938, -0.51917628,  0.88385416,  2.12223528]],\n",
      "\n",
      "       [[ 3.4277032 ,  1.75847073,  2.47844686,  2.6588568 ]],\n",
      "\n",
      "       [[ 0.85505366,  1.37991431,  1.92723707,  1.66226624]],\n",
      "\n",
      "       ...,\n",
      "\n",
      "       [[ 1.19974844,  2.59545982,  1.81588841,  0.49346766]],\n",
      "\n",
      "       [[ 0.85965032,  1.32157039,  1.7804042 ,  3.05367464]],\n",
      "\n",
      "       [[ 0.50634619,  1.2188778 ,  1.32356966,  1.74301061]]])\n",
      "Coordinates:\n",
      "    chain       int64 0\n",
      "  * draw        (draw) int64 0 1 2 3 4 5 6 7 ... 992 993 994 995 996 997 998 999\n",
      "  * x_hr_dim_0  (x_hr_dim_0) int64 0\n",
      "  * x_hr_dim_1  (x_hr_dim_1) int64 0 1 2 3\n"
     ]
    }
   ],
   "source": [
    "print(hr_pred[0])"
   ],
   "metadata": {
    "collapsed": false
   }
  },
  {
   "cell_type": "code",
   "execution_count": 16,
   "outputs": [
    {
     "name": "stdout",
     "output_type": "stream",
     "text": [
      "(1000, 1, 4)\n"
     ]
    }
   ],
   "source": [
    "print(hr_pred[0].shape)"
   ],
   "metadata": {
    "collapsed": false
   }
  },
  {
   "cell_type": "code",
   "execution_count": 17,
   "outputs": [
    {
     "name": "stdout",
     "output_type": "stream",
     "text": [
      "1.5630987280506692\n"
     ]
    }
   ],
   "source": [
    "print(float(np.mean(hr_pred[0])))"
   ],
   "metadata": {
    "collapsed": false
   }
  },
  {
   "cell_type": "markdown",
   "source": [
    "median abs deviation prb is not the optimal solution"
   ],
   "metadata": {
    "collapsed": false
   }
  },
  {
   "cell_type": "code",
   "execution_count": 18,
   "outputs": [
    {
     "data": {
      "text/plain": "array([0.90060512, 0.94243427, 1.02269543, 0.9241917 ])"
     },
     "execution_count": 18,
     "metadata": {},
     "output_type": "execute_result"
    }
   ],
   "source": [
    "hr_pred_mean = (stats.median_abs_deviation(hr_pred[0]))[0]\n",
    "hr_pred_mean"
   ],
   "metadata": {
    "collapsed": false
   }
  },
  {
   "cell_type": "code",
   "execution_count": 19,
   "outputs": [
    {
     "data": {
      "text/plain": "0    2.176351\n1    2.134074\n2    2.159014\n3    2.186318\nName: 0, dtype: float64"
     },
     "execution_count": 19,
     "metadata": {},
     "output_type": "execute_result"
    }
   ],
   "source": [
    "hr[0]"
   ],
   "metadata": {
    "collapsed": false
   }
  },
  {
   "cell_type": "code",
   "execution_count": 20,
   "outputs": [],
   "source": [
    "#hr_pred_mode= pd.Series([0.006,0.01,0.02,0.003])"
   ],
   "metadata": {
    "collapsed": false
   }
  },
  {
   "cell_type": "markdown",
   "source": [
    "hr and hr_pred_mode devono avere same shape"
   ],
   "metadata": {
    "collapsed": false
   }
  },
  {
   "cell_type": "code",
   "execution_count": 21,
   "outputs": [
    {
     "name": "stdout",
     "output_type": "stream",
     "text": [
      "\n",
      "\t avg distance hr: \n",
      "0    1.275746\n",
      "1    1.191640\n",
      "2    1.136318\n",
      "3    1.262126\n",
      "Name: 0, dtype: float64\n"
     ]
    }
   ],
   "source": [
    "train_accuracy_hr = (np.subtract(hr[0], hr_pred_mean))\n",
    "print('\\n\\t avg distance hr: \\n' + str(train_accuracy_hr))\n",
    "#print(' ')"
   ],
   "metadata": {
    "collapsed": false
   }
  },
  {
   "cell_type": "code",
   "execution_count": null,
   "outputs": [
    {
     "name": "stderr",
     "output_type": "stream",
     "text": [
      "Sampling: [x_gaze, x_hr]\n"
     ]
    },
    {
     "data": {
      "text/plain": "<IPython.core.display.HTML object>",
      "text/html": "\n<style>\n    /* Turns off some styling */\n    progress {\n        /* gets rid of default border in Firefox and Opera. */\n        border: none;\n        /* Needs to be in here for Safari polyfill so background images work as expected. */\n        background-size: auto;\n    }\n    progress:not([value]), progress:not([value])::-webkit-progress-bar {\n        background: repeating-linear-gradient(45deg, #7e7e7e, #7e7e7e 10px, #5c5c5c 10px, #5c5c5c 20px);\n    }\n    .progress-bar-interrupted, .progress-bar-interrupted::-webkit-progress-bar {\n        background: #F44336;\n    }\n</style>\n"
     },
     "metadata": {},
     "output_type": "display_data"
    },
    {
     "data": {
      "text/plain": "<IPython.core.display.HTML object>",
      "text/html": "\n    <div>\n      <progress value='0' class='' max='1000' style='width:300px; height:20px; vertical-align: middle;'></progress>\n      \n    </div>\n    "
     },
     "metadata": {},
     "output_type": "display_data"
    }
   ],
   "source": [
    "with sPPCA:\n",
    "    # update values of predictors:\n",
    "    pm.set_data({\"hr_data\": hr})\n",
    "    # use the updated values and predict outcomes and probabilities:\n",
    "    posterior_predictive = pm.sample_posterior_predictive(\n",
    "        trace, random_seed=123)\n",
    "    gaze_pred = posterior_predictive.posterior_predictive[\"x_gaze\"]"
   ],
   "metadata": {
    "collapsed": false,
    "pycharm": {
     "is_executing": true
    }
   }
  },
  {
   "cell_type": "code",
   "execution_count": null,
   "outputs": [],
   "source": [
    "gaze_pred"
   ],
   "metadata": {
    "collapsed": false,
    "pycharm": {
     "is_executing": true
    }
   }
  },
  {
   "cell_type": "code",
   "execution_count": null,
   "outputs": [],
   "source": [
    "gaze_pred_mean = np.mean(gaze_pred, axis=0).T.reshape(-1)\n",
    "gaze_true = gaze.reshape(-1)\n",
    "reconstructed_r2 = r2_score(gaze_true, gaze_pred_mean)\n",
    "\n",
    "print('\\n\\tReconstructed X R2 score: ' + str(reconstructed_r2))"
   ],
   "metadata": {
    "collapsed": false,
    "pycharm": {
     "is_executing": true
    }
   }
  },
  {
   "cell_type": "code",
   "execution_count": null,
   "outputs": [],
   "source": [
    "import deepemogp.feature_extractor as feature_extractor"
   ],
   "metadata": {
    "collapsed": false,
    "pycharm": {
     "is_executing": true
    }
   }
  },
  {
   "cell_type": "code",
   "execution_count": null,
   "outputs": [],
   "source": [
    "f = feature_extractor.FE('wavelet', window=(8,6), params={'w_mother':'db3','w_maxlev':1})"
   ],
   "metadata": {
    "collapsed": false,
    "pycharm": {
     "is_executing": true
    }
   }
  },
  {
   "cell_type": "code",
   "execution_count": null,
   "outputs": [],
   "source": [
    "x = [3, 7, 1, 1, -2, 5, 4, 6]"
   ],
   "metadata": {
    "collapsed": false,
    "pycharm": {
     "is_executing": true
    }
   }
  },
  {
   "cell_type": "code",
   "execution_count": null,
   "outputs": [],
   "source": [
    "f.apply(x)"
   ],
   "metadata": {
    "collapsed": false,
    "pycharm": {
     "is_executing": true
    }
   }
  },
  {
   "cell_type": "code",
   "execution_count": null,
   "outputs": [],
   "source": [],
   "metadata": {
    "collapsed": false,
    "pycharm": {
     "is_executing": true
    }
   }
  }
 ],
 "metadata": {
  "kernelspec": {
   "display_name": "Python 3",
   "language": "python",
   "name": "python3"
  },
  "language_info": {
   "codemirror_mode": {
    "name": "ipython",
    "version": 2
   },
   "file_extension": ".py",
   "mimetype": "text/x-python",
   "name": "python",
   "nbconvert_exporter": "python",
   "pygments_lexer": "ipython2",
   "version": "2.7.6"
  }
 },
 "nbformat": 4,
 "nbformat_minor": 0
}
