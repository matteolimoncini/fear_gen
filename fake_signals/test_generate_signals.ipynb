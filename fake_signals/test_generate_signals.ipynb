{
 "cells": [
  {
   "cell_type": "markdown",
   "source": [],
   "metadata": {
    "collapsed": false
   }
  },
  {
   "cell_type": "markdown",
   "source": [
    "Generate 112 trials (for now 1 only subject)\n",
    "\n",
    "trials with shock after n seconds change physio signals\n",
    "trials w\\out shock no change in physio"
   ],
   "metadata": {
    "collapsed": false
   }
  },
  {
   "cell_type": "code",
   "execution_count": 1,
   "metadata": {
    "collapsed": true
   },
   "outputs": [],
   "source": [
    "# Load NeuroKit and other useful packages\n",
    "import neurokit2 as nk\n",
    "import numpy as np\n",
    "import pandas as pd\n",
    "import seaborn as sns\n",
    "import matplotlib.pyplot as plt\n",
    "import random"
   ]
  },
  {
   "cell_type": "code",
   "execution_count": 2,
   "outputs": [],
   "source": [
    "TRIAL_LEN = 6\n",
    "SHOCK_TIME = 4\n",
    "AFTER_SHOCK = TRIAL_LEN-SHOCK_TIME\n",
    "BPM_LOW = list(range(50,70))\n",
    "BPM_HIGH = list(range(80,110))\n",
    "DRIFT_RANGE= list(map(lambda x: x/1000.0, range(1, 10, 1)))\n",
    "\n",
    "SEED = 1234\n",
    "SAMPLING_RATE_HR = 500\n",
    "SAMPLING_RATE_EDA = 500\n",
    "THRESHOLD_BINARY = 2\n",
    "assert SHOCK_TIME <= TRIAL_LEN"
   ],
   "metadata": {
    "collapsed": false
   }
  },
  {
   "cell_type": "code",
   "execution_count": 24,
   "outputs": [],
   "source": [
    "def generate_fake_eda_hr_shock(noise_hr=0.01,noise_eda=0.05,seed=None):\n",
    "    random.seed(seed)\n",
    "    ecg_low = nk.ecg_simulate(duration=SHOCK_TIME, noise=noise_hr, heart_rate=random.choice(BPM_LOW),sampling_rate=SAMPLING_RATE_HR)\n",
    "    random.seed(seed)\n",
    "    ecg_high = nk.ecg_simulate(duration=TRIAL_LEN-SHOCK_TIME, noise=noise_hr, heart_rate=random.choice(BPM_HIGH),sampling_rate=SAMPLING_RATE_HR)\n",
    "    ecg=np.concatenate([ecg_low,ecg_high])\n",
    "\n",
    "    while True:\n",
    "        random.seed(seed)\n",
    "        eda_test = nk.eda_simulate(duration=20, scr_number=2, noise=noise_eda,drift=random.choice(DRIFT_RANGE))\n",
    "        signals, info = nk.eda_process(eda_test, sampling_rate=SAMPLING_RATE_EDA)\n",
    "\n",
    "        if (info['SCR_Recovery'][0] is not None) and (info['SCR_Onsets'][1] is not None) and (not pd.isna(info['SCR_Recovery'][0])) and (not pd.isna(info['SCR_Onsets'][1])) :\n",
    "            peak = int(info['SCR_Recovery'][0])\n",
    "            peak_ = int(info['SCR_Onsets'][1])\n",
    "            if peak_- peak > SAMPLING_RATE_EDA*TRIAL_LEN:\n",
    "                break\n",
    "\n",
    "    eda_low = eda_test[peak:peak_]\n",
    "    eda_low = eda_low[-SHOCK_TIME*SAMPLING_RATE_EDA:]\n",
    "    eda_high = eda_test[peak_:peak_+AFTER_SHOCK*SAMPLING_RATE_EDA]\n",
    "    eda = np.concatenate([eda_low,eda_high])\n",
    "\n",
    "    return ecg,eda"
   ],
   "metadata": {
    "collapsed": false
   }
  },
  {
   "cell_type": "code",
   "execution_count": 25,
   "outputs": [],
   "source": [
    "def generate_fake_eda_hr_noshock(noise_hr=0.01,noise_eda=0.05,seed=None):\n",
    "    random.seed(seed)\n",
    "    ecg = nk.ecg_simulate(duration=TRIAL_LEN, noise=noise_hr, heart_rate=random.choice(BPM_LOW),sampling_rate=SAMPLING_RATE_HR)\n",
    "\n",
    "    while True:\n",
    "        random.seed(seed)\n",
    "        eda_test = nk.eda_simulate(duration=20, scr_number=2, noise=noise_eda,drift=random.choice(DRIFT_RANGE))\n",
    "        signals, info = nk.eda_process(eda_test, sampling_rate=SAMPLING_RATE_EDA)\n",
    "\n",
    "        if (info['SCR_Recovery'][0] is not None) and (info['SCR_Onsets'][1] is not None) and (not pd.isna(info['SCR_Recovery'][0])) and (not pd.isna(info['SCR_Onsets'][1])) :\n",
    "            peak = int(info['SCR_Recovery'][0])\n",
    "            peak_ = int(info['SCR_Onsets'][1])\n",
    "            if (peak_- peak) > (SAMPLING_RATE_EDA*TRIAL_LEN):\n",
    "                break\n",
    "\n",
    "    eda_low = eda_test[peak:peak_]\n",
    "    eda = eda_low[-TRIAL_LEN*SAMPLING_RATE_EDA:]\n",
    "\n",
    "    return ecg,eda"
   ],
   "metadata": {
    "collapsed": false
   }
  },
  {
   "cell_type": "code",
   "execution_count": 5,
   "outputs": [],
   "source": [
    "ecg_high, eda_high = generate_fake_eda_hr_shock()\n",
    "ecg_low,eda_low = generate_fake_eda_hr_noshock()"
   ],
   "metadata": {
    "collapsed": false
   }
  },
  {
   "cell_type": "code",
   "execution_count": 26,
   "outputs": [],
   "source": [
    "df = pd.read_csv('csv_shock.csv')\n",
    "df.drop(columns=df.columns[0], axis=1, inplace=True)\n",
    "df_subj = df['subject'].unique()"
   ],
   "metadata": {
    "collapsed": false
   }
  },
  {
   "cell_type": "code",
   "execution_count": 16,
   "outputs": [
    {
     "data": {
      "text/plain": "     subject  trial  rating  shock\n0          2      1     3.0  False\n1          2      2     3.0  False\n2          2      3     3.0  False\n3          2      4     3.0  False\n4          2      5     3.0  False\n..       ...    ...     ...    ...\n155        2    156     1.0  False\n156        2    157     1.0  False\n157        2    158     1.0  False\n158        2    159     1.0  False\n159        2    160     4.0  False\n\n[160 rows x 4 columns]",
      "text/html": "<div>\n<style scoped>\n    .dataframe tbody tr th:only-of-type {\n        vertical-align: middle;\n    }\n\n    .dataframe tbody tr th {\n        vertical-align: top;\n    }\n\n    .dataframe thead th {\n        text-align: right;\n    }\n</style>\n<table border=\"1\" class=\"dataframe\">\n  <thead>\n    <tr style=\"text-align: right;\">\n      <th></th>\n      <th>subject</th>\n      <th>trial</th>\n      <th>rating</th>\n      <th>shock</th>\n    </tr>\n  </thead>\n  <tbody>\n    <tr>\n      <th>0</th>\n      <td>2</td>\n      <td>1</td>\n      <td>3.0</td>\n      <td>False</td>\n    </tr>\n    <tr>\n      <th>1</th>\n      <td>2</td>\n      <td>2</td>\n      <td>3.0</td>\n      <td>False</td>\n    </tr>\n    <tr>\n      <th>2</th>\n      <td>2</td>\n      <td>3</td>\n      <td>3.0</td>\n      <td>False</td>\n    </tr>\n    <tr>\n      <th>3</th>\n      <td>2</td>\n      <td>4</td>\n      <td>3.0</td>\n      <td>False</td>\n    </tr>\n    <tr>\n      <th>4</th>\n      <td>2</td>\n      <td>5</td>\n      <td>3.0</td>\n      <td>False</td>\n    </tr>\n    <tr>\n      <th>...</th>\n      <td>...</td>\n      <td>...</td>\n      <td>...</td>\n      <td>...</td>\n    </tr>\n    <tr>\n      <th>155</th>\n      <td>2</td>\n      <td>156</td>\n      <td>1.0</td>\n      <td>False</td>\n    </tr>\n    <tr>\n      <th>156</th>\n      <td>2</td>\n      <td>157</td>\n      <td>1.0</td>\n      <td>False</td>\n    </tr>\n    <tr>\n      <th>157</th>\n      <td>2</td>\n      <td>158</td>\n      <td>1.0</td>\n      <td>False</td>\n    </tr>\n    <tr>\n      <th>158</th>\n      <td>2</td>\n      <td>159</td>\n      <td>1.0</td>\n      <td>False</td>\n    </tr>\n    <tr>\n      <th>159</th>\n      <td>2</td>\n      <td>160</td>\n      <td>4.0</td>\n      <td>False</td>\n    </tr>\n  </tbody>\n</table>\n<p>160 rows × 4 columns</p>\n</div>"
     },
     "execution_count": 16,
     "metadata": {},
     "output_type": "execute_result"
    }
   ],
   "source": [
    "df[df['subject']==2]"
   ],
   "metadata": {
    "collapsed": false
   }
  },
  {
   "cell_type": "code",
   "execution_count": 27,
   "outputs": [
    {
     "name": "stdout",
     "output_type": "stream",
     "text": [
      "subject done\n",
      "subject done\n",
      "subject done\n",
      "subject done\n",
      "subject done\n",
      "subject done\n",
      "subject done\n",
      "subject done\n",
      "subject done\n",
      "subject done\n",
      "subject done\n",
      "subject done\n",
      "subject done\n",
      "subject done\n",
      "subject done\n",
      "subject done\n",
      "subject done\n"
     ]
    }
   ],
   "source": [
    "for subject in df_subj:\n",
    "\n",
    "    df_eda = list()\n",
    "    df_hr = list()\n",
    "    #df_eda = [list(range(SAMPLING_RATE_EDA))]\n",
    "    df_tmp = df[df['subject']==subject]\n",
    "\n",
    "    for index,row in df_tmp.iterrows():\n",
    "\n",
    "        if row['rating'] > THRESHOLD_BINARY:\n",
    "            hr,eda = generate_fake_eda_hr_shock()\n",
    "        else:\n",
    "            hr,eda = generate_fake_eda_hr_noshock()\n",
    "\n",
    "        #df_eda.append(eda)\n",
    "        df_hr.append(hr)\n",
    "\n",
    "    df_hr= pd.DataFrame(df_hr)\n",
    "    df_hr.to_csv(r'data_fake/hr/'+str(subject)+'_hr.csv', index=False)\n",
    "    #df_eda = pd.DataFrame(df_eda)\n",
    "    #df_eda.to_csv(r'data_fake/eda/'+str(subject)+'_eda.csv', index=False)\n",
    "    print('subject done')"
   ],
   "metadata": {
    "collapsed": false
   }
  },
  {
   "cell_type": "code",
   "execution_count": null,
   "outputs": [],
   "source": [],
   "metadata": {
    "collapsed": false
   }
  }
 ],
 "metadata": {
  "kernelspec": {
   "display_name": "Python 3",
   "language": "python",
   "name": "python3"
  },
  "language_info": {
   "codemirror_mode": {
    "name": "ipython",
    "version": 2
   },
   "file_extension": ".py",
   "mimetype": "text/x-python",
   "name": "python",
   "nbconvert_exporter": "python",
   "pygments_lexer": "ipython2",
   "version": "2.7.6"
  }
 },
 "nbformat": 4,
 "nbformat_minor": 0
}
