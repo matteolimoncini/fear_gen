{
 "cells": [
  {
   "cell_type": "markdown",
   "source": [],
   "metadata": {
    "collapsed": false
   }
  },
  {
   "cell_type": "markdown",
   "source": [
    "Generate 112 trials (for now 1 only subject)\n",
    "\n",
    "trials with shock after n seconds change physio signals\n",
    "trials w\\out shock no change in physio"
   ],
   "metadata": {
    "collapsed": false
   }
  },
  {
   "cell_type": "code",
   "execution_count": 1,
   "metadata": {
    "collapsed": true
   },
   "outputs": [],
   "source": [
    "# Load NeuroKit and other useful packages\n",
    "import neurokit2 as nk\n",
    "import numpy as np\n",
    "import pandas as pd\n",
    "import seaborn as sns\n",
    "import matplotlib.pyplot as plt\n",
    "import random"
   ]
  },
  {
   "cell_type": "code",
   "execution_count": 2,
   "outputs": [],
   "source": [
    "TRIAL_LEN = 6\n",
    "SHOCK_TIME = 4\n",
    "AFTER_SHOCK = TRIAL_LEN-SHOCK_TIME\n",
    "BPM_LOW = list(range(50,70))\n",
    "BPM_HIGH = list(range(80,110))\n",
    "DRIFT_RANGE= list(map(lambda x: x/1000.0, range(1, 10, 1)))\n",
    "\n",
    "SEED = 1234\n",
    "SAMPLING_RATE_HR = 500\n",
    "SAMPLING_RATE_EDA = 500\n",
    "THRESHOLD_BINARY = 2\n",
    "assert SHOCK_TIME <= TRIAL_LEN"
   ],
   "metadata": {
    "collapsed": false
   }
  },
  {
   "cell_type": "code",
   "execution_count": 3,
   "outputs": [],
   "source": [
    "def generate_fake_eda_hr_shock(noise_hr=0.01,noise_eda=0.05,seed=None):\n",
    "    random.seed(seed)\n",
    "    ecg_low = nk.ecg_simulate(duration=SHOCK_TIME, noise=noise_hr, heart_rate=random.choice(BPM_LOW))\n",
    "    random.seed(seed)\n",
    "    ecg_high = nk.ecg_simulate(duration=TRIAL_LEN-SHOCK_TIME, noise=noise_hr, heart_rate=random.choice(BPM_HIGH))\n",
    "    ecg=np.concatenate([ecg_low,ecg_high])\n",
    "\n",
    "    while True:\n",
    "        random.seed(seed)\n",
    "        eda_test = nk.eda_simulate(duration=20, scr_number=2, noise=noise_eda,drift=random.choice(DRIFT_RANGE))\n",
    "        signals, info = nk.eda_process(eda_test, sampling_rate=SAMPLING_RATE_EDA)\n",
    "\n",
    "        if ((info['SCR_Recovery'][0]) is not None) and ((info['SCR_Onsets'][1]) is not None):\n",
    "            peak = int(info['SCR_Recovery'][0])\n",
    "            peak_ = int(info['SCR_Onsets'][1])\n",
    "            if peak_- peak > SAMPLING_RATE_EDA*TRIAL_LEN:\n",
    "                break\n",
    "\n",
    "    eda_low = eda_test[peak:peak_]\n",
    "    eda_low = eda_low[-SHOCK_TIME*SAMPLING_RATE_EDA:]\n",
    "    eda_high = eda_test[peak_:peak_+AFTER_SHOCK*SAMPLING_RATE_EDA]\n",
    "    eda = np.concatenate([eda_low,eda_high])\n",
    "\n",
    "    return ecg,eda"
   ],
   "metadata": {
    "collapsed": false
   }
  },
  {
   "cell_type": "code",
   "execution_count": 4,
   "outputs": [],
   "source": [
    "def generate_fake_eda_hr_noshock(noise_hr=0.01,noise_eda=0.05,seed=None):\n",
    "    random.seed(seed)\n",
    "    ecg = nk.ecg_simulate(duration=TRIAL_LEN, noise=noise_hr, heart_rate=random.choice(BPM_LOW))\n",
    "\n",
    "    while True:\n",
    "        random.seed(seed)\n",
    "        eda_test = nk.eda_simulate(duration=20, scr_number=2, noise=noise_eda,drift=random.choice(DRIFT_RANGE))\n",
    "        signals, info = nk.eda_process(eda_test, sampling_rate=SAMPLING_RATE_EDA)\n",
    "\n",
    "        if (info['SCR_Recovery'][0] is not None) and (info['SCR_Onsets'][1] is not None):\n",
    "            peak = int(info['SCR_Recovery'][0])\n",
    "            peak_ = int(info['SCR_Onsets'][1])\n",
    "            if (peak_- peak) > (SAMPLING_RATE_EDA*TRIAL_LEN):\n",
    "                break\n",
    "\n",
    "    eda_low = eda_test[peak:peak_]\n",
    "    eda = eda_low[-TRIAL_LEN*SAMPLING_RATE_EDA:]\n",
    "\n",
    "    return ecg,eda"
   ],
   "metadata": {
    "collapsed": false
   }
  },
  {
   "cell_type": "code",
   "execution_count": 5,
   "outputs": [],
   "source": [
    "ecg_high, eda_high = generate_fake_eda_hr_shock()\n",
    "ecg_low,eda_low = generate_fake_eda_hr_noshock()"
   ],
   "metadata": {
    "collapsed": false
   }
  },
  {
   "cell_type": "code",
   "execution_count": 6,
   "outputs": [],
   "source": [
    "df = pd.read_csv('csv_shock.csv')\n",
    "df.drop(columns=df.columns[0], axis=1, inplace=True)\n",
    "df_subj = df['subject'].unique()"
   ],
   "metadata": {
    "collapsed": false
   }
  },
  {
   "cell_type": "code",
   "execution_count": 7,
   "outputs": [
    {
     "ename": "ValueError",
     "evalue": "cannot convert float NaN to integer",
     "output_type": "error",
     "traceback": [
      "\u001B[0;31m---------------------------------------------------------------------------\u001B[0m",
      "\u001B[0;31mValueError\u001B[0m                                Traceback (most recent call last)",
      "Cell \u001B[0;32mIn [7], line 9\u001B[0m\n\u001B[1;32m      6\u001B[0m \u001B[38;5;28;01mfor\u001B[39;00m index,row \u001B[38;5;129;01min\u001B[39;00m df_tmp\u001B[38;5;241m.\u001B[39miterrows():\n\u001B[1;32m      8\u001B[0m     \u001B[38;5;28;01mif\u001B[39;00m row[\u001B[38;5;124m'\u001B[39m\u001B[38;5;124mrating\u001B[39m\u001B[38;5;124m'\u001B[39m] \u001B[38;5;241m>\u001B[39m THRESHOLD_BINARY:\n\u001B[0;32m----> 9\u001B[0m         hr,eda \u001B[38;5;241m=\u001B[39m generate_fake_eda_hr_shock()\n\u001B[1;32m     10\u001B[0m     \u001B[38;5;28;01melse\u001B[39;00m:\n\u001B[1;32m     11\u001B[0m         hr,eda \u001B[38;5;241m=\u001B[39m generate_fake_eda_hr_noshock()\n",
      "Cell \u001B[0;32mIn [3], line 14\u001B[0m, in \u001B[0;36mgenerate_fake_eda_hr_shock\u001B[0;34m(noise_hr, noise_eda, seed)\u001B[0m\n\u001B[1;32m     11\u001B[0m signals, info \u001B[38;5;241m=\u001B[39m nk\u001B[38;5;241m.\u001B[39meda_process(eda_test, sampling_rate\u001B[38;5;241m=\u001B[39mSAMPLING_RATE_EDA)\n\u001B[1;32m     13\u001B[0m \u001B[38;5;28;01mif\u001B[39;00m ((info[\u001B[38;5;124m'\u001B[39m\u001B[38;5;124mSCR_Recovery\u001B[39m\u001B[38;5;124m'\u001B[39m][\u001B[38;5;241m0\u001B[39m]) \u001B[38;5;129;01mis\u001B[39;00m \u001B[38;5;129;01mnot\u001B[39;00m \u001B[38;5;28;01mNone\u001B[39;00m) \u001B[38;5;129;01mand\u001B[39;00m ((info[\u001B[38;5;124m'\u001B[39m\u001B[38;5;124mSCR_Onsets\u001B[39m\u001B[38;5;124m'\u001B[39m][\u001B[38;5;241m1\u001B[39m]) \u001B[38;5;129;01mis\u001B[39;00m \u001B[38;5;129;01mnot\u001B[39;00m \u001B[38;5;28;01mNone\u001B[39;00m):\n\u001B[0;32m---> 14\u001B[0m     peak \u001B[38;5;241m=\u001B[39m \u001B[38;5;28;43mint\u001B[39;49m\u001B[43m(\u001B[49m\u001B[43minfo\u001B[49m\u001B[43m[\u001B[49m\u001B[38;5;124;43m'\u001B[39;49m\u001B[38;5;124;43mSCR_Recovery\u001B[39;49m\u001B[38;5;124;43m'\u001B[39;49m\u001B[43m]\u001B[49m\u001B[43m[\u001B[49m\u001B[38;5;241;43m0\u001B[39;49m\u001B[43m]\u001B[49m\u001B[43m)\u001B[49m\n\u001B[1;32m     15\u001B[0m     peak_ \u001B[38;5;241m=\u001B[39m \u001B[38;5;28mint\u001B[39m(info[\u001B[38;5;124m'\u001B[39m\u001B[38;5;124mSCR_Onsets\u001B[39m\u001B[38;5;124m'\u001B[39m][\u001B[38;5;241m1\u001B[39m])\n\u001B[1;32m     16\u001B[0m     \u001B[38;5;28;01mif\u001B[39;00m peak_\u001B[38;5;241m-\u001B[39m peak \u001B[38;5;241m>\u001B[39m SAMPLING_RATE_EDA\u001B[38;5;241m*\u001B[39mTRIAL_LEN:\n",
      "\u001B[0;31mValueError\u001B[0m: cannot convert float NaN to integer"
     ]
    }
   ],
   "source": [
    "for subject in df_subj:\n",
    "\n",
    "    df_eda =list(range(SAMPLING_RATE_EDA))\n",
    "    df_tmp = df[df['subject']==subject]\n",
    "\n",
    "    for index,row in df_tmp.iterrows():\n",
    "\n",
    "        if row['rating'] > THRESHOLD_BINARY:\n",
    "            hr,eda = generate_fake_eda_hr_shock()\n",
    "        else:\n",
    "            hr,eda = generate_fake_eda_hr_noshock()\n",
    "\n",
    "        df_eda.append(eda)\n",
    "\n",
    "    df = pd.DataFrame(df_eda)\n",
    "    df.to_csv(r'tmp/eda_subject.csv', index=False)\n",
    "    print('subject done')"
   ],
   "metadata": {
    "collapsed": false
   }
  },
  {
   "cell_type": "code",
   "execution_count": null,
   "outputs": [],
   "source": [
    "df_subj_eda ="
   ],
   "metadata": {
    "collapsed": false
   }
  }
 ],
 "metadata": {
  "kernelspec": {
   "display_name": "Python 3",
   "language": "python",
   "name": "python3"
  },
  "language_info": {
   "codemirror_mode": {
    "name": "ipython",
    "version": 2
   },
   "file_extension": ".py",
   "mimetype": "text/x-python",
   "name": "python",
   "nbconvert_exporter": "python",
   "pygments_lexer": "ipython2",
   "version": "2.7.6"
  }
 },
 "nbformat": 4,
 "nbformat_minor": 0
}
