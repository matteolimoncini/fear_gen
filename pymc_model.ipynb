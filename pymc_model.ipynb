{
 "cells": [
  {
   "cell_type": "code",
   "execution_count": 2,
   "outputs": [
    {
     "name": "stderr",
     "output_type": "stream",
     "text": [
      "WARNING (aesara.tensor.blas): Using NumPy C-API based implementation for BLAS functions.\n"
     ]
    }
   ],
   "source": [
    "import sys\n",
    "import numpy as np\n",
    "import pymc as pm\n",
    "import aesara.tensor as at\n",
    "import tqdm as tqdm\n",
    "from sklearn.metrics import accuracy_score\n",
    "from sklearn.preprocessing import StandardScaler\n",
    "from scipy import stats\n",
    "import pandas as pd\n",
    "import logging\n",
    "import extract_correct_csv"
   ],
   "metadata": {
    "collapsed": false
   }
  },
  {
   "cell_type": "code",
   "execution_count": 3,
   "outputs": [],
   "source": [
    "import warnings\n",
    "warnings.filterwarnings('ignore')\n"
   ],
   "metadata": {
    "collapsed": false
   }
  },
  {
   "cell_type": "code",
   "execution_count": 4,
   "outputs": [],
   "source": [
    "#scaler = StandardScaler()\n",
    "\n",
    "#parametri\n",
    "\n",
    "all_valid_subject = extract_correct_csv.extract_only_valid_subject()\n",
    "\n",
    "#SUBJECT = input(\"subject list to extract:\")\n",
    "#subj_ = int(SUBJECT)\n",
    "num_trials_to_remove = 16#int(input(\"Number of trials to remove: \"))\n",
    "extraction_method = 'wavelet'#str(input(\"Extraction method (wavelet/mean)\"))\n",
    "latent_space = 5#int(input(\"Latent space dimension max: \"))\n",
    "list_latent_space = np.arange(1,latent_space)\n",
    "use_sampling = 'n'#input(\"Use sampling? y/n: \")\n",
    "if use_sampling == 'y':\n",
    "    use_sampling = True\n",
    "else:\n",
    "    use_sampling = False\n"
   ],
   "metadata": {
    "collapsed": false
   }
  },
  {
   "cell_type": "code",
   "execution_count": 5,
   "metadata": {
    "collapsed": true
   },
   "outputs": [
    {
     "name": "stdout",
     "output_type": "stream",
     "text": [
      "\n",
      " ---- CHANGE SUBJECT ---- \n",
      "\n",
      "Subject number: 2\n",
      "\n",
      "\n",
      " ---- CHANGE K ----\n",
      "\n",
      "Subject number: 2 Latent space dimension: 1 feat extraction: wavelet using sampling: False\n",
      ">> Loading HR for subject 2 and all sessions from dataset FEAR\n",
      ">> Loading EDA for subject 2 and all sessions from dataset FEAR\n",
      ">> Loading PUPIL for subject 2 and all sessions from dataset FEAR\n",
      ">> Processing HR ... using neurokit\n",
      ">> Extracting wavelet features from HR signal, adopting (2, 1) window ...\n",
      ">> Processing EDA ...\n",
      ">> Extracting wavelet features from EDA signal, adopting (2, 1) window ...\n",
      ">> Extracting mean features from PUPIL signal, adopting (1, 0) window ...\n",
      "(144, 5)\n",
      "(144, 60)\n",
      "(144, 60)\n",
      "1\n",
      "144 5\n",
      "144 60\n",
      "144 60\n",
      "144 1\n"
     ]
    },
    {
     "data": {
      "text/plain": "<IPython.core.display.HTML object>",
      "text/html": "\n<style>\n    /* Turns off some styling */\n    progress {\n        /* gets rid of default border in Firefox and Opera. */\n        border: none;\n        /* Needs to be in here for Safari polyfill so background images work as expected. */\n        background-size: auto;\n    }\n    progress:not([value]), progress:not([value])::-webkit-progress-bar {\n        background: repeating-linear-gradient(45deg, #7e7e7e, #7e7e7e 10px, #5c5c5c 10px, #5c5c5c 20px);\n    }\n    .progress-bar-interrupted, .progress-bar-interrupted::-webkit-progress-bar {\n        background: #F44336;\n    }\n</style>\n"
     },
     "metadata": {},
     "output_type": "display_data"
    },
    {
     "data": {
      "text/plain": "<IPython.core.display.HTML object>",
      "text/html": "\n    <div>\n      <progress value='0' class='' max='100000' style='width:300px; height:20px; vertical-align: middle;'></progress>\n      \n    </div>\n    "
     },
     "metadata": {},
     "output_type": "display_data"
    },
    {
     "name": "stderr",
     "output_type": "stream",
     "text": [
      "Finished [100%]: Average Loss = 3.6072e+09\n",
      "Sampling: [x_e, x_eda, x_hr, x_pupil]\n"
     ]
    },
    {
     "data": {
      "text/plain": "<IPython.core.display.HTML object>",
      "text/html": "\n<style>\n    /* Turns off some styling */\n    progress {\n        /* gets rid of default border in Firefox and Opera. */\n        border: none;\n        /* Needs to be in here for Safari polyfill so background images work as expected. */\n        background-size: auto;\n    }\n    progress:not([value]), progress:not([value])::-webkit-progress-bar {\n        background: repeating-linear-gradient(45deg, #7e7e7e, #7e7e7e 10px, #5c5c5c 10px, #5c5c5c 20px);\n    }\n    .progress-bar-interrupted, .progress-bar-interrupted::-webkit-progress-bar {\n        background: #F44336;\n    }\n</style>\n"
     },
     "metadata": {},
     "output_type": "display_data"
    },
    {
     "data": {
      "text/plain": "<IPython.core.display.HTML object>",
      "text/html": "\n    <div>\n      <progress value='0' class='' max='500' style='width:300px; height:20px; vertical-align: middle;'></progress>\n      \n    </div>\n    "
     },
     "metadata": {},
     "output_type": "display_data"
    },
    {
     "name": "stdout",
     "output_type": "stream",
     "text": [
      "\n",
      " Subject number: 2 Train Accuracy Pain Expectation: 0.5138888888888888\n",
      "\n",
      " ---- CHANGE K ----\n",
      "\n",
      "Subject number: 2 Latent space dimension: 2 feat extraction: wavelet using sampling: False\n",
      ">> Loading HR for subject 2 and all sessions from dataset FEAR\n",
      ">> Loading PUPIL for subject 2 and all sessions from dataset FEAR\n",
      ">> Loading EDA for subject 2 and all sessions from dataset FEAR\n",
      ">> Processing HR ... using neurokit\n",
      ">> Extracting wavelet features from HR signal, adopting (2, 1) window ...\n",
      ">> Extracting mean features from PUPIL signal, adopting (1, 0) window ...\n",
      ">> Processing EDA ...\n",
      ">> Extracting wavelet features from EDA signal, adopting (2, 1) window ...\n",
      "(144, 5)\n",
      "(144, 60)\n",
      "(144, 60)\n",
      "2\n",
      "144 5\n",
      "144 60\n",
      "144 60\n",
      "144 1\n"
     ]
    },
    {
     "data": {
      "text/plain": "<IPython.core.display.HTML object>",
      "text/html": "\n<style>\n    /* Turns off some styling */\n    progress {\n        /* gets rid of default border in Firefox and Opera. */\n        border: none;\n        /* Needs to be in here for Safari polyfill so background images work as expected. */\n        background-size: auto;\n    }\n    progress:not([value]), progress:not([value])::-webkit-progress-bar {\n        background: repeating-linear-gradient(45deg, #7e7e7e, #7e7e7e 10px, #5c5c5c 10px, #5c5c5c 20px);\n    }\n    .progress-bar-interrupted, .progress-bar-interrupted::-webkit-progress-bar {\n        background: #F44336;\n    }\n</style>\n"
     },
     "metadata": {},
     "output_type": "display_data"
    },
    {
     "data": {
      "text/plain": "<IPython.core.display.HTML object>",
      "text/html": "\n    <div>\n      <progress value='0' class='' max='100000' style='width:300px; height:20px; vertical-align: middle;'></progress>\n      \n    </div>\n    "
     },
     "metadata": {},
     "output_type": "display_data"
    },
    {
     "name": "stderr",
     "output_type": "stream",
     "text": [
      "Finished [100%]: Average Loss = 5.3338e+07\n",
      "Sampling: [x_e, x_eda, x_hr, x_pupil]\n"
     ]
    },
    {
     "data": {
      "text/plain": "<IPython.core.display.HTML object>",
      "text/html": "\n<style>\n    /* Turns off some styling */\n    progress {\n        /* gets rid of default border in Firefox and Opera. */\n        border: none;\n        /* Needs to be in here for Safari polyfill so background images work as expected. */\n        background-size: auto;\n    }\n    progress:not([value]), progress:not([value])::-webkit-progress-bar {\n        background: repeating-linear-gradient(45deg, #7e7e7e, #7e7e7e 10px, #5c5c5c 10px, #5c5c5c 20px);\n    }\n    .progress-bar-interrupted, .progress-bar-interrupted::-webkit-progress-bar {\n        background: #F44336;\n    }\n</style>\n"
     },
     "metadata": {},
     "output_type": "display_data"
    },
    {
     "data": {
      "text/plain": "<IPython.core.display.HTML object>",
      "text/html": "\n    <div>\n      <progress value='0' class='' max='500' style='width:300px; height:20px; vertical-align: middle;'></progress>\n      \n    </div>\n    "
     },
     "metadata": {},
     "output_type": "display_data"
    },
    {
     "name": "stdout",
     "output_type": "stream",
     "text": [
      "\n",
      " Subject number: 2 Train Accuracy Pain Expectation: 0.5486111111111112\n",
      "\n",
      " ---- CHANGE K ----\n",
      "\n",
      "Subject number: 2 Latent space dimension: 3 feat extraction: wavelet using sampling: False\n",
      ">> Loading HR for subject 2 and all sessions from dataset FEAR\n",
      ">> Loading PUPIL for subject 2 and all sessions from dataset FEAR\n",
      ">> Loading EDA for subject 2 and all sessions from dataset FEAR\n",
      ">> Processing HR ... using neurokit\n",
      ">> Extracting wavelet features from HR signal, adopting (2, 1) window ...\n",
      ">> Extracting mean features from PUPIL signal, adopting (1, 0) window ...\n",
      ">> Processing EDA ...\n",
      ">> Extracting wavelet features from EDA signal, adopting (2, 1) window ...\n",
      "(144, 5)\n",
      "(144, 60)\n",
      "(144, 60)\n",
      "3\n",
      "144 5\n",
      "144 60\n",
      "144 60\n",
      "144 1\n"
     ]
    },
    {
     "data": {
      "text/plain": "<IPython.core.display.HTML object>",
      "text/html": "\n<style>\n    /* Turns off some styling */\n    progress {\n        /* gets rid of default border in Firefox and Opera. */\n        border: none;\n        /* Needs to be in here for Safari polyfill so background images work as expected. */\n        background-size: auto;\n    }\n    progress:not([value]), progress:not([value])::-webkit-progress-bar {\n        background: repeating-linear-gradient(45deg, #7e7e7e, #7e7e7e 10px, #5c5c5c 10px, #5c5c5c 20px);\n    }\n    .progress-bar-interrupted, .progress-bar-interrupted::-webkit-progress-bar {\n        background: #F44336;\n    }\n</style>\n"
     },
     "metadata": {},
     "output_type": "display_data"
    },
    {
     "data": {
      "text/plain": "<IPython.core.display.HTML object>",
      "text/html": "\n    <div>\n      <progress value='0' class='' max='100000' style='width:300px; height:20px; vertical-align: middle;'></progress>\n      \n    </div>\n    "
     },
     "metadata": {},
     "output_type": "display_data"
    },
    {
     "name": "stderr",
     "output_type": "stream",
     "text": [
      "Finished [100%]: Average Loss = 3.9339e+07\n",
      "Sampling: [x_e, x_eda, x_hr, x_pupil]\n"
     ]
    },
    {
     "data": {
      "text/plain": "<IPython.core.display.HTML object>",
      "text/html": "\n<style>\n    /* Turns off some styling */\n    progress {\n        /* gets rid of default border in Firefox and Opera. */\n        border: none;\n        /* Needs to be in here for Safari polyfill so background images work as expected. */\n        background-size: auto;\n    }\n    progress:not([value]), progress:not([value])::-webkit-progress-bar {\n        background: repeating-linear-gradient(45deg, #7e7e7e, #7e7e7e 10px, #5c5c5c 10px, #5c5c5c 20px);\n    }\n    .progress-bar-interrupted, .progress-bar-interrupted::-webkit-progress-bar {\n        background: #F44336;\n    }\n</style>\n"
     },
     "metadata": {},
     "output_type": "display_data"
    },
    {
     "data": {
      "text/plain": "<IPython.core.display.HTML object>",
      "text/html": "\n    <div>\n      <progress value='0' class='' max='500' style='width:300px; height:20px; vertical-align: middle;'></progress>\n      \n    </div>\n    "
     },
     "metadata": {},
     "output_type": "display_data"
    },
    {
     "name": "stdout",
     "output_type": "stream",
     "text": [
      "\n",
      " Subject number: 2 Train Accuracy Pain Expectation: 0.5277777777777778\n",
      "\n",
      " ---- CHANGE K ----\n",
      "\n",
      "Subject number: 2 Latent space dimension: 4 feat extraction: wavelet using sampling: False\n",
      ">> Loading PUPIL for subject 2 and all sessions from dataset FEAR\n",
      ">> Loading HR for subject 2 and all sessions from dataset FEAR\n",
      ">> Loading EDA for subject 2 and all sessions from dataset FEAR\n",
      ">> Extracting mean features from PUPIL signal, adopting (1, 0) window ...\n",
      ">> Processing HR ... using neurokit\n",
      ">> Extracting wavelet features from HR signal, adopting (2, 1) window ...\n",
      ">> Processing EDA ...\n",
      ">> Extracting wavelet features from EDA signal, adopting (2, 1) window ...\n",
      "(144, 5)\n",
      "(144, 60)\n",
      "(144, 60)\n",
      "4\n",
      "144 5\n",
      "144 60\n",
      "144 60\n",
      "144 1\n"
     ]
    },
    {
     "data": {
      "text/plain": "<IPython.core.display.HTML object>",
      "text/html": "\n<style>\n    /* Turns off some styling */\n    progress {\n        /* gets rid of default border in Firefox and Opera. */\n        border: none;\n        /* Needs to be in here for Safari polyfill so background images work as expected. */\n        background-size: auto;\n    }\n    progress:not([value]), progress:not([value])::-webkit-progress-bar {\n        background: repeating-linear-gradient(45deg, #7e7e7e, #7e7e7e 10px, #5c5c5c 10px, #5c5c5c 20px);\n    }\n    .progress-bar-interrupted, .progress-bar-interrupted::-webkit-progress-bar {\n        background: #F44336;\n    }\n</style>\n"
     },
     "metadata": {},
     "output_type": "display_data"
    },
    {
     "data": {
      "text/plain": "<IPython.core.display.HTML object>",
      "text/html": "\n    <div>\n      <progress value='0' class='' max='100000' style='width:300px; height:20px; vertical-align: middle;'></progress>\n      \n    </div>\n    "
     },
     "metadata": {},
     "output_type": "display_data"
    },
    {
     "name": "stderr",
     "output_type": "stream",
     "text": [
      "Finished [100%]: Average Loss = 3.6346e+07\n",
      "Sampling: [x_e, x_eda, x_hr, x_pupil]\n"
     ]
    },
    {
     "data": {
      "text/plain": "<IPython.core.display.HTML object>",
      "text/html": "\n<style>\n    /* Turns off some styling */\n    progress {\n        /* gets rid of default border in Firefox and Opera. */\n        border: none;\n        /* Needs to be in here for Safari polyfill so background images work as expected. */\n        background-size: auto;\n    }\n    progress:not([value]), progress:not([value])::-webkit-progress-bar {\n        background: repeating-linear-gradient(45deg, #7e7e7e, #7e7e7e 10px, #5c5c5c 10px, #5c5c5c 20px);\n    }\n    .progress-bar-interrupted, .progress-bar-interrupted::-webkit-progress-bar {\n        background: #F44336;\n    }\n</style>\n"
     },
     "metadata": {},
     "output_type": "display_data"
    },
    {
     "data": {
      "text/plain": "<IPython.core.display.HTML object>",
      "text/html": "\n    <div>\n      <progress value='0' class='' max='500' style='width:300px; height:20px; vertical-align: middle;'></progress>\n      \n    </div>\n    "
     },
     "metadata": {},
     "output_type": "display_data"
    },
    {
     "name": "stdout",
     "output_type": "stream",
     "text": [
      "\n",
      " Subject number: 2 Train Accuracy Pain Expectation: 0.4861111111111111\n",
      "\n",
      " ---- CHANGE SUBJECT ---- \n",
      "\n",
      "Subject number: 4\n",
      "\n",
      "\n",
      " ---- CHANGE K ----\n",
      "\n",
      "Subject number: 4 Latent space dimension: 1 feat extraction: wavelet using sampling: False\n",
      ">> Loading EDA for subject 4 and all sessions from dataset FEAR\n",
      ">> Loading PUPIL for subject 4 and all sessions from dataset FEAR\n",
      ">> Loading HR for subject 4 and all sessions from dataset FEAR\n",
      ">> Processing EDA ...\n",
      ">> Extracting wavelet features from EDA signal, adopting (2, 1) window ...\n",
      ">> Extracting mean features from PUPIL signal, adopting (1, 0) window ...\n",
      ">> Processing HR ... using neurokit\n",
      ">> Extracting wavelet features from HR signal, adopting (2, 1) window ...\n",
      "(144, 5)\n",
      "(144, 60)\n",
      "(144, 60)\n",
      "1\n",
      "144 5\n",
      "144 60\n",
      "144 60\n",
      "144 1\n"
     ]
    },
    {
     "data": {
      "text/plain": "<IPython.core.display.HTML object>",
      "text/html": "\n<style>\n    /* Turns off some styling */\n    progress {\n        /* gets rid of default border in Firefox and Opera. */\n        border: none;\n        /* Needs to be in here for Safari polyfill so background images work as expected. */\n        background-size: auto;\n    }\n    progress:not([value]), progress:not([value])::-webkit-progress-bar {\n        background: repeating-linear-gradient(45deg, #7e7e7e, #7e7e7e 10px, #5c5c5c 10px, #5c5c5c 20px);\n    }\n    .progress-bar-interrupted, .progress-bar-interrupted::-webkit-progress-bar {\n        background: #F44336;\n    }\n</style>\n"
     },
     "metadata": {},
     "output_type": "display_data"
    },
    {
     "data": {
      "text/plain": "<IPython.core.display.HTML object>",
      "text/html": "\n    <div>\n      <progress value='0' class='' max='100000' style='width:300px; height:20px; vertical-align: middle;'></progress>\n      \n    </div>\n    "
     },
     "metadata": {},
     "output_type": "display_data"
    },
    {
     "name": "stderr",
     "output_type": "stream",
     "text": [
      "Finished [100%]: Average Loss = 2.0329e+09\n",
      "Sampling: [x_e, x_eda, x_hr, x_pupil]\n"
     ]
    },
    {
     "data": {
      "text/plain": "<IPython.core.display.HTML object>",
      "text/html": "\n<style>\n    /* Turns off some styling */\n    progress {\n        /* gets rid of default border in Firefox and Opera. */\n        border: none;\n        /* Needs to be in here for Safari polyfill so background images work as expected. */\n        background-size: auto;\n    }\n    progress:not([value]), progress:not([value])::-webkit-progress-bar {\n        background: repeating-linear-gradient(45deg, #7e7e7e, #7e7e7e 10px, #5c5c5c 10px, #5c5c5c 20px);\n    }\n    .progress-bar-interrupted, .progress-bar-interrupted::-webkit-progress-bar {\n        background: #F44336;\n    }\n</style>\n"
     },
     "metadata": {},
     "output_type": "display_data"
    },
    {
     "data": {
      "text/plain": "<IPython.core.display.HTML object>",
      "text/html": "\n    <div>\n      <progress value='0' class='' max='500' style='width:300px; height:20px; vertical-align: middle;'></progress>\n      \n    </div>\n    "
     },
     "metadata": {},
     "output_type": "display_data"
    },
    {
     "name": "stdout",
     "output_type": "stream",
     "text": [
      "\n",
      " Subject number: 4 Train Accuracy Pain Expectation: 0.5486111111111112\n",
      "\n",
      " ---- CHANGE K ----\n",
      "\n",
      "Subject number: 4 Latent space dimension: 2 feat extraction: wavelet using sampling: False\n",
      ">> Loading PUPIL for subject 4 and all sessions from dataset FEAR\n",
      ">> Loading HR for subject 4 and all sessions from dataset FEAR\n",
      ">> Loading EDA for subject 4 and all sessions from dataset FEAR\n",
      ">> Extracting mean features from PUPIL signal, adopting (1, 0) window ...\n",
      ">> Processing HR ... using neurokit\n",
      ">> Extracting wavelet features from HR signal, adopting (2, 1) window ...\n",
      ">> Processing EDA ...\n",
      ">> Extracting wavelet features from EDA signal, adopting (2, 1) window ...\n",
      "(144, 5)\n",
      "(144, 60)\n",
      "(144, 60)\n",
      "2\n",
      "144 5\n",
      "144 60\n",
      "144 60\n",
      "144 1\n"
     ]
    },
    {
     "data": {
      "text/plain": "<IPython.core.display.HTML object>",
      "text/html": "\n<style>\n    /* Turns off some styling */\n    progress {\n        /* gets rid of default border in Firefox and Opera. */\n        border: none;\n        /* Needs to be in here for Safari polyfill so background images work as expected. */\n        background-size: auto;\n    }\n    progress:not([value]), progress:not([value])::-webkit-progress-bar {\n        background: repeating-linear-gradient(45deg, #7e7e7e, #7e7e7e 10px, #5c5c5c 10px, #5c5c5c 20px);\n    }\n    .progress-bar-interrupted, .progress-bar-interrupted::-webkit-progress-bar {\n        background: #F44336;\n    }\n</style>\n"
     },
     "metadata": {},
     "output_type": "display_data"
    },
    {
     "data": {
      "text/plain": "<IPython.core.display.HTML object>",
      "text/html": "\n    <div>\n      <progress value='0' class='' max='100000' style='width:300px; height:20px; vertical-align: middle;'></progress>\n      \n    </div>\n    "
     },
     "metadata": {},
     "output_type": "display_data"
    },
    {
     "name": "stderr",
     "output_type": "stream",
     "text": [
      "Finished [100%]: Average Loss = 1.8705e+07\n",
      "Sampling: [x_e, x_eda, x_hr, x_pupil]\n"
     ]
    },
    {
     "data": {
      "text/plain": "<IPython.core.display.HTML object>",
      "text/html": "\n<style>\n    /* Turns off some styling */\n    progress {\n        /* gets rid of default border in Firefox and Opera. */\n        border: none;\n        /* Needs to be in here for Safari polyfill so background images work as expected. */\n        background-size: auto;\n    }\n    progress:not([value]), progress:not([value])::-webkit-progress-bar {\n        background: repeating-linear-gradient(45deg, #7e7e7e, #7e7e7e 10px, #5c5c5c 10px, #5c5c5c 20px);\n    }\n    .progress-bar-interrupted, .progress-bar-interrupted::-webkit-progress-bar {\n        background: #F44336;\n    }\n</style>\n"
     },
     "metadata": {},
     "output_type": "display_data"
    },
    {
     "data": {
      "text/plain": "<IPython.core.display.HTML object>",
      "text/html": "\n    <div>\n      <progress value='0' class='' max='500' style='width:300px; height:20px; vertical-align: middle;'></progress>\n      \n    </div>\n    "
     },
     "metadata": {},
     "output_type": "display_data"
    },
    {
     "name": "stdout",
     "output_type": "stream",
     "text": [
      "\n",
      " Subject number: 4 Train Accuracy Pain Expectation: 0.5486111111111112\n",
      "\n",
      " ---- CHANGE K ----\n",
      "\n",
      "Subject number: 4 Latent space dimension: 3 feat extraction: wavelet using sampling: False\n",
      ">> Loading HR for subject 4 and all sessions from dataset FEAR\n",
      ">> Loading EDA for subject 4 and all sessions from dataset FEAR\n",
      ">> Loading PUPIL for subject 4 and all sessions from dataset FEAR\n",
      ">> Processing HR ... using neurokit\n",
      ">> Extracting wavelet features from HR signal, adopting (2, 1) window ...\n",
      ">> Processing EDA ...\n",
      ">> Extracting wavelet features from EDA signal, adopting (2, 1) window ...\n",
      ">> Extracting mean features from PUPIL signal, adopting (1, 0) window ...\n",
      "(144, 5)\n",
      "(144, 60)\n",
      "(144, 60)\n",
      "3\n",
      "144 5\n",
      "144 60\n",
      "144 60\n",
      "144 1\n"
     ]
    },
    {
     "data": {
      "text/plain": "<IPython.core.display.HTML object>",
      "text/html": "\n<style>\n    /* Turns off some styling */\n    progress {\n        /* gets rid of default border in Firefox and Opera. */\n        border: none;\n        /* Needs to be in here for Safari polyfill so background images work as expected. */\n        background-size: auto;\n    }\n    progress:not([value]), progress:not([value])::-webkit-progress-bar {\n        background: repeating-linear-gradient(45deg, #7e7e7e, #7e7e7e 10px, #5c5c5c 10px, #5c5c5c 20px);\n    }\n    .progress-bar-interrupted, .progress-bar-interrupted::-webkit-progress-bar {\n        background: #F44336;\n    }\n</style>\n"
     },
     "metadata": {},
     "output_type": "display_data"
    },
    {
     "data": {
      "text/plain": "<IPython.core.display.HTML object>",
      "text/html": "\n    <div>\n      <progress value='0' class='' max='100000' style='width:300px; height:20px; vertical-align: middle;'></progress>\n      \n    </div>\n    "
     },
     "metadata": {},
     "output_type": "display_data"
    },
    {
     "name": "stderr",
     "output_type": "stream",
     "text": [
      "Finished [100%]: Average Loss = 1.6422e+07\n",
      "Sampling: [x_e, x_eda, x_hr, x_pupil]\n"
     ]
    },
    {
     "data": {
      "text/plain": "<IPython.core.display.HTML object>",
      "text/html": "\n<style>\n    /* Turns off some styling */\n    progress {\n        /* gets rid of default border in Firefox and Opera. */\n        border: none;\n        /* Needs to be in here for Safari polyfill so background images work as expected. */\n        background-size: auto;\n    }\n    progress:not([value]), progress:not([value])::-webkit-progress-bar {\n        background: repeating-linear-gradient(45deg, #7e7e7e, #7e7e7e 10px, #5c5c5c 10px, #5c5c5c 20px);\n    }\n    .progress-bar-interrupted, .progress-bar-interrupted::-webkit-progress-bar {\n        background: #F44336;\n    }\n</style>\n"
     },
     "metadata": {},
     "output_type": "display_data"
    },
    {
     "data": {
      "text/plain": "<IPython.core.display.HTML object>",
      "text/html": "\n    <div>\n      <progress value='0' class='' max='500' style='width:300px; height:20px; vertical-align: middle;'></progress>\n      \n    </div>\n    "
     },
     "metadata": {},
     "output_type": "display_data"
    },
    {
     "name": "stdout",
     "output_type": "stream",
     "text": [
      "\n",
      " Subject number: 4 Train Accuracy Pain Expectation: 0.5486111111111112\n",
      "\n",
      " ---- CHANGE K ----\n",
      "\n",
      "Subject number: 4 Latent space dimension: 4 feat extraction: wavelet using sampling: False\n",
      ">> Loading PUPIL for subject 4 and all sessions from dataset FEAR\n",
      ">> Loading EDA for subject 4 and all sessions from dataset FEAR\n",
      ">> Loading HR for subject 4 and all sessions from dataset FEAR\n",
      ">> Extracting mean features from PUPIL signal, adopting (1, 0) window ...\n",
      ">> Processing EDA ...\n",
      ">> Extracting wavelet features from EDA signal, adopting (2, 1) window ...\n",
      ">> Processing HR ... using neurokit\n",
      ">> Extracting wavelet features from HR signal, adopting (2, 1) window ...\n",
      "(144, 5)\n",
      "(144, 60)\n",
      "(144, 60)\n",
      "4\n",
      "144 5\n",
      "144 60\n",
      "144 60\n",
      "144 1\n"
     ]
    },
    {
     "data": {
      "text/plain": "<IPython.core.display.HTML object>",
      "text/html": "\n<style>\n    /* Turns off some styling */\n    progress {\n        /* gets rid of default border in Firefox and Opera. */\n        border: none;\n        /* Needs to be in here for Safari polyfill so background images work as expected. */\n        background-size: auto;\n    }\n    progress:not([value]), progress:not([value])::-webkit-progress-bar {\n        background: repeating-linear-gradient(45deg, #7e7e7e, #7e7e7e 10px, #5c5c5c 10px, #5c5c5c 20px);\n    }\n    .progress-bar-interrupted, .progress-bar-interrupted::-webkit-progress-bar {\n        background: #F44336;\n    }\n</style>\n"
     },
     "metadata": {},
     "output_type": "display_data"
    },
    {
     "data": {
      "text/plain": "<IPython.core.display.HTML object>",
      "text/html": "\n    <div>\n      <progress value='0' class='' max='100000' style='width:300px; height:20px; vertical-align: middle;'></progress>\n      \n    </div>\n    "
     },
     "metadata": {},
     "output_type": "display_data"
    },
    {
     "name": "stderr",
     "output_type": "stream",
     "text": [
      "Finished [100%]: Average Loss = 1.3841e+07\n",
      "Sampling: [x_e, x_eda, x_hr, x_pupil]\n"
     ]
    },
    {
     "data": {
      "text/plain": "<IPython.core.display.HTML object>",
      "text/html": "\n<style>\n    /* Turns off some styling */\n    progress {\n        /* gets rid of default border in Firefox and Opera. */\n        border: none;\n        /* Needs to be in here for Safari polyfill so background images work as expected. */\n        background-size: auto;\n    }\n    progress:not([value]), progress:not([value])::-webkit-progress-bar {\n        background: repeating-linear-gradient(45deg, #7e7e7e, #7e7e7e 10px, #5c5c5c 10px, #5c5c5c 20px);\n    }\n    .progress-bar-interrupted, .progress-bar-interrupted::-webkit-progress-bar {\n        background: #F44336;\n    }\n</style>\n"
     },
     "metadata": {},
     "output_type": "display_data"
    },
    {
     "data": {
      "text/plain": "<IPython.core.display.HTML object>",
      "text/html": "\n    <div>\n      <progress value='0' class='' max='500' style='width:300px; height:20px; vertical-align: middle;'></progress>\n      \n    </div>\n    "
     },
     "metadata": {},
     "output_type": "display_data"
    },
    {
     "name": "stdout",
     "output_type": "stream",
     "text": [
      "\n",
      " Subject number: 4 Train Accuracy Pain Expectation: 0.5486111111111112\n",
      "\n",
      " ---- CHANGE SUBJECT ---- \n",
      "\n",
      "Subject number: 10\n",
      "\n",
      "\n",
      " ---- CHANGE K ----\n",
      "\n",
      "Subject number: 10 Latent space dimension: 1 feat extraction: wavelet using sampling: False\n"
     ]
    },
    {
     "ename": "TypeError",
     "evalue": "can only concatenate str (not \"int\") to str",
     "output_type": "error",
     "traceback": [
      "\u001B[0;31m---------------------------------------------------------------------------\u001B[0m",
      "\u001B[0;31mTypeError\u001B[0m                                 Traceback (most recent call last)",
      "Cell \u001B[0;32mIn [5], line 17\u001B[0m\n\u001B[1;32m     14\u001B[0m subj_ \u001B[38;5;241m=\u001B[39m extract_correct_csv\u001B[38;5;241m.\u001B[39mread_correct_subject_csv(SUBJECT)\n\u001B[1;32m     15\u001B[0m \u001B[38;5;66;03m# extract data rating\u001B[39;00m\n\u001B[0;32m---> 17\u001B[0m csv_ \u001B[38;5;241m=\u001B[39m \u001B[38;5;124m'\u001B[39m\u001B[38;5;124m/data/notebook_files/behavior/LookAtMe_0\u001B[39m\u001B[38;5;124m'\u001B[39m\u001B[38;5;241m+\u001B[39msubj_\u001B[38;5;241m+\u001B[39m\u001B[38;5;124m'\u001B[39m\u001B[38;5;124m.csv\u001B[39m\u001B[38;5;124m'\u001B[39m\n\u001B[1;32m     18\u001B[0m csv_ \u001B[38;5;241m=\u001B[39m \u001B[38;5;124m'\u001B[39m\u001B[38;5;124m/home/paolo/matteo/matteo/unimi/tesi_master/code/osfstorage-archive/behavior/LookAtMe_0\u001B[39m\u001B[38;5;124m'\u001B[39m\u001B[38;5;241m+\u001B[39msubj_\u001B[38;5;241m+\u001B[39m\u001B[38;5;124m'\u001B[39m\u001B[38;5;124m.csv\u001B[39m\u001B[38;5;124m'\u001B[39m\n\u001B[1;32m     19\u001B[0m global_data \u001B[38;5;241m=\u001B[39m pd\u001B[38;5;241m.\u001B[39mread_csv(csv_, sep\u001B[38;5;241m=\u001B[39m\u001B[38;5;124m'\u001B[39m\u001B[38;5;130;01m\\t\u001B[39;00m\u001B[38;5;124m'\u001B[39m)\n",
      "\u001B[0;31mTypeError\u001B[0m: can only concatenate str (not \"int\") to str"
     ]
    }
   ],
   "source": [
    "logging.basicConfig(level=logging.INFO, filename=\"logfile\", filemode=\"a+\",\n",
    "                        format=\"%(asctime)-15s %(levelname)-8s %(message)s\")\n",
    "for SUBJECT in all_valid_subject:\n",
    "    logging.info(\"\\n ---- CHANGE SUBJECT ---- \\n\")\n",
    "    logging.info(\"Subject number: \" + str(SUBJECT)+\"\\n\")\n",
    "\n",
    "\n",
    "    for latent_space in list_latent_space:\n",
    "\n",
    "        logging.info(\"\\n ---- CHANGE K ----\\n\")\n",
    "        logging.info(\"Subject number: \" + str(SUBJECT) + \" Latent space dimension: \" + str(\n",
    "            latent_space) + \" feat extraction: \" + extraction_method + \" using sampling: \" + str(use_sampling))\n",
    "\n",
    "        subj_ = extract_correct_csv.read_correct_subject_csv(SUBJECT)\n",
    "        # extract data rating\n",
    "\n",
    "        csv_ = '/data/notebook_files/behavior/LookAtMe_0'+str(subj_)+'.csv'\n",
    "        csv_ = '/home/paolo/matteo/matteo/unimi/tesi_master/code/osfstorage-archive/behavior/LookAtMe_0'+str(subj_)+'.csv'\n",
    "        global_data = pd.read_csv(csv_, sep='\\t')\n",
    "        y = np.array(list([int(d>2) for d in global_data['rating']]))\n",
    "        e_labels = y[:,np.newaxis]  # rating > 2\n",
    "\n",
    "        e_labels = e_labels[num_trials_to_remove:]\n",
    "        N_e = e_labels.shape[0]\n",
    "        D_e = e_labels.shape[1]\n",
    "        #print(N_e,D_e)\n",
    "\n",
    "        from deepemogp import feature_extractor\n",
    "        from deepemogp.signal import physio as physio\n",
    "        from deepemogp import datasets as datasets\n",
    "        from deepemogp.signal import behavior as behavior\n",
    "        from deepemogp.signal.physio import ecg\n",
    "        # from: https://github.com/SheffieldML/GPy\n",
    "        #import GPy\n",
    "        # from: https://github.com/SheffieldML/PyDeepGP\n",
    "        #import deepgp\n",
    "\n",
    "        import pandas as pd\n",
    "        import numpy as np\n",
    "\n",
    "        show = False\n",
    "        # definition of the feature extractors to be used later\n",
    "        f1 = feature_extractor.FE('wavelet', window=(2, 1))\n",
    "        f2 = feature_extractor.FE('mean', window=(1,0))\n",
    "\n",
    "        # definition of the physiological signals to be extracted\n",
    "        if extraction_method == 'wavelet':\n",
    "            eda_ = physio.EDA(f1)\n",
    "            hr_ = physio.HR(f1)\n",
    "        else:\n",
    "            eda_ = physio.EDA(f2)\n",
    "            hr_ = physio.HR(f2)\n",
    "        pupil_ = behavior.PUPIL(f2)\n",
    "\n",
    "\n",
    "\n",
    "        # extraction of the desired data from the dataset\n",
    "        d = datasets.FEAR(signals={hr_,pupil_,eda_}, subjects={str(SUBJECT)})\n",
    "\n",
    "        for s in d.signals:\n",
    "            # preprocess ...\n",
    "            if s.name =='EDA':\n",
    "                s.preprocess(show=show,new_fps=500)\n",
    "                s.feature_ext.extract_feat(s,show=show)\n",
    "            else:\n",
    "                if s.name == 'HR':\n",
    "                    list_hr_test = s.raw[0]['data']\n",
    "                    s.preprocess(show=show, useneurokit=True)\n",
    "                    s.feature_ext.extract_feat(s,show=show)\n",
    "\n",
    "                else:\n",
    "                    s.feature_ext.extract_feat_without_preprocess(s, show=show)\n",
    "\n",
    "            #add feature extraction for eda before preprocessing\n",
    "\n",
    "            # ... and extract features from each signal type\n",
    "\n",
    "\n",
    "        for sig in d.signals:\n",
    "            if sig.name=='EDA':\n",
    "                eda_data = sig.features\n",
    "            if sig.name=='HR':\n",
    "                hr_data = sig.features\n",
    "            if sig.name=='PUPIL':\n",
    "                pupil_data = sig.features\n",
    "\n",
    "        TRIAL = 160\n",
    "        hr =np.array(hr_data)\n",
    "        hr = hr.reshape((TRIAL, int(hr.shape[0]/TRIAL*hr.shape[1])))\n",
    "        hr= hr[num_trials_to_remove:]\n",
    "\n",
    "        pupil = np.array(pupil_data)\n",
    "        pupil = pupil.reshape((TRIAL, int(pupil.shape[0]/TRIAL*pupil.shape[1])))\n",
    "        pupil = pupil[num_trials_to_remove:]\n",
    "\n",
    "        eda = np.array(eda_data)\n",
    "        eda = eda.reshape((TRIAL,int(eda.shape[0]/TRIAL*eda.shape[1])))\n",
    "        eda = eda[num_trials_to_remove:]\n",
    "        '''different types of observable data\n",
    "\n",
    "        1) gaze\n",
    "        2) fisio\n",
    "            2.1) heart rate variability\n",
    "            2.2) eda phasic value\n",
    "        3) social anxiety\n",
    "        4) aspettativa del dolore\n",
    "        '''\n",
    "        print(pupil.shape)\n",
    "        print(hr.shape)\n",
    "        print(eda.shape)\n",
    "        N_pupil = pupil.shape[0]\n",
    "        D_pupil = pupil.shape[1]\n",
    "\n",
    "        N_hr = hr.shape[0]\n",
    "        D_hr = hr.shape[1]\n",
    "\n",
    "        N_eda = eda.shape[0]\n",
    "        D_eda = eda.shape[1]\n",
    "        K = latent_space\n",
    "\n",
    "        print(K)\n",
    "        print(N_pupil,D_pupil)\n",
    "        print(N_hr,D_hr)\n",
    "        print(N_eda,D_eda)\n",
    "        print(N_e, D_e)\n",
    "\n",
    "        # model\n",
    "        with pm.Model() as sPPCA:\n",
    "            #dati osservabili\n",
    "            hr_data = pm.MutableData(\"hr_data\", hr.T)\n",
    "            pupil_data = pm.MutableData(\"pupil_data\", pupil.T)\n",
    "            eda_data = pm.MutableData(\"eda_data\", eda.T)\n",
    "\n",
    "            e_data = pm.ConstantData(\"e_data\", e_labels.T)\n",
    "\n",
    "            #matrici pesi\n",
    "            Whr = pm.Normal('Whr', mu=at.zeros([D_hr, K]), sigma=2.0 * at.ones([D_hr, K]), shape=[D_hr, K])\n",
    "            Wpupil = pm.Normal('Wpupil', mu=at.zeros([D_pupil, K]), sigma=2.0 * at.ones([D_pupil, K]), shape=[D_pupil, K])\n",
    "\n",
    "            Weda = pm.Normal('Weda', mu=at.zeros([D_eda, K]), sigma=2.0 * at.ones([D_eda, K]), shape=[D_eda, K])\n",
    "\n",
    "            #weight matrix for pain expectation.\n",
    "            #check mu,sigma,shape\n",
    "            We = pm.Normal('W_e', mu=at.zeros([D_e, K]), sigma=2.0 * at.ones([D_e,K]), shape=[D_e, K])\n",
    "\n",
    "            #latent space\n",
    "            c = pm.Normal('c', mu=at.zeros([N_hr,K]), sigma=at.ones([N_hr,K]), shape=[N_hr,K])\n",
    "\n",
    "            # dati dell'hrv interpretati come una gaussiana\n",
    "            x_hr = pm.Normal('x_hr', mu=Whr.dot(c.T), sigma=at.ones([D_hr,N_hr]) ,shape=[D_hr, N_hr], observed=hr_data)\n",
    "            # dati della dilatazione pupille interpretati come una gaussiana\n",
    "            x_pupil = pm.Normal('x_pupil', mu=Wpupil.dot(c.T), sigma=at.ones([D_pupil, N_pupil]), shape=[D_pupil, N_pupil], observed=pupil_data)\n",
    "            #eda\n",
    "            x_eda = pm.Normal('x_eda',mu=Weda.dot(c.T),sigma= at.ones([D_eda,N_pupil]), shape=[D_eda,N_eda], observed=eda_data)\n",
    "\n",
    "            # pain expectation. ciò che dovremmo inferire dato c\n",
    "            # due strade: binary o multiclass (1-4)\n",
    "            # p = probability of success?\n",
    "            x_e = pm.Bernoulli('x_e' , p=pm.math.sigmoid(We.dot(c.T)) , shape =[D_e, N_e], observed=e_data)\n",
    "\n",
    "            #x_hr = pm.Bernoulli('x_hr', p=pm.math.sigmoid(Whr.dot(c.T)), shape=[D_hr, N_hr], observed=hr_data)\n",
    "            #x_eda = pm.Bernoulli('x_eda', p=pm.math.sigmoid(Weda.dot(c.T)), shape=[D_eda, N_eda], observed=eda_data)\n",
    "\n",
    "        gv = pm.model_to_graphviz(sPPCA)\n",
    "\n",
    "\n",
    "        if use_sampling:\n",
    "            with sPPCA:\n",
    "                trace = pm.sample(1000,init='advi+adapt_diag',chains=1,progressbar=False,target_accept=0.95)\n",
    "        else:\n",
    "            with sPPCA:\n",
    "                approx = pm.fit(100000, callbacks=[pm.callbacks.CheckParametersConvergence(tolerance=1e-4)])\n",
    "                trace = approx.sample(500)\n",
    "\n",
    "        #az.plot_trace(trace);\n",
    "        with sPPCA:\n",
    "            # update values of predictors:\n",
    "            pm.set_data({\"pupil_data\": pupil,\"hr_data\":hr,\"eda_data\":eda})\n",
    "            # use the updated values and predict outcomes and probabilities:\n",
    "            posterior_predictive = pm.sample_posterior_predictive(\n",
    "                trace, random_seed=123)\n",
    "        e_pred = posterior_predictive.posterior_predictive[\"x_e\"]\n",
    "        e_pred_mode = np.squeeze(stats.mode(e_pred[0], keepdims=False)[0])[:,np.newaxis]\n",
    "\n",
    "        train_accuracy_exp = accuracy_score(e_labels, e_pred_mode)\n",
    "\n",
    "        logging.info(\"\\n Subject number: \" + str(SUBJECT) + \" Train Accuracy Pain Expectation: \" + str(train_accuracy_exp))\n",
    "\n"
   ]
  },
  {
   "cell_type": "code",
   "execution_count": null,
   "outputs": [],
   "source": [],
   "metadata": {
    "collapsed": false
   }
  }
 ],
 "metadata": {
  "kernelspec": {
   "display_name": "Python 3",
   "language": "python",
   "name": "python3"
  },
  "language_info": {
   "codemirror_mode": {
    "name": "ipython",
    "version": 2
   },
   "file_extension": ".py",
   "mimetype": "text/x-python",
   "name": "python",
   "nbconvert_exporter": "python",
   "pygments_lexer": "ipython2",
   "version": "2.7.6"
  }
 },
 "nbformat": 4,
 "nbformat_minor": 0
}
