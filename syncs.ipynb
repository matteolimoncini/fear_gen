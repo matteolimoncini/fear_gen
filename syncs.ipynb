{
 "cells": [
  {
   "cell_type": "markdown",
   "source": [
    "## import"
   ],
   "metadata": {
    "collapsed": false
   }
  },
  {
   "cell_type": "code",
   "execution_count": 5,
   "metadata": {
    "collapsed": true
   },
   "outputs": [],
   "source": [
    "import csv\n",
    "import neurokit2 as nk\n",
    "import numpy as np\n",
    "import matplotlib.pyplot as plt\n",
    "import pandas as pd\n",
    "from pyreadr import pyreadr\n",
    "import matplotlib\n",
    "from tqdm import tqdm\n",
    "from scipy import stats"
   ]
  },
  {
   "cell_type": "markdown",
   "source": [
    "## setup params"
   ],
   "metadata": {
    "collapsed": false
   }
  },
  {
   "cell_type": "code",
   "execution_count": 6,
   "outputs": [],
   "source": [
    "plt.rcParams['figure.figsize'] = [15, 5]  # Bigger images\n",
    "plt.rcParams['font.size']= 16"
   ],
   "metadata": {
    "collapsed": false
   }
  },
  {
   "cell_type": "code",
   "execution_count": 7,
   "outputs": [],
   "source": [
    "notvalid = [x for x in range(34,41)]\n",
    "notvalid.extend([9,11,20,25,42])\n",
    "valid_patients_pupil = [ele for ele in range(1,56) if ele not in notvalid]\n",
    "\n",
    "notvalid = [x for x in range(34,41)]\n",
    "notvalid.append(9)\n",
    "valid_patients_eda = [ele for ele in range(1,56) if ele not in notvalid]\n",
    "\n",
    "valid_pupil_eda = list(set(valid_patients_eda).intersection(set(valid_patients_pupil)))\n",
    "\n",
    "notvalid = [x for x in range(34, 41)]\n",
    "notvalid= notvalid + [9,11,12,20]\n",
    "valid_patients_hr = [ele for ele in range(1, 56) if ele not in notvalid]"
   ],
   "metadata": {
    "collapsed": false
   }
  },
  {
   "cell_type": "markdown",
   "source": [
    "## global var"
   ],
   "metadata": {
    "collapsed": false
   }
  },
  {
   "cell_type": "code",
   "execution_count": 8,
   "outputs": [],
   "source": [
    "NUM_TRIALS = 160\n",
    "LATENCY_HR = 250\n",
    "LATENCY_EDA = 5000\n",
    "LATENCY_PUPIL = 1000\n",
    "SAMPLING_RATE_HR = 500\n",
    "SAMPLING_RATE_EDA = 500\n",
    "SAMPLING_RATE_PUPIL = 100"
   ],
   "metadata": {
    "collapsed": false
   }
  },
  {
   "cell_type": "markdown",
   "source": [
    "## heart rate functions"
   ],
   "metadata": {
    "collapsed": false
   }
  },
  {
   "cell_type": "code",
   "execution_count": 14,
   "outputs": [],
   "source": [
    "def extract_hr_by_subject(subject_number: int) -> pd.DataFrame:\n",
    "    \"\"\"\n",
    "    Extract heart data of the subject (reading tmp_hr csv files in tmp_hr folder) and return same data in one list\n",
    "    :param subject_number:\n",
    "    :return:\n",
    "    \"\"\"\n",
    "    if subject_number not in valid_patients_hr:\n",
    "        print('subject number not valid, probably this patient has not valid hr signals')\n",
    "        return []\n",
    "    if subject_number < 10:\n",
    "        subject_number = '0' + str(subject_number)\n",
    "    path_csv = str(\"tmp_eda/tmp_eda\" + str(subject_number) + \".csv\")\n",
    "    pat_ = pd.read_csv(path_csv)\n",
    "    df = {'subject': subject_number, 'hr': pat_['CH2'], 'trigger': pat_['CH28']}\n",
    "    return pd.DataFrame(df)\n",
    "\n",
    "\n",
    "def all_subject_hr() -> pd.DataFrame:\n",
    "    \"\"\"\n",
    "    Create a single dataframe containing all the hr values of all subjects\n",
    "    :return:\n",
    "    \"\"\"\n",
    "    generic_df = pd.DataFrame(columns=['subject', 'hr', 'trigger'])\n",
    "    for i in tqdm(valid_patients_hr):\n",
    "        df_ = modified_hr_by_subject(i)\n",
    "        #df_['time'] = np.arange(0, len(signals) / 100, 0.01)[:len(df_)] #no sense sta cosa ma senza non va\n",
    "        generic_df = pd.concat([generic_df, df_], axis=0)\n",
    "    return generic_df\n",
    "\n",
    "'''\n",
    "def modified_hr_by_subject(subject: int) -> pd.DataFrame:\n",
    "    \"\"\"\n",
    "    Read the hr from the given subjects and applies some changes: NO ACTION now\n",
    "    :param subject:\n",
    "    :return: new Dataframe with the corrected EDA values\n",
    "    \"\"\"\n",
    "    df = extract_hr_by_subject(subject)\n",
    "    return df\n",
    "'''\n",
    "\n",
    "def modified_hr_by_subject(subject: int) -> pd.DataFrame:\n",
    "    \"\"\"\n",
    "    Read the hr from the given subjects and applies NOTHING\n",
    "    :param subject:\n",
    "    :return: new Dataframe with the corrected hr values\n",
    "    \"\"\"\n",
    "    df_ = extract_hr_by_subject(subject)\n",
    "    df_ = add_latency(df_, -250,500) #TODO INSERT CORRECT VALUE OF LATENCY\n",
    "    return df_\n"
   ],
   "metadata": {
    "collapsed": false
   }
  },
  {
   "cell_type": "markdown",
   "source": [
    "## pupil functions"
   ],
   "metadata": {
    "collapsed": false
   }
  },
  {
   "cell_type": "code",
   "execution_count": 15,
   "outputs": [],
   "source": [
    "def read_csv_pupil_raw(subject_number:int) -> pd.DataFrame:\n",
    "    \"\"\"\n",
    "    Read pupil csv files\n",
    "    :param subject_number:\n",
    "    :return: A dataframe with pupil data of the subject subject_number\n",
    "    \"\"\"\n",
    "    if subject_number not in valid_patients_pupil:\n",
    "        print('subject number not valid, probably this patient has not valid pupil signals')\n",
    "        return pd.DataFrame()\n",
    "    if subject_number < 10:\n",
    "        subject_number = '0' + str(subject_number)\n",
    "    pupil1 = pd.read_csv('../osfstorage-archive/eye/pupil/Look0' + str(subject_number) + '_pupil.csv', sep=';')\n",
    "    for i in pupil1.columns:\n",
    "        if i != 'trial':\n",
    "            for j in pupil1.index:\n",
    "                pupil1.loc[j, i] = pupil1.loc[j, i].replace(',', '.')\n",
    "    cols = pupil1.columns.drop('trial')\n",
    "\n",
    "    pupil1[cols] = pupil1[cols].apply(pd.to_numeric, errors='coerce')\n",
    "    return pupil1\n",
    "\n",
    "def create_csv_pupil():\n",
    "    \"\"\"\n",
    "    Create in current folder one tmp csv well formatted with pupil data for each subject\n",
    "    :return: nothing\n",
    "    \"\"\"\n",
    "    for subject in valid_patients_pupil:\n",
    "        pupil_i = read_csv_pupil_raw(subject)\n",
    "        name = 'tmp_pupil/tmp_pupil' + str(subject) + '.csv'\n",
    "        pupil_i.to_csv(name, index=False)\n",
    "\n",
    "def read_csv_pupil(subject:int) -> pd.DataFrame:\n",
    "    \"\"\"\n",
    "    Read in current folder one tmp csv well formatted with pupil data\n",
    "    :param subject:\n",
    "    :return: Dataframe with pupil data of the subject\n",
    "    \"\"\"\n",
    "    name = 'tmp_pupil/tmp_pupil'+str(subject)+'.csv'\n",
    "    return pd.read_csv(name, sep=',')\n",
    "\n",
    "def extract_pupil_by_subject(subject_number:int) -> list:\n",
    "    \"\"\"\n",
    "    Extract pupil data of the subject and return same data in one list adding NaN values to reach same trial length of eda data\n",
    "    :param subject_number:\n",
    "    :return:\n",
    "    \"\"\"\n",
    "    pupil = read_csv_pupil(subject_number)\n",
    "    pupil_ = pupil.copy().drop(['trial'], axis=1)\n",
    "    # convert all datas into one list\n",
    "    pat1_pupil = []\n",
    "    len_eda = int(len_trial_eda(subject_number))\n",
    "    for i in range(160):\n",
    "        raw_list = pupil_.loc[i, :].values.flatten().tolist()\n",
    "        pat1_pupil = pat1_pupil + raw_list\n",
    "    # pat1_pupil\n",
    "\n",
    "    return pat1_pupil\n",
    "\n",
    "def correct_pupil_diam(l:list)->list:\n",
    "    \"\"\"\n",
    "    Shift the pupil diameter values\n",
    "    :param l: pupil diameter list\n",
    "    :return: A list containing new pupil shifted\n",
    "    \"\"\"\n",
    "    ADD_SHIFT = -2\n",
    "    MULT_SHIFT = 4\n",
    "    return [(x+ADD_SHIFT)*MULT_SHIFT if x != 'NaN' else float('NaN') for x in l]\n",
    "\n",
    "def extract_maxpupil_trial(subject: int) -> list:\n",
    "    \"\"\"\n",
    "    Calculate the max value of pupil signal in each trial.\n",
    "    :param subject:\n",
    "    :return: a list with same length of the pupil signal filled with 0 or 1. 1 if the equivalent value is a max, 0 otherwise\n",
    "    \"\"\"\n",
    "    pupil_csv = read_csv_pupil(subject)\n",
    "    max_list = []\n",
    "    max_length = max(700, int(len_trial_eda(subject)))\n",
    "    for i in range(160):\n",
    "        max_trial_list = list(pupil_csv.loc[i])[1:]\n",
    "        max_ = max(max_trial_list)\n",
    "        max_index = max_trial_list.index(max_)\n",
    "        for j in range(max_length):\n",
    "            if j == max_index:\n",
    "                max_list.append(1)\n",
    "            else:\n",
    "                max_list.append(0)\n",
    "    return max_list\n",
    "\n",
    "def all_subject_pupil() -> pd.DataFrame:\n",
    "    \"\"\"\n",
    "    Create a dataframe with all pupil data of all subject after adding latency\n",
    "    :return: a dataframe with all pupil data of all subject with columns ['pupil_diameter', 'pupil_peak', 'subject']\n",
    "    \"\"\"\n",
    "    generic_df = pd.DataFrame(columns=['pupil_diameter', 'subject'])\n",
    "    for i in tqdm(valid_pupil_eda):\n",
    "        df_ = modified_pupil_subject(i)\n",
    "        generic_df = pd.concat([generic_df, df_], axis=0)\n",
    "\n",
    "    return generic_df\n",
    "\n",
    "def modified_pupil_subject(subject):\n",
    "    # print(f'pupil: {subject}')\n",
    "    person_i_all_pupil = extract_pupil_by_subject(subject)\n",
    "    max_list_i = extract_maxpupil_trial(subject)\n",
    "    # print(f'person: {len(person_i_all_pupil)}, max: {len(max_list_i)}')\n",
    "    dict_ = {'pupil_diameter': person_i_all_pupil,\n",
    "             'subject': subject}\n",
    "    df_ = pd.DataFrame(dict_)\n",
    "    df_ = add_latency(df_, -1000,100)\n",
    "    # df_['time'] = np.arange(0, len(df_) / 100, 0.01)\n",
    "    return df_\n"
   ],
   "metadata": {
    "collapsed": false
   }
  },
  {
   "cell_type": "markdown",
   "source": [
    "## Eda functions"
   ],
   "metadata": {
    "collapsed": false
   }
  },
  {
   "cell_type": "code",
   "execution_count": 16,
   "outputs": [],
   "source": [
    "def len_trial_eda(subject:int) -> int:\n",
    "    \"\"\"\n",
    "    Calculate the length of the trial of the eda signal given subject number\n",
    "    :param subject:\n",
    "    :return: int that indicates the length\n",
    "    \"\"\"\n",
    "    df_subject = modified_eda_by_subject(subject)\n",
    "    return len(df_subject)/NUM_TRIALS\n",
    "\n",
    "def extract_eda_by_subject(subject_number: int) -> list:\n",
    "    \"\"\"\n",
    "    Extract eda data of the subject (reading tmp_eda csv files in current folder) and return same data in one list\n",
    "    :param subject_number:\n",
    "    :return:\n",
    "    \"\"\"\n",
    "    if subject_number not in valid_patients_eda:\n",
    "        print('subject number not valid, probably this patient has not valid eda signals')\n",
    "        return []\n",
    "    if subject_number < 10:\n",
    "        subject_number = '0' + str(subject_number)\n",
    "    path_csv = str(\"tmp_eda/tmp_eda\" + str(subject_number) + \".csv\")\n",
    "    pat_eda = pd.read_csv(path_csv)['CH1']\n",
    "    return pat_eda.to_numpy()\n",
    "\n",
    "def all_subject_eda() -> pd.DataFrame:\n",
    "    \"\"\"\n",
    "    Create a single dataframe containing all the EDA values of all subjects\n",
    "    :return:\n",
    "    \"\"\"\n",
    "    generic_df = pd.DataFrame(columns=['subject', 'phasic', 'phasic_peak'])\n",
    "    for i in tqdm(valid_pupil_eda):\n",
    "        df_ = modified_eda_by_subject(i)\n",
    "        #df_['time'] = np.arange(0, len(signals) / 100, 0.01)[:len(df_)] #no sense sta cosa ma senza non va\n",
    "        generic_df = pd.concat([generic_df, df_], axis=0)\n",
    "    return generic_df\n",
    "\n",
    "def modified_eda_by_subject(subject: int) -> pd.DataFrame:\n",
    "    \"\"\"\n",
    "    Read the EDA from the given subjects and applies all the changes: removing last zeros from the list and the outliers at the end\n",
    "    :param subject:\n",
    "    :return: new Dataframe with the corrected EDA values\n",
    "    \"\"\"\n",
    "    eda = extract_eda_by_subject(subject)\n",
    "    # print(f'eda: {i}')\n",
    "    #eda = resample_eda(eda)\n",
    "    signals, info = nk.eda_process(eda, sampling_rate=500, method=\"neurokit\")\n",
    "    eda_phasic = signals['EDA_Phasic']\n",
    "    #eda_phasic = remove_last_zeros(eda_phasic)\n",
    "    #eda_phasic = remove_outliers(eda_phasic)\n",
    "    df = {'subject': subject, 'phasic': eda_phasic, 'phasic_peak': signals['SCR_Peaks'][:len(eda_phasic)]}\n",
    "    df_ = pd.DataFrame(df)\n",
    "    df_ = add_latency(df_, -5000, 500)\n",
    "    return df_\n"
   ],
   "metadata": {
    "collapsed": false
   }
  },
  {
   "cell_type": "markdown",
   "source": [
    "## general functions"
   ],
   "metadata": {
    "collapsed": false
   }
  },
  {
   "cell_type": "code",
   "execution_count": 17,
   "outputs": [],
   "source": [
    "def start_trial_time(df:pd.DataFrame)-> list:\n",
    "    \"\"\"\n",
    "\n",
    "    :param df: a dataframe with index in position 0, colum time in position 3 and trigger in position 2\n",
    "    :return: a list of time where starts trial using trigger as a rectangular activation function\n",
    "    \"\"\"\n",
    "    start_trials = [] #TODO optimize this function.too much time\n",
    "    prec = -1\n",
    "    for i in tqdm(df.iterrows()):\n",
    "        actual = i[1][2]\n",
    "        if actual == 5 and prec == 0:\n",
    "            start_trials.extend([i[1][3]])\n",
    "        prec = actual\n",
    "    return start_trials\n",
    "\n",
    "def resample(eda_signal:list,freq_init:int,freq_fin:int) -> list:\n",
    "    \"\"\"\n",
    "    Change sampling rate of the eda signal from initial freq to final freq\n",
    "    :param eda_signal: list of eda_signal\n",
    "    :param freq_init: initial sampling rate in hz\n",
    "    :param freq_fin: final sampling rate in hz\n",
    "    :return: list of eda_signal with sampling rate of 100hz\n",
    "    \"\"\"\n",
    "    if freq_fin>freq_init:\n",
    "        print(\"error only downsample\")\n",
    "        return []\n",
    "    factor = int(freq_fin/freq_init)\n",
    "    eda_new = []\n",
    "    for x in range(len(eda_signal)):\n",
    "        if x % factor == 0:\n",
    "            eda_new.append(eda_signal[x])\n",
    "    return eda_new\n",
    "\n",
    "def add_latency(dataframe:pd.DataFrame, msecs:int, freq:int)->pd.DataFrame:\n",
    "    \"\"\"\n",
    "    It creates the correct 'time' column of the given dataframe.\n",
    "    :param dataframe:\n",
    "    :param secs:\n",
    "    :param freq: sampling of the signal in Hz\n",
    "    \"\"\"\n",
    "    freq_sec = float(1/freq)\n",
    "    new_df = dataframe\n",
    "    time_ = []\n",
    "    first_value = msecs/1000\n",
    "    for i in range(len(dataframe)):\n",
    "        time_.append(first_value)\n",
    "        first_value += freq_sec\n",
    "    #print(len(time_))\n",
    "    new_df['time'] = time_\n",
    "    return new_df\n",
    "\n",
    "def remove_outliers(l:list) -> list:\n",
    "    \"\"\"\n",
    "    Remove outliers from a given list. An outlier is detected if its zscore exceeds a certain threshold.\n",
    "    :param l: list\n",
    "    :return: same list without outliers\n",
    "    \"\"\"\n",
    "    z = np.abs(stats.zscore(l))\n",
    "    THRESHOLD = 4\n",
    "    PERC_LEN = 0.80\n",
    "    # Position of the first outlier\n",
    "    outliers = np.where(z>THRESHOLD)[0]\n",
    "    for x in outliers:\n",
    "        if x > PERC_LEN*len(l):\n",
    "            l = l[:x]\n",
    "            break\n",
    "    '''\n",
    "    for x in outliers:\n",
    "        if x < (1-PERC_LEN)*len(l):\n",
    "            l = l[x:]\n",
    "            break\n",
    "    '''\n",
    "    return l\n",
    "\n",
    "def remove_last_zeros(l:list)->list:\n",
    "    \"\"\"\n",
    "    Remove last zeros from the list l, in our case the EDA file\n",
    "    :param l: list\n",
    "    :return: same list as l without trailing zeros\n",
    "    \"\"\"\n",
    "    l=list(l)\n",
    "    if len(l)>0:\n",
    "        while abs(l[-1]) < 0.01:\n",
    "            l.pop()\n",
    "    return l"
   ],
   "metadata": {
    "collapsed": false
   }
  },
  {
   "cell_type": "markdown",
   "source": [
    "# test with subject 2"
   ],
   "metadata": {
    "collapsed": false
   }
  },
  {
   "cell_type": "code",
   "execution_count": null,
   "outputs": [],
   "source": [
    "subject_number=2"
   ],
   "metadata": {
    "collapsed": false
   }
  },
  {
   "cell_type": "markdown",
   "source": [
    "## extract pupil, eda and hr data of the subject"
   ],
   "metadata": {
    "collapsed": false
   }
  },
  {
   "cell_type": "code",
   "execution_count": null,
   "outputs": [],
   "source": [
    "pupil_one_subj = modified_pupil_subject(subject_number)\n",
    "pupil_one_subj"
   ],
   "metadata": {
    "collapsed": false
   }
  },
  {
   "cell_type": "code",
   "execution_count": null,
   "outputs": [],
   "source": [
    "eda_one_subj = modified_eda_by_subject(subject_number)\n",
    "eda_one_subj"
   ],
   "metadata": {
    "collapsed": false
   }
  },
  {
   "cell_type": "code",
   "execution_count": null,
   "outputs": [],
   "source": [
    "hr_one_subj = modified_hr_by_subject(subject_number)\n",
    "hr_one_subj"
   ],
   "metadata": {
    "collapsed": false
   }
  },
  {
   "cell_type": "markdown",
   "source": [
    "## merge eda and hr"
   ],
   "metadata": {
    "collapsed": false
   }
  },
  {
   "cell_type": "code",
   "execution_count": null,
   "outputs": [],
   "source": [
    "eda_one_subj.time = np.round(eda_one_subj.time*1000).astype(int)\n",
    "hr_one_subj.time = np.round(hr_one_subj.time*1000).astype(int)\n",
    "\n",
    "eda_hr = eda_one_subj.merge(hr_one_subj[['hr', 'trigger', 'time']], how='inner', on = ['time'])\n",
    "\n",
    "hr_one_subj.time = hr_one_subj.time/1000\n",
    "eda_one_subj.time = eda_one_subj.time/1000\n",
    "eda_hr.time = eda_hr.time/1000\n",
    "\n",
    "eda_hr"
   ],
   "metadata": {
    "collapsed": false
   }
  },
  {
   "cell_type": "markdown",
   "source": [
    "## calculate trials from hr"
   ],
   "metadata": {
    "collapsed": false
   }
  },
  {
   "cell_type": "code",
   "execution_count": null,
   "outputs": [],
   "source": [
    "trials = start_trial_time(hr_one_subj)\n",
    "len(trials)"
   ],
   "metadata": {
    "collapsed": false
   }
  },
  {
   "cell_type": "markdown",
   "source": [
    "## plot all signals"
   ],
   "metadata": {
    "collapsed": false
   }
  },
  {
   "cell_type": "code",
   "execution_count": null,
   "outputs": [],
   "source": [
    "fig, ax = plt.subplots(3)\n",
    "fig.tight_layout()\n",
    "\n",
    "ax[0].plot(list(pupil_one_subj.time), list(pupil_one_subj.pupil_diameter),color='blue',label='pupil')\n",
    "#ax[0].vlines(trial, ymin=-3,ymax=3, color='green', linewidth=3,label='trial separators')\n",
    "ax[0].set(ylabel='Pupil diameter')\n",
    "ax[0].set_xlim([250,300])\n",
    "#ax[0].set_ylim([1.7, 2.3])\n",
    "ax[0].legend(bbox_to_anchor=(1,0), loc=\"lower left\")\n",
    "ax[1].plot(list(eda_hr.time), list(eda_hr.hr),color='red',label='hr')\n",
    "ax[1].set(ylabel='HR')\n",
    "ax[1].vlines(trials, ymin=-3,ymax=3, color='green', linewidth=3,label='trial separators')\n",
    "ax[1].legend()\n",
    "ax[1].set_ylim([-0.8, 1.8])\n",
    "ax[1].set_xlim([250, 300])\n",
    "plt.xlabel('seconds')\n",
    "ax[1].legend(bbox_to_anchor=(1,0), loc=\"lower left\")\n",
    "ax[2].plot(list(eda_hr.time), list(eda_hr.phasic),color='orange',label='phasic eda')\n",
    "ax[2].set(ylabel='EDA')\n",
    "ax[2].legend(bbox_to_anchor=(1,0), loc=\"lower left\")\n",
    "ax[2].vlines(trials, ymin=-3,ymax=3, color='green', linewidth=3,label='trial separators')\n",
    "ax[2].set_ylim([-0.1, 0.1])\n",
    "ax[2].set_xlim([250, 300])\n",
    "plt.show()"
   ],
   "metadata": {
    "collapsed": false
   }
  },
  {
   "cell_type": "code",
   "execution_count": null,
   "outputs": [],
   "source": [
    "eda_subj_1 = modified_eda_by_subject(1)\n",
    "eda_subj_1"
   ],
   "metadata": {
    "collapsed": false
   }
  },
  {
   "cell_type": "code",
   "execution_count": null,
   "outputs": [],
   "source": [
    "fig, ax = plt.subplots(3)\n",
    "ax[0].plot(list(pupil_one_subj.time), list(pupil_one_subj.pupil_diameter),color='blue',label='pupil')\n",
    "#ax[0].vlines(trial, ymin=-3,ymax=3, color='green', linewidth=3,label='trial separators')\n",
    "ax[0].set(ylabel='Pupil diameter')\n",
    "#ax[0].set_ylim([1.7, 2.3])\n",
    "ax[0].legend(bbox_to_anchor=(1,0), loc=\"lower left\")\n",
    "ax[1].plot(list(eda_hr.time), list(eda_hr.hr),color='red',label='hr')\n",
    "ax[1].set(ylabel='HR')\n",
    "ax[1].vlines(trials, ymin=-3,ymax=3, color='green', linewidth=3,label='trial separators')\n",
    "ax[1].legend()\n",
    "ax[1].set_ylim([-0.8, 1.8])\n",
    "ax[1].set_xlim([250, 300])\n",
    "plt.xlabel('seconds')\n",
    "ax[1].legend(bbox_to_anchor=(1,0), loc=\"lower left\")\n",
    "ax[2].plot(list(eda_hr.time), list(eda_hr.phasic),color='orange',label='phasic eda')\n",
    "ax[2].set(ylabel='EDA')\n",
    "ax[2].vlines(trials, ymin=-3,ymax=3, color='green', linewidth=3,label='trial separators')\n",
    "ax[2].set_ylim([-0.1, 0.1])\n",
    "\n",
    "plt.show()"
   ],
   "metadata": {
    "collapsed": false
   }
  },
  {
   "cell_type": "code",
   "execution_count": null,
   "outputs": [],
   "source": [
    "diff_ = [x - trials[i - 1] for i, x in enumerate(trials)][1:]\n",
    "\n",
    "print(min(diff_), max(diff_))"
   ],
   "metadata": {
    "collapsed": false
   }
  },
  {
   "cell_type": "code",
   "execution_count": null,
   "outputs": [],
   "source": [
    "diff_"
   ],
   "metadata": {
    "collapsed": false
   }
  },
  {
   "cell_type": "markdown",
   "source": [
    "# New approach"
   ],
   "metadata": {
    "collapsed": false
   }
  },
  {
   "cell_type": "markdown",
   "source": [
    "## EDA and HR functions"
   ],
   "metadata": {
    "collapsed": false
   }
  },
  {
   "cell_type": "code",
   "execution_count": 9,
   "outputs": [],
   "source": [
    "def create_df_one_subj(df:pd.DataFrame,indexes_trial:list,type_data:str,sampling_rate=500,latency=0,len_trial=6) -> pd.DataFrame:\n",
    "    \"\"\"\n",
    "    Modify pd dataframes trasforming datas into #numtrials rows and 3k columns similar to pupil data\n",
    "    This function also fix latency\n",
    "\n",
    "    :param df: df with a row for each value\n",
    "    :param indexes_trial: list that cointains indexes of the df where starts trials\n",
    "    :param type_data: str that indicates 'eda' or 'hr'\n",
    "    :param sampling_rate: in hz default 500\n",
    "    :param latency: in seconds default 0\n",
    "    :param len_trial: in seconds default 6\n",
    "    :return: DataFrame with 160 rows (1 per trial and 3k columns)\n",
    "    \"\"\"\n",
    "    num_data = (len_trial*sampling_rate)-1\n",
    "    names_col = np.arange(0,num_data+1).astype(str)\n",
    "    df_all_trials = pd.DataFrame()\n",
    "    for i,index in enumerate(indexes_trial):\n",
    "        start_lat= index + (latency/1000*sampling_rate)\n",
    "        end_lat = start_lat + num_data\n",
    "        df_single_trial = df.loc[start_lat:end_lat][[type_data]]\n",
    "        min_len= len(df_single_trial.index)\n",
    "        df_single_trial.columns = [str(i+1)]\n",
    "        df_trasp = df_single_trial.T\n",
    "        df_trasp.columns =names_col[:min_len]\n",
    "        df_all_trials = pd.concat([df_all_trials, df_trasp], axis=0)\n",
    "    return df_all_trials\n",
    "\n",
    "def from_csv_to_df (subject_number,valid_patients,type_data,path=\"tmp_eda\") -> pd.DataFrame:\n",
    "    \"\"\"\n",
    "    Read csv files from @param path and return a simple dataframe with eda (or hr) and trigger data\n",
    "\n",
    "    :param subject_number:\n",
    "    :param valid_patients:\n",
    "    :param type_data:\n",
    "    :param path:\n",
    "    :return:\n",
    "    \"\"\"\n",
    "    df = dict()\n",
    "    if type_data not in ['eda','hr']:\n",
    "        print(\"ERROR TYPE_DATA PARAM (only eda or hr)\")\n",
    "        return pd.DataFrame(df)\n",
    "\n",
    "    if subject_number not in valid_patients:\n",
    "        print('subject number not valid, probably this patient has not valid '+type_data+' signal')\n",
    "        return pd.DataFrame(df)\n",
    "\n",
    "    if subject_number < 10:\n",
    "        subject_number = '0' + str(subject_number)\n",
    "    path_csv = str(path+\"/tmp_eda\"+ str(subject_number) + \".csv\")\n",
    "    pat_ = pd.read_csv(path_csv)\n",
    "    if type_data == 'eda':\n",
    "        df = {'subject': subject_number, 'eda': pat_['CH1'], 'trigger': pat_['CH28']}\n",
    "    if type_data == 'hr':\n",
    "        df = {'subject': subject_number, 'hr': pat_['CH2'], 'trigger': pat_['CH28']}\n",
    "\n",
    "    return pd.DataFrame(df)\n",
    "\n",
    "def create_csv_signals_physio (subj_num, valid_patients,type_signal) -> None:\n",
    "    \"\"\"\n",
    "    Function to create csv files into eda_csv or hr_csv folder\n",
    "    :param subj_num:\n",
    "    :param valid_patients:\n",
    "    :param type_signal:\n",
    "    :return:\n",
    "    \"\"\"\n",
    "    if type_signal not in ['eda','hr']:\n",
    "        print(\"ERROR TYPE_DATA PARAM (only eda or hr)\")\n",
    "        return\n",
    "    df = from_csv_to_df(subj_num,valid_patients,type_data=type_signal)\n",
    "    indexes_trial_ = indexes_trial_start(df)\n",
    "    #print('len ind trial '+str(len(indexes_trial_)))\n",
    "    if type_signal== 'eda':\n",
    "        latency = LATENCY_EDA\n",
    "    if type_signal== 'hr':\n",
    "        latency = LATENCY_HR\n",
    "    df_eda_subj = create_df_one_subj(df,indexes_trial=indexes_trial_,latency=latency,type_data=type_signal)\n",
    "    name=type_signal+'_csv/'+str(subj_num)+'_'+type_signal+'.csv'\n",
    "    df_eda_subj.to_csv(name,index=False)"
   ],
   "metadata": {
    "collapsed": false
   }
  },
  {
   "cell_type": "markdown",
   "source": [
    "## pupil functions"
   ],
   "metadata": {
    "collapsed": false
   }
  },
  {
   "cell_type": "code",
   "execution_count": 10,
   "outputs": [],
   "source": [
    "def from_csv_to_df_pupil(subject:int, latency:int, sampling_rate: int) -> pd.DataFrame:\n",
    "    \"\"\"\n",
    "    Read in current folder one tmp csv well formatted with pupil data\n",
    "    :param subject:\n",
    "    :param latency: msec\n",
    "    :param sampling_rate: hz\n",
    "    :return: Dataframe with pupil data of the subject\n",
    "    \"\"\"\n",
    "    name = 'tmp_pupil/tmp_pupil'+str(subject)+'.csv'\n",
    "    df_pupil = pd.read_csv(name, sep=',')\n",
    "    delay_before_onset_stim = 1000\n",
    "    len_col = int((latency+delay_before_onset_stim) / 1000 * sampling_rate)\n",
    "    name_col = 'pd'\n",
    "    columns = ['trial']\n",
    "    for i in range(1, len_col+1):\n",
    "        columns.append(name_col+str(i))\n",
    "    df_pupil = df_pupil.drop(columns, axis=1)\n",
    "    columns = np.arange(0, len(df_pupil.columns))\n",
    "    df_pupil.columns = columns\n",
    "    return df_pupil"
   ],
   "metadata": {
    "collapsed": false
   }
  },
  {
   "cell_type": "markdown",
   "source": [
    "## general functions"
   ],
   "metadata": {
    "collapsed": false
   }
  },
  {
   "cell_type": "code",
   "execution_count": 11,
   "outputs": [],
   "source": [
    "def indexes_trial_start (df:pd.DataFrame)-> list:\n",
    "    \"\"\"\n",
    "    Calculate indexes where trials starts\n",
    "    :param df: a pandas DataFrame with rectangular function with value = 0 or value = 5 in column 2\n",
    "    :return: a list that contains indexes of firsts value with value = 5\n",
    "    \"\"\"\n",
    "    start_trials = [] #TODO optimize this function.too much time\n",
    "    prec = -1\n",
    "    for i in tqdm(df.iterrows()):\n",
    "        actual = i[1][2]\n",
    "        if actual == 5 and prec == 0:\n",
    "            start_trials.extend([i[0]])\n",
    "        prec = actual\n",
    "    return start_trials\n",
    "\n",
    "def extract_trials_lines(df, start, end):\n",
    "    \"\"\"\n",
    "\n",
    "    :param df:\n",
    "    :param start:\n",
    "    :param end:\n",
    "    :return:\n",
    "    \"\"\"\n",
    "    trials_lines = []\n",
    "    for x in df[start:end]:\n",
    "        if x % 6 == 0:\n",
    "            trials_lines.append(x)\n",
    "    return trials_lines\n",
    "\n",
    "def check_min_trial():\n",
    "    \"\"\"\n",
    "\n",
    "    :return:\n",
    "    \"\"\"\n",
    "    dict_trials = {}\n",
    "    for i in valid_patients_hr:\n",
    "        hr_i = modified_hr_by_subject(i)\n",
    "        trials = start_trial_time(hr_i)\n",
    "        diff_ = [x - trials[i - 1] for i, x in enumerate(trials)][1:]\n",
    "        dict_trials[i] = (min(diff_), max(diff_))\n",
    "    return dict_trials\n",
    "\n",
    "def create_single_signal_lists(df_pupil, df_eda, df_hr):\n",
    "    \"\"\"\n",
    "    Create 3 list, one for pupil, one for eda, one for ecg with all signal with df\n",
    "\n",
    "    :param df_pupil: df with all pupil data. one row for trial. #columns = 1/sampling rate * len trial. each value contains pupil dilation\n",
    "    :param df_eda: df with all eda data. one row for trial. #columns = 1/sampling rate * len trial. each value contains eda data\n",
    "    :param df_hr: df with all hr data. one row for trial. #columns = 1/sampling rate * len trial. each value contains hr data. hr converted in hb\n",
    "\n",
    "    :return: 3 lists\n",
    "    \"\"\"\n",
    "\n",
    "    list_pupil, list_eda, list_hr = [], [], []\n",
    "    for i in range(len(df_pupil)):\n",
    "        raw_list = df_pupil.loc[i, :].values.flatten().tolist()\n",
    "        list_pupil = list_pupil + raw_list\n",
    "        list_pupil.extend([float('NaN') for x in range(100)])\n",
    "    for i in range(len(df_eda)):\n",
    "        raw_list = df_eda.loc[i, :].values.flatten().tolist()\n",
    "        list_eda = list_eda + raw_list\n",
    "    for i in range(len(df_hr)):\n",
    "        raw_list = df_hr.loc[i, :].values.flatten().tolist()\n",
    "        df, info = nk.ecg_process(raw_list, sampling_rate=SAMPLING_RATE_HR)\n",
    "        ecg_rate_trial = df['ECG_Rate']\n",
    "        list_hr = list_hr + list(ecg_rate_trial)\n",
    "    return list_pupil, list_eda, list_hr\n",
    "\n",
    "def start_end_trial(start_trial, len_trial, len_column):\n",
    "    \"\"\"\n",
    "\n",
    "    :param start_trial:\n",
    "    :param len_trial:\n",
    "    :param len_column:\n",
    "    :return:\n",
    "    \"\"\"\n",
    "    list_start = start_trial*len_column\n",
    "    list_end = list_start+(len_column*len_trial)\n",
    "    return list_start, list_end\n",
    "\n",
    "def extract_trias_US(subject_number:int, starting_trial:int, len_trials:int ,name= 'LookAtMe_0',path='../osfstorage-archive/behavior/', sep = '\\t') -> pd.DataFrame:\n",
    "    \"\"\"\n",
    "    Extract trials with US of one subject and between starting trial and starting trial+len trials\n",
    "    :param subject_number: number of the subject\n",
    "    :param starting_trial: num of the first trial to consider\n",
    "    :param len_trials: how many trial should be considered\n",
    "    :param name: name of the file with US without subject number. default = 'LookAtMe_0'\n",
    "    :param path: path to find the file with US. default = '../osfstorage-archive/behavior/'\n",
    "    :param sep: separator used for read the file with us. default = '\\t'\n",
    "    :return:\n",
    "    \"\"\"\n",
    "    if subject_number < 10:\n",
    "        name += '0'+str(subject_number)+'.csv'\n",
    "    else:\n",
    "        name += str(subject_number)+'.csv'\n",
    "    look_at_me = pd.read_csv(path+name, sep=sep)\n",
    "    trial_with_us = look_at_me[look_at_me.shock==True]\n",
    "    return trial_with_us[(trial_with_us['trial'] >= starting_trial) & (trial_with_us['trial'] <= starting_trial+len_trials)]"
   ],
   "metadata": {
    "collapsed": false
   }
  },
  {
   "cell_type": "markdown",
   "source": [
    "create csv files for hr"
   ],
   "metadata": {
    "collapsed": false
   }
  },
  {
   "cell_type": "code",
   "execution_count": null,
   "outputs": [],
   "source": [
    "for pat in valid_patients_hr:\n",
    "    create_csv_signals_physio(pat,valid_patients_hr,type_signal='hr')"
   ],
   "metadata": {
    "collapsed": false
   }
  },
  {
   "cell_type": "markdown",
   "source": [
    "create csv files for eda"
   ],
   "metadata": {
    "collapsed": false
   }
  },
  {
   "cell_type": "code",
   "execution_count": null,
   "outputs": [],
   "source": [
    "for pat in valid_patients_eda:\n",
    "    create_csv_signals_physio(pat,valid_patients_eda,type_signal='eda')"
   ],
   "metadata": {
    "collapsed": false
   }
  },
  {
   "cell_type": "markdown",
   "source": [
    "# General idea to synchronize Heart rate signal, EDA signal and pupil diameter signal.\n",
    "\n",
    "### EDA & HR\n",
    "Thanks to Mario Reuter, we finally understood how to properly read *\\<SubjectNumber\\>.txt* files.\n",
    "In particular **CH1** refers to EDA signals, **CH2** refers to HR signals while **CH28** refers to a *trigger* column: it contains *rectangular activation signals* that indicates the stimulus onset of each trial (the first non-zero value means that an image stimulus is presented to the subject).\n",
    "* EDA\n",
    "At this point since we know that the latency of the EDA signal is 5 seconds, we decide to discard the first 5 seconds of each trial (5*500 = 2500 rows, latency ) and consider the subsequent 6 seconds of the signal, that represent the duration of a trial before a fixation cross is presented to the subject. Even though a trial lasts for a period of time between 8-10 seconds, we have no issues since the latency is less than 8 seconds (in this case 5 s).\n",
    "* HR\n",
    "Same situation for the HR signals: in this case we have a latency of 250ms, so we discard for each trial the first 0.250*500 rows (latency * sampling rate HR)  after the corresponding trigger indicating the start of that trial.\n",
    "* Pupil responses\n",
    "The pupil diameters are stored for each subject in table containing 160 rows, one for trial, and 700 columns, representing the number of samples collected in 7 seconds for each trial. In this case we have to discard the first two seconds of each trial: the first is removed since this data are collected starting to the last second preceding stimulus onset while the second is removed because the latency of this signal is 1 second (this means removing the first 200 columns of each pupil file)."
   ],
   "metadata": {
    "collapsed": false
   }
  },
  {
   "cell_type": "markdown",
   "source": [
    "# recap\n",
    "\n",
    "## eda\n",
    "in folder eda_csv one csv for each patient with num rows = num trials\n",
    "in each cell value of eda signal (tonic+phasic). num columns = 1/sampling rate*time trial\n",
    "already considered latency of 5000 msec\n",
    "\n",
    "## hr\n",
    "in folder hr_csv one csv for each patient with num rows = num trials\n",
    "in each cell value of hr signal (probably should consider hr variability not this signal). num columns = 1/sampling rate*time trial\n",
    "already considered latency of 250 msec\n",
    "\n",
    "## pupil\n",
    "\n",
    "in folder pupil_csv one csv for each patient with num rows = num trials\n",
    "in each cell value of pupil dilation. num columns = 1/sampling rate*time trial\n",
    "already considered latency of 1000 msec and removed first second (inter-trial time)"
   ],
   "metadata": {
    "collapsed": false
   }
  },
  {
   "cell_type": "markdown",
   "source": [
    "## extract single trial of a single subject"
   ],
   "metadata": {
    "collapsed": false
   }
  },
  {
   "cell_type": "code",
   "execution_count": 24,
   "outputs": [],
   "source": [
    "subject_number=2\n",
    "trial_numb = 80"
   ],
   "metadata": {
    "collapsed": false
   }
  },
  {
   "cell_type": "markdown",
   "source": [
    "At this point we need only to read data from this csvs and plot"
   ],
   "metadata": {
    "collapsed": false
   }
  },
  {
   "cell_type": "code",
   "execution_count": 25,
   "outputs": [],
   "source": [
    "eda_subj = pd.read_csv('eda_csv/'+str(subject_number)+'_eda.csv')\n",
    "hr_subj = pd.read_csv('hr_csv/'+str(subject_number)+'_hr.csv')\n",
    "pupil_subj = pd.read_csv('pupil_csv/'+str(subject_number)+'_pupil.csv')"
   ],
   "metadata": {
    "collapsed": false
   }
  },
  {
   "cell_type": "markdown",
   "source": [
    "extract eda, hr and pupil signal of one subject and one trial"
   ],
   "metadata": {
    "collapsed": false
   }
  },
  {
   "cell_type": "code",
   "execution_count": 26,
   "outputs": [],
   "source": [
    "eda_trial = eda_subj.loc[trial_numb]\n",
    "hr_trial = hr_subj.loc[trial_numb]\n",
    "pupil_trial = pupil_subj.loc[trial_numb]"
   ],
   "metadata": {
    "collapsed": false
   }
  },
  {
   "cell_type": "markdown",
   "source": [
    "convert ecg into bpm"
   ],
   "metadata": {
    "collapsed": false
   }
  },
  {
   "cell_type": "code",
   "execution_count": 27,
   "outputs": [],
   "source": [
    "df, info = nk.ecg_process(list(hr_trial), sampling_rate=SAMPLING_RATE_HR)\n",
    "ecg_rate_trial = df['ECG_Rate']"
   ],
   "metadata": {
    "collapsed": false
   }
  },
  {
   "cell_type": "markdown",
   "source": [
    "create x axis for plot"
   ],
   "metadata": {
    "collapsed": false
   }
  },
  {
   "cell_type": "code",
   "execution_count": 46,
   "outputs": [],
   "source": [
    "X_hr_eda = np.arange(0, 6, 1/SAMPLING_RATE_HR)\n",
    "X_pupil = np.arange(0, 5, 1/SAMPLING_RATE_PUPIL)"
   ],
   "metadata": {
    "collapsed": false
   }
  },
  {
   "cell_type": "markdown",
   "source": [
    "plot of a single trial and a single subject"
   ],
   "metadata": {
    "collapsed": false
   }
  },
  {
   "cell_type": "code",
   "execution_count": 47,
   "outputs": [
    {
     "data": {
      "text/plain": "<Figure size 1080x360 with 3 Axes>",
      "image/png": "[encoded data removed]"
     },
     "metadata": {
      "needs_background": "light"
     },
     "output_type": "display_data"
    }
   ],
   "source": [
    "fig, ax = plt.subplots(3)\n",
    "fig.suptitle('plot of trial #'+str(trial_numb)+' of subject '+str(subject_number))\n",
    "fig.tight_layout()\n",
    "\n",
    "ax[0].plot(X_pupil, list(pupil_trial),color='blue',label='pupil')\n",
    "ax[0].set(ylabel='Pupil diameter')\n",
    "ax[0].legend(bbox_to_anchor=(1,0), loc=\"lower left\")\n",
    "ax[0].set_xlim([0, 6])\n",
    "\n",
    "ax[1].plot(X_hr_eda, list(ecg_rate_trial),color='red',label='ECG rate')\n",
    "ax[1].set(ylabel='ECG rate')\n",
    "ax[1].legend(bbox_to_anchor=(1,0), loc=\"lower left\")\n",
    "ax[1].set_xlim([0, 6])\n",
    "\n",
    "ax[2].plot(X_hr_eda,list(eda_trial),color='orange',label='eda')\n",
    "ax[2].set(ylabel='EDA')\n",
    "ax[2].legend(bbox_to_anchor=(1,0), loc=\"lower left\")\n",
    "ax[2].set_xlim([0, 6])\n",
    "\n",
    "plt.xlabel('seconds')\n",
    "plt.show()"
   ],
   "metadata": {
    "collapsed": false
   }
  },
  {
   "cell_type": "markdown",
   "source": [
    "## extract more trial for a single subject"
   ],
   "metadata": {
    "collapsed": false
   }
  },
  {
   "cell_type": "markdown",
   "source": [
    "create signals with all trials togheter"
   ],
   "metadata": {
    "collapsed": false
   }
  },
  {
   "cell_type": "code",
   "execution_count": 33,
   "outputs": [],
   "source": [
    "starting_trial = 138\n",
    "len_trial = 7\n",
    "shock_timestamp = 5.85"
   ],
   "metadata": {
    "collapsed": false
   }
  },
  {
   "cell_type": "code",
   "execution_count": null,
   "outputs": [],
   "source": [
    "list_pupil, list_eda, list_hr = create_single_signal_lists(pupil_subj, eda_subj, hr_subj)"
   ],
   "metadata": {
    "collapsed": false,
    "pycharm": {
     "is_executing": true
    }
   }
  },
  {
   "cell_type": "markdown",
   "source": [
    "create x axis for plot"
   ],
   "metadata": {
    "collapsed": false
   }
  },
  {
   "cell_type": "code",
   "execution_count": 31,
   "outputs": [],
   "source": [
    "X_pupil = np.arange(0, NUM_TRIALS*6, 0.01)\n",
    "X_hr_eda = np.arange(0, NUM_TRIALS*6, 0.002)"
   ],
   "metadata": {
    "collapsed": false
   }
  },
  {
   "cell_type": "markdown",
   "source": [
    "cut signals for plot"
   ],
   "metadata": {
    "collapsed": false
   }
  },
  {
   "cell_type": "code",
   "execution_count": 43,
   "outputs": [],
   "source": [
    "pup_start, pup_end = start_end_trial(starting_trial, len_trial, 600)\n",
    "hr_start, hr_end = start_end_trial(starting_trial, len_trial, 3000)\n",
    "eda_start, eda_end = start_end_trial(starting_trial, len_trial, 3000)\n",
    "\n",
    "trials = extract_trials_lines(X_pupil, pup_start, pup_end)"
   ],
   "metadata": {
    "collapsed": false
   }
  },
  {
   "cell_type": "markdown",
   "source": [
    "extract trials with US"
   ],
   "metadata": {
    "collapsed": false
   }
  },
  {
   "cell_type": "code",
   "execution_count": 39,
   "outputs": [],
   "source": [
    "trial_with_us = extract_trias_US(subject_number,starting_trial,len_trial)"
   ],
   "metadata": {
    "collapsed": false
   }
  },
  {
   "cell_type": "markdown",
   "source": [
    "extract list of timestamp shock"
   ],
   "metadata": {
    "collapsed": false
   }
  },
  {
   "cell_type": "code",
   "execution_count": 41,
   "outputs": [],
   "source": [
    "timestamp_shock = [x*6+shock_timestamp for x in trial_with_us.trial.values.tolist()]"
   ],
   "metadata": {
    "collapsed": false
   }
  },
  {
   "cell_type": "markdown",
   "source": [
    "plot of more trials with US stim of one subject"
   ],
   "metadata": {
    "collapsed": false
   }
  },
  {
   "cell_type": "code",
   "execution_count": 44,
   "outputs": [
    {
     "data": {
      "text/plain": "<Figure size 864x720 with 3 Axes>",
      "image/png": "[encoded data removed]"
     },
     "metadata": {
      "needs_background": "light"
     },
     "output_type": "display_data"
    }
   ],
   "source": [
    "fig, ax = plt.subplots(3, figsize=(12,10))\n",
    "fig.suptitle('plot of trials from #'+str(starting_trial)+' to #'+str(len_trial+starting_trial-1) +' of subject '+str(subject_number))\n",
    "fig.tight_layout()\n",
    "\n",
    "ax[0].plot(X_pupil[pup_start:pup_end], list_pupil[pup_start:pup_end],color='blue',label='pupil')\n",
    "ax[0].set(ylabel='Pupil diameter')\n",
    "ax[0].legend(bbox_to_anchor=(1,0), loc=\"lower left\")\n",
    "for j in trials:\n",
    "    ax[0].axvline(j)\n",
    "ax[0].set_xlim([X_pupil[pup_start], X_pupil[pup_end]+1])\n",
    "for i in timestamp_shock:\n",
    "    ax[0].axvline(i,color='red', linestyle='--')\n",
    "\n",
    "ax[1].plot(X_hr_eda[hr_start:hr_end], list_hr[hr_start:hr_end],color='red',label='hr')\n",
    "ax[1].set(ylabel='HR')\n",
    "ax[1].legend(bbox_to_anchor=(1,0), loc=\"lower left\")\n",
    "for j in trials:\n",
    "    ax[1].axvline(j)\n",
    "ax[1].set_xlim([X_hr_eda[hr_start], X_hr_eda[hr_end]+1])\n",
    "for i in timestamp_shock:\n",
    "    ax[1].axvline(i,color='red', linestyle='--')\n",
    "\n",
    "ax[2].plot(X_hr_eda[hr_start:hr_end],list_eda[eda_start:eda_end],color='orange',label='eda')\n",
    "ax[2].set(ylabel='EDA')\n",
    "ax[2].legend(bbox_to_anchor=(1,0), loc=\"lower left\")\n",
    "for j in trials:\n",
    "    ax[2].axvline(j)\n",
    "ax[2].set_xlim([X_hr_eda[hr_start], X_hr_eda[hr_end]+1])\n",
    "for i in timestamp_shock:\n",
    "    ax[2].axvline(i,color='red', linestyle='--')\n",
    "\n",
    "plt.xlabel('seconds')\n",
    "plt.show()"
   ],
   "metadata": {
    "collapsed": false
   }
  },
  {
   "cell_type": "markdown",
   "source": [
    "# social anxiety"
   ],
   "metadata": {
    "collapsed": false
   }
  },
  {
   "cell_type": "markdown",
   "source": [
    "TODO approfondire questione righe 5,9,11"
   ],
   "metadata": {
    "collapsed": false
   }
  },
  {
   "cell_type": "code",
   "execution_count": 58,
   "outputs": [],
   "source": [
    "def create_csv_sias(filename='sias_score.csv',quest_path='../osfstorage-archive/Questionnaires.xlsx'):\n",
    "    \"\"\"\n",
    "    create a csv file that extracts information from questionnaires.\n",
    "    3 columns: subject, sias_score, social_anxiety\n",
    "\n",
    "    subject is a subject number\n",
    "    sias score is the sum of the SIAS01-20 values\n",
    "    social anxiety is a boolean column with 1 if sias_score>=36 due to some papers\n",
    "\n",
    "    :param filename:\n",
    "    :param quest_path:\n",
    "    :return:\n",
    "    \"\"\"\n",
    "\n",
    "    df_excel = pd.read_excel(quest_path)\n",
    "    cols = ['SIAS01', 'SIAS02', 'SIAS03', 'SIAS04', 'SIAS05', 'SIAS06',\n",
    "           'SIAS07', 'SIAS08', 'SIAS09', 'SIAS10', 'SIAS11', 'SIAS12', 'SIAS13',\n",
    "           'SIAS14', 'SIAS15', 'SIAS16', 'SIAS17', 'SIAS18', 'SIAS19', 'SIAS20']\n",
    "\n",
    "    for row_df in range(len(df_excel)):\n",
    "        for col in df_excel.columns:\n",
    "            if df_excel.loc[row_df][col] == 'MV':\n",
    "                df_excel.at[row_df,col] = np.nan\n",
    "    df_excel['sias_score'] = df_excel[cols].sum(axis=1,min_count=20)\n",
    "    df_sias_ = df_excel[['VP','sias_score']]\n",
    "    df_sias_.rename(columns = {'VP':'subject'}, inplace = True)\n",
    "    df_sias_['social_anxiety'] = [1 if x>=36 else 0 for x in df_excel['sias_score']]\n",
    "    df_sias_.to_csv(filename, index=False)"
   ],
   "metadata": {
    "collapsed": false
   }
  },
  {
   "cell_type": "markdown",
   "source": [
    "### create csv for social anxiety"
   ],
   "metadata": {
    "collapsed": false
   }
  },
  {
   "cell_type": "code",
   "execution_count": null,
   "outputs": [],
   "source": [
    "create_csv_sias()"
   ],
   "metadata": {
    "collapsed": false,
    "pycharm": {
     "is_executing": true
    }
   }
  },
  {
   "cell_type": "markdown",
   "source": [
    "### read csv for social anxiety"
   ],
   "metadata": {
    "collapsed": false
   }
  },
  {
   "cell_type": "code",
   "execution_count": 60,
   "outputs": [
    {
     "data": {
      "text/plain": "    subject  sias_score  social_anxiety\n0         1        21.0               0\n1         2        11.0               0\n2         3        30.0               0\n3         4        12.0               0\n4         5        30.0               0\n5         6         8.0               0\n6         7        25.0               0\n7         8         6.0               0\n8         9         NaN               0\n9        10        10.0               0\n10       11        11.0               0\n11       12        19.0               0\n12       13        16.0               0\n13       14        19.0               0\n14       15        16.0               0\n15       16        55.0               1\n16       17        16.0               0\n17       18        14.0               0\n18       19        12.0               0\n19       20         NaN               0\n20       21        20.0               0\n21       22        18.0               0\n22       23        37.0               1\n23       24        17.0               0\n24       25        19.0               0\n25       26         3.0               0\n26       27        31.0               0\n27       28        19.0               0\n28       29         1.0               0\n29       30        19.0               0\n30       31        16.0               0\n31       32        20.0               0\n32       33        22.0               0\n33       41        15.0               0\n34       42        20.0               0\n35       43        25.0               0\n36       44        18.0               0\n37       45        19.0               0\n38       46        31.0               0\n39       47        20.0               0\n40       48        24.0               0\n41       49        26.0               0\n42       50        23.0               0\n43       51         6.0               0\n44       52        21.0               0\n45       53        12.0               0\n46       54        17.0               0\n47       55        31.0               0",
      "text/html": "<div>\n<style scoped>\n    .dataframe tbody tr th:only-of-type {\n        vertical-align: middle;\n    }\n\n    .dataframe tbody tr th {\n        vertical-align: top;\n    }\n\n    .dataframe thead th {\n        text-align: right;\n    }\n</style>\n<table border=\"1\" class=\"dataframe\">\n  <thead>\n    <tr style=\"text-align: right;\">\n      <th></th>\n      <th>subject</th>\n      <th>sias_score</th>\n      <th>social_anxiety</th>\n    </tr>\n  </thead>\n  <tbody>\n    <tr>\n      <th>0</th>\n      <td>1</td>\n      <td>21.0</td>\n      <td>0</td>\n    </tr>\n    <tr>\n      <th>1</th>\n      <td>2</td>\n      <td>11.0</td>\n      <td>0</td>\n    </tr>\n    <tr>\n      <th>2</th>\n      <td>3</td>\n      <td>30.0</td>\n      <td>0</td>\n    </tr>\n    <tr>\n      <th>3</th>\n      <td>4</td>\n      <td>12.0</td>\n      <td>0</td>\n    </tr>\n    <tr>\n      <th>4</th>\n      <td>5</td>\n      <td>30.0</td>\n      <td>0</td>\n    </tr>\n    <tr>\n      <th>5</th>\n      <td>6</td>\n      <td>8.0</td>\n      <td>0</td>\n    </tr>\n    <tr>\n      <th>6</th>\n      <td>7</td>\n      <td>25.0</td>\n      <td>0</td>\n    </tr>\n    <tr>\n      <th>7</th>\n      <td>8</td>\n      <td>6.0</td>\n      <td>0</td>\n    </tr>\n    <tr>\n      <th>8</th>\n      <td>9</td>\n      <td>NaN</td>\n      <td>0</td>\n    </tr>\n    <tr>\n      <th>9</th>\n      <td>10</td>\n      <td>10.0</td>\n      <td>0</td>\n    </tr>\n    <tr>\n      <th>10</th>\n      <td>11</td>\n      <td>11.0</td>\n      <td>0</td>\n    </tr>\n    <tr>\n      <th>11</th>\n      <td>12</td>\n      <td>19.0</td>\n      <td>0</td>\n    </tr>\n    <tr>\n      <th>12</th>\n      <td>13</td>\n      <td>16.0</td>\n      <td>0</td>\n    </tr>\n    <tr>\n      <th>13</th>\n      <td>14</td>\n      <td>19.0</td>\n      <td>0</td>\n    </tr>\n    <tr>\n      <th>14</th>\n      <td>15</td>\n      <td>16.0</td>\n      <td>0</td>\n    </tr>\n    <tr>\n      <th>15</th>\n      <td>16</td>\n      <td>55.0</td>\n      <td>1</td>\n    </tr>\n    <tr>\n      <th>16</th>\n      <td>17</td>\n      <td>16.0</td>\n      <td>0</td>\n    </tr>\n    <tr>\n      <th>17</th>\n      <td>18</td>\n      <td>14.0</td>\n      <td>0</td>\n    </tr>\n    <tr>\n      <th>18</th>\n      <td>19</td>\n      <td>12.0</td>\n      <td>0</td>\n    </tr>\n    <tr>\n      <th>19</th>\n      <td>20</td>\n      <td>NaN</td>\n      <td>0</td>\n    </tr>\n    <tr>\n      <th>20</th>\n      <td>21</td>\n      <td>20.0</td>\n      <td>0</td>\n    </tr>\n    <tr>\n      <th>21</th>\n      <td>22</td>\n      <td>18.0</td>\n      <td>0</td>\n    </tr>\n    <tr>\n      <th>22</th>\n      <td>23</td>\n      <td>37.0</td>\n      <td>1</td>\n    </tr>\n    <tr>\n      <th>23</th>\n      <td>24</td>\n      <td>17.0</td>\n      <td>0</td>\n    </tr>\n    <tr>\n      <th>24</th>\n      <td>25</td>\n      <td>19.0</td>\n      <td>0</td>\n    </tr>\n    <tr>\n      <th>25</th>\n      <td>26</td>\n      <td>3.0</td>\n      <td>0</td>\n    </tr>\n    <tr>\n      <th>26</th>\n      <td>27</td>\n      <td>31.0</td>\n      <td>0</td>\n    </tr>\n    <tr>\n      <th>27</th>\n      <td>28</td>\n      <td>19.0</td>\n      <td>0</td>\n    </tr>\n    <tr>\n      <th>28</th>\n      <td>29</td>\n      <td>1.0</td>\n      <td>0</td>\n    </tr>\n    <tr>\n      <th>29</th>\n      <td>30</td>\n      <td>19.0</td>\n      <td>0</td>\n    </tr>\n    <tr>\n      <th>30</th>\n      <td>31</td>\n      <td>16.0</td>\n      <td>0</td>\n    </tr>\n    <tr>\n      <th>31</th>\n      <td>32</td>\n      <td>20.0</td>\n      <td>0</td>\n    </tr>\n    <tr>\n      <th>32</th>\n      <td>33</td>\n      <td>22.0</td>\n      <td>0</td>\n    </tr>\n    <tr>\n      <th>33</th>\n      <td>41</td>\n      <td>15.0</td>\n      <td>0</td>\n    </tr>\n    <tr>\n      <th>34</th>\n      <td>42</td>\n      <td>20.0</td>\n      <td>0</td>\n    </tr>\n    <tr>\n      <th>35</th>\n      <td>43</td>\n      <td>25.0</td>\n      <td>0</td>\n    </tr>\n    <tr>\n      <th>36</th>\n      <td>44</td>\n      <td>18.0</td>\n      <td>0</td>\n    </tr>\n    <tr>\n      <th>37</th>\n      <td>45</td>\n      <td>19.0</td>\n      <td>0</td>\n    </tr>\n    <tr>\n      <th>38</th>\n      <td>46</td>\n      <td>31.0</td>\n      <td>0</td>\n    </tr>\n    <tr>\n      <th>39</th>\n      <td>47</td>\n      <td>20.0</td>\n      <td>0</td>\n    </tr>\n    <tr>\n      <th>40</th>\n      <td>48</td>\n      <td>24.0</td>\n      <td>0</td>\n    </tr>\n    <tr>\n      <th>41</th>\n      <td>49</td>\n      <td>26.0</td>\n      <td>0</td>\n    </tr>\n    <tr>\n      <th>42</th>\n      <td>50</td>\n      <td>23.0</td>\n      <td>0</td>\n    </tr>\n    <tr>\n      <th>43</th>\n      <td>51</td>\n      <td>6.0</td>\n      <td>0</td>\n    </tr>\n    <tr>\n      <th>44</th>\n      <td>52</td>\n      <td>21.0</td>\n      <td>0</td>\n    </tr>\n    <tr>\n      <th>45</th>\n      <td>53</td>\n      <td>12.0</td>\n      <td>0</td>\n    </tr>\n    <tr>\n      <th>46</th>\n      <td>54</td>\n      <td>17.0</td>\n      <td>0</td>\n    </tr>\n    <tr>\n      <th>47</th>\n      <td>55</td>\n      <td>31.0</td>\n      <td>0</td>\n    </tr>\n  </tbody>\n</table>\n</div>"
     },
     "execution_count": 60,
     "metadata": {},
     "output_type": "execute_result"
    }
   ],
   "source": [
    "df_sias = pd.read_csv('sias_score.csv')\n",
    "df_sias"
   ],
   "metadata": {
    "collapsed": false
   }
  },
  {
   "cell_type": "code",
   "execution_count": null,
   "outputs": [],
   "source": [],
   "metadata": {
    "collapsed": false
   }
  }
 ],
 "metadata": {
  "kernelspec": {
   "display_name": "Python 3",
   "language": "python",
   "name": "python3"
  },
  "language_info": {
   "codemirror_mode": {
    "name": "ipython",
    "version": 2
   },
   "file_extension": ".py",
   "mimetype": "text/x-python",
   "name": "python",
   "nbconvert_exporter": "python",
   "pygments_lexer": "ipython2",
   "version": "2.7.6"
  }
 },
 "nbformat": 4,
 "nbformat_minor": 0
}
