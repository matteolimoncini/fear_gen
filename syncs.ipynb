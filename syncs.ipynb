{
 "cells": [
  {
   "cell_type": "markdown",
   "source": [
    "## import"
   ],
   "metadata": {
    "collapsed": false
   }
  },
  {
   "cell_type": "code",
   "execution_count": 1,
   "metadata": {
    "collapsed": true
   },
   "outputs": [],
   "source": [
    "import csv\n",
    "import neurokit2 as nk\n",
    "import numpy as np\n",
    "import matplotlib.pyplot as plt\n",
    "import pandas as pd\n",
    "from pyreadr import pyreadr\n",
    "import matplotlib\n",
    "from tqdm import tqdm\n",
    "from scipy import stats"
   ]
  },
  {
   "cell_type": "markdown",
   "source": [
    "## setup params"
   ],
   "metadata": {
    "collapsed": false
   }
  },
  {
   "cell_type": "code",
   "execution_count": 2,
   "outputs": [],
   "source": [
    "plt.rcParams['figure.figsize'] = [15, 5]  # Bigger images\n",
    "plt.rcParams['font.size']= 16"
   ],
   "metadata": {
    "collapsed": false
   }
  },
  {
   "cell_type": "code",
   "execution_count": 3,
   "outputs": [],
   "source": [
    "notvalid = [x for x in range(34,41)]\n",
    "notvalid.extend([9,11,20,25,42])\n",
    "valid_patients_pupil = [ele for ele in range(1,56) if ele not in notvalid]\n",
    "\n",
    "notvalid = [x for x in range(34,41)]\n",
    "notvalid.append(9)\n",
    "valid_patients_eda = [ele for ele in range(1,56) if ele not in notvalid]\n",
    "\n",
    "valid_pupil_eda = list(set(valid_patients_eda).intersection(set(valid_patients_pupil)))\n",
    "\n",
    "notvalid = [x for x in range(34, 41)]\n",
    "notvalid= notvalid + [9,11,12,20]\n",
    "valid_patients_hr = [ele for ele in range(1, 56) if ele not in notvalid]"
   ],
   "metadata": {
    "collapsed": false
   }
  },
  {
   "cell_type": "markdown",
   "source": [
    "## global var"
   ],
   "metadata": {
    "collapsed": false
   }
  },
  {
   "cell_type": "code",
   "execution_count": 4,
   "outputs": [],
   "source": [
    "NUM_TRIALS = 160\n",
    "LATENCY_HR = 250\n",
    "LATENCY_EDA = 5000\n",
    "LATENCY_PUPIL = 1000"
   ],
   "metadata": {
    "collapsed": false
   }
  },
  {
   "cell_type": "markdown",
   "source": [
    "## heart rate functions"
   ],
   "metadata": {
    "collapsed": false
   }
  },
  {
   "cell_type": "code",
   "execution_count": 5,
   "outputs": [],
   "source": [
    "def extract_hr_by_subject(subject_number: int) -> pd.DataFrame:\n",
    "    \"\"\"\n",
    "    Extract heart data of the subject (reading tmp_hr csv files in tmp_hr folder) and return same data in one list\n",
    "    :param subject_number:\n",
    "    :return:\n",
    "    \"\"\"\n",
    "    if subject_number not in valid_patients_hr:\n",
    "        print('subject number not valid, probably this patient has not valid hr signals')\n",
    "        return []\n",
    "    if subject_number < 10:\n",
    "        subject_number = '0' + str(subject_number)\n",
    "    path_csv = str(\"tmp_eda/tmp_eda\" + str(subject_number) + \".csv\")\n",
    "    pat_ = pd.read_csv(path_csv)\n",
    "    df = {'subject': subject_number, 'hr': pat_['CH2'], 'trigger': pat_['CH28']}\n",
    "    return pd.DataFrame(df)\n",
    "\n",
    "\n",
    "def all_subject_hr() -> pd.DataFrame:\n",
    "    \"\"\"\n",
    "    Create a single dataframe containing all the hr values of all subjects\n",
    "    :return:\n",
    "    \"\"\"\n",
    "    generic_df = pd.DataFrame(columns=['subject', 'hr', 'trigger'])\n",
    "    for i in tqdm(valid_patients_hr):\n",
    "        df_ = modified_hr_by_subject(i)\n",
    "        #df_['time'] = np.arange(0, len(signals) / 100, 0.01)[:len(df_)] #no sense sta cosa ma senza non va\n",
    "        generic_df = pd.concat([generic_df, df_], axis=0)\n",
    "    return generic_df\n",
    "\n",
    "'''\n",
    "def modified_hr_by_subject(subject: int) -> pd.DataFrame:\n",
    "    \"\"\"\n",
    "    Read the hr from the given subjects and applies some changes: NO ACTION now\n",
    "    :param subject:\n",
    "    :return: new Dataframe with the corrected EDA values\n",
    "    \"\"\"\n",
    "    df = extract_hr_by_subject(subject)\n",
    "    return df\n",
    "'''\n",
    "\n",
    "def modified_hr_by_subject(subject: int) -> pd.DataFrame:\n",
    "    \"\"\"\n",
    "    Read the hr from the given subjects and applies NOTHING\n",
    "    :param subject:\n",
    "    :return: new Dataframe with the corrected hr values\n",
    "    \"\"\"\n",
    "    df_ = extract_hr_by_subject(subject)\n",
    "    df_ = add_latency(df_, -250,500) #TODO INSERT CORRECT VALUE OF LATENCY\n",
    "    return df_\n"
   ],
   "metadata": {
    "collapsed": false
   }
  },
  {
   "cell_type": "markdown",
   "source": [
    "## pupil functions"
   ],
   "metadata": {
    "collapsed": false
   }
  },
  {
   "cell_type": "code",
   "execution_count": 6,
   "outputs": [],
   "source": [
    "def read_csv_pupil_raw(subject_number:int) -> pd.DataFrame:\n",
    "    \"\"\"\n",
    "    Read pupil csv files\n",
    "    :param subject_number:\n",
    "    :return: A dataframe with pupil data of the subject subject_number\n",
    "    \"\"\"\n",
    "    if subject_number not in valid_patients_pupil:\n",
    "        print('subject number not valid, probably this patient has not valid pupil signals')\n",
    "        return pd.DataFrame()\n",
    "    if subject_number < 10:\n",
    "        subject_number = '0' + str(subject_number)\n",
    "    pupil1 = pd.read_csv('../osfstorage-archive/eye/pupil/Look0' + str(subject_number) + '_pupil.csv', sep=';')\n",
    "    for i in pupil1.columns:\n",
    "        if i != 'trial':\n",
    "            for j in pupil1.index:\n",
    "                pupil1.loc[j, i] = pupil1.loc[j, i].replace(',', '.')\n",
    "    cols = pupil1.columns.drop('trial')\n",
    "\n",
    "    pupil1[cols] = pupil1[cols].apply(pd.to_numeric, errors='coerce')\n",
    "    return pupil1\n",
    "\n",
    "def create_csv_pupil():\n",
    "    \"\"\"\n",
    "    Create in current folder one tmp csv well formatted with pupil data for each subject\n",
    "    :return: nothing\n",
    "    \"\"\"\n",
    "    for subject in valid_patients_pupil:\n",
    "        pupil_i = read_csv_pupil_raw(subject)\n",
    "        name = 'tmp_pupil/tmp_pupil' + str(subject) + '.csv'\n",
    "        pupil_i.to_csv(name, index=False)\n",
    "\n",
    "def read_csv_pupil(subject:int) -> pd.DataFrame:\n",
    "    \"\"\"\n",
    "    Read in current folder one tmp csv well formatted with pupil data\n",
    "    :param subject:\n",
    "    :return: Dataframe with pupil data of the subject\n",
    "    \"\"\"\n",
    "    name = 'tmp_pupil/tmp_pupil'+str(subject)+'.csv'\n",
    "    return pd.read_csv(name, sep=',')\n",
    "\n",
    "def extract_pupil_by_subject(subject_number:int) -> list:\n",
    "    \"\"\"\n",
    "    Extract pupil data of the subject and return same data in one list adding NaN values to reach same trial length of eda data\n",
    "    :param subject_number:\n",
    "    :return:\n",
    "    \"\"\"\n",
    "    pupil = read_csv_pupil(subject_number)\n",
    "    pupil_ = pupil.copy().drop(['trial'], axis=1)\n",
    "    # convert all datas into one list\n",
    "    pat1_pupil = []\n",
    "    len_eda = int(len_trial_eda(subject_number))\n",
    "    for i in range(160):\n",
    "        raw_list = pupil_.loc[i, :].values.flatten().tolist()\n",
    "        pat1_pupil = pat1_pupil + raw_list\n",
    "    # pat1_pupil\n",
    "\n",
    "    return pat1_pupil\n",
    "\n",
    "def correct_pupil_diam(l:list)->list:\n",
    "    \"\"\"\n",
    "    Shift the pupil diameter values\n",
    "    :param l: pupil diameter list\n",
    "    :return: A list containing new pupil shifted\n",
    "    \"\"\"\n",
    "    ADD_SHIFT = -2\n",
    "    MULT_SHIFT = 4\n",
    "    return [(x+ADD_SHIFT)*MULT_SHIFT if x != 'NaN' else float('NaN') for x in l]\n",
    "\n",
    "def extract_maxpupil_trial(subject: int) -> list:\n",
    "    \"\"\"\n",
    "    Calculate the max value of pupil signal in each trial.\n",
    "    :param subject:\n",
    "    :return: a list with same length of the pupil signal filled with 0 or 1. 1 if the equivalent value is a max, 0 otherwise\n",
    "    \"\"\"\n",
    "    pupil_csv = read_csv_pupil(subject)\n",
    "    max_list = []\n",
    "    max_length = max(700, int(len_trial_eda(subject)))\n",
    "    for i in range(160):\n",
    "        max_trial_list = list(pupil_csv.loc[i])[1:]\n",
    "        max_ = max(max_trial_list)\n",
    "        max_index = max_trial_list.index(max_)\n",
    "        for j in range(max_length):\n",
    "            if j == max_index:\n",
    "                max_list.append(1)\n",
    "            else:\n",
    "                max_list.append(0)\n",
    "    return max_list\n",
    "\n",
    "def all_subject_pupil() -> pd.DataFrame:\n",
    "    \"\"\"\n",
    "    Create a dataframe with all pupil data of all subject after adding latency\n",
    "    :return: a dataframe with all pupil data of all subject with columns ['pupil_diameter', 'pupil_peak', 'subject']\n",
    "    \"\"\"\n",
    "    generic_df = pd.DataFrame(columns=['pupil_diameter', 'subject'])\n",
    "    for i in tqdm(valid_pupil_eda):\n",
    "        df_ = modified_pupil_subject(i)\n",
    "        generic_df = pd.concat([generic_df, df_], axis=0)\n",
    "\n",
    "    return generic_df\n",
    "\n",
    "def modified_pupil_subject(subject):\n",
    "    # print(f'pupil: {subject}')\n",
    "    person_i_all_pupil = extract_pupil_by_subject(subject)\n",
    "    max_list_i = extract_maxpupil_trial(subject)\n",
    "    # print(f'person: {len(person_i_all_pupil)}, max: {len(max_list_i)}')\n",
    "    dict_ = {'pupil_diameter': person_i_all_pupil,\n",
    "             'subject': subject}\n",
    "    df_ = pd.DataFrame(dict_)\n",
    "    df_ = add_latency(df_, -1000,100)\n",
    "    # df_['time'] = np.arange(0, len(df_) / 100, 0.01)\n",
    "    return df_\n"
   ],
   "metadata": {
    "collapsed": false
   }
  },
  {
   "cell_type": "markdown",
   "source": [
    "## Eda functions"
   ],
   "metadata": {
    "collapsed": false
   }
  },
  {
   "cell_type": "code",
   "execution_count": 7,
   "outputs": [],
   "source": [
    "def len_trial_eda(subject:int) -> int:\n",
    "    \"\"\"\n",
    "    Calculate the length of the trial of the eda signal given subject number\n",
    "    :param subject:\n",
    "    :return: int that indicates the length\n",
    "    \"\"\"\n",
    "    df_subject = modified_eda_by_subject(subject)\n",
    "    return len(df_subject)/NUM_TRIALS\n",
    "\n",
    "def extract_eda_by_subject(subject_number: int) -> list:\n",
    "    \"\"\"\n",
    "    Extract eda data of the subject (reading tmp_eda csv files in current folder) and return same data in one list\n",
    "    :param subject_number:\n",
    "    :return:\n",
    "    \"\"\"\n",
    "    if subject_number not in valid_patients_eda:\n",
    "        print('subject number not valid, probably this patient has not valid eda signals')\n",
    "        return []\n",
    "    if subject_number < 10:\n",
    "        subject_number = '0' + str(subject_number)\n",
    "    path_csv = str(\"tmp_eda/tmp_eda\" + str(subject_number) + \".csv\")\n",
    "    pat_eda = pd.read_csv(path_csv)['CH1']\n",
    "    return pat_eda.to_numpy()\n",
    "\n",
    "def all_subject_eda() -> pd.DataFrame:\n",
    "    \"\"\"\n",
    "    Create a single dataframe containing all the EDA values of all subjects\n",
    "    :return:\n",
    "    \"\"\"\n",
    "    generic_df = pd.DataFrame(columns=['subject', 'phasic', 'phasic_peak'])\n",
    "    for i in tqdm(valid_pupil_eda):\n",
    "        df_ = modified_eda_by_subject(i)\n",
    "        #df_['time'] = np.arange(0, len(signals) / 100, 0.01)[:len(df_)] #no sense sta cosa ma senza non va\n",
    "        generic_df = pd.concat([generic_df, df_], axis=0)\n",
    "    return generic_df\n",
    "\n",
    "def modified_eda_by_subject(subject: int) -> pd.DataFrame:\n",
    "    \"\"\"\n",
    "    Read the EDA from the given subjects and applies all the changes: removing last zeros from the list and the outliers at the end\n",
    "    :param subject:\n",
    "    :return: new Dataframe with the corrected EDA values\n",
    "    \"\"\"\n",
    "    eda = extract_eda_by_subject(subject)\n",
    "    # print(f'eda: {i}')\n",
    "    #eda = resample_eda(eda)\n",
    "    signals, info = nk.eda_process(eda, sampling_rate=500, method=\"neurokit\")\n",
    "    eda_phasic = signals['EDA_Phasic']\n",
    "    #eda_phasic = remove_last_zeros(eda_phasic)\n",
    "    #eda_phasic = remove_outliers(eda_phasic)\n",
    "    df = {'subject': subject, 'phasic': eda_phasic, 'phasic_peak': signals['SCR_Peaks'][:len(eda_phasic)]}\n",
    "    df_ = pd.DataFrame(df)\n",
    "    df_ = add_latency(df_, -5000, 500)\n",
    "    return df_\n"
   ],
   "metadata": {
    "collapsed": false
   }
  },
  {
   "cell_type": "markdown",
   "source": [
    "## general functions"
   ],
   "metadata": {
    "collapsed": false
   }
  },
  {
   "cell_type": "code",
   "execution_count": 8,
   "outputs": [],
   "source": [
    "def start_trial_time(df:pd.DataFrame)-> list:\n",
    "    \"\"\"\n",
    "\n",
    "    :param df: a dataframe with index in position 0, colum time in position 3 and trigger in position 2\n",
    "    :return: a list of time where starts trial using trigger as a rectangular activation function\n",
    "    \"\"\"\n",
    "    start_trials = [] #TODO optimize this function.too much time\n",
    "    prec = -1\n",
    "    for i in tqdm(df.iterrows()):\n",
    "        actual = i[1][2]\n",
    "        if actual == 5 and prec == 0:\n",
    "            start_trials.extend([i[1][3]])\n",
    "        prec = actual\n",
    "    return start_trials\n",
    "\n",
    "def resample(eda_signal:list,freq_init:int,freq_fin:int) -> list:\n",
    "    \"\"\"\n",
    "    Change sampling rate of the eda signal from initial freq to final freq\n",
    "    :param eda_signal: list of eda_signal\n",
    "    :param freq_init: initial sampling rate in hz\n",
    "    :param freq_fin: final sampling rate in hz\n",
    "    :return: list of eda_signal with sampling rate of 100hz\n",
    "    \"\"\"\n",
    "    if freq_fin>freq_init:\n",
    "        print(\"error only downsample\")\n",
    "        return []\n",
    "    factor = int(freq_fin/freq_init)\n",
    "    eda_new = []\n",
    "    for x in range(len(eda_signal)):\n",
    "        if x % factor == 0:\n",
    "            eda_new.append(eda_signal[x])\n",
    "    return eda_new\n",
    "\n",
    "def add_latency(dataframe:pd.DataFrame, msecs:int, freq:int)->pd.DataFrame:\n",
    "    \"\"\"\n",
    "    It creates the correct 'time' column of the given dataframe.\n",
    "    :param dataframe:\n",
    "    :param secs:\n",
    "    :param freq: sampling of the signal in Hz\n",
    "    \"\"\"\n",
    "    freq_sec = float(1/freq)\n",
    "    new_df = dataframe\n",
    "    time_ = []\n",
    "    first_value = msecs/1000\n",
    "    for i in range(len(dataframe)):\n",
    "        time_.append(first_value)\n",
    "        first_value += freq_sec\n",
    "    #print(len(time_))\n",
    "    new_df['time'] = time_\n",
    "    return new_df\n",
    "\n",
    "def remove_outliers(l:list) -> list:\n",
    "    \"\"\"\n",
    "    Remove outliers from a given list. An outlier is detected if its zscore exceeds a certain threshold.\n",
    "    :param l: list\n",
    "    :return: same list without outliers\n",
    "    \"\"\"\n",
    "    z = np.abs(stats.zscore(l))\n",
    "    THRESHOLD = 4\n",
    "    PERC_LEN = 0.80\n",
    "    # Position of the first outlier\n",
    "    outliers = np.where(z>THRESHOLD)[0]\n",
    "    for x in outliers:\n",
    "        if x > PERC_LEN*len(l):\n",
    "            l = l[:x]\n",
    "            break\n",
    "    '''\n",
    "    for x in outliers:\n",
    "        if x < (1-PERC_LEN)*len(l):\n",
    "            l = l[x:]\n",
    "            break\n",
    "    '''\n",
    "    return l\n",
    "\n",
    "def remove_last_zeros(l:list)->list:\n",
    "    \"\"\"\n",
    "    Remove last zeros from the list l, in our case the EDA file\n",
    "    :param l: list\n",
    "    :return: same list as l without trailing zeros\n",
    "    \"\"\"\n",
    "    l=list(l)\n",
    "    if len(l)>0:\n",
    "        while abs(l[-1]) < 0.01:\n",
    "            l.pop()\n",
    "    return l"
   ],
   "metadata": {
    "collapsed": false
   }
  },
  {
   "cell_type": "markdown",
   "source": [
    "# test with subject 2"
   ],
   "metadata": {
    "collapsed": false
   }
  },
  {
   "cell_type": "code",
   "execution_count": 9,
   "outputs": [],
   "source": [
    "subject_number=2"
   ],
   "metadata": {
    "collapsed": false
   }
  },
  {
   "cell_type": "markdown",
   "source": [
    "## extract pupil, eda and hr data of the subject"
   ],
   "metadata": {
    "collapsed": false
   }
  },
  {
   "cell_type": "code",
   "execution_count": 10,
   "outputs": [
    {
     "data": {
      "text/plain": "        pupil_diameter  subject     time\n0             2.215724        2    -1.00\n1             2.216014        2    -0.99\n2             2.216301        2    -0.98\n3             2.216579        2    -0.97\n4             2.216844        2    -0.96\n...                ...      ...      ...\n111995        2.245602        2  1118.95\n111996        2.239799        2  1118.96\n111997        2.233693        2  1118.97\n111998        2.227378        2  1118.98\n111999        2.220963        2  1118.99\n\n[112000 rows x 3 columns]",
      "text/html": "<div>\n<style scoped>\n    .dataframe tbody tr th:only-of-type {\n        vertical-align: middle;\n    }\n\n    .dataframe tbody tr th {\n        vertical-align: top;\n    }\n\n    .dataframe thead th {\n        text-align: right;\n    }\n</style>\n<table border=\"1\" class=\"dataframe\">\n  <thead>\n    <tr style=\"text-align: right;\">\n      <th></th>\n      <th>pupil_diameter</th>\n      <th>subject</th>\n      <th>time</th>\n    </tr>\n  </thead>\n  <tbody>\n    <tr>\n      <th>0</th>\n      <td>2.215724</td>\n      <td>2</td>\n      <td>-1.00</td>\n    </tr>\n    <tr>\n      <th>1</th>\n      <td>2.216014</td>\n      <td>2</td>\n      <td>-0.99</td>\n    </tr>\n    <tr>\n      <th>2</th>\n      <td>2.216301</td>\n      <td>2</td>\n      <td>-0.98</td>\n    </tr>\n    <tr>\n      <th>3</th>\n      <td>2.216579</td>\n      <td>2</td>\n      <td>-0.97</td>\n    </tr>\n    <tr>\n      <th>4</th>\n      <td>2.216844</td>\n      <td>2</td>\n      <td>-0.96</td>\n    </tr>\n    <tr>\n      <th>...</th>\n      <td>...</td>\n      <td>...</td>\n      <td>...</td>\n    </tr>\n    <tr>\n      <th>111995</th>\n      <td>2.245602</td>\n      <td>2</td>\n      <td>1118.95</td>\n    </tr>\n    <tr>\n      <th>111996</th>\n      <td>2.239799</td>\n      <td>2</td>\n      <td>1118.96</td>\n    </tr>\n    <tr>\n      <th>111997</th>\n      <td>2.233693</td>\n      <td>2</td>\n      <td>1118.97</td>\n    </tr>\n    <tr>\n      <th>111998</th>\n      <td>2.227378</td>\n      <td>2</td>\n      <td>1118.98</td>\n    </tr>\n    <tr>\n      <th>111999</th>\n      <td>2.220963</td>\n      <td>2</td>\n      <td>1118.99</td>\n    </tr>\n  </tbody>\n</table>\n<p>112000 rows × 3 columns</p>\n</div>"
     },
     "execution_count": 10,
     "metadata": {},
     "output_type": "execute_result"
    }
   ],
   "source": [
    "pupil_one_subj = modified_pupil_subject(subject_number)\n",
    "pupil_one_subj"
   ],
   "metadata": {
    "collapsed": false
   }
  },
  {
   "cell_type": "code",
   "execution_count": 11,
   "outputs": [
    {
     "data": {
      "text/plain": "        subject    phasic  phasic_peak      time\n0             2  0.000386            0    -5.000\n1             2  0.000044            0    -4.998\n2             2 -0.000300            0    -4.996\n3             2 -0.000646            0    -4.994\n4             2 -0.000995            0    -4.992\n...         ...       ...          ...       ...\n960426        2 -0.002957            0  1915.852\n960427        2 -0.002729            0  1915.854\n960428        2 -0.002501            0  1915.856\n960429        2 -0.002274            0  1915.858\n960430        2 -0.002046            0  1915.860\n\n[960431 rows x 4 columns]",
      "text/html": "<div>\n<style scoped>\n    .dataframe tbody tr th:only-of-type {\n        vertical-align: middle;\n    }\n\n    .dataframe tbody tr th {\n        vertical-align: top;\n    }\n\n    .dataframe thead th {\n        text-align: right;\n    }\n</style>\n<table border=\"1\" class=\"dataframe\">\n  <thead>\n    <tr style=\"text-align: right;\">\n      <th></th>\n      <th>subject</th>\n      <th>phasic</th>\n      <th>phasic_peak</th>\n      <th>time</th>\n    </tr>\n  </thead>\n  <tbody>\n    <tr>\n      <th>0</th>\n      <td>2</td>\n      <td>0.000386</td>\n      <td>0</td>\n      <td>-5.000</td>\n    </tr>\n    <tr>\n      <th>1</th>\n      <td>2</td>\n      <td>0.000044</td>\n      <td>0</td>\n      <td>-4.998</td>\n    </tr>\n    <tr>\n      <th>2</th>\n      <td>2</td>\n      <td>-0.000300</td>\n      <td>0</td>\n      <td>-4.996</td>\n    </tr>\n    <tr>\n      <th>3</th>\n      <td>2</td>\n      <td>-0.000646</td>\n      <td>0</td>\n      <td>-4.994</td>\n    </tr>\n    <tr>\n      <th>4</th>\n      <td>2</td>\n      <td>-0.000995</td>\n      <td>0</td>\n      <td>-4.992</td>\n    </tr>\n    <tr>\n      <th>...</th>\n      <td>...</td>\n      <td>...</td>\n      <td>...</td>\n      <td>...</td>\n    </tr>\n    <tr>\n      <th>960426</th>\n      <td>2</td>\n      <td>-0.002957</td>\n      <td>0</td>\n      <td>1915.852</td>\n    </tr>\n    <tr>\n      <th>960427</th>\n      <td>2</td>\n      <td>-0.002729</td>\n      <td>0</td>\n      <td>1915.854</td>\n    </tr>\n    <tr>\n      <th>960428</th>\n      <td>2</td>\n      <td>-0.002501</td>\n      <td>0</td>\n      <td>1915.856</td>\n    </tr>\n    <tr>\n      <th>960429</th>\n      <td>2</td>\n      <td>-0.002274</td>\n      <td>0</td>\n      <td>1915.858</td>\n    </tr>\n    <tr>\n      <th>960430</th>\n      <td>2</td>\n      <td>-0.002046</td>\n      <td>0</td>\n      <td>1915.860</td>\n    </tr>\n  </tbody>\n</table>\n<p>960431 rows × 4 columns</p>\n</div>"
     },
     "execution_count": 11,
     "metadata": {},
     "output_type": "execute_result"
    }
   ],
   "source": [
    "eda_one_subj = modified_eda_by_subject(subject_number)\n",
    "eda_one_subj"
   ],
   "metadata": {
    "collapsed": false
   }
  },
  {
   "cell_type": "code",
   "execution_count": 12,
   "outputs": [
    {
     "data": {
      "text/plain": "       subject        hr  trigger      time\n0           02 -0.131683        0    -0.250\n1           02 -0.127258        0    -0.248\n2           02 -0.123749        0    -0.246\n3           02 -0.120087        0    -0.244\n4           02 -0.116577        0    -0.242\n...        ...       ...      ...       ...\n960426      02  0.038452        0  1920.602\n960427      02  0.042267        0  1920.604\n960428      02  0.046539        0  1920.606\n960429      02  0.049744        0  1920.608\n960430      02  0.051880        0  1920.610\n\n[960431 rows x 4 columns]",
      "text/html": "<div>\n<style scoped>\n    .dataframe tbody tr th:only-of-type {\n        vertical-align: middle;\n    }\n\n    .dataframe tbody tr th {\n        vertical-align: top;\n    }\n\n    .dataframe thead th {\n        text-align: right;\n    }\n</style>\n<table border=\"1\" class=\"dataframe\">\n  <thead>\n    <tr style=\"text-align: right;\">\n      <th></th>\n      <th>subject</th>\n      <th>hr</th>\n      <th>trigger</th>\n      <th>time</th>\n    </tr>\n  </thead>\n  <tbody>\n    <tr>\n      <th>0</th>\n      <td>02</td>\n      <td>-0.131683</td>\n      <td>0</td>\n      <td>-0.250</td>\n    </tr>\n    <tr>\n      <th>1</th>\n      <td>02</td>\n      <td>-0.127258</td>\n      <td>0</td>\n      <td>-0.248</td>\n    </tr>\n    <tr>\n      <th>2</th>\n      <td>02</td>\n      <td>-0.123749</td>\n      <td>0</td>\n      <td>-0.246</td>\n    </tr>\n    <tr>\n      <th>3</th>\n      <td>02</td>\n      <td>-0.120087</td>\n      <td>0</td>\n      <td>-0.244</td>\n    </tr>\n    <tr>\n      <th>4</th>\n      <td>02</td>\n      <td>-0.116577</td>\n      <td>0</td>\n      <td>-0.242</td>\n    </tr>\n    <tr>\n      <th>...</th>\n      <td>...</td>\n      <td>...</td>\n      <td>...</td>\n      <td>...</td>\n    </tr>\n    <tr>\n      <th>960426</th>\n      <td>02</td>\n      <td>0.038452</td>\n      <td>0</td>\n      <td>1920.602</td>\n    </tr>\n    <tr>\n      <th>960427</th>\n      <td>02</td>\n      <td>0.042267</td>\n      <td>0</td>\n      <td>1920.604</td>\n    </tr>\n    <tr>\n      <th>960428</th>\n      <td>02</td>\n      <td>0.046539</td>\n      <td>0</td>\n      <td>1920.606</td>\n    </tr>\n    <tr>\n      <th>960429</th>\n      <td>02</td>\n      <td>0.049744</td>\n      <td>0</td>\n      <td>1920.608</td>\n    </tr>\n    <tr>\n      <th>960430</th>\n      <td>02</td>\n      <td>0.051880</td>\n      <td>0</td>\n      <td>1920.610</td>\n    </tr>\n  </tbody>\n</table>\n<p>960431 rows × 4 columns</p>\n</div>"
     },
     "execution_count": 12,
     "metadata": {},
     "output_type": "execute_result"
    }
   ],
   "source": [
    "hr_one_subj = modified_hr_by_subject(subject_number)\n",
    "hr_one_subj"
   ],
   "metadata": {
    "collapsed": false
   }
  },
  {
   "cell_type": "markdown",
   "source": [
    "## merge eda and hr"
   ],
   "metadata": {
    "collapsed": false
   }
  },
  {
   "cell_type": "code",
   "execution_count": 13,
   "outputs": [
    {
     "data": {
      "text/plain": "        subject    phasic  phasic_peak      time        hr  trigger\n0             2  0.577715            0    -0.250 -0.131683        0\n1             2  0.578648            0    -0.248 -0.127258        0\n2             2  0.579574            0    -0.246 -0.123749        0\n3             2  0.580493            0    -0.244 -0.120087        0\n4             2  0.581406            0    -0.242 -0.116577        0\n...         ...       ...          ...       ...       ...      ...\n958051        2 -0.002957            0  1915.852  0.220337        0\n958052        2 -0.002729            0  1915.854  0.212708        0\n958053        2 -0.002501            0  1915.856  0.207214        0\n958054        2 -0.002274            0  1915.858  0.206451        0\n958055        2 -0.002046            0  1915.860  0.211029        0\n\n[958056 rows x 6 columns]",
      "text/html": "<div>\n<style scoped>\n    .dataframe tbody tr th:only-of-type {\n        vertical-align: middle;\n    }\n\n    .dataframe tbody tr th {\n        vertical-align: top;\n    }\n\n    .dataframe thead th {\n        text-align: right;\n    }\n</style>\n<table border=\"1\" class=\"dataframe\">\n  <thead>\n    <tr style=\"text-align: right;\">\n      <th></th>\n      <th>subject</th>\n      <th>phasic</th>\n      <th>phasic_peak</th>\n      <th>time</th>\n      <th>hr</th>\n      <th>trigger</th>\n    </tr>\n  </thead>\n  <tbody>\n    <tr>\n      <th>0</th>\n      <td>2</td>\n      <td>0.577715</td>\n      <td>0</td>\n      <td>-0.250</td>\n      <td>-0.131683</td>\n      <td>0</td>\n    </tr>\n    <tr>\n      <th>1</th>\n      <td>2</td>\n      <td>0.578648</td>\n      <td>0</td>\n      <td>-0.248</td>\n      <td>-0.127258</td>\n      <td>0</td>\n    </tr>\n    <tr>\n      <th>2</th>\n      <td>2</td>\n      <td>0.579574</td>\n      <td>0</td>\n      <td>-0.246</td>\n      <td>-0.123749</td>\n      <td>0</td>\n    </tr>\n    <tr>\n      <th>3</th>\n      <td>2</td>\n      <td>0.580493</td>\n      <td>0</td>\n      <td>-0.244</td>\n      <td>-0.120087</td>\n      <td>0</td>\n    </tr>\n    <tr>\n      <th>4</th>\n      <td>2</td>\n      <td>0.581406</td>\n      <td>0</td>\n      <td>-0.242</td>\n      <td>-0.116577</td>\n      <td>0</td>\n    </tr>\n    <tr>\n      <th>...</th>\n      <td>...</td>\n      <td>...</td>\n      <td>...</td>\n      <td>...</td>\n      <td>...</td>\n      <td>...</td>\n    </tr>\n    <tr>\n      <th>958051</th>\n      <td>2</td>\n      <td>-0.002957</td>\n      <td>0</td>\n      <td>1915.852</td>\n      <td>0.220337</td>\n      <td>0</td>\n    </tr>\n    <tr>\n      <th>958052</th>\n      <td>2</td>\n      <td>-0.002729</td>\n      <td>0</td>\n      <td>1915.854</td>\n      <td>0.212708</td>\n      <td>0</td>\n    </tr>\n    <tr>\n      <th>958053</th>\n      <td>2</td>\n      <td>-0.002501</td>\n      <td>0</td>\n      <td>1915.856</td>\n      <td>0.207214</td>\n      <td>0</td>\n    </tr>\n    <tr>\n      <th>958054</th>\n      <td>2</td>\n      <td>-0.002274</td>\n      <td>0</td>\n      <td>1915.858</td>\n      <td>0.206451</td>\n      <td>0</td>\n    </tr>\n    <tr>\n      <th>958055</th>\n      <td>2</td>\n      <td>-0.002046</td>\n      <td>0</td>\n      <td>1915.860</td>\n      <td>0.211029</td>\n      <td>0</td>\n    </tr>\n  </tbody>\n</table>\n<p>958056 rows × 6 columns</p>\n</div>"
     },
     "execution_count": 13,
     "metadata": {},
     "output_type": "execute_result"
    }
   ],
   "source": [
    "eda_one_subj.time = np.round(eda_one_subj.time*1000).astype(int)\n",
    "hr_one_subj.time = np.round(hr_one_subj.time*1000).astype(int)\n",
    "\n",
    "eda_hr = eda_one_subj.merge(hr_one_subj[['hr', 'trigger', 'time']], how='inner', on = ['time'])\n",
    "\n",
    "hr_one_subj.time = hr_one_subj.time/1000\n",
    "eda_one_subj.time = eda_one_subj.time/1000\n",
    "eda_hr.time = eda_hr.time/1000\n",
    "\n",
    "eda_hr"
   ],
   "metadata": {
    "collapsed": false
   }
  },
  {
   "cell_type": "markdown",
   "source": [
    "## calculate trials from hr"
   ],
   "metadata": {
    "collapsed": false
   }
  },
  {
   "cell_type": "code",
   "execution_count": 14,
   "outputs": [
    {
     "name": "stderr",
     "output_type": "stream",
     "text": [
      "960431it [00:43, 22311.08it/s]\n"
     ]
    },
    {
     "data": {
      "text/plain": "160"
     },
     "execution_count": 14,
     "metadata": {},
     "output_type": "execute_result"
    }
   ],
   "source": [
    "trials = start_trial_time(hr_one_subj)\n",
    "len(trials)"
   ],
   "metadata": {
    "collapsed": false
   }
  },
  {
   "cell_type": "markdown",
   "source": [
    "## plot all signals"
   ],
   "metadata": {
    "collapsed": false
   }
  },
  {
   "cell_type": "code",
   "execution_count": 23,
   "outputs": [
    {
     "data": {
      "text/plain": "<Figure size 1500x500 with 3 Axes>",
      "image/png": "[encoded data removed]"
     },
     "metadata": {},
     "output_type": "display_data"
    }
   ],
   "source": [
    "fig, ax = plt.subplots(3)\n",
    "fig.tight_layout()\n",
    "\n",
    "ax[0].plot(list(pupil_one_subj.time), list(pupil_one_subj.pupil_diameter),color='blue',label='pupil')\n",
    "#ax[0].vlines(trial, ymin=-3,ymax=3, color='green', linewidth=3,label='trial separators')\n",
    "ax[0].set(ylabel='Pupil diameter')\n",
    "ax[0].set_xlim([250,300])\n",
    "#ax[0].set_ylim([1.7, 2.3])\n",
    "ax[0].legend(bbox_to_anchor=(1,0), loc=\"lower left\")\n",
    "ax[1].plot(list(eda_hr.time), list(eda_hr.hr),color='red',label='hr')\n",
    "ax[1].set(ylabel='HR')\n",
    "ax[1].vlines(trials, ymin=-3,ymax=3, color='green', linewidth=3,label='trial separators')\n",
    "ax[1].legend()\n",
    "ax[1].set_ylim([-0.8, 1.8])\n",
    "ax[1].set_xlim([250, 300])\n",
    "plt.xlabel('seconds')\n",
    "ax[1].legend(bbox_to_anchor=(1,0), loc=\"lower left\")\n",
    "ax[2].plot(list(eda_hr.time), list(eda_hr.phasic),color='orange',label='phasic eda')\n",
    "ax[2].set(ylabel='EDA')\n",
    "ax[2].legend(bbox_to_anchor=(1,0), loc=\"lower left\")\n",
    "ax[2].vlines(trials, ymin=-3,ymax=3, color='green', linewidth=3,label='trial separators')\n",
    "ax[2].set_ylim([-0.1, 0.1])\n",
    "ax[2].set_xlim([250, 300])\n",
    "plt.show()"
   ],
   "metadata": {
    "collapsed": false
   }
  },
  {
   "cell_type": "code",
   "execution_count": 24,
   "outputs": [
    {
     "data": {
      "text/plain": "         subject        phasic  phasic_peak      time\n0              1 -1.482637e-02            0    -5.000\n1              1 -1.492123e-02            0    -4.998\n2              1 -1.501798e-02            0    -4.996\n3              1 -1.511662e-02            0    -4.994\n4              1 -1.521713e-02            0    -4.992\n...          ...           ...          ...       ...\n1421031        1  1.232337e-06            0  2837.062\n1421032        1  1.133891e-06            0  2837.064\n1421033        1  1.029543e-06            0  2837.066\n1421034        1  9.200323e-07            0  2837.068\n1421035        1  8.060492e-07            0  2837.070\n\n[1421036 rows x 4 columns]",
      "text/html": "<div>\n<style scoped>\n    .dataframe tbody tr th:only-of-type {\n        vertical-align: middle;\n    }\n\n    .dataframe tbody tr th {\n        vertical-align: top;\n    }\n\n    .dataframe thead th {\n        text-align: right;\n    }\n</style>\n<table border=\"1\" class=\"dataframe\">\n  <thead>\n    <tr style=\"text-align: right;\">\n      <th></th>\n      <th>subject</th>\n      <th>phasic</th>\n      <th>phasic_peak</th>\n      <th>time</th>\n    </tr>\n  </thead>\n  <tbody>\n    <tr>\n      <th>0</th>\n      <td>1</td>\n      <td>-1.482637e-02</td>\n      <td>0</td>\n      <td>-5.000</td>\n    </tr>\n    <tr>\n      <th>1</th>\n      <td>1</td>\n      <td>-1.492123e-02</td>\n      <td>0</td>\n      <td>-4.998</td>\n    </tr>\n    <tr>\n      <th>2</th>\n      <td>1</td>\n      <td>-1.501798e-02</td>\n      <td>0</td>\n      <td>-4.996</td>\n    </tr>\n    <tr>\n      <th>3</th>\n      <td>1</td>\n      <td>-1.511662e-02</td>\n      <td>0</td>\n      <td>-4.994</td>\n    </tr>\n    <tr>\n      <th>4</th>\n      <td>1</td>\n      <td>-1.521713e-02</td>\n      <td>0</td>\n      <td>-4.992</td>\n    </tr>\n    <tr>\n      <th>...</th>\n      <td>...</td>\n      <td>...</td>\n      <td>...</td>\n      <td>...</td>\n    </tr>\n    <tr>\n      <th>1421031</th>\n      <td>1</td>\n      <td>1.232337e-06</td>\n      <td>0</td>\n      <td>2837.062</td>\n    </tr>\n    <tr>\n      <th>1421032</th>\n      <td>1</td>\n      <td>1.133891e-06</td>\n      <td>0</td>\n      <td>2837.064</td>\n    </tr>\n    <tr>\n      <th>1421033</th>\n      <td>1</td>\n      <td>1.029543e-06</td>\n      <td>0</td>\n      <td>2837.066</td>\n    </tr>\n    <tr>\n      <th>1421034</th>\n      <td>1</td>\n      <td>9.200323e-07</td>\n      <td>0</td>\n      <td>2837.068</td>\n    </tr>\n    <tr>\n      <th>1421035</th>\n      <td>1</td>\n      <td>8.060492e-07</td>\n      <td>0</td>\n      <td>2837.070</td>\n    </tr>\n  </tbody>\n</table>\n<p>1421036 rows × 4 columns</p>\n</div>"
     },
     "execution_count": 24,
     "metadata": {},
     "output_type": "execute_result"
    }
   ],
   "source": [
    "eda_subj_1 = modified_eda_by_subject(1)\n",
    "eda_subj_1"
   ],
   "metadata": {
    "collapsed": false
   }
  },
  {
   "cell_type": "code",
   "execution_count": null,
   "outputs": [],
   "source": [
    "fig, ax = plt.subplots(3)\n",
    "ax[0].plot(list(pupil_one_subj.time), list(pupil_one_subj.pupil_diameter),color='blue',label='pupil')\n",
    "#ax[0].vlines(trial, ymin=-3,ymax=3, color='green', linewidth=3,label='trial separators')\n",
    "ax[0].set(ylabel='Pupil diameter')\n",
    "#ax[0].set_ylim([1.7, 2.3])\n",
    "ax[0].legend(bbox_to_anchor=(1,0), loc=\"lower left\")\n",
    "ax[1].plot(list(eda_hr.time), list(eda_hr.hr),color='red',label='hr')\n",
    "ax[1].set(ylabel='HR')\n",
    "ax[1].vlines(trials, ymin=-3,ymax=3, color='green', linewidth=3,label='trial separators')\n",
    "ax[1].legend()\n",
    "ax[1].set_ylim([-0.8, 1.8])\n",
    "ax[1].set_xlim([250, 300])\n",
    "plt.xlabel('seconds')\n",
    "ax[1].legend(bbox_to_anchor=(1,0), loc=\"lower left\")\n",
    "ax[2].plot(list(eda_hr.time), list(eda_hr.phasic),color='orange',label='phasic eda')\n",
    "ax[2].set(ylabel='EDA')\n",
    "ax[2].vlines(trials, ymin=-3,ymax=3, color='green', linewidth=3,label='trial separators')\n",
    "ax[2].set_ylim([-0.1, 0.1])\n",
    "\n",
    "plt.show()"
   ],
   "metadata": {
    "collapsed": false
   }
  },
  {
   "cell_type": "code",
   "execution_count": null,
   "outputs": [],
   "source": [
    "diff_ = [x - trials[i - 1] for i, x in enumerate(trials)][1:]\n",
    "\n",
    "print(min(diff_), max(diff_))"
   ],
   "metadata": {
    "collapsed": false
   }
  },
  {
   "cell_type": "code",
   "execution_count": null,
   "outputs": [],
   "source": [
    "diff_"
   ],
   "metadata": {
    "collapsed": false
   }
  },
  {
   "cell_type": "markdown",
   "source": [
    "## create df hr e pupil signals"
   ],
   "metadata": {
    "collapsed": false
   }
  },
  {
   "cell_type": "code",
   "execution_count": 12,
   "outputs": [],
   "source": [
    "subject_number=2"
   ],
   "metadata": {
    "collapsed": false
   }
  },
  {
   "cell_type": "code",
   "execution_count": 13,
   "outputs": [
    {
     "data": {
      "text/plain": "       subject        hr  trigger\n0           02 -0.131683        0\n1           02 -0.127258        0\n2           02 -0.123749        0\n3           02 -0.120087        0\n4           02 -0.116577        0\n...        ...       ...      ...\n960426      02  0.038452        0\n960427      02  0.042267        0\n960428      02  0.046539        0\n960429      02  0.049744        0\n960430      02  0.051880        0\n\n[960431 rows x 3 columns]",
      "text/html": "<div>\n<style scoped>\n    .dataframe tbody tr th:only-of-type {\n        vertical-align: middle;\n    }\n\n    .dataframe tbody tr th {\n        vertical-align: top;\n    }\n\n    .dataframe thead th {\n        text-align: right;\n    }\n</style>\n<table border=\"1\" class=\"dataframe\">\n  <thead>\n    <tr style=\"text-align: right;\">\n      <th></th>\n      <th>subject</th>\n      <th>hr</th>\n      <th>trigger</th>\n    </tr>\n  </thead>\n  <tbody>\n    <tr>\n      <th>0</th>\n      <td>02</td>\n      <td>-0.131683</td>\n      <td>0</td>\n    </tr>\n    <tr>\n      <th>1</th>\n      <td>02</td>\n      <td>-0.127258</td>\n      <td>0</td>\n    </tr>\n    <tr>\n      <th>2</th>\n      <td>02</td>\n      <td>-0.123749</td>\n      <td>0</td>\n    </tr>\n    <tr>\n      <th>3</th>\n      <td>02</td>\n      <td>-0.120087</td>\n      <td>0</td>\n    </tr>\n    <tr>\n      <th>4</th>\n      <td>02</td>\n      <td>-0.116577</td>\n      <td>0</td>\n    </tr>\n    <tr>\n      <th>...</th>\n      <td>...</td>\n      <td>...</td>\n      <td>...</td>\n    </tr>\n    <tr>\n      <th>960426</th>\n      <td>02</td>\n      <td>0.038452</td>\n      <td>0</td>\n    </tr>\n    <tr>\n      <th>960427</th>\n      <td>02</td>\n      <td>0.042267</td>\n      <td>0</td>\n    </tr>\n    <tr>\n      <th>960428</th>\n      <td>02</td>\n      <td>0.046539</td>\n      <td>0</td>\n    </tr>\n    <tr>\n      <th>960429</th>\n      <td>02</td>\n      <td>0.049744</td>\n      <td>0</td>\n    </tr>\n    <tr>\n      <th>960430</th>\n      <td>02</td>\n      <td>0.051880</td>\n      <td>0</td>\n    </tr>\n  </tbody>\n</table>\n<p>960431 rows × 3 columns</p>\n</div>"
     },
     "execution_count": 13,
     "metadata": {},
     "output_type": "execute_result"
    }
   ],
   "source": [
    "hr_one_subj = extract_hr_by_subject(subject_number)\n",
    "hr_one_subj"
   ],
   "metadata": {
    "collapsed": false
   }
  },
  {
   "cell_type": "code",
   "execution_count": 3,
   "outputs": [],
   "source": [
    "def indexes_trial_start (df:pd.DataFrame)-> list:\n",
    "    \"\"\"\n",
    "    Calculate indexes where trials starts\n",
    "    :param df: a pandas DataFrame with rectangular function with value = 0 or value = 5 in column 2\n",
    "    :return: a list that cointains indexes of firsts value with value = 5\n",
    "    \"\"\"\n",
    "    start_trials = [] #TODO optimize this function.too much time\n",
    "    prec = -1\n",
    "    for i in tqdm(df.iterrows()):\n",
    "        actual = i[1][2]\n",
    "        if actual == 5 and prec == 0:\n",
    "            start_trials.extend([i[0]])\n",
    "        prec = actual\n",
    "    return start_trials\n",
    "\n",
    "def create_df_one_subj(df:pd.DataFrame,indexes_trial:list,type_data:str,sampling_rate=500,latency=0,len_trial=6) -> pd.DataFrame:\n",
    "    \"\"\"\n",
    "    Modify pd dataframes trasforming datas into #numtrials rows and 3k columns similar to pupil data\n",
    "    This function also fix latency\n",
    "\n",
    "    :param df: df with a row for each value\n",
    "    :param indexes_trial: list that cointains indexes of the df where starts trials\n",
    "    :param type: str that indicates 'eda' or 'hr'\n",
    "    :param sampling_rate: in hz default 500\n",
    "    :param latency: in seconds default 0\n",
    "    :param len_trial: in seconds default 6\n",
    "    :return: DataFrame with 160 rows (1 per trial and 3k columns)\n",
    "    \"\"\"\n",
    "    num_data = (len_trial*sampling_rate)-1\n",
    "    names_col = np.arange(0,num_data+1).astype(str)\n",
    "    df_all_trials = pd.DataFrame()\n",
    "    for i,index in enumerate(indexes_trial):\n",
    "        start_lat= index + (latency/1000*sampling_rate)\n",
    "        end_lat = start_lat + num_data\n",
    "        df_single_trial = df.loc[start_lat:end_lat][[type_data]]\n",
    "        min_len= len(df_single_trial.index)\n",
    "        df_single_trial.columns = [str(i+1)]\n",
    "        df_trasp = df_single_trial.T\n",
    "        df_trasp.columns =names_col[:min_len]\n",
    "        df_all_trials = pd.concat([df_all_trials, df_trasp], axis=0)\n",
    "    return df_all_trials\n",
    "\n",
    "def from_csv_to_df (subject_number,valid_patients,type_data,path=\"tmp_eda\") -> pd.DataFrame:\n",
    "    \"\"\"\n",
    "    Read csv files from @param path and return a simple dataframe with eda (or hr) and trigger data\n",
    "\n",
    "    :param subject_number:\n",
    "    :param valid_patients:\n",
    "    :param type_data:\n",
    "    :param path:\n",
    "    :return:\n",
    "    \"\"\"\n",
    "    if type_data not in ['eda','hr']:\n",
    "        print(\"ERROR TYPE_DATA PARAM (only eda or hr)\")\n",
    "        return\n",
    "\n",
    "    if subject_number not in valid_patients:\n",
    "        print('subject number not valid, probably this patient has not valid '+type_data+' signal')\n",
    "        return []\n",
    "    if subject_number < 10:\n",
    "        subject_number = '0' + str(subject_number)\n",
    "    path_csv = str(path+\"/tmp_eda\"+ str(subject_number) + \".csv\")\n",
    "    pat_ = pd.read_csv(path_csv)\n",
    "    if type_data == 'eda':\n",
    "        df = {'subject': subject_number, 'eda': pat_['CH1'], 'trigger': pat_['CH28']}\n",
    "    if type_data == 'hr':\n",
    "        df = {'subject': subject_number, 'hr': pat_['CH2'], 'trigger': pat_['CH28']}\n",
    "\n",
    "    return pd.DataFrame(df)\n",
    "\n",
    "def create_csv_signals_physio (subj_num, valid_patients,type_signal) -> None:\n",
    "    \"\"\"\n",
    "    Function to create csv files into eda_csv or hr_csv folder\n",
    "    :param subj_num:\n",
    "    :param valid_patients:\n",
    "    :param type_signal:\n",
    "    :return:\n",
    "    \"\"\"\n",
    "    if type_signal not in ['eda','hr']:\n",
    "        print(\"ERROR TYPE_DATA PARAM (only eda or hr)\")\n",
    "        return\n",
    "    df = from_csv_to_df(subj_num,valid_patients,type_data=type_signal)\n",
    "    indexes_trial_ = indexes_trial_start(df)\n",
    "    #print('len ind trial '+str(len(indexes_trial_)))\n",
    "    if type_signal== 'eda':\n",
    "        latency = LATENCY_EDA\n",
    "    if type_signal== 'hr':\n",
    "        latency = LATENCY_HR\n",
    "    df_eda_subj = create_df_one_subj(df,indexes_trial=indexes_trial_,latency=latency,type_data=type_signal)\n",
    "    name=type_signal+'_csv/'+str(subj_num)+'_'+type_signal+'.csv'\n",
    "    df_eda_subj.to_csv(name,index=False)"
   ],
   "metadata": {
    "collapsed": false
   }
  },
  {
   "cell_type": "markdown",
   "source": [
    "## create csv files for hr"
   ],
   "metadata": {
    "collapsed": false
   }
  },
  {
   "cell_type": "code",
   "execution_count": 14,
   "outputs": [
    {
     "name": "stderr",
     "output_type": "stream",
     "text": [
      "1421036it [01:58, 12020.85it/s]\n",
      "960431it [01:17, 12375.56it/s]\n",
      "853637it [01:08, 12521.10it/s]\n",
      "828904it [01:05, 12621.49it/s]\n",
      "889799it [01:13, 12170.10it/s]\n",
      "845753it [01:09, 12096.24it/s]\n",
      "941342it [01:15, 12544.58it/s]\n",
      "808224it [01:04, 12534.20it/s]\n",
      "858099it [00:47, 17969.51it/s]\n",
      "893863it [00:50, 17734.10it/s]\n",
      "820784it [00:46, 17776.19it/s]\n",
      "844688it [00:48, 17591.20it/s]\n",
      "838931it [00:45, 18629.04it/s]\n",
      "850837it [00:45, 18730.37it/s]\n",
      "921461it [00:48, 18833.62it/s]\n",
      "811511it [00:43, 18784.19it/s]\n",
      "794207it [00:42, 18689.91it/s]\n",
      "870656it [00:46, 18923.37it/s]\n",
      "930002it [00:49, 18739.97it/s]\n",
      "815863it [00:43, 18871.23it/s]\n",
      "783406it [00:41, 18720.86it/s]\n",
      "800647it [00:42, 18720.67it/s]\n",
      "831670it [00:44, 18722.24it/s]\n",
      "796418it [00:42, 18945.31it/s]\n",
      "799104it [00:42, 18685.75it/s]\n",
      "820265it [00:43, 18752.05it/s]\n",
      "812729it [00:43, 18743.37it/s]\n",
      "872147it [00:46, 18743.16it/s]\n",
      "815469it [00:43, 18773.24it/s]\n",
      "830390it [00:44, 18744.39it/s]\n",
      "884050it [00:47, 18761.69it/s]\n",
      "867055it [00:46, 18759.84it/s]\n",
      "917688it [00:50, 18136.99it/s]\n",
      "854114it [00:43, 19612.94it/s]\n",
      "882640it [00:45, 19506.26it/s]\n",
      "846825it [00:43, 19361.28it/s]\n",
      "922216it [00:46, 19623.81it/s]\n",
      "850701it [00:45, 18664.57it/s]\n",
      "925069it [00:50, 18500.33it/s]\n",
      "987145it [00:53, 18461.09it/s]\n",
      "855649it [00:46, 18484.01it/s]\n",
      "849845it [00:46, 18425.79it/s]\n",
      "858483it [00:46, 18373.59it/s]\n",
      "872605it [00:47, 18487.88it/s]\n"
     ]
    }
   ],
   "source": [
    "for pat in valid_patients_hr:\n",
    "    create_csv_signals_physio(pat,valid_patients_hr,type_signal='hr')"
   ],
   "metadata": {
    "collapsed": false
   }
  },
  {
   "cell_type": "markdown",
   "source": [
    "## create csv files for eda"
   ],
   "metadata": {
    "collapsed": false
   }
  },
  {
   "cell_type": "code",
   "execution_count": 30,
   "outputs": [
    {
     "name": "stderr",
     "output_type": "stream",
     "text": [
      "1421036it [01:54, 12421.11it/s]\n",
      "960431it [01:18, 12201.82it/s]\n",
      "853637it [01:08, 12483.69it/s]\n",
      "828904it [01:06, 12468.72it/s]\n",
      "889799it [01:13, 12079.78it/s]\n",
      "845753it [01:07, 12487.12it/s]\n",
      "941342it [01:14, 12714.11it/s]\n",
      "808224it [01:08, 11804.94it/s]\n",
      "858099it [01:16, 11286.63it/s]\n",
      "925558it [01:22, 11169.77it/s]\n",
      "814941it [01:12, 11281.27it/s]\n",
      "893863it [01:19, 11305.69it/s]\n",
      "820784it [01:14, 11081.92it/s]\n",
      "844688it [01:13, 11419.12it/s]\n",
      "838931it [01:14, 11329.05it/s]\n",
      "850837it [01:13, 11509.95it/s]\n",
      "921461it [01:21, 11367.87it/s]\n",
      "811511it [01:10, 11476.41it/s]\n",
      "849482it [01:17, 10994.99it/s]\n",
      "794207it [01:12, 10920.51it/s]\n",
      "870656it [01:16, 11400.17it/s]\n",
      "930002it [01:22, 11339.51it/s]\n",
      "815863it [01:12, 11311.14it/s]\n",
      "783406it [01:09, 11301.66it/s]\n",
      "800647it [01:12, 11025.34it/s]\n",
      "831670it [01:13, 11332.36it/s]\n",
      "796418it [01:10, 11268.41it/s]\n",
      "799104it [01:08, 11633.73it/s]\n",
      "820265it [00:44, 18424.72it/s]\n",
      "812729it [00:46, 17376.27it/s]\n",
      "872147it [00:54, 16139.20it/s]\n",
      "815469it [00:51, 15721.65it/s]\n",
      "830390it [01:13, 11331.55it/s]\n",
      "884050it [01:17, 11454.11it/s]\n",
      "867055it [01:16, 11367.23it/s]\n",
      "917688it [01:21, 11325.13it/s]\n",
      "854114it [01:14, 11480.26it/s]\n",
      "882640it [00:54, 16111.86it/s]\n",
      "846825it [00:53, 15893.49it/s]\n",
      "922216it [00:59, 15452.13it/s]\n",
      "850701it [00:56, 14987.18it/s]\n",
      "925069it [01:24, 10959.80it/s]\n",
      "987145it [01:31, 10791.93it/s]\n",
      "855649it [01:19, 10718.33it/s]\n",
      "849845it [01:19, 10675.90it/s]\n",
      "858483it [01:18, 10961.09it/s]\n",
      "872605it [01:01, 14177.74it/s]\n"
     ]
    }
   ],
   "source": [
    "for pat in valid_patients_eda:\n",
    "    create_csv_signals_physio(pat,valid_patients_eda,type_signal='eda')"
   ],
   "metadata": {
    "collapsed": false
   }
  },
  {
   "cell_type": "code",
   "execution_count": null,
   "outputs": [],
   "source": [
    "trials"
   ],
   "metadata": {
    "collapsed": false
   }
  },
  {
   "cell_type": "code",
   "execution_count": null,
   "outputs": [],
   "source": [
    "name = 'pd'\n",
    "columns = []\n",
    "for i in range(1, 101):\n",
    "    columns.append(name+str(i))\n",
    "\n",
    "pupil_subject1 = pupil_subject1.drop(columns, axis=1)\n",
    "pupil_subject1"
   ],
   "metadata": {
    "collapsed": false
   }
  },
  {
   "cell_type": "markdown",
   "source": [
    "# General idea to synchronize Heart rate signal, EDA signal and pupil diameter signal.\n",
    "\n",
    "### EDA & HR\n",
    "Thanks to Mario Reuter, we finally understood how to properly read *\\<SubjectNumber\\>.txt* files.\n",
    "In particular **CH1** refers to EDA signals, **CH2** refers to HR signals while **CH28** refers to a *trigger* column: it contains *rectangular activation signals* that indicates the stimulus onset of each trial (the first non-zero value means that an image stimulus is presented to the subject).\n",
    "* EDA\n",
    "At this point since we know that the latency of the EDA signal is 5 seconds, we decide to discard the first 5 seconds of each trial (5*500 = 2500 rows, latency ) and consider the subsequent 6 seconds of the signal, that represent the duration of a trial before a fixation cross is presented to the subject. Even though a trial lasts for a period of time between 8-10 seconds, we have no issues since the latency is less than 8 seconds (in this case 5 s).\n",
    "* HR\n",
    "Same situation for the HR signals: in this case we have a latency of 250ms, so we discard for each trial the first 0.250*500 rows (latency * sampling rate HR)  after the corresponding trigger indicating the start of that trial.\n",
    "* Pupil responses\n",
    "The pupil diameters are stored for each subject in table containing 160 rows, one for trial, and 700 columns, representing the number of samples collected in 7 seconds for each trial. In this case we have to discard the first two seconds of each trial: the first is removed since this data are collected starting to the last second preceding stimulus onset while the second is removed because the latency of this signal is 1 second (this means removing the first 200 columns of each pupil file).\n"
   ],
   "metadata": {
    "collapsed": false
   }
  },
  {
   "cell_type": "code",
   "execution_count": null,
   "outputs": [],
   "source": [
    "def new_read_pupil(subject:int, latency:int, sampl_rate: int) -> pd.DataFrame:\n",
    "    \"\"\"\n",
    "    Read in current folder one tmp csv well formatted with pupil data\n",
    "    :param subject:\n",
    "    :param latency: msec\n",
    "    :param sampl_rate: hz\n",
    "    :return: Dataframe with pupil data of the subject\n",
    "    \"\"\"\n",
    "    name = 'tmp_pupil/tmp_pupil'+str(subject)+'.csv'\n",
    "    df_pupil = pd.read_csv(name, sep=',')\n",
    "    delay_before_onset_stim = 1000\n",
    "    len_col = int((latency+delay_before_onset_stim)/1000*sampl_rate)\n",
    "    name_col = 'pd'\n",
    "    columns = ['trial']\n",
    "    for i in range(1, len_col+1):\n",
    "        columns.append(name_col+str(i))\n",
    "    df_pupil = df_pupil.drop(columns, axis=1)\n",
    "    columns = np.arange(0, len(df_pupil.columns))\n",
    "    df_pupil.columns = columns\n",
    "    return df_pupil"
   ],
   "metadata": {
    "collapsed": false
   }
  },
  {
   "cell_type": "code",
   "execution_count": null,
   "outputs": [],
   "source": [
    "pupil1 = new_read_pupil(1, 1000, 100)\n",
    "pupil1"
   ],
   "metadata": {
    "collapsed": false
   }
  },
  {
   "cell_type": "code",
   "execution_count": null,
   "outputs": [],
   "source": [
    "dict_trials = {}\n",
    "for i in valid_patients_hr:\n",
    "    hr_i = modified_hr_by_subject(i)\n",
    "    trials = start_trial_time(hr_i)\n",
    "    diff_ = [x - trials[i - 1] for i, x in enumerate(trials)][1:]\n",
    "    dict_trials[i] = (min(diff_), max(diff_))\n",
    "dict_trials\n"
   ],
   "metadata": {
    "collapsed": false
   }
  },
  {
   "cell_type": "code",
   "execution_count": null,
   "outputs": [],
   "source": [
    "'''for i in valid_pupil_eda:\n",
    "    name = str(i)+'_pupil.csv'\n",
    "    new_read_pupil(i, 1000, 100).to_csv(name, index=False)'''"
   ],
   "metadata": {
    "collapsed": false
   }
  },
  {
   "cell_type": "code",
   "execution_count": 18,
   "outputs": [],
   "source": [],
   "metadata": {
    "collapsed": false
   }
  },
  {
   "cell_type": "markdown",
   "source": [
    "# recap\n",
    "\n",
    "## eda\n",
    "in folder eda_csv one csv for each patient with num rows = num trials\n",
    "in each cell value of eda signal (tonic+phasic). num columns = 1/sampling rate*time trial\n",
    "already considered latency of 5000 msec\n",
    "\n",
    "## hr\n",
    "in folder hr_csv one csv for each patient with num rows = num trials\n",
    "in each cell value of hr signal (probably should consider hr variability not this signal). num columns = 1/sampling rate*time trial\n",
    "already considered latency of 250 msec\n",
    "\n",
    "## pupil\n",
    "\n",
    "in folder pupil_csv one csv for each patient with num rows = num trials\n",
    "in each cell value of pupil dilation. num columns = 1/sampling rate*time trial\n",
    "already considered latency of 1000 msec and removed first second (inter-trial time)\n",
    "\n",
    "\n"
   ],
   "metadata": {
    "collapsed": false
   }
  },
  {
   "cell_type": "markdown",
   "source": [
    "At this point we need only to read data from this csvs and plot"
   ],
   "metadata": {
    "collapsed": false
   }
  },
  {
   "cell_type": "code",
   "execution_count": 6,
   "outputs": [],
   "source": [
    "subject_number=2\n",
    "trial_numb = 50"
   ],
   "metadata": {
    "collapsed": false
   }
  },
  {
   "cell_type": "code",
   "execution_count": 5,
   "outputs": [],
   "source": [
    "eda_subj = pd.read_csv('eda_csv/'+str(subject_number)+'_eda.csv')\n",
    "hr_subj = pd.read_csv('hr_csv/'+str(subject_number)+'_hr.csv')\n",
    "pupil_subj = pd.read_csv('pupil_csv/'+str(subject_number)+'_pupil.csv')"
   ],
   "metadata": {
    "collapsed": false
   }
  },
  {
   "cell_type": "markdown",
   "source": [
    "how to plot division more trial?"
   ],
   "metadata": {
    "collapsed": false
   }
  },
  {
   "cell_type": "code",
   "execution_count": 17,
   "outputs": [],
   "source": [
    "eda_trial = eda_subj.loc[trial_numb]\n",
    "hr_trial = hr_subj.loc[trial_numb]\n",
    "pupil_trial = pupil_subj.loc[trial_numb]"
   ],
   "metadata": {
    "collapsed": false
   }
  },
  {
   "cell_type": "code",
   "execution_count": 25,
   "outputs": [
    {
     "data": {
      "text/plain": "<Figure size 1080x360 with 3 Axes>",
      "image/png": "[encoded data removed]"
     },
     "metadata": {
      "needs_background": "light"
     },
     "output_type": "display_data"
    }
   ],
   "source": [
    "fig, ax = plt.subplots(3)\n",
    "fig.suptitle('plot of trial #'+str(trial_numb)+' of subject '+str(subject_number))\n",
    "fig.tight_layout()\n",
    "\n",
    "ax[0].plot(list(pupil_trial),color='blue',label='pupil')\n",
    "ax[0].set(ylabel='Pupil diameter')\n",
    "ax[0].legend(bbox_to_anchor=(1,0), loc=\"lower left\")\n",
    "\n",
    "ax[1].plot(list(hr_trial),color='red',label='hr')\n",
    "ax[1].set(ylabel='HR')\n",
    "ax[1].legend(bbox_to_anchor=(1,0), loc=\"lower left\")\n",
    "\n",
    "ax[2].plot(list(eda_trial),color='orange',label='eda')\n",
    "ax[2].set(ylabel='EDA')\n",
    "ax[2].legend(bbox_to_anchor=(1,0), loc=\"lower left\")\n",
    "\n",
    "plt.xlabel('seconds')\n",
    "plt.show()"
   ],
   "metadata": {
    "collapsed": false
   }
  },
  {
   "cell_type": "code",
   "execution_count": null,
   "outputs": [],
   "source": [],
   "metadata": {
    "collapsed": false
   }
  }
 ],
 "metadata": {
  "kernelspec": {
   "display_name": "Python 3",
   "language": "python",
   "name": "python3"
  },
  "language_info": {
   "codemirror_mode": {
    "name": "ipython",
    "version": 2
   },
   "file_extension": ".py",
   "mimetype": "text/x-python",
   "name": "python",
   "nbconvert_exporter": "python",
   "pygments_lexer": "ipython2",
   "version": "2.7.6"
  }
 },
 "nbformat": 4,
 "nbformat_minor": 0
}
