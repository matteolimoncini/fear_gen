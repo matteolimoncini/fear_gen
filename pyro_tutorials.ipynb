{
 "cells": [
  {
   "cell_type": "code",
   "execution_count": 1,
   "metadata": {
    "collapsed": true
   },
   "outputs": [
    {
     "data": {
      "text/plain": "'1.8.4'"
     },
     "execution_count": 1,
     "metadata": {},
     "output_type": "execute_result"
    }
   ],
   "source": [
    "import torch\n",
    "import numpy as np\n",
    "import pandas as pd\n",
    "import seaborn as sns\n",
    "import matplotlib.pyplot as plt\n",
    "import logging\n",
    "import os\n",
    "\n",
    "\n",
    "import pyro\n",
    "from pyro.optim import Adam\n",
    "from pyro.infer import SVI, Trace_ELBO, MCMC, NUTS\n",
    "import pyro.distributions as dist\n",
    "import pyro.distributions.constraints as constraints\n",
    "\n",
    "\n",
    "pyro.__version__"
   ]
  },
  {
   "cell_type": "markdown",
   "source": [
    "# Latent Dirichlet Algorithm"
   ],
   "metadata": {
    "collapsed": false
   }
  },
  {
   "cell_type": "markdown",
   "source": [
    "extract valid subjects"
   ],
   "metadata": {
    "collapsed": false
   }
  },
  {
   "cell_type": "code",
   "execution_count": 3,
   "outputs": [
    {
     "data": {
      "text/plain": "[1,\n 2,\n 4,\n 5,\n 6,\n 7,\n 13,\n 15,\n 16,\n 17,\n 21,\n 22,\n 23,\n 26,\n 27,\n 28,\n 31,\n 32,\n 33,\n 41,\n 43,\n 44,\n 45,\n 46,\n 47,\n 48,\n 50,\n 51,\n 52,\n 54]"
     },
     "execution_count": 3,
     "metadata": {},
     "output_type": "execute_result"
    }
   ],
   "source": [
    "from fear_gen import extract_correct_csv\n",
    "os.chdir(\"fear_gen\")\n",
    "valid_sub = extract_correct_csv.extract_only_valid_subject()"
   ],
   "metadata": {
    "collapsed": false
   }
  },
  {
   "cell_type": "markdown",
   "source": [
    "read real data of subject #2"
   ],
   "metadata": {
    "collapsed": false
   }
  },
  {
   "cell_type": "code",
   "execution_count": 4,
   "outputs": [
    {
     "name": "stderr",
     "output_type": "stream",
     "text": [
      "/var/folders/hn/nq1_cby521sbf58lnj9qj9mw0000gn/T/ipykernel_14953/76822954.py:5: SettingWithCopyWarning: \n",
      "A value is trying to be set on a copy of a slice from a DataFrame.\n",
      "Try using .loc[row_indexer,col_indexer] = value instead\n",
      "\n",
      "See the caveats in the documentation: https://pandas.pydata.org/pandas-docs/stable/user_guide/indexing.html#returning-a-view-versus-a-copy\n",
      "  df_rational['shock'] = df_rational['shock'].astype(int)\n",
      "/var/folders/hn/nq1_cby521sbf58lnj9qj9mw0000gn/T/ipykernel_14953/76822954.py:6: SettingWithCopyWarning: \n",
      "A value is trying to be set on a copy of a slice from a DataFrame.\n",
      "Try using .loc[row_indexer,col_indexer] = value instead\n",
      "\n",
      "See the caveats in the documentation: https://pandas.pydata.org/pandas-docs/stable/user_guide/indexing.html#returning-a-view-versus-a-copy\n",
      "  df_rational['morphing level'] = [int(d==6) for d in df_rational['morphing level']]\n"
     ]
    }
   ],
   "source": [
    "# read dataset\n",
    "os.chdir('..')\n",
    "df = pd.read_csv('fear_gen/data/newLookAtMe/newLookAtMe02.csv')\n",
    "df_rational = df[['morphing level', 'shock']]\n",
    "df_rational['shock'] = df_rational['shock'].astype(int) #setting shock as int instead of boolean\n",
    "df_rational['morphing level'] = [int(d==6) for d in df_rational['morphing level']] # if morphing level==6 -> 1"
   ],
   "metadata": {
    "collapsed": false
   }
  },
  {
   "cell_type": "code",
   "execution_count": 5,
   "outputs": [],
   "source": [
    "# categorical/multinomial distribution\n",
    "\n",
    "# uniform prior\n",
    "prior_counts = torch.ones((2,2))\n",
    "\n",
    "def model(data):\n",
    "    prior = pyro.sample(\"prior\", dist.Dirichlet(prior_counts))\n",
    "    total_counts = int(data.sum())\n",
    "    pyro.sample(\"posterior\", dist.Multinomial(total_counts, prior), obs=data)"
   ],
   "metadata": {
    "collapsed": false
   }
  },
  {
   "cell_type": "code",
   "execution_count": 6,
   "outputs": [
    {
     "data": {
      "text/plain": "array([[1, 1],\n       [0, 0],\n       [0, 0],\n       [1, 1],\n       [0, 0],\n       [1, 1],\n       [1, 1],\n       [0, 0],\n       [1, 0],\n       [1, 1],\n       [0, 0],\n       [0, 0],\n       [0, 0],\n       [0, 0],\n       [1, 1],\n       [1, 0],\n       [0, 0],\n       [1, 1],\n       [1, 1],\n       [0, 0],\n       [1, 0],\n       [0, 0],\n       [1, 1],\n       [0, 0],\n       [1, 0],\n       [0, 0],\n       [1, 1],\n       [0, 0],\n       [1, 1],\n       [0, 0],\n       [1, 1],\n       [0, 0]])"
     },
     "execution_count": 6,
     "metadata": {},
     "output_type": "execute_result"
    }
   ],
   "source": [
    "data_np = df_rational.to_numpy()\n",
    "data_all = data_np[16:]\n",
    "learning_data = data_np[16:48] # considering only learning trials\n",
    "learning_data"
   ],
   "metadata": {
    "collapsed": false
   }
  },
  {
   "cell_type": "code",
   "execution_count": 7,
   "outputs": [],
   "source": [
    "data = torch.tensor(data_all)\n",
    "N = data.shape[0]\n",
    "dict_ = {'[0 0]':0, '[0 1]': 0, '[1 0]':0, '[1 1]':0}\n",
    "for x in data_all:\n",
    "    dict_[str(x)] += 1\n"
   ],
   "metadata": {
    "collapsed": false
   }
  },
  {
   "cell_type": "code",
   "execution_count": 8,
   "outputs": [],
   "source": [
    "counter = torch.zeros((N,4))\n",
    "\n",
    "for i in range(len(data_all)):\n",
    "    dict_ = {'[0 0]':0, '[0 1]': 0, '[1 0]':0, '[1 1]':0}\n",
    "    tmp_data = data_all[:i+1]\n",
    "    for x in tmp_data:\n",
    "        dict_[str(x)] += 1\n",
    "    values = np.array(list(dict_.values()))\n",
    "    counter[i] = torch.tensor(values)"
   ],
   "metadata": {
    "collapsed": false
   }
  },
  {
   "cell_type": "code",
   "execution_count": 9,
   "outputs": [
    {
     "data": {
      "text/plain": "tensor([[[ 0.,  0.],\n         [ 0.,  1.]],\n\n        [[ 1.,  0.],\n         [ 0.,  1.]],\n\n        [[ 2.,  0.],\n         [ 0.,  1.]],\n\n        [[ 2.,  0.],\n         [ 0.,  2.]],\n\n        [[ 3.,  0.],\n         [ 0.,  2.]],\n\n        [[ 3.,  0.],\n         [ 0.,  3.]],\n\n        [[ 3.,  0.],\n         [ 0.,  4.]],\n\n        [[ 4.,  0.],\n         [ 0.,  4.]],\n\n        [[ 4.,  0.],\n         [ 1.,  4.]],\n\n        [[ 4.,  0.],\n         [ 1.,  5.]],\n\n        [[ 5.,  0.],\n         [ 1.,  5.]],\n\n        [[ 6.,  0.],\n         [ 1.,  5.]],\n\n        [[ 7.,  0.],\n         [ 1.,  5.]],\n\n        [[ 8.,  0.],\n         [ 1.,  5.]],\n\n        [[ 8.,  0.],\n         [ 1.,  6.]],\n\n        [[ 8.,  0.],\n         [ 2.,  6.]],\n\n        [[ 9.,  0.],\n         [ 2.,  6.]],\n\n        [[ 9.,  0.],\n         [ 2.,  7.]],\n\n        [[ 9.,  0.],\n         [ 2.,  8.]],\n\n        [[10.,  0.],\n         [ 2.,  8.]],\n\n        [[10.,  0.],\n         [ 3.,  8.]],\n\n        [[11.,  0.],\n         [ 3.,  8.]],\n\n        [[11.,  0.],\n         [ 3.,  9.]],\n\n        [[12.,  0.],\n         [ 3.,  9.]],\n\n        [[12.,  0.],\n         [ 4.,  9.]],\n\n        [[13.,  0.],\n         [ 4.,  9.]],\n\n        [[13.,  0.],\n         [ 4., 10.]],\n\n        [[14.,  0.],\n         [ 4., 10.]],\n\n        [[14.,  0.],\n         [ 4., 11.]],\n\n        [[15.,  0.],\n         [ 4., 11.]],\n\n        [[15.,  0.],\n         [ 4., 12.]],\n\n        [[16.,  0.],\n         [ 4., 12.]],\n\n        [[17.,  0.],\n         [ 4., 12.]],\n\n        [[17.,  0.],\n         [ 4., 13.]],\n\n        [[18.,  0.],\n         [ 4., 13.]],\n\n        [[19.,  0.],\n         [ 4., 13.]],\n\n        [[19.,  0.],\n         [ 5., 13.]],\n\n        [[20.,  0.],\n         [ 5., 13.]],\n\n        [[21.,  0.],\n         [ 5., 13.]],\n\n        [[22.,  0.],\n         [ 5., 13.]],\n\n        [[23.,  0.],\n         [ 5., 13.]],\n\n        [[23.,  0.],\n         [ 5., 14.]],\n\n        [[24.,  0.],\n         [ 5., 14.]],\n\n        [[25.,  0.],\n         [ 5., 14.]],\n\n        [[25.,  0.],\n         [ 6., 14.]],\n\n        [[26.,  0.],\n         [ 6., 14.]],\n\n        [[26.,  0.],\n         [ 7., 14.]],\n\n        [[27.,  0.],\n         [ 7., 14.]],\n\n        [[28.,  0.],\n         [ 7., 14.]],\n\n        [[28.,  0.],\n         [ 7., 15.]],\n\n        [[29.,  0.],\n         [ 7., 15.]],\n\n        [[29.,  0.],\n         [ 7., 16.]],\n\n        [[30.,  0.],\n         [ 7., 16.]],\n\n        [[31.,  0.],\n         [ 7., 16.]],\n\n        [[31.,  0.],\n         [ 8., 16.]],\n\n        [[32.,  0.],\n         [ 8., 16.]],\n\n        [[33.,  0.],\n         [ 8., 16.]],\n\n        [[34.,  0.],\n         [ 8., 16.]],\n\n        [[35.,  0.],\n         [ 8., 16.]],\n\n        [[36.,  0.],\n         [ 8., 16.]],\n\n        [[37.,  0.],\n         [ 8., 16.]],\n\n        [[38.,  0.],\n         [ 8., 16.]],\n\n        [[39.,  0.],\n         [ 8., 16.]],\n\n        [[40.,  0.],\n         [ 8., 16.]],\n\n        [[40.,  0.],\n         [ 8., 17.]],\n\n        [[41.,  0.],\n         [ 8., 17.]],\n\n        [[42.,  0.],\n         [ 8., 17.]],\n\n        [[42.,  0.],\n         [ 9., 17.]],\n\n        [[43.,  0.],\n         [ 9., 17.]],\n\n        [[44.,  0.],\n         [ 9., 17.]],\n\n        [[44.,  0.],\n         [ 9., 18.]],\n\n        [[44.,  0.],\n         [10., 18.]],\n\n        [[45.,  0.],\n         [10., 18.]],\n\n        [[46.,  0.],\n         [10., 18.]],\n\n        [[47.,  0.],\n         [10., 18.]],\n\n        [[48.,  0.],\n         [10., 18.]],\n\n        [[48.,  0.],\n         [11., 18.]],\n\n        [[49.,  0.],\n         [11., 18.]],\n\n        [[50.,  0.],\n         [11., 18.]],\n\n        [[50.,  0.],\n         [11., 19.]],\n\n        [[51.,  0.],\n         [11., 19.]],\n\n        [[52.,  0.],\n         [11., 19.]],\n\n        [[52.,  0.],\n         [12., 19.]],\n\n        [[53.,  0.],\n         [12., 19.]],\n\n        [[53.,  0.],\n         [12., 20.]],\n\n        [[54.,  0.],\n         [12., 20.]],\n\n        [[55.,  0.],\n         [12., 20.]],\n\n        [[56.,  0.],\n         [12., 20.]],\n\n        [[57.,  0.],\n         [12., 20.]],\n\n        [[57.,  0.],\n         [13., 20.]],\n\n        [[58.,  0.],\n         [13., 20.]],\n\n        [[58.,  0.],\n         [13., 21.]],\n\n        [[59.,  0.],\n         [13., 21.]],\n\n        [[60.,  0.],\n         [13., 21.]],\n\n        [[61.,  0.],\n         [13., 21.]],\n\n        [[61.,  0.],\n         [14., 21.]],\n\n        [[62.,  0.],\n         [14., 21.]],\n\n        [[63.,  0.],\n         [14., 21.]],\n\n        [[64.,  0.],\n         [14., 21.]],\n\n        [[64.,  0.],\n         [14., 22.]],\n\n        [[65.,  0.],\n         [14., 22.]],\n\n        [[66.,  0.],\n         [14., 22.]],\n\n        [[67.,  0.],\n         [14., 22.]],\n\n        [[68.,  0.],\n         [14., 22.]],\n\n        [[69.,  0.],\n         [14., 22.]],\n\n        [[69.,  0.],\n         [15., 22.]],\n\n        [[70.,  0.],\n         [15., 22.]],\n\n        [[70.,  0.],\n         [15., 23.]],\n\n        [[71.,  0.],\n         [15., 23.]],\n\n        [[72.,  0.],\n         [15., 23.]],\n\n        [[73.,  0.],\n         [15., 23.]],\n\n        [[74.,  0.],\n         [15., 23.]],\n\n        [[74.,  0.],\n         [15., 24.]],\n\n        [[74.,  0.],\n         [16., 24.]],\n\n        [[75.,  0.],\n         [16., 24.]],\n\n        [[76.,  0.],\n         [16., 24.]],\n\n        [[76.,  0.],\n         [17., 24.]],\n\n        [[77.,  0.],\n         [17., 24.]],\n\n        [[78.,  0.],\n         [17., 24.]],\n\n        [[79.,  0.],\n         [17., 24.]],\n\n        [[79.,  0.],\n         [18., 24.]],\n\n        [[79.,  0.],\n         [18., 25.]],\n\n        [[80.,  0.],\n         [18., 25.]],\n\n        [[81.,  0.],\n         [18., 25.]],\n\n        [[82.,  0.],\n         [18., 25.]],\n\n        [[83.,  0.],\n         [18., 25.]],\n\n        [[83.,  0.],\n         [18., 26.]],\n\n        [[84.,  0.],\n         [18., 26.]],\n\n        [[85.,  0.],\n         [18., 26.]],\n\n        [[85.,  0.],\n         [18., 27.]],\n\n        [[86.,  0.],\n         [18., 27.]],\n\n        [[87.,  0.],\n         [18., 27.]],\n\n        [[88.,  0.],\n         [18., 27.]],\n\n        [[89.,  0.],\n         [18., 27.]],\n\n        [[89.,  0.],\n         [18., 28.]],\n\n        [[90.,  0.],\n         [18., 28.]],\n\n        [[91.,  0.],\n         [18., 28.]],\n\n        [[91.,  0.],\n         [19., 28.]],\n\n        [[92.,  0.],\n         [19., 28.]],\n\n        [[93.,  0.],\n         [19., 28.]],\n\n        [[94.,  0.],\n         [19., 28.]],\n\n        [[95.,  0.],\n         [19., 28.]],\n\n        [[96.,  0.],\n         [19., 28.]],\n\n        [[96.,  0.],\n         [20., 28.]]])"
     },
     "execution_count": 9,
     "metadata": {},
     "output_type": "execute_result"
    }
   ],
   "source": [
    "counter = counter.reshape((len(data_all), 2, 2))\n",
    "counter"
   ],
   "metadata": {
    "collapsed": false
   }
  },
  {
   "cell_type": "code",
   "execution_count": 10,
   "outputs": [
    {
     "name": "stdout",
     "output_type": "stream",
     "text": [
      "observation:  [1 1]\n",
      "probabilities:  [[0.51642144 0.48357844]\n",
      " [0.32457966 0.6754207 ]]\n",
      "observation:  [0 0]\n",
      "probabilities:  [[0.6729735  0.32702678]\n",
      " [0.32506058 0.67493945]]\n",
      "observation:  [0 0]\n",
      "probabilities:  [[0.7431099  0.25689012]\n",
      " [0.322599   0.67740107]]\n",
      "observation:  [1 1]\n",
      "probabilities:  [[0.7372084  0.26279148]\n",
      " [0.26225013 0.7377501 ]]\n",
      "observation:  [0 0]\n",
      "probabilities:  [[0.7999909  0.20000905]\n",
      " [0.2730125  0.7269871 ]]\n",
      "observation:  [1 1]\n",
      "probabilities:  [[0.7859121  0.2140879 ]\n",
      " [0.20459197 0.79540795]]\n",
      "observation:  [1 1]\n",
      "probabilities:  [[0.8001468  0.19985338]\n",
      " [0.16650237 0.83349764]]\n",
      "observation:  [0 0]\n",
      "probabilities:  [[0.8398203  0.16017935]\n",
      " [0.16020943 0.83979064]]\n",
      "observation:  [1 0]\n",
      "probabilities:  [[0.83040905 0.16959079]\n",
      " [0.2726035  0.7273967 ]]\n",
      "observation:  [1 1]\n",
      "probabilities:  [[0.836752   0.16324833]\n",
      " [0.28405067 0.7159494 ]]\n",
      "observation:  [0 0]\n",
      "probabilities:  [[0.8572988  0.14270076]\n",
      " [0.26824936 0.7317506 ]]\n",
      "observation:  [0 0]\n",
      "probabilities:  [[0.88321227 0.11678767]\n",
      " [0.25524303 0.744757  ]]\n",
      "observation:  [0 0]\n",
      "probabilities:  [[0.88496345 0.11503651]\n",
      " [0.23885615 0.76114386]]\n",
      "observation:  [0 0]\n",
      "probabilities:  [[0.9077008  0.0922991 ]\n",
      " [0.25446028 0.74553955]]\n",
      "observation:  [1 1]\n",
      "probabilities:  [[0.9030064  0.09699364]\n",
      " [0.21609735 0.78390265]]\n",
      "observation:  [1 0]\n",
      "probabilities:  [[0.9027177  0.09728274]\n",
      " [0.29047304 0.70952725]]\n",
      "observation:  [0 0]\n",
      "probabilities:  [[0.9042453  0.09575431]\n",
      " [0.29678228 0.70321757]]\n",
      "observation:  [1 1]\n",
      "probabilities:  [[0.8996571  0.10034312]\n",
      " [0.29532668 0.70467305]]\n",
      "observation:  [1 1]\n",
      "probabilities:  [[0.9048115  0.09518822]\n",
      " [0.24558136 0.7544189 ]]\n",
      "observation:  [0 0]\n",
      "probabilities:  [[0.9102891  0.08971079]\n",
      " [0.261826   0.73817384]]\n",
      "observation:  [1 0]\n",
      "probabilities:  [[0.9158069  0.08419318]\n",
      " [0.32419887 0.67580134]]\n",
      "observation:  [0 0]\n",
      "probabilities:  [[0.9256305  0.07436945]\n",
      " [0.31037763 0.68962216]]\n",
      "observation:  [1 1]\n",
      "probabilities:  [[0.92277396 0.07722656]\n",
      " [0.27212003 0.72788   ]]\n",
      "observation:  [0 0]\n",
      "probabilities:  [[0.9274384  0.07256157]\n",
      " [0.28145522 0.7185448 ]]\n",
      "observation:  [1 0]\n",
      "probabilities:  [[0.92782634 0.07217389]\n",
      " [0.33675292 0.6632471 ]]\n",
      "observation:  [0 0]\n",
      "probabilities:  [[0.93197966 0.06802046]\n",
      " [0.33350947 0.66649044]]\n",
      "observation:  [1 1]\n",
      "probabilities:  [[0.932476   0.06752364]\n",
      " [0.3050412  0.694959  ]]\n",
      "observation:  [0 0]\n",
      "probabilities:  [[0.93495685 0.06504267]\n",
      " [0.31980947 0.6801905 ]]\n",
      "observation:  [1 1]\n",
      "probabilities:  [[0.94244415 0.05755582]\n",
      " [0.29028052 0.70971996]]\n",
      "observation:  [0 0]\n",
      "probabilities:  [[0.9418978  0.05810212]\n",
      " [0.2862761  0.7137238 ]]\n",
      "observation:  [1 1]\n",
      "probabilities:  [[0.94307494 0.05692497]\n",
      " [0.27038607 0.7296137 ]]\n",
      "observation:  [0 0]\n",
      "probabilities:  [[0.94334227 0.05665741]\n",
      " [0.27809155 0.72190833]]\n",
      "observation:  [0 0]\n",
      "probabilities:  [[0.9488773  0.05112247]\n",
      " [0.28262684 0.7173735 ]]\n",
      "observation:  [1 1]\n",
      "probabilities:  [[0.9501164  0.04988378]\n",
      " [0.25981408 0.7401859 ]]\n",
      "observation:  [0 0]\n",
      "probabilities:  [[0.94384104 0.05615912]\n",
      " [0.25308648 0.7469138 ]]\n",
      "observation:  [0 0]\n",
      "probabilities:  [[0.9463341  0.05366593]\n",
      " [0.25612468 0.7438754 ]]\n",
      "observation:  [1 0]\n",
      "probabilities:  [[0.9503766  0.04962368]\n",
      " [0.28553835 0.71446174]]\n",
      "observation:  [0 0]\n",
      "probabilities:  [[0.9515199  0.04848013]\n",
      " [0.2891204  0.71087956]]\n",
      "observation:  [0 0]\n",
      "probabilities:  [[0.9550581  0.04494213]\n",
      " [0.3143206  0.6856797 ]]\n",
      "observation:  [0 0]\n",
      "probabilities:  [[0.95851916 0.04148107]\n",
      " [0.27754268 0.72245735]]\n",
      "observation:  [0 0]\n",
      "probabilities:  [[0.9574605  0.04253899]\n",
      " [0.29966605 0.7003337 ]]\n",
      "observation:  [1 1]\n",
      "probabilities:  [[0.9609011  0.03909909]\n",
      " [0.2842212  0.7157789 ]]\n",
      "observation:  [0 0]\n",
      "probabilities:  [[0.9604377  0.03956213]\n",
      " [0.28620803 0.7137921 ]]\n",
      "observation:  [0 0]\n",
      "probabilities:  [[0.96176237 0.03823742]\n",
      " [0.2840985  0.71590155]]\n",
      "observation:  [1 0]\n",
      "probabilities:  [[0.96321756 0.03678248]\n",
      " [0.31355613 0.68644387]]\n",
      "observation:  [0 0]\n",
      "probabilities:  [[0.97030914 0.02969092]\n",
      " [0.30940068 0.69059914]]\n",
      "observation:  [1 0]\n",
      "probabilities:  [[0.96289295 0.0371071 ]\n",
      " [0.3402005  0.6597993 ]]\n",
      "observation:  [0 0]\n",
      "probabilities:  [[0.9644725  0.0355272 ]\n",
      " [0.34686807 0.65313214]]\n",
      "observation:  [0 0]\n",
      "probabilities:  [[0.96482545 0.0351745 ]\n",
      " [0.34758747 0.6524129 ]]\n",
      "observation:  [1 1]\n",
      "probabilities:  [[0.96592003 0.0340801 ]\n",
      " [0.33346477 0.66653514]]\n",
      "observation:  [0 0]\n",
      "probabilities:  [[0.9716152  0.02838456]\n",
      " [0.3226542  0.6773458 ]]\n",
      "observation:  [1 1]\n",
      "probabilities:  [[0.9718003  0.0282001 ]\n",
      " [0.33053753 0.6694622 ]]\n",
      "observation:  [0 0]\n",
      "probabilities:  [[0.97034585 0.02965427]\n",
      " [0.31074274 0.6892571 ]]\n",
      "observation:  [0 0]\n",
      "probabilities:  [[0.96675223 0.03324789]\n",
      " [0.31973583 0.68026453]]\n",
      "observation:  [1 0]\n",
      "probabilities:  [[0.97096527 0.0290345 ]\n",
      " [0.34365422 0.6563454 ]]\n",
      "observation:  [0 0]\n",
      "probabilities:  [[0.9724507  0.02754965]\n",
      " [0.32119033 0.6788094 ]]\n",
      "observation:  [0 0]\n",
      "probabilities:  [[0.9714086  0.02859145]\n",
      " [0.35436404 0.64563584]]\n",
      "observation:  [0 0]\n",
      "probabilities:  [[0.9696389  0.03036166]\n",
      " [0.34125793 0.6587422 ]]\n",
      "observation:  [0 0]\n",
      "probabilities:  [[0.9754421  0.02455826]\n",
      " [0.3470008  0.652999  ]]\n",
      "observation:  [0 0]\n",
      "probabilities:  [[0.97404695 0.02595291]\n",
      " [0.35662627 0.64337385]]\n",
      "observation:  [0 0]\n",
      "probabilities:  [[0.972434   0.02756579]\n",
      " [0.36185372 0.63814634]]\n",
      "observation:  [0 0]\n",
      "probabilities:  [[0.9751174  0.0248826 ]\n",
      " [0.34057868 0.6594213 ]]\n",
      "observation:  [0 0]\n",
      "probabilities:  [[0.9757077  0.02429272]\n",
      " [0.3414601  0.6585396 ]]\n",
      "observation:  [0 0]\n",
      "probabilities:  [[0.97570854 0.02429174]\n",
      " [0.34799916 0.6520007 ]]\n",
      "observation:  [1 1]\n",
      "probabilities:  [[0.974975   0.02502467]\n",
      " [0.33001697 0.6699829 ]]\n",
      "observation:  [0 0]\n",
      "probabilities:  [[0.97517234 0.02482796]\n",
      " [0.33259296 0.667407  ]]\n",
      "observation:  [0 0]\n",
      "probabilities:  [[0.97474927 0.0252511 ]\n",
      " [0.33033672 0.6696634 ]]\n",
      "observation:  [1 0]\n",
      "probabilities:  [[0.9791106  0.0208893 ]\n",
      " [0.35594308 0.64405715]]\n",
      "observation:  [0 0]\n",
      "probabilities:  [[0.9773182  0.02268165]\n",
      " [0.36170533 0.63829505]]\n",
      "observation:  [0 0]\n",
      "probabilities:  [[0.9780527  0.02194703]\n",
      " [0.3520654  0.6479345 ]]\n",
      "observation:  [1 1]\n",
      "probabilities:  [[0.97822905 0.0217706 ]\n",
      " [0.34136522 0.65863484]]\n",
      "observation:  [1 0]\n",
      "probabilities:  [[0.9805406  0.01945985]\n",
      " [0.35374478 0.646255  ]]\n",
      "observation:  [0 0]\n",
      "probabilities:  [[0.9818616  0.01813842]\n",
      " [0.3702434  0.62975675]]\n",
      "observation:  [0 0]\n",
      "probabilities:  [[0.9774305  0.02256956]\n",
      " [0.35125217 0.64874804]]\n",
      "observation:  [0 0]\n",
      "probabilities:  [[0.97939074 0.02060922]\n",
      " [0.3735009  0.62649894]]\n",
      "observation:  [0 0]\n",
      "probabilities:  [[0.97850126 0.0214992 ]\n",
      " [0.36829352 0.631707  ]]\n",
      "observation:  [1 0]\n",
      "probabilities:  [[0.980046   0.019954  ]\n",
      " [0.37795484 0.6220451 ]]\n",
      "observation:  [0 0]\n",
      "probabilities:  [[0.9801433  0.0198567 ]\n",
      " [0.39189523 0.60810494]]\n",
      "observation:  [0 0]\n",
      "probabilities:  [[0.9821466  0.01785329]\n",
      " [0.37469557 0.6253046 ]]\n",
      "observation:  [1 1]\n",
      "probabilities:  [[0.9820051  0.01799513]\n",
      " [0.36636293 0.633637  ]]\n",
      "observation:  [0 0]\n",
      "probabilities:  [[0.9821832  0.01781704]\n",
      " [0.37937883 0.62062126]]\n",
      "observation:  [0 0]\n",
      "probabilities:  [[0.9798005  0.02020003]\n",
      " [0.3842786  0.6157213 ]]\n",
      "observation:  [1 0]\n",
      "probabilities:  [[0.98188794 0.0181121 ]\n",
      " [0.38928118 0.6107188 ]]\n",
      "observation:  [0 0]\n",
      "probabilities:  [[0.9816622  0.01833771]\n",
      " [0.38258597 0.6174143 ]]\n",
      "observation:  [1 1]\n",
      "probabilities:  [[0.9820922  0.01790794]\n",
      " [0.38496217 0.61503774]]\n",
      "observation:  [0 0]\n",
      "probabilities:  [[0.98324585 0.01675434]\n",
      " [0.38095102 0.619049  ]]\n",
      "observation:  [0 0]\n",
      "probabilities:  [[0.9825755  0.01742478]\n",
      " [0.38063267 0.61936724]]\n",
      "observation:  [0 0]\n",
      "probabilities:  [[0.98230517 0.0176946 ]\n",
      " [0.38710022 0.61289984]]\n",
      "observation:  [0 0]\n",
      "probabilities:  [[0.9827969 0.0172031]\n",
      " [0.3811272 0.6188726]]\n",
      "observation:  [1 0]\n",
      "probabilities:  [[0.981889   0.01811044]\n",
      " [0.40094537 0.59905446]]\n",
      "observation:  [0 0]\n",
      "probabilities:  [[0.9827092  0.01729026]\n",
      " [0.39304835 0.6069515 ]]\n",
      "observation:  [1 1]\n",
      "probabilities:  [[0.9828065  0.01719282]\n",
      " [0.38874167 0.6112582 ]]\n",
      "observation:  [0 0]\n",
      "probabilities:  [[0.983485   0.01651504]\n",
      " [0.38064328 0.61935645]]\n",
      "observation:  [0 0]\n",
      "probabilities:  [[0.98523825 0.01476151]\n",
      " [0.38847274 0.61152744]]\n",
      "observation:  [0 0]\n",
      "probabilities:  [[0.985243   0.01475688]\n",
      " [0.3914123  0.6085876 ]]\n",
      "observation:  [1 0]\n",
      "probabilities:  [[0.9850979  0.01490207]\n",
      " [0.40910023 0.59089994]]\n",
      "observation:  [0 0]\n",
      "probabilities:  [[0.9848135  0.01518668]\n",
      " [0.41063163 0.5893687 ]]\n",
      "observation:  [0 0]\n",
      "probabilities:  [[0.98385    0.01615032]\n",
      " [0.40697783 0.59302247]]\n",
      "observation:  [0 0]\n",
      "probabilities:  [[0.9856406  0.01435912]\n",
      " [0.41195288 0.588047  ]]\n",
      "observation:  [1 1]\n",
      "probabilities:  [[0.98332304 0.01667678]\n",
      " [0.39438647 0.6056133 ]]\n",
      "observation:  [0 0]\n",
      "probabilities:  [[0.9840392  0.01596023]\n",
      " [0.38263196 0.6173681 ]]\n",
      "observation:  [0 0]\n",
      "probabilities:  [[0.98555565 0.01444413]\n",
      " [0.39486086 0.60513896]]\n",
      "observation:  [0 0]\n",
      "probabilities:  [[0.98732156 0.01267827]\n",
      " [0.3938444  0.6061556 ]]\n",
      "observation:  [0 0]\n",
      "probabilities:  [[0.9852426 0.0147575]\n",
      " [0.3957423 0.6042579]]\n",
      "observation:  [0 0]\n",
      "probabilities:  [[0.98674834 0.01325156]\n",
      " [0.39199525 0.60800433]]\n",
      "observation:  [1 0]\n",
      "probabilities:  [[0.9862726  0.01372727]\n",
      " [0.40580913 0.59419084]]\n",
      "observation:  [0 0]\n",
      "probabilities:  [[0.987438   0.01256193]\n",
      " [0.4057031  0.5942971 ]]\n",
      "observation:  [1 1]\n",
      "probabilities:  [[0.9859842  0.01401629]\n",
      " [0.40279058 0.59720904]]\n",
      "observation:  [0 0]\n",
      "probabilities:  [[0.9869391  0.01306111]\n",
      " [0.40373045 0.5962697 ]]\n",
      "observation:  [0 0]\n",
      "probabilities:  [[0.98664874 0.01335106]\n",
      " [0.3978009  0.6021988 ]]\n",
      "observation:  [0 0]\n",
      "probabilities:  [[0.98709065 0.01290943]\n",
      " [0.40223524 0.5977644 ]]\n",
      "observation:  [0 0]\n",
      "probabilities:  [[0.9866674  0.01333232]\n",
      " [0.40503392 0.594966  ]]\n",
      "observation:  [1 1]\n",
      "probabilities:  [[0.9878069  0.01219295]\n",
      " [0.38462892 0.615371  ]]\n",
      "observation:  [1 0]\n",
      "probabilities:  [[0.9861869  0.01381295]\n",
      " [0.39824447 0.60175574]]\n",
      "observation:  [0 0]\n",
      "probabilities:  [[0.9853347  0.01466537]\n",
      " [0.40619352 0.59380656]]\n",
      "observation:  [0 0]\n",
      "probabilities:  [[0.987253   0.01274689]\n",
      " [0.4031756  0.59682447]]\n",
      "observation:  [1 0]\n",
      "probabilities:  [[0.988584   0.01141618]\n",
      " [0.41236916 0.58763087]]\n",
      "observation:  [0 0]\n",
      "probabilities:  [[0.987514   0.01248619]\n",
      " [0.4312913  0.5687088 ]]\n",
      "observation:  [0 0]\n",
      "probabilities:  [[0.9871052  0.01289476]\n",
      " [0.4229186  0.5770813 ]]\n",
      "observation:  [0 0]\n",
      "probabilities:  [[0.9880646  0.01193556]\n",
      " [0.41281655 0.58718336]]\n",
      "observation:  [1 0]\n",
      "probabilities:  [[0.98897034 0.01102891]\n",
      " [0.4449382  0.55506194]]\n",
      "observation:  [1 1]\n",
      "probabilities:  [[0.98703194 0.01296814]\n",
      " [0.42946813 0.5705322 ]]\n",
      "observation:  [0 0]\n",
      "probabilities:  [[0.9889925  0.01100759]\n",
      " [0.41830269 0.58169734]]\n",
      "observation:  [0 0]\n",
      "probabilities:  [[0.9882444  0.01175569]\n",
      " [0.43242416 0.567576  ]]\n",
      "observation:  [0 0]\n",
      "probabilities:  [[0.9892739  0.01072572]\n",
      " [0.42355353 0.57644624]]\n",
      "observation:  [0 0]\n",
      "probabilities:  [[0.98699075 0.01300989]\n",
      " [0.42976978 0.5702302 ]]\n",
      "observation:  [1 1]\n",
      "probabilities:  [[0.9884652  0.01153458]\n",
      " [0.4186063  0.581394  ]]\n",
      "observation:  [0 0]\n",
      "probabilities:  [[0.9877113  0.0122889 ]\n",
      " [0.40723103 0.59276897]]\n",
      "observation:  [0 0]\n",
      "probabilities:  [[0.9881118  0.01188811]\n",
      " [0.41285616 0.5871441 ]]\n",
      "observation:  [1 1]\n",
      "probabilities:  [[0.9891434  0.01085658]\n",
      " [0.4002382  0.59976214]]\n",
      "observation:  [0 0]\n",
      "probabilities:  [[0.9890167  0.01098353]\n",
      " [0.40665752 0.59334236]]\n",
      "observation:  [0 0]\n",
      "probabilities:  [[0.98927844 0.01072157]\n",
      " [0.403967   0.5960331 ]]\n",
      "observation:  [0 0]\n",
      "probabilities:  [[0.98881716 0.01118272]\n",
      " [0.41743356 0.58256626]]\n"
     ]
    },
    {
     "ename": "KeyboardInterrupt",
     "evalue": "",
     "output_type": "error",
     "traceback": [
      "\u001B[0;31m---------------------------------------------------------------------------\u001B[0m",
      "\u001B[0;31mKeyboardInterrupt\u001B[0m                         Traceback (most recent call last)",
      "Cell \u001B[0;32mIn [10], line 6\u001B[0m\n\u001B[1;32m      4\u001B[0m all_means \u001B[38;5;241m=\u001B[39m []\n\u001B[1;32m      5\u001B[0m \u001B[38;5;28;01mfor\u001B[39;00m i \u001B[38;5;129;01min\u001B[39;00m \u001B[38;5;28mrange\u001B[39m(\u001B[38;5;28mlen\u001B[39m(counter)):\n\u001B[0;32m----> 6\u001B[0m     mcmc\u001B[38;5;241m.\u001B[39mrun(counter[i])\n\u001B[1;32m      7\u001B[0m     hmc_samples \u001B[38;5;241m=\u001B[39m {k: v\u001B[38;5;241m.\u001B[39mdetach()\u001B[38;5;241m.\u001B[39mcpu()\u001B[38;5;241m.\u001B[39mnumpy()\n\u001B[1;32m      8\u001B[0m                 \u001B[38;5;28;01mfor\u001B[39;00m k, v \u001B[38;5;129;01min\u001B[39;00m mcmc\u001B[38;5;241m.\u001B[39mget_samples()\u001B[38;5;241m.\u001B[39mitems()}\n\u001B[1;32m      9\u001B[0m     means \u001B[38;5;241m=\u001B[39m hmc_samples[\u001B[38;5;124m'\u001B[39m\u001B[38;5;124mprior\u001B[39m\u001B[38;5;124m'\u001B[39m]\u001B[38;5;241m.\u001B[39mmean(axis\u001B[38;5;241m=\u001B[39m\u001B[38;5;241m0\u001B[39m)\n",
      "File \u001B[0;32m~/PycharmProjects/pythonProject/venv/lib/python3.9/site-packages/pyro/poutine/messenger.py:12\u001B[0m, in \u001B[0;36m_context_wrap\u001B[0;34m(context, fn, *args, **kwargs)\u001B[0m\n\u001B[1;32m     10\u001B[0m \u001B[38;5;28;01mdef\u001B[39;00m \u001B[38;5;21m_context_wrap\u001B[39m(context, fn, \u001B[38;5;241m*\u001B[39margs, \u001B[38;5;241m*\u001B[39m\u001B[38;5;241m*\u001B[39mkwargs):\n\u001B[1;32m     11\u001B[0m     \u001B[38;5;28;01mwith\u001B[39;00m context:\n\u001B[0;32m---> 12\u001B[0m         \u001B[38;5;28;01mreturn\u001B[39;00m \u001B[43mfn\u001B[49m\u001B[43m(\u001B[49m\u001B[38;5;241;43m*\u001B[39;49m\u001B[43margs\u001B[49m\u001B[43m,\u001B[49m\u001B[43m \u001B[49m\u001B[38;5;241;43m*\u001B[39;49m\u001B[38;5;241;43m*\u001B[39;49m\u001B[43mkwargs\u001B[49m\u001B[43m)\u001B[49m\n",
      "File \u001B[0;32m~/PycharmProjects/pythonProject/venv/lib/python3.9/site-packages/pyro/infer/mcmc/api.py:563\u001B[0m, in \u001B[0;36mMCMC.run\u001B[0;34m(self, *args, **kwargs)\u001B[0m\n\u001B[1;32m    554\u001B[0m \u001B[38;5;28;01mwith\u001B[39;00m optional(\n\u001B[1;32m    555\u001B[0m     pyro\u001B[38;5;241m.\u001B[39mvalidation_enabled(\u001B[38;5;129;01mnot\u001B[39;00m \u001B[38;5;28mself\u001B[39m\u001B[38;5;241m.\u001B[39mdisable_validation),\n\u001B[1;32m    556\u001B[0m     \u001B[38;5;28mself\u001B[39m\u001B[38;5;241m.\u001B[39mdisable_validation \u001B[38;5;129;01mis\u001B[39;00m \u001B[38;5;129;01mnot\u001B[39;00m \u001B[38;5;28;01mNone\u001B[39;00m,\n\u001B[0;32m   (...)\u001B[0m\n\u001B[1;32m    560\u001B[0m     \u001B[38;5;66;03m# This also resolves \"RuntimeError: Cowardly refusing to serialize non-leaf tensor which\u001B[39;00m\n\u001B[1;32m    561\u001B[0m     \u001B[38;5;66;03m# requires_grad\", which happens with `jit_compile` under PyTorch 1.7\u001B[39;00m\n\u001B[1;32m    562\u001B[0m     args \u001B[38;5;241m=\u001B[39m [arg\u001B[38;5;241m.\u001B[39mdetach() \u001B[38;5;28;01mif\u001B[39;00m torch\u001B[38;5;241m.\u001B[39mis_tensor(arg) \u001B[38;5;28;01melse\u001B[39;00m arg \u001B[38;5;28;01mfor\u001B[39;00m arg \u001B[38;5;129;01min\u001B[39;00m args]\n\u001B[0;32m--> 563\u001B[0m     \u001B[38;5;28;01mfor\u001B[39;00m x, chain_id \u001B[38;5;129;01min\u001B[39;00m \u001B[38;5;28mself\u001B[39m\u001B[38;5;241m.\u001B[39msampler\u001B[38;5;241m.\u001B[39mrun(\u001B[38;5;241m*\u001B[39margs, \u001B[38;5;241m*\u001B[39m\u001B[38;5;241m*\u001B[39mkwargs):\n\u001B[1;32m    564\u001B[0m         \u001B[38;5;28;01mif\u001B[39;00m num_samples[chain_id] \u001B[38;5;241m==\u001B[39m \u001B[38;5;241m0\u001B[39m:\n\u001B[1;32m    565\u001B[0m             num_samples[chain_id] \u001B[38;5;241m+\u001B[39m\u001B[38;5;241m=\u001B[39m \u001B[38;5;241m1\u001B[39m\n",
      "File \u001B[0;32m~/PycharmProjects/pythonProject/venv/lib/python3.9/site-packages/pyro/infer/mcmc/api.py:223\u001B[0m, in \u001B[0;36m_UnarySampler.run\u001B[0;34m(self, *args, **kwargs)\u001B[0m\n\u001B[1;32m    221\u001B[0m logger \u001B[38;5;241m=\u001B[39m initialize_logger(logger, \u001B[38;5;124m\"\u001B[39m\u001B[38;5;124m\"\u001B[39m, progress_bar)\n\u001B[1;32m    222\u001B[0m hook_w_logging \u001B[38;5;241m=\u001B[39m _add_logging_hook(logger, progress_bar, \u001B[38;5;28mself\u001B[39m\u001B[38;5;241m.\u001B[39mhook)\n\u001B[0;32m--> 223\u001B[0m \u001B[38;5;28;01mfor\u001B[39;00m sample \u001B[38;5;129;01min\u001B[39;00m _gen_samples(\n\u001B[1;32m    224\u001B[0m     \u001B[38;5;28mself\u001B[39m\u001B[38;5;241m.\u001B[39mkernel,\n\u001B[1;32m    225\u001B[0m     \u001B[38;5;28mself\u001B[39m\u001B[38;5;241m.\u001B[39mwarmup_steps,\n\u001B[1;32m    226\u001B[0m     \u001B[38;5;28mself\u001B[39m\u001B[38;5;241m.\u001B[39mnum_samples,\n\u001B[1;32m    227\u001B[0m     hook_w_logging,\n\u001B[1;32m    228\u001B[0m     i \u001B[38;5;28;01mif\u001B[39;00m \u001B[38;5;28mself\u001B[39m\u001B[38;5;241m.\u001B[39mnum_chains \u001B[38;5;241m>\u001B[39m \u001B[38;5;241m1\u001B[39m \u001B[38;5;28;01melse\u001B[39;00m \u001B[38;5;28;01mNone\u001B[39;00m,\n\u001B[1;32m    229\u001B[0m     \u001B[38;5;241m*\u001B[39margs,\n\u001B[1;32m    230\u001B[0m     \u001B[38;5;241m*\u001B[39m\u001B[38;5;241m*\u001B[39mkwargs\n\u001B[1;32m    231\u001B[0m ):\n\u001B[1;32m    232\u001B[0m     \u001B[38;5;28;01myield\u001B[39;00m sample, i  \u001B[38;5;66;03m# sample, chain_id\u001B[39;00m\n\u001B[1;32m    233\u001B[0m \u001B[38;5;28mself\u001B[39m\u001B[38;5;241m.\u001B[39mkernel\u001B[38;5;241m.\u001B[39mcleanup()\n",
      "File \u001B[0;32m~/PycharmProjects/pythonProject/venv/lib/python3.9/site-packages/pyro/infer/mcmc/api.py:158\u001B[0m, in \u001B[0;36m_gen_samples\u001B[0;34m(kernel, warmup_steps, num_samples, hook, chain_id, *args, **kwargs)\u001B[0m\n\u001B[1;32m    151\u001B[0m     hook(\n\u001B[1;32m    152\u001B[0m         kernel,\n\u001B[1;32m    153\u001B[0m         params,\n\u001B[1;32m    154\u001B[0m         \u001B[38;5;124m\"\u001B[39m\u001B[38;5;124mWarmup [\u001B[39m\u001B[38;5;132;01m{}\u001B[39;00m\u001B[38;5;124m]\u001B[39m\u001B[38;5;124m\"\u001B[39m\u001B[38;5;241m.\u001B[39mformat(chain_id) \u001B[38;5;28;01mif\u001B[39;00m chain_id \u001B[38;5;129;01mis\u001B[39;00m \u001B[38;5;129;01mnot\u001B[39;00m \u001B[38;5;28;01mNone\u001B[39;00m \u001B[38;5;28;01melse\u001B[39;00m \u001B[38;5;124m\"\u001B[39m\u001B[38;5;124mWarmup\u001B[39m\u001B[38;5;124m\"\u001B[39m,\n\u001B[1;32m    155\u001B[0m         i,\n\u001B[1;32m    156\u001B[0m     )\n\u001B[1;32m    157\u001B[0m \u001B[38;5;28;01mfor\u001B[39;00m i \u001B[38;5;129;01min\u001B[39;00m \u001B[38;5;28mrange\u001B[39m(num_samples):\n\u001B[0;32m--> 158\u001B[0m     params \u001B[38;5;241m=\u001B[39m \u001B[43mkernel\u001B[49m\u001B[38;5;241;43m.\u001B[39;49m\u001B[43msample\u001B[49m\u001B[43m(\u001B[49m\u001B[43mparams\u001B[49m\u001B[43m)\u001B[49m\n\u001B[1;32m    159\u001B[0m     hook(\n\u001B[1;32m    160\u001B[0m         kernel,\n\u001B[1;32m    161\u001B[0m         params,\n\u001B[1;32m    162\u001B[0m         \u001B[38;5;124m\"\u001B[39m\u001B[38;5;124mSample [\u001B[39m\u001B[38;5;132;01m{}\u001B[39;00m\u001B[38;5;124m]\u001B[39m\u001B[38;5;124m\"\u001B[39m\u001B[38;5;241m.\u001B[39mformat(chain_id) \u001B[38;5;28;01mif\u001B[39;00m chain_id \u001B[38;5;129;01mis\u001B[39;00m \u001B[38;5;129;01mnot\u001B[39;00m \u001B[38;5;28;01mNone\u001B[39;00m \u001B[38;5;28;01melse\u001B[39;00m \u001B[38;5;124m\"\u001B[39m\u001B[38;5;124mSample\u001B[39m\u001B[38;5;124m\"\u001B[39m,\n\u001B[1;32m    163\u001B[0m         i,\n\u001B[1;32m    164\u001B[0m     )\n\u001B[1;32m    165\u001B[0m     flat \u001B[38;5;241m=\u001B[39m [params[name]\u001B[38;5;241m.\u001B[39mreshape(\u001B[38;5;241m-\u001B[39m\u001B[38;5;241m1\u001B[39m) \u001B[38;5;28;01mfor\u001B[39;00m name \u001B[38;5;129;01min\u001B[39;00m save_params]\n",
      "File \u001B[0;32m~/PycharmProjects/pythonProject/venv/lib/python3.9/site-packages/pyro/infer/mcmc/nuts.py:452\u001B[0m, in \u001B[0;36mNUTS.sample\u001B[0;34m(self, params)\u001B[0m\n\u001B[1;32m    450\u001B[0m     z_right_grads \u001B[38;5;241m=\u001B[39m new_tree\u001B[38;5;241m.\u001B[39mz_right_grads\n\u001B[1;32m    451\u001B[0m \u001B[38;5;28;01melse\u001B[39;00m:  \u001B[38;5;66;03m# go the the left, start from the left leaf of current tree\u001B[39;00m\n\u001B[0;32m--> 452\u001B[0m     new_tree \u001B[38;5;241m=\u001B[39m \u001B[38;5;28;43mself\u001B[39;49m\u001B[38;5;241;43m.\u001B[39;49m\u001B[43m_build_tree\u001B[49m\u001B[43m(\u001B[49m\n\u001B[1;32m    453\u001B[0m \u001B[43m        \u001B[49m\u001B[43mz_left\u001B[49m\u001B[43m,\u001B[49m\n\u001B[1;32m    454\u001B[0m \u001B[43m        \u001B[49m\u001B[43mr_left\u001B[49m\u001B[43m,\u001B[49m\n\u001B[1;32m    455\u001B[0m \u001B[43m        \u001B[49m\u001B[43mz_left_grads\u001B[49m\u001B[43m,\u001B[49m\n\u001B[1;32m    456\u001B[0m \u001B[43m        \u001B[49m\u001B[43mlog_slice\u001B[49m\u001B[43m,\u001B[49m\n\u001B[1;32m    457\u001B[0m \u001B[43m        \u001B[49m\u001B[43mdirection\u001B[49m\u001B[43m,\u001B[49m\n\u001B[1;32m    458\u001B[0m \u001B[43m        \u001B[49m\u001B[43mtree_depth\u001B[49m\u001B[43m,\u001B[49m\n\u001B[1;32m    459\u001B[0m \u001B[43m        \u001B[49m\u001B[43menergy_current\u001B[49m\u001B[43m,\u001B[49m\n\u001B[1;32m    460\u001B[0m \u001B[43m    \u001B[49m\u001B[43m)\u001B[49m\n\u001B[1;32m    461\u001B[0m     z_left \u001B[38;5;241m=\u001B[39m new_tree\u001B[38;5;241m.\u001B[39mz_left\n\u001B[1;32m    462\u001B[0m     r_left \u001B[38;5;241m=\u001B[39m new_tree\u001B[38;5;241m.\u001B[39mr_left\n",
      "File \u001B[0;32m~/PycharmProjects/pythonProject/venv/lib/python3.9/site-packages/pyro/infer/mcmc/nuts.py:281\u001B[0m, in \u001B[0;36mNUTS._build_tree\u001B[0;34m(self, z, r, z_grads, log_slice, direction, tree_depth, energy_current)\u001B[0m\n\u001B[1;32m    279\u001B[0m     r \u001B[38;5;241m=\u001B[39m half_tree\u001B[38;5;241m.\u001B[39mr_left\n\u001B[1;32m    280\u001B[0m     z_grads \u001B[38;5;241m=\u001B[39m half_tree\u001B[38;5;241m.\u001B[39mz_left_grads\n\u001B[0;32m--> 281\u001B[0m other_half_tree \u001B[38;5;241m=\u001B[39m \u001B[38;5;28;43mself\u001B[39;49m\u001B[38;5;241;43m.\u001B[39;49m\u001B[43m_build_tree\u001B[49m\u001B[43m(\u001B[49m\n\u001B[1;32m    282\u001B[0m \u001B[43m    \u001B[49m\u001B[43mz\u001B[49m\u001B[43m,\u001B[49m\u001B[43m \u001B[49m\u001B[43mr\u001B[49m\u001B[43m,\u001B[49m\u001B[43m \u001B[49m\u001B[43mz_grads\u001B[49m\u001B[43m,\u001B[49m\u001B[43m \u001B[49m\u001B[43mlog_slice\u001B[49m\u001B[43m,\u001B[49m\u001B[43m \u001B[49m\u001B[43mdirection\u001B[49m\u001B[43m,\u001B[49m\u001B[43m \u001B[49m\u001B[43mtree_depth\u001B[49m\u001B[43m \u001B[49m\u001B[38;5;241;43m-\u001B[39;49m\u001B[43m \u001B[49m\u001B[38;5;241;43m1\u001B[39;49m\u001B[43m,\u001B[49m\u001B[43m \u001B[49m\u001B[43menergy_current\u001B[49m\n\u001B[1;32m    283\u001B[0m \u001B[43m\u001B[49m\u001B[43m)\u001B[49m\n\u001B[1;32m    285\u001B[0m \u001B[38;5;28;01mif\u001B[39;00m \u001B[38;5;28mself\u001B[39m\u001B[38;5;241m.\u001B[39muse_multinomial_sampling:\n\u001B[1;32m    286\u001B[0m     tree_weight \u001B[38;5;241m=\u001B[39m _logaddexp(half_tree\u001B[38;5;241m.\u001B[39mweight, other_half_tree\u001B[38;5;241m.\u001B[39mweight)\n",
      "File \u001B[0;32m~/PycharmProjects/pythonProject/venv/lib/python3.9/site-packages/pyro/infer/mcmc/nuts.py:259\u001B[0m, in \u001B[0;36mNUTS._build_tree\u001B[0;34m(self, z, r, z_grads, log_slice, direction, tree_depth, energy_current)\u001B[0m\n\u001B[1;32m    254\u001B[0m     \u001B[38;5;28;01mreturn\u001B[39;00m \u001B[38;5;28mself\u001B[39m\u001B[38;5;241m.\u001B[39m_build_basetree(\n\u001B[1;32m    255\u001B[0m         z, r, z_grads, log_slice, direction, energy_current\n\u001B[1;32m    256\u001B[0m     )\n\u001B[1;32m    258\u001B[0m \u001B[38;5;66;03m# build the first half of tree\u001B[39;00m\n\u001B[0;32m--> 259\u001B[0m half_tree \u001B[38;5;241m=\u001B[39m \u001B[38;5;28;43mself\u001B[39;49m\u001B[38;5;241;43m.\u001B[39;49m\u001B[43m_build_tree\u001B[49m\u001B[43m(\u001B[49m\n\u001B[1;32m    260\u001B[0m \u001B[43m    \u001B[49m\u001B[43mz\u001B[49m\u001B[43m,\u001B[49m\u001B[43m \u001B[49m\u001B[43mr\u001B[49m\u001B[43m,\u001B[49m\u001B[43m \u001B[49m\u001B[43mz_grads\u001B[49m\u001B[43m,\u001B[49m\u001B[43m \u001B[49m\u001B[43mlog_slice\u001B[49m\u001B[43m,\u001B[49m\u001B[43m \u001B[49m\u001B[43mdirection\u001B[49m\u001B[43m,\u001B[49m\u001B[43m \u001B[49m\u001B[43mtree_depth\u001B[49m\u001B[43m \u001B[49m\u001B[38;5;241;43m-\u001B[39;49m\u001B[43m \u001B[49m\u001B[38;5;241;43m1\u001B[39;49m\u001B[43m,\u001B[49m\u001B[43m \u001B[49m\u001B[43menergy_current\u001B[49m\n\u001B[1;32m    261\u001B[0m \u001B[43m\u001B[49m\u001B[43m)\u001B[49m\n\u001B[1;32m    262\u001B[0m z_proposal \u001B[38;5;241m=\u001B[39m half_tree\u001B[38;5;241m.\u001B[39mz_proposal\n\u001B[1;32m    263\u001B[0m z_proposal_pe \u001B[38;5;241m=\u001B[39m half_tree\u001B[38;5;241m.\u001B[39mz_proposal_pe\n",
      "File \u001B[0;32m~/PycharmProjects/pythonProject/venv/lib/python3.9/site-packages/pyro/infer/mcmc/nuts.py:254\u001B[0m, in \u001B[0;36mNUTS._build_tree\u001B[0;34m(self, z, r, z_grads, log_slice, direction, tree_depth, energy_current)\u001B[0m\n\u001B[1;32m    250\u001B[0m \u001B[38;5;28;01mdef\u001B[39;00m \u001B[38;5;21m_build_tree\u001B[39m(\n\u001B[1;32m    251\u001B[0m     \u001B[38;5;28mself\u001B[39m, z, r, z_grads, log_slice, direction, tree_depth, energy_current\n\u001B[1;32m    252\u001B[0m ):\n\u001B[1;32m    253\u001B[0m     \u001B[38;5;28;01mif\u001B[39;00m tree_depth \u001B[38;5;241m==\u001B[39m \u001B[38;5;241m0\u001B[39m:\n\u001B[0;32m--> 254\u001B[0m         \u001B[38;5;28;01mreturn\u001B[39;00m \u001B[38;5;28;43mself\u001B[39;49m\u001B[38;5;241;43m.\u001B[39;49m\u001B[43m_build_basetree\u001B[49m\u001B[43m(\u001B[49m\n\u001B[1;32m    255\u001B[0m \u001B[43m            \u001B[49m\u001B[43mz\u001B[49m\u001B[43m,\u001B[49m\u001B[43m \u001B[49m\u001B[43mr\u001B[49m\u001B[43m,\u001B[49m\u001B[43m \u001B[49m\u001B[43mz_grads\u001B[49m\u001B[43m,\u001B[49m\u001B[43m \u001B[49m\u001B[43mlog_slice\u001B[49m\u001B[43m,\u001B[49m\u001B[43m \u001B[49m\u001B[43mdirection\u001B[49m\u001B[43m,\u001B[49m\u001B[43m \u001B[49m\u001B[43menergy_current\u001B[49m\n\u001B[1;32m    256\u001B[0m \u001B[43m        \u001B[49m\u001B[43m)\u001B[49m\n\u001B[1;32m    258\u001B[0m     \u001B[38;5;66;03m# build the first half of tree\u001B[39;00m\n\u001B[1;32m    259\u001B[0m     half_tree \u001B[38;5;241m=\u001B[39m \u001B[38;5;28mself\u001B[39m\u001B[38;5;241m.\u001B[39m_build_tree(\n\u001B[1;32m    260\u001B[0m         z, r, z_grads, log_slice, direction, tree_depth \u001B[38;5;241m-\u001B[39m \u001B[38;5;241m1\u001B[39m, energy_current\n\u001B[1;32m    261\u001B[0m     )\n",
      "File \u001B[0;32m~/PycharmProjects/pythonProject/venv/lib/python3.9/site-packages/pyro/infer/mcmc/nuts.py:199\u001B[0m, in \u001B[0;36mNUTS._build_basetree\u001B[0;34m(self, z, r, z_grads, log_slice, direction, energy_current)\u001B[0m\n\u001B[1;32m    197\u001B[0m \u001B[38;5;28;01mdef\u001B[39;00m \u001B[38;5;21m_build_basetree\u001B[39m(\u001B[38;5;28mself\u001B[39m, z, r, z_grads, log_slice, direction, energy_current):\n\u001B[1;32m    198\u001B[0m     step_size \u001B[38;5;241m=\u001B[39m \u001B[38;5;28mself\u001B[39m\u001B[38;5;241m.\u001B[39mstep_size \u001B[38;5;28;01mif\u001B[39;00m direction \u001B[38;5;241m==\u001B[39m \u001B[38;5;241m1\u001B[39m \u001B[38;5;28;01melse\u001B[39;00m \u001B[38;5;241m-\u001B[39m\u001B[38;5;28mself\u001B[39m\u001B[38;5;241m.\u001B[39mstep_size\n\u001B[0;32m--> 199\u001B[0m     z_new, r_new, z_grads, potential_energy \u001B[38;5;241m=\u001B[39m \u001B[43mvelocity_verlet\u001B[49m\u001B[43m(\u001B[49m\n\u001B[1;32m    200\u001B[0m \u001B[43m        \u001B[49m\u001B[43mz\u001B[49m\u001B[43m,\u001B[49m\n\u001B[1;32m    201\u001B[0m \u001B[43m        \u001B[49m\u001B[43mr\u001B[49m\u001B[43m,\u001B[49m\n\u001B[1;32m    202\u001B[0m \u001B[43m        \u001B[49m\u001B[38;5;28;43mself\u001B[39;49m\u001B[38;5;241;43m.\u001B[39;49m\u001B[43mpotential_fn\u001B[49m\u001B[43m,\u001B[49m\n\u001B[1;32m    203\u001B[0m \u001B[43m        \u001B[49m\u001B[38;5;28;43mself\u001B[39;49m\u001B[38;5;241;43m.\u001B[39;49m\u001B[43mmass_matrix_adapter\u001B[49m\u001B[38;5;241;43m.\u001B[39;49m\u001B[43mkinetic_grad\u001B[49m\u001B[43m,\u001B[49m\n\u001B[1;32m    204\u001B[0m \u001B[43m        \u001B[49m\u001B[43mstep_size\u001B[49m\u001B[43m,\u001B[49m\n\u001B[1;32m    205\u001B[0m \u001B[43m        \u001B[49m\u001B[43mz_grads\u001B[49m\u001B[38;5;241;43m=\u001B[39;49m\u001B[43mz_grads\u001B[49m\u001B[43m,\u001B[49m\n\u001B[1;32m    206\u001B[0m \u001B[43m    \u001B[49m\u001B[43m)\u001B[49m\n\u001B[1;32m    207\u001B[0m     r_new_unscaled \u001B[38;5;241m=\u001B[39m \u001B[38;5;28mself\u001B[39m\u001B[38;5;241m.\u001B[39mmass_matrix_adapter\u001B[38;5;241m.\u001B[39munscale(r_new)\n\u001B[1;32m    208\u001B[0m     energy_new \u001B[38;5;241m=\u001B[39m potential_energy \u001B[38;5;241m+\u001B[39m \u001B[38;5;28mself\u001B[39m\u001B[38;5;241m.\u001B[39m_kinetic_energy(r_new_unscaled)\n",
      "File \u001B[0;32m~/PycharmProjects/pythonProject/venv/lib/python3.9/site-packages/pyro/ops/integrator.py:39\u001B[0m, in \u001B[0;36mvelocity_verlet\u001B[0;34m(z, r, potential_fn, kinetic_grad, step_size, num_steps, z_grads)\u001B[0m\n\u001B[1;32m     37\u001B[0m r_next \u001B[38;5;241m=\u001B[39m r\u001B[38;5;241m.\u001B[39mcopy()\n\u001B[1;32m     38\u001B[0m \u001B[38;5;28;01mfor\u001B[39;00m _ \u001B[38;5;129;01min\u001B[39;00m \u001B[38;5;28mrange\u001B[39m(num_steps):\n\u001B[0;32m---> 39\u001B[0m     z_next, r_next, z_grads, potential_energy \u001B[38;5;241m=\u001B[39m \u001B[43m_single_step_verlet\u001B[49m\u001B[43m(\u001B[49m\n\u001B[1;32m     40\u001B[0m \u001B[43m        \u001B[49m\u001B[43mz_next\u001B[49m\u001B[43m,\u001B[49m\u001B[43m \u001B[49m\u001B[43mr_next\u001B[49m\u001B[43m,\u001B[49m\u001B[43m \u001B[49m\u001B[43mpotential_fn\u001B[49m\u001B[43m,\u001B[49m\u001B[43m \u001B[49m\u001B[43mkinetic_grad\u001B[49m\u001B[43m,\u001B[49m\u001B[43m \u001B[49m\u001B[43mstep_size\u001B[49m\u001B[43m,\u001B[49m\u001B[43m \u001B[49m\u001B[43mz_grads\u001B[49m\n\u001B[1;32m     41\u001B[0m \u001B[43m    \u001B[49m\u001B[43m)\u001B[49m\n\u001B[1;32m     42\u001B[0m \u001B[38;5;28;01mreturn\u001B[39;00m z_next, r_next, z_grads, potential_energy\n",
      "File \u001B[0;32m~/PycharmProjects/pythonProject/venv/lib/python3.9/site-packages/pyro/ops/integrator.py:61\u001B[0m, in \u001B[0;36m_single_step_verlet\u001B[0;34m(z, r, potential_fn, kinetic_grad, step_size, z_grads)\u001B[0m\n\u001B[1;32m     58\u001B[0m \u001B[38;5;28;01mfor\u001B[39;00m site_name \u001B[38;5;129;01min\u001B[39;00m z:\n\u001B[1;32m     59\u001B[0m     z[site_name] \u001B[38;5;241m=\u001B[39m z[site_name] \u001B[38;5;241m+\u001B[39m step_size \u001B[38;5;241m*\u001B[39m r_grads[site_name]  \u001B[38;5;66;03m# z(n+1)\u001B[39;00m\n\u001B[0;32m---> 61\u001B[0m z_grads, potential_energy \u001B[38;5;241m=\u001B[39m \u001B[43mpotential_grad\u001B[49m\u001B[43m(\u001B[49m\u001B[43mpotential_fn\u001B[49m\u001B[43m,\u001B[49m\u001B[43m \u001B[49m\u001B[43mz\u001B[49m\u001B[43m)\u001B[49m\n\u001B[1;32m     62\u001B[0m \u001B[38;5;28;01mfor\u001B[39;00m site_name \u001B[38;5;129;01min\u001B[39;00m r:\n\u001B[1;32m     63\u001B[0m     r[site_name] \u001B[38;5;241m=\u001B[39m r[site_name] \u001B[38;5;241m+\u001B[39m \u001B[38;5;241m0.5\u001B[39m \u001B[38;5;241m*\u001B[39m step_size \u001B[38;5;241m*\u001B[39m (\u001B[38;5;241m-\u001B[39mz_grads[site_name])  \u001B[38;5;66;03m# r(n+1)\u001B[39;00m\n",
      "File \u001B[0;32m~/PycharmProjects/pythonProject/venv/lib/python3.9/site-packages/pyro/ops/integrator.py:91\u001B[0m, in \u001B[0;36mpotential_grad\u001B[0;34m(potential_fn, z)\u001B[0m\n\u001B[1;32m     89\u001B[0m     \u001B[38;5;28;01melse\u001B[39;00m:\n\u001B[1;32m     90\u001B[0m         \u001B[38;5;28;01mraise\u001B[39;00m e\n\u001B[0;32m---> 91\u001B[0m grads \u001B[38;5;241m=\u001B[39m \u001B[43mgrad\u001B[49m\u001B[43m(\u001B[49m\u001B[43mpotential_energy\u001B[49m\u001B[43m,\u001B[49m\u001B[43m \u001B[49m\u001B[43mz_nodes\u001B[49m\u001B[43m)\u001B[49m\n\u001B[1;32m     92\u001B[0m \u001B[38;5;28;01mfor\u001B[39;00m node \u001B[38;5;129;01min\u001B[39;00m z_nodes:\n\u001B[1;32m     93\u001B[0m     node\u001B[38;5;241m.\u001B[39mrequires_grad_(\u001B[38;5;28;01mFalse\u001B[39;00m)\n",
      "File \u001B[0;32m~/PycharmProjects/pythonProject/venv/lib/python3.9/site-packages/torch/autograd/__init__.py:300\u001B[0m, in \u001B[0;36mgrad\u001B[0;34m(outputs, inputs, grad_outputs, retain_graph, create_graph, only_inputs, allow_unused, is_grads_batched)\u001B[0m\n\u001B[1;32m    298\u001B[0m     \u001B[38;5;28;01mreturn\u001B[39;00m _vmap_internals\u001B[38;5;241m.\u001B[39m_vmap(vjp, \u001B[38;5;241m0\u001B[39m, \u001B[38;5;241m0\u001B[39m, allow_none_pass_through\u001B[38;5;241m=\u001B[39m\u001B[38;5;28;01mTrue\u001B[39;00m)(grad_outputs_)\n\u001B[1;32m    299\u001B[0m \u001B[38;5;28;01melse\u001B[39;00m:\n\u001B[0;32m--> 300\u001B[0m     \u001B[38;5;28;01mreturn\u001B[39;00m \u001B[43mVariable\u001B[49m\u001B[38;5;241;43m.\u001B[39;49m\u001B[43m_execution_engine\u001B[49m\u001B[38;5;241;43m.\u001B[39;49m\u001B[43mrun_backward\u001B[49m\u001B[43m(\u001B[49m\u001B[43m  \u001B[49m\u001B[38;5;66;43;03m# Calls into the C++ engine to run the backward pass\u001B[39;49;00m\n\u001B[1;32m    301\u001B[0m \u001B[43m        \u001B[49m\u001B[43mt_outputs\u001B[49m\u001B[43m,\u001B[49m\u001B[43m \u001B[49m\u001B[43mgrad_outputs_\u001B[49m\u001B[43m,\u001B[49m\u001B[43m \u001B[49m\u001B[43mretain_graph\u001B[49m\u001B[43m,\u001B[49m\u001B[43m \u001B[49m\u001B[43mcreate_graph\u001B[49m\u001B[43m,\u001B[49m\u001B[43m \u001B[49m\u001B[43mt_inputs\u001B[49m\u001B[43m,\u001B[49m\n\u001B[1;32m    302\u001B[0m \u001B[43m        \u001B[49m\u001B[43mallow_unused\u001B[49m\u001B[43m,\u001B[49m\u001B[43m \u001B[49m\u001B[43maccumulate_grad\u001B[49m\u001B[38;5;241;43m=\u001B[39;49m\u001B[38;5;28;43;01mFalse\u001B[39;49;00m\u001B[43m)\u001B[49m\n",
      "\u001B[0;31mKeyboardInterrupt\u001B[0m: "
     ]
    }
   ],
   "source": [
    "nuts_kernel = NUTS(model)\n",
    "num_samples, warmup_steps = (300, 200)\n",
    "\n",
    "mcmc = MCMC(nuts_kernel, num_samples=num_samples, warmup_steps=warmup_steps, disable_progbar=True)\n",
    "all_means = []\n",
    "\n",
    "for i in range(len(counter)):\n",
    "    mcmc.run(counter[i])\n",
    "    hmc_samples = {k: v.detach().cpu().numpy()\n",
    "                for k, v in mcmc.get_samples().items()}\n",
    "    means = hmc_samples['prior'].mean(axis=0)\n",
    "    stds = hmc_samples['prior'].std(axis=0)\n",
    "    print('observation: ', data_all[i])\n",
    "    print('probabilities: ', means)\n",
    "    all_means.append(means)"
   ],
   "metadata": {
    "collapsed": false
   }
  },
  {
   "cell_type": "code",
   "execution_count": null,
   "outputs": [],
   "source": [
    "X = np.arange(16, 16+len(all_means))\n",
    "X_training = np.arange(16, 48)\n",
    "all_means = np.array(all_means)\n",
    "y = all_means[:, 1, 1]\n",
    "y_training = all_means[:32, 1, 1]"
   ],
   "metadata": {
    "collapsed": false
   }
  },
  {
   "cell_type": "code",
   "execution_count": null,
   "outputs": [],
   "source": [
    "list_ = []\n",
    "for index, i in enumerate(data_all):\n",
    "    if np.equal(i, np.array([1,1])).all():\n",
    "        list_.append(np.array([X[index], y[index]]))\n",
    "x_points, y_points = np.array(list_)[:,0], np.array(list_)[:,1]\n"
   ],
   "metadata": {
    "collapsed": false
   }
  },
  {
   "cell_type": "code",
   "execution_count": null,
   "outputs": [],
   "source": [
    "fig = plt.figure(figsize=(12,8))\n",
    "\n",
    "plt.plot(X, y, label='P(C=1|S=1)', color = 'black', alpha=0.8)\n",
    "plt.scatter(x_points, y_points, marker='*', color='red', linewidths=2, label='CS+ and shock')\n",
    "plt.ylabel('p')\n",
    "plt.xlabel('Trial')\n",
    "plt.legend()\n",
    "plt.axvline(x=48, linestyle='--')\n",
    "plt.axvline(x=16, linestyle='--')\n",
    "plt.show()"
   ],
   "metadata": {
    "collapsed": false
   }
  },
  {
   "cell_type": "code",
   "execution_count": null,
   "outputs": [],
   "source": [
    "array_csplus = []\n",
    "array_csminus = []\n",
    "for index, data in enumerate(data_all):\n",
    "    if data[0] == 1:\n",
    "        array_csplus.append([X[index], all_means[index,1,1]])\n",
    "    else:\n",
    "        array_csminus.append([X[index], all_means[index,0,1]])\n",
    "\n",
    "csplus_learning = []\n",
    "csminus_learning = []\n",
    "total_simulated = []\n",
    "for index_train, data_train in enumerate(learning_data):\n",
    "    if data_train[0] == 1:\n",
    "        csplus_learning.append([X_training[index_train], all_means[index_train,1,1]])\n",
    "        total_simulated.append(all_means[index_train,1,1])\n",
    "    else:\n",
    "        csminus_learning.append([X_training[index_train], all_means[index_train,0,1]])\n",
    "        total_simulated.append(all_means[index_train,0,1])\n",
    "\n",
    "total_simulated = np.array(total_simulated)\n",
    "array_csplus = np.array(array_csplus)\n",
    "array_csminus = np.array(array_csminus)\n",
    "csplus_learning = np.array(csplus_learning)\n",
    "csminus_learning = np.array(csminus_learning)"
   ],
   "metadata": {
    "collapsed": false
   }
  },
  {
   "cell_type": "code",
   "execution_count": null,
   "outputs": [],
   "source": [
    "len(total_simulated)"
   ],
   "metadata": {
    "collapsed": false
   }
  },
  {
   "cell_type": "code",
   "execution_count": null,
   "outputs": [],
   "source": [
    "print(array_csminus[:,0], csminus_learning[:,0])"
   ],
   "metadata": {
    "collapsed": false
   }
  },
  {
   "cell_type": "code",
   "execution_count": null,
   "outputs": [],
   "source": [
    "df_ = df[['shock', 'rating', 'morphing level']]\n",
    "df_['shock'] = df_['shock'].astype(int)\n",
    "df_['morphing level'] = [int(d == 6) for d in df_['morphing level']]\n",
    "df_['rating'] = df_['rating'].replace([1, 2, 3, 4, 5], [0.2, 0.4, 0.6, 0.8, 1])"
   ],
   "metadata": {
    "collapsed": false
   }
  },
  {
   "cell_type": "code",
   "execution_count": null,
   "outputs": [],
   "source": [
    "df_new=df_[16:]\n",
    "df_learning = df_[16:48]\n",
    "df_learning"
   ],
   "metadata": {
    "collapsed": false
   }
  },
  {
   "cell_type": "code",
   "execution_count": null,
   "outputs": [],
   "source": [
    "df_learning"
   ],
   "metadata": {
    "collapsed": false
   }
  },
  {
   "cell_type": "code",
   "execution_count": null,
   "outputs": [],
   "source": [
    "y_plus_real = df_new.loc[df_new['morphing level']==1].rating.values\n",
    "x_plus_real = np.array(df_new.loc[df_new['morphing level']==1].index)\n",
    "y_minus_real = df_new.loc[df_new['morphing level']==0].rating.values\n",
    "x_minus_real = np.array(df_new.loc[df_new['morphing level']==0].index)\n",
    "y_real=df_new.rating.values\n",
    "\n",
    "y_plus_train = df_learning.loc[df_learning['morphing level']==1].rating.values\n",
    "x_plus_train = np.array(df_learning.loc[df_learning['morphing level']==1].index)\n",
    "y_minus_train = df_learning.loc[df_learning['morphing level']==0].rating.values\n",
    "x_minus_train = np.array(df_learning.loc[df_learning['morphing level']==0].index)\n",
    "y_train=df_learning.rating.values"
   ],
   "metadata": {
    "collapsed": false
   }
  },
  {
   "cell_type": "code",
   "execution_count": null,
   "outputs": [],
   "source": [
    "fig = plt.figure(figsize=(13,6))\n",
    "plt.scatter(x_plus_real, y_plus_real, color='blue', label='cs+ real')\n",
    "plt.scatter(x_minus_real, y_minus_real, color='red', label='non cs+ real')\n",
    "plt.scatter(array_csplus[:,0], array_csplus[:,1], color='darkblue', label='cs+ simulated')\n",
    "plt.scatter(array_csminus[:,0], array_csminus[:,1], color='darkred', label='cs- simulated')\n",
    "plt.legend(loc='right')\n",
    "plt.axvline(x=16, linestyle='--', color='green')\n",
    "plt.axvline(x=48, linestyle='--', color='green')\n",
    "plt.xlabel('Trial')\n",
    "plt.ylabel('P(condition | visual stimulus)')\n",
    "plt.show()"
   ],
   "metadata": {
    "collapsed": false
   }
  },
  {
   "cell_type": "code",
   "execution_count": null,
   "outputs": [],
   "source": [
    "print(len(y_minus_train), len(csminus_learning[:,1]))"
   ],
   "metadata": {
    "collapsed": false
   }
  },
  {
   "cell_type": "code",
   "execution_count": null,
   "outputs": [],
   "source": [
    "fig2 = plt.figure(figsize=(13,6))\n",
    "plt.scatter(x_plus_train, y_plus_train, color='blue', label='cs+ real')\n",
    "plt.scatter(x_minus_train, y_minus_train, color='red', label='non cs+ real')\n",
    "plt.scatter(csplus_learning[:,0], csplus_learning[:,1], color='darkblue', label='cs+ simulated')\n",
    "plt.scatter(csminus_learning[:,0], csminus_learning[:,1], color='darkred', label='cs- simulated')\n",
    "plt.legend(loc='right')\n",
    "plt.axvline(x=16, linestyle='--', color='green')\n",
    "plt.axvline(x=48, linestyle='--', color='green')\n",
    "plt.xlabel('Trial')\n",
    "plt.ylabel('P(condition | visual stimulus)')\n",
    "plt.show()\n",
    "plt.show()"
   ],
   "metadata": {
    "collapsed": false
   }
  },
  {
   "cell_type": "code",
   "execution_count": null,
   "outputs": [],
   "source": [
    "y_plus_train"
   ],
   "metadata": {
    "collapsed": false
   }
  },
  {
   "cell_type": "code",
   "execution_count": null,
   "outputs": [],
   "source": [
    "csplus_learning[:,1]"
   ],
   "metadata": {
    "collapsed": false
   }
  },
  {
   "cell_type": "code",
   "execution_count": null,
   "outputs": [],
   "source": [
    "np.corrcoef(y_plus_train, csplus_learning[:,1])"
   ],
   "metadata": {
    "collapsed": false
   }
  },
  {
   "cell_type": "code",
   "execution_count": null,
   "outputs": [],
   "source": [
    "np.corrcoef(y_minus_train, csminus_learning[:,1])"
   ],
   "metadata": {
    "collapsed": false
   }
  },
  {
   "cell_type": "code",
   "execution_count": null,
   "outputs": [],
   "source": [
    "np.corrcoef(y_train,total_simulated)"
   ],
   "metadata": {
    "collapsed": false
   }
  },
  {
   "cell_type": "code",
   "execution_count": null,
   "outputs": [],
   "source": [
    "total_simulated"
   ],
   "metadata": {
    "collapsed": false
   }
  },
  {
   "cell_type": "code",
   "execution_count": null,
   "outputs": [],
   "source": [],
   "metadata": {
    "collapsed": false
   }
  }
 ],
 "metadata": {
  "kernelspec": {
   "display_name": "Python 3",
   "language": "python",
   "name": "python3"
  },
  "language_info": {
   "codemirror_mode": {
    "name": "ipython",
    "version": 2
   },
   "file_extension": ".py",
   "mimetype": "text/x-python",
   "name": "python",
   "nbconvert_exporter": "python",
   "pygments_lexer": "ipython2",
   "version": "2.7.6"
  }
 },
 "nbformat": 4,
 "nbformat_minor": 0
}
