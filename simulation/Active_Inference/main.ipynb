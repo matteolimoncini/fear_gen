{
 "cells": [
  {
   "cell_type": "code",
   "execution_count": null,
   "outputs": [],
   "source": [
    "import matplotlib.pyplot as plt\n",
    "import os\n",
    "from pymdp import utils\n",
    "from pymdp.agent import Agent\n",
    "import numpy as np\n",
    "import pandas as pd\n",
    "from sklearn.metrics import cohen_kappa_score\n",
    "from sklearn.metrics import r2_score\n",
    "from fear_gen import extract_correct_csv\n",
    "from env import TrialEnv\n",
    "\n",
    "plt.rcParams['font.size'] = '10'"
   ],
   "metadata": {
    "collapsed": false
   }
  },
  {
   "cell_type": "code",
   "execution_count": null,
   "outputs": [],
   "source": [
    "trials = 144\n",
    "steps = 2  # number of timepoints per trial"
   ],
   "metadata": {
    "collapsed": false
   }
  },
  {
   "cell_type": "markdown",
   "source": [
    "STATES\n",
    "state if the img is cs+ or cs-"
   ],
   "metadata": {
    "collapsed": false
   }
  },
  {
   "cell_type": "code",
   "execution_count": null,
   "outputs": [],
   "source": [
    "context = ['cs+', 'cs-']\n",
    "choice = ['guess cs+','guess cs-']\n",
    "#error = ['low', 'high']"
   ],
   "metadata": {
    "collapsed": false
   }
  },
  {
   "cell_type": "markdown",
   "source": [
    "OBSERVATIONS"
   ],
   "metadata": {
    "collapsed": false
   }
  },
  {
   "cell_type": "markdown",
   "source": [
    "morphing level binary. shock only if morph_level=6"
   ],
   "metadata": {
    "collapsed": false
   }
  },
  {
   "cell_type": "code",
   "execution_count": null,
   "outputs": [],
   "source": [
    "morph_level_obs = ['0','1']\n",
    "# the subject receive the electric shock?\n",
    "shock_obs = ['shock','no_shock','null']\n",
    "# observation to discriminate if the subject is surprised or prepared. A sort of diff between user prediction and shock observation\n",
    "surprised_obs = ['not_surprised','surprised','null']"
   ],
   "metadata": {
    "collapsed": false
   }
  },
  {
   "cell_type": "markdown",
   "source": [
    "ACTIONS<br>\n",
    "the subject predict if should be receive the shock or not"
   ],
   "metadata": {
    "collapsed": false
   }
  },
  {
   "cell_type": "code",
   "execution_count": null,
   "outputs": [],
   "source": [
    "context_action = ['do_nothing']\n",
    "choice_action = ['guess cs+','guess cs-']"
   ],
   "metadata": {
    "collapsed": false
   }
  },
  {
   "cell_type": "markdown",
   "source": [
    "Define `num_states` and `num_factors` below"
   ],
   "metadata": {
    "collapsed": false
   }
  },
  {
   "cell_type": "code",
   "execution_count": null,
   "outputs": [],
   "source": [
    "num_states = [len(context), len(choice)] #[2,2]\n",
    "num_factors = len(num_states) #2"
   ],
   "metadata": {
    "collapsed": false
   }
  },
  {
   "cell_type": "markdown",
   "source": [
    "define `num_obs` and `num_modalities` below"
   ],
   "metadata": {
    "collapsed": false
   }
  },
  {
   "cell_type": "code",
   "execution_count": null,
   "outputs": [],
   "source": [
    "num_obs = [len(morph_level_obs), len(shock_obs), len(surprised_obs)] # [2,2,2]\n",
    "num_modalities = len(num_obs) #3"
   ],
   "metadata": {
    "collapsed": false
   }
  },
  {
   "cell_type": "code",
   "execution_count": null,
   "outputs": [],
   "source": [
    "def matrices():\n",
    "    \"\"\"\n",
    "    The A, B, C, D, E matrices are built.\n",
    "    \"\"\"\n",
    "    # This is the likelihood mapping that truly describes the relationship between the\n",
    "    # environment's hidden state and the observations the agent will get\n",
    "\n",
    "    # A matrix\n",
    "    # A dimension?\n",
    "    A = utils.obj_array(num_modalities)\n",
    "    A_morph = np.zeros((len(morph_level_obs), len(context), len(choice)))\n",
    "    A_shock = np.zeros((len(shock_obs), len(context), len(choice)))\n",
    "    A_surprise = np.zeros((len(surprised_obs), len(context), len(choice)))\n",
    "    for j in range(len(choice)):\n",
    "        # mor_lev_binary/states #cs+ #cs-\n",
    "        A_morph[:,:,j] = np.array([[0, 1],    #img or\n",
    "                                   [1, 0]])   #img minac\n",
    "        #shock-noshock/states\n",
    "        A_shock[:,:,j] = np.array([[0.75, 0],\n",
    "                                   [0.25, 1],\n",
    "                                   [0, 0]])\n",
    "        #surprise/states\n",
    "        A_surprise[:,j,j] = np.array([1,0,0])\n",
    "        A_surprise[:,j,int(not j)] = np.array([0, 1, 0])\n",
    "    A[0] = A_morph\n",
    "    A[1] = A_shock\n",
    "    A[2] = A_surprise\n",
    "\n",
    "    # B matrix\n",
    "    # The transition mapping that truly describes the environment's dynamics\n",
    "\n",
    "    #B as an identity matrix. no state transitions\n",
    "    B = utils.obj_array(num_factors)\n",
    "    B_context = np.zeros((len(context), len(context), len(context_action)))\n",
    "    B_context[:,:,0] = np.eye(len(context))\n",
    "    #B_context[:,:,2] = np.eye(len(context))\n",
    "    B_choice = np.zeros((len(choice), len(choice), len(choice_action)))\n",
    "    for choice_i in range(len(choice)):\n",
    "        B_choice[choice_i, :, choice_i] = 1.0\n",
    "    B[0]=B_context\n",
    "    B[1]=B_choice\n",
    "\n",
    "    # This is the matrix representing the preferences over outcomes\n",
    "    #prepared-surprised/cs+-\n",
    "    C = utils.obj_array_zeros(num_obs)          #num modalities\n",
    "    C[0] = np.zeros(2)\n",
    "    C[1] = np.zeros(3)\n",
    "    C[2] = np.array([2,-3,0])\n",
    "    return A, B, C"
   ],
   "metadata": {
    "collapsed": false
   }
  },
  {
   "cell_type": "markdown",
   "source": [
    "Loading real data\n"
   ],
   "metadata": {
    "collapsed": false
   }
  },
  {
   "cell_type": "code",
   "execution_count": null,
   "outputs": [],
   "source": [
    "def load_data(columns=[], binary_morphing_level=False, shock_as_int = False,subject_number=0,remove_first_trials=None,remove_last_trials=None):\n",
    "    '''\n",
    "    Function that read NewLookAtMe files and extract\n",
    "    :param columns:\n",
    "    :param binary_morphing_level:\n",
    "    :param shock_as_int:\n",
    "    :param subject_number:\n",
    "    :return:\n",
    "    '''\n",
    "\n",
    "    df = pd.read_csv('../data/newLookAtMe/newLookAtMe01.csv')\n",
    "    df = df.filter(columns)\n",
    "\n",
    "    if 'morphing level' in columns and binary_morphing_level:\n",
    "        df['morphing level'] = [int(d==6) for d in df['morphing level']]\n",
    "    if 'shock' in columns and shock_as_int:\n",
    "        df['shock'] = df['shock'].astype(int)\n",
    "    if remove_first_trials is not None:\n",
    "        df = df[remove_first_trials:]\n",
    "        df.reset_index(drop=True,inplace=True)\n",
    "    return df"
   ],
   "metadata": {
    "collapsed": false
   }
  },
  {
   "cell_type": "code",
   "execution_count": null,
   "outputs": [],
   "source": [
    "data= load_data(columns=['morphing level','shock','rating'] ,binary_morphing_level=True, shock_as_int = True,remove_first_trials=16)"
   ],
   "metadata": {
    "collapsed": false,
    "pycharm": {
     "is_executing": true
    }
   }
  },
  {
   "cell_type": "code",
   "execution_count": null,
   "outputs": [],
   "source": [
    "rating_subj = data['rating']\n",
    "data = data.drop(columns='rating')"
   ],
   "metadata": {
    "collapsed": false
   }
  },
  {
   "cell_type": "markdown",
   "source": [
    "Simulated data generation"
   ],
   "metadata": {
    "collapsed": false
   }
  },
  {
   "cell_type": "code",
   "execution_count": null,
   "outputs": [],
   "source": [
    "morphing_levels = [0] * 10 + [1] * 10 + [0] * 10 + [1] * 10 + [0] * 10 + [1] * 10 + [0] * 10 + [1] * 10 + [0] * 10 + [1] * 10\n",
    "shocks = [0] * 10 + [1] * 10 + [0] * 10 + [1] * 10 + [0] * 10 + [1] * 10 + [0] * 10 + [1] * 10 + [0] * 10 + [1] * 10\n",
    "fake_data_4_75 = pd.DataFrame({'morphing level': morphing_levels, 'shock': shocks})\n",
    "\n",
    "# Select rows where both columns are equal to 1\n",
    "mask = (fake_data_4_75['morphing level'] == 1) & (fake_data_4_75['shock'] == 1)\n",
    "\n",
    "# Select % of those rows at random\n",
    "sampled_indices = np.random.choice(fake_data_4_75[mask].index, size=int(len(fake_data_4_75[mask]) * 0.5), replace=False)\n",
    "\n",
    "# Set the values in those rows to (1,0)\n",
    "fake_data_4_75.loc[sampled_indices, 'shock'] = 0\n"
   ],
   "metadata": {
    "collapsed": false
   }
  },
  {
   "cell_type": "code",
   "execution_count": null,
   "outputs": [],
   "source": [
    "morphing_levels = [0] * 50 + [1] * 50\n",
    "shocks = [0] * 50 + [1] * 50\n",
    "fake_data_half = pd.DataFrame({'morphing level': morphing_levels, 'shock': shocks})"
   ],
   "metadata": {
    "collapsed": false
   }
  },
  {
   "cell_type": "markdown",
   "source": [
    "Agent definition\n"
   ],
   "metadata": {
    "collapsed": false
   }
  },
  {
   "cell_type": "code",
   "execution_count": null,
   "outputs": [],
   "source": [
    "E = utils.obj_array(1)\n",
    "E[0] = np.array([.4,.2,.4])\n",
    "A,B,C = matrices()\n",
    "my_agent = Agent(A=A, B=B, C=C, gamma=0.5)\n",
    "qs0 = my_agent.qs\n",
    "# define an environment\n",
    "my_env = TrialEnv(data=data)\n",
    "list_qs = []\n",
    "list_action = []"
   ],
   "metadata": {
    "collapsed": false
   }
  },
  {
   "cell_type": "code",
   "execution_count": null,
   "outputs": [],
   "source": [
    "initial_action = 'first_action'"
   ],
   "metadata": {
    "collapsed": false
   }
  },
  {
   "cell_type": "markdown",
   "source": [
    "Step iteration on all trials"
   ],
   "metadata": {
    "collapsed": false
   }
  },
  {
   "cell_type": "code",
   "execution_count": null,
   "outputs": [],
   "source": [
    "list_action = []\n",
    "list_qs = []\n",
    "list_policies_low = []\n",
    "list_policies_high = []\n",
    "for trial in range(trials):\n",
    "\n",
    "    print(\"\\n-----TRIAL \" + str(trial) + \" ------\")\n",
    "\n",
    "    agent_stimul_obs, agent_shock_obs, agent_surpr_obs = 'null', 'null', 'null'\n",
    "    agent_stimul_obs = my_env.get_observation(param='morphing level', trial_number=trial)\n",
    "    print('observation (t=0): ', agent_stimul_obs, agent_shock_obs, agent_surpr_obs)\n",
    "    obs = [morph_level_obs.index(agent_stimul_obs), shock_obs.index(agent_shock_obs),\n",
    "            surprised_obs.index(agent_surpr_obs)]\n",
    "\n",
    "    qs = my_agent.infer_states(obs)  # agent update beliefs about hidden states given observations\n",
    "    print('beliefs over states (t=0):', qs[0]*100)\n",
    "    list_qs.append(qs[0])\n",
    "\n",
    "\n",
    "    policies = my_agent.infer_policies()  # inferring policies and sampling actions from the posterior\n",
    "    agent_action = my_agent.sample_action()\n",
    "\n",
    "    action_name = choice_action[int(agent_action[1])]\n",
    "\n",
    "    print('beliefs over actions: ', policies[0]*100)\n",
    "    list_policies_low.append(policies[0][0])\n",
    "    list_policies_high.append(policies[0][1])\n",
    "    print('action: ', action_name)\n",
    "    list_action.append(action_name)\n",
    "\n",
    "    agent_surpr_obs = my_env.step(action_name, trial)\n",
    "    agent_shock_obs = my_env.get_observation(param='shock', trial_number=trial)\n",
    "\n",
    "    print('observation (t=1): ', agent_stimul_obs, agent_shock_obs, agent_surpr_obs)\n",
    "\n",
    "    obs = [morph_level_obs.index(agent_stimul_obs), shock_obs.index(agent_shock_obs),\n",
    "           surprised_obs.index(agent_surpr_obs)]\n",
    "    qs = my_agent.infer_states(obs)  # agent update beliefs about hidden states given observations\n",
    "    print('beliefs over states (t=1):', qs[0] * 100)\n",
    "    #my_agent.reset()"
   ],
   "metadata": {
    "collapsed": false
   }
  },
  {
   "cell_type": "code",
   "execution_count": null,
   "outputs": [],
   "source": [
    "list_csplus=[]\n",
    "list_csminus=[]\n",
    "for index, value in enumerate(list_qs):\n",
    "    list_csplus.append(value[0])\n",
    "    list_csminus.append(value[1])\n",
    "    #print('trial:',(index),'',value[0], '  ',value[1])"
   ],
   "metadata": {
    "collapsed": false
   }
  },
  {
   "cell_type": "code",
   "execution_count": null,
   "outputs": [],
   "source": [
    "plt.figure(figsize=(15,6))\n",
    "plt.scatter(np.arange(len(list_policies_low)),list_policies_low)\n",
    "plt.title('CS- belief over all trials of the simulated agent')\n",
    "plt.show()"
   ],
   "metadata": {
    "collapsed": false
   }
  },
  {
   "cell_type": "code",
   "execution_count": null,
   "outputs": [],
   "source": [
    "plt.figure(figsize=(15,6))\n",
    "plt.scatter(np.arange(len(list_policies_high)),list_policies_high)\n",
    "plt.title('CS+ belief over all trials of the simulated agent')\n",
    "plt.show()"
   ],
   "metadata": {
    "collapsed": false
   }
  },
  {
   "cell_type": "code",
   "execution_count": null,
   "outputs": [],
   "source": [
    "y=[]\n",
    "for index, value in enumerate(list_action):\n",
    "    if value=='guess cs-':\n",
    "        y.append(0)\n",
    "    if value=='guess cs+':\n",
    "        y.append(1)\n"
   ],
   "metadata": {
    "collapsed": false
   }
  },
  {
   "cell_type": "code",
   "execution_count": null,
   "outputs": [],
   "source": [
    "data_for_plot = data"
   ],
   "metadata": {
    "collapsed": false
   }
  },
  {
   "cell_type": "code",
   "execution_count": null,
   "outputs": [],
   "source": [
    "fig = plt.figure(figsize=(20,8))\n",
    "plt.ylim(-1,6)\n",
    "plt.yticks(ticks=(0,1,2,3,4,5),labels=('predict cs-','predict cs+','noshock','shock','img orig','img minac'))\n",
    "plt.xlabel('trials')\n",
    "plt.scatter(np.arange(len(data_for_plot['morphing level'])),data_for_plot['morphing level']+4)\n",
    "plt.scatter(np.arange(len(data_for_plot['shock'])),data_for_plot['shock']+2,color='red')\n",
    "plt.scatter(np.arange(len(y)),y,color = 'green')\n",
    "plt.title('Experiment description')\n",
    "plt.show()"
   ],
   "metadata": {
    "collapsed": false
   }
  },
  {
   "cell_type": "code",
   "execution_count": null,
   "outputs": [],
   "source": [
    "data_for_plot = data"
   ],
   "metadata": {
    "collapsed": false
   }
  },
  {
   "cell_type": "code",
   "execution_count": null,
   "outputs": [],
   "source": [
    "plt.rcParams['axes.grid'] = False"
   ],
   "metadata": {
    "collapsed": false
   }
  },
  {
   "cell_type": "code",
   "execution_count": null,
   "outputs": [],
   "source": [
    "fig, ax = plt.subplots(3, figsize=(8,7), sharex=True)\n",
    "\n",
    "\n",
    "\n",
    "ax[0].set_title('Morphing level')\n",
    "ax[0].scatter(np.arange(len(data_for_plot['morphing level'])),data_for_plot['morphing level'], color='mediumblue', s=14)\n",
    "ax[0].set_yticks(np.arange(0, 2), ['CS-', 'CS+'])\n",
    "ax[0].axhline(y=0.5, color='gray', linewidth=0.2)\n",
    "ax[0].set_ylim([-0.5, 1.6])\n",
    "\n",
    "ax[1].set_title('Shock')\n",
    "ax[1].scatter(np.arange(len(data_for_plot['shock'])),data_for_plot['shock'],color='mediumblue', s=14)\n",
    "ax[1].set_yticks(np.arange(0, 2), ['No shock', 'Shock'])\n",
    "ax[1].axhline(y=0.5, color='gray', linewidth=0.2)\n",
    "ax[1].set_ylim([-0.5, 1.6])\n",
    "\n",
    "\n",
    "\n",
    "ax[2].set_title('Shock prediction')\n",
    "ax[2].scatter(np.arange(len(y)),y, color='mediumblue', s=14)\n",
    "ax[2].set_yticks(np.arange(0, 2), ['CS-', 'CS+'])\n",
    "ax[2].axhline(y=0.5, color='gray', linewidth=0.2)\n",
    "ax[2].set_ylim([-0.5, 1.6])\n",
    "\n",
    "plt.xlabel('Trials', fontsize='12')\n",
    "\n",
    "fig.tight_layout()\n",
    "plt.show()\n"
   ],
   "metadata": {
    "collapsed": false
   }
  },
  {
   "cell_type": "code",
   "execution_count": null,
   "outputs": [],
   "source": [
    "len(y)"
   ],
   "metadata": {
    "collapsed": false
   }
  },
  {
   "cell_type": "code",
   "execution_count": null,
   "outputs": [],
   "source": [
    "\n",
    "'''\n",
    "img4.set_title('Selected policies (post-trial)')\n",
    "img4.set(ylabel=r'$\\pi$')\n",
    "img4.set_ylim(max(y4), min(y4))\n",
    "for line in range(0, 12):\n",
    "    img4.axhline(y=line, color='gray', linewidth=0.2)\n",
    "img4.axvline(x=32, color='mediumaquamarine', label='context reversal', linestyle='dotted')\n",
    "img4.set_xticks(np.arange(0, 65, 4), [])  # set text labels\n",
    "img4.set_yticks(np.arange(0, 11, 1),\n",
    "                [r'$\\bigcirc\\bigcirc$', r'$\\bigcirc\\leftarrow$', r'$\\bigcirc\\rightarrow$', r'$\\bigcirc\\downarrow$',\n",
    "                 r'$\\leftarrow\\leftarrow$', r'$\\rightarrow\\rightarrow$', r'$\\downarrow\\bigcirc$',\n",
    "                 r'$\\downarrow\\leftarrow$', r'$\\downarrow\\rightarrow$', r'$\\downarrow\\downarrow$', ''])\n",
    "img4.plot(x, y4, 'o', markeredgewidth=0.1, markerfacecolor=None, color='mediumblue')'''"
   ],
   "metadata": {
    "collapsed": false
   }
  },
  {
   "cell_type": "code",
   "execution_count": null,
   "outputs": [],
   "source": [
    "pymdp_agent = np.array(y)\n",
    "\n",
    "df_correlation = pd.DataFrame(columns=['subject','pearson','r2score','cohen'])\n",
    "\n",
    "\n",
    "os.chdir('..')\n",
    "valid_sub = extract_correct_csv.extract_only_valid_subject()\n",
    "for sub in valid_sub:\n",
    "    subj_ = extract_correct_csv.read_correct_subject_csv(sub)\n",
    "    df_sub = pd.read_csv('data/newLookAtMe/newLookAtMe'+subj_+'.csv')\n",
    "\n",
    "    df_sub = df_sub[['shock', 'rating', 'morphing level']]\n",
    "\n",
    "    df_sub['shock'] = df_sub['shock'].astype(int)\n",
    "    df_sub['morphing level'] = [int(d == 6) for d in df_sub['morphing level']]\n",
    "    df_sub['rating'] = df_sub['rating'].replace([1, 2], [0, 0])\n",
    "    df_sub['rating'] = df_sub['rating'].replace([3,4,5], [1,1,1])\n",
    "\n",
    "    # remove habituation trials\n",
    "    df_sub_learn = df_sub[16:]\n",
    "\n",
    "    rating_sub = np.array(df_sub_learn['rating'])\n",
    "\n",
    "    # remove nan\n",
    "    bad = ~np.logical_or(np.isnan(rating_sub), np.isnan(pymdp_agent))\n",
    "    rating_sub_ = np.compress(bad, rating_sub)\n",
    "    rating_rational_ = np.compress(bad, pymdp_agent)\n",
    "    rating_sub_ = [int(x) for x in rating_sub_]\n",
    "\n",
    "    #pearson corr coeff\n",
    "    pearson = round(np.corrcoef(rating_sub_,rating_rational_)[0][1],2)\n",
    "\n",
    "    #r2 score\n",
    "    r2 = round(r2_score(rating_sub_,rating_rational_),2)\n",
    "\n",
    "    #cohen kappa\n",
    "    cohen = round(cohen_kappa_score(rating_sub_,rating_rational_),2)\n",
    "\n",
    "    # write line\n",
    "    df_tmp = pd.DataFrame({'subject':sub,'pearson':pearson,'r2score':r2,'cohen':cohen},index=np.arange(1))\n",
    "    df_correlation = pd.concat([df_correlation,df_tmp])\n",
    "\n",
    "# read sias data\n",
    "sias_df = pd.read_csv('data/sias_score.csv').drop(columns='social_anxiety')\n",
    "sias_df['subject'] = [float(x) for x in sias_df['subject']]\n",
    "\n",
    "# read lds data\n",
    "lds_df = pd.read_csv('data/lds_subjects.csv')\n",
    "lds_df['subject'] = [float(x) for x in lds_df['subject']]\n",
    "\n",
    "# merge sias,lds and correlation indices\n",
    "merged_df = pd.concat([sias_df.set_index('subject'), lds_df.set_index('subject'), df_correlation.set_index('subject')], axis=1)\n",
    "merged_df = merged_df.reset_index().dropna()\n",
    "\n",
    "#extract low and high lds\n",
    "lds_ = merged_df.sort_values('lds').reset_index(drop=True)\n",
    "lower_lds = lds_[:7]\n",
    "higher_lds = lds_[-7:]\n",
    "\n",
    "#extract low and high sias\n",
    "sias_ = merged_df.sort_values('sias_score').reset_index(drop=True)\n",
    "lower_sias = sias_[:7]\n",
    "higher_sias = sias_[-7:]\n"
   ],
   "metadata": {
    "collapsed": false
   }
  },
  {
   "cell_type": "code",
   "execution_count": null,
   "outputs": [],
   "source": [
    "merged_df.to_csv('output/simulation_pymdp/correlation.csv', index=False)"
   ],
   "metadata": {
    "collapsed": false
   }
  },
  {
   "cell_type": "markdown",
   "source": [
    "# compare low vs high lds"
   ],
   "metadata": {
    "collapsed": false
   }
  },
  {
   "cell_type": "code",
   "execution_count": null,
   "outputs": [],
   "source": [
    "lower_lds.median().drop(['subject','sias_score','lds'])"
   ],
   "metadata": {
    "collapsed": false
   }
  },
  {
   "cell_type": "code",
   "execution_count": null,
   "outputs": [],
   "source": [
    "higher_lds.median().drop(['subject','sias_score','lds'])"
   ],
   "metadata": {
    "collapsed": false
   }
  },
  {
   "cell_type": "markdown",
   "source": [
    "# compare low vs high sias"
   ],
   "metadata": {
    "collapsed": false
   }
  },
  {
   "cell_type": "code",
   "execution_count": null,
   "outputs": [],
   "source": [
    "lower_sias.median().drop(['subject','sias_score','lds'])"
   ],
   "metadata": {
    "collapsed": false
   }
  },
  {
   "cell_type": "code",
   "execution_count": null,
   "outputs": [],
   "source": [
    "higher_sias.median().drop(['subject','sias_score','lds'])"
   ],
   "metadata": {
    "collapsed": false
   }
  },
  {
   "cell_type": "code",
   "execution_count": null,
   "outputs": [],
   "source": [
    "merged_df"
   ],
   "metadata": {
    "collapsed": false
   }
  },
  {
   "cell_type": "code",
   "execution_count": null,
   "outputs": [],
   "source": [
    "from sklearn.linear_model import LinearRegression\n",
    "lds_values = merged_df['lds'].values\n",
    "pearson_values = merged_df['pearson'].values\n",
    "lds_values = lds_values[:, np.newaxis]\n",
    "\n",
    "reg_lds = LinearRegression()\n",
    "reg_lds.fit(lds_values, pearson_values)\n",
    "predict_lds = reg_lds.predict(lds_values)\n",
    "plt.plot(lds_values, predict_lds, color='red')\n",
    "plt.scatter(lds_values, pearson_values)\n",
    "plt.xlabel('lds_values')\n",
    "plt.ylabel('pearson values')\n",
    "plt.show()"
   ],
   "metadata": {
    "collapsed": false
   }
  }
 ],
 "metadata": {
  "kernelspec": {
   "display_name": "Python 3",
   "language": "python",
   "name": "python3"
  },
  "language_info": {
   "codemirror_mode": {
    "name": "ipython",
    "version": 3
   },
   "file_extension": ".py",
   "mimetype": "text/x-python",
   "name": "python",
   "nbconvert_exporter": "python",
   "pygments_lexer": "ipython3",
   "version": "3.6.4"
  }
 },
 "nbformat": 4,
 "nbformat_minor": 2
}
