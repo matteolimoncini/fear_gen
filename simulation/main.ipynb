{
 "cells": [
  {
   "cell_type": "code",
   "execution_count": 1,
   "outputs": [],
   "source": [
    "import matplotlib.pyplot as plt\n",
    "\n",
    "plt.rcParams['font.size'] = '10'"
   ],
   "metadata": {
    "collapsed": false
   }
  },
  {
   "cell_type": "code",
   "execution_count": 2,
   "outputs": [
    {
     "name": "stdout",
     "output_type": "stream",
     "text": [
      "/Users/marcoghezzi/PycharmProjects/pythonProject/fear_gen/simulation\r\n"
     ]
    }
   ],
   "source": [
    "!pwd"
   ],
   "metadata": {
    "collapsed": false
   }
  },
  {
   "cell_type": "code",
   "execution_count": 3,
   "outputs": [],
   "source": [
    "import os\n",
    "#os.chdir('./simulation')"
   ],
   "metadata": {
    "collapsed": false
   }
  },
  {
   "cell_type": "code",
   "execution_count": 4,
   "outputs": [],
   "source": [
    "from pymdp import utils\n",
    "from pymdp.agent import Agent\n",
    "import numpy as np\n",
    "import pandas as pd\n",
    "from sklearn.metrics import cohen_kappa_score\n",
    "from sklearn.metrics import r2_score\n",
    "\n",
    "from env import TrialEnv"
   ],
   "metadata": {
    "collapsed": false
   }
  },
  {
   "cell_type": "code",
   "execution_count": 5,
   "outputs": [],
   "source": [
    "from fear_gen import extract_correct_csv"
   ],
   "metadata": {
    "collapsed": false
   }
  },
  {
   "cell_type": "code",
   "execution_count": 6,
   "outputs": [],
   "source": [
    "trials = 144\n",
    "steps = 2  # number of timepoints per trial"
   ],
   "metadata": {
    "collapsed": false
   }
  },
  {
   "cell_type": "markdown",
   "source": [
    "STATES\n",
    "state if the img is cs+ or cs-"
   ],
   "metadata": {
    "collapsed": false
   }
  },
  {
   "cell_type": "code",
   "execution_count": 7,
   "outputs": [],
   "source": [
    "context = ['cs+', 'cs-']\n",
    "choice = ['guess cs+','guess cs-']\n",
    "#error = ['low', 'high']"
   ],
   "metadata": {
    "collapsed": false
   }
  },
  {
   "cell_type": "markdown",
   "source": [
    "OBSERVATIONS"
   ],
   "metadata": {
    "collapsed": false
   }
  },
  {
   "cell_type": "markdown",
   "source": [
    "morphing level binary. shock only if morph_level=6"
   ],
   "metadata": {
    "collapsed": false
   }
  },
  {
   "cell_type": "code",
   "execution_count": 8,
   "outputs": [],
   "source": [
    "morph_level_obs = ['0','1']\n",
    "# the subject receive the electric shock?\n",
    "shock_obs = ['shock','no_shock','null']\n",
    "# observation to discriminate if the subject is surprised or prepared. A sort of diff between user prediction and shock observation\n",
    "surprised_obs = ['not_surprised','surprised','null']"
   ],
   "metadata": {
    "collapsed": false
   }
  },
  {
   "cell_type": "markdown",
   "source": [
    "ACTIONS<br>\n",
    "the subject predict if should be receive the shock or not"
   ],
   "metadata": {
    "collapsed": false
   }
  },
  {
   "cell_type": "code",
   "execution_count": 9,
   "outputs": [],
   "source": [
    "context_action = ['do_nothing']\n",
    "choice_action = ['guess cs+','guess cs-']"
   ],
   "metadata": {
    "collapsed": false
   }
  },
  {
   "cell_type": "markdown",
   "source": [
    "Define `num_states` and `num_factors` below"
   ],
   "metadata": {
    "collapsed": false
   }
  },
  {
   "cell_type": "code",
   "execution_count": 10,
   "outputs": [],
   "source": [
    "num_states = [len(context), len(choice)] #[2,2]\n",
    "num_factors = len(num_states) #2"
   ],
   "metadata": {
    "collapsed": false
   }
  },
  {
   "cell_type": "markdown",
   "source": [
    "define `num_obs` and `num_modalities` below"
   ],
   "metadata": {
    "collapsed": false
   }
  },
  {
   "cell_type": "code",
   "execution_count": 11,
   "outputs": [],
   "source": [
    "num_obs = [len(morph_level_obs), len(shock_obs), len(surprised_obs)] # [2,2,2]\n",
    "num_modalities = len(num_obs) #3"
   ],
   "metadata": {
    "collapsed": false
   }
  },
  {
   "cell_type": "code",
   "execution_count": 12,
   "outputs": [],
   "source": [
    "def matrices():\n",
    "    \"\"\"\n",
    "    The A, B, C, D, E matrices are built.\n",
    "    \"\"\"\n",
    "    # This is the likelihood mapping that truly describes the relationship between the\n",
    "    # environment's hidden state and the observations the agent will get\n",
    "\n",
    "    # A matrix\n",
    "    # A dimension?\n",
    "    A = utils.obj_array(num_modalities)\n",
    "    A_morph = np.zeros((len(morph_level_obs), len(context), len(choice)))\n",
    "    A_shock = np.zeros((len(shock_obs), len(context), len(choice)))\n",
    "    A_surprise = np.zeros((len(surprised_obs), len(context), len(choice)))\n",
    "    for j in range(len(choice)):\n",
    "        # mor_lev_binary/states #cs+ #cs-\n",
    "        A_morph[:,:,j] = np.array([[0, 1],    #img or\n",
    "                                   [1, 0]])   #img minac\n",
    "        #shock-noshock/states\n",
    "        A_shock[:,:,j] = np.array([[0.75, 0],\n",
    "                                   [0.25, 1],\n",
    "                                   [0, 0]])\n",
    "        #surprise/states\n",
    "        A_surprise[:,j,j] = np.array([1,0,0])\n",
    "        A_surprise[:,j,int(not j)] = np.array([0, 1, 0])\n",
    "    A[0] = A_morph\n",
    "    A[1] = A_shock\n",
    "    A[2] = A_surprise\n",
    "\n",
    "    # B matrix\n",
    "    # The transition mapping that truly describes the environment's dynamics\n",
    "\n",
    "    #B as an identity matrix. no state transitions\n",
    "    B = utils.obj_array(num_factors)\n",
    "    B_context = np.zeros((len(context), len(context), len(context_action)))\n",
    "    B_context[:,:,0] = np.eye(len(context))\n",
    "    #B_context[:,:,2] = np.eye(len(context))\n",
    "    B_choice = np.zeros((len(choice), len(choice), len(choice_action)))\n",
    "    for choice_i in range(len(choice)):\n",
    "        B_choice[choice_i, :, choice_i] = 1.0\n",
    "    B[0]=B_context\n",
    "    B[1]=B_choice\n",
    "\n",
    "    # This is the matrix representing the preferences over outcomes\n",
    "    #prepared-surprised/cs+-\n",
    "    C = utils.obj_array_zeros(num_obs)          #num modalities\n",
    "    C[0] = np.zeros(2)\n",
    "    C[1] = np.zeros(3)\n",
    "    C[2] = np.array([2,-3,0])\n",
    "    return A, B, C"
   ],
   "metadata": {
    "collapsed": false
   }
  },
  {
   "cell_type": "markdown",
   "source": [
    "true data\n"
   ],
   "metadata": {
    "collapsed": false
   }
  },
  {
   "cell_type": "code",
   "execution_count": 13,
   "outputs": [],
   "source": [
    "def load_data(columns=[], binary_morphing_level=False, shock_as_int = False,subject_number=0,remove_first_trials=None,remove_last_trials=None):\n",
    "    '''\n",
    "    Function that read NewLookAtMe files and extract\n",
    "    :param columns:\n",
    "    :param binary_morphing_level:\n",
    "    :param shock_as_int:\n",
    "    :param subject_number:\n",
    "    :return:\n",
    "    '''\n",
    "\n",
    "    df = pd.read_csv('../data/newLookAtMe/newLookAtMe01.csv')\n",
    "    df = df.filter(columns)\n",
    "\n",
    "    if 'morphing level' in columns and binary_morphing_level:\n",
    "        df['morphing level'] = [int(d==6) for d in df['morphing level']]\n",
    "    if 'shock' in columns and shock_as_int:\n",
    "        df['shock'] = df['shock'].astype(int)\n",
    "    if remove_first_trials is not None:\n",
    "        df = df[remove_first_trials:]\n",
    "        df.reset_index(drop=True,inplace=True)\n",
    "    return df"
   ],
   "metadata": {
    "collapsed": false
   }
  },
  {
   "cell_type": "code",
   "execution_count": 14,
   "outputs": [],
   "source": [
    "data= load_data(columns=['morphing level','shock','rating'] ,binary_morphing_level=True, shock_as_int = True,remove_first_trials=16)"
   ],
   "metadata": {
    "collapsed": false
   }
  },
  {
   "cell_type": "code",
   "execution_count": 15,
   "outputs": [],
   "source": [
    "rating_subj = data['rating']\n",
    "data = data.drop(columns='rating')"
   ],
   "metadata": {
    "collapsed": false
   }
  },
  {
   "cell_type": "markdown",
   "source": [
    "fake data generation"
   ],
   "metadata": {
    "collapsed": false
   }
  },
  {
   "cell_type": "code",
   "execution_count": 16,
   "outputs": [],
   "source": [
    "morphing_levels = [0] * 10 + [1] * 10 + [0] * 10 + [1] * 10 + [0] * 10 + [1] * 10 + [0] * 10 + [1] * 10 + [0] * 10 + [1] * 10\n",
    "shocks = [0] * 10 + [1] * 10 + [0] * 10 + [1] * 10 + [0] * 10 + [1] * 10 + [0] * 10 + [1] * 10 + [0] * 10 + [1] * 10\n",
    "fake_data_4_75 = pd.DataFrame({'morphing level': morphing_levels, 'shock': shocks})\n",
    "\n",
    "# Select rows where both columns are equal to 1\n",
    "mask = (fake_data_4_75['morphing level'] == 1) & (fake_data_4_75['shock'] == 1)\n",
    "\n",
    "# Select % of those rows at random\n",
    "sampled_indices = np.random.choice(fake_data_4_75[mask].index, size=int(len(fake_data_4_75[mask]) * 0.5), replace=False)\n",
    "\n",
    "# Set the values in those rows to (1,0)\n",
    "fake_data_4_75.loc[sampled_indices, 'shock'] = 0\n"
   ],
   "metadata": {
    "collapsed": false
   }
  },
  {
   "cell_type": "code",
   "execution_count": 17,
   "outputs": [],
   "source": [
    "morphing_levels = [0] * 50 + [1] * 50\n",
    "shocks = [0] * 50 + [1] * 50\n",
    "fake_data_half = pd.DataFrame({'morphing level': morphing_levels, 'shock': shocks})"
   ],
   "metadata": {
    "collapsed": false
   }
  },
  {
   "cell_type": "markdown",
   "source": [
    "define an agent<br>\n"
   ],
   "metadata": {
    "collapsed": false
   }
  },
  {
   "cell_type": "code",
   "execution_count": 18,
   "outputs": [],
   "source": [
    "E = utils.obj_array(1)\n",
    "E[0] = np.array([.4,.2,.4])\n",
    "A,B,C = matrices()\n",
    "my_agent = Agent(A=A, B=B, C=C, gamma=0.5)\n",
    "qs0 = my_agent.qs\n",
    "# define an environment\n",
    "my_env = TrialEnv(data=data)\n",
    "list_qs = []\n",
    "list_action = []"
   ],
   "metadata": {
    "collapsed": false
   }
  },
  {
   "cell_type": "code",
   "execution_count": 19,
   "outputs": [],
   "source": [
    "initial_action = 'first_action'"
   ],
   "metadata": {
    "collapsed": false
   }
  },
  {
   "cell_type": "markdown",
   "source": [
    "iterate over all trials"
   ],
   "metadata": {
    "collapsed": false
   }
  },
  {
   "cell_type": "code",
   "execution_count": 20,
   "outputs": [
    {
     "name": "stdout",
     "output_type": "stream",
     "text": [
      "\n",
      "-----TRIAL 0 ------\n",
      "observation (t=0):  1 null null\n",
      "beliefs over states (t=0): [50. 50.]\n",
      "beliefs over actions:  [50. 50.]\n",
      "action:  guess cs+\n",
      "observation (t=1):  1 shock not_surprised\n",
      "beliefs over states (t=1): [1.00000000e+02 1.33333333e-14]\n",
      "\n",
      "-----TRIAL 1 ------\n",
      "observation (t=0):  0 null null\n",
      "beliefs over states (t=0): [1.00000000e+02 2.33333333e-14]\n",
      "beliefs over actions:  [92.414182  7.585818]\n",
      "action:  guess cs+\n",
      "observation (t=1):  0 no_shock surprised\n",
      "beliefs over states (t=1): [23.07692308 76.92307692]\n",
      "\n",
      "-----TRIAL 2 ------\n",
      "observation (t=0):  0 null null\n",
      "beliefs over states (t=0): [23.07692308 76.92307692]\n",
      "beliefs over actions:  [20.64998823 79.35001177]\n",
      "action:  guess cs-\n",
      "reward\n",
      "observation (t=1):  0 no_shock not_surprised\n",
      "beliefs over states (t=1): [3.e-15 1.e+02]\n",
      "\n",
      "-----TRIAL 3 ------\n",
      "observation (t=0):  1 null null\n",
      "beliefs over states (t=0): [1.3e-14 1.0e+02]\n",
      "beliefs over actions:  [ 7.585818 92.414182]\n",
      "action:  guess cs-\n",
      "penalty\n",
      "observation (t=1):  1 shock surprised\n",
      "beliefs over states (t=1): [63.30275229 36.69724771]\n",
      "\n",
      "-----TRIAL 4 ------\n",
      "observation (t=0):  0 null null\n",
      "beliefs over states (t=0): [63.30275229 36.69724771]\n",
      "beliefs over actions:  [66.04135363 33.95864637]\n",
      "action:  guess cs+\n",
      "observation (t=1):  0 no_shock surprised\n",
      "beliefs over states (t=1): [1.725e-14 1.000e+02]\n",
      "\n",
      "-----TRIAL 5 ------\n",
      "observation (t=0):  1 null null\n",
      "beliefs over states (t=0): [2.725e-14 1.000e+02]\n",
      "beliefs over actions:  [ 7.585818 92.414182]\n",
      "action:  guess cs-\n",
      "penalty\n",
      "observation (t=1):  1 shock surprised\n",
      "beliefs over states (t=1): [73.64085667 26.35914333]\n",
      "\n",
      "-----TRIAL 6 ------\n",
      "observation (t=0):  1 null null\n",
      "beliefs over states (t=0): [73.64085667 26.35914333]\n",
      "beliefs over actions:  [76.53149119 23.46850881]\n",
      "action:  guess cs+\n",
      "observation (t=1):  1 shock not_surprised\n",
      "beliefs over states (t=1): [1.00000000e+02 4.77255779e-15]\n",
      "\n",
      "-----TRIAL 7 ------\n",
      "observation (t=0):  0 null null\n",
      "beliefs over states (t=0): [1.00000000e+02 1.47725578e-14]\n",
      "beliefs over actions:  [92.414182  7.585818]\n",
      "action:  guess cs+\n",
      "observation (t=1):  0 no_shock surprised\n",
      "beliefs over states (t=1): [28.7583101 71.2416899]\n",
      "\n",
      "-----TRIAL 8 ------\n",
      "observation (t=0):  1 null null\n",
      "beliefs over states (t=0): [28.7583101 71.2416899]\n",
      "beliefs over actions:  [25.69113066 74.30886934]\n",
      "action:  guess cs-\n",
      "reward\n",
      "observation (t=1):  1 no_shock not_surprised\n",
      "beliefs over states (t=1): [28.7583101 71.2416899]\n",
      "\n",
      "-----TRIAL 9 ------\n",
      "observation (t=0):  1 null null\n",
      "beliefs over states (t=0): [28.7583101 71.2416899]\n",
      "beliefs over actions:  [25.69113066 74.30886934]\n",
      "action:  guess cs-\n",
      "penalty\n",
      "observation (t=1):  1 shock surprised\n",
      "beliefs over states (t=1): [1.00000000e+02 3.30300771e-14]\n",
      "\n",
      "-----TRIAL 10 ------\n",
      "observation (t=0):  0 null null\n",
      "beliefs over states (t=0): [1.00000000e+02 4.30300771e-14]\n",
      "beliefs over actions:  [92.414182  7.585818]\n",
      "action:  guess cs+\n",
      "observation (t=1):  0 no_shock surprised\n",
      "beliefs over states (t=1): [15.8654415 84.1345585]\n",
      "\n",
      "-----TRIAL 11 ------\n",
      "observation (t=0):  0 null null\n",
      "beliefs over states (t=0): [15.8654415 84.1345585]\n",
      "beliefs over actions:  [15.35886007 84.64113993]\n",
      "action:  guess cs-\n",
      "reward\n",
      "observation (t=1):  0 no_shock not_surprised\n",
      "beliefs over states (t=1): [1.88572232e-15 1.00000000e+02]\n",
      "\n",
      "-----TRIAL 12 ------\n",
      "observation (t=0):  0 null null\n",
      "beliefs over states (t=0): [1.18857223e-14 1.00000000e+02]\n",
      "beliefs over actions:  [ 7.585818 92.414182]\n",
      "action:  guess cs-\n",
      "reward\n",
      "observation (t=1):  0 no_shock not_surprised\n",
      "beliefs over states (t=1): [2.18857223e-30 1.00000000e+02]\n",
      "\n",
      "-----TRIAL 13 ------\n",
      "observation (t=0):  0 null null\n",
      "beliefs over states (t=0): [1.e-14 1.e+02]\n",
      "beliefs over actions:  [ 7.585818 92.414182]\n",
      "action:  guess cs-\n",
      "reward\n",
      "observation (t=1):  0 no_shock not_surprised\n",
      "beliefs over states (t=1): [2.e-30 1.e+02]\n",
      "\n",
      "-----TRIAL 14 ------\n",
      "observation (t=0):  1 null null\n",
      "beliefs over states (t=0): [1.e-14 1.e+02]\n",
      "beliefs over actions:  [ 7.585818 92.414182]\n",
      "action:  guess cs-\n",
      "penalty\n",
      "observation (t=1):  1 shock surprised\n",
      "beliefs over states (t=1): [60. 40.]\n",
      "\n",
      "-----TRIAL 15 ------\n",
      "observation (t=0):  1 null null\n",
      "beliefs over states (t=0): [60. 40.]\n",
      "beliefs over actions:  [62.24593312 37.75406688]\n",
      "action:  guess cs+\n",
      "observation (t=1):  1 no_shock surprised\n",
      "beliefs over states (t=1): [60.00014746 39.99985254]\n",
      "\n",
      "-----TRIAL 16 ------\n",
      "observation (t=0):  0 null null\n",
      "beliefs over states (t=0): [60.00014746 39.99985254]\n",
      "beliefs over actions:  [62.24610639 37.75389361]\n",
      "action:  guess cs+\n",
      "observation (t=1):  0 no_shock surprised\n",
      "beliefs over states (t=1): [1.50000922e-14 1.00000000e+02]\n",
      "\n",
      "-----TRIAL 17 ------\n",
      "observation (t=0):  1 null null\n",
      "beliefs over states (t=0): [2.50000922e-14 1.00000000e+02]\n",
      "beliefs over actions:  [ 7.585818 92.414182]\n",
      "action:  guess cs-\n",
      "penalty\n",
      "observation (t=1):  1 shock surprised\n",
      "beliefs over states (t=1): [72.41384571 27.58615429]\n",
      "\n",
      "-----TRIAL 18 ------\n",
      "observation (t=0):  1 null null\n",
      "beliefs over states (t=0): [72.41384571 27.58615429]\n",
      "beliefs over actions:  [75.41171057 24.58828943]\n",
      "action:  guess cs+\n",
      "observation (t=1):  1 shock not_surprised\n",
      "beliefs over states (t=1): [1.0000000e+02 5.0793517e-15]\n",
      "\n",
      "-----TRIAL 19 ------\n",
      "observation (t=0):  0 null null\n",
      "beliefs over states (t=0): [1.00000000e+02 1.50793517e-14]\n",
      "beliefs over actions:  [92.414182  7.585818]\n",
      "action:  guess cs+\n",
      "observation (t=1):  0 no_shock surprised\n",
      "beliefs over states (t=1): [28.5067982 71.4932018]\n",
      "\n",
      "-----TRIAL 20 ------\n",
      "observation (t=0):  1 null null\n",
      "beliefs over states (t=0): [28.5067982 71.4932018]\n",
      "beliefs over actions:  [25.45178745 74.54821255]\n",
      "action:  guess cs-\n",
      "reward\n",
      "observation (t=1):  1 no_shock not_surprised\n",
      "beliefs over states (t=1): [28.5067982 71.4932018]\n",
      "\n",
      "-----TRIAL 21 ------\n",
      "observation (t=0):  0 null null\n",
      "beliefs over states (t=0): [28.5067982 71.4932018]\n",
      "beliefs over actions:  [25.45178745 74.54821255]\n",
      "action:  guess cs-\n",
      "reward\n",
      "observation (t=1):  0 no_shock not_surprised\n",
      "beliefs over states (t=1): [3.9873439e-15 1.0000000e+02]\n",
      "\n",
      "-----TRIAL 22 ------\n",
      "observation (t=0):  1 null null\n",
      "beliefs over states (t=0): [1.39873439e-14 1.00000000e+02]\n",
      "beliefs over actions:  [ 7.585818 92.414182]\n",
      "action:  guess cs-\n",
      "penalty\n",
      "observation (t=1):  1 shock surprised\n",
      "beliefs over states (t=1): [64.27360294 35.72639706]\n",
      "\n",
      "-----TRIAL 23 ------\n",
      "observation (t=0):  0 null null\n",
      "beliefs over states (t=0): [64.27360294 35.72639706]\n",
      "beliefs over actions:  [67.12138272 32.87861728]\n",
      "action:  guess cs+\n",
      "observation (t=1):  0 no_shock surprised\n",
      "beliefs over states (t=1): [1.79905079e-14 1.00000000e+02]\n",
      "\n",
      "-----TRIAL 24 ------\n",
      "observation (t=0):  1 null null\n",
      "beliefs over states (t=0): [2.79905079e-14 1.00000000e+02]\n",
      "beliefs over actions:  [ 7.585818 92.414182]\n",
      "action:  guess cs-\n",
      "reward\n",
      "observation (t=1):  1 no_shock not_surprised\n",
      "beliefs over states (t=1): [3.79905147e-14 1.00000000e+02]\n",
      "\n",
      "-----TRIAL 25 ------\n",
      "observation (t=0):  0 null null\n",
      "beliefs over states (t=0): [4.79905147e-14 1.00000000e+02]\n",
      "beliefs over actions:  [ 7.585818 92.414182]\n",
      "action:  guess cs-\n",
      "reward\n",
      "observation (t=1):  0 no_shock not_surprised\n",
      "beliefs over states (t=1): [5.79905147e-30 1.00000000e+02]\n",
      "\n",
      "-----TRIAL 26 ------\n",
      "observation (t=0):  1 null null\n",
      "beliefs over states (t=0): [1.e-14 1.e+02]\n",
      "beliefs over actions:  [ 7.585818 92.414182]\n",
      "action:  guess cs-\n",
      "penalty\n",
      "observation (t=1):  1 shock surprised\n",
      "beliefs over states (t=1): [60. 40.]\n",
      "\n",
      "-----TRIAL 27 ------\n",
      "observation (t=0):  0 null null\n",
      "beliefs over states (t=0): [60. 40.]\n",
      "beliefs over actions:  [62.24593312 37.75406688]\n",
      "action:  guess cs+\n",
      "observation (t=1):  0 no_shock surprised\n",
      "beliefs over states (t=1): [1.5e-14 1.0e+02]\n",
      "\n",
      "-----TRIAL 28 ------\n",
      "observation (t=0):  1 null null\n",
      "beliefs over states (t=0): [2.5e-14 1.0e+02]\n",
      "beliefs over actions:  [ 7.585818 92.414182]\n",
      "action:  guess cs-\n",
      "penalty\n",
      "observation (t=1):  1 shock surprised\n",
      "beliefs over states (t=1): [72.4137931 27.5862069]\n",
      "\n",
      "-----TRIAL 29 ------\n",
      "observation (t=0):  0 null null\n",
      "beliefs over states (t=0): [72.4137931 27.5862069]\n",
      "beliefs over actions:  [75.4116618 24.5883382]\n",
      "action:  guess cs+\n",
      "observation (t=1):  0 no_shock surprised\n",
      "beliefs over states (t=1): [2.625e-14 1.000e+02]\n",
      "\n",
      "-----TRIAL 30 ------\n",
      "observation (t=0):  1 null null\n",
      "beliefs over states (t=0): [3.625e-14 1.000e+02]\n",
      "beliefs over actions:  [ 7.585818 92.414182]\n",
      "action:  guess cs-\n",
      "penalty\n",
      "observation (t=1):  1 shock surprised\n",
      "beliefs over states (t=1): [77.62237762 22.37762238]\n",
      "\n",
      "-----TRIAL 31 ------\n",
      "observation (t=0):  0 null null\n",
      "beliefs over states (t=0): [77.62237762 22.37762238]\n",
      "beliefs over actions:  [79.91706373 20.08293627]\n",
      "action:  guess cs+\n",
      "observation (t=1):  0 no_shock surprised\n",
      "beliefs over states (t=1): [3.46875e-14 1.00000e+02]\n",
      "\n",
      "-----TRIAL 32 ------\n",
      "observation (t=0):  0 null null\n",
      "beliefs over states (t=0): [4.46875e-14 1.00000e+02]\n",
      "beliefs over actions:  [ 7.585818 92.414182]\n",
      "action:  guess cs-\n",
      "reward\n",
      "observation (t=1):  0 no_shock not_surprised\n",
      "beliefs over states (t=1): [5.46875e-30 1.00000e+02]\n",
      "\n",
      "-----TRIAL 33 ------\n",
      "observation (t=0):  1 null null\n",
      "beliefs over states (t=0): [1.e-14 1.e+02]\n",
      "beliefs over actions:  [ 7.585818 92.414182]\n",
      "action:  guess cs-\n",
      "penalty\n",
      "observation (t=1):  1 shock surprised\n",
      "beliefs over states (t=1): [60. 40.]\n",
      "\n",
      "-----TRIAL 34 ------\n",
      "observation (t=0):  0 null null\n",
      "beliefs over states (t=0): [60. 40.]\n",
      "beliefs over actions:  [62.24593312 37.75406688]\n",
      "action:  guess cs+\n",
      "observation (t=1):  0 no_shock surprised\n",
      "beliefs over states (t=1): [1.5e-14 1.0e+02]\n",
      "\n",
      "-----TRIAL 35 ------\n",
      "observation (t=0):  0 null null\n",
      "beliefs over states (t=0): [2.5e-14 1.0e+02]\n",
      "beliefs over actions:  [ 7.585818 92.414182]\n",
      "action:  guess cs-\n",
      "reward\n",
      "observation (t=1):  0 no_shock not_surprised\n",
      "beliefs over states (t=1): [3.5e-30 1.0e+02]\n",
      "\n",
      "-----TRIAL 36 ------\n",
      "observation (t=0):  1 null null\n",
      "beliefs over states (t=0): [1.e-14 1.e+02]\n",
      "beliefs over actions:  [ 7.585818 92.414182]\n",
      "action:  guess cs-\n",
      "reward\n",
      "observation (t=1):  1 no_shock not_surprised\n",
      "beliefs over states (t=1): [2.00000035e-14 1.00000000e+02]\n",
      "\n",
      "-----TRIAL 37 ------\n",
      "observation (t=0):  0 null null\n",
      "beliefs over states (t=0): [3.00000035e-14 1.00000000e+02]\n",
      "beliefs over actions:  [ 7.585818 92.414182]\n",
      "action:  guess cs-\n",
      "reward\n",
      "observation (t=1):  0 no_shock not_surprised\n",
      "beliefs over states (t=1): [4.00000035e-30 1.00000000e+02]\n",
      "\n",
      "-----TRIAL 38 ------\n",
      "observation (t=0):  0 null null\n",
      "beliefs over states (t=0): [1.e-14 1.e+02]\n",
      "beliefs over actions:  [ 7.585818 92.414182]\n",
      "action:  guess cs-\n",
      "reward\n",
      "observation (t=1):  0 no_shock not_surprised\n",
      "beliefs over states (t=1): [2.e-30 1.e+02]\n",
      "\n",
      "-----TRIAL 39 ------\n",
      "observation (t=0):  0 null null\n",
      "beliefs over states (t=0): [1.e-14 1.e+02]\n",
      "beliefs over actions:  [ 7.585818 92.414182]\n",
      "action:  guess cs-\n",
      "reward\n",
      "observation (t=1):  0 no_shock not_surprised\n",
      "beliefs over states (t=1): [2.e-30 1.e+02]\n",
      "\n",
      "-----TRIAL 40 ------\n",
      "observation (t=0):  0 null null\n",
      "beliefs over states (t=0): [1.e-14 1.e+02]\n",
      "beliefs over actions:  [ 7.585818 92.414182]\n",
      "action:  guess cs-\n",
      "reward\n",
      "observation (t=1):  0 no_shock not_surprised\n",
      "beliefs over states (t=1): [2.e-30 1.e+02]\n",
      "\n",
      "-----TRIAL 41 ------\n",
      "observation (t=0):  1 null null\n",
      "beliefs over states (t=0): [1.e-14 1.e+02]\n",
      "beliefs over actions:  [ 7.585818 92.414182]\n",
      "action:  guess cs-\n",
      "penalty\n",
      "observation (t=1):  1 shock surprised\n",
      "beliefs over states (t=1): [60. 40.]\n",
      "\n",
      "-----TRIAL 42 ------\n",
      "observation (t=0):  0 null null\n",
      "beliefs over states (t=0): [60. 40.]\n",
      "beliefs over actions:  [62.24593312 37.75406688]\n",
      "action:  guess cs+\n",
      "observation (t=1):  0 no_shock surprised\n",
      "beliefs over states (t=1): [1.5e-14 1.0e+02]\n",
      "\n",
      "-----TRIAL 43 ------\n",
      "observation (t=0):  0 null null\n",
      "beliefs over states (t=0): [2.5e-14 1.0e+02]\n",
      "beliefs over actions:  [ 7.585818 92.414182]\n",
      "action:  guess cs-\n",
      "reward\n",
      "observation (t=1):  0 no_shock not_surprised\n",
      "beliefs over states (t=1): [3.5e-30 1.0e+02]\n",
      "\n",
      "-----TRIAL 44 ------\n",
      "observation (t=0):  1 null null\n",
      "beliefs over states (t=0): [1.e-14 1.e+02]\n",
      "beliefs over actions:  [ 7.585818 92.414182]\n",
      "action:  guess cs-\n",
      "reward\n",
      "observation (t=1):  1 no_shock not_surprised\n",
      "beliefs over states (t=1): [2.00000035e-14 1.00000000e+02]\n",
      "\n",
      "-----TRIAL 45 ------\n",
      "observation (t=0):  0 null null\n",
      "beliefs over states (t=0): [3.00000035e-14 1.00000000e+02]\n",
      "beliefs over actions:  [ 7.585818 92.414182]\n",
      "action:  guess cs-\n",
      "reward\n",
      "observation (t=1):  0 no_shock not_surprised\n",
      "beliefs over states (t=1): [4.00000035e-30 1.00000000e+02]\n",
      "\n",
      "-----TRIAL 46 ------\n",
      "observation (t=0):  1 null null\n",
      "beliefs over states (t=0): [1.e-14 1.e+02]\n",
      "beliefs over actions:  [ 7.585818 92.414182]\n",
      "action:  guess cs-\n",
      "reward\n",
      "observation (t=1):  1 no_shock not_surprised\n",
      "beliefs over states (t=1): [2.00000035e-14 1.00000000e+02]\n",
      "\n",
      "-----TRIAL 47 ------\n",
      "observation (t=0):  0 null null\n",
      "beliefs over states (t=0): [3.00000035e-14 1.00000000e+02]\n",
      "beliefs over actions:  [ 7.585818 92.414182]\n",
      "action:  guess cs-\n",
      "reward\n",
      "observation (t=1):  0 no_shock not_surprised\n",
      "beliefs over states (t=1): [4.00000035e-30 1.00000000e+02]\n",
      "\n",
      "-----TRIAL 48 ------\n",
      "observation (t=0):  0 null null\n",
      "beliefs over states (t=0): [1.e-14 1.e+02]\n",
      "beliefs over actions:  [ 7.585818 92.414182]\n",
      "action:  guess cs-\n",
      "reward\n",
      "observation (t=1):  0 no_shock not_surprised\n",
      "beliefs over states (t=1): [2.e-30 1.e+02]\n",
      "\n",
      "-----TRIAL 49 ------\n",
      "observation (t=0):  1 null null\n",
      "beliefs over states (t=0): [1.e-14 1.e+02]\n",
      "beliefs over actions:  [ 7.585818 92.414182]\n",
      "action:  guess cs-\n",
      "penalty\n",
      "observation (t=1):  1 shock surprised\n",
      "beliefs over states (t=1): [60. 40.]\n",
      "\n",
      "-----TRIAL 50 ------\n",
      "observation (t=0):  0 null null\n",
      "beliefs over states (t=0): [60. 40.]\n",
      "beliefs over actions:  [62.24593312 37.75406688]\n",
      "action:  guess cs+\n",
      "observation (t=1):  0 no_shock surprised\n",
      "beliefs over states (t=1): [1.5e-14 1.0e+02]\n",
      "\n",
      "-----TRIAL 51 ------\n",
      "observation (t=0):  1 null null\n",
      "beliefs over states (t=0): [2.5e-14 1.0e+02]\n",
      "beliefs over actions:  [ 7.585818 92.414182]\n",
      "action:  guess cs-\n",
      "penalty\n",
      "observation (t=1):  1 shock surprised\n",
      "beliefs over states (t=1): [72.4137931 27.5862069]\n",
      "\n",
      "-----TRIAL 52 ------\n",
      "observation (t=0):  0 null null\n",
      "beliefs over states (t=0): [72.4137931 27.5862069]\n",
      "beliefs over actions:  [75.4116618 24.5883382]\n",
      "action:  guess cs+\n",
      "observation (t=1):  0 no_shock surprised\n",
      "beliefs over states (t=1): [2.625e-14 1.000e+02]\n",
      "\n",
      "-----TRIAL 53 ------\n",
      "observation (t=0):  0 null null\n",
      "beliefs over states (t=0): [3.625e-14 1.000e+02]\n",
      "beliefs over actions:  [ 7.585818 92.414182]\n",
      "action:  guess cs-\n",
      "reward\n",
      "observation (t=1):  0 no_shock not_surprised\n",
      "beliefs over states (t=1): [4.625e-30 1.000e+02]\n",
      "\n",
      "-----TRIAL 54 ------\n",
      "observation (t=0):  1 null null\n",
      "beliefs over states (t=0): [1.e-14 1.e+02]\n",
      "beliefs over actions:  [ 7.585818 92.414182]\n",
      "action:  guess cs-\n",
      "reward\n",
      "observation (t=1):  1 no_shock not_surprised\n",
      "beliefs over states (t=1): [2.00000035e-14 1.00000000e+02]\n",
      "\n",
      "-----TRIAL 55 ------\n",
      "observation (t=0):  0 null null\n",
      "beliefs over states (t=0): [3.00000035e-14 1.00000000e+02]\n",
      "beliefs over actions:  [ 7.585818 92.414182]\n",
      "action:  guess cs-\n",
      "reward\n",
      "observation (t=1):  0 no_shock not_surprised\n",
      "beliefs over states (t=1): [4.00000035e-30 1.00000000e+02]\n",
      "\n",
      "-----TRIAL 56 ------\n",
      "observation (t=0):  0 null null\n",
      "beliefs over states (t=0): [1.e-14 1.e+02]\n",
      "beliefs over actions:  [ 7.585818 92.414182]\n",
      "action:  guess cs-\n",
      "reward\n",
      "observation (t=1):  0 no_shock not_surprised\n",
      "beliefs over states (t=1): [2.e-30 1.e+02]\n",
      "\n",
      "-----TRIAL 57 ------\n",
      "observation (t=0):  0 null null\n",
      "beliefs over states (t=0): [1.e-14 1.e+02]\n",
      "beliefs over actions:  [ 7.585818 92.414182]\n",
      "action:  guess cs-\n",
      "reward\n",
      "observation (t=1):  0 no_shock not_surprised\n",
      "beliefs over states (t=1): [2.e-30 1.e+02]\n",
      "\n",
      "-----TRIAL 58 ------\n",
      "observation (t=0):  0 null null\n",
      "beliefs over states (t=0): [1.e-14 1.e+02]\n",
      "beliefs over actions:  [ 7.585818 92.414182]\n",
      "action:  guess cs-\n",
      "reward\n",
      "observation (t=1):  0 no_shock not_surprised\n",
      "beliefs over states (t=1): [2.e-30 1.e+02]\n",
      "\n",
      "-----TRIAL 59 ------\n",
      "observation (t=0):  0 null null\n",
      "beliefs over states (t=0): [1.e-14 1.e+02]\n",
      "beliefs over actions:  [ 7.585818 92.414182]\n",
      "action:  guess cs-\n",
      "reward\n",
      "observation (t=1):  0 no_shock not_surprised\n",
      "beliefs over states (t=1): [2.e-30 1.e+02]\n",
      "\n",
      "-----TRIAL 60 ------\n",
      "observation (t=0):  0 null null\n",
      "beliefs over states (t=0): [1.e-14 1.e+02]\n",
      "beliefs over actions:  [ 7.585818 92.414182]\n",
      "action:  guess cs-\n",
      "reward\n",
      "observation (t=1):  0 no_shock not_surprised\n",
      "beliefs over states (t=1): [2.e-30 1.e+02]\n",
      "\n",
      "-----TRIAL 61 ------\n",
      "observation (t=0):  0 null null\n",
      "beliefs over states (t=0): [1.e-14 1.e+02]\n",
      "beliefs over actions:  [ 7.585818 92.414182]\n",
      "action:  guess cs-\n",
      "reward\n",
      "observation (t=1):  0 no_shock not_surprised\n",
      "beliefs over states (t=1): [2.e-30 1.e+02]\n",
      "\n",
      "-----TRIAL 62 ------\n",
      "observation (t=0):  0 null null\n",
      "beliefs over states (t=0): [1.e-14 1.e+02]\n",
      "beliefs over actions:  [ 7.585818 92.414182]\n",
      "action:  guess cs-\n",
      "reward\n",
      "observation (t=1):  0 no_shock not_surprised\n",
      "beliefs over states (t=1): [2.e-30 1.e+02]\n",
      "\n",
      "-----TRIAL 63 ------\n",
      "observation (t=0):  0 null null\n",
      "beliefs over states (t=0): [1.e-14 1.e+02]\n",
      "beliefs over actions:  [ 7.585818 92.414182]\n",
      "action:  guess cs-\n",
      "reward\n",
      "observation (t=1):  0 no_shock not_surprised\n",
      "beliefs over states (t=1): [2.e-30 1.e+02]\n",
      "\n",
      "-----TRIAL 64 ------\n",
      "observation (t=0):  1 null null\n",
      "beliefs over states (t=0): [1.e-14 1.e+02]\n",
      "beliefs over actions:  [ 7.585818 92.414182]\n",
      "action:  guess cs-\n",
      "penalty\n",
      "observation (t=1):  1 shock surprised\n",
      "beliefs over states (t=1): [60. 40.]\n",
      "\n",
      "-----TRIAL 65 ------\n",
      "observation (t=0):  0 null null\n",
      "beliefs over states (t=0): [60. 40.]\n",
      "beliefs over actions:  [62.24593312 37.75406688]\n",
      "action:  guess cs+\n",
      "observation (t=1):  0 no_shock surprised\n",
      "beliefs over states (t=1): [1.5e-14 1.0e+02]\n",
      "\n",
      "-----TRIAL 66 ------\n",
      "observation (t=0):  0 null null\n",
      "beliefs over states (t=0): [2.5e-14 1.0e+02]\n",
      "beliefs over actions:  [ 7.585818 92.414182]\n",
      "action:  guess cs-\n",
      "reward\n",
      "observation (t=1):  0 no_shock not_surprised\n",
      "beliefs over states (t=1): [3.5e-30 1.0e+02]\n",
      "\n",
      "-----TRIAL 67 ------\n",
      "observation (t=0):  1 null null\n",
      "beliefs over states (t=0): [1.e-14 1.e+02]\n",
      "beliefs over actions:  [ 7.585818 92.414182]\n",
      "action:  guess cs-\n",
      "reward\n",
      "observation (t=1):  1 no_shock not_surprised\n",
      "beliefs over states (t=1): [2.00000035e-14 1.00000000e+02]\n",
      "\n",
      "-----TRIAL 68 ------\n",
      "observation (t=0):  0 null null\n",
      "beliefs over states (t=0): [3.00000035e-14 1.00000000e+02]\n",
      "beliefs over actions:  [ 7.585818 92.414182]\n",
      "action:  guess cs-\n",
      "reward\n",
      "observation (t=1):  0 no_shock not_surprised\n",
      "beliefs over states (t=1): [4.00000035e-30 1.00000000e+02]\n",
      "\n",
      "-----TRIAL 69 ------\n",
      "observation (t=0):  0 null null\n",
      "beliefs over states (t=0): [1.e-14 1.e+02]\n",
      "beliefs over actions:  [ 7.585818 92.414182]\n",
      "action:  guess cs-\n",
      "reward\n",
      "observation (t=1):  0 no_shock not_surprised\n",
      "beliefs over states (t=1): [2.e-30 1.e+02]\n",
      "\n",
      "-----TRIAL 70 ------\n",
      "observation (t=0):  1 null null\n",
      "beliefs over states (t=0): [1.e-14 1.e+02]\n",
      "beliefs over actions:  [ 7.585818 92.414182]\n",
      "action:  guess cs-\n",
      "penalty\n",
      "observation (t=1):  1 shock surprised\n",
      "beliefs over states (t=1): [60. 40.]\n",
      "\n",
      "-----TRIAL 71 ------\n",
      "observation (t=0):  1 null null\n",
      "beliefs over states (t=0): [60. 40.]\n",
      "beliefs over actions:  [62.24593312 37.75406688]\n",
      "action:  guess cs+\n",
      "observation (t=1):  1 no_shock surprised\n",
      "beliefs over states (t=1): [60.00014746 39.99985254]\n",
      "\n",
      "-----TRIAL 72 ------\n",
      "observation (t=0):  0 null null\n",
      "beliefs over states (t=0): [60.00014746 39.99985254]\n",
      "beliefs over actions:  [62.24610639 37.75389361]\n",
      "action:  guess cs+\n",
      "observation (t=1):  0 no_shock surprised\n",
      "beliefs over states (t=1): [1.50000922e-14 1.00000000e+02]\n",
      "\n",
      "-----TRIAL 73 ------\n",
      "observation (t=0):  0 null null\n",
      "beliefs over states (t=0): [2.50000922e-14 1.00000000e+02]\n",
      "beliefs over actions:  [ 7.585818 92.414182]\n",
      "action:  guess cs-\n",
      "reward\n",
      "observation (t=1):  0 no_shock not_surprised\n",
      "beliefs over states (t=1): [3.50000922e-30 1.00000000e+02]\n",
      "\n",
      "-----TRIAL 74 ------\n",
      "observation (t=0):  0 null null\n",
      "beliefs over states (t=0): [1.e-14 1.e+02]\n",
      "beliefs over actions:  [ 7.585818 92.414182]\n",
      "action:  guess cs-\n",
      "reward\n",
      "observation (t=1):  0 no_shock not_surprised\n",
      "beliefs over states (t=1): [2.e-30 1.e+02]\n",
      "\n",
      "-----TRIAL 75 ------\n",
      "observation (t=0):  0 null null\n",
      "beliefs over states (t=0): [1.e-14 1.e+02]\n",
      "beliefs over actions:  [ 7.585818 92.414182]\n",
      "action:  guess cs-\n",
      "reward\n",
      "observation (t=1):  0 no_shock not_surprised\n",
      "beliefs over states (t=1): [2.e-30 1.e+02]\n",
      "\n",
      "-----TRIAL 76 ------\n",
      "observation (t=0):  1 null null\n",
      "beliefs over states (t=0): [1.e-14 1.e+02]\n",
      "beliefs over actions:  [ 7.585818 92.414182]\n",
      "action:  guess cs-\n",
      "reward\n",
      "observation (t=1):  1 no_shock not_surprised\n",
      "beliefs over states (t=1): [2.00000035e-14 1.00000000e+02]\n",
      "\n",
      "-----TRIAL 77 ------\n",
      "observation (t=0):  0 null null\n",
      "beliefs over states (t=0): [3.00000035e-14 1.00000000e+02]\n",
      "beliefs over actions:  [ 7.585818 92.414182]\n",
      "action:  guess cs-\n",
      "reward\n",
      "observation (t=1):  0 no_shock not_surprised\n",
      "beliefs over states (t=1): [4.00000035e-30 1.00000000e+02]\n",
      "\n",
      "-----TRIAL 78 ------\n",
      "observation (t=0):  0 null null\n",
      "beliefs over states (t=0): [1.e-14 1.e+02]\n",
      "beliefs over actions:  [ 7.585818 92.414182]\n",
      "action:  guess cs-\n",
      "reward\n",
      "observation (t=1):  0 no_shock not_surprised\n",
      "beliefs over states (t=1): [2.e-30 1.e+02]\n",
      "\n",
      "-----TRIAL 79 ------\n",
      "observation (t=0):  1 null null\n",
      "beliefs over states (t=0): [1.e-14 1.e+02]\n",
      "beliefs over actions:  [ 7.585818 92.414182]\n",
      "action:  guess cs-\n",
      "penalty\n",
      "observation (t=1):  1 shock surprised\n",
      "beliefs over states (t=1): [60. 40.]\n",
      "\n",
      "-----TRIAL 80 ------\n",
      "observation (t=0):  0 null null\n",
      "beliefs over states (t=0): [60. 40.]\n",
      "beliefs over actions:  [62.24593312 37.75406688]\n",
      "action:  guess cs+\n",
      "observation (t=1):  0 no_shock surprised\n",
      "beliefs over states (t=1): [1.5e-14 1.0e+02]\n",
      "\n",
      "-----TRIAL 81 ------\n",
      "observation (t=0):  0 null null\n",
      "beliefs over states (t=0): [2.5e-14 1.0e+02]\n",
      "beliefs over actions:  [ 7.585818 92.414182]\n",
      "action:  guess cs-\n",
      "reward\n",
      "observation (t=1):  0 no_shock not_surprised\n",
      "beliefs over states (t=1): [3.5e-30 1.0e+02]\n",
      "\n",
      "-----TRIAL 82 ------\n",
      "observation (t=0):  1 null null\n",
      "beliefs over states (t=0): [1.e-14 1.e+02]\n",
      "beliefs over actions:  [ 7.585818 92.414182]\n",
      "action:  guess cs-\n",
      "reward\n",
      "observation (t=1):  1 no_shock not_surprised\n",
      "beliefs over states (t=1): [2.00000035e-14 1.00000000e+02]\n",
      "\n",
      "-----TRIAL 83 ------\n",
      "observation (t=0):  0 null null\n",
      "beliefs over states (t=0): [3.00000035e-14 1.00000000e+02]\n",
      "beliefs over actions:  [ 7.585818 92.414182]\n",
      "action:  guess cs-\n",
      "reward\n",
      "observation (t=1):  0 no_shock not_surprised\n",
      "beliefs over states (t=1): [4.00000035e-30 1.00000000e+02]\n",
      "\n",
      "-----TRIAL 84 ------\n",
      "observation (t=0):  1 null null\n",
      "beliefs over states (t=0): [1.e-14 1.e+02]\n",
      "beliefs over actions:  [ 7.585818 92.414182]\n",
      "action:  guess cs-\n",
      "penalty\n",
      "observation (t=1):  1 shock surprised\n",
      "beliefs over states (t=1): [60. 40.]\n",
      "\n",
      "-----TRIAL 85 ------\n",
      "observation (t=0):  0 null null\n",
      "beliefs over states (t=0): [60. 40.]\n",
      "beliefs over actions:  [62.24593312 37.75406688]\n",
      "action:  guess cs+\n",
      "observation (t=1):  0 no_shock surprised\n",
      "beliefs over states (t=1): [1.5e-14 1.0e+02]\n",
      "\n",
      "-----TRIAL 86 ------\n",
      "observation (t=0):  0 null null\n",
      "beliefs over states (t=0): [2.5e-14 1.0e+02]\n",
      "beliefs over actions:  [ 7.585818 92.414182]\n",
      "action:  guess cs-\n",
      "reward\n",
      "observation (t=1):  0 no_shock not_surprised\n",
      "beliefs over states (t=1): [3.5e-30 1.0e+02]\n",
      "\n",
      "-----TRIAL 87 ------\n",
      "observation (t=0):  0 null null\n",
      "beliefs over states (t=0): [1.e-14 1.e+02]\n",
      "beliefs over actions:  [ 7.585818 92.414182]\n",
      "action:  guess cs-\n",
      "reward\n",
      "observation (t=1):  0 no_shock not_surprised\n",
      "beliefs over states (t=1): [2.e-30 1.e+02]\n",
      "\n",
      "-----TRIAL 88 ------\n",
      "observation (t=0):  0 null null\n",
      "beliefs over states (t=0): [1.e-14 1.e+02]\n",
      "beliefs over actions:  [ 7.585818 92.414182]\n",
      "action:  guess cs-\n",
      "reward\n",
      "observation (t=1):  0 no_shock not_surprised\n",
      "beliefs over states (t=1): [2.e-30 1.e+02]\n",
      "\n",
      "-----TRIAL 89 ------\n",
      "observation (t=0):  1 null null\n",
      "beliefs over states (t=0): [1.e-14 1.e+02]\n",
      "beliefs over actions:  [ 7.585818 92.414182]\n",
      "action:  guess cs-\n",
      "reward\n",
      "observation (t=1):  1 no_shock not_surprised\n",
      "beliefs over states (t=1): [2.00000035e-14 1.00000000e+02]\n",
      "\n",
      "-----TRIAL 90 ------\n",
      "observation (t=0):  0 null null\n",
      "beliefs over states (t=0): [3.00000035e-14 1.00000000e+02]\n",
      "beliefs over actions:  [ 7.585818 92.414182]\n",
      "action:  guess cs-\n",
      "reward\n",
      "observation (t=1):  0 no_shock not_surprised\n",
      "beliefs over states (t=1): [4.00000035e-30 1.00000000e+02]\n",
      "\n",
      "-----TRIAL 91 ------\n",
      "observation (t=0):  1 null null\n",
      "beliefs over states (t=0): [1.e-14 1.e+02]\n",
      "beliefs over actions:  [ 7.585818 92.414182]\n",
      "action:  guess cs-\n",
      "penalty\n",
      "observation (t=1):  1 shock surprised\n",
      "beliefs over states (t=1): [60. 40.]\n",
      "\n",
      "-----TRIAL 92 ------\n",
      "observation (t=0):  0 null null\n",
      "beliefs over states (t=0): [60. 40.]\n",
      "beliefs over actions:  [62.24593312 37.75406688]\n",
      "action:  guess cs+\n",
      "observation (t=1):  0 no_shock surprised\n",
      "beliefs over states (t=1): [1.5e-14 1.0e+02]\n",
      "\n",
      "-----TRIAL 93 ------\n",
      "observation (t=0):  0 null null\n",
      "beliefs over states (t=0): [2.5e-14 1.0e+02]\n",
      "beliefs over actions:  [ 7.585818 92.414182]\n",
      "action:  guess cs-\n",
      "reward\n",
      "observation (t=1):  0 no_shock not_surprised\n",
      "beliefs over states (t=1): [3.5e-30 1.0e+02]\n",
      "\n",
      "-----TRIAL 94 ------\n",
      "observation (t=0):  0 null null\n",
      "beliefs over states (t=0): [1.e-14 1.e+02]\n",
      "beliefs over actions:  [ 7.585818 92.414182]\n",
      "action:  guess cs-\n",
      "reward\n",
      "observation (t=1):  0 no_shock not_surprised\n",
      "beliefs over states (t=1): [2.e-30 1.e+02]\n",
      "\n",
      "-----TRIAL 95 ------\n",
      "observation (t=0):  1 null null\n",
      "beliefs over states (t=0): [1.e-14 1.e+02]\n",
      "beliefs over actions:  [ 7.585818 92.414182]\n",
      "action:  guess cs-\n",
      "reward\n",
      "observation (t=1):  1 no_shock not_surprised\n",
      "beliefs over states (t=1): [2.00000035e-14 1.00000000e+02]\n",
      "\n",
      "-----TRIAL 96 ------\n",
      "observation (t=0):  0 null null\n",
      "beliefs over states (t=0): [3.00000035e-14 1.00000000e+02]\n",
      "beliefs over actions:  [ 7.585818 92.414182]\n",
      "action:  guess cs-\n",
      "reward\n",
      "observation (t=1):  0 no_shock not_surprised\n",
      "beliefs over states (t=1): [4.00000035e-30 1.00000000e+02]\n",
      "\n",
      "-----TRIAL 97 ------\n",
      "observation (t=0):  0 null null\n",
      "beliefs over states (t=0): [1.e-14 1.e+02]\n",
      "beliefs over actions:  [ 7.585818 92.414182]\n",
      "action:  guess cs-\n",
      "reward\n",
      "observation (t=1):  0 no_shock not_surprised\n",
      "beliefs over states (t=1): [2.e-30 1.e+02]\n",
      "\n",
      "-----TRIAL 98 ------\n",
      "observation (t=0):  0 null null\n",
      "beliefs over states (t=0): [1.e-14 1.e+02]\n",
      "beliefs over actions:  [ 7.585818 92.414182]\n",
      "action:  guess cs-\n",
      "reward\n",
      "observation (t=1):  0 no_shock not_surprised\n",
      "beliefs over states (t=1): [2.e-30 1.e+02]\n",
      "\n",
      "-----TRIAL 99 ------\n",
      "observation (t=0):  1 null null\n",
      "beliefs over states (t=0): [1.e-14 1.e+02]\n",
      "beliefs over actions:  [ 7.585818 92.414182]\n",
      "action:  guess cs-\n",
      "penalty\n",
      "observation (t=1):  1 shock surprised\n",
      "beliefs over states (t=1): [60. 40.]\n",
      "\n",
      "-----TRIAL 100 ------\n",
      "observation (t=0):  0 null null\n",
      "beliefs over states (t=0): [60. 40.]\n",
      "beliefs over actions:  [62.24593312 37.75406688]\n",
      "action:  guess cs+\n",
      "observation (t=1):  0 no_shock surprised\n",
      "beliefs over states (t=1): [1.5e-14 1.0e+02]\n",
      "\n",
      "-----TRIAL 101 ------\n",
      "observation (t=0):  0 null null\n",
      "beliefs over states (t=0): [2.5e-14 1.0e+02]\n",
      "beliefs over actions:  [ 7.585818 92.414182]\n",
      "action:  guess cs-\n",
      "reward\n",
      "observation (t=1):  0 no_shock not_surprised\n",
      "beliefs over states (t=1): [3.5e-30 1.0e+02]\n",
      "\n",
      "-----TRIAL 102 ------\n",
      "observation (t=0):  0 null null\n",
      "beliefs over states (t=0): [1.e-14 1.e+02]\n",
      "beliefs over actions:  [ 7.585818 92.414182]\n",
      "action:  guess cs-\n",
      "reward\n",
      "observation (t=1):  0 no_shock not_surprised\n",
      "beliefs over states (t=1): [2.e-30 1.e+02]\n",
      "\n",
      "-----TRIAL 103 ------\n",
      "observation (t=0):  0 null null\n",
      "beliefs over states (t=0): [1.e-14 1.e+02]\n",
      "beliefs over actions:  [ 7.585818 92.414182]\n",
      "action:  guess cs-\n",
      "reward\n",
      "observation (t=1):  0 no_shock not_surprised\n",
      "beliefs over states (t=1): [2.e-30 1.e+02]\n",
      "\n",
      "-----TRIAL 104 ------\n",
      "observation (t=0):  0 null null\n",
      "beliefs over states (t=0): [1.e-14 1.e+02]\n",
      "beliefs over actions:  [ 7.585818 92.414182]\n",
      "action:  guess cs-\n",
      "reward\n",
      "observation (t=1):  0 no_shock not_surprised\n",
      "beliefs over states (t=1): [2.e-30 1.e+02]\n",
      "\n",
      "-----TRIAL 105 ------\n",
      "observation (t=0):  1 null null\n",
      "beliefs over states (t=0): [1.e-14 1.e+02]\n",
      "beliefs over actions:  [ 7.585818 92.414182]\n",
      "action:  guess cs-\n",
      "reward\n",
      "observation (t=1):  1 no_shock not_surprised\n",
      "beliefs over states (t=1): [2.00000035e-14 1.00000000e+02]\n",
      "\n",
      "-----TRIAL 106 ------\n",
      "observation (t=0):  0 null null\n",
      "beliefs over states (t=0): [3.00000035e-14 1.00000000e+02]\n",
      "beliefs over actions:  [ 7.585818 92.414182]\n",
      "action:  guess cs-\n",
      "reward\n",
      "observation (t=1):  0 no_shock not_surprised\n",
      "beliefs over states (t=1): [4.00000035e-30 1.00000000e+02]\n",
      "\n",
      "-----TRIAL 107 ------\n",
      "observation (t=0):  1 null null\n",
      "beliefs over states (t=0): [1.e-14 1.e+02]\n",
      "beliefs over actions:  [ 7.585818 92.414182]\n",
      "action:  guess cs-\n",
      "penalty\n",
      "observation (t=1):  1 shock surprised\n",
      "beliefs over states (t=1): [60. 40.]\n",
      "\n",
      "-----TRIAL 108 ------\n",
      "observation (t=0):  0 null null\n",
      "beliefs over states (t=0): [60. 40.]\n",
      "beliefs over actions:  [62.24593312 37.75406688]\n",
      "action:  guess cs+\n",
      "observation (t=1):  0 no_shock surprised\n",
      "beliefs over states (t=1): [1.5e-14 1.0e+02]\n",
      "\n",
      "-----TRIAL 109 ------\n",
      "observation (t=0):  0 null null\n",
      "beliefs over states (t=0): [2.5e-14 1.0e+02]\n",
      "beliefs over actions:  [ 7.585818 92.414182]\n",
      "action:  guess cs-\n",
      "reward\n",
      "observation (t=1):  0 no_shock not_surprised\n",
      "beliefs over states (t=1): [3.5e-30 1.0e+02]\n",
      "\n",
      "-----TRIAL 110 ------\n",
      "observation (t=0):  0 null null\n",
      "beliefs over states (t=0): [1.e-14 1.e+02]\n",
      "beliefs over actions:  [ 7.585818 92.414182]\n",
      "action:  guess cs-\n",
      "reward\n",
      "observation (t=1):  0 no_shock not_surprised\n",
      "beliefs over states (t=1): [2.e-30 1.e+02]\n",
      "\n",
      "-----TRIAL 111 ------\n",
      "observation (t=0):  0 null null\n",
      "beliefs over states (t=0): [1.e-14 1.e+02]\n",
      "beliefs over actions:  [ 7.585818 92.414182]\n",
      "action:  guess cs-\n",
      "reward\n",
      "observation (t=1):  0 no_shock not_surprised\n",
      "beliefs over states (t=1): [2.e-30 1.e+02]\n",
      "\n",
      "-----TRIAL 112 ------\n",
      "observation (t=0):  1 null null\n",
      "beliefs over states (t=0): [1.e-14 1.e+02]\n",
      "beliefs over actions:  [ 7.585818 92.414182]\n",
      "action:  guess cs-\n",
      "penalty\n",
      "observation (t=1):  1 shock surprised\n",
      "beliefs over states (t=1): [60. 40.]\n",
      "\n",
      "-----TRIAL 113 ------\n",
      "observation (t=0):  1 null null\n",
      "beliefs over states (t=0): [60. 40.]\n",
      "beliefs over actions:  [62.24593312 37.75406688]\n",
      "action:  guess cs+\n",
      "observation (t=1):  1 no_shock surprised\n",
      "beliefs over states (t=1): [60.00014746 39.99985254]\n",
      "\n",
      "-----TRIAL 114 ------\n",
      "observation (t=0):  0 null null\n",
      "beliefs over states (t=0): [60.00014746 39.99985254]\n",
      "beliefs over actions:  [62.24610639 37.75389361]\n",
      "action:  guess cs+\n",
      "observation (t=1):  0 no_shock surprised\n",
      "beliefs over states (t=1): [1.50000922e-14 1.00000000e+02]\n",
      "\n",
      "-----TRIAL 115 ------\n",
      "observation (t=0):  0 null null\n",
      "beliefs over states (t=0): [2.50000922e-14 1.00000000e+02]\n",
      "beliefs over actions:  [ 7.585818 92.414182]\n",
      "action:  guess cs-\n",
      "reward\n",
      "observation (t=1):  0 no_shock not_surprised\n",
      "beliefs over states (t=1): [3.50000922e-30 1.00000000e+02]\n",
      "\n",
      "-----TRIAL 116 ------\n",
      "observation (t=0):  1 null null\n",
      "beliefs over states (t=0): [1.e-14 1.e+02]\n",
      "beliefs over actions:  [ 7.585818 92.414182]\n",
      "action:  guess cs-\n",
      "reward\n",
      "observation (t=1):  1 no_shock not_surprised\n",
      "beliefs over states (t=1): [2.00000035e-14 1.00000000e+02]\n",
      "\n",
      "-----TRIAL 117 ------\n",
      "observation (t=0):  0 null null\n",
      "beliefs over states (t=0): [3.00000035e-14 1.00000000e+02]\n",
      "beliefs over actions:  [ 7.585818 92.414182]\n",
      "action:  guess cs-\n",
      "reward\n",
      "observation (t=1):  0 no_shock not_surprised\n",
      "beliefs over states (t=1): [4.00000035e-30 1.00000000e+02]\n",
      "\n",
      "-----TRIAL 118 ------\n",
      "observation (t=0):  0 null null\n",
      "beliefs over states (t=0): [1.e-14 1.e+02]\n",
      "beliefs over actions:  [ 7.585818 92.414182]\n",
      "action:  guess cs-\n",
      "reward\n",
      "observation (t=1):  0 no_shock not_surprised\n",
      "beliefs over states (t=1): [2.e-30 1.e+02]\n",
      "\n",
      "-----TRIAL 119 ------\n",
      "observation (t=0):  0 null null\n",
      "beliefs over states (t=0): [1.e-14 1.e+02]\n",
      "beliefs over actions:  [ 7.585818 92.414182]\n",
      "action:  guess cs-\n",
      "reward\n",
      "observation (t=1):  0 no_shock not_surprised\n",
      "beliefs over states (t=1): [2.e-30 1.e+02]\n",
      "\n",
      "-----TRIAL 120 ------\n",
      "observation (t=0):  1 null null\n",
      "beliefs over states (t=0): [1.e-14 1.e+02]\n",
      "beliefs over actions:  [ 7.585818 92.414182]\n",
      "action:  guess cs-\n",
      "reward\n",
      "observation (t=1):  1 no_shock not_surprised\n",
      "beliefs over states (t=1): [2.00000035e-14 1.00000000e+02]\n",
      "\n",
      "-----TRIAL 121 ------\n",
      "observation (t=0):  1 null null\n",
      "beliefs over states (t=0): [3.00000035e-14 1.00000000e+02]\n",
      "beliefs over actions:  [ 7.585818 92.414182]\n",
      "action:  guess cs-\n",
      "penalty\n",
      "observation (t=1):  1 shock surprised\n",
      "beliefs over states (t=1): [75.00000166 24.99999834]\n",
      "\n",
      "-----TRIAL 122 ------\n",
      "observation (t=0):  0 null null\n",
      "beliefs over states (t=0): [75.00000166 24.99999834]\n",
      "beliefs over actions:  [77.72998756 22.27001244]\n",
      "action:  guess cs+\n",
      "observation (t=1):  0 no_shock surprised\n",
      "beliefs over states (t=1): [3.00000027e-14 1.00000000e+02]\n",
      "\n",
      "-----TRIAL 123 ------\n",
      "observation (t=0):  0 null null\n",
      "beliefs over states (t=0): [4.00000027e-14 1.00000000e+02]\n",
      "beliefs over actions:  [ 7.585818 92.414182]\n",
      "action:  guess cs-\n",
      "reward\n",
      "observation (t=1):  0 no_shock not_surprised\n",
      "beliefs over states (t=1): [5.00000027e-30 1.00000000e+02]\n",
      "\n",
      "-----TRIAL 124 ------\n",
      "observation (t=0):  0 null null\n",
      "beliefs over states (t=0): [1.e-14 1.e+02]\n",
      "beliefs over actions:  [ 7.585818 92.414182]\n",
      "action:  guess cs-\n",
      "reward\n",
      "observation (t=1):  0 no_shock not_surprised\n",
      "beliefs over states (t=1): [2.e-30 1.e+02]\n",
      "\n",
      "-----TRIAL 125 ------\n",
      "observation (t=0):  0 null null\n",
      "beliefs over states (t=0): [1.e-14 1.e+02]\n",
      "beliefs over actions:  [ 7.585818 92.414182]\n",
      "action:  guess cs-\n",
      "reward\n",
      "observation (t=1):  0 no_shock not_surprised\n",
      "beliefs over states (t=1): [2.e-30 1.e+02]\n",
      "\n",
      "-----TRIAL 126 ------\n",
      "observation (t=0):  1 null null\n",
      "beliefs over states (t=0): [1.e-14 1.e+02]\n",
      "beliefs over actions:  [ 7.585818 92.414182]\n",
      "action:  guess cs-\n",
      "penalty\n",
      "observation (t=1):  1 shock surprised\n",
      "beliefs over states (t=1): [60. 40.]\n",
      "\n",
      "-----TRIAL 127 ------\n",
      "observation (t=0):  0 null null\n",
      "beliefs over states (t=0): [60. 40.]\n",
      "beliefs over actions:  [62.24593312 37.75406688]\n",
      "action:  guess cs+\n",
      "observation (t=1):  0 no_shock surprised\n",
      "beliefs over states (t=1): [1.5e-14 1.0e+02]\n",
      "\n",
      "-----TRIAL 128 ------\n",
      "observation (t=0):  0 null null\n",
      "beliefs over states (t=0): [2.5e-14 1.0e+02]\n",
      "beliefs over actions:  [ 7.585818 92.414182]\n",
      "action:  guess cs-\n",
      "reward\n",
      "observation (t=1):  0 no_shock not_surprised\n",
      "beliefs over states (t=1): [3.5e-30 1.0e+02]\n",
      "\n",
      "-----TRIAL 129 ------\n",
      "observation (t=0):  1 null null\n",
      "beliefs over states (t=0): [1.e-14 1.e+02]\n",
      "beliefs over actions:  [ 7.585818 92.414182]\n",
      "action:  guess cs-\n",
      "penalty\n",
      "observation (t=1):  1 shock surprised\n",
      "beliefs over states (t=1): [60. 40.]\n",
      "\n",
      "-----TRIAL 130 ------\n",
      "observation (t=0):  0 null null\n",
      "beliefs over states (t=0): [60. 40.]\n",
      "beliefs over actions:  [62.24593312 37.75406688]\n",
      "action:  guess cs+\n",
      "observation (t=1):  0 no_shock surprised\n",
      "beliefs over states (t=1): [1.5e-14 1.0e+02]\n",
      "\n",
      "-----TRIAL 131 ------\n",
      "observation (t=0):  0 null null\n",
      "beliefs over states (t=0): [2.5e-14 1.0e+02]\n",
      "beliefs over actions:  [ 7.585818 92.414182]\n",
      "action:  guess cs-\n",
      "reward\n",
      "observation (t=1):  0 no_shock not_surprised\n",
      "beliefs over states (t=1): [3.5e-30 1.0e+02]\n",
      "\n",
      "-----TRIAL 132 ------\n",
      "observation (t=0):  0 null null\n",
      "beliefs over states (t=0): [1.e-14 1.e+02]\n",
      "beliefs over actions:  [ 7.585818 92.414182]\n",
      "action:  guess cs-\n",
      "reward\n",
      "observation (t=1):  0 no_shock not_surprised\n",
      "beliefs over states (t=1): [2.e-30 1.e+02]\n",
      "\n",
      "-----TRIAL 133 ------\n",
      "observation (t=0):  0 null null\n",
      "beliefs over states (t=0): [1.e-14 1.e+02]\n",
      "beliefs over actions:  [ 7.585818 92.414182]\n",
      "action:  guess cs-\n",
      "reward\n",
      "observation (t=1):  0 no_shock not_surprised\n",
      "beliefs over states (t=1): [2.e-30 1.e+02]\n",
      "\n",
      "-----TRIAL 134 ------\n",
      "observation (t=0):  1 null null\n",
      "beliefs over states (t=0): [1.e-14 1.e+02]\n",
      "beliefs over actions:  [ 7.585818 92.414182]\n",
      "action:  guess cs-\n",
      "penalty\n",
      "observation (t=1):  1 shock surprised\n",
      "beliefs over states (t=1): [60. 40.]\n",
      "\n",
      "-----TRIAL 135 ------\n",
      "observation (t=0):  0 null null\n",
      "beliefs over states (t=0): [60. 40.]\n",
      "beliefs over actions:  [62.24593312 37.75406688]\n",
      "action:  guess cs+\n",
      "observation (t=1):  0 no_shock surprised\n",
      "beliefs over states (t=1): [1.5e-14 1.0e+02]\n",
      "\n",
      "-----TRIAL 136 ------\n",
      "observation (t=0):  0 null null\n",
      "beliefs over states (t=0): [2.5e-14 1.0e+02]\n",
      "beliefs over actions:  [ 7.585818 92.414182]\n",
      "action:  guess cs-\n",
      "reward\n",
      "observation (t=1):  0 no_shock not_surprised\n",
      "beliefs over states (t=1): [3.5e-30 1.0e+02]\n",
      "\n",
      "-----TRIAL 137 ------\n",
      "observation (t=0):  1 null null\n",
      "beliefs over states (t=0): [1.e-14 1.e+02]\n",
      "beliefs over actions:  [ 7.585818 92.414182]\n",
      "action:  guess cs-\n",
      "reward\n",
      "observation (t=1):  1 no_shock not_surprised\n",
      "beliefs over states (t=1): [2.00000035e-14 1.00000000e+02]\n",
      "\n",
      "-----TRIAL 138 ------\n",
      "observation (t=0):  0 null null\n",
      "beliefs over states (t=0): [3.00000035e-14 1.00000000e+02]\n",
      "beliefs over actions:  [ 7.585818 92.414182]\n",
      "action:  guess cs-\n",
      "reward\n",
      "observation (t=1):  0 no_shock not_surprised\n",
      "beliefs over states (t=1): [4.00000035e-30 1.00000000e+02]\n",
      "\n",
      "-----TRIAL 139 ------\n",
      "observation (t=0):  0 null null\n",
      "beliefs over states (t=0): [1.e-14 1.e+02]\n",
      "beliefs over actions:  [ 7.585818 92.414182]\n",
      "action:  guess cs-\n",
      "reward\n",
      "observation (t=1):  0 no_shock not_surprised\n",
      "beliefs over states (t=1): [2.e-30 1.e+02]\n",
      "\n",
      "-----TRIAL 140 ------\n",
      "observation (t=0):  0 null null\n",
      "beliefs over states (t=0): [1.e-14 1.e+02]\n",
      "beliefs over actions:  [ 7.585818 92.414182]\n",
      "action:  guess cs-\n",
      "reward\n",
      "observation (t=1):  0 no_shock not_surprised\n",
      "beliefs over states (t=1): [2.e-30 1.e+02]\n",
      "\n",
      "-----TRIAL 141 ------\n",
      "observation (t=0):  0 null null\n",
      "beliefs over states (t=0): [1.e-14 1.e+02]\n",
      "beliefs over actions:  [ 7.585818 92.414182]\n",
      "action:  guess cs-\n",
      "reward\n",
      "observation (t=1):  0 no_shock not_surprised\n",
      "beliefs over states (t=1): [2.e-30 1.e+02]\n",
      "\n",
      "-----TRIAL 142 ------\n",
      "observation (t=0):  0 null null\n",
      "beliefs over states (t=0): [1.e-14 1.e+02]\n",
      "beliefs over actions:  [ 7.585818 92.414182]\n",
      "action:  guess cs-\n",
      "reward\n",
      "observation (t=1):  0 no_shock not_surprised\n",
      "beliefs over states (t=1): [2.e-30 1.e+02]\n",
      "\n",
      "-----TRIAL 143 ------\n",
      "observation (t=0):  1 null null\n",
      "beliefs over states (t=0): [1.e-14 1.e+02]\n",
      "beliefs over actions:  [ 7.585818 92.414182]\n",
      "action:  guess cs-\n",
      "reward\n",
      "observation (t=1):  1 no_shock not_surprised\n",
      "beliefs over states (t=1): [2.00000035e-14 1.00000000e+02]\n"
     ]
    }
   ],
   "source": [
    "list_action = []\n",
    "list_qs = []\n",
    "list_policies_low = []\n",
    "list_policies_high = []\n",
    "for trial in range(trials):\n",
    "\n",
    "    print(\"\\n-----TRIAL \" + str(trial) + \" ------\")\n",
    "\n",
    "    agent_stimul_obs, agent_shock_obs, agent_surpr_obs = 'null', 'null', 'null'\n",
    "    agent_stimul_obs = my_env.get_observation(param='morphing level', trial_number=trial)\n",
    "    print('observation (t=0): ', agent_stimul_obs, agent_shock_obs, agent_surpr_obs)\n",
    "    obs = [morph_level_obs.index(agent_stimul_obs), shock_obs.index(agent_shock_obs),\n",
    "            surprised_obs.index(agent_surpr_obs)]\n",
    "\n",
    "    qs = my_agent.infer_states(obs)  # agent update beliefs about hidden states given observations\n",
    "    print('beliefs over states (t=0):', qs[0]*100)\n",
    "    list_qs.append(qs[0])\n",
    "\n",
    "\n",
    "    policies = my_agent.infer_policies()  # inferring policies and sampling actions from the posterior\n",
    "    agent_action = my_agent.sample_action()\n",
    "\n",
    "    action_name = choice_action[int(agent_action[1])]\n",
    "\n",
    "    print('beliefs over actions: ', policies[0]*100)\n",
    "    list_policies_low.append(policies[0][0])\n",
    "    list_policies_high.append(policies[0][1])\n",
    "    print('action: ', action_name)\n",
    "    list_action.append(action_name)\n",
    "\n",
    "    agent_surpr_obs = my_env.step(action_name, trial)\n",
    "    agent_shock_obs = my_env.get_observation(param='shock', trial_number=trial)\n",
    "\n",
    "    print('observation (t=1): ', agent_stimul_obs, agent_shock_obs, agent_surpr_obs)\n",
    "\n",
    "    obs = [morph_level_obs.index(agent_stimul_obs), shock_obs.index(agent_shock_obs),\n",
    "           surprised_obs.index(agent_surpr_obs)]\n",
    "    qs = my_agent.infer_states(obs)  # agent update beliefs about hidden states given observations\n",
    "    print('beliefs over states (t=1):', qs[0] * 100)\n",
    "    #my_agent.reset()"
   ],
   "metadata": {
    "collapsed": false
   }
  },
  {
   "cell_type": "code",
   "execution_count": 21,
   "outputs": [],
   "source": [
    "list_csplus=[]\n",
    "list_csminus=[]\n",
    "for index, value in enumerate(list_qs):\n",
    "    list_csplus.append(value[0])\n",
    "    list_csminus.append(value[1])\n",
    "    #print('trial:',(index),'',value[0], '  ',value[1])"
   ],
   "metadata": {
    "collapsed": false
   }
  },
  {
   "cell_type": "code",
   "execution_count": 22,
   "outputs": [
    {
     "data": {
      "text/plain": "<matplotlib.collections.PathCollection at 0x1234990d0>"
     },
     "execution_count": 22,
     "metadata": {},
     "output_type": "execute_result"
    },
    {
     "data": {
      "text/plain": "<Figure size 1500x600 with 1 Axes>",
      "image/png": "[encoded data removed]"
     },
     "metadata": {},
     "output_type": "display_data"
    }
   ],
   "source": [
    "plt.figure(figsize=(15,6))\n",
    "plt.scatter(np.arange(len(list_policies_low)),list_policies_low)"
   ],
   "metadata": {
    "collapsed": false
   }
  },
  {
   "cell_type": "code",
   "execution_count": 23,
   "outputs": [
    {
     "data": {
      "text/plain": "[0.5,\n 0.07585818002124417,\n 0.7935001177462643,\n 0.9241418199787558,\n 0.33958646373987594,\n 0.9241418199787558,\n 0.23468508813980232,\n 0.07585818002124417,\n 0.743088693435606,\n 0.7430886934170218,\n 0.07585818002124431,\n 0.8464113992947637,\n 0.9241418199787559,\n 0.9241418199787558,\n 0.9241418199787558,\n 0.377540668798145,\n 0.3775389361105867,\n 0.9241418199787558,\n 0.2458828943219478,\n 0.07585818002124417,\n 0.7454821254909944,\n 0.7454821254741844,\n 0.9241418199787558,\n 0.32878617276985633,\n 0.9241418199787558,\n 0.9241418199787558,\n 0.9241418199787558,\n 0.377540668798145,\n 0.9241418199787558,\n 0.2458833820069041,\n 0.9241418199787558,\n 0.20082936265386558,\n 0.9241418199787558,\n 0.9241418199787558,\n 0.377540668798145,\n 0.9241418199787558,\n 0.9241418199787558,\n 0.9241418199787558,\n 0.9241418199787558,\n 0.9241418199787558,\n 0.9241418199787558,\n 0.9241418199787558,\n 0.377540668798145,\n 0.9241418199787558,\n 0.9241418199787558,\n 0.9241418199787558,\n 0.9241418199787558,\n 0.9241418199787558,\n 0.9241418199787558,\n 0.9241418199787558,\n 0.377540668798145,\n 0.9241418199787558,\n 0.2458833820069041,\n 0.9241418199787558,\n 0.9241418199787558,\n 0.9241418199787558,\n 0.9241418199787558,\n 0.9241418199787558,\n 0.9241418199787558,\n 0.9241418199787558,\n 0.9241418199787558,\n 0.9241418199787558,\n 0.9241418199787558,\n 0.9241418199787558,\n 0.9241418199787558,\n 0.377540668798145,\n 0.9241418199787558,\n 0.9241418199787558,\n 0.9241418199787558,\n 0.9241418199787558,\n 0.9241418199787558,\n 0.377540668798145,\n 0.3775389361105867,\n 0.9241418199787558,\n 0.9241418199787558,\n 0.9241418199787558,\n 0.9241418199787558,\n 0.9241418199787558,\n 0.9241418199787558,\n 0.9241418199787558,\n 0.377540668798145,\n 0.9241418199787558,\n 0.9241418199787558,\n 0.9241418199787558,\n 0.9241418199787558,\n 0.377540668798145,\n 0.9241418199787558,\n 0.9241418199787558,\n 0.9241418199787558,\n 0.9241418199787558,\n 0.9241418199787558,\n 0.9241418199787558,\n 0.377540668798145,\n 0.9241418199787558,\n 0.9241418199787558,\n 0.9241418199787558,\n 0.9241418199787558,\n 0.9241418199787558,\n 0.9241418199787558,\n 0.9241418199787558,\n 0.377540668798145,\n 0.9241418199787558,\n 0.9241418199787558,\n 0.9241418199787558,\n 0.9241418199787558,\n 0.9241418199787558,\n 0.9241418199787558,\n 0.9241418199787558,\n 0.377540668798145,\n 0.9241418199787558,\n 0.9241418199787558,\n 0.9241418199787558,\n 0.9241418199787558,\n 0.377540668798145,\n 0.3775389361105867,\n 0.9241418199787558,\n 0.9241418199787558,\n 0.9241418199787558,\n 0.9241418199787558,\n 0.9241418199787558,\n 0.9241418199787558,\n 0.9241418199787558,\n 0.22270012444068094,\n 0.9241418199787558,\n 0.9241418199787558,\n 0.9241418199787558,\n 0.9241418199787558,\n 0.377540668798145,\n 0.9241418199787558,\n 0.9241418199787558,\n 0.377540668798145,\n 0.9241418199787558,\n 0.9241418199787558,\n 0.9241418199787558,\n 0.9241418199787558,\n 0.377540668798145,\n 0.9241418199787558,\n 0.9241418199787558,\n 0.9241418199787558,\n 0.9241418199787558,\n 0.9241418199787558,\n 0.9241418199787558,\n 0.9241418199787558,\n 0.9241418199787558]"
     },
     "execution_count": 23,
     "metadata": {},
     "output_type": "execute_result"
    }
   ],
   "source": [
    "list_policies_high"
   ],
   "metadata": {
    "collapsed": false
   }
  },
  {
   "cell_type": "code",
   "execution_count": 24,
   "outputs": [
    {
     "data": {
      "text/plain": "<matplotlib.collections.PathCollection at 0x1235ef910>"
     },
     "execution_count": 24,
     "metadata": {},
     "output_type": "execute_result"
    },
    {
     "data": {
      "text/plain": "<Figure size 1500x600 with 1 Axes>",
      "image/png": "[encoded data removed]"
     },
     "metadata": {},
     "output_type": "display_data"
    }
   ],
   "source": [
    "plt.figure(figsize=(15,6))\n",
    "plt.scatter(np.arange(len(list_policies_high)),list_policies_high)"
   ],
   "metadata": {
    "collapsed": false
   }
  },
  {
   "cell_type": "code",
   "execution_count": 24,
   "outputs": [],
   "source": [],
   "metadata": {
    "collapsed": false
   }
  },
  {
   "cell_type": "code",
   "execution_count": 25,
   "outputs": [
    {
     "data": {
      "text/plain": "[<matplotlib.lines.Line2D at 0x12365d4f0>]"
     },
     "execution_count": 25,
     "metadata": {},
     "output_type": "execute_result"
    },
    {
     "data": {
      "text/plain": "<Figure size 640x480 with 1 Axes>",
      "image/png": "[encoded data removed]"
     },
     "metadata": {},
     "output_type": "display_data"
    }
   ],
   "source": [
    "plt.plot(list_csplus)"
   ],
   "metadata": {
    "collapsed": false
   }
  },
  {
   "cell_type": "code",
   "execution_count": 26,
   "outputs": [],
   "source": [
    "y=[]\n",
    "for index, value in enumerate(list_action):\n",
    "    if value=='guess cs-':\n",
    "        y.append(0)\n",
    "    if value=='guess cs+':\n",
    "        y.append(1)\n"
   ],
   "metadata": {
    "collapsed": false
   }
  },
  {
   "cell_type": "code",
   "execution_count": 27,
   "outputs": [
    {
     "data": {
      "text/plain": "     morphing level  shock\n0                 1      1\n1                 0      0\n2                 0      0\n3                 1      1\n4                 0      0\n..              ...    ...\n139               0      0\n140               0      0\n141               0      0\n142               0      0\n143               1      0\n\n[144 rows x 2 columns]",
      "text/html": "<div>\n<style scoped>\n    .dataframe tbody tr th:only-of-type {\n        vertical-align: middle;\n    }\n\n    .dataframe tbody tr th {\n        vertical-align: top;\n    }\n\n    .dataframe thead th {\n        text-align: right;\n    }\n</style>\n<table border=\"1\" class=\"dataframe\">\n  <thead>\n    <tr style=\"text-align: right;\">\n      <th></th>\n      <th>morphing level</th>\n      <th>shock</th>\n    </tr>\n  </thead>\n  <tbody>\n    <tr>\n      <th>0</th>\n      <td>1</td>\n      <td>1</td>\n    </tr>\n    <tr>\n      <th>1</th>\n      <td>0</td>\n      <td>0</td>\n    </tr>\n    <tr>\n      <th>2</th>\n      <td>0</td>\n      <td>0</td>\n    </tr>\n    <tr>\n      <th>3</th>\n      <td>1</td>\n      <td>1</td>\n    </tr>\n    <tr>\n      <th>4</th>\n      <td>0</td>\n      <td>0</td>\n    </tr>\n    <tr>\n      <th>...</th>\n      <td>...</td>\n      <td>...</td>\n    </tr>\n    <tr>\n      <th>139</th>\n      <td>0</td>\n      <td>0</td>\n    </tr>\n    <tr>\n      <th>140</th>\n      <td>0</td>\n      <td>0</td>\n    </tr>\n    <tr>\n      <th>141</th>\n      <td>0</td>\n      <td>0</td>\n    </tr>\n    <tr>\n      <th>142</th>\n      <td>0</td>\n      <td>0</td>\n    </tr>\n    <tr>\n      <th>143</th>\n      <td>1</td>\n      <td>0</td>\n    </tr>\n  </tbody>\n</table>\n<p>144 rows × 2 columns</p>\n</div>"
     },
     "execution_count": 27,
     "metadata": {},
     "output_type": "execute_result"
    }
   ],
   "source": [
    "data"
   ],
   "metadata": {
    "collapsed": false
   }
  },
  {
   "cell_type": "code",
   "execution_count": 28,
   "outputs": [
    {
     "data": {
      "text/plain": "[1,\n 1,\n 0,\n 0,\n 1,\n 0,\n 1,\n 1,\n 0,\n 0,\n 1,\n 0,\n 0,\n 0,\n 0,\n 1,\n 1,\n 0,\n 1,\n 1,\n 0,\n 0,\n 0,\n 1,\n 0,\n 0,\n 0,\n 1,\n 0,\n 1,\n 0,\n 1,\n 0,\n 0,\n 1,\n 0,\n 0,\n 0,\n 0,\n 0,\n 0,\n 0,\n 1,\n 0,\n 0,\n 0,\n 0,\n 0,\n 0,\n 0,\n 1,\n 0,\n 1,\n 0,\n 0,\n 0,\n 0,\n 0,\n 0,\n 0,\n 0,\n 0,\n 0,\n 0,\n 0,\n 1,\n 0,\n 0,\n 0,\n 0,\n 0,\n 1,\n 1,\n 0,\n 0,\n 0,\n 0,\n 0,\n 0,\n 0,\n 1,\n 0,\n 0,\n 0,\n 0,\n 1,\n 0,\n 0,\n 0,\n 0,\n 0,\n 0,\n 1,\n 0,\n 0,\n 0,\n 0,\n 0,\n 0,\n 0,\n 1,\n 0,\n 0,\n 0,\n 0,\n 0,\n 0,\n 0,\n 1,\n 0,\n 0,\n 0,\n 0,\n 1,\n 1,\n 0,\n 0,\n 0,\n 0,\n 0,\n 0,\n 0,\n 1,\n 0,\n 0,\n 0,\n 0,\n 1,\n 0,\n 0,\n 1,\n 0,\n 0,\n 0,\n 0,\n 1,\n 0,\n 0,\n 0,\n 0,\n 0,\n 0,\n 0,\n 0]"
     },
     "execution_count": 28,
     "metadata": {},
     "output_type": "execute_result"
    }
   ],
   "source": [
    "y"
   ],
   "metadata": {
    "collapsed": false
   }
  },
  {
   "cell_type": "code",
   "execution_count": 29,
   "outputs": [
    {
     "data": {
      "text/plain": "array([[ 1.        , -0.13599595],\n       [-0.13599595,  1.        ]])"
     },
     "execution_count": 29,
     "metadata": {},
     "output_type": "execute_result"
    }
   ],
   "source": [
    "np.corrcoef(y,data['shock'])"
   ],
   "metadata": {
    "collapsed": false
   }
  },
  {
   "cell_type": "code",
   "execution_count": 30,
   "outputs": [],
   "source": [
    "data_for_plot = data"
   ],
   "metadata": {
    "collapsed": false
   }
  },
  {
   "cell_type": "code",
   "execution_count": 31,
   "outputs": [
    {
     "data": {
      "text/plain": "\"for i in range(1, 10):\\n    plt.axvline(x=10*i, color='orange')\""
     },
     "execution_count": 31,
     "metadata": {},
     "output_type": "execute_result"
    },
    {
     "data": {
      "text/plain": "<Figure size 2000x800 with 1 Axes>",
      "image/png": "[encoded data removed]"
     },
     "metadata": {},
     "output_type": "display_data"
    }
   ],
   "source": [
    "fig = plt.figure(figsize=(20,8))\n",
    "plt.ylim(-1,6)\n",
    "plt.yticks(ticks=(0,1,2,3,4,5),labels=('predict cs-','predict cs+','noshock','shock','img orig','img minac'))\n",
    "plt.xlabel('trials')\n",
    "plt.scatter(np.arange(len(data_for_plot['morphing level'])),data_for_plot['morphing level']+4)\n",
    "plt.scatter(np.arange(len(data_for_plot['shock'])),data_for_plot['shock']+2,color='red')\n",
    "plt.scatter(np.arange(len(y)),y,color = 'green')\n",
    "'''for i in range(1, 10):\n",
    "    plt.axvline(x=10*i, color='orange')'''"
   ],
   "metadata": {
    "collapsed": false
   }
  },
  {
   "cell_type": "code",
   "execution_count": 31,
   "outputs": [],
   "source": [],
   "metadata": {
    "collapsed": false
   }
  },
  {
   "cell_type": "code",
   "execution_count": 44,
   "outputs": [],
   "source": [
    "plt.rcParams['axes.grid'] = False"
   ],
   "metadata": {
    "collapsed": false
   }
  },
  {
   "cell_type": "code",
   "execution_count": 58,
   "outputs": [
    {
     "data": {
      "text/plain": "<Figure size 800x700 with 3 Axes>",
      "image/png": "[encoded data removed]"
     },
     "metadata": {},
     "output_type": "display_data"
    }
   ],
   "source": [
    "fig, ax = plt.subplots(3, figsize=(8,7), sharex=True)\n",
    "\n",
    "\n",
    "\n",
    "ax[0].set_title('Morphing level')\n",
    "ax[0].scatter(np.arange(len(data['morphing level'])),data['morphing level'], color='mediumblue', s=14)\n",
    "ax[0].set_yticks(np.arange(0, 2), ['CS-', 'CS+'])\n",
    "ax[0].axhline(y=0.5, color='gray', linewidth=0.2)\n",
    "ax[0].set_ylim([-0.5, 1.6])\n",
    "ax[0].set_xticks(np.arange(0, 150, 20), )\n",
    "\n",
    "ax[1].set_title('Shock')\n",
    "ax[1].scatter(np.arange(len(data['shock'])),data['shock'],color='mediumblue', s=14)\n",
    "ax[1].set_yticks(np.arange(0, 2), ['Shock', 'No shock'])\n",
    "ax[1].axhline(y=0.5, color='gray', linewidth=0.2)\n",
    "ax[1].set_ylim([-0.5, 1.6])\n",
    "ax[1].set_xticks(np.arange(0, 150, 20), )\n",
    "\n",
    "\n",
    "ax[2].set_title('Shock prediction')\n",
    "ax[2].scatter(np.arange(len(y)),y, color='mediumblue', s=14)\n",
    "ax[2].set_yticks(np.arange(0, 2), ['CS-', 'CS+'])\n",
    "ax[2].axhline(y=0.5, color='gray', linewidth=0.2)\n",
    "ax[2].set_ylim([-0.5, 1.6])\n",
    "ax[2].set_xticks(np.arange(0, 145, 20))\n",
    "plt.xlabel('Trials', fontsize='12')\n",
    "\n",
    "fig.tight_layout()\n",
    "plt.show()\n"
   ],
   "metadata": {
    "collapsed": false
   }
  },
  {
   "cell_type": "code",
   "execution_count": 34,
   "outputs": [
    {
     "data": {
      "text/plain": "144"
     },
     "execution_count": 34,
     "metadata": {},
     "output_type": "execute_result"
    }
   ],
   "source": [
    "len(y)"
   ],
   "metadata": {
    "collapsed": false
   }
  },
  {
   "cell_type": "code",
   "execution_count": 35,
   "outputs": [
    {
     "data": {
      "text/plain": "\"\\nimg4.set_title('Selected policies (post-trial)')\\nimg4.set(ylabel=r'$\\\\pi$')\\nimg4.set_ylim(max(y4), min(y4))\\nfor line in range(0, 12):\\n    img4.axhline(y=line, color='gray', linewidth=0.2)\\nimg4.axvline(x=32, color='mediumaquamarine', label='context reversal', linestyle='dotted')\\nimg4.set_xticks(np.arange(0, 65, 4), [])  # set text labels\\nimg4.set_yticks(np.arange(0, 11, 1),\\n                [r'$\\x08igcirc\\x08igcirc$', r'$\\x08igcirc\\\\leftarrow$', r'$\\x08igcirc\\rightarrow$', r'$\\x08igcirc\\\\downarrow$',\\n                 r'$\\\\leftarrow\\\\leftarrow$', r'$\\rightarrow\\rightarrow$', r'$\\\\downarrow\\x08igcirc$',\\n                 r'$\\\\downarrow\\\\leftarrow$', r'$\\\\downarrow\\rightarrow$', r'$\\\\downarrow\\\\downarrow$', ''])\\nimg4.plot(x, y4, 'o', markeredgewidth=0.1, markerfacecolor=None, color='mediumblue')\""
     },
     "execution_count": 35,
     "metadata": {},
     "output_type": "execute_result"
    }
   ],
   "source": [
    "\n",
    "'''\n",
    "img4.set_title('Selected policies (post-trial)')\n",
    "img4.set(ylabel=r'$\\pi$')\n",
    "img4.set_ylim(max(y4), min(y4))\n",
    "for line in range(0, 12):\n",
    "    img4.axhline(y=line, color='gray', linewidth=0.2)\n",
    "img4.axvline(x=32, color='mediumaquamarine', label='context reversal', linestyle='dotted')\n",
    "img4.set_xticks(np.arange(0, 65, 4), [])  # set text labels\n",
    "img4.set_yticks(np.arange(0, 11, 1),\n",
    "                [r'$\\bigcirc\\bigcirc$', r'$\\bigcirc\\leftarrow$', r'$\\bigcirc\\rightarrow$', r'$\\bigcirc\\downarrow$',\n",
    "                 r'$\\leftarrow\\leftarrow$', r'$\\rightarrow\\rightarrow$', r'$\\downarrow\\bigcirc$',\n",
    "                 r'$\\downarrow\\leftarrow$', r'$\\downarrow\\rightarrow$', r'$\\downarrow\\downarrow$', ''])\n",
    "img4.plot(x, y4, 'o', markeredgewidth=0.1, markerfacecolor=None, color='mediumblue')'''"
   ],
   "metadata": {
    "collapsed": false
   }
  },
  {
   "cell_type": "code",
   "execution_count": 36,
   "outputs": [],
   "source": [
    "pymdp_agent = np.array(y)\n",
    "\n",
    "df_correlation = pd.DataFrame(columns=['subject','pearson','r2score','cohen'])\n",
    "\n",
    "\n",
    "os.chdir('..')\n",
    "valid_sub = extract_correct_csv.extract_only_valid_subject()\n",
    "for sub in valid_sub:\n",
    "    subj_ = extract_correct_csv.read_correct_subject_csv(sub)\n",
    "    df_sub = pd.read_csv('data/newLookAtMe/newLookAtMe'+subj_+'.csv')\n",
    "\n",
    "    df_sub = df_sub[['shock', 'rating', 'morphing level']]\n",
    "\n",
    "    df_sub['shock'] = df_sub['shock'].astype(int)\n",
    "    df_sub['morphing level'] = [int(d == 6) for d in df_sub['morphing level']]\n",
    "    df_sub['rating'] = df_sub['rating'].replace([1, 2], [0, 0])\n",
    "    df_sub['rating'] = df_sub['rating'].replace([3,4,5], [1,1,1])\n",
    "\n",
    "    # remove habituation trials\n",
    "    df_sub_learn = df_sub[16:]\n",
    "\n",
    "    rating_sub = np.array(df_sub_learn['rating'])\n",
    "\n",
    "    # remove nan\n",
    "    bad = ~np.logical_or(np.isnan(rating_sub), np.isnan(pymdp_agent))\n",
    "    rating_sub_ = np.compress(bad, rating_sub)\n",
    "    rating_rational_ = np.compress(bad, pymdp_agent)\n",
    "    rating_sub_ = [int(x) for x in rating_sub_]\n",
    "\n",
    "    #pearson corr coeff\n",
    "    pearson = round(np.corrcoef(rating_sub_,rating_rational_)[0][1],2)\n",
    "\n",
    "    #r2 score\n",
    "    r2 = round(r2_score(rating_sub_,rating_rational_),2)\n",
    "\n",
    "    #cohen kappa\n",
    "    cohen = round(cohen_kappa_score(rating_sub_,rating_rational_),2)\n",
    "\n",
    "    # write line\n",
    "    df_tmp = pd.DataFrame({'subject':sub,'pearson':pearson,'r2score':r2,'cohen':cohen},index=np.arange(1))\n",
    "    df_correlation = pd.concat([df_correlation,df_tmp])\n",
    "\n",
    "# read sias data\n",
    "sias_df = pd.read_csv('data/sias_score.csv').drop(columns='social_anxiety')\n",
    "sias_df['subject'] = [float(x) for x in sias_df['subject']]\n",
    "\n",
    "# read lds data\n",
    "lds_df = pd.read_csv('data/lds_subjects.csv')\n",
    "lds_df['subject'] = [float(x) for x in lds_df['subject']]\n",
    "\n",
    "# merge sias,lds and correlation indices\n",
    "merged_df = pd.concat([sias_df.set_index('subject'), lds_df.set_index('subject'), df_correlation.set_index('subject')], axis=1)\n",
    "merged_df = merged_df.reset_index().dropna()\n",
    "\n",
    "#extract low and high lds\n",
    "lds_ = merged_df.sort_values('lds').reset_index(drop=True)\n",
    "lower_lds = lds_[:7]\n",
    "higher_lds = lds_[-7:]\n",
    "\n",
    "#extract low and high sias\n",
    "sias_ = merged_df.sort_values('sias_score').reset_index(drop=True)\n",
    "lower_sias = sias_[:7]\n",
    "higher_sias = sias_[-7:]\n"
   ],
   "metadata": {
    "collapsed": false
   }
  },
  {
   "cell_type": "code",
   "execution_count": 37,
   "outputs": [],
   "source": [
    "merged_df.to_csv('output/simulation_pymdp/correlation.csv', index=False)"
   ],
   "metadata": {
    "collapsed": false
   }
  },
  {
   "cell_type": "markdown",
   "source": [
    "# compare low vs high lds"
   ],
   "metadata": {
    "collapsed": false
   }
  },
  {
   "cell_type": "code",
   "execution_count": 38,
   "outputs": [
    {
     "data": {
      "text/plain": "pearson   -0.09\nr2score   -1.32\ncohen     -0.07\ndtype: float64"
     },
     "execution_count": 38,
     "metadata": {},
     "output_type": "execute_result"
    }
   ],
   "source": [
    "lower_lds.median().drop(['subject','sias_score','lds'])"
   ],
   "metadata": {
    "collapsed": false
   }
  },
  {
   "cell_type": "code",
   "execution_count": 39,
   "outputs": [
    {
     "data": {
      "text/plain": "pearson   -0.17\nr2score   -1.16\ncohen     -0.16\ndtype: float64"
     },
     "execution_count": 39,
     "metadata": {},
     "output_type": "execute_result"
    }
   ],
   "source": [
    "higher_lds.median().drop(['subject','sias_score','lds'])"
   ],
   "metadata": {
    "collapsed": false
   }
  },
  {
   "cell_type": "markdown",
   "source": [
    "# compare low vs high sias"
   ],
   "metadata": {
    "collapsed": false
   }
  },
  {
   "cell_type": "code",
   "execution_count": 40,
   "outputs": [
    {
     "data": {
      "text/plain": "pearson   -0.12\nr2score   -1.26\ncohen     -0.11\ndtype: float64"
     },
     "execution_count": 40,
     "metadata": {},
     "output_type": "execute_result"
    }
   ],
   "source": [
    "lower_sias.median().drop(['subject','sias_score','lds'])"
   ],
   "metadata": {
    "collapsed": false
   }
  },
  {
   "cell_type": "code",
   "execution_count": 41,
   "outputs": [
    {
     "data": {
      "text/plain": "pearson   -0.10\nr2score   -1.12\ncohen     -0.08\ndtype: float64"
     },
     "execution_count": 41,
     "metadata": {},
     "output_type": "execute_result"
    }
   ],
   "source": [
    "higher_sias.median().drop(['subject','sias_score','lds'])"
   ],
   "metadata": {
    "collapsed": false
   }
  },
  {
   "cell_type": "code",
   "execution_count": 42,
   "outputs": [
    {
     "data": {
      "text/plain": "    subject  sias_score    lds  pearson  r2score  cohen\n0       1.0        21.0  0.201     0.05    -0.79   0.04\n1       2.0        11.0  0.828    -0.22    -1.34  -0.18\n3       4.0        12.0  0.111    -0.09    -1.32  -0.07\n4       5.0        30.0  0.953    -0.06    -1.01  -0.05\n5       6.0         8.0  1.312    -0.21    -1.26  -0.20\n6       7.0        25.0  0.535    -0.10    -1.12  -0.08\n12     13.0        16.0  0.141    -0.05    -1.39  -0.04\n14     15.0        16.0  0.693    -0.13    -1.06  -0.12\n15     16.0        55.0  0.621    -0.12    -1.16  -0.10\n16     17.0        16.0 -0.382    -0.19    -1.60  -0.14\n20     21.0        20.0  0.539     0.07    -1.45   0.05\n21     22.0        18.0  0.987    -0.20    -1.20  -0.18\n22     23.0        37.0  0.279    -0.09    -1.20  -0.07\n25     26.0         3.0  0.834    -0.01    -0.85  -0.01\n26     27.0        31.0  1.328    -0.17    -1.12  -0.16\n27     28.0        19.0  1.295    -0.08    -0.99  -0.08\n30     31.0        16.0  1.469    -0.19    -1.17  -0.18\n31     32.0        20.0 -0.189    -0.28    -1.72  -0.21\n32     33.0        22.0  0.969    -0.11    -1.08  -0.10\n33     41.0        15.0  0.576    -0.12    -1.04  -0.11\n35     43.0        25.0  1.043    -0.16    -1.16  -0.14\n36     44.0        18.0  0.307    -0.12    -1.66  -0.09\n37     45.0        19.0  1.011    -0.18    -1.15  -0.17\n38     46.0        31.0  0.006     0.20    -1.12   0.14\n39     47.0        20.0  1.066    -0.06    -0.99  -0.06\n40     48.0        24.0  0.365    -0.11    -1.19  -0.09\n42     50.0        23.0  0.443    -0.06    -1.30  -0.04\n43     51.0         6.0  0.641    -0.12    -1.07  -0.11\n44     52.0        21.0  0.497    -0.11    -1.02  -0.10\n46     54.0        17.0  1.594    -0.20    -1.21  -0.18",
      "text/html": "<div>\n<style scoped>\n    .dataframe tbody tr th:only-of-type {\n        vertical-align: middle;\n    }\n\n    .dataframe tbody tr th {\n        vertical-align: top;\n    }\n\n    .dataframe thead th {\n        text-align: right;\n    }\n</style>\n<table border=\"1\" class=\"dataframe\">\n  <thead>\n    <tr style=\"text-align: right;\">\n      <th></th>\n      <th>subject</th>\n      <th>sias_score</th>\n      <th>lds</th>\n      <th>pearson</th>\n      <th>r2score</th>\n      <th>cohen</th>\n    </tr>\n  </thead>\n  <tbody>\n    <tr>\n      <th>0</th>\n      <td>1.0</td>\n      <td>21.0</td>\n      <td>0.201</td>\n      <td>0.05</td>\n      <td>-0.79</td>\n      <td>0.04</td>\n    </tr>\n    <tr>\n      <th>1</th>\n      <td>2.0</td>\n      <td>11.0</td>\n      <td>0.828</td>\n      <td>-0.22</td>\n      <td>-1.34</td>\n      <td>-0.18</td>\n    </tr>\n    <tr>\n      <th>3</th>\n      <td>4.0</td>\n      <td>12.0</td>\n      <td>0.111</td>\n      <td>-0.09</td>\n      <td>-1.32</td>\n      <td>-0.07</td>\n    </tr>\n    <tr>\n      <th>4</th>\n      <td>5.0</td>\n      <td>30.0</td>\n      <td>0.953</td>\n      <td>-0.06</td>\n      <td>-1.01</td>\n      <td>-0.05</td>\n    </tr>\n    <tr>\n      <th>5</th>\n      <td>6.0</td>\n      <td>8.0</td>\n      <td>1.312</td>\n      <td>-0.21</td>\n      <td>-1.26</td>\n      <td>-0.20</td>\n    </tr>\n    <tr>\n      <th>6</th>\n      <td>7.0</td>\n      <td>25.0</td>\n      <td>0.535</td>\n      <td>-0.10</td>\n      <td>-1.12</td>\n      <td>-0.08</td>\n    </tr>\n    <tr>\n      <th>12</th>\n      <td>13.0</td>\n      <td>16.0</td>\n      <td>0.141</td>\n      <td>-0.05</td>\n      <td>-1.39</td>\n      <td>-0.04</td>\n    </tr>\n    <tr>\n      <th>14</th>\n      <td>15.0</td>\n      <td>16.0</td>\n      <td>0.693</td>\n      <td>-0.13</td>\n      <td>-1.06</td>\n      <td>-0.12</td>\n    </tr>\n    <tr>\n      <th>15</th>\n      <td>16.0</td>\n      <td>55.0</td>\n      <td>0.621</td>\n      <td>-0.12</td>\n      <td>-1.16</td>\n      <td>-0.10</td>\n    </tr>\n    <tr>\n      <th>16</th>\n      <td>17.0</td>\n      <td>16.0</td>\n      <td>-0.382</td>\n      <td>-0.19</td>\n      <td>-1.60</td>\n      <td>-0.14</td>\n    </tr>\n    <tr>\n      <th>20</th>\n      <td>21.0</td>\n      <td>20.0</td>\n      <td>0.539</td>\n      <td>0.07</td>\n      <td>-1.45</td>\n      <td>0.05</td>\n    </tr>\n    <tr>\n      <th>21</th>\n      <td>22.0</td>\n      <td>18.0</td>\n      <td>0.987</td>\n      <td>-0.20</td>\n      <td>-1.20</td>\n      <td>-0.18</td>\n    </tr>\n    <tr>\n      <th>22</th>\n      <td>23.0</td>\n      <td>37.0</td>\n      <td>0.279</td>\n      <td>-0.09</td>\n      <td>-1.20</td>\n      <td>-0.07</td>\n    </tr>\n    <tr>\n      <th>25</th>\n      <td>26.0</td>\n      <td>3.0</td>\n      <td>0.834</td>\n      <td>-0.01</td>\n      <td>-0.85</td>\n      <td>-0.01</td>\n    </tr>\n    <tr>\n      <th>26</th>\n      <td>27.0</td>\n      <td>31.0</td>\n      <td>1.328</td>\n      <td>-0.17</td>\n      <td>-1.12</td>\n      <td>-0.16</td>\n    </tr>\n    <tr>\n      <th>27</th>\n      <td>28.0</td>\n      <td>19.0</td>\n      <td>1.295</td>\n      <td>-0.08</td>\n      <td>-0.99</td>\n      <td>-0.08</td>\n    </tr>\n    <tr>\n      <th>30</th>\n      <td>31.0</td>\n      <td>16.0</td>\n      <td>1.469</td>\n      <td>-0.19</td>\n      <td>-1.17</td>\n      <td>-0.18</td>\n    </tr>\n    <tr>\n      <th>31</th>\n      <td>32.0</td>\n      <td>20.0</td>\n      <td>-0.189</td>\n      <td>-0.28</td>\n      <td>-1.72</td>\n      <td>-0.21</td>\n    </tr>\n    <tr>\n      <th>32</th>\n      <td>33.0</td>\n      <td>22.0</td>\n      <td>0.969</td>\n      <td>-0.11</td>\n      <td>-1.08</td>\n      <td>-0.10</td>\n    </tr>\n    <tr>\n      <th>33</th>\n      <td>41.0</td>\n      <td>15.0</td>\n      <td>0.576</td>\n      <td>-0.12</td>\n      <td>-1.04</td>\n      <td>-0.11</td>\n    </tr>\n    <tr>\n      <th>35</th>\n      <td>43.0</td>\n      <td>25.0</td>\n      <td>1.043</td>\n      <td>-0.16</td>\n      <td>-1.16</td>\n      <td>-0.14</td>\n    </tr>\n    <tr>\n      <th>36</th>\n      <td>44.0</td>\n      <td>18.0</td>\n      <td>0.307</td>\n      <td>-0.12</td>\n      <td>-1.66</td>\n      <td>-0.09</td>\n    </tr>\n    <tr>\n      <th>37</th>\n      <td>45.0</td>\n      <td>19.0</td>\n      <td>1.011</td>\n      <td>-0.18</td>\n      <td>-1.15</td>\n      <td>-0.17</td>\n    </tr>\n    <tr>\n      <th>38</th>\n      <td>46.0</td>\n      <td>31.0</td>\n      <td>0.006</td>\n      <td>0.20</td>\n      <td>-1.12</td>\n      <td>0.14</td>\n    </tr>\n    <tr>\n      <th>39</th>\n      <td>47.0</td>\n      <td>20.0</td>\n      <td>1.066</td>\n      <td>-0.06</td>\n      <td>-0.99</td>\n      <td>-0.06</td>\n    </tr>\n    <tr>\n      <th>40</th>\n      <td>48.0</td>\n      <td>24.0</td>\n      <td>0.365</td>\n      <td>-0.11</td>\n      <td>-1.19</td>\n      <td>-0.09</td>\n    </tr>\n    <tr>\n      <th>42</th>\n      <td>50.0</td>\n      <td>23.0</td>\n      <td>0.443</td>\n      <td>-0.06</td>\n      <td>-1.30</td>\n      <td>-0.04</td>\n    </tr>\n    <tr>\n      <th>43</th>\n      <td>51.0</td>\n      <td>6.0</td>\n      <td>0.641</td>\n      <td>-0.12</td>\n      <td>-1.07</td>\n      <td>-0.11</td>\n    </tr>\n    <tr>\n      <th>44</th>\n      <td>52.0</td>\n      <td>21.0</td>\n      <td>0.497</td>\n      <td>-0.11</td>\n      <td>-1.02</td>\n      <td>-0.10</td>\n    </tr>\n    <tr>\n      <th>46</th>\n      <td>54.0</td>\n      <td>17.0</td>\n      <td>1.594</td>\n      <td>-0.20</td>\n      <td>-1.21</td>\n      <td>-0.18</td>\n    </tr>\n  </tbody>\n</table>\n</div>"
     },
     "execution_count": 42,
     "metadata": {},
     "output_type": "execute_result"
    }
   ],
   "source": [
    "merged_df"
   ],
   "metadata": {
    "collapsed": false
   }
  },
  {
   "cell_type": "code",
   "execution_count": 43,
   "outputs": [
    {
     "data": {
      "text/plain": "<Figure size 640x480 with 1 Axes>",
      "image/png": "[encoded data removed]"
     },
     "metadata": {},
     "output_type": "display_data"
    }
   ],
   "source": [
    "from sklearn.linear_model import LinearRegression\n",
    "lds_values = merged_df['lds'].values\n",
    "pearson_values = merged_df['pearson'].values\n",
    "lds_values = lds_values[:, np.newaxis]\n",
    "\n",
    "reg_lds = LinearRegression()\n",
    "reg_lds.fit(lds_values, pearson_values)\n",
    "predict_lds = reg_lds.predict(lds_values)\n",
    "plt.plot(lds_values, predict_lds, color='red')\n",
    "plt.scatter(lds_values, pearson_values)\n",
    "plt.xlabel('lds_values')\n",
    "plt.ylabel('pearson values')\n",
    "plt.show()"
   ],
   "metadata": {
    "collapsed": false
   }
  },
  {
   "cell_type": "code",
   "execution_count": 43,
   "outputs": [],
   "source": [],
   "metadata": {
    "collapsed": false
   }
  }
 ],
 "metadata": {
  "kernelspec": {
   "display_name": "Python 3",
   "language": "python",
   "name": "python3"
  },
  "language_info": {
   "codemirror_mode": {
    "name": "ipython",
    "version": 3
   },
   "file_extension": ".py",
   "mimetype": "text/x-python",
   "name": "python",
   "nbconvert_exporter": "python",
   "pygments_lexer": "ipython3",
   "version": "3.6.4"
  }
 },
 "nbformat": 4,
 "nbformat_minor": 2
}
