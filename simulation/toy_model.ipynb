{
 "cells": [
  {
   "cell_type": "code",
   "execution_count": 103,
   "metadata": {
    "collapsed": true
   },
   "outputs": [],
   "source": [
    "import copy\n",
    "\n",
    "import pymdp\n",
    "from pymdp import utils\n",
    "from pymdp.agent import Agent\n",
    "import numpy as np\n",
    "import matplotlib.pyplot as plt\n",
    "import seaborn as sns"
   ]
  },
  {
   "cell_type": "code",
   "execution_count": 1,
   "outputs": [],
   "source": [],
   "metadata": {
    "collapsed": false
   }
  },
  {
   "cell_type": "code",
   "execution_count": 2,
   "outputs": [
    {
     "data": {
      "text/plain": "' Specify the dimensionalities of the hidden state factors, the control factors, and the observation modalities '"
     },
     "execution_count": 2,
     "metadata": {},
     "output_type": "execute_result"
    }
   ],
   "source": [
    "\"\"\" Specify the dimensionalities of the hidden state factors, the control factors, and the observation modalities \"\"\""
   ],
   "metadata": {
    "collapsed": false
   }
  },
  {
   "cell_type": "code",
   "execution_count": 92,
   "outputs": [],
   "source": [
    "trials = 64\n",
    "T = 2  # number of timepoints per trial\n",
    "\n",
    "#STATES\n",
    "# state if the img is cs+ or cs-\n",
    "state = ['cs+', 'cs-']\n",
    "\n",
    "\n",
    "#OBSERVATIONS\n",
    "\n",
    "# morphing level binary. shock only if morph_level=6\n",
    "morph_level_obs = ['1','6']\n",
    "# the subject receive the electric shock?\n",
    "shock_obs = ['shock', 'no shock']\n",
    "# observation to discriminate if the subject is surprised or prepared. A sort of diff between user prediction and shock observation\n",
    "surprised_obs = ['not_surprised','surprised']\n",
    "\n",
    "#ACTIONS\n",
    "# the subject predict if should be receive the shock or not\n",
    "action = ['guess-cs+','guess-cs-']\n",
    "\n",
    "# Define `num_states` and `num_factors` below\n",
    "num_states = [len(state)] #[2]\n",
    "num_factors = len(num_states) #1\n",
    "\n",
    "#Define `num_obs` and `num_modalities` below\n",
    "num_obs = [len(morph_level_obs), len(shock_obs), len(surprised_obs)] # [2,2,2]\n",
    "num_modalities = len(num_obs) #3\n",
    "\n"
   ],
   "metadata": {
    "collapsed": false
   }
  },
  {
   "cell_type": "code",
   "execution_count": 93,
   "outputs": [
    {
     "data": {
      "text/plain": "1"
     },
     "execution_count": 93,
     "metadata": {},
     "output_type": "execute_result"
    }
   ],
   "source": [
    "num_factors"
   ],
   "metadata": {
    "collapsed": false
   }
  },
  {
   "cell_type": "code",
   "execution_count": 104,
   "outputs": [],
   "source": [
    "def matrices(TrialEnv):\n",
    "    \"\"\"\n",
    "    The A, B, C, D, E matrices are built.\n",
    "    \"\"\"\n",
    "    # This is the likelihood mapping that truly describes the relationship between the\n",
    "    # environment's hidden state and the observations the agent will get\n",
    "\n",
    "    # A matrix\n",
    "    # A dimension?\n",
    "    A = np.zeros((2, len(state),num_modalities))\n",
    "\n",
    "    #mor_lev_binary/states\n",
    "    A[:, :, 0] = np.array([ [0, 1],\n",
    "                            [1, 0] ]\n",
    "                          )\n",
    "\n",
    "    #shock-noshock/states\n",
    "    A[:, :, 1] = np.array([ [0.75, 0],\n",
    "                            [0.25, 1] ]\n",
    "                          )\n",
    "\n",
    "    #prepared-surprised/states\n",
    "    A[:, :, 2] = np.array([ [0.5, 0.5],\n",
    "                            [0.5, 0.5] ]\n",
    "                          )\n",
    "\n",
    "    # B matrix\n",
    "    # The transition mapping that truly describes the environment's dynamics\n",
    "\n",
    "    #B as an identity matrix. no state transitions\n",
    "    B = utils.obj_array(num_factors)\n",
    "    B_ = np.zeros((1, len(state), len(state)))\n",
    "\n",
    "    B_[0, :,:] = np.array([ [1, 0],\n",
    "                           [0, 1] ])\n",
    "\n",
    "    B[0]=B_\n",
    "    B_gm = copy.deepcopy(B)  # make a copy of the true transition likelihood to initialize the transition model\n",
    "    #???\n",
    "    #A_gm = copy.deepcopy(A_gp)  # make a copy of the true observation likelihood to initialize the observation model\n",
    "    #???\n",
    "    #B_gm = copy.deepcopy(B_gp)  # make a copy of the true transition likelihood to initialize the transition model\n",
    "\n",
    "\n",
    "    # This is the matrix representing the preferences over outcomes\n",
    "    #prepared-surprised/cs+-\n",
    "    C = [4.0,-6.0]\n",
    "\n",
    "    return A, B_gm, C"
   ],
   "metadata": {
    "collapsed": false
   }
  },
  {
   "cell_type": "code",
   "execution_count": 39,
   "outputs": [
    {
     "data": {
      "text/plain": "2"
     },
     "execution_count": 39,
     "metadata": {},
     "output_type": "execute_result"
    }
   ],
   "source": [
    "len(state)"
   ],
   "metadata": {
    "collapsed": false
   }
  },
  {
   "cell_type": "code",
   "execution_count": 19,
   "outputs": [],
   "source": [
    "\"\"\" Define `num_states` and `num_factors` below \"\"\"\n",
    "num_states = [len(context_names), len(choice_names)]\n",
    "num_factors = len(num_states)\n",
    "\n",
    "context_action_names = ['Do-nothing']\n",
    "choice_action_names = ['guess-cs+','guess-cs-']\n",
    "\n",
    "\"\"\" Define `num_controls` below \"\"\"\n",
    "num_controls = [len(context_action_names), len(choice_action_names)]\n",
    "\n",
    "hint_obs_names = ['Null', 'Hint-left', 'Hint-right']\n",
    "reward_obs_names = ['Null', 'Loss', 'Reward']\n",
    "choice_obs_names = ['Start', 'Hint', 'Left Arm', 'Right Arm']\n",
    "\n",
    "\"\"\" Define `num_obs` and `num_modalities` below \"\"\"\n",
    "num_obs = [len(hint_obs_names), len(reward_obs_names), len(choice_obs_names)]\n",
    "num_modalities = len(num_obs)"
   ],
   "metadata": {
    "collapsed": false
   }
  },
  {
   "cell_type": "code",
   "execution_count": 20,
   "outputs": [
    {
     "ename": "NameError",
     "evalue": "name 'data' is not defined",
     "output_type": "error",
     "traceback": [
      "\u001B[0;31m---------------------------------------------------------------------------\u001B[0m",
      "\u001B[0;31mNameError\u001B[0m                                 Traceback (most recent call last)",
      "Cell \u001B[0;32mIn [20], line 1\u001B[0m\n\u001B[0;32m----> 1\u001B[0m df \u001B[38;5;241m=\u001B[39m data\n",
      "\u001B[0;31mNameError\u001B[0m: name 'data' is not defined"
     ]
    }
   ],
   "source": [
    "df = data\n",
    "# num_trial # cs+ / cs-"
   ],
   "metadata": {
    "collapsed": false
   }
  },
  {
   "cell_type": "code",
   "execution_count": 21,
   "outputs": [],
   "source": [
    "def get_reward(shock_obs, surprised_obs, action):\n",
    "    # TODO how can implement this?\n",
    "    diff = abs(surprised_obs-shock_obs)\n",
    "    if diff == 0:\n",
    "        reward = +4\n",
    "    else:\n",
    "        reward = -6\n",
    "    return reward\n",
    "\n",
    "\n",
    "def get_reward_predicted_low(shock_obs, surprised_obs):\n",
    "    if surprised_obs == 1: # subject is surprised and reward is\n",
    "        reward = -6\n",
    "    else:\n",
    "        reward = 4\n",
    "\n",
    "\n",
    "def get_reward_predicted_high(shock_obs, surprised_obs):\n",
    "    if surprised_obs == 1:\n",
    "        reward = -6\n",
    "    else:\n",
    "        reward = 4\n",
    "\n",
    "\n",
    "class TrialEnv(object):\n",
    "\n",
    "  def __init__(self,data):\n",
    "    self.state = 0\n",
    "    self.data = data #num_trial #cs+,cs-\n",
    "\n",
    "  def get_observation(self,param):\n",
    "    obs = None\n",
    "    if param == 'morph_level':\n",
    "        if self.data == 'cs+':\n",
    "            obs=6\n",
    "        else:\n",
    "            obs=1\n",
    "\n",
    "    if param == 'shock':\n",
    "        if self.data == 'cs+':\n",
    "            obs=0.75\n",
    "        else:\n",
    "            obs=0.25\n",
    "\n",
    "    if obs is None:\n",
    "        print('key error get observation')\n",
    "\n",
    "    return obs\n",
    "\n",
    "\n",
    "  def choose_action(self):\n",
    "\n",
    "      # Take a step in the environment given an action\n",
    "      looked_mor_lev = self.get_observation(param='morph_level')\n",
    "\n",
    "      if looked_mor_lev == 6:\n",
    "          action = 'guess cs+'\n",
    "\n",
    "      if looked_mor_lev == 1:\n",
    "          action = 'guess cs-'\n",
    "\n",
    "      return action\n",
    "\n",
    "  def step(self, action):\n",
    "      # Take a step in the environment given an action\n",
    "\n",
    "      if action == 'guess cs+':\n",
    "          self.state=0\n",
    "\n",
    "      if action == 'guess cs-':\n",
    "          self.state=1\n",
    "\n",
    "\n",
    "      #action_done = (guess cs+)\n",
    "      if self.state==0:\n",
    "          shock_obs = self.get_observation(param='shock')\n",
    "\n",
    "          if shock_obs >0.5: # in this case shock and i have predicted cs+ #TODO change this\n",
    "            surprised_obs = self.get_surprised_low()\n",
    "\n",
    "          else: # in this case no shock and i have predicted cs+\n",
    "            surprised_obs = self.get_surprised_high()\n",
    "\n",
    "          reward = get_reward_predicted_high(shock_obs,surprised_obs)\n",
    "\n",
    "      #action_done = (guess cs-)\n",
    "      if self.state == 1:\n",
    "          shock_obs = self.get_observation(param='shock')\n",
    "\n",
    "          if shock_obs is high: # in this case shock and i have predicted cs-\n",
    "            surprised_obs = self.get_surprised_high()\n",
    "\n",
    "          else: # in this case no shock and i have predicted cs-\n",
    "            surprised_obs = self.get_surprised_low()\n",
    "\n",
    "\n",
    "          reward = get_reward_predicted_low(shock_obs,surprised_obs)\n",
    "\n",
    "\n",
    "      obs = [morph_level_obs, shock_obs, surprised_obs]\n",
    "\n",
    "\n",
    "      return obs,reward\n",
    "\n",
    "\n",
    "  def get_surprised_high(self):\n",
    "      return 1\n",
    "\n",
    "  def get_surprised_low(self):\n",
    "      return 0\n"
   ],
   "metadata": {
    "collapsed": false
   }
  },
  {
   "cell_type": "code",
   "execution_count": 105,
   "outputs": [],
   "source": [
    "A,B,C = matrices(TrialEnv)"
   ],
   "metadata": {
    "collapsed": false
   }
  },
  {
   "cell_type": "code",
   "execution_count": 106,
   "outputs": [
    {
     "data": {
      "text/plain": "array([[[0.  , 0.75, 0.5 ],\n        [1.  , 0.  , 0.5 ]],\n\n       [[1.  , 0.25, 0.5 ],\n        [0.  , 1.  , 0.5 ]]])"
     },
     "execution_count": 106,
     "metadata": {},
     "output_type": "execute_result"
    }
   ],
   "source": [
    "A"
   ],
   "metadata": {
    "collapsed": false
   }
  },
  {
   "cell_type": "code",
   "execution_count": 107,
   "outputs": [
    {
     "data": {
      "text/plain": "[2]"
     },
     "execution_count": 107,
     "metadata": {},
     "output_type": "execute_result"
    }
   ],
   "source": [
    "[B[f].shape[2] for f in range(1)]"
   ],
   "metadata": {
    "collapsed": false
   }
  },
  {
   "cell_type": "code",
   "execution_count": 108,
   "outputs": [
    {
     "data": {
      "text/plain": "array([array([[[1., 0.],\n               [0., 1.]]])], dtype=object)"
     },
     "execution_count": 108,
     "metadata": {},
     "output_type": "execute_result"
    }
   ],
   "source": [
    "B"
   ],
   "metadata": {
    "collapsed": false
   }
  },
  {
   "cell_type": "code",
   "execution_count": 109,
   "outputs": [
    {
     "data": {
      "text/plain": "[4.0, -6.0]"
     },
     "execution_count": 109,
     "metadata": {},
     "output_type": "execute_result"
    }
   ],
   "source": [
    "C"
   ],
   "metadata": {
    "collapsed": false
   }
  },
  {
   "cell_type": "code",
   "execution_count": 110,
   "outputs": [
    {
     "data": {
      "text/plain": "array([[[1., 0.],\n        [0., 1.]]])"
     },
     "execution_count": 110,
     "metadata": {},
     "output_type": "execute_result"
    }
   ],
   "source": [
    "B.sum(axis = 0)"
   ],
   "metadata": {
    "collapsed": false
   }
  },
  {
   "cell_type": "code",
   "execution_count": 111,
   "outputs": [
    {
     "ename": "AssertionError",
     "evalue": "B matrix is not normalized (i.e. B.sum(axis = 0) must all equal 1.0)",
     "output_type": "error",
     "traceback": [
      "\u001B[0;31m---------------------------------------------------------------------------\u001B[0m",
      "\u001B[0;31mAssertionError\u001B[0m                            Traceback (most recent call last)",
      "Cell \u001B[0;32mIn [111], line 2\u001B[0m\n\u001B[1;32m      1\u001B[0m \u001B[38;5;66;03m# define an agent\u001B[39;00m\n\u001B[0;32m----> 2\u001B[0m my_agent \u001B[38;5;241m=\u001B[39m Agent(A \u001B[38;5;241m=\u001B[39m A, B \u001B[38;5;241m=\u001B[39m B, C \u001B[38;5;241m=\u001B[39m C)\n\u001B[1;32m      4\u001B[0m \u001B[38;5;66;03m# define an environment\u001B[39;00m\n\u001B[1;32m      5\u001B[0m my_env \u001B[38;5;241m=\u001B[39m TrialEnv()\n",
      "File \u001B[0;32m~/matteo/matteo/unimi/tesi_master/code/my_env/lib/python3.8/site-packages/pymdp/agent.py:111\u001B[0m, in \u001B[0;36mAgent.__init__\u001B[0;34m(self, A, B, C, D, E, pA, pB, pD, num_controls, policy_len, inference_horizon, control_fac_idx, policies, gamma, alpha, use_utility, use_states_info_gain, use_param_info_gain, action_selection, sampling_mode, inference_algo, inference_params, modalities_to_learn, lr_pA, factors_to_learn, lr_pB, lr_pD, use_BMA, policy_sep_prior, save_belief_hist)\u001B[0m\n\u001B[1;32m    105\u001B[0m     \u001B[38;5;28;01mraise\u001B[39;00m \u001B[38;5;167;01mTypeError\u001B[39;00m(\n\u001B[1;32m    106\u001B[0m         \u001B[38;5;124m'\u001B[39m\u001B[38;5;124mB matrix must be a numpy array\u001B[39m\u001B[38;5;124m'\u001B[39m\n\u001B[1;32m    107\u001B[0m     )\n\u001B[1;32m    109\u001B[0m \u001B[38;5;28mself\u001B[39m\u001B[38;5;241m.\u001B[39mB \u001B[38;5;241m=\u001B[39m utils\u001B[38;5;241m.\u001B[39mto_obj_array(B)\n\u001B[0;32m--> 111\u001B[0m \u001B[38;5;28;01massert\u001B[39;00m utils\u001B[38;5;241m.\u001B[39mis_normalized(\u001B[38;5;28mself\u001B[39m\u001B[38;5;241m.\u001B[39mB), \u001B[38;5;124m\"\u001B[39m\u001B[38;5;124mB matrix is not normalized (i.e. B.sum(axis = 0) must all equal 1.0)\u001B[39m\u001B[38;5;124m\"\u001B[39m\n\u001B[1;32m    113\u001B[0m \u001B[38;5;66;03m# Determine number of hidden state factors and their dimensionalities\u001B[39;00m\n\u001B[1;32m    114\u001B[0m \u001B[38;5;28mself\u001B[39m\u001B[38;5;241m.\u001B[39mnum_states \u001B[38;5;241m=\u001B[39m [\u001B[38;5;28mself\u001B[39m\u001B[38;5;241m.\u001B[39mB[f]\u001B[38;5;241m.\u001B[39mshape[\u001B[38;5;241m0\u001B[39m] \u001B[38;5;28;01mfor\u001B[39;00m f \u001B[38;5;129;01min\u001B[39;00m \u001B[38;5;28mrange\u001B[39m(\u001B[38;5;28mlen\u001B[39m(\u001B[38;5;28mself\u001B[39m\u001B[38;5;241m.\u001B[39mB))]\n",
      "\u001B[0;31mAssertionError\u001B[0m: B matrix is not normalized (i.e. B.sum(axis = 0) must all equal 1.0)"
     ]
    }
   ],
   "source": [
    "# define an agent\n",
    "my_agent = Agent(A = A, B = B, C = C)\n",
    "\n",
    "# define an environment\n",
    "my_env = TrialEnv()\n",
    "\n",
    "initial_action = 'first_action'\n",
    "\n",
    "# set an initial action\n",
    "action = initial_action\n",
    "\n",
    "# iterate over all trials\n",
    "for t in range (trials) :\n",
    "\n",
    "    action = my_env.choose_action()\n",
    "\n",
    "    obs,reward = my_env.step(action)\n",
    "\n",
    "    my_agent.infer_states (obs) # agent update beliefs about hidden states given observations\n",
    "\n",
    "    my_agent.infer_policies () # inferring policies and sampling actions from the posterior\n",
    "\n",
    "    action = my_agent.sample_action()"
   ],
   "metadata": {
    "collapsed": false
   }
  },
  {
   "cell_type": "code",
   "execution_count": 57,
   "outputs": [
    {
     "data": {
      "text/plain": "(1, 2, 2)"
     },
     "execution_count": 57,
     "metadata": {},
     "output_type": "execute_result"
    }
   ],
   "source": [
    "B.shape"
   ],
   "metadata": {
    "collapsed": false
   }
  },
  {
   "cell_type": "code",
   "execution_count": 60,
   "outputs": [
    {
     "ename": "IndexError",
     "evalue": "tuple index out of range",
     "output_type": "error",
     "traceback": [
      "\u001B[0;31m---------------------------------------------------------------------------\u001B[0m",
      "\u001B[0;31mIndexError\u001B[0m                                Traceback (most recent call last)",
      "Cell \u001B[0;32mIn [60], line 1\u001B[0m\n\u001B[0;32m----> 1\u001B[0m B[\u001B[38;5;241m0\u001B[39m]\u001B[38;5;241m.\u001B[39mshape[\u001B[38;5;241m2\u001B[39m]\n",
      "\u001B[0;31mIndexError\u001B[0m: tuple index out of range"
     ]
    }
   ],
   "source": [
    "B[0].shape[2]"
   ],
   "metadata": {
    "collapsed": false
   }
  },
  {
   "cell_type": "code",
   "execution_count": 71,
   "outputs": [
    {
     "data": {
      "text/plain": "array([[[1.],\n        [0.]],\n\n       [[0.],\n        [1.]]])"
     },
     "execution_count": 71,
     "metadata": {},
     "output_type": "execute_result"
    }
   ],
   "source": [
    "B_locs = np.eye(2).reshape(2,2,1)\n",
    "B_locs"
   ],
   "metadata": {
    "collapsed": false
   }
  },
  {
   "cell_type": "code",
   "execution_count": 72,
   "outputs": [],
   "source": [
    "B_locs = np.tile(B_locs, (1, 1, 2))"
   ],
   "metadata": {
    "collapsed": false
   }
  },
  {
   "cell_type": "code",
   "execution_count": 73,
   "outputs": [
    {
     "data": {
      "text/plain": "array([[[1., 1.],\n        [0., 0.]],\n\n       [[0., 0.],\n        [1., 1.]]])"
     },
     "execution_count": 73,
     "metadata": {},
     "output_type": "execute_result"
    }
   ],
   "source": [
    "B_locs"
   ],
   "metadata": {
    "collapsed": false
   }
  },
  {
   "cell_type": "code",
   "execution_count": 75,
   "outputs": [
    {
     "data": {
      "text/plain": "(2, 2, 2)"
     },
     "execution_count": 75,
     "metadata": {},
     "output_type": "execute_result"
    }
   ],
   "source": [
    "B_locs.shape"
   ],
   "metadata": {
    "collapsed": false
   }
  },
  {
   "cell_type": "code",
   "execution_count": 76,
   "outputs": [],
   "source": [
    " B_locs = B_locs.transpose(1, 2, 0)"
   ],
   "metadata": {
    "collapsed": false
   }
  },
  {
   "cell_type": "code",
   "execution_count": 77,
   "outputs": [
    {
     "data": {
      "text/plain": "array([[[1., 0.],\n        [1., 0.]],\n\n       [[0., 1.],\n        [0., 1.]]])"
     },
     "execution_count": 77,
     "metadata": {},
     "output_type": "execute_result"
    }
   ],
   "source": [
    "B_locs"
   ],
   "metadata": {
    "collapsed": false
   }
  },
  {
   "cell_type": "code",
   "execution_count": null,
   "outputs": [],
   "source": [],
   "metadata": {
    "collapsed": false
   }
  }
 ],
 "metadata": {
  "kernelspec": {
   "display_name": "Python 3",
   "language": "python",
   "name": "python3"
  },
  "language_info": {
   "codemirror_mode": {
    "name": "ipython",
    "version": 2
   },
   "file_extension": ".py",
   "mimetype": "text/x-python",
   "name": "python",
   "nbconvert_exporter": "python",
   "pygments_lexer": "ipython2",
   "version": "2.7.6"
  }
 },
 "nbformat": 4,
 "nbformat_minor": 0
}
