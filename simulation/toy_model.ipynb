{
 "cells": [
  {
   "cell_type": "code",
   "execution_count": 189,
   "metadata": {
    "collapsed": true
   },
   "outputs": [],
   "source": [
    "import copy\n",
    "\n",
    "import pymdp\n",
    "from pymdp import utils\n",
    "from pymdp.agent import Agent\n",
    "import numpy as np\n",
    "import matplotlib.pyplot as plt\n",
    "import seaborn as sns\n",
    "import pandas as pd"
   ]
  },
  {
   "cell_type": "code",
   "execution_count": 182,
   "outputs": [],
   "source": [
    "trials = 64\n",
    "steps = 2  # number of timepoints per trial\n",
    "\n",
    "#STATES\n",
    "# state if the img is cs+ or cs-\n",
    "state = ['cs+', 'cs-']\n",
    "\n",
    "\n",
    "#OBSERVATIONS\n",
    "\n",
    "# morphing level binary. shock only if morph_level=6\n",
    "morph_level_obs = ['1','6']\n",
    "# the subject receive the electric shock?\n",
    "shock_obs = ['shock', 'no shock']\n",
    "# observation to discriminate if the subject is surprised or prepared. A sort of diff between user prediction and shock observation\n",
    "surprised_obs = ['not_surprised','surprised']\n",
    "\n",
    "#ACTIONS\n",
    "# the subject predict if should be receive the shock or not\n",
    "action = ['guess-cs+','guess-cs-']\n",
    "\n",
    "# Define `num_states` and `num_factors` below\n",
    "num_states = [len(state)] #[2]\n",
    "num_factors = len(num_states) #1\n",
    "\n",
    "#Define `num_obs` and `num_modalities` below\n",
    "num_obs = [len(morph_level_obs), len(shock_obs), len(surprised_obs)] # [2,2,2]\n",
    "num_modalities = len(num_obs) #3\n",
    "\n"
   ],
   "metadata": {
    "collapsed": false
   }
  },
  {
   "cell_type": "code",
   "execution_count": 178,
   "outputs": [],
   "source": [
    "def matrices(TrialEnv):\n",
    "    \"\"\"\n",
    "    The A, B, C, D, E matrices are built.\n",
    "    \"\"\"\n",
    "    # This is the likelihood mapping that truly describes the relationship between the\n",
    "    # environment's hidden state and the observations the agent will get\n",
    "\n",
    "    # A matrix\n",
    "    # A dimension?\n",
    "    A = utils.obj_array(num_modalities)\n",
    "    A_morph = np.zeros((len(morph_level_obs), len(state)))\n",
    "    A_shock = np.zeros((len(shock_obs), len(state)))\n",
    "    A_surprise = np.zeros((len(surprised_obs), len(state)))\n",
    "\n",
    "    #mor_lev_binary/states\n",
    "    A_morph = np.array([ [0, 1],\n",
    "                            [1, 0] ]\n",
    "                          )\n",
    "\n",
    "    #shock-noshock/states\n",
    "    A_shock = np.array([ [0.75, 0],\n",
    "                            [0.25, 1] ]\n",
    "                          )\n",
    "\n",
    "    #prepared-surprised/states\n",
    "    A_surprise = np.array([ [0.5, 0.5],\n",
    "                            [0.5, 0.5] ]\n",
    "                          )\n",
    "    A[0] = A_morph\n",
    "    A[1] = A_shock\n",
    "    A[2] = A_surprise\n",
    "    # B matrix\n",
    "    # The transition mapping that truly describes the environment's dynamics\n",
    "\n",
    "    #B as an identity matrix. no state transitions\n",
    "    B = utils.obj_array(num_factors)\n",
    "    B_ = np.zeros((num_states[0], num_states[0], len(action)))\n",
    "\n",
    "    B_[:,:,0] = np.eye(num_states[0])\n",
    "    B_[:,:,1] = np.eye(num_states[0])\n",
    "\n",
    "    '''B_[0, :,:] = np.array([ [1, 0],\n",
    "                           [0, 1] ])\n",
    "    B_[1, :,:] = np.array([ [1, 0],\n",
    "                       [0, 1] ])'''\n",
    "\n",
    "    B[0]=B_\n",
    "    B_gm = copy.deepcopy(B)  # make a copy of the true transition likelihood to initialize the transition model\n",
    "    #???\n",
    "    #A_gm = copy.deepcopy(A_gp)  # make a copy of the true observation likelihood to initialize the observation model\n",
    "    #???\n",
    "    #B_gm = copy.deepcopy(B_gp)  # make a copy of the true transition likelihood to initialize the transition model\n",
    "\n",
    "\n",
    "    # This is the matrix representing the preferences over outcomes\n",
    "    #prepared-surprised/cs+-\n",
    "    C = utils.obj_array_zeros(num_obs)          #num modalities\n",
    "    C[0] = np.array([4.0,-6.0])\n",
    "    C[1] = np.zeros(2)\n",
    "    C[2] = np.zeros(2)\n",
    "\n",
    "\n",
    "    return A, B_gm, C"
   ],
   "metadata": {
    "collapsed": false
   }
  },
  {
   "cell_type": "code",
   "execution_count": 186,
   "outputs": [],
   "source": [
    "class TrialEnv(object):\n",
    "    def __init__(self,data):\n",
    "        \"\"\"\n",
    "        Constructor of the environment\n",
    "        :param data: Dataframe with 4 columns: 'trial_number','morphing_level','condition','shock'\n",
    "\n",
    "        'trial_number': number of trial in the experiment\n",
    "        'morphing_level': 1 if cs+, 0 otherwise\n",
    "        'condition': 1 cs+, 0 otherwise\n",
    "        'shock': 1 if the shock is given at this trial, 0 otherwise\n",
    "\n",
    "        \"\"\"\n",
    "        self.data = data\n",
    "\n",
    "    def get_observation(self,param,trial_number):\n",
    "        '''\n",
    "\n",
    "        :param param: column of the dataframe that you want to read\n",
    "        :param trial_number:\n",
    "        :return: value of the specific column in the trial_number row\n",
    "        '''\n",
    "        return self.data.iloc(trial_number)[param]\n",
    "\n",
    "\n",
    "    def step(self, action,current_trial):\n",
    "        '''\n",
    "        Take a step in the environment given an action\n",
    "\n",
    "        :param action:\n",
    "        :param current_trial:\n",
    "        :return:\n",
    "        '''\n",
    "        surprised_obs = None\n",
    "\n",
    "        if action == 'guess cs+':\n",
    "            shock_obs = self.get_observation(param='shock',trial_number=current_trial)\n",
    "\n",
    "            if shock_obs >0.5: # in this case shock and i have predicted cs+ #TODO change this\n",
    "                surprised_obs = self.get_surprised_low()\n",
    "\n",
    "            else: # in this case no shock and i have predicted cs+\n",
    "                surprised_obs = self.get_surprised_high()\n",
    "\n",
    "\n",
    "        if action == 'guess cs-':\n",
    "            shock_obs = self.get_observation(param='shock',trial_number=current_trial)\n",
    "\n",
    "            if shock_obs >0.5: # in this case shock and prediction cs- #TODO change this\n",
    "                surprised_obs = self.get_surprised_high()\n",
    "\n",
    "            else: # in this case no shock and prediction cs-\n",
    "                surprised_obs = self.get_surprised_low()\n",
    "\n",
    "        if surprised_obs is None:\n",
    "            print('ERROR: Action not supported!')\n",
    "\n",
    "        return surprised_obs\n",
    "\n",
    "\n",
    "    def get_surprised_high(self):\n",
    "        return 1\n",
    "\n",
    "    def get_surprised_low(self):\n",
    "        return 0\n"
   ],
   "metadata": {
    "collapsed": false
   }
  },
  {
   "cell_type": "code",
   "execution_count": 179,
   "outputs": [],
   "source": [
    "A,B,C = matrices(TrialEnv)"
   ],
   "metadata": {
    "collapsed": false
   }
  },
  {
   "cell_type": "code",
   "execution_count": 195,
   "outputs": [],
   "source": [
    "import os\n",
    "os.chdir('..')"
   ],
   "metadata": {
    "collapsed": false
   }
  },
  {
   "cell_type": "code",
   "execution_count": 206,
   "outputs": [],
   "source": [
    "def load_data(columns=[], binary_morphing_level=False, shock_as_int = False,subject_number=0):\n",
    "    df = pd.read_csv('./data/newLookAtMe/newLookAtMe01.csv')\n",
    "    df = df.filter(columns)\n",
    "    print(df)\n",
    "    if binary_morphing_level:\n",
    "        df = df\n",
    "    if shock_as_int:\n",
    "        df = df\n",
    "\n",
    "    return df"
   ],
   "metadata": {
    "collapsed": false
   }
  },
  {
   "cell_type": "code",
   "execution_count": 207,
   "outputs": [
    {
     "name": "stdout",
     "output_type": "stream",
     "text": [
      "     morphing level  shock\n",
      "0                 1  False\n",
      "1                 6  False\n",
      "2                 6  False\n",
      "3                 1  False\n",
      "4                 1  False\n",
      "..              ...    ...\n",
      "155               4  False\n",
      "156               5  False\n",
      "157               1  False\n",
      "158               1  False\n",
      "159               6  False\n",
      "\n",
      "[160 rows x 2 columns]\n"
     ]
    }
   ],
   "source": [
    "\n",
    "data= load_data(columns=['index','morphing level','shock'] ,binary_morphing_level=True, shock_as_int = True)"
   ],
   "metadata": {
    "collapsed": false
   }
  },
  {
   "cell_type": "code",
   "execution_count": 188,
   "outputs": [
    {
     "ename": "AttributeError",
     "evalue": "'int' object has no attribute 'iloc'",
     "output_type": "error",
     "traceback": [
      "\u001B[0;31m---------------------------------------------------------------------------\u001B[0m",
      "\u001B[0;31mAttributeError\u001B[0m                            Traceback (most recent call last)",
      "Cell \u001B[0;32mIn [188], line 18\u001B[0m\n\u001B[1;32m     14\u001B[0m \u001B[38;5;28;01mfor\u001B[39;00m trial \u001B[38;5;129;01min\u001B[39;00m \u001B[38;5;28mrange\u001B[39m (trials) :\n\u001B[1;32m     16\u001B[0m     \u001B[38;5;28;01mfor\u001B[39;00m step \u001B[38;5;129;01min\u001B[39;00m \u001B[38;5;28mrange\u001B[39m (steps) : \u001B[38;5;66;03m#each trial divided in two steps\u001B[39;00m\n\u001B[0;32m---> 18\u001B[0m         stimul_obs \u001B[38;5;241m=\u001B[39m my_env\u001B[38;5;241m.\u001B[39mget_observation(param\u001B[38;5;241m=\u001B[39m\u001B[38;5;124m'\u001B[39m\u001B[38;5;124mstimulus\u001B[39m\u001B[38;5;124m'\u001B[39m,trial\u001B[38;5;241m=\u001B[39mtrial)\n\u001B[1;32m     20\u001B[0m         \u001B[38;5;28;01mif\u001B[39;00m step \u001B[38;5;241m==\u001B[39m \u001B[38;5;241m0\u001B[39m:\n\u001B[1;32m     21\u001B[0m             surpr_obs \u001B[38;5;241m=\u001B[39m \u001B[38;5;124m'\u001B[39m\u001B[38;5;124mnull\u001B[39m\u001B[38;5;124m'\u001B[39m\n",
      "Cell \u001B[0;32mIn [186], line 8\u001B[0m, in \u001B[0;36mTrialEnv.get_observation\u001B[0;34m(self, param, trial)\u001B[0m\n\u001B[1;32m      7\u001B[0m \u001B[38;5;28;01mdef\u001B[39;00m \u001B[38;5;21mget_observation\u001B[39m(\u001B[38;5;28mself\u001B[39m,param,trial):\n\u001B[0;32m----> 8\u001B[0m     \u001B[38;5;28;01mreturn\u001B[39;00m \u001B[38;5;28;43mself\u001B[39;49m\u001B[38;5;241;43m.\u001B[39;49m\u001B[43mdata\u001B[49m\u001B[38;5;241;43m.\u001B[39;49m\u001B[43miloc\u001B[49m(trial)[param]\n",
      "\u001B[0;31mAttributeError\u001B[0m: 'int' object has no attribute 'iloc'"
     ]
    }
   ],
   "source": [
    "# define an agent\n",
    "my_agent = Agent(A = A, B = B, C = C)\n",
    "\n",
    "# define an environment\n",
    "my_env = TrialEnv(data= data)\n",
    "\n",
    "\n",
    "initial_action = 'first_action'\n",
    "\n",
    "# set an initial action\n",
    "action = initial_action\n",
    "\n",
    "# iterate over all trials\n",
    "for trial in range (trials) :\n",
    "\n",
    "    for step in range (steps) : #each trial divided in two steps\n",
    "\n",
    "        stimul_obs = my_env.get_observation(param='stimulus',trial_number=trial)\n",
    "\n",
    "        if step == 0:\n",
    "            surpr_obs = 'null'\n",
    "            shock_obs = 'null'\n",
    "\n",
    "        if step == 1:\n",
    "            shock_obs = my_env.get_observation(param='shock',trial_number=trial)\n",
    "\n",
    "        my_agent.infer_states (observation=[stimul_obs,shock_obs,surpr_obs]) # agent update beliefs about hidden states given observations\n",
    "\n",
    "        my_agent.infer_policies () # inferring policies and sampling actions from the posterior\n",
    "\n",
    "        action = my_agent.sample_action()\n",
    "\n",
    "        if step==0:\n",
    "            surpr_obs = my_env.step(action)\n",
    "\n"
   ],
   "metadata": {
    "collapsed": false
   }
  },
  {
   "cell_type": "code",
   "execution_count": 169,
   "outputs": [
    {
     "data": {
      "text/plain": "3"
     },
     "execution_count": 169,
     "metadata": {},
     "output_type": "execute_result"
    }
   ],
   "source": [
    "len(C)"
   ],
   "metadata": {
    "collapsed": false
   }
  },
  {
   "cell_type": "code",
   "execution_count": 142,
   "outputs": [
    {
     "data": {
      "text/plain": "array([[[1., 0.],\n        [0., 1.]],\n\n       [[1., 0.],\n        [0., 1.]]])"
     },
     "execution_count": 142,
     "metadata": {},
     "output_type": "execute_result"
    }
   ],
   "source": [
    "B.sum(axis=0)"
   ],
   "metadata": {
    "collapsed": false
   }
  },
  {
   "cell_type": "code",
   "execution_count": 141,
   "outputs": [
    {
     "data": {
      "text/plain": "array([1., 1.])"
     },
     "execution_count": 141,
     "metadata": {},
     "output_type": "execute_result"
    }
   ],
   "source": [
    "B[0][1].sum(axis =0)"
   ],
   "metadata": {
    "collapsed": false
   }
  },
  {
   "cell_type": "code",
   "execution_count": 117,
   "outputs": [
    {
     "data": {
      "text/plain": "array([[1., 0.],\n       [0., 1.]])"
     },
     "execution_count": 117,
     "metadata": {},
     "output_type": "execute_result"
    }
   ],
   "source": [
    "B[0].sum(axis = 0)"
   ],
   "metadata": {
    "collapsed": false
   }
  },
  {
   "cell_type": "code",
   "execution_count": 71,
   "outputs": [
    {
     "data": {
      "text/plain": "array([[[1.],\n        [0.]],\n\n       [[0.],\n        [1.]]])"
     },
     "execution_count": 71,
     "metadata": {},
     "output_type": "execute_result"
    }
   ],
   "source": [
    "B_locs = np.eye(2).reshape(2,2,1)\n",
    "B_locs"
   ],
   "metadata": {
    "collapsed": false
   }
  },
  {
   "cell_type": "code",
   "execution_count": 72,
   "outputs": [],
   "source": [
    "B_locs = np.tile(B_locs, (1, 1, 2))"
   ],
   "metadata": {
    "collapsed": false
   }
  },
  {
   "cell_type": "code",
   "execution_count": 73,
   "outputs": [
    {
     "data": {
      "text/plain": "array([[[1., 1.],\n        [0., 0.]],\n\n       [[0., 0.],\n        [1., 1.]]])"
     },
     "execution_count": 73,
     "metadata": {},
     "output_type": "execute_result"
    }
   ],
   "source": [
    "B_locs"
   ],
   "metadata": {
    "collapsed": false
   }
  },
  {
   "cell_type": "code",
   "execution_count": 75,
   "outputs": [
    {
     "data": {
      "text/plain": "(2, 2, 2)"
     },
     "execution_count": 75,
     "metadata": {},
     "output_type": "execute_result"
    }
   ],
   "source": [
    "B_locs.shape"
   ],
   "metadata": {
    "collapsed": false
   }
  },
  {
   "cell_type": "code",
   "execution_count": 76,
   "outputs": [],
   "source": [
    " B_locs = B_locs.transpose(1, 2, 0)"
   ],
   "metadata": {
    "collapsed": false
   }
  },
  {
   "cell_type": "code",
   "execution_count": 77,
   "outputs": [
    {
     "data": {
      "text/plain": "array([[[1., 0.],\n        [1., 0.]],\n\n       [[0., 1.],\n        [0., 1.]]])"
     },
     "execution_count": 77,
     "metadata": {},
     "output_type": "execute_result"
    }
   ],
   "source": [
    "B_locs"
   ],
   "metadata": {
    "collapsed": false
   }
  },
  {
   "cell_type": "code",
   "execution_count": 130,
   "outputs": [
    {
     "data": {
      "text/plain": "array([[[0., 0., 0., 0.],\n        [0., 0., 0., 0.],\n        [0., 0., 0., 0.]],\n\n       [[0., 0., 0., 0.],\n        [0., 0., 0., 0.],\n        [0., 0., 0., 0.]],\n\n       [[0., 0., 0., 0.],\n        [0., 0., 0., 0.],\n        [0., 0., 0., 0.]],\n\n       [[0., 0., 0., 0.],\n        [0., 0., 0., 0.],\n        [0., 0., 0., 0.]]])"
     },
     "execution_count": 130,
     "metadata": {},
     "output_type": "execute_result"
    }
   ],
   "source": [
    "B_location = np.zeros((4, 3, 4))\n",
    "B_location"
   ],
   "metadata": {
    "collapsed": false
   }
  },
  {
   "cell_type": "code",
   "execution_count": 131,
   "outputs": [
    {
     "ename": "ValueError",
     "evalue": "could not broadcast input array from shape (3,4) into shape (4,3)",
     "output_type": "error",
     "traceback": [
      "\u001B[0;31m---------------------------------------------------------------------------\u001B[0m",
      "\u001B[0;31mValueError\u001B[0m                                Traceback (most recent call last)",
      "Cell \u001B[0;32mIn [131], line 1\u001B[0m\n\u001B[0;32m----> 1\u001B[0m B_location[:, :, \u001B[38;5;241m0\u001B[39m] \u001B[38;5;241m=\u001B[39m np\u001B[38;5;241m.\u001B[39marray([[\u001B[38;5;241m1\u001B[39m, \u001B[38;5;241m0\u001B[39m, \u001B[38;5;241m0\u001B[39m, \u001B[38;5;241m1\u001B[39m],\n\u001B[1;32m      2\u001B[0m                                 [\u001B[38;5;241m0\u001B[39m, \u001B[38;5;241m0\u001B[39m, \u001B[38;5;241m1\u001B[39m, \u001B[38;5;241m0\u001B[39m],\n\u001B[1;32m      3\u001B[0m                                 [\u001B[38;5;241m0\u001B[39m, \u001B[38;5;241m0\u001B[39m, \u001B[38;5;241m0\u001B[39m, \u001B[38;5;241m0\u001B[39m]])\n\u001B[1;32m      4\u001B[0m B_location\n\u001B[1;32m      5\u001B[0m \u001B[38;5;124;03m'''B_location[:, :, 1] = np.array([[0, 0, 0, 0],\u001B[39;00m\n\u001B[1;32m      6\u001B[0m \u001B[38;5;124;03m                                [0, 0, 1, 0],\u001B[39;00m\n\u001B[1;32m      7\u001B[0m \u001B[38;5;124;03m                                [0, 0, 0, 0]])\u001B[39;00m\n\u001B[0;32m   (...)\u001B[0m\n\u001B[1;32m     12\u001B[0m \u001B[38;5;124;03m                                [0, 0, 1, 0],\u001B[39;00m\n\u001B[1;32m     13\u001B[0m \u001B[38;5;124;03m                                [1, 0, 0, 1]])'''\u001B[39;00m\n",
      "\u001B[0;31mValueError\u001B[0m: could not broadcast input array from shape (3,4) into shape (4,3)"
     ]
    }
   ],
   "source": [
    "B_location[:, :, 0] = np.array([[1, 0, 0, 1],\n",
    "                                [0, 0, 1, 0],\n",
    "                                [0, 0, 0, 0]])\n",
    "B_location\n",
    "'''B_location[:, :, 1] = np.array([[0, 0, 0, 0],\n",
    "                                [0, 0, 1, 0],\n",
    "                                [0, 0, 0, 0]])\n",
    "B_location[:, :, 2] = np.array([[0, 0, 0, 0],\n",
    "                                [1, 0, 1, 1],\n",
    "                                [0, 0, 0, 0]])\n",
    "B_location[:, :, 3] = np.array([[0, 0, 0, 0],\n",
    "                                [0, 0, 1, 0],\n",
    "                                [1, 0, 0, 1]])'''"
   ],
   "metadata": {
    "collapsed": false
   }
  },
  {
   "cell_type": "code",
   "execution_count": 129,
   "outputs": [
    {
     "data": {
      "text/plain": "array([[[0., 0., 0., 0.],\n        [0., 0., 0., 0.],\n        [0., 0., 0., 0.]],\n\n       [[0., 0., 0., 0.],\n        [0., 0., 0., 0.],\n        [0., 0., 0., 0.]],\n\n       [[0., 0., 0., 0.],\n        [0., 0., 0., 0.],\n        [0., 0., 0., 0.]],\n\n       [[0., 0., 0., 0.],\n        [0., 0., 0., 0.],\n        [0., 0., 0., 0.]]])"
     },
     "execution_count": 129,
     "metadata": {},
     "output_type": "execute_result"
    }
   ],
   "source": [
    "B_location"
   ],
   "metadata": {
    "collapsed": false
   }
  },
  {
   "cell_type": "code",
   "execution_count": 145,
   "outputs": [
    {
     "data": {
      "text/plain": "[2]"
     },
     "execution_count": 145,
     "metadata": {},
     "output_type": "execute_result"
    }
   ],
   "source": [
    "num_states"
   ],
   "metadata": {
    "collapsed": false
   }
  },
  {
   "cell_type": "code",
   "execution_count": 158,
   "outputs": [],
   "source": [
    "B = utils.obj_array(num_factors)\n",
    "B_ = np.zeros((num_states[0], num_states[0], len(action)))\n",
    "\n",
    "B_[:,:,0] = np.eye(num_states[0])\n",
    "B_[:,:,1] = np.eye(num_states[0])"
   ],
   "metadata": {
    "collapsed": false
   }
  },
  {
   "cell_type": "code",
   "execution_count": 159,
   "outputs": [
    {
     "data": {
      "text/plain": "array([[[1., 1.],\n        [0., 0.]],\n\n       [[0., 0.],\n        [1., 1.]]])"
     },
     "execution_count": 159,
     "metadata": {},
     "output_type": "execute_result"
    }
   ],
   "source": [
    "B_"
   ],
   "metadata": {
    "collapsed": false
   }
  },
  {
   "cell_type": "code",
   "execution_count": 175,
   "outputs": [
    {
     "data": {
      "text/plain": "array([[0., 0.],\n       [0., 0.],\n       [0., 0.]])"
     },
     "execution_count": 175,
     "metadata": {},
     "output_type": "execute_result"
    }
   ],
   "source": [
    "prova=np.zeros((3, 2, 4))\n",
    "prova[:,:,0]\n"
   ],
   "metadata": {
    "collapsed": false
   }
  },
  {
   "cell_type": "code",
   "execution_count": 177,
   "outputs": [
    {
     "data": {
      "text/plain": "array([[0, 1],\n       [2, 3]])"
     },
     "execution_count": 177,
     "metadata": {},
     "output_type": "execute_result"
    }
   ],
   "source": [
    "shape = ((len(morph_level_obs), len(state)))\n",
    "prova = np.arange(len(morph_level_obs)*len(state)).reshape(shape)\n",
    "prova"
   ],
   "metadata": {
    "collapsed": false
   }
  },
  {
   "cell_type": "code",
   "execution_count": null,
   "outputs": [],
   "source": [],
   "metadata": {
    "collapsed": false
   }
  }
 ],
 "metadata": {
  "kernelspec": {
   "display_name": "Python 3",
   "language": "python",
   "name": "python3"
  },
  "language_info": {
   "codemirror_mode": {
    "name": "ipython",
    "version": 2
   },
   "file_extension": ".py",
   "mimetype": "text/x-python",
   "name": "python",
   "nbconvert_exporter": "python",
   "pygments_lexer": "ipython2",
   "version": "2.7.6"
  }
 },
 "nbformat": 4,
 "nbformat_minor": 0
}
