{
 "cells": [
  {
   "cell_type": "code",
   "execution_count": 6,
   "metadata": {
    "collapsed": true
   },
   "outputs": [
    {
     "ename": "ImportError",
     "evalue": "cannot import name 'utils' from 'pymdp' (/home/paolo/matteo/matteo/unimi/tesi_master/code/my_env/lib/python3.8/site-packages/pymdp/__init__.py)",
     "output_type": "error",
     "traceback": [
      "\u001B[0;31m---------------------------------------------------------------------------\u001B[0m",
      "\u001B[0;31mImportError\u001B[0m                               Traceback (most recent call last)",
      "Cell \u001B[0;32mIn [6], line 2\u001B[0m\n\u001B[1;32m      1\u001B[0m \u001B[38;5;28;01mimport\u001B[39;00m \u001B[38;5;21;01mpymdp\u001B[39;00m\n\u001B[0;32m----> 2\u001B[0m \u001B[38;5;28;01mfrom\u001B[39;00m \u001B[38;5;21;01mpymdp\u001B[39;00m \u001B[38;5;28;01mimport\u001B[39;00m utils\n\u001B[1;32m      3\u001B[0m \u001B[38;5;66;03m#from pymdp.agent import Agent\u001B[39;00m\n\u001B[1;32m      4\u001B[0m \u001B[38;5;28;01mimport\u001B[39;00m \u001B[38;5;21;01mnumpy\u001B[39;00m \u001B[38;5;28;01mas\u001B[39;00m \u001B[38;5;21;01mnp\u001B[39;00m\n",
      "\u001B[0;31mImportError\u001B[0m: cannot import name 'utils' from 'pymdp' (/home/paolo/matteo/matteo/unimi/tesi_master/code/my_env/lib/python3.8/site-packages/pymdp/__init__.py)"
     ]
    }
   ],
   "source": [
    "import pymdp\n",
    "from pymdp import utils\n",
    "#from pymdp.agent import Agent\n",
    "import numpy as np\n",
    "import matplotlib.pyplot as plt\n",
    "import seaborn as sns"
   ]
  },
  {
   "cell_type": "code",
   "execution_count": null,
   "outputs": [],
   "source": [
    "trials = 64\n",
    "T = 2  # number of timepoints per trial\n",
    "\n",
    "#STATES\n",
    "state = ['cs+', 'cs-']\n",
    "\n",
    "#OBSERVATIONS\n",
    "morph_level_obs = ['1','6']\n",
    "shock_obs = ['shock', 'no shock']\n",
    "surprised_obs = ['not_surprised','surprised']\n",
    "\n",
    "#ACTIONS\n",
    "action = ['guess-cs+','guess-cs-']\n",
    "\n",
    "num_states = [len(state)]\n",
    "num_factors = len(num_states)\n",
    "num_obs = [len(morph_level_obs), len(shock_obs), len(surprised_obs)]\n",
    "\n",
    "num_modalities = len(num_obs)\n",
    "\n"
   ],
   "metadata": {
    "collapsed": false
   }
  },
  {
   "cell_type": "code",
   "execution_count": null,
   "outputs": [],
   "source": [
    "def matrices(TrialEnv):\n",
    "    \"\"\"\n",
    "    The A, B, C, D, E matrices are built.\n",
    "    \"\"\"\n",
    "    # This is the likelihood mapping that truly describes the relationship between the\n",
    "    # environment's hidden state and the observations the agent will get\n",
    "\n",
    "    A = np.zeros((len(num_obs), len(state)))\n",
    "\n",
    "    #mor_lev_binary/states\n",
    "    A[:, :, 0] = np.array([ [0, 1],\n",
    "                            [1, 0] ]\n",
    "                          )\n",
    "\n",
    "    #shock-noshock/states\n",
    "    A[:, :, 1] = np.array([ [0.75, 0],\n",
    "                            [0.25, 1] ]\n",
    "                          )\n",
    "\n",
    "    #prepared-surprised/states\n",
    "    A[:, :, 2] = np.array([ [0.5, 0.5],\n",
    "                            [0.5, 0.5] ]\n",
    "                          )\n",
    "\n",
    "\n",
    "    # This is the transition mapping that truly describes the environment's dynamics\n",
    "    B_gp = TrialEnv.get_transition_dist()\n",
    "\n",
    "\n",
    "    # B as an identity matrix\n",
    "    B = np.zeros((len(state), len(state), 1))\n",
    "\n",
    "    B[:, :, 0] = np.array([ [1, 0],\n",
    "                            [0, 1] ])\n",
    "\n",
    "    A_gm = copy.deepcopy(A_gp)  # make a copy of the true observation likelihood to initialize the observation model\n",
    "    B_gm = copy.deepcopy(B_gp)  # make a copy of the true transition likelihood to initialize the transition model\n",
    "\n",
    "\n",
    "    # This is the matrix representing the preferences over outcomes\n",
    "    #prepared-surprised/cs+-\n",
    "    C = utils.obj_array_zeros(surprised_obs,action)\n",
    "    C[0][0] = 4.0\n",
    "    C[0][1] = -6.0\n",
    "    C[1][0] = -6.0\n",
    "    C[1][1] = 4.0\n",
    "\n",
    "\n",
    "    return A_gm, B_gm, C"
   ],
   "metadata": {
    "collapsed": false
   }
  },
  {
   "cell_type": "code",
   "execution_count": null,
   "outputs": [],
   "source": [
    "context_names = ['Left-Better', 'Right-Better']\n",
    "choice_names = ['Start', 'Hint', 'Left Arm', 'Right Arm']\n",
    "\n",
    "\"\"\" Define `num_states` and `num_factors` below \"\"\"\n",
    "num_states = [len(context_names), len(choice_names)]\n",
    "num_factors = len(num_states)\n",
    "\n",
    "context_action_names = ['Do-nothing']\n",
    "choice_action_names = ['guess-cs+','guess-cs-']\n",
    "\n",
    "\"\"\" Define `num_controls` below \"\"\"\n",
    "num_controls = [len(context_action_names), len(choice_action_names)]\n",
    "\n",
    "hint_obs_names = ['Null', 'Hint-left', 'Hint-right']\n",
    "reward_obs_names = ['Null', 'Loss', 'Reward']\n",
    "choice_obs_names = ['Start', 'Hint', 'Left Arm', 'Right Arm']\n",
    "\n",
    "\"\"\" Define `num_obs` and `num_modalities` below \"\"\"\n",
    "num_obs = [len(hint_obs_names), len(reward_obs_names), len(choice_obs_names)]\n",
    "num_modalities = len(num_obs)"
   ],
   "metadata": {
    "collapsed": false
   }
  },
  {
   "cell_type": "code",
   "execution_count": null,
   "outputs": [],
   "source": [
    "my_agent = Agent(A = A, B = B, C = C)"
   ],
   "metadata": {
    "collapsed": false
   }
  },
  {
   "cell_type": "code",
   "execution_count": null,
   "outputs": [],
   "source": [
    "class TrialEnv(object):\n",
    "\n",
    "  def __init__(self, context = None, p_hint = 1.0, p_reward = 0.8):\n",
    "\n",
    "    self.state = state\n",
    "\n",
    "    if context == None:\n",
    "      self.context = self.context_names[utils.sample(np.array([0.5, 0.5]))] # randomly sample which bandit arm is better (Left or Right)\n",
    "    else:\n",
    "      self.context = context\n",
    "\n",
    "    self.p_hint = p_hint\n",
    "    self.p_reward = p_reward\n",
    "\n",
    "    self.shock_obs = shock_obs\n",
    "    self.morph_level_obs = morph_level_obs\n",
    "\n",
    "  def step(self, action):\n",
    "\n",
    "      # start trial\n",
    "      shock_obs = \"Null\"\n",
    "      surprised_obs = 'Null'\n",
    "\n",
    "      #observe\n",
    "      morph_level_obs ,\n",
    "\n",
    "\n",
    "       # action == \"guess\"\n",
    "      shock_obs ,\n",
    "      surprised_obs ,\n",
    "\n",
    "    obs = [morph_level_obs, shock_obs,surprised_obs]\n",
    "\n",
    "    return obs\n"
   ],
   "metadata": {
    "collapsed": false
   }
  }
 ],
 "metadata": {
  "kernelspec": {
   "display_name": "Python 3",
   "language": "python",
   "name": "python3"
  },
  "language_info": {
   "codemirror_mode": {
    "name": "ipython",
    "version": 2
   },
   "file_extension": ".py",
   "mimetype": "text/x-python",
   "name": "python",
   "nbconvert_exporter": "python",
   "pygments_lexer": "ipython2",
   "version": "2.7.6"
  }
 },
 "nbformat": 4,
 "nbformat_minor": 0
}
