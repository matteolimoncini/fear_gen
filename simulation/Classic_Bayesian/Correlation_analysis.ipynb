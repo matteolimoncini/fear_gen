{
 "cells": [
  {
   "cell_type": "code",
   "execution_count": null,
   "metadata": {
    "collapsed": true
   },
   "outputs": [],
   "source": [
    "import pandas as pd\n",
    "import matplotlib.pyplot as plt\n",
    "import numpy as np\n",
    "import os"
   ]
  },
  {
   "cell_type": "code",
   "execution_count": null,
   "outputs": [],
   "source": [
    "!pwd"
   ],
   "metadata": {
    "collapsed": false
   }
  },
  {
   "cell_type": "code",
   "execution_count": null,
   "outputs": [],
   "source": [
    "df_all = pd.read_csv('../output/pyro/complete_rational/correlation.csv')\n",
    "df_window = pd.read_csv('../output/pyro/sliding_wind/correlation.csv')\n",
    "df_window"
   ],
   "metadata": {
    "collapsed": false
   }
  },
  {
   "cell_type": "code",
   "execution_count": null,
   "outputs": [],
   "source": [
    "df_all"
   ],
   "metadata": {
    "collapsed": false
   }
  },
  {
   "cell_type": "code",
   "execution_count": null,
   "outputs": [],
   "source": [
    "from sklearn.linear_model import LinearRegression\n",
    "x_all, y_all = df_all.lds.values, df_all.pearson.values\n",
    "x_all = x_all[:, np.newaxis]\n",
    "reg = LinearRegression()\n",
    "reg.fit(x_all, y_all)\n",
    "reg_all = reg.predict(x_all)\n"
   ],
   "metadata": {
    "collapsed": false
   }
  },
  {
   "cell_type": "code",
   "execution_count": null,
   "outputs": [],
   "source": [
    "list_k = df_window.k.unique()\n",
    "type(list_k)"
   ],
   "metadata": {
    "collapsed": false
   }
  },
  {
   "cell_type": "code",
   "execution_count": null,
   "outputs": [],
   "source": [
    "predict_regr = dict()\n",
    "for k in list_k:\n",
    "    df_k = df_window[df_window.k == k].sort_values('lds')\n",
    "    x_k, y_k = df_k.lds.values, df_k.pearson.values\n",
    "    x_k = x_k[:, np.newaxis]\n",
    "\n",
    "    reg.fit(x_k, y_k)\n",
    "    reg_k = reg.predict(x_k)\n",
    "\n",
    "    predict_regr[k] = {'x': np.array([x_k[0][0], x_k[-1][0]]), 'y': np.array([reg_k[0], reg_k[-1]])}\n"
   ],
   "metadata": {
    "collapsed": false
   }
  },
  {
   "cell_type": "code",
   "execution_count": null,
   "outputs": [],
   "source": [
    "predict_regr"
   ],
   "metadata": {
    "collapsed": false
   }
  },
  {
   "cell_type": "code",
   "execution_count": null,
   "outputs": [],
   "source": [
    "# single plot between k = 2 and k = 160 (all trials)\n",
    "plt.figure(figsize=(8,6))\n",
    "plt.rcParams['font.size'] = '12'\n",
    "plt.scatter(x_all,y_all, color = 'lightblue',)\n",
    "\n",
    "\n",
    "plt.plot(x_all, reg_all, '-', color='blue',  label='k = 160')\n",
    "for i, j in predict_regr.items():\n",
    "    if i in [100, 50]:\n",
    "        continue\n",
    "    x_values = j['x']\n",
    "    y_values = j['y']\n",
    "    plt.plot(x_values, y_values, '--', label = f'k = {i}', alpha=0.7)\n",
    "plt.xlabel('Linear Deviation Score')\n",
    "plt.ylabel('Pearson correlation coefficient')\n",
    "plt.yticks(np.arange(0, 1.2, 0.2))\n",
    "plt.legend()\n",
    "plt.show()"
   ],
   "metadata": {
    "collapsed": false
   }
  },
  {
   "cell_type": "code",
   "execution_count": null,
   "outputs": [],
   "source": [],
   "metadata": {
    "collapsed": false
   }
  }
 ],
 "metadata": {
  "kernelspec": {
   "display_name": "Python 3",
   "language": "python",
   "name": "python3"
  },
  "language_info": {
   "codemirror_mode": {
    "name": "ipython",
    "version": 2
   },
   "file_extension": ".py",
   "mimetype": "text/x-python",
   "name": "python",
   "nbconvert_exporter": "python",
   "pygments_lexer": "ipython2",
   "version": "2.7.6"
  }
 },
 "nbformat": 4,
 "nbformat_minor": 0
}
