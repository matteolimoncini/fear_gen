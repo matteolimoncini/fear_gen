{
 "cells": [
  {
   "cell_type": "code",
   "execution_count": null,
   "metadata": {
    "collapsed": true
   },
   "outputs": [],
   "source": [
    "import os\n",
    "import numpy as np\n",
    "import pandas as pd\n",
    "import matplotlib.pyplot as plt\n",
    "import torch\n",
    "import warnings\n",
    "\n",
    "from pandas.errors import SettingWithCopyWarning\n",
    "from fear_gen import extract_correct_csv\n",
    "from sklearn.metrics import r2_score, cohen_kappa_score\n",
    "from pyirr import intraclass_correlation\n",
    "\n",
    "warnings.simplefilter(action='ignore', category=FutureWarning)\n",
    "warnings.simplefilter(action='ignore', category=SettingWithCopyWarning)\n",
    "\n",
    "plt.rcParams['font.size'] = '12'\n",
    "plt.rcParams['figure.figsize'] = [8, 6]"
   ]
  },
  {
   "cell_type": "markdown",
   "source": [
    "Function `anxious_subjects` that extract the higher/lower `n` subjects given the score in the `path` parameter"
   ],
   "metadata": {
    "collapsed": false
   }
  },
  {
   "cell_type": "code",
   "execution_count": null,
   "outputs": [],
   "source": [
    "def anxious_subjects(path, n, type_='top'):\n",
    "    os.chdir('..')\n",
    "    valid_subjects = extract_correct_csv.extract_only_valid_subject()\n",
    "    os.chdir('pyro')\n",
    "    df = pd.read_csv(path).dropna().reset_index(drop=True)\n",
    "    df = df[df.subject.isin(valid_subjects)]\n",
    "    df['subject'] = [int(x) for x in df['subject']]\n",
    "    if type_=='top':\n",
    "        return df.sort_values(by=df.columns[1], ascending=False).subject[:n].values\n",
    "    else:\n",
    "        return df.sort_values(by=df.columns[1], ascending=False).subject[-n:].values\n"
   ],
   "metadata": {
    "collapsed": false
   }
  },
  {
   "cell_type": "markdown",
   "source": [
    "# Rational agent\n",
    "The idea is to train *n* models where each model is trained using *n* trials.\n",
    "\n",
    "First thing: extract *morphing level* *shock* and *rating* data of a real subject."
   ],
   "metadata": {
    "collapsed": false
   }
  },
  {
   "cell_type": "code",
   "execution_count": null,
   "outputs": [],
   "source": [
    "HABITUATION_TRIALS = 16\n",
    "\n",
    "# read dataset\n",
    "df = pd.read_csv('../data/newLookAtMe/newLookAtMe02.csv')\n",
    "df_real = df[['shock', 'rating', 'morphing level']]\n",
    "df_real['shock'] = df_real['shock'].astype(int) #setting shock as int instead of boolean\n",
    "df_real['morphing level'] = [int(d==6) for d in df_real['morphing level']] # if morphing level==6 -> 1\n",
    "df_real['rating'] = df_real['rating'].replace([1, 2, 3, 4, 5], [0.2, 0.4, 0.6, 0.8, 1])\n",
    "\n",
    "# remove first 16 trials\n",
    "df_real=df_real[HABITUATION_TRIALS:]"
   ],
   "metadata": {
    "collapsed": false
   }
  },
  {
   "cell_type": "markdown",
   "source": [
    "## Shock expectancy simulated\n",
    "\n",
    "Read output probability of the rational agent model, excluding the first 16 trials, and compare the results with the *rating* given by a real subject (Subject number 2 in the example below)."
   ],
   "metadata": {
    "collapsed": false
   }
  },
  {
   "cell_type": "code",
   "execution_count": null,
   "outputs": [],
   "source": [
    "# load results of rational agent model\n",
    "array_csplus_simulated = np.load('../output/pyro/complete_rational/csplus.npy',allow_pickle=True)\n",
    "array_csminus_simulated = np.load('../output/pyro/complete_rational/csminus.npy',allow_pickle=True)\n",
    "total_array_simulated = np.load('../output/pyro/complete_rational/total.npy',allow_pickle=True)"
   ],
   "metadata": {
    "collapsed": false
   }
  },
  {
   "cell_type": "code",
   "execution_count": null,
   "outputs": [],
   "source": [
    "total_array_simulated"
   ],
   "metadata": {
    "collapsed": false
   }
  },
  {
   "cell_type": "code",
   "execution_count": null,
   "outputs": [],
   "source": [
    "y_plus_real = df_real.loc[df_real['morphing level']==1].rating.values\n",
    "x_plus_real = np.array(df_real.loc[df_real['morphing level']==1].index)\n",
    "y_minus_real = df_real.loc[df_real['morphing level']==0].rating.values\n",
    "x_minus_real = np.array(df_real.loc[df_real['morphing level']==0].index)\n",
    "y_real=df_real.rating.values\n",
    "\n",
    "fig = plt.figure(figsize=(13,6))\n",
    "plt.title('Analysis of the shock prediction comparing subject #2 and rational agent')\n",
    "plt.scatter(x_plus_real, y_plus_real, color='blue', label='cs+ real')\n",
    "plt.scatter(array_csplus_simulated[:,0], array_csplus_simulated[:,1], color='darkblue', label='cs+ simulated')\n",
    "plt.scatter(x_minus_real, y_minus_real, color='red', label='cs- real')\n",
    "plt.scatter(array_csminus_simulated[:,0], array_csminus_simulated[:,1], color='darkred', label='cs- simulated')\n",
    "plt.legend(loc='right')\n",
    "plt.axvline(x=16, linestyle='--', color='green')\n",
    "plt.axvline(x=48, linestyle='--', color='green')\n",
    "plt.xlabel('Trial')\n",
    "plt.ylabel('P(condition | visual stimulus)')\n",
    "plt.show()\n"
   ],
   "metadata": {
    "collapsed": false
   }
  },
  {
   "cell_type": "markdown",
   "source": [
    "# Analysis of the correlation between the rational agent and all real subjects using Pearson"
   ],
   "metadata": {
    "collapsed": false
   }
  },
  {
   "cell_type": "code",
   "execution_count": null,
   "outputs": [],
   "source": [
    "# extract all valid subjects\n",
    "os.chdir('..')\n",
    "valid_sub = extract_correct_csv.extract_only_valid_subject()\n",
    "os.chdir('pyro')"
   ],
   "metadata": {
    "collapsed": false
   }
  },
  {
   "cell_type": "code",
   "execution_count": null,
   "outputs": [],
   "source": [
    "df_correlation = pd.DataFrame(columns=['subject','pearson','r2score','pearson_disc','cohen_disc'])\n",
    "\n",
    "path_sias = '../data/sias_score.csv'\n",
    "path_lds = '../data/lds_subjects.csv'\n",
    "len_sub = 6\n",
    "\n",
    "# extract the 6 most/least generalization subjects and the 6 most/least anxious subjects\n",
    "top_lds_list = anxious_subjects(path_lds, len_sub, 'top')\n",
    "bot_lds_list = anxious_subjects(path_lds, len_sub, 'bot')\n",
    "top_sias_list = anxious_subjects(path_sias, len_sub, 'top')\n",
    "bot_sias_list = anxious_subjects(path_sias, len_sub, 'bot')"
   ],
   "metadata": {
    "collapsed": false
   }
  },
  {
   "cell_type": "code",
   "execution_count": null,
   "outputs": [],
   "source": [
    "for sub in valid_sub:\n",
    "        subj_ = extract_correct_csv.read_correct_subject_csv(sub)\n",
    "\n",
    "        #read data of real subjects\n",
    "        df_sub = pd.read_csv('../data/newLookAtMe/newLookAtMe'+subj_+'.csv')\n",
    "        df_sub = df_sub[['shock', 'rating', 'morphing level']]\n",
    "        df_sub['shock'] = df_sub['shock'].astype(int) #convert shock from boolean to int\n",
    "        df_sub['morphing level'] = [int(d == 6) for d in df_sub['morphing level']]\n",
    "        df_sub['rating'] = df_sub['rating'].replace([1, 2, 3, 4, 5], [0.2, 0.4, 0.6, 0.8, 1]) #convert vote into (0,1)\n",
    "        df_sub_learn = df_sub[HABITUATION_TRIALS:] #remove habituation trials\n",
    "        rating_sub = np.array(df_sub_learn['rating'])\n",
    "\n",
    "        # rational agent output\n",
    "        rating_rational = total_array_simulated\n",
    "        #remove trial from rating agent simulation and real data if in one list is nan\n",
    "        bad = ~np.logical_or(np.isnan(rating_sub), np.isnan(rating_rational))\n",
    "        rating_sub = np.compress(bad, rating_sub)\n",
    "        rating_rational = np.compress(bad, rating_rational)\n",
    "\n",
    "        #discretization of rating rational\n",
    "        round_vector = np.array([0.2, 0.4, 0.6, 0.8, 1])\n",
    "        rating_rational_discr = np.round(rating_rational / 0.2) * 0.2\n",
    "        rating_rational_discr = np.clip(rating_rational_discr, round_vector.min(), round_vector.max())\n",
    "\n",
    "        # calculate pearson correlation coefficient between k-rational model and real data\n",
    "        pearson = round(np.corrcoef(rating_sub,rating_rational)[0][1],2)\n",
    "\n",
    "        # calculate r2 score between k-rational model and real data\n",
    "        r2 = round(r2_score(rating_sub,rating_rational),2)\n",
    "\n",
    "        # calculate pearson correlation coefficient between k-rational model and real data using discrete values for k-rational model\n",
    "        pearson_disc = round(np.corrcoef(rating_sub,rating_rational_discr)[0][1],2)\n",
    "\n",
    "        # calculate cohen kappa between k-rational model and real data using discrete values for k-rational model\n",
    "        cohen_disc = round(cohen_kappa_score(rating_sub*10,rating_rational_discr*10),2)\n",
    "\n",
    "        # write line\n",
    "        df_tmp = pd.DataFrame({'subject':sub,'pearson':pearson,'r2score':r2,'pearson_disc':pearson_disc,'cohen_disc':cohen_disc},index=np.arange(1))\n",
    "        df_correlation = pd.concat([df_correlation,df_tmp])\n",
    "df_correlation['subject'] = [float(x) for x in df_correlation['subject']]\n",
    "df_correlation = df_correlation.reset_index(drop=True)\n",
    "sias_df = pd.read_csv('../data/sias_score.csv').drop(columns='social_anxiety')\n",
    "sias_df['subject'] = [float(x) for x in sias_df['subject']]\n",
    "\n",
    "lds_df = pd.read_csv('../data/lds_subjects.csv')\n",
    "lds_df['subject'] = [float(x) for x in lds_df['subject']]\n",
    "\n",
    "df_correlation = pd.concat([sias_df.set_index('subject'), lds_df.set_index('subject'), df_correlation.set_index('subject')], axis=1).reset_index().dropna()"
   ],
   "metadata": {
    "collapsed": false
   }
  },
  {
   "cell_type": "markdown",
   "source": [
    "`DataFrame` containing different correlation index between rational agent and real agents and the corresponding **SIAS** and **LDS** values."
   ],
   "metadata": {
    "collapsed": false
   }
  },
  {
   "cell_type": "code",
   "execution_count": null,
   "outputs": [],
   "source": [
    "!pwd"
   ],
   "metadata": {
    "collapsed": false
   }
  },
  {
   "cell_type": "code",
   "execution_count": null,
   "outputs": [],
   "source": [
    "df_correlation.to_csv('../output/pyro/complete_rational/correlation.csv', index=False)"
   ],
   "metadata": {
    "collapsed": false
   }
  },
  {
   "cell_type": "code",
   "execution_count": null,
   "outputs": [],
   "source": [
    "df_correlation.head(10)"
   ],
   "metadata": {
    "collapsed": false
   }
  },
  {
   "cell_type": "markdown",
   "source": [
    "### Scatter correlation plot between LDS values and Pearson"
   ],
   "metadata": {
    "collapsed": false
   }
  },
  {
   "cell_type": "code",
   "execution_count": null,
   "outputs": [],
   "source": [
    "from sklearn.linear_model import LinearRegression\n",
    "lds_values = df_correlation['lds'].values\n",
    "pearson_values = df_correlation['pearson'].values\n",
    "lds_values = lds_values[:, np.newaxis]\n",
    "\n",
    "reg = LinearRegression()\n",
    "reg.fit(lds_values, pearson_values)\n",
    "predict = reg.predict(lds_values)"
   ],
   "metadata": {
    "collapsed": false
   }
  },
  {
   "cell_type": "code",
   "execution_count": null,
   "outputs": [],
   "source": [
    "plt.plot(lds_values, predict, color='red')\n",
    "plt.scatter(lds_values, pearson_values)\n",
    "plt.xlabel('Linear Deviation Score')\n",
    "plt.ylabel('Pearson correlation coefficient')\n",
    "plt.show()"
   ],
   "metadata": {
    "collapsed": false
   }
  },
  {
   "cell_type": "markdown",
   "source": [
    "### Scatter correlation plot between SIAS values and Pearson"
   ],
   "metadata": {
    "collapsed": false
   }
  },
  {
   "cell_type": "code",
   "execution_count": null,
   "outputs": [],
   "source": [
    "sias_values = df_correlation['sias_score'].values\n",
    "sias_values = sias_values[:, np.newaxis]\n",
    "\n",
    "reg_sias = LinearRegression()\n",
    "reg_sias.fit(sias_values, pearson_values)\n",
    "predict_sias = reg_sias.predict(sias_values)"
   ],
   "metadata": {
    "collapsed": false
   }
  },
  {
   "cell_type": "code",
   "execution_count": null,
   "outputs": [],
   "source": [
    "plt.plot(sias_values, predict_sias, color='red')\n",
    "plt.scatter(sias_values, pearson_values)\n",
    "plt.xlabel('sias_values')\n",
    "plt.ylabel('pearson values')\n",
    "plt.show()"
   ],
   "metadata": {
    "collapsed": false
   }
  },
  {
   "cell_type": "markdown",
   "source": [
    "## Analysis subject with more fear generalization vs less fear generalization"
   ],
   "metadata": {
    "collapsed": false
   }
  },
  {
   "cell_type": "code",
   "execution_count": null,
   "outputs": [],
   "source": [
    "pearson_lds_high = df_correlation[df_correlation.subject.isin(top_lds_list)]['pearson'].median()\n",
    "pearson_lds_low = df_correlation[df_correlation.subject.isin(bot_lds_list)]['pearson'].median()\n",
    "\n",
    "r2_lds_high = df_correlation[df_correlation.subject.isin(top_lds_list)]['r2score'].median()\n",
    "r2_lds_low = df_correlation[df_correlation.subject.isin(bot_lds_list)]['r2score'].median()\n",
    "\n",
    "discrete_pearson_lds_high = df_correlation[df_correlation.subject.isin(top_lds_list)]['pearson_disc'].median()\n",
    "discrete_pearson_lds_low = df_correlation[df_correlation.subject.isin(bot_lds_list)]['pearson_disc'].median()\n",
    "\n",
    "cohen_lds_high = df_correlation[df_correlation.subject.isin(top_lds_list)]['cohen_disc'].median()\n",
    "cohen_lds_low = df_correlation[df_correlation.subject.isin(bot_lds_list)]['cohen_disc'].median()\n",
    "\n",
    "print('Correlation between 5 more/less fear gen subjects with the rational agent\\n')\n",
    "print('Pearson\\nHigh fear gen: ',pearson_lds_high, ' Low fear gen:',pearson_lds_low)\n",
    "print('\\nR2score\\nHigh fear gen: ',r2_lds_high, ' Low fear gen:',r2_lds_low)\n",
    "print('\\nPearson discrete\\nHigh fear gen: ',discrete_pearson_lds_high, ' Low fear gen:',discrete_pearson_lds_low)\n",
    "print('\\nCohen\\nHigh fear gen: ',cohen_lds_high, ' Low fear gen:',cohen_lds_low)"
   ],
   "metadata": {
    "collapsed": false
   }
  },
  {
   "cell_type": "markdown",
   "source": [
    "## Analysis subject with higher sias score vs lower sias score"
   ],
   "metadata": {
    "collapsed": false
   }
  },
  {
   "cell_type": "code",
   "execution_count": null,
   "outputs": [],
   "source": [
    "pearson_sias_high = df_correlation[df_correlation.subject.isin(top_sias_list)]['pearson'].median()\n",
    "pearson_sias_low = df_correlation[df_correlation.subject.isin(bot_sias_list)]['pearson'].median()\n",
    "\n",
    "r2_sias_high = df_correlation[df_correlation.subject.isin(top_sias_list)]['r2score'].median()\n",
    "r2_sias_low = df_correlation[df_correlation.subject.isin(bot_sias_list)]['r2score'].median()\n",
    "\n",
    "discrete_pearson_sias_high = df_correlation[df_correlation.subject.isin(top_sias_list)]['pearson_disc'].median()\n",
    "discrete_pearson_sias_low = df_correlation[df_correlation.subject.isin(bot_sias_list)]['pearson_disc'].median()\n",
    "\n",
    "cohen_sias_high = df_correlation[df_correlation.subject.isin(top_sias_list)]['cohen_disc'].median()\n",
    "cohen_sias_low = df_correlation[df_correlation.subject.isin(bot_sias_list)]['cohen_disc'].median()\n",
    "\n",
    "print(f'Correlation between {len_sub} more/less anxiety subjects with the rational agent\\n')\n",
    "print('Pearson\\nHigh anxiety: ',pearson_sias_high, ' Low anxiety:',pearson_sias_low)\n",
    "print('\\nR2score\\nHigh anxiety: ',r2_sias_high, ' Low anxiety:',r2_sias_low)\n",
    "print('\\nPearson discrete\\nHigh anxiety: ',discrete_pearson_sias_high, ' Low anxiety:',discrete_pearson_sias_low)\n",
    "print('\\nCohen\\nHigh anxiety: ',cohen_sias_high, ' Low anxiety:',cohen_sias_low)"
   ],
   "metadata": {
    "collapsed": false
   }
  },
  {
   "cell_type": "markdown",
   "source": [
    "# Intra class classification\n",
    "Discretize data"
   ],
   "metadata": {
    "collapsed": false
   }
  },
  {
   "cell_type": "code",
   "execution_count": null,
   "outputs": [],
   "source": [
    "values = np.array([0, 0.2, 0.4, 0.6, 0.8, 1])\n",
    "discretized_data = np.digitize(total_array_simulated, values)\n",
    "df_global = pd.DataFrame(columns=['Subject', 'Rating rational', 'Rating real'])\n",
    "\n",
    "for sub in valid_sub:\n",
    "    os.chdir('..')\n",
    "    string_sub = extract_correct_csv.read_correct_subject_csv(sub)\n",
    "    os.chdir('pyro')\n",
    "    df_sub = pd.read_csv('../data/newLookAtMe/newLookAtMe'+string_sub+'.csv')\n",
    "    df_sub = df_sub[16:]\n",
    "    tmp_df = pd.DataFrame({'Subject': sub, 'Rating rational': discretized_data, 'Rating real': df_sub['rating']})\n",
    "    df_global = pd.concat([df_global, tmp_df])\n",
    "\n",
    "df_global = df_global.reset_index(drop=True)"
   ],
   "metadata": {
    "collapsed": false
   }
  },
  {
   "cell_type": "code",
   "execution_count": null,
   "outputs": [],
   "source": [
    "valid_subjects = df_global.Subject.unique()\n",
    "dict_results = {}\n",
    "for x in valid_subjects:\n",
    "    df_sub_ = df_global[df_global.Subject == x].dropna().drop(columns=['Subject']).reset_index(drop=True)\n",
    "    df_sub_['Rating rational'] = df_sub_['Rating rational'].astype(float)\n",
    "    result = intraclass_correlation(df_sub_).value\n",
    "    dict_results[x] = result"
   ],
   "metadata": {
    "collapsed": false
   }
  },
  {
   "cell_type": "code",
   "execution_count": null,
   "outputs": [],
   "source": [
    "df_icc = pd.DataFrame(list(dict_results.items()), columns=['Subject', 'ICC'])\n",
    "\n",
    "# add ICC values to correlation df\n",
    "df_all_indexes = pd.concat([df_correlation.set_index('subject'), df_icc.set_index('Subject')], axis=1).reset_index(drop=True).dropna()\n",
    "df_all_indexes\n"
   ],
   "metadata": {
    "collapsed": false
   }
  },
  {
   "cell_type": "markdown",
   "source": [
    "## Kernel Density Estimation Plot"
   ],
   "metadata": {
    "collapsed": false
   }
  },
  {
   "cell_type": "code",
   "execution_count": null,
   "outputs": [],
   "source": [
    "import seaborn as sns\n",
    "import matplotlib.pyplot as plt"
   ],
   "metadata": {
    "collapsed": false
   }
  },
  {
   "cell_type": "code",
   "execution_count": null,
   "outputs": [],
   "source": [
    "higher_lds = anxious_subjects(path_lds, 2)\n",
    "lower_lds = anxious_subjects(path_lds, 2, 'bot')"
   ],
   "metadata": {
    "collapsed": false
   }
  },
  {
   "cell_type": "code",
   "execution_count": null,
   "outputs": [],
   "source": [
    "print(higher_lds)\n",
    "print(lower_lds)"
   ],
   "metadata": {
    "collapsed": false
   }
  },
  {
   "cell_type": "code",
   "execution_count": null,
   "outputs": [],
   "source": [
    "def extract_ratings(subject):\n",
    "    string_sub = extract_correct_csv.read_correct_subject_csv(subject)\n",
    "    df_ = pd.read_csv('../data/newLookAtMe/newLookAtMe'+string_sub+'.csv')\n",
    "    df_ = df_[HABITUATION_TRIALS:]\n",
    "    df_['morphing level'] = [int(d==6) for d in df_['morphing level']] # if morphing level==6 -> 1\n",
    "    df_['rating'] = df_['rating'].replace([1, 2, 3, 4, 5], [0.2, 0.4, 0.6, 0.8, 1])\n",
    "    y_plus_real = df_.loc[df_['morphing level']==1].rating.values\n",
    "    y_minus_real = df_.loc[df_['morphing level']==0].rating.values\n",
    "    return y_plus_real, y_minus_real\n",
    "\n",
    "def dataFrame_kde(simulated, real):\n",
    "    df_results = pd.DataFrame(columns=['SIM', 'REAL'])\n",
    "    df_results['SIM'] = simulated\n",
    "    df_results['REAL'] = real\n",
    "    return df_results"
   ],
   "metadata": {
    "collapsed": false
   }
  },
  {
   "cell_type": "code",
   "execution_count": null,
   "outputs": [],
   "source": [
    "plus, minus = extract_ratings(higher_lds[1])"
   ],
   "metadata": {
    "collapsed": false
   }
  },
  {
   "cell_type": "code",
   "execution_count": null,
   "outputs": [],
   "source": [
    "df_plus = dataFrame_kde(array_csplus_simulated[:,1], plus)\n",
    "df_minus = dataFrame_kde(array_csminus_simulated[:,1], minus)"
   ],
   "metadata": {
    "collapsed": false
   }
  },
  {
   "cell_type": "code",
   "execution_count": null,
   "outputs": [],
   "source": [
    "fig = plt.figure(figsize=(7,7))\n",
    "fig.suptitle(f'Subject {higher_lds[1]}')\n",
    "ax1 = plt.subplot(2,1,1)\n",
    "ax1.set_title('CS +')\n",
    "sns.kdeplot(df_plus)\n",
    "ax2 = plt.subplot(2,1,2)\n",
    "ax2.set_title('CS -')\n",
    "sns.kdeplot(df_minus)\n",
    "fig.tight_layout()\n",
    "plt.show()"
   ],
   "metadata": {
    "collapsed": false
   }
  },
  {
   "cell_type": "code",
   "execution_count": null,
   "outputs": [],
   "source": [
    "plus, minus = extract_ratings(higher_lds[0])\n",
    "df_plus = dataFrame_kde(array_csplus_simulated[:, 1], plus)\n",
    "df_minus = dataFrame_kde(array_csminus_simulated[:, 1], minus)\n",
    "fig = plt.figure(figsize=(7,7))\n",
    "fig.suptitle(f'Subject {higher_lds[0]}')\n",
    "ax1 = plt.subplot(2, 1, 1)\n",
    "ax1.set_title('CS +')\n",
    "sns.kdeplot(df_plus)\n",
    "ax2 = plt.subplot(2, 1, 2)\n",
    "ax2.set_title('CS -')\n",
    "sns.kdeplot(df_minus)\n",
    "fig.tight_layout()\n",
    "plt.show()"
   ],
   "metadata": {
    "collapsed": false
   }
  },
  {
   "cell_type": "code",
   "execution_count": null,
   "outputs": [],
   "source": [
    "plus, minus = extract_ratings(lower_lds[0])\n",
    "df_plus = dataFrame_kde(array_csplus_simulated[:, 1], plus)\n",
    "df_minus = dataFrame_kde(array_csminus_simulated[:, 1], minus)\n",
    "fig = plt.figure(figsize=(7,7))\n",
    "fig.suptitle(f'Subject {lower_lds[0]}')\n",
    "ax1 = plt.subplot(2, 1, 1)\n",
    "ax1.set_title('CS +')\n",
    "sns.kdeplot(df_plus)\n",
    "ax2 = plt.subplot(2, 1, 2)\n",
    "ax2.set_title('CS -')\n",
    "sns.kdeplot(df_minus)\n",
    "fig.tight_layout()\n",
    "plt.show()"
   ],
   "metadata": {
    "collapsed": false
   }
  },
  {
   "cell_type": "code",
   "execution_count": null,
   "outputs": [],
   "source": [
    "plus, minus = extract_ratings(lower_lds[1])\n",
    "df_plus = dataFrame_kde(array_csplus_simulated[:, 1], plus)\n",
    "df_minus = dataFrame_kde(array_csminus_simulated[:, 1], minus)\n",
    "fig = plt.figure(figsize=(7,7))\n",
    "fig.suptitle(f'Subject {lower_lds[1]}')\n",
    "ax1 = plt.subplot(2, 1, 1)\n",
    "ax1.set_title('CS +')\n",
    "sns.kdeplot(df_plus)\n",
    "ax2 = plt.subplot(2, 1, 2)\n",
    "ax2.set_title('CS -')\n",
    "sns.kdeplot(df_minus)\n",
    "fig.tight_layout()\n",
    "plt.show()"
   ],
   "metadata": {
    "collapsed": false
   }
  },
  {
   "cell_type": "code",
   "execution_count": null,
   "outputs": [],
   "source": [],
   "metadata": {
    "collapsed": false
   }
  }
 ],
 "metadata": {
  "kernelspec": {
   "display_name": "Python 3",
   "language": "python",
   "name": "python3"
  },
  "language_info": {
   "codemirror_mode": {
    "name": "ipython",
    "version": 2
   },
   "file_extension": ".py",
   "mimetype": "text/x-python",
   "name": "python",
   "nbconvert_exporter": "python",
   "pygments_lexer": "ipython2",
   "version": "2.7.6"
  }
 },
 "nbformat": 4,
 "nbformat_minor": 0
}
