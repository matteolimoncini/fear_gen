{
 "cells": [
  {
   "cell_type": "markdown",
   "source": [
    "PPCA lavora con più variabili osservabili anzichè una sola"
   ],
   "metadata": {
    "collapsed": false
   }
  },
  {
   "cell_type": "code",
   "execution_count": null,
   "outputs": [],
   "source": [
    "import numpy as np\n",
    "import pymc as pm\n",
    "import matplotlib.pyplot as plt\n",
    "import aesara.tensor as at\n",
    "import arviz as az\n",
    "from sklearn.metrics import accuracy_score\n",
    "from sklearn.preprocessing import StandardScaler\n",
    "import extract_correct_csv\n",
    "from scipy import stats\n",
    "import pandas as pd\n",
    "import warnings\n",
    "\n",
    "from deepemogp import feature_extractor\n",
    "from deepemogp.signal import physio as physio\n",
    "from deepemogp import datasets as datasets\n",
    "from deepemogp.signal import behavior as behavior"
   ],
   "metadata": {
    "collapsed": false
   }
  },
  {
   "cell_type": "code",
   "execution_count": null,
   "outputs": [],
   "source": [
    "warnings.simplefilter(action=\"ignore\", category=FutureWarning)\n",
    "warnings.simplefilter(action='ignore', category=RuntimeWarning)"
   ],
   "metadata": {
    "collapsed": false
   }
  },
  {
   "cell_type": "code",
   "execution_count": null,
   "outputs": [],
   "source": [
    "scaler = StandardScaler()"
   ],
   "metadata": {
    "collapsed": false
   }
  },
  {
   "cell_type": "code",
   "execution_count": null,
   "outputs": [],
   "source": [
    "prova_3_subj = [2,4,10]#extract_correct_csv.extract_only_valid_subject()"
   ],
   "metadata": {
    "collapsed": false
   }
  },
  {
   "cell_type": "code",
   "execution_count": null,
   "outputs": [],
   "source": [
    "global_e_labels = []\n",
    "global_subject = []\n",
    "num_trials_to_remove = 48\n",
    "\n",
    "for i in prova_3_subj:\n",
    "    subj_ = extract_correct_csv.read_correct_subject_csv(i)\n",
    "    csv_ = 'data/LookAtMe_0'+str(subj_)+'.csv'\n",
    "    global_data = pd.read_csv(csv_, sep='\\t')\n",
    "    y = np.array(list([int(d>2) for d in global_data['rating']]))\n",
    "    e_labels = y[:,np.newaxis]  # rating > 2\n",
    "    e_labels = e_labels[num_trials_to_remove:]\n",
    "    global_e_labels = global_e_labels + e_labels.tolist()\n",
    "    subject = np.array(list([s for s in global_data['subject']]))[:, np.newaxis]\n",
    "    subject = subject[num_trials_to_remove:]\n",
    "    global_subject = global_subject + subject.tolist()\n",
    "\n",
    "#e_labels = e_labels[num_trials_to_remove:]\n",
    "'''N_e = e_labels.shape[0]\n",
    "D_e = e_labels.shape[1]'''\n",
    "global_e_labels = np.array(global_e_labels)\n",
    "global_subject = np.array(global_subject)\n",
    "\n",
    "N_e = global_e_labels.shape[0]\n",
    "D_e = global_e_labels.shape[1]\n",
    "\n",
    "N_sub = global_subject.shape[0]\n",
    "D_sub = global_subject.shape[1]"
   ],
   "metadata": {
    "collapsed": false
   }
  },
  {
   "cell_type": "code",
   "execution_count": null,
   "outputs": [],
   "source": [
    "global_subject_df = pd.DataFrame(global_subject, columns=['subject'])\n",
    "global_subject_df"
   ],
   "metadata": {
    "collapsed": false
   }
  },
  {
   "cell_type": "code",
   "execution_count": null,
   "outputs": [],
   "source": [
    "subject_dict = dict(zip(global_subject_df.subject.unique(), range(len(prova_3_subj))))\n",
    "subj_def = global_subject_df.replace(subject_dict).values\n",
    "subj_def"
   ],
   "metadata": {
    "collapsed": false
   }
  },
  {
   "cell_type": "code",
   "execution_count": null,
   "outputs": [],
   "source": [
    "show = False\n",
    "# definition of the feature extractors to be used later\n",
    "f2 = feature_extractor.FE('wavelet', window=(2, 1))\n",
    "f3 = feature_extractor.FE('mean', window=(1,0))\n",
    "\n",
    "# definition of the physiological signals to be extracted\n",
    "eda_ = physio.EDA(f2)\n",
    "hr_ = physio.HR(f2)\n",
    "pupil_ = behavior.PUPIL(f3)\n",
    "\n",
    "# extraction of the desired data from the dataset\n",
    "elenco_subj = ([str(d) for d in prova_3_subj])\n",
    "d = datasets.FEAR(signals={hr_,pupil_,eda_}, subjects=set(elenco_subj))\n",
    "\n",
    "for s in d.signals:\n",
    "    # preprocess ...\n",
    "    if s.name =='EDA':\n",
    "        s.preprocess(show=show,new_fps=500)\n",
    "        s.feature_ext.extract_feat(s,show=show)\n",
    "    else:\n",
    "        if s.name == 'HR':\n",
    "            list_hr_test = s.raw[0]['data']\n",
    "            s.preprocess(show=show, useneurokit=True)\n",
    "            s.feature_ext.extract_feat(s,show=show)\n",
    "\n",
    "        else:\n",
    "            s.feature_ext.extract_feat_without_preprocess(s, show=show)\n",
    "\n",
    "    #add feature extraction for eda before preprocessing\n",
    "\n",
    "    # ... and extract features from each signal type\n",
    "\n",
    "\n",
    "for sig in d.signals:\n",
    "    if sig.name=='EDA':\n",
    "        eda_data = sig.features\n",
    "    if sig.name=='HR':\n",
    "        hr_data = sig.features\n",
    "    if sig.name=='PUPIL':\n",
    "        pupil_data = sig.features"
   ],
   "metadata": {
    "collapsed": false
   }
  },
  {
   "cell_type": "code",
   "execution_count": null,
   "outputs": [],
   "source": [
    "NUM_TRIAL = 160\n",
    "TRIAL = NUM_TRIAL*len(prova_3_subj)"
   ],
   "metadata": {
    "collapsed": false
   }
  },
  {
   "cell_type": "code",
   "execution_count": null,
   "outputs": [],
   "source": [
    "def populate_array(x, name):\n",
    "    return name[NUM_TRIAL*(x-1)+num_trials_to_remove:NUM_TRIAL*x]"
   ],
   "metadata": {
    "collapsed": false
   }
  },
  {
   "cell_type": "code",
   "execution_count": null,
   "outputs": [],
   "source": [
    "hr_temp = np.array(hr_data)\n",
    "hr_temp = hr_temp.reshape((TRIAL, int(hr_temp.shape[0]/TRIAL*hr_temp.shape[1])))\n",
    "hr = np.concatenate([populate_array(x, hr_temp) for x in range(1, len(prova_3_subj)+1)])"
   ],
   "metadata": {
    "collapsed": false
   }
  },
  {
   "cell_type": "code",
   "execution_count": null,
   "outputs": [],
   "source": [
    "pupil_temp = np.array(pupil_data)\n",
    "pupil_temp = pupil_temp.reshape((TRIAL, int(pupil_temp.shape[0]/TRIAL*pupil_temp.shape[1])))\n",
    "pupil = np.concatenate([populate_array(x, pupil_temp) for x in range(1, len(prova_3_subj)+1)])"
   ],
   "metadata": {
    "collapsed": false
   }
  },
  {
   "cell_type": "code",
   "execution_count": null,
   "outputs": [],
   "source": [
    "eda_temp = np.array(eda_data)\n",
    "eda_temp = eda_temp.reshape((TRIAL,int(eda_temp.shape[0]/TRIAL*eda_temp.shape[1])))\n",
    "eda = np.concatenate([populate_array(x, eda_temp) for x in range(1, len(prova_3_subj)+1)])"
   ],
   "metadata": {
    "collapsed": false
   }
  },
  {
   "cell_type": "code",
   "execution_count": null,
   "outputs": [],
   "source": [
    "N_pupil = pupil.shape[0]\n",
    "D_pupil = pupil.shape[1]\n",
    "\n",
    "N_hr = hr.shape[0]\n",
    "D_hr = hr.shape[1]\n",
    "\n",
    "N_eda = eda.shape[0]\n",
    "D_eda = eda.shape[1]\n",
    "K = 3\n",
    "print(N_pupil)\n",
    "print(N_hr)\n",
    "print(N_eda)\n",
    "print(N_e)"
   ],
   "metadata": {
    "collapsed": false
   }
  },
  {
   "cell_type": "code",
   "execution_count": null,
   "outputs": [],
   "source": [
    "coords = {'subject': global_subject_df.subject.unique(), 'tot_trial':np.arange(N_hr)}"
   ],
   "metadata": {
    "collapsed": false
   }
  },
  {
   "cell_type": "code",
   "execution_count": null,
   "metadata": {
    "collapsed": true
   },
   "outputs": [],
   "source": [
    "with pm.Model(coords=coords) as sPPCA:\n",
    "    #dati osservabili\n",
    "    hr_data = pm.MutableData(\"hr_data\", hr)\n",
    "    pupil_data = pm.MutableData(\"pupil_data\", pupil)\n",
    "    eda_data = pm.MutableData(\"eda_data\", eda)\n",
    "\n",
    "    e_data = pm.ConstantData(\"e_data\", global_e_labels)\n",
    "\n",
    "    #matrici pesi\n",
    "    mu_hr = pm.Normal('mu_hr',at.zeros([D_hr, K]), 10) # hyperprior 1\n",
    "    sigma_hr = pm.Exponential('sigma_hr', 2*at.ones([D_hr, K]))# hyperprior 2\n",
    "    Whr = pm.Normal('Whr', mu=mu_hr, sigma=sigma_hr)\n",
    "\n",
    "    mu_pupil = pm.Normal('mu_pupil',at.zeros([D_pupil, K]), 10) # hyperprior 1\n",
    "    sigma_pupil = pm.Exponential('sigma_pupil', 2*at.ones([D_pupil, K]))# hyperprior 2\n",
    "    Wpupil = pm.Normal('Wpupil', mu=mu_pupil, sigma=sigma_pupil)\n",
    "\n",
    "    mu_eda = pm.Normal('mu_eda',at.zeros([D_eda, K]), 10) # hyperprior 1\n",
    "    sigma_eda = pm.Exponential('sigma_eda', 2*at.ones([D_eda, K]))# hyperprior 2\n",
    "    Weda = pm.Normal('Weda', mu=mu_eda, sigma=sigma_eda)\n",
    "\n",
    "    #weight matrix for pain expectation.\n",
    "    #check mu,sigma,shape\n",
    "    mu_e = pm.Normal('mu_e',at.zeros([D_e, K]), 10) # hyperprior 1\n",
    "    sigma_e = pm.Exponential('sigma_e', 2*at.ones([D_e, K]))# hyperprior 2\n",
    "    We = pm.Normal('W_e', mu=mu_e, sigma=sigma_e, shape=[D_e, K])\n",
    "\n",
    "    #latent space\n",
    "    c = pm.Normal('c', mu=at.zeros([N_hr, K]), sigma=at.ones([N_hr,K]))\n",
    "    #subject_idx = 2\n",
    "    subject_idx = pm.MutableData(\"subject_idx\", np.squeeze(subj_def))\n",
    "\n",
    "    # dati dell'hrv interpretati come una gaussiana\n",
    "    a_subjects_hr= pm.Normal(\"a_subjects_hr\",mu=c.dot(Whr.T), sigma=at.ones([N_hr,D_hr]))\n",
    "    theta_hr = a_subjects_hr[subject_idx]\n",
    "    sigma2_hr = pm.Exponential(\"sigma2_hr\",1.0)\n",
    "    x_hr = pm.Normal('x_hr', mu=theta_hr, sigma=sigma2_hr, observed=hr_data)\n",
    "\n",
    "\n",
    "    # dati della dilatazione pupille interpretati come una gaussiana\n",
    "    a_subjects_pupil= pm.Normal(\"a_subjects_pupil\",mu=c.dot(Wpupil.T), sigma=at.ones([N_pupil,D_pupil]))\n",
    "    theta_pupil = a_subjects_pupil[subject_idx]\n",
    "    sigma2_pupil = pm.Exponential(\"sigma2_pupil\",1.0)\n",
    "    x_pupil = pm.Normal('x_pupil', mu=theta_pupil, sigma=sigma2_pupil, observed=pupil_data)\n",
    "\n",
    "    #eda\n",
    "    a_subjects_eda = pm.Normal(\"a_subjects_eda\",mu=c.dot(Weda.T), sigma=at.ones([N_eda,D_eda]))\n",
    "    theta_eda = a_subjects_eda[subject_idx]\n",
    "    sigma2_eda = pm.Exponential(\"sigma2_eda\",1.0)\n",
    "    x_eda = pm.Normal('x_eda', mu=theta_eda, sigma=sigma2_eda, observed=eda_data)\n",
    "\n",
    "    # pain expectation. ciò che dovremmo inferire dato c\n",
    "    # due strade: binary o multiclass (1-4)\n",
    "    # p = probability of success?\n",
    "    x_e = pm.Bernoulli('x_e' , p=pm.math.sigmoid(c.dot(We.T)) , shape = [N_e,D_e], observed=e_data)\n",
    "\n"
   ]
  },
  {
   "cell_type": "code",
   "execution_count": null,
   "outputs": [],
   "source": [
    "gv = pm.model_to_graphviz(sPPCA)\n",
    "gv.view('hierarchical_model_final')"
   ],
   "metadata": {
    "collapsed": false
   }
  },
  {
   "cell_type": "code",
   "execution_count": null,
   "outputs": [],
   "source": [
    "with sPPCA:\n",
    "    approx = pm.fit(10000, callbacks=[pm.callbacks.CheckParametersConvergence(tolerance=1e-4)])\n",
    "    trace = approx.sample(500)\n"
   ],
   "metadata": {
    "collapsed": false
   }
  },
  {
   "cell_type": "code",
   "execution_count": null,
   "outputs": [],
   "source": [
    "with sPPCA:\n",
    "    # update values of predictors:\n",
    "    # pm.set_data({\"hr_data\":hr})\n",
    "    # use the updated values and predict outcomes and probabilities:\n",
    "    posterior_predictive = pm.sample_posterior_predictive(\n",
    "        trace, var_names=['x_e'], random_seed=123)"
   ],
   "metadata": {
    "collapsed": false
   }
  },
  {
   "cell_type": "code",
   "execution_count": null,
   "outputs": [],
   "source": [
    "e_pred = posterior_predictive.posterior_predictive[\"x_e\"]"
   ],
   "metadata": {
    "collapsed": false
   }
  },
  {
   "cell_type": "code",
   "execution_count": null,
   "outputs": [],
   "source": [
    "e_pred_mode = np.squeeze(stats.mode(e_pred[0], keepdims=False)[0])[:,np.newaxis]"
   ],
   "metadata": {
    "collapsed": false
   }
  },
  {
   "cell_type": "code",
   "execution_count": null,
   "outputs": [],
   "source": [
    "train_accuracy_exp = accuracy_score(global_e_labels, e_pred_mode)\n",
    "print('\\n\\tTrain Accuracy Pain Expectation: ' + str(train_accuracy_exp))\n",
    "print(' ')"
   ],
   "metadata": {
    "collapsed": false
   }
  },
  {
   "cell_type": "markdown",
   "source": [
    "--------------------------------------------------------------------------------------------"
   ],
   "metadata": {
    "collapsed": false
   }
  }
 ],
 "metadata": {
  "kernelspec": {
   "display_name": "Python 3",
   "language": "python",
   "name": "python3"
  },
  "language_info": {
   "codemirror_mode": {
    "name": "ipython",
    "version": 2
   },
   "file_extension": ".py",
   "mimetype": "text/x-python",
   "name": "python",
   "nbconvert_exporter": "python",
   "pygments_lexer": "ipython2",
   "version": "2.7.6"
  }
 },
 "nbformat": 4,
 "nbformat_minor": 0
}
