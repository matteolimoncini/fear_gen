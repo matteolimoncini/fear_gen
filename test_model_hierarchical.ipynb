{
 "cells": [
  {
   "cell_type": "markdown",
   "source": [
    "PPCA lavora con più variabili osservabili anzichè una sola"
   ],
   "metadata": {
    "collapsed": false
   }
  },
  {
   "cell_type": "code",
   "execution_count": null,
   "outputs": [],
   "source": [
    "import numpy as np\n",
    "import pymc as pm\n",
    "import matplotlib.pyplot as plt\n",
    "import aesara.tensor as at\n",
    "import arviz as az\n",
    "from sklearn.metrics import accuracy_score\n",
    "from sklearn.preprocessing import StandardScaler\n",
    "import extract_correct_csv\n",
    "from scipy import stats\n",
    "import scipy\n",
    "import pandas as pd\n",
    "import warnings\n",
    "\n",
    "\n",
    "from deepemogp import feature_extractor\n",
    "from deepemogp.signal import physio as physio\n",
    "from deepemogp import datasets as datasets\n",
    "from deepemogp.signal import behavior as behavior\n"
   ],
   "metadata": {
    "collapsed": false,
    "pycharm": {
     "is_executing": true
    }
   }
  },
  {
   "cell_type": "code",
   "execution_count": null,
   "outputs": [],
   "source": [
    "warnings.simplefilter(action=\"ignore\", category=FutureWarning)"
   ],
   "metadata": {
    "collapsed": false,
    "pycharm": {
     "is_executing": true
    }
   }
  },
  {
   "cell_type": "code",
   "execution_count": null,
   "outputs": [],
   "source": [
    "scaler = StandardScaler()"
   ],
   "metadata": {
    "collapsed": false,
    "pycharm": {
     "is_executing": true
    }
   }
  },
  {
   "cell_type": "markdown",
   "source": [
    "# extract data social anxiety"
   ],
   "metadata": {
    "collapsed": false
   }
  },
  {
   "cell_type": "code",
   "execution_count": null,
   "outputs": [],
   "source": [
    "prova_3_subj = [2, 4, 10]"
   ],
   "metadata": {
    "collapsed": false,
    "pycharm": {
     "is_executing": true
    }
   }
  },
  {
   "cell_type": "code",
   "execution_count": null,
   "outputs": [],
   "source": [
    "global_e_labels = []\n",
    "global_subject = []\n",
    "for i in prova_3_subj:\n",
    "    subj_ = extract_correct_csv.read_correct_subject_csv(i)\n",
    "    #csv_ = '/Users/marcoghezzi/PycharmProjects/pythonProject/osfstorage-archive/behavior/LookAtMe_0' + subj_ + '.csv'\n",
    "    csv_ = '/data/notebook_files/behavior/LookAtMe_0'+str(subj_)+'.csv'\n",
    "    csv_ = '/home/paolo/matteo/matteo/unimi/tesi_master/code/osfstorage-archive/behavior/LookAtMe_0'+str(subj_)+'.csv'\n",
    "    global_data = pd.read_csv(csv_, sep='\\t')\n",
    "    y = np.array(list([int(d>2) for d in global_data['rating']]))\n",
    "    e_labels = y[:,np.newaxis]  # rating > 2\n",
    "    global_e_labels = global_e_labels + e_labels.tolist()\n",
    "    subject = np.array(list([s for s in global_data['subject']]))[:, np.newaxis]\n",
    "    global_subject = global_subject + subject.tolist()\n",
    "#e_labels = e_labels[num_trials_to_remove:]\n",
    "'''N_e = e_labels.shape[0]\n",
    "D_e = e_labels.shape[1]'''\n",
    "global_e_labels = np.array(global_e_labels)\n",
    "global_subject = np.array(global_subject)\n",
    "\n",
    "N_e = global_e_labels.shape[0]\n",
    "D_e = global_e_labels.shape[1]\n",
    "print(N_e, D_e)\n",
    "\n",
    "N_sub = global_subject.shape[0]\n",
    "D_sub = global_subject.shape[1]\n",
    "print(N_sub, D_sub)"
   ],
   "metadata": {
    "collapsed": false,
    "pycharm": {
     "is_executing": true
    }
   }
  },
  {
   "cell_type": "markdown",
   "source": [
    "## test with new data"
   ],
   "metadata": {
    "collapsed": false
   }
  },
  {
   "cell_type": "code",
   "execution_count": null,
   "outputs": [],
   "source": [
    "set(prova_3_subj)"
   ],
   "metadata": {
    "collapsed": false,
    "pycharm": {
     "is_executing": true
    }
   }
  },
  {
   "cell_type": "code",
   "execution_count": null,
   "outputs": [],
   "source": [
    "show = False\n",
    "# definition of the feature extractors to be used later\n",
    "f2 = feature_extractor.FE('wavelet', window=(2, 1))\n",
    "f3 = feature_extractor.FE('mean', window=(1,0))\n",
    "\n",
    "# definition of the physiological signals to be extracted\n",
    "eda_ = physio.EDA(f3)\n",
    "hr_ = physio.HR(f3)\n",
    "pupil_ = behavior.PUPIL(f3)\n",
    "\n",
    "# extraction of the desired data from the dataset\n",
    "elenco_subj = ([str(d) for d in prova_3_subj])\n",
    "d = datasets.FEAR(signals={hr_,pupil_,eda_}, subjects=set(elenco_subj))\n",
    "\n",
    "for s in d.signals:\n",
    "    # preprocess ...\n",
    "    if s.name =='EDA':\n",
    "        s.preprocess(show=show,new_fps=500)\n",
    "        s.feature_ext.extract_feat(s,show=show)\n",
    "    else:\n",
    "        if s.name == 'HR':\n",
    "            list_hr_test = s.raw[0]['data']\n",
    "            s.preprocess(show=show, useneurokit=True)\n",
    "            s.feature_ext.extract_feat(s,show=show)\n",
    "\n",
    "        else:\n",
    "            s.feature_ext.extract_feat_without_preprocess(s, show=show)\n",
    "\n",
    "    #add feature extraction for eda before preprocessing\n",
    "\n",
    "    # ... and extract features from each signal type\n",
    "\n",
    "\n",
    "for sig in d.signals:\n",
    "    if sig.name=='EDA':\n",
    "        eda_data = sig.features\n",
    "    if sig.name=='HR':\n",
    "        hr_data = sig.features\n",
    "    if sig.name=='PUPIL':\n",
    "        pupil_data = sig.features"
   ],
   "metadata": {
    "collapsed": false,
    "pycharm": {
     "is_executing": true
    }
   }
  },
  {
   "cell_type": "code",
   "execution_count": null,
   "outputs": [],
   "source": [
    "TRIAL = 160*len(prova_3_subj)"
   ],
   "metadata": {
    "collapsed": false,
    "pycharm": {
     "is_executing": true
    }
   }
  },
  {
   "cell_type": "code",
   "execution_count": null,
   "outputs": [],
   "source": [
    "hr = np.array(hr_data)\n",
    "hr = hr.reshape((TRIAL, int(hr.shape[0]/TRIAL*hr.shape[1])))"
   ],
   "metadata": {
    "collapsed": false,
    "pycharm": {
     "is_executing": true
    }
   }
  },
  {
   "cell_type": "code",
   "execution_count": null,
   "outputs": [],
   "source": [
    "pupil = np.array(pupil_data)\n",
    "pupil = pupil.reshape((TRIAL, int(pupil.shape[0]/TRIAL*pupil.shape[1])))"
   ],
   "metadata": {
    "collapsed": false,
    "pycharm": {
     "is_executing": true
    }
   }
  },
  {
   "cell_type": "code",
   "execution_count": null,
   "outputs": [],
   "source": [
    "eda = np.array(eda_data)\n",
    "eda = eda.reshape((TRIAL,int(eda.shape[0]/TRIAL*eda.shape[1])))"
   ],
   "metadata": {
    "collapsed": false,
    "pycharm": {
     "is_executing": true
    }
   }
  },
  {
   "cell_type": "markdown",
   "source": [
    "## end test"
   ],
   "metadata": {
    "collapsed": false
   }
  },
  {
   "cell_type": "markdown",
   "source": [
    "prendo un'implementazione di sppca e la applico al nostro caso"
   ],
   "metadata": {
    "collapsed": false
   }
  },
  {
   "cell_type": "markdown",
   "source": [
    "different types of observable data\n",
    "\n",
    "1) gaze\n",
    "2) fisio\n",
    "    2.1) heart rate variability\n",
    "    2.2) eda phasic value\n",
    "3) social anxiety\n",
    "4) aspettativa del dolore"
   ],
   "metadata": {
    "collapsed": false
   }
  },
  {
   "cell_type": "code",
   "execution_count": null,
   "outputs": [],
   "source": [
    "\n",
    "'''social_anx = data['social anxiety'][:,np.newaxis]\n",
    "pain_exp = data['pain expectation'][:,np.newaxis]'''\n"
   ],
   "metadata": {
    "collapsed": false,
    "pycharm": {
     "is_executing": true
    }
   }
  },
  {
   "cell_type": "code",
   "execution_count": null,
   "outputs": [],
   "source": [
    "N_pupil = pupil.shape[0]\n",
    "D_pupil = pupil.shape[1]\n",
    "\n",
    "N_hr = hr.shape[0]\n",
    "D_hr = hr.shape[1]\n",
    "\n",
    "N_eda = eda.shape[0]\n",
    "D_eda = eda.shape[1]\n",
    "K = 3\n",
    "\n",
    "print(N_pupil,D_pupil)\n",
    "print(N_hr,D_hr)\n",
    "print(N_eda,D_eda)\n",
    "print(N_e, D_e)"
   ],
   "metadata": {
    "collapsed": false,
    "pycharm": {
     "is_executing": true
    }
   }
  },
  {
   "cell_type": "code",
   "execution_count": null,
   "metadata": {
    "collapsed": true,
    "pycharm": {
     "is_executing": true
    }
   },
   "outputs": [],
   "source": [
    "with pm.Model() as sPPCA:\n",
    "    #dati osservabili\n",
    "    hr_data = pm.MutableData(\"hr_data\", hr)\n",
    "    pupil_data = pm.MutableData(\"pupil_data\", pupil)\n",
    "    eda_data = pm.MutableData(\"eda_data\", eda)\n",
    "\n",
    "    e_data = pm.ConstantData(\"e_data\", e_labels)\n",
    "\n",
    "    #matrici pesi\n",
    "    Whr = pm.Normal('Whr', mu=at.zeros([D_hr, K]), sigma=2.0 * at.ones([D_hr, K]), shape=[D_hr, K])\n",
    "    Wpupil = pm.Normal('Wpupil', mu=at.zeros([D_pupil, K]), sigma=2.0 * at.ones([D_pupil, K]), shape=[D_pupil, K])\n",
    "\n",
    "    Weda = pm.Normal('Weda', mu=at.zeros([D_eda, K]), sigma=2.0 * at.ones([D_eda, K]), shape=[D_eda, K])\n",
    "\n",
    "    #weight matrix for pain expectation.\n",
    "    #check mu,sigma,shape\n",
    "    We = pm.Normal('W_e', mu=at.zeros([D_e, K]), sigma=2.0 * at.ones([D_e,K]), shape=[D_e, K])\n",
    "\n",
    "    #latent space\n",
    "    c = pm.Normal('c', mu=at.zeros([N_hr,K]), sigma=at.ones([N_hr,K]), shape=[N_hr,K])\n",
    "\n",
    "    county = prova_3_subj\n",
    "    #subject_idx = 2\n",
    "    subject_idx = pm.MutableData(\"subject_idx\", county)\n",
    "\n",
    "    # dati dell'hrv interpretati come una gaussiana\n",
    "    a_hr = pm.Normal('mu_hr', Whr.dot(c.T), 10) # hyperprior 1\n",
    "    sigma_hr = pm.Exponential('sigma_hr', 1)# hyperprior 2\n",
    "    a_subjects_hr= pm.Normal(\"a_subjects_hr\",mu=a_hr, sigma=sigma_hr) #dims=[D_hr,N_hr]\n",
    "    theta_hr = a_subjects_hr[subject_idx]\n",
    "    sigma2_hr = pm.Exponential(\"sigma2_hr\",1.0)\n",
    "    x_hr = pm.Normal('x_hr', mu=theta_hr, sigma=sigma2_hr ,shape=[D_hr, N_hr], observed=hr_data)\n",
    "\n",
    "\n",
    "    # dati della dilatazione pupille interpretati come una gaussiana\n",
    "    a_pupil = pm.Normal('mu_pupil', Wpupil.dot(c.T), 10) # hyperprior 1\n",
    "    sigma_pupil = pm.Exponential('sigma_pupil', 1)# hyperprior 2\n",
    "    a_subjects_pupil = pm.Normal(\"a_subjects_pupil\",mu=a_pupil, sigma=sigma_pupil) #dims=[D_hr,N_hr]\n",
    "    theta_pupil = a_subjects_pupil[subject_idx]\n",
    "    sigma2_pupil = pm.Exponential('sigma2_pupil', 1.0)# hyperprior 2\n",
    "    x_pupil = pm.Normal('x_pupil', mu=theta_pupil, sigma=sigma2_pupil, shape=[D_pupil, N_pupil], observed=pupil_data)\n",
    "\n",
    "    #eda\n",
    "    a_eda = pm.Normal('mu_eda', Weda.dot(c.T), 10) # hyperprior 1\n",
    "    sigma_eda = pm.Exponential('sigma_eda', 1) # hyperprior 2\n",
    "    a_subjects_eda= pm.Normal(\"a_subjects_eda\",mu=a_eda, sigma=sigma_eda) #dims=[D_hr,N_hr]\n",
    "    theta_eda = a_subjects_eda[subject_idx]\n",
    "    sigma2_eda = pm.Exponential('sigma2_eda', 1.0) # hyperprior 2\n",
    "    x_eda = pm.Normal('x_eda', mu=theta_eda, sigma=sigma2_eda, shape=[D_eda,N_eda], observed=eda_data)\n",
    "\n",
    "    # pain expectation. ciò che dovremmo inferire dato c\n",
    "    # due strade: binary o multiclass (1-4)\n",
    "    # p = probability of success?\n",
    "    x_e = pm.Bernoulli('x_e' , p=pm.math.sigmoid(We.dot(c.T)) , shape =[D_e, N_e], observed=e_data)\n",
    "\n",
    "    #x_hr = pm.Bernoulli('x_hr', p=pm.math.sigmoid(Whr.dot(c.T)), shape=[D_hr, N_hr], observed=hr_data)\n",
    "    #x_eda = pm.Bernoulli('x_eda', p=pm.math.sigmoid(Weda.dot(c.T)), shape=[D_eda, N_eda], observed=eda_data)"
   ]
  },
  {
   "cell_type": "code",
   "execution_count": null,
   "outputs": [],
   "source": [
    "gv = pm.model_to_graphviz(sPPCA)\n",
    "gv.view()"
   ],
   "metadata": {
    "collapsed": false,
    "pycharm": {
     "is_executing": true
    }
   }
  },
  {
   "cell_type": "code",
   "execution_count": null,
   "outputs": [],
   "source": [
    "with sPPCA:\n",
    "    approx = pm.fit(100000, callbacks=[pm.callbacks.CheckParametersConvergence(tolerance=1e-4)])\n",
    "    trace = approx.sample(500)\n",
    "\n",
    "'''with sPPCA:\n",
    "    trace = pm.sample(1000,init='advi+adapt_diag',chains=1,target_accept=0.95)'''"
   ],
   "metadata": {
    "collapsed": false,
    "pycharm": {
     "is_executing": true
    }
   }
  },
  {
   "cell_type": "code",
   "execution_count": null,
   "outputs": [],
   "source": [
    "#az.plot_posterior(mean_field.sample(1000), color=\"LightSeaGreen\")\n",
    "az.plot_trace(trace)\n",
    "plt.show()"
   ],
   "metadata": {
    "collapsed": false,
    "pycharm": {
     "is_executing": true
    }
   }
  },
  {
   "cell_type": "code",
   "execution_count": null,
   "outputs": [],
   "source": [
    "with sPPCA:\n",
    "    # update values of predictors:\n",
    "    # pm.set_data({\"hr_data\":hr})\n",
    "    # use the updated values and predict outcomes and probabilities:\n",
    "    posterior_predictive = pm.sample_posterior_predictive(\n",
    "        trace, random_seed=123)"
   ],
   "metadata": {
    "collapsed": false,
    "pycharm": {
     "is_executing": true
    }
   }
  },
  {
   "cell_type": "code",
   "execution_count": null,
   "outputs": [],
   "source": [
    "e_pred = posterior_predictive.posterior_predictive[\"x_e\"]"
   ],
   "metadata": {
    "collapsed": false,
    "pycharm": {
     "is_executing": true
    }
   }
  },
  {
   "cell_type": "code",
   "execution_count": null,
   "outputs": [],
   "source": [
    "e_pred_mode = np.squeeze(stats.mode(e_pred[0], keepdims=False)[0])[:,np.newaxis]"
   ],
   "metadata": {
    "collapsed": false,
    "pycharm": {
     "is_executing": true
    }
   }
  },
  {
   "cell_type": "code",
   "execution_count": null,
   "outputs": [],
   "source": [
    "train_accuracy_exp = accuracy_score(e_labels, e_pred_mode)\n",
    "print('\\n\\tTrain Accuracy Pain Expectation: ' + str(train_accuracy_exp))\n",
    "print(' ')"
   ],
   "metadata": {
    "collapsed": false,
    "pycharm": {
     "is_executing": true
    }
   }
  },
  {
   "cell_type": "markdown",
   "source": [
    "--------------------------------------------------------------------------------------------"
   ],
   "metadata": {
    "collapsed": false
   }
  }
 ],
 "metadata": {
  "kernelspec": {
   "display_name": "Python 3",
   "language": "python",
   "name": "python3"
  },
  "language_info": {
   "codemirror_mode": {
    "name": "ipython",
    "version": 2
   },
   "file_extension": ".py",
   "mimetype": "text/x-python",
   "name": "python",
   "nbconvert_exporter": "python",
   "pygments_lexer": "ipython2",
   "version": "2.7.6"
  }
 },
 "nbformat": 4,
 "nbformat_minor": 0
}
