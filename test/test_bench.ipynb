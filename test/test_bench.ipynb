{
 "cells": [
  {
   "cell_type": "code",
   "execution_count": 1,
   "outputs": [],
   "source": [
    "import pymc as pm\n",
    "import numpy as np\n",
    "import pandas as pd\n",
    "from sklearn.model_selection import StratifiedShuffleSplit\n",
    "from scipy import stats\n",
    "from sklearn.metrics import accuracy_score\n",
    "import aesara.tensor as at\n",
    "\n",
    "from sklearn.preprocessing import StandardScaler\n",
    "\n",
    "scaler = StandardScaler()"
   ],
   "metadata": {
    "collapsed": false
   }
  },
  {
   "cell_type": "code",
   "execution_count": 3,
   "outputs": [
    {
     "name": "stdout",
     "output_type": "stream",
     "text": [
      "(89, 24) (89, 1) (23, 24) (23, 1)\n"
     ]
    },
    {
     "data": {
      "text/plain": "<IPython.core.display.HTML object>",
      "text/html": "\n<style>\n    /* Turns off some styling */\n    progress {\n        /* gets rid of default border in Firefox and Opera. */\n        border: none;\n        /* Needs to be in here for Safari polyfill so background images work as expected. */\n        background-size: auto;\n    }\n    progress:not([value]), progress:not([value])::-webkit-progress-bar {\n        background: repeating-linear-gradient(45deg, #7e7e7e, #7e7e7e 10px, #5c5c5c 10px, #5c5c5c 20px);\n    }\n    .progress-bar-interrupted, .progress-bar-interrupted::-webkit-progress-bar {\n        background: #F44336;\n    }\n</style>\n"
     },
     "metadata": {},
     "output_type": "display_data"
    },
    {
     "data": {
      "text/plain": "<IPython.core.display.HTML object>",
      "text/html": "\n    <div>\n      <progress value='0' class='' max='100000' style='width:300px; height:20px; vertical-align: middle;'></progress>\n      \n    </div>\n    "
     },
     "metadata": {},
     "output_type": "display_data"
    },
    {
     "name": "stderr",
     "output_type": "stream",
     "text": [
      "Finished [100%]: Average Loss = 94.105\n",
      "Sampling: [likelihood]\n"
     ]
    },
    {
     "data": {
      "text/plain": "<IPython.core.display.HTML object>",
      "text/html": "\n<style>\n    /* Turns off some styling */\n    progress {\n        /* gets rid of default border in Firefox and Opera. */\n        border: none;\n        /* Needs to be in here for Safari polyfill so background images work as expected. */\n        background-size: auto;\n    }\n    progress:not([value]), progress:not([value])::-webkit-progress-bar {\n        background: repeating-linear-gradient(45deg, #7e7e7e, #7e7e7e 10px, #5c5c5c 10px, #5c5c5c 20px);\n    }\n    .progress-bar-interrupted, .progress-bar-interrupted::-webkit-progress-bar {\n        background: #F44336;\n    }\n</style>\n"
     },
     "metadata": {},
     "output_type": "display_data"
    },
    {
     "data": {
      "text/plain": "<IPython.core.display.HTML object>",
      "text/html": "\n    <div>\n      <progress value='0' class='' max='1000' style='width:300px; height:20px; vertical-align: middle;'></progress>\n      \n    </div>\n    "
     },
     "metadata": {},
     "output_type": "display_data"
    },
    {
     "name": "stdout",
     "output_type": "stream",
     "text": [
      "0.5730337078651685\n"
     ]
    },
    {
     "name": "stderr",
     "output_type": "stream",
     "text": [
      "Sampling: [likelihood, slope]\n"
     ]
    },
    {
     "data": {
      "text/plain": "<IPython.core.display.HTML object>",
      "text/html": "\n<style>\n    /* Turns off some styling */\n    progress {\n        /* gets rid of default border in Firefox and Opera. */\n        border: none;\n        /* Needs to be in here for Safari polyfill so background images work as expected. */\n        background-size: auto;\n    }\n    progress:not([value]), progress:not([value])::-webkit-progress-bar {\n        background: repeating-linear-gradient(45deg, #7e7e7e, #7e7e7e 10px, #5c5c5c 10px, #5c5c5c 20px);\n    }\n    .progress-bar-interrupted, .progress-bar-interrupted::-webkit-progress-bar {\n        background: #F44336;\n    }\n</style>\n"
     },
     "metadata": {},
     "output_type": "display_data"
    },
    {
     "data": {
      "text/plain": "<IPython.core.display.HTML object>",
      "text/html": "\n    <div>\n      <progress value='0' class='' max='1000' style='width:300px; height:20px; vertical-align: middle;'></progress>\n      \n    </div>\n    "
     },
     "metadata": {},
     "output_type": "display_data"
    },
    {
     "name": "stdout",
     "output_type": "stream",
     "text": [
      "(23, 1)\n",
      "0.4782608695652174\n"
     ]
    }
   ],
   "source": [
    "sub = 2\n",
    "\n",
    "X = pd.read_csv('../data/features_4_2/hr/'+str(sub)+'.csv')\n",
    "X = scaler.fit_transform(X)\n",
    "X = pd.DataFrame(X)\n",
    "X = X[48:]\n",
    "\n",
    "df_ = pd.read_csv('../data/LookAtMe_002.csv', sep='\\t')\n",
    "y = np.array(list([int(d > 2) for d in df_['rating']]))[:, np.newaxis]\n",
    "y = pd.DataFrame(y)\n",
    "y = y[48:]\n",
    "\n",
    "sss = StratifiedShuffleSplit(n_splits=3, test_size=0.2, random_state=123)\n",
    "\n",
    "for i, (train_index, test_index) in enumerate(sss.split(X, y)):\n",
    "    X_train = X.iloc[train_index,:]\n",
    "    y_train = y.iloc[train_index,:]\n",
    "\n",
    "    X_test = X.iloc[test_index,:]\n",
    "    y_test = y.iloc[test_index,:]\n",
    "    print(X_train.shape, y_train.shape, X_test.shape, y_test.shape)\n",
    "\n",
    "    with pm.Model() as GLM:\n",
    "        x_data = pm.MutableData('x_data', X_train)\n",
    "        y_data = pm.MutableData('y_data', y_train)\n",
    "\n",
    "        #intercept = pm.Normal(\"intercept\", 0, 1, shape=y_data.shape)\n",
    "        slope = pm.Normal(\"slope\", shape=(x_data.shape[1], 1))\n",
    "        likelihood = pm.Bernoulli('likelihood', p=pm.math.sigmoid(at.dot(x_data, slope)), observed=y_data)\n",
    "        approx = pm.fit(100000, callbacks=[pm.callbacks.CheckParametersConvergence(tolerance=1e-4)])\n",
    "        trace = approx.sample(1000)\n",
    "        posterior_predictive = pm.sample_posterior_predictive(\n",
    "            trace, var_names=[\"likelihood\"], random_seed=123)\n",
    "    prediction_y = posterior_predictive.posterior_predictive['likelihood']\n",
    "    e_pred_mode_train = np.squeeze(stats.mode(prediction_y[0], keepdims=False)[0])[:, np.newaxis]\n",
    "\n",
    "    train_accuracy_exp = accuracy_score(y_train, e_pred_mode_train)\n",
    "    print(train_accuracy_exp)\n",
    "\n",
    "    with GLM:\n",
    "        pm.set_data({'x_data': X_test})\n",
    "        pm.set_data({'y_data': y_test})\n",
    "        posterior_pred = pm.sample_posterior_predictive(trace, var_names=['likelihood'], random_seed=123, predictions=True)\n",
    "\n",
    "    prediction_y_test = posterior_pred.predictions['likelihood']\n",
    "    e_pred_mode_test = np.squeeze(stats.mode(prediction_y_test[0], keepdims=False)[0])[:, np.newaxis]\n",
    "\n",
    "    print(e_pred_mode_test.shape)\n",
    "\n",
    "    test_accuracy_exp = accuracy_score(y_test, e_pred_mode_test)\n",
    "\n",
    "    print(test_accuracy_exp)\n",
    "\n",
    "    break"
   ],
   "metadata": {
    "collapsed": false
   }
  },
  {
   "cell_type": "code",
   "execution_count": 4,
   "outputs": [
    {
     "name": "stdout",
     "output_type": "stream",
     "text": [
      "(1000, 24, 1)\n"
     ]
    }
   ],
   "source": [
    "a_trained = trace.posterior['slope'][0]\n",
    "print(a_trained.shape)\n",
    "y_new = at.matmul(X_test, np.array(a_trained))"
   ],
   "metadata": {
    "collapsed": false
   }
  },
  {
   "cell_type": "code",
   "execution_count": 5,
   "outputs": [
    {
     "data": {
      "text/plain": "0.6086956521739131"
     },
     "execution_count": 5,
     "metadata": {},
     "output_type": "execute_result"
    }
   ],
   "source": [
    "y_new = np.where(y_new.eval() < 0, 0, 1)\n",
    "y_new_pred = stats.mode(y_new, keepdims=False)[0]\n",
    "accuracy_score(y_test, y_new_pred)"
   ],
   "metadata": {
    "collapsed": false
   }
  }
 ],
 "metadata": {
  "kernelspec": {
   "display_name": "Python 3",
   "language": "python",
   "name": "python3"
  },
  "language_info": {
   "codemirror_mode": {
    "name": "ipython",
    "version": 2
   },
   "file_extension": ".py",
   "mimetype": "text/x-python",
   "name": "python",
   "nbconvert_exporter": "python",
   "pygments_lexer": "ipython2",
   "version": "2.7.6"
  }
 },
 "nbformat": 4,
 "nbformat_minor": 0
}
