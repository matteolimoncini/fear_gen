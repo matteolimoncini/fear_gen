{
 "cells": [
  {
   "cell_type": "markdown",
   "source": [
    "## import"
   ],
   "metadata": {
    "collapsed": false
   }
  },
  {
   "cell_type": "code",
   "execution_count": 1,
   "metadata": {
    "collapsed": true
   },
   "outputs": [
    {
     "data": {
      "text/plain": "'1.8.4'"
     },
     "execution_count": 1,
     "metadata": {},
     "output_type": "execute_result"
    }
   ],
   "source": [
    "import logging\n",
    "import os\n",
    "\n",
    "import torch\n",
    "import pyro\n",
    "from pyro.optim import Adam\n",
    "from pyro.infer import SVI, Trace_ELBO, MCMC, NUTS\n",
    "import pyro.distributions as dist\n",
    "import pyro.distributions.constraints as constraints\n",
    "\n",
    "from sklearn import preprocessing\n",
    "from sklearn.metrics import r2_score\n",
    "from sklearn.metrics import cohen_kappa_score\n",
    "\n",
    "import warnings\n",
    "warnings.simplefilter(action=\"ignore\",category=FutureWarning)\n",
    "\n",
    "import numpy as np\n",
    "import pandas as pd\n",
    "import matplotlib.pyplot as plt\n",
    "import seaborn as sns\n",
    "\n",
    "from autorank import autorank, plot_stats, create_report, latex_table\n",
    "from pyirr import intraclass_correlation\n",
    "\n",
    "pyro.__version__"
   ]
  },
  {
   "cell_type": "code",
   "execution_count": 2,
   "outputs": [],
   "source": [
    "import extract_correct_csv\n",
    "valid_sub = extract_correct_csv.extract_only_valid_subject()"
   ],
   "metadata": {
    "collapsed": false
   }
  },
  {
   "cell_type": "code",
   "execution_count": 3,
   "outputs": [],
   "source": [
    "def anxious_subjects(path, n, type='top'):\n",
    "    '''\n",
    "\n",
    "    :param path: path sias score or linear deviation score\n",
    "    :param n: number of subjects\n",
    "    :param type: 'top' or 'bot'\n",
    "    :return: top or bot n subjects sorted by sias score\n",
    "    '''\n",
    "    valid_subjects = extract_correct_csv.extract_only_valid_subject()\n",
    "    df = pd.read_csv(path).dropna().reset_index(drop=True)\n",
    "    df = df[df.subject.isin(valid_subjects)]\n",
    "    df['subject'] = [int(x) for x in df['subject']]\n",
    "    if type=='top':\n",
    "        return df.sort_values(by=df.columns[1], ascending=False).subject[:n].values\n",
    "    else:\n",
    "        return df.sort_values(by=df.columns[1], ascending=False).subject[-n:].values\n"
   ],
   "metadata": {
    "collapsed": false
   }
  },
  {
   "cell_type": "code",
   "execution_count": 4,
   "outputs": [],
   "source": [
    "def counter_window(data, k=0):\n",
    "    N = data.shape[0]\n",
    "    counter = torch.zeros((N,4))\n",
    "    for i in range(len(data)):\n",
    "        dict_ = {'[0 0]':0, '[0 1]': 0, '[1 0]':0, '[1 1]':0}\n",
    "        if k == 0 or k > i:\n",
    "            tmp_data = data[:i+1]\n",
    "        else:\n",
    "            tmp_data = data[i-k:i+1]\n",
    "            #print('im here')\n",
    "        # count occurencies\n",
    "        for x in tmp_data:\n",
    "            dict_[str(x)] += 1\n",
    "        values = np.array(list(dict_.values()))\n",
    "        counter[i] = torch.tensor(values)\n",
    "    return counter"
   ],
   "metadata": {
    "collapsed": false
   }
  },
  {
   "cell_type": "code",
   "execution_count": 5,
   "outputs": [
    {
     "name": "stderr",
     "output_type": "stream",
     "text": [
      "/tmp/ipykernel_355217/4152438343.py:4: SettingWithCopyWarning: \n",
      "A value is trying to be set on a copy of a slice from a DataFrame.\n",
      "Try using .loc[row_indexer,col_indexer] = value instead\n",
      "\n",
      "See the caveats in the documentation: https://pandas.pydata.org/pandas-docs/stable/user_guide/indexing.html#returning-a-view-versus-a-copy\n",
      "  df_rational['shock'] = df_rational['shock'].astype(int) # setting shock as int instead of boolean\n",
      "/tmp/ipykernel_355217/4152438343.py:5: SettingWithCopyWarning: \n",
      "A value is trying to be set on a copy of a slice from a DataFrame.\n",
      "Try using .loc[row_indexer,col_indexer] = value instead\n",
      "\n",
      "See the caveats in the documentation: https://pandas.pydata.org/pandas-docs/stable/user_guide/indexing.html#returning-a-view-versus-a-copy\n",
      "  df_rational['morphing level'] = [int(d==6) for d in df_rational['morphing level']] # if morphing level==6 -> 1\n"
     ]
    }
   ],
   "source": [
    "# read data\n",
    "df = pd.read_csv('data/newLookAtMe/newLookAtMe02.csv')\n",
    "df_rational = df[['morphing level', 'shock']] #consider only morphing level and shock\n",
    "df_rational['shock'] = df_rational['shock'].astype(int) # setting shock as int instead of boolean\n",
    "df_rational['morphing level'] = [int(d==6) for d in df_rational['morphing level']] # if morphing level==6 -> 1\n",
    "df_rational = df_rational.to_numpy()"
   ],
   "metadata": {
    "collapsed": false
   }
  },
  {
   "cell_type": "code",
   "execution_count": 6,
   "outputs": [],
   "source": [
    "counter = counter_window(df_rational, 3)\n",
    "counter = counter.reshape((len(df_rational), 2, 2))"
   ],
   "metadata": {
    "collapsed": false
   }
  },
  {
   "cell_type": "markdown",
   "source": [
    "# model sliding window"
   ],
   "metadata": {
    "collapsed": false
   }
  },
  {
   "cell_type": "code",
   "execution_count": null,
   "outputs": [],
   "source": [
    "# categorical/multinomial distribution\n",
    "\n",
    "# uniform prior\n",
    "prior_counts = torch.ones((2,2))\n",
    "\n",
    "\n",
    "#model\n",
    "def model(data):\n",
    "    prior = pyro.sample(\"prior\", dist.Dirichlet(prior_counts))\n",
    "    total_counts = int(data.sum())\n",
    "    pyro.sample(\"likelihood\", dist.Multinomial(total_counts, prior), obs=data)\n",
    "\n",
    "\n",
    "nuts_kernel = NUTS(model)\n",
    "num_samples, warmup_steps = (300, 200)\n",
    "\n",
    "mcmc = MCMC(nuts_kernel, num_samples=num_samples, warmup_steps=warmup_steps, disable_progbar=True)\n",
    "all_means = []\n",
    "\n",
    "# sampling\n",
    "for i in range(len(counter)):\n",
    "    mcmc.run(counter[i])\n",
    "    hmc_samples = {k: v.detach().cpu().numpy()\n",
    "                   for k, v in mcmc.get_samples().items()}\n",
    "    means = hmc_samples['prior'].mean(axis=0)\n",
    "    stds = hmc_samples['prior'].std(axis=0)\n",
    "    print('observation: ', df_rational[i])\n",
    "    print('probabilities: ', means)\n",
    "    all_means.append(means)"
   ],
   "metadata": {
    "collapsed": false
   }
  },
  {
   "cell_type": "markdown",
   "source": [],
   "metadata": {
    "collapsed": false
   }
  },
  {
   "cell_type": "markdown",
   "source": [
    "# Analysis sliding window K"
   ],
   "metadata": {
    "collapsed": false
   }
  },
  {
   "cell_type": "code",
   "execution_count": 7,
   "outputs": [],
   "source": [
    "k_wind = [2, 5, 10, 25, 50, 100, 150]\n",
    "HAB_TRIALS = 16\n",
    "\n",
    "path_sias = 'data/sias_score.csv'\n",
    "path_lds = 'data/lds_subjects.csv'\n",
    "\n",
    "len_sub = 6\n",
    "top_lds = anxious_subjects(path_lds, len_sub, 'top')\n",
    "bot_lds = anxious_subjects(path_lds, len_sub, 'bot')\n",
    "\n",
    "top_sias = anxious_subjects(path_sias, len_sub)\n",
    "bot_sias = anxious_subjects(path_sias, len_sub, 'bot')"
   ],
   "metadata": {
    "collapsed": false
   }
  },
  {
   "cell_type": "code",
   "execution_count": 8,
   "outputs": [],
   "source": [
    "df_correlation = pd.DataFrame(columns=['subject','k','pearson','r2score','person_disc','cohen_disc','icc'])\n",
    "\n",
    "for k in list(k_wind):\n",
    "\n",
    "    # read output of the rational model with different K\n",
    "    array_csplus_simulated = np.load('output/pyro/sliding_wind/k'+str(k)+'_csplus.npy',allow_pickle=True)\n",
    "    array_csminus_simulated = np.load('output/pyro/sliding_wind/k'+str(k)+'_csminus.npy',allow_pickle=True)\n",
    "    total_array_simulated = np.load('output/pyro/sliding_wind/k'+str(k)+'_total.npy',allow_pickle=True)\n",
    "\n",
    "    rating_rational_subj = total_array_simulated[HAB_TRIALS:] #remove habituation trials\n",
    "\n",
    "\n",
    "    for sub in valid_sub:\n",
    "        subj_ = extract_correct_csv.read_correct_subject_csv(sub)\n",
    "\n",
    "        #read data of real subjects\n",
    "        df_sub = pd.read_csv('data/newLookAtMe/newLookAtMe'+subj_+'.csv')\n",
    "        df_sub = df_sub[['shock', 'rating', 'morphing level']]\n",
    "        df_sub['shock'] = df_sub['shock'].astype(int) #convert shock from boolean to int\n",
    "        df_sub['morphing level'] = [int(d == 6) for d in df_sub['morphing level']]\n",
    "        df_sub['rating'] = df_sub['rating'].replace([1, 2, 3, 4, 5], [0.2, 0.4, 0.6, 0.8, 1]) #convert vote into (0,1)\n",
    "        df_sub_learn = df_sub[HAB_TRIALS:] #remove habituation trials\n",
    "        rating_sub = np.array(df_sub_learn['rating'])\n",
    "\n",
    "        rating_rational = rating_rational_subj\n",
    "        #remove trial from rating agent simulation and real data if in one list is nan\n",
    "        bad = ~np.logical_or(np.isnan(rating_sub), np.isnan(rating_rational))\n",
    "        rating_sub = np.compress(bad, rating_sub)\n",
    "        rating_rational = np.compress(bad, rating_rational)\n",
    "\n",
    "        #discretization of rating rational\n",
    "        round_vector = np.array([0.2, 0.4, 0.6, 0.8, 1])\n",
    "        rating_rational_discr = np.round(rating_rational / 0.2) * 0.2\n",
    "        rating_rational_discr = np.clip(rating_rational_discr, round_vector.min(), round_vector.max())\n",
    "\n",
    "        # calculate pearson correlation coefficient between k-rational model and real data\n",
    "        pearson = round(np.corrcoef(rating_sub,rating_rational)[0][1],2)\n",
    "\n",
    "        # calculate r2 score between k-rational model and real data\n",
    "        r2 = round(r2_score(rating_sub,rating_rational),2)\n",
    "\n",
    "        # calculate pearson correlation coefficient between k-rational model and real data using discrete values for k-rational model\n",
    "        pearson_disc = round(np.corrcoef(rating_sub,rating_rational_discr)[0][1],2)\n",
    "\n",
    "        # calculate cohen kappa between k-rational model and real data using discrete values for k-rational model\n",
    "        cohen_disc = round(cohen_kappa_score(rating_sub*10,rating_rational_discr*10),2)\n",
    "\n",
    "        # intraclass_correlation\n",
    "        #df_sub_ = df_global[df_global.Subject == x].dropna().drop(columns=['Subject']).reset_index(drop=True)\n",
    "        df_icc = pd.DataFrame({'rating_sub': rating_sub, 'rating_rational_discr': rating_rational_discr})\n",
    "        icc = intraclass_correlation(df_icc).value\n",
    "\n",
    "        # write line\n",
    "        df_tmp = pd.DataFrame({'subject':sub,'k':k,'pearson':pearson,'r2score':r2,'person_disc':pearson_disc,'cohen_disc':cohen_disc,'icc':icc},index=np.arange(1))\n",
    "        df_correlation = pd.concat([df_correlation,df_tmp])\n",
    "\n",
    "df_correlation['subject'] = [float(x) for x in df_correlation['subject']] #convert subjects into float\n",
    "\n",
    "# read social anxiety values\n",
    "sias_df = pd.read_csv('data/sias_score.csv').drop(columns='social_anxiety')\n",
    "sias_df['subject'] = [float(x) for x in sias_df['subject']] #convert subjects into float\n",
    "\n",
    "# read linear deviation score (how much this subject do fear generalization)\n",
    "lds_df = pd.read_csv('data/lds_subjects.csv')\n",
    "lds_df['subject'] = [float(x) for x in lds_df['subject']] #convert subjects into float"
   ],
   "metadata": {
    "collapsed": false
   }
  },
  {
   "cell_type": "code",
   "execution_count": 9,
   "outputs": [],
   "source": [
    "# one dataframe with social anxiety, linear devation score and correlation measures for each subject\n",
    "res = pd.merge(sias_df, lds_df)\n",
    "df_correlation = pd.merge(res,df_correlation).dropna().reset_index(drop=True)"
   ],
   "metadata": {
    "collapsed": false
   }
  },
  {
   "cell_type": "code",
   "execution_count": 10,
   "outputs": [
    {
     "data": {
      "text/plain": "     subject  sias_score    lds    k  pearson  r2score  person_disc  \\\n0        1.0        21.0  0.201    2     0.24    -1.54         0.27   \n1        1.0        21.0  0.201    5     0.30    -2.35         0.30   \n2        1.0        21.0  0.201   10     0.29    -3.22         0.28   \n3        1.0        21.0  0.201   25     0.26    -4.27         0.23   \n4        1.0        21.0  0.201   50     0.23    -4.78         0.22   \n..       ...         ...    ...  ...      ...      ...          ...   \n205     54.0        17.0  1.594   10     0.87     0.03         0.83   \n206     54.0        17.0  1.594   25     0.89    -0.14         0.87   \n207     54.0        17.0  1.594   50     0.90    -0.27         0.85   \n208     54.0        17.0  1.594  100     0.91    -0.31         0.85   \n209     54.0        17.0  1.594  150     0.91    -0.35         0.84   \n\n     cohen_disc       icc  \n0          0.00 -0.010162  \n1          0.06  0.000117  \n2          0.03 -0.027478  \n3          0.00 -0.107454  \n4         -0.01 -0.136812  \n..          ...       ...  \n205        0.16  0.443933  \n206        0.14  0.408906  \n207        0.14  0.374318  \n208        0.14  0.334976  \n209        0.13  0.270941  \n\n[210 rows x 9 columns]",
      "text/html": "<div>\n<style scoped>\n    .dataframe tbody tr th:only-of-type {\n        vertical-align: middle;\n    }\n\n    .dataframe tbody tr th {\n        vertical-align: top;\n    }\n\n    .dataframe thead th {\n        text-align: right;\n    }\n</style>\n<table border=\"1\" class=\"dataframe\">\n  <thead>\n    <tr style=\"text-align: right;\">\n      <th></th>\n      <th>subject</th>\n      <th>sias_score</th>\n      <th>lds</th>\n      <th>k</th>\n      <th>pearson</th>\n      <th>r2score</th>\n      <th>person_disc</th>\n      <th>cohen_disc</th>\n      <th>icc</th>\n    </tr>\n  </thead>\n  <tbody>\n    <tr>\n      <th>0</th>\n      <td>1.0</td>\n      <td>21.0</td>\n      <td>0.201</td>\n      <td>2</td>\n      <td>0.24</td>\n      <td>-1.54</td>\n      <td>0.27</td>\n      <td>0.00</td>\n      <td>-0.010162</td>\n    </tr>\n    <tr>\n      <th>1</th>\n      <td>1.0</td>\n      <td>21.0</td>\n      <td>0.201</td>\n      <td>5</td>\n      <td>0.30</td>\n      <td>-2.35</td>\n      <td>0.30</td>\n      <td>0.06</td>\n      <td>0.000117</td>\n    </tr>\n    <tr>\n      <th>2</th>\n      <td>1.0</td>\n      <td>21.0</td>\n      <td>0.201</td>\n      <td>10</td>\n      <td>0.29</td>\n      <td>-3.22</td>\n      <td>0.28</td>\n      <td>0.03</td>\n      <td>-0.027478</td>\n    </tr>\n    <tr>\n      <th>3</th>\n      <td>1.0</td>\n      <td>21.0</td>\n      <td>0.201</td>\n      <td>25</td>\n      <td>0.26</td>\n      <td>-4.27</td>\n      <td>0.23</td>\n      <td>0.00</td>\n      <td>-0.107454</td>\n    </tr>\n    <tr>\n      <th>4</th>\n      <td>1.0</td>\n      <td>21.0</td>\n      <td>0.201</td>\n      <td>50</td>\n      <td>0.23</td>\n      <td>-4.78</td>\n      <td>0.22</td>\n      <td>-0.01</td>\n      <td>-0.136812</td>\n    </tr>\n    <tr>\n      <th>...</th>\n      <td>...</td>\n      <td>...</td>\n      <td>...</td>\n      <td>...</td>\n      <td>...</td>\n      <td>...</td>\n      <td>...</td>\n      <td>...</td>\n      <td>...</td>\n    </tr>\n    <tr>\n      <th>205</th>\n      <td>54.0</td>\n      <td>17.0</td>\n      <td>1.594</td>\n      <td>10</td>\n      <td>0.87</td>\n      <td>0.03</td>\n      <td>0.83</td>\n      <td>0.16</td>\n      <td>0.443933</td>\n    </tr>\n    <tr>\n      <th>206</th>\n      <td>54.0</td>\n      <td>17.0</td>\n      <td>1.594</td>\n      <td>25</td>\n      <td>0.89</td>\n      <td>-0.14</td>\n      <td>0.87</td>\n      <td>0.14</td>\n      <td>0.408906</td>\n    </tr>\n    <tr>\n      <th>207</th>\n      <td>54.0</td>\n      <td>17.0</td>\n      <td>1.594</td>\n      <td>50</td>\n      <td>0.90</td>\n      <td>-0.27</td>\n      <td>0.85</td>\n      <td>0.14</td>\n      <td>0.374318</td>\n    </tr>\n    <tr>\n      <th>208</th>\n      <td>54.0</td>\n      <td>17.0</td>\n      <td>1.594</td>\n      <td>100</td>\n      <td>0.91</td>\n      <td>-0.31</td>\n      <td>0.85</td>\n      <td>0.14</td>\n      <td>0.334976</td>\n    </tr>\n    <tr>\n      <th>209</th>\n      <td>54.0</td>\n      <td>17.0</td>\n      <td>1.594</td>\n      <td>150</td>\n      <td>0.91</td>\n      <td>-0.35</td>\n      <td>0.84</td>\n      <td>0.13</td>\n      <td>0.270941</td>\n    </tr>\n  </tbody>\n</table>\n<p>210 rows × 9 columns</p>\n</div>"
     },
     "execution_count": 10,
     "metadata": {},
     "output_type": "execute_result"
    }
   ],
   "source": [
    "df_correlation"
   ],
   "metadata": {
    "collapsed": false
   }
  },
  {
   "cell_type": "code",
   "execution_count": 11,
   "outputs": [],
   "source": [
    "path_sias = './data/sias_score.csv'\n",
    "path_lds = './data/lds_subjects.csv'\n",
    "len_sub = 6\n",
    "\n",
    "# extract the 6 most/least generalization subjects and the 6 most/least anxious subjects\n",
    "top_lds_list = anxious_subjects(path_lds, len_sub, 'top')\n",
    "bot_lds_list = anxious_subjects(path_lds, len_sub, 'bot')\n",
    "top_sias_list = anxious_subjects(path_sias, len_sub, 'top')\n",
    "bot_sias_list = anxious_subjects(path_sias, len_sub, 'bot')"
   ],
   "metadata": {
    "collapsed": false
   }
  },
  {
   "cell_type": "code",
   "execution_count": 23,
   "outputs": [
    {
     "name": "stdout",
     "output_type": "stream",
     "text": [
      "Correlation between 6 more/less anxiety subjects with the rational agent\n",
      "\n",
      "Pearson\n",
      "High anxiety:  0.495  Low anxiety: 0.64\n",
      "\n",
      "R2score\n",
      "High anxiety:  -0.81  Low anxiety: -0.27\n",
      "\n",
      "Pearson discrete\n",
      "High anxiety:  0.5  Low anxiety: 0.61\n",
      "\n",
      "Cohen\n",
      "High anxiety:  0.12  Low anxiety: 0.21\n",
      "\n",
      "ICC \n",
      "High anxiety:  0.16  Low anxiety: 0.21\n"
     ]
    }
   ],
   "source": [
    "pearson_sias_high = df_correlation[df_correlation.subject.isin(top_sias_list)]['pearson'].median()\n",
    "pearson_sias_low = df_correlation[df_correlation.subject.isin(bot_sias_list)]['pearson'].median()\n",
    "\n",
    "r2_sias_high = df_correlation[df_correlation.subject.isin(top_sias_list)]['r2score'].median()\n",
    "r2_sias_low = df_correlation[df_correlation.subject.isin(bot_sias_list)]['r2score'].median()\n",
    "\n",
    "discrete_pearson_sias_high = df_correlation[df_correlation.subject.isin(top_sias_list)]['person_disc'].median()\n",
    "discrete_pearson_sias_low = df_correlation[df_correlation.subject.isin(bot_sias_list)]['person_disc'].median()\n",
    "\n",
    "icc_sias_high = df_correlation[df_correlation.subject.isin(top_sias_list)]['icc'].median()\n",
    "icc_sias_low = df_correlation[df_correlation.subject.isin(bot_sias_list)]['icc'].median()\n",
    "\n",
    "cohen_sias_high = df_correlation[df_correlation.subject.isin(top_sias_list)]['cohen_disc'].median()\n",
    "cohen_sias_low = df_correlation[df_correlation.subject.isin(bot_sias_list)]['cohen_disc'].median()\n",
    "\n",
    "print(f'Correlation between {len_sub} more/less anxiety subjects with the rational agent\\n')\n",
    "print('Pearson\\nHigh anxiety: ',pearson_sias_high, ' Low anxiety:',pearson_sias_low)\n",
    "print('\\nR2score\\nHigh anxiety: ',round(r2_sias_high,2), ' Low anxiety:',r2_sias_low)\n",
    "print('\\nPearson discrete\\nHigh anxiety: ',round(discrete_pearson_sias_high,2), ' Low anxiety:',discrete_pearson_sias_low)\n",
    "print('\\nCohen\\nHigh anxiety: ',round(cohen_sias_high,2), ' Low anxiety:',cohen_sias_low)\n",
    "print('\\nICC \\nHigh anxiety: ',round(icc_sias_high,2), ' Low anxiety:',cohen_sias_low)"
   ],
   "metadata": {
    "collapsed": false
   }
  },
  {
   "cell_type": "code",
   "execution_count": 21,
   "outputs": [
    {
     "name": "stdout",
     "output_type": "stream",
     "text": [
      "Correlation between 5 more/less fear gen subjects with the rational agent\n",
      "\n",
      "Pearson\n",
      "High fear gen:  0.76  Low fear gen: 0.26\n",
      "\n",
      "R2score\n",
      "High fear gen:  0.09  Low fear gen: -1.96\n",
      "\n",
      "Pearson discrete\n",
      "High fear gen:  0.72  Low fear gen: 0.26\n",
      "\n",
      "Cohen\n",
      "High fear gen:  0.27  Low fear gen: 0.04\n",
      "\n",
      "ICC \n",
      "High fear gen:  0.43  Low fear gen: -0.12\n"
     ]
    }
   ],
   "source": [
    "pearson_lds_high = df_correlation[df_correlation.subject.isin(top_lds_list)]['pearson'].median()\n",
    "pearson_lds_low = df_correlation[df_correlation.subject.isin(bot_lds_list)]['pearson'].median()\n",
    "\n",
    "r2_lds_high = df_correlation[df_correlation.subject.isin(top_lds_list)]['r2score'].median()\n",
    "r2_lds_low = df_correlation[df_correlation.subject.isin(bot_lds_list)]['r2score'].median()\n",
    "\n",
    "discrete_pearson_lds_high = df_correlation[df_correlation.subject.isin(top_lds_list)]['person_disc'].median()\n",
    "discrete_pearson_lds_low = df_correlation[df_correlation.subject.isin(bot_lds_list)]['person_disc'].median()\n",
    "\n",
    "icc_lds_high = df_correlation[df_correlation.subject.isin(top_lds_list)]['icc'].median()\n",
    "icc_lds_low = df_correlation[df_correlation.subject.isin(bot_lds_list)]['icc'].median()\n",
    "\n",
    "cohen_lds_high = df_correlation[df_correlation.subject.isin(top_lds_list)]['cohen_disc'].median()\n",
    "cohen_lds_low = df_correlation[df_correlation.subject.isin(bot_lds_list)]['cohen_disc'].median()\n",
    "\n",
    "print('Correlation between 5 more/less fear gen subjects with the rational agent\\n')\n",
    "print('Pearson\\nHigh fear gen: ',round(pearson_lds_high,2), ' Low fear gen:',round(pearson_lds_low,2))\n",
    "print('\\nR2score\\nHigh fear gen: ',round(r2_lds_high,2), ' Low fear gen:',round(r2_lds_low,2))\n",
    "print('\\nPearson discrete\\nHigh fear gen: ',discrete_pearson_lds_high, ' Low fear gen:',discrete_pearson_lds_low)\n",
    "print('\\nCohen\\nHigh fear gen: ',cohen_lds_high, ' Low fear gen:',cohen_lds_low)\n",
    "print('\\nICC \\nHigh fear gen: ',round(icc_lds_high,2), ' Low fear gen:',round(icc_lds_low,2))\n"
   ],
   "metadata": {
    "collapsed": false
   }
  },
  {
   "cell_type": "code",
   "execution_count": null,
   "outputs": [],
   "source": [],
   "metadata": {
    "collapsed": false
   }
  }
 ],
 "metadata": {
  "kernelspec": {
   "display_name": "Python 3 (ipykernel)",
   "language": "python",
   "name": "python3"
  },
  "language_info": {
   "codemirror_mode": {
    "name": "ipython",
    "version": 3
   },
   "file_extension": ".py",
   "mimetype": "text/x-python",
   "name": "python",
   "nbconvert_exporter": "python",
   "pygments_lexer": "ipython3",
   "version": "3.8.10"
  }
 },
 "nbformat": 4,
 "nbformat_minor": 1
}
