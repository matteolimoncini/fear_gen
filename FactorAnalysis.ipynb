{
 "cells": [
  {
   "cell_type": "code",
   "execution_count": 40,
   "metadata": {},
   "outputs": [],
   "source": [
    "import pymc as pm\n",
    "import aesara.tensor as at\n",
    "import numpy as np\n",
    "import pandas as pd\n",
    "import matplotlib.pyplot as plt\n",
    "from numpy.random import default_rng\n",
    "from scipy import stats\n",
    "from sklearn.metrics import accuracy_score\n",
    "\n",
    "\n",
    "RANDOM_SEED = 31415\n",
    "rng = default_rng(RANDOM_SEED)"
   ]
  },
  {
   "cell_type": "code",
   "execution_count": 76,
   "metadata": {},
   "outputs": [],
   "source": [
    "sub = 2\n",
    "num_trials_to_remove = 48\n",
    "\n",
    "# eda data\n",
    "eda = pd.read_csv('data/features_4_2/eda/'+str(sub)+'.csv')\n",
    "eda = eda[num_trials_to_remove:]\n",
    "\n",
    "# hr data\n",
    "hr = pd.read_csv('data/features_4_2/hr/'+str(sub)+'.csv')\n",
    "hr = hr[num_trials_to_remove:]\n",
    "\n",
    "# pupil data\n",
    "pupil = pd.read_csv('data/features_4_2/pupil/'+str(sub)+'.csv')\n",
    "pupil = pupil[num_trials_to_remove:]\n",
    "\n",
    "# pain expectation data\n",
    "df_ = pd.read_csv('data/LookAtMe_00'+str(sub)+'.csv', sep='\\t')\n",
    "df_ = df_[num_trials_to_remove:]\n",
    "label = np.array(list([int(d>2) for d in df_['rating']]))\n",
    "E = label[:,np.newaxis]\n",
    "E = pd.DataFrame(E)\n",
    "\n",
    "# num trials\n",
    "N = eda.shape[1]\n",
    "\n",
    "TRAIN_PERC = 0.70\n",
    "VAL_PERC = 0.1\n",
    "TEST_PERC = 0.2  # 1-TRAIN_PERC+VAL_PERC\n",
    "N_train = int(len(eda) * (TRAIN_PERC))\n",
    "N_val = int(len(eda) * (VAL_PERC))\n",
    "\n",
    "# RANDOM SPLIT\n",
    "pupil = pupil.sample(frac=1, random_state=0)\n",
    "pupil = pupil.reset_index(drop=True).to_numpy()\n",
    "\n",
    "hr = hr.sample(frac=1, random_state=0)\n",
    "hr = hr.reset_index(drop=True).to_numpy()\n",
    "\n",
    "eda = eda.sample(frac=1, random_state=0)\n",
    "eda = eda.reset_index(drop=True).to_numpy()\n",
    "\n",
    "e_labels = E.sample(frac=1, random_state=0)\n",
    "e_labels = e_labels.reset_index(drop=True).to_numpy()\n",
    "\n",
    "hr_train = hr[:N_train]\n",
    "eda_train = eda[:N_train].T\n",
    "pupil_train = pupil[:N_train].T\n",
    "e_labels_train = e_labels[:N_train].T\n",
    "\n",
    "\n",
    "hr_val = hr[N_train:N_train + N_val]\n",
    "eda_val = eda[N_train:N_train + N_val].T\n",
    "pupil_val = pupil[N_train:N_train + N_val].T\n",
    "e_labels_val = e_labels[N_train:N_train + N_val].T\n",
    "\n",
    "hr_test = hr[N_train + N_val:].T\n",
    "eda_test = eda[N_train + N_val:].T\n",
    "pupil_test = pupil[N_train+N_val:].T\n",
    "e_test = e_labels[N_train + N_val:].T\n",
    "\n",
    "\n",
    "# dimensions of each signal\n",
    "d_eda = eda_train.shape[0]\n",
    "d_hr = hr_train.shape[1]\n",
    "d_pupil = pupil_train.shape[0]\n",
    "d_e = e_labels_train.shape[0]"
   ]
  },
  {
   "cell_type": "code",
   "execution_count": 77,
   "outputs": [
    {
     "data": {
      "text/plain": "24"
     },
     "execution_count": 77,
     "metadata": {},
     "output_type": "execute_result"
    }
   ],
   "source": [
    "d_hr"
   ],
   "metadata": {
    "collapsed": false
   }
  },
  {
   "cell_type": "code",
   "execution_count": 69,
   "outputs": [
    {
     "data": {
      "text/plain": "11"
     },
     "execution_count": 69,
     "metadata": {},
     "output_type": "execute_result"
    }
   ],
   "source": [
    "eda_val.shape[1]"
   ],
   "metadata": {
    "collapsed": false
   }
  },
  {
   "cell_type": "code",
   "execution_count": 70,
   "metadata": {},
   "outputs": [],
   "source": [
    "def expand_packed_block_triangular(d, k, packed, diag=None, mtype=\"aesara\"):\n",
    "    # like expand_packed_triangular, but with d > k.\n",
    "    assert mtype in {\"aesara\", \"numpy\"}\n",
    "    assert d >= k\n",
    "\n",
    "    def set_(M, i_, v_):\n",
    "        if mtype == \"aesara\":\n",
    "            return at.set_subtensor(M[i_], v_)\n",
    "        M[i_] = v_\n",
    "        return M\n",
    "\n",
    "    out = at.zeros((d, k), dtype=float) if mtype == \"aesara\" else np.zeros((d, k), dtype=float)\n",
    "    if diag is None:\n",
    "        idxs = np.tril_indices(d, m=k)\n",
    "        out = set_(out, idxs, packed)\n",
    "    else:\n",
    "        idxs = np.tril_indices(d, k=-1, m=k)\n",
    "        out = set_(out, idxs, packed)\n",
    "        idxs = (np.arange(k), np.arange(k))\n",
    "        out = set_(out, idxs, diag)\n",
    "    return out"
   ]
  },
  {
   "cell_type": "code",
   "execution_count": 71,
   "metadata": {},
   "outputs": [],
   "source": [
    "def makeW(d, k, dim_names,name):\n",
    "    # make a W matrix adapted to the data shape\n",
    "    n_od = int(k * d - k * (k - 1) / 2 - k)\n",
    "    # trick: the cumulative sum of z will be positive increasing\n",
    "    z = pm.HalfNormal(\"W_z_\"+name, 1.0, dims=\"latent_columns\")\n",
    "    b = pm.HalfNormal(\"W_b_\"+name, 1.0, shape=(n_od,), dims=\"packed_dim\")\n",
    "    L = expand_packed_block_triangular(d, k, b, at.ones(k))\n",
    "    W = pm.Deterministic(name, at.dot(L, at.diag(at.extra_ops.cumsum(z))), dims=dim_names)\n",
    "    return W\n"
   ]
  },
  {
   "cell_type": "code",
   "execution_count": 72,
   "outputs": [],
   "source": [
    "k = 3\n"
   ],
   "metadata": {
    "collapsed": false
   }
  },
  {
   "cell_type": "code",
   "execution_count": 73,
   "metadata": {},
   "outputs": [],
   "source": [
    "with pm.Model() as PPCA_identified:\n",
    "    #model coordinates\n",
    "    PPCA_identified.add_coord(\"latent_columns\", np.arange(k), mutable=True)\n",
    "    PPCA_identified.add_coord(\"rows\", np.arange(N_train), mutable=True)\n",
    "    PPCA_identified.add_coord(\"observed_eda\", np.arange(d_eda), mutable=False)\n",
    "    PPCA_identified.add_coord(\"observed_hr\", np.arange(d_hr), mutable=False)\n",
    "    PPCA_identified.add_coord(\"observed_pupil\", np.arange(d_pupil), mutable=False)\n",
    "    PPCA_identified.add_coord(\"observed_label\", np.arange(d_e), mutable=False)\n",
    "\n",
    "\n",
    "    hr_data = pm.MutableData(\"hr_data\", hr_train, dims=(\"observed_hr\", \"rows\"))\n",
    "    eda_data = pm.MutableData(\"eda_data\", eda_train, dims=(\"observed_eda\", \"rows\"))\n",
    "    pupil_data = pm.MutableData(\"pupil_data\", pupil_train, dims=(\"observed_pupil\", \"rows\"))\n",
    "\n",
    "    W_eda = makeW(d_eda, k, (\"observed_eda\", \"latent_columns\"),'W_eda')\n",
    "    W_hr = makeW(d_hr, k, (\"observed_hr\", \"latent_columns\"),'W_hr')\n",
    "    W_pupil = pm.Normal(\"W_pupil\", dims=(\"observed_pupil\", \"latent_columns\"))\n",
    "\n",
    "    W_e = pm.Normal(\"W_e\", dims=(\"observed_label\", \"latent_columns\"))\n",
    "    C = pm.Normal(\"C\", dims=(\"latent_columns\", \"rows\"))\n",
    "    psi_eda = pm.HalfNormal(\"psi_eda\", 1.0)\n",
    "    X_eda = pm.Normal(\"X_eda\", mu=at.dot(W_eda, C), sigma=psi_eda, observed=eda_data, dims=(\"observed_eda\", \"rows\"))\n",
    "\n",
    "    psi_hr = pm.HalfNormal(\"psi_hr\", 1.0)\n",
    "    X_hr = pm.Normal(\"X_hr\", mu=at.dot(W_hr, C), sigma=psi_hr, observed=hr_data, dims=(\"observed_hr\", \"rows\"))\n",
    "\n",
    "    psi_pupil = pm.HalfNormal(\"psi_pupil\", 1.0)\n",
    "    X_pupil = pm.Normal(\"X_pupil\", mu=at.dot(W_pupil, C), sigma=psi_pupil, observed=pupil_data, dims=(\"observed_pupil\", \"rows\"))\n",
    "\n",
    "    X_e = pm.Bernoulli(\"X_e\", p=pm.math.sigmoid(at.dot(W_e, C)), dims=(\"observed_label\", \"rows\"), observed=e_labels_train)"
   ]
  },
  {
   "cell_type": "code",
   "execution_count": 74,
   "metadata": {},
   "outputs": [
    {
     "data": {
      "text/plain": "'PPCA example.pdf'"
     },
     "execution_count": 74,
     "metadata": {},
     "output_type": "execute_result"
    }
   ],
   "source": [
    "gv = pm.model_to_graphviz(PPCA_identified)\n",
    "gv.view('PPCA example')"
   ]
  },
  {
   "cell_type": "code",
   "execution_count": 75,
   "metadata": {},
   "outputs": [
    {
     "data": {
      "text/plain": "<IPython.core.display.HTML object>",
      "text/html": "\n<style>\n    /* Turns off some styling */\n    progress {\n        /* gets rid of default border in Firefox and Opera. */\n        border: none;\n        /* Needs to be in here for Safari polyfill so background images work as expected. */\n        background-size: auto;\n    }\n    progress:not([value]), progress:not([value])::-webkit-progress-bar {\n        background: repeating-linear-gradient(45deg, #7e7e7e, #7e7e7e 10px, #5c5c5c 10px, #5c5c5c 20px);\n    }\n    .progress-bar-interrupted, .progress-bar-interrupted::-webkit-progress-bar {\n        background: #F44336;\n    }\n</style>\n"
     },
     "metadata": {},
     "output_type": "display_data"
    },
    {
     "data": {
      "text/plain": "<IPython.core.display.HTML object>",
      "text/html": "\n    <div>\n      <progress value='0' class='' max='30000' style='width:300px; height:20px; vertical-align: middle;'></progress>\n      \n    </div>\n    "
     },
     "metadata": {},
     "output_type": "display_data"
    },
    {
     "name": "stderr",
     "output_type": "stream",
     "text": [
      "Finished [100%]: Average Loss = 44,315\n"
     ]
    }
   ],
   "source": [
    "with PPCA_identified:\n",
    "    approx = pm.fit(30000, callbacks=[pm.callbacks.CheckParametersConvergence(tolerance=1e-4)])\n",
    "    trace = approx.sample(500)"
   ]
  },
  {
   "cell_type": "code",
   "execution_count": 54,
   "outputs": [
    {
     "name": "stderr",
     "output_type": "stream",
     "text": [
      "Sampling: [X_e]\n"
     ]
    },
    {
     "data": {
      "text/plain": "<IPython.core.display.HTML object>",
      "text/html": "\n<style>\n    /* Turns off some styling */\n    progress {\n        /* gets rid of default border in Firefox and Opera. */\n        border: none;\n        /* Needs to be in here for Safari polyfill so background images work as expected. */\n        background-size: auto;\n    }\n    progress:not([value]), progress:not([value])::-webkit-progress-bar {\n        background: repeating-linear-gradient(45deg, #7e7e7e, #7e7e7e 10px, #5c5c5c 10px, #5c5c5c 20px);\n    }\n    .progress-bar-interrupted, .progress-bar-interrupted::-webkit-progress-bar {\n        background: #F44336;\n    }\n</style>\n"
     },
     "metadata": {},
     "output_type": "display_data"
    },
    {
     "data": {
      "text/plain": "<IPython.core.display.HTML object>",
      "text/html": "\n    <div>\n      <progress value='0' class='' max='500' style='width:300px; height:20px; vertical-align: middle;'></progress>\n      \n    </div>\n    "
     },
     "metadata": {},
     "output_type": "display_data"
    }
   ],
   "source": [
    "with PPCA_identified:\n",
    "    posterior_predictive = pm.sample_posterior_predictive(\n",
    "        trace, var_names=[\"X_e\"], random_seed=123)"
   ],
   "metadata": {
    "collapsed": false
   }
  },
  {
   "cell_type": "code",
   "execution_count": 56,
   "outputs": [
    {
     "data": {
      "text/plain": "0.5384615384615384"
     },
     "execution_count": 56,
     "metadata": {},
     "output_type": "execute_result"
    }
   ],
   "source": [
    "e_pred_train = posterior_predictive.posterior_predictive['X_e']\n",
    "e_pred_mode_train = np.squeeze(stats.mode(e_pred_train[0], keepdims=False)[0])[:, np.newaxis]\n",
    "\n",
    "train_accuracy_exp = accuracy_score(e_labels_train.T, e_pred_mode_train)\n",
    "train_accuracy_exp"
   ],
   "metadata": {
    "collapsed": false
   }
  },
  {
   "cell_type": "code",
   "execution_count": null,
   "outputs": [],
   "source": [],
   "metadata": {
    "collapsed": false
   }
  }
 ],
 "metadata": {
  "kernelspec": {
   "display_name": "Python 3 (ipykernel)",
   "language": "python",
   "name": "python3"
  },
  "language_info": {
   "codemirror_mode": {
    "name": "ipython",
    "version": 3
   },
   "file_extension": ".py",
   "mimetype": "text/x-python",
   "name": "python",
   "nbconvert_exporter": "python",
   "pygments_lexer": "ipython3",
   "version": "3.9.2"
  },
  "latex_envs": {
   "LaTeX_envs_menu_present": true,
   "autoclose": false,
   "autocomplete": true,
   "bibliofile": "biblio.bib",
   "cite_by": "apalike",
   "current_citInitial": 1,
   "eqLabelWithNumbers": true,
   "eqNumInitial": 1,
   "hotkeys": {
    "equation": "Ctrl-E",
    "itemize": "Ctrl-I"
   },
   "labels_anchors": false,
   "latex_user_defs": false,
   "report_style_numbering": false,
   "user_envs_cfg": false
  }
 },
 "nbformat": 4,
 "nbformat_minor": 1
}
