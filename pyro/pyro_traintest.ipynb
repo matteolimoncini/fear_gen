{
 "cells": [
  {
   "cell_type": "code",
   "execution_count": 1,
   "metadata": {
    "collapsed": true
   },
   "outputs": [],
   "source": [
    "#import\n",
    "from pandas.errors import SettingWithCopyWarning\n",
    "from pyro.infer import MCMC, NUTS\n",
    "import os\n",
    "from functools import partial\n",
    "import torch\n",
    "import numpy as np\n",
    "import pandas as pd\n",
    "import seaborn as sns\n",
    "import matplotlib.pyplot as plt\n",
    "\n",
    "import pyro\n",
    "import pyro.distributions as dist\n",
    "import warnings\n",
    "\n",
    "\n",
    "# for CI testing\n",
    "warnings.simplefilter(action='ignore', category=SettingWithCopyWarning)\n",
    "warnings.simplefilter(action='ignore', category=FutureWarning)\n",
    "smoke_test = ('CI' in os.environ)\n",
    "assert pyro.__version__.startswith('1.8.4')\n",
    "pyro.set_rng_seed(1)\n",
    "\n",
    "\n",
    "# Set matplotlib settings\n",
    "%matplotlib inline\n",
    "plt.style.use('default')"
   ]
  },
  {
   "cell_type": "code",
   "execution_count": 2,
   "outputs": [],
   "source": [
    "# Extract morphing level and shock (binary morphing level)\n",
    "\n",
    "# Equal for all subjects\n",
    "df = pd.read_csv('../data/newLookAtMe/newLookAtMe20.csv')\n",
    "data = df[['morphing level', 'shock']]\n",
    "data['shock'] = data['shock'].astype(int)\n",
    "data['morphing level'] = [int(d==6) for d in data['morphing level']]"
   ],
   "metadata": {
    "collapsed": false
   }
  },
  {
   "cell_type": "markdown",
   "source": [
    "Create tensor where:\n",
    "* `[0 0] = 0`\n",
    "* `[1 0] = 1`\n",
    "* `[1 1] = 2`"
   ],
   "metadata": {
    "collapsed": false
   }
  },
  {
   "cell_type": "code",
   "execution_count": 3,
   "outputs": [
    {
     "data": {
      "text/plain": "torch.Size([160, 2])"
     },
     "execution_count": 3,
     "metadata": {},
     "output_type": "execute_result"
    }
   ],
   "source": [
    "data_model = data.to_numpy()\n",
    "data_final = []\n",
    "for x in data_model:\n",
    "    if (x == [0, 0]).all():\n",
    "        data_final.append(0)\n",
    "    elif (x == [1, 0]).all():\n",
    "        data_final.append(1)\n",
    "    else:\n",
    "        data_final.append(2)\n",
    "\n",
    "data_final = torch.tensor(data_final)\n",
    "data_model_tensor = torch.tensor(data_model)\n",
    "data_model_tensor.shape"
   ],
   "metadata": {
    "collapsed": false
   }
  },
  {
   "cell_type": "markdown",
   "source": [
    "$p(data\\, final | \\theta) = \\prod_i^3\\theta_k^{N_k}$\n",
    "\n",
    "where $\\theta$ is a vector 3-dimensional modeled with a Dirichlet Distribution"
   ],
   "metadata": {
    "collapsed": false
   }
  },
  {
   "cell_type": "code",
   "execution_count": 4,
   "outputs": [
    {
     "data": {
      "text/plain": "array([[0, 0],\n       [1, 0],\n       [1, 0],\n       [0, 0],\n       [0, 0],\n       [0, 0],\n       [1, 0],\n       [1, 0],\n       [0, 0],\n       [1, 0],\n       [1, 0],\n       [0, 0],\n       [1, 0],\n       [0, 0],\n       [1, 0],\n       [0, 0],\n       [1, 1],\n       [0, 0],\n       [0, 0],\n       [1, 1],\n       [0, 0],\n       [1, 1],\n       [1, 1],\n       [0, 0],\n       [1, 0],\n       [1, 1],\n       [0, 0],\n       [0, 0],\n       [0, 0],\n       [0, 0],\n       [1, 1],\n       [1, 0],\n       [0, 0],\n       [1, 1],\n       [1, 1],\n       [0, 0],\n       [1, 0],\n       [0, 0],\n       [1, 1],\n       [0, 0],\n       [1, 0],\n       [0, 0],\n       [1, 1],\n       [0, 0],\n       [1, 1],\n       [0, 0],\n       [1, 1],\n       [0, 0],\n       [0, 0],\n       [1, 1],\n       [0, 0],\n       [0, 0],\n       [1, 0],\n       [0, 0],\n       [0, 0],\n       [0, 0],\n       [0, 0],\n       [1, 1],\n       [0, 0],\n       [0, 0],\n       [1, 0],\n       [0, 0],\n       [1, 0],\n       [0, 0],\n       [0, 0],\n       [1, 1],\n       [0, 0],\n       [1, 1],\n       [0, 0],\n       [0, 0],\n       [1, 0],\n       [0, 0],\n       [0, 0],\n       [0, 0],\n       [0, 0],\n       [0, 0],\n       [0, 0],\n       [0, 0],\n       [0, 0],\n       [0, 0],\n       [1, 1],\n       [0, 0],\n       [0, 0],\n       [1, 0],\n       [0, 0],\n       [0, 0],\n       [1, 1],\n       [1, 0],\n       [0, 0],\n       [0, 0],\n       [0, 0],\n       [0, 0],\n       [1, 0],\n       [0, 0],\n       [0, 0],\n       [1, 1],\n       [0, 0],\n       [0, 0],\n       [1, 0],\n       [0, 0],\n       [1, 1],\n       [0, 0],\n       [0, 0],\n       [0, 0],\n       [0, 0],\n       [1, 0],\n       [0, 0],\n       [1, 1],\n       [0, 0],\n       [0, 0],\n       [0, 0],\n       [1, 0],\n       [0, 0],\n       [0, 0],\n       [0, 0],\n       [1, 1],\n       [0, 0],\n       [0, 0],\n       [0, 0],\n       [0, 0],\n       [0, 0],\n       [1, 0],\n       [0, 0],\n       [1, 1],\n       [0, 0],\n       [0, 0],\n       [0, 0],\n       [0, 0],\n       [1, 1],\n       [1, 0],\n       [0, 0],\n       [0, 0],\n       [1, 0],\n       [0, 0],\n       [0, 0],\n       [0, 0],\n       [1, 0],\n       [1, 1],\n       [0, 0],\n       [0, 0],\n       [0, 0],\n       [0, 0],\n       [1, 1],\n       [0, 0],\n       [0, 0],\n       [1, 1],\n       [0, 0],\n       [0, 0],\n       [0, 0],\n       [0, 0],\n       [1, 1],\n       [0, 0],\n       [0, 0],\n       [1, 0],\n       [0, 0],\n       [0, 0],\n       [0, 0],\n       [0, 0],\n       [0, 0],\n       [1, 0]])"
     },
     "execution_count": 4,
     "metadata": {},
     "output_type": "execute_result"
    }
   ],
   "source": [
    "data_model"
   ],
   "metadata": {
    "collapsed": false
   }
  },
  {
   "cell_type": "code",
   "execution_count": 5,
   "outputs": [],
   "source": [
    "# model definition\n",
    "\n",
    "# uniform prior\n",
    "prior_counts = torch.ones((2,2))\n",
    "\n",
    "def simple_model(data):\n",
    "    theta = pyro.sample(\"theta\", dist.Dirichlet(prior_counts))\n",
    "    total_counts = int(data.sum())\n",
    "    pyro.sample(\"likelihood\", dist.Multinomial(total_counts, theta), obs=data)\n",
    "\n",
    "counter = torch.tensor(np.unique(data_model, axis=0, return_counts=True)[1])\n",
    "counter_prova = torch.tensor([[28, 0], [5,15]])"
   ],
   "metadata": {
    "collapsed": false
   }
  },
  {
   "cell_type": "code",
   "execution_count": 6,
   "outputs": [
    {
     "name": "stderr",
     "output_type": "stream",
     "text": [
      "Sample: 100%|██████████| 1200/1200 [00:11, 103.50it/s, step size=7.24e-01, acc. prob=0.908]\n"
     ]
    }
   ],
   "source": [
    "nuts_kernel = NUTS(simple_model)\n",
    "num_samples, warmup_steps = (1000, 200) if not smoke_test else (10, 10)\n",
    "mcmc = MCMC(nuts_kernel, num_samples=1000, warmup_steps=200)\n",
    "mcmc.run(counter_prova)\n",
    "hmc_samples = {k: v.detach().cpu().numpy()\n",
    "               for k, v in mcmc.get_samples().items()}"
   ],
   "metadata": {
    "collapsed": false
   }
  },
  {
   "cell_type": "code",
   "execution_count": 7,
   "outputs": [],
   "source": [
    "not_agg_data = data_model_tensor[data_model_tensor[:,0] == 0]\n",
    "agg_data = data_model_tensor[data_model_tensor[:,0] == 1]\n"
   ],
   "metadata": {
    "collapsed": false
   }
  },
  {
   "cell_type": "code",
   "execution_count": 8,
   "outputs": [
    {
     "data": {
      "text/plain": "torch.Size([160, 2])"
     },
     "execution_count": 8,
     "metadata": {},
     "output_type": "execute_result"
    }
   ],
   "source": [
    "data_model_tensor.shape"
   ],
   "metadata": {
    "collapsed": false
   }
  },
  {
   "cell_type": "code",
   "execution_count": 9,
   "outputs": [
    {
     "data": {
      "text/plain": "array([28, 28])"
     },
     "execution_count": 9,
     "metadata": {},
     "output_type": "execute_result"
    }
   ],
   "source": [
    "np.unique(agg_data, return_counts=True, axis=0)[1]"
   ],
   "metadata": {
    "collapsed": false
   }
  },
  {
   "cell_type": "code",
   "execution_count": 10,
   "outputs": [],
   "source": [
    "prior_aggressive = torch.ones(2)\n",
    "prior_not_aggressive = torch.ones(2)\n",
    "\n",
    "def model(data):\n",
    "    not_agg_data = data[data[:,0] == 0]\n",
    "    agg_data = data[data[:,0] == 1]\n",
    "\n",
    "    count_values_1 = torch.tensor(np.append(np.unique(not_agg_data, return_counts=True, axis=0)[1], 0))\n",
    "    count_values_2 = torch.tensor(np.unique(agg_data, return_counts=True, axis=0)[1])\n",
    "\n",
    "    theta1 = pyro.sample(\"theta1\", dist.Dirichlet(prior_aggressive))\n",
    "    theta2 = pyro.sample(\"theta2\", dist.Dirichlet(prior_not_aggressive))\n",
    "\n",
    "    counts1 = int(count_values_1.sum())\n",
    "    counts2 = int(count_values_2.sum())\n",
    "\n",
    "    pyro.sample(\"likelihood1\", dist.Multinomial(counts1, theta1), obs = count_values_1)\n",
    "    pyro.sample(\"likelihood2\", dist.Multinomial(counts2, theta2), obs = count_values_2)\n",
    "\n"
   ],
   "metadata": {
    "collapsed": false
   }
  },
  {
   "cell_type": "code",
   "execution_count": 11,
   "outputs": [
    {
     "name": "stderr",
     "output_type": "stream",
     "text": [
      "Sample: 100%|██████████| 1200/1200 [00:18, 66.27it/s, step size=9.04e-01, acc. prob=0.912]\n"
     ]
    }
   ],
   "source": [
    "nuts_kernel = NUTS(model)\n",
    "num_samples, warmup_steps = (1000, 200) if not smoke_test else (10, 10)\n",
    "mcmc = MCMC(nuts_kernel, num_samples=1000, warmup_steps=200)\n",
    "mcmc.run(data_model_tensor[16:48])\n",
    "hmc_samples = {k: v.detach().cpu().numpy()\n",
    "               for k, v in mcmc.get_samples().items()}"
   ],
   "metadata": {
    "collapsed": false
   }
  },
  {
   "cell_type": "code",
   "execution_count": 12,
   "outputs": [
    {
     "name": "stdout",
     "output_type": "stream",
     "text": [
      "[0.9465429  0.05345723]\n",
      "[0.27769166 0.722309  ]\n"
     ]
    }
   ],
   "source": [
    "dist_cs_minus = hmc_samples['theta1'].mean(axis=0)\n",
    "dist_cs_plus = hmc_samples['theta2'].mean(axis=0)\n",
    "print(dist_cs_minus)\n",
    "print(dist_cs_plus)"
   ],
   "metadata": {
    "collapsed": false
   }
  },
  {
   "cell_type": "markdown",
   "source": [
    "La cella sopra indica le probabilità di vedere una coppia `[0 0]`, una coppia `[1 0]` o una coppia `[1 1]`, ma non $P(shock | morph\\, level)$."
   ],
   "metadata": {
    "collapsed": false
   }
  },
  {
   "cell_type": "code",
   "execution_count": 13,
   "outputs": [
    {
     "data": {
      "text/plain": "tensor([0, 1, 0, 0, 0, 0, 0, 0, 0, 1, 0, 0, 0, 0, 0, 0, 0, 1, 0, 1, 0, 0, 0, 0,\n        0, 0, 0, 0, 0, 0, 0, 0, 1, 0, 0, 0, 0, 0, 1, 0, 0, 0, 0, 0, 0, 0, 0, 1,\n        0, 0, 0, 0, 1, 0, 0, 0, 0, 0, 0, 1, 0, 0, 0, 0, 0, 0, 0, 1, 0, 0, 0, 0,\n        0, 0, 0, 1, 0, 0, 0, 0, 1, 0, 0, 0, 0, 0, 0, 0, 0, 1, 0, 0, 0, 0, 1, 0,\n        0, 1, 0, 0, 0, 0, 1, 0, 0, 0, 0, 0, 0, 0, 0, 0])"
     },
     "execution_count": 13,
     "metadata": {},
     "output_type": "execute_result"
    }
   ],
   "source": [
    "x_test, y_test = data_model_tensor[48:,0], data_model_tensor[48:,1]\n",
    "y_test"
   ],
   "metadata": {
    "collapsed": false
   }
  },
  {
   "cell_type": "code",
   "execution_count": 14,
   "outputs": [
    {
     "data": {
      "text/plain": "(112,)"
     },
     "execution_count": 14,
     "metadata": {},
     "output_type": "execute_result"
    }
   ],
   "source": [
    "unique_values = torch.unique(x_test, return_counts = True)[1]\n",
    "shock = unique_values[1]\n",
    "no_shock = unique_values[0]\n",
    "# predictive\n",
    "prediction = torch.tensor([])\n",
    "for i in x_test:\n",
    "    if int(i) == 0:\n",
    "        prediction = torch.cat((prediction, dist.Bernoulli(torch.tensor([dist_cs_minus[1]])).sample()))\n",
    "    else:\n",
    "        prediction = torch.cat((prediction, dist.Bernoulli(torch.tensor([dist_cs_plus[1]])).sample()))\n",
    "\n",
    "\n",
    "prediction = np.array(prediction)\n",
    "prediction.shape"
   ],
   "metadata": {
    "collapsed": false
   }
  },
  {
   "cell_type": "markdown",
   "source": [
    "## Results check"
   ],
   "metadata": {
    "collapsed": false
   }
  },
  {
   "cell_type": "code",
   "execution_count": 15,
   "outputs": [
    {
     "data": {
      "text/plain": "  Subject       ICC  Accuracy Score  Precision    Recall  F1 score\n0       1  0.075350        0.607143   0.444444  0.292683  0.352941\n0       2  0.334076        0.687500   0.888889  0.428571  0.578313\n0       4  0.136187        0.589286   0.740741  0.338983  0.465116\n0       5  0.398374        0.732143   0.814815  0.468085  0.594595\n0       6  0.418087        0.785714   0.555556  0.555556  0.555556\n0       7  0.295983        0.678571   0.777778  0.411765  0.538462\n0      13  0.097561        0.562500   0.777778  0.328125  0.461538\n0      15  0.273812        0.696429   0.592593  0.410256  0.484848\n0      16  0.182504        0.633929   0.629630  0.354167  0.453333\n0      17 -0.073959        0.473214   0.666667  0.264706  0.378947\n0      21  0.108799        0.562500   0.851852  0.338235  0.484211\n0      22  0.428708        0.758929   0.740741  0.500000  0.597015\n0      23  0.109988        0.589286   0.629630  0.320755  0.425000\n0      26  0.391304        0.750000   0.666667  0.486486  0.562500\n0      27  0.683696        0.875000   0.851852  0.696970  0.766667\n0      28  0.343822        0.723214   0.666667  0.450000  0.537313\n0      31  0.565871        0.830357   0.740741  0.625000  0.677966\n0      32 -0.087512        0.473214   0.592593  0.250000  0.351648\n0      33  0.398374        0.732143   0.814815  0.468085  0.594595\n0      41  0.216778        0.678571   0.518519  0.378378  0.437500\n0      43  0.478779        0.767857   0.888889  0.510638  0.648649\n0      44  0.092989        0.553571   0.851852  0.333333  0.479167\n0      45  0.565558        0.821429   0.814815  0.594595  0.687500\n0      46 -0.168806        0.428571   0.555556  0.223881  0.319149\n0      47  0.552829        0.803571   0.925926  0.555556  0.694444\n0      48  0.157931        0.607143   0.703704  0.345455  0.463415\n0      50  0.060571        0.544643   0.740741  0.312500  0.439560\n0      51  0.380465        0.732143   0.740741  0.465116  0.571429\n0      52  0.386273        0.741071   0.703704  0.475000  0.567164\n0      54  0.546012        0.803571   0.888889  0.558140  0.685714",
      "text/html": "<div>\n<style scoped>\n    .dataframe tbody tr th:only-of-type {\n        vertical-align: middle;\n    }\n\n    .dataframe tbody tr th {\n        vertical-align: top;\n    }\n\n    .dataframe thead th {\n        text-align: right;\n    }\n</style>\n<table border=\"1\" class=\"dataframe\">\n  <thead>\n    <tr style=\"text-align: right;\">\n      <th></th>\n      <th>Subject</th>\n      <th>ICC</th>\n      <th>Accuracy Score</th>\n      <th>Precision</th>\n      <th>Recall</th>\n      <th>F1 score</th>\n    </tr>\n  </thead>\n  <tbody>\n    <tr>\n      <th>0</th>\n      <td>1</td>\n      <td>0.075350</td>\n      <td>0.607143</td>\n      <td>0.444444</td>\n      <td>0.292683</td>\n      <td>0.352941</td>\n    </tr>\n    <tr>\n      <th>0</th>\n      <td>2</td>\n      <td>0.334076</td>\n      <td>0.687500</td>\n      <td>0.888889</td>\n      <td>0.428571</td>\n      <td>0.578313</td>\n    </tr>\n    <tr>\n      <th>0</th>\n      <td>4</td>\n      <td>0.136187</td>\n      <td>0.589286</td>\n      <td>0.740741</td>\n      <td>0.338983</td>\n      <td>0.465116</td>\n    </tr>\n    <tr>\n      <th>0</th>\n      <td>5</td>\n      <td>0.398374</td>\n      <td>0.732143</td>\n      <td>0.814815</td>\n      <td>0.468085</td>\n      <td>0.594595</td>\n    </tr>\n    <tr>\n      <th>0</th>\n      <td>6</td>\n      <td>0.418087</td>\n      <td>0.785714</td>\n      <td>0.555556</td>\n      <td>0.555556</td>\n      <td>0.555556</td>\n    </tr>\n    <tr>\n      <th>0</th>\n      <td>7</td>\n      <td>0.295983</td>\n      <td>0.678571</td>\n      <td>0.777778</td>\n      <td>0.411765</td>\n      <td>0.538462</td>\n    </tr>\n    <tr>\n      <th>0</th>\n      <td>13</td>\n      <td>0.097561</td>\n      <td>0.562500</td>\n      <td>0.777778</td>\n      <td>0.328125</td>\n      <td>0.461538</td>\n    </tr>\n    <tr>\n      <th>0</th>\n      <td>15</td>\n      <td>0.273812</td>\n      <td>0.696429</td>\n      <td>0.592593</td>\n      <td>0.410256</td>\n      <td>0.484848</td>\n    </tr>\n    <tr>\n      <th>0</th>\n      <td>16</td>\n      <td>0.182504</td>\n      <td>0.633929</td>\n      <td>0.629630</td>\n      <td>0.354167</td>\n      <td>0.453333</td>\n    </tr>\n    <tr>\n      <th>0</th>\n      <td>17</td>\n      <td>-0.073959</td>\n      <td>0.473214</td>\n      <td>0.666667</td>\n      <td>0.264706</td>\n      <td>0.378947</td>\n    </tr>\n    <tr>\n      <th>0</th>\n      <td>21</td>\n      <td>0.108799</td>\n      <td>0.562500</td>\n      <td>0.851852</td>\n      <td>0.338235</td>\n      <td>0.484211</td>\n    </tr>\n    <tr>\n      <th>0</th>\n      <td>22</td>\n      <td>0.428708</td>\n      <td>0.758929</td>\n      <td>0.740741</td>\n      <td>0.500000</td>\n      <td>0.597015</td>\n    </tr>\n    <tr>\n      <th>0</th>\n      <td>23</td>\n      <td>0.109988</td>\n      <td>0.589286</td>\n      <td>0.629630</td>\n      <td>0.320755</td>\n      <td>0.425000</td>\n    </tr>\n    <tr>\n      <th>0</th>\n      <td>26</td>\n      <td>0.391304</td>\n      <td>0.750000</td>\n      <td>0.666667</td>\n      <td>0.486486</td>\n      <td>0.562500</td>\n    </tr>\n    <tr>\n      <th>0</th>\n      <td>27</td>\n      <td>0.683696</td>\n      <td>0.875000</td>\n      <td>0.851852</td>\n      <td>0.696970</td>\n      <td>0.766667</td>\n    </tr>\n    <tr>\n      <th>0</th>\n      <td>28</td>\n      <td>0.343822</td>\n      <td>0.723214</td>\n      <td>0.666667</td>\n      <td>0.450000</td>\n      <td>0.537313</td>\n    </tr>\n    <tr>\n      <th>0</th>\n      <td>31</td>\n      <td>0.565871</td>\n      <td>0.830357</td>\n      <td>0.740741</td>\n      <td>0.625000</td>\n      <td>0.677966</td>\n    </tr>\n    <tr>\n      <th>0</th>\n      <td>32</td>\n      <td>-0.087512</td>\n      <td>0.473214</td>\n      <td>0.592593</td>\n      <td>0.250000</td>\n      <td>0.351648</td>\n    </tr>\n    <tr>\n      <th>0</th>\n      <td>33</td>\n      <td>0.398374</td>\n      <td>0.732143</td>\n      <td>0.814815</td>\n      <td>0.468085</td>\n      <td>0.594595</td>\n    </tr>\n    <tr>\n      <th>0</th>\n      <td>41</td>\n      <td>0.216778</td>\n      <td>0.678571</td>\n      <td>0.518519</td>\n      <td>0.378378</td>\n      <td>0.437500</td>\n    </tr>\n    <tr>\n      <th>0</th>\n      <td>43</td>\n      <td>0.478779</td>\n      <td>0.767857</td>\n      <td>0.888889</td>\n      <td>0.510638</td>\n      <td>0.648649</td>\n    </tr>\n    <tr>\n      <th>0</th>\n      <td>44</td>\n      <td>0.092989</td>\n      <td>0.553571</td>\n      <td>0.851852</td>\n      <td>0.333333</td>\n      <td>0.479167</td>\n    </tr>\n    <tr>\n      <th>0</th>\n      <td>45</td>\n      <td>0.565558</td>\n      <td>0.821429</td>\n      <td>0.814815</td>\n      <td>0.594595</td>\n      <td>0.687500</td>\n    </tr>\n    <tr>\n      <th>0</th>\n      <td>46</td>\n      <td>-0.168806</td>\n      <td>0.428571</td>\n      <td>0.555556</td>\n      <td>0.223881</td>\n      <td>0.319149</td>\n    </tr>\n    <tr>\n      <th>0</th>\n      <td>47</td>\n      <td>0.552829</td>\n      <td>0.803571</td>\n      <td>0.925926</td>\n      <td>0.555556</td>\n      <td>0.694444</td>\n    </tr>\n    <tr>\n      <th>0</th>\n      <td>48</td>\n      <td>0.157931</td>\n      <td>0.607143</td>\n      <td>0.703704</td>\n      <td>0.345455</td>\n      <td>0.463415</td>\n    </tr>\n    <tr>\n      <th>0</th>\n      <td>50</td>\n      <td>0.060571</td>\n      <td>0.544643</td>\n      <td>0.740741</td>\n      <td>0.312500</td>\n      <td>0.439560</td>\n    </tr>\n    <tr>\n      <th>0</th>\n      <td>51</td>\n      <td>0.380465</td>\n      <td>0.732143</td>\n      <td>0.740741</td>\n      <td>0.465116</td>\n      <td>0.571429</td>\n    </tr>\n    <tr>\n      <th>0</th>\n      <td>52</td>\n      <td>0.386273</td>\n      <td>0.741071</td>\n      <td>0.703704</td>\n      <td>0.475000</td>\n      <td>0.567164</td>\n    </tr>\n    <tr>\n      <th>0</th>\n      <td>54</td>\n      <td>0.546012</td>\n      <td>0.803571</td>\n      <td>0.888889</td>\n      <td>0.558140</td>\n      <td>0.685714</td>\n    </tr>\n  </tbody>\n</table>\n</div>"
     },
     "execution_count": 15,
     "metadata": {},
     "output_type": "execute_result"
    }
   ],
   "source": [
    "from sklearn.metrics import accuracy_score, precision_score, recall_score, f1_score\n",
    "from pyirr import intraclass_correlation\n",
    "from fear_gen.extract_correct_csv import extract_only_valid_subject, read_correct_subject_csv, anxious_subjects\n",
    "\n",
    "\n",
    "correlation_df = pd.DataFrame(columns=['Subject', 'ICC', 'Accuracy Score', 'Precision', 'Recall', 'F1 score'])\n",
    "os.chdir('..')\n",
    "valid_subjects = extract_only_valid_subject()\n",
    "os.chdir('pyro')\n",
    "\n",
    "for i in valid_subjects:\n",
    "    subj_ = read_correct_subject_csv(i)\n",
    "    df_sub = pd.read_csv('../data/newLookAtMe/newLookAtMe'+subj_+'.csv')\n",
    "    df_sub = df_sub[48:]\n",
    "    rating = [int(d > 2) for d in df_sub['rating']]\n",
    "    bad = ~np.logical_or(np.isnan(rating), np.isnan(prediction))\n",
    "    rating_sub = np.compress(bad, rating)\n",
    "    rating_rational = np.compress(bad, prediction)\n",
    "\n",
    "    icc_df = pd.DataFrame()\n",
    "    icc_df['Rating'] = rating_sub\n",
    "    icc_df['Prediction'] = rating_rational\n",
    "\n",
    "    icc = intraclass_correlation(icc_df).value\n",
    "    accuracy_ = accuracy_score(rating_sub, rating_rational)\n",
    "    precision_ = precision_score(rating_sub, rating_rational)\n",
    "    recall_ = recall_score(rating_sub, rating_rational)\n",
    "    f1_ = f1_score(rating_sub, rating_rational)\n",
    "\n",
    "    df_tmp = pd.DataFrame({'Subject':i,'ICC':icc,'Accuracy Score':accuracy_,'Precision':precision_,'Recall':recall_, 'F1 score':f1_},index=np.arange(1))\n",
    "    correlation_df = pd.concat([correlation_df,df_tmp])\n",
    "\n",
    "correlation_df"
   ],
   "metadata": {
    "collapsed": false
   }
  },
  {
   "cell_type": "code",
   "execution_count": 16,
   "outputs": [],
   "source": [
    "lds_path = '../data/lds_subjects.csv'\n",
    "sias_path = '../data/sias_score.csv'\n",
    "\n",
    "high_lds = anxious_subjects(lds_path, n=6, type_='top')\n",
    "low_lds = anxious_subjects(lds_path, n=6, type_='bot')\n",
    "high_sias = anxious_subjects(lds_path, n=6, type_='top')\n",
    "low_sias = anxious_subjects(sias_path, n=6, type_='bot')\n"
   ],
   "metadata": {
    "collapsed": false
   }
  },
  {
   "cell_type": "code",
   "execution_count": 17,
   "outputs": [],
   "source": [
    "lds_df = pd.read_csv(lds_path)\n",
    "sias_df = pd.read_csv(sias_path)\n",
    "lds_values = lds_df[lds_df.subject.isin(valid_subjects)]['lds'].values\n",
    "sias_values = sias_df[sias_df.subject.isin(valid_subjects)]['sias_score'].values\n",
    "\n",
    "correlation_df['SIAS'] = sias_values\n",
    "correlation_df['LDS'] = lds_values"
   ],
   "metadata": {
    "collapsed": false
   }
  },
  {
   "cell_type": "code",
   "execution_count": 18,
   "outputs": [],
   "source": [
    "from sklearn.linear_model import LinearRegression\n",
    "\n",
    "x_ = correlation_df['LDS'].values[:,np.newaxis]\n",
    "y_ = correlation_df['F1 score'].values\n",
    "\n",
    "reg = LinearRegression()\n",
    "reg.fit(x_, y_)\n",
    "predict = reg.predict(x_)\n"
   ],
   "metadata": {
    "collapsed": false
   }
  },
  {
   "cell_type": "code",
   "execution_count": 19,
   "outputs": [
    {
     "data": {
      "text/plain": "<Figure size 640x480 with 1 Axes>",
      "image/png": "[encoded data removed]"
     },
     "metadata": {},
     "output_type": "display_data"
    }
   ],
   "source": [
    "plt.scatter(x_, y_,)\n",
    "plt.plot(x_, predict, color='red')\n",
    "plt.xlabel('LDS')\n",
    "plt.ylabel('F1 score')\n",
    "plt.show()"
   ],
   "metadata": {
    "collapsed": false
   }
  }
 ],
 "metadata": {
  "kernelspec": {
   "display_name": "Python 3",
   "language": "python",
   "name": "python3"
  },
  "language_info": {
   "codemirror_mode": {
    "name": "ipython",
    "version": 2
   },
   "file_extension": ".py",
   "mimetype": "text/x-python",
   "name": "python",
   "nbconvert_exporter": "python",
   "pygments_lexer": "ipython2",
   "version": "2.7.6"
  }
 },
 "nbformat": 4,
 "nbformat_minor": 0
}
