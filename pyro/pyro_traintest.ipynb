{
 "cells": [
  {
   "cell_type": "code",
   "execution_count": 1,
   "metadata": {
    "collapsed": true
   },
   "outputs": [],
   "source": [
    "#import\n",
    "import os\n",
    "from functools import partial\n",
    "import torch\n",
    "import numpy as np\n",
    "import pandas as pd\n",
    "import seaborn as sns\n",
    "import matplotlib.pyplot as plt\n",
    "\n",
    "import pyro\n",
    "import pyro.distributions as dist\n",
    "import warnings\n",
    "from pandas.errors import SettingWithCopyWarning\n",
    "from pyro.infer import MCMC, NUTS\n",
    "\n",
    "# for CI testing\n",
    "warnings.simplefilter(action='ignore', category=SettingWithCopyWarning)\n",
    "smoke_test = ('CI' in os.environ)\n",
    "assert pyro.__version__.startswith('1.8.4')\n",
    "pyro.set_rng_seed(1)\n",
    "\n",
    "\n",
    "# Set matplotlib settings\n",
    "%matplotlib inline\n",
    "plt.style.use('default')"
   ]
  },
  {
   "cell_type": "code",
   "execution_count": 32,
   "outputs": [],
   "source": [
    "# Extract morphing level and shock (binary morphing level)\n",
    "\n",
    "# Equal for all subjects\n",
    "df = pd.read_csv('../data/newLookAtMe/newLookAtMe20.csv')\n",
    "data = df[['morphing level', 'shock']]\n",
    "data['shock'] = data['shock'].astype(int)\n",
    "data['morphing level'] = [int(d==6) for d in data['morphing level']]"
   ],
   "metadata": {
    "collapsed": false
   }
  },
  {
   "cell_type": "markdown",
   "source": [
    "Create tensor where:\n",
    "* `[0 0] = 0`\n",
    "* `[1 0] = 1`\n",
    "* `[1 1] = 2`"
   ],
   "metadata": {
    "collapsed": false
   }
  },
  {
   "cell_type": "code",
   "execution_count": 33,
   "outputs": [
    {
     "data": {
      "text/plain": "tensor([0, 1, 1, 0, 0, 0, 1, 1, 0, 1, 1, 0, 1, 0, 1, 0, 2, 0, 0, 2, 0, 2, 2, 0,\n        1, 2, 0, 0, 0, 0, 2, 1, 0, 2, 2, 0, 1, 0, 2, 0, 1, 0, 2, 0, 2, 0, 2, 0,\n        0, 2, 0, 0, 1, 0, 0, 0, 0, 2, 0, 0, 1, 0, 1, 0, 0, 2, 0, 2, 0, 0, 1, 0,\n        0, 0, 0, 0, 0, 0, 0, 0, 2, 0, 0, 1, 0, 0, 2, 1, 0, 0, 0, 0, 1, 0, 0, 2,\n        0, 0, 1, 0, 2, 0, 0, 0, 0, 1, 0, 2, 0, 0, 0, 1, 0, 0, 0, 2, 0, 0, 0, 0,\n        0, 1, 0, 2, 0, 0, 0, 0, 2, 1, 0, 0, 1, 0, 0, 0, 1, 2, 0, 0, 0, 0, 2, 0,\n        0, 2, 0, 0, 0, 0, 2, 0, 0, 1, 0, 0, 0, 0, 0, 1])"
     },
     "execution_count": 33,
     "metadata": {},
     "output_type": "execute_result"
    }
   ],
   "source": [
    "data_model = data.to_numpy()\n",
    "data_final = []\n",
    "for x in data_model:\n",
    "    if (x == [0, 0]).all():\n",
    "        data_final.append(0)\n",
    "    elif (x == [1, 0]).all():\n",
    "        data_final.append(1)\n",
    "    else:\n",
    "        data_final.append(2)\n",
    "\n",
    "data_final = torch.tensor(data_final)\n",
    "data_final"
   ],
   "metadata": {
    "collapsed": false
   }
  },
  {
   "cell_type": "markdown",
   "source": [
    "$p(data\\, final | \\theta) = \\prod_i^3\\theta_k^{N_k}$\n",
    "\n",
    "where $\\theta$ is a vector 3-dimensional modeled with a Dirichlet Distribution"
   ],
   "metadata": {
    "collapsed": false
   }
  },
  {
   "cell_type": "code",
   "execution_count": 34,
   "outputs": [],
   "source": [
    "# model definition\n",
    "\n",
    "# uniform prior\n",
    "prior_ = torch.ones(3)\n",
    "\n",
    "def model(data):\n",
    "    theta = pyro.sample('theta', dist.Dirichlet(prior_))\n",
    "    with pyro.plate('data', len(data)):\n",
    "        pyro.sample('obs', dist.Categorical(theta), obs=data)"
   ],
   "metadata": {
    "collapsed": false
   }
  },
  {
   "cell_type": "code",
   "execution_count": 35,
   "outputs": [
    {
     "name": "stderr",
     "output_type": "stream",
     "text": [
      "Sample: 100%|██████████| 1200/1200 [00:09, 120.03it/s, step size=1.06e+00, acc. prob=0.881]\n"
     ]
    }
   ],
   "source": [
    "# MCMC sampling\n",
    "nuts_kernel = NUTS(model)\n",
    "num_samples, warmup_steps = (1000, 200) if not smoke_test else (10, 10)\n",
    "mcmc = MCMC(nuts_kernel, num_samples=num_samples, warmup_steps=warmup_steps)\n",
    "mcmc.run(data_final)\n",
    "hmc_samples = {k: v.detach().cpu().numpy()\n",
    "               for k, v in mcmc.get_samples().items()}"
   ],
   "metadata": {
    "collapsed": false
   }
  },
  {
   "cell_type": "code",
   "execution_count": 39,
   "outputs": [
    {
     "data": {
      "text/plain": "array([0.64456666, 0.17899393, 0.17643872], dtype=float32)"
     },
     "execution_count": 39,
     "metadata": {},
     "output_type": "execute_result"
    }
   ],
   "source": [
    "hmc_samples['theta'].mean(axis=0)"
   ],
   "metadata": {
    "collapsed": false
   }
  },
  {
   "cell_type": "markdown",
   "source": [
    "La cella sopra indica le probabilità di vedere una coppia [0 0], una coppia [1 0] o una coppia [1 1], ma non $P(shock | morph\\, level)$."
   ],
   "metadata": {
    "collapsed": false
   }
  },
  {
   "cell_type": "code",
   "execution_count": null,
   "outputs": [],
   "source": [],
   "metadata": {
    "collapsed": false
   }
  }
 ],
 "metadata": {
  "kernelspec": {
   "display_name": "Python 3",
   "language": "python",
   "name": "python3"
  },
  "language_info": {
   "codemirror_mode": {
    "name": "ipython",
    "version": 2
   },
   "file_extension": ".py",
   "mimetype": "text/x-python",
   "name": "python",
   "nbconvert_exporter": "python",
   "pygments_lexer": "ipython2",
   "version": "2.7.6"
  }
 },
 "nbformat": 4,
 "nbformat_minor": 0
}
