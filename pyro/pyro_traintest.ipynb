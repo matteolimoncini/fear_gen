{
 "cells": [
  {
   "cell_type": "code",
   "execution_count": 1,
   "metadata": {
    "collapsed": true
   },
   "outputs": [],
   "source": [
    "#import\n",
    "import os\n",
    "from functools import partial\n",
    "import torch\n",
    "import numpy as np\n",
    "import pandas as pd\n",
    "import seaborn as sns\n",
    "import matplotlib.pyplot as plt\n",
    "\n",
    "import pyro\n",
    "import pyro.distributions as dist\n",
    "import warnings\n",
    "from pandas.errors import SettingWithCopyWarning\n",
    "from pyro.infer import MCMC, NUTS\n",
    "\n",
    "# for CI testing\n",
    "warnings.simplefilter(action='ignore', category=SettingWithCopyWarning)\n",
    "smoke_test = ('CI' in os.environ)\n",
    "assert pyro.__version__.startswith('1.8.4')\n",
    "pyro.set_rng_seed(1)\n",
    "\n",
    "\n",
    "# Set matplotlib settings\n",
    "%matplotlib inline\n",
    "plt.style.use('default')"
   ]
  },
  {
   "cell_type": "code",
   "execution_count": 2,
   "outputs": [],
   "source": [
    "# Extract morphing level and shock (binary morphing level)\n",
    "\n",
    "# Equal for all subjects\n",
    "df = pd.read_csv('../data/newLookAtMe/newLookAtMe20.csv')\n",
    "data = df[['morphing level', 'shock']]\n",
    "data['shock'] = data['shock'].astype(int)\n",
    "data['morphing level'] = [int(d==6) for d in data['morphing level']]"
   ],
   "metadata": {
    "collapsed": false
   }
  },
  {
   "cell_type": "markdown",
   "source": [
    "Create tensor where:\n",
    "* `[0 0] = 0`\n",
    "* `[1 0] = 1`\n",
    "* `[1 1] = 2`"
   ],
   "metadata": {
    "collapsed": false
   }
  },
  {
   "cell_type": "code",
   "execution_count": 3,
   "outputs": [
    {
     "data": {
      "text/plain": "tensor([[0, 0],\n        [1, 0],\n        [1, 0],\n        [0, 0],\n        [0, 0],\n        [0, 0],\n        [1, 0],\n        [1, 0],\n        [0, 0],\n        [1, 0],\n        [1, 0],\n        [0, 0],\n        [1, 0],\n        [0, 0],\n        [1, 0],\n        [0, 0],\n        [1, 1],\n        [0, 0],\n        [0, 0],\n        [1, 1],\n        [0, 0],\n        [1, 1],\n        [1, 1],\n        [0, 0],\n        [1, 0],\n        [1, 1],\n        [0, 0],\n        [0, 0],\n        [0, 0],\n        [0, 0],\n        [1, 1],\n        [1, 0],\n        [0, 0],\n        [1, 1],\n        [1, 1],\n        [0, 0],\n        [1, 0],\n        [0, 0],\n        [1, 1],\n        [0, 0],\n        [1, 0],\n        [0, 0],\n        [1, 1],\n        [0, 0],\n        [1, 1],\n        [0, 0],\n        [1, 1],\n        [0, 0],\n        [0, 0],\n        [1, 1],\n        [0, 0],\n        [0, 0],\n        [1, 0],\n        [0, 0],\n        [0, 0],\n        [0, 0],\n        [0, 0],\n        [1, 1],\n        [0, 0],\n        [0, 0],\n        [1, 0],\n        [0, 0],\n        [1, 0],\n        [0, 0],\n        [0, 0],\n        [1, 1],\n        [0, 0],\n        [1, 1],\n        [0, 0],\n        [0, 0],\n        [1, 0],\n        [0, 0],\n        [0, 0],\n        [0, 0],\n        [0, 0],\n        [0, 0],\n        [0, 0],\n        [0, 0],\n        [0, 0],\n        [0, 0],\n        [1, 1],\n        [0, 0],\n        [0, 0],\n        [1, 0],\n        [0, 0],\n        [0, 0],\n        [1, 1],\n        [1, 0],\n        [0, 0],\n        [0, 0],\n        [0, 0],\n        [0, 0],\n        [1, 0],\n        [0, 0],\n        [0, 0],\n        [1, 1],\n        [0, 0],\n        [0, 0],\n        [1, 0],\n        [0, 0],\n        [1, 1],\n        [0, 0],\n        [0, 0],\n        [0, 0],\n        [0, 0],\n        [1, 0],\n        [0, 0],\n        [1, 1],\n        [0, 0],\n        [0, 0],\n        [0, 0],\n        [1, 0],\n        [0, 0],\n        [0, 0],\n        [0, 0],\n        [1, 1],\n        [0, 0],\n        [0, 0],\n        [0, 0],\n        [0, 0],\n        [0, 0],\n        [1, 0],\n        [0, 0],\n        [1, 1],\n        [0, 0],\n        [0, 0],\n        [0, 0],\n        [0, 0],\n        [1, 1],\n        [1, 0],\n        [0, 0],\n        [0, 0],\n        [1, 0],\n        [0, 0],\n        [0, 0],\n        [0, 0],\n        [1, 0],\n        [1, 1],\n        [0, 0],\n        [0, 0],\n        [0, 0],\n        [0, 0],\n        [1, 1],\n        [0, 0],\n        [0, 0],\n        [1, 1],\n        [0, 0],\n        [0, 0],\n        [0, 0],\n        [0, 0],\n        [1, 1],\n        [0, 0],\n        [0, 0],\n        [1, 0],\n        [0, 0],\n        [0, 0],\n        [0, 0],\n        [0, 0],\n        [0, 0],\n        [1, 0]])"
     },
     "execution_count": 3,
     "metadata": {},
     "output_type": "execute_result"
    }
   ],
   "source": [
    "data_model = data.to_numpy()\n",
    "data_final = []\n",
    "for x in data_model:\n",
    "    if (x == [0, 0]).all():\n",
    "        data_final.append(0)\n",
    "    elif (x == [1, 0]).all():\n",
    "        data_final.append(1)\n",
    "    else:\n",
    "        data_final.append(2)\n",
    "\n",
    "data_final = torch.tensor(data_final)\n",
    "data_model_tensor = torch.tensor(data_model)\n",
    "data_model_tensor"
   ],
   "metadata": {
    "collapsed": false
   }
  },
  {
   "cell_type": "markdown",
   "source": [
    "$p(data\\, final | \\theta) = \\prod_i^3\\theta_k^{N_k}$\n",
    "\n",
    "where $\\theta$ is a vector 3-dimensional modeled with a Dirichlet Distribution"
   ],
   "metadata": {
    "collapsed": false
   }
  },
  {
   "cell_type": "code",
   "execution_count": 4,
   "outputs": [
    {
     "data": {
      "text/plain": "array([[0, 0],\n       [1, 0],\n       [1, 0],\n       [0, 0],\n       [0, 0],\n       [0, 0],\n       [1, 0],\n       [1, 0],\n       [0, 0],\n       [1, 0],\n       [1, 0],\n       [0, 0],\n       [1, 0],\n       [0, 0],\n       [1, 0],\n       [0, 0],\n       [1, 1],\n       [0, 0],\n       [0, 0],\n       [1, 1],\n       [0, 0],\n       [1, 1],\n       [1, 1],\n       [0, 0],\n       [1, 0],\n       [1, 1],\n       [0, 0],\n       [0, 0],\n       [0, 0],\n       [0, 0],\n       [1, 1],\n       [1, 0],\n       [0, 0],\n       [1, 1],\n       [1, 1],\n       [0, 0],\n       [1, 0],\n       [0, 0],\n       [1, 1],\n       [0, 0],\n       [1, 0],\n       [0, 0],\n       [1, 1],\n       [0, 0],\n       [1, 1],\n       [0, 0],\n       [1, 1],\n       [0, 0],\n       [0, 0],\n       [1, 1],\n       [0, 0],\n       [0, 0],\n       [1, 0],\n       [0, 0],\n       [0, 0],\n       [0, 0],\n       [0, 0],\n       [1, 1],\n       [0, 0],\n       [0, 0],\n       [1, 0],\n       [0, 0],\n       [1, 0],\n       [0, 0],\n       [0, 0],\n       [1, 1],\n       [0, 0],\n       [1, 1],\n       [0, 0],\n       [0, 0],\n       [1, 0],\n       [0, 0],\n       [0, 0],\n       [0, 0],\n       [0, 0],\n       [0, 0],\n       [0, 0],\n       [0, 0],\n       [0, 0],\n       [0, 0],\n       [1, 1],\n       [0, 0],\n       [0, 0],\n       [1, 0],\n       [0, 0],\n       [0, 0],\n       [1, 1],\n       [1, 0],\n       [0, 0],\n       [0, 0],\n       [0, 0],\n       [0, 0],\n       [1, 0],\n       [0, 0],\n       [0, 0],\n       [1, 1],\n       [0, 0],\n       [0, 0],\n       [1, 0],\n       [0, 0],\n       [1, 1],\n       [0, 0],\n       [0, 0],\n       [0, 0],\n       [0, 0],\n       [1, 0],\n       [0, 0],\n       [1, 1],\n       [0, 0],\n       [0, 0],\n       [0, 0],\n       [1, 0],\n       [0, 0],\n       [0, 0],\n       [0, 0],\n       [1, 1],\n       [0, 0],\n       [0, 0],\n       [0, 0],\n       [0, 0],\n       [0, 0],\n       [1, 0],\n       [0, 0],\n       [1, 1],\n       [0, 0],\n       [0, 0],\n       [0, 0],\n       [0, 0],\n       [1, 1],\n       [1, 0],\n       [0, 0],\n       [0, 0],\n       [1, 0],\n       [0, 0],\n       [0, 0],\n       [0, 0],\n       [1, 0],\n       [1, 1],\n       [0, 0],\n       [0, 0],\n       [0, 0],\n       [0, 0],\n       [1, 1],\n       [0, 0],\n       [0, 0],\n       [1, 1],\n       [0, 0],\n       [0, 0],\n       [0, 0],\n       [0, 0],\n       [1, 1],\n       [0, 0],\n       [0, 0],\n       [1, 0],\n       [0, 0],\n       [0, 0],\n       [0, 0],\n       [0, 0],\n       [0, 0],\n       [1, 0]])"
     },
     "execution_count": 4,
     "metadata": {},
     "output_type": "execute_result"
    }
   ],
   "source": [
    "data_model"
   ],
   "metadata": {
    "collapsed": false
   }
  },
  {
   "cell_type": "code",
   "execution_count": 9,
   "outputs": [],
   "source": [
    "# model definition\n",
    "\n",
    "# uniform prior\n",
    "prior_counts = torch.ones((2,2))\n",
    "\n",
    "def simple_model(data):\n",
    "    theta = pyro.sample(\"theta\", dist.Dirichlet(prior_counts))\n",
    "    total_counts = int(data.sum())\n",
    "    pyro.sample(\"likelihood\", dist.Multinomial(total_counts, theta), obs=data)\n",
    "\n",
    "counter = torch.tensor(np.unique(data_model, axis=0, return_counts=True)[1])\n",
    "counter_prova = torch.tensor([[28, 0], [5,15]])"
   ],
   "metadata": {
    "collapsed": false
   }
  },
  {
   "cell_type": "code",
   "execution_count": 10,
   "outputs": [
    {
     "name": "stderr",
     "output_type": "stream",
     "text": [
      "Sample: 100%|██████████| 1200/1200 [00:11, 105.02it/s, step size=5.51e-01, acc. prob=0.932]\n"
     ]
    }
   ],
   "source": [
    "nuts_kernel = NUTS(simple_model)\n",
    "num_samples, warmup_steps = (1000, 200) if not smoke_test else (10, 10)\n",
    "mcmc = MCMC(nuts_kernel, num_samples=1000, warmup_steps=200)\n",
    "mcmc.run(counter_prova)\n",
    "hmc_samples = {k: v.detach().cpu().numpy()\n",
    "               for k, v in mcmc.get_samples().items()}"
   ],
   "metadata": {
    "collapsed": false
   }
  },
  {
   "cell_type": "code",
   "execution_count": 34,
   "outputs": [],
   "source": [
    "not_agg_data = data_model_tensor[data_model_tensor[:,0] == 0]\n",
    "agg_data = data_model_tensor[data_model_tensor[:,0] == 1]\n"
   ],
   "metadata": {
    "collapsed": false
   }
  },
  {
   "cell_type": "code",
   "execution_count": 39,
   "outputs": [
    {
     "data": {
      "text/plain": "torch.Size([160, 2])"
     },
     "execution_count": 39,
     "metadata": {},
     "output_type": "execute_result"
    }
   ],
   "source": [
    "data_model_tensor.shape"
   ],
   "metadata": {
    "collapsed": false
   }
  },
  {
   "cell_type": "code",
   "execution_count": 45,
   "outputs": [
    {
     "data": {
      "text/plain": "array([28, 28])"
     },
     "execution_count": 45,
     "metadata": {},
     "output_type": "execute_result"
    }
   ],
   "source": [
    "np.unique(agg_data, return_counts=True, axis=0)[1]"
   ],
   "metadata": {
    "collapsed": false
   }
  },
  {
   "cell_type": "code",
   "execution_count": 25,
   "outputs": [
    {
     "data": {
      "text/plain": "56"
     },
     "execution_count": 25,
     "metadata": {},
     "output_type": "execute_result"
    }
   ],
   "source": [
    "np.unique(agg_data, return_counts=True, axis=0)[1].sum()"
   ],
   "metadata": {
    "collapsed": false
   }
  },
  {
   "cell_type": "code",
   "execution_count": 24,
   "outputs": [
    {
     "data": {
      "text/plain": "104"
     },
     "execution_count": 24,
     "metadata": {},
     "output_type": "execute_result"
    }
   ],
   "source": [
    "np.append(np.unique(not_agg_data, return_counts=True, axis=0)[1], 0).sum()"
   ],
   "metadata": {
    "collapsed": false
   }
  },
  {
   "cell_type": "code",
   "execution_count": 84,
   "outputs": [],
   "source": [
    "prior_aggressive = torch.ones(2)\n",
    "prior_not_aggressive = torch.ones(2)\n",
    "\n",
    "def model(data):\n",
    "    not_agg_data = data[data[:,0] == 0]\n",
    "    agg_data = data[data[:,0] == 1]\n",
    "\n",
    "    count_values_1 = torch.tensor(np.append(np.unique(not_agg_data, return_counts=True, axis=0)[1], 0))\n",
    "    count_values_2 = torch.tensor(np.unique(agg_data, return_counts=True, axis=0)[1])\n",
    "\n",
    "    theta1 = pyro.sample(\"theta1\", dist.Dirichlet(prior_aggressive))\n",
    "    theta2 = pyro.sample(\"theta2\", dist.Dirichlet(prior_not_aggressive))\n",
    "\n",
    "    counts1 = int(count_values_1.sum())\n",
    "    counts2 = int(count_values_2.sum())\n",
    "\n",
    "    pyro.sample(\"likelihood1\", dist.Multinomial(counts1, theta1), obs = count_values_1)\n",
    "    pyro.sample(\"likelihood2\", dist.Multinomial(counts2, theta2), obs = count_values_2)\n",
    "\n"
   ],
   "metadata": {
    "collapsed": false
   }
  },
  {
   "cell_type": "code",
   "execution_count": 85,
   "outputs": [
    {
     "name": "stderr",
     "output_type": "stream",
     "text": [
      "Sample: 100%|██████████| 1200/1200 [00:14, 80.40it/s, step size=8.40e-01, acc. prob=0.901] \n"
     ]
    }
   ],
   "source": [
    "nuts_kernel = NUTS(model)\n",
    "num_samples, warmup_steps = (1000, 200) if not smoke_test else (10, 10)\n",
    "mcmc = MCMC(nuts_kernel, num_samples=1000, warmup_steps=200)\n",
    "mcmc.run(data_model_tensor[:48])\n",
    "hmc_samples = {k: v.detach().cpu().numpy()\n",
    "               for k, v in mcmc.get_samples().items()}"
   ],
   "metadata": {
    "collapsed": false
   }
  },
  {
   "cell_type": "code",
   "execution_count": 86,
   "outputs": [
    {
     "name": "stdout",
     "output_type": "stream",
     "text": [
      "[0.96038014 0.0396203 ]\n",
      "[0.49686593 0.503134  ]\n"
     ]
    }
   ],
   "source": [
    "dio1 = hmc_samples['theta1'].mean(axis=0)\n",
    "dio2 = hmc_samples['theta2'].mean(axis=0)\n",
    "print(dio1)\n",
    "print(dio2)"
   ],
   "metadata": {
    "collapsed": false
   }
  },
  {
   "cell_type": "markdown",
   "source": [
    "La cella sopra indica le probabilità di vedere una coppia `[0 0]`, una coppia `[1 0]` o una coppia `[1 1]`, ma non $P(shock | morph\\, level)$."
   ],
   "metadata": {
    "collapsed": false
   }
  },
  {
   "cell_type": "code",
   "execution_count": 183,
   "outputs": [
    {
     "data": {
      "text/plain": "tensor([0.5031])"
     },
     "execution_count": 183,
     "metadata": {},
     "output_type": "execute_result"
    }
   ],
   "source": [
    "torch.tensor([dio2[1]])"
   ],
   "metadata": {
    "collapsed": false
   }
  },
  {
   "cell_type": "code",
   "execution_count": 190,
   "outputs": [
    {
     "data": {
      "text/plain": "tensor([0., 0., 1., 1., 1., 1., 0., 0., 0., 1., 0., 0., 0., 0., 1., 0., 0., 0.,\n        0.])"
     },
     "execution_count": 190,
     "metadata": {},
     "output_type": "execute_result"
    }
   ],
   "source": [
    "x_test = torch.tensor([0, 0, 1, 1, 0, 1, 0, 1, 0, 1, 0, 1, 0, 1, 1, 1, 0, 0, 1])\n",
    "unique_values = torch.unique(x_test, return_counts = True)[1]\n",
    "shock = unique_values[1]\n",
    "\n",
    "# predictive marcio\n",
    "results = torch.tensor([])\n",
    "\n",
    "results"
   ],
   "metadata": {
    "collapsed": false
   }
  }
 ],
 "metadata": {
  "kernelspec": {
   "display_name": "Python 3",
   "language": "python",
   "name": "python3"
  },
  "language_info": {
   "codemirror_mode": {
    "name": "ipython",
    "version": 2
   },
   "file_extension": ".py",
   "mimetype": "text/x-python",
   "name": "python",
   "nbconvert_exporter": "python",
   "pygments_lexer": "ipython2",
   "version": "2.7.6"
  }
 },
 "nbformat": 4,
 "nbformat_minor": 0
}
